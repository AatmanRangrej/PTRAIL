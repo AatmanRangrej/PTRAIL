{
 "cells": [
  {
   "cell_type": "markdown",
   "source": [
    "<h1> Ship Type Prediction </h1>\n",
    "\n",
    "<p align='justify'>\n",
    "\n",
    "This Jupyter notebook contains a classification example which is\n",
    "done with the help of Scikit-Learn library. In this notebook,\n",
    "the following steps are performed:\n",
    "</p>\n",
    "\n",
    "<ol align='justify'>\n",
    "    <li> The preprocessing i.e. feature generation, filtering and\n",
    "         interpolation of the data is carried out using the\n",
    "         NumMobility Library.\n",
    "    </li>\n",
    "    <li> Further, several models like RandomForestClassifier, KMeans\n",
    "         Classifier etc. are trained using the Scikit-Learn library\n",
    "         based on the cleaned dataset.\n",
    "    </li>\n",
    "    <li>\n",
    "        Finally, on the interpolated dataset, the type of ships are\n",
    "        predicted and their accuracy is checked.\n",
    "    </li>"
   ],
   "metadata": {
    "collapsed": false,
    "pycharm": {
     "name": "#%% md\n"
    }
   }
  },
  {
   "cell_type": "code",
   "execution_count": 1,
   "outputs": [
    {
     "data": {
      "text/plain": "                                        lat        lon       MMSI NavStatus  \\\ntraj_id      DateTime                                                         \nAB RAMANTENN 2017-05-07 00:13:05  11.905735  57.681092  265902200    Moored   \n             2017-05-07 00:25:04  11.905740  57.681070  265902200    Moored   \n             2017-05-07 00:31:05  11.905792  57.681060  265902200    Moored   \n             2017-05-07 01:01:05  11.905650  57.681127  265902200    Moored   \n             2017-05-07 01:07:05  11.905700  57.681107  265902200    Moored   \n\n                                  SOG    COG   ShipType  \ntraj_id      DateTime                                    \nAB RAMANTENN 2017-05-07 00:13:05  0.1  170.7  Undefined  \n             2017-05-07 00:25:04  0.1  170.7  Undefined  \n             2017-05-07 00:31:05  0.1  177.4  Undefined  \n             2017-05-07 01:01:05  0.0  175.6  Undefined  \n             2017-05-07 01:07:05  0.1  180.8  Undefined  ",
      "text/html": "<div>\n<style scoped>\n    .dataframe tbody tr th:only-of-type {\n        vertical-align: middle;\n    }\n\n    .dataframe tbody tr th {\n        vertical-align: top;\n    }\n\n    .dataframe thead th {\n        text-align: right;\n    }\n</style>\n<table border=\"1\" class=\"dataframe\">\n  <thead>\n    <tr style=\"text-align: right;\">\n      <th></th>\n      <th></th>\n      <th>lat</th>\n      <th>lon</th>\n      <th>MMSI</th>\n      <th>NavStatus</th>\n      <th>SOG</th>\n      <th>COG</th>\n      <th>ShipType</th>\n    </tr>\n    <tr>\n      <th>traj_id</th>\n      <th>DateTime</th>\n      <th></th>\n      <th></th>\n      <th></th>\n      <th></th>\n      <th></th>\n      <th></th>\n      <th></th>\n    </tr>\n  </thead>\n  <tbody>\n    <tr>\n      <th rowspan=\"5\" valign=\"top\">AB RAMANTENN</th>\n      <th>2017-05-07 00:13:05</th>\n      <td>11.905735</td>\n      <td>57.681092</td>\n      <td>265902200</td>\n      <td>Moored</td>\n      <td>0.1</td>\n      <td>170.7</td>\n      <td>Undefined</td>\n    </tr>\n    <tr>\n      <th>2017-05-07 00:25:04</th>\n      <td>11.905740</td>\n      <td>57.681070</td>\n      <td>265902200</td>\n      <td>Moored</td>\n      <td>0.1</td>\n      <td>170.7</td>\n      <td>Undefined</td>\n    </tr>\n    <tr>\n      <th>2017-05-07 00:31:05</th>\n      <td>11.905792</td>\n      <td>57.681060</td>\n      <td>265902200</td>\n      <td>Moored</td>\n      <td>0.1</td>\n      <td>177.4</td>\n      <td>Undefined</td>\n    </tr>\n    <tr>\n      <th>2017-05-07 01:01:05</th>\n      <td>11.905650</td>\n      <td>57.681127</td>\n      <td>265902200</td>\n      <td>Moored</td>\n      <td>0.0</td>\n      <td>175.6</td>\n      <td>Undefined</td>\n    </tr>\n    <tr>\n      <th>2017-05-07 01:07:05</th>\n      <td>11.905700</td>\n      <td>57.681107</td>\n      <td>265902200</td>\n      <td>Moored</td>\n      <td>0.1</td>\n      <td>180.8</td>\n      <td>Undefined</td>\n    </tr>\n  </tbody>\n</table>\n</div>"
     },
     "execution_count": 1,
     "metadata": {},
     "output_type": "execute_result"
    }
   ],
   "source": [
    "# Import the dataset.\n",
    "\n",
    "import pandas as pd\n",
    "from Nummobility.core.TrajectoryDF import NumPandasTraj\n",
    "\n",
    "pdf = pd.read_csv('./data/ships.csv')\n",
    "np_ships = NumPandasTraj(data_set=pdf,\n",
    "                         latitude='lat',\n",
    "                         longitude='lon',\n",
    "                         datetime='Timestamp',\n",
    "                         traj_id='Name')\n",
    "np_ships.head()"
   ],
   "metadata": {
    "collapsed": false,
    "pycharm": {
     "name": "#%%\n"
    }
   }
  },
  {
   "cell_type": "code",
   "execution_count": 2,
   "outputs": [
    {
     "name": "stdout",
     "output_type": "stream",
     "text": [
      "CPU times: user 296 ms, sys: 12 ms, total: 308 ms\n",
      "Wall time: 306 ms\n"
     ]
    },
    {
     "data": {
      "text/plain": "                                        lat        lon       MMSI NavStatus  \\\ntraj_id      DateTime                                                         \nAB RAMANTENN 2017-05-07 00:13:05  11.905735  57.681092  265902200    Moored   \n             2017-05-07 00:25:04  11.905740  57.681070  265902200    Moored   \n             2017-05-07 00:31:05  11.905792  57.681060  265902200    Moored   \n             2017-05-07 01:01:05  11.905650  57.681127  265902200    Moored   \n             2017-05-07 01:07:05  11.905700  57.681107  265902200    Moored   \n\n                                  SOG    COG   ShipType  Distance_prev_to_curr  \ntraj_id      DateTime                                                           \nAB RAMANTENN 2017-05-07 00:13:05  0.1  170.7  Undefined                    NaN  \n             2017-05-07 00:25:04  0.1  170.7  Undefined               2.457384  \n             2017-05-07 00:31:05  0.1  177.4  Undefined               5.883613  \n             2017-05-07 01:01:05  0.0  175.6  Undefined              17.391237  \n             2017-05-07 01:07:05  0.1  180.8  Undefined               5.970428  ",
      "text/html": "<div>\n<style scoped>\n    .dataframe tbody tr th:only-of-type {\n        vertical-align: middle;\n    }\n\n    .dataframe tbody tr th {\n        vertical-align: top;\n    }\n\n    .dataframe thead th {\n        text-align: right;\n    }\n</style>\n<table border=\"1\" class=\"dataframe\">\n  <thead>\n    <tr style=\"text-align: right;\">\n      <th></th>\n      <th></th>\n      <th>lat</th>\n      <th>lon</th>\n      <th>MMSI</th>\n      <th>NavStatus</th>\n      <th>SOG</th>\n      <th>COG</th>\n      <th>ShipType</th>\n      <th>Distance_prev_to_curr</th>\n    </tr>\n    <tr>\n      <th>traj_id</th>\n      <th>DateTime</th>\n      <th></th>\n      <th></th>\n      <th></th>\n      <th></th>\n      <th></th>\n      <th></th>\n      <th></th>\n      <th></th>\n    </tr>\n  </thead>\n  <tbody>\n    <tr>\n      <th rowspan=\"5\" valign=\"top\">AB RAMANTENN</th>\n      <th>2017-05-07 00:13:05</th>\n      <td>11.905735</td>\n      <td>57.681092</td>\n      <td>265902200</td>\n      <td>Moored</td>\n      <td>0.1</td>\n      <td>170.7</td>\n      <td>Undefined</td>\n      <td>NaN</td>\n    </tr>\n    <tr>\n      <th>2017-05-07 00:25:04</th>\n      <td>11.905740</td>\n      <td>57.681070</td>\n      <td>265902200</td>\n      <td>Moored</td>\n      <td>0.1</td>\n      <td>170.7</td>\n      <td>Undefined</td>\n      <td>2.457384</td>\n    </tr>\n    <tr>\n      <th>2017-05-07 00:31:05</th>\n      <td>11.905792</td>\n      <td>57.681060</td>\n      <td>265902200</td>\n      <td>Moored</td>\n      <td>0.1</td>\n      <td>177.4</td>\n      <td>Undefined</td>\n      <td>5.883613</td>\n    </tr>\n    <tr>\n      <th>2017-05-07 01:01:05</th>\n      <td>11.905650</td>\n      <td>57.681127</td>\n      <td>265902200</td>\n      <td>Moored</td>\n      <td>0.0</td>\n      <td>175.6</td>\n      <td>Undefined</td>\n      <td>17.391237</td>\n    </tr>\n    <tr>\n      <th>2017-05-07 01:07:05</th>\n      <td>11.905700</td>\n      <td>57.681107</td>\n      <td>265902200</td>\n      <td>Moored</td>\n      <td>0.1</td>\n      <td>180.8</td>\n      <td>Undefined</td>\n      <td>5.970428</td>\n    </tr>\n  </tbody>\n</table>\n</div>"
     },
     "execution_count": 2,
     "metadata": {},
     "output_type": "execute_result"
    }
   ],
   "source": [
    "%%time\n",
    "\n",
    "# Now using Nummobility, generate distance features and\n",
    "# run hampel filter on the dataset to remove outliers.\n",
    "from Nummobility.features.spatial_features import SpatialFeatures\n",
    "from Nummobility.preprocessing.filters import Filters\n",
    "\n",
    "dist_ships = SpatialFeatures.create_distance_between_consecutive_column(np_ships)\n",
    "dist_ships.head()"
   ],
   "metadata": {
    "collapsed": false,
    "pycharm": {
     "name": "#%%\n"
    }
   }
  },
  {
   "cell_type": "code",
   "execution_count": 3,
   "outputs": [
    {
     "name": "stdout",
     "output_type": "stream",
     "text": [
      "Length of original DF: 84702\n",
      "Length of Filtered DF: 61394\n",
      "CPU times: user 224 ms, sys: 68.2 ms, total: 292 ms\n",
      "Wall time: 7.08 s\n"
     ]
    },
    {
     "name": "stderr",
     "output_type": "stream",
     "text": [
      "/home/yjharanwala/Desktop/NumMobility/Nummobility/preprocessing/filters.py:749: UserWarning: If kinematic features have been generated on the dataframe, then make sure to generate them again as outlier detection drops the point from the dataframe and does not run the kinematic features again.\n",
      "  warnings.warn(\"If kinematic features have been generated on the dataframe, then make \"\n"
     ]
    }
   ],
   "source": [
    "%%time\n",
    "\n",
    "filt_ships = Filters.hampel_outlier_detection(dist_ships,\n",
    "                                              column_name='Distance_prev_to_curr')\n",
    "print(f\"Length of original DF: {len(dist_ships)}\")\n",
    "print(f\"Length of Filtered DF: {len(filt_ships)}\")"
   ],
   "metadata": {
    "collapsed": false,
    "pycharm": {
     "name": "#%%\n"
    }
   }
  },
  {
   "cell_type": "code",
   "execution_count": 3,
   "outputs": [],
   "source": [],
   "metadata": {
    "collapsed": false,
    "pycharm": {
     "name": "#%%\n"
    }
   }
  }
 ],
 "metadata": {
  "kernelspec": {
   "display_name": "Python 3",
   "language": "python",
   "name": "python3"
  },
  "language_info": {
   "codemirror_mode": {
    "name": "ipython",
    "version": 2
   },
   "file_extension": ".py",
   "mimetype": "text/x-python",
   "name": "python",
   "nbconvert_exporter": "python",
   "pygments_lexer": "ipython2",
   "version": "2.7.6"
  }
 },
 "nbformat": 4,
 "nbformat_minor": 0
}