{
 "cells": [
  {
   "cell_type": "code",
   "execution_count": 1,
   "metadata": {
    "collapsed": true
   },
   "outputs": [
    {
     "name": "stdout",
     "output_type": "stream",
     "text": [
      "CPU times: user 2.55 s, sys: 208 ms, total: 2.76 s\n",
      "Wall time: 2.77 s\n"
     ]
    },
    {
     "data": {
      "text/plain": "                                   lat         lon\ntraj_id DateTime                                  \n1       2008-10-23 05:53:11  39.984224  116.319402\n        2008-10-23 05:53:16  39.984211  116.319389\n        2008-10-23 05:53:21  39.984217  116.319422\n        2008-10-23 05:53:23  39.984710  116.319865\n        2008-10-23 05:53:28  39.984674  116.319810",
      "text/html": "<div>\n<style scoped>\n    .dataframe tbody tr th:only-of-type {\n        vertical-align: middle;\n    }\n\n    .dataframe tbody tr th {\n        vertical-align: top;\n    }\n\n    .dataframe thead th {\n        text-align: right;\n    }\n</style>\n<table border=\"1\" class=\"dataframe\">\n  <thead>\n    <tr style=\"text-align: right;\">\n      <th></th>\n      <th></th>\n      <th>lat</th>\n      <th>lon</th>\n    </tr>\n    <tr>\n      <th>traj_id</th>\n      <th>DateTime</th>\n      <th></th>\n      <th></th>\n    </tr>\n  </thead>\n  <tbody>\n    <tr>\n      <th rowspan=\"5\" valign=\"top\">1</th>\n      <th>2008-10-23 05:53:11</th>\n      <td>39.984224</td>\n      <td>116.319402</td>\n    </tr>\n    <tr>\n      <th>2008-10-23 05:53:16</th>\n      <td>39.984211</td>\n      <td>116.319389</td>\n    </tr>\n    <tr>\n      <th>2008-10-23 05:53:21</th>\n      <td>39.984217</td>\n      <td>116.319422</td>\n    </tr>\n    <tr>\n      <th>2008-10-23 05:53:23</th>\n      <td>39.984710</td>\n      <td>116.319865</td>\n    </tr>\n    <tr>\n      <th>2008-10-23 05:53:28</th>\n      <td>39.984674</td>\n      <td>116.319810</td>\n    </tr>\n  </tbody>\n</table>\n</div>"
     },
     "execution_count": 1,
     "metadata": {},
     "output_type": "execute_result"
    }
   ],
   "source": [
    "%%time\n",
    "\n",
    "import pandas as pd\n",
    "from Nummobility.core.TrajectoryDF import NumPandasTraj\n",
    "from Nummobility.semantics.semantic_features import SemanticFeatures\n",
    "\n",
    "from Nummobility.features.spatial_features import SpatialFeatures\n",
    "import Nummobility.utilities.constants as const\n",
    "from Nummobility.utilities.DistanceCalculator import FormulaLog\n",
    "\n",
    "\"\"\"\n",
    "    First of all, lets import all the datasets one by one\n",
    "    and check out a few of their points.\n",
    "\"\"\"\n",
    "# Reading the geolife dataset and converting to NumPandasTraj.\n",
    "# Also, lets, print the first 5 points of the dataset to\n",
    "# see how the dataframe looks.\n",
    "geolife = pd.read_csv('./data/geolife_sample.csv')\n",
    "geolife = NumPandasTraj(geolife,'lat','lon','datetime','id')\n",
    "geolife.head()"
   ]
  },
  {
   "cell_type": "code",
   "execution_count": 2,
   "outputs": [
    {
     "data": {
      "text/plain": "                                   lat         lon\ntraj_id DateTime                                  \n1       2008-10-23 05:53:11  39.984224  116.319402\n        2008-10-23 05:53:16  39.984211  116.319389\n        2008-10-23 05:53:21  39.984217  116.319422\n        2008-10-23 05:53:23  39.984710  116.319865\n        2008-10-23 05:53:28  39.984674  116.319810",
      "text/html": "<div>\n<style scoped>\n    .dataframe tbody tr th:only-of-type {\n        vertical-align: middle;\n    }\n\n    .dataframe tbody tr th {\n        vertical-align: top;\n    }\n\n    .dataframe thead th {\n        text-align: right;\n    }\n</style>\n<table border=\"1\" class=\"dataframe\">\n  <thead>\n    <tr style=\"text-align: right;\">\n      <th></th>\n      <th></th>\n      <th>lat</th>\n      <th>lon</th>\n    </tr>\n    <tr>\n      <th>traj_id</th>\n      <th>DateTime</th>\n      <th></th>\n      <th></th>\n    </tr>\n  </thead>\n  <tbody>\n    <tr>\n      <th rowspan=\"5\" valign=\"top\">1</th>\n      <th>2008-10-23 05:53:11</th>\n      <td>39.984224</td>\n      <td>116.319402</td>\n    </tr>\n    <tr>\n      <th>2008-10-23 05:53:16</th>\n      <td>39.984211</td>\n      <td>116.319389</td>\n    </tr>\n    <tr>\n      <th>2008-10-23 05:53:21</th>\n      <td>39.984217</td>\n      <td>116.319422</td>\n    </tr>\n    <tr>\n      <th>2008-10-23 05:53:23</th>\n      <td>39.984710</td>\n      <td>116.319865</td>\n    </tr>\n    <tr>\n      <th>2008-10-23 05:53:28</th>\n      <td>39.984674</td>\n      <td>116.319810</td>\n    </tr>\n  </tbody>\n</table>\n</div>"
     },
     "execution_count": 2,
     "metadata": {},
     "output_type": "execute_result"
    }
   ],
   "source": [
    "small = geolife.reset_index().loc[geolife.reset_index()['traj_id'] == '1']\n",
    "small = NumPandasTraj(small,\n",
    "                      latitude='lat',\n",
    "                      longitude='lon',\n",
    "                      datetime='datetime',\n",
    "                      traj_id='traj_id')\n",
    "small.head()"
   ],
   "metadata": {
    "collapsed": false,
    "pycharm": {
     "name": "#%%\n"
    }
   }
  },
  {
   "cell_type": "code",
   "execution_count": 3,
   "outputs": [
    {
     "data": {
      "text/plain": "1024749.3231767347"
     },
     "execution_count": 3,
     "metadata": {},
     "output_type": "execute_result"
    }
   ],
   "source": [
    "SpatialFeatures.get_distance_travelled_by_traj_id(small, '1')"
   ],
   "metadata": {
    "collapsed": false,
    "pycharm": {
     "name": "#%%\n"
    }
   }
  },
  {
   "cell_type": "code",
   "execution_count": 4,
   "outputs": [
    {
     "name": "stdout",
     "output_type": "stream",
     "text": [
      "502\n",
      "CPU times: user 5.8 s, sys: 0 ns, total: 5.8 s\n",
      "Wall time: 5.8 s\n"
     ]
    }
   ],
   "source": [
    "%%time\n",
    "\n",
    "sem = SemanticFeatures.nearest_bank_alt(small)\n",
    "print(len(sem))"
   ],
   "metadata": {
    "collapsed": false,
    "pycharm": {
     "name": "#%%\n"
    }
   }
  },
  {
   "cell_type": "code",
   "execution_count": 5,
   "outputs": [
    {
     "data": {
      "text/plain": "True    502\ndtype: int64"
     },
     "execution_count": 5,
     "metadata": {},
     "output_type": "execute_result"
    }
   ],
   "source": [
    "start = small[const.LAT][0], small[const.LONG][0]\n",
    "a = []\n",
    "for i in range(len(sem)):\n",
    "    dist = FormulaLog.haversine_distance(start[0], start[1],\n",
    "                                         sem[i][0], sem[i][1])\n",
    "    a.append(dist)\n",
    "\n",
    "(pd.Series(a) > 1000).value_counts()\n"
   ],
   "metadata": {
    "collapsed": false,
    "pycharm": {
     "name": "#%%\n"
    }
   }
  }
 ],
 "metadata": {
  "kernelspec": {
   "display_name": "Python 3",
   "language": "python",
   "name": "python3"
  },
  "language_info": {
   "codemirror_mode": {
    "name": "ipython",
    "version": 2
   },
   "file_extension": ".py",
   "mimetype": "text/x-python",
   "name": "python",
   "nbconvert_exporter": "python",
   "pygments_lexer": "ipython2",
   "version": "2.7.6"
  }
 },
 "nbformat": 4,
 "nbformat_minor": 0
}