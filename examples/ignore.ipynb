{
 "cells": [
  {
   "cell_type": "code",
   "execution_count": 1,
   "metadata": {
    "collapsed": true
   },
   "outputs": [
    {
     "data": {
      "text/plain": "                               event-id  visible       lon       lat  \\\ntraj_id DateTime                                                       \n91732   2009-05-27 14:00:00  1082620685     True  24.58617  61.24783   \n        2009-05-27 20:00:00  1082620686     True  24.58217  61.23267   \n        2009-05-28 05:00:00  1082620687     True  24.53133  61.18833   \n        2009-05-28 08:00:00  1082620688     True  24.58200  61.23283   \n        2009-05-28 14:00:00  1082620689     True  24.58250  61.23267   \n\n                            sensor-type individual-taxon-canonical-name  \\\ntraj_id DateTime                                                          \n91732   2009-05-27 14:00:00         gps                    Larus fuscus   \n        2009-05-27 20:00:00         gps                    Larus fuscus   \n        2009-05-28 05:00:00         gps                    Larus fuscus   \n        2009-05-28 08:00:00         gps                    Larus fuscus   \n        2009-05-28 14:00:00         gps                    Larus fuscus   \n\n                            individual-local-identifier  \\\ntraj_id DateTime                                          \n91732   2009-05-27 14:00:00                      91732A   \n        2009-05-27 20:00:00                      91732A   \n        2009-05-28 05:00:00                      91732A   \n        2009-05-28 08:00:00                      91732A   \n        2009-05-28 14:00:00                      91732A   \n\n                                                                    study-name  \ntraj_id DateTime                                                                \n91732   2009-05-27 14:00:00  Navigation experiments in lesser black-backed ...  \n        2009-05-27 20:00:00  Navigation experiments in lesser black-backed ...  \n        2009-05-28 05:00:00  Navigation experiments in lesser black-backed ...  \n        2009-05-28 08:00:00  Navigation experiments in lesser black-backed ...  \n        2009-05-28 14:00:00  Navigation experiments in lesser black-backed ...  ",
      "text/html": "<div>\n<style scoped>\n    .dataframe tbody tr th:only-of-type {\n        vertical-align: middle;\n    }\n\n    .dataframe tbody tr th {\n        vertical-align: top;\n    }\n\n    .dataframe thead th {\n        text-align: right;\n    }\n</style>\n<table border=\"1\" class=\"dataframe\">\n  <thead>\n    <tr style=\"text-align: right;\">\n      <th></th>\n      <th></th>\n      <th>event-id</th>\n      <th>visible</th>\n      <th>lon</th>\n      <th>lat</th>\n      <th>sensor-type</th>\n      <th>individual-taxon-canonical-name</th>\n      <th>individual-local-identifier</th>\n      <th>study-name</th>\n    </tr>\n    <tr>\n      <th>traj_id</th>\n      <th>DateTime</th>\n      <th></th>\n      <th></th>\n      <th></th>\n      <th></th>\n      <th></th>\n      <th></th>\n      <th></th>\n      <th></th>\n    </tr>\n  </thead>\n  <tbody>\n    <tr>\n      <th rowspan=\"5\" valign=\"top\">91732</th>\n      <th>2009-05-27 14:00:00</th>\n      <td>1082620685</td>\n      <td>True</td>\n      <td>24.58617</td>\n      <td>61.24783</td>\n      <td>gps</td>\n      <td>Larus fuscus</td>\n      <td>91732A</td>\n      <td>Navigation experiments in lesser black-backed ...</td>\n    </tr>\n    <tr>\n      <th>2009-05-27 20:00:00</th>\n      <td>1082620686</td>\n      <td>True</td>\n      <td>24.58217</td>\n      <td>61.23267</td>\n      <td>gps</td>\n      <td>Larus fuscus</td>\n      <td>91732A</td>\n      <td>Navigation experiments in lesser black-backed ...</td>\n    </tr>\n    <tr>\n      <th>2009-05-28 05:00:00</th>\n      <td>1082620687</td>\n      <td>True</td>\n      <td>24.53133</td>\n      <td>61.18833</td>\n      <td>gps</td>\n      <td>Larus fuscus</td>\n      <td>91732A</td>\n      <td>Navigation experiments in lesser black-backed ...</td>\n    </tr>\n    <tr>\n      <th>2009-05-28 08:00:00</th>\n      <td>1082620688</td>\n      <td>True</td>\n      <td>24.58200</td>\n      <td>61.23283</td>\n      <td>gps</td>\n      <td>Larus fuscus</td>\n      <td>91732A</td>\n      <td>Navigation experiments in lesser black-backed ...</td>\n    </tr>\n    <tr>\n      <th>2009-05-28 14:00:00</th>\n      <td>1082620689</td>\n      <td>True</td>\n      <td>24.58250</td>\n      <td>61.23267</td>\n      <td>gps</td>\n      <td>Larus fuscus</td>\n      <td>91732A</td>\n      <td>Navigation experiments in lesser black-backed ...</td>\n    </tr>\n  </tbody>\n</table>\n</div>"
     },
     "execution_count": 1,
     "metadata": {},
     "output_type": "execute_result"
    }
   ],
   "source": [
    "import pandas as pd\n",
    "from ptrail.core.TrajectoryDF import PTRAILDataFrame\n",
    "from ptrail.preprocessing.filters import Filters as filters\n",
    "from ptrail.features.kinematic_features import KinematicFeatures\n",
    "from ptrail.preprocessing.interpolation import Interpolation\n",
    "import ptrail.utilities.constants as const\n",
    "\n",
    "# Reading the gulls dataset and converting to PTRAILDataFrame.\n",
    "# Also, lets, print the first 5 points of the dataset to\n",
    "# see how the dataframe looks.\n",
    "gulls = pd.read_csv('./data/gulls.csv')\n",
    "gulls = PTRAILDataFrame(gulls,\n",
    "                        latitude='location-lat',\n",
    "                        longitude='location-long',\n",
    "                        datetime='timestamp',\n",
    "                        traj_id='tag-local-identifier',\n",
    "                        rest_of_columns=[])\n",
    "gulls.head()"
   ]
  },
  {
   "cell_type": "code",
   "execution_count": 2,
   "outputs": [
    {
     "data": {
      "text/plain": "                                  lat       lon\ntraj_id DateTime                               \n91732   2009-05-27 14:00:00  61.24783  24.58617\n        2009-05-27 20:00:00  61.23267  24.58217\n        2009-05-28 05:00:00  61.18833  24.53133\n        2009-05-28 08:00:00  61.23283  24.58200\n        2009-05-28 14:00:00  61.23267  24.58250",
      "text/html": "<div>\n<style scoped>\n    .dataframe tbody tr th:only-of-type {\n        vertical-align: middle;\n    }\n\n    .dataframe tbody tr th {\n        vertical-align: top;\n    }\n\n    .dataframe thead th {\n        text-align: right;\n    }\n</style>\n<table border=\"1\" class=\"dataframe\">\n  <thead>\n    <tr style=\"text-align: right;\">\n      <th></th>\n      <th></th>\n      <th>lat</th>\n      <th>lon</th>\n    </tr>\n    <tr>\n      <th>traj_id</th>\n      <th>DateTime</th>\n      <th></th>\n      <th></th>\n    </tr>\n  </thead>\n  <tbody>\n    <tr>\n      <th rowspan=\"5\" valign=\"top\">91732</th>\n      <th>2009-05-27 14:00:00</th>\n      <td>61.24783</td>\n      <td>24.58617</td>\n    </tr>\n    <tr>\n      <th>2009-05-27 20:00:00</th>\n      <td>61.23267</td>\n      <td>24.58217</td>\n    </tr>\n    <tr>\n      <th>2009-05-28 05:00:00</th>\n      <td>61.18833</td>\n      <td>24.53133</td>\n    </tr>\n    <tr>\n      <th>2009-05-28 08:00:00</th>\n      <td>61.23283</td>\n      <td>24.58200</td>\n    </tr>\n    <tr>\n      <th>2009-05-28 14:00:00</th>\n      <td>61.23267</td>\n      <td>24.58250</td>\n    </tr>\n  </tbody>\n</table>\n</div>"
     },
     "execution_count": 2,
     "metadata": {},
     "output_type": "execute_result"
    }
   ],
   "source": [
    "t1 = gulls.reset_index().loc[gulls.reset_index()[const.TRAJECTORY_ID] == '91732'][[const.TRAJECTORY_ID, const.DateTime, const.LAT, const.LONG]]\n",
    "t1 = PTRAILDataFrame(data_set=t1,\n",
    "                     datetime='DateTime',\n",
    "                     traj_id='traj_id',\n",
    "                     latitude='lat',\n",
    "                     longitude='lon')\n",
    "t1.head()"
   ],
   "metadata": {
    "collapsed": false,
    "pycharm": {
     "name": "#%%\n"
    }
   }
  },
  {
   "cell_type": "code",
   "execution_count": 3,
   "outputs": [],
   "source": [
    "# ptdf = KinematicFeatures.generate_kinematic_features(t1)\n",
    "# new_df = ptdf.reset_index()[['traj_id', 'Distance', 'Distance_from_start', 'Speed',\n",
    "#                'Acceleration', 'Jerk', 'Bearing', 'Bearing_Rate',\n",
    "#                'Rate_of_bearing_rate']]\n",
    "# stats = new_df.reset_index(drop=True).describe(percentiles=[0.1, 0.25, 0.5, 0.75, 0.9]).transpose()\n",
    "# stats['traj_id'] = new_df['traj_id'].iloc[0]\n",
    "# stats = stats[['traj_id','mean', 'std', 'min', '10%',\n",
    "#                '25%', '50%', '75%', '90%','max']]\n",
    "# stats.reset_index().rename(columns={'index': 'Columns'}).set_index(['traj_id', 'Columns'])"
   ],
   "metadata": {
    "collapsed": false,
    "pycharm": {
     "name": "#%%\n"
    }
   }
  },
  {
   "cell_type": "code",
   "execution_count": 4,
   "outputs": [],
   "source": [
    "stats = KinematicFeatures.generate_kinematic_stats(gulls)"
   ],
   "metadata": {
    "collapsed": false,
    "pycharm": {
     "name": "#%%\n"
    }
   }
  },
  {
   "cell_type": "code",
   "execution_count": 7,
   "outputs": [
    {
     "data": {
      "text/plain": "                                      mean           std           min  \\\ntraj_id Columns                                                          \n91916   Distance              1.592839e+04  1.136323e+05  0.000000e+00   \n        Distance_from_start   2.736727e+06  1.648074e+06  2.498220e+02   \n        Speed                 8.464983e-01  1.128293e+01  0.000000e+00   \n        Acceleration          1.669456e-05  1.440443e-03 -3.176928e-02   \n        Jerk                  1.643145e-09  2.277868e-07 -1.102664e-05   \n        Bearing               1.875603e+02  1.076184e+02  0.000000e+00   \n        Bearing_Rate         -2.545166e-04  8.810098e-03 -3.791598e-02   \n        Rate_of_bearing_rate -2.545166e-04  8.810098e-03 -3.791598e-02   \n91752   Distance              6.084898e+03  1.945547e+04  0.000000e+00   \n        Distance_from_start   5.723643e+06  1.296516e+06  3.510347e+02   \n        Speed                 3.178652e-01  8.412081e-01  0.000000e+00   \n        Acceleration          3.831443e-06  3.812527e-05 -8.603067e-04   \n        Jerk                  3.630524e-10  3.814786e-09 -8.933501e-08   \n        Bearing               1.680275e+02  1.044518e+02  0.000000e+00   \n        Bearing_Rate         -7.857827e-05  9.403411e-03 -3.305716e-02   \n        Rate_of_bearing_rate -7.857827e-05  9.403411e-03 -3.305716e-02   \n\n                                       10%           25%           50%  \\\ntraj_id Columns                                                          \n91916   Distance              1.996660e+01  5.017081e+02  3.015994e+03   \n        Distance_from_start   9.137111e+05  1.253106e+06  2.168522e+06   \n        Speed                 1.158369e-03  2.522285e-02  1.416421e-01   \n        Acceleration         -4.256941e-05 -1.017532e-05 -2.819263e-08   \n        Jerk                 -3.744878e-09 -7.889089e-10  4.641791e-11   \n        Bearing               3.017762e+01  1.056518e+02  1.800000e+02   \n        Bearing_Rate         -1.109072e-02 -6.410844e-03  0.000000e+00   \n        Rate_of_bearing_rate -1.109072e-02 -6.410844e-03  0.000000e+00   \n91752   Distance              4.092670e+01  3.146816e+02  2.326454e+03   \n        Distance_from_start   6.084663e+06  6.090395e+06  6.091126e+06   \n        Speed                 1.907036e-03  1.487929e-02  1.098361e-01   \n        Acceleration         -2.286116e-05 -5.999053e-06 -4.583517e-08   \n        Jerk                 -2.217735e-09 -4.317609e-10  6.455114e-11   \n        Bearing               2.447125e+01  7.534143e+01  1.734714e+02   \n        Bearing_Rate         -1.136807e-02 -6.263162e-03  1.540565e-05   \n        Rate_of_bearing_rate -1.136807e-02 -6.263162e-03  1.540565e-05   \n\n                                       75%           90%           max  \ntraj_id Columns                                                         \n91916   Distance              1.169823e+04  2.989838e+04  6.587322e+06  \n        Distance_from_start   4.514151e+06  4.514742e+06  8.446012e+06  \n        Speed                 6.039781e-01  1.389204e+00  9.149059e+02  \n        Acceleration          9.528719e-06  5.814845e-05  1.270143e-01  \n        Jerk                  1.494163e-09  5.204901e-09  1.764004e-05  \n        Bearing               2.859466e+02  3.341752e+02  3.597854e+02  \n        Bearing_Rate          5.573409e-03  9.708628e-03  3.260693e-02  \n        Rate_of_bearing_rate  5.573409e-03  9.708628e-03  3.260693e-02  \n91752   Distance              7.319771e+03  1.489576e+04  5.601945e+05  \n        Distance_from_start   6.092304e+06  6.102565e+06  6.113107e+06  \n        Speed                 3.718564e-01  8.023213e-01  1.728996e+01  \n        Acceleration          6.429819e-06  3.387030e-05  5.968416e-04  \n        Jerk                  9.541063e-10  3.103903e-09  4.704470e-08  \n        Bearing               2.596122e+02  3.103268e+02  3.599153e+02  \n        Bearing_Rate          6.740900e-03  1.076744e-02  3.222234e-02  \n        Rate_of_bearing_rate  6.740900e-03  1.076744e-02  3.222234e-02  ",
      "text/html": "<div>\n<style scoped>\n    .dataframe tbody tr th:only-of-type {\n        vertical-align: middle;\n    }\n\n    .dataframe tbody tr th {\n        vertical-align: top;\n    }\n\n    .dataframe thead th {\n        text-align: right;\n    }\n</style>\n<table border=\"1\" class=\"dataframe\">\n  <thead>\n    <tr style=\"text-align: right;\">\n      <th></th>\n      <th></th>\n      <th>mean</th>\n      <th>std</th>\n      <th>min</th>\n      <th>10%</th>\n      <th>25%</th>\n      <th>50%</th>\n      <th>75%</th>\n      <th>90%</th>\n      <th>max</th>\n    </tr>\n    <tr>\n      <th>traj_id</th>\n      <th>Columns</th>\n      <th></th>\n      <th></th>\n      <th></th>\n      <th></th>\n      <th></th>\n      <th></th>\n      <th></th>\n      <th></th>\n      <th></th>\n    </tr>\n  </thead>\n  <tbody>\n    <tr>\n      <th rowspan=\"8\" valign=\"top\">91916</th>\n      <th>Distance</th>\n      <td>1.592839e+04</td>\n      <td>1.136323e+05</td>\n      <td>0.000000e+00</td>\n      <td>1.996660e+01</td>\n      <td>5.017081e+02</td>\n      <td>3.015994e+03</td>\n      <td>1.169823e+04</td>\n      <td>2.989838e+04</td>\n      <td>6.587322e+06</td>\n    </tr>\n    <tr>\n      <th>Distance_from_start</th>\n      <td>2.736727e+06</td>\n      <td>1.648074e+06</td>\n      <td>2.498220e+02</td>\n      <td>9.137111e+05</td>\n      <td>1.253106e+06</td>\n      <td>2.168522e+06</td>\n      <td>4.514151e+06</td>\n      <td>4.514742e+06</td>\n      <td>8.446012e+06</td>\n    </tr>\n    <tr>\n      <th>Speed</th>\n      <td>8.464983e-01</td>\n      <td>1.128293e+01</td>\n      <td>0.000000e+00</td>\n      <td>1.158369e-03</td>\n      <td>2.522285e-02</td>\n      <td>1.416421e-01</td>\n      <td>6.039781e-01</td>\n      <td>1.389204e+00</td>\n      <td>9.149059e+02</td>\n    </tr>\n    <tr>\n      <th>Acceleration</th>\n      <td>1.669456e-05</td>\n      <td>1.440443e-03</td>\n      <td>-3.176928e-02</td>\n      <td>-4.256941e-05</td>\n      <td>-1.017532e-05</td>\n      <td>-2.819263e-08</td>\n      <td>9.528719e-06</td>\n      <td>5.814845e-05</td>\n      <td>1.270143e-01</td>\n    </tr>\n    <tr>\n      <th>Jerk</th>\n      <td>1.643145e-09</td>\n      <td>2.277868e-07</td>\n      <td>-1.102664e-05</td>\n      <td>-3.744878e-09</td>\n      <td>-7.889089e-10</td>\n      <td>4.641791e-11</td>\n      <td>1.494163e-09</td>\n      <td>5.204901e-09</td>\n      <td>1.764004e-05</td>\n    </tr>\n    <tr>\n      <th>Bearing</th>\n      <td>1.875603e+02</td>\n      <td>1.076184e+02</td>\n      <td>0.000000e+00</td>\n      <td>3.017762e+01</td>\n      <td>1.056518e+02</td>\n      <td>1.800000e+02</td>\n      <td>2.859466e+02</td>\n      <td>3.341752e+02</td>\n      <td>3.597854e+02</td>\n    </tr>\n    <tr>\n      <th>Bearing_Rate</th>\n      <td>-2.545166e-04</td>\n      <td>8.810098e-03</td>\n      <td>-3.791598e-02</td>\n      <td>-1.109072e-02</td>\n      <td>-6.410844e-03</td>\n      <td>0.000000e+00</td>\n      <td>5.573409e-03</td>\n      <td>9.708628e-03</td>\n      <td>3.260693e-02</td>\n    </tr>\n    <tr>\n      <th>Rate_of_bearing_rate</th>\n      <td>-2.545166e-04</td>\n      <td>8.810098e-03</td>\n      <td>-3.791598e-02</td>\n      <td>-1.109072e-02</td>\n      <td>-6.410844e-03</td>\n      <td>0.000000e+00</td>\n      <td>5.573409e-03</td>\n      <td>9.708628e-03</td>\n      <td>3.260693e-02</td>\n    </tr>\n    <tr>\n      <th rowspan=\"8\" valign=\"top\">91752</th>\n      <th>Distance</th>\n      <td>6.084898e+03</td>\n      <td>1.945547e+04</td>\n      <td>0.000000e+00</td>\n      <td>4.092670e+01</td>\n      <td>3.146816e+02</td>\n      <td>2.326454e+03</td>\n      <td>7.319771e+03</td>\n      <td>1.489576e+04</td>\n      <td>5.601945e+05</td>\n    </tr>\n    <tr>\n      <th>Distance_from_start</th>\n      <td>5.723643e+06</td>\n      <td>1.296516e+06</td>\n      <td>3.510347e+02</td>\n      <td>6.084663e+06</td>\n      <td>6.090395e+06</td>\n      <td>6.091126e+06</td>\n      <td>6.092304e+06</td>\n      <td>6.102565e+06</td>\n      <td>6.113107e+06</td>\n    </tr>\n    <tr>\n      <th>Speed</th>\n      <td>3.178652e-01</td>\n      <td>8.412081e-01</td>\n      <td>0.000000e+00</td>\n      <td>1.907036e-03</td>\n      <td>1.487929e-02</td>\n      <td>1.098361e-01</td>\n      <td>3.718564e-01</td>\n      <td>8.023213e-01</td>\n      <td>1.728996e+01</td>\n    </tr>\n    <tr>\n      <th>Acceleration</th>\n      <td>3.831443e-06</td>\n      <td>3.812527e-05</td>\n      <td>-8.603067e-04</td>\n      <td>-2.286116e-05</td>\n      <td>-5.999053e-06</td>\n      <td>-4.583517e-08</td>\n      <td>6.429819e-06</td>\n      <td>3.387030e-05</td>\n      <td>5.968416e-04</td>\n    </tr>\n    <tr>\n      <th>Jerk</th>\n      <td>3.630524e-10</td>\n      <td>3.814786e-09</td>\n      <td>-8.933501e-08</td>\n      <td>-2.217735e-09</td>\n      <td>-4.317609e-10</td>\n      <td>6.455114e-11</td>\n      <td>9.541063e-10</td>\n      <td>3.103903e-09</td>\n      <td>4.704470e-08</td>\n    </tr>\n    <tr>\n      <th>Bearing</th>\n      <td>1.680275e+02</td>\n      <td>1.044518e+02</td>\n      <td>0.000000e+00</td>\n      <td>2.447125e+01</td>\n      <td>7.534143e+01</td>\n      <td>1.734714e+02</td>\n      <td>2.596122e+02</td>\n      <td>3.103268e+02</td>\n      <td>3.599153e+02</td>\n    </tr>\n    <tr>\n      <th>Bearing_Rate</th>\n      <td>-7.857827e-05</td>\n      <td>9.403411e-03</td>\n      <td>-3.305716e-02</td>\n      <td>-1.136807e-02</td>\n      <td>-6.263162e-03</td>\n      <td>1.540565e-05</td>\n      <td>6.740900e-03</td>\n      <td>1.076744e-02</td>\n      <td>3.222234e-02</td>\n    </tr>\n    <tr>\n      <th>Rate_of_bearing_rate</th>\n      <td>-7.857827e-05</td>\n      <td>9.403411e-03</td>\n      <td>-3.305716e-02</td>\n      <td>-1.136807e-02</td>\n      <td>-6.263162e-03</td>\n      <td>1.540565e-05</td>\n      <td>6.740900e-03</td>\n      <td>1.076744e-02</td>\n      <td>3.222234e-02</td>\n    </tr>\n  </tbody>\n</table>\n</div>"
     },
     "execution_count": 7,
     "metadata": {},
     "output_type": "execute_result"
    }
   ],
   "source": [
    "stats.head(16)"
   ],
   "metadata": {
    "collapsed": false,
    "pycharm": {
     "name": "#%%\n"
    }
   }
  },
  {
   "cell_type": "code",
   "execution_count": null,
   "outputs": [],
   "source": [],
   "metadata": {
    "collapsed": false,
    "pycharm": {
     "name": "#%%\n"
    }
   }
  }
 ],
 "metadata": {
  "kernelspec": {
   "display_name": "Python 3",
   "language": "python",
   "name": "python3"
  },
  "language_info": {
   "codemirror_mode": {
    "name": "ipython",
    "version": 2
   },
   "file_extension": ".py",
   "mimetype": "text/x-python",
   "name": "python",
   "nbconvert_exporter": "python",
   "pygments_lexer": "ipython2",
   "version": "2.7.6"
  }
 },
 "nbformat": 4,
 "nbformat_minor": 0
}