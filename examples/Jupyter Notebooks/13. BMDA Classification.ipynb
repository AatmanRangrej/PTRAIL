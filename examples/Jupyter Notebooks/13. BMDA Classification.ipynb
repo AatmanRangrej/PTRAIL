{
 "cells": [
  {
   "cell_type": "code",
   "execution_count": 2,
   "metadata": {
    "collapsed": true
   },
   "outputs": [
    {
     "name": "stdout",
     "output_type": "stream",
     "text": [
      "------------------------ Dataset Facts ------------------------------\n",
      "\n",
      "Number of unique Trajectories in the data: 253\n",
      "Number of points in the data: 287136\n",
      "Dataset time range: 1196 days 22:51:45\n",
      "Datatype of the DataFrame: <class 'ptrail.core.TrajectoryDF.PTRAILDataFrame'>\n",
      "Dataset Bounding Box: (45.18896978643169, -118.61020848239596, 45.314545642992, -118.50455596234036)\n",
      "\n",
      "---------------------------------------------------------------------\n"
     ]
    }
   ],
   "source": [
    "import pandas as pd\n",
    "from ptrail.core.TrajectoryDF import PTRAILDataFrame\n",
    "from ptrail.preprocessing.statistics import Statistics\n",
    "from ptrail.features.semantic_features import SemanticFeatures\n",
    "\n",
    "pdf = pd.read_csv('./starkey_new.csv')\n",
    "starkey = PTRAILDataFrame(data_set=pdf,\n",
    "                          latitude='lat',\n",
    "                          longitude='lon',\n",
    "                          datetime='DateTime',\n",
    "                          traj_id='Id')\n",
    "print(starkey)\n"
   ]
  },
  {
   "cell_type": "code",
   "execution_count": null,
   "outputs": [],
   "source": [],
   "metadata": {
    "collapsed": false,
    "pycharm": {
     "name": "#%%\n"
    }
   }
  },
  {
   "cell_type": "code",
   "execution_count": 3,
   "outputs": [
    {
     "name": "stdout",
     "output_type": "stream",
     "text": [
      "CPU times: user 34.4 s, sys: 1.05 s, total: 35.5 s\n",
      "Wall time: 37.5 s\n"
     ]
    }
   ],
   "source": [
    "%%time\n",
    "\n",
    "# generate Kinematic stats.\n",
    "stats = Statistics.generate_kinematic_stats(dataframe=starkey,\n",
    "                                            target_col_name='Species')"
   ],
   "metadata": {
    "collapsed": false,
    "pycharm": {
     "name": "#%%\n"
    }
   }
  },
  {
   "cell_type": "code",
   "execution_count": 4,
   "outputs": [
    {
     "data": {
      "text/plain": "           10%_Distance  25%_Distance  50%_Distance  75%_Distance  \\\ntraj_id                                                             \n910313E37     30.022359     66.956787    149.611989    300.726867   \n890424E08     42.384642     84.780370    177.223376    379.614004   \n921228E06     42.390114     90.066813    200.849995    429.158672   \n930304E16     42.384012     67.090258    153.068542    341.254645   \n940110D01     30.022192     66.956668    149.612107    284.710015   \n...                 ...           ...           ...           ...   \nOSUX92071     42.384783     98.213522    275.921086    509.415791   \nOSUX92008     60.044073    113.846901    323.971240    582.606358   \nOSUX91121     66.956676    138.476526    334.746006    596.234364   \nOSUX91143     90.066320    141.983451    323.214222    635.102619   \n950227D02     60.555710    123.400641    248.821498    467.775872   \n\n           90%_Distance  min_Distance  max_Distance  mean_Distance  \\\ntraj_id                                                              \n910313E37    632.269559      0.000000   6034.207873     268.728974   \n890424E08    759.311144      0.000000   6043.490157     323.956468   \n921228E06    890.194719      0.000000   4623.347553     377.677630   \n930304E16    690.640774      0.000000   5864.020183     291.351804   \n940110D01    510.276991      0.000000   1975.611748     221.420080   \n...                 ...           ...           ...            ...   \nOSUX92071   1734.539050      0.000000   4968.850596     552.252200   \nOSUX92008   1036.441333      0.000000   3252.044721     469.226709   \nOSUX91121   1365.947767     42.390056   5886.617958     652.055638   \nOSUX91143   1447.090670     42.384352   6230.843732     652.128273   \n950227D02    607.061122      0.000000   1014.759424     309.864157   \n\n           std_Distance  10%_Distance_from_start  ...  \\\ntraj_id                                           ...   \n910313E37    398.901980              1121.185006  ...   \n890424E08    446.249248               674.170024  ...   \n921228E06    517.650637               807.693739  ...   \n930304E16    396.220730              1156.455188  ...   \n940110D01    235.093739               492.522877  ...   \n...                 ...                      ...  ...   \nOSUX92071    797.302786              2019.896767  ...   \nOSUX92008    565.038959              2330.556507  ...   \nOSUX91121   1119.869470              2660.409775  ...   \nOSUX91143   1043.556535              2741.029578  ...   \n950227D02    257.519475              2111.735728  ...   \n\n           10%_Rate_of_bearing_rate  25%_Rate_of_bearing_rate  \\\ntraj_id                                                         \n910313E37                 -0.063322                 -0.026677   \n890424E08                 -0.064023                 -0.023545   \n921228E06                 -0.058033                 -0.020736   \n930304E16                 -0.068092                 -0.026542   \n940110D01                 -0.041207                 -0.018263   \n...                             ...                       ...   \nOSUX92071                 -0.013195                 -0.006290   \nOSUX92008                 -0.033016                 -0.006065   \nOSUX91121                 -0.010799                 -0.003606   \nOSUX91143                 -0.011116                 -0.002726   \n950227D02                 -0.027101                 -0.014470   \n\n           50%_Rate_of_bearing_rate  75%_Rate_of_bearing_rate  \\\ntraj_id                                                         \n910313E37              5.306679e-08                  0.025072   \n890424E08              0.000000e+00                  0.022320   \n921228E06             -9.056581e-07                  0.020104   \n930304E16              2.094546e-07                  0.027375   \n940110D01              0.000000e+00                  0.018564   \n...                             ...                       ...   \nOSUX92071             -1.456657e-04                  0.006863   \nOSUX92008              4.739615e-05                  0.008182   \nOSUX91121              1.840711e-04                  0.006951   \nOSUX91143              8.818090e-05                  0.004994   \n950227D02             -4.449623e-04                  0.009539   \n\n           90%_Rate_of_bearing_rate  min_Rate_of_bearing_rate  \\\ntraj_id                                                         \n910313E37                  0.065316                 -6.036678   \n890424E08                  0.063820                -11.536372   \n921228E06                  0.056057                -56.020652   \n930304E16                  0.066328                 -7.865121   \n940110D01                  0.042032                 -5.547235   \n...                             ...                       ...   \nOSUX92071                  0.019363                 -0.180602   \nOSUX92008                  0.023711                 -0.119311   \nOSUX91121                  0.023679                 -0.018316   \nOSUX91143                  0.011873                 -0.029209   \n950227D02                  0.029714                 -0.041115   \n\n           max_Rate_of_bearing_rate  mean_Rate_of_bearing_rate  \\\ntraj_id                                                          \n910313E37                  2.449554                  -0.001945   \n890424E08                  2.494857                  -0.006703   \n921228E06                  4.466711                  -0.016681   \n930304E16                 30.406105                   0.001768   \n940110D01                200.192244                   0.073830   \n...                             ...                        ...   \nOSUX92071                  0.032870                  -0.001012   \nOSUX92008                  0.119162                  -0.001884   \nOSUX91121                  0.027926                   0.001982   \nOSUX91143                  0.034114                   0.000903   \n950227D02                  0.047308                  -0.000006   \n\n           std_Rate_of_bearing_rate  Species  \ntraj_id                                       \n910313E37                  0.154034        1  \n890424E08                  0.241358        1  \n921228E06                  1.008263        1  \n930304E16                  0.600187        1  \n940110D01                  3.677063        0  \n...                             ...      ...  \nOSUX92071                  0.022347        2  \nOSUX92008                  0.033022        2  \nOSUX91121                  0.011728        2  \nOSUX91143                  0.011857        2  \n950227D02                  0.020923        0  \n\n[253 rows x 73 columns]",
      "text/html": "<div>\n<style scoped>\n    .dataframe tbody tr th:only-of-type {\n        vertical-align: middle;\n    }\n\n    .dataframe tbody tr th {\n        vertical-align: top;\n    }\n\n    .dataframe thead th {\n        text-align: right;\n    }\n</style>\n<table border=\"1\" class=\"dataframe\">\n  <thead>\n    <tr style=\"text-align: right;\">\n      <th></th>\n      <th>10%_Distance</th>\n      <th>25%_Distance</th>\n      <th>50%_Distance</th>\n      <th>75%_Distance</th>\n      <th>90%_Distance</th>\n      <th>min_Distance</th>\n      <th>max_Distance</th>\n      <th>mean_Distance</th>\n      <th>std_Distance</th>\n      <th>10%_Distance_from_start</th>\n      <th>...</th>\n      <th>10%_Rate_of_bearing_rate</th>\n      <th>25%_Rate_of_bearing_rate</th>\n      <th>50%_Rate_of_bearing_rate</th>\n      <th>75%_Rate_of_bearing_rate</th>\n      <th>90%_Rate_of_bearing_rate</th>\n      <th>min_Rate_of_bearing_rate</th>\n      <th>max_Rate_of_bearing_rate</th>\n      <th>mean_Rate_of_bearing_rate</th>\n      <th>std_Rate_of_bearing_rate</th>\n      <th>Species</th>\n    </tr>\n    <tr>\n      <th>traj_id</th>\n      <th></th>\n      <th></th>\n      <th></th>\n      <th></th>\n      <th></th>\n      <th></th>\n      <th></th>\n      <th></th>\n      <th></th>\n      <th></th>\n      <th></th>\n      <th></th>\n      <th></th>\n      <th></th>\n      <th></th>\n      <th></th>\n      <th></th>\n      <th></th>\n      <th></th>\n      <th></th>\n      <th></th>\n    </tr>\n  </thead>\n  <tbody>\n    <tr>\n      <th>910313E37</th>\n      <td>30.022359</td>\n      <td>66.956787</td>\n      <td>149.611989</td>\n      <td>300.726867</td>\n      <td>632.269559</td>\n      <td>0.000000</td>\n      <td>6034.207873</td>\n      <td>268.728974</td>\n      <td>398.901980</td>\n      <td>1121.185006</td>\n      <td>...</td>\n      <td>-0.063322</td>\n      <td>-0.026677</td>\n      <td>5.306679e-08</td>\n      <td>0.025072</td>\n      <td>0.065316</td>\n      <td>-6.036678</td>\n      <td>2.449554</td>\n      <td>-0.001945</td>\n      <td>0.154034</td>\n      <td>1</td>\n    </tr>\n    <tr>\n      <th>890424E08</th>\n      <td>42.384642</td>\n      <td>84.780370</td>\n      <td>177.223376</td>\n      <td>379.614004</td>\n      <td>759.311144</td>\n      <td>0.000000</td>\n      <td>6043.490157</td>\n      <td>323.956468</td>\n      <td>446.249248</td>\n      <td>674.170024</td>\n      <td>...</td>\n      <td>-0.064023</td>\n      <td>-0.023545</td>\n      <td>0.000000e+00</td>\n      <td>0.022320</td>\n      <td>0.063820</td>\n      <td>-11.536372</td>\n      <td>2.494857</td>\n      <td>-0.006703</td>\n      <td>0.241358</td>\n      <td>1</td>\n    </tr>\n    <tr>\n      <th>921228E06</th>\n      <td>42.390114</td>\n      <td>90.066813</td>\n      <td>200.849995</td>\n      <td>429.158672</td>\n      <td>890.194719</td>\n      <td>0.000000</td>\n      <td>4623.347553</td>\n      <td>377.677630</td>\n      <td>517.650637</td>\n      <td>807.693739</td>\n      <td>...</td>\n      <td>-0.058033</td>\n      <td>-0.020736</td>\n      <td>-9.056581e-07</td>\n      <td>0.020104</td>\n      <td>0.056057</td>\n      <td>-56.020652</td>\n      <td>4.466711</td>\n      <td>-0.016681</td>\n      <td>1.008263</td>\n      <td>1</td>\n    </tr>\n    <tr>\n      <th>930304E16</th>\n      <td>42.384012</td>\n      <td>67.090258</td>\n      <td>153.068542</td>\n      <td>341.254645</td>\n      <td>690.640774</td>\n      <td>0.000000</td>\n      <td>5864.020183</td>\n      <td>291.351804</td>\n      <td>396.220730</td>\n      <td>1156.455188</td>\n      <td>...</td>\n      <td>-0.068092</td>\n      <td>-0.026542</td>\n      <td>2.094546e-07</td>\n      <td>0.027375</td>\n      <td>0.066328</td>\n      <td>-7.865121</td>\n      <td>30.406105</td>\n      <td>0.001768</td>\n      <td>0.600187</td>\n      <td>1</td>\n    </tr>\n    <tr>\n      <th>940110D01</th>\n      <td>30.022192</td>\n      <td>66.956668</td>\n      <td>149.612107</td>\n      <td>284.710015</td>\n      <td>510.276991</td>\n      <td>0.000000</td>\n      <td>1975.611748</td>\n      <td>221.420080</td>\n      <td>235.093739</td>\n      <td>492.522877</td>\n      <td>...</td>\n      <td>-0.041207</td>\n      <td>-0.018263</td>\n      <td>0.000000e+00</td>\n      <td>0.018564</td>\n      <td>0.042032</td>\n      <td>-5.547235</td>\n      <td>200.192244</td>\n      <td>0.073830</td>\n      <td>3.677063</td>\n      <td>0</td>\n    </tr>\n    <tr>\n      <th>...</th>\n      <td>...</td>\n      <td>...</td>\n      <td>...</td>\n      <td>...</td>\n      <td>...</td>\n      <td>...</td>\n      <td>...</td>\n      <td>...</td>\n      <td>...</td>\n      <td>...</td>\n      <td>...</td>\n      <td>...</td>\n      <td>...</td>\n      <td>...</td>\n      <td>...</td>\n      <td>...</td>\n      <td>...</td>\n      <td>...</td>\n      <td>...</td>\n      <td>...</td>\n      <td>...</td>\n    </tr>\n    <tr>\n      <th>OSUX92071</th>\n      <td>42.384783</td>\n      <td>98.213522</td>\n      <td>275.921086</td>\n      <td>509.415791</td>\n      <td>1734.539050</td>\n      <td>0.000000</td>\n      <td>4968.850596</td>\n      <td>552.252200</td>\n      <td>797.302786</td>\n      <td>2019.896767</td>\n      <td>...</td>\n      <td>-0.013195</td>\n      <td>-0.006290</td>\n      <td>-1.456657e-04</td>\n      <td>0.006863</td>\n      <td>0.019363</td>\n      <td>-0.180602</td>\n      <td>0.032870</td>\n      <td>-0.001012</td>\n      <td>0.022347</td>\n      <td>2</td>\n    </tr>\n    <tr>\n      <th>OSUX92008</th>\n      <td>60.044073</td>\n      <td>113.846901</td>\n      <td>323.971240</td>\n      <td>582.606358</td>\n      <td>1036.441333</td>\n      <td>0.000000</td>\n      <td>3252.044721</td>\n      <td>469.226709</td>\n      <td>565.038959</td>\n      <td>2330.556507</td>\n      <td>...</td>\n      <td>-0.033016</td>\n      <td>-0.006065</td>\n      <td>4.739615e-05</td>\n      <td>0.008182</td>\n      <td>0.023711</td>\n      <td>-0.119311</td>\n      <td>0.119162</td>\n      <td>-0.001884</td>\n      <td>0.033022</td>\n      <td>2</td>\n    </tr>\n    <tr>\n      <th>OSUX91121</th>\n      <td>66.956676</td>\n      <td>138.476526</td>\n      <td>334.746006</td>\n      <td>596.234364</td>\n      <td>1365.947767</td>\n      <td>42.390056</td>\n      <td>5886.617958</td>\n      <td>652.055638</td>\n      <td>1119.869470</td>\n      <td>2660.409775</td>\n      <td>...</td>\n      <td>-0.010799</td>\n      <td>-0.003606</td>\n      <td>1.840711e-04</td>\n      <td>0.006951</td>\n      <td>0.023679</td>\n      <td>-0.018316</td>\n      <td>0.027926</td>\n      <td>0.001982</td>\n      <td>0.011728</td>\n      <td>2</td>\n    </tr>\n    <tr>\n      <th>OSUX91143</th>\n      <td>90.066320</td>\n      <td>141.983451</td>\n      <td>323.214222</td>\n      <td>635.102619</td>\n      <td>1447.090670</td>\n      <td>42.384352</td>\n      <td>6230.843732</td>\n      <td>652.128273</td>\n      <td>1043.556535</td>\n      <td>2741.029578</td>\n      <td>...</td>\n      <td>-0.011116</td>\n      <td>-0.002726</td>\n      <td>8.818090e-05</td>\n      <td>0.004994</td>\n      <td>0.011873</td>\n      <td>-0.029209</td>\n      <td>0.034114</td>\n      <td>0.000903</td>\n      <td>0.011857</td>\n      <td>2</td>\n    </tr>\n    <tr>\n      <th>950227D02</th>\n      <td>60.555710</td>\n      <td>123.400641</td>\n      <td>248.821498</td>\n      <td>467.775872</td>\n      <td>607.061122</td>\n      <td>0.000000</td>\n      <td>1014.759424</td>\n      <td>309.864157</td>\n      <td>257.519475</td>\n      <td>2111.735728</td>\n      <td>...</td>\n      <td>-0.027101</td>\n      <td>-0.014470</td>\n      <td>-4.449623e-04</td>\n      <td>0.009539</td>\n      <td>0.029714</td>\n      <td>-0.041115</td>\n      <td>0.047308</td>\n      <td>-0.000006</td>\n      <td>0.020923</td>\n      <td>0</td>\n    </tr>\n  </tbody>\n</table>\n<p>253 rows × 73 columns</p>\n</div>"
     },
     "execution_count": 4,
     "metadata": {},
     "output_type": "execute_result"
    }
   ],
   "source": [
    "# Pivot the stats df and get it ready for the ML task.\n",
    "pivoted_stats = Statistics.pivot_stats_df(dataframe=stats,\n",
    "                                          target_col_name='Species')\n",
    "pivoted_stats"
   ],
   "metadata": {
    "collapsed": false,
    "pycharm": {
     "name": "#%%\n"
    }
   }
  },
  {
   "cell_type": "code",
   "execution_count": 12,
   "outputs": [
    {
     "data": {
      "text/plain": "<Figure size 432x288 with 1 Axes>",
      "image/png": "[encoded data removed]"
     },
     "metadata": {
      "needs_background": "light"
     },
     "output_type": "display_data"
    }
   ],
   "source": [
    "from sklearn.model_selection import cross_val_score\n",
    "# Visualization tools.\n",
    "import matplotlib.pyplot as plt\n",
    "import seaborn as sns\n",
    "\n",
    "# Models.\n",
    "from sklearn.svm import SVC\n",
    "from sklearn.ensemble import AdaBoostClassifier\n",
    "from sklearn.ensemble import RandomForestClassifier\n",
    "from sklearn.naive_bayes import GaussianNB\n",
    "\n",
    "# Metric calculation.\n",
    "from sklearn.decomposition import PCA\n",
    "from sklearn.metrics import f1_score\n",
    "from sklearn.model_selection import train_test_split\n",
    "from sklearn.model_selection import StratifiedKFold\n",
    "\n",
    "\n",
    "\n",
    "# Split the test and train dataset.\n",
    "# train_x, test_x, train_y, test_y = train_test_split(pivoted_stats.drop(columns=['Species']),\n",
    "#                                                     pivoted_stats[\"Species\"], test_size=0.15)\n",
    "# Declare all the models that we are going to train.\n",
    "names = [\"Random Forest\", \"Naive Bayes\", \"ADABoost\", \"SVC\"]\n",
    "models = [RandomForestClassifier(), GaussianNB(),\n",
    "          AdaBoostClassifier(), SVC()]\n",
    "\n",
    "# Convert the dataframe and its answer value to numpy.\n",
    "X = pivoted_stats.drop(columns='Species').to_numpy()\n",
    "Y = pivoted_stats['Species'].to_numpy()\n",
    "\n",
    "# # Separate out 30% of the data for the final testing.\n",
    "# train_vals, final_test, \\\n",
    "# train_ans, final_test_ans = train_test_split(X, Y, test_size=0.3)\n",
    "\n",
    "\n",
    "ax = plt.subplot(111)\n",
    "ax.set_facecolor('gainsboro')\n",
    "\n",
    "skf = StratifiedKFold(n_splits=10, random_state=None, shuffle=True)\n",
    "# For each model defined above, predict the species for\n",
    "# our animals.\n",
    "for i, name, model in zip(range(0, 4), names, models):\n",
    "    fit = model.fit(X, Y)\n",
    "    scores = cross_val_score(model, X, Y,\n",
    "                             scoring='accuracy', cv=skf, n_jobs=-1)\n",
    "    ax.boxplot(x=scores, positions=[i], vert=True, widths=0.60, patch_artist=True)\n",
    "\n",
    "ax.set_xticklabels(labels=names)\n",
    "plt.tight_layout()"
   ],
   "metadata": {
    "collapsed": false,
    "pycharm": {
     "name": "#%%\n"
    }
   }
  },
  {
   "cell_type": "code",
   "execution_count": 6,
   "outputs": [],
   "source": [
    "# Create a figure and 2x2 grid and flatten the axes.\n",
    "# fig1, ax1 = plt.subplots(2,2, figsize=(12, 9))\n",
    "# fig1.set_facecolor('white')\n",
    "# ax1=ax1.flatten()\n",
    "#\n",
    "#\n",
    "# # Now, for each model, test the model on the testing set and\n",
    "# # plot the answers by reducing the dataset using PCA.\n",
    "# for i, name, model in zip(range(0, len(ax1)), names, models):\n",
    "#     # Predict the species on the test dataset.\n",
    "#     ans = model.predict(final_test)\n",
    "#\n",
    "#     # Perform PCA on our df and extract 2 components.\n",
    "#     pca = PCA(n_components=2)\n",
    "#     transformed = pca.fit_transform(final_test)\n",
    "#     score = f1_score(y_true=final_test_ans, y_pred=ans, average='weighted')\n",
    "#\n",
    "#     # Plot the 2D scatterplot and then set the title of each plot.\n",
    "#     sns.scatterplot(x=transformed[:, 0], y=transformed[:, 1],\n",
    "#                     hue=ans, ax=ax1[i], palette='colorblind')\n",
    "#     ax1[i].set_title(f'Model: {name}, f1_score: {round(score, 2)}')\n",
    "#     ax1[i].get_legend().remove()\n",
    "#     ax1[i].set_facecolor('gainsboro')"
   ],
   "metadata": {
    "collapsed": false,
    "pycharm": {
     "name": "#%%\n"
    }
   }
  }
 ],
 "metadata": {
  "kernelspec": {
   "display_name": "Python 3",
   "language": "python",
   "name": "python3"
  },
  "language_info": {
   "codemirror_mode": {
    "name": "ipython",
    "version": 2
   },
   "file_extension": ".py",
   "mimetype": "text/x-python",
   "name": "python",
   "nbconvert_exporter": "python",
   "pygments_lexer": "ipython2",
   "version": "2.7.6"
  }
 },
 "nbformat": 4,
 "nbformat_minor": 0
}