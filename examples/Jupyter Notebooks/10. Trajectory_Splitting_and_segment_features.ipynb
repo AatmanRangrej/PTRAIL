{
 "cells": [
  {
   "cell_type": "markdown",
   "source": [
    "# Step 1:\n",
    "\n",
    "First, we import pandas and PTRAIL packages to load the data into a PTRAILDataFrame so that\n",
    "the trajectories are indexed properly."
   ],
   "metadata": {
    "collapsed": false
   }
  },
  {
   "cell_type": "code",
   "execution_count": 1,
   "metadata": {
    "collapsed": true
   },
   "outputs": [],
   "source": [
    "import pandas as pd\n",
    "from ptrail.core.TrajectoryDF import PTRAILDataFrame\n",
    "from ptrail.preprocessing.statistics import Statistics\n",
    "\n",
    "pdf = pd.read_csv('https://raw.githubusercontent.com/YakshHaranwala/PTRAIL/main/examples/data/starkey.csv')\n",
    "starkey = PTRAILDataFrame(data_set=pdf,\n",
    "                          latitude='lat',\n",
    "                          longitude='lon',\n",
    "                          datetime='DateTime',\n",
    "                          traj_id='Id')"
   ]
  },
  {
   "cell_type": "markdown",
   "source": [
    "# Step 2:\n",
    "\n",
    "Now, we segment the trajectories by 15 days each segment."
   ],
   "metadata": {
    "collapsed": false
   }
  },
  {
   "cell_type": "code",
   "execution_count": 2,
   "outputs": [
    {
     "name": "stdout",
     "output_type": "stream",
     "text": [
      "CPU times: user 5.02 s, sys: 2.14 s, total: 7.17 s\n",
      "Wall time: 21.2 s\n"
     ]
    },
    {
     "data": {
      "text/plain": "                                            lat         lon  StarkeyTime  \\\ntraj_id   seg_id DateTime                                                  \n880119D02 1      1993-05-18 14:04:36  45.245158 -118.527618    169855476   \n                 1993-05-18 14:41:26  45.244873 -118.528757    169857686   \n                 1993-05-18 15:17:29  45.245148 -118.528382    169859849   \n                 1993-05-18 15:54:58  45.243803 -118.527964    169862098   \n                 1993-05-18 17:05:50  45.243814 -118.527199    169866350   \n...                                         ...         ...          ...   \nOSUX93151 2      1996-08-15 04:54:45  45.217644 -118.525352    272206485   \n                 1996-08-15 06:50:23  45.218698 -118.527291    272213423   \n                 1996-08-15 10:36:33  45.220348 -118.525043    272226993   \n                 1996-08-15 12:31:01  45.232730 -118.528049    272233861   \n                 1996-08-15 14:25:36  45.232424 -118.530716    272240736   \n\n                                        GMDate    GMTime   LocDate   LocTime  \\\ntraj_id   seg_id DateTime                                                      \n880119D02 1      1993-05-18 14:04:36  22:04:36  19930518  19930518  14:04:36   \n                 1993-05-18 14:41:26  22:41:26  19930518  19930518  14:41:26   \n                 1993-05-18 15:17:29  23:17:29  19930518  19930518  15:17:29   \n                 1993-05-18 15:54:58  23:54:58  19930518  19930518  15:54:58   \n                 1993-05-18 17:05:50  01:05:50  19930519  19930518  17:05:50   \n...                                        ...       ...       ...       ...   \nOSUX93151 2      1996-08-15 04:54:45  12:54:45  19960815  19960815  04:54:45   \n                 1996-08-15 06:50:23  14:50:23  19960815  19960815  06:50:23   \n                 1996-08-15 10:36:33  18:36:33  19960815  19960815  10:36:33   \n                 1996-08-15 12:31:01  20:31:01  19960815  19960815  12:31:01   \n                 1996-08-15 14:25:36  22:25:36  19960815  19960815  14:25:36   \n\n                                      RadNum  Species    UTME     UTMN  Year  \\\ntraj_id   seg_id DateTime                                                      \n880119D02 1      1993-05-18 14:04:36     187        0  380126  5011313    93   \n                 1993-05-18 14:41:26     187        0  380019  5011283    93   \n                 1993-05-18 15:17:29     187        0  380064  5011312    93   \n                 1993-05-18 15:54:58     187        0  380084  5011165    93   \n                 1993-05-18 17:05:50     187        0  380132  5011164    93   \n...                                      ...      ...     ...      ...   ...   \nOSUX93151 2      1996-08-15 04:54:45     331        2  380232  5008275    96   \n                 1996-08-15 06:50:23     331        2  380086  5008367    96   \n                 1996-08-15 10:36:33     331        2  380280  5008546    96   \n                 1996-08-15 12:31:01     331        2  380053  5009925    96   \n                 1996-08-15 14:25:36     331        2  379850  5009918    96   \n\n                                      Grensunr  Grensuns  Obswt        Date  \ntraj_id   seg_id DateTime                                                    \n880119D02 1      1993-05-18 14:04:36  12:21:00  03:23:00   1.39  1993-05-18  \n                 1993-05-18 14:41:26  12:21:00  03:23:00   1.39  1993-05-18  \n                 1993-05-18 15:17:29  12:21:00  03:23:00   1.39  1993-05-18  \n                 1993-05-18 15:54:58  12:21:00  03:23:00   1.39  1993-05-18  \n                 1993-05-18 17:05:50  12:20:00  03:24:00   1.39  1993-05-18  \n...                                        ...       ...    ...         ...  \nOSUX93151 2      1996-08-15 04:54:45  12:56:00  03:04:00   1.65  1996-08-15  \n                 1996-08-15 06:50:23  12:56:00  03:04:00   1.54  1996-08-15  \n                 1996-08-15 10:36:33  12:56:00  03:04:00   1.56  1996-08-15  \n                 1996-08-15 12:31:01  12:56:00  03:04:00   1.69  1996-08-15  \n                 1996-08-15 14:25:36  12:56:00  03:04:00   1.53  1996-08-15  \n\n[4070414 rows x 16 columns]",
      "text/html": "<div>\n<style scoped>\n    .dataframe tbody tr th:only-of-type {\n        vertical-align: middle;\n    }\n\n    .dataframe tbody tr th {\n        vertical-align: top;\n    }\n\n    .dataframe thead th {\n        text-align: right;\n    }\n</style>\n<table border=\"1\" class=\"dataframe\">\n  <thead>\n    <tr style=\"text-align: right;\">\n      <th></th>\n      <th></th>\n      <th></th>\n      <th>lat</th>\n      <th>lon</th>\n      <th>StarkeyTime</th>\n      <th>GMDate</th>\n      <th>GMTime</th>\n      <th>LocDate</th>\n      <th>LocTime</th>\n      <th>RadNum</th>\n      <th>Species</th>\n      <th>UTME</th>\n      <th>UTMN</th>\n      <th>Year</th>\n      <th>Grensunr</th>\n      <th>Grensuns</th>\n      <th>Obswt</th>\n      <th>Date</th>\n    </tr>\n    <tr>\n      <th>traj_id</th>\n      <th>seg_id</th>\n      <th>DateTime</th>\n      <th></th>\n      <th></th>\n      <th></th>\n      <th></th>\n      <th></th>\n      <th></th>\n      <th></th>\n      <th></th>\n      <th></th>\n      <th></th>\n      <th></th>\n      <th></th>\n      <th></th>\n      <th></th>\n      <th></th>\n      <th></th>\n    </tr>\n  </thead>\n  <tbody>\n    <tr>\n      <th rowspan=\"5\" valign=\"top\">880119D02</th>\n      <th rowspan=\"5\" valign=\"top\">1</th>\n      <th>1993-05-18 14:04:36</th>\n      <td>45.245158</td>\n      <td>-118.527618</td>\n      <td>169855476</td>\n      <td>22:04:36</td>\n      <td>19930518</td>\n      <td>19930518</td>\n      <td>14:04:36</td>\n      <td>187</td>\n      <td>0</td>\n      <td>380126</td>\n      <td>5011313</td>\n      <td>93</td>\n      <td>12:21:00</td>\n      <td>03:23:00</td>\n      <td>1.39</td>\n      <td>1993-05-18</td>\n    </tr>\n    <tr>\n      <th>1993-05-18 14:41:26</th>\n      <td>45.244873</td>\n      <td>-118.528757</td>\n      <td>169857686</td>\n      <td>22:41:26</td>\n      <td>19930518</td>\n      <td>19930518</td>\n      <td>14:41:26</td>\n      <td>187</td>\n      <td>0</td>\n      <td>380019</td>\n      <td>5011283</td>\n      <td>93</td>\n      <td>12:21:00</td>\n      <td>03:23:00</td>\n      <td>1.39</td>\n      <td>1993-05-18</td>\n    </tr>\n    <tr>\n      <th>1993-05-18 15:17:29</th>\n      <td>45.245148</td>\n      <td>-118.528382</td>\n      <td>169859849</td>\n      <td>23:17:29</td>\n      <td>19930518</td>\n      <td>19930518</td>\n      <td>15:17:29</td>\n      <td>187</td>\n      <td>0</td>\n      <td>380064</td>\n      <td>5011312</td>\n      <td>93</td>\n      <td>12:21:00</td>\n      <td>03:23:00</td>\n      <td>1.39</td>\n      <td>1993-05-18</td>\n    </tr>\n    <tr>\n      <th>1993-05-18 15:54:58</th>\n      <td>45.243803</td>\n      <td>-118.527964</td>\n      <td>169862098</td>\n      <td>23:54:58</td>\n      <td>19930518</td>\n      <td>19930518</td>\n      <td>15:54:58</td>\n      <td>187</td>\n      <td>0</td>\n      <td>380084</td>\n      <td>5011165</td>\n      <td>93</td>\n      <td>12:21:00</td>\n      <td>03:23:00</td>\n      <td>1.39</td>\n      <td>1993-05-18</td>\n    </tr>\n    <tr>\n      <th>1993-05-18 17:05:50</th>\n      <td>45.243814</td>\n      <td>-118.527199</td>\n      <td>169866350</td>\n      <td>01:05:50</td>\n      <td>19930519</td>\n      <td>19930518</td>\n      <td>17:05:50</td>\n      <td>187</td>\n      <td>0</td>\n      <td>380132</td>\n      <td>5011164</td>\n      <td>93</td>\n      <td>12:20:00</td>\n      <td>03:24:00</td>\n      <td>1.39</td>\n      <td>1993-05-18</td>\n    </tr>\n    <tr>\n      <th>...</th>\n      <th>...</th>\n      <th>...</th>\n      <td>...</td>\n      <td>...</td>\n      <td>...</td>\n      <td>...</td>\n      <td>...</td>\n      <td>...</td>\n      <td>...</td>\n      <td>...</td>\n      <td>...</td>\n      <td>...</td>\n      <td>...</td>\n      <td>...</td>\n      <td>...</td>\n      <td>...</td>\n      <td>...</td>\n      <td>...</td>\n    </tr>\n    <tr>\n      <th rowspan=\"5\" valign=\"top\">OSUX93151</th>\n      <th rowspan=\"5\" valign=\"top\">2</th>\n      <th>1996-08-15 04:54:45</th>\n      <td>45.217644</td>\n      <td>-118.525352</td>\n      <td>272206485</td>\n      <td>12:54:45</td>\n      <td>19960815</td>\n      <td>19960815</td>\n      <td>04:54:45</td>\n      <td>331</td>\n      <td>2</td>\n      <td>380232</td>\n      <td>5008275</td>\n      <td>96</td>\n      <td>12:56:00</td>\n      <td>03:04:00</td>\n      <td>1.65</td>\n      <td>1996-08-15</td>\n    </tr>\n    <tr>\n      <th>1996-08-15 06:50:23</th>\n      <td>45.218698</td>\n      <td>-118.527291</td>\n      <td>272213423</td>\n      <td>14:50:23</td>\n      <td>19960815</td>\n      <td>19960815</td>\n      <td>06:50:23</td>\n      <td>331</td>\n      <td>2</td>\n      <td>380086</td>\n      <td>5008367</td>\n      <td>96</td>\n      <td>12:56:00</td>\n      <td>03:04:00</td>\n      <td>1.54</td>\n      <td>1996-08-15</td>\n    </tr>\n    <tr>\n      <th>1996-08-15 10:36:33</th>\n      <td>45.220348</td>\n      <td>-118.525043</td>\n      <td>272226993</td>\n      <td>18:36:33</td>\n      <td>19960815</td>\n      <td>19960815</td>\n      <td>10:36:33</td>\n      <td>331</td>\n      <td>2</td>\n      <td>380280</td>\n      <td>5008546</td>\n      <td>96</td>\n      <td>12:56:00</td>\n      <td>03:04:00</td>\n      <td>1.56</td>\n      <td>1996-08-15</td>\n    </tr>\n    <tr>\n      <th>1996-08-15 12:31:01</th>\n      <td>45.232730</td>\n      <td>-118.528049</td>\n      <td>272233861</td>\n      <td>20:31:01</td>\n      <td>19960815</td>\n      <td>19960815</td>\n      <td>12:31:01</td>\n      <td>331</td>\n      <td>2</td>\n      <td>380053</td>\n      <td>5009925</td>\n      <td>96</td>\n      <td>12:56:00</td>\n      <td>03:04:00</td>\n      <td>1.69</td>\n      <td>1996-08-15</td>\n    </tr>\n    <tr>\n      <th>1996-08-15 14:25:36</th>\n      <td>45.232424</td>\n      <td>-118.530716</td>\n      <td>272240736</td>\n      <td>22:25:36</td>\n      <td>19960815</td>\n      <td>19960815</td>\n      <td>14:25:36</td>\n      <td>331</td>\n      <td>2</td>\n      <td>379850</td>\n      <td>5009918</td>\n      <td>96</td>\n      <td>12:56:00</td>\n      <td>03:04:00</td>\n      <td>1.53</td>\n      <td>1996-08-15</td>\n    </tr>\n  </tbody>\n</table>\n<p>4070414 rows × 16 columns</p>\n</div>"
     },
     "execution_count": 2,
     "metadata": {},
     "output_type": "execute_result"
    }
   ],
   "source": [
    "%%time\n",
    "\n",
    "segmented_traj = Statistics.segment_traj_by_days(starkey, num_days=15)\n",
    "segmented_traj"
   ],
   "metadata": {
    "collapsed": false,
    "pycharm": {
     "name": "#%%\n"
    }
   }
  },
  {
   "cell_type": "markdown",
   "source": [
    "# Step 3:\n",
    "\n",
    "Now, finally we generate stas for the segmented trajectories."
   ],
   "metadata": {
    "collapsed": false
   }
  },
  {
   "cell_type": "code",
   "execution_count": null,
   "outputs": [],
   "source": [
    "seg_stats = Statistics.generate_kinematic_stats(dataframe=segmented_traj,\n",
    "                                                target_col_name='Species',\n",
    "                                                segmented=True\n",
    "                                                )\n",
    "seg_stats"
   ],
   "metadata": {
    "collapsed": false,
    "pycharm": {
     "name": "#%%\n",
     "is_executing": true
    }
   }
  }
 ],
 "metadata": {
  "kernelspec": {
   "display_name": "Python 3",
   "language": "python",
   "name": "python3"
  },
  "language_info": {
   "codemirror_mode": {
    "name": "ipython",
    "version": 2
   },
   "file_extension": ".py",
   "mimetype": "text/x-python",
   "name": "python",
   "nbconvert_exporter": "python",
   "pygments_lexer": "ipython2",
   "version": "2.7.6"
  }
 },
 "nbformat": 4,
 "nbformat_minor": 0
}