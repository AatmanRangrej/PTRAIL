{
 "cells": [
  {
   "cell_type": "markdown",
   "source": [
    "# Step 1:\n",
    "\n",
    "First, we import pandas and PTRAIL packages to load the data into a PTRAILDataFrame so that\n",
    "the trajectories are indexed properly."
   ],
   "metadata": {
    "collapsed": false
   }
  },
  {
   "cell_type": "code",
   "execution_count": 1,
   "metadata": {
    "collapsed": true
   },
   "outputs": [],
   "source": [
    "import pandas as pd\n",
    "from ptrail.core.TrajectoryDF import PTRAILDataFrame\n",
    "from ptrail.core.Datasets import Datasets\n",
    "from ptrail.preprocessing.statistics import Statistics\n",
    "\n",
    "starkey = Datasets.load_starkey()"
   ]
  },
  {
   "cell_type": "markdown",
   "source": [
    "# Step 2:\n",
    "\n",
    "Now, we segment the trajectories by 15 days each segment."
   ],
   "metadata": {
    "collapsed": false
   }
  },
  {
   "cell_type": "code",
   "execution_count": 2,
   "outputs": [
    {
     "name": "stderr",
     "output_type": "stream",
     "text": [
      "/home/shaidri/Desktop/PT/venv/lib/python3.9/site-packages/pandas/core/ops/array_ops.py:73: FutureWarning: Comparison of Timestamp with datetime.date is deprecated in order to match the standard library behavior.  In a future version these will be considered non-comparable.Use 'ts == pd.Timestamp(date)' or 'ts.date() == date' instead.\n",
      "  result = libops.scalar_compare(x.ravel(), y, op)\n",
      "/home/shaidri/Desktop/PT/venv/lib/python3.9/site-packages/pandas/core/ops/array_ops.py:73: FutureWarning: Comparison of Timestamp with datetime.date is deprecated in order to match the standard library behavior.  In a future version these will be considered non-comparable.Use 'ts == pd.Timestamp(date)' or 'ts.date() == date' instead.\n",
      "  result = libops.scalar_compare(x.ravel(), y, op)\n",
      "/home/shaidri/Desktop/PT/venv/lib/python3.9/site-packages/pandas/core/ops/array_ops.py:73: FutureWarning: Comparison of Timestamp with datetime.date is deprecated in order to match the standard library behavior.  In a future version these will be considered non-comparable.Use 'ts == pd.Timestamp(date)' or 'ts.date() == date' instead.\n",
      "  result = libops.scalar_compare(x.ravel(), y, op)\n",
      "/home/shaidri/Desktop/PT/venv/lib/python3.9/site-packages/pandas/core/ops/array_ops.py:73: FutureWarning: Comparison of Timestamp with datetime.date is deprecated in order to match the standard library behavior.  In a future version these will be considered non-comparable.Use 'ts == pd.Timestamp(date)' or 'ts.date() == date' instead.\n",
      "  result = libops.scalar_compare(x.ravel(), y, op)\n",
      "/home/shaidri/Desktop/PT/venv/lib/python3.9/site-packages/pandas/core/ops/array_ops.py:73: FutureWarning: Comparison of Timestamp with datetime.date is deprecated in order to match the standard library behavior.  In a future version these will be considered non-comparable.Use 'ts == pd.Timestamp(date)' or 'ts.date() == date' instead.\n",
      "  result = libops.scalar_compare(x.ravel(), y, op)\n",
      "/home/shaidri/Desktop/PT/venv/lib/python3.9/site-packages/pandas/core/ops/array_ops.py:73: FutureWarning: Comparison of Timestamp with datetime.date is deprecated in order to match the standard library behavior.  In a future version these will be considered non-comparable.Use 'ts == pd.Timestamp(date)' or 'ts.date() == date' instead.\n",
      "  result = libops.scalar_compare(x.ravel(), y, op)\n",
      "/home/shaidri/Desktop/PT/venv/lib/python3.9/site-packages/pandas/core/ops/array_ops.py:73: FutureWarning: Comparison of Timestamp with datetime.date is deprecated in order to match the standard library behavior.  In a future version these will be considered non-comparable.Use 'ts == pd.Timestamp(date)' or 'ts.date() == date' instead.\n",
      "  result = libops.scalar_compare(x.ravel(), y, op)\n",
      "/home/shaidri/Desktop/PT/venv/lib/python3.9/site-packages/pandas/core/ops/array_ops.py:73: FutureWarning: Comparison of Timestamp with datetime.date is deprecated in order to match the standard library behavior.  In a future version these will be considered non-comparable.Use 'ts == pd.Timestamp(date)' or 'ts.date() == date' instead.\n",
      "  result = libops.scalar_compare(x.ravel(), y, op)\n",
      "/home/shaidri/Desktop/PT/venv/lib/python3.9/site-packages/pandas/core/ops/array_ops.py:73: FutureWarning: Comparison of Timestamp with datetime.date is deprecated in order to match the standard library behavior.  In a future version these will be considered non-comparable.Use 'ts == pd.Timestamp(date)' or 'ts.date() == date' instead.\n",
      "  result = libops.scalar_compare(x.ravel(), y, op)\n",
      "/home/shaidri/Desktop/PT/venv/lib/python3.9/site-packages/pandas/core/ops/array_ops.py:73: FutureWarning: Comparison of Timestamp with datetime.date is deprecated in order to match the standard library behavior.  In a future version these will be considered non-comparable.Use 'ts == pd.Timestamp(date)' or 'ts.date() == date' instead.\n",
      "  result = libops.scalar_compare(x.ravel(), y, op)\n",
      "/home/shaidri/Desktop/PT/venv/lib/python3.9/site-packages/pandas/core/ops/array_ops.py:73: FutureWarning: Comparison of Timestamp with datetime.date is deprecated in order to match the standard library behavior.  In a future version these will be considered non-comparable.Use 'ts == pd.Timestamp(date)' or 'ts.date() == date' instead.\n",
      "  result = libops.scalar_compare(x.ravel(), y, op)\n"
     ]
    },
    {
     "name": "stdout",
     "output_type": "stream",
     "text": [
      "CPU times: user 3.72 s, sys: 2.03 s, total: 5.76 s\n",
      "Wall time: 16.8 s\n"
     ]
    },
    {
     "data": {
      "text/plain": "                                            lat         lon  StarkeyTime  \\\ntraj_id   seg_id DateTime                                                  \n880119D02 1      1993-05-18 14:04:36  45.245158 -118.527618    169855476   \n                 1993-05-18 14:41:26  45.244873 -118.528757    169857686   \n                 1993-05-18 15:17:29  45.245148 -118.528382    169859849   \n                 1993-05-18 15:54:58  45.243803 -118.527964    169862098   \n                 1993-05-18 17:05:50  45.243814 -118.527199    169866350   \n...                                         ...         ...          ...   \nOSUX93110 3      1996-08-11 07:44:44  45.209428 -118.513672    271871084   \n                 1996-08-11 09:39:23  45.210278 -118.510638    271877963   \n                 1996-08-11 11:33:15  45.210232 -118.514075    271884795   \n                 1996-08-15 02:42:42  45.211393 -118.507993    272198562   \n                 1996-08-15 06:47:56  45.211673 -118.507236    272213276   \n\n                                        GMDate    GMTime   LocDate   LocTime  \\\ntraj_id   seg_id DateTime                                                      \n880119D02 1      1993-05-18 14:04:36  22:04:36  19930518  19930518  14:04:36   \n                 1993-05-18 14:41:26  22:41:26  19930518  19930518  14:41:26   \n                 1993-05-18 15:17:29  23:17:29  19930518  19930518  15:17:29   \n                 1993-05-18 15:54:58  23:54:58  19930518  19930518  15:54:58   \n                 1993-05-18 17:05:50  01:05:50  19930519  19930518  17:05:50   \n...                                        ...       ...       ...       ...   \nOSUX93110 3      1996-08-11 07:44:44  15:44:44  19960811  19960811  07:44:44   \n                 1996-08-11 09:39:23  17:39:23  19960811  19960811  09:39:23   \n                 1996-08-11 11:33:15  19:33:15  19960811  19960811  11:33:15   \n                 1996-08-15 02:42:42  10:42:42  19960815  19960815  02:42:42   \n                 1996-08-15 06:47:56  14:47:56  19960815  19960815  06:47:56   \n\n                                      RadNum  Species    UTME     UTMN  Year  \\\ntraj_id   seg_id DateTime                                                      \n880119D02 1      1993-05-18 14:04:36     187        0  380126  5011313    93   \n                 1993-05-18 14:41:26     187        0  380019  5011283    93   \n                 1993-05-18 15:17:29     187        0  380064  5011312    93   \n                 1993-05-18 15:54:58     187        0  380084  5011165    93   \n                 1993-05-18 17:05:50     187        0  380132  5011164    93   \n...                                      ...      ...     ...      ...   ...   \nOSUX93110 3      1996-08-11 07:44:44     175        2  381132  5007324    96   \n                 1996-08-11 09:39:23     175        2  381365  5007409    96   \n                 1996-08-11 11:33:15     175        2  381104  5007409    96   \n                 1996-08-15 02:42:42     175        2  381593  5007549    96   \n                 1996-08-15 06:47:56     175        2  381651  5007565    96   \n\n                                      Grensunr  Grensuns  Obswt        Date  \ntraj_id   seg_id DateTime                                                    \n880119D02 1      1993-05-18 14:04:36  12:21:00  03:23:00   1.39  1993-05-18  \n                 1993-05-18 14:41:26  12:21:00  03:23:00   1.39  1993-05-18  \n                 1993-05-18 15:17:29  12:21:00  03:23:00   1.39  1993-05-18  \n                 1993-05-18 15:54:58  12:21:00  03:23:00   1.39  1993-05-18  \n                 1993-05-18 17:05:50  12:20:00  03:24:00   1.39  1993-05-18  \n...                                        ...       ...    ...         ...  \nOSUX93110 3      1996-08-11 07:44:44  12:51:00  03:10:00   1.78  1996-08-11  \n                 1996-08-11 09:39:23  12:51:00  03:10:00   1.68  1996-08-11  \n                 1996-08-11 11:33:15  12:51:00  03:10:00   1.86  1996-08-11  \n                 1996-08-15 02:42:42  12:56:00  03:04:00   1.90  1996-08-15  \n                 1996-08-15 06:47:56  12:56:00  03:04:00   1.90  1996-08-15  \n\n[4070414 rows x 16 columns]",
      "text/html": "<div>\n<style scoped>\n    .dataframe tbody tr th:only-of-type {\n        vertical-align: middle;\n    }\n\n    .dataframe tbody tr th {\n        vertical-align: top;\n    }\n\n    .dataframe thead th {\n        text-align: right;\n    }\n</style>\n<table border=\"1\" class=\"dataframe\">\n  <thead>\n    <tr style=\"text-align: right;\">\n      <th></th>\n      <th></th>\n      <th></th>\n      <th>lat</th>\n      <th>lon</th>\n      <th>StarkeyTime</th>\n      <th>GMDate</th>\n      <th>GMTime</th>\n      <th>LocDate</th>\n      <th>LocTime</th>\n      <th>RadNum</th>\n      <th>Species</th>\n      <th>UTME</th>\n      <th>UTMN</th>\n      <th>Year</th>\n      <th>Grensunr</th>\n      <th>Grensuns</th>\n      <th>Obswt</th>\n      <th>Date</th>\n    </tr>\n    <tr>\n      <th>traj_id</th>\n      <th>seg_id</th>\n      <th>DateTime</th>\n      <th></th>\n      <th></th>\n      <th></th>\n      <th></th>\n      <th></th>\n      <th></th>\n      <th></th>\n      <th></th>\n      <th></th>\n      <th></th>\n      <th></th>\n      <th></th>\n      <th></th>\n      <th></th>\n      <th></th>\n      <th></th>\n    </tr>\n  </thead>\n  <tbody>\n    <tr>\n      <th rowspan=\"5\" valign=\"top\">880119D02</th>\n      <th rowspan=\"5\" valign=\"top\">1</th>\n      <th>1993-05-18 14:04:36</th>\n      <td>45.245158</td>\n      <td>-118.527618</td>\n      <td>169855476</td>\n      <td>22:04:36</td>\n      <td>19930518</td>\n      <td>19930518</td>\n      <td>14:04:36</td>\n      <td>187</td>\n      <td>0</td>\n      <td>380126</td>\n      <td>5011313</td>\n      <td>93</td>\n      <td>12:21:00</td>\n      <td>03:23:00</td>\n      <td>1.39</td>\n      <td>1993-05-18</td>\n    </tr>\n    <tr>\n      <th>1993-05-18 14:41:26</th>\n      <td>45.244873</td>\n      <td>-118.528757</td>\n      <td>169857686</td>\n      <td>22:41:26</td>\n      <td>19930518</td>\n      <td>19930518</td>\n      <td>14:41:26</td>\n      <td>187</td>\n      <td>0</td>\n      <td>380019</td>\n      <td>5011283</td>\n      <td>93</td>\n      <td>12:21:00</td>\n      <td>03:23:00</td>\n      <td>1.39</td>\n      <td>1993-05-18</td>\n    </tr>\n    <tr>\n      <th>1993-05-18 15:17:29</th>\n      <td>45.245148</td>\n      <td>-118.528382</td>\n      <td>169859849</td>\n      <td>23:17:29</td>\n      <td>19930518</td>\n      <td>19930518</td>\n      <td>15:17:29</td>\n      <td>187</td>\n      <td>0</td>\n      <td>380064</td>\n      <td>5011312</td>\n      <td>93</td>\n      <td>12:21:00</td>\n      <td>03:23:00</td>\n      <td>1.39</td>\n      <td>1993-05-18</td>\n    </tr>\n    <tr>\n      <th>1993-05-18 15:54:58</th>\n      <td>45.243803</td>\n      <td>-118.527964</td>\n      <td>169862098</td>\n      <td>23:54:58</td>\n      <td>19930518</td>\n      <td>19930518</td>\n      <td>15:54:58</td>\n      <td>187</td>\n      <td>0</td>\n      <td>380084</td>\n      <td>5011165</td>\n      <td>93</td>\n      <td>12:21:00</td>\n      <td>03:23:00</td>\n      <td>1.39</td>\n      <td>1993-05-18</td>\n    </tr>\n    <tr>\n      <th>1993-05-18 17:05:50</th>\n      <td>45.243814</td>\n      <td>-118.527199</td>\n      <td>169866350</td>\n      <td>01:05:50</td>\n      <td>19930519</td>\n      <td>19930518</td>\n      <td>17:05:50</td>\n      <td>187</td>\n      <td>0</td>\n      <td>380132</td>\n      <td>5011164</td>\n      <td>93</td>\n      <td>12:20:00</td>\n      <td>03:24:00</td>\n      <td>1.39</td>\n      <td>1993-05-18</td>\n    </tr>\n    <tr>\n      <th>...</th>\n      <th>...</th>\n      <th>...</th>\n      <td>...</td>\n      <td>...</td>\n      <td>...</td>\n      <td>...</td>\n      <td>...</td>\n      <td>...</td>\n      <td>...</td>\n      <td>...</td>\n      <td>...</td>\n      <td>...</td>\n      <td>...</td>\n      <td>...</td>\n      <td>...</td>\n      <td>...</td>\n      <td>...</td>\n      <td>...</td>\n    </tr>\n    <tr>\n      <th rowspan=\"5\" valign=\"top\">OSUX93110</th>\n      <th rowspan=\"5\" valign=\"top\">3</th>\n      <th>1996-08-11 07:44:44</th>\n      <td>45.209428</td>\n      <td>-118.513672</td>\n      <td>271871084</td>\n      <td>15:44:44</td>\n      <td>19960811</td>\n      <td>19960811</td>\n      <td>07:44:44</td>\n      <td>175</td>\n      <td>2</td>\n      <td>381132</td>\n      <td>5007324</td>\n      <td>96</td>\n      <td>12:51:00</td>\n      <td>03:10:00</td>\n      <td>1.78</td>\n      <td>1996-08-11</td>\n    </tr>\n    <tr>\n      <th>1996-08-11 09:39:23</th>\n      <td>45.210278</td>\n      <td>-118.510638</td>\n      <td>271877963</td>\n      <td>17:39:23</td>\n      <td>19960811</td>\n      <td>19960811</td>\n      <td>09:39:23</td>\n      <td>175</td>\n      <td>2</td>\n      <td>381365</td>\n      <td>5007409</td>\n      <td>96</td>\n      <td>12:51:00</td>\n      <td>03:10:00</td>\n      <td>1.68</td>\n      <td>1996-08-11</td>\n    </tr>\n    <tr>\n      <th>1996-08-11 11:33:15</th>\n      <td>45.210232</td>\n      <td>-118.514075</td>\n      <td>271884795</td>\n      <td>19:33:15</td>\n      <td>19960811</td>\n      <td>19960811</td>\n      <td>11:33:15</td>\n      <td>175</td>\n      <td>2</td>\n      <td>381104</td>\n      <td>5007409</td>\n      <td>96</td>\n      <td>12:51:00</td>\n      <td>03:10:00</td>\n      <td>1.86</td>\n      <td>1996-08-11</td>\n    </tr>\n    <tr>\n      <th>1996-08-15 02:42:42</th>\n      <td>45.211393</td>\n      <td>-118.507993</td>\n      <td>272198562</td>\n      <td>10:42:42</td>\n      <td>19960815</td>\n      <td>19960815</td>\n      <td>02:42:42</td>\n      <td>175</td>\n      <td>2</td>\n      <td>381593</td>\n      <td>5007549</td>\n      <td>96</td>\n      <td>12:56:00</td>\n      <td>03:04:00</td>\n      <td>1.90</td>\n      <td>1996-08-15</td>\n    </tr>\n    <tr>\n      <th>1996-08-15 06:47:56</th>\n      <td>45.211673</td>\n      <td>-118.507236</td>\n      <td>272213276</td>\n      <td>14:47:56</td>\n      <td>19960815</td>\n      <td>19960815</td>\n      <td>06:47:56</td>\n      <td>175</td>\n      <td>2</td>\n      <td>381651</td>\n      <td>5007565</td>\n      <td>96</td>\n      <td>12:56:00</td>\n      <td>03:04:00</td>\n      <td>1.90</td>\n      <td>1996-08-15</td>\n    </tr>\n  </tbody>\n</table>\n<p>4070414 rows × 16 columns</p>\n</div>"
     },
     "execution_count": 2,
     "metadata": {},
     "output_type": "execute_result"
    }
   ],
   "source": [
    "%%time\n",
    "\n",
    "segmented_traj = Statistics.segment_traj_by_days(starkey, num_days=15)\n",
    "segmented_traj"
   ],
   "metadata": {
    "collapsed": false,
    "pycharm": {
     "name": "#%%\n"
    }
   }
  },
  {
   "cell_type": "markdown",
   "source": [
    "# Step 3:\n",
    "\n",
    "Now, finally we generate stas for the segmented trajectories."
   ],
   "metadata": {
    "collapsed": false
   }
  },
  {
   "cell_type": "code",
   "execution_count": null,
   "outputs": [],
   "source": [
    "seg_stats = Statistics.generate_kinematic_stats(dataframe=segmented_traj,\n",
    "                                                target_col_name='Species',\n",
    "                                                segmented=True\n",
    "                                                )\n",
    "seg_stats"
   ],
   "metadata": {
    "collapsed": false,
    "pycharm": {
     "name": "#%%\n",
     "is_executing": true
    }
   }
  }
 ],
 "metadata": {
  "kernelspec": {
   "display_name": "Python 3",
   "language": "python",
   "name": "python3"
  },
  "language_info": {
   "codemirror_mode": {
    "name": "ipython",
    "version": 2
   },
   "file_extension": ".py",
   "mimetype": "text/x-python",
   "name": "python",
   "nbconvert_exporter": "python",
   "pygments_lexer": "ipython2",
   "version": "2.7.6"
  }
 },
 "nbformat": 4,
 "nbformat_minor": 0
}