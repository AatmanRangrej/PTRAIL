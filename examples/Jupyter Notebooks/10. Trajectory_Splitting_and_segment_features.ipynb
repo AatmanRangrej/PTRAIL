{
 "cells": [
  {
   "cell_type": "code",
   "execution_count": 1,
   "metadata": {
    "collapsed": true
   },
   "outputs": [],
   "source": [
    "import pandas as pd\n",
    "from ptrail.core.TrajectoryDF import PTRAILDataFrame\n",
    "from ptrail.features.kinematic_features import KinematicFeatures\n",
    "from ptrail.features.temporal_features import TemporalFeatures\n",
    "from ptrail.utilities.conversions import Conversions as con\n",
    "from ptrail.preprocessing.statistics import Statistics\n",
    "import ptrail.utilities.constants as const\n",
    "\n",
    "pdf = pd.read_csv('https://raw.githubusercontent.com/YakshHaranwala/PTRAIL/main/examples/data/starkey.csv')\n",
    "starkey = PTRAILDataFrame(data_set=pdf,\n",
    "                          latitude='lat',\n",
    "                          longitude='lon',\n",
    "                          datetime='DateTime',\n",
    "                          traj_id='Id')"
   ]
  },
  {
   "cell_type": "code",
   "execution_count": 9,
   "outputs": [
    {
     "name": "stdout",
     "output_type": "stream",
     "text": [
      "CPU times: user 12.5 s, sys: 5.85 s, total: 18.4 s\n",
      "Wall time: 45.9 s\n"
     ]
    },
    {
     "data": {
      "text/plain": "                                            lat         lon  StarkeyTime  \\\ntraj_id   seg_id DateTime                                                  \n910313E37 1      1993-05-06 17:04:47  45.218440 -118.566257    168829487   \n                 1993-05-06 17:21:12  45.218985 -118.565890    168826332   \n                 1993-05-06 17:27:53  45.219536 -118.565141    168830873   \n                 1993-05-06 17:51:48  45.219260 -118.565516    168832308   \n                 1993-05-06 18:40:04  45.220128 -118.561336    168835204   \n...                                         ...         ...          ...   \n950227D02 1      1996-08-15 00:00:15  45.226084 -118.579842    272188815   \n                 1996-08-15 02:13:40  45.229054 -118.579925    272196820   \n                 1996-08-15 08:16:30  45.224994 -118.580577    272218590   \n                 1996-08-15 12:02:23  45.225989 -118.586718    272232143   \n                 1996-08-15 13:57:05  45.225989 -118.586718    272239025   \n\n                                        GMDate    GMTime   LocDate   LocTime  \\\ntraj_id   seg_id DateTime                                                      \n910313E37 1      1993-05-06 17:04:47  01:04:47  19930507  19930506  17:04:47   \n                 1993-05-06 17:21:12  01:21:12  19930507  19930506  17:21:12   \n                 1993-05-06 17:27:53  01:27:53  19930507  19930506  17:27:53   \n                 1993-05-06 17:51:48  01:51:48  19930507  19930506  17:51:48   \n                 1993-05-06 18:40:04  02:40:04  19930507  19930506  18:40:04   \n...                                        ...       ...       ...       ...   \n950227D02 1      1996-08-15 00:00:15  08:00:15  19960815  19960815  00:00:15   \n                 1996-08-15 02:13:40  10:13:40  19960815  19960815  02:13:40   \n                 1996-08-15 08:16:30  16:16:30  19960815  19960815  08:16:30   \n                 1996-08-15 12:02:23  20:02:23  19960815  19960815  12:02:23   \n                 1996-08-15 13:57:05  21:57:05  19960815  19960815  13:57:05   \n\n                                      RadNum Species    UTME     UTMN  Year  \\\ntraj_id   seg_id DateTime                                                     \n910313E37 1      1993-05-06 17:04:47      67       E  377026  5008419    93   \n                 1993-05-06 17:21:12      67       E  377053  5008474    93   \n                 1993-05-06 17:27:53      67       E  377108  5008516    93   \n                 1993-05-06 17:51:48      67       E  377083  5008494    93   \n                 1993-05-06 18:40:04      67       E  377406  5008591    93   \n...                                      ...     ...     ...      ...   ...   \n950227D02 1      1996-08-15 00:00:15     417       D  375977  5009277    96   \n                 1996-08-15 02:13:40     417       D  375977  5009615    96   \n                 1996-08-15 08:16:30     417       D  375914  5009153    96   \n                 1996-08-15 12:02:23     417       D  375444  5009292    96   \n                 1996-08-15 13:57:05     417       D  375424  5009273    96   \n\n                                      Grensunr  Grensuns  Obswt        Date  \ntraj_id   seg_id DateTime                                                    \n910313E37 1      1993-05-06 17:04:47  12:34:00  03:10:00   1.67  1993-05-06  \n                 1993-05-06 17:21:12  12:34:00  03:10:00   1.73  1993-05-06  \n                 1993-05-06 17:27:53  12:34:00  03:10:00   1.73  1993-05-06  \n                 1993-05-06 17:51:48  12:34:00  03:10:00   1.73  1993-05-06  \n                 1993-05-06 18:40:04  12:34:00  03:10:00   1.46  1993-05-06  \n...                                        ...       ...    ...         ...  \n950227D02 1      1996-08-15 00:00:15  12:56:00  03:04:00   1.52  1996-08-15  \n                 1996-08-15 02:13:40  12:56:00  03:04:00   1.64  1996-08-15  \n                 1996-08-15 08:16:30  12:56:00  03:04:00   1.53  1996-08-15  \n                 1996-08-15 12:02:23  12:56:00  03:04:00   1.44  1996-08-15  \n                 1996-08-15 13:57:05  12:56:00  03:04:00   1.44  1996-08-15  \n\n[8573445 rows x 16 columns]",
      "text/html": "<div>\n<style scoped>\n    .dataframe tbody tr th:only-of-type {\n        vertical-align: middle;\n    }\n\n    .dataframe tbody tr th {\n        vertical-align: top;\n    }\n\n    .dataframe thead th {\n        text-align: right;\n    }\n</style>\n<table border=\"1\" class=\"dataframe\">\n  <thead>\n    <tr style=\"text-align: right;\">\n      <th></th>\n      <th></th>\n      <th></th>\n      <th>lat</th>\n      <th>lon</th>\n      <th>StarkeyTime</th>\n      <th>GMDate</th>\n      <th>GMTime</th>\n      <th>LocDate</th>\n      <th>LocTime</th>\n      <th>RadNum</th>\n      <th>Species</th>\n      <th>UTME</th>\n      <th>UTMN</th>\n      <th>Year</th>\n      <th>Grensunr</th>\n      <th>Grensuns</th>\n      <th>Obswt</th>\n      <th>Date</th>\n    </tr>\n    <tr>\n      <th>traj_id</th>\n      <th>seg_id</th>\n      <th>DateTime</th>\n      <th></th>\n      <th></th>\n      <th></th>\n      <th></th>\n      <th></th>\n      <th></th>\n      <th></th>\n      <th></th>\n      <th></th>\n      <th></th>\n      <th></th>\n      <th></th>\n      <th></th>\n      <th></th>\n      <th></th>\n      <th></th>\n    </tr>\n  </thead>\n  <tbody>\n    <tr>\n      <th rowspan=\"5\" valign=\"top\">910313E37</th>\n      <th rowspan=\"5\" valign=\"top\">1</th>\n      <th>1993-05-06 17:04:47</th>\n      <td>45.218440</td>\n      <td>-118.566257</td>\n      <td>168829487</td>\n      <td>01:04:47</td>\n      <td>19930507</td>\n      <td>19930506</td>\n      <td>17:04:47</td>\n      <td>67</td>\n      <td>E</td>\n      <td>377026</td>\n      <td>5008419</td>\n      <td>93</td>\n      <td>12:34:00</td>\n      <td>03:10:00</td>\n      <td>1.67</td>\n      <td>1993-05-06</td>\n    </tr>\n    <tr>\n      <th>1993-05-06 17:21:12</th>\n      <td>45.218985</td>\n      <td>-118.565890</td>\n      <td>168826332</td>\n      <td>01:21:12</td>\n      <td>19930507</td>\n      <td>19930506</td>\n      <td>17:21:12</td>\n      <td>67</td>\n      <td>E</td>\n      <td>377053</td>\n      <td>5008474</td>\n      <td>93</td>\n      <td>12:34:00</td>\n      <td>03:10:00</td>\n      <td>1.73</td>\n      <td>1993-05-06</td>\n    </tr>\n    <tr>\n      <th>1993-05-06 17:27:53</th>\n      <td>45.219536</td>\n      <td>-118.565141</td>\n      <td>168830873</td>\n      <td>01:27:53</td>\n      <td>19930507</td>\n      <td>19930506</td>\n      <td>17:27:53</td>\n      <td>67</td>\n      <td>E</td>\n      <td>377108</td>\n      <td>5008516</td>\n      <td>93</td>\n      <td>12:34:00</td>\n      <td>03:10:00</td>\n      <td>1.73</td>\n      <td>1993-05-06</td>\n    </tr>\n    <tr>\n      <th>1993-05-06 17:51:48</th>\n      <td>45.219260</td>\n      <td>-118.565516</td>\n      <td>168832308</td>\n      <td>01:51:48</td>\n      <td>19930507</td>\n      <td>19930506</td>\n      <td>17:51:48</td>\n      <td>67</td>\n      <td>E</td>\n      <td>377083</td>\n      <td>5008494</td>\n      <td>93</td>\n      <td>12:34:00</td>\n      <td>03:10:00</td>\n      <td>1.73</td>\n      <td>1993-05-06</td>\n    </tr>\n    <tr>\n      <th>1993-05-06 18:40:04</th>\n      <td>45.220128</td>\n      <td>-118.561336</td>\n      <td>168835204</td>\n      <td>02:40:04</td>\n      <td>19930507</td>\n      <td>19930506</td>\n      <td>18:40:04</td>\n      <td>67</td>\n      <td>E</td>\n      <td>377406</td>\n      <td>5008591</td>\n      <td>93</td>\n      <td>12:34:00</td>\n      <td>03:10:00</td>\n      <td>1.46</td>\n      <td>1993-05-06</td>\n    </tr>\n    <tr>\n      <th>...</th>\n      <th>...</th>\n      <th>...</th>\n      <td>...</td>\n      <td>...</td>\n      <td>...</td>\n      <td>...</td>\n      <td>...</td>\n      <td>...</td>\n      <td>...</td>\n      <td>...</td>\n      <td>...</td>\n      <td>...</td>\n      <td>...</td>\n      <td>...</td>\n      <td>...</td>\n      <td>...</td>\n      <td>...</td>\n      <td>...</td>\n    </tr>\n    <tr>\n      <th rowspan=\"5\" valign=\"top\">950227D02</th>\n      <th rowspan=\"5\" valign=\"top\">1</th>\n      <th>1996-08-15 00:00:15</th>\n      <td>45.226084</td>\n      <td>-118.579842</td>\n      <td>272188815</td>\n      <td>08:00:15</td>\n      <td>19960815</td>\n      <td>19960815</td>\n      <td>00:00:15</td>\n      <td>417</td>\n      <td>D</td>\n      <td>375977</td>\n      <td>5009277</td>\n      <td>96</td>\n      <td>12:56:00</td>\n      <td>03:04:00</td>\n      <td>1.52</td>\n      <td>1996-08-15</td>\n    </tr>\n    <tr>\n      <th>1996-08-15 02:13:40</th>\n      <td>45.229054</td>\n      <td>-118.579925</td>\n      <td>272196820</td>\n      <td>10:13:40</td>\n      <td>19960815</td>\n      <td>19960815</td>\n      <td>02:13:40</td>\n      <td>417</td>\n      <td>D</td>\n      <td>375977</td>\n      <td>5009615</td>\n      <td>96</td>\n      <td>12:56:00</td>\n      <td>03:04:00</td>\n      <td>1.64</td>\n      <td>1996-08-15</td>\n    </tr>\n    <tr>\n      <th>1996-08-15 08:16:30</th>\n      <td>45.224994</td>\n      <td>-118.580577</td>\n      <td>272218590</td>\n      <td>16:16:30</td>\n      <td>19960815</td>\n      <td>19960815</td>\n      <td>08:16:30</td>\n      <td>417</td>\n      <td>D</td>\n      <td>375914</td>\n      <td>5009153</td>\n      <td>96</td>\n      <td>12:56:00</td>\n      <td>03:04:00</td>\n      <td>1.53</td>\n      <td>1996-08-15</td>\n    </tr>\n    <tr>\n      <th>1996-08-15 12:02:23</th>\n      <td>45.225989</td>\n      <td>-118.586718</td>\n      <td>272232143</td>\n      <td>20:02:23</td>\n      <td>19960815</td>\n      <td>19960815</td>\n      <td>12:02:23</td>\n      <td>417</td>\n      <td>D</td>\n      <td>375444</td>\n      <td>5009292</td>\n      <td>96</td>\n      <td>12:56:00</td>\n      <td>03:04:00</td>\n      <td>1.44</td>\n      <td>1996-08-15</td>\n    </tr>\n    <tr>\n      <th>1996-08-15 13:57:05</th>\n      <td>45.225989</td>\n      <td>-118.586718</td>\n      <td>272239025</td>\n      <td>21:57:05</td>\n      <td>19960815</td>\n      <td>19960815</td>\n      <td>13:57:05</td>\n      <td>417</td>\n      <td>D</td>\n      <td>375424</td>\n      <td>5009273</td>\n      <td>96</td>\n      <td>12:56:00</td>\n      <td>03:04:00</td>\n      <td>1.44</td>\n      <td>1996-08-15</td>\n    </tr>\n  </tbody>\n</table>\n<p>8573445 rows × 16 columns</p>\n</div>"
     },
     "execution_count": 9,
     "metadata": {},
     "output_type": "execute_result"
    }
   ],
   "source": [
    "%%time\n",
    "\n",
    "seg = Statistics.segment_traj_by_week(starkey)\n",
    "seg"
   ],
   "metadata": {
    "collapsed": false,
    "pycharm": {
     "name": "#%%\n"
    }
   }
  },
  {
   "cell_type": "code",
   "execution_count": 8,
   "outputs": [],
   "source": [],
   "metadata": {
    "collapsed": false,
    "pycharm": {
     "name": "#%%\n"
    }
   }
  }
 ],
 "metadata": {
  "kernelspec": {
   "display_name": "Python 3",
   "language": "python",
   "name": "python3"
  },
  "language_info": {
   "codemirror_mode": {
    "name": "ipython",
    "version": 2
   },
   "file_extension": ".py",
   "mimetype": "text/x-python",
   "name": "python",
   "nbconvert_exporter": "python",
   "pygments_lexer": "ipython2",
   "version": "2.7.6"
  }
 },
 "nbformat": 4,
 "nbformat_minor": 0
}