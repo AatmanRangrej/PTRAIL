{
 "cells": [
  {
   "cell_type": "code",
   "execution_count": 1,
   "metadata": {
    "collapsed": true
   },
   "outputs": [],
   "source": [
    "import pandas as pd\n",
    "from ptrail.core.TrajectoryDF import PTRAILDataFrame\n",
    "from ptrail.preprocessing.filters import Filters as filters\n",
    "from ptrail.features.kinematic_features import KinematicFeatures\n",
    "from ptrail.features.temporal_features import TemporalFeatures\n",
    "from ptrail.preprocessing.interpolation import Interpolation\n",
    "from ptrail.utilities.conversions import Conversions as con\n",
    "import ptrail.utilities.constants as const\n",
    "import datetime as dt\n",
    "\n",
    "# Reading the gulls dataset and converting to PTRAILDataFrame.\n",
    "# Also, lets, print the first 5 points of the dataset to\n",
    "# see how the dataframe looks.\n",
    "gulls = pd.read_csv('https://raw.githubusercontent.com/YakshHaranwala/PTRAIL/main/examples/data/gulls.csv')\n",
    "gulls = PTRAILDataFrame(gulls,\n",
    "                        latitude='location-lat',\n",
    "                        longitude='location-long',\n",
    "                        datetime='timestamp',\n",
    "                        traj_id='tag-local-identifier',\n",
    "                        rest_of_columns=[])"
   ]
  },
  {
   "cell_type": "code",
   "execution_count": 2,
   "outputs": [],
   "source": [
    "pdf = pd.read_csv('https://raw.githubusercontent.com/YakshHaranwala/PTRAIL/main/examples/data/geolife_sample.csv')\n",
    "geolife = PTRAILDataFrame(data_set=pdf,\n",
    "                             latitude='lat',\n",
    "                             longitude='lon',\n",
    "                             datetime='datetime',\n",
    "                             traj_id='id')\n"
   ],
   "metadata": {
    "collapsed": false,
    "pycharm": {
     "name": "#%%\n"
    }
   }
  },
  {
   "cell_type": "code",
   "execution_count": 3,
   "outputs": [],
   "source": [
    "atlantic = pd.read_csv('https://raw.githubusercontent.com/YakshHaranwala/PTRAIL/main/examples/data/atlantic.csv')\n",
    "atlantic = con.convert_directions_to_degree_lat_lon(atlantic, 'Latitude',\"Longitude\")\n",
    "def convert_to_datetime(row):\n",
    "        this_date = '{}-{}-{}'.format(str(row['Date'])[0:4], str(row['Date'])[4:6], str(row['Date'])[6:])\n",
    "        this_time = '{:02d}:{:02d}:00'.format(int(row['Time']/100), int(str(row['Time'])[-2:]))\n",
    "        return '{} {}'.format(this_date, this_time)\n",
    "atlantic['DateTime'] = atlantic.apply(convert_to_datetime, axis=1)\n",
    "atlantic = PTRAILDataFrame(atlantic,\n",
    "                          latitude='Latitude',\n",
    "                          longitude='Longitude',\n",
    "                          datetime='DateTime',\n",
    "                          traj_id='ID',\n",
    "                          rest_of_columns=[])\n",
    "atlantic = TemporalFeatures.create_date_column(atlantic)"
   ],
   "metadata": {
    "collapsed": false,
    "pycharm": {
     "name": "#%%\n"
    }
   }
  },
  {
   "cell_type": "code",
   "execution_count": 4,
   "outputs": [],
   "source": [
    "pdf = pd.read_csv('https://raw.githubusercontent.com/YakshHaranwala/PTRAIL/main/examples/data/starkey.csv')\n",
    "starkey = PTRAILDataFrame(data_set=pdf,\n",
    "                          latitude='lat',\n",
    "                          longitude='lon',\n",
    "                          datetime='DateTime',\n",
    "                          traj_id='Id')"
   ],
   "metadata": {
    "collapsed": false,
    "pycharm": {
     "name": "#%%\n"
    }
   }
  },
  {
   "cell_type": "code",
   "execution_count": 5,
   "outputs": [],
   "source": [
    "t1 = gulls.reset_index().loc[gulls.reset_index()[const.TRAJECTORY_ID] == '91732'][[const.TRAJECTORY_ID, const.DateTime, const.LAT, const.LONG]]\n",
    "t1 = PTRAILDataFrame(data_set=t1,\n",
    "                     datetime='DateTime',\n",
    "                     traj_id='traj_id',\n",
    "                     latitude='lat',\n",
    "                     longitude='lon')"
   ],
   "metadata": {
    "collapsed": false,
    "pycharm": {
     "name": "#%%\n"
    }
   }
  },
  {
   "cell_type": "code",
   "execution_count": 6,
   "outputs": [],
   "source": [
    "def segment_traj_by_week(df):\n",
    "    \"\"\"\n",
    "        Given a dataframe containing trajectory data, segment all\n",
    "        the trajectories by each week.\n",
    "\n",
    "        Parameters\n",
    "        ----------\n",
    "            df: PTRAILDataFrame\n",
    "                The dataframe containing trajectory data.\n",
    "\n",
    "        Returns\n",
    "        -------\n",
    "            pandas.core.dataframe.DataFrame:\n",
    "                The dataframe containing segmented trajectories\n",
    "                with a new column added called segment_id\n",
    "    \"\"\"\n",
    "    # First, create the date column and get all the unique traj_ids\n",
    "    # in the dataframe..\n",
    "    df = TemporalFeatures.create_date_column(df)\n",
    "    ids_ = list(df.traj_id.value_counts().keys())\n",
    "\n",
    "    # Get the ideal number of IDs by which the dataframe is to be split.\n",
    "    df_chunks = []\n",
    "    for i in range(len(ids_)):\n",
    "        small_df = df.reset_index().loc[df.reset_index()[const.TRAJECTORY_ID] == ids_[i]]\n",
    "        df_chunks.append(small_df)\n",
    "\n",
    "    # Now, iterate over the entire dataframe and then segment\n",
    "    # the trajectories by 1 week each.\n",
    "    results = []\n",
    "    for i in range(len(ids_)):\n",
    "        # Take the traj_df of a single Trajectory out from the\n",
    "        # list of chunks and find their max and min timestamps.\n",
    "        traj = df_chunks[i]\n",
    "        t_max = traj.reset_index()[const.DateTime].max()\n",
    "        t_min = traj.reset_index()[const.DateTime].min()\n",
    "\n",
    "        # For iteration purposes, set t_1 to min and t_2 to\n",
    "        # t_1 + 7 days.\n",
    "        t_1 = t_min\n",
    "        t_2 = t_1 + dt.timedelta(days=7)\n",
    "        seg_id = 1\n",
    "\n",
    "        # Now, segment the trajectories into smaller segments\n",
    "        # wherein each segment contains the points of a span\n",
    "        # of 7 days only.\n",
    "        while t_2 < t_max:\n",
    "            if t_2 < t_max:\n",
    "                seg = filters.filter_by_date(traj,\n",
    "                                             start_date=t_1.strftime('%Y-%m-%d'),\n",
    "                                             end_date=t_2.strftime('%Y-%m-%d'))\n",
    "                # Once filtered, assign the segment with a segment ID.\n",
    "                seg['seg_id'] = seg_id\n",
    "\n",
    "                # Increment the segment id, t_1 and t_2 values by\n",
    "                # 1, 7 days and 7 days respectively to continue\n",
    "                # the iteration.\n",
    "                t_1 += dt.timedelta(days=7)\n",
    "                t_2 += dt.timedelta(days=7)\n",
    "                results.append(seg.drop(columns=['index', 'level_0']))\n",
    "\n",
    "            # If, t_2 is greater than the max time present in the\n",
    "            # trajectory, then assign t_2 = max and proceed\n",
    "            # further with segmentation.\n",
    "            elif t_2 >= t_max:\n",
    "                seg = filters.filter_by_date(traj,\n",
    "                                             start_date=t_1.strftime('%Y-%m-%d'),\n",
    "                                             end_date=t_max.strftime('%Y-%m-%d'))\n",
    "                # Once filtered, assign the segment with a segment ID.\n",
    "                seg['seg_id'] = seg_id\n",
    "\n",
    "                # Increment the segment id, t_1 and t_2 values by\n",
    "                # 1, 7 days and 7 days respectively to continue\n",
    "                # the iteration.\n",
    "                t_1 += dt.timedelta(days=7)\n",
    "                t_2 += dt.timedelta(days=7)\n",
    "                results.append(seg.drop(columns=['index', 'level_0']))\n",
    "            seg_id += 1\n",
    "\n",
    "    # Finally, concat the dataframes, set the index as\n",
    "    # [traj_id, seg_id, DateTime].\n",
    "    return pd.concat(results).reset_index().set_index(['traj_id', 'seg_id', 'DateTime'])"
   ],
   "metadata": {
    "collapsed": false,
    "pycharm": {
     "name": "#%%\n"
    }
   }
  },
  {
   "cell_type": "code",
   "execution_count": 7,
   "outputs": [
    {
     "name": "stdout",
     "output_type": "stream",
     "text": [
      "CPU times: user 3min 44s, sys: 416 ms, total: 3min 44s\n",
      "Wall time: 3min 44s\n"
     ]
    }
   ],
   "source": [
    "%%time\n",
    "\n",
    "seg = segment_traj_by_week(starkey)"
   ],
   "metadata": {
    "collapsed": false,
    "pycharm": {
     "name": "#%%\n"
    }
   }
  },
  {
   "cell_type": "code",
   "execution_count": 8,
   "outputs": [
    {
     "name": "stdout",
     "output_type": "stream",
     "text": [
      "287136\n"
     ]
    }
   ],
   "source": [
    "print(len(starkey))"
   ],
   "metadata": {
    "collapsed": false,
    "pycharm": {
     "name": "#%%\n"
    }
   }
  },
  {
   "cell_type": "code",
   "execution_count": 9,
   "outputs": [
    {
     "name": "stdout",
     "output_type": "stream",
     "text": [
      "4976\n",
      "CPU times: user 53.4 s, sys: 7.59 ms, total: 53.4 s\n",
      "Wall time: 53.5 s\n"
     ]
    }
   ],
   "source": [
    "%%time\n",
    "\n",
    "# Now, generating the stats of kinematic features for\n",
    "# all the segments of the trajectories.\n",
    "\n",
    "# First, splitting the dataframe into several parts\n",
    "# wherein each part has a segment of the trajectory only.\n",
    "ids_ = list(seg.reset_index()['traj_id'].value_counts().keys())\n",
    "\n",
    "df_chunks = []\n",
    "for i in range(len(ids_)):\n",
    "    small_df = seg.reset_index().loc[seg.reset_index()[const.TRAJECTORY_ID] == ids_[i]]\n",
    "    df_chunks.append(small_df)\n",
    "\n",
    "final_chunks = []\n",
    "for i in range(len(ids_)):\n",
    "    seg_ids = list(df_chunks[i]['seg_id'].value_counts().keys())\n",
    "    for j in range(len(seg_ids)):\n",
    "        mini_df = df_chunks[i].loc[df_chunks[i]['seg_id'] == seg_ids[j]]\n",
    "        final_chunks.append(mini_df)\n",
    "\n",
    "print(len(final_chunks))"
   ],
   "metadata": {
    "collapsed": false,
    "pycharm": {
     "name": "#%%\n"
    }
   }
  },
  {
   "cell_type": "code",
   "execution_count": 10,
   "outputs": [],
   "source": [
    "def segment_features(df):\n",
    "    \"\"\"\n",
    "        Generate all the kinematic features on the smaller segments.\n",
    "\n",
    "        Parameters\n",
    "        ----------\n",
    "            df: PTRAILDataFrame/pd.DataFrame\n",
    "                The dataframe containing the trajectory segment.\n",
    "\n",
    "        Returns\n",
    "        -------\n",
    "            pd.core.dataframe.DataFrame:\n",
    "                The dataframe containing the segment kinematic\n",
    "                feature stats.\n",
    "    \"\"\"\n",
    "    seg_id = final_chunks[i]['seg_id'].iloc[0]\n",
    "    stat_df = KinematicFeatures.generate_kinematic_stats(df)\n",
    "    stat_df['seg_id'] = seg_id\n",
    "    stat_df = stat_df.reset_index().set_index(['traj_id', 'seg_id', 'Columns'])\n",
    "\n",
    "    return stat_df"
   ],
   "metadata": {
    "collapsed": false,
    "pycharm": {
     "name": "#%%\n"
    }
   }
  },
  {
   "cell_type": "code",
   "execution_count": 11,
   "outputs": [
    {
     "name": "stderr",
     "output_type": "stream",
     "text": [
      "| |                                  #             | 4975 Elapsed Time: 0:23:08"
     ]
    },
    {
     "name": "stdout",
     "output_type": "stream",
     "text": [
      "CPU times: user 11min 48s, sys: 7min 19s, total: 19min 7s\n",
      "Wall time: 23min 10s\n"
     ]
    }
   ],
   "source": [
    "%%time\n",
    "# Now, generating kinematic features and their stats on each of\n",
    "# the dataframe here.\n",
    "import progressbar\n",
    "\n",
    "final_results = []\n",
    "bar = progressbar.ProgressBar(max_value=progressbar.UnknownLength)\n",
    "for i in range(len(final_chunks)):\n",
    "    final_results.append(segment_features(final_chunks[i]))\n",
    "    bar.update(i)\n",
    "\n",
    "final_answer = pd.concat(final_results)"
   ],
   "metadata": {
    "collapsed": false,
    "pycharm": {
     "name": "#%%\n"
    }
   }
  },
  {
   "cell_type": "code",
   "execution_count": 12,
   "outputs": [
    {
     "data": {
      "text/plain": "                                               mean           std         min  \\\ntraj_id   seg_id Columns                                                        \n910313E37 1      Distance              1.709843e+02  2.741726e+02    0.000000   \n                 Distance_from_start   3.145115e+03  1.134059e+03   67.090679   \n                 Speed                 1.282633e-01  3.343164e-01    0.000000   \n                 Acceleration          5.894095e-05  5.653138e-04   -0.001597   \n                 Jerk                  1.785475e-07  1.896180e-06   -0.000006   \n                 Bearing               1.704456e+02  1.070074e+02    0.000000   \n                 Bearing_Rate         -3.246468e-03  1.582499e-01   -0.845313   \n                 Rate_of_bearing_rate -3.246468e-03  1.582499e-01   -0.845313   \n          3      Distance              2.133147e+02  3.626186e+02    0.000000   \n                 Distance_from_start   2.246943e+03  1.040147e+03  108.142513   \n                 Speed                 1.442296e-01  4.927638e-01    0.000000   \n                 Acceleration          6.533882e-04  7.686860e-03   -0.002575   \n                 Jerk                  1.582286e-05  2.216047e-04   -0.000060   \n                 Bearing               1.824146e+02  1.059418e+02    0.000000   \n                 Bearing_Rate         -2.681183e-02  4.021768e-01   -6.036678   \n                 Rate_of_bearing_rate -2.681183e-02  4.021768e-01   -6.036678   \n          6      Distance              2.182084e+02  3.216624e+02    0.000000   \n                 Distance_from_start   1.537511e+03  8.374627e+02   89.766532   \n                 Speed                 9.241706e-02  2.667963e-01    0.000000   \n                 Acceleration          4.577331e-05  5.668969e-04   -0.000703   \n                 Jerk                  1.178590e-07  1.371983e-06   -0.000002   \n                 Bearing               1.697428e+02  1.020041e+02    0.000000   \n                 Bearing_Rate         -9.533754e-04  8.757836e-02   -0.586953   \n                 Rate_of_bearing_rate -9.533754e-04  8.757836e-02   -0.586953   \n          4      Distance              1.045948e+02  7.927141e+01    0.000000   \n                 Distance_from_start   1.957693e+02  1.596711e+02    0.000000   \n                 Speed                 5.233723e-02  5.479076e-02    0.000000   \n                 Acceleration          3.169289e-05  4.241867e-04   -0.000153   \n                 Jerk                  3.620824e-07  5.228997e-06   -0.000002   \n                 Bearing               1.701980e+02  1.056060e+02    0.000000   \n                 Bearing_Rate          1.149797e-02  1.903723e-01   -0.188564   \n                 Rate_of_bearing_rate  1.149797e-02  1.903723e-01   -0.188564   \n          2      Distance              2.724507e+02  4.480825e+02    0.000000   \n                 Distance_from_start   1.557462e+03  1.139460e+03   42.384583   \n                 Speed                 1.789963e-01  4.595826e-01    0.000000   \n                 Acceleration          4.468955e-05  4.477531e-04   -0.001025   \n                 Jerk                  3.670608e-08  7.275207e-07   -0.000004   \n                 Bearing               1.672029e+02  1.102381e+02    0.000000   \n                 Bearing_Rate         -2.143388e-03  8.503347e-02   -0.292818   \n                 Rate_of_bearing_rate -2.143388e-03  8.503347e-02   -0.292818   \n\n                                                10%           25%  \\\ntraj_id   seg_id Columns                                            \n910313E37 1      Distance              2.992242e+01  4.239008e+01   \n                 Distance_from_start   1.306805e+03  2.670747e+03   \n                 Speed                 1.679873e-02  2.441513e-02   \n                 Acceleration         -6.218602e-05 -1.880435e-05   \n                 Jerk                 -5.969154e-08 -1.442411e-08   \n                 Bearing               3.250344e+01  7.754472e+01   \n                 Bearing_Rate         -1.282694e-01 -6.152395e-02   \n                 Rate_of_bearing_rate -1.282694e-01 -6.152395e-02   \n          3      Distance              2.992231e+01  5.984461e+01   \n                 Distance_from_start   1.214260e+03  1.500664e+03   \n                 Speed                 1.310313e-02  2.256313e-02   \n                 Acceleration         -4.025243e-05 -1.541853e-05   \n                 Jerk                 -3.013884e-08 -9.222810e-09   \n                 Bearing               4.663371e+01  8.888756e+01   \n                 Bearing_Rate         -8.801957e-02 -4.608877e-02   \n                 Rate_of_bearing_rate -8.801957e-02 -4.608877e-02   \n          6      Distance              3.002221e+01  6.695467e+01   \n                 Distance_from_start   4.033312e+02  1.022323e+03   \n                 Speed                 1.388098e-02  2.168611e-02   \n                 Acceleration         -3.141556e-05 -1.105760e-05   \n                 Jerk                 -2.459169e-08 -5.989827e-09   \n                 Bearing               3.691405e+01  8.224481e+01   \n                 Bearing_Rate         -9.536507e-02 -3.828994e-02   \n                 Rate_of_bearing_rate -9.536507e-02 -3.828994e-02   \n          4      Distance              2.992231e+01  4.238993e+01   \n                 Distance_from_start   4.238994e+01  9.006655e+01   \n                 Speed                 1.316200e-02  2.057325e-02   \n                 Acceleration         -2.395619e-05 -1.027471e-05   \n                 Jerk                 -2.216031e-08 -8.147553e-09   \n                 Bearing               4.379614e+01  7.480888e+01   \n                 Bearing_Rate         -1.028118e-01 -7.290548e-02   \n                 Rate_of_bearing_rate -1.028118e-01 -7.290548e-02   \n          2      Distance              3.002236e+01  6.695666e+01   \n                 Distance_from_start   4.783552e+02  7.358117e+02   \n                 Speed                 1.367106e-02  2.605766e-02   \n                 Acceleration         -5.618403e-05 -2.051521e-05   \n                 Jerk                 -5.368810e-08 -7.209026e-09   \n                 Bearing               2.763108e+01  6.225795e+01   \n                 Bearing_Rate         -9.859419e-02 -4.544211e-02   \n                 Rate_of_bearing_rate -9.859419e-02 -4.544211e-02   \n\n                                                50%           75%  \\\ntraj_id   seg_id Columns                                            \n910313E37 1      Distance              9.465811e+01  1.820309e+02   \n                 Distance_from_start   3.462603e+03  3.779523e+03   \n                 Speed                 5.059941e-02  1.027442e-01   \n                 Acceleration          3.038938e-07  2.347378e-05   \n                 Jerk                  5.252046e-09  2.785344e-08   \n                 Bearing               1.789034e+02  2.593982e+02   \n                 Bearing_Rate          7.113328e-08  7.041098e-02   \n                 Rate_of_bearing_rate  7.113328e-08  7.041098e-02   \n          3      Distance              1.198888e+02  2.178897e+02   \n                 Distance_from_start   1.924909e+03  2.701221e+03   \n                 Speed                 4.804853e-02  9.522771e-02   \n                 Acceleration         -4.920993e-07  1.872497e-05   \n                 Jerk                  2.551491e-09  1.515120e-08   \n                 Bearing               1.870329e+02  2.688908e+02   \n                 Bearing_Rate         -9.815738e-04  5.123280e-02   \n                 Rate_of_bearing_rate -9.815738e-04  5.123280e-02   \n          6      Distance              1.196891e+02  1.903657e+02   \n                 Distance_from_start   1.406662e+03  1.990578e+03   \n                 Speed                 4.268515e-02  7.999543e-02   \n                 Acceleration         -1.366700e-07  1.025129e-05   \n                 Jerk                  1.271700e-09  1.080039e-08   \n                 Bearing               1.788936e+02  2.575373e+02   \n                 Bearing_Rate          0.000000e+00  4.682731e-02   \n                 Rate_of_bearing_rate  0.000000e+00  4.682731e-02   \n          4      Distance              8.976696e+01  1.380386e+02   \n                 Distance_from_start   1.525979e+02  2.299219e+02   \n                 Speed                 4.041788e-02  6.181663e-02   \n                 Acceleration          3.325591e-08  1.070597e-05   \n                 Jerk                  1.168919e-09  1.023671e-08   \n                 Bearing               1.788981e+02  2.599850e+02   \n                 Bearing_Rate          1.278164e-07  6.890965e-02   \n                 Rate_of_bearing_rate  1.278164e-07  6.890965e-02   \n          2      Distance              1.271704e+02  2.453350e+02   \n                 Distance_from_start   1.261518e+03  2.140079e+03   \n                 Speed                 5.362985e-02  1.109567e-01   \n                 Acceleration          1.312096e-06  2.055706e-05   \n                 Jerk                  4.738077e-09  1.843086e-08   \n                 Bearing               1.789033e+02  2.688952e+02   \n                 Bearing_Rate         -1.614686e-03  4.694501e-02   \n                 Rate_of_bearing_rate -1.614686e-03  4.694501e-02   \n\n                                                90%          max  \ntraj_id   seg_id Columns                                          \n910313E37 1      Distance              3.347766e+02  2636.556398  \n                 Distance_from_start   4.526595e+03  4898.249093  \n                 Speed                 2.046628e-01     3.171325  \n                 Acceleration          7.305094e-05     0.005417  \n                 Jerk                  1.009022e-07     0.000026  \n                 Bearing               3.140006e+02   358.909521  \n                 Bearing_Rate          1.268936e-01     1.760332  \n                 Rate_of_bearing_rate  1.268936e-01     1.760332  \n          3      Distance              4.534294e+02  3614.754630  \n                 Distance_from_start   4.069313e+03  5048.420820  \n                 Speed                 2.377754e-01     5.001031  \n                 Acceleration          5.066747e-05     0.110223  \n                 Jerk                  5.822534e-08     0.003555  \n                 Bearing               3.215879e+02   358.905647  \n                 Bearing_Rate          9.833477e-02     0.504586  \n                 Rate_of_bearing_rate  9.833477e-02     0.504586  \n          6      Distance              5.100678e+02  2013.541386  \n                 Distance_from_start   2.845169e+03  3275.180107  \n                 Speed                 1.765886e-01     3.611241  \n                 Acceleration          3.702204e-05     0.007959  \n                 Jerk                  2.746130e-08     0.000018  \n                 Bearing               2.955218e+02   358.909453  \n                 Bearing_Rate          8.629936e-02     0.452397  \n                 Rate_of_bearing_rate  8.629936e-02     0.452397  \n          4      Distance              2.109519e+02   551.811006  \n                 Distance_from_start   4.222221e+02   785.638502  \n                 Speed                 1.018550e-01     0.523333  \n                 Acceleration          2.680186e-05     0.006014  \n                 Jerk                  2.169451e-08     0.000074  \n                 Bearing               2.955351e+02   358.899761  \n                 Bearing_Rate          9.069120e-02     2.449554  \n                 Rate_of_bearing_rate  9.069120e-02     2.449554  \n          2      Distance              5.422804e+02  2636.556398  \n                 Distance_from_start   3.512738e+03  4319.750900  \n                 Speed                 2.602349e-01     3.171325  \n                 Acceleration          6.922714e-05     0.004376  \n                 Jerk                  5.835590e-08     0.000007  \n                 Bearing               3.142505e+02   358.910246  \n                 Bearing_Rate          1.090307e-01     0.235228  \n                 Rate_of_bearing_rate  1.090307e-01     0.235228  ",
      "text/html": "<div>\n<style scoped>\n    .dataframe tbody tr th:only-of-type {\n        vertical-align: middle;\n    }\n\n    .dataframe tbody tr th {\n        vertical-align: top;\n    }\n\n    .dataframe thead th {\n        text-align: right;\n    }\n</style>\n<table border=\"1\" class=\"dataframe\">\n  <thead>\n    <tr style=\"text-align: right;\">\n      <th></th>\n      <th></th>\n      <th></th>\n      <th>mean</th>\n      <th>std</th>\n      <th>min</th>\n      <th>10%</th>\n      <th>25%</th>\n      <th>50%</th>\n      <th>75%</th>\n      <th>90%</th>\n      <th>max</th>\n    </tr>\n    <tr>\n      <th>traj_id</th>\n      <th>seg_id</th>\n      <th>Columns</th>\n      <th></th>\n      <th></th>\n      <th></th>\n      <th></th>\n      <th></th>\n      <th></th>\n      <th></th>\n      <th></th>\n      <th></th>\n    </tr>\n  </thead>\n  <tbody>\n    <tr>\n      <th rowspan=\"40\" valign=\"top\">910313E37</th>\n      <th rowspan=\"8\" valign=\"top\">1</th>\n      <th>Distance</th>\n      <td>1.709843e+02</td>\n      <td>2.741726e+02</td>\n      <td>0.000000</td>\n      <td>2.992242e+01</td>\n      <td>4.239008e+01</td>\n      <td>9.465811e+01</td>\n      <td>1.820309e+02</td>\n      <td>3.347766e+02</td>\n      <td>2636.556398</td>\n    </tr>\n    <tr>\n      <th>Distance_from_start</th>\n      <td>3.145115e+03</td>\n      <td>1.134059e+03</td>\n      <td>67.090679</td>\n      <td>1.306805e+03</td>\n      <td>2.670747e+03</td>\n      <td>3.462603e+03</td>\n      <td>3.779523e+03</td>\n      <td>4.526595e+03</td>\n      <td>4898.249093</td>\n    </tr>\n    <tr>\n      <th>Speed</th>\n      <td>1.282633e-01</td>\n      <td>3.343164e-01</td>\n      <td>0.000000</td>\n      <td>1.679873e-02</td>\n      <td>2.441513e-02</td>\n      <td>5.059941e-02</td>\n      <td>1.027442e-01</td>\n      <td>2.046628e-01</td>\n      <td>3.171325</td>\n    </tr>\n    <tr>\n      <th>Acceleration</th>\n      <td>5.894095e-05</td>\n      <td>5.653138e-04</td>\n      <td>-0.001597</td>\n      <td>-6.218602e-05</td>\n      <td>-1.880435e-05</td>\n      <td>3.038938e-07</td>\n      <td>2.347378e-05</td>\n      <td>7.305094e-05</td>\n      <td>0.005417</td>\n    </tr>\n    <tr>\n      <th>Jerk</th>\n      <td>1.785475e-07</td>\n      <td>1.896180e-06</td>\n      <td>-0.000006</td>\n      <td>-5.969154e-08</td>\n      <td>-1.442411e-08</td>\n      <td>5.252046e-09</td>\n      <td>2.785344e-08</td>\n      <td>1.009022e-07</td>\n      <td>0.000026</td>\n    </tr>\n    <tr>\n      <th>Bearing</th>\n      <td>1.704456e+02</td>\n      <td>1.070074e+02</td>\n      <td>0.000000</td>\n      <td>3.250344e+01</td>\n      <td>7.754472e+01</td>\n      <td>1.789034e+02</td>\n      <td>2.593982e+02</td>\n      <td>3.140006e+02</td>\n      <td>358.909521</td>\n    </tr>\n    <tr>\n      <th>Bearing_Rate</th>\n      <td>-3.246468e-03</td>\n      <td>1.582499e-01</td>\n      <td>-0.845313</td>\n      <td>-1.282694e-01</td>\n      <td>-6.152395e-02</td>\n      <td>7.113328e-08</td>\n      <td>7.041098e-02</td>\n      <td>1.268936e-01</td>\n      <td>1.760332</td>\n    </tr>\n    <tr>\n      <th>Rate_of_bearing_rate</th>\n      <td>-3.246468e-03</td>\n      <td>1.582499e-01</td>\n      <td>-0.845313</td>\n      <td>-1.282694e-01</td>\n      <td>-6.152395e-02</td>\n      <td>7.113328e-08</td>\n      <td>7.041098e-02</td>\n      <td>1.268936e-01</td>\n      <td>1.760332</td>\n    </tr>\n    <tr>\n      <th rowspan=\"8\" valign=\"top\">3</th>\n      <th>Distance</th>\n      <td>2.133147e+02</td>\n      <td>3.626186e+02</td>\n      <td>0.000000</td>\n      <td>2.992231e+01</td>\n      <td>5.984461e+01</td>\n      <td>1.198888e+02</td>\n      <td>2.178897e+02</td>\n      <td>4.534294e+02</td>\n      <td>3614.754630</td>\n    </tr>\n    <tr>\n      <th>Distance_from_start</th>\n      <td>2.246943e+03</td>\n      <td>1.040147e+03</td>\n      <td>108.142513</td>\n      <td>1.214260e+03</td>\n      <td>1.500664e+03</td>\n      <td>1.924909e+03</td>\n      <td>2.701221e+03</td>\n      <td>4.069313e+03</td>\n      <td>5048.420820</td>\n    </tr>\n    <tr>\n      <th>Speed</th>\n      <td>1.442296e-01</td>\n      <td>4.927638e-01</td>\n      <td>0.000000</td>\n      <td>1.310313e-02</td>\n      <td>2.256313e-02</td>\n      <td>4.804853e-02</td>\n      <td>9.522771e-02</td>\n      <td>2.377754e-01</td>\n      <td>5.001031</td>\n    </tr>\n    <tr>\n      <th>Acceleration</th>\n      <td>6.533882e-04</td>\n      <td>7.686860e-03</td>\n      <td>-0.002575</td>\n      <td>-4.025243e-05</td>\n      <td>-1.541853e-05</td>\n      <td>-4.920993e-07</td>\n      <td>1.872497e-05</td>\n      <td>5.066747e-05</td>\n      <td>0.110223</td>\n    </tr>\n    <tr>\n      <th>Jerk</th>\n      <td>1.582286e-05</td>\n      <td>2.216047e-04</td>\n      <td>-0.000060</td>\n      <td>-3.013884e-08</td>\n      <td>-9.222810e-09</td>\n      <td>2.551491e-09</td>\n      <td>1.515120e-08</td>\n      <td>5.822534e-08</td>\n      <td>0.003555</td>\n    </tr>\n    <tr>\n      <th>Bearing</th>\n      <td>1.824146e+02</td>\n      <td>1.059418e+02</td>\n      <td>0.000000</td>\n      <td>4.663371e+01</td>\n      <td>8.888756e+01</td>\n      <td>1.870329e+02</td>\n      <td>2.688908e+02</td>\n      <td>3.215879e+02</td>\n      <td>358.905647</td>\n    </tr>\n    <tr>\n      <th>Bearing_Rate</th>\n      <td>-2.681183e-02</td>\n      <td>4.021768e-01</td>\n      <td>-6.036678</td>\n      <td>-8.801957e-02</td>\n      <td>-4.608877e-02</td>\n      <td>-9.815738e-04</td>\n      <td>5.123280e-02</td>\n      <td>9.833477e-02</td>\n      <td>0.504586</td>\n    </tr>\n    <tr>\n      <th>Rate_of_bearing_rate</th>\n      <td>-2.681183e-02</td>\n      <td>4.021768e-01</td>\n      <td>-6.036678</td>\n      <td>-8.801957e-02</td>\n      <td>-4.608877e-02</td>\n      <td>-9.815738e-04</td>\n      <td>5.123280e-02</td>\n      <td>9.833477e-02</td>\n      <td>0.504586</td>\n    </tr>\n    <tr>\n      <th rowspan=\"8\" valign=\"top\">6</th>\n      <th>Distance</th>\n      <td>2.182084e+02</td>\n      <td>3.216624e+02</td>\n      <td>0.000000</td>\n      <td>3.002221e+01</td>\n      <td>6.695467e+01</td>\n      <td>1.196891e+02</td>\n      <td>1.903657e+02</td>\n      <td>5.100678e+02</td>\n      <td>2013.541386</td>\n    </tr>\n    <tr>\n      <th>Distance_from_start</th>\n      <td>1.537511e+03</td>\n      <td>8.374627e+02</td>\n      <td>89.766532</td>\n      <td>4.033312e+02</td>\n      <td>1.022323e+03</td>\n      <td>1.406662e+03</td>\n      <td>1.990578e+03</td>\n      <td>2.845169e+03</td>\n      <td>3275.180107</td>\n    </tr>\n    <tr>\n      <th>Speed</th>\n      <td>9.241706e-02</td>\n      <td>2.667963e-01</td>\n      <td>0.000000</td>\n      <td>1.388098e-02</td>\n      <td>2.168611e-02</td>\n      <td>4.268515e-02</td>\n      <td>7.999543e-02</td>\n      <td>1.765886e-01</td>\n      <td>3.611241</td>\n    </tr>\n    <tr>\n      <th>Acceleration</th>\n      <td>4.577331e-05</td>\n      <td>5.668969e-04</td>\n      <td>-0.000703</td>\n      <td>-3.141556e-05</td>\n      <td>-1.105760e-05</td>\n      <td>-1.366700e-07</td>\n      <td>1.025129e-05</td>\n      <td>3.702204e-05</td>\n      <td>0.007959</td>\n    </tr>\n    <tr>\n      <th>Jerk</th>\n      <td>1.178590e-07</td>\n      <td>1.371983e-06</td>\n      <td>-0.000002</td>\n      <td>-2.459169e-08</td>\n      <td>-5.989827e-09</td>\n      <td>1.271700e-09</td>\n      <td>1.080039e-08</td>\n      <td>2.746130e-08</td>\n      <td>0.000018</td>\n    </tr>\n    <tr>\n      <th>Bearing</th>\n      <td>1.697428e+02</td>\n      <td>1.020041e+02</td>\n      <td>0.000000</td>\n      <td>3.691405e+01</td>\n      <td>8.224481e+01</td>\n      <td>1.788936e+02</td>\n      <td>2.575373e+02</td>\n      <td>2.955218e+02</td>\n      <td>358.909453</td>\n    </tr>\n    <tr>\n      <th>Bearing_Rate</th>\n      <td>-9.533754e-04</td>\n      <td>8.757836e-02</td>\n      <td>-0.586953</td>\n      <td>-9.536507e-02</td>\n      <td>-3.828994e-02</td>\n      <td>0.000000e+00</td>\n      <td>4.682731e-02</td>\n      <td>8.629936e-02</td>\n      <td>0.452397</td>\n    </tr>\n    <tr>\n      <th>Rate_of_bearing_rate</th>\n      <td>-9.533754e-04</td>\n      <td>8.757836e-02</td>\n      <td>-0.586953</td>\n      <td>-9.536507e-02</td>\n      <td>-3.828994e-02</td>\n      <td>0.000000e+00</td>\n      <td>4.682731e-02</td>\n      <td>8.629936e-02</td>\n      <td>0.452397</td>\n    </tr>\n    <tr>\n      <th rowspan=\"8\" valign=\"top\">4</th>\n      <th>Distance</th>\n      <td>1.045948e+02</td>\n      <td>7.927141e+01</td>\n      <td>0.000000</td>\n      <td>2.992231e+01</td>\n      <td>4.238993e+01</td>\n      <td>8.976696e+01</td>\n      <td>1.380386e+02</td>\n      <td>2.109519e+02</td>\n      <td>551.811006</td>\n    </tr>\n    <tr>\n      <th>Distance_from_start</th>\n      <td>1.957693e+02</td>\n      <td>1.596711e+02</td>\n      <td>0.000000</td>\n      <td>4.238994e+01</td>\n      <td>9.006655e+01</td>\n      <td>1.525979e+02</td>\n      <td>2.299219e+02</td>\n      <td>4.222221e+02</td>\n      <td>785.638502</td>\n    </tr>\n    <tr>\n      <th>Speed</th>\n      <td>5.233723e-02</td>\n      <td>5.479076e-02</td>\n      <td>0.000000</td>\n      <td>1.316200e-02</td>\n      <td>2.057325e-02</td>\n      <td>4.041788e-02</td>\n      <td>6.181663e-02</td>\n      <td>1.018550e-01</td>\n      <td>0.523333</td>\n    </tr>\n    <tr>\n      <th>Acceleration</th>\n      <td>3.169289e-05</td>\n      <td>4.241867e-04</td>\n      <td>-0.000153</td>\n      <td>-2.395619e-05</td>\n      <td>-1.027471e-05</td>\n      <td>3.325591e-08</td>\n      <td>1.070597e-05</td>\n      <td>2.680186e-05</td>\n      <td>0.006014</td>\n    </tr>\n    <tr>\n      <th>Jerk</th>\n      <td>3.620824e-07</td>\n      <td>5.228997e-06</td>\n      <td>-0.000002</td>\n      <td>-2.216031e-08</td>\n      <td>-8.147553e-09</td>\n      <td>1.168919e-09</td>\n      <td>1.023671e-08</td>\n      <td>2.169451e-08</td>\n      <td>0.000074</td>\n    </tr>\n    <tr>\n      <th>Bearing</th>\n      <td>1.701980e+02</td>\n      <td>1.056060e+02</td>\n      <td>0.000000</td>\n      <td>4.379614e+01</td>\n      <td>7.480888e+01</td>\n      <td>1.788981e+02</td>\n      <td>2.599850e+02</td>\n      <td>2.955351e+02</td>\n      <td>358.899761</td>\n    </tr>\n    <tr>\n      <th>Bearing_Rate</th>\n      <td>1.149797e-02</td>\n      <td>1.903723e-01</td>\n      <td>-0.188564</td>\n      <td>-1.028118e-01</td>\n      <td>-7.290548e-02</td>\n      <td>1.278164e-07</td>\n      <td>6.890965e-02</td>\n      <td>9.069120e-02</td>\n      <td>2.449554</td>\n    </tr>\n    <tr>\n      <th>Rate_of_bearing_rate</th>\n      <td>1.149797e-02</td>\n      <td>1.903723e-01</td>\n      <td>-0.188564</td>\n      <td>-1.028118e-01</td>\n      <td>-7.290548e-02</td>\n      <td>1.278164e-07</td>\n      <td>6.890965e-02</td>\n      <td>9.069120e-02</td>\n      <td>2.449554</td>\n    </tr>\n    <tr>\n      <th rowspan=\"8\" valign=\"top\">2</th>\n      <th>Distance</th>\n      <td>2.724507e+02</td>\n      <td>4.480825e+02</td>\n      <td>0.000000</td>\n      <td>3.002236e+01</td>\n      <td>6.695666e+01</td>\n      <td>1.271704e+02</td>\n      <td>2.453350e+02</td>\n      <td>5.422804e+02</td>\n      <td>2636.556398</td>\n    </tr>\n    <tr>\n      <th>Distance_from_start</th>\n      <td>1.557462e+03</td>\n      <td>1.139460e+03</td>\n      <td>42.384583</td>\n      <td>4.783552e+02</td>\n      <td>7.358117e+02</td>\n      <td>1.261518e+03</td>\n      <td>2.140079e+03</td>\n      <td>3.512738e+03</td>\n      <td>4319.750900</td>\n    </tr>\n    <tr>\n      <th>Speed</th>\n      <td>1.789963e-01</td>\n      <td>4.595826e-01</td>\n      <td>0.000000</td>\n      <td>1.367106e-02</td>\n      <td>2.605766e-02</td>\n      <td>5.362985e-02</td>\n      <td>1.109567e-01</td>\n      <td>2.602349e-01</td>\n      <td>3.171325</td>\n    </tr>\n    <tr>\n      <th>Acceleration</th>\n      <td>4.468955e-05</td>\n      <td>4.477531e-04</td>\n      <td>-0.001025</td>\n      <td>-5.618403e-05</td>\n      <td>-2.051521e-05</td>\n      <td>1.312096e-06</td>\n      <td>2.055706e-05</td>\n      <td>6.922714e-05</td>\n      <td>0.004376</td>\n    </tr>\n    <tr>\n      <th>Jerk</th>\n      <td>3.670608e-08</td>\n      <td>7.275207e-07</td>\n      <td>-0.000004</td>\n      <td>-5.368810e-08</td>\n      <td>-7.209026e-09</td>\n      <td>4.738077e-09</td>\n      <td>1.843086e-08</td>\n      <td>5.835590e-08</td>\n      <td>0.000007</td>\n    </tr>\n    <tr>\n      <th>Bearing</th>\n      <td>1.672029e+02</td>\n      <td>1.102381e+02</td>\n      <td>0.000000</td>\n      <td>2.763108e+01</td>\n      <td>6.225795e+01</td>\n      <td>1.789033e+02</td>\n      <td>2.688952e+02</td>\n      <td>3.142505e+02</td>\n      <td>358.910246</td>\n    </tr>\n    <tr>\n      <th>Bearing_Rate</th>\n      <td>-2.143388e-03</td>\n      <td>8.503347e-02</td>\n      <td>-0.292818</td>\n      <td>-9.859419e-02</td>\n      <td>-4.544211e-02</td>\n      <td>-1.614686e-03</td>\n      <td>4.694501e-02</td>\n      <td>1.090307e-01</td>\n      <td>0.235228</td>\n    </tr>\n    <tr>\n      <th>Rate_of_bearing_rate</th>\n      <td>-2.143388e-03</td>\n      <td>8.503347e-02</td>\n      <td>-0.292818</td>\n      <td>-9.859419e-02</td>\n      <td>-4.544211e-02</td>\n      <td>-1.614686e-03</td>\n      <td>4.694501e-02</td>\n      <td>1.090307e-01</td>\n      <td>0.235228</td>\n    </tr>\n  </tbody>\n</table>\n</div>"
     },
     "execution_count": 12,
     "metadata": {},
     "output_type": "execute_result"
    }
   ],
   "source": [
    "final_answer.head(40)"
   ],
   "metadata": {
    "collapsed": false,
    "pycharm": {
     "name": "#%%\n"
    }
   }
  },
  {
   "cell_type": "code",
   "execution_count": null,
   "outputs": [],
   "source": [
    "\n",
    "#"
   ],
   "metadata": {
    "collapsed": false,
    "pycharm": {
     "name": "#%%\n"
    }
   }
  }
 ],
 "metadata": {
  "kernelspec": {
   "display_name": "Python 3",
   "language": "python",
   "name": "python3"
  },
  "language_info": {
   "codemirror_mode": {
    "name": "ipython",
    "version": 2
   },
   "file_extension": ".py",
   "mimetype": "text/x-python",
   "name": "python",
   "nbconvert_exporter": "python",
   "pygments_lexer": "ipython2",
   "version": "2.7.6"
  }
 },
 "nbformat": 4,
 "nbformat_minor": 0
}