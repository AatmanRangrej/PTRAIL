{
 "cells": [
  {
   "cell_type": "markdown",
   "id": "2d1a7cc3",
   "metadata": {},
   "source": [
    "# t-Distributed Stochastic Neighbour Embedding - Lecture 33\n",
    "\n",
    "COMP 4304 / 6934 \\\n",
    "Terrence Tricco, Nov 2021\n",
    "\n",
    "t-Distributed Stochastic Neighbour Embedding (t-SNE) is a dimensionality reduction method.\n",
    "\n",
    "In this notebook, we will explore t-SNE using the method from the scikit-learn library, and compare to dimensionality reduction using PCA.\n",
    "\n",
    "Sklearn t-SNE API: https://scikit-learn.org/stable/modules/generated/sklearn.manifold.TSNE.html \\\n",
    "User guide: https://scikit-learn.org/stable/modules/manifold.html#t-sne\n"
   ]
  },
  {
   "cell_type": "markdown",
   "id": "6a3580bc",
   "metadata": {},
   "source": [
    "# Load Libraries"
   ]
  },
  {
   "cell_type": "markdown",
   "id": "8073b026",
   "metadata": {},
   "source": [
    "Scikit-learn, or sklearn, can be installed using pip or conda.\n",
    "\n",
    "For example, ``pip install sklearn``.\n",
    "\n",
    "Sklearn has many useful tools for machine learning and dealing with data. We will use the TSNE class from the ``manifold`` library."
   ]
  },
  {
   "cell_type": "code",
   "execution_count": null,
   "id": "3618ea7a",
   "metadata": {},
   "outputs": [],
   "source": [
    "import pandas as pd\n",
    "import plotly.express as px\n",
    "\n",
    "from sklearn import decomposition\n",
    "from sklearn import manifold"
   ]
  },
  {
   "cell_type": "markdown",
   "id": "4cd37263",
   "metadata": {},
   "source": [
    "# Load Data"
   ]
  },
  {
   "cell_type": "code",
   "execution_count": null,
   "id": "fff7be82",
   "metadata": {},
   "outputs": [],
   "source": [
    "df = pd.read_csv('used_cars.csv')"
   ]
  },
  {
   "cell_type": "markdown",
   "id": "8a76a7b2",
   "metadata": {},
   "source": [
    "# t-SNE\n",
    "\n",
    "Just like PCA, t-SNE works with numeric data. Let's apply t-SNE to the numeric columns of our data set."
   ]
  },
  {
   "cell_type": "code",
   "execution_count": null,
   "id": "41d99e6d",
   "metadata": {
    "scrolled": true
   },
   "outputs": [],
   "source": [
    "df.head()"
   ]
  },
  {
   "cell_type": "code",
   "execution_count": null,
   "id": "78267514",
   "metadata": {},
   "outputs": [],
   "source": [
    "df.info()"
   ]
  },
  {
   "cell_type": "code",
   "execution_count": null,
   "id": "7372593a",
   "metadata": {},
   "outputs": [],
   "source": [
    "df2 = df[['year', 'price', 'mileage', 'tax', 'mpg', 'engineSize']].dropna()"
   ]
  },
  {
   "cell_type": "code",
   "execution_count": null,
   "id": "bd7574cc",
   "metadata": {},
   "outputs": [],
   "source": [
    "df2.head()"
   ]
  },
  {
   "cell_type": "code",
   "execution_count": null,
   "id": "d9e6ad43",
   "metadata": {},
   "outputs": [],
   "source": [
    "df2.info()"
   ]
  },
  {
   "cell_type": "markdown",
   "id": "36d39bed",
   "metadata": {},
   "source": [
    "We can make a new TSNE object from sklearn."
   ]
  },
  {
   "cell_type": "code",
   "execution_count": null,
   "id": "734e8e9e",
   "metadata": {},
   "outputs": [],
   "source": [
    "tsne = manifold.TSNE()"
   ]
  },
  {
   "cell_type": "code",
   "execution_count": null,
   "id": "b75f8b2f",
   "metadata": {},
   "outputs": [],
   "source": [
    "type(tsne)"
   ]
  },
  {
   "cell_type": "markdown",
   "id": "8c4b12a6",
   "metadata": {},
   "source": [
    "The t-SNE transforms the data to the lower-dimensional space using the ``fit_transform()`` function.\n",
    "\n",
    "Unlike PCA, fitting and transforming must be done in a single step. There is no learned function on how to transform the data, such that new data points cannot be transformed using an existing fit.\n",
    "\n",
    "Creating a t-SNE is an expensive operation. Don't be surprised if the following cell takes several minutes to run."
   ]
  },
  {
   "cell_type": "code",
   "execution_count": null,
   "id": "69a1b8c7",
   "metadata": {
    "scrolled": true
   },
   "outputs": [],
   "source": [
    "tsne_data = tsne.fit_transform(df2)"
   ]
  },
  {
   "cell_type": "markdown",
   "id": "9409b758",
   "metadata": {},
   "source": [
    "The default parameters use:\n",
    "- perplexity = 30,\n",
    "- 1000 iterations for the gradient descent process to find a suitable transformation, and\n",
    "- learning rate (epsilon) = 200. (equivalent to 800 for other libraries.)\n",
    "\n",
    "You can think of perplexity as related to the number of neighbours. Higher values mean that more data points are considered as neighbours. Try values between 5-10 to 50-100.\n",
    "\n",
    "1000 iterations usually sufficient.\n",
    "\n",
    "There is recent research that suggests the learning rate should scale with the size of the data set (say, n/12, or for sklearn, n/12/4)"
   ]
  },
  {
   "cell_type": "markdown",
   "id": "f68fa3bb",
   "metadata": {},
   "source": [
    "Creating the t-SNE can be a slow process. I have pre-computed visualizations using different perplexities. I will show visualization using perplexities of 10, 30, 100 and 200 (30 is the default)."
   ]
  },
  {
   "cell_type": "code",
   "execution_count": null,
   "id": "41940da0",
   "metadata": {},
   "outputs": [],
   "source": [
    "df_tsne_p10 = pd.read_csv('tsne-perplexity10.csv')"
   ]
  },
  {
   "cell_type": "code",
   "execution_count": null,
   "id": "d057dc86",
   "metadata": {},
   "outputs": [],
   "source": [
    "df_tsne_p30 = pd.read_csv('tsne-perplexity30.csv')"
   ]
  },
  {
   "cell_type": "code",
   "execution_count": null,
   "id": "6a1a0249",
   "metadata": {},
   "outputs": [],
   "source": [
    "df_tsne_p100 = pd.read_csv('tsne-perplexity100.csv')"
   ]
  },
  {
   "cell_type": "code",
   "execution_count": null,
   "id": "c42532bc",
   "metadata": {},
   "outputs": [],
   "source": [
    "df_tsne_p200 = pd.read_csv('tsne-perplexity200.csv')"
   ]
  },
  {
   "cell_type": "markdown",
   "id": "e8683404",
   "metadata": {},
   "source": [
    "Note that the t-SNE transformed columns don't have names. The original data has been blended together to create these new columns (dimensions), where the data is a combination of the previous data. Each column is no longer directly relatable to the original data."
   ]
  },
  {
   "cell_type": "code",
   "execution_count": null,
   "id": "b150715b",
   "metadata": {},
   "outputs": [],
   "source": [
    "df2.head()"
   ]
  },
  {
   "cell_type": "code",
   "execution_count": null,
   "id": "e6f3f13e",
   "metadata": {},
   "outputs": [],
   "source": [
    "df_tsne_p30.head()"
   ]
  },
  {
   "cell_type": "code",
   "execution_count": null,
   "id": "fce84292",
   "metadata": {
    "scrolled": false
   },
   "outputs": [],
   "source": [
    "df_tsne_p30.describe()"
   ]
  },
  {
   "cell_type": "markdown",
   "id": "40f1519d",
   "metadata": {},
   "source": [
    "The scale for the columns have no particular meaning."
   ]
  },
  {
   "cell_type": "markdown",
   "id": "4e0d2892",
   "metadata": {},
   "source": [
    "## Visualizing t-SNE Data"
   ]
  },
  {
   "cell_type": "markdown",
   "id": "488f950f",
   "metadata": {},
   "source": [
    "In the below example, we will add back some of the non-numeric data to our t-SNE transformed data set. These act like the \"labels\" of our data."
   ]
  },
  {
   "cell_type": "code",
   "execution_count": null,
   "id": "467b8420",
   "metadata": {},
   "outputs": [],
   "source": [
    "for df_tsne in [df_tsne_p10, df_tsne_p30, df_tsne_p100, df_tsne_p200]:\n",
    "    df_tsne['brand'] = df['brand']\n",
    "    df_tsne['model'] = df['model']\n",
    "    df_tsne['price'] = df['price']"
   ]
  },
  {
   "cell_type": "markdown",
   "id": "8d7427c3",
   "metadata": {},
   "source": [
    "A small perplexity attempts to identify small clusters.\n",
    "\n",
    "Compare Audi to Toyota. Notice how there are many small clusters with only a few points, and those clusters are diffused and scattered throughout the space."
   ]
  },
  {
   "cell_type": "code",
   "execution_count": null,
   "id": "fffa3b51",
   "metadata": {},
   "outputs": [],
   "source": [
    "px.scatter(x='0', y='1', data_frame=df_tsne_p10, color='brand', hover_data=['price'])"
   ]
  },
  {
   "cell_type": "code",
   "execution_count": null,
   "id": "f18b9717",
   "metadata": {},
   "outputs": [],
   "source": [
    "px.scatter(x='0', y='1', data_frame=df_tsne_p30, color='brand', hover_data=['price'])"
   ]
  },
  {
   "cell_type": "markdown",
   "id": "232c126a",
   "metadata": {},
   "source": [
    "A large perplexity attempts to identify large clusters. Notice how the t-SNE clusters are larger and more well-defined for perplexities of 100 and 200."
   ]
  },
  {
   "cell_type": "code",
   "execution_count": null,
   "id": "4d09e087",
   "metadata": {},
   "outputs": [],
   "source": [
    "px.scatter(x='0', y='1', data_frame=df_tsne_p100, color='brand', hover_data=['price'])"
   ]
  },
  {
   "cell_type": "code",
   "execution_count": null,
   "id": "c883b9f2",
   "metadata": {},
   "outputs": [],
   "source": [
    "px.scatter(x='0', y='1', data_frame=df_tsne_p200, color='brand', hover_data=['price'])"
   ]
  },
  {
   "cell_type": "markdown",
   "id": "7d1b71ab",
   "metadata": {},
   "source": [
    "Similar behaviour can be seen for small and large perplexity values. For example, Toyota fills in the gaps around Audi. Audi and BMW overlap very strongly.\n",
    "\n",
    "But the visual look of the data can vary significantly. The correct choice depends on what is the important cluster scale to highlight.\n"
   ]
  },
  {
   "cell_type": "markdown",
   "id": "819b5df6",
   "metadata": {},
   "source": [
    "# t-SNE of PCA\n",
    "\n",
    "One option is to use a t-SNE to visualize PCA transformed data."
   ]
  },
  {
   "cell_type": "code",
   "execution_count": null,
   "id": "28d86e34",
   "metadata": {},
   "outputs": [],
   "source": [
    "pca = decomposition.PCA()"
   ]
  },
  {
   "cell_type": "code",
   "execution_count": null,
   "id": "95850b5c",
   "metadata": {},
   "outputs": [],
   "source": [
    "data_pca = pca.fit_transform(df2)"
   ]
  },
  {
   "cell_type": "code",
   "execution_count": null,
   "id": "eacf2a36",
   "metadata": {},
   "outputs": [],
   "source": [
    "df_pca = pd.DataFrame(data_pca)"
   ]
  },
  {
   "cell_type": "code",
   "execution_count": null,
   "id": "b508077c",
   "metadata": {},
   "outputs": [],
   "source": [
    "df_pca['brand'] = df['brand']\n",
    "df_pca['model'] = df['model']\n",
    "df_pca['price'] = df['price']"
   ]
  },
  {
   "cell_type": "code",
   "execution_count": null,
   "id": "a0dc3488",
   "metadata": {},
   "outputs": [],
   "source": [
    "px.scatter(x=0, y=1, data_frame=df_pca, color='brand', hover_data=['price'])"
   ]
  },
  {
   "cell_type": "markdown",
   "id": "6e6c6604",
   "metadata": {},
   "source": [
    "I have pre-computed the t-SNE of the PCA transformed data, which we load for convenience."
   ]
  },
  {
   "cell_type": "code",
   "execution_count": null,
   "id": "49334050",
   "metadata": {},
   "outputs": [],
   "source": [
    "df_pca_tsne = pd.read_csv('tsne-pca-p100.csv')"
   ]
  },
  {
   "cell_type": "code",
   "execution_count": null,
   "id": "429f9d4b",
   "metadata": {},
   "outputs": [],
   "source": [
    "df_pca_tsne['brand'] = df['brand']\n",
    "df_pca_tsne['model'] = df['model']\n",
    "df_pca_tsne['price'] = df['price']"
   ]
  },
  {
   "cell_type": "code",
   "execution_count": null,
   "id": "9e9d72bd",
   "metadata": {},
   "outputs": [],
   "source": [
    "px.scatter(x='0', y='1', data_frame=df_pca_tsne, color='brand', hover_data=['price'])"
   ]
  },
  {
   "cell_type": "markdown",
   "id": "1d53ed2b",
   "metadata": {},
   "source": [
    "# Summary"
   ]
  },
  {
   "cell_type": "markdown",
   "id": "dc2c9dce",
   "metadata": {},
   "source": [
    "t-SNE is a powerful technique for visualizing high-dimensional data. It reduces the data down to 2 dimensions. It is possible to reduce to 3 dimensions, but almost universally 2 dimensions are used.\n",
    "\n",
    "Using sklearn, the process is as simple as calling fit_transform() on the data. It can then be visualized using any number of standard visualization libraries.\n",
    "\n",
    "There are a number of caveats to keep in mind. Distances may not mean anything. Large-scale structure may not mean anything. Cluster size is dependent on the perplexity (and learning rate to some extent). All the same, t-SNE is a valuable way to find commonalities in large data."
   ]
  }
 ],
 "metadata": {
  "kernelspec": {
   "display_name": "Python 3 (ipykernel)",
   "language": "python",
   "name": "python3"
  },
  "language_info": {
   "codemirror_mode": {
    "name": "ipython",
    "version": 3
   },
   "file_extension": ".py",
   "mimetype": "text/x-python",
   "name": "python",
   "nbconvert_exporter": "python",
   "pygments_lexer": "ipython3",
   "version": "3.9.6"
  }
 },
 "nbformat": 4,
 "nbformat_minor": 5
}
