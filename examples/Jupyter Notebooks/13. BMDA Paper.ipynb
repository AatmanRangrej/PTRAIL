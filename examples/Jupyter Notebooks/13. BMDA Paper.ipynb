{
 "cells": [
  {
   "cell_type": "code",
   "execution_count": 1,
   "metadata": {
    "collapsed": true
   },
   "outputs": [
    {
     "name": "stdout",
     "output_type": "stream",
     "text": [
      "------------------------ Dataset Facts ------------------------------\n",
      "\n",
      "Number of unique Trajectories in the data: 253\n",
      "Number of points in the data: 287136\n",
      "Dataset time range: 1196 days 22:51:45\n",
      "Datatype of the DataFrame: <class 'ptrail.core.TrajectoryDF.PTRAILDataFrame'>\n",
      "Dataset Bounding Box: (45.18896978643169, -118.61020848239596, 45.314545642992, -118.50455596234036)\n",
      "\n",
      "---------------------------------------------------------------------\n"
     ]
    }
   ],
   "source": [
    "import pandas as pd\n",
    "from ptrail.core.TrajectoryDF import PTRAILDataFrame\n",
    "from ptrail.preprocessing.statistics import Statistics\n",
    "\n",
    "pdf = pd.read_csv('./starkey_new.csv')\n",
    "starkey = PTRAILDataFrame(data_set=pdf,\n",
    "                          latitude='lat',\n",
    "                          longitude='lon',\n",
    "                          datetime='DateTime',\n",
    "                          traj_id='Id')\n",
    "print(starkey)"
   ]
  },
  {
   "cell_type": "code",
   "execution_count": 2,
   "outputs": [
    {
     "name": "stdout",
     "output_type": "stream",
     "text": [
      "CPU times: user 37.2 s, sys: 1.24 s, total: 38.5 s\n",
      "Wall time: 40.6 s\n"
     ]
    }
   ],
   "source": [
    "%%time\n",
    "\n",
    "stats = Statistics.generate_kinematic_stats(starkey)"
   ],
   "metadata": {
    "collapsed": false,
    "pycharm": {
     "name": "#%%\n"
    }
   }
  },
  {
   "cell_type": "code",
   "execution_count": 3,
   "outputs": [
    {
     "data": {
      "text/plain": "           10%_Acceleration  10%_Bearing  10%_Bearing_Rate  10%_Distance  \\\ntraj_id                                                                    \n910313E37     -2.424220e-05    36.304532         -0.063322     30.022359   \n890424E08     -2.742458e-05    32.508596         -0.064023     42.384642   \n921228E06     -2.609985e-05    32.488596         -0.058033     42.390114   \n930304E16     -2.893563e-05    43.769266         -0.068092     42.384012   \n940110D01     -8.556065e-06    43.796599         -0.041207     30.022192   \n...                     ...          ...               ...           ...   \nOSUX92071     -1.932433e-06    30.368128         -0.013195     42.384783   \nOSUX92008     -7.314997e-06    12.874876         -0.033016     60.044073   \nOSUX91143     -8.197858e-07    34.813154         -0.011116     90.066320   \nOSUX91121     -1.435370e-06    34.339105         -0.010799     66.956676   \n950227D02     -1.521129e-06    25.816505         -0.027101     60.555710   \n\n           10%_Distance_from_start      10%_Jerk  10%_Rate_of_bearing_rate  \\\ntraj_id                                                                      \n910313E37              1121.185006 -1.388547e-08                 -0.063322   \n890424E08               674.170024 -1.644760e-08                 -0.064023   \n921228E06               807.693739 -1.409491e-08                 -0.058033   \n930304E16              1156.455188 -1.707229e-08                 -0.068092   \n940110D01               492.522877 -3.455470e-09                 -0.041207   \n...                            ...           ...                       ...   \nOSUX92071              2019.896767 -3.361987e-10                 -0.013195   \nOSUX92008              2330.556507 -2.641983e-09                 -0.033016   \nOSUX91143              2741.029578 -1.094577e-10                 -0.011116   \nOSUX91121              2660.409775 -2.802791e-10                 -0.010799   \n950227D02              2111.735728 -4.773323e-10                 -0.027101   \n\n           10%_Speed  25%_Acceleration  25%_Bearing  ...  min_Speed  \\\ntraj_id                                              ...              \n910313E37   0.008259     -6.195019e-06    80.020676  ...   0.000000   \n890424E08   0.008840     -6.594604e-06    79.399167  ...   0.000000   \n921228E06   0.008041     -5.299279e-06    80.427854  ...   0.000000   \n930304E16   0.009212     -6.483826e-06    88.865905  ...   0.000000   \n940110D01   0.005311     -2.424314e-06    88.893389  ...   0.000000   \n...              ...               ...          ...  ...        ...   \nOSUX92071   0.003691     -5.335003e-07    88.874194  ...   0.000000   \nOSUX92008   0.003975     -1.188258e-06    70.383379  ...   0.000000   \nOSUX91143   0.001726     -2.145431e-07    85.697016  ...   0.000087   \nOSUX91121   0.002419     -1.680267e-07    65.905762  ...   0.000557   \n950227D02   0.004826     -6.963304e-07    75.944465  ...   0.000000   \n\n           std_Acceleration  std_Bearing  std_Bearing_Rate  std_Distance  \\\ntraj_id                                                                    \n910313E37          0.003805   106.277853          0.154034    398.901980   \n890424E08          0.009098   104.887878          0.241358    446.249248   \n921228E06          0.628230   105.795948          1.008263    517.650637   \n930304E16          0.482653   104.723326          0.600187    396.220730   \n940110D01          1.739274   105.698662          3.677063    235.093739   \n...                     ...          ...               ...           ...   \nOSUX92071          0.000223   101.259361          0.022347    797.302786   \nOSUX92008          0.000033   104.842801          0.033022    565.038959   \nOSUX91143          0.000005   106.771327          0.011857   1043.556535   \nOSUX91121          0.000004   108.860939          0.011728   1119.869470   \n950227D02          0.000003   108.928104          0.020923    257.519475   \n\n           std_Distance_from_start      std_Jerk  std_Rate_of_bearing_rate  \\\ntraj_id                                                                      \n910313E37              1502.135300  7.500795e-05                  0.154034   \n890424E08              1009.296449  2.761390e-04                  0.241358   \n921228E06              1282.236895  2.092630e-01                  1.008263   \n930304E16              1451.846819  7.585291e-02                  0.600187   \n940110D01               501.450441  1.733837e+00                  3.677063   \n...                            ...           ...                       ...   \nOSUX92071              1495.831625  2.424151e-07                  0.022347   \nOSUX92008               977.382744  1.407212e-08                  0.033022   \nOSUX91143              1521.500791  8.591675e-10                  0.011857   \nOSUX91121               827.029713  6.772859e-10                  0.011728   \n950227D02               392.355301  5.492696e-10                  0.020923   \n\n           std_Speed  Species  \ntraj_id                        \n910313E37   0.351682        1  \n890424E08   0.627852        1  \n921228E06   2.224608        1  \n930304E16   3.764110        1  \n940110D01   2.274554        0  \n...              ...      ...  \nOSUX92071   0.231182        2  \nOSUX92008   0.113691        2  \nOSUX91143   0.040621        2  \nOSUX91121   0.030566        2  \n950227D02   0.023782        0  \n\n[253 rows x 73 columns]",
      "text/html": "<div>\n<style scoped>\n    .dataframe tbody tr th:only-of-type {\n        vertical-align: middle;\n    }\n\n    .dataframe tbody tr th {\n        vertical-align: top;\n    }\n\n    .dataframe thead th {\n        text-align: right;\n    }\n</style>\n<table border=\"1\" class=\"dataframe\">\n  <thead>\n    <tr style=\"text-align: right;\">\n      <th></th>\n      <th>10%_Acceleration</th>\n      <th>10%_Bearing</th>\n      <th>10%_Bearing_Rate</th>\n      <th>10%_Distance</th>\n      <th>10%_Distance_from_start</th>\n      <th>10%_Jerk</th>\n      <th>10%_Rate_of_bearing_rate</th>\n      <th>10%_Speed</th>\n      <th>25%_Acceleration</th>\n      <th>25%_Bearing</th>\n      <th>...</th>\n      <th>min_Speed</th>\n      <th>std_Acceleration</th>\n      <th>std_Bearing</th>\n      <th>std_Bearing_Rate</th>\n      <th>std_Distance</th>\n      <th>std_Distance_from_start</th>\n      <th>std_Jerk</th>\n      <th>std_Rate_of_bearing_rate</th>\n      <th>std_Speed</th>\n      <th>Species</th>\n    </tr>\n    <tr>\n      <th>traj_id</th>\n      <th></th>\n      <th></th>\n      <th></th>\n      <th></th>\n      <th></th>\n      <th></th>\n      <th></th>\n      <th></th>\n      <th></th>\n      <th></th>\n      <th></th>\n      <th></th>\n      <th></th>\n      <th></th>\n      <th></th>\n      <th></th>\n      <th></th>\n      <th></th>\n      <th></th>\n      <th></th>\n      <th></th>\n    </tr>\n  </thead>\n  <tbody>\n    <tr>\n      <th>910313E37</th>\n      <td>-2.424220e-05</td>\n      <td>36.304532</td>\n      <td>-0.063322</td>\n      <td>30.022359</td>\n      <td>1121.185006</td>\n      <td>-1.388547e-08</td>\n      <td>-0.063322</td>\n      <td>0.008259</td>\n      <td>-6.195019e-06</td>\n      <td>80.020676</td>\n      <td>...</td>\n      <td>0.000000</td>\n      <td>0.003805</td>\n      <td>106.277853</td>\n      <td>0.154034</td>\n      <td>398.901980</td>\n      <td>1502.135300</td>\n      <td>7.500795e-05</td>\n      <td>0.154034</td>\n      <td>0.351682</td>\n      <td>1</td>\n    </tr>\n    <tr>\n      <th>890424E08</th>\n      <td>-2.742458e-05</td>\n      <td>32.508596</td>\n      <td>-0.064023</td>\n      <td>42.384642</td>\n      <td>674.170024</td>\n      <td>-1.644760e-08</td>\n      <td>-0.064023</td>\n      <td>0.008840</td>\n      <td>-6.594604e-06</td>\n      <td>79.399167</td>\n      <td>...</td>\n      <td>0.000000</td>\n      <td>0.009098</td>\n      <td>104.887878</td>\n      <td>0.241358</td>\n      <td>446.249248</td>\n      <td>1009.296449</td>\n      <td>2.761390e-04</td>\n      <td>0.241358</td>\n      <td>0.627852</td>\n      <td>1</td>\n    </tr>\n    <tr>\n      <th>921228E06</th>\n      <td>-2.609985e-05</td>\n      <td>32.488596</td>\n      <td>-0.058033</td>\n      <td>42.390114</td>\n      <td>807.693739</td>\n      <td>-1.409491e-08</td>\n      <td>-0.058033</td>\n      <td>0.008041</td>\n      <td>-5.299279e-06</td>\n      <td>80.427854</td>\n      <td>...</td>\n      <td>0.000000</td>\n      <td>0.628230</td>\n      <td>105.795948</td>\n      <td>1.008263</td>\n      <td>517.650637</td>\n      <td>1282.236895</td>\n      <td>2.092630e-01</td>\n      <td>1.008263</td>\n      <td>2.224608</td>\n      <td>1</td>\n    </tr>\n    <tr>\n      <th>930304E16</th>\n      <td>-2.893563e-05</td>\n      <td>43.769266</td>\n      <td>-0.068092</td>\n      <td>42.384012</td>\n      <td>1156.455188</td>\n      <td>-1.707229e-08</td>\n      <td>-0.068092</td>\n      <td>0.009212</td>\n      <td>-6.483826e-06</td>\n      <td>88.865905</td>\n      <td>...</td>\n      <td>0.000000</td>\n      <td>0.482653</td>\n      <td>104.723326</td>\n      <td>0.600187</td>\n      <td>396.220730</td>\n      <td>1451.846819</td>\n      <td>7.585291e-02</td>\n      <td>0.600187</td>\n      <td>3.764110</td>\n      <td>1</td>\n    </tr>\n    <tr>\n      <th>940110D01</th>\n      <td>-8.556065e-06</td>\n      <td>43.796599</td>\n      <td>-0.041207</td>\n      <td>30.022192</td>\n      <td>492.522877</td>\n      <td>-3.455470e-09</td>\n      <td>-0.041207</td>\n      <td>0.005311</td>\n      <td>-2.424314e-06</td>\n      <td>88.893389</td>\n      <td>...</td>\n      <td>0.000000</td>\n      <td>1.739274</td>\n      <td>105.698662</td>\n      <td>3.677063</td>\n      <td>235.093739</td>\n      <td>501.450441</td>\n      <td>1.733837e+00</td>\n      <td>3.677063</td>\n      <td>2.274554</td>\n      <td>0</td>\n    </tr>\n    <tr>\n      <th>...</th>\n      <td>...</td>\n      <td>...</td>\n      <td>...</td>\n      <td>...</td>\n      <td>...</td>\n      <td>...</td>\n      <td>...</td>\n      <td>...</td>\n      <td>...</td>\n      <td>...</td>\n      <td>...</td>\n      <td>...</td>\n      <td>...</td>\n      <td>...</td>\n      <td>...</td>\n      <td>...</td>\n      <td>...</td>\n      <td>...</td>\n      <td>...</td>\n      <td>...</td>\n      <td>...</td>\n    </tr>\n    <tr>\n      <th>OSUX92071</th>\n      <td>-1.932433e-06</td>\n      <td>30.368128</td>\n      <td>-0.013195</td>\n      <td>42.384783</td>\n      <td>2019.896767</td>\n      <td>-3.361987e-10</td>\n      <td>-0.013195</td>\n      <td>0.003691</td>\n      <td>-5.335003e-07</td>\n      <td>88.874194</td>\n      <td>...</td>\n      <td>0.000000</td>\n      <td>0.000223</td>\n      <td>101.259361</td>\n      <td>0.022347</td>\n      <td>797.302786</td>\n      <td>1495.831625</td>\n      <td>2.424151e-07</td>\n      <td>0.022347</td>\n      <td>0.231182</td>\n      <td>2</td>\n    </tr>\n    <tr>\n      <th>OSUX92008</th>\n      <td>-7.314997e-06</td>\n      <td>12.874876</td>\n      <td>-0.033016</td>\n      <td>60.044073</td>\n      <td>2330.556507</td>\n      <td>-2.641983e-09</td>\n      <td>-0.033016</td>\n      <td>0.003975</td>\n      <td>-1.188258e-06</td>\n      <td>70.383379</td>\n      <td>...</td>\n      <td>0.000000</td>\n      <td>0.000033</td>\n      <td>104.842801</td>\n      <td>0.033022</td>\n      <td>565.038959</td>\n      <td>977.382744</td>\n      <td>1.407212e-08</td>\n      <td>0.033022</td>\n      <td>0.113691</td>\n      <td>2</td>\n    </tr>\n    <tr>\n      <th>OSUX91143</th>\n      <td>-8.197858e-07</td>\n      <td>34.813154</td>\n      <td>-0.011116</td>\n      <td>90.066320</td>\n      <td>2741.029578</td>\n      <td>-1.094577e-10</td>\n      <td>-0.011116</td>\n      <td>0.001726</td>\n      <td>-2.145431e-07</td>\n      <td>85.697016</td>\n      <td>...</td>\n      <td>0.000087</td>\n      <td>0.000005</td>\n      <td>106.771327</td>\n      <td>0.011857</td>\n      <td>1043.556535</td>\n      <td>1521.500791</td>\n      <td>8.591675e-10</td>\n      <td>0.011857</td>\n      <td>0.040621</td>\n      <td>2</td>\n    </tr>\n    <tr>\n      <th>OSUX91121</th>\n      <td>-1.435370e-06</td>\n      <td>34.339105</td>\n      <td>-0.010799</td>\n      <td>66.956676</td>\n      <td>2660.409775</td>\n      <td>-2.802791e-10</td>\n      <td>-0.010799</td>\n      <td>0.002419</td>\n      <td>-1.680267e-07</td>\n      <td>65.905762</td>\n      <td>...</td>\n      <td>0.000557</td>\n      <td>0.000004</td>\n      <td>108.860939</td>\n      <td>0.011728</td>\n      <td>1119.869470</td>\n      <td>827.029713</td>\n      <td>6.772859e-10</td>\n      <td>0.011728</td>\n      <td>0.030566</td>\n      <td>2</td>\n    </tr>\n    <tr>\n      <th>950227D02</th>\n      <td>-1.521129e-06</td>\n      <td>25.816505</td>\n      <td>-0.027101</td>\n      <td>60.555710</td>\n      <td>2111.735728</td>\n      <td>-4.773323e-10</td>\n      <td>-0.027101</td>\n      <td>0.004826</td>\n      <td>-6.963304e-07</td>\n      <td>75.944465</td>\n      <td>...</td>\n      <td>0.000000</td>\n      <td>0.000003</td>\n      <td>108.928104</td>\n      <td>0.020923</td>\n      <td>257.519475</td>\n      <td>392.355301</td>\n      <td>5.492696e-10</td>\n      <td>0.020923</td>\n      <td>0.023782</td>\n      <td>0</td>\n    </tr>\n  </tbody>\n</table>\n<p>253 rows × 73 columns</p>\n</div>"
     },
     "execution_count": 3,
     "metadata": {},
     "output_type": "execute_result"
    }
   ],
   "source": [
    "pivoted_stats = Statistics.pivot_stats_df(dataframe=stats,\n",
    "                                          target_col_name='Species')\n",
    "pivoted_stats"
   ],
   "metadata": {
    "collapsed": false,
    "pycharm": {
     "name": "#%%\n"
    }
   }
  },
  {
   "cell_type": "code",
   "execution_count": 19,
   "outputs": [
    {
     "data": {
      "application/vnd.plotly.v1+json": {
       "config": {
        "plotlyServerURL": "https://plot.ly"
       },
       "data": [
        {
         "hovertemplate": "x=%{x}<br>y=%{y}<br>z=%{z}<br>color=%{marker.color}<extra></extra>",
         "legendgroup": "",
         "marker": {
          "color": [
           1,
           1,
           0,
           1,
           2,
           1,
           1,
           0,
           1,
           1,
           1,
           1,
           1,
           1,
           0,
           1,
           1,
           2,
           0,
           1,
           1,
           1,
           1,
           1,
           1,
           1,
           1,
           0,
           0,
           1,
           2,
           2,
           2,
           1,
           1,
           1,
           1,
           0,
           1,
           2,
           0,
           1,
           2,
           1,
           2,
           1,
           1,
           1,
           2,
           0,
           1,
           0,
           1,
           2,
           1,
           1,
           1,
           1,
           2,
           1,
           0,
           0,
           0,
           1,
           2,
           2,
           1,
           0,
           2,
           1,
           0,
           1,
           1,
           2,
           1,
           1,
           1,
           1,
           2,
           1,
           1,
           1,
           1,
           2
          ],
          "coloraxis": "coloraxis",
          "symbol": "circle"
         },
         "mode": "markers",
         "name": "",
         "scene": "scene",
         "showlegend": false,
         "type": "scatter3d",
         "x": [
          -347.07450833928516,
          1273.8300089967515,
          -5997.434593608511,
          -1663.292400853369,
          5924.700815024655,
          1365.0731978549838,
          -1821.9978046505353,
          -4690.067529717905,
          -776.2977159602123,
          7669.949936964694,
          -976.399662474557,
          810.7530589713411,
          408.8229560007588,
          3118.299386848759,
          -4634.380626213161,
          -5370.20711693004,
          2853.0602652796683,
          6278.514508774744,
          -5043.430569310168,
          -5192.2482001275175,
          -1480.4746317461309,
          1335.7369511925324,
          9627.787307120238,
          2668.2344669137347,
          -1150.689983364907,
          -2133.1950550990987,
          9194.725643073289,
          -6759.836336405845,
          -5929.215148872297,
          -1490.9650984348064,
          -2976.080275840496,
          6504.989227720147,
          8269.778484560502,
          -2500.015703249154,
          -4253.359878161771,
          5361.946846621567,
          7122.614861595877,
          -7203.143790299389,
          -1960.6319005095477,
          6290.39304285958,
          -7304.248294912769,
          -2256.0059828871954,
          692.7540706668523,
          -2211.6185913159425,
          6525.271317150179,
          8048.243089596551,
          -3726.476051793123,
          1706.31792618255,
          1556.7212845084769,
          -6516.826357790648,
          4236.226819338702,
          -6915.918368029184,
          304.4841980574452,
          2533.4138503848044,
          1692.2767146774752,
          1387.561394291275,
          -268.1644469842516,
          2353.751428450145,
          6146.480053453136,
          -2350.660989055208,
          -6960.958374942054,
          -5216.714788336432,
          -6158.573439460882,
          -2497.1373079055234,
          -46.916430952099965,
          7876.806406378848,
          -7557.769263810412,
          -5948.361465088149,
          2745.8621427845424,
          5537.032909151986,
          -8059.036417195986,
          -2055.213425417832,
          -1659.772792833748,
          1017.3621012883134,
          -535.9531459027223,
          1856.6175191501163,
          -21.808048264912532,
          3619.5629676798694,
          2809.2870181322787,
          -312.2601644859504,
          2244.395534588513,
          -832.8145858699658,
          -2551.918456256307,
          5345.926007374201
         ],
         "y": [
          2119.48889196476,
          974.9973358057777,
          -809.2635570204948,
          787.9525899545109,
          1581.6477579293692,
          4234.195091564124,
          -1640.2548771529894,
          -3853.3625621572032,
          -599.606673599986,
          -2095.1656216587285,
          -621.1726745457182,
          -1722.4963725056903,
          -3523.219714010576,
          1548.4726239495665,
          794.7247913094058,
          -207.43327121540295,
          2181.8999442475165,
          1386.9934302338465,
          -523.514797843227,
          -290.5213733490356,
          1484.7319628003127,
          -1810.6953990330278,
          -4268.880023462005,
          2540.622045905133,
          732.9186029816955,
          1883.2284549659864,
          -1009.7777834014474,
          -685.5631679648105,
          453.63226030492166,
          242.88749225947666,
          78.27254524067271,
          494.8160981094224,
          268.4600207506999,
          843.4656414991293,
          1197.2275595299755,
          -874.3165055171803,
          -2134.316990480037,
          -1019.083547781464,
          435.8331427050183,
          2352.877962257194,
          -1354.4409581690231,
          2029.0711495263477,
          2961.924397062845,
          1059.1200691590227,
          -3181.5920169002143,
          -1930.0726197285198,
          1375.919613314396,
          1579.9493503417286,
          3057.805777230264,
          -279.5140391647934,
          -1923.3741173972267,
          49.773523242007904,
          -393.3497535992898,
          1881.2702568302057,
          -2032.399541758783,
          1047.078944177307,
          2564.4813315826436,
          6503.569189429928,
          5475.3070581698485,
          -570.2273002708024,
          -551.1186207483025,
          -890.0781431244338,
          -201.32233174091417,
          667.8312460853684,
          4055.7208831454946,
          -1639.9485733262732,
          -1790.9538189737443,
          -221.86885661494017,
          -5026.578300173395,
          -1440.8394836836014,
          -592.9447657296432,
          -415.5720653075242,
          -722.9910974045199,
          -2324.9980260940397,
          -2461.5363974804973,
          1041.0276313410704,
          704.4979970915876,
          -5005.766491921968,
          -1360.049056981229,
          -1385.0746252275537,
          -471.1576435880162,
          -2186.7501241565055,
          167.7611992637493,
          3201.707818702443
         ],
         "z": [
          1146.7853127481808,
          529.1710792427534,
          -648.090762569324,
          -349.583210147053,
          -2846.0867711489186,
          1911.5906621085626,
          -1381.1717067480395,
          -41.712170955233866,
          534.5553164063019,
          -2929.4066082327076,
          -404.93447914988377,
          -1716.7881257588683,
          -174.13276579615692,
          -946.2876235279472,
          104.89597626472884,
          700.0418343693004,
          -1670.1489135814234,
          -1180.146998548083,
          -522.9868353547851,
          -668.2971241892872,
          791.0441583631697,
          -1023.3754720463096,
          -281.72879120834773,
          1806.5765654090415,
          -302.69125332246614,
          -1155.7229733479255,
          6117.7027594976325,
          647.5913654335511,
          362.6606195924996,
          -196.385678164664,
          -666.5286380628028,
          -298.6328490722069,
          -926.6204337514926,
          22.496554346599375,
          -46.618910313037624,
          -559.5442874305357,
          -433.7689187668037,
          -781.9577424071355,
          -578.3586685225793,
          -1658.4579361461185,
          75.04524375631657,
          -706.4665640522488,
          -82.07304983332497,
          1349.7950170019767,
          881.5515724494506,
          -1646.9310654617673,
          1167.0101780634843,
          142.19911912750663,
          -1569.419227997068,
          -565.5844918980658,
          993.7895625484728,
          996.9860681865199,
          -828.0413053979421,
          -2034.3637514542006,
          1931.0637738718235,
          435.45255113261095,
          896.8195944252934,
          1551.009367204771,
          1632.017309390079,
          -981.2786339502148,
          -319.3926453811867,
          100.05691228650836,
          -334.61778432366435,
          946.7313723333027,
          40.170954088666306,
          -1268.5563275755123,
          -754.3693950548322,
          -208.4995894017348,
          2580.267783995332,
          -701.2617876041337,
          -159.53690245464273,
          -136.04004218660154,
          -864.1159830950392,
          1147.6070319010512,
          -628.6461963418064,
          861.8058186314578,
          928.1957979220261,
          908.0756086584784,
          2409.927253591684,
          1506.5252723385756,
          1169.0206587242885,
          -576.8649871763147,
          961.5674694128825,
          -1531.5771159144213
         ]
        }
       ],
       "layout": {
        "coloraxis": {
         "colorbar": {
          "title": {
           "text": "color"
          }
         },
         "colorscale": [
          [
           0.0,
           "rgb(136, 204, 238)"
          ],
          [
           0.1,
           "rgb(204, 102, 119)"
          ],
          [
           0.2,
           "rgb(221, 204, 119)"
          ],
          [
           0.3,
           "rgb(17, 119, 51)"
          ],
          [
           0.4,
           "rgb(51, 34, 136)"
          ],
          [
           0.5,
           "rgb(170, 68, 153)"
          ],
          [
           0.6,
           "rgb(68, 170, 153)"
          ],
          [
           0.7,
           "rgb(153, 153, 51)"
          ],
          [
           0.8,
           "rgb(136, 34, 85)"
          ],
          [
           0.9,
           "rgb(102, 17, 0)"
          ],
          [
           1.0,
           "rgb(136, 136, 136)"
          ]
         ],
         "showscale": false
        },
        "legend": {
         "tracegroupgap": 0
        },
        "scene": {
         "domain": {
          "x": [
           0.0,
           1.0
          ],
          "y": [
           0.0,
           1.0
          ]
         },
         "xaxis": {
          "title": {
           "text": "x"
          }
         },
         "yaxis": {
          "title": {
           "text": "y"
          }
         },
         "zaxis": {
          "title": {
           "text": "z"
          }
         }
        },
        "template": {
         "data": {
          "bar": [
           {
            "error_x": {
             "color": "rgb(51,51,51)"
            },
            "error_y": {
             "color": "rgb(51,51,51)"
            },
            "marker": {
             "line": {
              "color": "rgb(237,237,237)",
              "width": 0.5
             },
             "pattern": {
              "fillmode": "overlay",
              "size": 10,
              "solidity": 0.2
             }
            },
            "type": "bar"
           }
          ],
          "barpolar": [
           {
            "marker": {
             "line": {
              "color": "rgb(237,237,237)",
              "width": 0.5
             },
             "pattern": {
              "fillmode": "overlay",
              "size": 10,
              "solidity": 0.2
             }
            },
            "type": "barpolar"
           }
          ],
          "carpet": [
           {
            "aaxis": {
             "endlinecolor": "rgb(51,51,51)",
             "gridcolor": "white",
             "linecolor": "white",
             "minorgridcolor": "white",
             "startlinecolor": "rgb(51,51,51)"
            },
            "baxis": {
             "endlinecolor": "rgb(51,51,51)",
             "gridcolor": "white",
             "linecolor": "white",
             "minorgridcolor": "white",
             "startlinecolor": "rgb(51,51,51)"
            },
            "type": "carpet"
           }
          ],
          "choropleth": [
           {
            "colorbar": {
             "outlinewidth": 0,
             "tickcolor": "rgb(237,237,237)",
             "ticklen": 6,
             "ticks": "inside"
            },
            "type": "choropleth"
           }
          ],
          "contour": [
           {
            "colorbar": {
             "outlinewidth": 0,
             "tickcolor": "rgb(237,237,237)",
             "ticklen": 6,
             "ticks": "inside"
            },
            "colorscale": [
             [
              0,
              "rgb(20,44,66)"
             ],
             [
              1,
              "rgb(90,179,244)"
             ]
            ],
            "type": "contour"
           }
          ],
          "contourcarpet": [
           {
            "colorbar": {
             "outlinewidth": 0,
             "tickcolor": "rgb(237,237,237)",
             "ticklen": 6,
             "ticks": "inside"
            },
            "type": "contourcarpet"
           }
          ],
          "heatmap": [
           {
            "colorbar": {
             "outlinewidth": 0,
             "tickcolor": "rgb(237,237,237)",
             "ticklen": 6,
             "ticks": "inside"
            },
            "colorscale": [
             [
              0,
              "rgb(20,44,66)"
             ],
             [
              1,
              "rgb(90,179,244)"
             ]
            ],
            "type": "heatmap"
           }
          ],
          "heatmapgl": [
           {
            "colorbar": {
             "outlinewidth": 0,
             "tickcolor": "rgb(237,237,237)",
             "ticklen": 6,
             "ticks": "inside"
            },
            "colorscale": [
             [
              0,
              "rgb(20,44,66)"
             ],
             [
              1,
              "rgb(90,179,244)"
             ]
            ],
            "type": "heatmapgl"
           }
          ],
          "histogram": [
           {
            "marker": {
             "pattern": {
              "fillmode": "overlay",
              "size": 10,
              "solidity": 0.2
             }
            },
            "type": "histogram"
           }
          ],
          "histogram2d": [
           {
            "colorbar": {
             "outlinewidth": 0,
             "tickcolor": "rgb(237,237,237)",
             "ticklen": 6,
             "ticks": "inside"
            },
            "colorscale": [
             [
              0,
              "rgb(20,44,66)"
             ],
             [
              1,
              "rgb(90,179,244)"
             ]
            ],
            "type": "histogram2d"
           }
          ],
          "histogram2dcontour": [
           {
            "colorbar": {
             "outlinewidth": 0,
             "tickcolor": "rgb(237,237,237)",
             "ticklen": 6,
             "ticks": "inside"
            },
            "colorscale": [
             [
              0,
              "rgb(20,44,66)"
             ],
             [
              1,
              "rgb(90,179,244)"
             ]
            ],
            "type": "histogram2dcontour"
           }
          ],
          "mesh3d": [
           {
            "colorbar": {
             "outlinewidth": 0,
             "tickcolor": "rgb(237,237,237)",
             "ticklen": 6,
             "ticks": "inside"
            },
            "type": "mesh3d"
           }
          ],
          "parcoords": [
           {
            "line": {
             "colorbar": {
              "outlinewidth": 0,
              "tickcolor": "rgb(237,237,237)",
              "ticklen": 6,
              "ticks": "inside"
             }
            },
            "type": "parcoords"
           }
          ],
          "pie": [
           {
            "automargin": true,
            "type": "pie"
           }
          ],
          "scatter": [
           {
            "marker": {
             "colorbar": {
              "outlinewidth": 0,
              "tickcolor": "rgb(237,237,237)",
              "ticklen": 6,
              "ticks": "inside"
             }
            },
            "type": "scatter"
           }
          ],
          "scatter3d": [
           {
            "line": {
             "colorbar": {
              "outlinewidth": 0,
              "tickcolor": "rgb(237,237,237)",
              "ticklen": 6,
              "ticks": "inside"
             }
            },
            "marker": {
             "colorbar": {
              "outlinewidth": 0,
              "tickcolor": "rgb(237,237,237)",
              "ticklen": 6,
              "ticks": "inside"
             }
            },
            "type": "scatter3d"
           }
          ],
          "scattercarpet": [
           {
            "marker": {
             "colorbar": {
              "outlinewidth": 0,
              "tickcolor": "rgb(237,237,237)",
              "ticklen": 6,
              "ticks": "inside"
             }
            },
            "type": "scattercarpet"
           }
          ],
          "scattergeo": [
           {
            "marker": {
             "colorbar": {
              "outlinewidth": 0,
              "tickcolor": "rgb(237,237,237)",
              "ticklen": 6,
              "ticks": "inside"
             }
            },
            "type": "scattergeo"
           }
          ],
          "scattergl": [
           {
            "marker": {
             "colorbar": {
              "outlinewidth": 0,
              "tickcolor": "rgb(237,237,237)",
              "ticklen": 6,
              "ticks": "inside"
             }
            },
            "type": "scattergl"
           }
          ],
          "scattermapbox": [
           {
            "marker": {
             "colorbar": {
              "outlinewidth": 0,
              "tickcolor": "rgb(237,237,237)",
              "ticklen": 6,
              "ticks": "inside"
             }
            },
            "type": "scattermapbox"
           }
          ],
          "scatterpolar": [
           {
            "marker": {
             "colorbar": {
              "outlinewidth": 0,
              "tickcolor": "rgb(237,237,237)",
              "ticklen": 6,
              "ticks": "inside"
             }
            },
            "type": "scatterpolar"
           }
          ],
          "scatterpolargl": [
           {
            "marker": {
             "colorbar": {
              "outlinewidth": 0,
              "tickcolor": "rgb(237,237,237)",
              "ticklen": 6,
              "ticks": "inside"
             }
            },
            "type": "scatterpolargl"
           }
          ],
          "scatterternary": [
           {
            "marker": {
             "colorbar": {
              "outlinewidth": 0,
              "tickcolor": "rgb(237,237,237)",
              "ticklen": 6,
              "ticks": "inside"
             }
            },
            "type": "scatterternary"
           }
          ],
          "surface": [
           {
            "colorbar": {
             "outlinewidth": 0,
             "tickcolor": "rgb(237,237,237)",
             "ticklen": 6,
             "ticks": "inside"
            },
            "colorscale": [
             [
              0,
              "rgb(20,44,66)"
             ],
             [
              1,
              "rgb(90,179,244)"
             ]
            ],
            "type": "surface"
           }
          ],
          "table": [
           {
            "cells": {
             "fill": {
              "color": "rgb(237,237,237)"
             },
             "line": {
              "color": "white"
             }
            },
            "header": {
             "fill": {
              "color": "rgb(217,217,217)"
             },
             "line": {
              "color": "white"
             }
            },
            "type": "table"
           }
          ]
         },
         "layout": {
          "annotationdefaults": {
           "arrowhead": 0,
           "arrowwidth": 1
          },
          "autotypenumbers": "strict",
          "coloraxis": {
           "colorbar": {
            "outlinewidth": 0,
            "tickcolor": "rgb(237,237,237)",
            "ticklen": 6,
            "ticks": "inside"
           }
          },
          "colorscale": {
           "sequential": [
            [
             0,
             "rgb(20,44,66)"
            ],
            [
             1,
             "rgb(90,179,244)"
            ]
           ],
           "sequentialminus": [
            [
             0,
             "rgb(20,44,66)"
            ],
            [
             1,
             "rgb(90,179,244)"
            ]
           ]
          },
          "colorway": [
           "#F8766D",
           "#A3A500",
           "#00BF7D",
           "#00B0F6",
           "#E76BF3"
          ],
          "font": {
           "color": "rgb(51,51,51)"
          },
          "geo": {
           "bgcolor": "white",
           "lakecolor": "white",
           "landcolor": "rgb(237,237,237)",
           "showlakes": true,
           "showland": true,
           "subunitcolor": "white"
          },
          "hoverlabel": {
           "align": "left"
          },
          "hovermode": "closest",
          "paper_bgcolor": "white",
          "plot_bgcolor": "rgb(237,237,237)",
          "polar": {
           "angularaxis": {
            "gridcolor": "white",
            "linecolor": "white",
            "showgrid": true,
            "tickcolor": "rgb(51,51,51)",
            "ticks": "outside"
           },
           "bgcolor": "rgb(237,237,237)",
           "radialaxis": {
            "gridcolor": "white",
            "linecolor": "white",
            "showgrid": true,
            "tickcolor": "rgb(51,51,51)",
            "ticks": "outside"
           }
          },
          "scene": {
           "xaxis": {
            "backgroundcolor": "rgb(237,237,237)",
            "gridcolor": "white",
            "gridwidth": 2,
            "linecolor": "white",
            "showbackground": true,
            "showgrid": true,
            "tickcolor": "rgb(51,51,51)",
            "ticks": "outside",
            "zerolinecolor": "white"
           },
           "yaxis": {
            "backgroundcolor": "rgb(237,237,237)",
            "gridcolor": "white",
            "gridwidth": 2,
            "linecolor": "white",
            "showbackground": true,
            "showgrid": true,
            "tickcolor": "rgb(51,51,51)",
            "ticks": "outside",
            "zerolinecolor": "white"
           },
           "zaxis": {
            "backgroundcolor": "rgb(237,237,237)",
            "gridcolor": "white",
            "gridwidth": 2,
            "linecolor": "white",
            "showbackground": true,
            "showgrid": true,
            "tickcolor": "rgb(51,51,51)",
            "ticks": "outside",
            "zerolinecolor": "white"
           }
          },
          "shapedefaults": {
           "fillcolor": "black",
           "line": {
            "width": 0
           },
           "opacity": 0.3
          },
          "ternary": {
           "aaxis": {
            "gridcolor": "white",
            "linecolor": "white",
            "showgrid": true,
            "tickcolor": "rgb(51,51,51)",
            "ticks": "outside"
           },
           "baxis": {
            "gridcolor": "white",
            "linecolor": "white",
            "showgrid": true,
            "tickcolor": "rgb(51,51,51)",
            "ticks": "outside"
           },
           "bgcolor": "rgb(237,237,237)",
           "caxis": {
            "gridcolor": "white",
            "linecolor": "white",
            "showgrid": true,
            "tickcolor": "rgb(51,51,51)",
            "ticks": "outside"
           }
          },
          "xaxis": {
           "automargin": true,
           "gridcolor": "white",
           "linecolor": "white",
           "showgrid": true,
           "tickcolor": "rgb(51,51,51)",
           "ticks": "outside",
           "title": {
            "standoff": 15
           },
           "zerolinecolor": "white"
          },
          "yaxis": {
           "automargin": true,
           "gridcolor": "white",
           "linecolor": "white",
           "showgrid": true,
           "tickcolor": "rgb(51,51,51)",
           "ticks": "outside",
           "title": {
            "standoff": 15
           },
           "zerolinecolor": "white"
          }
         }
        },
        "title": {
         "text": "Model: Random Forest, f1_score: 0.94"
        }
       }
      },
      "text/html": "<div>                            <div id=\"6732068b-fa42-40a9-a122-d8135db9d3a5\" class=\"plotly-graph-div\" style=\"height:525px; width:100%;\"></div>            <script type=\"text/javascript\">                require([\"plotly\"], function(Plotly) {                    window.PLOTLYENV=window.PLOTLYENV || {};                                    if (document.getElementById(\"6732068b-fa42-40a9-a122-d8135db9d3a5\")) {                    Plotly.newPlot(                        \"6732068b-fa42-40a9-a122-d8135db9d3a5\",                        [{\"hovertemplate\":\"x=%{x}<br>y=%{y}<br>z=%{z}<br>color=%{marker.color}<extra></extra>\",\"legendgroup\":\"\",\"marker\":{\"color\":[1,1,0,1,2,1,1,0,1,1,1,1,1,1,0,1,1,2,0,1,1,1,1,1,1,1,1,0,0,1,2,2,2,1,1,1,1,0,1,2,0,1,2,1,2,1,1,1,2,0,1,0,1,2,1,1,1,1,2,1,0,0,0,1,2,2,1,0,2,1,0,1,1,2,1,1,1,1,2,1,1,1,1,2],\"coloraxis\":\"coloraxis\",\"symbol\":\"circle\"},\"mode\":\"markers\",\"name\":\"\",\"scene\":\"scene\",\"showlegend\":false,\"type\":\"scatter3d\",\"x\":[-347.07450833928516,1273.8300089967515,-5997.434593608511,-1663.292400853369,5924.700815024655,1365.0731978549838,-1821.9978046505353,-4690.067529717905,-776.2977159602123,7669.949936964694,-976.399662474557,810.7530589713411,408.8229560007588,3118.299386848759,-4634.380626213161,-5370.20711693004,2853.0602652796683,6278.514508774744,-5043.430569310168,-5192.2482001275175,-1480.4746317461309,1335.7369511925324,9627.787307120238,2668.2344669137347,-1150.689983364907,-2133.1950550990987,9194.725643073289,-6759.836336405845,-5929.215148872297,-1490.9650984348064,-2976.080275840496,6504.989227720147,8269.778484560502,-2500.015703249154,-4253.359878161771,5361.946846621567,7122.614861595877,-7203.143790299389,-1960.6319005095477,6290.39304285958,-7304.248294912769,-2256.0059828871954,692.7540706668523,-2211.6185913159425,6525.271317150179,8048.243089596551,-3726.476051793123,1706.31792618255,1556.7212845084769,-6516.826357790648,4236.226819338702,-6915.918368029184,304.4841980574452,2533.4138503848044,1692.2767146774752,1387.561394291275,-268.1644469842516,2353.751428450145,6146.480053453136,-2350.660989055208,-6960.958374942054,-5216.714788336432,-6158.573439460882,-2497.1373079055234,-46.916430952099965,7876.806406378848,-7557.769263810412,-5948.361465088149,2745.8621427845424,5537.032909151986,-8059.036417195986,-2055.213425417832,-1659.772792833748,1017.3621012883134,-535.9531459027223,1856.6175191501163,-21.808048264912532,3619.5629676798694,2809.2870181322787,-312.2601644859504,2244.395534588513,-832.8145858699658,-2551.918456256307,5345.926007374201],\"y\":[2119.48889196476,974.9973358057777,-809.2635570204948,787.9525899545109,1581.6477579293692,4234.195091564124,-1640.2548771529894,-3853.3625621572032,-599.606673599986,-2095.1656216587285,-621.1726745457182,-1722.4963725056903,-3523.219714010576,1548.4726239495665,794.7247913094058,-207.43327121540295,2181.8999442475165,1386.9934302338465,-523.514797843227,-290.5213733490356,1484.7319628003127,-1810.6953990330278,-4268.880023462005,2540.622045905133,732.9186029816955,1883.2284549659864,-1009.7777834014474,-685.5631679648105,453.63226030492166,242.88749225947666,78.27254524067271,494.8160981094224,268.4600207506999,843.4656414991293,1197.2275595299755,-874.3165055171803,-2134.316990480037,-1019.083547781464,435.8331427050183,2352.877962257194,-1354.4409581690231,2029.0711495263477,2961.924397062845,1059.1200691590227,-3181.5920169002143,-1930.0726197285198,1375.919613314396,1579.9493503417286,3057.805777230264,-279.5140391647934,-1923.3741173972267,49.773523242007904,-393.3497535992898,1881.2702568302057,-2032.399541758783,1047.078944177307,2564.4813315826436,6503.569189429928,5475.3070581698485,-570.2273002708024,-551.1186207483025,-890.0781431244338,-201.32233174091417,667.8312460853684,4055.7208831454946,-1639.9485733262732,-1790.9538189737443,-221.86885661494017,-5026.578300173395,-1440.8394836836014,-592.9447657296432,-415.5720653075242,-722.9910974045199,-2324.9980260940397,-2461.5363974804973,1041.0276313410704,704.4979970915876,-5005.766491921968,-1360.049056981229,-1385.0746252275537,-471.1576435880162,-2186.7501241565055,167.7611992637493,3201.707818702443],\"z\":[1146.7853127481808,529.1710792427534,-648.090762569324,-349.583210147053,-2846.0867711489186,1911.5906621085626,-1381.1717067480395,-41.712170955233866,534.5553164063019,-2929.4066082327076,-404.93447914988377,-1716.7881257588683,-174.13276579615692,-946.2876235279472,104.89597626472884,700.0418343693004,-1670.1489135814234,-1180.146998548083,-522.9868353547851,-668.2971241892872,791.0441583631697,-1023.3754720463096,-281.72879120834773,1806.5765654090415,-302.69125332246614,-1155.7229733479255,6117.7027594976325,647.5913654335511,362.6606195924996,-196.385678164664,-666.5286380628028,-298.6328490722069,-926.6204337514926,22.496554346599375,-46.618910313037624,-559.5442874305357,-433.7689187668037,-781.9577424071355,-578.3586685225793,-1658.4579361461185,75.04524375631657,-706.4665640522488,-82.07304983332497,1349.7950170019767,881.5515724494506,-1646.9310654617673,1167.0101780634843,142.19911912750663,-1569.419227997068,-565.5844918980658,993.7895625484728,996.9860681865199,-828.0413053979421,-2034.3637514542006,1931.0637738718235,435.45255113261095,896.8195944252934,1551.009367204771,1632.017309390079,-981.2786339502148,-319.3926453811867,100.05691228650836,-334.61778432366435,946.7313723333027,40.170954088666306,-1268.5563275755123,-754.3693950548322,-208.4995894017348,2580.267783995332,-701.2617876041337,-159.53690245464273,-136.04004218660154,-864.1159830950392,1147.6070319010512,-628.6461963418064,861.8058186314578,928.1957979220261,908.0756086584784,2409.927253591684,1506.5252723385756,1169.0206587242885,-576.8649871763147,961.5674694128825,-1531.5771159144213]}],                        {\"coloraxis\":{\"colorbar\":{\"title\":{\"text\":\"color\"}},\"colorscale\":[[0.0,\"rgb(136, 204, 238)\"],[0.1,\"rgb(204, 102, 119)\"],[0.2,\"rgb(221, 204, 119)\"],[0.3,\"rgb(17, 119, 51)\"],[0.4,\"rgb(51, 34, 136)\"],[0.5,\"rgb(170, 68, 153)\"],[0.6,\"rgb(68, 170, 153)\"],[0.7,\"rgb(153, 153, 51)\"],[0.8,\"rgb(136, 34, 85)\"],[0.9,\"rgb(102, 17, 0)\"],[1.0,\"rgb(136, 136, 136)\"]],\"showscale\":false},\"legend\":{\"tracegroupgap\":0},\"scene\":{\"domain\":{\"x\":[0.0,1.0],\"y\":[0.0,1.0]},\"xaxis\":{\"title\":{\"text\":\"x\"}},\"yaxis\":{\"title\":{\"text\":\"y\"}},\"zaxis\":{\"title\":{\"text\":\"z\"}}},\"template\":{\"data\":{\"bar\":[{\"error_x\":{\"color\":\"rgb(51,51,51)\"},\"error_y\":{\"color\":\"rgb(51,51,51)\"},\"marker\":{\"line\":{\"color\":\"rgb(237,237,237)\",\"width\":0.5},\"pattern\":{\"fillmode\":\"overlay\",\"size\":10,\"solidity\":0.2}},\"type\":\"bar\"}],\"barpolar\":[{\"marker\":{\"line\":{\"color\":\"rgb(237,237,237)\",\"width\":0.5},\"pattern\":{\"fillmode\":\"overlay\",\"size\":10,\"solidity\":0.2}},\"type\":\"barpolar\"}],\"carpet\":[{\"aaxis\":{\"endlinecolor\":\"rgb(51,51,51)\",\"gridcolor\":\"white\",\"linecolor\":\"white\",\"minorgridcolor\":\"white\",\"startlinecolor\":\"rgb(51,51,51)\"},\"baxis\":{\"endlinecolor\":\"rgb(51,51,51)\",\"gridcolor\":\"white\",\"linecolor\":\"white\",\"minorgridcolor\":\"white\",\"startlinecolor\":\"rgb(51,51,51)\"},\"type\":\"carpet\"}],\"choropleth\":[{\"colorbar\":{\"outlinewidth\":0,\"tickcolor\":\"rgb(237,237,237)\",\"ticklen\":6,\"ticks\":\"inside\"},\"type\":\"choropleth\"}],\"contour\":[{\"colorbar\":{\"outlinewidth\":0,\"tickcolor\":\"rgb(237,237,237)\",\"ticklen\":6,\"ticks\":\"inside\"},\"colorscale\":[[0,\"rgb(20,44,66)\"],[1,\"rgb(90,179,244)\"]],\"type\":\"contour\"}],\"contourcarpet\":[{\"colorbar\":{\"outlinewidth\":0,\"tickcolor\":\"rgb(237,237,237)\",\"ticklen\":6,\"ticks\":\"inside\"},\"type\":\"contourcarpet\"}],\"heatmap\":[{\"colorbar\":{\"outlinewidth\":0,\"tickcolor\":\"rgb(237,237,237)\",\"ticklen\":6,\"ticks\":\"inside\"},\"colorscale\":[[0,\"rgb(20,44,66)\"],[1,\"rgb(90,179,244)\"]],\"type\":\"heatmap\"}],\"heatmapgl\":[{\"colorbar\":{\"outlinewidth\":0,\"tickcolor\":\"rgb(237,237,237)\",\"ticklen\":6,\"ticks\":\"inside\"},\"colorscale\":[[0,\"rgb(20,44,66)\"],[1,\"rgb(90,179,244)\"]],\"type\":\"heatmapgl\"}],\"histogram\":[{\"marker\":{\"pattern\":{\"fillmode\":\"overlay\",\"size\":10,\"solidity\":0.2}},\"type\":\"histogram\"}],\"histogram2d\":[{\"colorbar\":{\"outlinewidth\":0,\"tickcolor\":\"rgb(237,237,237)\",\"ticklen\":6,\"ticks\":\"inside\"},\"colorscale\":[[0,\"rgb(20,44,66)\"],[1,\"rgb(90,179,244)\"]],\"type\":\"histogram2d\"}],\"histogram2dcontour\":[{\"colorbar\":{\"outlinewidth\":0,\"tickcolor\":\"rgb(237,237,237)\",\"ticklen\":6,\"ticks\":\"inside\"},\"colorscale\":[[0,\"rgb(20,44,66)\"],[1,\"rgb(90,179,244)\"]],\"type\":\"histogram2dcontour\"}],\"mesh3d\":[{\"colorbar\":{\"outlinewidth\":0,\"tickcolor\":\"rgb(237,237,237)\",\"ticklen\":6,\"ticks\":\"inside\"},\"type\":\"mesh3d\"}],\"parcoords\":[{\"line\":{\"colorbar\":{\"outlinewidth\":0,\"tickcolor\":\"rgb(237,237,237)\",\"ticklen\":6,\"ticks\":\"inside\"}},\"type\":\"parcoords\"}],\"pie\":[{\"automargin\":true,\"type\":\"pie\"}],\"scatter\":[{\"marker\":{\"colorbar\":{\"outlinewidth\":0,\"tickcolor\":\"rgb(237,237,237)\",\"ticklen\":6,\"ticks\":\"inside\"}},\"type\":\"scatter\"}],\"scatter3d\":[{\"line\":{\"colorbar\":{\"outlinewidth\":0,\"tickcolor\":\"rgb(237,237,237)\",\"ticklen\":6,\"ticks\":\"inside\"}},\"marker\":{\"colorbar\":{\"outlinewidth\":0,\"tickcolor\":\"rgb(237,237,237)\",\"ticklen\":6,\"ticks\":\"inside\"}},\"type\":\"scatter3d\"}],\"scattercarpet\":[{\"marker\":{\"colorbar\":{\"outlinewidth\":0,\"tickcolor\":\"rgb(237,237,237)\",\"ticklen\":6,\"ticks\":\"inside\"}},\"type\":\"scattercarpet\"}],\"scattergeo\":[{\"marker\":{\"colorbar\":{\"outlinewidth\":0,\"tickcolor\":\"rgb(237,237,237)\",\"ticklen\":6,\"ticks\":\"inside\"}},\"type\":\"scattergeo\"}],\"scattergl\":[{\"marker\":{\"colorbar\":{\"outlinewidth\":0,\"tickcolor\":\"rgb(237,237,237)\",\"ticklen\":6,\"ticks\":\"inside\"}},\"type\":\"scattergl\"}],\"scattermapbox\":[{\"marker\":{\"colorbar\":{\"outlinewidth\":0,\"tickcolor\":\"rgb(237,237,237)\",\"ticklen\":6,\"ticks\":\"inside\"}},\"type\":\"scattermapbox\"}],\"scatterpolar\":[{\"marker\":{\"colorbar\":{\"outlinewidth\":0,\"tickcolor\":\"rgb(237,237,237)\",\"ticklen\":6,\"ticks\":\"inside\"}},\"type\":\"scatterpolar\"}],\"scatterpolargl\":[{\"marker\":{\"colorbar\":{\"outlinewidth\":0,\"tickcolor\":\"rgb(237,237,237)\",\"ticklen\":6,\"ticks\":\"inside\"}},\"type\":\"scatterpolargl\"}],\"scatterternary\":[{\"marker\":{\"colorbar\":{\"outlinewidth\":0,\"tickcolor\":\"rgb(237,237,237)\",\"ticklen\":6,\"ticks\":\"inside\"}},\"type\":\"scatterternary\"}],\"surface\":[{\"colorbar\":{\"outlinewidth\":0,\"tickcolor\":\"rgb(237,237,237)\",\"ticklen\":6,\"ticks\":\"inside\"},\"colorscale\":[[0,\"rgb(20,44,66)\"],[1,\"rgb(90,179,244)\"]],\"type\":\"surface\"}],\"table\":[{\"cells\":{\"fill\":{\"color\":\"rgb(237,237,237)\"},\"line\":{\"color\":\"white\"}},\"header\":{\"fill\":{\"color\":\"rgb(217,217,217)\"},\"line\":{\"color\":\"white\"}},\"type\":\"table\"}]},\"layout\":{\"annotationdefaults\":{\"arrowhead\":0,\"arrowwidth\":1},\"autotypenumbers\":\"strict\",\"coloraxis\":{\"colorbar\":{\"outlinewidth\":0,\"tickcolor\":\"rgb(237,237,237)\",\"ticklen\":6,\"ticks\":\"inside\"}},\"colorscale\":{\"sequential\":[[0,\"rgb(20,44,66)\"],[1,\"rgb(90,179,244)\"]],\"sequentialminus\":[[0,\"rgb(20,44,66)\"],[1,\"rgb(90,179,244)\"]]},\"colorway\":[\"#F8766D\",\"#A3A500\",\"#00BF7D\",\"#00B0F6\",\"#E76BF3\"],\"font\":{\"color\":\"rgb(51,51,51)\"},\"geo\":{\"bgcolor\":\"white\",\"lakecolor\":\"white\",\"landcolor\":\"rgb(237,237,237)\",\"showlakes\":true,\"showland\":true,\"subunitcolor\":\"white\"},\"hoverlabel\":{\"align\":\"left\"},\"hovermode\":\"closest\",\"paper_bgcolor\":\"white\",\"plot_bgcolor\":\"rgb(237,237,237)\",\"polar\":{\"angularaxis\":{\"gridcolor\":\"white\",\"linecolor\":\"white\",\"showgrid\":true,\"tickcolor\":\"rgb(51,51,51)\",\"ticks\":\"outside\"},\"bgcolor\":\"rgb(237,237,237)\",\"radialaxis\":{\"gridcolor\":\"white\",\"linecolor\":\"white\",\"showgrid\":true,\"tickcolor\":\"rgb(51,51,51)\",\"ticks\":\"outside\"}},\"scene\":{\"xaxis\":{\"backgroundcolor\":\"rgb(237,237,237)\",\"gridcolor\":\"white\",\"gridwidth\":2,\"linecolor\":\"white\",\"showbackground\":true,\"showgrid\":true,\"tickcolor\":\"rgb(51,51,51)\",\"ticks\":\"outside\",\"zerolinecolor\":\"white\"},\"yaxis\":{\"backgroundcolor\":\"rgb(237,237,237)\",\"gridcolor\":\"white\",\"gridwidth\":2,\"linecolor\":\"white\",\"showbackground\":true,\"showgrid\":true,\"tickcolor\":\"rgb(51,51,51)\",\"ticks\":\"outside\",\"zerolinecolor\":\"white\"},\"zaxis\":{\"backgroundcolor\":\"rgb(237,237,237)\",\"gridcolor\":\"white\",\"gridwidth\":2,\"linecolor\":\"white\",\"showbackground\":true,\"showgrid\":true,\"tickcolor\":\"rgb(51,51,51)\",\"ticks\":\"outside\",\"zerolinecolor\":\"white\"}},\"shapedefaults\":{\"fillcolor\":\"black\",\"line\":{\"width\":0},\"opacity\":0.3},\"ternary\":{\"aaxis\":{\"gridcolor\":\"white\",\"linecolor\":\"white\",\"showgrid\":true,\"tickcolor\":\"rgb(51,51,51)\",\"ticks\":\"outside\"},\"baxis\":{\"gridcolor\":\"white\",\"linecolor\":\"white\",\"showgrid\":true,\"tickcolor\":\"rgb(51,51,51)\",\"ticks\":\"outside\"},\"bgcolor\":\"rgb(237,237,237)\",\"caxis\":{\"gridcolor\":\"white\",\"linecolor\":\"white\",\"showgrid\":true,\"tickcolor\":\"rgb(51,51,51)\",\"ticks\":\"outside\"}},\"xaxis\":{\"automargin\":true,\"gridcolor\":\"white\",\"linecolor\":\"white\",\"showgrid\":true,\"tickcolor\":\"rgb(51,51,51)\",\"ticks\":\"outside\",\"title\":{\"standoff\":15},\"zerolinecolor\":\"white\"},\"yaxis\":{\"automargin\":true,\"gridcolor\":\"white\",\"linecolor\":\"white\",\"showgrid\":true,\"tickcolor\":\"rgb(51,51,51)\",\"ticks\":\"outside\",\"title\":{\"standoff\":15},\"zerolinecolor\":\"white\"}}},\"title\":{\"text\":\"Model: Random Forest, f1_score: 0.94\"}},                        {\"responsive\": true}                    ).then(function(){\n                            \nvar gd = document.getElementById('6732068b-fa42-40a9-a122-d8135db9d3a5');\nvar x = new MutationObserver(function (mutations, observer) {{\n        var display = window.getComputedStyle(gd).display;\n        if (!display || display === 'none') {{\n            console.log([gd, 'removed!']);\n            Plotly.purge(gd);\n            observer.disconnect();\n        }}\n}});\n\n// Listen for the removal of the full notebook cells\nvar notebookContainer = gd.closest('#notebook-container');\nif (notebookContainer) {{\n    x.observe(notebookContainer, {childList: true});\n}}\n\n// Listen for the clearing of the current output cell\nvar outputEl = gd.closest('.output');\nif (outputEl) {{\n    x.observe(outputEl, {childList: true});\n}}\n\n                        })                };                });            </script>        </div>"
     },
     "metadata": {},
     "output_type": "display_data"
    },
    {
     "data": {
      "application/vnd.plotly.v1+json": {
       "config": {
        "plotlyServerURL": "https://plot.ly"
       },
       "data": [
        {
         "hovertemplate": "x=%{x}<br>y=%{y}<br>z=%{z}<br>color=%{marker.color}<extra></extra>",
         "legendgroup": "",
         "marker": {
          "color": [
           1,
           2,
           0,
           1,
           2,
           2,
           0,
           2,
           1,
           2,
           1,
           1,
           2,
           1,
           0,
           0,
           1,
           2,
           0,
           0,
           1,
           2,
           2,
           1,
           1,
           1,
           2,
           0,
           0,
           1,
           0,
           2,
           2,
           1,
           0,
           1,
           2,
           0,
           0,
           2,
           0,
           1,
           2,
           1,
           2,
           2,
           1,
           2,
           2,
           0,
           0,
           0,
           0,
           2,
           2,
           1,
           1,
           1,
           2,
           1,
           0,
           0,
           0,
           1,
           2,
           2,
           0,
           0,
           2,
           1,
           0,
           0,
           0,
           2,
           0,
           1,
           1,
           2,
           2,
           1,
           1,
           0,
           1,
           2
          ],
          "coloraxis": "coloraxis",
          "symbol": "circle"
         },
         "mode": "markers",
         "name": "",
         "scene": "scene",
         "showlegend": false,
         "type": "scatter3d",
         "x": [
          -347.07450833928516,
          1273.8300089967515,
          -5997.434593608511,
          -1663.292400853369,
          5924.700815024655,
          1365.0731978549838,
          -1821.9978046505353,
          -4690.067529717905,
          -776.2977159602123,
          7669.949936964694,
          -976.399662474557,
          810.7530589713411,
          408.8229560007588,
          3118.299386848759,
          -4634.380626213161,
          -5370.20711693004,
          2853.0602652796683,
          6278.514508774744,
          -5043.430569310168,
          -5192.2482001275175,
          -1480.4746317461309,
          1335.7369511925324,
          9627.787307120238,
          2668.2344669137347,
          -1150.689983364907,
          -2133.1950550990987,
          9194.725643073289,
          -6759.836336405845,
          -5929.215148872297,
          -1490.9650984348064,
          -2976.080275840496,
          6504.989227720147,
          8269.778484560502,
          -2500.015703249154,
          -4253.359878161771,
          5361.946846621567,
          7122.614861595877,
          -7203.143790299389,
          -1960.6319005095477,
          6290.39304285958,
          -7304.248294912769,
          -2256.0059828871954,
          692.7540706668523,
          -2211.6185913159425,
          6525.271317150179,
          8048.243089596551,
          -3726.476051793123,
          1706.31792618255,
          1556.7212845084769,
          -6516.826357790648,
          4236.226819338702,
          -6915.918368029184,
          304.4841980574452,
          2533.4138503848044,
          1692.2767146774752,
          1387.561394291275,
          -268.1644469842516,
          2353.751428450145,
          6146.480053453136,
          -2350.660989055208,
          -6960.958374942054,
          -5216.714788336432,
          -6158.573439460882,
          -2497.1373079055234,
          -46.916430952099965,
          7876.806406378848,
          -7557.769263810412,
          -5948.361465088149,
          2745.8621427845424,
          5537.032909151986,
          -8059.036417195986,
          -2055.213425417832,
          -1659.772792833748,
          1017.3621012883134,
          -535.9531459027223,
          1856.6175191501163,
          -21.808048264912532,
          3619.5629676798694,
          2809.2870181322787,
          -312.2601644859504,
          2244.395534588513,
          -832.8145858699658,
          -2551.918456256307,
          5345.926007374201
         ],
         "y": [
          2119.48889196476,
          974.9973358057777,
          -809.2635570204948,
          787.9525899545109,
          1581.6477579293692,
          4234.195091564124,
          -1640.2548771529894,
          -3853.3625621572032,
          -599.606673599986,
          -2095.1656216587285,
          -621.1726745457182,
          -1722.4963725056903,
          -3523.219714010576,
          1548.4726239495665,
          794.7247913094058,
          -207.43327121540295,
          2181.8999442475165,
          1386.9934302338465,
          -523.514797843227,
          -290.5213733490356,
          1484.7319628003127,
          -1810.6953990330278,
          -4268.880023462005,
          2540.622045905133,
          732.9186029816955,
          1883.2284549659864,
          -1009.7777834014474,
          -685.5631679648105,
          453.63226030492166,
          242.88749225947666,
          78.27254524067271,
          494.8160981094224,
          268.4600207506999,
          843.4656414991293,
          1197.2275595299755,
          -874.3165055171803,
          -2134.316990480037,
          -1019.083547781464,
          435.8331427050183,
          2352.877962257194,
          -1354.4409581690231,
          2029.0711495263477,
          2961.924397062845,
          1059.1200691590227,
          -3181.5920169002143,
          -1930.0726197285198,
          1375.919613314396,
          1579.9493503417286,
          3057.805777230264,
          -279.5140391647934,
          -1923.3741173972267,
          49.773523242007904,
          -393.3497535992898,
          1881.2702568302057,
          -2032.399541758783,
          1047.078944177307,
          2564.4813315826436,
          6503.569189429928,
          5475.3070581698485,
          -570.2273002708024,
          -551.1186207483025,
          -890.0781431244338,
          -201.32233174091417,
          667.8312460853684,
          4055.7208831454946,
          -1639.9485733262732,
          -1790.9538189737443,
          -221.86885661494017,
          -5026.578300173395,
          -1440.8394836836014,
          -592.9447657296432,
          -415.5720653075242,
          -722.9910974045199,
          -2324.9980260940397,
          -2461.5363974804973,
          1041.0276313410704,
          704.4979970915876,
          -5005.766491921968,
          -1360.049056981229,
          -1385.0746252275537,
          -471.1576435880162,
          -2186.7501241565055,
          167.7611992637493,
          3201.707818702443
         ],
         "z": [
          1146.7853127481808,
          529.1710792427534,
          -648.090762569324,
          -349.583210147053,
          -2846.0867711489186,
          1911.5906621085626,
          -1381.1717067480395,
          -41.712170955233866,
          534.5553164063019,
          -2929.4066082327076,
          -404.93447914988377,
          -1716.7881257588683,
          -174.13276579615692,
          -946.2876235279472,
          104.89597626472884,
          700.0418343693004,
          -1670.1489135814234,
          -1180.146998548083,
          -522.9868353547851,
          -668.2971241892872,
          791.0441583631697,
          -1023.3754720463096,
          -281.72879120834773,
          1806.5765654090415,
          -302.69125332246614,
          -1155.7229733479255,
          6117.7027594976325,
          647.5913654335511,
          362.6606195924996,
          -196.385678164664,
          -666.5286380628028,
          -298.6328490722069,
          -926.6204337514926,
          22.496554346599375,
          -46.618910313037624,
          -559.5442874305357,
          -433.7689187668037,
          -781.9577424071355,
          -578.3586685225793,
          -1658.4579361461185,
          75.04524375631657,
          -706.4665640522488,
          -82.07304983332497,
          1349.7950170019767,
          881.5515724494506,
          -1646.9310654617673,
          1167.0101780634843,
          142.19911912750663,
          -1569.419227997068,
          -565.5844918980658,
          993.7895625484728,
          996.9860681865199,
          -828.0413053979421,
          -2034.3637514542006,
          1931.0637738718235,
          435.45255113261095,
          896.8195944252934,
          1551.009367204771,
          1632.017309390079,
          -981.2786339502148,
          -319.3926453811867,
          100.05691228650836,
          -334.61778432366435,
          946.7313723333027,
          40.170954088666306,
          -1268.5563275755123,
          -754.3693950548322,
          -208.4995894017348,
          2580.267783995332,
          -701.2617876041337,
          -159.53690245464273,
          -136.04004218660154,
          -864.1159830950392,
          1147.6070319010512,
          -628.6461963418064,
          861.8058186314578,
          928.1957979220261,
          908.0756086584784,
          2409.927253591684,
          1506.5252723385756,
          1169.0206587242885,
          -576.8649871763147,
          961.5674694128825,
          -1531.5771159144213
         ]
        }
       ],
       "layout": {
        "coloraxis": {
         "colorbar": {
          "title": {
           "text": "color"
          }
         },
         "colorscale": [
          [
           0.0,
           "rgb(136, 204, 238)"
          ],
          [
           0.1,
           "rgb(204, 102, 119)"
          ],
          [
           0.2,
           "rgb(221, 204, 119)"
          ],
          [
           0.3,
           "rgb(17, 119, 51)"
          ],
          [
           0.4,
           "rgb(51, 34, 136)"
          ],
          [
           0.5,
           "rgb(170, 68, 153)"
          ],
          [
           0.6,
           "rgb(68, 170, 153)"
          ],
          [
           0.7,
           "rgb(153, 153, 51)"
          ],
          [
           0.8,
           "rgb(136, 34, 85)"
          ],
          [
           0.9,
           "rgb(102, 17, 0)"
          ],
          [
           1.0,
           "rgb(136, 136, 136)"
          ]
         ],
         "showscale": false
        },
        "legend": {
         "tracegroupgap": 0
        },
        "scene": {
         "domain": {
          "x": [
           0.0,
           1.0
          ],
          "y": [
           0.0,
           1.0
          ]
         },
         "xaxis": {
          "title": {
           "text": "x"
          }
         },
         "yaxis": {
          "title": {
           "text": "y"
          }
         },
         "zaxis": {
          "title": {
           "text": "z"
          }
         }
        },
        "template": {
         "data": {
          "bar": [
           {
            "error_x": {
             "color": "rgb(51,51,51)"
            },
            "error_y": {
             "color": "rgb(51,51,51)"
            },
            "marker": {
             "line": {
              "color": "rgb(237,237,237)",
              "width": 0.5
             },
             "pattern": {
              "fillmode": "overlay",
              "size": 10,
              "solidity": 0.2
             }
            },
            "type": "bar"
           }
          ],
          "barpolar": [
           {
            "marker": {
             "line": {
              "color": "rgb(237,237,237)",
              "width": 0.5
             },
             "pattern": {
              "fillmode": "overlay",
              "size": 10,
              "solidity": 0.2
             }
            },
            "type": "barpolar"
           }
          ],
          "carpet": [
           {
            "aaxis": {
             "endlinecolor": "rgb(51,51,51)",
             "gridcolor": "white",
             "linecolor": "white",
             "minorgridcolor": "white",
             "startlinecolor": "rgb(51,51,51)"
            },
            "baxis": {
             "endlinecolor": "rgb(51,51,51)",
             "gridcolor": "white",
             "linecolor": "white",
             "minorgridcolor": "white",
             "startlinecolor": "rgb(51,51,51)"
            },
            "type": "carpet"
           }
          ],
          "choropleth": [
           {
            "colorbar": {
             "outlinewidth": 0,
             "tickcolor": "rgb(237,237,237)",
             "ticklen": 6,
             "ticks": "inside"
            },
            "type": "choropleth"
           }
          ],
          "contour": [
           {
            "colorbar": {
             "outlinewidth": 0,
             "tickcolor": "rgb(237,237,237)",
             "ticklen": 6,
             "ticks": "inside"
            },
            "colorscale": [
             [
              0,
              "rgb(20,44,66)"
             ],
             [
              1,
              "rgb(90,179,244)"
             ]
            ],
            "type": "contour"
           }
          ],
          "contourcarpet": [
           {
            "colorbar": {
             "outlinewidth": 0,
             "tickcolor": "rgb(237,237,237)",
             "ticklen": 6,
             "ticks": "inside"
            },
            "type": "contourcarpet"
           }
          ],
          "heatmap": [
           {
            "colorbar": {
             "outlinewidth": 0,
             "tickcolor": "rgb(237,237,237)",
             "ticklen": 6,
             "ticks": "inside"
            },
            "colorscale": [
             [
              0,
              "rgb(20,44,66)"
             ],
             [
              1,
              "rgb(90,179,244)"
             ]
            ],
            "type": "heatmap"
           }
          ],
          "heatmapgl": [
           {
            "colorbar": {
             "outlinewidth": 0,
             "tickcolor": "rgb(237,237,237)",
             "ticklen": 6,
             "ticks": "inside"
            },
            "colorscale": [
             [
              0,
              "rgb(20,44,66)"
             ],
             [
              1,
              "rgb(90,179,244)"
             ]
            ],
            "type": "heatmapgl"
           }
          ],
          "histogram": [
           {
            "marker": {
             "pattern": {
              "fillmode": "overlay",
              "size": 10,
              "solidity": 0.2
             }
            },
            "type": "histogram"
           }
          ],
          "histogram2d": [
           {
            "colorbar": {
             "outlinewidth": 0,
             "tickcolor": "rgb(237,237,237)",
             "ticklen": 6,
             "ticks": "inside"
            },
            "colorscale": [
             [
              0,
              "rgb(20,44,66)"
             ],
             [
              1,
              "rgb(90,179,244)"
             ]
            ],
            "type": "histogram2d"
           }
          ],
          "histogram2dcontour": [
           {
            "colorbar": {
             "outlinewidth": 0,
             "tickcolor": "rgb(237,237,237)",
             "ticklen": 6,
             "ticks": "inside"
            },
            "colorscale": [
             [
              0,
              "rgb(20,44,66)"
             ],
             [
              1,
              "rgb(90,179,244)"
             ]
            ],
            "type": "histogram2dcontour"
           }
          ],
          "mesh3d": [
           {
            "colorbar": {
             "outlinewidth": 0,
             "tickcolor": "rgb(237,237,237)",
             "ticklen": 6,
             "ticks": "inside"
            },
            "type": "mesh3d"
           }
          ],
          "parcoords": [
           {
            "line": {
             "colorbar": {
              "outlinewidth": 0,
              "tickcolor": "rgb(237,237,237)",
              "ticklen": 6,
              "ticks": "inside"
             }
            },
            "type": "parcoords"
           }
          ],
          "pie": [
           {
            "automargin": true,
            "type": "pie"
           }
          ],
          "scatter": [
           {
            "marker": {
             "colorbar": {
              "outlinewidth": 0,
              "tickcolor": "rgb(237,237,237)",
              "ticklen": 6,
              "ticks": "inside"
             }
            },
            "type": "scatter"
           }
          ],
          "scatter3d": [
           {
            "line": {
             "colorbar": {
              "outlinewidth": 0,
              "tickcolor": "rgb(237,237,237)",
              "ticklen": 6,
              "ticks": "inside"
             }
            },
            "marker": {
             "colorbar": {
              "outlinewidth": 0,
              "tickcolor": "rgb(237,237,237)",
              "ticklen": 6,
              "ticks": "inside"
             }
            },
            "type": "scatter3d"
           }
          ],
          "scattercarpet": [
           {
            "marker": {
             "colorbar": {
              "outlinewidth": 0,
              "tickcolor": "rgb(237,237,237)",
              "ticklen": 6,
              "ticks": "inside"
             }
            },
            "type": "scattercarpet"
           }
          ],
          "scattergeo": [
           {
            "marker": {
             "colorbar": {
              "outlinewidth": 0,
              "tickcolor": "rgb(237,237,237)",
              "ticklen": 6,
              "ticks": "inside"
             }
            },
            "type": "scattergeo"
           }
          ],
          "scattergl": [
           {
            "marker": {
             "colorbar": {
              "outlinewidth": 0,
              "tickcolor": "rgb(237,237,237)",
              "ticklen": 6,
              "ticks": "inside"
             }
            },
            "type": "scattergl"
           }
          ],
          "scattermapbox": [
           {
            "marker": {
             "colorbar": {
              "outlinewidth": 0,
              "tickcolor": "rgb(237,237,237)",
              "ticklen": 6,
              "ticks": "inside"
             }
            },
            "type": "scattermapbox"
           }
          ],
          "scatterpolar": [
           {
            "marker": {
             "colorbar": {
              "outlinewidth": 0,
              "tickcolor": "rgb(237,237,237)",
              "ticklen": 6,
              "ticks": "inside"
             }
            },
            "type": "scatterpolar"
           }
          ],
          "scatterpolargl": [
           {
            "marker": {
             "colorbar": {
              "outlinewidth": 0,
              "tickcolor": "rgb(237,237,237)",
              "ticklen": 6,
              "ticks": "inside"
             }
            },
            "type": "scatterpolargl"
           }
          ],
          "scatterternary": [
           {
            "marker": {
             "colorbar": {
              "outlinewidth": 0,
              "tickcolor": "rgb(237,237,237)",
              "ticklen": 6,
              "ticks": "inside"
             }
            },
            "type": "scatterternary"
           }
          ],
          "surface": [
           {
            "colorbar": {
             "outlinewidth": 0,
             "tickcolor": "rgb(237,237,237)",
             "ticklen": 6,
             "ticks": "inside"
            },
            "colorscale": [
             [
              0,
              "rgb(20,44,66)"
             ],
             [
              1,
              "rgb(90,179,244)"
             ]
            ],
            "type": "surface"
           }
          ],
          "table": [
           {
            "cells": {
             "fill": {
              "color": "rgb(237,237,237)"
             },
             "line": {
              "color": "white"
             }
            },
            "header": {
             "fill": {
              "color": "rgb(217,217,217)"
             },
             "line": {
              "color": "white"
             }
            },
            "type": "table"
           }
          ]
         },
         "layout": {
          "annotationdefaults": {
           "arrowhead": 0,
           "arrowwidth": 1
          },
          "autotypenumbers": "strict",
          "coloraxis": {
           "colorbar": {
            "outlinewidth": 0,
            "tickcolor": "rgb(237,237,237)",
            "ticklen": 6,
            "ticks": "inside"
           }
          },
          "colorscale": {
           "sequential": [
            [
             0,
             "rgb(20,44,66)"
            ],
            [
             1,
             "rgb(90,179,244)"
            ]
           ],
           "sequentialminus": [
            [
             0,
             "rgb(20,44,66)"
            ],
            [
             1,
             "rgb(90,179,244)"
            ]
           ]
          },
          "colorway": [
           "#F8766D",
           "#A3A500",
           "#00BF7D",
           "#00B0F6",
           "#E76BF3"
          ],
          "font": {
           "color": "rgb(51,51,51)"
          },
          "geo": {
           "bgcolor": "white",
           "lakecolor": "white",
           "landcolor": "rgb(237,237,237)",
           "showlakes": true,
           "showland": true,
           "subunitcolor": "white"
          },
          "hoverlabel": {
           "align": "left"
          },
          "hovermode": "closest",
          "paper_bgcolor": "white",
          "plot_bgcolor": "rgb(237,237,237)",
          "polar": {
           "angularaxis": {
            "gridcolor": "white",
            "linecolor": "white",
            "showgrid": true,
            "tickcolor": "rgb(51,51,51)",
            "ticks": "outside"
           },
           "bgcolor": "rgb(237,237,237)",
           "radialaxis": {
            "gridcolor": "white",
            "linecolor": "white",
            "showgrid": true,
            "tickcolor": "rgb(51,51,51)",
            "ticks": "outside"
           }
          },
          "scene": {
           "xaxis": {
            "backgroundcolor": "rgb(237,237,237)",
            "gridcolor": "white",
            "gridwidth": 2,
            "linecolor": "white",
            "showbackground": true,
            "showgrid": true,
            "tickcolor": "rgb(51,51,51)",
            "ticks": "outside",
            "zerolinecolor": "white"
           },
           "yaxis": {
            "backgroundcolor": "rgb(237,237,237)",
            "gridcolor": "white",
            "gridwidth": 2,
            "linecolor": "white",
            "showbackground": true,
            "showgrid": true,
            "tickcolor": "rgb(51,51,51)",
            "ticks": "outside",
            "zerolinecolor": "white"
           },
           "zaxis": {
            "backgroundcolor": "rgb(237,237,237)",
            "gridcolor": "white",
            "gridwidth": 2,
            "linecolor": "white",
            "showbackground": true,
            "showgrid": true,
            "tickcolor": "rgb(51,51,51)",
            "ticks": "outside",
            "zerolinecolor": "white"
           }
          },
          "shapedefaults": {
           "fillcolor": "black",
           "line": {
            "width": 0
           },
           "opacity": 0.3
          },
          "ternary": {
           "aaxis": {
            "gridcolor": "white",
            "linecolor": "white",
            "showgrid": true,
            "tickcolor": "rgb(51,51,51)",
            "ticks": "outside"
           },
           "baxis": {
            "gridcolor": "white",
            "linecolor": "white",
            "showgrid": true,
            "tickcolor": "rgb(51,51,51)",
            "ticks": "outside"
           },
           "bgcolor": "rgb(237,237,237)",
           "caxis": {
            "gridcolor": "white",
            "linecolor": "white",
            "showgrid": true,
            "tickcolor": "rgb(51,51,51)",
            "ticks": "outside"
           }
          },
          "xaxis": {
           "automargin": true,
           "gridcolor": "white",
           "linecolor": "white",
           "showgrid": true,
           "tickcolor": "rgb(51,51,51)",
           "ticks": "outside",
           "title": {
            "standoff": 15
           },
           "zerolinecolor": "white"
          },
          "yaxis": {
           "automargin": true,
           "gridcolor": "white",
           "linecolor": "white",
           "showgrid": true,
           "tickcolor": "rgb(51,51,51)",
           "ticks": "outside",
           "title": {
            "standoff": 15
           },
           "zerolinecolor": "white"
          }
         }
        },
        "title": {
         "text": "Model: Naive Bayes, f1_score: 0.68"
        }
       }
      },
      "text/html": "<div>                            <div id=\"2380a1af-6df4-4756-9b08-3b2c779463bf\" class=\"plotly-graph-div\" style=\"height:525px; width:100%;\"></div>            <script type=\"text/javascript\">                require([\"plotly\"], function(Plotly) {                    window.PLOTLYENV=window.PLOTLYENV || {};                                    if (document.getElementById(\"2380a1af-6df4-4756-9b08-3b2c779463bf\")) {                    Plotly.newPlot(                        \"2380a1af-6df4-4756-9b08-3b2c779463bf\",                        [{\"hovertemplate\":\"x=%{x}<br>y=%{y}<br>z=%{z}<br>color=%{marker.color}<extra></extra>\",\"legendgroup\":\"\",\"marker\":{\"color\":[1,2,0,1,2,2,0,2,1,2,1,1,2,1,0,0,1,2,0,0,1,2,2,1,1,1,2,0,0,1,0,2,2,1,0,1,2,0,0,2,0,1,2,1,2,2,1,2,2,0,0,0,0,2,2,1,1,1,2,1,0,0,0,1,2,2,0,0,2,1,0,0,0,2,0,1,1,2,2,1,1,0,1,2],\"coloraxis\":\"coloraxis\",\"symbol\":\"circle\"},\"mode\":\"markers\",\"name\":\"\",\"scene\":\"scene\",\"showlegend\":false,\"type\":\"scatter3d\",\"x\":[-347.07450833928516,1273.8300089967515,-5997.434593608511,-1663.292400853369,5924.700815024655,1365.0731978549838,-1821.9978046505353,-4690.067529717905,-776.2977159602123,7669.949936964694,-976.399662474557,810.7530589713411,408.8229560007588,3118.299386848759,-4634.380626213161,-5370.20711693004,2853.0602652796683,6278.514508774744,-5043.430569310168,-5192.2482001275175,-1480.4746317461309,1335.7369511925324,9627.787307120238,2668.2344669137347,-1150.689983364907,-2133.1950550990987,9194.725643073289,-6759.836336405845,-5929.215148872297,-1490.9650984348064,-2976.080275840496,6504.989227720147,8269.778484560502,-2500.015703249154,-4253.359878161771,5361.946846621567,7122.614861595877,-7203.143790299389,-1960.6319005095477,6290.39304285958,-7304.248294912769,-2256.0059828871954,692.7540706668523,-2211.6185913159425,6525.271317150179,8048.243089596551,-3726.476051793123,1706.31792618255,1556.7212845084769,-6516.826357790648,4236.226819338702,-6915.918368029184,304.4841980574452,2533.4138503848044,1692.2767146774752,1387.561394291275,-268.1644469842516,2353.751428450145,6146.480053453136,-2350.660989055208,-6960.958374942054,-5216.714788336432,-6158.573439460882,-2497.1373079055234,-46.916430952099965,7876.806406378848,-7557.769263810412,-5948.361465088149,2745.8621427845424,5537.032909151986,-8059.036417195986,-2055.213425417832,-1659.772792833748,1017.3621012883134,-535.9531459027223,1856.6175191501163,-21.808048264912532,3619.5629676798694,2809.2870181322787,-312.2601644859504,2244.395534588513,-832.8145858699658,-2551.918456256307,5345.926007374201],\"y\":[2119.48889196476,974.9973358057777,-809.2635570204948,787.9525899545109,1581.6477579293692,4234.195091564124,-1640.2548771529894,-3853.3625621572032,-599.606673599986,-2095.1656216587285,-621.1726745457182,-1722.4963725056903,-3523.219714010576,1548.4726239495665,794.7247913094058,-207.43327121540295,2181.8999442475165,1386.9934302338465,-523.514797843227,-290.5213733490356,1484.7319628003127,-1810.6953990330278,-4268.880023462005,2540.622045905133,732.9186029816955,1883.2284549659864,-1009.7777834014474,-685.5631679648105,453.63226030492166,242.88749225947666,78.27254524067271,494.8160981094224,268.4600207506999,843.4656414991293,1197.2275595299755,-874.3165055171803,-2134.316990480037,-1019.083547781464,435.8331427050183,2352.877962257194,-1354.4409581690231,2029.0711495263477,2961.924397062845,1059.1200691590227,-3181.5920169002143,-1930.0726197285198,1375.919613314396,1579.9493503417286,3057.805777230264,-279.5140391647934,-1923.3741173972267,49.773523242007904,-393.3497535992898,1881.2702568302057,-2032.399541758783,1047.078944177307,2564.4813315826436,6503.569189429928,5475.3070581698485,-570.2273002708024,-551.1186207483025,-890.0781431244338,-201.32233174091417,667.8312460853684,4055.7208831454946,-1639.9485733262732,-1790.9538189737443,-221.86885661494017,-5026.578300173395,-1440.8394836836014,-592.9447657296432,-415.5720653075242,-722.9910974045199,-2324.9980260940397,-2461.5363974804973,1041.0276313410704,704.4979970915876,-5005.766491921968,-1360.049056981229,-1385.0746252275537,-471.1576435880162,-2186.7501241565055,167.7611992637493,3201.707818702443],\"z\":[1146.7853127481808,529.1710792427534,-648.090762569324,-349.583210147053,-2846.0867711489186,1911.5906621085626,-1381.1717067480395,-41.712170955233866,534.5553164063019,-2929.4066082327076,-404.93447914988377,-1716.7881257588683,-174.13276579615692,-946.2876235279472,104.89597626472884,700.0418343693004,-1670.1489135814234,-1180.146998548083,-522.9868353547851,-668.2971241892872,791.0441583631697,-1023.3754720463096,-281.72879120834773,1806.5765654090415,-302.69125332246614,-1155.7229733479255,6117.7027594976325,647.5913654335511,362.6606195924996,-196.385678164664,-666.5286380628028,-298.6328490722069,-926.6204337514926,22.496554346599375,-46.618910313037624,-559.5442874305357,-433.7689187668037,-781.9577424071355,-578.3586685225793,-1658.4579361461185,75.04524375631657,-706.4665640522488,-82.07304983332497,1349.7950170019767,881.5515724494506,-1646.9310654617673,1167.0101780634843,142.19911912750663,-1569.419227997068,-565.5844918980658,993.7895625484728,996.9860681865199,-828.0413053979421,-2034.3637514542006,1931.0637738718235,435.45255113261095,896.8195944252934,1551.009367204771,1632.017309390079,-981.2786339502148,-319.3926453811867,100.05691228650836,-334.61778432366435,946.7313723333027,40.170954088666306,-1268.5563275755123,-754.3693950548322,-208.4995894017348,2580.267783995332,-701.2617876041337,-159.53690245464273,-136.04004218660154,-864.1159830950392,1147.6070319010512,-628.6461963418064,861.8058186314578,928.1957979220261,908.0756086584784,2409.927253591684,1506.5252723385756,1169.0206587242885,-576.8649871763147,961.5674694128825,-1531.5771159144213]}],                        {\"coloraxis\":{\"colorbar\":{\"title\":{\"text\":\"color\"}},\"colorscale\":[[0.0,\"rgb(136, 204, 238)\"],[0.1,\"rgb(204, 102, 119)\"],[0.2,\"rgb(221, 204, 119)\"],[0.3,\"rgb(17, 119, 51)\"],[0.4,\"rgb(51, 34, 136)\"],[0.5,\"rgb(170, 68, 153)\"],[0.6,\"rgb(68, 170, 153)\"],[0.7,\"rgb(153, 153, 51)\"],[0.8,\"rgb(136, 34, 85)\"],[0.9,\"rgb(102, 17, 0)\"],[1.0,\"rgb(136, 136, 136)\"]],\"showscale\":false},\"legend\":{\"tracegroupgap\":0},\"scene\":{\"domain\":{\"x\":[0.0,1.0],\"y\":[0.0,1.0]},\"xaxis\":{\"title\":{\"text\":\"x\"}},\"yaxis\":{\"title\":{\"text\":\"y\"}},\"zaxis\":{\"title\":{\"text\":\"z\"}}},\"template\":{\"data\":{\"bar\":[{\"error_x\":{\"color\":\"rgb(51,51,51)\"},\"error_y\":{\"color\":\"rgb(51,51,51)\"},\"marker\":{\"line\":{\"color\":\"rgb(237,237,237)\",\"width\":0.5},\"pattern\":{\"fillmode\":\"overlay\",\"size\":10,\"solidity\":0.2}},\"type\":\"bar\"}],\"barpolar\":[{\"marker\":{\"line\":{\"color\":\"rgb(237,237,237)\",\"width\":0.5},\"pattern\":{\"fillmode\":\"overlay\",\"size\":10,\"solidity\":0.2}},\"type\":\"barpolar\"}],\"carpet\":[{\"aaxis\":{\"endlinecolor\":\"rgb(51,51,51)\",\"gridcolor\":\"white\",\"linecolor\":\"white\",\"minorgridcolor\":\"white\",\"startlinecolor\":\"rgb(51,51,51)\"},\"baxis\":{\"endlinecolor\":\"rgb(51,51,51)\",\"gridcolor\":\"white\",\"linecolor\":\"white\",\"minorgridcolor\":\"white\",\"startlinecolor\":\"rgb(51,51,51)\"},\"type\":\"carpet\"}],\"choropleth\":[{\"colorbar\":{\"outlinewidth\":0,\"tickcolor\":\"rgb(237,237,237)\",\"ticklen\":6,\"ticks\":\"inside\"},\"type\":\"choropleth\"}],\"contour\":[{\"colorbar\":{\"outlinewidth\":0,\"tickcolor\":\"rgb(237,237,237)\",\"ticklen\":6,\"ticks\":\"inside\"},\"colorscale\":[[0,\"rgb(20,44,66)\"],[1,\"rgb(90,179,244)\"]],\"type\":\"contour\"}],\"contourcarpet\":[{\"colorbar\":{\"outlinewidth\":0,\"tickcolor\":\"rgb(237,237,237)\",\"ticklen\":6,\"ticks\":\"inside\"},\"type\":\"contourcarpet\"}],\"heatmap\":[{\"colorbar\":{\"outlinewidth\":0,\"tickcolor\":\"rgb(237,237,237)\",\"ticklen\":6,\"ticks\":\"inside\"},\"colorscale\":[[0,\"rgb(20,44,66)\"],[1,\"rgb(90,179,244)\"]],\"type\":\"heatmap\"}],\"heatmapgl\":[{\"colorbar\":{\"outlinewidth\":0,\"tickcolor\":\"rgb(237,237,237)\",\"ticklen\":6,\"ticks\":\"inside\"},\"colorscale\":[[0,\"rgb(20,44,66)\"],[1,\"rgb(90,179,244)\"]],\"type\":\"heatmapgl\"}],\"histogram\":[{\"marker\":{\"pattern\":{\"fillmode\":\"overlay\",\"size\":10,\"solidity\":0.2}},\"type\":\"histogram\"}],\"histogram2d\":[{\"colorbar\":{\"outlinewidth\":0,\"tickcolor\":\"rgb(237,237,237)\",\"ticklen\":6,\"ticks\":\"inside\"},\"colorscale\":[[0,\"rgb(20,44,66)\"],[1,\"rgb(90,179,244)\"]],\"type\":\"histogram2d\"}],\"histogram2dcontour\":[{\"colorbar\":{\"outlinewidth\":0,\"tickcolor\":\"rgb(237,237,237)\",\"ticklen\":6,\"ticks\":\"inside\"},\"colorscale\":[[0,\"rgb(20,44,66)\"],[1,\"rgb(90,179,244)\"]],\"type\":\"histogram2dcontour\"}],\"mesh3d\":[{\"colorbar\":{\"outlinewidth\":0,\"tickcolor\":\"rgb(237,237,237)\",\"ticklen\":6,\"ticks\":\"inside\"},\"type\":\"mesh3d\"}],\"parcoords\":[{\"line\":{\"colorbar\":{\"outlinewidth\":0,\"tickcolor\":\"rgb(237,237,237)\",\"ticklen\":6,\"ticks\":\"inside\"}},\"type\":\"parcoords\"}],\"pie\":[{\"automargin\":true,\"type\":\"pie\"}],\"scatter\":[{\"marker\":{\"colorbar\":{\"outlinewidth\":0,\"tickcolor\":\"rgb(237,237,237)\",\"ticklen\":6,\"ticks\":\"inside\"}},\"type\":\"scatter\"}],\"scatter3d\":[{\"line\":{\"colorbar\":{\"outlinewidth\":0,\"tickcolor\":\"rgb(237,237,237)\",\"ticklen\":6,\"ticks\":\"inside\"}},\"marker\":{\"colorbar\":{\"outlinewidth\":0,\"tickcolor\":\"rgb(237,237,237)\",\"ticklen\":6,\"ticks\":\"inside\"}},\"type\":\"scatter3d\"}],\"scattercarpet\":[{\"marker\":{\"colorbar\":{\"outlinewidth\":0,\"tickcolor\":\"rgb(237,237,237)\",\"ticklen\":6,\"ticks\":\"inside\"}},\"type\":\"scattercarpet\"}],\"scattergeo\":[{\"marker\":{\"colorbar\":{\"outlinewidth\":0,\"tickcolor\":\"rgb(237,237,237)\",\"ticklen\":6,\"ticks\":\"inside\"}},\"type\":\"scattergeo\"}],\"scattergl\":[{\"marker\":{\"colorbar\":{\"outlinewidth\":0,\"tickcolor\":\"rgb(237,237,237)\",\"ticklen\":6,\"ticks\":\"inside\"}},\"type\":\"scattergl\"}],\"scattermapbox\":[{\"marker\":{\"colorbar\":{\"outlinewidth\":0,\"tickcolor\":\"rgb(237,237,237)\",\"ticklen\":6,\"ticks\":\"inside\"}},\"type\":\"scattermapbox\"}],\"scatterpolar\":[{\"marker\":{\"colorbar\":{\"outlinewidth\":0,\"tickcolor\":\"rgb(237,237,237)\",\"ticklen\":6,\"ticks\":\"inside\"}},\"type\":\"scatterpolar\"}],\"scatterpolargl\":[{\"marker\":{\"colorbar\":{\"outlinewidth\":0,\"tickcolor\":\"rgb(237,237,237)\",\"ticklen\":6,\"ticks\":\"inside\"}},\"type\":\"scatterpolargl\"}],\"scatterternary\":[{\"marker\":{\"colorbar\":{\"outlinewidth\":0,\"tickcolor\":\"rgb(237,237,237)\",\"ticklen\":6,\"ticks\":\"inside\"}},\"type\":\"scatterternary\"}],\"surface\":[{\"colorbar\":{\"outlinewidth\":0,\"tickcolor\":\"rgb(237,237,237)\",\"ticklen\":6,\"ticks\":\"inside\"},\"colorscale\":[[0,\"rgb(20,44,66)\"],[1,\"rgb(90,179,244)\"]],\"type\":\"surface\"}],\"table\":[{\"cells\":{\"fill\":{\"color\":\"rgb(237,237,237)\"},\"line\":{\"color\":\"white\"}},\"header\":{\"fill\":{\"color\":\"rgb(217,217,217)\"},\"line\":{\"color\":\"white\"}},\"type\":\"table\"}]},\"layout\":{\"annotationdefaults\":{\"arrowhead\":0,\"arrowwidth\":1},\"autotypenumbers\":\"strict\",\"coloraxis\":{\"colorbar\":{\"outlinewidth\":0,\"tickcolor\":\"rgb(237,237,237)\",\"ticklen\":6,\"ticks\":\"inside\"}},\"colorscale\":{\"sequential\":[[0,\"rgb(20,44,66)\"],[1,\"rgb(90,179,244)\"]],\"sequentialminus\":[[0,\"rgb(20,44,66)\"],[1,\"rgb(90,179,244)\"]]},\"colorway\":[\"#F8766D\",\"#A3A500\",\"#00BF7D\",\"#00B0F6\",\"#E76BF3\"],\"font\":{\"color\":\"rgb(51,51,51)\"},\"geo\":{\"bgcolor\":\"white\",\"lakecolor\":\"white\",\"landcolor\":\"rgb(237,237,237)\",\"showlakes\":true,\"showland\":true,\"subunitcolor\":\"white\"},\"hoverlabel\":{\"align\":\"left\"},\"hovermode\":\"closest\",\"paper_bgcolor\":\"white\",\"plot_bgcolor\":\"rgb(237,237,237)\",\"polar\":{\"angularaxis\":{\"gridcolor\":\"white\",\"linecolor\":\"white\",\"showgrid\":true,\"tickcolor\":\"rgb(51,51,51)\",\"ticks\":\"outside\"},\"bgcolor\":\"rgb(237,237,237)\",\"radialaxis\":{\"gridcolor\":\"white\",\"linecolor\":\"white\",\"showgrid\":true,\"tickcolor\":\"rgb(51,51,51)\",\"ticks\":\"outside\"}},\"scene\":{\"xaxis\":{\"backgroundcolor\":\"rgb(237,237,237)\",\"gridcolor\":\"white\",\"gridwidth\":2,\"linecolor\":\"white\",\"showbackground\":true,\"showgrid\":true,\"tickcolor\":\"rgb(51,51,51)\",\"ticks\":\"outside\",\"zerolinecolor\":\"white\"},\"yaxis\":{\"backgroundcolor\":\"rgb(237,237,237)\",\"gridcolor\":\"white\",\"gridwidth\":2,\"linecolor\":\"white\",\"showbackground\":true,\"showgrid\":true,\"tickcolor\":\"rgb(51,51,51)\",\"ticks\":\"outside\",\"zerolinecolor\":\"white\"},\"zaxis\":{\"backgroundcolor\":\"rgb(237,237,237)\",\"gridcolor\":\"white\",\"gridwidth\":2,\"linecolor\":\"white\",\"showbackground\":true,\"showgrid\":true,\"tickcolor\":\"rgb(51,51,51)\",\"ticks\":\"outside\",\"zerolinecolor\":\"white\"}},\"shapedefaults\":{\"fillcolor\":\"black\",\"line\":{\"width\":0},\"opacity\":0.3},\"ternary\":{\"aaxis\":{\"gridcolor\":\"white\",\"linecolor\":\"white\",\"showgrid\":true,\"tickcolor\":\"rgb(51,51,51)\",\"ticks\":\"outside\"},\"baxis\":{\"gridcolor\":\"white\",\"linecolor\":\"white\",\"showgrid\":true,\"tickcolor\":\"rgb(51,51,51)\",\"ticks\":\"outside\"},\"bgcolor\":\"rgb(237,237,237)\",\"caxis\":{\"gridcolor\":\"white\",\"linecolor\":\"white\",\"showgrid\":true,\"tickcolor\":\"rgb(51,51,51)\",\"ticks\":\"outside\"}},\"xaxis\":{\"automargin\":true,\"gridcolor\":\"white\",\"linecolor\":\"white\",\"showgrid\":true,\"tickcolor\":\"rgb(51,51,51)\",\"ticks\":\"outside\",\"title\":{\"standoff\":15},\"zerolinecolor\":\"white\"},\"yaxis\":{\"automargin\":true,\"gridcolor\":\"white\",\"linecolor\":\"white\",\"showgrid\":true,\"tickcolor\":\"rgb(51,51,51)\",\"ticks\":\"outside\",\"title\":{\"standoff\":15},\"zerolinecolor\":\"white\"}}},\"title\":{\"text\":\"Model: Naive Bayes, f1_score: 0.68\"}},                        {\"responsive\": true}                    ).then(function(){\n                            \nvar gd = document.getElementById('2380a1af-6df4-4756-9b08-3b2c779463bf');\nvar x = new MutationObserver(function (mutations, observer) {{\n        var display = window.getComputedStyle(gd).display;\n        if (!display || display === 'none') {{\n            console.log([gd, 'removed!']);\n            Plotly.purge(gd);\n            observer.disconnect();\n        }}\n}});\n\n// Listen for the removal of the full notebook cells\nvar notebookContainer = gd.closest('#notebook-container');\nif (notebookContainer) {{\n    x.observe(notebookContainer, {childList: true});\n}}\n\n// Listen for the clearing of the current output cell\nvar outputEl = gd.closest('.output');\nif (outputEl) {{\n    x.observe(outputEl, {childList: true});\n}}\n\n                        })                };                });            </script>        </div>"
     },
     "metadata": {},
     "output_type": "display_data"
    },
    {
     "data": {
      "application/vnd.plotly.v1+json": {
       "config": {
        "plotlyServerURL": "https://plot.ly"
       },
       "data": [
        {
         "hovertemplate": "x=%{x}<br>y=%{y}<br>z=%{z}<br>color=%{marker.color}<extra></extra>",
         "legendgroup": "",
         "marker": {
          "color": [
           1,
           1,
           0,
           1,
           2,
           1,
           1,
           0,
           1,
           1,
           1,
           1,
           1,
           1,
           0,
           1,
           1,
           2,
           0,
           1,
           0,
           1,
           0,
           1,
           1,
           1,
           2,
           0,
           0,
           1,
           0,
           2,
           2,
           1,
           1,
           1,
           0,
           0,
           1,
           2,
           0,
           1,
           0,
           1,
           2,
           1,
           1,
           1,
           2,
           0,
           0,
           2,
           0,
           2,
           2,
           1,
           1,
           1,
           2,
           1,
           2,
           1,
           0,
           1,
           2,
           2,
           1,
           0,
           0,
           1,
           1,
           1,
           1,
           2,
           1,
           1,
           1,
           2,
           2,
           1,
           1,
           1,
           0,
           2
          ],
          "coloraxis": "coloraxis",
          "symbol": "circle"
         },
         "mode": "markers",
         "name": "",
         "scene": "scene",
         "showlegend": false,
         "type": "scatter3d",
         "x": [
          -347.07450833928516,
          1273.8300089967515,
          -5997.434593608511,
          -1663.292400853369,
          5924.700815024655,
          1365.0731978549838,
          -1821.9978046505353,
          -4690.067529717905,
          -776.2977159602123,
          7669.949936964694,
          -976.399662474557,
          810.7530589713411,
          408.8229560007588,
          3118.299386848759,
          -4634.380626213161,
          -5370.20711693004,
          2853.0602652796683,
          6278.514508774744,
          -5043.430569310168,
          -5192.2482001275175,
          -1480.4746317461309,
          1335.7369511925324,
          9627.787307120238,
          2668.2344669137347,
          -1150.689983364907,
          -2133.1950550990987,
          9194.725643073289,
          -6759.836336405845,
          -5929.215148872297,
          -1490.9650984348064,
          -2976.080275840496,
          6504.989227720147,
          8269.778484560502,
          -2500.015703249154,
          -4253.359878161771,
          5361.946846621567,
          7122.614861595877,
          -7203.143790299389,
          -1960.6319005095477,
          6290.39304285958,
          -7304.248294912769,
          -2256.0059828871954,
          692.7540706668523,
          -2211.6185913159425,
          6525.271317150179,
          8048.243089596551,
          -3726.476051793123,
          1706.31792618255,
          1556.7212845084769,
          -6516.826357790648,
          4236.226819338702,
          -6915.918368029184,
          304.4841980574452,
          2533.4138503848044,
          1692.2767146774752,
          1387.561394291275,
          -268.1644469842516,
          2353.751428450145,
          6146.480053453136,
          -2350.660989055208,
          -6960.958374942054,
          -5216.714788336432,
          -6158.573439460882,
          -2497.1373079055234,
          -46.916430952099965,
          7876.806406378848,
          -7557.769263810412,
          -5948.361465088149,
          2745.8621427845424,
          5537.032909151986,
          -8059.036417195986,
          -2055.213425417832,
          -1659.772792833748,
          1017.3621012883134,
          -535.9531459027223,
          1856.6175191501163,
          -21.808048264912532,
          3619.5629676798694,
          2809.2870181322787,
          -312.2601644859504,
          2244.395534588513,
          -832.8145858699658,
          -2551.918456256307,
          5345.926007374201
         ],
         "y": [
          2119.48889196476,
          974.9973358057777,
          -809.2635570204948,
          787.9525899545109,
          1581.6477579293692,
          4234.195091564124,
          -1640.2548771529894,
          -3853.3625621572032,
          -599.606673599986,
          -2095.1656216587285,
          -621.1726745457182,
          -1722.4963725056903,
          -3523.219714010576,
          1548.4726239495665,
          794.7247913094058,
          -207.43327121540295,
          2181.8999442475165,
          1386.9934302338465,
          -523.514797843227,
          -290.5213733490356,
          1484.7319628003127,
          -1810.6953990330278,
          -4268.880023462005,
          2540.622045905133,
          732.9186029816955,
          1883.2284549659864,
          -1009.7777834014474,
          -685.5631679648105,
          453.63226030492166,
          242.88749225947666,
          78.27254524067271,
          494.8160981094224,
          268.4600207506999,
          843.4656414991293,
          1197.2275595299755,
          -874.3165055171803,
          -2134.316990480037,
          -1019.083547781464,
          435.8331427050183,
          2352.877962257194,
          -1354.4409581690231,
          2029.0711495263477,
          2961.924397062845,
          1059.1200691590227,
          -3181.5920169002143,
          -1930.0726197285198,
          1375.919613314396,
          1579.9493503417286,
          3057.805777230264,
          -279.5140391647934,
          -1923.3741173972267,
          49.773523242007904,
          -393.3497535992898,
          1881.2702568302057,
          -2032.399541758783,
          1047.078944177307,
          2564.4813315826436,
          6503.569189429928,
          5475.3070581698485,
          -570.2273002708024,
          -551.1186207483025,
          -890.0781431244338,
          -201.32233174091417,
          667.8312460853684,
          4055.7208831454946,
          -1639.9485733262732,
          -1790.9538189737443,
          -221.86885661494017,
          -5026.578300173395,
          -1440.8394836836014,
          -592.9447657296432,
          -415.5720653075242,
          -722.9910974045199,
          -2324.9980260940397,
          -2461.5363974804973,
          1041.0276313410704,
          704.4979970915876,
          -5005.766491921968,
          -1360.049056981229,
          -1385.0746252275537,
          -471.1576435880162,
          -2186.7501241565055,
          167.7611992637493,
          3201.707818702443
         ],
         "z": [
          1146.7853127481808,
          529.1710792427534,
          -648.090762569324,
          -349.583210147053,
          -2846.0867711489186,
          1911.5906621085626,
          -1381.1717067480395,
          -41.712170955233866,
          534.5553164063019,
          -2929.4066082327076,
          -404.93447914988377,
          -1716.7881257588683,
          -174.13276579615692,
          -946.2876235279472,
          104.89597626472884,
          700.0418343693004,
          -1670.1489135814234,
          -1180.146998548083,
          -522.9868353547851,
          -668.2971241892872,
          791.0441583631697,
          -1023.3754720463096,
          -281.72879120834773,
          1806.5765654090415,
          -302.69125332246614,
          -1155.7229733479255,
          6117.7027594976325,
          647.5913654335511,
          362.6606195924996,
          -196.385678164664,
          -666.5286380628028,
          -298.6328490722069,
          -926.6204337514926,
          22.496554346599375,
          -46.618910313037624,
          -559.5442874305357,
          -433.7689187668037,
          -781.9577424071355,
          -578.3586685225793,
          -1658.4579361461185,
          75.04524375631657,
          -706.4665640522488,
          -82.07304983332497,
          1349.7950170019767,
          881.5515724494506,
          -1646.9310654617673,
          1167.0101780634843,
          142.19911912750663,
          -1569.419227997068,
          -565.5844918980658,
          993.7895625484728,
          996.9860681865199,
          -828.0413053979421,
          -2034.3637514542006,
          1931.0637738718235,
          435.45255113261095,
          896.8195944252934,
          1551.009367204771,
          1632.017309390079,
          -981.2786339502148,
          -319.3926453811867,
          100.05691228650836,
          -334.61778432366435,
          946.7313723333027,
          40.170954088666306,
          -1268.5563275755123,
          -754.3693950548322,
          -208.4995894017348,
          2580.267783995332,
          -701.2617876041337,
          -159.53690245464273,
          -136.04004218660154,
          -864.1159830950392,
          1147.6070319010512,
          -628.6461963418064,
          861.8058186314578,
          928.1957979220261,
          908.0756086584784,
          2409.927253591684,
          1506.5252723385756,
          1169.0206587242885,
          -576.8649871763147,
          961.5674694128825,
          -1531.5771159144213
         ]
        }
       ],
       "layout": {
        "coloraxis": {
         "colorbar": {
          "title": {
           "text": "color"
          }
         },
         "colorscale": [
          [
           0.0,
           "rgb(136, 204, 238)"
          ],
          [
           0.1,
           "rgb(204, 102, 119)"
          ],
          [
           0.2,
           "rgb(221, 204, 119)"
          ],
          [
           0.3,
           "rgb(17, 119, 51)"
          ],
          [
           0.4,
           "rgb(51, 34, 136)"
          ],
          [
           0.5,
           "rgb(170, 68, 153)"
          ],
          [
           0.6,
           "rgb(68, 170, 153)"
          ],
          [
           0.7,
           "rgb(153, 153, 51)"
          ],
          [
           0.8,
           "rgb(136, 34, 85)"
          ],
          [
           0.9,
           "rgb(102, 17, 0)"
          ],
          [
           1.0,
           "rgb(136, 136, 136)"
          ]
         ],
         "showscale": false
        },
        "legend": {
         "tracegroupgap": 0
        },
        "scene": {
         "domain": {
          "x": [
           0.0,
           1.0
          ],
          "y": [
           0.0,
           1.0
          ]
         },
         "xaxis": {
          "title": {
           "text": "x"
          }
         },
         "yaxis": {
          "title": {
           "text": "y"
          }
         },
         "zaxis": {
          "title": {
           "text": "z"
          }
         }
        },
        "template": {
         "data": {
          "bar": [
           {
            "error_x": {
             "color": "rgb(51,51,51)"
            },
            "error_y": {
             "color": "rgb(51,51,51)"
            },
            "marker": {
             "line": {
              "color": "rgb(237,237,237)",
              "width": 0.5
             },
             "pattern": {
              "fillmode": "overlay",
              "size": 10,
              "solidity": 0.2
             }
            },
            "type": "bar"
           }
          ],
          "barpolar": [
           {
            "marker": {
             "line": {
              "color": "rgb(237,237,237)",
              "width": 0.5
             },
             "pattern": {
              "fillmode": "overlay",
              "size": 10,
              "solidity": 0.2
             }
            },
            "type": "barpolar"
           }
          ],
          "carpet": [
           {
            "aaxis": {
             "endlinecolor": "rgb(51,51,51)",
             "gridcolor": "white",
             "linecolor": "white",
             "minorgridcolor": "white",
             "startlinecolor": "rgb(51,51,51)"
            },
            "baxis": {
             "endlinecolor": "rgb(51,51,51)",
             "gridcolor": "white",
             "linecolor": "white",
             "minorgridcolor": "white",
             "startlinecolor": "rgb(51,51,51)"
            },
            "type": "carpet"
           }
          ],
          "choropleth": [
           {
            "colorbar": {
             "outlinewidth": 0,
             "tickcolor": "rgb(237,237,237)",
             "ticklen": 6,
             "ticks": "inside"
            },
            "type": "choropleth"
           }
          ],
          "contour": [
           {
            "colorbar": {
             "outlinewidth": 0,
             "tickcolor": "rgb(237,237,237)",
             "ticklen": 6,
             "ticks": "inside"
            },
            "colorscale": [
             [
              0,
              "rgb(20,44,66)"
             ],
             [
              1,
              "rgb(90,179,244)"
             ]
            ],
            "type": "contour"
           }
          ],
          "contourcarpet": [
           {
            "colorbar": {
             "outlinewidth": 0,
             "tickcolor": "rgb(237,237,237)",
             "ticklen": 6,
             "ticks": "inside"
            },
            "type": "contourcarpet"
           }
          ],
          "heatmap": [
           {
            "colorbar": {
             "outlinewidth": 0,
             "tickcolor": "rgb(237,237,237)",
             "ticklen": 6,
             "ticks": "inside"
            },
            "colorscale": [
             [
              0,
              "rgb(20,44,66)"
             ],
             [
              1,
              "rgb(90,179,244)"
             ]
            ],
            "type": "heatmap"
           }
          ],
          "heatmapgl": [
           {
            "colorbar": {
             "outlinewidth": 0,
             "tickcolor": "rgb(237,237,237)",
             "ticklen": 6,
             "ticks": "inside"
            },
            "colorscale": [
             [
              0,
              "rgb(20,44,66)"
             ],
             [
              1,
              "rgb(90,179,244)"
             ]
            ],
            "type": "heatmapgl"
           }
          ],
          "histogram": [
           {
            "marker": {
             "pattern": {
              "fillmode": "overlay",
              "size": 10,
              "solidity": 0.2
             }
            },
            "type": "histogram"
           }
          ],
          "histogram2d": [
           {
            "colorbar": {
             "outlinewidth": 0,
             "tickcolor": "rgb(237,237,237)",
             "ticklen": 6,
             "ticks": "inside"
            },
            "colorscale": [
             [
              0,
              "rgb(20,44,66)"
             ],
             [
              1,
              "rgb(90,179,244)"
             ]
            ],
            "type": "histogram2d"
           }
          ],
          "histogram2dcontour": [
           {
            "colorbar": {
             "outlinewidth": 0,
             "tickcolor": "rgb(237,237,237)",
             "ticklen": 6,
             "ticks": "inside"
            },
            "colorscale": [
             [
              0,
              "rgb(20,44,66)"
             ],
             [
              1,
              "rgb(90,179,244)"
             ]
            ],
            "type": "histogram2dcontour"
           }
          ],
          "mesh3d": [
           {
            "colorbar": {
             "outlinewidth": 0,
             "tickcolor": "rgb(237,237,237)",
             "ticklen": 6,
             "ticks": "inside"
            },
            "type": "mesh3d"
           }
          ],
          "parcoords": [
           {
            "line": {
             "colorbar": {
              "outlinewidth": 0,
              "tickcolor": "rgb(237,237,237)",
              "ticklen": 6,
              "ticks": "inside"
             }
            },
            "type": "parcoords"
           }
          ],
          "pie": [
           {
            "automargin": true,
            "type": "pie"
           }
          ],
          "scatter": [
           {
            "marker": {
             "colorbar": {
              "outlinewidth": 0,
              "tickcolor": "rgb(237,237,237)",
              "ticklen": 6,
              "ticks": "inside"
             }
            },
            "type": "scatter"
           }
          ],
          "scatter3d": [
           {
            "line": {
             "colorbar": {
              "outlinewidth": 0,
              "tickcolor": "rgb(237,237,237)",
              "ticklen": 6,
              "ticks": "inside"
             }
            },
            "marker": {
             "colorbar": {
              "outlinewidth": 0,
              "tickcolor": "rgb(237,237,237)",
              "ticklen": 6,
              "ticks": "inside"
             }
            },
            "type": "scatter3d"
           }
          ],
          "scattercarpet": [
           {
            "marker": {
             "colorbar": {
              "outlinewidth": 0,
              "tickcolor": "rgb(237,237,237)",
              "ticklen": 6,
              "ticks": "inside"
             }
            },
            "type": "scattercarpet"
           }
          ],
          "scattergeo": [
           {
            "marker": {
             "colorbar": {
              "outlinewidth": 0,
              "tickcolor": "rgb(237,237,237)",
              "ticklen": 6,
              "ticks": "inside"
             }
            },
            "type": "scattergeo"
           }
          ],
          "scattergl": [
           {
            "marker": {
             "colorbar": {
              "outlinewidth": 0,
              "tickcolor": "rgb(237,237,237)",
              "ticklen": 6,
              "ticks": "inside"
             }
            },
            "type": "scattergl"
           }
          ],
          "scattermapbox": [
           {
            "marker": {
             "colorbar": {
              "outlinewidth": 0,
              "tickcolor": "rgb(237,237,237)",
              "ticklen": 6,
              "ticks": "inside"
             }
            },
            "type": "scattermapbox"
           }
          ],
          "scatterpolar": [
           {
            "marker": {
             "colorbar": {
              "outlinewidth": 0,
              "tickcolor": "rgb(237,237,237)",
              "ticklen": 6,
              "ticks": "inside"
             }
            },
            "type": "scatterpolar"
           }
          ],
          "scatterpolargl": [
           {
            "marker": {
             "colorbar": {
              "outlinewidth": 0,
              "tickcolor": "rgb(237,237,237)",
              "ticklen": 6,
              "ticks": "inside"
             }
            },
            "type": "scatterpolargl"
           }
          ],
          "scatterternary": [
           {
            "marker": {
             "colorbar": {
              "outlinewidth": 0,
              "tickcolor": "rgb(237,237,237)",
              "ticklen": 6,
              "ticks": "inside"
             }
            },
            "type": "scatterternary"
           }
          ],
          "surface": [
           {
            "colorbar": {
             "outlinewidth": 0,
             "tickcolor": "rgb(237,237,237)",
             "ticklen": 6,
             "ticks": "inside"
            },
            "colorscale": [
             [
              0,
              "rgb(20,44,66)"
             ],
             [
              1,
              "rgb(90,179,244)"
             ]
            ],
            "type": "surface"
           }
          ],
          "table": [
           {
            "cells": {
             "fill": {
              "color": "rgb(237,237,237)"
             },
             "line": {
              "color": "white"
             }
            },
            "header": {
             "fill": {
              "color": "rgb(217,217,217)"
             },
             "line": {
              "color": "white"
             }
            },
            "type": "table"
           }
          ]
         },
         "layout": {
          "annotationdefaults": {
           "arrowhead": 0,
           "arrowwidth": 1
          },
          "autotypenumbers": "strict",
          "coloraxis": {
           "colorbar": {
            "outlinewidth": 0,
            "tickcolor": "rgb(237,237,237)",
            "ticklen": 6,
            "ticks": "inside"
           }
          },
          "colorscale": {
           "sequential": [
            [
             0,
             "rgb(20,44,66)"
            ],
            [
             1,
             "rgb(90,179,244)"
            ]
           ],
           "sequentialminus": [
            [
             0,
             "rgb(20,44,66)"
            ],
            [
             1,
             "rgb(90,179,244)"
            ]
           ]
          },
          "colorway": [
           "#F8766D",
           "#A3A500",
           "#00BF7D",
           "#00B0F6",
           "#E76BF3"
          ],
          "font": {
           "color": "rgb(51,51,51)"
          },
          "geo": {
           "bgcolor": "white",
           "lakecolor": "white",
           "landcolor": "rgb(237,237,237)",
           "showlakes": true,
           "showland": true,
           "subunitcolor": "white"
          },
          "hoverlabel": {
           "align": "left"
          },
          "hovermode": "closest",
          "paper_bgcolor": "white",
          "plot_bgcolor": "rgb(237,237,237)",
          "polar": {
           "angularaxis": {
            "gridcolor": "white",
            "linecolor": "white",
            "showgrid": true,
            "tickcolor": "rgb(51,51,51)",
            "ticks": "outside"
           },
           "bgcolor": "rgb(237,237,237)",
           "radialaxis": {
            "gridcolor": "white",
            "linecolor": "white",
            "showgrid": true,
            "tickcolor": "rgb(51,51,51)",
            "ticks": "outside"
           }
          },
          "scene": {
           "xaxis": {
            "backgroundcolor": "rgb(237,237,237)",
            "gridcolor": "white",
            "gridwidth": 2,
            "linecolor": "white",
            "showbackground": true,
            "showgrid": true,
            "tickcolor": "rgb(51,51,51)",
            "ticks": "outside",
            "zerolinecolor": "white"
           },
           "yaxis": {
            "backgroundcolor": "rgb(237,237,237)",
            "gridcolor": "white",
            "gridwidth": 2,
            "linecolor": "white",
            "showbackground": true,
            "showgrid": true,
            "tickcolor": "rgb(51,51,51)",
            "ticks": "outside",
            "zerolinecolor": "white"
           },
           "zaxis": {
            "backgroundcolor": "rgb(237,237,237)",
            "gridcolor": "white",
            "gridwidth": 2,
            "linecolor": "white",
            "showbackground": true,
            "showgrid": true,
            "tickcolor": "rgb(51,51,51)",
            "ticks": "outside",
            "zerolinecolor": "white"
           }
          },
          "shapedefaults": {
           "fillcolor": "black",
           "line": {
            "width": 0
           },
           "opacity": 0.3
          },
          "ternary": {
           "aaxis": {
            "gridcolor": "white",
            "linecolor": "white",
            "showgrid": true,
            "tickcolor": "rgb(51,51,51)",
            "ticks": "outside"
           },
           "baxis": {
            "gridcolor": "white",
            "linecolor": "white",
            "showgrid": true,
            "tickcolor": "rgb(51,51,51)",
            "ticks": "outside"
           },
           "bgcolor": "rgb(237,237,237)",
           "caxis": {
            "gridcolor": "white",
            "linecolor": "white",
            "showgrid": true,
            "tickcolor": "rgb(51,51,51)",
            "ticks": "outside"
           }
          },
          "xaxis": {
           "automargin": true,
           "gridcolor": "white",
           "linecolor": "white",
           "showgrid": true,
           "tickcolor": "rgb(51,51,51)",
           "ticks": "outside",
           "title": {
            "standoff": 15
           },
           "zerolinecolor": "white"
          },
          "yaxis": {
           "automargin": true,
           "gridcolor": "white",
           "linecolor": "white",
           "showgrid": true,
           "tickcolor": "rgb(51,51,51)",
           "ticks": "outside",
           "title": {
            "standoff": 15
           },
           "zerolinecolor": "white"
          }
         }
        },
        "title": {
         "text": "Model: Decision Tree, f1_score: 0.78"
        }
       }
      },
      "text/html": "<div>                            <div id=\"0de75064-37c5-4969-9a53-9644f1fed9ee\" class=\"plotly-graph-div\" style=\"height:525px; width:100%;\"></div>            <script type=\"text/javascript\">                require([\"plotly\"], function(Plotly) {                    window.PLOTLYENV=window.PLOTLYENV || {};                                    if (document.getElementById(\"0de75064-37c5-4969-9a53-9644f1fed9ee\")) {                    Plotly.newPlot(                        \"0de75064-37c5-4969-9a53-9644f1fed9ee\",                        [{\"hovertemplate\":\"x=%{x}<br>y=%{y}<br>z=%{z}<br>color=%{marker.color}<extra></extra>\",\"legendgroup\":\"\",\"marker\":{\"color\":[1,1,0,1,2,1,1,0,1,1,1,1,1,1,0,1,1,2,0,1,0,1,0,1,1,1,2,0,0,1,0,2,2,1,1,1,0,0,1,2,0,1,0,1,2,1,1,1,2,0,0,2,0,2,2,1,1,1,2,1,2,1,0,1,2,2,1,0,0,1,1,1,1,2,1,1,1,2,2,1,1,1,0,2],\"coloraxis\":\"coloraxis\",\"symbol\":\"circle\"},\"mode\":\"markers\",\"name\":\"\",\"scene\":\"scene\",\"showlegend\":false,\"type\":\"scatter3d\",\"x\":[-347.07450833928516,1273.8300089967515,-5997.434593608511,-1663.292400853369,5924.700815024655,1365.0731978549838,-1821.9978046505353,-4690.067529717905,-776.2977159602123,7669.949936964694,-976.399662474557,810.7530589713411,408.8229560007588,3118.299386848759,-4634.380626213161,-5370.20711693004,2853.0602652796683,6278.514508774744,-5043.430569310168,-5192.2482001275175,-1480.4746317461309,1335.7369511925324,9627.787307120238,2668.2344669137347,-1150.689983364907,-2133.1950550990987,9194.725643073289,-6759.836336405845,-5929.215148872297,-1490.9650984348064,-2976.080275840496,6504.989227720147,8269.778484560502,-2500.015703249154,-4253.359878161771,5361.946846621567,7122.614861595877,-7203.143790299389,-1960.6319005095477,6290.39304285958,-7304.248294912769,-2256.0059828871954,692.7540706668523,-2211.6185913159425,6525.271317150179,8048.243089596551,-3726.476051793123,1706.31792618255,1556.7212845084769,-6516.826357790648,4236.226819338702,-6915.918368029184,304.4841980574452,2533.4138503848044,1692.2767146774752,1387.561394291275,-268.1644469842516,2353.751428450145,6146.480053453136,-2350.660989055208,-6960.958374942054,-5216.714788336432,-6158.573439460882,-2497.1373079055234,-46.916430952099965,7876.806406378848,-7557.769263810412,-5948.361465088149,2745.8621427845424,5537.032909151986,-8059.036417195986,-2055.213425417832,-1659.772792833748,1017.3621012883134,-535.9531459027223,1856.6175191501163,-21.808048264912532,3619.5629676798694,2809.2870181322787,-312.2601644859504,2244.395534588513,-832.8145858699658,-2551.918456256307,5345.926007374201],\"y\":[2119.48889196476,974.9973358057777,-809.2635570204948,787.9525899545109,1581.6477579293692,4234.195091564124,-1640.2548771529894,-3853.3625621572032,-599.606673599986,-2095.1656216587285,-621.1726745457182,-1722.4963725056903,-3523.219714010576,1548.4726239495665,794.7247913094058,-207.43327121540295,2181.8999442475165,1386.9934302338465,-523.514797843227,-290.5213733490356,1484.7319628003127,-1810.6953990330278,-4268.880023462005,2540.622045905133,732.9186029816955,1883.2284549659864,-1009.7777834014474,-685.5631679648105,453.63226030492166,242.88749225947666,78.27254524067271,494.8160981094224,268.4600207506999,843.4656414991293,1197.2275595299755,-874.3165055171803,-2134.316990480037,-1019.083547781464,435.8331427050183,2352.877962257194,-1354.4409581690231,2029.0711495263477,2961.924397062845,1059.1200691590227,-3181.5920169002143,-1930.0726197285198,1375.919613314396,1579.9493503417286,3057.805777230264,-279.5140391647934,-1923.3741173972267,49.773523242007904,-393.3497535992898,1881.2702568302057,-2032.399541758783,1047.078944177307,2564.4813315826436,6503.569189429928,5475.3070581698485,-570.2273002708024,-551.1186207483025,-890.0781431244338,-201.32233174091417,667.8312460853684,4055.7208831454946,-1639.9485733262732,-1790.9538189737443,-221.86885661494017,-5026.578300173395,-1440.8394836836014,-592.9447657296432,-415.5720653075242,-722.9910974045199,-2324.9980260940397,-2461.5363974804973,1041.0276313410704,704.4979970915876,-5005.766491921968,-1360.049056981229,-1385.0746252275537,-471.1576435880162,-2186.7501241565055,167.7611992637493,3201.707818702443],\"z\":[1146.7853127481808,529.1710792427534,-648.090762569324,-349.583210147053,-2846.0867711489186,1911.5906621085626,-1381.1717067480395,-41.712170955233866,534.5553164063019,-2929.4066082327076,-404.93447914988377,-1716.7881257588683,-174.13276579615692,-946.2876235279472,104.89597626472884,700.0418343693004,-1670.1489135814234,-1180.146998548083,-522.9868353547851,-668.2971241892872,791.0441583631697,-1023.3754720463096,-281.72879120834773,1806.5765654090415,-302.69125332246614,-1155.7229733479255,6117.7027594976325,647.5913654335511,362.6606195924996,-196.385678164664,-666.5286380628028,-298.6328490722069,-926.6204337514926,22.496554346599375,-46.618910313037624,-559.5442874305357,-433.7689187668037,-781.9577424071355,-578.3586685225793,-1658.4579361461185,75.04524375631657,-706.4665640522488,-82.07304983332497,1349.7950170019767,881.5515724494506,-1646.9310654617673,1167.0101780634843,142.19911912750663,-1569.419227997068,-565.5844918980658,993.7895625484728,996.9860681865199,-828.0413053979421,-2034.3637514542006,1931.0637738718235,435.45255113261095,896.8195944252934,1551.009367204771,1632.017309390079,-981.2786339502148,-319.3926453811867,100.05691228650836,-334.61778432366435,946.7313723333027,40.170954088666306,-1268.5563275755123,-754.3693950548322,-208.4995894017348,2580.267783995332,-701.2617876041337,-159.53690245464273,-136.04004218660154,-864.1159830950392,1147.6070319010512,-628.6461963418064,861.8058186314578,928.1957979220261,908.0756086584784,2409.927253591684,1506.5252723385756,1169.0206587242885,-576.8649871763147,961.5674694128825,-1531.5771159144213]}],                        {\"coloraxis\":{\"colorbar\":{\"title\":{\"text\":\"color\"}},\"colorscale\":[[0.0,\"rgb(136, 204, 238)\"],[0.1,\"rgb(204, 102, 119)\"],[0.2,\"rgb(221, 204, 119)\"],[0.3,\"rgb(17, 119, 51)\"],[0.4,\"rgb(51, 34, 136)\"],[0.5,\"rgb(170, 68, 153)\"],[0.6,\"rgb(68, 170, 153)\"],[0.7,\"rgb(153, 153, 51)\"],[0.8,\"rgb(136, 34, 85)\"],[0.9,\"rgb(102, 17, 0)\"],[1.0,\"rgb(136, 136, 136)\"]],\"showscale\":false},\"legend\":{\"tracegroupgap\":0},\"scene\":{\"domain\":{\"x\":[0.0,1.0],\"y\":[0.0,1.0]},\"xaxis\":{\"title\":{\"text\":\"x\"}},\"yaxis\":{\"title\":{\"text\":\"y\"}},\"zaxis\":{\"title\":{\"text\":\"z\"}}},\"template\":{\"data\":{\"bar\":[{\"error_x\":{\"color\":\"rgb(51,51,51)\"},\"error_y\":{\"color\":\"rgb(51,51,51)\"},\"marker\":{\"line\":{\"color\":\"rgb(237,237,237)\",\"width\":0.5},\"pattern\":{\"fillmode\":\"overlay\",\"size\":10,\"solidity\":0.2}},\"type\":\"bar\"}],\"barpolar\":[{\"marker\":{\"line\":{\"color\":\"rgb(237,237,237)\",\"width\":0.5},\"pattern\":{\"fillmode\":\"overlay\",\"size\":10,\"solidity\":0.2}},\"type\":\"barpolar\"}],\"carpet\":[{\"aaxis\":{\"endlinecolor\":\"rgb(51,51,51)\",\"gridcolor\":\"white\",\"linecolor\":\"white\",\"minorgridcolor\":\"white\",\"startlinecolor\":\"rgb(51,51,51)\"},\"baxis\":{\"endlinecolor\":\"rgb(51,51,51)\",\"gridcolor\":\"white\",\"linecolor\":\"white\",\"minorgridcolor\":\"white\",\"startlinecolor\":\"rgb(51,51,51)\"},\"type\":\"carpet\"}],\"choropleth\":[{\"colorbar\":{\"outlinewidth\":0,\"tickcolor\":\"rgb(237,237,237)\",\"ticklen\":6,\"ticks\":\"inside\"},\"type\":\"choropleth\"}],\"contour\":[{\"colorbar\":{\"outlinewidth\":0,\"tickcolor\":\"rgb(237,237,237)\",\"ticklen\":6,\"ticks\":\"inside\"},\"colorscale\":[[0,\"rgb(20,44,66)\"],[1,\"rgb(90,179,244)\"]],\"type\":\"contour\"}],\"contourcarpet\":[{\"colorbar\":{\"outlinewidth\":0,\"tickcolor\":\"rgb(237,237,237)\",\"ticklen\":6,\"ticks\":\"inside\"},\"type\":\"contourcarpet\"}],\"heatmap\":[{\"colorbar\":{\"outlinewidth\":0,\"tickcolor\":\"rgb(237,237,237)\",\"ticklen\":6,\"ticks\":\"inside\"},\"colorscale\":[[0,\"rgb(20,44,66)\"],[1,\"rgb(90,179,244)\"]],\"type\":\"heatmap\"}],\"heatmapgl\":[{\"colorbar\":{\"outlinewidth\":0,\"tickcolor\":\"rgb(237,237,237)\",\"ticklen\":6,\"ticks\":\"inside\"},\"colorscale\":[[0,\"rgb(20,44,66)\"],[1,\"rgb(90,179,244)\"]],\"type\":\"heatmapgl\"}],\"histogram\":[{\"marker\":{\"pattern\":{\"fillmode\":\"overlay\",\"size\":10,\"solidity\":0.2}},\"type\":\"histogram\"}],\"histogram2d\":[{\"colorbar\":{\"outlinewidth\":0,\"tickcolor\":\"rgb(237,237,237)\",\"ticklen\":6,\"ticks\":\"inside\"},\"colorscale\":[[0,\"rgb(20,44,66)\"],[1,\"rgb(90,179,244)\"]],\"type\":\"histogram2d\"}],\"histogram2dcontour\":[{\"colorbar\":{\"outlinewidth\":0,\"tickcolor\":\"rgb(237,237,237)\",\"ticklen\":6,\"ticks\":\"inside\"},\"colorscale\":[[0,\"rgb(20,44,66)\"],[1,\"rgb(90,179,244)\"]],\"type\":\"histogram2dcontour\"}],\"mesh3d\":[{\"colorbar\":{\"outlinewidth\":0,\"tickcolor\":\"rgb(237,237,237)\",\"ticklen\":6,\"ticks\":\"inside\"},\"type\":\"mesh3d\"}],\"parcoords\":[{\"line\":{\"colorbar\":{\"outlinewidth\":0,\"tickcolor\":\"rgb(237,237,237)\",\"ticklen\":6,\"ticks\":\"inside\"}},\"type\":\"parcoords\"}],\"pie\":[{\"automargin\":true,\"type\":\"pie\"}],\"scatter\":[{\"marker\":{\"colorbar\":{\"outlinewidth\":0,\"tickcolor\":\"rgb(237,237,237)\",\"ticklen\":6,\"ticks\":\"inside\"}},\"type\":\"scatter\"}],\"scatter3d\":[{\"line\":{\"colorbar\":{\"outlinewidth\":0,\"tickcolor\":\"rgb(237,237,237)\",\"ticklen\":6,\"ticks\":\"inside\"}},\"marker\":{\"colorbar\":{\"outlinewidth\":0,\"tickcolor\":\"rgb(237,237,237)\",\"ticklen\":6,\"ticks\":\"inside\"}},\"type\":\"scatter3d\"}],\"scattercarpet\":[{\"marker\":{\"colorbar\":{\"outlinewidth\":0,\"tickcolor\":\"rgb(237,237,237)\",\"ticklen\":6,\"ticks\":\"inside\"}},\"type\":\"scattercarpet\"}],\"scattergeo\":[{\"marker\":{\"colorbar\":{\"outlinewidth\":0,\"tickcolor\":\"rgb(237,237,237)\",\"ticklen\":6,\"ticks\":\"inside\"}},\"type\":\"scattergeo\"}],\"scattergl\":[{\"marker\":{\"colorbar\":{\"outlinewidth\":0,\"tickcolor\":\"rgb(237,237,237)\",\"ticklen\":6,\"ticks\":\"inside\"}},\"type\":\"scattergl\"}],\"scattermapbox\":[{\"marker\":{\"colorbar\":{\"outlinewidth\":0,\"tickcolor\":\"rgb(237,237,237)\",\"ticklen\":6,\"ticks\":\"inside\"}},\"type\":\"scattermapbox\"}],\"scatterpolar\":[{\"marker\":{\"colorbar\":{\"outlinewidth\":0,\"tickcolor\":\"rgb(237,237,237)\",\"ticklen\":6,\"ticks\":\"inside\"}},\"type\":\"scatterpolar\"}],\"scatterpolargl\":[{\"marker\":{\"colorbar\":{\"outlinewidth\":0,\"tickcolor\":\"rgb(237,237,237)\",\"ticklen\":6,\"ticks\":\"inside\"}},\"type\":\"scatterpolargl\"}],\"scatterternary\":[{\"marker\":{\"colorbar\":{\"outlinewidth\":0,\"tickcolor\":\"rgb(237,237,237)\",\"ticklen\":6,\"ticks\":\"inside\"}},\"type\":\"scatterternary\"}],\"surface\":[{\"colorbar\":{\"outlinewidth\":0,\"tickcolor\":\"rgb(237,237,237)\",\"ticklen\":6,\"ticks\":\"inside\"},\"colorscale\":[[0,\"rgb(20,44,66)\"],[1,\"rgb(90,179,244)\"]],\"type\":\"surface\"}],\"table\":[{\"cells\":{\"fill\":{\"color\":\"rgb(237,237,237)\"},\"line\":{\"color\":\"white\"}},\"header\":{\"fill\":{\"color\":\"rgb(217,217,217)\"},\"line\":{\"color\":\"white\"}},\"type\":\"table\"}]},\"layout\":{\"annotationdefaults\":{\"arrowhead\":0,\"arrowwidth\":1},\"autotypenumbers\":\"strict\",\"coloraxis\":{\"colorbar\":{\"outlinewidth\":0,\"tickcolor\":\"rgb(237,237,237)\",\"ticklen\":6,\"ticks\":\"inside\"}},\"colorscale\":{\"sequential\":[[0,\"rgb(20,44,66)\"],[1,\"rgb(90,179,244)\"]],\"sequentialminus\":[[0,\"rgb(20,44,66)\"],[1,\"rgb(90,179,244)\"]]},\"colorway\":[\"#F8766D\",\"#A3A500\",\"#00BF7D\",\"#00B0F6\",\"#E76BF3\"],\"font\":{\"color\":\"rgb(51,51,51)\"},\"geo\":{\"bgcolor\":\"white\",\"lakecolor\":\"white\",\"landcolor\":\"rgb(237,237,237)\",\"showlakes\":true,\"showland\":true,\"subunitcolor\":\"white\"},\"hoverlabel\":{\"align\":\"left\"},\"hovermode\":\"closest\",\"paper_bgcolor\":\"white\",\"plot_bgcolor\":\"rgb(237,237,237)\",\"polar\":{\"angularaxis\":{\"gridcolor\":\"white\",\"linecolor\":\"white\",\"showgrid\":true,\"tickcolor\":\"rgb(51,51,51)\",\"ticks\":\"outside\"},\"bgcolor\":\"rgb(237,237,237)\",\"radialaxis\":{\"gridcolor\":\"white\",\"linecolor\":\"white\",\"showgrid\":true,\"tickcolor\":\"rgb(51,51,51)\",\"ticks\":\"outside\"}},\"scene\":{\"xaxis\":{\"backgroundcolor\":\"rgb(237,237,237)\",\"gridcolor\":\"white\",\"gridwidth\":2,\"linecolor\":\"white\",\"showbackground\":true,\"showgrid\":true,\"tickcolor\":\"rgb(51,51,51)\",\"ticks\":\"outside\",\"zerolinecolor\":\"white\"},\"yaxis\":{\"backgroundcolor\":\"rgb(237,237,237)\",\"gridcolor\":\"white\",\"gridwidth\":2,\"linecolor\":\"white\",\"showbackground\":true,\"showgrid\":true,\"tickcolor\":\"rgb(51,51,51)\",\"ticks\":\"outside\",\"zerolinecolor\":\"white\"},\"zaxis\":{\"backgroundcolor\":\"rgb(237,237,237)\",\"gridcolor\":\"white\",\"gridwidth\":2,\"linecolor\":\"white\",\"showbackground\":true,\"showgrid\":true,\"tickcolor\":\"rgb(51,51,51)\",\"ticks\":\"outside\",\"zerolinecolor\":\"white\"}},\"shapedefaults\":{\"fillcolor\":\"black\",\"line\":{\"width\":0},\"opacity\":0.3},\"ternary\":{\"aaxis\":{\"gridcolor\":\"white\",\"linecolor\":\"white\",\"showgrid\":true,\"tickcolor\":\"rgb(51,51,51)\",\"ticks\":\"outside\"},\"baxis\":{\"gridcolor\":\"white\",\"linecolor\":\"white\",\"showgrid\":true,\"tickcolor\":\"rgb(51,51,51)\",\"ticks\":\"outside\"},\"bgcolor\":\"rgb(237,237,237)\",\"caxis\":{\"gridcolor\":\"white\",\"linecolor\":\"white\",\"showgrid\":true,\"tickcolor\":\"rgb(51,51,51)\",\"ticks\":\"outside\"}},\"xaxis\":{\"automargin\":true,\"gridcolor\":\"white\",\"linecolor\":\"white\",\"showgrid\":true,\"tickcolor\":\"rgb(51,51,51)\",\"ticks\":\"outside\",\"title\":{\"standoff\":15},\"zerolinecolor\":\"white\"},\"yaxis\":{\"automargin\":true,\"gridcolor\":\"white\",\"linecolor\":\"white\",\"showgrid\":true,\"tickcolor\":\"rgb(51,51,51)\",\"ticks\":\"outside\",\"title\":{\"standoff\":15},\"zerolinecolor\":\"white\"}}},\"title\":{\"text\":\"Model: Decision Tree, f1_score: 0.78\"}},                        {\"responsive\": true}                    ).then(function(){\n                            \nvar gd = document.getElementById('0de75064-37c5-4969-9a53-9644f1fed9ee');\nvar x = new MutationObserver(function (mutations, observer) {{\n        var display = window.getComputedStyle(gd).display;\n        if (!display || display === 'none') {{\n            console.log([gd, 'removed!']);\n            Plotly.purge(gd);\n            observer.disconnect();\n        }}\n}});\n\n// Listen for the removal of the full notebook cells\nvar notebookContainer = gd.closest('#notebook-container');\nif (notebookContainer) {{\n    x.observe(notebookContainer, {childList: true});\n}}\n\n// Listen for the clearing of the current output cell\nvar outputEl = gd.closest('.output');\nif (outputEl) {{\n    x.observe(outputEl, {childList: true});\n}}\n\n                        })                };                });            </script>        </div>"
     },
     "metadata": {},
     "output_type": "display_data"
    },
    {
     "data": {
      "application/vnd.plotly.v1+json": {
       "config": {
        "plotlyServerURL": "https://plot.ly"
       },
       "data": [
        {
         "hovertemplate": "x=%{x}<br>y=%{y}<br>z=%{z}<br>color=%{marker.color}<extra></extra>",
         "legendgroup": "",
         "marker": {
          "color": [
           1,
           1,
           0,
           1,
           2,
           1,
           0,
           0,
           1,
           1,
           1,
           1,
           2,
           1,
           1,
           0,
           1,
           2,
           1,
           0,
           1,
           1,
           2,
           2,
           1,
           2,
           2,
           0,
           0,
           1,
           1,
           2,
           2,
           1,
           0,
           2,
           1,
           0,
           1,
           2,
           0,
           1,
           1,
           1,
           2,
           2,
           1,
           1,
           1,
           0,
           2,
           0,
           1,
           1,
           2,
           1,
           1,
           1,
           2,
           1,
           0,
           0,
           0,
           1,
           2,
           2,
           0,
           0,
           2,
           1,
           0,
           1,
           1,
           2,
           1,
           1,
           1,
           2,
           2,
           1,
           2,
           2,
           1,
           2
          ],
          "coloraxis": "coloraxis",
          "symbol": "circle"
         },
         "mode": "markers",
         "name": "",
         "scene": "scene",
         "showlegend": false,
         "type": "scatter3d",
         "x": [
          -347.07450833928516,
          1273.8300089967515,
          -5997.434593608511,
          -1663.292400853369,
          5924.700815024655,
          1365.0731978549838,
          -1821.9978046505353,
          -4690.067529717905,
          -776.2977159602123,
          7669.949936964694,
          -976.399662474557,
          810.7530589713411,
          408.8229560007588,
          3118.299386848759,
          -4634.380626213161,
          -5370.20711693004,
          2853.0602652796683,
          6278.514508774744,
          -5043.430569310168,
          -5192.2482001275175,
          -1480.4746317461309,
          1335.7369511925324,
          9627.787307120238,
          2668.2344669137347,
          -1150.689983364907,
          -2133.1950550990987,
          9194.725643073289,
          -6759.836336405845,
          -5929.215148872297,
          -1490.9650984348064,
          -2976.080275840496,
          6504.989227720147,
          8269.778484560502,
          -2500.015703249154,
          -4253.359878161771,
          5361.946846621567,
          7122.614861595877,
          -7203.143790299389,
          -1960.6319005095477,
          6290.39304285958,
          -7304.248294912769,
          -2256.0059828871954,
          692.7540706668523,
          -2211.6185913159425,
          6525.271317150179,
          8048.243089596551,
          -3726.476051793123,
          1706.31792618255,
          1556.7212845084769,
          -6516.826357790648,
          4236.226819338702,
          -6915.918368029184,
          304.4841980574452,
          2533.4138503848044,
          1692.2767146774752,
          1387.561394291275,
          -268.1644469842516,
          2353.751428450145,
          6146.480053453136,
          -2350.660989055208,
          -6960.958374942054,
          -5216.714788336432,
          -6158.573439460882,
          -2497.1373079055234,
          -46.916430952099965,
          7876.806406378848,
          -7557.769263810412,
          -5948.361465088149,
          2745.8621427845424,
          5537.032909151986,
          -8059.036417195986,
          -2055.213425417832,
          -1659.772792833748,
          1017.3621012883134,
          -535.9531459027223,
          1856.6175191501163,
          -21.808048264912532,
          3619.5629676798694,
          2809.2870181322787,
          -312.2601644859504,
          2244.395534588513,
          -832.8145858699658,
          -2551.918456256307,
          5345.926007374201
         ],
         "y": [
          2119.48889196476,
          974.9973358057777,
          -809.2635570204948,
          787.9525899545109,
          1581.6477579293692,
          4234.195091564124,
          -1640.2548771529894,
          -3853.3625621572032,
          -599.606673599986,
          -2095.1656216587285,
          -621.1726745457182,
          -1722.4963725056903,
          -3523.219714010576,
          1548.4726239495665,
          794.7247913094058,
          -207.43327121540295,
          2181.8999442475165,
          1386.9934302338465,
          -523.514797843227,
          -290.5213733490356,
          1484.7319628003127,
          -1810.6953990330278,
          -4268.880023462005,
          2540.622045905133,
          732.9186029816955,
          1883.2284549659864,
          -1009.7777834014474,
          -685.5631679648105,
          453.63226030492166,
          242.88749225947666,
          78.27254524067271,
          494.8160981094224,
          268.4600207506999,
          843.4656414991293,
          1197.2275595299755,
          -874.3165055171803,
          -2134.316990480037,
          -1019.083547781464,
          435.8331427050183,
          2352.877962257194,
          -1354.4409581690231,
          2029.0711495263477,
          2961.924397062845,
          1059.1200691590227,
          -3181.5920169002143,
          -1930.0726197285198,
          1375.919613314396,
          1579.9493503417286,
          3057.805777230264,
          -279.5140391647934,
          -1923.3741173972267,
          49.773523242007904,
          -393.3497535992898,
          1881.2702568302057,
          -2032.399541758783,
          1047.078944177307,
          2564.4813315826436,
          6503.569189429928,
          5475.3070581698485,
          -570.2273002708024,
          -551.1186207483025,
          -890.0781431244338,
          -201.32233174091417,
          667.8312460853684,
          4055.7208831454946,
          -1639.9485733262732,
          -1790.9538189737443,
          -221.86885661494017,
          -5026.578300173395,
          -1440.8394836836014,
          -592.9447657296432,
          -415.5720653075242,
          -722.9910974045199,
          -2324.9980260940397,
          -2461.5363974804973,
          1041.0276313410704,
          704.4979970915876,
          -5005.766491921968,
          -1360.049056981229,
          -1385.0746252275537,
          -471.1576435880162,
          -2186.7501241565055,
          167.7611992637493,
          3201.707818702443
         ],
         "z": [
          1146.7853127481808,
          529.1710792427534,
          -648.090762569324,
          -349.583210147053,
          -2846.0867711489186,
          1911.5906621085626,
          -1381.1717067480395,
          -41.712170955233866,
          534.5553164063019,
          -2929.4066082327076,
          -404.93447914988377,
          -1716.7881257588683,
          -174.13276579615692,
          -946.2876235279472,
          104.89597626472884,
          700.0418343693004,
          -1670.1489135814234,
          -1180.146998548083,
          -522.9868353547851,
          -668.2971241892872,
          791.0441583631697,
          -1023.3754720463096,
          -281.72879120834773,
          1806.5765654090415,
          -302.69125332246614,
          -1155.7229733479255,
          6117.7027594976325,
          647.5913654335511,
          362.6606195924996,
          -196.385678164664,
          -666.5286380628028,
          -298.6328490722069,
          -926.6204337514926,
          22.496554346599375,
          -46.618910313037624,
          -559.5442874305357,
          -433.7689187668037,
          -781.9577424071355,
          -578.3586685225793,
          -1658.4579361461185,
          75.04524375631657,
          -706.4665640522488,
          -82.07304983332497,
          1349.7950170019767,
          881.5515724494506,
          -1646.9310654617673,
          1167.0101780634843,
          142.19911912750663,
          -1569.419227997068,
          -565.5844918980658,
          993.7895625484728,
          996.9860681865199,
          -828.0413053979421,
          -2034.3637514542006,
          1931.0637738718235,
          435.45255113261095,
          896.8195944252934,
          1551.009367204771,
          1632.017309390079,
          -981.2786339502148,
          -319.3926453811867,
          100.05691228650836,
          -334.61778432366435,
          946.7313723333027,
          40.170954088666306,
          -1268.5563275755123,
          -754.3693950548322,
          -208.4995894017348,
          2580.267783995332,
          -701.2617876041337,
          -159.53690245464273,
          -136.04004218660154,
          -864.1159830950392,
          1147.6070319010512,
          -628.6461963418064,
          861.8058186314578,
          928.1957979220261,
          908.0756086584784,
          2409.927253591684,
          1506.5252723385756,
          1169.0206587242885,
          -576.8649871763147,
          961.5674694128825,
          -1531.5771159144213
         ]
        }
       ],
       "layout": {
        "coloraxis": {
         "colorbar": {
          "title": {
           "text": "color"
          }
         },
         "colorscale": [
          [
           0.0,
           "rgb(136, 204, 238)"
          ],
          [
           0.1,
           "rgb(204, 102, 119)"
          ],
          [
           0.2,
           "rgb(221, 204, 119)"
          ],
          [
           0.3,
           "rgb(17, 119, 51)"
          ],
          [
           0.4,
           "rgb(51, 34, 136)"
          ],
          [
           0.5,
           "rgb(170, 68, 153)"
          ],
          [
           0.6,
           "rgb(68, 170, 153)"
          ],
          [
           0.7,
           "rgb(153, 153, 51)"
          ],
          [
           0.8,
           "rgb(136, 34, 85)"
          ],
          [
           0.9,
           "rgb(102, 17, 0)"
          ],
          [
           1.0,
           "rgb(136, 136, 136)"
          ]
         ],
         "showscale": false
        },
        "legend": {
         "tracegroupgap": 0
        },
        "scene": {
         "domain": {
          "x": [
           0.0,
           1.0
          ],
          "y": [
           0.0,
           1.0
          ]
         },
         "xaxis": {
          "title": {
           "text": "x"
          }
         },
         "yaxis": {
          "title": {
           "text": "y"
          }
         },
         "zaxis": {
          "title": {
           "text": "z"
          }
         }
        },
        "template": {
         "data": {
          "bar": [
           {
            "error_x": {
             "color": "rgb(51,51,51)"
            },
            "error_y": {
             "color": "rgb(51,51,51)"
            },
            "marker": {
             "line": {
              "color": "rgb(237,237,237)",
              "width": 0.5
             },
             "pattern": {
              "fillmode": "overlay",
              "size": 10,
              "solidity": 0.2
             }
            },
            "type": "bar"
           }
          ],
          "barpolar": [
           {
            "marker": {
             "line": {
              "color": "rgb(237,237,237)",
              "width": 0.5
             },
             "pattern": {
              "fillmode": "overlay",
              "size": 10,
              "solidity": 0.2
             }
            },
            "type": "barpolar"
           }
          ],
          "carpet": [
           {
            "aaxis": {
             "endlinecolor": "rgb(51,51,51)",
             "gridcolor": "white",
             "linecolor": "white",
             "minorgridcolor": "white",
             "startlinecolor": "rgb(51,51,51)"
            },
            "baxis": {
             "endlinecolor": "rgb(51,51,51)",
             "gridcolor": "white",
             "linecolor": "white",
             "minorgridcolor": "white",
             "startlinecolor": "rgb(51,51,51)"
            },
            "type": "carpet"
           }
          ],
          "choropleth": [
           {
            "colorbar": {
             "outlinewidth": 0,
             "tickcolor": "rgb(237,237,237)",
             "ticklen": 6,
             "ticks": "inside"
            },
            "type": "choropleth"
           }
          ],
          "contour": [
           {
            "colorbar": {
             "outlinewidth": 0,
             "tickcolor": "rgb(237,237,237)",
             "ticklen": 6,
             "ticks": "inside"
            },
            "colorscale": [
             [
              0,
              "rgb(20,44,66)"
             ],
             [
              1,
              "rgb(90,179,244)"
             ]
            ],
            "type": "contour"
           }
          ],
          "contourcarpet": [
           {
            "colorbar": {
             "outlinewidth": 0,
             "tickcolor": "rgb(237,237,237)",
             "ticklen": 6,
             "ticks": "inside"
            },
            "type": "contourcarpet"
           }
          ],
          "heatmap": [
           {
            "colorbar": {
             "outlinewidth": 0,
             "tickcolor": "rgb(237,237,237)",
             "ticklen": 6,
             "ticks": "inside"
            },
            "colorscale": [
             [
              0,
              "rgb(20,44,66)"
             ],
             [
              1,
              "rgb(90,179,244)"
             ]
            ],
            "type": "heatmap"
           }
          ],
          "heatmapgl": [
           {
            "colorbar": {
             "outlinewidth": 0,
             "tickcolor": "rgb(237,237,237)",
             "ticklen": 6,
             "ticks": "inside"
            },
            "colorscale": [
             [
              0,
              "rgb(20,44,66)"
             ],
             [
              1,
              "rgb(90,179,244)"
             ]
            ],
            "type": "heatmapgl"
           }
          ],
          "histogram": [
           {
            "marker": {
             "pattern": {
              "fillmode": "overlay",
              "size": 10,
              "solidity": 0.2
             }
            },
            "type": "histogram"
           }
          ],
          "histogram2d": [
           {
            "colorbar": {
             "outlinewidth": 0,
             "tickcolor": "rgb(237,237,237)",
             "ticklen": 6,
             "ticks": "inside"
            },
            "colorscale": [
             [
              0,
              "rgb(20,44,66)"
             ],
             [
              1,
              "rgb(90,179,244)"
             ]
            ],
            "type": "histogram2d"
           }
          ],
          "histogram2dcontour": [
           {
            "colorbar": {
             "outlinewidth": 0,
             "tickcolor": "rgb(237,237,237)",
             "ticklen": 6,
             "ticks": "inside"
            },
            "colorscale": [
             [
              0,
              "rgb(20,44,66)"
             ],
             [
              1,
              "rgb(90,179,244)"
             ]
            ],
            "type": "histogram2dcontour"
           }
          ],
          "mesh3d": [
           {
            "colorbar": {
             "outlinewidth": 0,
             "tickcolor": "rgb(237,237,237)",
             "ticklen": 6,
             "ticks": "inside"
            },
            "type": "mesh3d"
           }
          ],
          "parcoords": [
           {
            "line": {
             "colorbar": {
              "outlinewidth": 0,
              "tickcolor": "rgb(237,237,237)",
              "ticklen": 6,
              "ticks": "inside"
             }
            },
            "type": "parcoords"
           }
          ],
          "pie": [
           {
            "automargin": true,
            "type": "pie"
           }
          ],
          "scatter": [
           {
            "marker": {
             "colorbar": {
              "outlinewidth": 0,
              "tickcolor": "rgb(237,237,237)",
              "ticklen": 6,
              "ticks": "inside"
             }
            },
            "type": "scatter"
           }
          ],
          "scatter3d": [
           {
            "line": {
             "colorbar": {
              "outlinewidth": 0,
              "tickcolor": "rgb(237,237,237)",
              "ticklen": 6,
              "ticks": "inside"
             }
            },
            "marker": {
             "colorbar": {
              "outlinewidth": 0,
              "tickcolor": "rgb(237,237,237)",
              "ticklen": 6,
              "ticks": "inside"
             }
            },
            "type": "scatter3d"
           }
          ],
          "scattercarpet": [
           {
            "marker": {
             "colorbar": {
              "outlinewidth": 0,
              "tickcolor": "rgb(237,237,237)",
              "ticklen": 6,
              "ticks": "inside"
             }
            },
            "type": "scattercarpet"
           }
          ],
          "scattergeo": [
           {
            "marker": {
             "colorbar": {
              "outlinewidth": 0,
              "tickcolor": "rgb(237,237,237)",
              "ticklen": 6,
              "ticks": "inside"
             }
            },
            "type": "scattergeo"
           }
          ],
          "scattergl": [
           {
            "marker": {
             "colorbar": {
              "outlinewidth": 0,
              "tickcolor": "rgb(237,237,237)",
              "ticklen": 6,
              "ticks": "inside"
             }
            },
            "type": "scattergl"
           }
          ],
          "scattermapbox": [
           {
            "marker": {
             "colorbar": {
              "outlinewidth": 0,
              "tickcolor": "rgb(237,237,237)",
              "ticklen": 6,
              "ticks": "inside"
             }
            },
            "type": "scattermapbox"
           }
          ],
          "scatterpolar": [
           {
            "marker": {
             "colorbar": {
              "outlinewidth": 0,
              "tickcolor": "rgb(237,237,237)",
              "ticklen": 6,
              "ticks": "inside"
             }
            },
            "type": "scatterpolar"
           }
          ],
          "scatterpolargl": [
           {
            "marker": {
             "colorbar": {
              "outlinewidth": 0,
              "tickcolor": "rgb(237,237,237)",
              "ticklen": 6,
              "ticks": "inside"
             }
            },
            "type": "scatterpolargl"
           }
          ],
          "scatterternary": [
           {
            "marker": {
             "colorbar": {
              "outlinewidth": 0,
              "tickcolor": "rgb(237,237,237)",
              "ticklen": 6,
              "ticks": "inside"
             }
            },
            "type": "scatterternary"
           }
          ],
          "surface": [
           {
            "colorbar": {
             "outlinewidth": 0,
             "tickcolor": "rgb(237,237,237)",
             "ticklen": 6,
             "ticks": "inside"
            },
            "colorscale": [
             [
              0,
              "rgb(20,44,66)"
             ],
             [
              1,
              "rgb(90,179,244)"
             ]
            ],
            "type": "surface"
           }
          ],
          "table": [
           {
            "cells": {
             "fill": {
              "color": "rgb(237,237,237)"
             },
             "line": {
              "color": "white"
             }
            },
            "header": {
             "fill": {
              "color": "rgb(217,217,217)"
             },
             "line": {
              "color": "white"
             }
            },
            "type": "table"
           }
          ]
         },
         "layout": {
          "annotationdefaults": {
           "arrowhead": 0,
           "arrowwidth": 1
          },
          "autotypenumbers": "strict",
          "coloraxis": {
           "colorbar": {
            "outlinewidth": 0,
            "tickcolor": "rgb(237,237,237)",
            "ticklen": 6,
            "ticks": "inside"
           }
          },
          "colorscale": {
           "sequential": [
            [
             0,
             "rgb(20,44,66)"
            ],
            [
             1,
             "rgb(90,179,244)"
            ]
           ],
           "sequentialminus": [
            [
             0,
             "rgb(20,44,66)"
            ],
            [
             1,
             "rgb(90,179,244)"
            ]
           ]
          },
          "colorway": [
           "#F8766D",
           "#A3A500",
           "#00BF7D",
           "#00B0F6",
           "#E76BF3"
          ],
          "font": {
           "color": "rgb(51,51,51)"
          },
          "geo": {
           "bgcolor": "white",
           "lakecolor": "white",
           "landcolor": "rgb(237,237,237)",
           "showlakes": true,
           "showland": true,
           "subunitcolor": "white"
          },
          "hoverlabel": {
           "align": "left"
          },
          "hovermode": "closest",
          "paper_bgcolor": "white",
          "plot_bgcolor": "rgb(237,237,237)",
          "polar": {
           "angularaxis": {
            "gridcolor": "white",
            "linecolor": "white",
            "showgrid": true,
            "tickcolor": "rgb(51,51,51)",
            "ticks": "outside"
           },
           "bgcolor": "rgb(237,237,237)",
           "radialaxis": {
            "gridcolor": "white",
            "linecolor": "white",
            "showgrid": true,
            "tickcolor": "rgb(51,51,51)",
            "ticks": "outside"
           }
          },
          "scene": {
           "xaxis": {
            "backgroundcolor": "rgb(237,237,237)",
            "gridcolor": "white",
            "gridwidth": 2,
            "linecolor": "white",
            "showbackground": true,
            "showgrid": true,
            "tickcolor": "rgb(51,51,51)",
            "ticks": "outside",
            "zerolinecolor": "white"
           },
           "yaxis": {
            "backgroundcolor": "rgb(237,237,237)",
            "gridcolor": "white",
            "gridwidth": 2,
            "linecolor": "white",
            "showbackground": true,
            "showgrid": true,
            "tickcolor": "rgb(51,51,51)",
            "ticks": "outside",
            "zerolinecolor": "white"
           },
           "zaxis": {
            "backgroundcolor": "rgb(237,237,237)",
            "gridcolor": "white",
            "gridwidth": 2,
            "linecolor": "white",
            "showbackground": true,
            "showgrid": true,
            "tickcolor": "rgb(51,51,51)",
            "ticks": "outside",
            "zerolinecolor": "white"
           }
          },
          "shapedefaults": {
           "fillcolor": "black",
           "line": {
            "width": 0
           },
           "opacity": 0.3
          },
          "ternary": {
           "aaxis": {
            "gridcolor": "white",
            "linecolor": "white",
            "showgrid": true,
            "tickcolor": "rgb(51,51,51)",
            "ticks": "outside"
           },
           "baxis": {
            "gridcolor": "white",
            "linecolor": "white",
            "showgrid": true,
            "tickcolor": "rgb(51,51,51)",
            "ticks": "outside"
           },
           "bgcolor": "rgb(237,237,237)",
           "caxis": {
            "gridcolor": "white",
            "linecolor": "white",
            "showgrid": true,
            "tickcolor": "rgb(51,51,51)",
            "ticks": "outside"
           }
          },
          "xaxis": {
           "automargin": true,
           "gridcolor": "white",
           "linecolor": "white",
           "showgrid": true,
           "tickcolor": "rgb(51,51,51)",
           "ticks": "outside",
           "title": {
            "standoff": 15
           },
           "zerolinecolor": "white"
          },
          "yaxis": {
           "automargin": true,
           "gridcolor": "white",
           "linecolor": "white",
           "showgrid": true,
           "tickcolor": "rgb(51,51,51)",
           "ticks": "outside",
           "title": {
            "standoff": 15
           },
           "zerolinecolor": "white"
          }
         }
        },
        "title": {
         "text": "Model: KNN, f1_score: 0.76"
        }
       }
      },
      "text/html": "<div>                            <div id=\"1ce3fc57-149d-4991-8652-f475052c59fe\" class=\"plotly-graph-div\" style=\"height:525px; width:100%;\"></div>            <script type=\"text/javascript\">                require([\"plotly\"], function(Plotly) {                    window.PLOTLYENV=window.PLOTLYENV || {};                                    if (document.getElementById(\"1ce3fc57-149d-4991-8652-f475052c59fe\")) {                    Plotly.newPlot(                        \"1ce3fc57-149d-4991-8652-f475052c59fe\",                        [{\"hovertemplate\":\"x=%{x}<br>y=%{y}<br>z=%{z}<br>color=%{marker.color}<extra></extra>\",\"legendgroup\":\"\",\"marker\":{\"color\":[1,1,0,1,2,1,0,0,1,1,1,1,2,1,1,0,1,2,1,0,1,1,2,2,1,2,2,0,0,1,1,2,2,1,0,2,1,0,1,2,0,1,1,1,2,2,1,1,1,0,2,0,1,1,2,1,1,1,2,1,0,0,0,1,2,2,0,0,2,1,0,1,1,2,1,1,1,2,2,1,2,2,1,2],\"coloraxis\":\"coloraxis\",\"symbol\":\"circle\"},\"mode\":\"markers\",\"name\":\"\",\"scene\":\"scene\",\"showlegend\":false,\"type\":\"scatter3d\",\"x\":[-347.07450833928516,1273.8300089967515,-5997.434593608511,-1663.292400853369,5924.700815024655,1365.0731978549838,-1821.9978046505353,-4690.067529717905,-776.2977159602123,7669.949936964694,-976.399662474557,810.7530589713411,408.8229560007588,3118.299386848759,-4634.380626213161,-5370.20711693004,2853.0602652796683,6278.514508774744,-5043.430569310168,-5192.2482001275175,-1480.4746317461309,1335.7369511925324,9627.787307120238,2668.2344669137347,-1150.689983364907,-2133.1950550990987,9194.725643073289,-6759.836336405845,-5929.215148872297,-1490.9650984348064,-2976.080275840496,6504.989227720147,8269.778484560502,-2500.015703249154,-4253.359878161771,5361.946846621567,7122.614861595877,-7203.143790299389,-1960.6319005095477,6290.39304285958,-7304.248294912769,-2256.0059828871954,692.7540706668523,-2211.6185913159425,6525.271317150179,8048.243089596551,-3726.476051793123,1706.31792618255,1556.7212845084769,-6516.826357790648,4236.226819338702,-6915.918368029184,304.4841980574452,2533.4138503848044,1692.2767146774752,1387.561394291275,-268.1644469842516,2353.751428450145,6146.480053453136,-2350.660989055208,-6960.958374942054,-5216.714788336432,-6158.573439460882,-2497.1373079055234,-46.916430952099965,7876.806406378848,-7557.769263810412,-5948.361465088149,2745.8621427845424,5537.032909151986,-8059.036417195986,-2055.213425417832,-1659.772792833748,1017.3621012883134,-535.9531459027223,1856.6175191501163,-21.808048264912532,3619.5629676798694,2809.2870181322787,-312.2601644859504,2244.395534588513,-832.8145858699658,-2551.918456256307,5345.926007374201],\"y\":[2119.48889196476,974.9973358057777,-809.2635570204948,787.9525899545109,1581.6477579293692,4234.195091564124,-1640.2548771529894,-3853.3625621572032,-599.606673599986,-2095.1656216587285,-621.1726745457182,-1722.4963725056903,-3523.219714010576,1548.4726239495665,794.7247913094058,-207.43327121540295,2181.8999442475165,1386.9934302338465,-523.514797843227,-290.5213733490356,1484.7319628003127,-1810.6953990330278,-4268.880023462005,2540.622045905133,732.9186029816955,1883.2284549659864,-1009.7777834014474,-685.5631679648105,453.63226030492166,242.88749225947666,78.27254524067271,494.8160981094224,268.4600207506999,843.4656414991293,1197.2275595299755,-874.3165055171803,-2134.316990480037,-1019.083547781464,435.8331427050183,2352.877962257194,-1354.4409581690231,2029.0711495263477,2961.924397062845,1059.1200691590227,-3181.5920169002143,-1930.0726197285198,1375.919613314396,1579.9493503417286,3057.805777230264,-279.5140391647934,-1923.3741173972267,49.773523242007904,-393.3497535992898,1881.2702568302057,-2032.399541758783,1047.078944177307,2564.4813315826436,6503.569189429928,5475.3070581698485,-570.2273002708024,-551.1186207483025,-890.0781431244338,-201.32233174091417,667.8312460853684,4055.7208831454946,-1639.9485733262732,-1790.9538189737443,-221.86885661494017,-5026.578300173395,-1440.8394836836014,-592.9447657296432,-415.5720653075242,-722.9910974045199,-2324.9980260940397,-2461.5363974804973,1041.0276313410704,704.4979970915876,-5005.766491921968,-1360.049056981229,-1385.0746252275537,-471.1576435880162,-2186.7501241565055,167.7611992637493,3201.707818702443],\"z\":[1146.7853127481808,529.1710792427534,-648.090762569324,-349.583210147053,-2846.0867711489186,1911.5906621085626,-1381.1717067480395,-41.712170955233866,534.5553164063019,-2929.4066082327076,-404.93447914988377,-1716.7881257588683,-174.13276579615692,-946.2876235279472,104.89597626472884,700.0418343693004,-1670.1489135814234,-1180.146998548083,-522.9868353547851,-668.2971241892872,791.0441583631697,-1023.3754720463096,-281.72879120834773,1806.5765654090415,-302.69125332246614,-1155.7229733479255,6117.7027594976325,647.5913654335511,362.6606195924996,-196.385678164664,-666.5286380628028,-298.6328490722069,-926.6204337514926,22.496554346599375,-46.618910313037624,-559.5442874305357,-433.7689187668037,-781.9577424071355,-578.3586685225793,-1658.4579361461185,75.04524375631657,-706.4665640522488,-82.07304983332497,1349.7950170019767,881.5515724494506,-1646.9310654617673,1167.0101780634843,142.19911912750663,-1569.419227997068,-565.5844918980658,993.7895625484728,996.9860681865199,-828.0413053979421,-2034.3637514542006,1931.0637738718235,435.45255113261095,896.8195944252934,1551.009367204771,1632.017309390079,-981.2786339502148,-319.3926453811867,100.05691228650836,-334.61778432366435,946.7313723333027,40.170954088666306,-1268.5563275755123,-754.3693950548322,-208.4995894017348,2580.267783995332,-701.2617876041337,-159.53690245464273,-136.04004218660154,-864.1159830950392,1147.6070319010512,-628.6461963418064,861.8058186314578,928.1957979220261,908.0756086584784,2409.927253591684,1506.5252723385756,1169.0206587242885,-576.8649871763147,961.5674694128825,-1531.5771159144213]}],                        {\"coloraxis\":{\"colorbar\":{\"title\":{\"text\":\"color\"}},\"colorscale\":[[0.0,\"rgb(136, 204, 238)\"],[0.1,\"rgb(204, 102, 119)\"],[0.2,\"rgb(221, 204, 119)\"],[0.3,\"rgb(17, 119, 51)\"],[0.4,\"rgb(51, 34, 136)\"],[0.5,\"rgb(170, 68, 153)\"],[0.6,\"rgb(68, 170, 153)\"],[0.7,\"rgb(153, 153, 51)\"],[0.8,\"rgb(136, 34, 85)\"],[0.9,\"rgb(102, 17, 0)\"],[1.0,\"rgb(136, 136, 136)\"]],\"showscale\":false},\"legend\":{\"tracegroupgap\":0},\"scene\":{\"domain\":{\"x\":[0.0,1.0],\"y\":[0.0,1.0]},\"xaxis\":{\"title\":{\"text\":\"x\"}},\"yaxis\":{\"title\":{\"text\":\"y\"}},\"zaxis\":{\"title\":{\"text\":\"z\"}}},\"template\":{\"data\":{\"bar\":[{\"error_x\":{\"color\":\"rgb(51,51,51)\"},\"error_y\":{\"color\":\"rgb(51,51,51)\"},\"marker\":{\"line\":{\"color\":\"rgb(237,237,237)\",\"width\":0.5},\"pattern\":{\"fillmode\":\"overlay\",\"size\":10,\"solidity\":0.2}},\"type\":\"bar\"}],\"barpolar\":[{\"marker\":{\"line\":{\"color\":\"rgb(237,237,237)\",\"width\":0.5},\"pattern\":{\"fillmode\":\"overlay\",\"size\":10,\"solidity\":0.2}},\"type\":\"barpolar\"}],\"carpet\":[{\"aaxis\":{\"endlinecolor\":\"rgb(51,51,51)\",\"gridcolor\":\"white\",\"linecolor\":\"white\",\"minorgridcolor\":\"white\",\"startlinecolor\":\"rgb(51,51,51)\"},\"baxis\":{\"endlinecolor\":\"rgb(51,51,51)\",\"gridcolor\":\"white\",\"linecolor\":\"white\",\"minorgridcolor\":\"white\",\"startlinecolor\":\"rgb(51,51,51)\"},\"type\":\"carpet\"}],\"choropleth\":[{\"colorbar\":{\"outlinewidth\":0,\"tickcolor\":\"rgb(237,237,237)\",\"ticklen\":6,\"ticks\":\"inside\"},\"type\":\"choropleth\"}],\"contour\":[{\"colorbar\":{\"outlinewidth\":0,\"tickcolor\":\"rgb(237,237,237)\",\"ticklen\":6,\"ticks\":\"inside\"},\"colorscale\":[[0,\"rgb(20,44,66)\"],[1,\"rgb(90,179,244)\"]],\"type\":\"contour\"}],\"contourcarpet\":[{\"colorbar\":{\"outlinewidth\":0,\"tickcolor\":\"rgb(237,237,237)\",\"ticklen\":6,\"ticks\":\"inside\"},\"type\":\"contourcarpet\"}],\"heatmap\":[{\"colorbar\":{\"outlinewidth\":0,\"tickcolor\":\"rgb(237,237,237)\",\"ticklen\":6,\"ticks\":\"inside\"},\"colorscale\":[[0,\"rgb(20,44,66)\"],[1,\"rgb(90,179,244)\"]],\"type\":\"heatmap\"}],\"heatmapgl\":[{\"colorbar\":{\"outlinewidth\":0,\"tickcolor\":\"rgb(237,237,237)\",\"ticklen\":6,\"ticks\":\"inside\"},\"colorscale\":[[0,\"rgb(20,44,66)\"],[1,\"rgb(90,179,244)\"]],\"type\":\"heatmapgl\"}],\"histogram\":[{\"marker\":{\"pattern\":{\"fillmode\":\"overlay\",\"size\":10,\"solidity\":0.2}},\"type\":\"histogram\"}],\"histogram2d\":[{\"colorbar\":{\"outlinewidth\":0,\"tickcolor\":\"rgb(237,237,237)\",\"ticklen\":6,\"ticks\":\"inside\"},\"colorscale\":[[0,\"rgb(20,44,66)\"],[1,\"rgb(90,179,244)\"]],\"type\":\"histogram2d\"}],\"histogram2dcontour\":[{\"colorbar\":{\"outlinewidth\":0,\"tickcolor\":\"rgb(237,237,237)\",\"ticklen\":6,\"ticks\":\"inside\"},\"colorscale\":[[0,\"rgb(20,44,66)\"],[1,\"rgb(90,179,244)\"]],\"type\":\"histogram2dcontour\"}],\"mesh3d\":[{\"colorbar\":{\"outlinewidth\":0,\"tickcolor\":\"rgb(237,237,237)\",\"ticklen\":6,\"ticks\":\"inside\"},\"type\":\"mesh3d\"}],\"parcoords\":[{\"line\":{\"colorbar\":{\"outlinewidth\":0,\"tickcolor\":\"rgb(237,237,237)\",\"ticklen\":6,\"ticks\":\"inside\"}},\"type\":\"parcoords\"}],\"pie\":[{\"automargin\":true,\"type\":\"pie\"}],\"scatter\":[{\"marker\":{\"colorbar\":{\"outlinewidth\":0,\"tickcolor\":\"rgb(237,237,237)\",\"ticklen\":6,\"ticks\":\"inside\"}},\"type\":\"scatter\"}],\"scatter3d\":[{\"line\":{\"colorbar\":{\"outlinewidth\":0,\"tickcolor\":\"rgb(237,237,237)\",\"ticklen\":6,\"ticks\":\"inside\"}},\"marker\":{\"colorbar\":{\"outlinewidth\":0,\"tickcolor\":\"rgb(237,237,237)\",\"ticklen\":6,\"ticks\":\"inside\"}},\"type\":\"scatter3d\"}],\"scattercarpet\":[{\"marker\":{\"colorbar\":{\"outlinewidth\":0,\"tickcolor\":\"rgb(237,237,237)\",\"ticklen\":6,\"ticks\":\"inside\"}},\"type\":\"scattercarpet\"}],\"scattergeo\":[{\"marker\":{\"colorbar\":{\"outlinewidth\":0,\"tickcolor\":\"rgb(237,237,237)\",\"ticklen\":6,\"ticks\":\"inside\"}},\"type\":\"scattergeo\"}],\"scattergl\":[{\"marker\":{\"colorbar\":{\"outlinewidth\":0,\"tickcolor\":\"rgb(237,237,237)\",\"ticklen\":6,\"ticks\":\"inside\"}},\"type\":\"scattergl\"}],\"scattermapbox\":[{\"marker\":{\"colorbar\":{\"outlinewidth\":0,\"tickcolor\":\"rgb(237,237,237)\",\"ticklen\":6,\"ticks\":\"inside\"}},\"type\":\"scattermapbox\"}],\"scatterpolar\":[{\"marker\":{\"colorbar\":{\"outlinewidth\":0,\"tickcolor\":\"rgb(237,237,237)\",\"ticklen\":6,\"ticks\":\"inside\"}},\"type\":\"scatterpolar\"}],\"scatterpolargl\":[{\"marker\":{\"colorbar\":{\"outlinewidth\":0,\"tickcolor\":\"rgb(237,237,237)\",\"ticklen\":6,\"ticks\":\"inside\"}},\"type\":\"scatterpolargl\"}],\"scatterternary\":[{\"marker\":{\"colorbar\":{\"outlinewidth\":0,\"tickcolor\":\"rgb(237,237,237)\",\"ticklen\":6,\"ticks\":\"inside\"}},\"type\":\"scatterternary\"}],\"surface\":[{\"colorbar\":{\"outlinewidth\":0,\"tickcolor\":\"rgb(237,237,237)\",\"ticklen\":6,\"ticks\":\"inside\"},\"colorscale\":[[0,\"rgb(20,44,66)\"],[1,\"rgb(90,179,244)\"]],\"type\":\"surface\"}],\"table\":[{\"cells\":{\"fill\":{\"color\":\"rgb(237,237,237)\"},\"line\":{\"color\":\"white\"}},\"header\":{\"fill\":{\"color\":\"rgb(217,217,217)\"},\"line\":{\"color\":\"white\"}},\"type\":\"table\"}]},\"layout\":{\"annotationdefaults\":{\"arrowhead\":0,\"arrowwidth\":1},\"autotypenumbers\":\"strict\",\"coloraxis\":{\"colorbar\":{\"outlinewidth\":0,\"tickcolor\":\"rgb(237,237,237)\",\"ticklen\":6,\"ticks\":\"inside\"}},\"colorscale\":{\"sequential\":[[0,\"rgb(20,44,66)\"],[1,\"rgb(90,179,244)\"]],\"sequentialminus\":[[0,\"rgb(20,44,66)\"],[1,\"rgb(90,179,244)\"]]},\"colorway\":[\"#F8766D\",\"#A3A500\",\"#00BF7D\",\"#00B0F6\",\"#E76BF3\"],\"font\":{\"color\":\"rgb(51,51,51)\"},\"geo\":{\"bgcolor\":\"white\",\"lakecolor\":\"white\",\"landcolor\":\"rgb(237,237,237)\",\"showlakes\":true,\"showland\":true,\"subunitcolor\":\"white\"},\"hoverlabel\":{\"align\":\"left\"},\"hovermode\":\"closest\",\"paper_bgcolor\":\"white\",\"plot_bgcolor\":\"rgb(237,237,237)\",\"polar\":{\"angularaxis\":{\"gridcolor\":\"white\",\"linecolor\":\"white\",\"showgrid\":true,\"tickcolor\":\"rgb(51,51,51)\",\"ticks\":\"outside\"},\"bgcolor\":\"rgb(237,237,237)\",\"radialaxis\":{\"gridcolor\":\"white\",\"linecolor\":\"white\",\"showgrid\":true,\"tickcolor\":\"rgb(51,51,51)\",\"ticks\":\"outside\"}},\"scene\":{\"xaxis\":{\"backgroundcolor\":\"rgb(237,237,237)\",\"gridcolor\":\"white\",\"gridwidth\":2,\"linecolor\":\"white\",\"showbackground\":true,\"showgrid\":true,\"tickcolor\":\"rgb(51,51,51)\",\"ticks\":\"outside\",\"zerolinecolor\":\"white\"},\"yaxis\":{\"backgroundcolor\":\"rgb(237,237,237)\",\"gridcolor\":\"white\",\"gridwidth\":2,\"linecolor\":\"white\",\"showbackground\":true,\"showgrid\":true,\"tickcolor\":\"rgb(51,51,51)\",\"ticks\":\"outside\",\"zerolinecolor\":\"white\"},\"zaxis\":{\"backgroundcolor\":\"rgb(237,237,237)\",\"gridcolor\":\"white\",\"gridwidth\":2,\"linecolor\":\"white\",\"showbackground\":true,\"showgrid\":true,\"tickcolor\":\"rgb(51,51,51)\",\"ticks\":\"outside\",\"zerolinecolor\":\"white\"}},\"shapedefaults\":{\"fillcolor\":\"black\",\"line\":{\"width\":0},\"opacity\":0.3},\"ternary\":{\"aaxis\":{\"gridcolor\":\"white\",\"linecolor\":\"white\",\"showgrid\":true,\"tickcolor\":\"rgb(51,51,51)\",\"ticks\":\"outside\"},\"baxis\":{\"gridcolor\":\"white\",\"linecolor\":\"white\",\"showgrid\":true,\"tickcolor\":\"rgb(51,51,51)\",\"ticks\":\"outside\"},\"bgcolor\":\"rgb(237,237,237)\",\"caxis\":{\"gridcolor\":\"white\",\"linecolor\":\"white\",\"showgrid\":true,\"tickcolor\":\"rgb(51,51,51)\",\"ticks\":\"outside\"}},\"xaxis\":{\"automargin\":true,\"gridcolor\":\"white\",\"linecolor\":\"white\",\"showgrid\":true,\"tickcolor\":\"rgb(51,51,51)\",\"ticks\":\"outside\",\"title\":{\"standoff\":15},\"zerolinecolor\":\"white\"},\"yaxis\":{\"automargin\":true,\"gridcolor\":\"white\",\"linecolor\":\"white\",\"showgrid\":true,\"tickcolor\":\"rgb(51,51,51)\",\"ticks\":\"outside\",\"title\":{\"standoff\":15},\"zerolinecolor\":\"white\"}}},\"title\":{\"text\":\"Model: KNN, f1_score: 0.76\"}},                        {\"responsive\": true}                    ).then(function(){\n                            \nvar gd = document.getElementById('1ce3fc57-149d-4991-8652-f475052c59fe');\nvar x = new MutationObserver(function (mutations, observer) {{\n        var display = window.getComputedStyle(gd).display;\n        if (!display || display === 'none') {{\n            console.log([gd, 'removed!']);\n            Plotly.purge(gd);\n            observer.disconnect();\n        }}\n}});\n\n// Listen for the removal of the full notebook cells\nvar notebookContainer = gd.closest('#notebook-container');\nif (notebookContainer) {{\n    x.observe(notebookContainer, {childList: true});\n}}\n\n// Listen for the clearing of the current output cell\nvar outputEl = gd.closest('.output');\nif (outputEl) {{\n    x.observe(outputEl, {childList: true});\n}}\n\n                        })                };                });            </script>        </div>"
     },
     "metadata": {},
     "output_type": "display_data"
    },
    {
     "data": {
      "application/vnd.plotly.v1+json": {
       "config": {
        "plotlyServerURL": "https://plot.ly"
       },
       "data": [
        {
         "hovertemplate": "x=%{x}<br>y=%{y}<br>z=%{z}<br>color=%{marker.color}<extra></extra>",
         "legendgroup": "",
         "marker": {
          "color": [
           1,
           1,
           0,
           1,
           2,
           1,
           1,
           0,
           1,
           1,
           1,
           1,
           1,
           1,
           1,
           0,
           1,
           2,
           0,
           0,
           1,
           1,
           2,
           2,
           1,
           1,
           2,
           0,
           0,
           1,
           1,
           2,
           2,
           1,
           1,
           2,
           2,
           0,
           1,
           2,
           0,
           1,
           1,
           1,
           2,
           2,
           1,
           1,
           1,
           0,
           2,
           0,
           1,
           1,
           2,
           1,
           1,
           1,
           2,
           1,
           0,
           0,
           0,
           1,
           1,
           2,
           0,
           0,
           2,
           2,
           0,
           1,
           1,
           2,
           1,
           1,
           1,
           2,
           2,
           1,
           2,
           1,
           1,
           2
          ],
          "coloraxis": "coloraxis",
          "symbol": "circle"
         },
         "mode": "markers",
         "name": "",
         "scene": "scene",
         "showlegend": false,
         "type": "scatter3d",
         "x": [
          -347.07450833928516,
          1273.8300089967515,
          -5997.434593608511,
          -1663.292400853369,
          5924.700815024655,
          1365.0731978549838,
          -1821.9978046505353,
          -4690.067529717905,
          -776.2977159602123,
          7669.949936964694,
          -976.399662474557,
          810.7530589713411,
          408.8229560007588,
          3118.299386848759,
          -4634.380626213161,
          -5370.20711693004,
          2853.0602652796683,
          6278.514508774744,
          -5043.430569310168,
          -5192.2482001275175,
          -1480.4746317461309,
          1335.7369511925324,
          9627.787307120238,
          2668.2344669137347,
          -1150.689983364907,
          -2133.1950550990987,
          9194.725643073289,
          -6759.836336405845,
          -5929.215148872297,
          -1490.9650984348064,
          -2976.080275840496,
          6504.989227720147,
          8269.778484560502,
          -2500.015703249154,
          -4253.359878161771,
          5361.946846621567,
          7122.614861595877,
          -7203.143790299389,
          -1960.6319005095477,
          6290.39304285958,
          -7304.248294912769,
          -2256.0059828871954,
          692.7540706668523,
          -2211.6185913159425,
          6525.271317150179,
          8048.243089596551,
          -3726.476051793123,
          1706.31792618255,
          1556.7212845084769,
          -6516.826357790648,
          4236.226819338702,
          -6915.918368029184,
          304.4841980574452,
          2533.4138503848044,
          1692.2767146774752,
          1387.561394291275,
          -268.1644469842516,
          2353.751428450145,
          6146.480053453136,
          -2350.660989055208,
          -6960.958374942054,
          -5216.714788336432,
          -6158.573439460882,
          -2497.1373079055234,
          -46.916430952099965,
          7876.806406378848,
          -7557.769263810412,
          -5948.361465088149,
          2745.8621427845424,
          5537.032909151986,
          -8059.036417195986,
          -2055.213425417832,
          -1659.772792833748,
          1017.3621012883134,
          -535.9531459027223,
          1856.6175191501163,
          -21.808048264912532,
          3619.5629676798694,
          2809.2870181322787,
          -312.2601644859504,
          2244.395534588513,
          -832.8145858699658,
          -2551.918456256307,
          5345.926007374201
         ],
         "y": [
          2119.48889196476,
          974.9973358057777,
          -809.2635570204948,
          787.9525899545109,
          1581.6477579293692,
          4234.195091564124,
          -1640.2548771529894,
          -3853.3625621572032,
          -599.606673599986,
          -2095.1656216587285,
          -621.1726745457182,
          -1722.4963725056903,
          -3523.219714010576,
          1548.4726239495665,
          794.7247913094058,
          -207.43327121540295,
          2181.8999442475165,
          1386.9934302338465,
          -523.514797843227,
          -290.5213733490356,
          1484.7319628003127,
          -1810.6953990330278,
          -4268.880023462005,
          2540.622045905133,
          732.9186029816955,
          1883.2284549659864,
          -1009.7777834014474,
          -685.5631679648105,
          453.63226030492166,
          242.88749225947666,
          78.27254524067271,
          494.8160981094224,
          268.4600207506999,
          843.4656414991293,
          1197.2275595299755,
          -874.3165055171803,
          -2134.316990480037,
          -1019.083547781464,
          435.8331427050183,
          2352.877962257194,
          -1354.4409581690231,
          2029.0711495263477,
          2961.924397062845,
          1059.1200691590227,
          -3181.5920169002143,
          -1930.0726197285198,
          1375.919613314396,
          1579.9493503417286,
          3057.805777230264,
          -279.5140391647934,
          -1923.3741173972267,
          49.773523242007904,
          -393.3497535992898,
          1881.2702568302057,
          -2032.399541758783,
          1047.078944177307,
          2564.4813315826436,
          6503.569189429928,
          5475.3070581698485,
          -570.2273002708024,
          -551.1186207483025,
          -890.0781431244338,
          -201.32233174091417,
          667.8312460853684,
          4055.7208831454946,
          -1639.9485733262732,
          -1790.9538189737443,
          -221.86885661494017,
          -5026.578300173395,
          -1440.8394836836014,
          -592.9447657296432,
          -415.5720653075242,
          -722.9910974045199,
          -2324.9980260940397,
          -2461.5363974804973,
          1041.0276313410704,
          704.4979970915876,
          -5005.766491921968,
          -1360.049056981229,
          -1385.0746252275537,
          -471.1576435880162,
          -2186.7501241565055,
          167.7611992637493,
          3201.707818702443
         ],
         "z": [
          1146.7853127481808,
          529.1710792427534,
          -648.090762569324,
          -349.583210147053,
          -2846.0867711489186,
          1911.5906621085626,
          -1381.1717067480395,
          -41.712170955233866,
          534.5553164063019,
          -2929.4066082327076,
          -404.93447914988377,
          -1716.7881257588683,
          -174.13276579615692,
          -946.2876235279472,
          104.89597626472884,
          700.0418343693004,
          -1670.1489135814234,
          -1180.146998548083,
          -522.9868353547851,
          -668.2971241892872,
          791.0441583631697,
          -1023.3754720463096,
          -281.72879120834773,
          1806.5765654090415,
          -302.69125332246614,
          -1155.7229733479255,
          6117.7027594976325,
          647.5913654335511,
          362.6606195924996,
          -196.385678164664,
          -666.5286380628028,
          -298.6328490722069,
          -926.6204337514926,
          22.496554346599375,
          -46.618910313037624,
          -559.5442874305357,
          -433.7689187668037,
          -781.9577424071355,
          -578.3586685225793,
          -1658.4579361461185,
          75.04524375631657,
          -706.4665640522488,
          -82.07304983332497,
          1349.7950170019767,
          881.5515724494506,
          -1646.9310654617673,
          1167.0101780634843,
          142.19911912750663,
          -1569.419227997068,
          -565.5844918980658,
          993.7895625484728,
          996.9860681865199,
          -828.0413053979421,
          -2034.3637514542006,
          1931.0637738718235,
          435.45255113261095,
          896.8195944252934,
          1551.009367204771,
          1632.017309390079,
          -981.2786339502148,
          -319.3926453811867,
          100.05691228650836,
          -334.61778432366435,
          946.7313723333027,
          40.170954088666306,
          -1268.5563275755123,
          -754.3693950548322,
          -208.4995894017348,
          2580.267783995332,
          -701.2617876041337,
          -159.53690245464273,
          -136.04004218660154,
          -864.1159830950392,
          1147.6070319010512,
          -628.6461963418064,
          861.8058186314578,
          928.1957979220261,
          908.0756086584784,
          2409.927253591684,
          1506.5252723385756,
          1169.0206587242885,
          -576.8649871763147,
          961.5674694128825,
          -1531.5771159144213
         ]
        }
       ],
       "layout": {
        "coloraxis": {
         "colorbar": {
          "title": {
           "text": "color"
          }
         },
         "colorscale": [
          [
           0.0,
           "rgb(136, 204, 238)"
          ],
          [
           0.1,
           "rgb(204, 102, 119)"
          ],
          [
           0.2,
           "rgb(221, 204, 119)"
          ],
          [
           0.3,
           "rgb(17, 119, 51)"
          ],
          [
           0.4,
           "rgb(51, 34, 136)"
          ],
          [
           0.5,
           "rgb(170, 68, 153)"
          ],
          [
           0.6,
           "rgb(68, 170, 153)"
          ],
          [
           0.7,
           "rgb(153, 153, 51)"
          ],
          [
           0.8,
           "rgb(136, 34, 85)"
          ],
          [
           0.9,
           "rgb(102, 17, 0)"
          ],
          [
           1.0,
           "rgb(136, 136, 136)"
          ]
         ],
         "showscale": false
        },
        "legend": {
         "tracegroupgap": 0
        },
        "scene": {
         "domain": {
          "x": [
           0.0,
           1.0
          ],
          "y": [
           0.0,
           1.0
          ]
         },
         "xaxis": {
          "title": {
           "text": "x"
          }
         },
         "yaxis": {
          "title": {
           "text": "y"
          }
         },
         "zaxis": {
          "title": {
           "text": "z"
          }
         }
        },
        "template": {
         "data": {
          "bar": [
           {
            "error_x": {
             "color": "rgb(51,51,51)"
            },
            "error_y": {
             "color": "rgb(51,51,51)"
            },
            "marker": {
             "line": {
              "color": "rgb(237,237,237)",
              "width": 0.5
             },
             "pattern": {
              "fillmode": "overlay",
              "size": 10,
              "solidity": 0.2
             }
            },
            "type": "bar"
           }
          ],
          "barpolar": [
           {
            "marker": {
             "line": {
              "color": "rgb(237,237,237)",
              "width": 0.5
             },
             "pattern": {
              "fillmode": "overlay",
              "size": 10,
              "solidity": 0.2
             }
            },
            "type": "barpolar"
           }
          ],
          "carpet": [
           {
            "aaxis": {
             "endlinecolor": "rgb(51,51,51)",
             "gridcolor": "white",
             "linecolor": "white",
             "minorgridcolor": "white",
             "startlinecolor": "rgb(51,51,51)"
            },
            "baxis": {
             "endlinecolor": "rgb(51,51,51)",
             "gridcolor": "white",
             "linecolor": "white",
             "minorgridcolor": "white",
             "startlinecolor": "rgb(51,51,51)"
            },
            "type": "carpet"
           }
          ],
          "choropleth": [
           {
            "colorbar": {
             "outlinewidth": 0,
             "tickcolor": "rgb(237,237,237)",
             "ticklen": 6,
             "ticks": "inside"
            },
            "type": "choropleth"
           }
          ],
          "contour": [
           {
            "colorbar": {
             "outlinewidth": 0,
             "tickcolor": "rgb(237,237,237)",
             "ticklen": 6,
             "ticks": "inside"
            },
            "colorscale": [
             [
              0,
              "rgb(20,44,66)"
             ],
             [
              1,
              "rgb(90,179,244)"
             ]
            ],
            "type": "contour"
           }
          ],
          "contourcarpet": [
           {
            "colorbar": {
             "outlinewidth": 0,
             "tickcolor": "rgb(237,237,237)",
             "ticklen": 6,
             "ticks": "inside"
            },
            "type": "contourcarpet"
           }
          ],
          "heatmap": [
           {
            "colorbar": {
             "outlinewidth": 0,
             "tickcolor": "rgb(237,237,237)",
             "ticklen": 6,
             "ticks": "inside"
            },
            "colorscale": [
             [
              0,
              "rgb(20,44,66)"
             ],
             [
              1,
              "rgb(90,179,244)"
             ]
            ],
            "type": "heatmap"
           }
          ],
          "heatmapgl": [
           {
            "colorbar": {
             "outlinewidth": 0,
             "tickcolor": "rgb(237,237,237)",
             "ticklen": 6,
             "ticks": "inside"
            },
            "colorscale": [
             [
              0,
              "rgb(20,44,66)"
             ],
             [
              1,
              "rgb(90,179,244)"
             ]
            ],
            "type": "heatmapgl"
           }
          ],
          "histogram": [
           {
            "marker": {
             "pattern": {
              "fillmode": "overlay",
              "size": 10,
              "solidity": 0.2
             }
            },
            "type": "histogram"
           }
          ],
          "histogram2d": [
           {
            "colorbar": {
             "outlinewidth": 0,
             "tickcolor": "rgb(237,237,237)",
             "ticklen": 6,
             "ticks": "inside"
            },
            "colorscale": [
             [
              0,
              "rgb(20,44,66)"
             ],
             [
              1,
              "rgb(90,179,244)"
             ]
            ],
            "type": "histogram2d"
           }
          ],
          "histogram2dcontour": [
           {
            "colorbar": {
             "outlinewidth": 0,
             "tickcolor": "rgb(237,237,237)",
             "ticklen": 6,
             "ticks": "inside"
            },
            "colorscale": [
             [
              0,
              "rgb(20,44,66)"
             ],
             [
              1,
              "rgb(90,179,244)"
             ]
            ],
            "type": "histogram2dcontour"
           }
          ],
          "mesh3d": [
           {
            "colorbar": {
             "outlinewidth": 0,
             "tickcolor": "rgb(237,237,237)",
             "ticklen": 6,
             "ticks": "inside"
            },
            "type": "mesh3d"
           }
          ],
          "parcoords": [
           {
            "line": {
             "colorbar": {
              "outlinewidth": 0,
              "tickcolor": "rgb(237,237,237)",
              "ticklen": 6,
              "ticks": "inside"
             }
            },
            "type": "parcoords"
           }
          ],
          "pie": [
           {
            "automargin": true,
            "type": "pie"
           }
          ],
          "scatter": [
           {
            "marker": {
             "colorbar": {
              "outlinewidth": 0,
              "tickcolor": "rgb(237,237,237)",
              "ticklen": 6,
              "ticks": "inside"
             }
            },
            "type": "scatter"
           }
          ],
          "scatter3d": [
           {
            "line": {
             "colorbar": {
              "outlinewidth": 0,
              "tickcolor": "rgb(237,237,237)",
              "ticklen": 6,
              "ticks": "inside"
             }
            },
            "marker": {
             "colorbar": {
              "outlinewidth": 0,
              "tickcolor": "rgb(237,237,237)",
              "ticklen": 6,
              "ticks": "inside"
             }
            },
            "type": "scatter3d"
           }
          ],
          "scattercarpet": [
           {
            "marker": {
             "colorbar": {
              "outlinewidth": 0,
              "tickcolor": "rgb(237,237,237)",
              "ticklen": 6,
              "ticks": "inside"
             }
            },
            "type": "scattercarpet"
           }
          ],
          "scattergeo": [
           {
            "marker": {
             "colorbar": {
              "outlinewidth": 0,
              "tickcolor": "rgb(237,237,237)",
              "ticklen": 6,
              "ticks": "inside"
             }
            },
            "type": "scattergeo"
           }
          ],
          "scattergl": [
           {
            "marker": {
             "colorbar": {
              "outlinewidth": 0,
              "tickcolor": "rgb(237,237,237)",
              "ticklen": 6,
              "ticks": "inside"
             }
            },
            "type": "scattergl"
           }
          ],
          "scattermapbox": [
           {
            "marker": {
             "colorbar": {
              "outlinewidth": 0,
              "tickcolor": "rgb(237,237,237)",
              "ticklen": 6,
              "ticks": "inside"
             }
            },
            "type": "scattermapbox"
           }
          ],
          "scatterpolar": [
           {
            "marker": {
             "colorbar": {
              "outlinewidth": 0,
              "tickcolor": "rgb(237,237,237)",
              "ticklen": 6,
              "ticks": "inside"
             }
            },
            "type": "scatterpolar"
           }
          ],
          "scatterpolargl": [
           {
            "marker": {
             "colorbar": {
              "outlinewidth": 0,
              "tickcolor": "rgb(237,237,237)",
              "ticklen": 6,
              "ticks": "inside"
             }
            },
            "type": "scatterpolargl"
           }
          ],
          "scatterternary": [
           {
            "marker": {
             "colorbar": {
              "outlinewidth": 0,
              "tickcolor": "rgb(237,237,237)",
              "ticklen": 6,
              "ticks": "inside"
             }
            },
            "type": "scatterternary"
           }
          ],
          "surface": [
           {
            "colorbar": {
             "outlinewidth": 0,
             "tickcolor": "rgb(237,237,237)",
             "ticklen": 6,
             "ticks": "inside"
            },
            "colorscale": [
             [
              0,
              "rgb(20,44,66)"
             ],
             [
              1,
              "rgb(90,179,244)"
             ]
            ],
            "type": "surface"
           }
          ],
          "table": [
           {
            "cells": {
             "fill": {
              "color": "rgb(237,237,237)"
             },
             "line": {
              "color": "white"
             }
            },
            "header": {
             "fill": {
              "color": "rgb(217,217,217)"
             },
             "line": {
              "color": "white"
             }
            },
            "type": "table"
           }
          ]
         },
         "layout": {
          "annotationdefaults": {
           "arrowhead": 0,
           "arrowwidth": 1
          },
          "autotypenumbers": "strict",
          "coloraxis": {
           "colorbar": {
            "outlinewidth": 0,
            "tickcolor": "rgb(237,237,237)",
            "ticklen": 6,
            "ticks": "inside"
           }
          },
          "colorscale": {
           "sequential": [
            [
             0,
             "rgb(20,44,66)"
            ],
            [
             1,
             "rgb(90,179,244)"
            ]
           ],
           "sequentialminus": [
            [
             0,
             "rgb(20,44,66)"
            ],
            [
             1,
             "rgb(90,179,244)"
            ]
           ]
          },
          "colorway": [
           "#F8766D",
           "#A3A500",
           "#00BF7D",
           "#00B0F6",
           "#E76BF3"
          ],
          "font": {
           "color": "rgb(51,51,51)"
          },
          "geo": {
           "bgcolor": "white",
           "lakecolor": "white",
           "landcolor": "rgb(237,237,237)",
           "showlakes": true,
           "showland": true,
           "subunitcolor": "white"
          },
          "hoverlabel": {
           "align": "left"
          },
          "hovermode": "closest",
          "paper_bgcolor": "white",
          "plot_bgcolor": "rgb(237,237,237)",
          "polar": {
           "angularaxis": {
            "gridcolor": "white",
            "linecolor": "white",
            "showgrid": true,
            "tickcolor": "rgb(51,51,51)",
            "ticks": "outside"
           },
           "bgcolor": "rgb(237,237,237)",
           "radialaxis": {
            "gridcolor": "white",
            "linecolor": "white",
            "showgrid": true,
            "tickcolor": "rgb(51,51,51)",
            "ticks": "outside"
           }
          },
          "scene": {
           "xaxis": {
            "backgroundcolor": "rgb(237,237,237)",
            "gridcolor": "white",
            "gridwidth": 2,
            "linecolor": "white",
            "showbackground": true,
            "showgrid": true,
            "tickcolor": "rgb(51,51,51)",
            "ticks": "outside",
            "zerolinecolor": "white"
           },
           "yaxis": {
            "backgroundcolor": "rgb(237,237,237)",
            "gridcolor": "white",
            "gridwidth": 2,
            "linecolor": "white",
            "showbackground": true,
            "showgrid": true,
            "tickcolor": "rgb(51,51,51)",
            "ticks": "outside",
            "zerolinecolor": "white"
           },
           "zaxis": {
            "backgroundcolor": "rgb(237,237,237)",
            "gridcolor": "white",
            "gridwidth": 2,
            "linecolor": "white",
            "showbackground": true,
            "showgrid": true,
            "tickcolor": "rgb(51,51,51)",
            "ticks": "outside",
            "zerolinecolor": "white"
           }
          },
          "shapedefaults": {
           "fillcolor": "black",
           "line": {
            "width": 0
           },
           "opacity": 0.3
          },
          "ternary": {
           "aaxis": {
            "gridcolor": "white",
            "linecolor": "white",
            "showgrid": true,
            "tickcolor": "rgb(51,51,51)",
            "ticks": "outside"
           },
           "baxis": {
            "gridcolor": "white",
            "linecolor": "white",
            "showgrid": true,
            "tickcolor": "rgb(51,51,51)",
            "ticks": "outside"
           },
           "bgcolor": "rgb(237,237,237)",
           "caxis": {
            "gridcolor": "white",
            "linecolor": "white",
            "showgrid": true,
            "tickcolor": "rgb(51,51,51)",
            "ticks": "outside"
           }
          },
          "xaxis": {
           "automargin": true,
           "gridcolor": "white",
           "linecolor": "white",
           "showgrid": true,
           "tickcolor": "rgb(51,51,51)",
           "ticks": "outside",
           "title": {
            "standoff": 15
           },
           "zerolinecolor": "white"
          },
          "yaxis": {
           "automargin": true,
           "gridcolor": "white",
           "linecolor": "white",
           "showgrid": true,
           "tickcolor": "rgb(51,51,51)",
           "ticks": "outside",
           "title": {
            "standoff": 15
           },
           "zerolinecolor": "white"
          }
         }
        },
        "title": {
         "text": "Model: SVC, f1_score: 0.78"
        }
       }
      },
      "text/html": "<div>                            <div id=\"c5274ea3-ce47-4213-a049-791d2cdf9b27\" class=\"plotly-graph-div\" style=\"height:525px; width:100%;\"></div>            <script type=\"text/javascript\">                require([\"plotly\"], function(Plotly) {                    window.PLOTLYENV=window.PLOTLYENV || {};                                    if (document.getElementById(\"c5274ea3-ce47-4213-a049-791d2cdf9b27\")) {                    Plotly.newPlot(                        \"c5274ea3-ce47-4213-a049-791d2cdf9b27\",                        [{\"hovertemplate\":\"x=%{x}<br>y=%{y}<br>z=%{z}<br>color=%{marker.color}<extra></extra>\",\"legendgroup\":\"\",\"marker\":{\"color\":[1,1,0,1,2,1,1,0,1,1,1,1,1,1,1,0,1,2,0,0,1,1,2,2,1,1,2,0,0,1,1,2,2,1,1,2,2,0,1,2,0,1,1,1,2,2,1,1,1,0,2,0,1,1,2,1,1,1,2,1,0,0,0,1,1,2,0,0,2,2,0,1,1,2,1,1,1,2,2,1,2,1,1,2],\"coloraxis\":\"coloraxis\",\"symbol\":\"circle\"},\"mode\":\"markers\",\"name\":\"\",\"scene\":\"scene\",\"showlegend\":false,\"type\":\"scatter3d\",\"x\":[-347.07450833928516,1273.8300089967515,-5997.434593608511,-1663.292400853369,5924.700815024655,1365.0731978549838,-1821.9978046505353,-4690.067529717905,-776.2977159602123,7669.949936964694,-976.399662474557,810.7530589713411,408.8229560007588,3118.299386848759,-4634.380626213161,-5370.20711693004,2853.0602652796683,6278.514508774744,-5043.430569310168,-5192.2482001275175,-1480.4746317461309,1335.7369511925324,9627.787307120238,2668.2344669137347,-1150.689983364907,-2133.1950550990987,9194.725643073289,-6759.836336405845,-5929.215148872297,-1490.9650984348064,-2976.080275840496,6504.989227720147,8269.778484560502,-2500.015703249154,-4253.359878161771,5361.946846621567,7122.614861595877,-7203.143790299389,-1960.6319005095477,6290.39304285958,-7304.248294912769,-2256.0059828871954,692.7540706668523,-2211.6185913159425,6525.271317150179,8048.243089596551,-3726.476051793123,1706.31792618255,1556.7212845084769,-6516.826357790648,4236.226819338702,-6915.918368029184,304.4841980574452,2533.4138503848044,1692.2767146774752,1387.561394291275,-268.1644469842516,2353.751428450145,6146.480053453136,-2350.660989055208,-6960.958374942054,-5216.714788336432,-6158.573439460882,-2497.1373079055234,-46.916430952099965,7876.806406378848,-7557.769263810412,-5948.361465088149,2745.8621427845424,5537.032909151986,-8059.036417195986,-2055.213425417832,-1659.772792833748,1017.3621012883134,-535.9531459027223,1856.6175191501163,-21.808048264912532,3619.5629676798694,2809.2870181322787,-312.2601644859504,2244.395534588513,-832.8145858699658,-2551.918456256307,5345.926007374201],\"y\":[2119.48889196476,974.9973358057777,-809.2635570204948,787.9525899545109,1581.6477579293692,4234.195091564124,-1640.2548771529894,-3853.3625621572032,-599.606673599986,-2095.1656216587285,-621.1726745457182,-1722.4963725056903,-3523.219714010576,1548.4726239495665,794.7247913094058,-207.43327121540295,2181.8999442475165,1386.9934302338465,-523.514797843227,-290.5213733490356,1484.7319628003127,-1810.6953990330278,-4268.880023462005,2540.622045905133,732.9186029816955,1883.2284549659864,-1009.7777834014474,-685.5631679648105,453.63226030492166,242.88749225947666,78.27254524067271,494.8160981094224,268.4600207506999,843.4656414991293,1197.2275595299755,-874.3165055171803,-2134.316990480037,-1019.083547781464,435.8331427050183,2352.877962257194,-1354.4409581690231,2029.0711495263477,2961.924397062845,1059.1200691590227,-3181.5920169002143,-1930.0726197285198,1375.919613314396,1579.9493503417286,3057.805777230264,-279.5140391647934,-1923.3741173972267,49.773523242007904,-393.3497535992898,1881.2702568302057,-2032.399541758783,1047.078944177307,2564.4813315826436,6503.569189429928,5475.3070581698485,-570.2273002708024,-551.1186207483025,-890.0781431244338,-201.32233174091417,667.8312460853684,4055.7208831454946,-1639.9485733262732,-1790.9538189737443,-221.86885661494017,-5026.578300173395,-1440.8394836836014,-592.9447657296432,-415.5720653075242,-722.9910974045199,-2324.9980260940397,-2461.5363974804973,1041.0276313410704,704.4979970915876,-5005.766491921968,-1360.049056981229,-1385.0746252275537,-471.1576435880162,-2186.7501241565055,167.7611992637493,3201.707818702443],\"z\":[1146.7853127481808,529.1710792427534,-648.090762569324,-349.583210147053,-2846.0867711489186,1911.5906621085626,-1381.1717067480395,-41.712170955233866,534.5553164063019,-2929.4066082327076,-404.93447914988377,-1716.7881257588683,-174.13276579615692,-946.2876235279472,104.89597626472884,700.0418343693004,-1670.1489135814234,-1180.146998548083,-522.9868353547851,-668.2971241892872,791.0441583631697,-1023.3754720463096,-281.72879120834773,1806.5765654090415,-302.69125332246614,-1155.7229733479255,6117.7027594976325,647.5913654335511,362.6606195924996,-196.385678164664,-666.5286380628028,-298.6328490722069,-926.6204337514926,22.496554346599375,-46.618910313037624,-559.5442874305357,-433.7689187668037,-781.9577424071355,-578.3586685225793,-1658.4579361461185,75.04524375631657,-706.4665640522488,-82.07304983332497,1349.7950170019767,881.5515724494506,-1646.9310654617673,1167.0101780634843,142.19911912750663,-1569.419227997068,-565.5844918980658,993.7895625484728,996.9860681865199,-828.0413053979421,-2034.3637514542006,1931.0637738718235,435.45255113261095,896.8195944252934,1551.009367204771,1632.017309390079,-981.2786339502148,-319.3926453811867,100.05691228650836,-334.61778432366435,946.7313723333027,40.170954088666306,-1268.5563275755123,-754.3693950548322,-208.4995894017348,2580.267783995332,-701.2617876041337,-159.53690245464273,-136.04004218660154,-864.1159830950392,1147.6070319010512,-628.6461963418064,861.8058186314578,928.1957979220261,908.0756086584784,2409.927253591684,1506.5252723385756,1169.0206587242885,-576.8649871763147,961.5674694128825,-1531.5771159144213]}],                        {\"coloraxis\":{\"colorbar\":{\"title\":{\"text\":\"color\"}},\"colorscale\":[[0.0,\"rgb(136, 204, 238)\"],[0.1,\"rgb(204, 102, 119)\"],[0.2,\"rgb(221, 204, 119)\"],[0.3,\"rgb(17, 119, 51)\"],[0.4,\"rgb(51, 34, 136)\"],[0.5,\"rgb(170, 68, 153)\"],[0.6,\"rgb(68, 170, 153)\"],[0.7,\"rgb(153, 153, 51)\"],[0.8,\"rgb(136, 34, 85)\"],[0.9,\"rgb(102, 17, 0)\"],[1.0,\"rgb(136, 136, 136)\"]],\"showscale\":false},\"legend\":{\"tracegroupgap\":0},\"scene\":{\"domain\":{\"x\":[0.0,1.0],\"y\":[0.0,1.0]},\"xaxis\":{\"title\":{\"text\":\"x\"}},\"yaxis\":{\"title\":{\"text\":\"y\"}},\"zaxis\":{\"title\":{\"text\":\"z\"}}},\"template\":{\"data\":{\"bar\":[{\"error_x\":{\"color\":\"rgb(51,51,51)\"},\"error_y\":{\"color\":\"rgb(51,51,51)\"},\"marker\":{\"line\":{\"color\":\"rgb(237,237,237)\",\"width\":0.5},\"pattern\":{\"fillmode\":\"overlay\",\"size\":10,\"solidity\":0.2}},\"type\":\"bar\"}],\"barpolar\":[{\"marker\":{\"line\":{\"color\":\"rgb(237,237,237)\",\"width\":0.5},\"pattern\":{\"fillmode\":\"overlay\",\"size\":10,\"solidity\":0.2}},\"type\":\"barpolar\"}],\"carpet\":[{\"aaxis\":{\"endlinecolor\":\"rgb(51,51,51)\",\"gridcolor\":\"white\",\"linecolor\":\"white\",\"minorgridcolor\":\"white\",\"startlinecolor\":\"rgb(51,51,51)\"},\"baxis\":{\"endlinecolor\":\"rgb(51,51,51)\",\"gridcolor\":\"white\",\"linecolor\":\"white\",\"minorgridcolor\":\"white\",\"startlinecolor\":\"rgb(51,51,51)\"},\"type\":\"carpet\"}],\"choropleth\":[{\"colorbar\":{\"outlinewidth\":0,\"tickcolor\":\"rgb(237,237,237)\",\"ticklen\":6,\"ticks\":\"inside\"},\"type\":\"choropleth\"}],\"contour\":[{\"colorbar\":{\"outlinewidth\":0,\"tickcolor\":\"rgb(237,237,237)\",\"ticklen\":6,\"ticks\":\"inside\"},\"colorscale\":[[0,\"rgb(20,44,66)\"],[1,\"rgb(90,179,244)\"]],\"type\":\"contour\"}],\"contourcarpet\":[{\"colorbar\":{\"outlinewidth\":0,\"tickcolor\":\"rgb(237,237,237)\",\"ticklen\":6,\"ticks\":\"inside\"},\"type\":\"contourcarpet\"}],\"heatmap\":[{\"colorbar\":{\"outlinewidth\":0,\"tickcolor\":\"rgb(237,237,237)\",\"ticklen\":6,\"ticks\":\"inside\"},\"colorscale\":[[0,\"rgb(20,44,66)\"],[1,\"rgb(90,179,244)\"]],\"type\":\"heatmap\"}],\"heatmapgl\":[{\"colorbar\":{\"outlinewidth\":0,\"tickcolor\":\"rgb(237,237,237)\",\"ticklen\":6,\"ticks\":\"inside\"},\"colorscale\":[[0,\"rgb(20,44,66)\"],[1,\"rgb(90,179,244)\"]],\"type\":\"heatmapgl\"}],\"histogram\":[{\"marker\":{\"pattern\":{\"fillmode\":\"overlay\",\"size\":10,\"solidity\":0.2}},\"type\":\"histogram\"}],\"histogram2d\":[{\"colorbar\":{\"outlinewidth\":0,\"tickcolor\":\"rgb(237,237,237)\",\"ticklen\":6,\"ticks\":\"inside\"},\"colorscale\":[[0,\"rgb(20,44,66)\"],[1,\"rgb(90,179,244)\"]],\"type\":\"histogram2d\"}],\"histogram2dcontour\":[{\"colorbar\":{\"outlinewidth\":0,\"tickcolor\":\"rgb(237,237,237)\",\"ticklen\":6,\"ticks\":\"inside\"},\"colorscale\":[[0,\"rgb(20,44,66)\"],[1,\"rgb(90,179,244)\"]],\"type\":\"histogram2dcontour\"}],\"mesh3d\":[{\"colorbar\":{\"outlinewidth\":0,\"tickcolor\":\"rgb(237,237,237)\",\"ticklen\":6,\"ticks\":\"inside\"},\"type\":\"mesh3d\"}],\"parcoords\":[{\"line\":{\"colorbar\":{\"outlinewidth\":0,\"tickcolor\":\"rgb(237,237,237)\",\"ticklen\":6,\"ticks\":\"inside\"}},\"type\":\"parcoords\"}],\"pie\":[{\"automargin\":true,\"type\":\"pie\"}],\"scatter\":[{\"marker\":{\"colorbar\":{\"outlinewidth\":0,\"tickcolor\":\"rgb(237,237,237)\",\"ticklen\":6,\"ticks\":\"inside\"}},\"type\":\"scatter\"}],\"scatter3d\":[{\"line\":{\"colorbar\":{\"outlinewidth\":0,\"tickcolor\":\"rgb(237,237,237)\",\"ticklen\":6,\"ticks\":\"inside\"}},\"marker\":{\"colorbar\":{\"outlinewidth\":0,\"tickcolor\":\"rgb(237,237,237)\",\"ticklen\":6,\"ticks\":\"inside\"}},\"type\":\"scatter3d\"}],\"scattercarpet\":[{\"marker\":{\"colorbar\":{\"outlinewidth\":0,\"tickcolor\":\"rgb(237,237,237)\",\"ticklen\":6,\"ticks\":\"inside\"}},\"type\":\"scattercarpet\"}],\"scattergeo\":[{\"marker\":{\"colorbar\":{\"outlinewidth\":0,\"tickcolor\":\"rgb(237,237,237)\",\"ticklen\":6,\"ticks\":\"inside\"}},\"type\":\"scattergeo\"}],\"scattergl\":[{\"marker\":{\"colorbar\":{\"outlinewidth\":0,\"tickcolor\":\"rgb(237,237,237)\",\"ticklen\":6,\"ticks\":\"inside\"}},\"type\":\"scattergl\"}],\"scattermapbox\":[{\"marker\":{\"colorbar\":{\"outlinewidth\":0,\"tickcolor\":\"rgb(237,237,237)\",\"ticklen\":6,\"ticks\":\"inside\"}},\"type\":\"scattermapbox\"}],\"scatterpolar\":[{\"marker\":{\"colorbar\":{\"outlinewidth\":0,\"tickcolor\":\"rgb(237,237,237)\",\"ticklen\":6,\"ticks\":\"inside\"}},\"type\":\"scatterpolar\"}],\"scatterpolargl\":[{\"marker\":{\"colorbar\":{\"outlinewidth\":0,\"tickcolor\":\"rgb(237,237,237)\",\"ticklen\":6,\"ticks\":\"inside\"}},\"type\":\"scatterpolargl\"}],\"scatterternary\":[{\"marker\":{\"colorbar\":{\"outlinewidth\":0,\"tickcolor\":\"rgb(237,237,237)\",\"ticklen\":6,\"ticks\":\"inside\"}},\"type\":\"scatterternary\"}],\"surface\":[{\"colorbar\":{\"outlinewidth\":0,\"tickcolor\":\"rgb(237,237,237)\",\"ticklen\":6,\"ticks\":\"inside\"},\"colorscale\":[[0,\"rgb(20,44,66)\"],[1,\"rgb(90,179,244)\"]],\"type\":\"surface\"}],\"table\":[{\"cells\":{\"fill\":{\"color\":\"rgb(237,237,237)\"},\"line\":{\"color\":\"white\"}},\"header\":{\"fill\":{\"color\":\"rgb(217,217,217)\"},\"line\":{\"color\":\"white\"}},\"type\":\"table\"}]},\"layout\":{\"annotationdefaults\":{\"arrowhead\":0,\"arrowwidth\":1},\"autotypenumbers\":\"strict\",\"coloraxis\":{\"colorbar\":{\"outlinewidth\":0,\"tickcolor\":\"rgb(237,237,237)\",\"ticklen\":6,\"ticks\":\"inside\"}},\"colorscale\":{\"sequential\":[[0,\"rgb(20,44,66)\"],[1,\"rgb(90,179,244)\"]],\"sequentialminus\":[[0,\"rgb(20,44,66)\"],[1,\"rgb(90,179,244)\"]]},\"colorway\":[\"#F8766D\",\"#A3A500\",\"#00BF7D\",\"#00B0F6\",\"#E76BF3\"],\"font\":{\"color\":\"rgb(51,51,51)\"},\"geo\":{\"bgcolor\":\"white\",\"lakecolor\":\"white\",\"landcolor\":\"rgb(237,237,237)\",\"showlakes\":true,\"showland\":true,\"subunitcolor\":\"white\"},\"hoverlabel\":{\"align\":\"left\"},\"hovermode\":\"closest\",\"paper_bgcolor\":\"white\",\"plot_bgcolor\":\"rgb(237,237,237)\",\"polar\":{\"angularaxis\":{\"gridcolor\":\"white\",\"linecolor\":\"white\",\"showgrid\":true,\"tickcolor\":\"rgb(51,51,51)\",\"ticks\":\"outside\"},\"bgcolor\":\"rgb(237,237,237)\",\"radialaxis\":{\"gridcolor\":\"white\",\"linecolor\":\"white\",\"showgrid\":true,\"tickcolor\":\"rgb(51,51,51)\",\"ticks\":\"outside\"}},\"scene\":{\"xaxis\":{\"backgroundcolor\":\"rgb(237,237,237)\",\"gridcolor\":\"white\",\"gridwidth\":2,\"linecolor\":\"white\",\"showbackground\":true,\"showgrid\":true,\"tickcolor\":\"rgb(51,51,51)\",\"ticks\":\"outside\",\"zerolinecolor\":\"white\"},\"yaxis\":{\"backgroundcolor\":\"rgb(237,237,237)\",\"gridcolor\":\"white\",\"gridwidth\":2,\"linecolor\":\"white\",\"showbackground\":true,\"showgrid\":true,\"tickcolor\":\"rgb(51,51,51)\",\"ticks\":\"outside\",\"zerolinecolor\":\"white\"},\"zaxis\":{\"backgroundcolor\":\"rgb(237,237,237)\",\"gridcolor\":\"white\",\"gridwidth\":2,\"linecolor\":\"white\",\"showbackground\":true,\"showgrid\":true,\"tickcolor\":\"rgb(51,51,51)\",\"ticks\":\"outside\",\"zerolinecolor\":\"white\"}},\"shapedefaults\":{\"fillcolor\":\"black\",\"line\":{\"width\":0},\"opacity\":0.3},\"ternary\":{\"aaxis\":{\"gridcolor\":\"white\",\"linecolor\":\"white\",\"showgrid\":true,\"tickcolor\":\"rgb(51,51,51)\",\"ticks\":\"outside\"},\"baxis\":{\"gridcolor\":\"white\",\"linecolor\":\"white\",\"showgrid\":true,\"tickcolor\":\"rgb(51,51,51)\",\"ticks\":\"outside\"},\"bgcolor\":\"rgb(237,237,237)\",\"caxis\":{\"gridcolor\":\"white\",\"linecolor\":\"white\",\"showgrid\":true,\"tickcolor\":\"rgb(51,51,51)\",\"ticks\":\"outside\"}},\"xaxis\":{\"automargin\":true,\"gridcolor\":\"white\",\"linecolor\":\"white\",\"showgrid\":true,\"tickcolor\":\"rgb(51,51,51)\",\"ticks\":\"outside\",\"title\":{\"standoff\":15},\"zerolinecolor\":\"white\"},\"yaxis\":{\"automargin\":true,\"gridcolor\":\"white\",\"linecolor\":\"white\",\"showgrid\":true,\"tickcolor\":\"rgb(51,51,51)\",\"ticks\":\"outside\",\"title\":{\"standoff\":15},\"zerolinecolor\":\"white\"}}},\"title\":{\"text\":\"Model: SVC, f1_score: 0.78\"}},                        {\"responsive\": true}                    ).then(function(){\n                            \nvar gd = document.getElementById('c5274ea3-ce47-4213-a049-791d2cdf9b27');\nvar x = new MutationObserver(function (mutations, observer) {{\n        var display = window.getComputedStyle(gd).display;\n        if (!display || display === 'none') {{\n            console.log([gd, 'removed!']);\n            Plotly.purge(gd);\n            observer.disconnect();\n        }}\n}});\n\n// Listen for the removal of the full notebook cells\nvar notebookContainer = gd.closest('#notebook-container');\nif (notebookContainer) {{\n    x.observe(notebookContainer, {childList: true});\n}}\n\n// Listen for the clearing of the current output cell\nvar outputEl = gd.closest('.output');\nif (outputEl) {{\n    x.observe(outputEl, {childList: true});\n}}\n\n                        })                };                });            </script>        </div>"
     },
     "metadata": {},
     "output_type": "display_data"
    }
   ],
   "source": [
    "import plotly.express as px\n",
    "\n",
    "from sklearn.svm import SVC\n",
    "from sklearn.neighbors import KNeighborsClassifier\n",
    "from sklearn.tree import DecisionTreeClassifier\n",
    "from sklearn.ensemble import RandomForestClassifier\n",
    "from sklearn.naive_bayes import GaussianNB\n",
    "from sklearn.decomposition import PCA\n",
    "from sklearn.metrics import f1_score\n",
    "from sklearn.model_selection import train_test_split\n",
    "\n",
    "train_x, test_x, train_y, test_y = train_test_split(pivoted_stats.drop(columns=['Species']),\n",
    "                                                    pivoted_stats[\"Species\"], test_size=0.33)\n",
    "\n",
    "# All the models\n",
    "names = [\"Random Forest\", \"Naive Bayes\", \"Decision Tree\", \"KNN\", \"SVC\"]\n",
    "models = [RandomForestClassifier(), GaussianNB(), DecisionTreeClassifier(), KNeighborsClassifier(), SVC()]\n",
    "model_fit = [x + ' fit' for x in names]\n",
    "fitted_models = []\n",
    "\n",
    "# For each model defined above, predict the species for\n",
    "# our animals.\n",
    "for name, model, fits in zip(names, models, model_fit):\n",
    "    fit = model.fit(train_x, train_y)\n",
    "    ans = fit.predict(test_x)\n",
    "    score = f1_score(y_true=test_y, y_pred=ans, average='weighted')\n",
    "    fitted_models.append(fit)\n",
    "\n",
    "    # Perform PCA on our df and plot a 3D plot.\n",
    "    pca = PCA(n_components=3)\n",
    "    transformed = pca.fit_transform(test_x)\n",
    "\n",
    "    fig = px.scatter_3d(x=transformed[:, 0],\n",
    "                        y=transformed[:, 1],\n",
    "                        z=transformed[:, 2],\n",
    "                        color=ans,\n",
    "                        color_continuous_scale=px.colors.qualitative.Safe,\n",
    "                        template='ggplot2',\n",
    "                        title=f'Model: {name}, f1_score: {round(score, 2)}'\n",
    "                        )\n",
    "    fig.update_coloraxes(showscale=False)\n",
    "    fig.show()"
   ],
   "metadata": {
    "collapsed": false,
    "pycharm": {
     "name": "#%%\n"
    }
   }
  },
  {
   "cell_type": "code",
   "execution_count": 4,
   "outputs": [],
   "source": [],
   "metadata": {
    "collapsed": false,
    "pycharm": {
     "name": "#%%\n"
    }
   }
  }
 ],
 "metadata": {
  "kernelspec": {
   "display_name": "Python 3",
   "language": "python",
   "name": "python3"
  },
  "language_info": {
   "codemirror_mode": {
    "name": "ipython",
    "version": 2
   },
   "file_extension": ".py",
   "mimetype": "text/x-python",
   "name": "python",
   "nbconvert_exporter": "python",
   "pygments_lexer": "ipython2",
   "version": "2.7.6"
  }
 },
 "nbformat": 4,
 "nbformat_minor": 0
}