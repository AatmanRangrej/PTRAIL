{
 "cells": [
  {
   "cell_type": "code",
   "execution_count": 1,
   "metadata": {
    "collapsed": true
   },
   "outputs": [
    {
     "name": "stdout",
     "output_type": "stream",
     "text": [
      "------------------------ Dataset Facts ------------------------------\n",
      "\n",
      "Number of unique Trajectories in the data: 253\n",
      "Number of points in the data: 287136\n",
      "Dataset time range: 1196 days 22:51:45\n",
      "Datatype of the DataFrame: <class 'ptrail.core.TrajectoryDF.PTRAILDataFrame'>\n",
      "Dataset Bounding Box: (45.18896978643169, -118.61020848239596, 45.314545642992, -118.50455596234036)\n",
      "\n",
      "---------------------------------------------------------------------\n"
     ]
    }
   ],
   "source": [
    "import pandas as pd\n",
    "from ptrail.core.TrajectoryDF import PTRAILDataFrame\n",
    "from ptrail.preprocessing.statistics import Statistics\n",
    "\n",
    "pdf = pd.read_csv('./starkey_new.csv')\n",
    "starkey = PTRAILDataFrame(data_set=pdf,\n",
    "                          latitude='lat',\n",
    "                          longitude='lon',\n",
    "                          datetime='DateTime',\n",
    "                          traj_id='Id')\n",
    "print(starkey)"
   ]
  },
  {
   "cell_type": "code",
   "execution_count": 2,
   "outputs": [
    {
     "name": "stdout",
     "output_type": "stream",
     "text": [
      "CPU times: user 37.2 s, sys: 1.24 s, total: 38.5 s\n",
      "Wall time: 40.6 s\n"
     ]
    }
   ],
   "source": [
    "%%time\n",
    "\n",
    "stats = Statistics.generate_kinematic_stats(starkey)"
   ],
   "metadata": {
    "collapsed": false,
    "pycharm": {
     "name": "#%%\n"
    }
   }
  },
  {
   "cell_type": "code",
   "execution_count": 3,
   "outputs": [
    {
     "data": {
      "text/plain": "           10%_Acceleration  10%_Bearing  10%_Bearing_Rate  10%_Distance  \\\ntraj_id                                                                    \n910313E37     -2.424220e-05    36.304532         -0.063322     30.022359   \n890424E08     -2.742458e-05    32.508596         -0.064023     42.384642   \n921228E06     -2.609985e-05    32.488596         -0.058033     42.390114   \n930304E16     -2.893563e-05    43.769266         -0.068092     42.384012   \n940110D01     -8.556065e-06    43.796599         -0.041207     30.022192   \n...                     ...          ...               ...           ...   \nOSUX92071     -1.932433e-06    30.368128         -0.013195     42.384783   \nOSUX92008     -7.314997e-06    12.874876         -0.033016     60.044073   \nOSUX91143     -8.197858e-07    34.813154         -0.011116     90.066320   \nOSUX91121     -1.435370e-06    34.339105         -0.010799     66.956676   \n950227D02     -1.521129e-06    25.816505         -0.027101     60.555710   \n\n           10%_Distance_from_start      10%_Jerk  10%_Rate_of_bearing_rate  \\\ntraj_id                                                                      \n910313E37              1121.185006 -1.388547e-08                 -0.063322   \n890424E08               674.170024 -1.644760e-08                 -0.064023   \n921228E06               807.693739 -1.409491e-08                 -0.058033   \n930304E16              1156.455188 -1.707229e-08                 -0.068092   \n940110D01               492.522877 -3.455470e-09                 -0.041207   \n...                            ...           ...                       ...   \nOSUX92071              2019.896767 -3.361987e-10                 -0.013195   \nOSUX92008              2330.556507 -2.641983e-09                 -0.033016   \nOSUX91143              2741.029578 -1.094577e-10                 -0.011116   \nOSUX91121              2660.409775 -2.802791e-10                 -0.010799   \n950227D02              2111.735728 -4.773323e-10                 -0.027101   \n\n           10%_Speed  25%_Acceleration  25%_Bearing  ...  min_Speed  \\\ntraj_id                                              ...              \n910313E37   0.008259     -6.195019e-06    80.020676  ...   0.000000   \n890424E08   0.008840     -6.594604e-06    79.399167  ...   0.000000   \n921228E06   0.008041     -5.299279e-06    80.427854  ...   0.000000   \n930304E16   0.009212     -6.483826e-06    88.865905  ...   0.000000   \n940110D01   0.005311     -2.424314e-06    88.893389  ...   0.000000   \n...              ...               ...          ...  ...        ...   \nOSUX92071   0.003691     -5.335003e-07    88.874194  ...   0.000000   \nOSUX92008   0.003975     -1.188258e-06    70.383379  ...   0.000000   \nOSUX91143   0.001726     -2.145431e-07    85.697016  ...   0.000087   \nOSUX91121   0.002419     -1.680267e-07    65.905762  ...   0.000557   \n950227D02   0.004826     -6.963304e-07    75.944465  ...   0.000000   \n\n           std_Acceleration  std_Bearing  std_Bearing_Rate  std_Distance  \\\ntraj_id                                                                    \n910313E37          0.003805   106.277853          0.154034    398.901980   \n890424E08          0.009098   104.887878          0.241358    446.249248   \n921228E06          0.628230   105.795948          1.008263    517.650637   \n930304E16          0.482653   104.723326          0.600187    396.220730   \n940110D01          1.739274   105.698662          3.677063    235.093739   \n...                     ...          ...               ...           ...   \nOSUX92071          0.000223   101.259361          0.022347    797.302786   \nOSUX92008          0.000033   104.842801          0.033022    565.038959   \nOSUX91143          0.000005   106.771327          0.011857   1043.556535   \nOSUX91121          0.000004   108.860939          0.011728   1119.869470   \n950227D02          0.000003   108.928104          0.020923    257.519475   \n\n           std_Distance_from_start      std_Jerk  std_Rate_of_bearing_rate  \\\ntraj_id                                                                      \n910313E37              1502.135300  7.500795e-05                  0.154034   \n890424E08              1009.296449  2.761390e-04                  0.241358   \n921228E06              1282.236895  2.092630e-01                  1.008263   \n930304E16              1451.846819  7.585291e-02                  0.600187   \n940110D01               501.450441  1.733837e+00                  3.677063   \n...                            ...           ...                       ...   \nOSUX92071              1495.831625  2.424151e-07                  0.022347   \nOSUX92008               977.382744  1.407212e-08                  0.033022   \nOSUX91143              1521.500791  8.591675e-10                  0.011857   \nOSUX91121               827.029713  6.772859e-10                  0.011728   \n950227D02               392.355301  5.492696e-10                  0.020923   \n\n           std_Speed  Species  \ntraj_id                        \n910313E37   0.351682        1  \n890424E08   0.627852        1  \n921228E06   2.224608        1  \n930304E16   3.764110        1  \n940110D01   2.274554        0  \n...              ...      ...  \nOSUX92071   0.231182        2  \nOSUX92008   0.113691        2  \nOSUX91143   0.040621        2  \nOSUX91121   0.030566        2  \n950227D02   0.023782        0  \n\n[253 rows x 73 columns]",
      "text/html": "<div>\n<style scoped>\n    .dataframe tbody tr th:only-of-type {\n        vertical-align: middle;\n    }\n\n    .dataframe tbody tr th {\n        vertical-align: top;\n    }\n\n    .dataframe thead th {\n        text-align: right;\n    }\n</style>\n<table border=\"1\" class=\"dataframe\">\n  <thead>\n    <tr style=\"text-align: right;\">\n      <th></th>\n      <th>10%_Acceleration</th>\n      <th>10%_Bearing</th>\n      <th>10%_Bearing_Rate</th>\n      <th>10%_Distance</th>\n      <th>10%_Distance_from_start</th>\n      <th>10%_Jerk</th>\n      <th>10%_Rate_of_bearing_rate</th>\n      <th>10%_Speed</th>\n      <th>25%_Acceleration</th>\n      <th>25%_Bearing</th>\n      <th>...</th>\n      <th>min_Speed</th>\n      <th>std_Acceleration</th>\n      <th>std_Bearing</th>\n      <th>std_Bearing_Rate</th>\n      <th>std_Distance</th>\n      <th>std_Distance_from_start</th>\n      <th>std_Jerk</th>\n      <th>std_Rate_of_bearing_rate</th>\n      <th>std_Speed</th>\n      <th>Species</th>\n    </tr>\n    <tr>\n      <th>traj_id</th>\n      <th></th>\n      <th></th>\n      <th></th>\n      <th></th>\n      <th></th>\n      <th></th>\n      <th></th>\n      <th></th>\n      <th></th>\n      <th></th>\n      <th></th>\n      <th></th>\n      <th></th>\n      <th></th>\n      <th></th>\n      <th></th>\n      <th></th>\n      <th></th>\n      <th></th>\n      <th></th>\n      <th></th>\n    </tr>\n  </thead>\n  <tbody>\n    <tr>\n      <th>910313E37</th>\n      <td>-2.424220e-05</td>\n      <td>36.304532</td>\n      <td>-0.063322</td>\n      <td>30.022359</td>\n      <td>1121.185006</td>\n      <td>-1.388547e-08</td>\n      <td>-0.063322</td>\n      <td>0.008259</td>\n      <td>-6.195019e-06</td>\n      <td>80.020676</td>\n      <td>...</td>\n      <td>0.000000</td>\n      <td>0.003805</td>\n      <td>106.277853</td>\n      <td>0.154034</td>\n      <td>398.901980</td>\n      <td>1502.135300</td>\n      <td>7.500795e-05</td>\n      <td>0.154034</td>\n      <td>0.351682</td>\n      <td>1</td>\n    </tr>\n    <tr>\n      <th>890424E08</th>\n      <td>-2.742458e-05</td>\n      <td>32.508596</td>\n      <td>-0.064023</td>\n      <td>42.384642</td>\n      <td>674.170024</td>\n      <td>-1.644760e-08</td>\n      <td>-0.064023</td>\n      <td>0.008840</td>\n      <td>-6.594604e-06</td>\n      <td>79.399167</td>\n      <td>...</td>\n      <td>0.000000</td>\n      <td>0.009098</td>\n      <td>104.887878</td>\n      <td>0.241358</td>\n      <td>446.249248</td>\n      <td>1009.296449</td>\n      <td>2.761390e-04</td>\n      <td>0.241358</td>\n      <td>0.627852</td>\n      <td>1</td>\n    </tr>\n    <tr>\n      <th>921228E06</th>\n      <td>-2.609985e-05</td>\n      <td>32.488596</td>\n      <td>-0.058033</td>\n      <td>42.390114</td>\n      <td>807.693739</td>\n      <td>-1.409491e-08</td>\n      <td>-0.058033</td>\n      <td>0.008041</td>\n      <td>-5.299279e-06</td>\n      <td>80.427854</td>\n      <td>...</td>\n      <td>0.000000</td>\n      <td>0.628230</td>\n      <td>105.795948</td>\n      <td>1.008263</td>\n      <td>517.650637</td>\n      <td>1282.236895</td>\n      <td>2.092630e-01</td>\n      <td>1.008263</td>\n      <td>2.224608</td>\n      <td>1</td>\n    </tr>\n    <tr>\n      <th>930304E16</th>\n      <td>-2.893563e-05</td>\n      <td>43.769266</td>\n      <td>-0.068092</td>\n      <td>42.384012</td>\n      <td>1156.455188</td>\n      <td>-1.707229e-08</td>\n      <td>-0.068092</td>\n      <td>0.009212</td>\n      <td>-6.483826e-06</td>\n      <td>88.865905</td>\n      <td>...</td>\n      <td>0.000000</td>\n      <td>0.482653</td>\n      <td>104.723326</td>\n      <td>0.600187</td>\n      <td>396.220730</td>\n      <td>1451.846819</td>\n      <td>7.585291e-02</td>\n      <td>0.600187</td>\n      <td>3.764110</td>\n      <td>1</td>\n    </tr>\n    <tr>\n      <th>940110D01</th>\n      <td>-8.556065e-06</td>\n      <td>43.796599</td>\n      <td>-0.041207</td>\n      <td>30.022192</td>\n      <td>492.522877</td>\n      <td>-3.455470e-09</td>\n      <td>-0.041207</td>\n      <td>0.005311</td>\n      <td>-2.424314e-06</td>\n      <td>88.893389</td>\n      <td>...</td>\n      <td>0.000000</td>\n      <td>1.739274</td>\n      <td>105.698662</td>\n      <td>3.677063</td>\n      <td>235.093739</td>\n      <td>501.450441</td>\n      <td>1.733837e+00</td>\n      <td>3.677063</td>\n      <td>2.274554</td>\n      <td>0</td>\n    </tr>\n    <tr>\n      <th>...</th>\n      <td>...</td>\n      <td>...</td>\n      <td>...</td>\n      <td>...</td>\n      <td>...</td>\n      <td>...</td>\n      <td>...</td>\n      <td>...</td>\n      <td>...</td>\n      <td>...</td>\n      <td>...</td>\n      <td>...</td>\n      <td>...</td>\n      <td>...</td>\n      <td>...</td>\n      <td>...</td>\n      <td>...</td>\n      <td>...</td>\n      <td>...</td>\n      <td>...</td>\n      <td>...</td>\n    </tr>\n    <tr>\n      <th>OSUX92071</th>\n      <td>-1.932433e-06</td>\n      <td>30.368128</td>\n      <td>-0.013195</td>\n      <td>42.384783</td>\n      <td>2019.896767</td>\n      <td>-3.361987e-10</td>\n      <td>-0.013195</td>\n      <td>0.003691</td>\n      <td>-5.335003e-07</td>\n      <td>88.874194</td>\n      <td>...</td>\n      <td>0.000000</td>\n      <td>0.000223</td>\n      <td>101.259361</td>\n      <td>0.022347</td>\n      <td>797.302786</td>\n      <td>1495.831625</td>\n      <td>2.424151e-07</td>\n      <td>0.022347</td>\n      <td>0.231182</td>\n      <td>2</td>\n    </tr>\n    <tr>\n      <th>OSUX92008</th>\n      <td>-7.314997e-06</td>\n      <td>12.874876</td>\n      <td>-0.033016</td>\n      <td>60.044073</td>\n      <td>2330.556507</td>\n      <td>-2.641983e-09</td>\n      <td>-0.033016</td>\n      <td>0.003975</td>\n      <td>-1.188258e-06</td>\n      <td>70.383379</td>\n      <td>...</td>\n      <td>0.000000</td>\n      <td>0.000033</td>\n      <td>104.842801</td>\n      <td>0.033022</td>\n      <td>565.038959</td>\n      <td>977.382744</td>\n      <td>1.407212e-08</td>\n      <td>0.033022</td>\n      <td>0.113691</td>\n      <td>2</td>\n    </tr>\n    <tr>\n      <th>OSUX91143</th>\n      <td>-8.197858e-07</td>\n      <td>34.813154</td>\n      <td>-0.011116</td>\n      <td>90.066320</td>\n      <td>2741.029578</td>\n      <td>-1.094577e-10</td>\n      <td>-0.011116</td>\n      <td>0.001726</td>\n      <td>-2.145431e-07</td>\n      <td>85.697016</td>\n      <td>...</td>\n      <td>0.000087</td>\n      <td>0.000005</td>\n      <td>106.771327</td>\n      <td>0.011857</td>\n      <td>1043.556535</td>\n      <td>1521.500791</td>\n      <td>8.591675e-10</td>\n      <td>0.011857</td>\n      <td>0.040621</td>\n      <td>2</td>\n    </tr>\n    <tr>\n      <th>OSUX91121</th>\n      <td>-1.435370e-06</td>\n      <td>34.339105</td>\n      <td>-0.010799</td>\n      <td>66.956676</td>\n      <td>2660.409775</td>\n      <td>-2.802791e-10</td>\n      <td>-0.010799</td>\n      <td>0.002419</td>\n      <td>-1.680267e-07</td>\n      <td>65.905762</td>\n      <td>...</td>\n      <td>0.000557</td>\n      <td>0.000004</td>\n      <td>108.860939</td>\n      <td>0.011728</td>\n      <td>1119.869470</td>\n      <td>827.029713</td>\n      <td>6.772859e-10</td>\n      <td>0.011728</td>\n      <td>0.030566</td>\n      <td>2</td>\n    </tr>\n    <tr>\n      <th>950227D02</th>\n      <td>-1.521129e-06</td>\n      <td>25.816505</td>\n      <td>-0.027101</td>\n      <td>60.555710</td>\n      <td>2111.735728</td>\n      <td>-4.773323e-10</td>\n      <td>-0.027101</td>\n      <td>0.004826</td>\n      <td>-6.963304e-07</td>\n      <td>75.944465</td>\n      <td>...</td>\n      <td>0.000000</td>\n      <td>0.000003</td>\n      <td>108.928104</td>\n      <td>0.020923</td>\n      <td>257.519475</td>\n      <td>392.355301</td>\n      <td>5.492696e-10</td>\n      <td>0.020923</td>\n      <td>0.023782</td>\n      <td>0</td>\n    </tr>\n  </tbody>\n</table>\n<p>253 rows × 73 columns</p>\n</div>"
     },
     "execution_count": 3,
     "metadata": {},
     "output_type": "execute_result"
    }
   ],
   "source": [
    "pivoted_stats = Statistics.pivot_stats_df(dataframe=stats,\n",
    "                                          target_col_name='Species')\n",
    "pivoted_stats"
   ],
   "metadata": {
    "collapsed": false,
    "pycharm": {
     "name": "#%%\n"
    }
   }
  },
  {
   "cell_type": "code",
   "execution_count": 23,
   "outputs": [
    {
     "data": {
      "application/vnd.plotly.v1+json": {
       "config": {
        "plotlyServerURL": "https://plot.ly"
       },
       "data": [
        {
         "hovertemplate": "x=%{x}<br>y=%{y}<br>z=%{z}<br>color=%{marker.color}<extra></extra>",
         "legendgroup": "",
         "marker": {
          "color": [
           0,
           0,
           1,
           2,
           1,
           2,
           1,
           1,
           0,
           1,
           2,
           2,
           1,
           0,
           2,
           1,
           0,
           2,
           1,
           1,
           2,
           1,
           0,
           1,
           1,
           0,
           1,
           1,
           0,
           1,
           2,
           1,
           1,
           0,
           1,
           1,
           2,
           1,
           2,
           0,
           1,
           1,
           1,
           1,
           1,
           1,
           0,
           1,
           2,
           2,
           1,
           1,
           1,
           0,
           0,
           1,
           1,
           1,
           0,
           2,
           1,
           2,
           0,
           2,
           1,
           1,
           2,
           0,
           1,
           1,
           0,
           1,
           1,
           2,
           1,
           1,
           2,
           1,
           1,
           1,
           2,
           2,
           2,
           1
          ],
          "coloraxis": "coloraxis",
          "symbol": "circle"
         },
         "mode": "markers",
         "name": "",
         "scene": "scene",
         "showlegend": false,
         "type": "scatter3d",
         "x": [
          -5579.132853986817,
          -2229.8757219663726,
          -1809.0442575678576,
          113.45721217840564,
          -1144.7145584188972,
          1278.4838844168269,
          1788.2607840751991,
          2174.9294040785985,
          -6171.281759059223,
          -1628.6467141622322,
          -1564.4155427410008,
          12709.006352249398,
          -1368.8502108186312,
          -4862.533193830912,
          8549.651301643367,
          1741.365660477752,
          -5249.612308482715,
          6392.441532499017,
          -1227.2696937622486,
          -3103.5475392736926,
          521.9155042513878,
          2561.8629757906597,
          -7672.081119281198,
          -1779.4457995132702,
          -3780.2685392311014,
          -8203.160062495805,
          -345.08890920506394,
          -3357.1075758567194,
          -6825.21574087193,
          7960.411395013959,
          3718.2371702844894,
          2292.273321529909,
          3886.413009914218,
          -5292.282291154736,
          -266.6762371215055,
          -628.976315434508,
          2957.9549873057667,
          -439.8648794192993,
          4745.5787517286435,
          -6587.499577855115,
          -1402.3480626481462,
          4289.494231316581,
          5707.976234644557,
          -1103.278124498467,
          2244.042209217642,
          3792.881707193988,
          -4230.539776367649,
          -1318.2787050847583,
          70.23456512676256,
          6509.702425577635,
          -1524.712718101601,
          2197.260544358018,
          -2855.923566995219,
          -6847.741660861886,
          -2663.382157689846,
          34.91189749179737,
          -5495.391104739687,
          8493.193903390462,
          -4808.5012595958515,
          3174.3295059610846,
          827.7991144171154,
          3767.063424101913,
          -6424.141720342581,
          2561.657874494515,
          830.7537561772019,
          -7180.571578081321,
          4699.139388615814,
          -1980.642521616638,
          -4940.442324454727,
          192.34584436151673,
          -6032.342760200403,
          6824.2765685652685,
          -1548.2734324186865,
          -2547.039390123248,
          -4022.2076232250392,
          -43.27658866422988,
          -1065.9354698322802,
          -828.6601871129033,
          125.3482679654763,
          9957.809368522658,
          10981.789991204569,
          -305.66701276656994,
          10940.354499140021,
          -1328.7194223494487
         ],
         "y": [
          276.0301569445654,
          2426.297792302829,
          159.47907090175858,
          -2553.5211399242057,
          -330.33569003005186,
          3952.2743979187267,
          -1675.928023110469,
          1231.976137217722,
          315.76038744211337,
          -952.15337371189,
          1597.7824618314285,
          3280.944142325782,
          385.6298968087615,
          -42.14023567240143,
          -781.5673406755553,
          -1150.0460433829453,
          2047.2513724091564,
          -3920.797643231349,
          -966.6750512646377,
          -48.221229523285736,
          -665.7660057499457,
          188.00806001339336,
          720.0950313673457,
          -963.9153273699249,
          159.97634931827753,
          1379.4265352951888,
          533.9921681036606,
          -342.8849717439503,
          438.5008543011073,
          734.692331095641,
          -3908.016867907628,
          129.55828094580616,
          3745.6608024251677,
          -941.3463650627187,
          -1343.6902834270793,
          -536.6130964282396,
          -3625.089525895901,
          2011.0813751302767,
          -604.8871682271123,
          621.6930855923752,
          -1066.5807168811214,
          -1062.8452350256114,
          507.832854223479,
          -1462.6554377475306,
          -1138.1208484602116,
          -3076.5195056321236,
          3845.3642278449256,
          -2249.352052761414,
          1096.7826986302775,
          -1860.1756281683413,
          -1639.4656321404625,
          1954.9378354378036,
          -1219.1056553788724,
          1049.1775441233465,
          -160.63230777658586,
          -2093.380736971014,
          1506.7707401769323,
          2600.969952580607,
          938.4615749486953,
          4559.320535521743,
          -1149.4740407069382,
          -2862.8251489475138,
          761.2477435903489,
          2105.788226633959,
          -222.91957406366353,
          1833.3663743987631,
          -1879.7162643024396,
          2100.7583158979246,
          338.88815883347127,
          1419.393926100214,
          415.54253599358793,
          -5741.03569033289,
          -963.8270942226214,
          319.1002783192363,
          355.644451664375,
          -2356.854148732459,
          -2922.587505229138,
          -836.9506659814227,
          204.87817927713974,
          1166.2998452661545,
          6132.4148896157185,
          -4464.3180240107195,
          3676.979426467898,
          556.9062905746221
         ],
         "z": [
          136.8524778338577,
          617.770199087728,
          1183.6663573838046,
          1445.7237259072604,
          -52.022627105282844,
          414.0034128826256,
          -516.2848626180054,
          -286.3452019557255,
          -196.3405420502074,
          -548.7078463682406,
          -611.5097913149563,
          215.11519750857752,
          -986.8006519910919,
          -12.115214828643147,
          -1344.2514655520974,
          450.49641798088317,
          -455.36419021284013,
          -108.96279774335012,
          151.69382358426157,
          -990.1704804700572,
          -2711.223472866454,
          2607.480652876502,
          305.60250401840165,
          1614.030294283185,
          344.6888494384717,
          133.6399923747495,
          524.6084013476514,
          209.7459935858816,
          466.13392987597587,
          -4278.208016367656,
          1918.7245265048625,
          -2121.3074037793226,
          725.2900626147814,
          1217.3394898379638,
          729.252337219906,
          -321.73091807841155,
          600.1996002786635,
          -696.9182561667827,
          -643.6079109777902,
          82.94233051449037,
          -85.59979003716859,
          -2767.520721660875,
          -970.0520191107089,
          1060.6630359640287,
          814.5669143879052,
          2508.648466579874,
          -157.47900355214003,
          1270.1729846987982,
          -102.80537175628494,
          -1360.7417865349607,
          -594.1938515813534,
          1554.127079256898,
          310.27407674989763,
          -419.6587925582127,
          -408.93702520257796,
          1355.5685760443505,
          -1234.4584187510234,
          -3940.151574085118,
          371.1741860106026,
          1152.365720346137,
          89.16535137757899,
          -955.538086346085,
          170.43678230689014,
          459.4504650362092,
          175.46829116509167,
          -428.2287369264296,
          -1165.0932499692763,
          -1665.7154650790455,
          1040.730822280553,
          1417.0458988232008,
          120.15676645870113,
          -347.26081492193504,
          118.02318958750516,
          -2511.1467707793504,
          -380.7908445672828,
          -1287.9682530873145,
          640.8130065088261,
          -181.13058069295977,
          -621.1954330056697,
          5421.798171381167,
          2639.1373678735945,
          439.2683293113053,
          82.81768355098102,
          -839.3355019879954
         ]
        }
       ],
       "layout": {
        "coloraxis": {
         "colorbar": {
          "title": {
           "text": "color"
          }
         },
         "colorscale": [
          [
           0.0,
           "rgb(136, 204, 238)"
          ],
          [
           0.1,
           "rgb(204, 102, 119)"
          ],
          [
           0.2,
           "rgb(221, 204, 119)"
          ],
          [
           0.3,
           "rgb(17, 119, 51)"
          ],
          [
           0.4,
           "rgb(51, 34, 136)"
          ],
          [
           0.5,
           "rgb(170, 68, 153)"
          ],
          [
           0.6,
           "rgb(68, 170, 153)"
          ],
          [
           0.7,
           "rgb(153, 153, 51)"
          ],
          [
           0.8,
           "rgb(136, 34, 85)"
          ],
          [
           0.9,
           "rgb(102, 17, 0)"
          ],
          [
           1.0,
           "rgb(136, 136, 136)"
          ]
         ],
         "showscale": false
        },
        "legend": {
         "tracegroupgap": 0
        },
        "scene": {
         "domain": {
          "x": [
           0.0,
           1.0
          ],
          "y": [
           0.0,
           1.0
          ]
         },
         "xaxis": {
          "title": {
           "text": "x"
          }
         },
         "yaxis": {
          "title": {
           "text": "y"
          }
         },
         "zaxis": {
          "title": {
           "text": "z"
          }
         }
        },
        "template": {
         "data": {
          "bar": [
           {
            "error_x": {
             "color": "rgb(51,51,51)"
            },
            "error_y": {
             "color": "rgb(51,51,51)"
            },
            "marker": {
             "line": {
              "color": "rgb(237,237,237)",
              "width": 0.5
             },
             "pattern": {
              "fillmode": "overlay",
              "size": 10,
              "solidity": 0.2
             }
            },
            "type": "bar"
           }
          ],
          "barpolar": [
           {
            "marker": {
             "line": {
              "color": "rgb(237,237,237)",
              "width": 0.5
             },
             "pattern": {
              "fillmode": "overlay",
              "size": 10,
              "solidity": 0.2
             }
            },
            "type": "barpolar"
           }
          ],
          "carpet": [
           {
            "aaxis": {
             "endlinecolor": "rgb(51,51,51)",
             "gridcolor": "white",
             "linecolor": "white",
             "minorgridcolor": "white",
             "startlinecolor": "rgb(51,51,51)"
            },
            "baxis": {
             "endlinecolor": "rgb(51,51,51)",
             "gridcolor": "white",
             "linecolor": "white",
             "minorgridcolor": "white",
             "startlinecolor": "rgb(51,51,51)"
            },
            "type": "carpet"
           }
          ],
          "choropleth": [
           {
            "colorbar": {
             "outlinewidth": 0,
             "tickcolor": "rgb(237,237,237)",
             "ticklen": 6,
             "ticks": "inside"
            },
            "type": "choropleth"
           }
          ],
          "contour": [
           {
            "colorbar": {
             "outlinewidth": 0,
             "tickcolor": "rgb(237,237,237)",
             "ticklen": 6,
             "ticks": "inside"
            },
            "colorscale": [
             [
              0,
              "rgb(20,44,66)"
             ],
             [
              1,
              "rgb(90,179,244)"
             ]
            ],
            "type": "contour"
           }
          ],
          "contourcarpet": [
           {
            "colorbar": {
             "outlinewidth": 0,
             "tickcolor": "rgb(237,237,237)",
             "ticklen": 6,
             "ticks": "inside"
            },
            "type": "contourcarpet"
           }
          ],
          "heatmap": [
           {
            "colorbar": {
             "outlinewidth": 0,
             "tickcolor": "rgb(237,237,237)",
             "ticklen": 6,
             "ticks": "inside"
            },
            "colorscale": [
             [
              0,
              "rgb(20,44,66)"
             ],
             [
              1,
              "rgb(90,179,244)"
             ]
            ],
            "type": "heatmap"
           }
          ],
          "heatmapgl": [
           {
            "colorbar": {
             "outlinewidth": 0,
             "tickcolor": "rgb(237,237,237)",
             "ticklen": 6,
             "ticks": "inside"
            },
            "colorscale": [
             [
              0,
              "rgb(20,44,66)"
             ],
             [
              1,
              "rgb(90,179,244)"
             ]
            ],
            "type": "heatmapgl"
           }
          ],
          "histogram": [
           {
            "marker": {
             "pattern": {
              "fillmode": "overlay",
              "size": 10,
              "solidity": 0.2
             }
            },
            "type": "histogram"
           }
          ],
          "histogram2d": [
           {
            "colorbar": {
             "outlinewidth": 0,
             "tickcolor": "rgb(237,237,237)",
             "ticklen": 6,
             "ticks": "inside"
            },
            "colorscale": [
             [
              0,
              "rgb(20,44,66)"
             ],
             [
              1,
              "rgb(90,179,244)"
             ]
            ],
            "type": "histogram2d"
           }
          ],
          "histogram2dcontour": [
           {
            "colorbar": {
             "outlinewidth": 0,
             "tickcolor": "rgb(237,237,237)",
             "ticklen": 6,
             "ticks": "inside"
            },
            "colorscale": [
             [
              0,
              "rgb(20,44,66)"
             ],
             [
              1,
              "rgb(90,179,244)"
             ]
            ],
            "type": "histogram2dcontour"
           }
          ],
          "mesh3d": [
           {
            "colorbar": {
             "outlinewidth": 0,
             "tickcolor": "rgb(237,237,237)",
             "ticklen": 6,
             "ticks": "inside"
            },
            "type": "mesh3d"
           }
          ],
          "parcoords": [
           {
            "line": {
             "colorbar": {
              "outlinewidth": 0,
              "tickcolor": "rgb(237,237,237)",
              "ticklen": 6,
              "ticks": "inside"
             }
            },
            "type": "parcoords"
           }
          ],
          "pie": [
           {
            "automargin": true,
            "type": "pie"
           }
          ],
          "scatter": [
           {
            "marker": {
             "colorbar": {
              "outlinewidth": 0,
              "tickcolor": "rgb(237,237,237)",
              "ticklen": 6,
              "ticks": "inside"
             }
            },
            "type": "scatter"
           }
          ],
          "scatter3d": [
           {
            "line": {
             "colorbar": {
              "outlinewidth": 0,
              "tickcolor": "rgb(237,237,237)",
              "ticklen": 6,
              "ticks": "inside"
             }
            },
            "marker": {
             "colorbar": {
              "outlinewidth": 0,
              "tickcolor": "rgb(237,237,237)",
              "ticklen": 6,
              "ticks": "inside"
             }
            },
            "type": "scatter3d"
           }
          ],
          "scattercarpet": [
           {
            "marker": {
             "colorbar": {
              "outlinewidth": 0,
              "tickcolor": "rgb(237,237,237)",
              "ticklen": 6,
              "ticks": "inside"
             }
            },
            "type": "scattercarpet"
           }
          ],
          "scattergeo": [
           {
            "marker": {
             "colorbar": {
              "outlinewidth": 0,
              "tickcolor": "rgb(237,237,237)",
              "ticklen": 6,
              "ticks": "inside"
             }
            },
            "type": "scattergeo"
           }
          ],
          "scattergl": [
           {
            "marker": {
             "colorbar": {
              "outlinewidth": 0,
              "tickcolor": "rgb(237,237,237)",
              "ticklen": 6,
              "ticks": "inside"
             }
            },
            "type": "scattergl"
           }
          ],
          "scattermapbox": [
           {
            "marker": {
             "colorbar": {
              "outlinewidth": 0,
              "tickcolor": "rgb(237,237,237)",
              "ticklen": 6,
              "ticks": "inside"
             }
            },
            "type": "scattermapbox"
           }
          ],
          "scatterpolar": [
           {
            "marker": {
             "colorbar": {
              "outlinewidth": 0,
              "tickcolor": "rgb(237,237,237)",
              "ticklen": 6,
              "ticks": "inside"
             }
            },
            "type": "scatterpolar"
           }
          ],
          "scatterpolargl": [
           {
            "marker": {
             "colorbar": {
              "outlinewidth": 0,
              "tickcolor": "rgb(237,237,237)",
              "ticklen": 6,
              "ticks": "inside"
             }
            },
            "type": "scatterpolargl"
           }
          ],
          "scatterternary": [
           {
            "marker": {
             "colorbar": {
              "outlinewidth": 0,
              "tickcolor": "rgb(237,237,237)",
              "ticklen": 6,
              "ticks": "inside"
             }
            },
            "type": "scatterternary"
           }
          ],
          "surface": [
           {
            "colorbar": {
             "outlinewidth": 0,
             "tickcolor": "rgb(237,237,237)",
             "ticklen": 6,
             "ticks": "inside"
            },
            "colorscale": [
             [
              0,
              "rgb(20,44,66)"
             ],
             [
              1,
              "rgb(90,179,244)"
             ]
            ],
            "type": "surface"
           }
          ],
          "table": [
           {
            "cells": {
             "fill": {
              "color": "rgb(237,237,237)"
             },
             "line": {
              "color": "white"
             }
            },
            "header": {
             "fill": {
              "color": "rgb(217,217,217)"
             },
             "line": {
              "color": "white"
             }
            },
            "type": "table"
           }
          ]
         },
         "layout": {
          "annotationdefaults": {
           "arrowhead": 0,
           "arrowwidth": 1
          },
          "autotypenumbers": "strict",
          "coloraxis": {
           "colorbar": {
            "outlinewidth": 0,
            "tickcolor": "rgb(237,237,237)",
            "ticklen": 6,
            "ticks": "inside"
           }
          },
          "colorscale": {
           "sequential": [
            [
             0,
             "rgb(20,44,66)"
            ],
            [
             1,
             "rgb(90,179,244)"
            ]
           ],
           "sequentialminus": [
            [
             0,
             "rgb(20,44,66)"
            ],
            [
             1,
             "rgb(90,179,244)"
            ]
           ]
          },
          "colorway": [
           "#F8766D",
           "#A3A500",
           "#00BF7D",
           "#00B0F6",
           "#E76BF3"
          ],
          "font": {
           "color": "rgb(51,51,51)"
          },
          "geo": {
           "bgcolor": "white",
           "lakecolor": "white",
           "landcolor": "rgb(237,237,237)",
           "showlakes": true,
           "showland": true,
           "subunitcolor": "white"
          },
          "hoverlabel": {
           "align": "left"
          },
          "hovermode": "closest",
          "paper_bgcolor": "white",
          "plot_bgcolor": "rgb(237,237,237)",
          "polar": {
           "angularaxis": {
            "gridcolor": "white",
            "linecolor": "white",
            "showgrid": true,
            "tickcolor": "rgb(51,51,51)",
            "ticks": "outside"
           },
           "bgcolor": "rgb(237,237,237)",
           "radialaxis": {
            "gridcolor": "white",
            "linecolor": "white",
            "showgrid": true,
            "tickcolor": "rgb(51,51,51)",
            "ticks": "outside"
           }
          },
          "scene": {
           "xaxis": {
            "backgroundcolor": "rgb(237,237,237)",
            "gridcolor": "white",
            "gridwidth": 2,
            "linecolor": "white",
            "showbackground": true,
            "showgrid": true,
            "tickcolor": "rgb(51,51,51)",
            "ticks": "outside",
            "zerolinecolor": "white"
           },
           "yaxis": {
            "backgroundcolor": "rgb(237,237,237)",
            "gridcolor": "white",
            "gridwidth": 2,
            "linecolor": "white",
            "showbackground": true,
            "showgrid": true,
            "tickcolor": "rgb(51,51,51)",
            "ticks": "outside",
            "zerolinecolor": "white"
           },
           "zaxis": {
            "backgroundcolor": "rgb(237,237,237)",
            "gridcolor": "white",
            "gridwidth": 2,
            "linecolor": "white",
            "showbackground": true,
            "showgrid": true,
            "tickcolor": "rgb(51,51,51)",
            "ticks": "outside",
            "zerolinecolor": "white"
           }
          },
          "shapedefaults": {
           "fillcolor": "black",
           "line": {
            "width": 0
           },
           "opacity": 0.3
          },
          "ternary": {
           "aaxis": {
            "gridcolor": "white",
            "linecolor": "white",
            "showgrid": true,
            "tickcolor": "rgb(51,51,51)",
            "ticks": "outside"
           },
           "baxis": {
            "gridcolor": "white",
            "linecolor": "white",
            "showgrid": true,
            "tickcolor": "rgb(51,51,51)",
            "ticks": "outside"
           },
           "bgcolor": "rgb(237,237,237)",
           "caxis": {
            "gridcolor": "white",
            "linecolor": "white",
            "showgrid": true,
            "tickcolor": "rgb(51,51,51)",
            "ticks": "outside"
           }
          },
          "xaxis": {
           "automargin": true,
           "gridcolor": "white",
           "linecolor": "white",
           "showgrid": true,
           "tickcolor": "rgb(51,51,51)",
           "ticks": "outside",
           "title": {
            "standoff": 15
           },
           "zerolinecolor": "white"
          },
          "yaxis": {
           "automargin": true,
           "gridcolor": "white",
           "linecolor": "white",
           "showgrid": true,
           "tickcolor": "rgb(51,51,51)",
           "ticks": "outside",
           "title": {
            "standoff": 15
           },
           "zerolinecolor": "white"
          }
         }
        },
        "title": {
         "text": "Model: Random Forest, f1_score: 0.9"
        }
       }
      },
      "text/html": "<div>                            <div id=\"f2eafe4b-f543-4af3-b3ec-e6265d297b80\" class=\"plotly-graph-div\" style=\"height:525px; width:100%;\"></div>            <script type=\"text/javascript\">                require([\"plotly\"], function(Plotly) {                    window.PLOTLYENV=window.PLOTLYENV || {};                                    if (document.getElementById(\"f2eafe4b-f543-4af3-b3ec-e6265d297b80\")) {                    Plotly.newPlot(                        \"f2eafe4b-f543-4af3-b3ec-e6265d297b80\",                        [{\"hovertemplate\":\"x=%{x}<br>y=%{y}<br>z=%{z}<br>color=%{marker.color}<extra></extra>\",\"legendgroup\":\"\",\"marker\":{\"color\":[0,0,1,2,1,2,1,1,0,1,2,2,1,0,2,1,0,2,1,1,2,1,0,1,1,0,1,1,0,1,2,1,1,0,1,1,2,1,2,0,1,1,1,1,1,1,0,1,2,2,1,1,1,0,0,1,1,1,0,2,1,2,0,2,1,1,2,0,1,1,0,1,1,2,1,1,2,1,1,1,2,2,2,1],\"coloraxis\":\"coloraxis\",\"symbol\":\"circle\"},\"mode\":\"markers\",\"name\":\"\",\"scene\":\"scene\",\"showlegend\":false,\"type\":\"scatter3d\",\"x\":[-5579.132853986817,-2229.8757219663726,-1809.0442575678576,113.45721217840564,-1144.7145584188972,1278.4838844168269,1788.2607840751991,2174.9294040785985,-6171.281759059223,-1628.6467141622322,-1564.4155427410008,12709.006352249398,-1368.8502108186312,-4862.533193830912,8549.651301643367,1741.365660477752,-5249.612308482715,6392.441532499017,-1227.2696937622486,-3103.5475392736926,521.9155042513878,2561.8629757906597,-7672.081119281198,-1779.4457995132702,-3780.2685392311014,-8203.160062495805,-345.08890920506394,-3357.1075758567194,-6825.21574087193,7960.411395013959,3718.2371702844894,2292.273321529909,3886.413009914218,-5292.282291154736,-266.6762371215055,-628.976315434508,2957.9549873057667,-439.8648794192993,4745.5787517286435,-6587.499577855115,-1402.3480626481462,4289.494231316581,5707.976234644557,-1103.278124498467,2244.042209217642,3792.881707193988,-4230.539776367649,-1318.2787050847583,70.23456512676256,6509.702425577635,-1524.712718101601,2197.260544358018,-2855.923566995219,-6847.741660861886,-2663.382157689846,34.91189749179737,-5495.391104739687,8493.193903390462,-4808.5012595958515,3174.3295059610846,827.7991144171154,3767.063424101913,-6424.141720342581,2561.657874494515,830.7537561772019,-7180.571578081321,4699.139388615814,-1980.642521616638,-4940.442324454727,192.34584436151673,-6032.342760200403,6824.2765685652685,-1548.2734324186865,-2547.039390123248,-4022.2076232250392,-43.27658866422988,-1065.9354698322802,-828.6601871129033,125.3482679654763,9957.809368522658,10981.789991204569,-305.66701276656994,10940.354499140021,-1328.7194223494487],\"y\":[276.0301569445654,2426.297792302829,159.47907090175858,-2553.5211399242057,-330.33569003005186,3952.2743979187267,-1675.928023110469,1231.976137217722,315.76038744211337,-952.15337371189,1597.7824618314285,3280.944142325782,385.6298968087615,-42.14023567240143,-781.5673406755553,-1150.0460433829453,2047.2513724091564,-3920.797643231349,-966.6750512646377,-48.221229523285736,-665.7660057499457,188.00806001339336,720.0950313673457,-963.9153273699249,159.97634931827753,1379.4265352951888,533.9921681036606,-342.8849717439503,438.5008543011073,734.692331095641,-3908.016867907628,129.55828094580616,3745.6608024251677,-941.3463650627187,-1343.6902834270793,-536.6130964282396,-3625.089525895901,2011.0813751302767,-604.8871682271123,621.6930855923752,-1066.5807168811214,-1062.8452350256114,507.832854223479,-1462.6554377475306,-1138.1208484602116,-3076.5195056321236,3845.3642278449256,-2249.352052761414,1096.7826986302775,-1860.1756281683413,-1639.4656321404625,1954.9378354378036,-1219.1056553788724,1049.1775441233465,-160.63230777658586,-2093.380736971014,1506.7707401769323,2600.969952580607,938.4615749486953,4559.320535521743,-1149.4740407069382,-2862.8251489475138,761.2477435903489,2105.788226633959,-222.91957406366353,1833.3663743987631,-1879.7162643024396,2100.7583158979246,338.88815883347127,1419.393926100214,415.54253599358793,-5741.03569033289,-963.8270942226214,319.1002783192363,355.644451664375,-2356.854148732459,-2922.587505229138,-836.9506659814227,204.87817927713974,1166.2998452661545,6132.4148896157185,-4464.3180240107195,3676.979426467898,556.9062905746221],\"z\":[136.8524778338577,617.770199087728,1183.6663573838046,1445.7237259072604,-52.022627105282844,414.0034128826256,-516.2848626180054,-286.3452019557255,-196.3405420502074,-548.7078463682406,-611.5097913149563,215.11519750857752,-986.8006519910919,-12.115214828643147,-1344.2514655520974,450.49641798088317,-455.36419021284013,-108.96279774335012,151.69382358426157,-990.1704804700572,-2711.223472866454,2607.480652876502,305.60250401840165,1614.030294283185,344.6888494384717,133.6399923747495,524.6084013476514,209.7459935858816,466.13392987597587,-4278.208016367656,1918.7245265048625,-2121.3074037793226,725.2900626147814,1217.3394898379638,729.252337219906,-321.73091807841155,600.1996002786635,-696.9182561667827,-643.6079109777902,82.94233051449037,-85.59979003716859,-2767.520721660875,-970.0520191107089,1060.6630359640287,814.5669143879052,2508.648466579874,-157.47900355214003,1270.1729846987982,-102.80537175628494,-1360.7417865349607,-594.1938515813534,1554.127079256898,310.27407674989763,-419.6587925582127,-408.93702520257796,1355.5685760443505,-1234.4584187510234,-3940.151574085118,371.1741860106026,1152.365720346137,89.16535137757899,-955.538086346085,170.43678230689014,459.4504650362092,175.46829116509167,-428.2287369264296,-1165.0932499692763,-1665.7154650790455,1040.730822280553,1417.0458988232008,120.15676645870113,-347.26081492193504,118.02318958750516,-2511.1467707793504,-380.7908445672828,-1287.9682530873145,640.8130065088261,-181.13058069295977,-621.1954330056697,5421.798171381167,2639.1373678735945,439.2683293113053,82.81768355098102,-839.3355019879954]}],                        {\"coloraxis\":{\"colorbar\":{\"title\":{\"text\":\"color\"}},\"colorscale\":[[0.0,\"rgb(136, 204, 238)\"],[0.1,\"rgb(204, 102, 119)\"],[0.2,\"rgb(221, 204, 119)\"],[0.3,\"rgb(17, 119, 51)\"],[0.4,\"rgb(51, 34, 136)\"],[0.5,\"rgb(170, 68, 153)\"],[0.6,\"rgb(68, 170, 153)\"],[0.7,\"rgb(153, 153, 51)\"],[0.8,\"rgb(136, 34, 85)\"],[0.9,\"rgb(102, 17, 0)\"],[1.0,\"rgb(136, 136, 136)\"]],\"showscale\":false},\"legend\":{\"tracegroupgap\":0},\"scene\":{\"domain\":{\"x\":[0.0,1.0],\"y\":[0.0,1.0]},\"xaxis\":{\"title\":{\"text\":\"x\"}},\"yaxis\":{\"title\":{\"text\":\"y\"}},\"zaxis\":{\"title\":{\"text\":\"z\"}}},\"template\":{\"data\":{\"bar\":[{\"error_x\":{\"color\":\"rgb(51,51,51)\"},\"error_y\":{\"color\":\"rgb(51,51,51)\"},\"marker\":{\"line\":{\"color\":\"rgb(237,237,237)\",\"width\":0.5},\"pattern\":{\"fillmode\":\"overlay\",\"size\":10,\"solidity\":0.2}},\"type\":\"bar\"}],\"barpolar\":[{\"marker\":{\"line\":{\"color\":\"rgb(237,237,237)\",\"width\":0.5},\"pattern\":{\"fillmode\":\"overlay\",\"size\":10,\"solidity\":0.2}},\"type\":\"barpolar\"}],\"carpet\":[{\"aaxis\":{\"endlinecolor\":\"rgb(51,51,51)\",\"gridcolor\":\"white\",\"linecolor\":\"white\",\"minorgridcolor\":\"white\",\"startlinecolor\":\"rgb(51,51,51)\"},\"baxis\":{\"endlinecolor\":\"rgb(51,51,51)\",\"gridcolor\":\"white\",\"linecolor\":\"white\",\"minorgridcolor\":\"white\",\"startlinecolor\":\"rgb(51,51,51)\"},\"type\":\"carpet\"}],\"choropleth\":[{\"colorbar\":{\"outlinewidth\":0,\"tickcolor\":\"rgb(237,237,237)\",\"ticklen\":6,\"ticks\":\"inside\"},\"type\":\"choropleth\"}],\"contour\":[{\"colorbar\":{\"outlinewidth\":0,\"tickcolor\":\"rgb(237,237,237)\",\"ticklen\":6,\"ticks\":\"inside\"},\"colorscale\":[[0,\"rgb(20,44,66)\"],[1,\"rgb(90,179,244)\"]],\"type\":\"contour\"}],\"contourcarpet\":[{\"colorbar\":{\"outlinewidth\":0,\"tickcolor\":\"rgb(237,237,237)\",\"ticklen\":6,\"ticks\":\"inside\"},\"type\":\"contourcarpet\"}],\"heatmap\":[{\"colorbar\":{\"outlinewidth\":0,\"tickcolor\":\"rgb(237,237,237)\",\"ticklen\":6,\"ticks\":\"inside\"},\"colorscale\":[[0,\"rgb(20,44,66)\"],[1,\"rgb(90,179,244)\"]],\"type\":\"heatmap\"}],\"heatmapgl\":[{\"colorbar\":{\"outlinewidth\":0,\"tickcolor\":\"rgb(237,237,237)\",\"ticklen\":6,\"ticks\":\"inside\"},\"colorscale\":[[0,\"rgb(20,44,66)\"],[1,\"rgb(90,179,244)\"]],\"type\":\"heatmapgl\"}],\"histogram\":[{\"marker\":{\"pattern\":{\"fillmode\":\"overlay\",\"size\":10,\"solidity\":0.2}},\"type\":\"histogram\"}],\"histogram2d\":[{\"colorbar\":{\"outlinewidth\":0,\"tickcolor\":\"rgb(237,237,237)\",\"ticklen\":6,\"ticks\":\"inside\"},\"colorscale\":[[0,\"rgb(20,44,66)\"],[1,\"rgb(90,179,244)\"]],\"type\":\"histogram2d\"}],\"histogram2dcontour\":[{\"colorbar\":{\"outlinewidth\":0,\"tickcolor\":\"rgb(237,237,237)\",\"ticklen\":6,\"ticks\":\"inside\"},\"colorscale\":[[0,\"rgb(20,44,66)\"],[1,\"rgb(90,179,244)\"]],\"type\":\"histogram2dcontour\"}],\"mesh3d\":[{\"colorbar\":{\"outlinewidth\":0,\"tickcolor\":\"rgb(237,237,237)\",\"ticklen\":6,\"ticks\":\"inside\"},\"type\":\"mesh3d\"}],\"parcoords\":[{\"line\":{\"colorbar\":{\"outlinewidth\":0,\"tickcolor\":\"rgb(237,237,237)\",\"ticklen\":6,\"ticks\":\"inside\"}},\"type\":\"parcoords\"}],\"pie\":[{\"automargin\":true,\"type\":\"pie\"}],\"scatter\":[{\"marker\":{\"colorbar\":{\"outlinewidth\":0,\"tickcolor\":\"rgb(237,237,237)\",\"ticklen\":6,\"ticks\":\"inside\"}},\"type\":\"scatter\"}],\"scatter3d\":[{\"line\":{\"colorbar\":{\"outlinewidth\":0,\"tickcolor\":\"rgb(237,237,237)\",\"ticklen\":6,\"ticks\":\"inside\"}},\"marker\":{\"colorbar\":{\"outlinewidth\":0,\"tickcolor\":\"rgb(237,237,237)\",\"ticklen\":6,\"ticks\":\"inside\"}},\"type\":\"scatter3d\"}],\"scattercarpet\":[{\"marker\":{\"colorbar\":{\"outlinewidth\":0,\"tickcolor\":\"rgb(237,237,237)\",\"ticklen\":6,\"ticks\":\"inside\"}},\"type\":\"scattercarpet\"}],\"scattergeo\":[{\"marker\":{\"colorbar\":{\"outlinewidth\":0,\"tickcolor\":\"rgb(237,237,237)\",\"ticklen\":6,\"ticks\":\"inside\"}},\"type\":\"scattergeo\"}],\"scattergl\":[{\"marker\":{\"colorbar\":{\"outlinewidth\":0,\"tickcolor\":\"rgb(237,237,237)\",\"ticklen\":6,\"ticks\":\"inside\"}},\"type\":\"scattergl\"}],\"scattermapbox\":[{\"marker\":{\"colorbar\":{\"outlinewidth\":0,\"tickcolor\":\"rgb(237,237,237)\",\"ticklen\":6,\"ticks\":\"inside\"}},\"type\":\"scattermapbox\"}],\"scatterpolar\":[{\"marker\":{\"colorbar\":{\"outlinewidth\":0,\"tickcolor\":\"rgb(237,237,237)\",\"ticklen\":6,\"ticks\":\"inside\"}},\"type\":\"scatterpolar\"}],\"scatterpolargl\":[{\"marker\":{\"colorbar\":{\"outlinewidth\":0,\"tickcolor\":\"rgb(237,237,237)\",\"ticklen\":6,\"ticks\":\"inside\"}},\"type\":\"scatterpolargl\"}],\"scatterternary\":[{\"marker\":{\"colorbar\":{\"outlinewidth\":0,\"tickcolor\":\"rgb(237,237,237)\",\"ticklen\":6,\"ticks\":\"inside\"}},\"type\":\"scatterternary\"}],\"surface\":[{\"colorbar\":{\"outlinewidth\":0,\"tickcolor\":\"rgb(237,237,237)\",\"ticklen\":6,\"ticks\":\"inside\"},\"colorscale\":[[0,\"rgb(20,44,66)\"],[1,\"rgb(90,179,244)\"]],\"type\":\"surface\"}],\"table\":[{\"cells\":{\"fill\":{\"color\":\"rgb(237,237,237)\"},\"line\":{\"color\":\"white\"}},\"header\":{\"fill\":{\"color\":\"rgb(217,217,217)\"},\"line\":{\"color\":\"white\"}},\"type\":\"table\"}]},\"layout\":{\"annotationdefaults\":{\"arrowhead\":0,\"arrowwidth\":1},\"autotypenumbers\":\"strict\",\"coloraxis\":{\"colorbar\":{\"outlinewidth\":0,\"tickcolor\":\"rgb(237,237,237)\",\"ticklen\":6,\"ticks\":\"inside\"}},\"colorscale\":{\"sequential\":[[0,\"rgb(20,44,66)\"],[1,\"rgb(90,179,244)\"]],\"sequentialminus\":[[0,\"rgb(20,44,66)\"],[1,\"rgb(90,179,244)\"]]},\"colorway\":[\"#F8766D\",\"#A3A500\",\"#00BF7D\",\"#00B0F6\",\"#E76BF3\"],\"font\":{\"color\":\"rgb(51,51,51)\"},\"geo\":{\"bgcolor\":\"white\",\"lakecolor\":\"white\",\"landcolor\":\"rgb(237,237,237)\",\"showlakes\":true,\"showland\":true,\"subunitcolor\":\"white\"},\"hoverlabel\":{\"align\":\"left\"},\"hovermode\":\"closest\",\"paper_bgcolor\":\"white\",\"plot_bgcolor\":\"rgb(237,237,237)\",\"polar\":{\"angularaxis\":{\"gridcolor\":\"white\",\"linecolor\":\"white\",\"showgrid\":true,\"tickcolor\":\"rgb(51,51,51)\",\"ticks\":\"outside\"},\"bgcolor\":\"rgb(237,237,237)\",\"radialaxis\":{\"gridcolor\":\"white\",\"linecolor\":\"white\",\"showgrid\":true,\"tickcolor\":\"rgb(51,51,51)\",\"ticks\":\"outside\"}},\"scene\":{\"xaxis\":{\"backgroundcolor\":\"rgb(237,237,237)\",\"gridcolor\":\"white\",\"gridwidth\":2,\"linecolor\":\"white\",\"showbackground\":true,\"showgrid\":true,\"tickcolor\":\"rgb(51,51,51)\",\"ticks\":\"outside\",\"zerolinecolor\":\"white\"},\"yaxis\":{\"backgroundcolor\":\"rgb(237,237,237)\",\"gridcolor\":\"white\",\"gridwidth\":2,\"linecolor\":\"white\",\"showbackground\":true,\"showgrid\":true,\"tickcolor\":\"rgb(51,51,51)\",\"ticks\":\"outside\",\"zerolinecolor\":\"white\"},\"zaxis\":{\"backgroundcolor\":\"rgb(237,237,237)\",\"gridcolor\":\"white\",\"gridwidth\":2,\"linecolor\":\"white\",\"showbackground\":true,\"showgrid\":true,\"tickcolor\":\"rgb(51,51,51)\",\"ticks\":\"outside\",\"zerolinecolor\":\"white\"}},\"shapedefaults\":{\"fillcolor\":\"black\",\"line\":{\"width\":0},\"opacity\":0.3},\"ternary\":{\"aaxis\":{\"gridcolor\":\"white\",\"linecolor\":\"white\",\"showgrid\":true,\"tickcolor\":\"rgb(51,51,51)\",\"ticks\":\"outside\"},\"baxis\":{\"gridcolor\":\"white\",\"linecolor\":\"white\",\"showgrid\":true,\"tickcolor\":\"rgb(51,51,51)\",\"ticks\":\"outside\"},\"bgcolor\":\"rgb(237,237,237)\",\"caxis\":{\"gridcolor\":\"white\",\"linecolor\":\"white\",\"showgrid\":true,\"tickcolor\":\"rgb(51,51,51)\",\"ticks\":\"outside\"}},\"xaxis\":{\"automargin\":true,\"gridcolor\":\"white\",\"linecolor\":\"white\",\"showgrid\":true,\"tickcolor\":\"rgb(51,51,51)\",\"ticks\":\"outside\",\"title\":{\"standoff\":15},\"zerolinecolor\":\"white\"},\"yaxis\":{\"automargin\":true,\"gridcolor\":\"white\",\"linecolor\":\"white\",\"showgrid\":true,\"tickcolor\":\"rgb(51,51,51)\",\"ticks\":\"outside\",\"title\":{\"standoff\":15},\"zerolinecolor\":\"white\"}}},\"title\":{\"text\":\"Model: Random Forest, f1_score: 0.9\"}},                        {\"responsive\": true}                    ).then(function(){\n                            \nvar gd = document.getElementById('f2eafe4b-f543-4af3-b3ec-e6265d297b80');\nvar x = new MutationObserver(function (mutations, observer) {{\n        var display = window.getComputedStyle(gd).display;\n        if (!display || display === 'none') {{\n            console.log([gd, 'removed!']);\n            Plotly.purge(gd);\n            observer.disconnect();\n        }}\n}});\n\n// Listen for the removal of the full notebook cells\nvar notebookContainer = gd.closest('#notebook-container');\nif (notebookContainer) {{\n    x.observe(notebookContainer, {childList: true});\n}}\n\n// Listen for the clearing of the current output cell\nvar outputEl = gd.closest('.output');\nif (outputEl) {{\n    x.observe(outputEl, {childList: true});\n}}\n\n                        })                };                });            </script>        </div>"
     },
     "metadata": {},
     "output_type": "display_data"
    },
    {
     "data": {
      "application/vnd.plotly.v1+json": {
       "config": {
        "plotlyServerURL": "https://plot.ly"
       },
       "data": [
        {
         "hovertemplate": "x=%{x}<br>y=%{y}<br>z=%{z}<br>color=%{marker.color}<extra></extra>",
         "legendgroup": "",
         "marker": {
          "color": [
           0,
           0,
           0,
           2,
           1,
           2,
           2,
           2,
           0,
           1,
           2,
           2,
           0,
           0,
           2,
           1,
           0,
           1,
           1,
           0,
           2,
           2,
           0,
           1,
           1,
           1,
           2,
           0,
           0,
           2,
           2,
           1,
           1,
           0,
           1,
           1,
           1,
           2,
           2,
           0,
           1,
           2,
           1,
           1,
           1,
           2,
           2,
           2,
           2,
           2,
           2,
           2,
           0,
           0,
           0,
           1,
           0,
           1,
           0,
           2,
           2,
           2,
           0,
           2,
           2,
           0,
           2,
           0,
           0,
           1,
           0,
           2,
           1,
           2,
           0,
           2,
           2,
           1,
           2,
           2,
           2,
           2,
           2,
           0
          ],
          "coloraxis": "coloraxis",
          "symbol": "circle"
         },
         "mode": "markers",
         "name": "",
         "scene": "scene",
         "showlegend": false,
         "type": "scatter3d",
         "x": [
          -5579.132853986817,
          -2229.8757219663726,
          -1809.0442575678576,
          113.45721217840564,
          -1144.7145584188972,
          1278.4838844168269,
          1788.2607840751991,
          2174.9294040785985,
          -6171.281759059223,
          -1628.6467141622322,
          -1564.4155427410008,
          12709.006352249398,
          -1368.8502108186312,
          -4862.533193830912,
          8549.651301643367,
          1741.365660477752,
          -5249.612308482715,
          6392.441532499017,
          -1227.2696937622486,
          -3103.5475392736926,
          521.9155042513878,
          2561.8629757906597,
          -7672.081119281198,
          -1779.4457995132702,
          -3780.2685392311014,
          -8203.160062495805,
          -345.08890920506394,
          -3357.1075758567194,
          -6825.21574087193,
          7960.411395013959,
          3718.2371702844894,
          2292.273321529909,
          3886.413009914218,
          -5292.282291154736,
          -266.6762371215055,
          -628.976315434508,
          2957.9549873057667,
          -439.8648794192993,
          4745.5787517286435,
          -6587.499577855115,
          -1402.3480626481462,
          4289.494231316581,
          5707.976234644557,
          -1103.278124498467,
          2244.042209217642,
          3792.881707193988,
          -4230.539776367649,
          -1318.2787050847583,
          70.23456512676256,
          6509.702425577635,
          -1524.712718101601,
          2197.260544358018,
          -2855.923566995219,
          -6847.741660861886,
          -2663.382157689846,
          34.91189749179737,
          -5495.391104739687,
          8493.193903390462,
          -4808.5012595958515,
          3174.3295059610846,
          827.7991144171154,
          3767.063424101913,
          -6424.141720342581,
          2561.657874494515,
          830.7537561772019,
          -7180.571578081321,
          4699.139388615814,
          -1980.642521616638,
          -4940.442324454727,
          192.34584436151673,
          -6032.342760200403,
          6824.2765685652685,
          -1548.2734324186865,
          -2547.039390123248,
          -4022.2076232250392,
          -43.27658866422988,
          -1065.9354698322802,
          -828.6601871129033,
          125.3482679654763,
          9957.809368522658,
          10981.789991204569,
          -305.66701276656994,
          10940.354499140021,
          -1328.7194223494487
         ],
         "y": [
          276.0301569445654,
          2426.297792302829,
          159.47907090175858,
          -2553.5211399242057,
          -330.33569003005186,
          3952.2743979187267,
          -1675.928023110469,
          1231.976137217722,
          315.76038744211337,
          -952.15337371189,
          1597.7824618314285,
          3280.944142325782,
          385.6298968087615,
          -42.14023567240143,
          -781.5673406755553,
          -1150.0460433829453,
          2047.2513724091564,
          -3920.797643231349,
          -966.6750512646377,
          -48.221229523285736,
          -665.7660057499457,
          188.00806001339336,
          720.0950313673457,
          -963.9153273699249,
          159.97634931827753,
          1379.4265352951888,
          533.9921681036606,
          -342.8849717439503,
          438.5008543011073,
          734.692331095641,
          -3908.016867907628,
          129.55828094580616,
          3745.6608024251677,
          -941.3463650627187,
          -1343.6902834270793,
          -536.6130964282396,
          -3625.089525895901,
          2011.0813751302767,
          -604.8871682271123,
          621.6930855923752,
          -1066.5807168811214,
          -1062.8452350256114,
          507.832854223479,
          -1462.6554377475306,
          -1138.1208484602116,
          -3076.5195056321236,
          3845.3642278449256,
          -2249.352052761414,
          1096.7826986302775,
          -1860.1756281683413,
          -1639.4656321404625,
          1954.9378354378036,
          -1219.1056553788724,
          1049.1775441233465,
          -160.63230777658586,
          -2093.380736971014,
          1506.7707401769323,
          2600.969952580607,
          938.4615749486953,
          4559.320535521743,
          -1149.4740407069382,
          -2862.8251489475138,
          761.2477435903489,
          2105.788226633959,
          -222.91957406366353,
          1833.3663743987631,
          -1879.7162643024396,
          2100.7583158979246,
          338.88815883347127,
          1419.393926100214,
          415.54253599358793,
          -5741.03569033289,
          -963.8270942226214,
          319.1002783192363,
          355.644451664375,
          -2356.854148732459,
          -2922.587505229138,
          -836.9506659814227,
          204.87817927713974,
          1166.2998452661545,
          6132.4148896157185,
          -4464.3180240107195,
          3676.979426467898,
          556.9062905746221
         ],
         "z": [
          136.8524778338577,
          617.770199087728,
          1183.6663573838046,
          1445.7237259072604,
          -52.022627105282844,
          414.0034128826256,
          -516.2848626180054,
          -286.3452019557255,
          -196.3405420502074,
          -548.7078463682406,
          -611.5097913149563,
          215.11519750857752,
          -986.8006519910919,
          -12.115214828643147,
          -1344.2514655520974,
          450.49641798088317,
          -455.36419021284013,
          -108.96279774335012,
          151.69382358426157,
          -990.1704804700572,
          -2711.223472866454,
          2607.480652876502,
          305.60250401840165,
          1614.030294283185,
          344.6888494384717,
          133.6399923747495,
          524.6084013476514,
          209.7459935858816,
          466.13392987597587,
          -4278.208016367656,
          1918.7245265048625,
          -2121.3074037793226,
          725.2900626147814,
          1217.3394898379638,
          729.252337219906,
          -321.73091807841155,
          600.1996002786635,
          -696.9182561667827,
          -643.6079109777902,
          82.94233051449037,
          -85.59979003716859,
          -2767.520721660875,
          -970.0520191107089,
          1060.6630359640287,
          814.5669143879052,
          2508.648466579874,
          -157.47900355214003,
          1270.1729846987982,
          -102.80537175628494,
          -1360.7417865349607,
          -594.1938515813534,
          1554.127079256898,
          310.27407674989763,
          -419.6587925582127,
          -408.93702520257796,
          1355.5685760443505,
          -1234.4584187510234,
          -3940.151574085118,
          371.1741860106026,
          1152.365720346137,
          89.16535137757899,
          -955.538086346085,
          170.43678230689014,
          459.4504650362092,
          175.46829116509167,
          -428.2287369264296,
          -1165.0932499692763,
          -1665.7154650790455,
          1040.730822280553,
          1417.0458988232008,
          120.15676645870113,
          -347.26081492193504,
          118.02318958750516,
          -2511.1467707793504,
          -380.7908445672828,
          -1287.9682530873145,
          640.8130065088261,
          -181.13058069295977,
          -621.1954330056697,
          5421.798171381167,
          2639.1373678735945,
          439.2683293113053,
          82.81768355098102,
          -839.3355019879954
         ]
        }
       ],
       "layout": {
        "coloraxis": {
         "colorbar": {
          "title": {
           "text": "color"
          }
         },
         "colorscale": [
          [
           0.0,
           "rgb(136, 204, 238)"
          ],
          [
           0.1,
           "rgb(204, 102, 119)"
          ],
          [
           0.2,
           "rgb(221, 204, 119)"
          ],
          [
           0.3,
           "rgb(17, 119, 51)"
          ],
          [
           0.4,
           "rgb(51, 34, 136)"
          ],
          [
           0.5,
           "rgb(170, 68, 153)"
          ],
          [
           0.6,
           "rgb(68, 170, 153)"
          ],
          [
           0.7,
           "rgb(153, 153, 51)"
          ],
          [
           0.8,
           "rgb(136, 34, 85)"
          ],
          [
           0.9,
           "rgb(102, 17, 0)"
          ],
          [
           1.0,
           "rgb(136, 136, 136)"
          ]
         ],
         "showscale": false
        },
        "legend": {
         "tracegroupgap": 0
        },
        "scene": {
         "domain": {
          "x": [
           0.0,
           1.0
          ],
          "y": [
           0.0,
           1.0
          ]
         },
         "xaxis": {
          "title": {
           "text": "x"
          }
         },
         "yaxis": {
          "title": {
           "text": "y"
          }
         },
         "zaxis": {
          "title": {
           "text": "z"
          }
         }
        },
        "template": {
         "data": {
          "bar": [
           {
            "error_x": {
             "color": "rgb(51,51,51)"
            },
            "error_y": {
             "color": "rgb(51,51,51)"
            },
            "marker": {
             "line": {
              "color": "rgb(237,237,237)",
              "width": 0.5
             },
             "pattern": {
              "fillmode": "overlay",
              "size": 10,
              "solidity": 0.2
             }
            },
            "type": "bar"
           }
          ],
          "barpolar": [
           {
            "marker": {
             "line": {
              "color": "rgb(237,237,237)",
              "width": 0.5
             },
             "pattern": {
              "fillmode": "overlay",
              "size": 10,
              "solidity": 0.2
             }
            },
            "type": "barpolar"
           }
          ],
          "carpet": [
           {
            "aaxis": {
             "endlinecolor": "rgb(51,51,51)",
             "gridcolor": "white",
             "linecolor": "white",
             "minorgridcolor": "white",
             "startlinecolor": "rgb(51,51,51)"
            },
            "baxis": {
             "endlinecolor": "rgb(51,51,51)",
             "gridcolor": "white",
             "linecolor": "white",
             "minorgridcolor": "white",
             "startlinecolor": "rgb(51,51,51)"
            },
            "type": "carpet"
           }
          ],
          "choropleth": [
           {
            "colorbar": {
             "outlinewidth": 0,
             "tickcolor": "rgb(237,237,237)",
             "ticklen": 6,
             "ticks": "inside"
            },
            "type": "choropleth"
           }
          ],
          "contour": [
           {
            "colorbar": {
             "outlinewidth": 0,
             "tickcolor": "rgb(237,237,237)",
             "ticklen": 6,
             "ticks": "inside"
            },
            "colorscale": [
             [
              0,
              "rgb(20,44,66)"
             ],
             [
              1,
              "rgb(90,179,244)"
             ]
            ],
            "type": "contour"
           }
          ],
          "contourcarpet": [
           {
            "colorbar": {
             "outlinewidth": 0,
             "tickcolor": "rgb(237,237,237)",
             "ticklen": 6,
             "ticks": "inside"
            },
            "type": "contourcarpet"
           }
          ],
          "heatmap": [
           {
            "colorbar": {
             "outlinewidth": 0,
             "tickcolor": "rgb(237,237,237)",
             "ticklen": 6,
             "ticks": "inside"
            },
            "colorscale": [
             [
              0,
              "rgb(20,44,66)"
             ],
             [
              1,
              "rgb(90,179,244)"
             ]
            ],
            "type": "heatmap"
           }
          ],
          "heatmapgl": [
           {
            "colorbar": {
             "outlinewidth": 0,
             "tickcolor": "rgb(237,237,237)",
             "ticklen": 6,
             "ticks": "inside"
            },
            "colorscale": [
             [
              0,
              "rgb(20,44,66)"
             ],
             [
              1,
              "rgb(90,179,244)"
             ]
            ],
            "type": "heatmapgl"
           }
          ],
          "histogram": [
           {
            "marker": {
             "pattern": {
              "fillmode": "overlay",
              "size": 10,
              "solidity": 0.2
             }
            },
            "type": "histogram"
           }
          ],
          "histogram2d": [
           {
            "colorbar": {
             "outlinewidth": 0,
             "tickcolor": "rgb(237,237,237)",
             "ticklen": 6,
             "ticks": "inside"
            },
            "colorscale": [
             [
              0,
              "rgb(20,44,66)"
             ],
             [
              1,
              "rgb(90,179,244)"
             ]
            ],
            "type": "histogram2d"
           }
          ],
          "histogram2dcontour": [
           {
            "colorbar": {
             "outlinewidth": 0,
             "tickcolor": "rgb(237,237,237)",
             "ticklen": 6,
             "ticks": "inside"
            },
            "colorscale": [
             [
              0,
              "rgb(20,44,66)"
             ],
             [
              1,
              "rgb(90,179,244)"
             ]
            ],
            "type": "histogram2dcontour"
           }
          ],
          "mesh3d": [
           {
            "colorbar": {
             "outlinewidth": 0,
             "tickcolor": "rgb(237,237,237)",
             "ticklen": 6,
             "ticks": "inside"
            },
            "type": "mesh3d"
           }
          ],
          "parcoords": [
           {
            "line": {
             "colorbar": {
              "outlinewidth": 0,
              "tickcolor": "rgb(237,237,237)",
              "ticklen": 6,
              "ticks": "inside"
             }
            },
            "type": "parcoords"
           }
          ],
          "pie": [
           {
            "automargin": true,
            "type": "pie"
           }
          ],
          "scatter": [
           {
            "marker": {
             "colorbar": {
              "outlinewidth": 0,
              "tickcolor": "rgb(237,237,237)",
              "ticklen": 6,
              "ticks": "inside"
             }
            },
            "type": "scatter"
           }
          ],
          "scatter3d": [
           {
            "line": {
             "colorbar": {
              "outlinewidth": 0,
              "tickcolor": "rgb(237,237,237)",
              "ticklen": 6,
              "ticks": "inside"
             }
            },
            "marker": {
             "colorbar": {
              "outlinewidth": 0,
              "tickcolor": "rgb(237,237,237)",
              "ticklen": 6,
              "ticks": "inside"
             }
            },
            "type": "scatter3d"
           }
          ],
          "scattercarpet": [
           {
            "marker": {
             "colorbar": {
              "outlinewidth": 0,
              "tickcolor": "rgb(237,237,237)",
              "ticklen": 6,
              "ticks": "inside"
             }
            },
            "type": "scattercarpet"
           }
          ],
          "scattergeo": [
           {
            "marker": {
             "colorbar": {
              "outlinewidth": 0,
              "tickcolor": "rgb(237,237,237)",
              "ticklen": 6,
              "ticks": "inside"
             }
            },
            "type": "scattergeo"
           }
          ],
          "scattergl": [
           {
            "marker": {
             "colorbar": {
              "outlinewidth": 0,
              "tickcolor": "rgb(237,237,237)",
              "ticklen": 6,
              "ticks": "inside"
             }
            },
            "type": "scattergl"
           }
          ],
          "scattermapbox": [
           {
            "marker": {
             "colorbar": {
              "outlinewidth": 0,
              "tickcolor": "rgb(237,237,237)",
              "ticklen": 6,
              "ticks": "inside"
             }
            },
            "type": "scattermapbox"
           }
          ],
          "scatterpolar": [
           {
            "marker": {
             "colorbar": {
              "outlinewidth": 0,
              "tickcolor": "rgb(237,237,237)",
              "ticklen": 6,
              "ticks": "inside"
             }
            },
            "type": "scatterpolar"
           }
          ],
          "scatterpolargl": [
           {
            "marker": {
             "colorbar": {
              "outlinewidth": 0,
              "tickcolor": "rgb(237,237,237)",
              "ticklen": 6,
              "ticks": "inside"
             }
            },
            "type": "scatterpolargl"
           }
          ],
          "scatterternary": [
           {
            "marker": {
             "colorbar": {
              "outlinewidth": 0,
              "tickcolor": "rgb(237,237,237)",
              "ticklen": 6,
              "ticks": "inside"
             }
            },
            "type": "scatterternary"
           }
          ],
          "surface": [
           {
            "colorbar": {
             "outlinewidth": 0,
             "tickcolor": "rgb(237,237,237)",
             "ticklen": 6,
             "ticks": "inside"
            },
            "colorscale": [
             [
              0,
              "rgb(20,44,66)"
             ],
             [
              1,
              "rgb(90,179,244)"
             ]
            ],
            "type": "surface"
           }
          ],
          "table": [
           {
            "cells": {
             "fill": {
              "color": "rgb(237,237,237)"
             },
             "line": {
              "color": "white"
             }
            },
            "header": {
             "fill": {
              "color": "rgb(217,217,217)"
             },
             "line": {
              "color": "white"
             }
            },
            "type": "table"
           }
          ]
         },
         "layout": {
          "annotationdefaults": {
           "arrowhead": 0,
           "arrowwidth": 1
          },
          "autotypenumbers": "strict",
          "coloraxis": {
           "colorbar": {
            "outlinewidth": 0,
            "tickcolor": "rgb(237,237,237)",
            "ticklen": 6,
            "ticks": "inside"
           }
          },
          "colorscale": {
           "sequential": [
            [
             0,
             "rgb(20,44,66)"
            ],
            [
             1,
             "rgb(90,179,244)"
            ]
           ],
           "sequentialminus": [
            [
             0,
             "rgb(20,44,66)"
            ],
            [
             1,
             "rgb(90,179,244)"
            ]
           ]
          },
          "colorway": [
           "#F8766D",
           "#A3A500",
           "#00BF7D",
           "#00B0F6",
           "#E76BF3"
          ],
          "font": {
           "color": "rgb(51,51,51)"
          },
          "geo": {
           "bgcolor": "white",
           "lakecolor": "white",
           "landcolor": "rgb(237,237,237)",
           "showlakes": true,
           "showland": true,
           "subunitcolor": "white"
          },
          "hoverlabel": {
           "align": "left"
          },
          "hovermode": "closest",
          "paper_bgcolor": "white",
          "plot_bgcolor": "rgb(237,237,237)",
          "polar": {
           "angularaxis": {
            "gridcolor": "white",
            "linecolor": "white",
            "showgrid": true,
            "tickcolor": "rgb(51,51,51)",
            "ticks": "outside"
           },
           "bgcolor": "rgb(237,237,237)",
           "radialaxis": {
            "gridcolor": "white",
            "linecolor": "white",
            "showgrid": true,
            "tickcolor": "rgb(51,51,51)",
            "ticks": "outside"
           }
          },
          "scene": {
           "xaxis": {
            "backgroundcolor": "rgb(237,237,237)",
            "gridcolor": "white",
            "gridwidth": 2,
            "linecolor": "white",
            "showbackground": true,
            "showgrid": true,
            "tickcolor": "rgb(51,51,51)",
            "ticks": "outside",
            "zerolinecolor": "white"
           },
           "yaxis": {
            "backgroundcolor": "rgb(237,237,237)",
            "gridcolor": "white",
            "gridwidth": 2,
            "linecolor": "white",
            "showbackground": true,
            "showgrid": true,
            "tickcolor": "rgb(51,51,51)",
            "ticks": "outside",
            "zerolinecolor": "white"
           },
           "zaxis": {
            "backgroundcolor": "rgb(237,237,237)",
            "gridcolor": "white",
            "gridwidth": 2,
            "linecolor": "white",
            "showbackground": true,
            "showgrid": true,
            "tickcolor": "rgb(51,51,51)",
            "ticks": "outside",
            "zerolinecolor": "white"
           }
          },
          "shapedefaults": {
           "fillcolor": "black",
           "line": {
            "width": 0
           },
           "opacity": 0.3
          },
          "ternary": {
           "aaxis": {
            "gridcolor": "white",
            "linecolor": "white",
            "showgrid": true,
            "tickcolor": "rgb(51,51,51)",
            "ticks": "outside"
           },
           "baxis": {
            "gridcolor": "white",
            "linecolor": "white",
            "showgrid": true,
            "tickcolor": "rgb(51,51,51)",
            "ticks": "outside"
           },
           "bgcolor": "rgb(237,237,237)",
           "caxis": {
            "gridcolor": "white",
            "linecolor": "white",
            "showgrid": true,
            "tickcolor": "rgb(51,51,51)",
            "ticks": "outside"
           }
          },
          "xaxis": {
           "automargin": true,
           "gridcolor": "white",
           "linecolor": "white",
           "showgrid": true,
           "tickcolor": "rgb(51,51,51)",
           "ticks": "outside",
           "title": {
            "standoff": 15
           },
           "zerolinecolor": "white"
          },
          "yaxis": {
           "automargin": true,
           "gridcolor": "white",
           "linecolor": "white",
           "showgrid": true,
           "tickcolor": "rgb(51,51,51)",
           "ticks": "outside",
           "title": {
            "standoff": 15
           },
           "zerolinecolor": "white"
          }
         }
        },
        "title": {
         "text": "Model: Naive Bayes, f1_score: 0.63"
        }
       }
      },
      "text/html": "<div>                            <div id=\"6843fc8e-0cbb-4945-8552-f49529e06676\" class=\"plotly-graph-div\" style=\"height:525px; width:100%;\"></div>            <script type=\"text/javascript\">                require([\"plotly\"], function(Plotly) {                    window.PLOTLYENV=window.PLOTLYENV || {};                                    if (document.getElementById(\"6843fc8e-0cbb-4945-8552-f49529e06676\")) {                    Plotly.newPlot(                        \"6843fc8e-0cbb-4945-8552-f49529e06676\",                        [{\"hovertemplate\":\"x=%{x}<br>y=%{y}<br>z=%{z}<br>color=%{marker.color}<extra></extra>\",\"legendgroup\":\"\",\"marker\":{\"color\":[0,0,0,2,1,2,2,2,0,1,2,2,0,0,2,1,0,1,1,0,2,2,0,1,1,1,2,0,0,2,2,1,1,0,1,1,1,2,2,0,1,2,1,1,1,2,2,2,2,2,2,2,0,0,0,1,0,1,0,2,2,2,0,2,2,0,2,0,0,1,0,2,1,2,0,2,2,1,2,2,2,2,2,0],\"coloraxis\":\"coloraxis\",\"symbol\":\"circle\"},\"mode\":\"markers\",\"name\":\"\",\"scene\":\"scene\",\"showlegend\":false,\"type\":\"scatter3d\",\"x\":[-5579.132853986817,-2229.8757219663726,-1809.0442575678576,113.45721217840564,-1144.7145584188972,1278.4838844168269,1788.2607840751991,2174.9294040785985,-6171.281759059223,-1628.6467141622322,-1564.4155427410008,12709.006352249398,-1368.8502108186312,-4862.533193830912,8549.651301643367,1741.365660477752,-5249.612308482715,6392.441532499017,-1227.2696937622486,-3103.5475392736926,521.9155042513878,2561.8629757906597,-7672.081119281198,-1779.4457995132702,-3780.2685392311014,-8203.160062495805,-345.08890920506394,-3357.1075758567194,-6825.21574087193,7960.411395013959,3718.2371702844894,2292.273321529909,3886.413009914218,-5292.282291154736,-266.6762371215055,-628.976315434508,2957.9549873057667,-439.8648794192993,4745.5787517286435,-6587.499577855115,-1402.3480626481462,4289.494231316581,5707.976234644557,-1103.278124498467,2244.042209217642,3792.881707193988,-4230.539776367649,-1318.2787050847583,70.23456512676256,6509.702425577635,-1524.712718101601,2197.260544358018,-2855.923566995219,-6847.741660861886,-2663.382157689846,34.91189749179737,-5495.391104739687,8493.193903390462,-4808.5012595958515,3174.3295059610846,827.7991144171154,3767.063424101913,-6424.141720342581,2561.657874494515,830.7537561772019,-7180.571578081321,4699.139388615814,-1980.642521616638,-4940.442324454727,192.34584436151673,-6032.342760200403,6824.2765685652685,-1548.2734324186865,-2547.039390123248,-4022.2076232250392,-43.27658866422988,-1065.9354698322802,-828.6601871129033,125.3482679654763,9957.809368522658,10981.789991204569,-305.66701276656994,10940.354499140021,-1328.7194223494487],\"y\":[276.0301569445654,2426.297792302829,159.47907090175858,-2553.5211399242057,-330.33569003005186,3952.2743979187267,-1675.928023110469,1231.976137217722,315.76038744211337,-952.15337371189,1597.7824618314285,3280.944142325782,385.6298968087615,-42.14023567240143,-781.5673406755553,-1150.0460433829453,2047.2513724091564,-3920.797643231349,-966.6750512646377,-48.221229523285736,-665.7660057499457,188.00806001339336,720.0950313673457,-963.9153273699249,159.97634931827753,1379.4265352951888,533.9921681036606,-342.8849717439503,438.5008543011073,734.692331095641,-3908.016867907628,129.55828094580616,3745.6608024251677,-941.3463650627187,-1343.6902834270793,-536.6130964282396,-3625.089525895901,2011.0813751302767,-604.8871682271123,621.6930855923752,-1066.5807168811214,-1062.8452350256114,507.832854223479,-1462.6554377475306,-1138.1208484602116,-3076.5195056321236,3845.3642278449256,-2249.352052761414,1096.7826986302775,-1860.1756281683413,-1639.4656321404625,1954.9378354378036,-1219.1056553788724,1049.1775441233465,-160.63230777658586,-2093.380736971014,1506.7707401769323,2600.969952580607,938.4615749486953,4559.320535521743,-1149.4740407069382,-2862.8251489475138,761.2477435903489,2105.788226633959,-222.91957406366353,1833.3663743987631,-1879.7162643024396,2100.7583158979246,338.88815883347127,1419.393926100214,415.54253599358793,-5741.03569033289,-963.8270942226214,319.1002783192363,355.644451664375,-2356.854148732459,-2922.587505229138,-836.9506659814227,204.87817927713974,1166.2998452661545,6132.4148896157185,-4464.3180240107195,3676.979426467898,556.9062905746221],\"z\":[136.8524778338577,617.770199087728,1183.6663573838046,1445.7237259072604,-52.022627105282844,414.0034128826256,-516.2848626180054,-286.3452019557255,-196.3405420502074,-548.7078463682406,-611.5097913149563,215.11519750857752,-986.8006519910919,-12.115214828643147,-1344.2514655520974,450.49641798088317,-455.36419021284013,-108.96279774335012,151.69382358426157,-990.1704804700572,-2711.223472866454,2607.480652876502,305.60250401840165,1614.030294283185,344.6888494384717,133.6399923747495,524.6084013476514,209.7459935858816,466.13392987597587,-4278.208016367656,1918.7245265048625,-2121.3074037793226,725.2900626147814,1217.3394898379638,729.252337219906,-321.73091807841155,600.1996002786635,-696.9182561667827,-643.6079109777902,82.94233051449037,-85.59979003716859,-2767.520721660875,-970.0520191107089,1060.6630359640287,814.5669143879052,2508.648466579874,-157.47900355214003,1270.1729846987982,-102.80537175628494,-1360.7417865349607,-594.1938515813534,1554.127079256898,310.27407674989763,-419.6587925582127,-408.93702520257796,1355.5685760443505,-1234.4584187510234,-3940.151574085118,371.1741860106026,1152.365720346137,89.16535137757899,-955.538086346085,170.43678230689014,459.4504650362092,175.46829116509167,-428.2287369264296,-1165.0932499692763,-1665.7154650790455,1040.730822280553,1417.0458988232008,120.15676645870113,-347.26081492193504,118.02318958750516,-2511.1467707793504,-380.7908445672828,-1287.9682530873145,640.8130065088261,-181.13058069295977,-621.1954330056697,5421.798171381167,2639.1373678735945,439.2683293113053,82.81768355098102,-839.3355019879954]}],                        {\"coloraxis\":{\"colorbar\":{\"title\":{\"text\":\"color\"}},\"colorscale\":[[0.0,\"rgb(136, 204, 238)\"],[0.1,\"rgb(204, 102, 119)\"],[0.2,\"rgb(221, 204, 119)\"],[0.3,\"rgb(17, 119, 51)\"],[0.4,\"rgb(51, 34, 136)\"],[0.5,\"rgb(170, 68, 153)\"],[0.6,\"rgb(68, 170, 153)\"],[0.7,\"rgb(153, 153, 51)\"],[0.8,\"rgb(136, 34, 85)\"],[0.9,\"rgb(102, 17, 0)\"],[1.0,\"rgb(136, 136, 136)\"]],\"showscale\":false},\"legend\":{\"tracegroupgap\":0},\"scene\":{\"domain\":{\"x\":[0.0,1.0],\"y\":[0.0,1.0]},\"xaxis\":{\"title\":{\"text\":\"x\"}},\"yaxis\":{\"title\":{\"text\":\"y\"}},\"zaxis\":{\"title\":{\"text\":\"z\"}}},\"template\":{\"data\":{\"bar\":[{\"error_x\":{\"color\":\"rgb(51,51,51)\"},\"error_y\":{\"color\":\"rgb(51,51,51)\"},\"marker\":{\"line\":{\"color\":\"rgb(237,237,237)\",\"width\":0.5},\"pattern\":{\"fillmode\":\"overlay\",\"size\":10,\"solidity\":0.2}},\"type\":\"bar\"}],\"barpolar\":[{\"marker\":{\"line\":{\"color\":\"rgb(237,237,237)\",\"width\":0.5},\"pattern\":{\"fillmode\":\"overlay\",\"size\":10,\"solidity\":0.2}},\"type\":\"barpolar\"}],\"carpet\":[{\"aaxis\":{\"endlinecolor\":\"rgb(51,51,51)\",\"gridcolor\":\"white\",\"linecolor\":\"white\",\"minorgridcolor\":\"white\",\"startlinecolor\":\"rgb(51,51,51)\"},\"baxis\":{\"endlinecolor\":\"rgb(51,51,51)\",\"gridcolor\":\"white\",\"linecolor\":\"white\",\"minorgridcolor\":\"white\",\"startlinecolor\":\"rgb(51,51,51)\"},\"type\":\"carpet\"}],\"choropleth\":[{\"colorbar\":{\"outlinewidth\":0,\"tickcolor\":\"rgb(237,237,237)\",\"ticklen\":6,\"ticks\":\"inside\"},\"type\":\"choropleth\"}],\"contour\":[{\"colorbar\":{\"outlinewidth\":0,\"tickcolor\":\"rgb(237,237,237)\",\"ticklen\":6,\"ticks\":\"inside\"},\"colorscale\":[[0,\"rgb(20,44,66)\"],[1,\"rgb(90,179,244)\"]],\"type\":\"contour\"}],\"contourcarpet\":[{\"colorbar\":{\"outlinewidth\":0,\"tickcolor\":\"rgb(237,237,237)\",\"ticklen\":6,\"ticks\":\"inside\"},\"type\":\"contourcarpet\"}],\"heatmap\":[{\"colorbar\":{\"outlinewidth\":0,\"tickcolor\":\"rgb(237,237,237)\",\"ticklen\":6,\"ticks\":\"inside\"},\"colorscale\":[[0,\"rgb(20,44,66)\"],[1,\"rgb(90,179,244)\"]],\"type\":\"heatmap\"}],\"heatmapgl\":[{\"colorbar\":{\"outlinewidth\":0,\"tickcolor\":\"rgb(237,237,237)\",\"ticklen\":6,\"ticks\":\"inside\"},\"colorscale\":[[0,\"rgb(20,44,66)\"],[1,\"rgb(90,179,244)\"]],\"type\":\"heatmapgl\"}],\"histogram\":[{\"marker\":{\"pattern\":{\"fillmode\":\"overlay\",\"size\":10,\"solidity\":0.2}},\"type\":\"histogram\"}],\"histogram2d\":[{\"colorbar\":{\"outlinewidth\":0,\"tickcolor\":\"rgb(237,237,237)\",\"ticklen\":6,\"ticks\":\"inside\"},\"colorscale\":[[0,\"rgb(20,44,66)\"],[1,\"rgb(90,179,244)\"]],\"type\":\"histogram2d\"}],\"histogram2dcontour\":[{\"colorbar\":{\"outlinewidth\":0,\"tickcolor\":\"rgb(237,237,237)\",\"ticklen\":6,\"ticks\":\"inside\"},\"colorscale\":[[0,\"rgb(20,44,66)\"],[1,\"rgb(90,179,244)\"]],\"type\":\"histogram2dcontour\"}],\"mesh3d\":[{\"colorbar\":{\"outlinewidth\":0,\"tickcolor\":\"rgb(237,237,237)\",\"ticklen\":6,\"ticks\":\"inside\"},\"type\":\"mesh3d\"}],\"parcoords\":[{\"line\":{\"colorbar\":{\"outlinewidth\":0,\"tickcolor\":\"rgb(237,237,237)\",\"ticklen\":6,\"ticks\":\"inside\"}},\"type\":\"parcoords\"}],\"pie\":[{\"automargin\":true,\"type\":\"pie\"}],\"scatter\":[{\"marker\":{\"colorbar\":{\"outlinewidth\":0,\"tickcolor\":\"rgb(237,237,237)\",\"ticklen\":6,\"ticks\":\"inside\"}},\"type\":\"scatter\"}],\"scatter3d\":[{\"line\":{\"colorbar\":{\"outlinewidth\":0,\"tickcolor\":\"rgb(237,237,237)\",\"ticklen\":6,\"ticks\":\"inside\"}},\"marker\":{\"colorbar\":{\"outlinewidth\":0,\"tickcolor\":\"rgb(237,237,237)\",\"ticklen\":6,\"ticks\":\"inside\"}},\"type\":\"scatter3d\"}],\"scattercarpet\":[{\"marker\":{\"colorbar\":{\"outlinewidth\":0,\"tickcolor\":\"rgb(237,237,237)\",\"ticklen\":6,\"ticks\":\"inside\"}},\"type\":\"scattercarpet\"}],\"scattergeo\":[{\"marker\":{\"colorbar\":{\"outlinewidth\":0,\"tickcolor\":\"rgb(237,237,237)\",\"ticklen\":6,\"ticks\":\"inside\"}},\"type\":\"scattergeo\"}],\"scattergl\":[{\"marker\":{\"colorbar\":{\"outlinewidth\":0,\"tickcolor\":\"rgb(237,237,237)\",\"ticklen\":6,\"ticks\":\"inside\"}},\"type\":\"scattergl\"}],\"scattermapbox\":[{\"marker\":{\"colorbar\":{\"outlinewidth\":0,\"tickcolor\":\"rgb(237,237,237)\",\"ticklen\":6,\"ticks\":\"inside\"}},\"type\":\"scattermapbox\"}],\"scatterpolar\":[{\"marker\":{\"colorbar\":{\"outlinewidth\":0,\"tickcolor\":\"rgb(237,237,237)\",\"ticklen\":6,\"ticks\":\"inside\"}},\"type\":\"scatterpolar\"}],\"scatterpolargl\":[{\"marker\":{\"colorbar\":{\"outlinewidth\":0,\"tickcolor\":\"rgb(237,237,237)\",\"ticklen\":6,\"ticks\":\"inside\"}},\"type\":\"scatterpolargl\"}],\"scatterternary\":[{\"marker\":{\"colorbar\":{\"outlinewidth\":0,\"tickcolor\":\"rgb(237,237,237)\",\"ticklen\":6,\"ticks\":\"inside\"}},\"type\":\"scatterternary\"}],\"surface\":[{\"colorbar\":{\"outlinewidth\":0,\"tickcolor\":\"rgb(237,237,237)\",\"ticklen\":6,\"ticks\":\"inside\"},\"colorscale\":[[0,\"rgb(20,44,66)\"],[1,\"rgb(90,179,244)\"]],\"type\":\"surface\"}],\"table\":[{\"cells\":{\"fill\":{\"color\":\"rgb(237,237,237)\"},\"line\":{\"color\":\"white\"}},\"header\":{\"fill\":{\"color\":\"rgb(217,217,217)\"},\"line\":{\"color\":\"white\"}},\"type\":\"table\"}]},\"layout\":{\"annotationdefaults\":{\"arrowhead\":0,\"arrowwidth\":1},\"autotypenumbers\":\"strict\",\"coloraxis\":{\"colorbar\":{\"outlinewidth\":0,\"tickcolor\":\"rgb(237,237,237)\",\"ticklen\":6,\"ticks\":\"inside\"}},\"colorscale\":{\"sequential\":[[0,\"rgb(20,44,66)\"],[1,\"rgb(90,179,244)\"]],\"sequentialminus\":[[0,\"rgb(20,44,66)\"],[1,\"rgb(90,179,244)\"]]},\"colorway\":[\"#F8766D\",\"#A3A500\",\"#00BF7D\",\"#00B0F6\",\"#E76BF3\"],\"font\":{\"color\":\"rgb(51,51,51)\"},\"geo\":{\"bgcolor\":\"white\",\"lakecolor\":\"white\",\"landcolor\":\"rgb(237,237,237)\",\"showlakes\":true,\"showland\":true,\"subunitcolor\":\"white\"},\"hoverlabel\":{\"align\":\"left\"},\"hovermode\":\"closest\",\"paper_bgcolor\":\"white\",\"plot_bgcolor\":\"rgb(237,237,237)\",\"polar\":{\"angularaxis\":{\"gridcolor\":\"white\",\"linecolor\":\"white\",\"showgrid\":true,\"tickcolor\":\"rgb(51,51,51)\",\"ticks\":\"outside\"},\"bgcolor\":\"rgb(237,237,237)\",\"radialaxis\":{\"gridcolor\":\"white\",\"linecolor\":\"white\",\"showgrid\":true,\"tickcolor\":\"rgb(51,51,51)\",\"ticks\":\"outside\"}},\"scene\":{\"xaxis\":{\"backgroundcolor\":\"rgb(237,237,237)\",\"gridcolor\":\"white\",\"gridwidth\":2,\"linecolor\":\"white\",\"showbackground\":true,\"showgrid\":true,\"tickcolor\":\"rgb(51,51,51)\",\"ticks\":\"outside\",\"zerolinecolor\":\"white\"},\"yaxis\":{\"backgroundcolor\":\"rgb(237,237,237)\",\"gridcolor\":\"white\",\"gridwidth\":2,\"linecolor\":\"white\",\"showbackground\":true,\"showgrid\":true,\"tickcolor\":\"rgb(51,51,51)\",\"ticks\":\"outside\",\"zerolinecolor\":\"white\"},\"zaxis\":{\"backgroundcolor\":\"rgb(237,237,237)\",\"gridcolor\":\"white\",\"gridwidth\":2,\"linecolor\":\"white\",\"showbackground\":true,\"showgrid\":true,\"tickcolor\":\"rgb(51,51,51)\",\"ticks\":\"outside\",\"zerolinecolor\":\"white\"}},\"shapedefaults\":{\"fillcolor\":\"black\",\"line\":{\"width\":0},\"opacity\":0.3},\"ternary\":{\"aaxis\":{\"gridcolor\":\"white\",\"linecolor\":\"white\",\"showgrid\":true,\"tickcolor\":\"rgb(51,51,51)\",\"ticks\":\"outside\"},\"baxis\":{\"gridcolor\":\"white\",\"linecolor\":\"white\",\"showgrid\":true,\"tickcolor\":\"rgb(51,51,51)\",\"ticks\":\"outside\"},\"bgcolor\":\"rgb(237,237,237)\",\"caxis\":{\"gridcolor\":\"white\",\"linecolor\":\"white\",\"showgrid\":true,\"tickcolor\":\"rgb(51,51,51)\",\"ticks\":\"outside\"}},\"xaxis\":{\"automargin\":true,\"gridcolor\":\"white\",\"linecolor\":\"white\",\"showgrid\":true,\"tickcolor\":\"rgb(51,51,51)\",\"ticks\":\"outside\",\"title\":{\"standoff\":15},\"zerolinecolor\":\"white\"},\"yaxis\":{\"automargin\":true,\"gridcolor\":\"white\",\"linecolor\":\"white\",\"showgrid\":true,\"tickcolor\":\"rgb(51,51,51)\",\"ticks\":\"outside\",\"title\":{\"standoff\":15},\"zerolinecolor\":\"white\"}}},\"title\":{\"text\":\"Model: Naive Bayes, f1_score: 0.63\"}},                        {\"responsive\": true}                    ).then(function(){\n                            \nvar gd = document.getElementById('6843fc8e-0cbb-4945-8552-f49529e06676');\nvar x = new MutationObserver(function (mutations, observer) {{\n        var display = window.getComputedStyle(gd).display;\n        if (!display || display === 'none') {{\n            console.log([gd, 'removed!']);\n            Plotly.purge(gd);\n            observer.disconnect();\n        }}\n}});\n\n// Listen for the removal of the full notebook cells\nvar notebookContainer = gd.closest('#notebook-container');\nif (notebookContainer) {{\n    x.observe(notebookContainer, {childList: true});\n}}\n\n// Listen for the clearing of the current output cell\nvar outputEl = gd.closest('.output');\nif (outputEl) {{\n    x.observe(outputEl, {childList: true});\n}}\n\n                        })                };                });            </script>        </div>"
     },
     "metadata": {},
     "output_type": "display_data"
    },
    {
     "data": {
      "application/vnd.plotly.v1+json": {
       "config": {
        "plotlyServerURL": "https://plot.ly"
       },
       "data": [
        {
         "hovertemplate": "x=%{x}<br>y=%{y}<br>z=%{z}<br>color=%{marker.color}<extra></extra>",
         "legendgroup": "",
         "marker": {
          "color": [
           0,
           0,
           1,
           2,
           1,
           0,
           0,
           1,
           0,
           1,
           1,
           2,
           1,
           0,
           2,
           1,
           0,
           2,
           1,
           1,
           2,
           1,
           0,
           1,
           1,
           0,
           1,
           1,
           0,
           1,
           2,
           1,
           2,
           0,
           1,
           1,
           2,
           1,
           2,
           0,
           1,
           1,
           1,
           1,
           1,
           1,
           0,
           1,
           2,
           2,
           1,
           0,
           1,
           0,
           0,
           1,
           1,
           1,
           1,
           1,
           1,
           2,
           0,
           2,
           1,
           0,
           2,
           2,
           0,
           1,
           0,
           1,
           1,
           2,
           1,
           1,
           2,
           1,
           1,
           1,
           2,
           2,
           2,
           1
          ],
          "coloraxis": "coloraxis",
          "symbol": "circle"
         },
         "mode": "markers",
         "name": "",
         "scene": "scene",
         "showlegend": false,
         "type": "scatter3d",
         "x": [
          -5579.132853986817,
          -2229.8757219663726,
          -1809.0442575678576,
          113.45721217840564,
          -1144.7145584188972,
          1278.4838844168269,
          1788.2607840751991,
          2174.9294040785985,
          -6171.281759059223,
          -1628.6467141622322,
          -1564.4155427410008,
          12709.006352249398,
          -1368.8502108186312,
          -4862.533193830912,
          8549.651301643367,
          1741.365660477752,
          -5249.612308482715,
          6392.441532499017,
          -1227.2696937622486,
          -3103.5475392736926,
          521.9155042513878,
          2561.8629757906597,
          -7672.081119281198,
          -1779.4457995132702,
          -3780.2685392311014,
          -8203.160062495805,
          -345.08890920506394,
          -3357.1075758567194,
          -6825.21574087193,
          7960.411395013959,
          3718.2371702844894,
          2292.273321529909,
          3886.413009914218,
          -5292.282291154736,
          -266.6762371215055,
          -628.976315434508,
          2957.9549873057667,
          -439.8648794192993,
          4745.5787517286435,
          -6587.499577855115,
          -1402.3480626481462,
          4289.494231316581,
          5707.976234644557,
          -1103.278124498467,
          2244.042209217642,
          3792.881707193988,
          -4230.539776367649,
          -1318.2787050847583,
          70.23456512676256,
          6509.702425577635,
          -1524.712718101601,
          2197.260544358018,
          -2855.923566995219,
          -6847.741660861886,
          -2663.382157689846,
          34.91189749179737,
          -5495.391104739687,
          8493.193903390462,
          -4808.5012595958515,
          3174.3295059610846,
          827.7991144171154,
          3767.063424101913,
          -6424.141720342581,
          2561.657874494515,
          830.7537561772019,
          -7180.571578081321,
          4699.139388615814,
          -1980.642521616638,
          -4940.442324454727,
          192.34584436151673,
          -6032.342760200403,
          6824.2765685652685,
          -1548.2734324186865,
          -2547.039390123248,
          -4022.2076232250392,
          -43.27658866422988,
          -1065.9354698322802,
          -828.6601871129033,
          125.3482679654763,
          9957.809368522658,
          10981.789991204569,
          -305.66701276656994,
          10940.354499140021,
          -1328.7194223494487
         ],
         "y": [
          276.0301569445654,
          2426.297792302829,
          159.47907090175858,
          -2553.5211399242057,
          -330.33569003005186,
          3952.2743979187267,
          -1675.928023110469,
          1231.976137217722,
          315.76038744211337,
          -952.15337371189,
          1597.7824618314285,
          3280.944142325782,
          385.6298968087615,
          -42.14023567240143,
          -781.5673406755553,
          -1150.0460433829453,
          2047.2513724091564,
          -3920.797643231349,
          -966.6750512646377,
          -48.221229523285736,
          -665.7660057499457,
          188.00806001339336,
          720.0950313673457,
          -963.9153273699249,
          159.97634931827753,
          1379.4265352951888,
          533.9921681036606,
          -342.8849717439503,
          438.5008543011073,
          734.692331095641,
          -3908.016867907628,
          129.55828094580616,
          3745.6608024251677,
          -941.3463650627187,
          -1343.6902834270793,
          -536.6130964282396,
          -3625.089525895901,
          2011.0813751302767,
          -604.8871682271123,
          621.6930855923752,
          -1066.5807168811214,
          -1062.8452350256114,
          507.832854223479,
          -1462.6554377475306,
          -1138.1208484602116,
          -3076.5195056321236,
          3845.3642278449256,
          -2249.352052761414,
          1096.7826986302775,
          -1860.1756281683413,
          -1639.4656321404625,
          1954.9378354378036,
          -1219.1056553788724,
          1049.1775441233465,
          -160.63230777658586,
          -2093.380736971014,
          1506.7707401769323,
          2600.969952580607,
          938.4615749486953,
          4559.320535521743,
          -1149.4740407069382,
          -2862.8251489475138,
          761.2477435903489,
          2105.788226633959,
          -222.91957406366353,
          1833.3663743987631,
          -1879.7162643024396,
          2100.7583158979246,
          338.88815883347127,
          1419.393926100214,
          415.54253599358793,
          -5741.03569033289,
          -963.8270942226214,
          319.1002783192363,
          355.644451664375,
          -2356.854148732459,
          -2922.587505229138,
          -836.9506659814227,
          204.87817927713974,
          1166.2998452661545,
          6132.4148896157185,
          -4464.3180240107195,
          3676.979426467898,
          556.9062905746221
         ],
         "z": [
          136.8524778338577,
          617.770199087728,
          1183.6663573838046,
          1445.7237259072604,
          -52.022627105282844,
          414.0034128826256,
          -516.2848626180054,
          -286.3452019557255,
          -196.3405420502074,
          -548.7078463682406,
          -611.5097913149563,
          215.11519750857752,
          -986.8006519910919,
          -12.115214828643147,
          -1344.2514655520974,
          450.49641798088317,
          -455.36419021284013,
          -108.96279774335012,
          151.69382358426157,
          -990.1704804700572,
          -2711.223472866454,
          2607.480652876502,
          305.60250401840165,
          1614.030294283185,
          344.6888494384717,
          133.6399923747495,
          524.6084013476514,
          209.7459935858816,
          466.13392987597587,
          -4278.208016367656,
          1918.7245265048625,
          -2121.3074037793226,
          725.2900626147814,
          1217.3394898379638,
          729.252337219906,
          -321.73091807841155,
          600.1996002786635,
          -696.9182561667827,
          -643.6079109777902,
          82.94233051449037,
          -85.59979003716859,
          -2767.520721660875,
          -970.0520191107089,
          1060.6630359640287,
          814.5669143879052,
          2508.648466579874,
          -157.47900355214003,
          1270.1729846987982,
          -102.80537175628494,
          -1360.7417865349607,
          -594.1938515813534,
          1554.127079256898,
          310.27407674989763,
          -419.6587925582127,
          -408.93702520257796,
          1355.5685760443505,
          -1234.4584187510234,
          -3940.151574085118,
          371.1741860106026,
          1152.365720346137,
          89.16535137757899,
          -955.538086346085,
          170.43678230689014,
          459.4504650362092,
          175.46829116509167,
          -428.2287369264296,
          -1165.0932499692763,
          -1665.7154650790455,
          1040.730822280553,
          1417.0458988232008,
          120.15676645870113,
          -347.26081492193504,
          118.02318958750516,
          -2511.1467707793504,
          -380.7908445672828,
          -1287.9682530873145,
          640.8130065088261,
          -181.13058069295977,
          -621.1954330056697,
          5421.798171381167,
          2639.1373678735945,
          439.2683293113053,
          82.81768355098102,
          -839.3355019879954
         ]
        }
       ],
       "layout": {
        "coloraxis": {
         "colorbar": {
          "title": {
           "text": "color"
          }
         },
         "colorscale": [
          [
           0.0,
           "rgb(136, 204, 238)"
          ],
          [
           0.1,
           "rgb(204, 102, 119)"
          ],
          [
           0.2,
           "rgb(221, 204, 119)"
          ],
          [
           0.3,
           "rgb(17, 119, 51)"
          ],
          [
           0.4,
           "rgb(51, 34, 136)"
          ],
          [
           0.5,
           "rgb(170, 68, 153)"
          ],
          [
           0.6,
           "rgb(68, 170, 153)"
          ],
          [
           0.7,
           "rgb(153, 153, 51)"
          ],
          [
           0.8,
           "rgb(136, 34, 85)"
          ],
          [
           0.9,
           "rgb(102, 17, 0)"
          ],
          [
           1.0,
           "rgb(136, 136, 136)"
          ]
         ],
         "showscale": false
        },
        "legend": {
         "tracegroupgap": 0
        },
        "scene": {
         "domain": {
          "x": [
           0.0,
           1.0
          ],
          "y": [
           0.0,
           1.0
          ]
         },
         "xaxis": {
          "title": {
           "text": "x"
          }
         },
         "yaxis": {
          "title": {
           "text": "y"
          }
         },
         "zaxis": {
          "title": {
           "text": "z"
          }
         }
        },
        "template": {
         "data": {
          "bar": [
           {
            "error_x": {
             "color": "rgb(51,51,51)"
            },
            "error_y": {
             "color": "rgb(51,51,51)"
            },
            "marker": {
             "line": {
              "color": "rgb(237,237,237)",
              "width": 0.5
             },
             "pattern": {
              "fillmode": "overlay",
              "size": 10,
              "solidity": 0.2
             }
            },
            "type": "bar"
           }
          ],
          "barpolar": [
           {
            "marker": {
             "line": {
              "color": "rgb(237,237,237)",
              "width": 0.5
             },
             "pattern": {
              "fillmode": "overlay",
              "size": 10,
              "solidity": 0.2
             }
            },
            "type": "barpolar"
           }
          ],
          "carpet": [
           {
            "aaxis": {
             "endlinecolor": "rgb(51,51,51)",
             "gridcolor": "white",
             "linecolor": "white",
             "minorgridcolor": "white",
             "startlinecolor": "rgb(51,51,51)"
            },
            "baxis": {
             "endlinecolor": "rgb(51,51,51)",
             "gridcolor": "white",
             "linecolor": "white",
             "minorgridcolor": "white",
             "startlinecolor": "rgb(51,51,51)"
            },
            "type": "carpet"
           }
          ],
          "choropleth": [
           {
            "colorbar": {
             "outlinewidth": 0,
             "tickcolor": "rgb(237,237,237)",
             "ticklen": 6,
             "ticks": "inside"
            },
            "type": "choropleth"
           }
          ],
          "contour": [
           {
            "colorbar": {
             "outlinewidth": 0,
             "tickcolor": "rgb(237,237,237)",
             "ticklen": 6,
             "ticks": "inside"
            },
            "colorscale": [
             [
              0,
              "rgb(20,44,66)"
             ],
             [
              1,
              "rgb(90,179,244)"
             ]
            ],
            "type": "contour"
           }
          ],
          "contourcarpet": [
           {
            "colorbar": {
             "outlinewidth": 0,
             "tickcolor": "rgb(237,237,237)",
             "ticklen": 6,
             "ticks": "inside"
            },
            "type": "contourcarpet"
           }
          ],
          "heatmap": [
           {
            "colorbar": {
             "outlinewidth": 0,
             "tickcolor": "rgb(237,237,237)",
             "ticklen": 6,
             "ticks": "inside"
            },
            "colorscale": [
             [
              0,
              "rgb(20,44,66)"
             ],
             [
              1,
              "rgb(90,179,244)"
             ]
            ],
            "type": "heatmap"
           }
          ],
          "heatmapgl": [
           {
            "colorbar": {
             "outlinewidth": 0,
             "tickcolor": "rgb(237,237,237)",
             "ticklen": 6,
             "ticks": "inside"
            },
            "colorscale": [
             [
              0,
              "rgb(20,44,66)"
             ],
             [
              1,
              "rgb(90,179,244)"
             ]
            ],
            "type": "heatmapgl"
           }
          ],
          "histogram": [
           {
            "marker": {
             "pattern": {
              "fillmode": "overlay",
              "size": 10,
              "solidity": 0.2
             }
            },
            "type": "histogram"
           }
          ],
          "histogram2d": [
           {
            "colorbar": {
             "outlinewidth": 0,
             "tickcolor": "rgb(237,237,237)",
             "ticklen": 6,
             "ticks": "inside"
            },
            "colorscale": [
             [
              0,
              "rgb(20,44,66)"
             ],
             [
              1,
              "rgb(90,179,244)"
             ]
            ],
            "type": "histogram2d"
           }
          ],
          "histogram2dcontour": [
           {
            "colorbar": {
             "outlinewidth": 0,
             "tickcolor": "rgb(237,237,237)",
             "ticklen": 6,
             "ticks": "inside"
            },
            "colorscale": [
             [
              0,
              "rgb(20,44,66)"
             ],
             [
              1,
              "rgb(90,179,244)"
             ]
            ],
            "type": "histogram2dcontour"
           }
          ],
          "mesh3d": [
           {
            "colorbar": {
             "outlinewidth": 0,
             "tickcolor": "rgb(237,237,237)",
             "ticklen": 6,
             "ticks": "inside"
            },
            "type": "mesh3d"
           }
          ],
          "parcoords": [
           {
            "line": {
             "colorbar": {
              "outlinewidth": 0,
              "tickcolor": "rgb(237,237,237)",
              "ticklen": 6,
              "ticks": "inside"
             }
            },
            "type": "parcoords"
           }
          ],
          "pie": [
           {
            "automargin": true,
            "type": "pie"
           }
          ],
          "scatter": [
           {
            "marker": {
             "colorbar": {
              "outlinewidth": 0,
              "tickcolor": "rgb(237,237,237)",
              "ticklen": 6,
              "ticks": "inside"
             }
            },
            "type": "scatter"
           }
          ],
          "scatter3d": [
           {
            "line": {
             "colorbar": {
              "outlinewidth": 0,
              "tickcolor": "rgb(237,237,237)",
              "ticklen": 6,
              "ticks": "inside"
             }
            },
            "marker": {
             "colorbar": {
              "outlinewidth": 0,
              "tickcolor": "rgb(237,237,237)",
              "ticklen": 6,
              "ticks": "inside"
             }
            },
            "type": "scatter3d"
           }
          ],
          "scattercarpet": [
           {
            "marker": {
             "colorbar": {
              "outlinewidth": 0,
              "tickcolor": "rgb(237,237,237)",
              "ticklen": 6,
              "ticks": "inside"
             }
            },
            "type": "scattercarpet"
           }
          ],
          "scattergeo": [
           {
            "marker": {
             "colorbar": {
              "outlinewidth": 0,
              "tickcolor": "rgb(237,237,237)",
              "ticklen": 6,
              "ticks": "inside"
             }
            },
            "type": "scattergeo"
           }
          ],
          "scattergl": [
           {
            "marker": {
             "colorbar": {
              "outlinewidth": 0,
              "tickcolor": "rgb(237,237,237)",
              "ticklen": 6,
              "ticks": "inside"
             }
            },
            "type": "scattergl"
           }
          ],
          "scattermapbox": [
           {
            "marker": {
             "colorbar": {
              "outlinewidth": 0,
              "tickcolor": "rgb(237,237,237)",
              "ticklen": 6,
              "ticks": "inside"
             }
            },
            "type": "scattermapbox"
           }
          ],
          "scatterpolar": [
           {
            "marker": {
             "colorbar": {
              "outlinewidth": 0,
              "tickcolor": "rgb(237,237,237)",
              "ticklen": 6,
              "ticks": "inside"
             }
            },
            "type": "scatterpolar"
           }
          ],
          "scatterpolargl": [
           {
            "marker": {
             "colorbar": {
              "outlinewidth": 0,
              "tickcolor": "rgb(237,237,237)",
              "ticklen": 6,
              "ticks": "inside"
             }
            },
            "type": "scatterpolargl"
           }
          ],
          "scatterternary": [
           {
            "marker": {
             "colorbar": {
              "outlinewidth": 0,
              "tickcolor": "rgb(237,237,237)",
              "ticklen": 6,
              "ticks": "inside"
             }
            },
            "type": "scatterternary"
           }
          ],
          "surface": [
           {
            "colorbar": {
             "outlinewidth": 0,
             "tickcolor": "rgb(237,237,237)",
             "ticklen": 6,
             "ticks": "inside"
            },
            "colorscale": [
             [
              0,
              "rgb(20,44,66)"
             ],
             [
              1,
              "rgb(90,179,244)"
             ]
            ],
            "type": "surface"
           }
          ],
          "table": [
           {
            "cells": {
             "fill": {
              "color": "rgb(237,237,237)"
             },
             "line": {
              "color": "white"
             }
            },
            "header": {
             "fill": {
              "color": "rgb(217,217,217)"
             },
             "line": {
              "color": "white"
             }
            },
            "type": "table"
           }
          ]
         },
         "layout": {
          "annotationdefaults": {
           "arrowhead": 0,
           "arrowwidth": 1
          },
          "autotypenumbers": "strict",
          "coloraxis": {
           "colorbar": {
            "outlinewidth": 0,
            "tickcolor": "rgb(237,237,237)",
            "ticklen": 6,
            "ticks": "inside"
           }
          },
          "colorscale": {
           "sequential": [
            [
             0,
             "rgb(20,44,66)"
            ],
            [
             1,
             "rgb(90,179,244)"
            ]
           ],
           "sequentialminus": [
            [
             0,
             "rgb(20,44,66)"
            ],
            [
             1,
             "rgb(90,179,244)"
            ]
           ]
          },
          "colorway": [
           "#F8766D",
           "#A3A500",
           "#00BF7D",
           "#00B0F6",
           "#E76BF3"
          ],
          "font": {
           "color": "rgb(51,51,51)"
          },
          "geo": {
           "bgcolor": "white",
           "lakecolor": "white",
           "landcolor": "rgb(237,237,237)",
           "showlakes": true,
           "showland": true,
           "subunitcolor": "white"
          },
          "hoverlabel": {
           "align": "left"
          },
          "hovermode": "closest",
          "paper_bgcolor": "white",
          "plot_bgcolor": "rgb(237,237,237)",
          "polar": {
           "angularaxis": {
            "gridcolor": "white",
            "linecolor": "white",
            "showgrid": true,
            "tickcolor": "rgb(51,51,51)",
            "ticks": "outside"
           },
           "bgcolor": "rgb(237,237,237)",
           "radialaxis": {
            "gridcolor": "white",
            "linecolor": "white",
            "showgrid": true,
            "tickcolor": "rgb(51,51,51)",
            "ticks": "outside"
           }
          },
          "scene": {
           "xaxis": {
            "backgroundcolor": "rgb(237,237,237)",
            "gridcolor": "white",
            "gridwidth": 2,
            "linecolor": "white",
            "showbackground": true,
            "showgrid": true,
            "tickcolor": "rgb(51,51,51)",
            "ticks": "outside",
            "zerolinecolor": "white"
           },
           "yaxis": {
            "backgroundcolor": "rgb(237,237,237)",
            "gridcolor": "white",
            "gridwidth": 2,
            "linecolor": "white",
            "showbackground": true,
            "showgrid": true,
            "tickcolor": "rgb(51,51,51)",
            "ticks": "outside",
            "zerolinecolor": "white"
           },
           "zaxis": {
            "backgroundcolor": "rgb(237,237,237)",
            "gridcolor": "white",
            "gridwidth": 2,
            "linecolor": "white",
            "showbackground": true,
            "showgrid": true,
            "tickcolor": "rgb(51,51,51)",
            "ticks": "outside",
            "zerolinecolor": "white"
           }
          },
          "shapedefaults": {
           "fillcolor": "black",
           "line": {
            "width": 0
           },
           "opacity": 0.3
          },
          "ternary": {
           "aaxis": {
            "gridcolor": "white",
            "linecolor": "white",
            "showgrid": true,
            "tickcolor": "rgb(51,51,51)",
            "ticks": "outside"
           },
           "baxis": {
            "gridcolor": "white",
            "linecolor": "white",
            "showgrid": true,
            "tickcolor": "rgb(51,51,51)",
            "ticks": "outside"
           },
           "bgcolor": "rgb(237,237,237)",
           "caxis": {
            "gridcolor": "white",
            "linecolor": "white",
            "showgrid": true,
            "tickcolor": "rgb(51,51,51)",
            "ticks": "outside"
           }
          },
          "xaxis": {
           "automargin": true,
           "gridcolor": "white",
           "linecolor": "white",
           "showgrid": true,
           "tickcolor": "rgb(51,51,51)",
           "ticks": "outside",
           "title": {
            "standoff": 15
           },
           "zerolinecolor": "white"
          },
          "yaxis": {
           "automargin": true,
           "gridcolor": "white",
           "linecolor": "white",
           "showgrid": true,
           "tickcolor": "rgb(51,51,51)",
           "ticks": "outside",
           "title": {
            "standoff": 15
           },
           "zerolinecolor": "white"
          }
         }
        },
        "title": {
         "text": "Model: Decision Tree, f1_score: 0.84"
        }
       }
      },
      "text/html": "<div>                            <div id=\"3756b196-ed9f-4faf-b920-8aa1d7f10b53\" class=\"plotly-graph-div\" style=\"height:525px; width:100%;\"></div>            <script type=\"text/javascript\">                require([\"plotly\"], function(Plotly) {                    window.PLOTLYENV=window.PLOTLYENV || {};                                    if (document.getElementById(\"3756b196-ed9f-4faf-b920-8aa1d7f10b53\")) {                    Plotly.newPlot(                        \"3756b196-ed9f-4faf-b920-8aa1d7f10b53\",                        [{\"hovertemplate\":\"x=%{x}<br>y=%{y}<br>z=%{z}<br>color=%{marker.color}<extra></extra>\",\"legendgroup\":\"\",\"marker\":{\"color\":[0,0,1,2,1,0,0,1,0,1,1,2,1,0,2,1,0,2,1,1,2,1,0,1,1,0,1,1,0,1,2,1,2,0,1,1,2,1,2,0,1,1,1,1,1,1,0,1,2,2,1,0,1,0,0,1,1,1,1,1,1,2,0,2,1,0,2,2,0,1,0,1,1,2,1,1,2,1,1,1,2,2,2,1],\"coloraxis\":\"coloraxis\",\"symbol\":\"circle\"},\"mode\":\"markers\",\"name\":\"\",\"scene\":\"scene\",\"showlegend\":false,\"type\":\"scatter3d\",\"x\":[-5579.132853986817,-2229.8757219663726,-1809.0442575678576,113.45721217840564,-1144.7145584188972,1278.4838844168269,1788.2607840751991,2174.9294040785985,-6171.281759059223,-1628.6467141622322,-1564.4155427410008,12709.006352249398,-1368.8502108186312,-4862.533193830912,8549.651301643367,1741.365660477752,-5249.612308482715,6392.441532499017,-1227.2696937622486,-3103.5475392736926,521.9155042513878,2561.8629757906597,-7672.081119281198,-1779.4457995132702,-3780.2685392311014,-8203.160062495805,-345.08890920506394,-3357.1075758567194,-6825.21574087193,7960.411395013959,3718.2371702844894,2292.273321529909,3886.413009914218,-5292.282291154736,-266.6762371215055,-628.976315434508,2957.9549873057667,-439.8648794192993,4745.5787517286435,-6587.499577855115,-1402.3480626481462,4289.494231316581,5707.976234644557,-1103.278124498467,2244.042209217642,3792.881707193988,-4230.539776367649,-1318.2787050847583,70.23456512676256,6509.702425577635,-1524.712718101601,2197.260544358018,-2855.923566995219,-6847.741660861886,-2663.382157689846,34.91189749179737,-5495.391104739687,8493.193903390462,-4808.5012595958515,3174.3295059610846,827.7991144171154,3767.063424101913,-6424.141720342581,2561.657874494515,830.7537561772019,-7180.571578081321,4699.139388615814,-1980.642521616638,-4940.442324454727,192.34584436151673,-6032.342760200403,6824.2765685652685,-1548.2734324186865,-2547.039390123248,-4022.2076232250392,-43.27658866422988,-1065.9354698322802,-828.6601871129033,125.3482679654763,9957.809368522658,10981.789991204569,-305.66701276656994,10940.354499140021,-1328.7194223494487],\"y\":[276.0301569445654,2426.297792302829,159.47907090175858,-2553.5211399242057,-330.33569003005186,3952.2743979187267,-1675.928023110469,1231.976137217722,315.76038744211337,-952.15337371189,1597.7824618314285,3280.944142325782,385.6298968087615,-42.14023567240143,-781.5673406755553,-1150.0460433829453,2047.2513724091564,-3920.797643231349,-966.6750512646377,-48.221229523285736,-665.7660057499457,188.00806001339336,720.0950313673457,-963.9153273699249,159.97634931827753,1379.4265352951888,533.9921681036606,-342.8849717439503,438.5008543011073,734.692331095641,-3908.016867907628,129.55828094580616,3745.6608024251677,-941.3463650627187,-1343.6902834270793,-536.6130964282396,-3625.089525895901,2011.0813751302767,-604.8871682271123,621.6930855923752,-1066.5807168811214,-1062.8452350256114,507.832854223479,-1462.6554377475306,-1138.1208484602116,-3076.5195056321236,3845.3642278449256,-2249.352052761414,1096.7826986302775,-1860.1756281683413,-1639.4656321404625,1954.9378354378036,-1219.1056553788724,1049.1775441233465,-160.63230777658586,-2093.380736971014,1506.7707401769323,2600.969952580607,938.4615749486953,4559.320535521743,-1149.4740407069382,-2862.8251489475138,761.2477435903489,2105.788226633959,-222.91957406366353,1833.3663743987631,-1879.7162643024396,2100.7583158979246,338.88815883347127,1419.393926100214,415.54253599358793,-5741.03569033289,-963.8270942226214,319.1002783192363,355.644451664375,-2356.854148732459,-2922.587505229138,-836.9506659814227,204.87817927713974,1166.2998452661545,6132.4148896157185,-4464.3180240107195,3676.979426467898,556.9062905746221],\"z\":[136.8524778338577,617.770199087728,1183.6663573838046,1445.7237259072604,-52.022627105282844,414.0034128826256,-516.2848626180054,-286.3452019557255,-196.3405420502074,-548.7078463682406,-611.5097913149563,215.11519750857752,-986.8006519910919,-12.115214828643147,-1344.2514655520974,450.49641798088317,-455.36419021284013,-108.96279774335012,151.69382358426157,-990.1704804700572,-2711.223472866454,2607.480652876502,305.60250401840165,1614.030294283185,344.6888494384717,133.6399923747495,524.6084013476514,209.7459935858816,466.13392987597587,-4278.208016367656,1918.7245265048625,-2121.3074037793226,725.2900626147814,1217.3394898379638,729.252337219906,-321.73091807841155,600.1996002786635,-696.9182561667827,-643.6079109777902,82.94233051449037,-85.59979003716859,-2767.520721660875,-970.0520191107089,1060.6630359640287,814.5669143879052,2508.648466579874,-157.47900355214003,1270.1729846987982,-102.80537175628494,-1360.7417865349607,-594.1938515813534,1554.127079256898,310.27407674989763,-419.6587925582127,-408.93702520257796,1355.5685760443505,-1234.4584187510234,-3940.151574085118,371.1741860106026,1152.365720346137,89.16535137757899,-955.538086346085,170.43678230689014,459.4504650362092,175.46829116509167,-428.2287369264296,-1165.0932499692763,-1665.7154650790455,1040.730822280553,1417.0458988232008,120.15676645870113,-347.26081492193504,118.02318958750516,-2511.1467707793504,-380.7908445672828,-1287.9682530873145,640.8130065088261,-181.13058069295977,-621.1954330056697,5421.798171381167,2639.1373678735945,439.2683293113053,82.81768355098102,-839.3355019879954]}],                        {\"coloraxis\":{\"colorbar\":{\"title\":{\"text\":\"color\"}},\"colorscale\":[[0.0,\"rgb(136, 204, 238)\"],[0.1,\"rgb(204, 102, 119)\"],[0.2,\"rgb(221, 204, 119)\"],[0.3,\"rgb(17, 119, 51)\"],[0.4,\"rgb(51, 34, 136)\"],[0.5,\"rgb(170, 68, 153)\"],[0.6,\"rgb(68, 170, 153)\"],[0.7,\"rgb(153, 153, 51)\"],[0.8,\"rgb(136, 34, 85)\"],[0.9,\"rgb(102, 17, 0)\"],[1.0,\"rgb(136, 136, 136)\"]],\"showscale\":false},\"legend\":{\"tracegroupgap\":0},\"scene\":{\"domain\":{\"x\":[0.0,1.0],\"y\":[0.0,1.0]},\"xaxis\":{\"title\":{\"text\":\"x\"}},\"yaxis\":{\"title\":{\"text\":\"y\"}},\"zaxis\":{\"title\":{\"text\":\"z\"}}},\"template\":{\"data\":{\"bar\":[{\"error_x\":{\"color\":\"rgb(51,51,51)\"},\"error_y\":{\"color\":\"rgb(51,51,51)\"},\"marker\":{\"line\":{\"color\":\"rgb(237,237,237)\",\"width\":0.5},\"pattern\":{\"fillmode\":\"overlay\",\"size\":10,\"solidity\":0.2}},\"type\":\"bar\"}],\"barpolar\":[{\"marker\":{\"line\":{\"color\":\"rgb(237,237,237)\",\"width\":0.5},\"pattern\":{\"fillmode\":\"overlay\",\"size\":10,\"solidity\":0.2}},\"type\":\"barpolar\"}],\"carpet\":[{\"aaxis\":{\"endlinecolor\":\"rgb(51,51,51)\",\"gridcolor\":\"white\",\"linecolor\":\"white\",\"minorgridcolor\":\"white\",\"startlinecolor\":\"rgb(51,51,51)\"},\"baxis\":{\"endlinecolor\":\"rgb(51,51,51)\",\"gridcolor\":\"white\",\"linecolor\":\"white\",\"minorgridcolor\":\"white\",\"startlinecolor\":\"rgb(51,51,51)\"},\"type\":\"carpet\"}],\"choropleth\":[{\"colorbar\":{\"outlinewidth\":0,\"tickcolor\":\"rgb(237,237,237)\",\"ticklen\":6,\"ticks\":\"inside\"},\"type\":\"choropleth\"}],\"contour\":[{\"colorbar\":{\"outlinewidth\":0,\"tickcolor\":\"rgb(237,237,237)\",\"ticklen\":6,\"ticks\":\"inside\"},\"colorscale\":[[0,\"rgb(20,44,66)\"],[1,\"rgb(90,179,244)\"]],\"type\":\"contour\"}],\"contourcarpet\":[{\"colorbar\":{\"outlinewidth\":0,\"tickcolor\":\"rgb(237,237,237)\",\"ticklen\":6,\"ticks\":\"inside\"},\"type\":\"contourcarpet\"}],\"heatmap\":[{\"colorbar\":{\"outlinewidth\":0,\"tickcolor\":\"rgb(237,237,237)\",\"ticklen\":6,\"ticks\":\"inside\"},\"colorscale\":[[0,\"rgb(20,44,66)\"],[1,\"rgb(90,179,244)\"]],\"type\":\"heatmap\"}],\"heatmapgl\":[{\"colorbar\":{\"outlinewidth\":0,\"tickcolor\":\"rgb(237,237,237)\",\"ticklen\":6,\"ticks\":\"inside\"},\"colorscale\":[[0,\"rgb(20,44,66)\"],[1,\"rgb(90,179,244)\"]],\"type\":\"heatmapgl\"}],\"histogram\":[{\"marker\":{\"pattern\":{\"fillmode\":\"overlay\",\"size\":10,\"solidity\":0.2}},\"type\":\"histogram\"}],\"histogram2d\":[{\"colorbar\":{\"outlinewidth\":0,\"tickcolor\":\"rgb(237,237,237)\",\"ticklen\":6,\"ticks\":\"inside\"},\"colorscale\":[[0,\"rgb(20,44,66)\"],[1,\"rgb(90,179,244)\"]],\"type\":\"histogram2d\"}],\"histogram2dcontour\":[{\"colorbar\":{\"outlinewidth\":0,\"tickcolor\":\"rgb(237,237,237)\",\"ticklen\":6,\"ticks\":\"inside\"},\"colorscale\":[[0,\"rgb(20,44,66)\"],[1,\"rgb(90,179,244)\"]],\"type\":\"histogram2dcontour\"}],\"mesh3d\":[{\"colorbar\":{\"outlinewidth\":0,\"tickcolor\":\"rgb(237,237,237)\",\"ticklen\":6,\"ticks\":\"inside\"},\"type\":\"mesh3d\"}],\"parcoords\":[{\"line\":{\"colorbar\":{\"outlinewidth\":0,\"tickcolor\":\"rgb(237,237,237)\",\"ticklen\":6,\"ticks\":\"inside\"}},\"type\":\"parcoords\"}],\"pie\":[{\"automargin\":true,\"type\":\"pie\"}],\"scatter\":[{\"marker\":{\"colorbar\":{\"outlinewidth\":0,\"tickcolor\":\"rgb(237,237,237)\",\"ticklen\":6,\"ticks\":\"inside\"}},\"type\":\"scatter\"}],\"scatter3d\":[{\"line\":{\"colorbar\":{\"outlinewidth\":0,\"tickcolor\":\"rgb(237,237,237)\",\"ticklen\":6,\"ticks\":\"inside\"}},\"marker\":{\"colorbar\":{\"outlinewidth\":0,\"tickcolor\":\"rgb(237,237,237)\",\"ticklen\":6,\"ticks\":\"inside\"}},\"type\":\"scatter3d\"}],\"scattercarpet\":[{\"marker\":{\"colorbar\":{\"outlinewidth\":0,\"tickcolor\":\"rgb(237,237,237)\",\"ticklen\":6,\"ticks\":\"inside\"}},\"type\":\"scattercarpet\"}],\"scattergeo\":[{\"marker\":{\"colorbar\":{\"outlinewidth\":0,\"tickcolor\":\"rgb(237,237,237)\",\"ticklen\":6,\"ticks\":\"inside\"}},\"type\":\"scattergeo\"}],\"scattergl\":[{\"marker\":{\"colorbar\":{\"outlinewidth\":0,\"tickcolor\":\"rgb(237,237,237)\",\"ticklen\":6,\"ticks\":\"inside\"}},\"type\":\"scattergl\"}],\"scattermapbox\":[{\"marker\":{\"colorbar\":{\"outlinewidth\":0,\"tickcolor\":\"rgb(237,237,237)\",\"ticklen\":6,\"ticks\":\"inside\"}},\"type\":\"scattermapbox\"}],\"scatterpolar\":[{\"marker\":{\"colorbar\":{\"outlinewidth\":0,\"tickcolor\":\"rgb(237,237,237)\",\"ticklen\":6,\"ticks\":\"inside\"}},\"type\":\"scatterpolar\"}],\"scatterpolargl\":[{\"marker\":{\"colorbar\":{\"outlinewidth\":0,\"tickcolor\":\"rgb(237,237,237)\",\"ticklen\":6,\"ticks\":\"inside\"}},\"type\":\"scatterpolargl\"}],\"scatterternary\":[{\"marker\":{\"colorbar\":{\"outlinewidth\":0,\"tickcolor\":\"rgb(237,237,237)\",\"ticklen\":6,\"ticks\":\"inside\"}},\"type\":\"scatterternary\"}],\"surface\":[{\"colorbar\":{\"outlinewidth\":0,\"tickcolor\":\"rgb(237,237,237)\",\"ticklen\":6,\"ticks\":\"inside\"},\"colorscale\":[[0,\"rgb(20,44,66)\"],[1,\"rgb(90,179,244)\"]],\"type\":\"surface\"}],\"table\":[{\"cells\":{\"fill\":{\"color\":\"rgb(237,237,237)\"},\"line\":{\"color\":\"white\"}},\"header\":{\"fill\":{\"color\":\"rgb(217,217,217)\"},\"line\":{\"color\":\"white\"}},\"type\":\"table\"}]},\"layout\":{\"annotationdefaults\":{\"arrowhead\":0,\"arrowwidth\":1},\"autotypenumbers\":\"strict\",\"coloraxis\":{\"colorbar\":{\"outlinewidth\":0,\"tickcolor\":\"rgb(237,237,237)\",\"ticklen\":6,\"ticks\":\"inside\"}},\"colorscale\":{\"sequential\":[[0,\"rgb(20,44,66)\"],[1,\"rgb(90,179,244)\"]],\"sequentialminus\":[[0,\"rgb(20,44,66)\"],[1,\"rgb(90,179,244)\"]]},\"colorway\":[\"#F8766D\",\"#A3A500\",\"#00BF7D\",\"#00B0F6\",\"#E76BF3\"],\"font\":{\"color\":\"rgb(51,51,51)\"},\"geo\":{\"bgcolor\":\"white\",\"lakecolor\":\"white\",\"landcolor\":\"rgb(237,237,237)\",\"showlakes\":true,\"showland\":true,\"subunitcolor\":\"white\"},\"hoverlabel\":{\"align\":\"left\"},\"hovermode\":\"closest\",\"paper_bgcolor\":\"white\",\"plot_bgcolor\":\"rgb(237,237,237)\",\"polar\":{\"angularaxis\":{\"gridcolor\":\"white\",\"linecolor\":\"white\",\"showgrid\":true,\"tickcolor\":\"rgb(51,51,51)\",\"ticks\":\"outside\"},\"bgcolor\":\"rgb(237,237,237)\",\"radialaxis\":{\"gridcolor\":\"white\",\"linecolor\":\"white\",\"showgrid\":true,\"tickcolor\":\"rgb(51,51,51)\",\"ticks\":\"outside\"}},\"scene\":{\"xaxis\":{\"backgroundcolor\":\"rgb(237,237,237)\",\"gridcolor\":\"white\",\"gridwidth\":2,\"linecolor\":\"white\",\"showbackground\":true,\"showgrid\":true,\"tickcolor\":\"rgb(51,51,51)\",\"ticks\":\"outside\",\"zerolinecolor\":\"white\"},\"yaxis\":{\"backgroundcolor\":\"rgb(237,237,237)\",\"gridcolor\":\"white\",\"gridwidth\":2,\"linecolor\":\"white\",\"showbackground\":true,\"showgrid\":true,\"tickcolor\":\"rgb(51,51,51)\",\"ticks\":\"outside\",\"zerolinecolor\":\"white\"},\"zaxis\":{\"backgroundcolor\":\"rgb(237,237,237)\",\"gridcolor\":\"white\",\"gridwidth\":2,\"linecolor\":\"white\",\"showbackground\":true,\"showgrid\":true,\"tickcolor\":\"rgb(51,51,51)\",\"ticks\":\"outside\",\"zerolinecolor\":\"white\"}},\"shapedefaults\":{\"fillcolor\":\"black\",\"line\":{\"width\":0},\"opacity\":0.3},\"ternary\":{\"aaxis\":{\"gridcolor\":\"white\",\"linecolor\":\"white\",\"showgrid\":true,\"tickcolor\":\"rgb(51,51,51)\",\"ticks\":\"outside\"},\"baxis\":{\"gridcolor\":\"white\",\"linecolor\":\"white\",\"showgrid\":true,\"tickcolor\":\"rgb(51,51,51)\",\"ticks\":\"outside\"},\"bgcolor\":\"rgb(237,237,237)\",\"caxis\":{\"gridcolor\":\"white\",\"linecolor\":\"white\",\"showgrid\":true,\"tickcolor\":\"rgb(51,51,51)\",\"ticks\":\"outside\"}},\"xaxis\":{\"automargin\":true,\"gridcolor\":\"white\",\"linecolor\":\"white\",\"showgrid\":true,\"tickcolor\":\"rgb(51,51,51)\",\"ticks\":\"outside\",\"title\":{\"standoff\":15},\"zerolinecolor\":\"white\"},\"yaxis\":{\"automargin\":true,\"gridcolor\":\"white\",\"linecolor\":\"white\",\"showgrid\":true,\"tickcolor\":\"rgb(51,51,51)\",\"ticks\":\"outside\",\"title\":{\"standoff\":15},\"zerolinecolor\":\"white\"}}},\"title\":{\"text\":\"Model: Decision Tree, f1_score: 0.84\"}},                        {\"responsive\": true}                    ).then(function(){\n                            \nvar gd = document.getElementById('3756b196-ed9f-4faf-b920-8aa1d7f10b53');\nvar x = new MutationObserver(function (mutations, observer) {{\n        var display = window.getComputedStyle(gd).display;\n        if (!display || display === 'none') {{\n            console.log([gd, 'removed!']);\n            Plotly.purge(gd);\n            observer.disconnect();\n        }}\n}});\n\n// Listen for the removal of the full notebook cells\nvar notebookContainer = gd.closest('#notebook-container');\nif (notebookContainer) {{\n    x.observe(notebookContainer, {childList: true});\n}}\n\n// Listen for the clearing of the current output cell\nvar outputEl = gd.closest('.output');\nif (outputEl) {{\n    x.observe(outputEl, {childList: true});\n}}\n\n                        })                };                });            </script>        </div>"
     },
     "metadata": {},
     "output_type": "display_data"
    },
    {
     "data": {
      "application/vnd.plotly.v1+json": {
       "config": {
        "plotlyServerURL": "https://plot.ly"
       },
       "data": [
        {
         "hovertemplate": "x=%{x}<br>y=%{y}<br>z=%{z}<br>color=%{marker.color}<extra></extra>",
         "legendgroup": "",
         "marker": {
          "color": [
           0,
           0,
           1,
           2,
           1,
           2,
           1,
           1,
           0,
           1,
           1,
           2,
           1,
           0,
           2,
           1,
           0,
           2,
           1,
           1,
           1,
           2,
           0,
           1,
           1,
           0,
           1,
           1,
           0,
           1,
           1,
           1,
           2,
           0,
           1,
           1,
           1,
           1,
           1,
           0,
           1,
           1,
           1,
           1,
           1,
           1,
           0,
           1,
           2,
           2,
           1,
           2,
           1,
           0,
           1,
           1,
           0,
           1,
           0,
           2,
           1,
           1,
           0,
           2,
           1,
           0,
           2,
           0,
           0,
           1,
           0,
           2,
           1,
           1,
           1,
           1,
           2,
           1,
           1,
           2,
           2,
           2,
           2,
           1
          ],
          "coloraxis": "coloraxis",
          "symbol": "circle"
         },
         "mode": "markers",
         "name": "",
         "scene": "scene",
         "showlegend": false,
         "type": "scatter3d",
         "x": [
          -5579.132853986817,
          -2229.8757219663726,
          -1809.0442575678576,
          113.45721217840564,
          -1144.7145584188972,
          1278.4838844168269,
          1788.2607840751991,
          2174.9294040785985,
          -6171.281759059223,
          -1628.6467141622322,
          -1564.4155427410008,
          12709.006352249398,
          -1368.8502108186312,
          -4862.533193830912,
          8549.651301643367,
          1741.365660477752,
          -5249.612308482715,
          6392.441532499017,
          -1227.2696937622486,
          -3103.5475392736926,
          521.9155042513878,
          2561.8629757906597,
          -7672.081119281198,
          -1779.4457995132702,
          -3780.2685392311014,
          -8203.160062495805,
          -345.08890920506394,
          -3357.1075758567194,
          -6825.21574087193,
          7960.411395013959,
          3718.2371702844894,
          2292.273321529909,
          3886.413009914218,
          -5292.282291154736,
          -266.6762371215055,
          -628.976315434508,
          2957.9549873057667,
          -439.8648794192993,
          4745.5787517286435,
          -6587.499577855115,
          -1402.3480626481462,
          4289.494231316581,
          5707.976234644557,
          -1103.278124498467,
          2244.042209217642,
          3792.881707193988,
          -4230.539776367649,
          -1318.2787050847583,
          70.23456512676256,
          6509.702425577635,
          -1524.712718101601,
          2197.260544358018,
          -2855.923566995219,
          -6847.741660861886,
          -2663.382157689846,
          34.91189749179737,
          -5495.391104739687,
          8493.193903390462,
          -4808.5012595958515,
          3174.3295059610846,
          827.7991144171154,
          3767.063424101913,
          -6424.141720342581,
          2561.657874494515,
          830.7537561772019,
          -7180.571578081321,
          4699.139388615814,
          -1980.642521616638,
          -4940.442324454727,
          192.34584436151673,
          -6032.342760200403,
          6824.2765685652685,
          -1548.2734324186865,
          -2547.039390123248,
          -4022.2076232250392,
          -43.27658866422988,
          -1065.9354698322802,
          -828.6601871129033,
          125.3482679654763,
          9957.809368522658,
          10981.789991204569,
          -305.66701276656994,
          10940.354499140021,
          -1328.7194223494487
         ],
         "y": [
          276.0301569445654,
          2426.297792302829,
          159.47907090175858,
          -2553.5211399242057,
          -330.33569003005186,
          3952.2743979187267,
          -1675.928023110469,
          1231.976137217722,
          315.76038744211337,
          -952.15337371189,
          1597.7824618314285,
          3280.944142325782,
          385.6298968087615,
          -42.14023567240143,
          -781.5673406755553,
          -1150.0460433829453,
          2047.2513724091564,
          -3920.797643231349,
          -966.6750512646377,
          -48.221229523285736,
          -665.7660057499457,
          188.00806001339336,
          720.0950313673457,
          -963.9153273699249,
          159.97634931827753,
          1379.4265352951888,
          533.9921681036606,
          -342.8849717439503,
          438.5008543011073,
          734.692331095641,
          -3908.016867907628,
          129.55828094580616,
          3745.6608024251677,
          -941.3463650627187,
          -1343.6902834270793,
          -536.6130964282396,
          -3625.089525895901,
          2011.0813751302767,
          -604.8871682271123,
          621.6930855923752,
          -1066.5807168811214,
          -1062.8452350256114,
          507.832854223479,
          -1462.6554377475306,
          -1138.1208484602116,
          -3076.5195056321236,
          3845.3642278449256,
          -2249.352052761414,
          1096.7826986302775,
          -1860.1756281683413,
          -1639.4656321404625,
          1954.9378354378036,
          -1219.1056553788724,
          1049.1775441233465,
          -160.63230777658586,
          -2093.380736971014,
          1506.7707401769323,
          2600.969952580607,
          938.4615749486953,
          4559.320535521743,
          -1149.4740407069382,
          -2862.8251489475138,
          761.2477435903489,
          2105.788226633959,
          -222.91957406366353,
          1833.3663743987631,
          -1879.7162643024396,
          2100.7583158979246,
          338.88815883347127,
          1419.393926100214,
          415.54253599358793,
          -5741.03569033289,
          -963.8270942226214,
          319.1002783192363,
          355.644451664375,
          -2356.854148732459,
          -2922.587505229138,
          -836.9506659814227,
          204.87817927713974,
          1166.2998452661545,
          6132.4148896157185,
          -4464.3180240107195,
          3676.979426467898,
          556.9062905746221
         ],
         "z": [
          136.8524778338577,
          617.770199087728,
          1183.6663573838046,
          1445.7237259072604,
          -52.022627105282844,
          414.0034128826256,
          -516.2848626180054,
          -286.3452019557255,
          -196.3405420502074,
          -548.7078463682406,
          -611.5097913149563,
          215.11519750857752,
          -986.8006519910919,
          -12.115214828643147,
          -1344.2514655520974,
          450.49641798088317,
          -455.36419021284013,
          -108.96279774335012,
          151.69382358426157,
          -990.1704804700572,
          -2711.223472866454,
          2607.480652876502,
          305.60250401840165,
          1614.030294283185,
          344.6888494384717,
          133.6399923747495,
          524.6084013476514,
          209.7459935858816,
          466.13392987597587,
          -4278.208016367656,
          1918.7245265048625,
          -2121.3074037793226,
          725.2900626147814,
          1217.3394898379638,
          729.252337219906,
          -321.73091807841155,
          600.1996002786635,
          -696.9182561667827,
          -643.6079109777902,
          82.94233051449037,
          -85.59979003716859,
          -2767.520721660875,
          -970.0520191107089,
          1060.6630359640287,
          814.5669143879052,
          2508.648466579874,
          -157.47900355214003,
          1270.1729846987982,
          -102.80537175628494,
          -1360.7417865349607,
          -594.1938515813534,
          1554.127079256898,
          310.27407674989763,
          -419.6587925582127,
          -408.93702520257796,
          1355.5685760443505,
          -1234.4584187510234,
          -3940.151574085118,
          371.1741860106026,
          1152.365720346137,
          89.16535137757899,
          -955.538086346085,
          170.43678230689014,
          459.4504650362092,
          175.46829116509167,
          -428.2287369264296,
          -1165.0932499692763,
          -1665.7154650790455,
          1040.730822280553,
          1417.0458988232008,
          120.15676645870113,
          -347.26081492193504,
          118.02318958750516,
          -2511.1467707793504,
          -380.7908445672828,
          -1287.9682530873145,
          640.8130065088261,
          -181.13058069295977,
          -621.1954330056697,
          5421.798171381167,
          2639.1373678735945,
          439.2683293113053,
          82.81768355098102,
          -839.3355019879954
         ]
        }
       ],
       "layout": {
        "coloraxis": {
         "colorbar": {
          "title": {
           "text": "color"
          }
         },
         "colorscale": [
          [
           0.0,
           "rgb(136, 204, 238)"
          ],
          [
           0.1,
           "rgb(204, 102, 119)"
          ],
          [
           0.2,
           "rgb(221, 204, 119)"
          ],
          [
           0.3,
           "rgb(17, 119, 51)"
          ],
          [
           0.4,
           "rgb(51, 34, 136)"
          ],
          [
           0.5,
           "rgb(170, 68, 153)"
          ],
          [
           0.6,
           "rgb(68, 170, 153)"
          ],
          [
           0.7,
           "rgb(153, 153, 51)"
          ],
          [
           0.8,
           "rgb(136, 34, 85)"
          ],
          [
           0.9,
           "rgb(102, 17, 0)"
          ],
          [
           1.0,
           "rgb(136, 136, 136)"
          ]
         ],
         "showscale": false
        },
        "legend": {
         "tracegroupgap": 0
        },
        "scene": {
         "domain": {
          "x": [
           0.0,
           1.0
          ],
          "y": [
           0.0,
           1.0
          ]
         },
         "xaxis": {
          "title": {
           "text": "x"
          }
         },
         "yaxis": {
          "title": {
           "text": "y"
          }
         },
         "zaxis": {
          "title": {
           "text": "z"
          }
         }
        },
        "template": {
         "data": {
          "bar": [
           {
            "error_x": {
             "color": "rgb(51,51,51)"
            },
            "error_y": {
             "color": "rgb(51,51,51)"
            },
            "marker": {
             "line": {
              "color": "rgb(237,237,237)",
              "width": 0.5
             },
             "pattern": {
              "fillmode": "overlay",
              "size": 10,
              "solidity": 0.2
             }
            },
            "type": "bar"
           }
          ],
          "barpolar": [
           {
            "marker": {
             "line": {
              "color": "rgb(237,237,237)",
              "width": 0.5
             },
             "pattern": {
              "fillmode": "overlay",
              "size": 10,
              "solidity": 0.2
             }
            },
            "type": "barpolar"
           }
          ],
          "carpet": [
           {
            "aaxis": {
             "endlinecolor": "rgb(51,51,51)",
             "gridcolor": "white",
             "linecolor": "white",
             "minorgridcolor": "white",
             "startlinecolor": "rgb(51,51,51)"
            },
            "baxis": {
             "endlinecolor": "rgb(51,51,51)",
             "gridcolor": "white",
             "linecolor": "white",
             "minorgridcolor": "white",
             "startlinecolor": "rgb(51,51,51)"
            },
            "type": "carpet"
           }
          ],
          "choropleth": [
           {
            "colorbar": {
             "outlinewidth": 0,
             "tickcolor": "rgb(237,237,237)",
             "ticklen": 6,
             "ticks": "inside"
            },
            "type": "choropleth"
           }
          ],
          "contour": [
           {
            "colorbar": {
             "outlinewidth": 0,
             "tickcolor": "rgb(237,237,237)",
             "ticklen": 6,
             "ticks": "inside"
            },
            "colorscale": [
             [
              0,
              "rgb(20,44,66)"
             ],
             [
              1,
              "rgb(90,179,244)"
             ]
            ],
            "type": "contour"
           }
          ],
          "contourcarpet": [
           {
            "colorbar": {
             "outlinewidth": 0,
             "tickcolor": "rgb(237,237,237)",
             "ticklen": 6,
             "ticks": "inside"
            },
            "type": "contourcarpet"
           }
          ],
          "heatmap": [
           {
            "colorbar": {
             "outlinewidth": 0,
             "tickcolor": "rgb(237,237,237)",
             "ticklen": 6,
             "ticks": "inside"
            },
            "colorscale": [
             [
              0,
              "rgb(20,44,66)"
             ],
             [
              1,
              "rgb(90,179,244)"
             ]
            ],
            "type": "heatmap"
           }
          ],
          "heatmapgl": [
           {
            "colorbar": {
             "outlinewidth": 0,
             "tickcolor": "rgb(237,237,237)",
             "ticklen": 6,
             "ticks": "inside"
            },
            "colorscale": [
             [
              0,
              "rgb(20,44,66)"
             ],
             [
              1,
              "rgb(90,179,244)"
             ]
            ],
            "type": "heatmapgl"
           }
          ],
          "histogram": [
           {
            "marker": {
             "pattern": {
              "fillmode": "overlay",
              "size": 10,
              "solidity": 0.2
             }
            },
            "type": "histogram"
           }
          ],
          "histogram2d": [
           {
            "colorbar": {
             "outlinewidth": 0,
             "tickcolor": "rgb(237,237,237)",
             "ticklen": 6,
             "ticks": "inside"
            },
            "colorscale": [
             [
              0,
              "rgb(20,44,66)"
             ],
             [
              1,
              "rgb(90,179,244)"
             ]
            ],
            "type": "histogram2d"
           }
          ],
          "histogram2dcontour": [
           {
            "colorbar": {
             "outlinewidth": 0,
             "tickcolor": "rgb(237,237,237)",
             "ticklen": 6,
             "ticks": "inside"
            },
            "colorscale": [
             [
              0,
              "rgb(20,44,66)"
             ],
             [
              1,
              "rgb(90,179,244)"
             ]
            ],
            "type": "histogram2dcontour"
           }
          ],
          "mesh3d": [
           {
            "colorbar": {
             "outlinewidth": 0,
             "tickcolor": "rgb(237,237,237)",
             "ticklen": 6,
             "ticks": "inside"
            },
            "type": "mesh3d"
           }
          ],
          "parcoords": [
           {
            "line": {
             "colorbar": {
              "outlinewidth": 0,
              "tickcolor": "rgb(237,237,237)",
              "ticklen": 6,
              "ticks": "inside"
             }
            },
            "type": "parcoords"
           }
          ],
          "pie": [
           {
            "automargin": true,
            "type": "pie"
           }
          ],
          "scatter": [
           {
            "marker": {
             "colorbar": {
              "outlinewidth": 0,
              "tickcolor": "rgb(237,237,237)",
              "ticklen": 6,
              "ticks": "inside"
             }
            },
            "type": "scatter"
           }
          ],
          "scatter3d": [
           {
            "line": {
             "colorbar": {
              "outlinewidth": 0,
              "tickcolor": "rgb(237,237,237)",
              "ticklen": 6,
              "ticks": "inside"
             }
            },
            "marker": {
             "colorbar": {
              "outlinewidth": 0,
              "tickcolor": "rgb(237,237,237)",
              "ticklen": 6,
              "ticks": "inside"
             }
            },
            "type": "scatter3d"
           }
          ],
          "scattercarpet": [
           {
            "marker": {
             "colorbar": {
              "outlinewidth": 0,
              "tickcolor": "rgb(237,237,237)",
              "ticklen": 6,
              "ticks": "inside"
             }
            },
            "type": "scattercarpet"
           }
          ],
          "scattergeo": [
           {
            "marker": {
             "colorbar": {
              "outlinewidth": 0,
              "tickcolor": "rgb(237,237,237)",
              "ticklen": 6,
              "ticks": "inside"
             }
            },
            "type": "scattergeo"
           }
          ],
          "scattergl": [
           {
            "marker": {
             "colorbar": {
              "outlinewidth": 0,
              "tickcolor": "rgb(237,237,237)",
              "ticklen": 6,
              "ticks": "inside"
             }
            },
            "type": "scattergl"
           }
          ],
          "scattermapbox": [
           {
            "marker": {
             "colorbar": {
              "outlinewidth": 0,
              "tickcolor": "rgb(237,237,237)",
              "ticklen": 6,
              "ticks": "inside"
             }
            },
            "type": "scattermapbox"
           }
          ],
          "scatterpolar": [
           {
            "marker": {
             "colorbar": {
              "outlinewidth": 0,
              "tickcolor": "rgb(237,237,237)",
              "ticklen": 6,
              "ticks": "inside"
             }
            },
            "type": "scatterpolar"
           }
          ],
          "scatterpolargl": [
           {
            "marker": {
             "colorbar": {
              "outlinewidth": 0,
              "tickcolor": "rgb(237,237,237)",
              "ticklen": 6,
              "ticks": "inside"
             }
            },
            "type": "scatterpolargl"
           }
          ],
          "scatterternary": [
           {
            "marker": {
             "colorbar": {
              "outlinewidth": 0,
              "tickcolor": "rgb(237,237,237)",
              "ticklen": 6,
              "ticks": "inside"
             }
            },
            "type": "scatterternary"
           }
          ],
          "surface": [
           {
            "colorbar": {
             "outlinewidth": 0,
             "tickcolor": "rgb(237,237,237)",
             "ticklen": 6,
             "ticks": "inside"
            },
            "colorscale": [
             [
              0,
              "rgb(20,44,66)"
             ],
             [
              1,
              "rgb(90,179,244)"
             ]
            ],
            "type": "surface"
           }
          ],
          "table": [
           {
            "cells": {
             "fill": {
              "color": "rgb(237,237,237)"
             },
             "line": {
              "color": "white"
             }
            },
            "header": {
             "fill": {
              "color": "rgb(217,217,217)"
             },
             "line": {
              "color": "white"
             }
            },
            "type": "table"
           }
          ]
         },
         "layout": {
          "annotationdefaults": {
           "arrowhead": 0,
           "arrowwidth": 1
          },
          "autotypenumbers": "strict",
          "coloraxis": {
           "colorbar": {
            "outlinewidth": 0,
            "tickcolor": "rgb(237,237,237)",
            "ticklen": 6,
            "ticks": "inside"
           }
          },
          "colorscale": {
           "sequential": [
            [
             0,
             "rgb(20,44,66)"
            ],
            [
             1,
             "rgb(90,179,244)"
            ]
           ],
           "sequentialminus": [
            [
             0,
             "rgb(20,44,66)"
            ],
            [
             1,
             "rgb(90,179,244)"
            ]
           ]
          },
          "colorway": [
           "#F8766D",
           "#A3A500",
           "#00BF7D",
           "#00B0F6",
           "#E76BF3"
          ],
          "font": {
           "color": "rgb(51,51,51)"
          },
          "geo": {
           "bgcolor": "white",
           "lakecolor": "white",
           "landcolor": "rgb(237,237,237)",
           "showlakes": true,
           "showland": true,
           "subunitcolor": "white"
          },
          "hoverlabel": {
           "align": "left"
          },
          "hovermode": "closest",
          "paper_bgcolor": "white",
          "plot_bgcolor": "rgb(237,237,237)",
          "polar": {
           "angularaxis": {
            "gridcolor": "white",
            "linecolor": "white",
            "showgrid": true,
            "tickcolor": "rgb(51,51,51)",
            "ticks": "outside"
           },
           "bgcolor": "rgb(237,237,237)",
           "radialaxis": {
            "gridcolor": "white",
            "linecolor": "white",
            "showgrid": true,
            "tickcolor": "rgb(51,51,51)",
            "ticks": "outside"
           }
          },
          "scene": {
           "xaxis": {
            "backgroundcolor": "rgb(237,237,237)",
            "gridcolor": "white",
            "gridwidth": 2,
            "linecolor": "white",
            "showbackground": true,
            "showgrid": true,
            "tickcolor": "rgb(51,51,51)",
            "ticks": "outside",
            "zerolinecolor": "white"
           },
           "yaxis": {
            "backgroundcolor": "rgb(237,237,237)",
            "gridcolor": "white",
            "gridwidth": 2,
            "linecolor": "white",
            "showbackground": true,
            "showgrid": true,
            "tickcolor": "rgb(51,51,51)",
            "ticks": "outside",
            "zerolinecolor": "white"
           },
           "zaxis": {
            "backgroundcolor": "rgb(237,237,237)",
            "gridcolor": "white",
            "gridwidth": 2,
            "linecolor": "white",
            "showbackground": true,
            "showgrid": true,
            "tickcolor": "rgb(51,51,51)",
            "ticks": "outside",
            "zerolinecolor": "white"
           }
          },
          "shapedefaults": {
           "fillcolor": "black",
           "line": {
            "width": 0
           },
           "opacity": 0.3
          },
          "ternary": {
           "aaxis": {
            "gridcolor": "white",
            "linecolor": "white",
            "showgrid": true,
            "tickcolor": "rgb(51,51,51)",
            "ticks": "outside"
           },
           "baxis": {
            "gridcolor": "white",
            "linecolor": "white",
            "showgrid": true,
            "tickcolor": "rgb(51,51,51)",
            "ticks": "outside"
           },
           "bgcolor": "rgb(237,237,237)",
           "caxis": {
            "gridcolor": "white",
            "linecolor": "white",
            "showgrid": true,
            "tickcolor": "rgb(51,51,51)",
            "ticks": "outside"
           }
          },
          "xaxis": {
           "automargin": true,
           "gridcolor": "white",
           "linecolor": "white",
           "showgrid": true,
           "tickcolor": "rgb(51,51,51)",
           "ticks": "outside",
           "title": {
            "standoff": 15
           },
           "zerolinecolor": "white"
          },
          "yaxis": {
           "automargin": true,
           "gridcolor": "white",
           "linecolor": "white",
           "showgrid": true,
           "tickcolor": "rgb(51,51,51)",
           "ticks": "outside",
           "title": {
            "standoff": 15
           },
           "zerolinecolor": "white"
          }
         }
        },
        "title": {
         "text": "Model: KNN, f1_score: 0.77"
        }
       }
      },
      "text/html": "<div>                            <div id=\"1bfe1e2e-5e07-41bc-811b-2c4c7079298d\" class=\"plotly-graph-div\" style=\"height:525px; width:100%;\"></div>            <script type=\"text/javascript\">                require([\"plotly\"], function(Plotly) {                    window.PLOTLYENV=window.PLOTLYENV || {};                                    if (document.getElementById(\"1bfe1e2e-5e07-41bc-811b-2c4c7079298d\")) {                    Plotly.newPlot(                        \"1bfe1e2e-5e07-41bc-811b-2c4c7079298d\",                        [{\"hovertemplate\":\"x=%{x}<br>y=%{y}<br>z=%{z}<br>color=%{marker.color}<extra></extra>\",\"legendgroup\":\"\",\"marker\":{\"color\":[0,0,1,2,1,2,1,1,0,1,1,2,1,0,2,1,0,2,1,1,1,2,0,1,1,0,1,1,0,1,1,1,2,0,1,1,1,1,1,0,1,1,1,1,1,1,0,1,2,2,1,2,1,0,1,1,0,1,0,2,1,1,0,2,1,0,2,0,0,1,0,2,1,1,1,1,2,1,1,2,2,2,2,1],\"coloraxis\":\"coloraxis\",\"symbol\":\"circle\"},\"mode\":\"markers\",\"name\":\"\",\"scene\":\"scene\",\"showlegend\":false,\"type\":\"scatter3d\",\"x\":[-5579.132853986817,-2229.8757219663726,-1809.0442575678576,113.45721217840564,-1144.7145584188972,1278.4838844168269,1788.2607840751991,2174.9294040785985,-6171.281759059223,-1628.6467141622322,-1564.4155427410008,12709.006352249398,-1368.8502108186312,-4862.533193830912,8549.651301643367,1741.365660477752,-5249.612308482715,6392.441532499017,-1227.2696937622486,-3103.5475392736926,521.9155042513878,2561.8629757906597,-7672.081119281198,-1779.4457995132702,-3780.2685392311014,-8203.160062495805,-345.08890920506394,-3357.1075758567194,-6825.21574087193,7960.411395013959,3718.2371702844894,2292.273321529909,3886.413009914218,-5292.282291154736,-266.6762371215055,-628.976315434508,2957.9549873057667,-439.8648794192993,4745.5787517286435,-6587.499577855115,-1402.3480626481462,4289.494231316581,5707.976234644557,-1103.278124498467,2244.042209217642,3792.881707193988,-4230.539776367649,-1318.2787050847583,70.23456512676256,6509.702425577635,-1524.712718101601,2197.260544358018,-2855.923566995219,-6847.741660861886,-2663.382157689846,34.91189749179737,-5495.391104739687,8493.193903390462,-4808.5012595958515,3174.3295059610846,827.7991144171154,3767.063424101913,-6424.141720342581,2561.657874494515,830.7537561772019,-7180.571578081321,4699.139388615814,-1980.642521616638,-4940.442324454727,192.34584436151673,-6032.342760200403,6824.2765685652685,-1548.2734324186865,-2547.039390123248,-4022.2076232250392,-43.27658866422988,-1065.9354698322802,-828.6601871129033,125.3482679654763,9957.809368522658,10981.789991204569,-305.66701276656994,10940.354499140021,-1328.7194223494487],\"y\":[276.0301569445654,2426.297792302829,159.47907090175858,-2553.5211399242057,-330.33569003005186,3952.2743979187267,-1675.928023110469,1231.976137217722,315.76038744211337,-952.15337371189,1597.7824618314285,3280.944142325782,385.6298968087615,-42.14023567240143,-781.5673406755553,-1150.0460433829453,2047.2513724091564,-3920.797643231349,-966.6750512646377,-48.221229523285736,-665.7660057499457,188.00806001339336,720.0950313673457,-963.9153273699249,159.97634931827753,1379.4265352951888,533.9921681036606,-342.8849717439503,438.5008543011073,734.692331095641,-3908.016867907628,129.55828094580616,3745.6608024251677,-941.3463650627187,-1343.6902834270793,-536.6130964282396,-3625.089525895901,2011.0813751302767,-604.8871682271123,621.6930855923752,-1066.5807168811214,-1062.8452350256114,507.832854223479,-1462.6554377475306,-1138.1208484602116,-3076.5195056321236,3845.3642278449256,-2249.352052761414,1096.7826986302775,-1860.1756281683413,-1639.4656321404625,1954.9378354378036,-1219.1056553788724,1049.1775441233465,-160.63230777658586,-2093.380736971014,1506.7707401769323,2600.969952580607,938.4615749486953,4559.320535521743,-1149.4740407069382,-2862.8251489475138,761.2477435903489,2105.788226633959,-222.91957406366353,1833.3663743987631,-1879.7162643024396,2100.7583158979246,338.88815883347127,1419.393926100214,415.54253599358793,-5741.03569033289,-963.8270942226214,319.1002783192363,355.644451664375,-2356.854148732459,-2922.587505229138,-836.9506659814227,204.87817927713974,1166.2998452661545,6132.4148896157185,-4464.3180240107195,3676.979426467898,556.9062905746221],\"z\":[136.8524778338577,617.770199087728,1183.6663573838046,1445.7237259072604,-52.022627105282844,414.0034128826256,-516.2848626180054,-286.3452019557255,-196.3405420502074,-548.7078463682406,-611.5097913149563,215.11519750857752,-986.8006519910919,-12.115214828643147,-1344.2514655520974,450.49641798088317,-455.36419021284013,-108.96279774335012,151.69382358426157,-990.1704804700572,-2711.223472866454,2607.480652876502,305.60250401840165,1614.030294283185,344.6888494384717,133.6399923747495,524.6084013476514,209.7459935858816,466.13392987597587,-4278.208016367656,1918.7245265048625,-2121.3074037793226,725.2900626147814,1217.3394898379638,729.252337219906,-321.73091807841155,600.1996002786635,-696.9182561667827,-643.6079109777902,82.94233051449037,-85.59979003716859,-2767.520721660875,-970.0520191107089,1060.6630359640287,814.5669143879052,2508.648466579874,-157.47900355214003,1270.1729846987982,-102.80537175628494,-1360.7417865349607,-594.1938515813534,1554.127079256898,310.27407674989763,-419.6587925582127,-408.93702520257796,1355.5685760443505,-1234.4584187510234,-3940.151574085118,371.1741860106026,1152.365720346137,89.16535137757899,-955.538086346085,170.43678230689014,459.4504650362092,175.46829116509167,-428.2287369264296,-1165.0932499692763,-1665.7154650790455,1040.730822280553,1417.0458988232008,120.15676645870113,-347.26081492193504,118.02318958750516,-2511.1467707793504,-380.7908445672828,-1287.9682530873145,640.8130065088261,-181.13058069295977,-621.1954330056697,5421.798171381167,2639.1373678735945,439.2683293113053,82.81768355098102,-839.3355019879954]}],                        {\"coloraxis\":{\"colorbar\":{\"title\":{\"text\":\"color\"}},\"colorscale\":[[0.0,\"rgb(136, 204, 238)\"],[0.1,\"rgb(204, 102, 119)\"],[0.2,\"rgb(221, 204, 119)\"],[0.3,\"rgb(17, 119, 51)\"],[0.4,\"rgb(51, 34, 136)\"],[0.5,\"rgb(170, 68, 153)\"],[0.6,\"rgb(68, 170, 153)\"],[0.7,\"rgb(153, 153, 51)\"],[0.8,\"rgb(136, 34, 85)\"],[0.9,\"rgb(102, 17, 0)\"],[1.0,\"rgb(136, 136, 136)\"]],\"showscale\":false},\"legend\":{\"tracegroupgap\":0},\"scene\":{\"domain\":{\"x\":[0.0,1.0],\"y\":[0.0,1.0]},\"xaxis\":{\"title\":{\"text\":\"x\"}},\"yaxis\":{\"title\":{\"text\":\"y\"}},\"zaxis\":{\"title\":{\"text\":\"z\"}}},\"template\":{\"data\":{\"bar\":[{\"error_x\":{\"color\":\"rgb(51,51,51)\"},\"error_y\":{\"color\":\"rgb(51,51,51)\"},\"marker\":{\"line\":{\"color\":\"rgb(237,237,237)\",\"width\":0.5},\"pattern\":{\"fillmode\":\"overlay\",\"size\":10,\"solidity\":0.2}},\"type\":\"bar\"}],\"barpolar\":[{\"marker\":{\"line\":{\"color\":\"rgb(237,237,237)\",\"width\":0.5},\"pattern\":{\"fillmode\":\"overlay\",\"size\":10,\"solidity\":0.2}},\"type\":\"barpolar\"}],\"carpet\":[{\"aaxis\":{\"endlinecolor\":\"rgb(51,51,51)\",\"gridcolor\":\"white\",\"linecolor\":\"white\",\"minorgridcolor\":\"white\",\"startlinecolor\":\"rgb(51,51,51)\"},\"baxis\":{\"endlinecolor\":\"rgb(51,51,51)\",\"gridcolor\":\"white\",\"linecolor\":\"white\",\"minorgridcolor\":\"white\",\"startlinecolor\":\"rgb(51,51,51)\"},\"type\":\"carpet\"}],\"choropleth\":[{\"colorbar\":{\"outlinewidth\":0,\"tickcolor\":\"rgb(237,237,237)\",\"ticklen\":6,\"ticks\":\"inside\"},\"type\":\"choropleth\"}],\"contour\":[{\"colorbar\":{\"outlinewidth\":0,\"tickcolor\":\"rgb(237,237,237)\",\"ticklen\":6,\"ticks\":\"inside\"},\"colorscale\":[[0,\"rgb(20,44,66)\"],[1,\"rgb(90,179,244)\"]],\"type\":\"contour\"}],\"contourcarpet\":[{\"colorbar\":{\"outlinewidth\":0,\"tickcolor\":\"rgb(237,237,237)\",\"ticklen\":6,\"ticks\":\"inside\"},\"type\":\"contourcarpet\"}],\"heatmap\":[{\"colorbar\":{\"outlinewidth\":0,\"tickcolor\":\"rgb(237,237,237)\",\"ticklen\":6,\"ticks\":\"inside\"},\"colorscale\":[[0,\"rgb(20,44,66)\"],[1,\"rgb(90,179,244)\"]],\"type\":\"heatmap\"}],\"heatmapgl\":[{\"colorbar\":{\"outlinewidth\":0,\"tickcolor\":\"rgb(237,237,237)\",\"ticklen\":6,\"ticks\":\"inside\"},\"colorscale\":[[0,\"rgb(20,44,66)\"],[1,\"rgb(90,179,244)\"]],\"type\":\"heatmapgl\"}],\"histogram\":[{\"marker\":{\"pattern\":{\"fillmode\":\"overlay\",\"size\":10,\"solidity\":0.2}},\"type\":\"histogram\"}],\"histogram2d\":[{\"colorbar\":{\"outlinewidth\":0,\"tickcolor\":\"rgb(237,237,237)\",\"ticklen\":6,\"ticks\":\"inside\"},\"colorscale\":[[0,\"rgb(20,44,66)\"],[1,\"rgb(90,179,244)\"]],\"type\":\"histogram2d\"}],\"histogram2dcontour\":[{\"colorbar\":{\"outlinewidth\":0,\"tickcolor\":\"rgb(237,237,237)\",\"ticklen\":6,\"ticks\":\"inside\"},\"colorscale\":[[0,\"rgb(20,44,66)\"],[1,\"rgb(90,179,244)\"]],\"type\":\"histogram2dcontour\"}],\"mesh3d\":[{\"colorbar\":{\"outlinewidth\":0,\"tickcolor\":\"rgb(237,237,237)\",\"ticklen\":6,\"ticks\":\"inside\"},\"type\":\"mesh3d\"}],\"parcoords\":[{\"line\":{\"colorbar\":{\"outlinewidth\":0,\"tickcolor\":\"rgb(237,237,237)\",\"ticklen\":6,\"ticks\":\"inside\"}},\"type\":\"parcoords\"}],\"pie\":[{\"automargin\":true,\"type\":\"pie\"}],\"scatter\":[{\"marker\":{\"colorbar\":{\"outlinewidth\":0,\"tickcolor\":\"rgb(237,237,237)\",\"ticklen\":6,\"ticks\":\"inside\"}},\"type\":\"scatter\"}],\"scatter3d\":[{\"line\":{\"colorbar\":{\"outlinewidth\":0,\"tickcolor\":\"rgb(237,237,237)\",\"ticklen\":6,\"ticks\":\"inside\"}},\"marker\":{\"colorbar\":{\"outlinewidth\":0,\"tickcolor\":\"rgb(237,237,237)\",\"ticklen\":6,\"ticks\":\"inside\"}},\"type\":\"scatter3d\"}],\"scattercarpet\":[{\"marker\":{\"colorbar\":{\"outlinewidth\":0,\"tickcolor\":\"rgb(237,237,237)\",\"ticklen\":6,\"ticks\":\"inside\"}},\"type\":\"scattercarpet\"}],\"scattergeo\":[{\"marker\":{\"colorbar\":{\"outlinewidth\":0,\"tickcolor\":\"rgb(237,237,237)\",\"ticklen\":6,\"ticks\":\"inside\"}},\"type\":\"scattergeo\"}],\"scattergl\":[{\"marker\":{\"colorbar\":{\"outlinewidth\":0,\"tickcolor\":\"rgb(237,237,237)\",\"ticklen\":6,\"ticks\":\"inside\"}},\"type\":\"scattergl\"}],\"scattermapbox\":[{\"marker\":{\"colorbar\":{\"outlinewidth\":0,\"tickcolor\":\"rgb(237,237,237)\",\"ticklen\":6,\"ticks\":\"inside\"}},\"type\":\"scattermapbox\"}],\"scatterpolar\":[{\"marker\":{\"colorbar\":{\"outlinewidth\":0,\"tickcolor\":\"rgb(237,237,237)\",\"ticklen\":6,\"ticks\":\"inside\"}},\"type\":\"scatterpolar\"}],\"scatterpolargl\":[{\"marker\":{\"colorbar\":{\"outlinewidth\":0,\"tickcolor\":\"rgb(237,237,237)\",\"ticklen\":6,\"ticks\":\"inside\"}},\"type\":\"scatterpolargl\"}],\"scatterternary\":[{\"marker\":{\"colorbar\":{\"outlinewidth\":0,\"tickcolor\":\"rgb(237,237,237)\",\"ticklen\":6,\"ticks\":\"inside\"}},\"type\":\"scatterternary\"}],\"surface\":[{\"colorbar\":{\"outlinewidth\":0,\"tickcolor\":\"rgb(237,237,237)\",\"ticklen\":6,\"ticks\":\"inside\"},\"colorscale\":[[0,\"rgb(20,44,66)\"],[1,\"rgb(90,179,244)\"]],\"type\":\"surface\"}],\"table\":[{\"cells\":{\"fill\":{\"color\":\"rgb(237,237,237)\"},\"line\":{\"color\":\"white\"}},\"header\":{\"fill\":{\"color\":\"rgb(217,217,217)\"},\"line\":{\"color\":\"white\"}},\"type\":\"table\"}]},\"layout\":{\"annotationdefaults\":{\"arrowhead\":0,\"arrowwidth\":1},\"autotypenumbers\":\"strict\",\"coloraxis\":{\"colorbar\":{\"outlinewidth\":0,\"tickcolor\":\"rgb(237,237,237)\",\"ticklen\":6,\"ticks\":\"inside\"}},\"colorscale\":{\"sequential\":[[0,\"rgb(20,44,66)\"],[1,\"rgb(90,179,244)\"]],\"sequentialminus\":[[0,\"rgb(20,44,66)\"],[1,\"rgb(90,179,244)\"]]},\"colorway\":[\"#F8766D\",\"#A3A500\",\"#00BF7D\",\"#00B0F6\",\"#E76BF3\"],\"font\":{\"color\":\"rgb(51,51,51)\"},\"geo\":{\"bgcolor\":\"white\",\"lakecolor\":\"white\",\"landcolor\":\"rgb(237,237,237)\",\"showlakes\":true,\"showland\":true,\"subunitcolor\":\"white\"},\"hoverlabel\":{\"align\":\"left\"},\"hovermode\":\"closest\",\"paper_bgcolor\":\"white\",\"plot_bgcolor\":\"rgb(237,237,237)\",\"polar\":{\"angularaxis\":{\"gridcolor\":\"white\",\"linecolor\":\"white\",\"showgrid\":true,\"tickcolor\":\"rgb(51,51,51)\",\"ticks\":\"outside\"},\"bgcolor\":\"rgb(237,237,237)\",\"radialaxis\":{\"gridcolor\":\"white\",\"linecolor\":\"white\",\"showgrid\":true,\"tickcolor\":\"rgb(51,51,51)\",\"ticks\":\"outside\"}},\"scene\":{\"xaxis\":{\"backgroundcolor\":\"rgb(237,237,237)\",\"gridcolor\":\"white\",\"gridwidth\":2,\"linecolor\":\"white\",\"showbackground\":true,\"showgrid\":true,\"tickcolor\":\"rgb(51,51,51)\",\"ticks\":\"outside\",\"zerolinecolor\":\"white\"},\"yaxis\":{\"backgroundcolor\":\"rgb(237,237,237)\",\"gridcolor\":\"white\",\"gridwidth\":2,\"linecolor\":\"white\",\"showbackground\":true,\"showgrid\":true,\"tickcolor\":\"rgb(51,51,51)\",\"ticks\":\"outside\",\"zerolinecolor\":\"white\"},\"zaxis\":{\"backgroundcolor\":\"rgb(237,237,237)\",\"gridcolor\":\"white\",\"gridwidth\":2,\"linecolor\":\"white\",\"showbackground\":true,\"showgrid\":true,\"tickcolor\":\"rgb(51,51,51)\",\"ticks\":\"outside\",\"zerolinecolor\":\"white\"}},\"shapedefaults\":{\"fillcolor\":\"black\",\"line\":{\"width\":0},\"opacity\":0.3},\"ternary\":{\"aaxis\":{\"gridcolor\":\"white\",\"linecolor\":\"white\",\"showgrid\":true,\"tickcolor\":\"rgb(51,51,51)\",\"ticks\":\"outside\"},\"baxis\":{\"gridcolor\":\"white\",\"linecolor\":\"white\",\"showgrid\":true,\"tickcolor\":\"rgb(51,51,51)\",\"ticks\":\"outside\"},\"bgcolor\":\"rgb(237,237,237)\",\"caxis\":{\"gridcolor\":\"white\",\"linecolor\":\"white\",\"showgrid\":true,\"tickcolor\":\"rgb(51,51,51)\",\"ticks\":\"outside\"}},\"xaxis\":{\"automargin\":true,\"gridcolor\":\"white\",\"linecolor\":\"white\",\"showgrid\":true,\"tickcolor\":\"rgb(51,51,51)\",\"ticks\":\"outside\",\"title\":{\"standoff\":15},\"zerolinecolor\":\"white\"},\"yaxis\":{\"automargin\":true,\"gridcolor\":\"white\",\"linecolor\":\"white\",\"showgrid\":true,\"tickcolor\":\"rgb(51,51,51)\",\"ticks\":\"outside\",\"title\":{\"standoff\":15},\"zerolinecolor\":\"white\"}}},\"title\":{\"text\":\"Model: KNN, f1_score: 0.77\"}},                        {\"responsive\": true}                    ).then(function(){\n                            \nvar gd = document.getElementById('1bfe1e2e-5e07-41bc-811b-2c4c7079298d');\nvar x = new MutationObserver(function (mutations, observer) {{\n        var display = window.getComputedStyle(gd).display;\n        if (!display || display === 'none') {{\n            console.log([gd, 'removed!']);\n            Plotly.purge(gd);\n            observer.disconnect();\n        }}\n}});\n\n// Listen for the removal of the full notebook cells\nvar notebookContainer = gd.closest('#notebook-container');\nif (notebookContainer) {{\n    x.observe(notebookContainer, {childList: true});\n}}\n\n// Listen for the clearing of the current output cell\nvar outputEl = gd.closest('.output');\nif (outputEl) {{\n    x.observe(outputEl, {childList: true});\n}}\n\n                        })                };                });            </script>        </div>"
     },
     "metadata": {},
     "output_type": "display_data"
    },
    {
     "data": {
      "application/vnd.plotly.v1+json": {
       "config": {
        "plotlyServerURL": "https://plot.ly"
       },
       "data": [
        {
         "hovertemplate": "x=%{x}<br>y=%{y}<br>z=%{z}<br>color=%{marker.color}<extra></extra>",
         "legendgroup": "",
         "marker": {
          "color": [
           0,
           1,
           1,
           1,
           1,
           1,
           1,
           1,
           0,
           1,
           1,
           2,
           1,
           0,
           2,
           1,
           0,
           2,
           1,
           1,
           1,
           1,
           0,
           1,
           1,
           0,
           1,
           1,
           0,
           1,
           2,
           1,
           1,
           0,
           1,
           1,
           2,
           1,
           1,
           0,
           1,
           1,
           1,
           1,
           1,
           1,
           0,
           1,
           1,
           2,
           1,
           2,
           1,
           0,
           1,
           1,
           0,
           1,
           0,
           1,
           1,
           2,
           0,
           1,
           1,
           0,
           2,
           1,
           0,
           1,
           0,
           2,
           1,
           1,
           1,
           1,
           1,
           1,
           1,
           2,
           2,
           1,
           2,
           1
          ],
          "coloraxis": "coloraxis",
          "symbol": "circle"
         },
         "mode": "markers",
         "name": "",
         "scene": "scene",
         "showlegend": false,
         "type": "scatter3d",
         "x": [
          -5579.132853986817,
          -2229.8757219663726,
          -1809.0442575678576,
          113.45721217840564,
          -1144.7145584188972,
          1278.4838844168269,
          1788.2607840751991,
          2174.9294040785985,
          -6171.281759059223,
          -1628.6467141622322,
          -1564.4155427410008,
          12709.006352249398,
          -1368.8502108186312,
          -4862.533193830912,
          8549.651301643367,
          1741.365660477752,
          -5249.612308482715,
          6392.441532499017,
          -1227.2696937622486,
          -3103.5475392736926,
          521.9155042513878,
          2561.8629757906597,
          -7672.081119281198,
          -1779.4457995132702,
          -3780.2685392311014,
          -8203.160062495805,
          -345.08890920506394,
          -3357.1075758567194,
          -6825.21574087193,
          7960.411395013959,
          3718.2371702844894,
          2292.273321529909,
          3886.413009914218,
          -5292.282291154736,
          -266.6762371215055,
          -628.976315434508,
          2957.9549873057667,
          -439.8648794192993,
          4745.5787517286435,
          -6587.499577855115,
          -1402.3480626481462,
          4289.494231316581,
          5707.976234644557,
          -1103.278124498467,
          2244.042209217642,
          3792.881707193988,
          -4230.539776367649,
          -1318.2787050847583,
          70.23456512676256,
          6509.702425577635,
          -1524.712718101601,
          2197.260544358018,
          -2855.923566995219,
          -6847.741660861886,
          -2663.382157689846,
          34.91189749179737,
          -5495.391104739687,
          8493.193903390462,
          -4808.5012595958515,
          3174.3295059610846,
          827.7991144171154,
          3767.063424101913,
          -6424.141720342581,
          2561.657874494515,
          830.7537561772019,
          -7180.571578081321,
          4699.139388615814,
          -1980.642521616638,
          -4940.442324454727,
          192.34584436151673,
          -6032.342760200403,
          6824.2765685652685,
          -1548.2734324186865,
          -2547.039390123248,
          -4022.2076232250392,
          -43.27658866422988,
          -1065.9354698322802,
          -828.6601871129033,
          125.3482679654763,
          9957.809368522658,
          10981.789991204569,
          -305.66701276656994,
          10940.354499140021,
          -1328.7194223494487
         ],
         "y": [
          276.0301569445654,
          2426.297792302829,
          159.47907090175858,
          -2553.5211399242057,
          -330.33569003005186,
          3952.2743979187267,
          -1675.928023110469,
          1231.976137217722,
          315.76038744211337,
          -952.15337371189,
          1597.7824618314285,
          3280.944142325782,
          385.6298968087615,
          -42.14023567240143,
          -781.5673406755553,
          -1150.0460433829453,
          2047.2513724091564,
          -3920.797643231349,
          -966.6750512646377,
          -48.221229523285736,
          -665.7660057499457,
          188.00806001339336,
          720.0950313673457,
          -963.9153273699249,
          159.97634931827753,
          1379.4265352951888,
          533.9921681036606,
          -342.8849717439503,
          438.5008543011073,
          734.692331095641,
          -3908.016867907628,
          129.55828094580616,
          3745.6608024251677,
          -941.3463650627187,
          -1343.6902834270793,
          -536.6130964282396,
          -3625.089525895901,
          2011.0813751302767,
          -604.8871682271123,
          621.6930855923752,
          -1066.5807168811214,
          -1062.8452350256114,
          507.832854223479,
          -1462.6554377475306,
          -1138.1208484602116,
          -3076.5195056321236,
          3845.3642278449256,
          -2249.352052761414,
          1096.7826986302775,
          -1860.1756281683413,
          -1639.4656321404625,
          1954.9378354378036,
          -1219.1056553788724,
          1049.1775441233465,
          -160.63230777658586,
          -2093.380736971014,
          1506.7707401769323,
          2600.969952580607,
          938.4615749486953,
          4559.320535521743,
          -1149.4740407069382,
          -2862.8251489475138,
          761.2477435903489,
          2105.788226633959,
          -222.91957406366353,
          1833.3663743987631,
          -1879.7162643024396,
          2100.7583158979246,
          338.88815883347127,
          1419.393926100214,
          415.54253599358793,
          -5741.03569033289,
          -963.8270942226214,
          319.1002783192363,
          355.644451664375,
          -2356.854148732459,
          -2922.587505229138,
          -836.9506659814227,
          204.87817927713974,
          1166.2998452661545,
          6132.4148896157185,
          -4464.3180240107195,
          3676.979426467898,
          556.9062905746221
         ],
         "z": [
          136.8524778338577,
          617.770199087728,
          1183.6663573838046,
          1445.7237259072604,
          -52.022627105282844,
          414.0034128826256,
          -516.2848626180054,
          -286.3452019557255,
          -196.3405420502074,
          -548.7078463682406,
          -611.5097913149563,
          215.11519750857752,
          -986.8006519910919,
          -12.115214828643147,
          -1344.2514655520974,
          450.49641798088317,
          -455.36419021284013,
          -108.96279774335012,
          151.69382358426157,
          -990.1704804700572,
          -2711.223472866454,
          2607.480652876502,
          305.60250401840165,
          1614.030294283185,
          344.6888494384717,
          133.6399923747495,
          524.6084013476514,
          209.7459935858816,
          466.13392987597587,
          -4278.208016367656,
          1918.7245265048625,
          -2121.3074037793226,
          725.2900626147814,
          1217.3394898379638,
          729.252337219906,
          -321.73091807841155,
          600.1996002786635,
          -696.9182561667827,
          -643.6079109777902,
          82.94233051449037,
          -85.59979003716859,
          -2767.520721660875,
          -970.0520191107089,
          1060.6630359640287,
          814.5669143879052,
          2508.648466579874,
          -157.47900355214003,
          1270.1729846987982,
          -102.80537175628494,
          -1360.7417865349607,
          -594.1938515813534,
          1554.127079256898,
          310.27407674989763,
          -419.6587925582127,
          -408.93702520257796,
          1355.5685760443505,
          -1234.4584187510234,
          -3940.151574085118,
          371.1741860106026,
          1152.365720346137,
          89.16535137757899,
          -955.538086346085,
          170.43678230689014,
          459.4504650362092,
          175.46829116509167,
          -428.2287369264296,
          -1165.0932499692763,
          -1665.7154650790455,
          1040.730822280553,
          1417.0458988232008,
          120.15676645870113,
          -347.26081492193504,
          118.02318958750516,
          -2511.1467707793504,
          -380.7908445672828,
          -1287.9682530873145,
          640.8130065088261,
          -181.13058069295977,
          -621.1954330056697,
          5421.798171381167,
          2639.1373678735945,
          439.2683293113053,
          82.81768355098102,
          -839.3355019879954
         ]
        }
       ],
       "layout": {
        "coloraxis": {
         "colorbar": {
          "title": {
           "text": "color"
          }
         },
         "colorscale": [
          [
           0.0,
           "rgb(136, 204, 238)"
          ],
          [
           0.1,
           "rgb(204, 102, 119)"
          ],
          [
           0.2,
           "rgb(221, 204, 119)"
          ],
          [
           0.3,
           "rgb(17, 119, 51)"
          ],
          [
           0.4,
           "rgb(51, 34, 136)"
          ],
          [
           0.5,
           "rgb(170, 68, 153)"
          ],
          [
           0.6,
           "rgb(68, 170, 153)"
          ],
          [
           0.7,
           "rgb(153, 153, 51)"
          ],
          [
           0.8,
           "rgb(136, 34, 85)"
          ],
          [
           0.9,
           "rgb(102, 17, 0)"
          ],
          [
           1.0,
           "rgb(136, 136, 136)"
          ]
         ],
         "showscale": false
        },
        "legend": {
         "tracegroupgap": 0
        },
        "scene": {
         "domain": {
          "x": [
           0.0,
           1.0
          ],
          "y": [
           0.0,
           1.0
          ]
         },
         "xaxis": {
          "title": {
           "text": "x"
          }
         },
         "yaxis": {
          "title": {
           "text": "y"
          }
         },
         "zaxis": {
          "title": {
           "text": "z"
          }
         }
        },
        "template": {
         "data": {
          "bar": [
           {
            "error_x": {
             "color": "rgb(51,51,51)"
            },
            "error_y": {
             "color": "rgb(51,51,51)"
            },
            "marker": {
             "line": {
              "color": "rgb(237,237,237)",
              "width": 0.5
             },
             "pattern": {
              "fillmode": "overlay",
              "size": 10,
              "solidity": 0.2
             }
            },
            "type": "bar"
           }
          ],
          "barpolar": [
           {
            "marker": {
             "line": {
              "color": "rgb(237,237,237)",
              "width": 0.5
             },
             "pattern": {
              "fillmode": "overlay",
              "size": 10,
              "solidity": 0.2
             }
            },
            "type": "barpolar"
           }
          ],
          "carpet": [
           {
            "aaxis": {
             "endlinecolor": "rgb(51,51,51)",
             "gridcolor": "white",
             "linecolor": "white",
             "minorgridcolor": "white",
             "startlinecolor": "rgb(51,51,51)"
            },
            "baxis": {
             "endlinecolor": "rgb(51,51,51)",
             "gridcolor": "white",
             "linecolor": "white",
             "minorgridcolor": "white",
             "startlinecolor": "rgb(51,51,51)"
            },
            "type": "carpet"
           }
          ],
          "choropleth": [
           {
            "colorbar": {
             "outlinewidth": 0,
             "tickcolor": "rgb(237,237,237)",
             "ticklen": 6,
             "ticks": "inside"
            },
            "type": "choropleth"
           }
          ],
          "contour": [
           {
            "colorbar": {
             "outlinewidth": 0,
             "tickcolor": "rgb(237,237,237)",
             "ticklen": 6,
             "ticks": "inside"
            },
            "colorscale": [
             [
              0,
              "rgb(20,44,66)"
             ],
             [
              1,
              "rgb(90,179,244)"
             ]
            ],
            "type": "contour"
           }
          ],
          "contourcarpet": [
           {
            "colorbar": {
             "outlinewidth": 0,
             "tickcolor": "rgb(237,237,237)",
             "ticklen": 6,
             "ticks": "inside"
            },
            "type": "contourcarpet"
           }
          ],
          "heatmap": [
           {
            "colorbar": {
             "outlinewidth": 0,
             "tickcolor": "rgb(237,237,237)",
             "ticklen": 6,
             "ticks": "inside"
            },
            "colorscale": [
             [
              0,
              "rgb(20,44,66)"
             ],
             [
              1,
              "rgb(90,179,244)"
             ]
            ],
            "type": "heatmap"
           }
          ],
          "heatmapgl": [
           {
            "colorbar": {
             "outlinewidth": 0,
             "tickcolor": "rgb(237,237,237)",
             "ticklen": 6,
             "ticks": "inside"
            },
            "colorscale": [
             [
              0,
              "rgb(20,44,66)"
             ],
             [
              1,
              "rgb(90,179,244)"
             ]
            ],
            "type": "heatmapgl"
           }
          ],
          "histogram": [
           {
            "marker": {
             "pattern": {
              "fillmode": "overlay",
              "size": 10,
              "solidity": 0.2
             }
            },
            "type": "histogram"
           }
          ],
          "histogram2d": [
           {
            "colorbar": {
             "outlinewidth": 0,
             "tickcolor": "rgb(237,237,237)",
             "ticklen": 6,
             "ticks": "inside"
            },
            "colorscale": [
             [
              0,
              "rgb(20,44,66)"
             ],
             [
              1,
              "rgb(90,179,244)"
             ]
            ],
            "type": "histogram2d"
           }
          ],
          "histogram2dcontour": [
           {
            "colorbar": {
             "outlinewidth": 0,
             "tickcolor": "rgb(237,237,237)",
             "ticklen": 6,
             "ticks": "inside"
            },
            "colorscale": [
             [
              0,
              "rgb(20,44,66)"
             ],
             [
              1,
              "rgb(90,179,244)"
             ]
            ],
            "type": "histogram2dcontour"
           }
          ],
          "mesh3d": [
           {
            "colorbar": {
             "outlinewidth": 0,
             "tickcolor": "rgb(237,237,237)",
             "ticklen": 6,
             "ticks": "inside"
            },
            "type": "mesh3d"
           }
          ],
          "parcoords": [
           {
            "line": {
             "colorbar": {
              "outlinewidth": 0,
              "tickcolor": "rgb(237,237,237)",
              "ticklen": 6,
              "ticks": "inside"
             }
            },
            "type": "parcoords"
           }
          ],
          "pie": [
           {
            "automargin": true,
            "type": "pie"
           }
          ],
          "scatter": [
           {
            "marker": {
             "colorbar": {
              "outlinewidth": 0,
              "tickcolor": "rgb(237,237,237)",
              "ticklen": 6,
              "ticks": "inside"
             }
            },
            "type": "scatter"
           }
          ],
          "scatter3d": [
           {
            "line": {
             "colorbar": {
              "outlinewidth": 0,
              "tickcolor": "rgb(237,237,237)",
              "ticklen": 6,
              "ticks": "inside"
             }
            },
            "marker": {
             "colorbar": {
              "outlinewidth": 0,
              "tickcolor": "rgb(237,237,237)",
              "ticklen": 6,
              "ticks": "inside"
             }
            },
            "type": "scatter3d"
           }
          ],
          "scattercarpet": [
           {
            "marker": {
             "colorbar": {
              "outlinewidth": 0,
              "tickcolor": "rgb(237,237,237)",
              "ticklen": 6,
              "ticks": "inside"
             }
            },
            "type": "scattercarpet"
           }
          ],
          "scattergeo": [
           {
            "marker": {
             "colorbar": {
              "outlinewidth": 0,
              "tickcolor": "rgb(237,237,237)",
              "ticklen": 6,
              "ticks": "inside"
             }
            },
            "type": "scattergeo"
           }
          ],
          "scattergl": [
           {
            "marker": {
             "colorbar": {
              "outlinewidth": 0,
              "tickcolor": "rgb(237,237,237)",
              "ticklen": 6,
              "ticks": "inside"
             }
            },
            "type": "scattergl"
           }
          ],
          "scattermapbox": [
           {
            "marker": {
             "colorbar": {
              "outlinewidth": 0,
              "tickcolor": "rgb(237,237,237)",
              "ticklen": 6,
              "ticks": "inside"
             }
            },
            "type": "scattermapbox"
           }
          ],
          "scatterpolar": [
           {
            "marker": {
             "colorbar": {
              "outlinewidth": 0,
              "tickcolor": "rgb(237,237,237)",
              "ticklen": 6,
              "ticks": "inside"
             }
            },
            "type": "scatterpolar"
           }
          ],
          "scatterpolargl": [
           {
            "marker": {
             "colorbar": {
              "outlinewidth": 0,
              "tickcolor": "rgb(237,237,237)",
              "ticklen": 6,
              "ticks": "inside"
             }
            },
            "type": "scatterpolargl"
           }
          ],
          "scatterternary": [
           {
            "marker": {
             "colorbar": {
              "outlinewidth": 0,
              "tickcolor": "rgb(237,237,237)",
              "ticklen": 6,
              "ticks": "inside"
             }
            },
            "type": "scatterternary"
           }
          ],
          "surface": [
           {
            "colorbar": {
             "outlinewidth": 0,
             "tickcolor": "rgb(237,237,237)",
             "ticklen": 6,
             "ticks": "inside"
            },
            "colorscale": [
             [
              0,
              "rgb(20,44,66)"
             ],
             [
              1,
              "rgb(90,179,244)"
             ]
            ],
            "type": "surface"
           }
          ],
          "table": [
           {
            "cells": {
             "fill": {
              "color": "rgb(237,237,237)"
             },
             "line": {
              "color": "white"
             }
            },
            "header": {
             "fill": {
              "color": "rgb(217,217,217)"
             },
             "line": {
              "color": "white"
             }
            },
            "type": "table"
           }
          ]
         },
         "layout": {
          "annotationdefaults": {
           "arrowhead": 0,
           "arrowwidth": 1
          },
          "autotypenumbers": "strict",
          "coloraxis": {
           "colorbar": {
            "outlinewidth": 0,
            "tickcolor": "rgb(237,237,237)",
            "ticklen": 6,
            "ticks": "inside"
           }
          },
          "colorscale": {
           "sequential": [
            [
             0,
             "rgb(20,44,66)"
            ],
            [
             1,
             "rgb(90,179,244)"
            ]
           ],
           "sequentialminus": [
            [
             0,
             "rgb(20,44,66)"
            ],
            [
             1,
             "rgb(90,179,244)"
            ]
           ]
          },
          "colorway": [
           "#F8766D",
           "#A3A500",
           "#00BF7D",
           "#00B0F6",
           "#E76BF3"
          ],
          "font": {
           "color": "rgb(51,51,51)"
          },
          "geo": {
           "bgcolor": "white",
           "lakecolor": "white",
           "landcolor": "rgb(237,237,237)",
           "showlakes": true,
           "showland": true,
           "subunitcolor": "white"
          },
          "hoverlabel": {
           "align": "left"
          },
          "hovermode": "closest",
          "paper_bgcolor": "white",
          "plot_bgcolor": "rgb(237,237,237)",
          "polar": {
           "angularaxis": {
            "gridcolor": "white",
            "linecolor": "white",
            "showgrid": true,
            "tickcolor": "rgb(51,51,51)",
            "ticks": "outside"
           },
           "bgcolor": "rgb(237,237,237)",
           "radialaxis": {
            "gridcolor": "white",
            "linecolor": "white",
            "showgrid": true,
            "tickcolor": "rgb(51,51,51)",
            "ticks": "outside"
           }
          },
          "scene": {
           "xaxis": {
            "backgroundcolor": "rgb(237,237,237)",
            "gridcolor": "white",
            "gridwidth": 2,
            "linecolor": "white",
            "showbackground": true,
            "showgrid": true,
            "tickcolor": "rgb(51,51,51)",
            "ticks": "outside",
            "zerolinecolor": "white"
           },
           "yaxis": {
            "backgroundcolor": "rgb(237,237,237)",
            "gridcolor": "white",
            "gridwidth": 2,
            "linecolor": "white",
            "showbackground": true,
            "showgrid": true,
            "tickcolor": "rgb(51,51,51)",
            "ticks": "outside",
            "zerolinecolor": "white"
           },
           "zaxis": {
            "backgroundcolor": "rgb(237,237,237)",
            "gridcolor": "white",
            "gridwidth": 2,
            "linecolor": "white",
            "showbackground": true,
            "showgrid": true,
            "tickcolor": "rgb(51,51,51)",
            "ticks": "outside",
            "zerolinecolor": "white"
           }
          },
          "shapedefaults": {
           "fillcolor": "black",
           "line": {
            "width": 0
           },
           "opacity": 0.3
          },
          "ternary": {
           "aaxis": {
            "gridcolor": "white",
            "linecolor": "white",
            "showgrid": true,
            "tickcolor": "rgb(51,51,51)",
            "ticks": "outside"
           },
           "baxis": {
            "gridcolor": "white",
            "linecolor": "white",
            "showgrid": true,
            "tickcolor": "rgb(51,51,51)",
            "ticks": "outside"
           },
           "bgcolor": "rgb(237,237,237)",
           "caxis": {
            "gridcolor": "white",
            "linecolor": "white",
            "showgrid": true,
            "tickcolor": "rgb(51,51,51)",
            "ticks": "outside"
           }
          },
          "xaxis": {
           "automargin": true,
           "gridcolor": "white",
           "linecolor": "white",
           "showgrid": true,
           "tickcolor": "rgb(51,51,51)",
           "ticks": "outside",
           "title": {
            "standoff": 15
           },
           "zerolinecolor": "white"
          },
          "yaxis": {
           "automargin": true,
           "gridcolor": "white",
           "linecolor": "white",
           "showgrid": true,
           "tickcolor": "rgb(51,51,51)",
           "ticks": "outside",
           "title": {
            "standoff": 15
           },
           "zerolinecolor": "white"
          }
         }
        },
        "title": {
         "text": "Model: SVC, f1_score: 0.73"
        }
       }
      },
      "text/html": "<div>                            <div id=\"8e338783-225f-4282-b16f-6b57ddf74234\" class=\"plotly-graph-div\" style=\"height:525px; width:100%;\"></div>            <script type=\"text/javascript\">                require([\"plotly\"], function(Plotly) {                    window.PLOTLYENV=window.PLOTLYENV || {};                                    if (document.getElementById(\"8e338783-225f-4282-b16f-6b57ddf74234\")) {                    Plotly.newPlot(                        \"8e338783-225f-4282-b16f-6b57ddf74234\",                        [{\"hovertemplate\":\"x=%{x}<br>y=%{y}<br>z=%{z}<br>color=%{marker.color}<extra></extra>\",\"legendgroup\":\"\",\"marker\":{\"color\":[0,1,1,1,1,1,1,1,0,1,1,2,1,0,2,1,0,2,1,1,1,1,0,1,1,0,1,1,0,1,2,1,1,0,1,1,2,1,1,0,1,1,1,1,1,1,0,1,1,2,1,2,1,0,1,1,0,1,0,1,1,2,0,1,1,0,2,1,0,1,0,2,1,1,1,1,1,1,1,2,2,1,2,1],\"coloraxis\":\"coloraxis\",\"symbol\":\"circle\"},\"mode\":\"markers\",\"name\":\"\",\"scene\":\"scene\",\"showlegend\":false,\"type\":\"scatter3d\",\"x\":[-5579.132853986817,-2229.8757219663726,-1809.0442575678576,113.45721217840564,-1144.7145584188972,1278.4838844168269,1788.2607840751991,2174.9294040785985,-6171.281759059223,-1628.6467141622322,-1564.4155427410008,12709.006352249398,-1368.8502108186312,-4862.533193830912,8549.651301643367,1741.365660477752,-5249.612308482715,6392.441532499017,-1227.2696937622486,-3103.5475392736926,521.9155042513878,2561.8629757906597,-7672.081119281198,-1779.4457995132702,-3780.2685392311014,-8203.160062495805,-345.08890920506394,-3357.1075758567194,-6825.21574087193,7960.411395013959,3718.2371702844894,2292.273321529909,3886.413009914218,-5292.282291154736,-266.6762371215055,-628.976315434508,2957.9549873057667,-439.8648794192993,4745.5787517286435,-6587.499577855115,-1402.3480626481462,4289.494231316581,5707.976234644557,-1103.278124498467,2244.042209217642,3792.881707193988,-4230.539776367649,-1318.2787050847583,70.23456512676256,6509.702425577635,-1524.712718101601,2197.260544358018,-2855.923566995219,-6847.741660861886,-2663.382157689846,34.91189749179737,-5495.391104739687,8493.193903390462,-4808.5012595958515,3174.3295059610846,827.7991144171154,3767.063424101913,-6424.141720342581,2561.657874494515,830.7537561772019,-7180.571578081321,4699.139388615814,-1980.642521616638,-4940.442324454727,192.34584436151673,-6032.342760200403,6824.2765685652685,-1548.2734324186865,-2547.039390123248,-4022.2076232250392,-43.27658866422988,-1065.9354698322802,-828.6601871129033,125.3482679654763,9957.809368522658,10981.789991204569,-305.66701276656994,10940.354499140021,-1328.7194223494487],\"y\":[276.0301569445654,2426.297792302829,159.47907090175858,-2553.5211399242057,-330.33569003005186,3952.2743979187267,-1675.928023110469,1231.976137217722,315.76038744211337,-952.15337371189,1597.7824618314285,3280.944142325782,385.6298968087615,-42.14023567240143,-781.5673406755553,-1150.0460433829453,2047.2513724091564,-3920.797643231349,-966.6750512646377,-48.221229523285736,-665.7660057499457,188.00806001339336,720.0950313673457,-963.9153273699249,159.97634931827753,1379.4265352951888,533.9921681036606,-342.8849717439503,438.5008543011073,734.692331095641,-3908.016867907628,129.55828094580616,3745.6608024251677,-941.3463650627187,-1343.6902834270793,-536.6130964282396,-3625.089525895901,2011.0813751302767,-604.8871682271123,621.6930855923752,-1066.5807168811214,-1062.8452350256114,507.832854223479,-1462.6554377475306,-1138.1208484602116,-3076.5195056321236,3845.3642278449256,-2249.352052761414,1096.7826986302775,-1860.1756281683413,-1639.4656321404625,1954.9378354378036,-1219.1056553788724,1049.1775441233465,-160.63230777658586,-2093.380736971014,1506.7707401769323,2600.969952580607,938.4615749486953,4559.320535521743,-1149.4740407069382,-2862.8251489475138,761.2477435903489,2105.788226633959,-222.91957406366353,1833.3663743987631,-1879.7162643024396,2100.7583158979246,338.88815883347127,1419.393926100214,415.54253599358793,-5741.03569033289,-963.8270942226214,319.1002783192363,355.644451664375,-2356.854148732459,-2922.587505229138,-836.9506659814227,204.87817927713974,1166.2998452661545,6132.4148896157185,-4464.3180240107195,3676.979426467898,556.9062905746221],\"z\":[136.8524778338577,617.770199087728,1183.6663573838046,1445.7237259072604,-52.022627105282844,414.0034128826256,-516.2848626180054,-286.3452019557255,-196.3405420502074,-548.7078463682406,-611.5097913149563,215.11519750857752,-986.8006519910919,-12.115214828643147,-1344.2514655520974,450.49641798088317,-455.36419021284013,-108.96279774335012,151.69382358426157,-990.1704804700572,-2711.223472866454,2607.480652876502,305.60250401840165,1614.030294283185,344.6888494384717,133.6399923747495,524.6084013476514,209.7459935858816,466.13392987597587,-4278.208016367656,1918.7245265048625,-2121.3074037793226,725.2900626147814,1217.3394898379638,729.252337219906,-321.73091807841155,600.1996002786635,-696.9182561667827,-643.6079109777902,82.94233051449037,-85.59979003716859,-2767.520721660875,-970.0520191107089,1060.6630359640287,814.5669143879052,2508.648466579874,-157.47900355214003,1270.1729846987982,-102.80537175628494,-1360.7417865349607,-594.1938515813534,1554.127079256898,310.27407674989763,-419.6587925582127,-408.93702520257796,1355.5685760443505,-1234.4584187510234,-3940.151574085118,371.1741860106026,1152.365720346137,89.16535137757899,-955.538086346085,170.43678230689014,459.4504650362092,175.46829116509167,-428.2287369264296,-1165.0932499692763,-1665.7154650790455,1040.730822280553,1417.0458988232008,120.15676645870113,-347.26081492193504,118.02318958750516,-2511.1467707793504,-380.7908445672828,-1287.9682530873145,640.8130065088261,-181.13058069295977,-621.1954330056697,5421.798171381167,2639.1373678735945,439.2683293113053,82.81768355098102,-839.3355019879954]}],                        {\"coloraxis\":{\"colorbar\":{\"title\":{\"text\":\"color\"}},\"colorscale\":[[0.0,\"rgb(136, 204, 238)\"],[0.1,\"rgb(204, 102, 119)\"],[0.2,\"rgb(221, 204, 119)\"],[0.3,\"rgb(17, 119, 51)\"],[0.4,\"rgb(51, 34, 136)\"],[0.5,\"rgb(170, 68, 153)\"],[0.6,\"rgb(68, 170, 153)\"],[0.7,\"rgb(153, 153, 51)\"],[0.8,\"rgb(136, 34, 85)\"],[0.9,\"rgb(102, 17, 0)\"],[1.0,\"rgb(136, 136, 136)\"]],\"showscale\":false},\"legend\":{\"tracegroupgap\":0},\"scene\":{\"domain\":{\"x\":[0.0,1.0],\"y\":[0.0,1.0]},\"xaxis\":{\"title\":{\"text\":\"x\"}},\"yaxis\":{\"title\":{\"text\":\"y\"}},\"zaxis\":{\"title\":{\"text\":\"z\"}}},\"template\":{\"data\":{\"bar\":[{\"error_x\":{\"color\":\"rgb(51,51,51)\"},\"error_y\":{\"color\":\"rgb(51,51,51)\"},\"marker\":{\"line\":{\"color\":\"rgb(237,237,237)\",\"width\":0.5},\"pattern\":{\"fillmode\":\"overlay\",\"size\":10,\"solidity\":0.2}},\"type\":\"bar\"}],\"barpolar\":[{\"marker\":{\"line\":{\"color\":\"rgb(237,237,237)\",\"width\":0.5},\"pattern\":{\"fillmode\":\"overlay\",\"size\":10,\"solidity\":0.2}},\"type\":\"barpolar\"}],\"carpet\":[{\"aaxis\":{\"endlinecolor\":\"rgb(51,51,51)\",\"gridcolor\":\"white\",\"linecolor\":\"white\",\"minorgridcolor\":\"white\",\"startlinecolor\":\"rgb(51,51,51)\"},\"baxis\":{\"endlinecolor\":\"rgb(51,51,51)\",\"gridcolor\":\"white\",\"linecolor\":\"white\",\"minorgridcolor\":\"white\",\"startlinecolor\":\"rgb(51,51,51)\"},\"type\":\"carpet\"}],\"choropleth\":[{\"colorbar\":{\"outlinewidth\":0,\"tickcolor\":\"rgb(237,237,237)\",\"ticklen\":6,\"ticks\":\"inside\"},\"type\":\"choropleth\"}],\"contour\":[{\"colorbar\":{\"outlinewidth\":0,\"tickcolor\":\"rgb(237,237,237)\",\"ticklen\":6,\"ticks\":\"inside\"},\"colorscale\":[[0,\"rgb(20,44,66)\"],[1,\"rgb(90,179,244)\"]],\"type\":\"contour\"}],\"contourcarpet\":[{\"colorbar\":{\"outlinewidth\":0,\"tickcolor\":\"rgb(237,237,237)\",\"ticklen\":6,\"ticks\":\"inside\"},\"type\":\"contourcarpet\"}],\"heatmap\":[{\"colorbar\":{\"outlinewidth\":0,\"tickcolor\":\"rgb(237,237,237)\",\"ticklen\":6,\"ticks\":\"inside\"},\"colorscale\":[[0,\"rgb(20,44,66)\"],[1,\"rgb(90,179,244)\"]],\"type\":\"heatmap\"}],\"heatmapgl\":[{\"colorbar\":{\"outlinewidth\":0,\"tickcolor\":\"rgb(237,237,237)\",\"ticklen\":6,\"ticks\":\"inside\"},\"colorscale\":[[0,\"rgb(20,44,66)\"],[1,\"rgb(90,179,244)\"]],\"type\":\"heatmapgl\"}],\"histogram\":[{\"marker\":{\"pattern\":{\"fillmode\":\"overlay\",\"size\":10,\"solidity\":0.2}},\"type\":\"histogram\"}],\"histogram2d\":[{\"colorbar\":{\"outlinewidth\":0,\"tickcolor\":\"rgb(237,237,237)\",\"ticklen\":6,\"ticks\":\"inside\"},\"colorscale\":[[0,\"rgb(20,44,66)\"],[1,\"rgb(90,179,244)\"]],\"type\":\"histogram2d\"}],\"histogram2dcontour\":[{\"colorbar\":{\"outlinewidth\":0,\"tickcolor\":\"rgb(237,237,237)\",\"ticklen\":6,\"ticks\":\"inside\"},\"colorscale\":[[0,\"rgb(20,44,66)\"],[1,\"rgb(90,179,244)\"]],\"type\":\"histogram2dcontour\"}],\"mesh3d\":[{\"colorbar\":{\"outlinewidth\":0,\"tickcolor\":\"rgb(237,237,237)\",\"ticklen\":6,\"ticks\":\"inside\"},\"type\":\"mesh3d\"}],\"parcoords\":[{\"line\":{\"colorbar\":{\"outlinewidth\":0,\"tickcolor\":\"rgb(237,237,237)\",\"ticklen\":6,\"ticks\":\"inside\"}},\"type\":\"parcoords\"}],\"pie\":[{\"automargin\":true,\"type\":\"pie\"}],\"scatter\":[{\"marker\":{\"colorbar\":{\"outlinewidth\":0,\"tickcolor\":\"rgb(237,237,237)\",\"ticklen\":6,\"ticks\":\"inside\"}},\"type\":\"scatter\"}],\"scatter3d\":[{\"line\":{\"colorbar\":{\"outlinewidth\":0,\"tickcolor\":\"rgb(237,237,237)\",\"ticklen\":6,\"ticks\":\"inside\"}},\"marker\":{\"colorbar\":{\"outlinewidth\":0,\"tickcolor\":\"rgb(237,237,237)\",\"ticklen\":6,\"ticks\":\"inside\"}},\"type\":\"scatter3d\"}],\"scattercarpet\":[{\"marker\":{\"colorbar\":{\"outlinewidth\":0,\"tickcolor\":\"rgb(237,237,237)\",\"ticklen\":6,\"ticks\":\"inside\"}},\"type\":\"scattercarpet\"}],\"scattergeo\":[{\"marker\":{\"colorbar\":{\"outlinewidth\":0,\"tickcolor\":\"rgb(237,237,237)\",\"ticklen\":6,\"ticks\":\"inside\"}},\"type\":\"scattergeo\"}],\"scattergl\":[{\"marker\":{\"colorbar\":{\"outlinewidth\":0,\"tickcolor\":\"rgb(237,237,237)\",\"ticklen\":6,\"ticks\":\"inside\"}},\"type\":\"scattergl\"}],\"scattermapbox\":[{\"marker\":{\"colorbar\":{\"outlinewidth\":0,\"tickcolor\":\"rgb(237,237,237)\",\"ticklen\":6,\"ticks\":\"inside\"}},\"type\":\"scattermapbox\"}],\"scatterpolar\":[{\"marker\":{\"colorbar\":{\"outlinewidth\":0,\"tickcolor\":\"rgb(237,237,237)\",\"ticklen\":6,\"ticks\":\"inside\"}},\"type\":\"scatterpolar\"}],\"scatterpolargl\":[{\"marker\":{\"colorbar\":{\"outlinewidth\":0,\"tickcolor\":\"rgb(237,237,237)\",\"ticklen\":6,\"ticks\":\"inside\"}},\"type\":\"scatterpolargl\"}],\"scatterternary\":[{\"marker\":{\"colorbar\":{\"outlinewidth\":0,\"tickcolor\":\"rgb(237,237,237)\",\"ticklen\":6,\"ticks\":\"inside\"}},\"type\":\"scatterternary\"}],\"surface\":[{\"colorbar\":{\"outlinewidth\":0,\"tickcolor\":\"rgb(237,237,237)\",\"ticklen\":6,\"ticks\":\"inside\"},\"colorscale\":[[0,\"rgb(20,44,66)\"],[1,\"rgb(90,179,244)\"]],\"type\":\"surface\"}],\"table\":[{\"cells\":{\"fill\":{\"color\":\"rgb(237,237,237)\"},\"line\":{\"color\":\"white\"}},\"header\":{\"fill\":{\"color\":\"rgb(217,217,217)\"},\"line\":{\"color\":\"white\"}},\"type\":\"table\"}]},\"layout\":{\"annotationdefaults\":{\"arrowhead\":0,\"arrowwidth\":1},\"autotypenumbers\":\"strict\",\"coloraxis\":{\"colorbar\":{\"outlinewidth\":0,\"tickcolor\":\"rgb(237,237,237)\",\"ticklen\":6,\"ticks\":\"inside\"}},\"colorscale\":{\"sequential\":[[0,\"rgb(20,44,66)\"],[1,\"rgb(90,179,244)\"]],\"sequentialminus\":[[0,\"rgb(20,44,66)\"],[1,\"rgb(90,179,244)\"]]},\"colorway\":[\"#F8766D\",\"#A3A500\",\"#00BF7D\",\"#00B0F6\",\"#E76BF3\"],\"font\":{\"color\":\"rgb(51,51,51)\"},\"geo\":{\"bgcolor\":\"white\",\"lakecolor\":\"white\",\"landcolor\":\"rgb(237,237,237)\",\"showlakes\":true,\"showland\":true,\"subunitcolor\":\"white\"},\"hoverlabel\":{\"align\":\"left\"},\"hovermode\":\"closest\",\"paper_bgcolor\":\"white\",\"plot_bgcolor\":\"rgb(237,237,237)\",\"polar\":{\"angularaxis\":{\"gridcolor\":\"white\",\"linecolor\":\"white\",\"showgrid\":true,\"tickcolor\":\"rgb(51,51,51)\",\"ticks\":\"outside\"},\"bgcolor\":\"rgb(237,237,237)\",\"radialaxis\":{\"gridcolor\":\"white\",\"linecolor\":\"white\",\"showgrid\":true,\"tickcolor\":\"rgb(51,51,51)\",\"ticks\":\"outside\"}},\"scene\":{\"xaxis\":{\"backgroundcolor\":\"rgb(237,237,237)\",\"gridcolor\":\"white\",\"gridwidth\":2,\"linecolor\":\"white\",\"showbackground\":true,\"showgrid\":true,\"tickcolor\":\"rgb(51,51,51)\",\"ticks\":\"outside\",\"zerolinecolor\":\"white\"},\"yaxis\":{\"backgroundcolor\":\"rgb(237,237,237)\",\"gridcolor\":\"white\",\"gridwidth\":2,\"linecolor\":\"white\",\"showbackground\":true,\"showgrid\":true,\"tickcolor\":\"rgb(51,51,51)\",\"ticks\":\"outside\",\"zerolinecolor\":\"white\"},\"zaxis\":{\"backgroundcolor\":\"rgb(237,237,237)\",\"gridcolor\":\"white\",\"gridwidth\":2,\"linecolor\":\"white\",\"showbackground\":true,\"showgrid\":true,\"tickcolor\":\"rgb(51,51,51)\",\"ticks\":\"outside\",\"zerolinecolor\":\"white\"}},\"shapedefaults\":{\"fillcolor\":\"black\",\"line\":{\"width\":0},\"opacity\":0.3},\"ternary\":{\"aaxis\":{\"gridcolor\":\"white\",\"linecolor\":\"white\",\"showgrid\":true,\"tickcolor\":\"rgb(51,51,51)\",\"ticks\":\"outside\"},\"baxis\":{\"gridcolor\":\"white\",\"linecolor\":\"white\",\"showgrid\":true,\"tickcolor\":\"rgb(51,51,51)\",\"ticks\":\"outside\"},\"bgcolor\":\"rgb(237,237,237)\",\"caxis\":{\"gridcolor\":\"white\",\"linecolor\":\"white\",\"showgrid\":true,\"tickcolor\":\"rgb(51,51,51)\",\"ticks\":\"outside\"}},\"xaxis\":{\"automargin\":true,\"gridcolor\":\"white\",\"linecolor\":\"white\",\"showgrid\":true,\"tickcolor\":\"rgb(51,51,51)\",\"ticks\":\"outside\",\"title\":{\"standoff\":15},\"zerolinecolor\":\"white\"},\"yaxis\":{\"automargin\":true,\"gridcolor\":\"white\",\"linecolor\":\"white\",\"showgrid\":true,\"tickcolor\":\"rgb(51,51,51)\",\"ticks\":\"outside\",\"title\":{\"standoff\":15},\"zerolinecolor\":\"white\"}}},\"title\":{\"text\":\"Model: SVC, f1_score: 0.73\"}},                        {\"responsive\": true}                    ).then(function(){\n                            \nvar gd = document.getElementById('8e338783-225f-4282-b16f-6b57ddf74234');\nvar x = new MutationObserver(function (mutations, observer) {{\n        var display = window.getComputedStyle(gd).display;\n        if (!display || display === 'none') {{\n            console.log([gd, 'removed!']);\n            Plotly.purge(gd);\n            observer.disconnect();\n        }}\n}});\n\n// Listen for the removal of the full notebook cells\nvar notebookContainer = gd.closest('#notebook-container');\nif (notebookContainer) {{\n    x.observe(notebookContainer, {childList: true});\n}}\n\n// Listen for the clearing of the current output cell\nvar outputEl = gd.closest('.output');\nif (outputEl) {{\n    x.observe(outputEl, {childList: true});\n}}\n\n                        })                };                });            </script>        </div>"
     },
     "metadata": {},
     "output_type": "display_data"
    }
   ],
   "source": [
    "import plotly.express as px\n",
    "\n",
    "from sklearn.svm import SVC\n",
    "from sklearn.neighbors import KNeighborsClassifier\n",
    "from sklearn.tree import DecisionTreeClassifier\n",
    "from sklearn.ensemble import RandomForestClassifier\n",
    "from sklearn.naive_bayes import GaussianNB\n",
    "from sklearn.decomposition import PCA\n",
    "from sklearn.metrics import f1_score\n",
    "from sklearn.model_selection import train_test_split\n",
    "\n",
    "train_x, test_x, train_y, test_y = train_test_split(pivoted_stats.drop(columns=['Species']),\n",
    "                                                    pivoted_stats[\"Species\"], test_size=0.33)\n",
    "\n",
    "# All the models\n",
    "names = [\"Random Forest\", \"Naive Bayes\", \"Decision Tree\", \"KNN\", \"SVC\"]\n",
    "models = [RandomForestClassifier(), GaussianNB(), DecisionTreeClassifier(), KNeighborsClassifier(), SVC()]\n",
    "model_fit = [x + ' fit' for x in names]\n",
    "fitted_models = []\n",
    "\n",
    "# For each model defined above, predict the species for\n",
    "# our animals.\n",
    "for name, model, fits in zip(names, models, model_fit):\n",
    "    fit = model.fit(train_x, train_y)\n",
    "    ans = fit.predict(test_x)\n",
    "    score = f1_score(y_true=test_y, y_pred=ans, average='weighted')\n",
    "    fitted_models.append(fit)\n",
    "\n",
    "    # Perform PCA on our df and plot a 3D plot.\n",
    "    pca = PCA(n_components=3)\n",
    "    transformed = pca.fit_transform(test_x)\n",
    "\n",
    "    fig = px.scatter_3d(x=transformed[:, 0],\n",
    "                        y=transformed[:, 1],\n",
    "                        z=transformed[:, 2],\n",
    "                        color=ans,\n",
    "                        color_continuous_scale=px.colors.qualitative.Safe,\n",
    "                        template='ggplot2',\n",
    "                        title=f'Model: {name}, f1_score: {round(score, 2)}'\n",
    "                        )\n",
    "    fig.update_coloraxes(showscale=False)\n",
    "    fig.show()"
   ],
   "metadata": {
    "collapsed": false,
    "pycharm": {
     "name": "#%%\n"
    }
   }
  },
  {
   "cell_type": "code",
   "execution_count": 4,
   "outputs": [],
   "source": [],
   "metadata": {
    "collapsed": false,
    "pycharm": {
     "name": "#%%\n"
    }
   }
  }
 ],
 "metadata": {
  "kernelspec": {
   "display_name": "Python 3",
   "language": "python",
   "name": "python3"
  },
  "language_info": {
   "codemirror_mode": {
    "name": "ipython",
    "version": 2
   },
   "file_extension": ".py",
   "mimetype": "text/x-python",
   "name": "python",
   "nbconvert_exporter": "python",
   "pygments_lexer": "ipython2",
   "version": "2.7.6"
  }
 },
 "nbformat": 4,
 "nbformat_minor": 0
}