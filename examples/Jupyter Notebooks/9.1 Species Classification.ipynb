{
 "cells": [
  {
   "cell_type": "code",
   "execution_count": 1,
   "metadata": {
    "collapsed": true
   },
   "outputs": [
    {
     "name": "stdout",
     "output_type": "stream",
     "text": [
      "Size of the Dataset: (287136, 15)\n"
     ]
    },
    {
     "data": {
      "text/plain": "                                     lat         lon  StarkeyTime    GMDate  \\\ntraj_id   DateTime                                                            \n880109D01 1995-04-13 13:40:06  45.239682 -118.533204    229902006  21:40:06   \n          1995-04-15 12:16:15  45.250521 -118.530438    230069775  20:16:15   \n          1995-04-15 21:39:38  45.247943 -118.541455    230103578  05:39:38   \n          1995-04-16 03:32:14  45.247429 -118.539530    230124734  11:32:14   \n          1995-04-16 04:08:28  45.247117 -118.542579    230126908  12:08:28   \n\n                                 GMTime   LocDate   LocTime  RadNum  Species  \\\ntraj_id   DateTime                                                             \n880109D01 1995-04-13 13:40:06  19950413  19950413  13:40:06     409        0   \n          1995-04-15 12:16:15  19950415  19950415  12:16:15     409        0   \n          1995-04-15 21:39:38  19950416  19950415  21:39:38     409        0   \n          1995-04-16 03:32:14  19950416  19950416  03:32:14     409        0   \n          1995-04-16 04:08:28  19950416  19950416  04:08:28     409        0   \n\n                                 UTME     UTMN  Year  Grensunr  Grensuns  \\\ntraj_id   DateTime                                                         \n880109D01 1995-04-13 13:40:06  379662  5010734    95  13:13:00  02:39:00   \n          1995-04-15 12:16:15  379895  5011927    95  13:09:00  02:41:00   \n          1995-04-15 21:39:38  379039  5011656    95  13:07:00  02:43:00   \n          1995-04-16 03:32:14  379188  5011581    95  13:07:00  02:43:00   \n          1995-04-16 04:08:28  378938  5011567    95  13:07:00  02:43:00   \n\n                               Obswt  \ntraj_id   DateTime                    \n880109D01 1995-04-13 13:40:06   1.47  \n          1995-04-15 12:16:15   1.59  \n          1995-04-15 21:39:38   1.34  \n          1995-04-16 03:32:14   1.50  \n          1995-04-16 04:08:28   1.34  ",
      "text/html": "<div>\n<style scoped>\n    .dataframe tbody tr th:only-of-type {\n        vertical-align: middle;\n    }\n\n    .dataframe tbody tr th {\n        vertical-align: top;\n    }\n\n    .dataframe thead th {\n        text-align: right;\n    }\n</style>\n<table border=\"1\" class=\"dataframe\">\n  <thead>\n    <tr style=\"text-align: right;\">\n      <th></th>\n      <th></th>\n      <th>lat</th>\n      <th>lon</th>\n      <th>StarkeyTime</th>\n      <th>GMDate</th>\n      <th>GMTime</th>\n      <th>LocDate</th>\n      <th>LocTime</th>\n      <th>RadNum</th>\n      <th>Species</th>\n      <th>UTME</th>\n      <th>UTMN</th>\n      <th>Year</th>\n      <th>Grensunr</th>\n      <th>Grensuns</th>\n      <th>Obswt</th>\n    </tr>\n    <tr>\n      <th>traj_id</th>\n      <th>DateTime</th>\n      <th></th>\n      <th></th>\n      <th></th>\n      <th></th>\n      <th></th>\n      <th></th>\n      <th></th>\n      <th></th>\n      <th></th>\n      <th></th>\n      <th></th>\n      <th></th>\n      <th></th>\n      <th></th>\n      <th></th>\n    </tr>\n  </thead>\n  <tbody>\n    <tr>\n      <th rowspan=\"5\" valign=\"top\">880109D01</th>\n      <th>1995-04-13 13:40:06</th>\n      <td>45.239682</td>\n      <td>-118.533204</td>\n      <td>229902006</td>\n      <td>21:40:06</td>\n      <td>19950413</td>\n      <td>19950413</td>\n      <td>13:40:06</td>\n      <td>409</td>\n      <td>0</td>\n      <td>379662</td>\n      <td>5010734</td>\n      <td>95</td>\n      <td>13:13:00</td>\n      <td>02:39:00</td>\n      <td>1.47</td>\n    </tr>\n    <tr>\n      <th>1995-04-15 12:16:15</th>\n      <td>45.250521</td>\n      <td>-118.530438</td>\n      <td>230069775</td>\n      <td>20:16:15</td>\n      <td>19950415</td>\n      <td>19950415</td>\n      <td>12:16:15</td>\n      <td>409</td>\n      <td>0</td>\n      <td>379895</td>\n      <td>5011927</td>\n      <td>95</td>\n      <td>13:09:00</td>\n      <td>02:41:00</td>\n      <td>1.59</td>\n    </tr>\n    <tr>\n      <th>1995-04-15 21:39:38</th>\n      <td>45.247943</td>\n      <td>-118.541455</td>\n      <td>230103578</td>\n      <td>05:39:38</td>\n      <td>19950416</td>\n      <td>19950415</td>\n      <td>21:39:38</td>\n      <td>409</td>\n      <td>0</td>\n      <td>379039</td>\n      <td>5011656</td>\n      <td>95</td>\n      <td>13:07:00</td>\n      <td>02:43:00</td>\n      <td>1.34</td>\n    </tr>\n    <tr>\n      <th>1995-04-16 03:32:14</th>\n      <td>45.247429</td>\n      <td>-118.539530</td>\n      <td>230124734</td>\n      <td>11:32:14</td>\n      <td>19950416</td>\n      <td>19950416</td>\n      <td>03:32:14</td>\n      <td>409</td>\n      <td>0</td>\n      <td>379188</td>\n      <td>5011581</td>\n      <td>95</td>\n      <td>13:07:00</td>\n      <td>02:43:00</td>\n      <td>1.50</td>\n    </tr>\n    <tr>\n      <th>1995-04-16 04:08:28</th>\n      <td>45.247117</td>\n      <td>-118.542579</td>\n      <td>230126908</td>\n      <td>12:08:28</td>\n      <td>19950416</td>\n      <td>19950416</td>\n      <td>04:08:28</td>\n      <td>409</td>\n      <td>0</td>\n      <td>378938</td>\n      <td>5011567</td>\n      <td>95</td>\n      <td>13:07:00</td>\n      <td>02:43:00</td>\n      <td>1.34</td>\n    </tr>\n  </tbody>\n</table>\n</div>"
     },
     "execution_count": 1,
     "metadata": {},
     "output_type": "execute_result"
    }
   ],
   "source": [
    "import pandas as pd\n",
    "from ptrail.core.TrajectoryDF import PTRAILDataFrame\n",
    "from ptrail.preprocessing.statistics import Statistics\n",
    "\n",
    "\"\"\"\n",
    "    First, to begin with the following actions ar performed:\n",
    "        1. Read the database from the csv file using pandas.\n",
    "        2. Convert the pandas dataframe to PTRAILDataFrame DataFrame\n",
    "           in order to represent the data with PTRAIL.\n",
    "\n",
    "    It is to be duly noted that the Starkey Project database provided\n",
    "    originally has been modified here to meet with the needs of\n",
    "    PTRAIL Library.\n",
    "\"\"\"\n",
    "pdf = pd.read_csv('https://raw.githubusercontent.com/YakshHaranwala/PTRAIL/main/examples/data/starkey.csv')\n",
    "starkey = PTRAILDataFrame(data_set=pdf,\n",
    "                          latitude='lat',\n",
    "                          longitude='lon',\n",
    "                          datetime='DateTime',\n",
    "                          traj_id='Id')\n",
    "print(\"Size of the Dataset: {}\".format(starkey.shape))\n",
    "starkey.head(5)"
   ]
  },
  {
   "cell_type": "code",
   "execution_count": 2,
   "outputs": [
    {
     "data": {
      "text/plain": "'\\nOur course of action\\n\\n1. First, generate a set of spatial and temporal features on the\\n   dataset.\\n2. Then, based on the above generated features, clean the dataset\\n   to reduce noise as well as make the trajectories smoother.\\n3. Then, once the noise has been cleared, we will further make\\n   the trajectory smoother, we will interpolate the trajectories.\\n   Now, an important point to consider for interpolation is that\\n   only 4 fundamental columns are returned.\\n4. Then, train various models based on the original starkey dataset.\\n5. Based on that trained model, we will predict the species of the\\n   animal for the interpolated and cleaned dataset.\\n'"
     },
     "execution_count": 2,
     "metadata": {},
     "output_type": "execute_result"
    }
   ],
   "source": [
    "\"\"\"\n",
    "Our course of action\n",
    "\n",
    "1. First, generate a set of spatial and temporal features on the\n",
    "   dataset.\n",
    "2. Then, based on the above generated features, clean the dataset\n",
    "   to reduce noise as well as make the trajectories smoother.\n",
    "3. Then, once the noise has been cleared, we will further make\n",
    "   the trajectory smoother, we will interpolate the trajectories.\n",
    "   Now, an important point to consider for interpolation is that\n",
    "   only 4 fundamental columns are returned.\n",
    "4. Then, train various models based on the original starkey dataset.\n",
    "5. Based on that trained model, we will predict the species of the\n",
    "   animal for the interpolated and cleaned dataset.\n",
    "\"\"\""
   ],
   "metadata": {
    "collapsed": false,
    "pycharm": {
     "name": "#%%\n"
    }
   }
  },
  {
   "cell_type": "code",
   "execution_count": 3,
   "outputs": [
    {
     "name": "stdout",
     "output_type": "stream",
     "text": [
      "CPU times: user 1.25 s, sys: 248 ms, total: 1.5 s\n",
      "Wall time: 1.76 s\n"
     ]
    }
   ],
   "source": [
    "%%time\n",
    "\n",
    "# Step - 1: Feature generation.\n",
    "# The following features are being generated:\n",
    "#   1. Distance between consecutive points of the trajectory.\n",
    "from ptrail.features.kinematic_features import KinematicFeatures\n",
    "from ptrail.features.temporal_features import TemporalFeatures\n",
    "\n",
    "starkey_feat = KinematicFeatures.create_distance_column(starkey)\n",
    "starkey_feat = TemporalFeatures.create_time_of_day_column(starkey_feat)"
   ],
   "metadata": {
    "collapsed": false,
    "pycharm": {
     "name": "#%%\n"
    }
   }
  },
  {
   "cell_type": "code",
   "execution_count": 4,
   "outputs": [
    {
     "name": "stderr",
     "output_type": "stream",
     "text": [
      "/home/shaidri/Desktop/PT/ptrail/preprocessing/filters.py:726: UserWarning: If kinematic features have been generated on the dataframe, then make sure to generate them again as outlier detection drops the point from the dataframe and does not run the kinematic features again.\n",
      "  warnings.warn(\"If kinematic features have been generated on the dataframe, then make \"\n"
     ]
    },
    {
     "name": "stdout",
     "output_type": "stream",
     "text": [
      "Length of original Dataframe: 287136\n",
      "Length of DataFrame after filtering: 262207\n",
      "CPU times: user 699 ms, sys: 226 ms, total: 925 ms\n",
      "Wall time: 15.1 s\n"
     ]
    }
   ],
   "source": [
    "%%time\n",
    "\n",
    "# Step - 2: Filtering.\n",
    "\n",
    "# 2.1: Hampel filter based on distance between consecutive points.\n",
    "from ptrail.preprocessing.filters import Filters\n",
    "\n",
    "hamp_filt_starkey = Filters.hampel_outlier_detection(dataframe=starkey_feat,\n",
    "                                                     column_name='Distance')\n",
    "print(f\"Length of original Dataframe: {len(starkey_feat)}\")\n",
    "print(f\"Length of DataFrame after filtering: {len(hamp_filt_starkey)}\")"
   ],
   "metadata": {
    "collapsed": false,
    "pycharm": {
     "name": "#%%\n"
    }
   }
  },
  {
   "cell_type": "code",
   "execution_count": 5,
   "outputs": [
    {
     "name": "stdout",
     "output_type": "stream",
     "text": [
      "Length of original Dataframe: 262207\n",
      "Length of DataFrame after filtering: 262206\n"
     ]
    }
   ],
   "source": [
    "# 2.2: Remove duplicate points from the trajectories.\n",
    "\n",
    "dupl_filt_starkey = Filters.remove_duplicates(dataframe=hamp_filt_starkey)\n",
    "dupl_filt_starkey = dupl_filt_starkey.drop_duplicates(subset=['DateTime', 'traj_id'])\n",
    "print(f\"Length of original Dataframe: {len(hamp_filt_starkey)}\")\n",
    "print(f\"Length of DataFrame after filtering: {len(dupl_filt_starkey)}\")"
   ],
   "metadata": {
    "collapsed": false,
    "pycharm": {
     "name": "#%%\n"
    }
   }
  },
  {
   "cell_type": "code",
   "execution_count": 6,
   "outputs": [
    {
     "name": "stdout",
     "output_type": "stream",
     "text": [
      "Length of original Dataframe: 262206\n",
      "Length of DataFrame after filtering: 262206\n"
     ]
    }
   ],
   "source": [
    "# 2.3 Remove trajectories with few points.\n",
    "\n",
    "few_filt_starkey = Filters.remove_trajectories_with_less_points(dataframe=dupl_filt_starkey,\n",
    "                                                                num_min_points=5)\n",
    "print(f\"Length of original Dataframe: {len(dupl_filt_starkey)}\")\n",
    "print(f\"Length of DataFrame after filtering: {len(few_filt_starkey)}\")"
   ],
   "metadata": {
    "collapsed": false,
    "pycharm": {
     "name": "#%%\n"
    }
   }
  },
  {
   "cell_type": "code",
   "execution_count": 7,
   "outputs": [
    {
     "data": {
      "text/plain": "           10%_Distance  25%_Distance  50%_Distance  75%_Distance  \\\ntraj_id                                                             \n910313E37     30.022296     66.956698    134.181480    284.731786   \n890424E08     42.384555     84.780094    174.620248    365.204845   \n921228E06     42.390004     90.066708    200.847653    424.559571   \n930304E16     42.384004     67.090133    152.597896    334.571444   \n940110D01     30.022174     66.956679    149.612247    282.568230   \n...                 ...           ...           ...           ...   \nOSUX92071     42.384803    111.029114    276.330340    509.415791   \nOSUX92008     60.044073    119.689963    335.628622    617.200624   \nOSUX91143     91.899800    149.800099    299.879846    659.816699   \nOSUX91121     66.994900    144.143210    296.366342    657.400489   \n950227D02     63.253031    123.400675    262.377831    466.743989   \n\n           90%_Distance  min_Distance  max_Distance  mean_Distance  \\\ntraj_id                                                              \n910313E37    601.445028      0.000000   6205.384711     266.132622   \n890424E08    739.670455      0.000000   7466.153243     321.929717   \n921228E06    878.857805      0.000000   5627.670877     369.912854   \n930304E16    684.682660      0.000000   5977.173040     292.121524   \n940110D01    491.721929      0.000000   1969.437420     217.759366   \n...                 ...           ...           ...            ...   \nOSUX92071   1222.690175      0.000000   4968.850596     524.650689   \nOSUX92008    931.170539      0.000000   4186.713715     483.921182   \nOSUX91143   1483.970205     42.389900   6594.400615     693.025123   \nOSUX91121   1690.020517     42.390138   5646.431369     719.304786   \n950227D02    627.055555      0.000000   1187.661568     321.303921   \n\n           std_Distance  10%_Distance_from_start  ...  \\\ntraj_id                                           ...   \n910313E37    418.058817              1129.445835  ...   \n890424E08    464.688410               665.186319  ...   \n921228E06    509.015446               807.858525  ...   \n930304E16    421.497409              1183.322279  ...   \n940110D01    228.728350               491.768051  ...   \n...                 ...                      ...  ...   \nOSUX92071    774.791130              2265.998957  ...   \nOSUX92008    666.970217              2318.326105  ...   \nOSUX91143   1143.737915              2746.440810  ...   \nOSUX91121   1190.928499              2702.971579  ...   \n950227D02    273.109575              2068.622840  ...   \n\n           10%_Rate_of_bearing_rate  25%_Rate_of_bearing_rate  \\\ntraj_id                                                         \n910313E37                 -0.061602                 -0.025216   \n890424E08                 -0.061199                 -0.022772   \n921228E06                 -0.053586                 -0.018901   \n930304E16                 -0.063274                 -0.024253   \n940110D01                 -0.039799                 -0.017002   \n...                             ...                       ...   \nOSUX92071                 -0.011482                 -0.005646   \nOSUX92008                 -0.025204                 -0.005223   \nOSUX91143                 -0.010185                 -0.002630   \nOSUX91121                 -0.014232                 -0.003378   \n950227D02                 -0.023681                 -0.015177   \n\n           50%_Rate_of_bearing_rate  75%_Rate_of_bearing_rate  \\\ntraj_id                                                         \n910313E37              5.642640e-08                  0.024152   \n890424E08              1.174658e-07                  0.021624   \n921228E06             -6.826990e-05                  0.017404   \n930304E16              1.731773e-05                  0.025564   \n940110D01              0.000000e+00                  0.017616   \n...                             ...                       ...   \nOSUX92071              1.318267e-04                  0.005145   \nOSUX92008              2.234344e-04                  0.006801   \nOSUX91143              1.764249e-04                  0.005429   \nOSUX91121              7.983535e-05                  0.006121   \n950227D02              6.211722e-04                  0.008629   \n\n           90%_Rate_of_bearing_rate  min_Rate_of_bearing_rate  \\\ntraj_id                                                         \n910313E37                  0.063510                 -6.036678   \n890424E08                  0.061871                -11.536372   \n921228E06                  0.052331                -56.020652   \n930304E16                  0.061628                 -7.865121   \n940110D01                  0.041103                 -5.547235   \n...                             ...                       ...   \nOSUX92071                  0.017379                 -0.180602   \nOSUX92008                  0.021601                 -0.119311   \nOSUX91143                  0.011010                 -0.029209   \nOSUX91121                  0.022216                 -0.018316   \n950227D02                  0.030045                 -0.041115   \n\n           max_Rate_of_bearing_rate  mean_Rate_of_bearing_rate  \\\ntraj_id                                                          \n910313E37                  2.449554                  -0.001423   \n890424E08                  1.022737                  -0.008423   \n921228E06                  4.466711                  -0.017891   \n930304E16                 30.406105                   0.003907   \n940110D01                200.192244                   0.079246   \n...                             ...                        ...   \nOSUX92071                  0.032870                  -0.000672   \nOSUX92008                  0.119162                  -0.001099   \nOSUX91143                  0.034114                   0.001737   \nOSUX91121                  0.027926                   0.001434   \n950227D02                  0.047308                   0.000315   \n\n           std_Rate_of_bearing_rate  Species  \ntraj_id                                       \n910313E37                  0.151256        1  \n890424E08                  0.255552        1  \n921228E06                  1.049811        1  \n930304E16                  0.610773        1  \n940110D01                  3.815192        0  \n...                             ...      ...  \nOSUX92071                  0.022412        2  \nOSUX92008                  0.032279        2  \nOSUX91143                  0.011468        2  \nOSUX91121                  0.012105        2  \n950227D02                  0.020774        0  \n\n[253 rows x 73 columns]",
      "text/html": "<div>\n<style scoped>\n    .dataframe tbody tr th:only-of-type {\n        vertical-align: middle;\n    }\n\n    .dataframe tbody tr th {\n        vertical-align: top;\n    }\n\n    .dataframe thead th {\n        text-align: right;\n    }\n</style>\n<table border=\"1\" class=\"dataframe\">\n  <thead>\n    <tr style=\"text-align: right;\">\n      <th></th>\n      <th>10%_Distance</th>\n      <th>25%_Distance</th>\n      <th>50%_Distance</th>\n      <th>75%_Distance</th>\n      <th>90%_Distance</th>\n      <th>min_Distance</th>\n      <th>max_Distance</th>\n      <th>mean_Distance</th>\n      <th>std_Distance</th>\n      <th>10%_Distance_from_start</th>\n      <th>...</th>\n      <th>10%_Rate_of_bearing_rate</th>\n      <th>25%_Rate_of_bearing_rate</th>\n      <th>50%_Rate_of_bearing_rate</th>\n      <th>75%_Rate_of_bearing_rate</th>\n      <th>90%_Rate_of_bearing_rate</th>\n      <th>min_Rate_of_bearing_rate</th>\n      <th>max_Rate_of_bearing_rate</th>\n      <th>mean_Rate_of_bearing_rate</th>\n      <th>std_Rate_of_bearing_rate</th>\n      <th>Species</th>\n    </tr>\n    <tr>\n      <th>traj_id</th>\n      <th></th>\n      <th></th>\n      <th></th>\n      <th></th>\n      <th></th>\n      <th></th>\n      <th></th>\n      <th></th>\n      <th></th>\n      <th></th>\n      <th></th>\n      <th></th>\n      <th></th>\n      <th></th>\n      <th></th>\n      <th></th>\n      <th></th>\n      <th></th>\n      <th></th>\n      <th></th>\n      <th></th>\n    </tr>\n  </thead>\n  <tbody>\n    <tr>\n      <th>910313E37</th>\n      <td>30.022296</td>\n      <td>66.956698</td>\n      <td>134.181480</td>\n      <td>284.731786</td>\n      <td>601.445028</td>\n      <td>0.000000</td>\n      <td>6205.384711</td>\n      <td>266.132622</td>\n      <td>418.058817</td>\n      <td>1129.445835</td>\n      <td>...</td>\n      <td>-0.061602</td>\n      <td>-0.025216</td>\n      <td>5.642640e-08</td>\n      <td>0.024152</td>\n      <td>0.063510</td>\n      <td>-6.036678</td>\n      <td>2.449554</td>\n      <td>-0.001423</td>\n      <td>0.151256</td>\n      <td>1</td>\n    </tr>\n    <tr>\n      <th>890424E08</th>\n      <td>42.384555</td>\n      <td>84.780094</td>\n      <td>174.620248</td>\n      <td>365.204845</td>\n      <td>739.670455</td>\n      <td>0.000000</td>\n      <td>7466.153243</td>\n      <td>321.929717</td>\n      <td>464.688410</td>\n      <td>665.186319</td>\n      <td>...</td>\n      <td>-0.061199</td>\n      <td>-0.022772</td>\n      <td>1.174658e-07</td>\n      <td>0.021624</td>\n      <td>0.061871</td>\n      <td>-11.536372</td>\n      <td>1.022737</td>\n      <td>-0.008423</td>\n      <td>0.255552</td>\n      <td>1</td>\n    </tr>\n    <tr>\n      <th>921228E06</th>\n      <td>42.390004</td>\n      <td>90.066708</td>\n      <td>200.847653</td>\n      <td>424.559571</td>\n      <td>878.857805</td>\n      <td>0.000000</td>\n      <td>5627.670877</td>\n      <td>369.912854</td>\n      <td>509.015446</td>\n      <td>807.858525</td>\n      <td>...</td>\n      <td>-0.053586</td>\n      <td>-0.018901</td>\n      <td>-6.826990e-05</td>\n      <td>0.017404</td>\n      <td>0.052331</td>\n      <td>-56.020652</td>\n      <td>4.466711</td>\n      <td>-0.017891</td>\n      <td>1.049811</td>\n      <td>1</td>\n    </tr>\n    <tr>\n      <th>930304E16</th>\n      <td>42.384004</td>\n      <td>67.090133</td>\n      <td>152.597896</td>\n      <td>334.571444</td>\n      <td>684.682660</td>\n      <td>0.000000</td>\n      <td>5977.173040</td>\n      <td>292.121524</td>\n      <td>421.497409</td>\n      <td>1183.322279</td>\n      <td>...</td>\n      <td>-0.063274</td>\n      <td>-0.024253</td>\n      <td>1.731773e-05</td>\n      <td>0.025564</td>\n      <td>0.061628</td>\n      <td>-7.865121</td>\n      <td>30.406105</td>\n      <td>0.003907</td>\n      <td>0.610773</td>\n      <td>1</td>\n    </tr>\n    <tr>\n      <th>940110D01</th>\n      <td>30.022174</td>\n      <td>66.956679</td>\n      <td>149.612247</td>\n      <td>282.568230</td>\n      <td>491.721929</td>\n      <td>0.000000</td>\n      <td>1969.437420</td>\n      <td>217.759366</td>\n      <td>228.728350</td>\n      <td>491.768051</td>\n      <td>...</td>\n      <td>-0.039799</td>\n      <td>-0.017002</td>\n      <td>0.000000e+00</td>\n      <td>0.017616</td>\n      <td>0.041103</td>\n      <td>-5.547235</td>\n      <td>200.192244</td>\n      <td>0.079246</td>\n      <td>3.815192</td>\n      <td>0</td>\n    </tr>\n    <tr>\n      <th>...</th>\n      <td>...</td>\n      <td>...</td>\n      <td>...</td>\n      <td>...</td>\n      <td>...</td>\n      <td>...</td>\n      <td>...</td>\n      <td>...</td>\n      <td>...</td>\n      <td>...</td>\n      <td>...</td>\n      <td>...</td>\n      <td>...</td>\n      <td>...</td>\n      <td>...</td>\n      <td>...</td>\n      <td>...</td>\n      <td>...</td>\n      <td>...</td>\n      <td>...</td>\n      <td>...</td>\n    </tr>\n    <tr>\n      <th>OSUX92071</th>\n      <td>42.384803</td>\n      <td>111.029114</td>\n      <td>276.330340</td>\n      <td>509.415791</td>\n      <td>1222.690175</td>\n      <td>0.000000</td>\n      <td>4968.850596</td>\n      <td>524.650689</td>\n      <td>774.791130</td>\n      <td>2265.998957</td>\n      <td>...</td>\n      <td>-0.011482</td>\n      <td>-0.005646</td>\n      <td>1.318267e-04</td>\n      <td>0.005145</td>\n      <td>0.017379</td>\n      <td>-0.180602</td>\n      <td>0.032870</td>\n      <td>-0.000672</td>\n      <td>0.022412</td>\n      <td>2</td>\n    </tr>\n    <tr>\n      <th>OSUX92008</th>\n      <td>60.044073</td>\n      <td>119.689963</td>\n      <td>335.628622</td>\n      <td>617.200624</td>\n      <td>931.170539</td>\n      <td>0.000000</td>\n      <td>4186.713715</td>\n      <td>483.921182</td>\n      <td>666.970217</td>\n      <td>2318.326105</td>\n      <td>...</td>\n      <td>-0.025204</td>\n      <td>-0.005223</td>\n      <td>2.234344e-04</td>\n      <td>0.006801</td>\n      <td>0.021601</td>\n      <td>-0.119311</td>\n      <td>0.119162</td>\n      <td>-0.001099</td>\n      <td>0.032279</td>\n      <td>2</td>\n    </tr>\n    <tr>\n      <th>OSUX91143</th>\n      <td>91.899800</td>\n      <td>149.800099</td>\n      <td>299.879846</td>\n      <td>659.816699</td>\n      <td>1483.970205</td>\n      <td>42.389900</td>\n      <td>6594.400615</td>\n      <td>693.025123</td>\n      <td>1143.737915</td>\n      <td>2746.440810</td>\n      <td>...</td>\n      <td>-0.010185</td>\n      <td>-0.002630</td>\n      <td>1.764249e-04</td>\n      <td>0.005429</td>\n      <td>0.011010</td>\n      <td>-0.029209</td>\n      <td>0.034114</td>\n      <td>0.001737</td>\n      <td>0.011468</td>\n      <td>2</td>\n    </tr>\n    <tr>\n      <th>OSUX91121</th>\n      <td>66.994900</td>\n      <td>144.143210</td>\n      <td>296.366342</td>\n      <td>657.400489</td>\n      <td>1690.020517</td>\n      <td>42.390138</td>\n      <td>5646.431369</td>\n      <td>719.304786</td>\n      <td>1190.928499</td>\n      <td>2702.971579</td>\n      <td>...</td>\n      <td>-0.014232</td>\n      <td>-0.003378</td>\n      <td>7.983535e-05</td>\n      <td>0.006121</td>\n      <td>0.022216</td>\n      <td>-0.018316</td>\n      <td>0.027926</td>\n      <td>0.001434</td>\n      <td>0.012105</td>\n      <td>2</td>\n    </tr>\n    <tr>\n      <th>950227D02</th>\n      <td>63.253031</td>\n      <td>123.400675</td>\n      <td>262.377831</td>\n      <td>466.743989</td>\n      <td>627.055555</td>\n      <td>0.000000</td>\n      <td>1187.661568</td>\n      <td>321.303921</td>\n      <td>273.109575</td>\n      <td>2068.622840</td>\n      <td>...</td>\n      <td>-0.023681</td>\n      <td>-0.015177</td>\n      <td>6.211722e-04</td>\n      <td>0.008629</td>\n      <td>0.030045</td>\n      <td>-0.041115</td>\n      <td>0.047308</td>\n      <td>0.000315</td>\n      <td>0.020774</td>\n      <td>0</td>\n    </tr>\n  </tbody>\n</table>\n<p>253 rows × 73 columns</p>\n</div>"
     },
     "execution_count": 7,
     "metadata": {},
     "output_type": "execute_result"
    }
   ],
   "source": [
    "# Now, we generate kinematic statistics on the DF and then change the\n",
    "# representation of the Trajectory to be segment based instead of point based.\n",
    "\n",
    "stats_df = Statistics.generate_kinematic_stats(dataframe=few_filt_starkey,\n",
    "                                               target_col_name='Species')\n",
    "pivoted = Statistics.pivot_stats_df(dataframe=stats_df,\n",
    "                                    target_col_name='Species')\n",
    "pivoted"
   ],
   "metadata": {
    "collapsed": false,
    "pycharm": {
     "name": "#%%\n"
    }
   }
  },
  {
   "cell_type": "code",
   "execution_count": 8,
   "outputs": [],
   "source": [
    "# Step-5: Getting the test and train datasets ready.\n",
    "from sklearn.model_selection import train_test_split\n",
    "from sklearn.metrics import f1_score\n",
    "from sklearn.ensemble import RandomForestClassifier\n",
    "from sklearn.tree import DecisionTreeClassifier\n",
    "from sklearn.naive_bayes import GaussianNB\n",
    "from sklearn.neighbors import KNeighborsClassifier\n",
    "\n",
    "\n",
    "X_train, X_test, y_train, y_test = train_test_split(pivoted.drop(columns=['Species']), pivoted['Species'],\n",
    "                                                    random_state=7, test_size=0.2)"
   ],
   "metadata": {
    "collapsed": false,
    "pycharm": {
     "name": "#%%\n"
    }
   }
  },
  {
   "cell_type": "code",
   "execution_count": 9,
   "outputs": [
    {
     "name": "stdout",
     "output_type": "stream",
     "text": [
      "---------------- RandomForest Classifier -----------------\n",
      "The f1_score of RF training is: 100.0%\n",
      "The f1_score of RF testing is: 84.68%\n",
      "----------------------------------------------------------\n",
      "\n",
      "---------------- DecisionTree Classifier -----------------\n",
      "The f1_score of DT training is: 100.0%\n",
      "The f1_score of DT testing is: 76.8%\n",
      "----------------------------------------------------------\n",
      "\n",
      "----------------- Naive Bayes Classifier -----------------\n",
      "The f1_score of GNB training is: 71.47%\n",
      "The f1_score of GNB testing is: 51.69%\n",
      "----------------------------------------------------------\n",
      "\n",
      "--------------------- KNN Classifier ---------------------\n",
      "The f1_score of KNN training is: 81.55%\n",
      "The f1_score of KNN testing is: 63.97%\n",
      "----------------------------------------------------------\n",
      "\n"
     ]
    }
   ],
   "source": [
    "# Now it is time to train some models and predict\n",
    "# the ship types.\n",
    "\n",
    "# 1. RandomForestClassifier model.\n",
    "rf_model = RandomForestClassifier()\n",
    "rf_model.fit(X_train, y_train)\n",
    "\n",
    "# Now, lets predict on the training and testing set\n",
    "# using the above trained model.\n",
    "rf_train_predict = rf_model.predict(X_train)\n",
    "rf_test_predict = rf_model.predict(X_test)\n",
    "\n",
    "\n",
    "# Finally, lets test the accuracy of the model on both\n",
    "# the datasets.\n",
    "rf_train_accuracy = f1_score(y_train, rf_train_predict, average='weighted')\n",
    "rf_test_accuracy = f1_score(y_test, rf_test_predict, average='weighted')\n",
    "\n",
    "print('---------------- RandomForest Classifier -----------------')\n",
    "print(f\"The f1_score of RF training is: {round(rf_train_accuracy*100, 2)}%\")\n",
    "print(f\"The f1_score of RF testing is: {round(rf_test_accuracy*100, 2)}%\")\n",
    "print('----------------------------------------------------------\\n')\n",
    "\n",
    "# ----------------------------------------------------------------------------------- #\n",
    "\n",
    "# 2. DecisionTree Classifier model.\n",
    "dt_model = DecisionTreeClassifier()\n",
    "dt_model.fit(X_train, y_train)\n",
    "\n",
    "# Now, lets predict on the training and testing set\n",
    "# using the above trained model.\n",
    "dt_train_predict = dt_model.predict(X_train)\n",
    "dt_test_predict = dt_model.predict(X_test)\n",
    "\n",
    "\n",
    "# Finally, lets test the accuracy of the model on both\n",
    "# the datasets.\n",
    "dt_train_accuracy = f1_score(y_train, dt_train_predict, average='weighted')\n",
    "dt_test_accuracy = f1_score(y_test, dt_test_predict, average='weighted')\n",
    "\n",
    "print('---------------- DecisionTree Classifier -----------------')\n",
    "print(f\"The f1_score of DT training is: {round(dt_train_accuracy*100, 2)}%\")\n",
    "print(f\"The f1_score of DT testing is: {round(dt_test_accuracy*100, 2)}%\")\n",
    "print('----------------------------------------------------------\\n')\n",
    "\n",
    "# ----------------------------------------------------------------------------------- #\n",
    "\n",
    "# 3. Gaussian Naive Bayes model.\n",
    "gnb_model = GaussianNB()\n",
    "gnb_model.fit(X_train, y_train)\n",
    "\n",
    "# Now, lets predict on the training and testing set\n",
    "# using the above trained model.\n",
    "gnb_train_predict = gnb_model.predict(X_train)\n",
    "gnb_test_predict = gnb_model.predict(X_test)\n",
    "\n",
    "\n",
    "# Finally, lets test the accuracy of the model on both\n",
    "# the datasets.\n",
    "gnb_train_accuracy = f1_score(y_train, gnb_train_predict, average='weighted')\n",
    "gnb_test_accuracy = f1_score(y_test, gnb_test_predict, average='weighted')\n",
    "\n",
    "print('----------------- Naive Bayes Classifier -----------------')\n",
    "print(f\"The f1_score of GNB training is: {round(gnb_train_accuracy*100, 2)}%\")\n",
    "print(f\"The f1_score of GNB testing is: {round(gnb_test_accuracy*100, 2)}%\")\n",
    "print('----------------------------------------------------------\\n')\n",
    "\n",
    "# ----------------------------------------------------------------------------------- #\n",
    "\n",
    "# 4. K-Nearest Neighbors Classifier model.\n",
    "\n",
    "knn_model = KNeighborsClassifier()\n",
    "knn_model.fit(X_train, y_train)\n",
    "\n",
    "# Now, lets predict on the training and testing set\n",
    "# using the above trained model.\n",
    "knn_train_predict = knn_model.predict(X_train)\n",
    "knn_test_predict = knn_model.predict(X_test)\n",
    "\n",
    "\n",
    "# Finally, lets test the accuracy of the model on both\n",
    "# the datasets.\n",
    "knn_train_accuracy = f1_score(y_train, knn_train_predict, average='weighted')\n",
    "knn_test_accuracy = f1_score(y_test, knn_test_predict, average='weighted')\n",
    "\n",
    "print('--------------------- KNN Classifier ---------------------')\n",
    "print(f\"The f1_score of KNN training is: {round(knn_train_accuracy*100, 2)}%\")\n",
    "print(f\"The f1_score of KNN testing is: {round(knn_test_accuracy*100, 2)}%\")\n",
    "print('----------------------------------------------------------\\n')"
   ],
   "metadata": {
    "collapsed": false,
    "pycharm": {
     "name": "#%%\n"
    }
   }
  },
  {
   "cell_type": "code",
   "execution_count": 10,
   "outputs": [
    {
     "data": {
      "text/plain": "<Figure size 648x360 with 1 Axes>",
      "image/png": "[encoded data removed]"
     },
     "metadata": {
      "needs_background": "light"
     },
     "output_type": "display_data"
    }
   ],
   "source": [
    "# Let's visualize the scores using box plot of cross validation of the models.\n",
    "import matplotlib.pyplot as plt\n",
    "from sklearn.model_selection import cross_val_score, StratifiedKFold\n",
    "\n",
    "names = [\"Random Forest\", \"Decision Tree\", \"Gaussian Naive Bayes\", \"K-Nearest Neighbors\"]\n",
    "models = [RandomForestClassifier(), DecisionTreeClassifier(), GaussianNB(), KNeighborsClassifier()]\n",
    "\n",
    "fig = plt.figure(figsize=(9, 5))\n",
    "ax = plt.subplot(111)\n",
    "ax.set_facecolor('gainsboro')\n",
    "\n",
    "skf = StratifiedKFold(n_splits=10, random_state=10, shuffle=True)\n",
    "for i, name, model in zip(range(0, 5), names, models):\n",
    "    scores = cross_val_score(model, pivoted.drop(columns=['Species']), pivoted['Species'],\n",
    "                             scoring='f1_weighted', cv=skf, n_jobs=-1)\n",
    "    ax.boxplot(x=scores, positions=[i], vert=True,\n",
    "               widths=0.60, patch_artist=True)\n",
    "\n",
    "ax.set_xticklabels(labels=names)\n",
    "ax.set_ylabel(\"F-Score\")\n",
    "ax.set_xlabel(\"Model\")\n",
    "plt.tight_layout()"
   ],
   "metadata": {
    "collapsed": false,
    "pycharm": {
     "name": "#%%\n"
    }
   }
  }
 ],
 "metadata": {
  "kernelspec": {
   "display_name": "Python 3",
   "language": "python",
   "name": "python3"
  },
  "language_info": {
   "codemirror_mode": {
    "name": "ipython",
    "version": 2
   },
   "file_extension": ".py",
   "mimetype": "text/x-python",
   "name": "python",
   "nbconvert_exporter": "python",
   "pygments_lexer": "ipython2",
   "version": "2.7.6"
  }
 },
 "nbformat": 4,
 "nbformat_minor": 0
}