{
 "cells": [
  {
   "cell_type": "markdown",
   "source": [
    "<h1> Ship Type Prediction </h1>\n",
    "\n",
    "<p align='justify'>\n",
    "\n",
    "This Jupyter notebook contains a classification example which is\n",
    "done with the help of Scikit-Learn library. In this notebook,\n",
    "the following steps are performed:\n",
    "</p>\n",
    "\n",
    "<ol align='justify'>\n",
    "    <li> The preprocessing i.e. feature generation, filtering and\n",
    "         interpolation of the data is carried out using the\n",
    "         PTRAIL Library.\n",
    "    </li>\n",
    "    <li> Further, several models like RandomForestClassifier, KMeans\n",
    "         Classifier etc. are trained using the Scikit-Learn library\n",
    "         based on the cleaned dataset.\n",
    "    </li>\n",
    "    <li>\n",
    "        Finally, on the interpolated dataset, the type of ships are\n",
    "        predicted and their accuracy is checked.\n",
    "    </li>"
   ],
   "metadata": {
    "collapsed": false,
    "pycharm": {
     "name": "#%% md\n"
    }
   }
  },
  {
   "cell_type": "code",
   "execution_count": 1,
   "outputs": [
    {
     "data": {
      "text/plain": "                                         MMSI        IMO       lat        lon  \\\ntraj_id        DateTime                                                         \nADMIRAL   TIDE 2015-01-01 00:00:05  338433000  9184524.0  34.19727 -119.41710   \n               2015-01-01 00:01:14  338433000  9184524.0  34.19817 -119.42057   \n               2015-01-01 00:02:25  338433000  9184524.0  34.19911 -119.42421   \n               2015-01-01 00:03:29  338433000  9184524.0  34.19997 -119.42749   \n               2015-01-01 00:04:36  338433000  9184524.0  34.20086 -119.43086   \n\n                                    SOG    COG  Heading CallSign  VesselType  \\\ntraj_id        DateTime                                                        \nADMIRAL   TIDE 2015-01-01 00:00:05  9.6 -122.1    277.0  WDG7881          77   \n               2015-01-01 00:01:14  9.6 -122.6    278.0  WDG7881          77   \n               2015-01-01 00:02:25  9.6 -122.5    278.0  WDG7881          77   \n               2015-01-01 00:03:29  9.6 -121.5    278.0  WDG7881          77   \n               2015-01-01 00:04:36  9.7 -122.3    277.0  WDG7881          77   \n\n                                    VesselTypeGroup  \\\ntraj_id        DateTime                               \nADMIRAL   TIDE 2015-01-01 00:00:05                0   \n               2015-01-01 00:01:14                0   \n               2015-01-01 00:02:25                0   \n               2015-01-01 00:03:29                0   \n               2015-01-01 00:04:36                0   \n\n                                             VesselTypeDescription  \\\ntraj_id        DateTime                                              \nADMIRAL   TIDE 2015-01-01 00:00:05  Cargo, reserved for future use   \n               2015-01-01 00:01:14  Cargo, reserved for future use   \n               2015-01-01 00:02:25  Cargo, reserved for future use   \n               2015-01-01 00:03:29  Cargo, reserved for future use   \n               2015-01-01 00:04:36  Cargo, reserved for future use   \n\n                                                    Status  Length  Width  \\\ntraj_id        DateTime                                                     \nADMIRAL   TIDE 2015-01-01 00:00:05  under way using engine    62.0   14.0   \n               2015-01-01 00:01:14  under way using engine    62.0   14.0   \n               2015-01-01 00:02:25  under way using engine    62.0   14.0   \n               2015-01-01 00:03:29  under way using engine    62.0   14.0   \n               2015-01-01 00:04:36  under way using engine    62.0   14.0   \n\n                                    Draft  Cargo  Zone Country Flag  \ntraj_id        DateTime                                              \nADMIRAL   TIDE 2015-01-01 00:00:05    4.5   77.0    11     USA   US  \n               2015-01-01 00:01:14    4.5   77.0    11     USA   US  \n               2015-01-01 00:02:25    4.5   77.0    11     USA   US  \n               2015-01-01 00:03:29    4.5   77.0    11     USA   US  \n               2015-01-01 00:04:36    4.5   77.0    11     USA   US  ",
      "text/html": "<div>\n<style scoped>\n    .dataframe tbody tr th:only-of-type {\n        vertical-align: middle;\n    }\n\n    .dataframe tbody tr th {\n        vertical-align: top;\n    }\n\n    .dataframe thead th {\n        text-align: right;\n    }\n</style>\n<table border=\"1\" class=\"dataframe\">\n  <thead>\n    <tr style=\"text-align: right;\">\n      <th></th>\n      <th></th>\n      <th>MMSI</th>\n      <th>IMO</th>\n      <th>lat</th>\n      <th>lon</th>\n      <th>SOG</th>\n      <th>COG</th>\n      <th>Heading</th>\n      <th>CallSign</th>\n      <th>VesselType</th>\n      <th>VesselTypeGroup</th>\n      <th>VesselTypeDescription</th>\n      <th>Status</th>\n      <th>Length</th>\n      <th>Width</th>\n      <th>Draft</th>\n      <th>Cargo</th>\n      <th>Zone</th>\n      <th>Country</th>\n      <th>Flag</th>\n    </tr>\n    <tr>\n      <th>traj_id</th>\n      <th>DateTime</th>\n      <th></th>\n      <th></th>\n      <th></th>\n      <th></th>\n      <th></th>\n      <th></th>\n      <th></th>\n      <th></th>\n      <th></th>\n      <th></th>\n      <th></th>\n      <th></th>\n      <th></th>\n      <th></th>\n      <th></th>\n      <th></th>\n      <th></th>\n      <th></th>\n      <th></th>\n    </tr>\n  </thead>\n  <tbody>\n    <tr>\n      <th rowspan=\"5\" valign=\"top\">ADMIRAL   TIDE</th>\n      <th>2015-01-01 00:00:05</th>\n      <td>338433000</td>\n      <td>9184524.0</td>\n      <td>34.19727</td>\n      <td>-119.41710</td>\n      <td>9.6</td>\n      <td>-122.1</td>\n      <td>277.0</td>\n      <td>WDG7881</td>\n      <td>77</td>\n      <td>0</td>\n      <td>Cargo, reserved for future use</td>\n      <td>under way using engine</td>\n      <td>62.0</td>\n      <td>14.0</td>\n      <td>4.5</td>\n      <td>77.0</td>\n      <td>11</td>\n      <td>USA</td>\n      <td>US</td>\n    </tr>\n    <tr>\n      <th>2015-01-01 00:01:14</th>\n      <td>338433000</td>\n      <td>9184524.0</td>\n      <td>34.19817</td>\n      <td>-119.42057</td>\n      <td>9.6</td>\n      <td>-122.6</td>\n      <td>278.0</td>\n      <td>WDG7881</td>\n      <td>77</td>\n      <td>0</td>\n      <td>Cargo, reserved for future use</td>\n      <td>under way using engine</td>\n      <td>62.0</td>\n      <td>14.0</td>\n      <td>4.5</td>\n      <td>77.0</td>\n      <td>11</td>\n      <td>USA</td>\n      <td>US</td>\n    </tr>\n    <tr>\n      <th>2015-01-01 00:02:25</th>\n      <td>338433000</td>\n      <td>9184524.0</td>\n      <td>34.19911</td>\n      <td>-119.42421</td>\n      <td>9.6</td>\n      <td>-122.5</td>\n      <td>278.0</td>\n      <td>WDG7881</td>\n      <td>77</td>\n      <td>0</td>\n      <td>Cargo, reserved for future use</td>\n      <td>under way using engine</td>\n      <td>62.0</td>\n      <td>14.0</td>\n      <td>4.5</td>\n      <td>77.0</td>\n      <td>11</td>\n      <td>USA</td>\n      <td>US</td>\n    </tr>\n    <tr>\n      <th>2015-01-01 00:03:29</th>\n      <td>338433000</td>\n      <td>9184524.0</td>\n      <td>34.19997</td>\n      <td>-119.42749</td>\n      <td>9.6</td>\n      <td>-121.5</td>\n      <td>278.0</td>\n      <td>WDG7881</td>\n      <td>77</td>\n      <td>0</td>\n      <td>Cargo, reserved for future use</td>\n      <td>under way using engine</td>\n      <td>62.0</td>\n      <td>14.0</td>\n      <td>4.5</td>\n      <td>77.0</td>\n      <td>11</td>\n      <td>USA</td>\n      <td>US</td>\n    </tr>\n    <tr>\n      <th>2015-01-01 00:04:36</th>\n      <td>338433000</td>\n      <td>9184524.0</td>\n      <td>34.20086</td>\n      <td>-119.43086</td>\n      <td>9.7</td>\n      <td>-122.3</td>\n      <td>277.0</td>\n      <td>WDG7881</td>\n      <td>77</td>\n      <td>0</td>\n      <td>Cargo, reserved for future use</td>\n      <td>under way using engine</td>\n      <td>62.0</td>\n      <td>14.0</td>\n      <td>4.5</td>\n      <td>77.0</td>\n      <td>11</td>\n      <td>USA</td>\n      <td>US</td>\n    </tr>\n  </tbody>\n</table>\n</div>"
     },
     "execution_count": 1,
     "metadata": {},
     "output_type": "execute_result"
    }
   ],
   "source": [
    "# We are going to supress any UserWarnings for demonstration purposes.\n",
    "import warnings\n",
    "warnings.simplefilter(\"ignore\", UserWarning)\n",
    "\n",
    "# Load the data into a pandas dataframe and convert it into a PTRAILDataFrame.\n",
    "import pandas as pd\n",
    "from ptrail.core.TrajectoryDF import PTRAILDataFrame\n",
    "from ptrail.preprocessing.statistics import Statistics\n",
    "\n",
    "pdf = pd.read_csv('https://raw.githubusercontent.com/YakshHaranwala/PTRAIL/main/examples/data/ships.csv')\n",
    "ships_df = PTRAILDataFrame(data_set=pdf.dropna(),\n",
    "                           latitude='Lat',\n",
    "                           longitude='Lon',\n",
    "                           datetime='DateTime',\n",
    "                           traj_id='VesselName')\n",
    "\n",
    "# Filter out only Cargo, passenger and fishing ships.\n",
    "ships = ships_df.loc[ships_df['VesselTypeGroup'].isin(['Cargo', 'Passenger', 'Fishing'])]\n",
    "\n",
    "# Change the labels of the ShipTypes to the following:\n",
    "# Cargo: 0\n",
    "# Fishing: 1\n",
    "# Passenger: 2\n",
    "ships['VesselTypeGroup'] = ships['VesselTypeGroup'].map({'Cargo': 0, 'Fishing': 1,'Passenger': 2,})\n",
    "ships = PTRAILDataFrame(data_set=ships.reset_index(),\n",
    "                        latitude='lat',\n",
    "                        longitude='lon',\n",
    "                        datetime='Timestamp',\n",
    "                        traj_id='Name')\n",
    "\n",
    "ships.head()"
   ],
   "metadata": {
    "collapsed": false,
    "pycharm": {
     "name": "#%%\n"
    }
   }
  },
  {
   "cell_type": "code",
   "execution_count": 2,
   "outputs": [
    {
     "name": "stdout",
     "output_type": "stream",
     "text": [
      "CPU times: user 16.1 s, sys: 1.28 s, total: 17.4 s\n",
      "Wall time: 1min 28s\n"
     ]
    },
    {
     "data": {
      "text/plain": "                      10%_Distance  25%_Distance  50%_Distance  75%_Distance  \\\ntraj_id                                                                        \nLYRA LEADER             108.745949    112.995689    121.364309    383.429860   \nGRETA                     0.357075      0.632900      1.230203      3.010590   \nALASKAN COMMAND           0.552849      1.018626      2.014699      4.744031   \nYM EFFICIENCY           115.158731    119.986094    131.651261    409.198875   \nHARVESTOR                 0.224048      0.418203      0.893026      2.145281   \n...                            ...           ...           ...           ...   \nCARNIVAL INSPIRATION      6.937034     10.674084     51.395823    612.645409   \nSEALAND COMET             0.044523      0.681438      1.111981     10.945387   \nROCKIES HIGHWAY         118.036213    122.956092    594.203459  65841.982181   \nSTAR MOIRA                0.049716      0.077150      2.620163     11.339897   \nGH GLORY                 87.679326     88.227993    324.225342    889.304146   \n\n                       90%_Distance  min_Distance   max_Distance  \\\ntraj_id                                                            \nLYRA LEADER              400.324764      0.882526    3425.606263   \nGRETA                      4.614278      0.045499      12.562501   \nALASKAN COMMAND            7.416825      0.026180      17.285922   \nYM EFFICIENCY            432.637919      0.208142    2407.309262   \nHARVESTOR                  4.178376      0.007222     683.503638   \n...                             ...           ...            ...   \nCARNIVAL INSPIRATION    1253.191596      1.607094    2320.984557   \nSEALAND COMET             94.618746      0.044523      94.618746   \nROCKIES HIGHWAY       180015.939577    112.196856  249707.498724   \nSTAR MOIRA                15.354368      0.043606      19.703532   \nGH GLORY                3897.891032     87.646357   10584.203216   \n\n                      mean_Distance  std_Distance  10%_Distance_from_start  \\\ntraj_id                                                                      \nLYRA LEADER              253.201818    189.655457             20722.860230   \nGRETA                      2.008064      1.875736                 1.931818   \nALASKAN COMMAND            3.160925      2.895923                 1.865332   \nYM EFFICIENCY            277.860397    206.440235             30071.355304   \nHARVESTOR                 16.195157     67.495972             25433.825051   \n...                             ...           ...                      ...   \nCARNIVAL INSPIRATION     453.797710    762.057432                89.319246   \nSEALAND COMET             20.844905     39.108614                 0.000000   \nROCKIES HIGHWAY        54892.558133  94277.891363            105215.836200   \nSTAR MOIRA                 6.154839      7.615397                 2.883473   \nGH GLORY                1671.294732   3621.330055               676.786848   \n\n                      ...  10%_Rate_of_bearing_rate  25%_Rate_of_bearing_rate  \\\ntraj_id               ...                                                       \nLYRA LEADER           ...                 -0.065578                 -0.018986   \nGRETA                 ...                 -7.480144                 -1.905707   \nALASKAN COMMAND       ...                 -7.790852                 -1.821167   \nYM EFFICIENCY         ...                 -0.026343                 -0.006381   \nHARVESTOR             ...                 -6.569646                 -1.518469   \n...                   ...                       ...                       ...   \nCARNIVAL INSPIRATION  ...                 -0.473890                 -0.018746   \nSEALAND COMET         ...                 -1.104294                 -0.000022   \nROCKIES HIGHWAY       ...                 -0.011423                 -0.000064   \nSTAR MOIRA            ...                 -0.014179                  0.002782   \nGH GLORY              ...                 -0.040386                  0.000017   \n\n                      50%_Rate_of_bearing_rate  75%_Rate_of_bearing_rate  \\\ntraj_id                                                                    \nLYRA LEADER                      -1.524647e-04                  0.018091   \nGRETA                            -5.495042e-02                  1.518414   \nALASKAN COMMAND                  -7.324242e-02                  1.674919   \nYM EFFICIENCY                     1.530504e-04                  0.008275   \nHARVESTOR                         3.077968e-03                  1.653434   \n...                                        ...                       ...   \nCARNIVAL INSPIRATION             -1.350515e-03                  0.028266   \nSEALAND COMET                    -2.781818e-07                  0.000003   \nROCKIES HIGHWAY                  -1.573593e-05                  0.000065   \nSTAR MOIRA                        8.557934e-03                  2.582883   \nGH GLORY                          1.820283e-03                  0.007932   \n\n                      90%_Rate_of_bearing_rate  min_Rate_of_bearing_rate  \\\ntraj_id                                                                    \nLYRA LEADER                           0.068829                 -3.863703   \nGRETA                                 7.730777                -23.100780   \nALASKAN COMMAND                       8.802488                -22.915097   \nYM EFFICIENCY                         0.032897                -14.913672   \nHARVESTOR                             7.031674                -23.688065   \n...                                        ...                       ...   \nCARNIVAL INSPIRATION                  0.669600                 -0.674330   \nSEALAND COMET                         0.013568                 -1.104295   \nROCKIES HIGHWAY                       0.019840                 -0.028392   \nSTAR MOIRA                            6.253962                 -0.039129   \nGH GLORY                              0.020969                 -0.100464   \n\n                      max_Rate_of_bearing_rate  mean_Rate_of_bearing_rate  \\\ntraj_id                                                                     \nLYRA LEADER                           3.753725                  -0.000954   \nGRETA                                23.728706                   0.004600   \nALASKAN COMMAND                      23.994274                   0.064194   \nYM EFFICIENCY                        17.575143                   0.003955   \nHARVESTOR                            23.566738                   0.096752   \n...                                        ...                        ...   \nCARNIVAL INSPIRATION                  3.102752                   0.229348   \nSEALAND COMET                         0.035821                  -0.240531   \nROCKIES HIGHWAY                       0.049389                   0.002998   \nSTAR MOIRA                            8.264201                   1.914994   \nGH GLORY                              0.033852                  -0.006985   \n\n                      std_Rate_of_bearing_rate  VesselTypeGroup  \ntraj_id                                                          \nLYRA LEADER                           0.183564                0  \nGRETA                                 6.826181                0  \nALASKAN COMMAND                       7.048065                1  \nYM EFFICIENCY                         0.582241                0  \nHARVESTOR                             6.474556                1  \n...                                        ...              ...  \nCARNIVAL INSPIRATION                  1.106403                2  \nSEALAND COMET                         0.489845                0  \nROCKIES HIGHWAY                       0.023031                0  \nSTAR MOIRA                            3.337593                0  \nGH GLORY                              0.042947                0  \n\n[295 rows x 73 columns]",
      "text/html": "<div>\n<style scoped>\n    .dataframe tbody tr th:only-of-type {\n        vertical-align: middle;\n    }\n\n    .dataframe tbody tr th {\n        vertical-align: top;\n    }\n\n    .dataframe thead th {\n        text-align: right;\n    }\n</style>\n<table border=\"1\" class=\"dataframe\">\n  <thead>\n    <tr style=\"text-align: right;\">\n      <th></th>\n      <th>10%_Distance</th>\n      <th>25%_Distance</th>\n      <th>50%_Distance</th>\n      <th>75%_Distance</th>\n      <th>90%_Distance</th>\n      <th>min_Distance</th>\n      <th>max_Distance</th>\n      <th>mean_Distance</th>\n      <th>std_Distance</th>\n      <th>10%_Distance_from_start</th>\n      <th>...</th>\n      <th>10%_Rate_of_bearing_rate</th>\n      <th>25%_Rate_of_bearing_rate</th>\n      <th>50%_Rate_of_bearing_rate</th>\n      <th>75%_Rate_of_bearing_rate</th>\n      <th>90%_Rate_of_bearing_rate</th>\n      <th>min_Rate_of_bearing_rate</th>\n      <th>max_Rate_of_bearing_rate</th>\n      <th>mean_Rate_of_bearing_rate</th>\n      <th>std_Rate_of_bearing_rate</th>\n      <th>VesselTypeGroup</th>\n    </tr>\n    <tr>\n      <th>traj_id</th>\n      <th></th>\n      <th></th>\n      <th></th>\n      <th></th>\n      <th></th>\n      <th></th>\n      <th></th>\n      <th></th>\n      <th></th>\n      <th></th>\n      <th></th>\n      <th></th>\n      <th></th>\n      <th></th>\n      <th></th>\n      <th></th>\n      <th></th>\n      <th></th>\n      <th></th>\n      <th></th>\n      <th></th>\n    </tr>\n  </thead>\n  <tbody>\n    <tr>\n      <th>LYRA LEADER</th>\n      <td>108.745949</td>\n      <td>112.995689</td>\n      <td>121.364309</td>\n      <td>383.429860</td>\n      <td>400.324764</td>\n      <td>0.882526</td>\n      <td>3425.606263</td>\n      <td>253.201818</td>\n      <td>189.655457</td>\n      <td>20722.860230</td>\n      <td>...</td>\n      <td>-0.065578</td>\n      <td>-0.018986</td>\n      <td>-1.524647e-04</td>\n      <td>0.018091</td>\n      <td>0.068829</td>\n      <td>-3.863703</td>\n      <td>3.753725</td>\n      <td>-0.000954</td>\n      <td>0.183564</td>\n      <td>0</td>\n    </tr>\n    <tr>\n      <th>GRETA</th>\n      <td>0.357075</td>\n      <td>0.632900</td>\n      <td>1.230203</td>\n      <td>3.010590</td>\n      <td>4.614278</td>\n      <td>0.045499</td>\n      <td>12.562501</td>\n      <td>2.008064</td>\n      <td>1.875736</td>\n      <td>1.931818</td>\n      <td>...</td>\n      <td>-7.480144</td>\n      <td>-1.905707</td>\n      <td>-5.495042e-02</td>\n      <td>1.518414</td>\n      <td>7.730777</td>\n      <td>-23.100780</td>\n      <td>23.728706</td>\n      <td>0.004600</td>\n      <td>6.826181</td>\n      <td>0</td>\n    </tr>\n    <tr>\n      <th>ALASKAN COMMAND</th>\n      <td>0.552849</td>\n      <td>1.018626</td>\n      <td>2.014699</td>\n      <td>4.744031</td>\n      <td>7.416825</td>\n      <td>0.026180</td>\n      <td>17.285922</td>\n      <td>3.160925</td>\n      <td>2.895923</td>\n      <td>1.865332</td>\n      <td>...</td>\n      <td>-7.790852</td>\n      <td>-1.821167</td>\n      <td>-7.324242e-02</td>\n      <td>1.674919</td>\n      <td>8.802488</td>\n      <td>-22.915097</td>\n      <td>23.994274</td>\n      <td>0.064194</td>\n      <td>7.048065</td>\n      <td>1</td>\n    </tr>\n    <tr>\n      <th>YM EFFICIENCY</th>\n      <td>115.158731</td>\n      <td>119.986094</td>\n      <td>131.651261</td>\n      <td>409.198875</td>\n      <td>432.637919</td>\n      <td>0.208142</td>\n      <td>2407.309262</td>\n      <td>277.860397</td>\n      <td>206.440235</td>\n      <td>30071.355304</td>\n      <td>...</td>\n      <td>-0.026343</td>\n      <td>-0.006381</td>\n      <td>1.530504e-04</td>\n      <td>0.008275</td>\n      <td>0.032897</td>\n      <td>-14.913672</td>\n      <td>17.575143</td>\n      <td>0.003955</td>\n      <td>0.582241</td>\n      <td>0</td>\n    </tr>\n    <tr>\n      <th>HARVESTOR</th>\n      <td>0.224048</td>\n      <td>0.418203</td>\n      <td>0.893026</td>\n      <td>2.145281</td>\n      <td>4.178376</td>\n      <td>0.007222</td>\n      <td>683.503638</td>\n      <td>16.195157</td>\n      <td>67.495972</td>\n      <td>25433.825051</td>\n      <td>...</td>\n      <td>-6.569646</td>\n      <td>-1.518469</td>\n      <td>3.077968e-03</td>\n      <td>1.653434</td>\n      <td>7.031674</td>\n      <td>-23.688065</td>\n      <td>23.566738</td>\n      <td>0.096752</td>\n      <td>6.474556</td>\n      <td>1</td>\n    </tr>\n    <tr>\n      <th>...</th>\n      <td>...</td>\n      <td>...</td>\n      <td>...</td>\n      <td>...</td>\n      <td>...</td>\n      <td>...</td>\n      <td>...</td>\n      <td>...</td>\n      <td>...</td>\n      <td>...</td>\n      <td>...</td>\n      <td>...</td>\n      <td>...</td>\n      <td>...</td>\n      <td>...</td>\n      <td>...</td>\n      <td>...</td>\n      <td>...</td>\n      <td>...</td>\n      <td>...</td>\n      <td>...</td>\n    </tr>\n    <tr>\n      <th>CARNIVAL INSPIRATION</th>\n      <td>6.937034</td>\n      <td>10.674084</td>\n      <td>51.395823</td>\n      <td>612.645409</td>\n      <td>1253.191596</td>\n      <td>1.607094</td>\n      <td>2320.984557</td>\n      <td>453.797710</td>\n      <td>762.057432</td>\n      <td>89.319246</td>\n      <td>...</td>\n      <td>-0.473890</td>\n      <td>-0.018746</td>\n      <td>-1.350515e-03</td>\n      <td>0.028266</td>\n      <td>0.669600</td>\n      <td>-0.674330</td>\n      <td>3.102752</td>\n      <td>0.229348</td>\n      <td>1.106403</td>\n      <td>2</td>\n    </tr>\n    <tr>\n      <th>SEALAND COMET</th>\n      <td>0.044523</td>\n      <td>0.681438</td>\n      <td>1.111981</td>\n      <td>10.945387</td>\n      <td>94.618746</td>\n      <td>0.044523</td>\n      <td>94.618746</td>\n      <td>20.844905</td>\n      <td>39.108614</td>\n      <td>0.000000</td>\n      <td>...</td>\n      <td>-1.104294</td>\n      <td>-0.000022</td>\n      <td>-2.781818e-07</td>\n      <td>0.000003</td>\n      <td>0.013568</td>\n      <td>-1.104295</td>\n      <td>0.035821</td>\n      <td>-0.240531</td>\n      <td>0.489845</td>\n      <td>0</td>\n    </tr>\n    <tr>\n      <th>ROCKIES HIGHWAY</th>\n      <td>118.036213</td>\n      <td>122.956092</td>\n      <td>594.203459</td>\n      <td>65841.982181</td>\n      <td>180015.939577</td>\n      <td>112.196856</td>\n      <td>249707.498724</td>\n      <td>54892.558133</td>\n      <td>94277.891363</td>\n      <td>105215.836200</td>\n      <td>...</td>\n      <td>-0.011423</td>\n      <td>-0.000064</td>\n      <td>-1.573593e-05</td>\n      <td>0.000065</td>\n      <td>0.019840</td>\n      <td>-0.028392</td>\n      <td>0.049389</td>\n      <td>0.002998</td>\n      <td>0.023031</td>\n      <td>0</td>\n    </tr>\n    <tr>\n      <th>STAR MOIRA</th>\n      <td>0.049716</td>\n      <td>0.077150</td>\n      <td>2.620163</td>\n      <td>11.339897</td>\n      <td>15.354368</td>\n      <td>0.043606</td>\n      <td>19.703532</td>\n      <td>6.154839</td>\n      <td>7.615397</td>\n      <td>2.883473</td>\n      <td>...</td>\n      <td>-0.014179</td>\n      <td>0.002782</td>\n      <td>8.557934e-03</td>\n      <td>2.582883</td>\n      <td>6.253962</td>\n      <td>-0.039129</td>\n      <td>8.264201</td>\n      <td>1.914994</td>\n      <td>3.337593</td>\n      <td>0</td>\n    </tr>\n    <tr>\n      <th>GH GLORY</th>\n      <td>87.679326</td>\n      <td>88.227993</td>\n      <td>324.225342</td>\n      <td>889.304146</td>\n      <td>3897.891032</td>\n      <td>87.646357</td>\n      <td>10584.203216</td>\n      <td>1671.294732</td>\n      <td>3621.330055</td>\n      <td>676.786848</td>\n      <td>...</td>\n      <td>-0.040386</td>\n      <td>0.000017</td>\n      <td>1.820283e-03</td>\n      <td>0.007932</td>\n      <td>0.020969</td>\n      <td>-0.100464</td>\n      <td>0.033852</td>\n      <td>-0.006985</td>\n      <td>0.042947</td>\n      <td>0</td>\n    </tr>\n  </tbody>\n</table>\n<p>295 rows × 73 columns</p>\n</div>"
     },
     "execution_count": 2,
     "metadata": {},
     "output_type": "execute_result"
    }
   ],
   "source": [
    "%%time\n",
    "\n",
    "from ptrail.features.kinematic_features import KinematicFeatures\n",
    "from ptrail.preprocessing.filters import Filters\n",
    "from ptrail.preprocessing.interpolation import Interpolation\n",
    "from ptrail.preprocessing.statistics import Statistics\n",
    "\n",
    "# Generate Kinematic Features first\n",
    "feature_df = KinematicFeatures.generate_kinematic_features(dataframe=ships)\n",
    "\n",
    "# Hampel Filter based on Distance and Speed.\n",
    "dist_filter = Filters.hampel_outlier_detection(dataframe=feature_df, column_name='Distance')\n",
    "speed_filter = Filters.hampel_outlier_detection(dataframe=dist_filter, column_name='Speed')\n",
    "\n",
    "# Cubic Interpolation with a sampling rate of 15 minutes.\n",
    "cubic_ip = Interpolation.interpolate_position(dataframe=speed_filter, sampling_rate=15,\n",
    "                                              ip_type='cubic' ,class_label_col='VesselTypeGroup')\n",
    "\n",
    "# Finally, generating Kinematic stats and pivoting the dataframe to get it ready for classification.\n",
    "stats_df = Statistics.generate_kinematic_stats(dataframe=cubic_ip, target_col_name='VesselTypeGroup',segmented=False)\n",
    "pivoted_df = Statistics.pivot_stats_df(dataframe=stats_df, target_col_name='VesselTypeGroup', segmented=False)\n",
    "pivoted_df.dropna(inplace=True)\n",
    "\n",
    "pivoted_df"
   ],
   "metadata": {
    "collapsed": false,
    "pycharm": {
     "name": "#%%\n"
    }
   }
  },
  {
   "cell_type": "code",
   "execution_count": 3,
   "outputs": [
    {
     "data": {
      "text/plain": "<Figure size 648x360 with 1 Axes>",
      "image/png": "[encoded data removed]"
     },
     "metadata": {
      "needs_background": "light"
     },
     "output_type": "display_data"
    }
   ],
   "source": [
    "# Let's visualize the scores using box plot of cross validation of the models.\n",
    "import matplotlib.pyplot as plt\n",
    "from sklearn.model_selection import cross_val_score, RepeatedStratifiedKFold\n",
    "from sklearn.model_selection import train_test_split\n",
    "from sklearn.metrics import f1_score\n",
    "from sklearn.ensemble import RandomForestClassifier, GradientBoostingClassifier, ExtraTreesClassifier\n",
    "from sklearn.naive_bayes import GaussianNB\n",
    "from sklearn.neighbors import KNeighborsClassifier\n",
    "\n",
    "names = [\"Random Forest\", \"Gaussian Naive Bayes\", \"K-Nearest Neighbors\", \"XGBoost\", \"ExtraTrees\"]\n",
    "models = [\n",
    "    RandomForestClassifier(),\n",
    "    GaussianNB(),\n",
    "    KNeighborsClassifier(),\n",
    "    GradientBoostingClassifier(),\n",
    "    ExtraTreesClassifier()\n",
    "]\n",
    "\n",
    "fig = plt.figure(figsize=(9, 5))\n",
    "ax = plt.subplot(111)\n",
    "ax.set_facecolor('gainsboro')\n",
    "\n",
    "skf = RepeatedStratifiedKFold(n_splits=5, n_repeats=10, random_state=10)\n",
    "for i, name, model in zip(range(0, 5), names, models):\n",
    "    scores = cross_val_score(model, pivoted_df.drop(columns=['VesselTypeGroup']), pivoted_df['VesselTypeGroup'],\n",
    "                             scoring='f1_weighted', cv=skf, n_jobs=-1)\n",
    "    ax.boxplot(x=scores, positions=[i], vert=True,\n",
    "               widths=0.60, patch_artist=True)\n",
    "\n",
    "ax.set_xticklabels(labels=names)\n",
    "ax.set_ylabel(\"F1 Weighted Score\")\n",
    "ax.set_xlabel(\"Model\")\n",
    "plt.tight_layout()"
   ],
   "metadata": {
    "collapsed": false,
    "pycharm": {
     "name": "#%%\n"
    }
   }
  }
 ],
 "metadata": {
  "kernelspec": {
   "display_name": "Python 3",
   "language": "python",
   "name": "python3"
  },
  "language_info": {
   "codemirror_mode": {
    "name": "ipython",
    "version": 2
   },
   "file_extension": ".py",
   "mimetype": "text/x-python",
   "name": "python",
   "nbconvert_exporter": "python",
   "pygments_lexer": "ipython2",
   "version": "2.7.6"
  }
 },
 "nbformat": 4,
 "nbformat_minor": 0
}