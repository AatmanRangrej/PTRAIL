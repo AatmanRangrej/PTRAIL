{
 "cells": [
  {
   "cell_type": "markdown",
   "metadata": {
    "pycharm": {
     "name": "#%% md\n"
    }
   },
   "source": [
    "<h1> Ship Type Prediction </h1>\n",
    "\n",
    "<p align='justify'>\n",
    "\n",
    "This Jupyter notebook contains a classification example which is\n",
    "done with the help of Scikit-Learn library. In this notebook,\n",
    "the following steps are performed:\n",
    "</p>\n",
    "\n",
    "<ol align='justify'>\n",
    "    <li> The preprocessing i.e. feature generation, filtering and\n",
    "         interpolation of the data is carried out using the\n",
    "         PTRAIL Library.\n",
    "    </li>\n",
    "    <li> Further, several models like RandomForestClassifier, KMeans\n",
    "         Classifier etc. are trained using the Scikit-Learn library\n",
    "         based on the cleaned dataset.\n",
    "    </li>\n",
    "    <li>\n",
    "        Finally, on the interpolated dataset, the type of ships are\n",
    "        predicted and their accuracy is checked.\n",
    "    </li>"
   ]
  },
  {
   "cell_type": "code",
   "execution_count": 4,
   "metadata": {
    "pycharm": {
     "name": "#%%\n"
    }
   },
   "outputs": [
    {
     "data": {
      "text/plain": "                                         MMSI        IMO       lat        lon  \\\ntraj_id        DateTime                                                         \nADMIRAL   TIDE 2015-01-01 00:00:05  338433000  9184524.0  34.19727 -119.41710   \n               2015-01-01 00:01:14  338433000  9184524.0  34.19817 -119.42057   \n               2015-01-01 00:02:25  338433000  9184524.0  34.19911 -119.42421   \n               2015-01-01 00:03:29  338433000  9184524.0  34.19997 -119.42749   \n               2015-01-01 00:04:36  338433000  9184524.0  34.20086 -119.43086   \n\n                                    SOG    COG  Heading CallSign  VesselType  \\\ntraj_id        DateTime                                                        \nADMIRAL   TIDE 2015-01-01 00:00:05  9.6 -122.1    277.0  WDG7881          77   \n               2015-01-01 00:01:14  9.6 -122.6    278.0  WDG7881          77   \n               2015-01-01 00:02:25  9.6 -122.5    278.0  WDG7881          77   \n               2015-01-01 00:03:29  9.6 -121.5    278.0  WDG7881          77   \n               2015-01-01 00:04:36  9.7 -122.3    277.0  WDG7881          77   \n\n                                    VesselTypeGroup  \\\ntraj_id        DateTime                               \nADMIRAL   TIDE 2015-01-01 00:00:05                0   \n               2015-01-01 00:01:14                0   \n               2015-01-01 00:02:25                0   \n               2015-01-01 00:03:29                0   \n               2015-01-01 00:04:36                0   \n\n                                             VesselTypeDescription  \\\ntraj_id        DateTime                                              \nADMIRAL   TIDE 2015-01-01 00:00:05  Cargo, reserved for future use   \n               2015-01-01 00:01:14  Cargo, reserved for future use   \n               2015-01-01 00:02:25  Cargo, reserved for future use   \n               2015-01-01 00:03:29  Cargo, reserved for future use   \n               2015-01-01 00:04:36  Cargo, reserved for future use   \n\n                                                    Status  Length  Width  \\\ntraj_id        DateTime                                                     \nADMIRAL   TIDE 2015-01-01 00:00:05  under way using engine    62.0   14.0   \n               2015-01-01 00:01:14  under way using engine    62.0   14.0   \n               2015-01-01 00:02:25  under way using engine    62.0   14.0   \n               2015-01-01 00:03:29  under way using engine    62.0   14.0   \n               2015-01-01 00:04:36  under way using engine    62.0   14.0   \n\n                                    Draft  Cargo  Zone Country Flag  \ntraj_id        DateTime                                              \nADMIRAL   TIDE 2015-01-01 00:00:05    4.5   77.0    11     USA   US  \n               2015-01-01 00:01:14    4.5   77.0    11     USA   US  \n               2015-01-01 00:02:25    4.5   77.0    11     USA   US  \n               2015-01-01 00:03:29    4.5   77.0    11     USA   US  \n               2015-01-01 00:04:36    4.5   77.0    11     USA   US  ",
      "text/html": "<div>\n<style scoped>\n    .dataframe tbody tr th:only-of-type {\n        vertical-align: middle;\n    }\n\n    .dataframe tbody tr th {\n        vertical-align: top;\n    }\n\n    .dataframe thead th {\n        text-align: right;\n    }\n</style>\n<table border=\"1\" class=\"dataframe\">\n  <thead>\n    <tr style=\"text-align: right;\">\n      <th></th>\n      <th></th>\n      <th>MMSI</th>\n      <th>IMO</th>\n      <th>lat</th>\n      <th>lon</th>\n      <th>SOG</th>\n      <th>COG</th>\n      <th>Heading</th>\n      <th>CallSign</th>\n      <th>VesselType</th>\n      <th>VesselTypeGroup</th>\n      <th>VesselTypeDescription</th>\n      <th>Status</th>\n      <th>Length</th>\n      <th>Width</th>\n      <th>Draft</th>\n      <th>Cargo</th>\n      <th>Zone</th>\n      <th>Country</th>\n      <th>Flag</th>\n    </tr>\n    <tr>\n      <th>traj_id</th>\n      <th>DateTime</th>\n      <th></th>\n      <th></th>\n      <th></th>\n      <th></th>\n      <th></th>\n      <th></th>\n      <th></th>\n      <th></th>\n      <th></th>\n      <th></th>\n      <th></th>\n      <th></th>\n      <th></th>\n      <th></th>\n      <th></th>\n      <th></th>\n      <th></th>\n      <th></th>\n      <th></th>\n    </tr>\n  </thead>\n  <tbody>\n    <tr>\n      <th rowspan=\"5\" valign=\"top\">ADMIRAL   TIDE</th>\n      <th>2015-01-01 00:00:05</th>\n      <td>338433000</td>\n      <td>9184524.0</td>\n      <td>34.19727</td>\n      <td>-119.41710</td>\n      <td>9.6</td>\n      <td>-122.1</td>\n      <td>277.0</td>\n      <td>WDG7881</td>\n      <td>77</td>\n      <td>0</td>\n      <td>Cargo, reserved for future use</td>\n      <td>under way using engine</td>\n      <td>62.0</td>\n      <td>14.0</td>\n      <td>4.5</td>\n      <td>77.0</td>\n      <td>11</td>\n      <td>USA</td>\n      <td>US</td>\n    </tr>\n    <tr>\n      <th>2015-01-01 00:01:14</th>\n      <td>338433000</td>\n      <td>9184524.0</td>\n      <td>34.19817</td>\n      <td>-119.42057</td>\n      <td>9.6</td>\n      <td>-122.6</td>\n      <td>278.0</td>\n      <td>WDG7881</td>\n      <td>77</td>\n      <td>0</td>\n      <td>Cargo, reserved for future use</td>\n      <td>under way using engine</td>\n      <td>62.0</td>\n      <td>14.0</td>\n      <td>4.5</td>\n      <td>77.0</td>\n      <td>11</td>\n      <td>USA</td>\n      <td>US</td>\n    </tr>\n    <tr>\n      <th>2015-01-01 00:02:25</th>\n      <td>338433000</td>\n      <td>9184524.0</td>\n      <td>34.19911</td>\n      <td>-119.42421</td>\n      <td>9.6</td>\n      <td>-122.5</td>\n      <td>278.0</td>\n      <td>WDG7881</td>\n      <td>77</td>\n      <td>0</td>\n      <td>Cargo, reserved for future use</td>\n      <td>under way using engine</td>\n      <td>62.0</td>\n      <td>14.0</td>\n      <td>4.5</td>\n      <td>77.0</td>\n      <td>11</td>\n      <td>USA</td>\n      <td>US</td>\n    </tr>\n    <tr>\n      <th>2015-01-01 00:03:29</th>\n      <td>338433000</td>\n      <td>9184524.0</td>\n      <td>34.19997</td>\n      <td>-119.42749</td>\n      <td>9.6</td>\n      <td>-121.5</td>\n      <td>278.0</td>\n      <td>WDG7881</td>\n      <td>77</td>\n      <td>0</td>\n      <td>Cargo, reserved for future use</td>\n      <td>under way using engine</td>\n      <td>62.0</td>\n      <td>14.0</td>\n      <td>4.5</td>\n      <td>77.0</td>\n      <td>11</td>\n      <td>USA</td>\n      <td>US</td>\n    </tr>\n    <tr>\n      <th>2015-01-01 00:04:36</th>\n      <td>338433000</td>\n      <td>9184524.0</td>\n      <td>34.20086</td>\n      <td>-119.43086</td>\n      <td>9.7</td>\n      <td>-122.3</td>\n      <td>277.0</td>\n      <td>WDG7881</td>\n      <td>77</td>\n      <td>0</td>\n      <td>Cargo, reserved for future use</td>\n      <td>under way using engine</td>\n      <td>62.0</td>\n      <td>14.0</td>\n      <td>4.5</td>\n      <td>77.0</td>\n      <td>11</td>\n      <td>USA</td>\n      <td>US</td>\n    </tr>\n  </tbody>\n</table>\n</div>"
     },
     "execution_count": 4,
     "metadata": {},
     "output_type": "execute_result"
    }
   ],
   "source": [
    "# We are going to supress any UserWarnings for demonstration purposes.\n",
    "import warnings\n",
    "warnings.simplefilter(\"ignore\", UserWarning)\n",
    "\n",
    "# Load the data into a pandas dataframe and convert it into a PTRAILDataFrame.\n",
    "import pandas as pd\n",
    "from ptrail.core.TrajectoryDF import PTRAILDataFrame\n",
    "from ptrail.preprocessing.statistics import Statistics\n",
    "\n",
    "pdf = pd.read_csv('../data/ships.csv')\n",
    "ships_df = PTRAILDataFrame(data_set=pdf.dropna(),\n",
    "                           latitude='Lat',\n",
    "                           longitude='Lon',\n",
    "                           datetime='DateTime',\n",
    "                           traj_id='VesselName')\n",
    "\n",
    "# Filter out only Cargo, passenger and fishing ships.\n",
    "ships = ships_df.loc[ships_df['VesselTypeGroup'].isin(['Cargo', 'Passenger', 'Fishing'])]\n",
    "\n",
    "# Change the labels of the ShipTypes to the following:\n",
    "# Cargo: 0\n",
    "# Fishing: 1\n",
    "# Passenger: 2\n",
    "ships['VesselTypeGroup'] = ships['VesselTypeGroup'].map({'Cargo': 0, 'Fishing': 1,'Passenger': 2,})\n",
    "ships = PTRAILDataFrame(data_set=ships.reset_index(),\n",
    "                        latitude='lat',\n",
    "                        longitude='lon',\n",
    "                        datetime='Timestamp',\n",
    "                        traj_id='Name')\n",
    "\n",
    "ships.head()"
   ]
  },
  {
   "cell_type": "code",
   "execution_count": 5,
   "metadata": {
    "pycharm": {
     "name": "#%%\n"
    }
   },
   "outputs": [],
   "source": [
    "from ptrail.features.kinematic_features import KinematicFeatures\n",
    "from ptrail.preprocessing.filters import Filters\n",
    "from ptrail.preprocessing.interpolation import Interpolation\n",
    "from ptrail.preprocessing.statistics import Statistics\n",
    "\n",
    "# Generate Kinematic Features first\n",
    "feature_df = KinematicFeatures.generate_kinematic_features(dataframe=ships)\n",
    "\n",
    "# Using Hampel Filter based on Distance and Speed.\n",
    "dist_filter = Filters.hampel_outlier_detection(dataframe=feature_df, column_name='Distance')\n",
    "speed_filter = Filters.hampel_outlier_detection(dataframe=dist_filter, column_name='Speed')\n",
    "\n",
    "# Performing Cubic Interpolation with a sampling rate of 15 minutes.\n",
    "cubic_ip = Interpolation.interpolate_position(dataframe=speed_filter, sampling_rate=15,\n",
    "                                              ip_type='cubic' ,class_label_col='VesselTypeGroup')\n",
    "\n",
    "# Finally, generating Kinematic stats, switching to segment based view and dropping NaN values.\n",
    "stats_df = Statistics.generate_kinematic_stats(dataframe=cubic_ip, target_col_name='VesselTypeGroup')\n",
    "pivoted_df = Statistics.pivot_stats_df(dataframe=stats_df, target_col_name='VesselTypeGroup')\n",
    "pivoted_df.dropna(inplace=True)"
   ]
  },
  {
   "cell_type": "code",
   "execution_count": 6,
   "metadata": {
    "pycharm": {
     "name": "#%%\n"
    }
   },
   "outputs": [
    {
     "data": {
      "text/plain": "<Figure size 648x360 with 1 Axes>",
      "image/png": "[encoded data removed]"
     },
     "metadata": {
      "needs_background": "light"
     },
     "output_type": "display_data"
    }
   ],
   "source": [
    "# Let's visualize the scores using box plot of cross validation of the models.\n",
    "import matplotlib.pyplot as plt\n",
    "from sklearn.model_selection import cross_val_score, RepeatedStratifiedKFold\n",
    "from sklearn.ensemble import RandomForestClassifier, GradientBoostingClassifier, ExtraTreesClassifier\n",
    "from sklearn.naive_bayes import GaussianNB\n",
    "from sklearn.neighbors import KNeighborsClassifier\n",
    "\n",
    "names = [\"Random Forest\", \"Gaussian Naive Bayes\", \"K-Nearest Neighbors\", \"XGBoost\", \"ExtraTrees\"]\n",
    "models = [RandomForestClassifier(), GaussianNB(), KNeighborsClassifier(),\n",
    "          GradientBoostingClassifier(), ExtraTreesClassifier()]\n",
    "\n",
    "fig = plt.figure(figsize=(9, 5))\n",
    "ax = plt.subplot(111)\n",
    "\n",
    "skf = RepeatedStratifiedKFold(n_splits=5, n_repeats=10, random_state=10)\n",
    "for i, name, model in zip(range(0, 5), names, models):\n",
    "    scores = cross_val_score(model, pivoted_df.drop(columns=['VesselTypeGroup']), pivoted_df['VesselTypeGroup'],\n",
    "                             scoring='f1_weighted', cv=skf, n_jobs=-1)\n",
    "    ax.boxplot(x=scores, positions=[i], vert=True,widths=0.60, patch_artist=True)\n",
    "\n",
    "ax.set_xticklabels(labels=names)\n",
    "ax.set_ylabel(\"F1 Weighted Score\")\n",
    "ax.set_xlabel(\"Model\")\n",
    "plt.tight_layout()"
   ]
  }
 ],
 "metadata": {
  "kernelspec": {
   "display_name": "Python 3 (ipykernel)",
   "language": "python",
   "name": "python3"
  },
  "language_info": {
   "codemirror_mode": {
    "name": "ipython",
    "version": 3
   },
   "file_extension": ".py",
   "mimetype": "text/x-python",
   "name": "python",
   "nbconvert_exporter": "python",
   "pygments_lexer": "ipython3",
   "version": "3.8.10"
  }
 },
 "nbformat": 4,
 "nbformat_minor": 1
}