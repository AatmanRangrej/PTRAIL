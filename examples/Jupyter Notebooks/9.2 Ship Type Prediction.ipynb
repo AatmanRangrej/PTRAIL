{
 "cells": [
  {
   "cell_type": "markdown",
   "source": [
    "<h1> Ship Type Prediction </h1>\n",
    "\n",
    "<p align='justify'>\n",
    "\n",
    "This Jupyter notebook contains a classification example which is\n",
    "done with the help of Scikit-Learn library. In this notebook,\n",
    "the following steps are performed:\n",
    "</p>\n",
    "\n",
    "<ol align='justify'>\n",
    "    <li> The preprocessing i.e. feature generation, filtering and\n",
    "         interpolation of the data is carried out using the\n",
    "         PTRAIL Library.\n",
    "    </li>\n",
    "    <li> Further, several models like RandomForestClassifier, KMeans\n",
    "         Classifier etc. are trained using the Scikit-Learn library\n",
    "         based on the cleaned dataset.\n",
    "    </li>\n",
    "    <li>\n",
    "        Finally, on the interpolated dataset, the type of ships are\n",
    "        predicted and their accuracy is checked.\n",
    "    </li>"
   ],
   "metadata": {
    "collapsed": false,
    "pycharm": {
     "name": "#%% md\n"
    }
   }
  },
  {
   "cell_type": "code",
   "execution_count": 1,
   "outputs": [
    {
     "data": {
      "text/plain": "                                        lat        lon       MMSI NavStatus  \\\ntraj_id      DateTime                                                         \nAB RAMANTENN 2017-05-07 00:13:05  11.905735  57.681092  265902200    Moored   \n             2017-05-07 00:25:04  11.905740  57.681070  265902200    Moored   \n             2017-05-07 00:31:05  11.905792  57.681060  265902200    Moored   \n             2017-05-07 01:01:05  11.905650  57.681127  265902200    Moored   \n             2017-05-07 01:07:05  11.905700  57.681107  265902200    Moored   \n\n                                  SOG    COG   ShipType  \ntraj_id      DateTime                                    \nAB RAMANTENN 2017-05-07 00:13:05  0.1  170.7  Undefined  \n             2017-05-07 00:25:04  0.1  170.7  Undefined  \n             2017-05-07 00:31:05  0.1  177.4  Undefined  \n             2017-05-07 01:01:05  0.0  175.6  Undefined  \n             2017-05-07 01:07:05  0.1  180.8  Undefined  ",
      "text/html": "<div>\n<style scoped>\n    .dataframe tbody tr th:only-of-type {\n        vertical-align: middle;\n    }\n\n    .dataframe tbody tr th {\n        vertical-align: top;\n    }\n\n    .dataframe thead th {\n        text-align: right;\n    }\n</style>\n<table border=\"1\" class=\"dataframe\">\n  <thead>\n    <tr style=\"text-align: right;\">\n      <th></th>\n      <th></th>\n      <th>lat</th>\n      <th>lon</th>\n      <th>MMSI</th>\n      <th>NavStatus</th>\n      <th>SOG</th>\n      <th>COG</th>\n      <th>ShipType</th>\n    </tr>\n    <tr>\n      <th>traj_id</th>\n      <th>DateTime</th>\n      <th></th>\n      <th></th>\n      <th></th>\n      <th></th>\n      <th></th>\n      <th></th>\n      <th></th>\n    </tr>\n  </thead>\n  <tbody>\n    <tr>\n      <th rowspan=\"5\" valign=\"top\">AB RAMANTENN</th>\n      <th>2017-05-07 00:13:05</th>\n      <td>11.905735</td>\n      <td>57.681092</td>\n      <td>265902200</td>\n      <td>Moored</td>\n      <td>0.1</td>\n      <td>170.7</td>\n      <td>Undefined</td>\n    </tr>\n    <tr>\n      <th>2017-05-07 00:25:04</th>\n      <td>11.905740</td>\n      <td>57.681070</td>\n      <td>265902200</td>\n      <td>Moored</td>\n      <td>0.1</td>\n      <td>170.7</td>\n      <td>Undefined</td>\n    </tr>\n    <tr>\n      <th>2017-05-07 00:31:05</th>\n      <td>11.905792</td>\n      <td>57.681060</td>\n      <td>265902200</td>\n      <td>Moored</td>\n      <td>0.1</td>\n      <td>177.4</td>\n      <td>Undefined</td>\n    </tr>\n    <tr>\n      <th>2017-05-07 01:01:05</th>\n      <td>11.905650</td>\n      <td>57.681127</td>\n      <td>265902200</td>\n      <td>Moored</td>\n      <td>0.0</td>\n      <td>175.6</td>\n      <td>Undefined</td>\n    </tr>\n    <tr>\n      <th>2017-05-07 01:07:05</th>\n      <td>11.905700</td>\n      <td>57.681107</td>\n      <td>265902200</td>\n      <td>Moored</td>\n      <td>0.1</td>\n      <td>180.8</td>\n      <td>Undefined</td>\n    </tr>\n  </tbody>\n</table>\n</div>"
     },
     "execution_count": 1,
     "metadata": {},
     "output_type": "execute_result"
    }
   ],
   "source": [
    "# Import the dataset.\n",
    "import pandas as pd\n",
    "from ptrail.core.TrajectoryDF import PTRAILDataFrame\n",
    "from ptrail.preprocessing.statistics import Statistics\n",
    "\n",
    "pdf = pd.read_csv('https://raw.githubusercontent.com/YakshHaranwala/PTRAIL/main/examples/data/ships.csv')\n",
    "np_ships = PTRAILDataFrame(data_set=pdf,\n",
    "                           latitude='lat',\n",
    "                           longitude='lon',\n",
    "                           datetime='Timestamp',\n",
    "                           traj_id='Name')\n",
    "np_ships.head()"
   ],
   "metadata": {
    "collapsed": false,
    "pycharm": {
     "name": "#%%\n"
    }
   }
  },
  {
   "cell_type": "code",
   "execution_count": 2,
   "outputs": [
    {
     "name": "stdout",
     "output_type": "stream",
     "text": [
      "CPU times: user 248 ms, sys: 8.07 ms, total: 257 ms\n",
      "Wall time: 255 ms\n"
     ]
    },
    {
     "data": {
      "text/plain": "                                        lat        lon       MMSI NavStatus  \\\ntraj_id      DateTime                                                         \nAB RAMANTENN 2017-05-07 00:13:05  11.905735  57.681092  265902200    Moored   \n             2017-05-07 00:25:04  11.905740  57.681070  265902200    Moored   \n             2017-05-07 00:31:05  11.905792  57.681060  265902200    Moored   \n             2017-05-07 01:01:05  11.905650  57.681127  265902200    Moored   \n             2017-05-07 01:07:05  11.905700  57.681107  265902200    Moored   \n\n                                  SOG    COG   ShipType   Distance  \ntraj_id      DateTime                                               \nAB RAMANTENN 2017-05-07 00:13:05  0.1  170.7  Undefined        NaN  \n             2017-05-07 00:25:04  0.1  170.7  Undefined   2.457384  \n             2017-05-07 00:31:05  0.1  177.4  Undefined   5.883613  \n             2017-05-07 01:01:05  0.0  175.6  Undefined  17.391237  \n             2017-05-07 01:07:05  0.1  180.8  Undefined   5.970428  ",
      "text/html": "<div>\n<style scoped>\n    .dataframe tbody tr th:only-of-type {\n        vertical-align: middle;\n    }\n\n    .dataframe tbody tr th {\n        vertical-align: top;\n    }\n\n    .dataframe thead th {\n        text-align: right;\n    }\n</style>\n<table border=\"1\" class=\"dataframe\">\n  <thead>\n    <tr style=\"text-align: right;\">\n      <th></th>\n      <th></th>\n      <th>lat</th>\n      <th>lon</th>\n      <th>MMSI</th>\n      <th>NavStatus</th>\n      <th>SOG</th>\n      <th>COG</th>\n      <th>ShipType</th>\n      <th>Distance</th>\n    </tr>\n    <tr>\n      <th>traj_id</th>\n      <th>DateTime</th>\n      <th></th>\n      <th></th>\n      <th></th>\n      <th></th>\n      <th></th>\n      <th></th>\n      <th></th>\n      <th></th>\n    </tr>\n  </thead>\n  <tbody>\n    <tr>\n      <th rowspan=\"5\" valign=\"top\">AB RAMANTENN</th>\n      <th>2017-05-07 00:13:05</th>\n      <td>11.905735</td>\n      <td>57.681092</td>\n      <td>265902200</td>\n      <td>Moored</td>\n      <td>0.1</td>\n      <td>170.7</td>\n      <td>Undefined</td>\n      <td>NaN</td>\n    </tr>\n    <tr>\n      <th>2017-05-07 00:25:04</th>\n      <td>11.905740</td>\n      <td>57.681070</td>\n      <td>265902200</td>\n      <td>Moored</td>\n      <td>0.1</td>\n      <td>170.7</td>\n      <td>Undefined</td>\n      <td>2.457384</td>\n    </tr>\n    <tr>\n      <th>2017-05-07 00:31:05</th>\n      <td>11.905792</td>\n      <td>57.681060</td>\n      <td>265902200</td>\n      <td>Moored</td>\n      <td>0.1</td>\n      <td>177.4</td>\n      <td>Undefined</td>\n      <td>5.883613</td>\n    </tr>\n    <tr>\n      <th>2017-05-07 01:01:05</th>\n      <td>11.905650</td>\n      <td>57.681127</td>\n      <td>265902200</td>\n      <td>Moored</td>\n      <td>0.0</td>\n      <td>175.6</td>\n      <td>Undefined</td>\n      <td>17.391237</td>\n    </tr>\n    <tr>\n      <th>2017-05-07 01:07:05</th>\n      <td>11.905700</td>\n      <td>57.681107</td>\n      <td>265902200</td>\n      <td>Moored</td>\n      <td>0.1</td>\n      <td>180.8</td>\n      <td>Undefined</td>\n      <td>5.970428</td>\n    </tr>\n  </tbody>\n</table>\n</div>"
     },
     "execution_count": 2,
     "metadata": {},
     "output_type": "execute_result"
    }
   ],
   "source": [
    "%%time\n",
    "\n",
    "# Now using PTRAIL, generate distance features and\n",
    "# run hampel filter on the dataset to remove outliers.\n",
    "from ptrail.features.kinematic_features import KinematicFeatures\n",
    "from ptrail.preprocessing.filters import Filters\n",
    "\n",
    "dist_ships = KinematicFeatures.create_distance_column(np_ships)\n",
    "dist_ships.head()"
   ],
   "metadata": {
    "collapsed": false,
    "pycharm": {
     "name": "#%%\n"
    }
   }
  },
  {
   "cell_type": "code",
   "execution_count": 3,
   "outputs": [
    {
     "name": "stdout",
     "output_type": "stream",
     "text": [
      "Length of original DF: 84702\n",
      "Length of Filtered DF: 61394\n",
      "CPU times: user 156 ms, sys: 109 ms, total: 265 ms\n",
      "Wall time: 8.64 s\n"
     ]
    },
    {
     "name": "stderr",
     "output_type": "stream",
     "text": [
      "/home/yjharanwala/Desktop/PTRAIL/ptrail/preprocessing/filters.py:762: UserWarning: If kinematic features have been generated on the dataframe, then make sure to generate them again as outlier detection drops the point from the dataframe and does not run the kinematic features again.\n",
      "  warnings.warn(\"If kinematic features have been generated on the dataframe, then make \"\n"
     ]
    }
   ],
   "source": [
    "%%time\n",
    "\n",
    "# Now, filter out the outliers using the hampel filter.\n",
    "\n",
    "filt_ships = Filters.hampel_outlier_detection(dist_ships,\n",
    "                                              column_name='Distance')\n",
    "print(f\"Length of original DF: {len(dist_ships)}\")\n",
    "print(f\"Length of Filtered DF: {len(filt_ships)}\")"
   ],
   "metadata": {
    "collapsed": false,
    "pycharm": {
     "name": "#%%\n"
    }
   }
  },
  {
   "cell_type": "code",
   "execution_count": 4,
   "outputs": [
    {
     "name": "stdout",
     "output_type": "stream",
     "text": [
      "Length of original DF: 61394\n",
      "Length of Filtered DF: 61102\n"
     ]
    }
   ],
   "source": [
    "# Further more, remove the duplicate points from the\n",
    "# trajectories.\n",
    "\n",
    "fp_filt_ships = Filters.remove_duplicates(filt_ships)\n",
    "print(f\"Length of original DF: {len(filt_ships)}\")\n",
    "print(f\"Length of Filtered DF: {len(fp_filt_ships)}\")"
   ],
   "metadata": {
    "collapsed": false,
    "pycharm": {
     "name": "#%%\n"
    }
   }
  },
  {
   "cell_type": "code",
   "execution_count": 5,
   "outputs": [
    {
     "name": "stdout",
     "output_type": "stream",
     "text": [
      "Before: 61102\n",
      "After: 61097\n"
     ]
    }
   ],
   "source": [
    "#Now, remove the trajectories that have fewer than 3 points.\n",
    "print(f\"Before: {len(fp_filt_ships)}\")\n",
    "fp_filt_ships = Filters.remove_trajectories_with_less_points(fp_filt_ships)\n",
    "print(f\"After: {len(fp_filt_ships)}\")"
   ],
   "metadata": {
    "collapsed": false,
    "pycharm": {
     "name": "#%%\n"
    }
   }
  },
  {
   "cell_type": "code",
   "execution_count": 6,
   "outputs": [
    {
     "data": {
      "text/plain": "                                  index        lat        lon       MMSI  \\\ntraj_id      DateTime                                                      \nAB RAMANTENN 2017-05-07 00:13:05      0  11.905735  57.681092  265902200   \n             2017-05-07 00:25:04      1  11.905740  57.681070  265902200   \n             2017-05-07 00:31:05      2  11.905792  57.681060  265902200   \n             2017-05-07 01:07:05      3  11.905700  57.681107  265902200   \n             2017-05-07 01:31:04      4  11.905708  57.681045  265902200   \n\n                                 NavStatus  SOG    COG  ShipType  Distance  \ntraj_id      DateTime                                                       \nAB RAMANTENN 2017-05-07 00:13:05    Moored  0.1  170.7         8       NaN  \n             2017-05-07 00:25:04    Moored  0.1  170.7         8  2.457384  \n             2017-05-07 00:31:05    Moored  0.1  177.4         8  5.883613  \n             2017-05-07 01:07:05    Moored  0.1  180.8         8  5.970428  \n             2017-05-07 01:31:04    Moored  0.1  173.2         8  6.804183  ",
      "text/html": "<div>\n<style scoped>\n    .dataframe tbody tr th:only-of-type {\n        vertical-align: middle;\n    }\n\n    .dataframe tbody tr th {\n        vertical-align: top;\n    }\n\n    .dataframe thead th {\n        text-align: right;\n    }\n</style>\n<table border=\"1\" class=\"dataframe\">\n  <thead>\n    <tr style=\"text-align: right;\">\n      <th></th>\n      <th></th>\n      <th>index</th>\n      <th>lat</th>\n      <th>lon</th>\n      <th>MMSI</th>\n      <th>NavStatus</th>\n      <th>SOG</th>\n      <th>COG</th>\n      <th>ShipType</th>\n      <th>Distance</th>\n    </tr>\n    <tr>\n      <th>traj_id</th>\n      <th>DateTime</th>\n      <th></th>\n      <th></th>\n      <th></th>\n      <th></th>\n      <th></th>\n      <th></th>\n      <th></th>\n      <th></th>\n      <th></th>\n    </tr>\n  </thead>\n  <tbody>\n    <tr>\n      <th rowspan=\"5\" valign=\"top\">AB RAMANTENN</th>\n      <th>2017-05-07 00:13:05</th>\n      <td>0</td>\n      <td>11.905735</td>\n      <td>57.681092</td>\n      <td>265902200</td>\n      <td>Moored</td>\n      <td>0.1</td>\n      <td>170.7</td>\n      <td>8</td>\n      <td>NaN</td>\n    </tr>\n    <tr>\n      <th>2017-05-07 00:25:04</th>\n      <td>1</td>\n      <td>11.905740</td>\n      <td>57.681070</td>\n      <td>265902200</td>\n      <td>Moored</td>\n      <td>0.1</td>\n      <td>170.7</td>\n      <td>8</td>\n      <td>2.457384</td>\n    </tr>\n    <tr>\n      <th>2017-05-07 00:31:05</th>\n      <td>2</td>\n      <td>11.905792</td>\n      <td>57.681060</td>\n      <td>265902200</td>\n      <td>Moored</td>\n      <td>0.1</td>\n      <td>177.4</td>\n      <td>8</td>\n      <td>5.883613</td>\n    </tr>\n    <tr>\n      <th>2017-05-07 01:07:05</th>\n      <td>3</td>\n      <td>11.905700</td>\n      <td>57.681107</td>\n      <td>265902200</td>\n      <td>Moored</td>\n      <td>0.1</td>\n      <td>180.8</td>\n      <td>8</td>\n      <td>5.970428</td>\n    </tr>\n    <tr>\n      <th>2017-05-07 01:31:04</th>\n      <td>4</td>\n      <td>11.905708</td>\n      <td>57.681045</td>\n      <td>265902200</td>\n      <td>Moored</td>\n      <td>0.1</td>\n      <td>173.2</td>\n      <td>8</td>\n      <td>6.804183</td>\n    </tr>\n  </tbody>\n</table>\n</div>"
     },
     "execution_count": 6,
     "metadata": {},
     "output_type": "execute_result"
    }
   ],
   "source": [
    "# Now, since the model fitting does not take string values,\n",
    "# convert the ship types to integers.\n",
    "\n",
    "fp_filt_ships[\"ShipType\"] = fp_filt_ships[\"ShipType\"].str.strip()\n",
    "int_test = []\n",
    "types = fp_filt_ships['ShipType'].tolist()\n",
    "for i in range(len(fp_filt_ships['ShipType'])):\n",
    "    if types[i] == 'Tanker':\n",
    "        int_test.append(0)\n",
    "    elif types[i] == 'Passenger':\n",
    "        int_test.append(1)\n",
    "    elif types[i] == 'HSC':\n",
    "        int_test.append(2)\n",
    "    elif types[i] == 'Pilot':\n",
    "        int_test.append(3)\n",
    "    elif types[i] == 'SAR':\n",
    "        int_test.append(4)\n",
    "    elif types[i] == 'Tug':\n",
    "        int_test.append(5)\n",
    "    elif types[i] == 'Cargo':\n",
    "        int_test.append(6)\n",
    "    elif types[i] == 'Pleasure':\n",
    "        int_test.append(7)\n",
    "    elif types[i] == 'Undefined':\n",
    "        int_test.append(8)\n",
    "    elif types[i] == 'Sailing':\n",
    "        int_test.append(9)\n",
    "    elif types[i] == 'Law enforcement':\n",
    "        int_test.append(10)\n",
    "    elif types[i] == 'Spare 2':\n",
    "        int_test.append(11)\n",
    "    elif types[i] == 'Diving':\n",
    "        int_test.append(12)\n",
    "    elif types[i] == 'Fishing':\n",
    "        int_test.append(13)\n",
    "    elif types[i] == 'Other':\n",
    "        int_test.append(14)\n",
    "    else:\n",
    "        int_test.append(15)\n",
    "fp_filt_ships['ShipType'] = int_test\n",
    "fp_filt_ships.head()"
   ],
   "metadata": {
    "collapsed": false,
    "pycharm": {
     "name": "#%%\n"
    }
   }
  },
  {
   "cell_type": "code",
   "execution_count": 7,
   "outputs": [
    {
     "data": {
      "text/plain": "                                        lat        lon  ShipType\ntraj_id      DateTime                                           \nAB RAMANTENN 2017-05-07 00:13:05  11.905735  57.681092         8\n             2017-05-07 00:25:04  11.905740  57.681070         8\n             2017-05-07 00:31:05  11.905792  57.681060         8\n             2017-05-07 01:07:05  11.905700  57.681107         8\n             2017-05-07 01:31:04  11.905708  57.681045         8",
      "text/html": "<div>\n<style scoped>\n    .dataframe tbody tr th:only-of-type {\n        vertical-align: middle;\n    }\n\n    .dataframe tbody tr th {\n        vertical-align: top;\n    }\n\n    .dataframe thead th {\n        text-align: right;\n    }\n</style>\n<table border=\"1\" class=\"dataframe\">\n  <thead>\n    <tr style=\"text-align: right;\">\n      <th></th>\n      <th></th>\n      <th>lat</th>\n      <th>lon</th>\n      <th>ShipType</th>\n    </tr>\n    <tr>\n      <th>traj_id</th>\n      <th>DateTime</th>\n      <th></th>\n      <th></th>\n      <th></th>\n    </tr>\n  </thead>\n  <tbody>\n    <tr>\n      <th rowspan=\"5\" valign=\"top\">AB RAMANTENN</th>\n      <th>2017-05-07 00:13:05</th>\n      <td>11.905735</td>\n      <td>57.681092</td>\n      <td>8</td>\n    </tr>\n    <tr>\n      <th>2017-05-07 00:25:04</th>\n      <td>11.905740</td>\n      <td>57.681070</td>\n      <td>8</td>\n    </tr>\n    <tr>\n      <th>2017-05-07 00:31:05</th>\n      <td>11.905792</td>\n      <td>57.681060</td>\n      <td>8</td>\n    </tr>\n    <tr>\n      <th>2017-05-07 01:07:05</th>\n      <td>11.905700</td>\n      <td>57.681107</td>\n      <td>8</td>\n    </tr>\n    <tr>\n      <th>2017-05-07 01:31:04</th>\n      <td>11.905708</td>\n      <td>57.681045</td>\n      <td>8</td>\n    </tr>\n  </tbody>\n</table>\n</div>"
     },
     "execution_count": 7,
     "metadata": {},
     "output_type": "execute_result"
    }
   ],
   "source": [
    "# Finally, for cubic interpolation, 2 values having\n",
    "# same traj_id and datetime are not allowed. Hence\n",
    "# drop those points and convert the DF back to PTRAILDataFrame.\n",
    "\n",
    "fp_filt_ships = fp_filt_ships.reset_index().drop_duplicates(subset=['traj_id', 'DateTime'])\n",
    "fp_filt_ships = fp_filt_ships[['traj_id', 'DateTime', 'lat', 'lon', 'ShipType']]\n",
    "fp_filt_ships = PTRAILDataFrame(data_set=fp_filt_ships,\n",
    "                              latitude='lat',\n",
    "                              longitude='lon',\n",
    "                              datetime='DateTime',\n",
    "                              traj_id='traj_id')\n",
    "fp_filt_ships.head()"
   ],
   "metadata": {
    "collapsed": false,
    "pycharm": {
     "name": "#%%\n"
    }
   }
  },
  {
   "cell_type": "code",
   "execution_count": 8,
   "outputs": [
    {
     "name": "stdout",
     "output_type": "stream",
     "text": [
      "Length of original DF: 60948\n",
      "Length of interpolated DF: 83662\n"
     ]
    }
   ],
   "source": [
    "# Now, interpolate the filtered dataframe and add points\n",
    "# to make the trajectories smoother.\n",
    "\n",
    "from ptrail.preprocessing.interpolation import Interpolation as ip\n",
    "\n",
    "ip_ships = ip.interpolate_position(fp_filt_ships,\n",
    "                                   time_jump=15,\n",
    "                                   ip_type='cubic')\n",
    "\n",
    "print(f\"Length of original DF: {len(fp_filt_ships)}\")\n",
    "print(f\"Length of interpolated DF: {len(ip_ships)}\")"
   ],
   "metadata": {
    "collapsed": false,
    "pycharm": {
     "name": "#%%\n"
    }
   }
  },
  {
   "cell_type": "code",
   "execution_count": 9,
   "outputs": [
    {
     "data": {
      "text/plain": "                                        lat        lon  ShipType\ntraj_id      DateTime                                           \nAB RAMANTENN 2017-05-07 00:13:05  11.905735  57.681092         8\n             2017-05-07 00:13:20  11.905732  57.681092         8\n             2017-05-07 00:25:04  11.905740  57.681070         8\n             2017-05-07 00:25:19  11.905742  57.681069         8\n             2017-05-07 00:31:05  11.905792  57.681060         8",
      "text/html": "<div>\n<style scoped>\n    .dataframe tbody tr th:only-of-type {\n        vertical-align: middle;\n    }\n\n    .dataframe tbody tr th {\n        vertical-align: top;\n    }\n\n    .dataframe thead th {\n        text-align: right;\n    }\n</style>\n<table border=\"1\" class=\"dataframe\">\n  <thead>\n    <tr style=\"text-align: right;\">\n      <th></th>\n      <th></th>\n      <th>lat</th>\n      <th>lon</th>\n      <th>ShipType</th>\n    </tr>\n    <tr>\n      <th>traj_id</th>\n      <th>DateTime</th>\n      <th></th>\n      <th></th>\n      <th></th>\n    </tr>\n  </thead>\n  <tbody>\n    <tr>\n      <th rowspan=\"5\" valign=\"top\">AB RAMANTENN</th>\n      <th>2017-05-07 00:13:05</th>\n      <td>11.905735</td>\n      <td>57.681092</td>\n      <td>8</td>\n    </tr>\n    <tr>\n      <th>2017-05-07 00:13:20</th>\n      <td>11.905732</td>\n      <td>57.681092</td>\n      <td>8</td>\n    </tr>\n    <tr>\n      <th>2017-05-07 00:25:04</th>\n      <td>11.905740</td>\n      <td>57.681070</td>\n      <td>8</td>\n    </tr>\n    <tr>\n      <th>2017-05-07 00:25:19</th>\n      <td>11.905742</td>\n      <td>57.681069</td>\n      <td>8</td>\n    </tr>\n    <tr>\n      <th>2017-05-07 00:31:05</th>\n      <td>11.905792</td>\n      <td>57.681060</td>\n      <td>8</td>\n    </tr>\n  </tbody>\n</table>\n</div>"
     },
     "execution_count": 9,
     "metadata": {},
     "output_type": "execute_result"
    }
   ],
   "source": [
    "# Now, fixing the ShipType column for the interpolated ships dataset.\n",
    "\n",
    "# The logic behind this is that when a point is added for a\n",
    "# particular traj_id, then it will retain the ship type as well\n",
    "# since interpolation is performed on each trajectory. As a result\n",
    "# the ShipType remains the same and they can be reassigned to\n",
    "# new points as well.\n",
    "\n",
    "# Create a list of all unique ids.\n",
    "ids_ = list(ip_ships.reset_index()['traj_id'].value_counts().keys())\n",
    "\n",
    "df_chunks = []\n",
    "# Create a small chunk for each ID, then for the same ID in the\n",
    "# original dataset, grab the species and then again assign that\n",
    "# to the interpolated ID.\n",
    "for i in range(len(ids_)):\n",
    "    small = ip_ships.reset_index().loc[ip_ships.reset_index()['traj_id'] == ids_[i]]\n",
    "    spec = fp_filt_ships.reset_index().loc[fp_filt_ships.reset_index()['traj_id'] == ids_[i], 'ShipType']\n",
    "    small['ShipType'] = spec.value_counts().idxmax()\n",
    "    df_chunks.append(small)\n",
    "\n",
    "# Now, convert the dataframe with interpolated species to\n",
    "# PTRAILDataFrame.\n",
    "ip_ships = PTRAILDataFrame(data_set=pd.concat(df_chunks),\n",
    "                         latitude='lat',\n",
    "                         longitude='lon',\n",
    "                         traj_id='traj_id',\n",
    "                         datetime='DateTime')\n",
    "ip_ships.head()"
   ],
   "metadata": {
    "collapsed": false,
    "pycharm": {
     "name": "#%%\n"
    }
   }
  },
  {
   "cell_type": "code",
   "execution_count": 10,
   "outputs": [
    {
     "data": {
      "text/plain": "                   10%_Distance  25%_Distance  50%_Distance  75%_Distance  \\\ntraj_id                                                                     \nGOTE II                0.000000      0.028415      0.115705      0.222390   \nNORTHERN KATTEGAT      0.367747      0.761709      1.476793      3.070844   \nVALO                   0.032993      0.155589      0.350888     14.292337   \nDANA                   0.108817      0.222390      0.449248      0.765269   \nFROJA                  0.056162      0.139838      0.307472      1.398856   \n...                         ...           ...           ...           ...   \nZAZA                  59.740286     85.595937    176.697088    275.716643   \nRESCUER AMBULANCE     57.276523     60.739935     85.239907    234.247343   \nBIPPAN                 0.001957      0.007144      0.048383      0.288855   \nGIOIOLA              236.271630    339.834100    522.986506    568.907149   \nANNA LORD             65.669482     84.304254    110.173804    125.424171   \n\n                   90%_Distance  min_Distance  max_Distance  mean_Distance  \\\ntraj_id                                                                      \nGOTE II                0.316752      0.000000      2.170473       0.154526   \nNORTHERN KATTEGAT      8.511202      0.000000    466.930977       6.321929   \nVALO                  42.505153      0.000000   2135.163902      15.092626   \nDANA                   1.195425      0.000000    400.072976       2.136360   \nFROJA                 41.425138      0.000000   1157.800513      12.018415   \n...                         ...           ...           ...            ...   \nZAZA                 688.770919     25.349746    882.034919     259.471571   \nRESCUER AMBULANCE    348.690942     54.516206    469.872718     157.111975   \nBIPPAN                 4.864045      0.000000     14.499122       1.595935   \nGIOIOLA             1266.480486      0.000000   2793.555312     697.542558   \nANNA LORD            765.052698      8.256912   2603.823475     394.111842   \n\n                   std_Distance  10%_Distance_from_start  ...  \\\ntraj_id                                                   ...   \nGOTE II                0.154095                 0.597053  ...   \nNORTHERN KATTEGAT     20.007278                 5.587600  ...   \nVALO                  54.480844                 1.671471  ...   \nDANA                  13.478637              7246.877199  ...   \nFROJA                 36.986695                 0.644748  ...   \n...                         ...                      ...  ...   \nZAZA                 265.261715               205.447088  ...   \nRESCUER AMBULANCE    134.890414               161.934919  ...   \nBIPPAN                 4.124439                 2.336071  ...   \nGIOIOLA              761.858889                71.659597  ...   \nANNA LORD            832.399639               184.643519  ...   \n\n                   10%_Rate_of_bearing_rate  25%_Rate_of_bearing_rate  \\\ntraj_id                                                                 \nGOTE II                          -27.000000                 -8.188939   \nNORTHERN KATTEGAT                -13.615623                 -3.890127   \nVALO                             -12.857143                 -1.871783   \nDANA                             -17.165862                 -4.319873   \nFROJA                            -13.006815                 -2.372528   \n...                                     ...                       ...   \nZAZA                              -6.903933                 -1.167804   \nRESCUER AMBULANCE                 -1.052801                 -0.897456   \nBIPPAN                            -0.231794                 -0.062827   \nGIOIOLA                           -2.100459                 -0.150132   \nANNA LORD                         -7.998536                 -1.021152   \n\n                   50%_Rate_of_bearing_rate  75%_Rate_of_bearing_rate  \\\ntraj_id                                                                 \nGOTE II                            0.000000                  6.238870   \nNORTHERN KATTEGAT                 -0.007812                  3.585384   \nVALO                               0.000000                  2.091819   \nDANA                               0.000000                  4.289814   \nFROJA                              0.000000                  2.458402   \n...                                     ...                       ...   \nZAZA                              -0.039921                  0.226254   \nRESCUER AMBULANCE                 -0.753843                 -0.069228   \nBIPPAN                            -0.000031                  0.255319   \nGIOIOLA                            0.063973                  2.570957   \nANNA LORD                         -0.311084                  0.016694   \n\n                   90%_Rate_of_bearing_rate  min_Rate_of_bearing_rate  \\\ntraj_id                                                                 \nGOTE II                           20.502065               -359.912609   \nNORTHERN KATTEGAT                 14.276490               -320.009619   \nVALO                              11.838526               -352.886458   \nDANA                              15.623924               -343.195787   \nFROJA                             11.981826               -180.000000   \n...                                     ...                       ...   \nZAZA                               1.930519                -12.000020   \nRESCUER AMBULANCE                 -0.002428                 -2.785896   \nBIPPAN                             5.686873                -10.465049   \nGIOIOLA                           23.406102                -11.903469   \nANNA LORD                          2.989431                -22.841121   \n\n                   max_Rate_of_bearing_rate  mean_Rate_of_bearing_rate  \\\ntraj_id                                                                  \nGOTE II                          333.805144                  -1.919112   \nNORTHERN KATTEGAT                336.494112                   0.290888   \nVALO                             210.772502                  -1.274359   \nDANA                             174.410732                  -0.758736   \nFROJA                            358.398240                  -0.109600   \n...                                     ...                        ...   \nZAZA                              11.613094                  -0.781932   \nRESCUER AMBULANCE                 13.052659                   0.206185   \nBIPPAN                             8.324004                   0.400376   \nGIOIOLA                          118.407911                  12.179147   \nANNA LORD                          9.859285                  -2.000595   \n\n                   std_Rate_of_bearing_rate  ShipType  \ntraj_id                                                \nGOTE II                           28.821613         4  \nNORTHERN KATTEGAT                 16.904447         0  \nVALO                              25.005909         2  \nDANA                              20.603069         0  \nFROJA                             16.125163         1  \n...                                     ...       ...  \nZAZA                               5.124492         9  \nRESCUER AMBULANCE                  3.621717         4  \nBIPPAN                             4.338248         9  \nGIOIOLA                           37.795264         9  \nANNA LORD                          9.184226         8  \n\n[95 rows x 73 columns]",
      "text/html": "<div>\n<style scoped>\n    .dataframe tbody tr th:only-of-type {\n        vertical-align: middle;\n    }\n\n    .dataframe tbody tr th {\n        vertical-align: top;\n    }\n\n    .dataframe thead th {\n        text-align: right;\n    }\n</style>\n<table border=\"1\" class=\"dataframe\">\n  <thead>\n    <tr style=\"text-align: right;\">\n      <th></th>\n      <th>10%_Distance</th>\n      <th>25%_Distance</th>\n      <th>50%_Distance</th>\n      <th>75%_Distance</th>\n      <th>90%_Distance</th>\n      <th>min_Distance</th>\n      <th>max_Distance</th>\n      <th>mean_Distance</th>\n      <th>std_Distance</th>\n      <th>10%_Distance_from_start</th>\n      <th>...</th>\n      <th>10%_Rate_of_bearing_rate</th>\n      <th>25%_Rate_of_bearing_rate</th>\n      <th>50%_Rate_of_bearing_rate</th>\n      <th>75%_Rate_of_bearing_rate</th>\n      <th>90%_Rate_of_bearing_rate</th>\n      <th>min_Rate_of_bearing_rate</th>\n      <th>max_Rate_of_bearing_rate</th>\n      <th>mean_Rate_of_bearing_rate</th>\n      <th>std_Rate_of_bearing_rate</th>\n      <th>ShipType</th>\n    </tr>\n    <tr>\n      <th>traj_id</th>\n      <th></th>\n      <th></th>\n      <th></th>\n      <th></th>\n      <th></th>\n      <th></th>\n      <th></th>\n      <th></th>\n      <th></th>\n      <th></th>\n      <th></th>\n      <th></th>\n      <th></th>\n      <th></th>\n      <th></th>\n      <th></th>\n      <th></th>\n      <th></th>\n      <th></th>\n      <th></th>\n      <th></th>\n    </tr>\n  </thead>\n  <tbody>\n    <tr>\n      <th>GOTE II</th>\n      <td>0.000000</td>\n      <td>0.028415</td>\n      <td>0.115705</td>\n      <td>0.222390</td>\n      <td>0.316752</td>\n      <td>0.000000</td>\n      <td>2.170473</td>\n      <td>0.154526</td>\n      <td>0.154095</td>\n      <td>0.597053</td>\n      <td>...</td>\n      <td>-27.000000</td>\n      <td>-8.188939</td>\n      <td>0.000000</td>\n      <td>6.238870</td>\n      <td>20.502065</td>\n      <td>-359.912609</td>\n      <td>333.805144</td>\n      <td>-1.919112</td>\n      <td>28.821613</td>\n      <td>4</td>\n    </tr>\n    <tr>\n      <th>NORTHERN KATTEGAT</th>\n      <td>0.367747</td>\n      <td>0.761709</td>\n      <td>1.476793</td>\n      <td>3.070844</td>\n      <td>8.511202</td>\n      <td>0.000000</td>\n      <td>466.930977</td>\n      <td>6.321929</td>\n      <td>20.007278</td>\n      <td>5.587600</td>\n      <td>...</td>\n      <td>-13.615623</td>\n      <td>-3.890127</td>\n      <td>-0.007812</td>\n      <td>3.585384</td>\n      <td>14.276490</td>\n      <td>-320.009619</td>\n      <td>336.494112</td>\n      <td>0.290888</td>\n      <td>16.904447</td>\n      <td>0</td>\n    </tr>\n    <tr>\n      <th>VALO</th>\n      <td>0.032993</td>\n      <td>0.155589</td>\n      <td>0.350888</td>\n      <td>14.292337</td>\n      <td>42.505153</td>\n      <td>0.000000</td>\n      <td>2135.163902</td>\n      <td>15.092626</td>\n      <td>54.480844</td>\n      <td>1.671471</td>\n      <td>...</td>\n      <td>-12.857143</td>\n      <td>-1.871783</td>\n      <td>0.000000</td>\n      <td>2.091819</td>\n      <td>11.838526</td>\n      <td>-352.886458</td>\n      <td>210.772502</td>\n      <td>-1.274359</td>\n      <td>25.005909</td>\n      <td>2</td>\n    </tr>\n    <tr>\n      <th>DANA</th>\n      <td>0.108817</td>\n      <td>0.222390</td>\n      <td>0.449248</td>\n      <td>0.765269</td>\n      <td>1.195425</td>\n      <td>0.000000</td>\n      <td>400.072976</td>\n      <td>2.136360</td>\n      <td>13.478637</td>\n      <td>7246.877199</td>\n      <td>...</td>\n      <td>-17.165862</td>\n      <td>-4.319873</td>\n      <td>0.000000</td>\n      <td>4.289814</td>\n      <td>15.623924</td>\n      <td>-343.195787</td>\n      <td>174.410732</td>\n      <td>-0.758736</td>\n      <td>20.603069</td>\n      <td>0</td>\n    </tr>\n    <tr>\n      <th>FROJA</th>\n      <td>0.056162</td>\n      <td>0.139838</td>\n      <td>0.307472</td>\n      <td>1.398856</td>\n      <td>41.425138</td>\n      <td>0.000000</td>\n      <td>1157.800513</td>\n      <td>12.018415</td>\n      <td>36.986695</td>\n      <td>0.644748</td>\n      <td>...</td>\n      <td>-13.006815</td>\n      <td>-2.372528</td>\n      <td>0.000000</td>\n      <td>2.458402</td>\n      <td>11.981826</td>\n      <td>-180.000000</td>\n      <td>358.398240</td>\n      <td>-0.109600</td>\n      <td>16.125163</td>\n      <td>1</td>\n    </tr>\n    <tr>\n      <th>...</th>\n      <td>...</td>\n      <td>...</td>\n      <td>...</td>\n      <td>...</td>\n      <td>...</td>\n      <td>...</td>\n      <td>...</td>\n      <td>...</td>\n      <td>...</td>\n      <td>...</td>\n      <td>...</td>\n      <td>...</td>\n      <td>...</td>\n      <td>...</td>\n      <td>...</td>\n      <td>...</td>\n      <td>...</td>\n      <td>...</td>\n      <td>...</td>\n      <td>...</td>\n      <td>...</td>\n    </tr>\n    <tr>\n      <th>ZAZA</th>\n      <td>59.740286</td>\n      <td>85.595937</td>\n      <td>176.697088</td>\n      <td>275.716643</td>\n      <td>688.770919</td>\n      <td>25.349746</td>\n      <td>882.034919</td>\n      <td>259.471571</td>\n      <td>265.261715</td>\n      <td>205.447088</td>\n      <td>...</td>\n      <td>-6.903933</td>\n      <td>-1.167804</td>\n      <td>-0.039921</td>\n      <td>0.226254</td>\n      <td>1.930519</td>\n      <td>-12.000020</td>\n      <td>11.613094</td>\n      <td>-0.781932</td>\n      <td>5.124492</td>\n      <td>9</td>\n    </tr>\n    <tr>\n      <th>RESCUER AMBULANCE</th>\n      <td>57.276523</td>\n      <td>60.739935</td>\n      <td>85.239907</td>\n      <td>234.247343</td>\n      <td>348.690942</td>\n      <td>54.516206</td>\n      <td>469.872718</td>\n      <td>157.111975</td>\n      <td>134.890414</td>\n      <td>161.934919</td>\n      <td>...</td>\n      <td>-1.052801</td>\n      <td>-0.897456</td>\n      <td>-0.753843</td>\n      <td>-0.069228</td>\n      <td>-0.002428</td>\n      <td>-2.785896</td>\n      <td>13.052659</td>\n      <td>0.206185</td>\n      <td>3.621717</td>\n      <td>4</td>\n    </tr>\n    <tr>\n      <th>BIPPAN</th>\n      <td>0.001957</td>\n      <td>0.007144</td>\n      <td>0.048383</td>\n      <td>0.288855</td>\n      <td>4.864045</td>\n      <td>0.000000</td>\n      <td>14.499122</td>\n      <td>1.595935</td>\n      <td>4.124439</td>\n      <td>2.336071</td>\n      <td>...</td>\n      <td>-0.231794</td>\n      <td>-0.062827</td>\n      <td>-0.000031</td>\n      <td>0.255319</td>\n      <td>5.686873</td>\n      <td>-10.465049</td>\n      <td>8.324004</td>\n      <td>0.400376</td>\n      <td>4.338248</td>\n      <td>9</td>\n    </tr>\n    <tr>\n      <th>GIOIOLA</th>\n      <td>236.271630</td>\n      <td>339.834100</td>\n      <td>522.986506</td>\n      <td>568.907149</td>\n      <td>1266.480486</td>\n      <td>0.000000</td>\n      <td>2793.555312</td>\n      <td>697.542558</td>\n      <td>761.858889</td>\n      <td>71.659597</td>\n      <td>...</td>\n      <td>-2.100459</td>\n      <td>-0.150132</td>\n      <td>0.063973</td>\n      <td>2.570957</td>\n      <td>23.406102</td>\n      <td>-11.903469</td>\n      <td>118.407911</td>\n      <td>12.179147</td>\n      <td>37.795264</td>\n      <td>9</td>\n    </tr>\n    <tr>\n      <th>ANNA LORD</th>\n      <td>65.669482</td>\n      <td>84.304254</td>\n      <td>110.173804</td>\n      <td>125.424171</td>\n      <td>765.052698</td>\n      <td>8.256912</td>\n      <td>2603.823475</td>\n      <td>394.111842</td>\n      <td>832.399639</td>\n      <td>184.643519</td>\n      <td>...</td>\n      <td>-7.998536</td>\n      <td>-1.021152</td>\n      <td>-0.311084</td>\n      <td>0.016694</td>\n      <td>2.989431</td>\n      <td>-22.841121</td>\n      <td>9.859285</td>\n      <td>-2.000595</td>\n      <td>9.184226</td>\n      <td>8</td>\n    </tr>\n  </tbody>\n</table>\n<p>95 rows × 73 columns</p>\n</div>"
     },
     "execution_count": 10,
     "metadata": {},
     "output_type": "execute_result"
    }
   ],
   "source": [
    "# Now, we generate kinematic statistics on the DF and then change the\n",
    "# representation of the Trajectory to be segment based instead of point based.\n",
    "\n",
    "stats_df = Statistics.generate_kinematic_stats(dataframe=ip_ships,\n",
    "                                               target_col_name='ShipType')\n",
    "pivoted = Statistics.pivot_stats_df(dataframe=stats_df,\n",
    "                                    target_col_name='ShipType')\n",
    "pivoted"
   ],
   "metadata": {
    "collapsed": false,
    "pycharm": {
     "name": "#%%\n"
    }
   }
  },
  {
   "cell_type": "code",
   "execution_count": 12,
   "outputs": [],
   "source": [
    "# Step-5: Getting the test and train datasets ready.\n",
    "from sklearn.model_selection import train_test_split\n",
    "from sklearn.metrics import f1_score\n",
    "from sklearn.ensemble import RandomForestClassifier\n",
    "from sklearn.tree import DecisionTreeClassifier\n",
    "from sklearn.naive_bayes import GaussianNB\n",
    "from sklearn.neighbors import KNeighborsClassifier\n",
    "\n",
    "\n",
    "X_train, X_test, y_train, y_test = train_test_split(pivoted.drop(columns=['ShipType']), pivoted['ShipType'],\n",
    "                                                    random_state=7, test_size=0.2)"
   ],
   "metadata": {
    "collapsed": false,
    "pycharm": {
     "name": "#%%\n"
    }
   }
  },
  {
   "cell_type": "code",
   "execution_count": 18,
   "outputs": [
    {
     "name": "stdout",
     "output_type": "stream",
     "text": [
      "---------------- RandomForest Classifier -----------------\n",
      "The f1_score of RF training is: 100.0%\n",
      "The f1_score of RF testing is: 48.95%\n",
      "----------------------------------------------------------\n",
      "\n",
      "---------------- DecisionTree Classifier -----------------\n",
      "The f1_score of DT training is: 100.0%\n",
      "The f1_score of DT testing is: 25.06%\n",
      "----------------------------------------------------------\n",
      "\n",
      "----------------- Naive Bayes Classifier -----------------\n",
      "The f1_score of GNB training is: 70.72%\n",
      "The f1_score of GNB testing is: 41.05%\n",
      "----------------------------------------------------------\n",
      "\n",
      "--------------------- KNN Classifier ---------------------\n",
      "The f1_score of KNN training is: 47.23%\n",
      "The f1_score of KNN testing is: 47.51%\n",
      "----------------------------------------------------------\n",
      "\n"
     ]
    }
   ],
   "source": [
    "# Now it is time to train some models and predict\n",
    "# the ship types.\n",
    "\n",
    "# 1. RandomForestClassifier model.\n",
    "rf_model = RandomForestClassifier()\n",
    "rf_model.fit(X_train, y_train)\n",
    "\n",
    "# Now, lets predict on the training and testing set\n",
    "# using the above trained model.\n",
    "rf_train_predict = rf_model.predict(X_train)\n",
    "rf_test_predict = rf_model.predict(X_test)\n",
    "\n",
    "\n",
    "# Finally, lets test the accuracy of the model on both\n",
    "# the datasets.\n",
    "rf_train_accuracy = f1_score(y_train, rf_train_predict, average='weighted')\n",
    "rf_test_accuracy = f1_score(y_test, rf_test_predict, average='weighted')\n",
    "\n",
    "print('---------------- RandomForest Classifier -----------------')\n",
    "print(f\"The f1_score of RF training is: {round(rf_train_accuracy*100, 2)}%\")\n",
    "print(f\"The f1_score of RF testing is: {round(rf_test_accuracy*100, 2)}%\")\n",
    "print('----------------------------------------------------------\\n')\n",
    "\n",
    "# ----------------------------------------------------------------------------------- #\n",
    "\n",
    "# 2. DecisionTree Classifier model.\n",
    "dt_model = DecisionTreeClassifier()\n",
    "dt_model.fit(X_train, y_train)\n",
    "\n",
    "# Now, lets predict on the training and testing set\n",
    "# using the above trained model.\n",
    "dt_train_predict = dt_model.predict(X_train)\n",
    "dt_test_predict = dt_model.predict(X_test)\n",
    "\n",
    "\n",
    "# Finally, lets test the accuracy of the model on both\n",
    "# the datasets.\n",
    "dt_train_accuracy = f1_score(y_train, dt_train_predict, average='weighted')\n",
    "dt_test_accuracy = f1_score(y_test, dt_test_predict, average='weighted')\n",
    "\n",
    "print('---------------- DecisionTree Classifier -----------------')\n",
    "print(f\"The f1_score of DT training is: {round(dt_train_accuracy*100, 2)}%\")\n",
    "print(f\"The f1_score of DT testing is: {round(dt_test_accuracy*100, 2)}%\")\n",
    "print('----------------------------------------------------------\\n')\n",
    "\n",
    "# ----------------------------------------------------------------------------------- #\n",
    "\n",
    "# 3. Gaussian Naive Bayes model.\n",
    "gnb_model = GaussianNB()\n",
    "gnb_model.fit(X_train, y_train)\n",
    "\n",
    "# Now, lets predict on the training and testing set\n",
    "# using the above trained model.\n",
    "gnb_train_predict = gnb_model.predict(X_train)\n",
    "gnb_test_predict = gnb_model.predict(X_test)\n",
    "\n",
    "\n",
    "# Finally, lets test the accuracy of the model on both\n",
    "# the datasets.\n",
    "gnb_train_accuracy = f1_score(y_train, gnb_train_predict, average='weighted')\n",
    "gnb_test_accuracy = f1_score(y_test, gnb_test_predict, average='weighted')\n",
    "\n",
    "print('----------------- Naive Bayes Classifier -----------------')\n",
    "print(f\"The f1_score of GNB training is: {round(gnb_train_accuracy*100, 2)}%\")\n",
    "print(f\"The f1_score of GNB testing is: {round(gnb_test_accuracy*100, 2)}%\")\n",
    "print('----------------------------------------------------------\\n')\n",
    "\n",
    "# ----------------------------------------------------------------------------------- #\n",
    "\n",
    "# 4. K-Nearest Neighbors Classifier model.\n",
    "\n",
    "knn_model = KNeighborsClassifier()\n",
    "knn_model.fit(X_train, y_train)\n",
    "\n",
    "# Now, lets predict on the training and testing set\n",
    "# using the above trained model.\n",
    "knn_train_predict = knn_model.predict(X_train)\n",
    "knn_test_predict = knn_model.predict(X_test)\n",
    "\n",
    "\n",
    "# Finally, lets test the accuracy of the model on both\n",
    "# the datasets.\n",
    "knn_train_accuracy = f1_score(y_train, knn_train_predict, average='weighted')\n",
    "knn_test_accuracy = f1_score(y_test, knn_test_predict, average='weighted')\n",
    "\n",
    "print('--------------------- KNN Classifier ---------------------')\n",
    "print(f\"The f1_score of KNN training is: {round(knn_train_accuracy*100, 2)}%\")\n",
    "print(f\"The f1_score of KNN testing is: {round(knn_test_accuracy*100, 2)}%\")\n",
    "print('----------------------------------------------------------\\n')"
   ],
   "metadata": {
    "collapsed": false,
    "pycharm": {
     "name": "#%%\n"
    }
   }
  },
  {
   "cell_type": "code",
   "execution_count": 17,
   "outputs": [
    {
     "data": {
      "text/plain": "<Figure size 648x360 with 1 Axes>",
      "image/png": "[encoded data removed]"
     },
     "metadata": {
      "needs_background": "light"
     },
     "output_type": "display_data"
    }
   ],
   "source": [
    "# Let's visualize the scores using box plot of cross validation of the models.\n",
    "import matplotlib.pyplot as plt\n",
    "from sklearn.model_selection import cross_val_score, StratifiedKFold\n",
    "import warnings\n",
    "warnings.simplefilter(category=UserWarning, action=\"ignore\")\n",
    "\n",
    "names = [\"Random Forest\", \"Decision Tree\", \"Gaussian Naive Bayes\", \"K-Nearest Neighbors\"]\n",
    "models = [RandomForestClassifier(), DecisionTreeClassifier(), GaussianNB(), KNeighborsClassifier()]\n",
    "\n",
    "fig = plt.figure(figsize=(9, 5))\n",
    "ax = plt.subplot(111)\n",
    "ax.set_facecolor('gainsboro')\n",
    "\n",
    "skf = StratifiedKFold(n_splits=10, random_state=10, shuffle=True)\n",
    "for i, name, model in zip(range(0, 5), names, models):\n",
    "    scores = cross_val_score(model, pivoted.drop(columns=['ShipType']), pivoted['ShipType'],\n",
    "                             scoring='f1_weighted', cv=skf, n_jobs=-1)\n",
    "    ax.boxplot(x=scores, positions=[i], vert=True,\n",
    "               widths=0.60, patch_artist=True)\n",
    "\n",
    "ax.set_xticklabels(labels=names)\n",
    "ax.set_ylabel(\"F-Score\")\n",
    "ax.set_xlabel(\"Model\")\n",
    "plt.tight_layout()"
   ],
   "metadata": {
    "collapsed": false,
    "pycharm": {
     "name": "#%%\n"
    }
   }
  }
 ],
 "metadata": {
  "kernelspec": {
   "display_name": "Python 3",
   "language": "python",
   "name": "python3"
  },
  "language_info": {
   "codemirror_mode": {
    "name": "ipython",
    "version": 2
   },
   "file_extension": ".py",
   "mimetype": "text/x-python",
   "name": "python",
   "nbconvert_exporter": "python",
   "pygments_lexer": "ipython2",
   "version": "2.7.6"
  }
 },
 "nbformat": 4,
 "nbformat_minor": 0
}