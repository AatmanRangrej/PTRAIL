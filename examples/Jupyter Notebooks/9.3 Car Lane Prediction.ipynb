{
 "cells": [
  {
   "cell_type": "markdown",
   "metadata": {
    "collapsed": true,
    "pycharm": {
     "name": "#%% md\n"
    }
   },
   "source": [
    "<h1> Car Lane Prediction </h1>\n",
    "\n",
    "<p align='justify'>\n",
    "\n",
    "This Jupyter notebook contains a classification example which is\n",
    "done with the help of Scikit-Learn library. In this notebook,\n",
    "the following steps are performed:\n",
    "</p>\n",
    "\n",
    "<ol align='justify'>\n",
    "    <li> The preprocessing i.e. feature generation, filtering and\n",
    "         interpolation of the data is carried out using the\n",
    "         PTRAIL Library.\n",
    "    </li>\n",
    "    <li> Further, several models like RandomForestClassifier, KMeans\n",
    "         Classifier etc. are trained using the Scikit-Learn library\n",
    "         based on the cleaned dataset.\n",
    "    </li>\n",
    "    <li>\n",
    "        Finally, on the interpolated dataset, the lane of the vehicle\n",
    "        is predicted.\n",
    "    </li>"
   ]
  },
  {
   "cell_type": "code",
   "execution_count": 1,
   "outputs": [
    {
     "data": {
      "text/plain": "                                 vehicle_type  velocity  traffic_lane  \\\ntraj_id DateTime                                                        \n1371    1900-01-01 07:30:00.000             1      48.0             2   \n        1900-01-01 07:30:00.100             1      47.9             2   \n        1900-01-01 07:30:00.200             1      47.9             2   \n        1900-01-01 07:30:00.300             1      47.9             2   \n        1900-01-01 07:30:00.400             1      47.9             2   \n\n                                        lon        lat  kilopost  \\\ntraj_id DateTime                                                   \n1371    1900-01-01 07:30:00.000  135.469950  34.710999    3539.5   \n        1900-01-01 07:30:00.100  135.469957  34.710991    3532.5   \n        1900-01-01 07:30:00.200  135.469963  34.710984    3532.5   \n        1900-01-01 07:30:00.300  135.469968  34.710979    3531.5   \n        1900-01-01 07:30:00.400  135.469972  34.710974    3530.8   \n\n                                 vehicle_length  detected_flag  \ntraj_id DateTime                                                \n1371    1900-01-01 07:30:00.000             3.0              0  \n        1900-01-01 07:30:00.100             3.0              0  \n        1900-01-01 07:30:00.200             3.0              0  \n        1900-01-01 07:30:00.300             3.0              0  \n        1900-01-01 07:30:00.400             3.0              0  ",
      "text/html": "<div>\n<style scoped>\n    .dataframe tbody tr th:only-of-type {\n        vertical-align: middle;\n    }\n\n    .dataframe tbody tr th {\n        vertical-align: top;\n    }\n\n    .dataframe thead th {\n        text-align: right;\n    }\n</style>\n<table border=\"1\" class=\"dataframe\">\n  <thead>\n    <tr style=\"text-align: right;\">\n      <th></th>\n      <th></th>\n      <th>vehicle_type</th>\n      <th>velocity</th>\n      <th>traffic_lane</th>\n      <th>lon</th>\n      <th>lat</th>\n      <th>kilopost</th>\n      <th>vehicle_length</th>\n      <th>detected_flag</th>\n    </tr>\n    <tr>\n      <th>traj_id</th>\n      <th>DateTime</th>\n      <th></th>\n      <th></th>\n      <th></th>\n      <th></th>\n      <th></th>\n      <th></th>\n      <th></th>\n      <th></th>\n    </tr>\n  </thead>\n  <tbody>\n    <tr>\n      <th rowspan=\"5\" valign=\"top\">1371</th>\n      <th>1900-01-01 07:30:00.000</th>\n      <td>1</td>\n      <td>48.0</td>\n      <td>2</td>\n      <td>135.469950</td>\n      <td>34.710999</td>\n      <td>3539.5</td>\n      <td>3.0</td>\n      <td>0</td>\n    </tr>\n    <tr>\n      <th>1900-01-01 07:30:00.100</th>\n      <td>1</td>\n      <td>47.9</td>\n      <td>2</td>\n      <td>135.469957</td>\n      <td>34.710991</td>\n      <td>3532.5</td>\n      <td>3.0</td>\n      <td>0</td>\n    </tr>\n    <tr>\n      <th>1900-01-01 07:30:00.200</th>\n      <td>1</td>\n      <td>47.9</td>\n      <td>2</td>\n      <td>135.469963</td>\n      <td>34.710984</td>\n      <td>3532.5</td>\n      <td>3.0</td>\n      <td>0</td>\n    </tr>\n    <tr>\n      <th>1900-01-01 07:30:00.300</th>\n      <td>1</td>\n      <td>47.9</td>\n      <td>2</td>\n      <td>135.469968</td>\n      <td>34.710979</td>\n      <td>3531.5</td>\n      <td>3.0</td>\n      <td>0</td>\n    </tr>\n    <tr>\n      <th>1900-01-01 07:30:00.400</th>\n      <td>1</td>\n      <td>47.9</td>\n      <td>2</td>\n      <td>135.469972</td>\n      <td>34.710974</td>\n      <td>3530.8</td>\n      <td>3.0</td>\n      <td>0</td>\n    </tr>\n  </tbody>\n</table>\n</div>"
     },
     "execution_count": 1,
     "metadata": {},
     "output_type": "execute_result"
    }
   ],
   "source": [
    "# Import the dataset.\n",
    "\n",
    "import pandas as pd\n",
    "from ptrail.core.TrajectoryDF import PTRAILDataFrame\n",
    "from datetime import datetime\n",
    "\n",
    "pdf = pd.read_csv('https://raw.githubusercontent.com/YakshHaranwala/PTRAIL/main/examples/data/car_traffic.csv')\n",
    "# Now converting the dataframe to PTRAILDataFrame.\n",
    "np_traffic = PTRAILDataFrame(data_set=pdf  ,\n",
    "                             latitude='lat',\n",
    "                             longitude='lon',\n",
    "                             datetime='DateTime',\n",
    "                             traj_id='traj_id')\n",
    "np_traffic.head()"
   ],
   "metadata": {
    "collapsed": false,
    "pycharm": {
     "name": "#%%\n"
    }
   }
  },
  {
   "cell_type": "code",
   "execution_count": 2,
   "outputs": [
    {
     "name": "stdout",
     "output_type": "stream",
     "text": [
      "Length of original DF: 44905\n",
      "Length of filtered DF: 44628\n",
      "CPU times: user 99.8 ms, sys: 126 ms, total: 226 ms\n",
      "Wall time: 3.29 s\n"
     ]
    },
    {
     "name": "stderr",
     "output_type": "stream",
     "text": [
      "/home/yjharanwala/Desktop/PTRAIL/ptrail/preprocessing/filters.py:762: UserWarning: If kinematic features have been generated on the dataframe, then make sure to generate them again as outlier detection drops the point from the dataframe and does not run the kinematic features again.\n",
      "  warnings.warn(\"If kinematic features have been generated on the dataframe, then make \"\n"
     ]
    }
   ],
   "source": [
    "%%time\n",
    "\n",
    "# First, we will generate distance between consecutive points\n",
    "# and will run hampel filter on the basis of that.\n",
    "from ptrail.features.kinematic_features import KinematicFeatures\n",
    "from ptrail.preprocessing.filters import Filters\n",
    "\n",
    "np_traffic_dist = KinematicFeatures.create_distance_column(np_traffic)\n",
    "filt_traffic = Filters.hampel_outlier_detection(np_traffic_dist,\n",
    "                                                column_name='Distance')\n",
    "print(f\"Length of original DF: {len(np_traffic_dist)}\")\n",
    "print(f\"Length of filtered DF: {len(filt_traffic)}\")"
   ],
   "metadata": {
    "collapsed": false,
    "pycharm": {
     "name": "#%%\n"
    }
   }
  },
  {
   "cell_type": "code",
   "execution_count": 3,
   "outputs": [
    {
     "name": "stdout",
     "output_type": "stream",
     "text": [
      "Length of original DF: 44628\n",
      "Length of filtered DF: 44628\n"
     ]
    }
   ],
   "source": [
    "# Now, lets drop duplicate points from the dataset.\n",
    "\n",
    "dp_traffic = Filters.remove_duplicates(filt_traffic)\n",
    "print(f\"Length of original DF: {len(filt_traffic)}\")\n",
    "print(f\"Length of filtered DF: {len(dp_traffic)}\")"
   ],
   "metadata": {
    "collapsed": false,
    "pycharm": {
     "name": "#%%\n"
    }
   }
  },
  {
   "cell_type": "code",
   "execution_count": 4,
   "outputs": [
    {
     "name": "stdout",
     "output_type": "stream",
     "text": [
      "Length of original DF: 44628\n",
      "Length of filtered DF: 44626\n"
     ]
    }
   ],
   "source": [
    "# Finally, before interpolation, lets remove points\n",
    "few_filt_traffic = Filters.remove_trajectories_with_less_points(dp_traffic)\n",
    "print(f\"Length of original DF: {len(dp_traffic)}\")\n",
    "print(f\"Length of filtered DF: {len(few_filt_traffic)}\")"
   ],
   "metadata": {
    "collapsed": false,
    "pycharm": {
     "name": "#%%\n"
    }
   }
  },
  {
   "cell_type": "code",
   "execution_count": 5,
   "outputs": [
    {
     "data": {
      "text/plain": "         10%_Distance  25%_Distance  50%_Distance  75%_Distance  90%_Distance  \\\ntraj_id                                                                         \n1416         0.315801      0.481403      0.890969      1.172964      1.258224   \n1425         0.382658      0.481403      0.741517      0.967493      1.133012   \n1434         0.197903      0.487122      0.673833      0.880407      1.193834   \n1420         0.350490      0.509768      0.737663      1.010490      1.209790   \n1446         0.516901      0.609111      0.739260      0.885660      1.008113   \n...               ...           ...           ...           ...           ...   \n1371         0.634700      0.980342      1.419185      1.443938      1.462266   \n1478         1.021491      1.043055      1.075582      1.113689      1.335898   \n1479         1.028282      1.052515      1.120213      1.160782      1.165672   \n3353         1.432805      1.453234      1.485686      1.510700      1.533348   \n1486         0.882525      0.887932      0.896979      0.904365      0.906782   \n\n         min_Distance  max_Distance  mean_Distance  std_Distance  \\\ntraj_id                                                            \n1416         0.210225      1.578175       0.834495      0.369032   \n1425         0.219006      2.729897       0.761500      0.350229   \n1434         0.091858      2.865344       0.720316      0.390756   \n1420         0.106796      2.465942       0.774939      0.369583   \n1446         0.313507      1.355297       0.754435      0.197112   \n...               ...           ...            ...           ...   \n1371         0.528250      1.467599       1.205377      0.332115   \n1478         1.021105      1.406627       1.121708      0.119851   \n1479         1.014301      1.172680       1.106898      0.061670   \n3353         1.419186      1.548446       1.483450      0.050037   \n1486         0.878921      0.908394       0.895318      0.013145   \n\n         10%_Distance_from_start  ...  10%_Rate_of_bearing_rate  \\\ntraj_id                           ...                             \n1416                   62.811307  ...                -13.491014   \n1425                   62.765455  ...                -14.101735   \n1434                   32.949204  ...                -14.179501   \n1420                   78.013501  ...                -16.689990   \n1446                   63.751666  ...                -10.384574   \n...                          ...  ...                       ...   \n1371                    3.235910  ...                 -3.577056   \n1478                    3.493505  ...                 -9.957898   \n1479                    1.839717  ...                 -4.404955   \n3353                    2.000473  ...                 -5.350157   \n1486                    1.175525  ...                 -7.784560   \n\n         25%_Rate_of_bearing_rate  50%_Rate_of_bearing_rate  \\\ntraj_id                                                       \n1416                    -5.362361                 -0.000013   \n1425                    -6.576577                 -0.000011   \n1434                    -5.909930                 -0.000001   \n1420                    -7.338434                 -0.000018   \n1446                    -4.990751                 -0.000016   \n...                           ...                       ...   \n1371                    -2.749372                 -0.793564   \n1478                    -5.609105                  1.712248   \n1479                    -3.248148                 -1.289614   \n3353                    -4.306870                 -0.979882   \n1486                    -6.789543                 -5.131182   \n\n         75%_Rate_of_bearing_rate  90%_Rate_of_bearing_rate  \\\ntraj_id                                                       \n1416                     5.332034                 13.130373   \n1425                     6.508720                 15.355460   \n1434                     6.254013                 15.193716   \n1420                     7.251038                 18.116040   \n1446                     5.777198                 10.720658   \n...                           ...                       ...   \n1371                     2.929407                  4.703671   \n1478                     6.701907                  9.601290   \n1479                     0.245603                  1.769426   \n3353                     2.492191                  3.796633   \n1486                    -0.838755                  1.736700   \n\n         min_Rate_of_bearing_rate  max_Rate_of_bearing_rate  \\\ntraj_id                                                       \n1416                   -60.912916                 74.644980   \n1425                   -71.632031                 77.070853   \n1434                  -112.464460                110.726841   \n1420                   -74.855701                108.578348   \n1446                   -33.510442                 38.665345   \n...                           ...                       ...   \n1371                    -6.789623                 18.857395   \n1478                   -13.435516                 22.794051   \n1479                    -5.400099                  2.895606   \n3353                    -6.045682                  4.666262   \n1486                    -8.447905                  3.453671   \n\n         mean_Rate_of_bearing_rate  std_Rate_of_bearing_rate  traffic_lane  \ntraj_id                                                                     \n1416                      0.291726                 12.927129             2  \n1425                      0.629431                 14.360214             2  \n1434                      0.763637                 16.812306             2  \n1420                      0.566691                 16.328314             2  \n1446                      0.540908                  8.955697             1  \n...                            ...                       ...           ...  \n1371                      0.349801                  5.219687             2  \n1478                      1.011458                  8.962980             2  \n1479                     -1.360197                  2.741049             2  \n3353                     -0.834796                  4.917767             2  \n1486                     -3.375139                  6.142039             1  \n\n[124 rows x 73 columns]",
      "text/html": "<div>\n<style scoped>\n    .dataframe tbody tr th:only-of-type {\n        vertical-align: middle;\n    }\n\n    .dataframe tbody tr th {\n        vertical-align: top;\n    }\n\n    .dataframe thead th {\n        text-align: right;\n    }\n</style>\n<table border=\"1\" class=\"dataframe\">\n  <thead>\n    <tr style=\"text-align: right;\">\n      <th></th>\n      <th>10%_Distance</th>\n      <th>25%_Distance</th>\n      <th>50%_Distance</th>\n      <th>75%_Distance</th>\n      <th>90%_Distance</th>\n      <th>min_Distance</th>\n      <th>max_Distance</th>\n      <th>mean_Distance</th>\n      <th>std_Distance</th>\n      <th>10%_Distance_from_start</th>\n      <th>...</th>\n      <th>10%_Rate_of_bearing_rate</th>\n      <th>25%_Rate_of_bearing_rate</th>\n      <th>50%_Rate_of_bearing_rate</th>\n      <th>75%_Rate_of_bearing_rate</th>\n      <th>90%_Rate_of_bearing_rate</th>\n      <th>min_Rate_of_bearing_rate</th>\n      <th>max_Rate_of_bearing_rate</th>\n      <th>mean_Rate_of_bearing_rate</th>\n      <th>std_Rate_of_bearing_rate</th>\n      <th>traffic_lane</th>\n    </tr>\n    <tr>\n      <th>traj_id</th>\n      <th></th>\n      <th></th>\n      <th></th>\n      <th></th>\n      <th></th>\n      <th></th>\n      <th></th>\n      <th></th>\n      <th></th>\n      <th></th>\n      <th></th>\n      <th></th>\n      <th></th>\n      <th></th>\n      <th></th>\n      <th></th>\n      <th></th>\n      <th></th>\n      <th></th>\n      <th></th>\n      <th></th>\n    </tr>\n  </thead>\n  <tbody>\n    <tr>\n      <th>1416</th>\n      <td>0.315801</td>\n      <td>0.481403</td>\n      <td>0.890969</td>\n      <td>1.172964</td>\n      <td>1.258224</td>\n      <td>0.210225</td>\n      <td>1.578175</td>\n      <td>0.834495</td>\n      <td>0.369032</td>\n      <td>62.811307</td>\n      <td>...</td>\n      <td>-13.491014</td>\n      <td>-5.362361</td>\n      <td>-0.000013</td>\n      <td>5.332034</td>\n      <td>13.130373</td>\n      <td>-60.912916</td>\n      <td>74.644980</td>\n      <td>0.291726</td>\n      <td>12.927129</td>\n      <td>2</td>\n    </tr>\n    <tr>\n      <th>1425</th>\n      <td>0.382658</td>\n      <td>0.481403</td>\n      <td>0.741517</td>\n      <td>0.967493</td>\n      <td>1.133012</td>\n      <td>0.219006</td>\n      <td>2.729897</td>\n      <td>0.761500</td>\n      <td>0.350229</td>\n      <td>62.765455</td>\n      <td>...</td>\n      <td>-14.101735</td>\n      <td>-6.576577</td>\n      <td>-0.000011</td>\n      <td>6.508720</td>\n      <td>15.355460</td>\n      <td>-71.632031</td>\n      <td>77.070853</td>\n      <td>0.629431</td>\n      <td>14.360214</td>\n      <td>2</td>\n    </tr>\n    <tr>\n      <th>1434</th>\n      <td>0.197903</td>\n      <td>0.487122</td>\n      <td>0.673833</td>\n      <td>0.880407</td>\n      <td>1.193834</td>\n      <td>0.091858</td>\n      <td>2.865344</td>\n      <td>0.720316</td>\n      <td>0.390756</td>\n      <td>32.949204</td>\n      <td>...</td>\n      <td>-14.179501</td>\n      <td>-5.909930</td>\n      <td>-0.000001</td>\n      <td>6.254013</td>\n      <td>15.193716</td>\n      <td>-112.464460</td>\n      <td>110.726841</td>\n      <td>0.763637</td>\n      <td>16.812306</td>\n      <td>2</td>\n    </tr>\n    <tr>\n      <th>1420</th>\n      <td>0.350490</td>\n      <td>0.509768</td>\n      <td>0.737663</td>\n      <td>1.010490</td>\n      <td>1.209790</td>\n      <td>0.106796</td>\n      <td>2.465942</td>\n      <td>0.774939</td>\n      <td>0.369583</td>\n      <td>78.013501</td>\n      <td>...</td>\n      <td>-16.689990</td>\n      <td>-7.338434</td>\n      <td>-0.000018</td>\n      <td>7.251038</td>\n      <td>18.116040</td>\n      <td>-74.855701</td>\n      <td>108.578348</td>\n      <td>0.566691</td>\n      <td>16.328314</td>\n      <td>2</td>\n    </tr>\n    <tr>\n      <th>1446</th>\n      <td>0.516901</td>\n      <td>0.609111</td>\n      <td>0.739260</td>\n      <td>0.885660</td>\n      <td>1.008113</td>\n      <td>0.313507</td>\n      <td>1.355297</td>\n      <td>0.754435</td>\n      <td>0.197112</td>\n      <td>63.751666</td>\n      <td>...</td>\n      <td>-10.384574</td>\n      <td>-4.990751</td>\n      <td>-0.000016</td>\n      <td>5.777198</td>\n      <td>10.720658</td>\n      <td>-33.510442</td>\n      <td>38.665345</td>\n      <td>0.540908</td>\n      <td>8.955697</td>\n      <td>1</td>\n    </tr>\n    <tr>\n      <th>...</th>\n      <td>...</td>\n      <td>...</td>\n      <td>...</td>\n      <td>...</td>\n      <td>...</td>\n      <td>...</td>\n      <td>...</td>\n      <td>...</td>\n      <td>...</td>\n      <td>...</td>\n      <td>...</td>\n      <td>...</td>\n      <td>...</td>\n      <td>...</td>\n      <td>...</td>\n      <td>...</td>\n      <td>...</td>\n      <td>...</td>\n      <td>...</td>\n      <td>...</td>\n      <td>...</td>\n    </tr>\n    <tr>\n      <th>1371</th>\n      <td>0.634700</td>\n      <td>0.980342</td>\n      <td>1.419185</td>\n      <td>1.443938</td>\n      <td>1.462266</td>\n      <td>0.528250</td>\n      <td>1.467599</td>\n      <td>1.205377</td>\n      <td>0.332115</td>\n      <td>3.235910</td>\n      <td>...</td>\n      <td>-3.577056</td>\n      <td>-2.749372</td>\n      <td>-0.793564</td>\n      <td>2.929407</td>\n      <td>4.703671</td>\n      <td>-6.789623</td>\n      <td>18.857395</td>\n      <td>0.349801</td>\n      <td>5.219687</td>\n      <td>2</td>\n    </tr>\n    <tr>\n      <th>1478</th>\n      <td>1.021491</td>\n      <td>1.043055</td>\n      <td>1.075582</td>\n      <td>1.113689</td>\n      <td>1.335898</td>\n      <td>1.021105</td>\n      <td>1.406627</td>\n      <td>1.121708</td>\n      <td>0.119851</td>\n      <td>3.493505</td>\n      <td>...</td>\n      <td>-9.957898</td>\n      <td>-5.609105</td>\n      <td>1.712248</td>\n      <td>6.701907</td>\n      <td>9.601290</td>\n      <td>-13.435516</td>\n      <td>22.794051</td>\n      <td>1.011458</td>\n      <td>8.962980</td>\n      <td>2</td>\n    </tr>\n    <tr>\n      <th>1479</th>\n      <td>1.028282</td>\n      <td>1.052515</td>\n      <td>1.120213</td>\n      <td>1.160782</td>\n      <td>1.165672</td>\n      <td>1.014301</td>\n      <td>1.172680</td>\n      <td>1.106898</td>\n      <td>0.061670</td>\n      <td>1.839717</td>\n      <td>...</td>\n      <td>-4.404955</td>\n      <td>-3.248148</td>\n      <td>-1.289614</td>\n      <td>0.245603</td>\n      <td>1.769426</td>\n      <td>-5.400099</td>\n      <td>2.895606</td>\n      <td>-1.360197</td>\n      <td>2.741049</td>\n      <td>2</td>\n    </tr>\n    <tr>\n      <th>3353</th>\n      <td>1.432805</td>\n      <td>1.453234</td>\n      <td>1.485686</td>\n      <td>1.510700</td>\n      <td>1.533348</td>\n      <td>1.419186</td>\n      <td>1.548446</td>\n      <td>1.483450</td>\n      <td>0.050037</td>\n      <td>2.000473</td>\n      <td>...</td>\n      <td>-5.350157</td>\n      <td>-4.306870</td>\n      <td>-0.979882</td>\n      <td>2.492191</td>\n      <td>3.796633</td>\n      <td>-6.045682</td>\n      <td>4.666262</td>\n      <td>-0.834796</td>\n      <td>4.917767</td>\n      <td>2</td>\n    </tr>\n    <tr>\n      <th>1486</th>\n      <td>0.882525</td>\n      <td>0.887932</td>\n      <td>0.896979</td>\n      <td>0.904365</td>\n      <td>0.906782</td>\n      <td>0.878921</td>\n      <td>0.908394</td>\n      <td>0.895318</td>\n      <td>0.013145</td>\n      <td>1.175525</td>\n      <td>...</td>\n      <td>-7.784560</td>\n      <td>-6.789543</td>\n      <td>-5.131182</td>\n      <td>-0.838755</td>\n      <td>1.736700</td>\n      <td>-8.447905</td>\n      <td>3.453671</td>\n      <td>-3.375139</td>\n      <td>6.142039</td>\n      <td>1</td>\n    </tr>\n  </tbody>\n</table>\n<p>124 rows × 73 columns</p>\n</div>"
     },
     "execution_count": 5,
     "metadata": {},
     "output_type": "execute_result"
    }
   ],
   "source": [
    "# Now, we generate kinematic statistics on the DF and then change the\n",
    "# representation of the Trajectory to be segment based instead of point based.\n",
    "from ptrail.preprocessing.statistics import Statistics\n",
    "\n",
    "stats_df = Statistics.generate_kinematic_stats(dataframe=few_filt_traffic,\n",
    "                                               target_col_name='traffic_lane')\n",
    "pivoted = Statistics.pivot_stats_df(dataframe=stats_df,\n",
    "                                    target_col_name='traffic_lane')\n",
    "pivoted"
   ],
   "metadata": {
    "collapsed": false,
    "pycharm": {
     "name": "#%%\n"
    }
   }
  },
  {
   "cell_type": "code",
   "execution_count": 6,
   "outputs": [],
   "source": [
    "# Step-5: Getting the test and train datasets ready.\n",
    "from sklearn.model_selection import train_test_split\n",
    "from sklearn.metrics import f1_score\n",
    "from sklearn.cluster import KMeans\n",
    "from sklearn.ensemble import RandomForestClassifier\n",
    "from sklearn.tree import DecisionTreeClassifier\n",
    "from sklearn.naive_bayes import GaussianNB\n",
    "from sklearn.neighbors import KNeighborsClassifier\n",
    "\n",
    "\n",
    "X_train, X_test, y_train, y_test = train_test_split(pivoted.drop(columns=['traffic_lane']), pivoted['traffic_lane'],\n",
    "                                                    random_state=7, test_size=0.2)"
   ],
   "metadata": {
    "collapsed": false,
    "pycharm": {
     "name": "#%%\n"
    }
   }
  },
  {
   "cell_type": "code",
   "execution_count": 7,
   "outputs": [
    {
     "name": "stdout",
     "output_type": "stream",
     "text": [
      "---------------- RandomForest Classifier -----------------\n",
      "The f1_score of RF training is: 100.0%\n",
      "The f1_score of RF testing is: 80.06%\n",
      "----------------------------------------------------------\n",
      "\n",
      "---------------- DecisionTree Classifier -----------------\n",
      "The f1_score of DT training is: 100.0%\n",
      "The f1_score of DT testing is: 71.82%\n",
      "----------------------------------------------------------\n",
      "\n",
      "----------------- Naive Bayes Classifier -----------------\n",
      "The f1_score of GNB training is: 82.67%\n",
      "The f1_score of GNB testing is: 64.12%\n",
      "----------------------------------------------------------\n",
      "\n",
      "--------------------- KNN Classifier ---------------------\n",
      "The f1_score of KNN training is: 86.97%\n",
      "The f1_score of KNN testing is: 62.9%\n",
      "----------------------------------------------------------\n",
      "\n"
     ]
    }
   ],
   "source": [
    "# Now it is time to train some models and predict\n",
    "# the ship types.\n",
    "\n",
    "# 1. RandomForestClassifier model.\n",
    "rf_model = RandomForestClassifier()\n",
    "rf_model.fit(X_train, y_train)\n",
    "\n",
    "# Now, lets predict on the training and testing set\n",
    "# using the above trained model.\n",
    "rf_train_predict = rf_model.predict(X_train)\n",
    "rf_test_predict = rf_model.predict(X_test)\n",
    "\n",
    "\n",
    "# Finally, lets test the accuracy of the model on both\n",
    "# the datasets.\n",
    "rf_train_accuracy = f1_score(y_train, rf_train_predict, average='weighted')\n",
    "rf_test_accuracy = f1_score(y_test, rf_test_predict, average='weighted')\n",
    "\n",
    "print('---------------- RandomForest Classifier -----------------')\n",
    "print(f\"The f1_score of RF training is: {round(rf_train_accuracy*100, 2)}%\")\n",
    "print(f\"The f1_score of RF testing is: {round(rf_test_accuracy*100, 2)}%\")\n",
    "print('----------------------------------------------------------\\n')\n",
    "\n",
    "# ----------------------------------------------------------------------------------- #\n",
    "\n",
    "# 2. DecisionTree Classifier model.\n",
    "dt_model = DecisionTreeClassifier()\n",
    "dt_model.fit(X_train, y_train)\n",
    "\n",
    "# Now, lets predict on the training and testing set\n",
    "# using the above trained model.\n",
    "dt_train_predict = dt_model.predict(X_train)\n",
    "dt_test_predict = dt_model.predict(X_test)\n",
    "\n",
    "\n",
    "# Finally, lets test the accuracy of the model on both\n",
    "# the datasets.\n",
    "dt_train_accuracy = f1_score(y_train, dt_train_predict, average='weighted')\n",
    "dt_test_accuracy = f1_score(y_test, dt_test_predict, average='weighted')\n",
    "\n",
    "print('---------------- DecisionTree Classifier -----------------')\n",
    "print(f\"The f1_score of DT training is: {round(dt_train_accuracy*100, 2)}%\")\n",
    "print(f\"The f1_score of DT testing is: {round(dt_test_accuracy*100, 2)}%\")\n",
    "print('----------------------------------------------------------\\n')\n",
    "\n",
    "# ----------------------------------------------------------------------------------- #\n",
    "\n",
    "# 3. Gaussian Naive Bayes model.\n",
    "gnb_model = GaussianNB()\n",
    "gnb_model.fit(X_train, y_train)\n",
    "\n",
    "# Now, lets predict on the training and testing set\n",
    "# using the above trained model.\n",
    "gnb_train_predict = gnb_model.predict(X_train)\n",
    "gnb_test_predict = gnb_model.predict(X_test)\n",
    "\n",
    "\n",
    "# Finally, lets test the accuracy of the model on both\n",
    "# the datasets.\n",
    "gnb_train_accuracy = f1_score(y_train, gnb_train_predict, average='weighted')\n",
    "gnb_test_accuracy = f1_score(y_test, gnb_test_predict, average='weighted')\n",
    "\n",
    "print('----------------- Naive Bayes Classifier -----------------')\n",
    "print(f\"The f1_score of GNB training is: {round(gnb_train_accuracy*100, 2)}%\")\n",
    "print(f\"The f1_score of GNB testing is: {round(gnb_test_accuracy*100, 2)}%\")\n",
    "print('----------------------------------------------------------\\n')\n",
    "\n",
    "# ----------------------------------------------------------------------------------- #\n",
    "\n",
    "# 4. K-Nearest Neighbors Classifier model.\n",
    "\n",
    "knn_model = KNeighborsClassifier()\n",
    "knn_model.fit(X_train, y_train)\n",
    "\n",
    "# Now, lets predict on the training and testing set\n",
    "# using the above trained model.\n",
    "knn_train_predict = knn_model.predict(X_train)\n",
    "knn_test_predict = knn_model.predict(X_test)\n",
    "\n",
    "\n",
    "# Finally, lets test the accuracy of the model on both\n",
    "# the datasets.\n",
    "knn_train_accuracy = f1_score(y_train, knn_train_predict, average='weighted')\n",
    "knn_test_accuracy = f1_score(y_test, knn_test_predict, average='weighted')\n",
    "\n",
    "print('--------------------- KNN Classifier ---------------------')\n",
    "print(f\"The f1_score of KNN training is: {round(knn_train_accuracy*100, 2)}%\")\n",
    "print(f\"The f1_score of KNN testing is: {round(knn_test_accuracy*100, 2)}%\")\n",
    "print('----------------------------------------------------------\\n')\n",
    "\n",
    "# ----------------------------------------------------------------------------------- #"
   ],
   "metadata": {
    "collapsed": false,
    "pycharm": {
     "name": "#%%\n"
    }
   }
  },
  {
   "cell_type": "code",
   "execution_count": 8,
   "outputs": [
    {
     "data": {
      "text/plain": "<Figure size 648x360 with 1 Axes>",
      "image/png": "[encoded data removed]"
     },
     "metadata": {
      "needs_background": "light"
     },
     "output_type": "display_data"
    }
   ],
   "source": [
    "# Let's visualize the scores using box plot of cross validation of the models.\n",
    "import matplotlib.pyplot as plt\n",
    "from sklearn.model_selection import cross_val_score, StratifiedKFold\n",
    "import warnings\n",
    "warnings.simplefilter(category=UserWarning, action=\"ignore\")\n",
    "\n",
    "names = [\"Random Forest\", \"Decision Tree\", \"Gaussian Naive Bayes\", \"K-Nearest Neighbors\"]\n",
    "models = [RandomForestClassifier(), DecisionTreeClassifier(), GaussianNB(), KNeighborsClassifier()]\n",
    "\n",
    "fig = plt.figure(figsize=(9, 5))\n",
    "ax = plt.subplot(111)\n",
    "ax.set_facecolor('gainsboro')\n",
    "\n",
    "skf = StratifiedKFold(n_splits=10, random_state=10, shuffle=True)\n",
    "for i, name, model in zip(range(0, 5), names, models):\n",
    "    scores = cross_val_score(model, pivoted.drop(columns=['traffic_lane']), pivoted['traffic_lane'],\n",
    "                             scoring='f1_weighted', cv=skf, n_jobs=-1)\n",
    "    ax.boxplot(x=scores, positions=[i], vert=True,\n",
    "               widths=0.60, patch_artist=True)\n",
    "\n",
    "ax.set_xticklabels(labels=names)\n",
    "ax.set_ylabel(\"F-Score\")\n",
    "ax.set_xlabel(\"Model\")\n",
    "plt.tight_layout()"
   ],
   "metadata": {
    "collapsed": false,
    "pycharm": {
     "name": "#%%\n"
    }
   }
  }
 ],
 "metadata": {
  "kernelspec": {
   "display_name": "Python 3",
   "language": "python",
   "name": "python3"
  },
  "language_info": {
   "codemirror_mode": {
    "name": "ipython",
    "version": 2
   },
   "file_extension": ".py",
   "mimetype": "text/x-python",
   "name": "python",
   "nbconvert_exporter": "python",
   "pygments_lexer": "ipython2",
   "version": "2.7.6"
  }
 },
 "nbformat": 4,
 "nbformat_minor": 0
}