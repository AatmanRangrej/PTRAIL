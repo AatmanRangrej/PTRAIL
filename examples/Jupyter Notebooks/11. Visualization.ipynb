{
 "cells": [
  {
   "cell_type": "code",
   "execution_count": 1,
   "outputs": [
    {
     "data": {
      "text/plain": "                                     lat         lon  StarkeyTime    GMDate  \\\ntraj_id   DateTime                                                            \n880109D01 1995-04-13 13:40:06  45.239682 -118.533204    229902006  21:40:06   \n          1995-04-15 12:16:15  45.250521 -118.530438    230069775  20:16:15   \n          1995-04-15 21:39:38  45.247943 -118.541455    230103578  05:39:38   \n          1995-04-16 03:32:14  45.247429 -118.539530    230124734  11:32:14   \n          1995-04-16 04:08:28  45.247117 -118.542579    230126908  12:08:28   \n\n                                 GMTime   LocDate   LocTime  RadNum Species  \\\ntraj_id   DateTime                                                            \n880109D01 1995-04-13 13:40:06  19950413  19950413  13:40:06     409       D   \n          1995-04-15 12:16:15  19950415  19950415  12:16:15     409       D   \n          1995-04-15 21:39:38  19950416  19950415  21:39:38     409       D   \n          1995-04-16 03:32:14  19950416  19950416  03:32:14     409       D   \n          1995-04-16 04:08:28  19950416  19950416  04:08:28     409       D   \n\n                                 UTME     UTMN  Year  Grensunr  Grensuns  \\\ntraj_id   DateTime                                                         \n880109D01 1995-04-13 13:40:06  379662  5010734    95  13:13:00  02:39:00   \n          1995-04-15 12:16:15  379895  5011927    95  13:09:00  02:41:00   \n          1995-04-15 21:39:38  379039  5011656    95  13:07:00  02:43:00   \n          1995-04-16 03:32:14  379188  5011581    95  13:07:00  02:43:00   \n          1995-04-16 04:08:28  378938  5011567    95  13:07:00  02:43:00   \n\n                               Obswt  \ntraj_id   DateTime                    \n880109D01 1995-04-13 13:40:06   1.47  \n          1995-04-15 12:16:15   1.59  \n          1995-04-15 21:39:38   1.34  \n          1995-04-16 03:32:14   1.50  \n          1995-04-16 04:08:28   1.34  ",
      "text/html": "<div>\n<style scoped>\n    .dataframe tbody tr th:only-of-type {\n        vertical-align: middle;\n    }\n\n    .dataframe tbody tr th {\n        vertical-align: top;\n    }\n\n    .dataframe thead th {\n        text-align: right;\n    }\n</style>\n<table border=\"1\" class=\"dataframe\">\n  <thead>\n    <tr style=\"text-align: right;\">\n      <th></th>\n      <th></th>\n      <th>lat</th>\n      <th>lon</th>\n      <th>StarkeyTime</th>\n      <th>GMDate</th>\n      <th>GMTime</th>\n      <th>LocDate</th>\n      <th>LocTime</th>\n      <th>RadNum</th>\n      <th>Species</th>\n      <th>UTME</th>\n      <th>UTMN</th>\n      <th>Year</th>\n      <th>Grensunr</th>\n      <th>Grensuns</th>\n      <th>Obswt</th>\n    </tr>\n    <tr>\n      <th>traj_id</th>\n      <th>DateTime</th>\n      <th></th>\n      <th></th>\n      <th></th>\n      <th></th>\n      <th></th>\n      <th></th>\n      <th></th>\n      <th></th>\n      <th></th>\n      <th></th>\n      <th></th>\n      <th></th>\n      <th></th>\n      <th></th>\n      <th></th>\n    </tr>\n  </thead>\n  <tbody>\n    <tr>\n      <th rowspan=\"5\" valign=\"top\">880109D01</th>\n      <th>1995-04-13 13:40:06</th>\n      <td>45.239682</td>\n      <td>-118.533204</td>\n      <td>229902006</td>\n      <td>21:40:06</td>\n      <td>19950413</td>\n      <td>19950413</td>\n      <td>13:40:06</td>\n      <td>409</td>\n      <td>D</td>\n      <td>379662</td>\n      <td>5010734</td>\n      <td>95</td>\n      <td>13:13:00</td>\n      <td>02:39:00</td>\n      <td>1.47</td>\n    </tr>\n    <tr>\n      <th>1995-04-15 12:16:15</th>\n      <td>45.250521</td>\n      <td>-118.530438</td>\n      <td>230069775</td>\n      <td>20:16:15</td>\n      <td>19950415</td>\n      <td>19950415</td>\n      <td>12:16:15</td>\n      <td>409</td>\n      <td>D</td>\n      <td>379895</td>\n      <td>5011927</td>\n      <td>95</td>\n      <td>13:09:00</td>\n      <td>02:41:00</td>\n      <td>1.59</td>\n    </tr>\n    <tr>\n      <th>1995-04-15 21:39:38</th>\n      <td>45.247943</td>\n      <td>-118.541455</td>\n      <td>230103578</td>\n      <td>05:39:38</td>\n      <td>19950416</td>\n      <td>19950415</td>\n      <td>21:39:38</td>\n      <td>409</td>\n      <td>D</td>\n      <td>379039</td>\n      <td>5011656</td>\n      <td>95</td>\n      <td>13:07:00</td>\n      <td>02:43:00</td>\n      <td>1.34</td>\n    </tr>\n    <tr>\n      <th>1995-04-16 03:32:14</th>\n      <td>45.247429</td>\n      <td>-118.539530</td>\n      <td>230124734</td>\n      <td>11:32:14</td>\n      <td>19950416</td>\n      <td>19950416</td>\n      <td>03:32:14</td>\n      <td>409</td>\n      <td>D</td>\n      <td>379188</td>\n      <td>5011581</td>\n      <td>95</td>\n      <td>13:07:00</td>\n      <td>02:43:00</td>\n      <td>1.50</td>\n    </tr>\n    <tr>\n      <th>1995-04-16 04:08:28</th>\n      <td>45.247117</td>\n      <td>-118.542579</td>\n      <td>230126908</td>\n      <td>12:08:28</td>\n      <td>19950416</td>\n      <td>19950416</td>\n      <td>04:08:28</td>\n      <td>409</td>\n      <td>D</td>\n      <td>378938</td>\n      <td>5011567</td>\n      <td>95</td>\n      <td>13:07:00</td>\n      <td>02:43:00</td>\n      <td>1.34</td>\n    </tr>\n  </tbody>\n</table>\n</div>"
     },
     "execution_count": 1,
     "metadata": {},
     "output_type": "execute_result"
    }
   ],
   "source": [
    "import pandas as pd\n",
    "from ptrail.core.TrajectoryDF import PTRAILDataFrame\n",
    "from ptrail.visualization.TrajPlotter import TrajectoryPlotter as tpl\n",
    "from ptrail.visualization.statViz import StatViz as stv\n",
    "from ptrail.visualization.InteractiveDonut import InteractiveDonut as donut\n",
    "import plotly.express as px\n",
    "\n",
    "# Import the starkey trajectory dataset.\n",
    "pdf = pd.read_csv('./starkey.csv')\n",
    "starkey = PTRAILDataFrame(data_set=pdf,\n",
    "                          latitude='lat',\n",
    "                          longitude='lon',\n",
    "                          datetime='DateTime',\n",
    "                          traj_id='Id')\n",
    "starkey.head(5)"
   ],
   "metadata": {
    "collapsed": false,
    "pycharm": {
     "name": "#%%\n"
    }
   }
  },
  {
   "cell_type": "code",
   "execution_count": 2,
   "outputs": [
    {
     "data": {
      "text/plain": "         lat         lon  SoilDpth  PerSlope  SINAspct  COSAspct  Convex3  \\\n0  45.272378 -118.610193        14         5     -0.81      0.59   500.63   \n1  45.272648 -118.610201        14         5     -0.71      0.71   500.21   \n2  45.272918 -118.610208        14         4     -0.89      0.45   499.93   \n3  45.270224 -118.609750        14         8     -0.98      0.21   500.68   \n4  45.270494 -118.609757        14         7     -0.97      0.22   501.22   \n\n   DistCWat  Canopy  Elev  DistEWat EcoGener  DistOPEN  DistRSTR  DistCLSD  \\\n0       218       3  1389       212       GB       127      2271        30   \n1       228       3  1388       218       GB       150      2293        30   \n2       242       3  1387       228       GB       170      2315        30   \n3       201       5  1393       201       GB        30      2081       134   \n4       190       5  1393       190       GB        30      2101       108   \n\n   DistEFnc      CowPast  ForgProd  DistEdge  \n0         0  SMITH-BALLY       363         0  \n1         0  SMITH-BALLY       363         0  \n2         0  SMITH-BALLY       363         0  \n3         0  SMITH-BALLY       363         0  \n4         0  SMITH-BALLY       363         0  ",
      "text/html": "<div>\n<style scoped>\n    .dataframe tbody tr th:only-of-type {\n        vertical-align: middle;\n    }\n\n    .dataframe tbody tr th {\n        vertical-align: top;\n    }\n\n    .dataframe thead th {\n        text-align: right;\n    }\n</style>\n<table border=\"1\" class=\"dataframe\">\n  <thead>\n    <tr style=\"text-align: right;\">\n      <th></th>\n      <th>lat</th>\n      <th>lon</th>\n      <th>SoilDpth</th>\n      <th>PerSlope</th>\n      <th>SINAspct</th>\n      <th>COSAspct</th>\n      <th>Convex3</th>\n      <th>DistCWat</th>\n      <th>Canopy</th>\n      <th>Elev</th>\n      <th>DistEWat</th>\n      <th>EcoGener</th>\n      <th>DistOPEN</th>\n      <th>DistRSTR</th>\n      <th>DistCLSD</th>\n      <th>DistEFnc</th>\n      <th>CowPast</th>\n      <th>ForgProd</th>\n      <th>DistEdge</th>\n    </tr>\n  </thead>\n  <tbody>\n    <tr>\n      <th>0</th>\n      <td>45.272378</td>\n      <td>-118.610193</td>\n      <td>14</td>\n      <td>5</td>\n      <td>-0.81</td>\n      <td>0.59</td>\n      <td>500.63</td>\n      <td>218</td>\n      <td>3</td>\n      <td>1389</td>\n      <td>212</td>\n      <td>GB</td>\n      <td>127</td>\n      <td>2271</td>\n      <td>30</td>\n      <td>0</td>\n      <td>SMITH-BALLY</td>\n      <td>363</td>\n      <td>0</td>\n    </tr>\n    <tr>\n      <th>1</th>\n      <td>45.272648</td>\n      <td>-118.610201</td>\n      <td>14</td>\n      <td>5</td>\n      <td>-0.71</td>\n      <td>0.71</td>\n      <td>500.21</td>\n      <td>228</td>\n      <td>3</td>\n      <td>1388</td>\n      <td>218</td>\n      <td>GB</td>\n      <td>150</td>\n      <td>2293</td>\n      <td>30</td>\n      <td>0</td>\n      <td>SMITH-BALLY</td>\n      <td>363</td>\n      <td>0</td>\n    </tr>\n    <tr>\n      <th>2</th>\n      <td>45.272918</td>\n      <td>-118.610208</td>\n      <td>14</td>\n      <td>4</td>\n      <td>-0.89</td>\n      <td>0.45</td>\n      <td>499.93</td>\n      <td>242</td>\n      <td>3</td>\n      <td>1387</td>\n      <td>228</td>\n      <td>GB</td>\n      <td>170</td>\n      <td>2315</td>\n      <td>30</td>\n      <td>0</td>\n      <td>SMITH-BALLY</td>\n      <td>363</td>\n      <td>0</td>\n    </tr>\n    <tr>\n      <th>3</th>\n      <td>45.270224</td>\n      <td>-118.609750</td>\n      <td>14</td>\n      <td>8</td>\n      <td>-0.98</td>\n      <td>0.21</td>\n      <td>500.68</td>\n      <td>201</td>\n      <td>5</td>\n      <td>1393</td>\n      <td>201</td>\n      <td>GB</td>\n      <td>30</td>\n      <td>2081</td>\n      <td>134</td>\n      <td>0</td>\n      <td>SMITH-BALLY</td>\n      <td>363</td>\n      <td>0</td>\n    </tr>\n    <tr>\n      <th>4</th>\n      <td>45.270494</td>\n      <td>-118.609757</td>\n      <td>14</td>\n      <td>7</td>\n      <td>-0.97</td>\n      <td>0.22</td>\n      <td>501.22</td>\n      <td>190</td>\n      <td>5</td>\n      <td>1393</td>\n      <td>190</td>\n      <td>GB</td>\n      <td>30</td>\n      <td>2101</td>\n      <td>108</td>\n      <td>0</td>\n      <td>SMITH-BALLY</td>\n      <td>363</td>\n      <td>0</td>\n    </tr>\n  </tbody>\n</table>\n</div>"
     },
     "execution_count": 2,
     "metadata": {},
     "output_type": "execute_result"
    }
   ],
   "source": [
    "# Import the starkey habitat datset.\n",
    "starkey_habitat = pd.read_csv('./starkey_habitat.csv')\n",
    "starkey_habitat.head()"
   ],
   "metadata": {
    "collapsed": false,
    "pycharm": {
     "name": "#%%\n"
    }
   }
  },
  {
   "cell_type": "code",
   "execution_count": 3,
   "metadata": {
    "pycharm": {
     "name": "#%%\n"
    }
   },
   "outputs": [],
   "source": [
    "# Show the trajectory viewer.\n",
    "# tpl.show_trajectories(starkey, opacity=0.75, weight=2)"
   ]
  },
  {
   "cell_type": "code",
   "execution_count": 4,
   "outputs": [],
   "source": [
    "# Show the treemap of the average daily distance\n",
    "# of the animals.\n",
    "# stv.trajectory_distance_treemap(dataset=starkey,\n",
    "#                                 path=[px.Constant('All'), 'Species','traj_id'])"
   ],
   "metadata": {
    "collapsed": false,
    "pycharm": {
     "name": "#%%\n"
    }
   }
  },
  {
   "cell_type": "code",
   "execution_count": 5,
   "outputs": [],
   "source": [
    "# Plot the donut plot which shows how starkey forest\n",
    "# area is divided into several pastures.\n",
    "# donut.plot_area_donut(habitat=starkey_habitat)"
   ],
   "metadata": {
    "collapsed": false,
    "pycharm": {
     "name": "#%%\n"
    }
   }
  },
  {
   "cell_type": "code",
   "execution_count": 6,
   "outputs": [],
   "source": [
    "# plot the interactive visualization showing the distribution of\n",
    "# animals by pasture.\n",
    "# donut.animals_by_pasture(trajectories=starkey, habitat=starkey_habitat)"
   ],
   "metadata": {
    "collapsed": false,
    "pycharm": {
     "name": "#%%\n"
    }
   }
  },
  {
   "cell_type": "code",
   "execution_count": 7,
   "outputs": [],
   "source": [
    "from ptrail.preprocessing.filters import Filters as filt\n",
    "from ptrail.features.temporal_features import TemporalFeatures as temp\n",
    "from ptrail.utilities.DistanceCalculator import FormulaLog as calc\n",
    "pd.options.mode.chained_assignment = None\n",
    "\n",
    "starkey = temp.create_date_column(starkey)\n",
    "a = starkey_habitat[(starkey_habitat['EcoGener'] == 'WR')]\n",
    "waterbodies = a.loc[(a['DistEWat'] == 0)]\n",
    "\n",
    "bboxes = []\n",
    "for i in range(len(waterbodies)):\n",
    "    lat = waterbodies.iloc[i]['lat']\n",
    "    lon = waterbodies.iloc[i]['lon']\n",
    "    bboxes.append(filt.get_bounding_box_by_radius(lat, lon, 1000))\n",
    "\n",
    "waterbodies['bbox'] = bboxes"
   ],
   "metadata": {
    "collapsed": false,
    "pycharm": {
     "name": "#%%\n"
    }
   }
  },
  {
   "cell_type": "code",
   "execution_count": 8,
   "outputs": [],
   "source": [
    "\n",
    "\n",
    "chunks = []\n",
    "for i in range(len(waterbodies)):\n",
    "    chunks.append(\n",
    "        filt.filter_by_bounding_box(starkey, waterbodies.iloc[i]['bbox'])\n",
    "    )"
   ],
   "metadata": {
    "collapsed": false,
    "pycharm": {
     "name": "#%%\n"
    }
   }
  },
  {
   "cell_type": "code",
   "execution_count": 14,
   "outputs": [
    {
     "name": "stdout",
     "output_type": "stream",
     "text": [
      "183\n",
      "184\n",
      "173\n",
      "173\n",
      "174\n",
      "176\n",
      "178\n",
      "184\n",
      "183\n",
      "168\n",
      "173\n",
      "173\n",
      "173\n",
      "173\n",
      "183\n",
      "168\n",
      "168\n",
      "168\n",
      "171\n",
      "171\n",
      "172\n",
      "172\n",
      "183\n",
      "183\n",
      "185\n",
      "185\n",
      "183\n",
      "181\n",
      "179\n",
      "177\n",
      "178\n",
      "176\n",
      "175\n",
      "173\n",
      "173\n",
      "169\n",
      "169\n",
      "167\n",
      "167\n",
      "167\n",
      "168\n",
      "168\n",
      "167\n",
      "167\n",
      "165\n",
      "165\n",
      "164\n",
      "160\n",
      "160\n",
      "162\n",
      "163\n",
      "160\n",
      "160\n",
      "158\n",
      "158\n",
      "158\n",
      "158\n",
      "157\n",
      "153\n",
      "152\n",
      "152\n",
      "155\n",
      "155\n",
      "154\n",
      "156\n",
      "156\n",
      "156\n",
      "155\n",
      "149\n",
      "150\n",
      "149\n",
      "138\n",
      "138\n",
      "136\n",
      "133\n",
      "132\n",
      "131\n",
      "128\n",
      "121\n",
      "121\n",
      "120\n",
      "121\n",
      "119\n",
      "115\n",
      "112\n",
      "112\n",
      "112\n",
      "112\n",
      "111\n",
      "110\n",
      "110\n"
     ]
    }
   ],
   "source": [
    "dataset = []\n",
    "for i in range(len(chunks)):\n",
    "    small_df = pd.DataFrame(columns=['traj_id', 'days']).set_index('traj_id')\n",
    "    ids_ = chunks[i].reset_index()['traj_id'].unique()\n",
    "    for j in range(len(ids_)):\n",
    "        filt = chunks[i].reset_index().loc[chunks[i].reset_index()['traj_id'] == ids_[j]]\n",
    "        small_df.loc[ids_[j]] = pd.to_datetime(filt.Date).nunique()\n",
    "    print(len(small_df))\n",
    "    dataset.append(small_df)"
   ],
   "metadata": {
    "collapsed": false,
    "pycharm": {
     "name": "#%%\n"
    }
   }
  },
  {
   "cell_type": "code",
   "execution_count": null,
   "outputs": [],
   "source": [],
   "metadata": {
    "collapsed": false,
    "pycharm": {
     "name": "#%%\n"
    }
   }
  }
 ],
 "metadata": {
  "kernelspec": {
   "display_name": "Python 3 (ipykernel)",
   "language": "python",
   "name": "python3"
  },
  "language_info": {
   "codemirror_mode": {
    "name": "ipython",
    "version": 3
   },
   "file_extension": ".py",
   "mimetype": "text/x-python",
   "name": "python",
   "nbconvert_exporter": "python",
   "pygments_lexer": "ipython3",
   "version": "3.8.10"
  }
 },
 "nbformat": 4,
 "nbformat_minor": 1
}