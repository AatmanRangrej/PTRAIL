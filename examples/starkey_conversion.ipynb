{
 "cells": [
  {
   "cell_type": "code",
   "execution_count": 1,
   "metadata": {
    "collapsed": true,
    "pycharm": {
     "name": "#%%\n"
    }
   },
   "outputs": [
    {
     "data": {
      "text/plain": "          UTMGrid  UTMGridEast  UTMGridNorth         Id  StarkeyTime  \\\n0  374145 5014200       374145       5014200  890424E06    168825628   \n1  374265 5010180       374265       5010180  921228E09    168826022   \n2  377475 5015730       377475       5015730  890222E01    168826135   \n3  374805 5018490       374805       5018490  910313E19    168826274   \n4  377055 5008470       377055       5008470  910313E37    168826332   \n\n     GMDate    GMTime   LocDate   LocTime  RadNum Species    UTME     UTMN  \\\n0  02:08:28  19930507  19930506  18:08:28      59       E  374137  5014190   \n1  07:02:02  19930507  19930506  23:02:02      57       E  374262  5010176   \n2  08:55:55  19930507  19930507  00:55:55      46       E  377477  5015745   \n3  01:11:14  19930507  19930506  17:11:14      54       E  374795  5018503   \n4  01:21:12  19930507  19930506  17:21:12      67       E  377053  5008474   \n\n   Year  Grensunr  Grensuns  Obswt  \n0    93  12:34:00  03:10:00   1.62  \n1    93  12:34:00  03:10:00   1.36  \n2    93  12:34:00  03:10:00   1.68  \n3    93  12:34:00  03:10:00   1.43  \n4    93  12:34:00  03:10:00   1.73  ",
      "text/html": "<div>\n<style scoped>\n    .dataframe tbody tr th:only-of-type {\n        vertical-align: middle;\n    }\n\n    .dataframe tbody tr th {\n        vertical-align: top;\n    }\n\n    .dataframe thead th {\n        text-align: right;\n    }\n</style>\n<table border=\"1\" class=\"dataframe\">\n  <thead>\n    <tr style=\"text-align: right;\">\n      <th></th>\n      <th>UTMGrid</th>\n      <th>UTMGridEast</th>\n      <th>UTMGridNorth</th>\n      <th>Id</th>\n      <th>StarkeyTime</th>\n      <th>GMDate</th>\n      <th>GMTime</th>\n      <th>LocDate</th>\n      <th>LocTime</th>\n      <th>RadNum</th>\n      <th>Species</th>\n      <th>UTME</th>\n      <th>UTMN</th>\n      <th>Year</th>\n      <th>Grensunr</th>\n      <th>Grensuns</th>\n      <th>Obswt</th>\n    </tr>\n  </thead>\n  <tbody>\n    <tr>\n      <th>0</th>\n      <td>374145 5014200</td>\n      <td>374145</td>\n      <td>5014200</td>\n      <td>890424E06</td>\n      <td>168825628</td>\n      <td>02:08:28</td>\n      <td>19930507</td>\n      <td>19930506</td>\n      <td>18:08:28</td>\n      <td>59</td>\n      <td>E</td>\n      <td>374137</td>\n      <td>5014190</td>\n      <td>93</td>\n      <td>12:34:00</td>\n      <td>03:10:00</td>\n      <td>1.62</td>\n    </tr>\n    <tr>\n      <th>1</th>\n      <td>374265 5010180</td>\n      <td>374265</td>\n      <td>5010180</td>\n      <td>921228E09</td>\n      <td>168826022</td>\n      <td>07:02:02</td>\n      <td>19930507</td>\n      <td>19930506</td>\n      <td>23:02:02</td>\n      <td>57</td>\n      <td>E</td>\n      <td>374262</td>\n      <td>5010176</td>\n      <td>93</td>\n      <td>12:34:00</td>\n      <td>03:10:00</td>\n      <td>1.36</td>\n    </tr>\n    <tr>\n      <th>2</th>\n      <td>377475 5015730</td>\n      <td>377475</td>\n      <td>5015730</td>\n      <td>890222E01</td>\n      <td>168826135</td>\n      <td>08:55:55</td>\n      <td>19930507</td>\n      <td>19930507</td>\n      <td>00:55:55</td>\n      <td>46</td>\n      <td>E</td>\n      <td>377477</td>\n      <td>5015745</td>\n      <td>93</td>\n      <td>12:34:00</td>\n      <td>03:10:00</td>\n      <td>1.68</td>\n    </tr>\n    <tr>\n      <th>3</th>\n      <td>374805 5018490</td>\n      <td>374805</td>\n      <td>5018490</td>\n      <td>910313E19</td>\n      <td>168826274</td>\n      <td>01:11:14</td>\n      <td>19930507</td>\n      <td>19930506</td>\n      <td>17:11:14</td>\n      <td>54</td>\n      <td>E</td>\n      <td>374795</td>\n      <td>5018503</td>\n      <td>93</td>\n      <td>12:34:00</td>\n      <td>03:10:00</td>\n      <td>1.43</td>\n    </tr>\n    <tr>\n      <th>4</th>\n      <td>377055 5008470</td>\n      <td>377055</td>\n      <td>5008470</td>\n      <td>910313E37</td>\n      <td>168826332</td>\n      <td>01:21:12</td>\n      <td>19930507</td>\n      <td>19930506</td>\n      <td>17:21:12</td>\n      <td>67</td>\n      <td>E</td>\n      <td>377053</td>\n      <td>5008474</td>\n      <td>93</td>\n      <td>12:34:00</td>\n      <td>03:10:00</td>\n      <td>1.73</td>\n    </tr>\n  </tbody>\n</table>\n</div>"
     },
     "execution_count": 1,
     "metadata": {},
     "output_type": "execute_result"
    }
   ],
   "source": [
    "# Steps to convert starkey to NumMobility read:\n",
    "\"\"\"\n",
    "    1. Convert the Easting and Northing to latitude and\n",
    "       longitude respectively using the utm library which\n",
    "       can be installed using pip.\n",
    "    2. Then, create a DateTime column for the dataset.\n",
    "    3. Rearrange the columns.\n",
    "    4. Done!\n",
    "\n",
    "    Warning: Please do not run this multiple times, run it\n",
    "             once only if you want to see the results.\n",
    "\"\"\"\n",
    "\n",
    "import pandas as pd\n",
    "import utm\n",
    "\n",
    "starkey = pd.read_csv('./data/starkey.txt')\n",
    "starkey.columns = starkey.columns.str.strip()\n",
    "starkey.head()"
   ]
  },
  {
   "cell_type": "code",
   "execution_count": 2,
   "outputs": [],
   "source": [
    "lat, lon = utm.to_latlon(easting=starkey['UTMGridEast'],\n",
    "                         northing=starkey['UTMGridNorth'],\n",
    "                         zone_number=11,\n",
    "                         northern=True)\n",
    "starkey['UTMGridEast'] = lat\n",
    "starkey['UTMGridNorth'] = lon"
   ],
   "metadata": {
    "collapsed": false,
    "pycharm": {
     "name": "#%%\n"
    }
   }
  },
  {
   "cell_type": "code",
   "execution_count": 3,
   "outputs": [
    {
     "data": {
      "text/plain": "          UTMGrid        lat         lon         Id  StarkeyTime    GMDate  \\\n0  374145 5014200  45.270030 -118.604390  890424E06    168825628  02:08:28   \n1  374265 5010180  45.233879 -118.601844  921228E09    168826022  07:02:02   \n2  377475 5015730  45.284385 -118.562334  890222E01    168826135  08:55:55   \n3  374805 5018490  45.308749 -118.597063  910313E19    168826274  01:11:14   \n4  377055 5008470  45.218985 -118.565890  910313E37    168826332  01:21:12   \n\n     GMTime   LocDate   LocTime  RadNum Species    UTME     UTMN  Year  \\\n0  19930507  19930506  18:08:28      59       E  374137  5014190    93   \n1  19930507  19930506  23:02:02      57       E  374262  5010176    93   \n2  19930507  19930507  00:55:55      46       E  377477  5015745    93   \n3  19930507  19930506  17:11:14      54       E  374795  5018503    93   \n4  19930507  19930506  17:21:12      67       E  377053  5008474    93   \n\n   Grensunr  Grensuns  Obswt  \n0  12:34:00  03:10:00   1.62  \n1  12:34:00  03:10:00   1.36  \n2  12:34:00  03:10:00   1.68  \n3  12:34:00  03:10:00   1.43  \n4  12:34:00  03:10:00   1.73  ",
      "text/html": "<div>\n<style scoped>\n    .dataframe tbody tr th:only-of-type {\n        vertical-align: middle;\n    }\n\n    .dataframe tbody tr th {\n        vertical-align: top;\n    }\n\n    .dataframe thead th {\n        text-align: right;\n    }\n</style>\n<table border=\"1\" class=\"dataframe\">\n  <thead>\n    <tr style=\"text-align: right;\">\n      <th></th>\n      <th>UTMGrid</th>\n      <th>lat</th>\n      <th>lon</th>\n      <th>Id</th>\n      <th>StarkeyTime</th>\n      <th>GMDate</th>\n      <th>GMTime</th>\n      <th>LocDate</th>\n      <th>LocTime</th>\n      <th>RadNum</th>\n      <th>Species</th>\n      <th>UTME</th>\n      <th>UTMN</th>\n      <th>Year</th>\n      <th>Grensunr</th>\n      <th>Grensuns</th>\n      <th>Obswt</th>\n    </tr>\n  </thead>\n  <tbody>\n    <tr>\n      <th>0</th>\n      <td>374145 5014200</td>\n      <td>45.270030</td>\n      <td>-118.604390</td>\n      <td>890424E06</td>\n      <td>168825628</td>\n      <td>02:08:28</td>\n      <td>19930507</td>\n      <td>19930506</td>\n      <td>18:08:28</td>\n      <td>59</td>\n      <td>E</td>\n      <td>374137</td>\n      <td>5014190</td>\n      <td>93</td>\n      <td>12:34:00</td>\n      <td>03:10:00</td>\n      <td>1.62</td>\n    </tr>\n    <tr>\n      <th>1</th>\n      <td>374265 5010180</td>\n      <td>45.233879</td>\n      <td>-118.601844</td>\n      <td>921228E09</td>\n      <td>168826022</td>\n      <td>07:02:02</td>\n      <td>19930507</td>\n      <td>19930506</td>\n      <td>23:02:02</td>\n      <td>57</td>\n      <td>E</td>\n      <td>374262</td>\n      <td>5010176</td>\n      <td>93</td>\n      <td>12:34:00</td>\n      <td>03:10:00</td>\n      <td>1.36</td>\n    </tr>\n    <tr>\n      <th>2</th>\n      <td>377475 5015730</td>\n      <td>45.284385</td>\n      <td>-118.562334</td>\n      <td>890222E01</td>\n      <td>168826135</td>\n      <td>08:55:55</td>\n      <td>19930507</td>\n      <td>19930507</td>\n      <td>00:55:55</td>\n      <td>46</td>\n      <td>E</td>\n      <td>377477</td>\n      <td>5015745</td>\n      <td>93</td>\n      <td>12:34:00</td>\n      <td>03:10:00</td>\n      <td>1.68</td>\n    </tr>\n    <tr>\n      <th>3</th>\n      <td>374805 5018490</td>\n      <td>45.308749</td>\n      <td>-118.597063</td>\n      <td>910313E19</td>\n      <td>168826274</td>\n      <td>01:11:14</td>\n      <td>19930507</td>\n      <td>19930506</td>\n      <td>17:11:14</td>\n      <td>54</td>\n      <td>E</td>\n      <td>374795</td>\n      <td>5018503</td>\n      <td>93</td>\n      <td>12:34:00</td>\n      <td>03:10:00</td>\n      <td>1.43</td>\n    </tr>\n    <tr>\n      <th>4</th>\n      <td>377055 5008470</td>\n      <td>45.218985</td>\n      <td>-118.565890</td>\n      <td>910313E37</td>\n      <td>168826332</td>\n      <td>01:21:12</td>\n      <td>19930507</td>\n      <td>19930506</td>\n      <td>17:21:12</td>\n      <td>67</td>\n      <td>E</td>\n      <td>377053</td>\n      <td>5008474</td>\n      <td>93</td>\n      <td>12:34:00</td>\n      <td>03:10:00</td>\n      <td>1.73</td>\n    </tr>\n  </tbody>\n</table>\n</div>"
     },
     "execution_count": 3,
     "metadata": {},
     "output_type": "execute_result"
    }
   ],
   "source": [
    "starkey = starkey.rename(columns={'UTMGridEast': 'lat',\n",
    "                                  'UTMGridNorth': 'lon'})\n",
    "starkey.head()"
   ],
   "metadata": {
    "collapsed": false,
    "pycharm": {
     "name": "#%%\n"
    }
   }
  },
  {
   "cell_type": "code",
   "execution_count": 6,
   "outputs": [],
   "source": [
    "import datetime\n",
    "\n",
    "\n",
    "dates = []\n",
    "for i in range(len(starkey['LocDate'])):\n",
    "    date = str(starkey.iloc[i]['LocDate'])\n",
    "    dates.append(f\"{date[0:4]}-{date[4:6]}-{date[6:8]}\")\n"
   ],
   "metadata": {
    "collapsed": false,
    "pycharm": {
     "name": "#%%\n"
    }
   }
  },
  {
   "cell_type": "code",
   "execution_count": 8,
   "outputs": [],
   "source": [
    "dates = pd.to_datetime(dates)\n",
    "times = pd.to_datetime(starkey['LocTime']).dt.time\n",
    "\n",
    "a = [None] * len(starkey['LocTime'])\n",
    "for i in range(len(starkey['LocTime'])):\n",
    "    a[i] = datetime.datetime.combine(date=dates[i],\n",
    "                                     time=times[i])"
   ],
   "metadata": {
    "collapsed": false,
    "pycharm": {
     "name": "#%%\n"
    }
   }
  },
  {
   "cell_type": "code",
   "execution_count": 9,
   "outputs": [],
   "source": [
    "datetime= pd.to_datetime(a, format='%Y-%m-%d %H:%M:%S')\n",
    "starkey.insert(0, 'DateTime', datetime)"
   ],
   "metadata": {
    "collapsed": false,
    "pycharm": {
     "name": "#%%\n"
    }
   }
  },
  {
   "cell_type": "code",
   "execution_count": 10,
   "outputs": [
    {
     "data": {
      "text/plain": "             DateTime         UTMGrid        lat         lon         Id  \\\n0 1993-05-06 18:08:28  374145 5014200  45.270030 -118.604390  890424E06   \n1 1993-05-06 23:02:02  374265 5010180  45.233879 -118.601844  921228E09   \n2 1993-05-07 00:55:55  377475 5015730  45.284385 -118.562334  890222E01   \n3 1993-05-06 17:11:14  374805 5018490  45.308749 -118.597063  910313E19   \n4 1993-05-06 17:21:12  377055 5008470  45.218985 -118.565890  910313E37   \n\n   StarkeyTime    GMDate    GMTime   LocDate   LocTime  RadNum Species  \\\n0    168825628  02:08:28  19930507  19930506  18:08:28      59       E   \n1    168826022  07:02:02  19930507  19930506  23:02:02      57       E   \n2    168826135  08:55:55  19930507  19930507  00:55:55      46       E   \n3    168826274  01:11:14  19930507  19930506  17:11:14      54       E   \n4    168826332  01:21:12  19930507  19930506  17:21:12      67       E   \n\n     UTME     UTMN  Year  Grensunr  Grensuns  Obswt  \n0  374137  5014190    93  12:34:00  03:10:00   1.62  \n1  374262  5010176    93  12:34:00  03:10:00   1.36  \n2  377477  5015745    93  12:34:00  03:10:00   1.68  \n3  374795  5018503    93  12:34:00  03:10:00   1.43  \n4  377053  5008474    93  12:34:00  03:10:00   1.73  ",
      "text/html": "<div>\n<style scoped>\n    .dataframe tbody tr th:only-of-type {\n        vertical-align: middle;\n    }\n\n    .dataframe tbody tr th {\n        vertical-align: top;\n    }\n\n    .dataframe thead th {\n        text-align: right;\n    }\n</style>\n<table border=\"1\" class=\"dataframe\">\n  <thead>\n    <tr style=\"text-align: right;\">\n      <th></th>\n      <th>DateTime</th>\n      <th>UTMGrid</th>\n      <th>lat</th>\n      <th>lon</th>\n      <th>Id</th>\n      <th>StarkeyTime</th>\n      <th>GMDate</th>\n      <th>GMTime</th>\n      <th>LocDate</th>\n      <th>LocTime</th>\n      <th>RadNum</th>\n      <th>Species</th>\n      <th>UTME</th>\n      <th>UTMN</th>\n      <th>Year</th>\n      <th>Grensunr</th>\n      <th>Grensuns</th>\n      <th>Obswt</th>\n    </tr>\n  </thead>\n  <tbody>\n    <tr>\n      <th>0</th>\n      <td>1993-05-06 18:08:28</td>\n      <td>374145 5014200</td>\n      <td>45.270030</td>\n      <td>-118.604390</td>\n      <td>890424E06</td>\n      <td>168825628</td>\n      <td>02:08:28</td>\n      <td>19930507</td>\n      <td>19930506</td>\n      <td>18:08:28</td>\n      <td>59</td>\n      <td>E</td>\n      <td>374137</td>\n      <td>5014190</td>\n      <td>93</td>\n      <td>12:34:00</td>\n      <td>03:10:00</td>\n      <td>1.62</td>\n    </tr>\n    <tr>\n      <th>1</th>\n      <td>1993-05-06 23:02:02</td>\n      <td>374265 5010180</td>\n      <td>45.233879</td>\n      <td>-118.601844</td>\n      <td>921228E09</td>\n      <td>168826022</td>\n      <td>07:02:02</td>\n      <td>19930507</td>\n      <td>19930506</td>\n      <td>23:02:02</td>\n      <td>57</td>\n      <td>E</td>\n      <td>374262</td>\n      <td>5010176</td>\n      <td>93</td>\n      <td>12:34:00</td>\n      <td>03:10:00</td>\n      <td>1.36</td>\n    </tr>\n    <tr>\n      <th>2</th>\n      <td>1993-05-07 00:55:55</td>\n      <td>377475 5015730</td>\n      <td>45.284385</td>\n      <td>-118.562334</td>\n      <td>890222E01</td>\n      <td>168826135</td>\n      <td>08:55:55</td>\n      <td>19930507</td>\n      <td>19930507</td>\n      <td>00:55:55</td>\n      <td>46</td>\n      <td>E</td>\n      <td>377477</td>\n      <td>5015745</td>\n      <td>93</td>\n      <td>12:34:00</td>\n      <td>03:10:00</td>\n      <td>1.68</td>\n    </tr>\n    <tr>\n      <th>3</th>\n      <td>1993-05-06 17:11:14</td>\n      <td>374805 5018490</td>\n      <td>45.308749</td>\n      <td>-118.597063</td>\n      <td>910313E19</td>\n      <td>168826274</td>\n      <td>01:11:14</td>\n      <td>19930507</td>\n      <td>19930506</td>\n      <td>17:11:14</td>\n      <td>54</td>\n      <td>E</td>\n      <td>374795</td>\n      <td>5018503</td>\n      <td>93</td>\n      <td>12:34:00</td>\n      <td>03:10:00</td>\n      <td>1.43</td>\n    </tr>\n    <tr>\n      <th>4</th>\n      <td>1993-05-06 17:21:12</td>\n      <td>377055 5008470</td>\n      <td>45.218985</td>\n      <td>-118.565890</td>\n      <td>910313E37</td>\n      <td>168826332</td>\n      <td>01:21:12</td>\n      <td>19930507</td>\n      <td>19930506</td>\n      <td>17:21:12</td>\n      <td>67</td>\n      <td>E</td>\n      <td>377053</td>\n      <td>5008474</td>\n      <td>93</td>\n      <td>12:34:00</td>\n      <td>03:10:00</td>\n      <td>1.73</td>\n    </tr>\n  </tbody>\n</table>\n</div>"
     },
     "execution_count": 10,
     "metadata": {},
     "output_type": "execute_result"
    }
   ],
   "source": [
    "starkey.head()"
   ],
   "metadata": {
    "collapsed": false,
    "pycharm": {
     "name": "#%%\n"
    }
   }
  },
  {
   "cell_type": "code",
   "execution_count": 11,
   "outputs": [
    {
     "data": {
      "text/plain": "['DateTime',\n 'UTMGrid',\n 'lat',\n 'lon',\n 'Id',\n 'StarkeyTime',\n 'GMDate',\n 'GMTime',\n 'LocDate',\n 'LocTime',\n 'RadNum',\n 'Species',\n 'UTME',\n 'UTMN',\n 'Year',\n 'Grensunr',\n 'Grensuns',\n 'Obswt']"
     },
     "execution_count": 11,
     "metadata": {},
     "output_type": "execute_result"
    }
   ],
   "source": [
    "starkey.columns.to_list()"
   ],
   "metadata": {
    "collapsed": false,
    "pycharm": {
     "name": "#%%\n"
    }
   }
  },
  {
   "cell_type": "code",
   "execution_count": 12,
   "outputs": [],
   "source": [
    "cols = ['Id', 'DateTime', 'lat', 'lon', 'StarkeyTime', 'GMDate',\n",
    "        'GMTime', 'LocDate', 'LocTime', 'RadNum', 'Species',\n",
    "        'UTME', 'UTMN', 'Year', 'Grensunr', 'Grensuns', 'Obswt']\n",
    "\n",
    "starkey = starkey[cols]"
   ],
   "metadata": {
    "collapsed": false,
    "pycharm": {
     "name": "#%%\n"
    }
   }
  },
  {
   "cell_type": "code",
   "execution_count": 13,
   "outputs": [
    {
     "data": {
      "text/plain": "          Id            DateTime        lat         lon  StarkeyTime  \\\n0  890424E06 1993-05-06 18:08:28  45.270030 -118.604390    168825628   \n1  921228E09 1993-05-06 23:02:02  45.233879 -118.601844    168826022   \n2  890222E01 1993-05-07 00:55:55  45.284385 -118.562334    168826135   \n3  910313E19 1993-05-06 17:11:14  45.308749 -118.597063    168826274   \n4  910313E37 1993-05-06 17:21:12  45.218985 -118.565890    168826332   \n\n     GMDate    GMTime   LocDate   LocTime  RadNum Species    UTME     UTMN  \\\n0  02:08:28  19930507  19930506  18:08:28      59       E  374137  5014190   \n1  07:02:02  19930507  19930506  23:02:02      57       E  374262  5010176   \n2  08:55:55  19930507  19930507  00:55:55      46       E  377477  5015745   \n3  01:11:14  19930507  19930506  17:11:14      54       E  374795  5018503   \n4  01:21:12  19930507  19930506  17:21:12      67       E  377053  5008474   \n\n   Year  Grensunr  Grensuns  Obswt  \n0    93  12:34:00  03:10:00   1.62  \n1    93  12:34:00  03:10:00   1.36  \n2    93  12:34:00  03:10:00   1.68  \n3    93  12:34:00  03:10:00   1.43  \n4    93  12:34:00  03:10:00   1.73  ",
      "text/html": "<div>\n<style scoped>\n    .dataframe tbody tr th:only-of-type {\n        vertical-align: middle;\n    }\n\n    .dataframe tbody tr th {\n        vertical-align: top;\n    }\n\n    .dataframe thead th {\n        text-align: right;\n    }\n</style>\n<table border=\"1\" class=\"dataframe\">\n  <thead>\n    <tr style=\"text-align: right;\">\n      <th></th>\n      <th>Id</th>\n      <th>DateTime</th>\n      <th>lat</th>\n      <th>lon</th>\n      <th>StarkeyTime</th>\n      <th>GMDate</th>\n      <th>GMTime</th>\n      <th>LocDate</th>\n      <th>LocTime</th>\n      <th>RadNum</th>\n      <th>Species</th>\n      <th>UTME</th>\n      <th>UTMN</th>\n      <th>Year</th>\n      <th>Grensunr</th>\n      <th>Grensuns</th>\n      <th>Obswt</th>\n    </tr>\n  </thead>\n  <tbody>\n    <tr>\n      <th>0</th>\n      <td>890424E06</td>\n      <td>1993-05-06 18:08:28</td>\n      <td>45.270030</td>\n      <td>-118.604390</td>\n      <td>168825628</td>\n      <td>02:08:28</td>\n      <td>19930507</td>\n      <td>19930506</td>\n      <td>18:08:28</td>\n      <td>59</td>\n      <td>E</td>\n      <td>374137</td>\n      <td>5014190</td>\n      <td>93</td>\n      <td>12:34:00</td>\n      <td>03:10:00</td>\n      <td>1.62</td>\n    </tr>\n    <tr>\n      <th>1</th>\n      <td>921228E09</td>\n      <td>1993-05-06 23:02:02</td>\n      <td>45.233879</td>\n      <td>-118.601844</td>\n      <td>168826022</td>\n      <td>07:02:02</td>\n      <td>19930507</td>\n      <td>19930506</td>\n      <td>23:02:02</td>\n      <td>57</td>\n      <td>E</td>\n      <td>374262</td>\n      <td>5010176</td>\n      <td>93</td>\n      <td>12:34:00</td>\n      <td>03:10:00</td>\n      <td>1.36</td>\n    </tr>\n    <tr>\n      <th>2</th>\n      <td>890222E01</td>\n      <td>1993-05-07 00:55:55</td>\n      <td>45.284385</td>\n      <td>-118.562334</td>\n      <td>168826135</td>\n      <td>08:55:55</td>\n      <td>19930507</td>\n      <td>19930507</td>\n      <td>00:55:55</td>\n      <td>46</td>\n      <td>E</td>\n      <td>377477</td>\n      <td>5015745</td>\n      <td>93</td>\n      <td>12:34:00</td>\n      <td>03:10:00</td>\n      <td>1.68</td>\n    </tr>\n    <tr>\n      <th>3</th>\n      <td>910313E19</td>\n      <td>1993-05-06 17:11:14</td>\n      <td>45.308749</td>\n      <td>-118.597063</td>\n      <td>168826274</td>\n      <td>01:11:14</td>\n      <td>19930507</td>\n      <td>19930506</td>\n      <td>17:11:14</td>\n      <td>54</td>\n      <td>E</td>\n      <td>374795</td>\n      <td>5018503</td>\n      <td>93</td>\n      <td>12:34:00</td>\n      <td>03:10:00</td>\n      <td>1.43</td>\n    </tr>\n    <tr>\n      <th>4</th>\n      <td>910313E37</td>\n      <td>1993-05-06 17:21:12</td>\n      <td>45.218985</td>\n      <td>-118.565890</td>\n      <td>168826332</td>\n      <td>01:21:12</td>\n      <td>19930507</td>\n      <td>19930506</td>\n      <td>17:21:12</td>\n      <td>67</td>\n      <td>E</td>\n      <td>377053</td>\n      <td>5008474</td>\n      <td>93</td>\n      <td>12:34:00</td>\n      <td>03:10:00</td>\n      <td>1.73</td>\n    </tr>\n  </tbody>\n</table>\n</div>"
     },
     "execution_count": 13,
     "metadata": {},
     "output_type": "execute_result"
    }
   ],
   "source": [
    "starkey.head()"
   ],
   "metadata": {
    "collapsed": false,
    "pycharm": {
     "name": "#%%\n"
    }
   }
  },
  {
   "cell_type": "code",
   "execution_count": 14,
   "outputs": [],
   "source": [
    "starkey.to_csv('./data/starkey.csv', index=False, index_label=False)"
   ],
   "metadata": {
    "collapsed": false,
    "pycharm": {
     "name": "#%%\n"
    }
   }
  },
  {
   "cell_type": "code",
   "execution_count": null,
   "outputs": [],
   "source": [],
   "metadata": {
    "collapsed": false,
    "pycharm": {
     "name": "#%%"
    }
   }
  }
 ],
 "metadata": {
  "kernelspec": {
   "display_name": "Python 3",
   "language": "python",
   "name": "python3"
  },
  "language_info": {
   "codemirror_mode": {
    "name": "ipython",
    "version": 2
   },
   "file_extension": ".py",
   "mimetype": "text/x-python",
   "name": "python",
   "nbconvert_exporter": "python",
   "pygments_lexer": "ipython2",
   "version": "2.7.6"
  }
 },
 "nbformat": 4,
 "nbformat_minor": 0
}