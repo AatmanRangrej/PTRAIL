{
 "cells": [
  {
   "cell_type": "markdown",
   "metadata": {
    "collapsed": true,
    "pycharm": {
     "name": "#%% md\n"
    }
   },
   "source": [
    "<h1> NumMobility </h1>\n",
    "<h2> Temporal and Spatial Feature Comparisons </h2>\n",
    "\n",
    "<p align='justify'>\n",
    "    This Jupyter Notebook compares temporal and spatial features of NumMobility\n",
    "    with some of the popular libraries with similar features. The main aim of\n",
    "    this comparison is to show that with increase in the number of trajectory\n",
    "    ids, NumMobility's use of parallelization makes it faster compared to its\n",
    "    contemporary libraries. The time increase in other librarires is linear\n",
    "    which makes them slower as can be seen from the plot.\n",
    "</p>\n",
    "\n",
    "<hr>\n",
    "\n",
    "<p align='justify'>\n",
    "In this Jupyter Notebook containing comparisons, the following\n",
    "datasets are used:\n",
    "    <ul>\n",
    "        <li> <a href=\"https://github.com/YakshHaranwala/NumMobility/blob/main/examples/data/geolife_sample.csv\"> Geolife Sample </a> </li>\n",
    "        <li> <a href=\"https://github.com/YakshHaranwala/NumMobility/blob/main/examples/data/gulls.csv\"> Seagulls Dataset </a> </li>\n",
    "        <li> <a href=\"https://github.com/YakshHaranwala/NumMobility/blob/main/examples/data/atlantic.csv\"> Hurricane Dataset </a> </li>\n",
    "    </ul>\n",
    "</p>\n",
    "\n",
    "<hr>\n",
    "<p align='justify'>\n",
    "Note: Viewing this notebook in GitHub will not render JavaScript\n",
    "elements. Hence, for a better experience, click the link below\n",
    "to open the Jupyter notebook in NB viewer.\n",
    "\n",
    "<span> &#8618; </span>\n",
    "<a href=\"https://nbviewer.jupyter.org/github/YakshHaranwala/NumMobility/blob/main/examples/6.%20PyMove_Comparisons.ipynb\" target='_blank'> Click Here </a>\n",
    "</p>\n",
    "</html>"
   ]
  },
  {
   "cell_type": "code",
   "execution_count": 1,
   "outputs": [
    {
     "name": "stdout",
     "output_type": "stream",
     "text": [
      "[2, 126, 1814]\n"
     ]
    }
   ],
   "source": [
    "# Importing all the necessary NumMobility modules as\n",
    "# well as all other libraries that are to be compared.\n",
    "\n",
    "from core.TrajectoryDF import NumPandasTraj as TrajDF\n",
    "from utilities.conversions import Conversions as con\n",
    "import pandas as pd\n",
    "from time import time\n",
    "from features.temporal_features import TemporalFeatures as temporal\n",
    "from features.spatial_features import SpatialFeatures as spatial\n",
    "import pymove as pm\n",
    "ids_ = [2, 126, 1814]\n",
    "print(ids_)\n",
    "np_times = []\n",
    "pm_times = []"
   ],
   "metadata": {
    "collapsed": false,
    "pycharm": {
     "name": "#%%\n"
    }
   }
  },
  {
   "cell_type": "code",
   "execution_count": 2,
   "outputs": [
    {
     "data": {
      "text/plain": "                               event-id  visible       lon       lat  \\\ntraj_id DateTime                                                       \n91732   2009-05-27 14:00:00  1082620685     True  24.58617  61.24783   \n        2009-05-27 20:00:00  1082620686     True  24.58217  61.23267   \n        2009-05-28 05:00:00  1082620687     True  24.53133  61.18833   \n        2009-05-28 08:00:00  1082620688     True  24.58200  61.23283   \n        2009-05-28 14:00:00  1082620689     True  24.58250  61.23267   \n\n                            sensor-type individual-taxon-canonical-name  \\\ntraj_id DateTime                                                          \n91732   2009-05-27 14:00:00         gps                    Larus fuscus   \n        2009-05-27 20:00:00         gps                    Larus fuscus   \n        2009-05-28 05:00:00         gps                    Larus fuscus   \n        2009-05-28 08:00:00         gps                    Larus fuscus   \n        2009-05-28 14:00:00         gps                    Larus fuscus   \n\n                            individual-local-identifier  \\\ntraj_id DateTime                                          \n91732   2009-05-27 14:00:00                      91732A   \n        2009-05-27 20:00:00                      91732A   \n        2009-05-28 05:00:00                      91732A   \n        2009-05-28 08:00:00                      91732A   \n        2009-05-28 14:00:00                      91732A   \n\n                                                                    study-name  \ntraj_id DateTime                                                                \n91732   2009-05-27 14:00:00  Navigation experiments in lesser black-backed ...  \n        2009-05-27 20:00:00  Navigation experiments in lesser black-backed ...  \n        2009-05-28 05:00:00  Navigation experiments in lesser black-backed ...  \n        2009-05-28 08:00:00  Navigation experiments in lesser black-backed ...  \n        2009-05-28 14:00:00  Navigation experiments in lesser black-backed ...  ",
      "text/html": "<div>\n<style scoped>\n    .dataframe tbody tr th:only-of-type {\n        vertical-align: middle;\n    }\n\n    .dataframe tbody tr th {\n        vertical-align: top;\n    }\n\n    .dataframe thead th {\n        text-align: right;\n    }\n</style>\n<table border=\"1\" class=\"dataframe\">\n  <thead>\n    <tr style=\"text-align: right;\">\n      <th></th>\n      <th></th>\n      <th>event-id</th>\n      <th>visible</th>\n      <th>lon</th>\n      <th>lat</th>\n      <th>sensor-type</th>\n      <th>individual-taxon-canonical-name</th>\n      <th>individual-local-identifier</th>\n      <th>study-name</th>\n    </tr>\n    <tr>\n      <th>traj_id</th>\n      <th>DateTime</th>\n      <th></th>\n      <th></th>\n      <th></th>\n      <th></th>\n      <th></th>\n      <th></th>\n      <th></th>\n      <th></th>\n    </tr>\n  </thead>\n  <tbody>\n    <tr>\n      <th rowspan=\"5\" valign=\"top\">91732</th>\n      <th>2009-05-27 14:00:00</th>\n      <td>1082620685</td>\n      <td>True</td>\n      <td>24.58617</td>\n      <td>61.24783</td>\n      <td>gps</td>\n      <td>Larus fuscus</td>\n      <td>91732A</td>\n      <td>Navigation experiments in lesser black-backed ...</td>\n    </tr>\n    <tr>\n      <th>2009-05-27 20:00:00</th>\n      <td>1082620686</td>\n      <td>True</td>\n      <td>24.58217</td>\n      <td>61.23267</td>\n      <td>gps</td>\n      <td>Larus fuscus</td>\n      <td>91732A</td>\n      <td>Navigation experiments in lesser black-backed ...</td>\n    </tr>\n    <tr>\n      <th>2009-05-28 05:00:00</th>\n      <td>1082620687</td>\n      <td>True</td>\n      <td>24.53133</td>\n      <td>61.18833</td>\n      <td>gps</td>\n      <td>Larus fuscus</td>\n      <td>91732A</td>\n      <td>Navigation experiments in lesser black-backed ...</td>\n    </tr>\n    <tr>\n      <th>2009-05-28 08:00:00</th>\n      <td>1082620688</td>\n      <td>True</td>\n      <td>24.58200</td>\n      <td>61.23283</td>\n      <td>gps</td>\n      <td>Larus fuscus</td>\n      <td>91732A</td>\n      <td>Navigation experiments in lesser black-backed ...</td>\n    </tr>\n    <tr>\n      <th>2009-05-28 14:00:00</th>\n      <td>1082620689</td>\n      <td>True</td>\n      <td>24.58250</td>\n      <td>61.23267</td>\n      <td>gps</td>\n      <td>Larus fuscus</td>\n      <td>91732A</td>\n      <td>Navigation experiments in lesser black-backed ...</td>\n    </tr>\n  </tbody>\n</table>\n</div>"
     },
     "execution_count": 2,
     "metadata": {},
     "output_type": "execute_result"
    }
   ],
   "source": [
    "\"\"\"\n",
    "    First of all, lets import all the datasets one by one\n",
    "    and check out a few of their points and plot the\n",
    "    dataframe.\n",
    "\"\"\"\n",
    "\n",
    "# Reading the gulls dataset and converting to NumPandasTraj.\n",
    "# Also, lets, print the first 5 points of the dataset to\n",
    "# see how the dataframe looks.\n",
    "gulls = pd.read_csv('./data/gulls.csv')\n",
    "np_gulls = TrajDF(gulls,\n",
    "                latitude='location-lat',\n",
    "                longitude='location-long',\n",
    "                datetime='timestamp',\n",
    "                traj_id='tag-local-identifier',\n",
    "                rest_of_columns=[])\n",
    "np_gulls.head()"
   ],
   "metadata": {
    "collapsed": false,
    "pycharm": {
     "name": "#%%\n"
    }
   }
  },
  {
   "cell_type": "code",
   "execution_count": 3,
   "outputs": [
    {
     "data": {
      "text/plain": "                                             Name      Date  Time Event  \\\ntraj_id  DateTime                                                         \nAL011851 1851-06-25 00:00:00              UNNAMED  18510625     0         \n         1851-06-25 06:00:00              UNNAMED  18510625   600         \n         1851-06-25 12:00:00              UNNAMED  18510625  1200         \n         1851-06-25 18:00:00              UNNAMED  18510625  1800         \n         1851-06-25 21:00:00              UNNAMED  18510625  2100     L   \n\n                             Status   lat   lon  Maximum Wind  \\\ntraj_id  DateTime                                               \nAL011851 1851-06-25 00:00:00     HU  28.0 -94.8            80   \n         1851-06-25 06:00:00     HU  28.0 -95.4            80   \n         1851-06-25 12:00:00     HU  28.0 -96.0            80   \n         1851-06-25 18:00:00     HU  28.1 -96.5            80   \n         1851-06-25 21:00:00     HU  28.2 -96.8            80   \n\n                              Minimum Pressure  Low Wind NE  ...  Low Wind SW  \\\ntraj_id  DateTime                                            ...                \nAL011851 1851-06-25 00:00:00              -999         -999  ...         -999   \n         1851-06-25 06:00:00              -999         -999  ...         -999   \n         1851-06-25 12:00:00              -999         -999  ...         -999   \n         1851-06-25 18:00:00              -999         -999  ...         -999   \n         1851-06-25 21:00:00              -999         -999  ...         -999   \n\n                              Low Wind NW  Moderate Wind NE  Moderate Wind SE  \\\ntraj_id  DateTime                                                               \nAL011851 1851-06-25 00:00:00         -999              -999              -999   \n         1851-06-25 06:00:00         -999              -999              -999   \n         1851-06-25 12:00:00         -999              -999              -999   \n         1851-06-25 18:00:00         -999              -999              -999   \n         1851-06-25 21:00:00         -999              -999              -999   \n\n                              Moderate Wind SW  Moderate Wind NW  \\\ntraj_id  DateTime                                                  \nAL011851 1851-06-25 00:00:00              -999              -999   \n         1851-06-25 06:00:00              -999              -999   \n         1851-06-25 12:00:00              -999              -999   \n         1851-06-25 18:00:00              -999              -999   \n         1851-06-25 21:00:00              -999              -999   \n\n                              High Wind NE  High Wind SE  High Wind SW  \\\ntraj_id  DateTime                                                        \nAL011851 1851-06-25 00:00:00          -999          -999          -999   \n         1851-06-25 06:00:00          -999          -999          -999   \n         1851-06-25 12:00:00          -999          -999          -999   \n         1851-06-25 18:00:00          -999          -999          -999   \n         1851-06-25 21:00:00          -999          -999          -999   \n\n                              High Wind NW  \ntraj_id  DateTime                           \nAL011851 1851-06-25 00:00:00          -999  \n         1851-06-25 06:00:00          -999  \n         1851-06-25 12:00:00          -999  \n         1851-06-25 18:00:00          -999  \n         1851-06-25 21:00:00          -999  \n\n[5 rows x 21 columns]",
      "text/html": "<div>\n<style scoped>\n    .dataframe tbody tr th:only-of-type {\n        vertical-align: middle;\n    }\n\n    .dataframe tbody tr th {\n        vertical-align: top;\n    }\n\n    .dataframe thead th {\n        text-align: right;\n    }\n</style>\n<table border=\"1\" class=\"dataframe\">\n  <thead>\n    <tr style=\"text-align: right;\">\n      <th></th>\n      <th></th>\n      <th>Name</th>\n      <th>Date</th>\n      <th>Time</th>\n      <th>Event</th>\n      <th>Status</th>\n      <th>lat</th>\n      <th>lon</th>\n      <th>Maximum Wind</th>\n      <th>Minimum Pressure</th>\n      <th>Low Wind NE</th>\n      <th>...</th>\n      <th>Low Wind SW</th>\n      <th>Low Wind NW</th>\n      <th>Moderate Wind NE</th>\n      <th>Moderate Wind SE</th>\n      <th>Moderate Wind SW</th>\n      <th>Moderate Wind NW</th>\n      <th>High Wind NE</th>\n      <th>High Wind SE</th>\n      <th>High Wind SW</th>\n      <th>High Wind NW</th>\n    </tr>\n    <tr>\n      <th>traj_id</th>\n      <th>DateTime</th>\n      <th></th>\n      <th></th>\n      <th></th>\n      <th></th>\n      <th></th>\n      <th></th>\n      <th></th>\n      <th></th>\n      <th></th>\n      <th></th>\n      <th></th>\n      <th></th>\n      <th></th>\n      <th></th>\n      <th></th>\n      <th></th>\n      <th></th>\n      <th></th>\n      <th></th>\n      <th></th>\n      <th></th>\n    </tr>\n  </thead>\n  <tbody>\n    <tr>\n      <th rowspan=\"5\" valign=\"top\">AL011851</th>\n      <th>1851-06-25 00:00:00</th>\n      <td>UNNAMED</td>\n      <td>18510625</td>\n      <td>0</td>\n      <td></td>\n      <td>HU</td>\n      <td>28.0</td>\n      <td>-94.8</td>\n      <td>80</td>\n      <td>-999</td>\n      <td>-999</td>\n      <td>...</td>\n      <td>-999</td>\n      <td>-999</td>\n      <td>-999</td>\n      <td>-999</td>\n      <td>-999</td>\n      <td>-999</td>\n      <td>-999</td>\n      <td>-999</td>\n      <td>-999</td>\n      <td>-999</td>\n    </tr>\n    <tr>\n      <th>1851-06-25 06:00:00</th>\n      <td>UNNAMED</td>\n      <td>18510625</td>\n      <td>600</td>\n      <td></td>\n      <td>HU</td>\n      <td>28.0</td>\n      <td>-95.4</td>\n      <td>80</td>\n      <td>-999</td>\n      <td>-999</td>\n      <td>...</td>\n      <td>-999</td>\n      <td>-999</td>\n      <td>-999</td>\n      <td>-999</td>\n      <td>-999</td>\n      <td>-999</td>\n      <td>-999</td>\n      <td>-999</td>\n      <td>-999</td>\n      <td>-999</td>\n    </tr>\n    <tr>\n      <th>1851-06-25 12:00:00</th>\n      <td>UNNAMED</td>\n      <td>18510625</td>\n      <td>1200</td>\n      <td></td>\n      <td>HU</td>\n      <td>28.0</td>\n      <td>-96.0</td>\n      <td>80</td>\n      <td>-999</td>\n      <td>-999</td>\n      <td>...</td>\n      <td>-999</td>\n      <td>-999</td>\n      <td>-999</td>\n      <td>-999</td>\n      <td>-999</td>\n      <td>-999</td>\n      <td>-999</td>\n      <td>-999</td>\n      <td>-999</td>\n      <td>-999</td>\n    </tr>\n    <tr>\n      <th>1851-06-25 18:00:00</th>\n      <td>UNNAMED</td>\n      <td>18510625</td>\n      <td>1800</td>\n      <td></td>\n      <td>HU</td>\n      <td>28.1</td>\n      <td>-96.5</td>\n      <td>80</td>\n      <td>-999</td>\n      <td>-999</td>\n      <td>...</td>\n      <td>-999</td>\n      <td>-999</td>\n      <td>-999</td>\n      <td>-999</td>\n      <td>-999</td>\n      <td>-999</td>\n      <td>-999</td>\n      <td>-999</td>\n      <td>-999</td>\n      <td>-999</td>\n    </tr>\n    <tr>\n      <th>1851-06-25 21:00:00</th>\n      <td>UNNAMED</td>\n      <td>18510625</td>\n      <td>2100</td>\n      <td>L</td>\n      <td>HU</td>\n      <td>28.2</td>\n      <td>-96.8</td>\n      <td>80</td>\n      <td>-999</td>\n      <td>-999</td>\n      <td>...</td>\n      <td>-999</td>\n      <td>-999</td>\n      <td>-999</td>\n      <td>-999</td>\n      <td>-999</td>\n      <td>-999</td>\n      <td>-999</td>\n      <td>-999</td>\n      <td>-999</td>\n      <td>-999</td>\n    </tr>\n  </tbody>\n</table>\n<p>5 rows × 21 columns</p>\n</div>"
     },
     "execution_count": 3,
     "metadata": {},
     "output_type": "execute_result"
    }
   ],
   "source": [
    "\"\"\"\n",
    "    1. Reading the atlantic dataset, cleaning it up and then\n",
    "       converting it to NumPandasTraj.\n",
    "    2. It is to be noted that apart from reading the dataset,\n",
    "       before converting to NumPandasTraj, the dataframe needs\n",
    "       some cleanup as the Time format provided in the dataframe\n",
    "       needs to be first converted into a library supported time\n",
    "       format. Also, the format of the coordinates need to be\n",
    "       converted to library supported format before converting'\n",
    "       it to NumPandasTraj.\n",
    "    3. Also, lets, print the first 5 points of the dataset to\n",
    "      see how the dataframe looks.\n",
    "\"\"\"\n",
    "atlantic = pd.read_csv('./data/atlantic.csv')\n",
    "atlantic = con.convert_directions_to_degree_lat_lon(atlantic, 'Latitude',\"Longitude\")\n",
    "def convert_to_datetime(row):\n",
    "        this_date = '{}-{}-{}'.format(str(row['Date'])[0:4], str(row['Date'])[4:6], str(row['Date'])[6:])\n",
    "        this_time = '{:02d}:{:02d}:00'.format(int(row['Time']/100), int(str(row['Time'])[-2:]))\n",
    "        return '{} {}'.format(this_date, this_time)\n",
    "atlantic['DateTime'] = atlantic.apply(convert_to_datetime, axis=1)\n",
    "np_atlantic = TrajDF(atlantic,\n",
    "                latitude='Latitude',\n",
    "                longitude='Longitude',\n",
    "                datetime='DateTime',\n",
    "                traj_id='ID',\n",
    "                rest_of_columns=[])\n",
    "np_atlantic.head()"
   ],
   "metadata": {
    "collapsed": false,
    "pycharm": {
     "name": "#%%\n"
    }
   }
  },
  {
   "cell_type": "code",
   "execution_count": 4,
   "outputs": [
    {
     "data": {
      "text/plain": "                                   lat         lon\ntraj_id DateTime                                  \n1       2008-10-23 05:53:11  39.984224  116.319402\n        2008-10-23 05:53:16  39.984211  116.319389\n        2008-10-23 05:53:21  39.984217  116.319422\n        2008-10-23 05:53:23  39.984710  116.319865\n        2008-10-23 05:53:28  39.984674  116.319810",
      "text/html": "<div>\n<style scoped>\n    .dataframe tbody tr th:only-of-type {\n        vertical-align: middle;\n    }\n\n    .dataframe tbody tr th {\n        vertical-align: top;\n    }\n\n    .dataframe thead th {\n        text-align: right;\n    }\n</style>\n<table border=\"1\" class=\"dataframe\">\n  <thead>\n    <tr style=\"text-align: right;\">\n      <th></th>\n      <th></th>\n      <th>lat</th>\n      <th>lon</th>\n    </tr>\n    <tr>\n      <th>traj_id</th>\n      <th>DateTime</th>\n      <th></th>\n      <th></th>\n    </tr>\n  </thead>\n  <tbody>\n    <tr>\n      <th rowspan=\"5\" valign=\"top\">1</th>\n      <th>2008-10-23 05:53:11</th>\n      <td>39.984224</td>\n      <td>116.319402</td>\n    </tr>\n    <tr>\n      <th>2008-10-23 05:53:16</th>\n      <td>39.984211</td>\n      <td>116.319389</td>\n    </tr>\n    <tr>\n      <th>2008-10-23 05:53:21</th>\n      <td>39.984217</td>\n      <td>116.319422</td>\n    </tr>\n    <tr>\n      <th>2008-10-23 05:53:23</th>\n      <td>39.984710</td>\n      <td>116.319865</td>\n    </tr>\n    <tr>\n      <th>2008-10-23 05:53:28</th>\n      <td>39.984674</td>\n      <td>116.319810</td>\n    </tr>\n  </tbody>\n</table>\n</div>"
     },
     "execution_count": 4,
     "metadata": {},
     "output_type": "execute_result"
    }
   ],
   "source": [
    "# Reading the geolife dataset and converting to NumPandasTraj.\n",
    "# Also, lets, print the first 5 points of the dataset to\n",
    "# see how the dataframe looks.\n",
    "geolife = pd.read_csv('./data/geolife_sample.csv')\n",
    "np_geolife = TrajDF(geolife,'lat','lon','datetime','id')\n",
    "np_geolife.head()"
   ],
   "metadata": {
    "collapsed": false,
    "pycharm": {
     "name": "#%%\n"
    }
   }
  },
  {
   "cell_type": "code",
   "execution_count": 5,
   "outputs": [
    {
     "data": {
      "text/plain": "     event-id  visible            datetime       lon       lat sensor-type  \\\n0  1082620685     True 2009-05-27 14:00:00  24.58617  61.24783         gps   \n1  1082620686     True 2009-05-27 20:00:00  24.58217  61.23267         gps   \n2  1082620687     True 2009-05-28 05:00:00  24.53133  61.18833         gps   \n3  1082620688     True 2009-05-28 08:00:00  24.58200  61.23283         gps   \n4  1082620689     True 2009-05-28 14:00:00  24.58250  61.23267         gps   \n\n  individual-taxon-canonical-name     id individual-local-identifier  \\\n0                    Larus fuscus  91732                      91732A   \n1                    Larus fuscus  91732                      91732A   \n2                    Larus fuscus  91732                      91732A   \n3                    Larus fuscus  91732                      91732A   \n4                    Larus fuscus  91732                      91732A   \n\n                                          study-name  \n0  Navigation experiments in lesser black-backed ...  \n1  Navigation experiments in lesser black-backed ...  \n2  Navigation experiments in lesser black-backed ...  \n3  Navigation experiments in lesser black-backed ...  \n4  Navigation experiments in lesser black-backed ...  ",
      "text/html": "<div>\n<style scoped>\n    .dataframe tbody tr th:only-of-type {\n        vertical-align: middle;\n    }\n\n    .dataframe tbody tr th {\n        vertical-align: top;\n    }\n\n    .dataframe thead th {\n        text-align: right;\n    }\n</style>\n<table border=\"1\" class=\"dataframe\">\n  <thead>\n    <tr style=\"text-align: right;\">\n      <th></th>\n      <th>event-id</th>\n      <th>visible</th>\n      <th>datetime</th>\n      <th>lon</th>\n      <th>lat</th>\n      <th>sensor-type</th>\n      <th>individual-taxon-canonical-name</th>\n      <th>id</th>\n      <th>individual-local-identifier</th>\n      <th>study-name</th>\n    </tr>\n  </thead>\n  <tbody>\n    <tr>\n      <th>0</th>\n      <td>1082620685</td>\n      <td>True</td>\n      <td>2009-05-27 14:00:00</td>\n      <td>24.58617</td>\n      <td>61.24783</td>\n      <td>gps</td>\n      <td>Larus fuscus</td>\n      <td>91732</td>\n      <td>91732A</td>\n      <td>Navigation experiments in lesser black-backed ...</td>\n    </tr>\n    <tr>\n      <th>1</th>\n      <td>1082620686</td>\n      <td>True</td>\n      <td>2009-05-27 20:00:00</td>\n      <td>24.58217</td>\n      <td>61.23267</td>\n      <td>gps</td>\n      <td>Larus fuscus</td>\n      <td>91732</td>\n      <td>91732A</td>\n      <td>Navigation experiments in lesser black-backed ...</td>\n    </tr>\n    <tr>\n      <th>2</th>\n      <td>1082620687</td>\n      <td>True</td>\n      <td>2009-05-28 05:00:00</td>\n      <td>24.53133</td>\n      <td>61.18833</td>\n      <td>gps</td>\n      <td>Larus fuscus</td>\n      <td>91732</td>\n      <td>91732A</td>\n      <td>Navigation experiments in lesser black-backed ...</td>\n    </tr>\n    <tr>\n      <th>3</th>\n      <td>1082620688</td>\n      <td>True</td>\n      <td>2009-05-28 08:00:00</td>\n      <td>24.58200</td>\n      <td>61.23283</td>\n      <td>gps</td>\n      <td>Larus fuscus</td>\n      <td>91732</td>\n      <td>91732A</td>\n      <td>Navigation experiments in lesser black-backed ...</td>\n    </tr>\n    <tr>\n      <th>4</th>\n      <td>1082620689</td>\n      <td>True</td>\n      <td>2009-05-28 14:00:00</td>\n      <td>24.58250</td>\n      <td>61.23267</td>\n      <td>gps</td>\n      <td>Larus fuscus</td>\n      <td>91732</td>\n      <td>91732A</td>\n      <td>Navigation experiments in lesser black-backed ...</td>\n    </tr>\n  </tbody>\n</table>\n</div>"
     },
     "execution_count": 5,
     "metadata": {},
     "output_type": "execute_result"
    }
   ],
   "source": [
    "# Importing PyMove dataframes and then checking out\n",
    "# their heads.\n",
    "\n",
    "pm_gulls = pm.PandasMoveDataFrame(data=gulls,\n",
    "                                  latitude='location-lat',\n",
    "                                  longitude='location-long',\n",
    "                                  datetime='timestamp',\n",
    "                                  traj_id='tag-local-identifier')\n",
    "pm_gulls.head()"
   ],
   "metadata": {
    "collapsed": false,
    "pycharm": {
     "name": "#%%\n"
    }
   }
  },
  {
   "cell_type": "code",
   "execution_count": 6,
   "outputs": [
    {
     "data": {
      "text/plain": "         id                 Name      Date  Time Event Status   lat   lon  \\\n0  AL011851              UNNAMED  18510625     0           HU  28.0 -94.8   \n1  AL011851              UNNAMED  18510625   600           HU  28.0 -95.4   \n2  AL011851              UNNAMED  18510625  1200           HU  28.0 -96.0   \n3  AL011851              UNNAMED  18510625  1800           HU  28.1 -96.5   \n4  AL011851              UNNAMED  18510625  2100     L     HU  28.2 -96.8   \n\n   Maximum Wind  Minimum Pressure  ...  Low Wind NW  Moderate Wind NE  \\\n0            80              -999  ...         -999              -999   \n1            80              -999  ...         -999              -999   \n2            80              -999  ...         -999              -999   \n3            80              -999  ...         -999              -999   \n4            80              -999  ...         -999              -999   \n\n   Moderate Wind SE  Moderate Wind SW  Moderate Wind NW  High Wind NE  \\\n0              -999              -999              -999          -999   \n1              -999              -999              -999          -999   \n2              -999              -999              -999          -999   \n3              -999              -999              -999          -999   \n4              -999              -999              -999          -999   \n\n   High Wind SE  High Wind SW  High Wind NW            datetime  \n0          -999          -999          -999 1851-06-25 00:00:00  \n1          -999          -999          -999 1851-06-25 06:00:00  \n2          -999          -999          -999 1851-06-25 12:00:00  \n3          -999          -999          -999 1851-06-25 18:00:00  \n4          -999          -999          -999 1851-06-25 21:00:00  \n\n[5 rows x 23 columns]",
      "text/html": "<div>\n<style scoped>\n    .dataframe tbody tr th:only-of-type {\n        vertical-align: middle;\n    }\n\n    .dataframe tbody tr th {\n        vertical-align: top;\n    }\n\n    .dataframe thead th {\n        text-align: right;\n    }\n</style>\n<table border=\"1\" class=\"dataframe\">\n  <thead>\n    <tr style=\"text-align: right;\">\n      <th></th>\n      <th>id</th>\n      <th>Name</th>\n      <th>Date</th>\n      <th>Time</th>\n      <th>Event</th>\n      <th>Status</th>\n      <th>lat</th>\n      <th>lon</th>\n      <th>Maximum Wind</th>\n      <th>Minimum Pressure</th>\n      <th>...</th>\n      <th>Low Wind NW</th>\n      <th>Moderate Wind NE</th>\n      <th>Moderate Wind SE</th>\n      <th>Moderate Wind SW</th>\n      <th>Moderate Wind NW</th>\n      <th>High Wind NE</th>\n      <th>High Wind SE</th>\n      <th>High Wind SW</th>\n      <th>High Wind NW</th>\n      <th>datetime</th>\n    </tr>\n  </thead>\n  <tbody>\n    <tr>\n      <th>0</th>\n      <td>AL011851</td>\n      <td>UNNAMED</td>\n      <td>18510625</td>\n      <td>0</td>\n      <td></td>\n      <td>HU</td>\n      <td>28.0</td>\n      <td>-94.8</td>\n      <td>80</td>\n      <td>-999</td>\n      <td>...</td>\n      <td>-999</td>\n      <td>-999</td>\n      <td>-999</td>\n      <td>-999</td>\n      <td>-999</td>\n      <td>-999</td>\n      <td>-999</td>\n      <td>-999</td>\n      <td>-999</td>\n      <td>1851-06-25 00:00:00</td>\n    </tr>\n    <tr>\n      <th>1</th>\n      <td>AL011851</td>\n      <td>UNNAMED</td>\n      <td>18510625</td>\n      <td>600</td>\n      <td></td>\n      <td>HU</td>\n      <td>28.0</td>\n      <td>-95.4</td>\n      <td>80</td>\n      <td>-999</td>\n      <td>...</td>\n      <td>-999</td>\n      <td>-999</td>\n      <td>-999</td>\n      <td>-999</td>\n      <td>-999</td>\n      <td>-999</td>\n      <td>-999</td>\n      <td>-999</td>\n      <td>-999</td>\n      <td>1851-06-25 06:00:00</td>\n    </tr>\n    <tr>\n      <th>2</th>\n      <td>AL011851</td>\n      <td>UNNAMED</td>\n      <td>18510625</td>\n      <td>1200</td>\n      <td></td>\n      <td>HU</td>\n      <td>28.0</td>\n      <td>-96.0</td>\n      <td>80</td>\n      <td>-999</td>\n      <td>...</td>\n      <td>-999</td>\n      <td>-999</td>\n      <td>-999</td>\n      <td>-999</td>\n      <td>-999</td>\n      <td>-999</td>\n      <td>-999</td>\n      <td>-999</td>\n      <td>-999</td>\n      <td>1851-06-25 12:00:00</td>\n    </tr>\n    <tr>\n      <th>3</th>\n      <td>AL011851</td>\n      <td>UNNAMED</td>\n      <td>18510625</td>\n      <td>1800</td>\n      <td></td>\n      <td>HU</td>\n      <td>28.1</td>\n      <td>-96.5</td>\n      <td>80</td>\n      <td>-999</td>\n      <td>...</td>\n      <td>-999</td>\n      <td>-999</td>\n      <td>-999</td>\n      <td>-999</td>\n      <td>-999</td>\n      <td>-999</td>\n      <td>-999</td>\n      <td>-999</td>\n      <td>-999</td>\n      <td>1851-06-25 18:00:00</td>\n    </tr>\n    <tr>\n      <th>4</th>\n      <td>AL011851</td>\n      <td>UNNAMED</td>\n      <td>18510625</td>\n      <td>2100</td>\n      <td>L</td>\n      <td>HU</td>\n      <td>28.2</td>\n      <td>-96.8</td>\n      <td>80</td>\n      <td>-999</td>\n      <td>...</td>\n      <td>-999</td>\n      <td>-999</td>\n      <td>-999</td>\n      <td>-999</td>\n      <td>-999</td>\n      <td>-999</td>\n      <td>-999</td>\n      <td>-999</td>\n      <td>-999</td>\n      <td>1851-06-25 21:00:00</td>\n    </tr>\n  </tbody>\n</table>\n<p>5 rows × 23 columns</p>\n</div>"
     },
     "execution_count": 6,
     "metadata": {},
     "output_type": "execute_result"
    }
   ],
   "source": [
    "pm_atlantic = pm.PandasMoveDataFrame(data=atlantic,\n",
    "                                     latitude='Latitude',\n",
    "                                     longitude='Longitude',\n",
    "                                     datetime='DateTime',\n",
    "                                     traj_id='ID')\n",
    "pm_atlantic.head()"
   ],
   "metadata": {
    "collapsed": false,
    "pycharm": {
     "name": "#%%\n"
    }
   }
  },
  {
   "cell_type": "code",
   "execution_count": 7,
   "outputs": [
    {
     "data": {
      "text/plain": "         lat         lon            datetime  id\n0  39.984094  116.319236 2008-10-23 16:53:05   1\n1  39.984198  116.319322 2008-10-23 16:53:06   1\n2  39.984224  116.319402 2008-10-23 05:53:11   1\n3  39.984211  116.319389 2008-10-23 05:53:16   1\n4  39.984217  116.319422 2008-10-23 05:53:21   1",
      "text/html": "<div>\n<style scoped>\n    .dataframe tbody tr th:only-of-type {\n        vertical-align: middle;\n    }\n\n    .dataframe tbody tr th {\n        vertical-align: top;\n    }\n\n    .dataframe thead th {\n        text-align: right;\n    }\n</style>\n<table border=\"1\" class=\"dataframe\">\n  <thead>\n    <tr style=\"text-align: right;\">\n      <th></th>\n      <th>lat</th>\n      <th>lon</th>\n      <th>datetime</th>\n      <th>id</th>\n    </tr>\n  </thead>\n  <tbody>\n    <tr>\n      <th>0</th>\n      <td>39.984094</td>\n      <td>116.319236</td>\n      <td>2008-10-23 16:53:05</td>\n      <td>1</td>\n    </tr>\n    <tr>\n      <th>1</th>\n      <td>39.984198</td>\n      <td>116.319322</td>\n      <td>2008-10-23 16:53:06</td>\n      <td>1</td>\n    </tr>\n    <tr>\n      <th>2</th>\n      <td>39.984224</td>\n      <td>116.319402</td>\n      <td>2008-10-23 05:53:11</td>\n      <td>1</td>\n    </tr>\n    <tr>\n      <th>3</th>\n      <td>39.984211</td>\n      <td>116.319389</td>\n      <td>2008-10-23 05:53:16</td>\n      <td>1</td>\n    </tr>\n    <tr>\n      <th>4</th>\n      <td>39.984217</td>\n      <td>116.319422</td>\n      <td>2008-10-23 05:53:21</td>\n      <td>1</td>\n    </tr>\n  </tbody>\n</table>\n</div>"
     },
     "execution_count": 7,
     "metadata": {},
     "output_type": "execute_result"
    }
   ],
   "source": [
    "pm_geolife = pm.PandasMoveDataFrame(geolife,'lat','lon','datetime','id')\n",
    "pm_geolife.head()"
   ],
   "metadata": {
    "collapsed": false,
    "pycharm": {
     "name": "#%%\n"
    }
   }
  },
  {
   "cell_type": "code",
   "execution_count": 8,
   "outputs": [
    {
     "data": {
      "text/plain": "'\\n    PyMove:\\n        1. generate_date_features()\\n        2. generate_day_of_the_week_features()\\n        3. generate_weekend_features()\\n        4. generate_time_of_day_features()\\n\\n    Notes while comparing:\\n        1. Each function is to be run 20 times at least\\n           while comparing to get a good average.\\n        2. We have to plot a graph because we have to show\\n           that when we have more number of ids_, we use\\n           more processors and it makes the code run faster.\\n           (What graph can be plot?)\\n'"
     },
     "execution_count": 8,
     "metadata": {},
     "output_type": "execute_result"
    }
   ],
   "source": [
    "\"\"\"\n",
    "    PyMove:\n",
    "        1. generate_date_features()\n",
    "        2. generate_day_of_the_week_features()\n",
    "        3. generate_weekend_features()\n",
    "        4. generate_time_of_day_features()\n",
    "\n",
    "    Notes while comparing:\n",
    "        1. Each function is to be run 20 times at least\n",
    "           while comparing to get a good average.\n",
    "        2. We have to plot a graph because we have to show\n",
    "           that when we have more number of ids_, we use\n",
    "           more processors and it makes the code run faster.\n",
    "           (What graph can be plot?)\n",
    "\"\"\""
   ],
   "metadata": {
    "collapsed": false,
    "pycharm": {
     "name": "#%%\n"
    }
   }
  },
  {
   "cell_type": "code",
   "execution_count": 9,
   "outputs": [
    {
     "name": "stdout",
     "output_type": "stream",
     "text": [
      "CPU times: user 7.89 s, sys: 172 ms, total: 8.06 s\n",
      "Wall time: 8.07 s\n"
     ]
    }
   ],
   "source": [
    "%%time\n",
    "# First, running all the Temporal functions from NumMobility\n",
    "# 20 times in order to get a good average on the seagulls dataset.\n",
    "\n",
    "\"\"\"\n",
    "    NOTE: The time overhead of converting to NumPandasTraj everytime\n",
    "          while generating a Temporal feature can be handled if\n",
    "          we move the methods from a separate module to the original\n",
    "          DF module which will cut it short to about 1/3rd of the\n",
    "          current execution time. So the question is, should we\n",
    "          do it?\n",
    "\n",
    "    NOTE: Why are we not using other datasets for comparison of\n",
    "          temporal features?\n",
    "    Ans: Since all the temporal features have no parallelization\n",
    "         in them, it is not worthwhile comparing the other datasets\n",
    "         as the execution times will be similar to all other\n",
    "         libraries that are out there.\n",
    "\"\"\"\n",
    "\n",
    "for i in range(20):\n",
    "    np_gulls_t1 = temporal.create_date_column(np_gulls)\n",
    "    np_gulls_t1 = temporal.create_time_of_day_column(np_gulls_t1)\n",
    "    np_gulls_t1 = temporal.create_weekend_indicator_column(np_gulls_t1)\n",
    "    np_gulls_t1 = temporal.create_day_of_week_column(np_gulls_t1)\n"
   ],
   "metadata": {
    "collapsed": false,
    "pycharm": {
     "name": "#%%\n"
    }
   }
  },
  {
   "cell_type": "code",
   "execution_count": 10,
   "outputs": [
    {
     "name": "stdout",
     "output_type": "stream",
     "text": [
      "CPU times: user 2.95 s, sys: 176 ms, total: 3.13 s\n",
      "Wall time: 3.13 s\n"
     ]
    }
   ],
   "source": [
    "%%time\n",
    "# Now, running all the temporal features from PyMove 20 times\n",
    "# in order to get a good average on the seagulls dataset.\n",
    "\n",
    "#NOTE: IT IS TO BE NOTED THAT FOR PyMove, THE TIME FEATURES\n",
    "#      GENERATION IS NOT CONSISTENT AS IT WORKS FOR SOME\n",
    "#      DATASETS AND DOESN'T WORK FOR OTHERS. IT FAILS WHEN\n",
    "#      THE NUMBER OF TRAJECTORY IDs IN A DATASET IS\n",
    "#      CONSIDERABLY HIGHER.\n",
    "\n",
    "for i in range(20):\n",
    "\n",
    "    pm_gulls.generate_date_features(inplace=True)\n",
    "    pm_gulls.generate_weekend_features(inplace=True)\n",
    "    pm_gulls.generate_day_of_the_week_features(inplace=True)\n",
    "    pm_gulls.generate_time_of_day_features(inplace=True)\n"
   ],
   "metadata": {
    "collapsed": false,
    "pycharm": {
     "name": "#%%\n"
    }
   }
  },
  {
   "cell_type": "code",
   "execution_count": 11,
   "outputs": [
    {
     "data": {
      "text/plain": "'\\n    NumMobility\\n    -> create_distance_between_consecutive_column()\\n    -> create_distance_from_start_column()\\n    -> get_distance_travelled_by_date_and_traj_id()\\n    -> create_point_within_range_column()\\n    -> create_distance_from_given_point_column()\\n    -> create_speed_from_prev_column()\\n    -> create_acceleration_from_prev_column()\\n    -> create_jerk_from_prev_column()\\n    -> create_bearing_column()\\n    -> create_bearing_rate_column()\\n    -> create_rate_of_bearing_rate_column()\\n    -> get_distance_travelled_by_traj_id()\\n    -> get_number_of_locations()\\n\\n    PyMove\\n    -> generate_dist_features()\\n    -> generate_speed_features()\\n\\n    MovingPandas\\n    -> add_speed()\\n\\n    TrajLib\\n    -> get_distance()\\n    -> get_speed()\\n    -> get_acc()\\n    -> get_bearing()\\n    -> get_jerk()\\n    -> get_brate()\\n    -> get_brrate()\\n\\n'"
     },
     "execution_count": 11,
     "metadata": {},
     "output_type": "execute_result"
    }
   ],
   "source": [
    "# -----------------------Spatial Features------------------------ #\n",
    "\"\"\"\n",
    "    NumMobility\n",
    "    -> create_distance_between_consecutive_column()\n",
    "    -> create_distance_from_start_column()\n",
    "    -> get_distance_travelled_by_date_and_traj_id()\n",
    "    -> create_point_within_range_column()\n",
    "    -> create_distance_from_given_point_column()\n",
    "    -> create_speed_from_prev_column()\n",
    "    -> create_acceleration_from_prev_column()\n",
    "    -> create_jerk_from_prev_column()\n",
    "    -> create_bearing_column()\n",
    "    -> create_bearing_rate_column()\n",
    "    -> create_rate_of_bearing_rate_column()\n",
    "    -> get_distance_travelled_by_traj_id()\n",
    "    -> get_number_of_locations()\n",
    "\n",
    "    PyMove\n",
    "    -> generate_dist_features()\n",
    "    -> generate_speed_features()\n",
    "\n",
    "    MovingPandas\n",
    "    -> add_speed()\n",
    "\n",
    "    TrajLib\n",
    "    -> get_distance()\n",
    "    -> get_speed()\n",
    "    -> get_acc()\n",
    "    -> get_bearing()\n",
    "    -> get_jerk()\n",
    "    -> get_brate()\n",
    "    -> get_brrate()\n",
    "\n",
    "\"\"\""
   ],
   "metadata": {
    "collapsed": false,
    "pycharm": {
     "name": "#%%\n"
    }
   }
  },
  {
   "cell_type": "code",
   "execution_count": 12,
   "outputs": [
    {
     "name": "stdout",
     "output_type": "stream",
     "text": [
      "CPU times: user 10 s, sys: 704 ms, total: 10.7 s\n",
      "Wall time: 10.7 s\n"
     ]
    }
   ],
   "source": [
    "%%time\n",
    "\n",
    "# For geolife dataset, here we are generating the distance\n",
    "# between consecutive points of a trajectory using NumMobility.\n",
    "np_gl_start = time()\n",
    "for i in range(20):\n",
    "    np_geolife_t1 = spatial.create_distance_between_consecutive_column(np_geolife)\n",
    "    np_geolife_t1 = spatial.create_distance_from_start_column(np_geolife_t1)\n",
    "\n",
    "np_gl_end = time()\n",
    "np_times.append(np_gl_end-np_gl_start)"
   ],
   "metadata": {
    "collapsed": false,
    "pycharm": {
     "name": "#%%\n"
    }
   }
  },
  {
   "cell_type": "code",
   "execution_count": 13,
   "outputs": [
    {
     "data": {
      "text/plain": "VBox(children=(HTML(value=''), IntProgress(value=0, max=2)))",
      "application/vnd.jupyter.widget-view+json": {
       "version_major": 2,
       "version_minor": 0,
       "model_id": "c90df975a4a8455681763f1fd17467dc"
      }
     },
     "metadata": {},
     "output_type": "display_data"
    },
    {
     "data": {
      "text/plain": "VBox(children=(HTML(value=''), IntProgress(value=0, max=2)))",
      "application/vnd.jupyter.widget-view+json": {
       "version_major": 2,
       "version_minor": 0,
       "model_id": "48b2fa7ee8bd4b359b42f94217dc9fc5"
      }
     },
     "metadata": {},
     "output_type": "display_data"
    },
    {
     "data": {
      "text/plain": "VBox(children=(HTML(value=''), IntProgress(value=0, max=2)))",
      "application/vnd.jupyter.widget-view+json": {
       "version_major": 2,
       "version_minor": 0,
       "model_id": "47d91e0010c9484f896a3e220ee71b7a"
      }
     },
     "metadata": {},
     "output_type": "display_data"
    },
    {
     "data": {
      "text/plain": "VBox(children=(HTML(value=''), IntProgress(value=0, max=2)))",
      "application/vnd.jupyter.widget-view+json": {
       "version_major": 2,
       "version_minor": 0,
       "model_id": "e008e79f765b409898e03e06a624075d"
      }
     },
     "metadata": {},
     "output_type": "display_data"
    },
    {
     "data": {
      "text/plain": "VBox(children=(HTML(value=''), IntProgress(value=0, max=2)))",
      "application/vnd.jupyter.widget-view+json": {
       "version_major": 2,
       "version_minor": 0,
       "model_id": "190e74cd5b4a46c381dd51a790f5afde"
      }
     },
     "metadata": {},
     "output_type": "display_data"
    },
    {
     "data": {
      "text/plain": "VBox(children=(HTML(value=''), IntProgress(value=0, max=2)))",
      "application/vnd.jupyter.widget-view+json": {
       "version_major": 2,
       "version_minor": 0,
       "model_id": "6febebb27a754b6b9cbaf0f5fb10d310"
      }
     },
     "metadata": {},
     "output_type": "display_data"
    },
    {
     "data": {
      "text/plain": "VBox(children=(HTML(value=''), IntProgress(value=0, max=2)))",
      "application/vnd.jupyter.widget-view+json": {
       "version_major": 2,
       "version_minor": 0,
       "model_id": "863fb82084874e36a94ee1a266a41ef2"
      }
     },
     "metadata": {},
     "output_type": "display_data"
    },
    {
     "data": {
      "text/plain": "VBox(children=(HTML(value=''), IntProgress(value=0, max=2)))",
      "application/vnd.jupyter.widget-view+json": {
       "version_major": 2,
       "version_minor": 0,
       "model_id": "874aed0670d24ac583f076b07b920185"
      }
     },
     "metadata": {},
     "output_type": "display_data"
    },
    {
     "data": {
      "text/plain": "VBox(children=(HTML(value=''), IntProgress(value=0, max=2)))",
      "application/vnd.jupyter.widget-view+json": {
       "version_major": 2,
       "version_minor": 0,
       "model_id": "4a414760f49d4229a3fcf81918beac53"
      }
     },
     "metadata": {},
     "output_type": "display_data"
    },
    {
     "data": {
      "text/plain": "VBox(children=(HTML(value=''), IntProgress(value=0, max=2)))",
      "application/vnd.jupyter.widget-view+json": {
       "version_major": 2,
       "version_minor": 0,
       "model_id": "e6523ca7e9a94f499004853b3ab591f1"
      }
     },
     "metadata": {},
     "output_type": "display_data"
    },
    {
     "data": {
      "text/plain": "VBox(children=(HTML(value=''), IntProgress(value=0, max=2)))",
      "application/vnd.jupyter.widget-view+json": {
       "version_major": 2,
       "version_minor": 0,
       "model_id": "936df43ab5a1437da47f9b08c178b740"
      }
     },
     "metadata": {},
     "output_type": "display_data"
    },
    {
     "data": {
      "text/plain": "VBox(children=(HTML(value=''), IntProgress(value=0, max=2)))",
      "application/vnd.jupyter.widget-view+json": {
       "version_major": 2,
       "version_minor": 0,
       "model_id": "87529f4f83614db1b5d6a95f5bfd9f2f"
      }
     },
     "metadata": {},
     "output_type": "display_data"
    },
    {
     "data": {
      "text/plain": "VBox(children=(HTML(value=''), IntProgress(value=0, max=2)))",
      "application/vnd.jupyter.widget-view+json": {
       "version_major": 2,
       "version_minor": 0,
       "model_id": "c496b879a60c4d6d83b4e1aa25fd99e8"
      }
     },
     "metadata": {},
     "output_type": "display_data"
    },
    {
     "data": {
      "text/plain": "VBox(children=(HTML(value=''), IntProgress(value=0, max=2)))",
      "application/vnd.jupyter.widget-view+json": {
       "version_major": 2,
       "version_minor": 0,
       "model_id": "42a0dce95aef4667baa97247b38fed1c"
      }
     },
     "metadata": {},
     "output_type": "display_data"
    },
    {
     "data": {
      "text/plain": "VBox(children=(HTML(value=''), IntProgress(value=0, max=2)))",
      "application/vnd.jupyter.widget-view+json": {
       "version_major": 2,
       "version_minor": 0,
       "model_id": "1acd10c4ad574587928ba399e35e6905"
      }
     },
     "metadata": {},
     "output_type": "display_data"
    },
    {
     "data": {
      "text/plain": "VBox(children=(HTML(value=''), IntProgress(value=0, max=2)))",
      "application/vnd.jupyter.widget-view+json": {
       "version_major": 2,
       "version_minor": 0,
       "model_id": "63ca699dbd5245f086211372d7efa858"
      }
     },
     "metadata": {},
     "output_type": "display_data"
    },
    {
     "data": {
      "text/plain": "VBox(children=(HTML(value=''), IntProgress(value=0, max=2)))",
      "application/vnd.jupyter.widget-view+json": {
       "version_major": 2,
       "version_minor": 0,
       "model_id": "362f4d50b6b141fa9aed920aaf26a501"
      }
     },
     "metadata": {},
     "output_type": "display_data"
    },
    {
     "data": {
      "text/plain": "VBox(children=(HTML(value=''), IntProgress(value=0, max=2)))",
      "application/vnd.jupyter.widget-view+json": {
       "version_major": 2,
       "version_minor": 0,
       "model_id": "e67c6c5130ad42b89cdb7ef085022df2"
      }
     },
     "metadata": {},
     "output_type": "display_data"
    },
    {
     "data": {
      "text/plain": "VBox(children=(HTML(value=''), IntProgress(value=0, max=2)))",
      "application/vnd.jupyter.widget-view+json": {
       "version_major": 2,
       "version_minor": 0,
       "model_id": "6522db8a0aa74f5fad4f259ec8ba6590"
      }
     },
     "metadata": {},
     "output_type": "display_data"
    },
    {
     "data": {
      "text/plain": "VBox(children=(HTML(value=''), IntProgress(value=0, max=2)))",
      "application/vnd.jupyter.widget-view+json": {
       "version_major": 2,
       "version_minor": 0,
       "model_id": "7e9122959e6b47b792de17a9838987a5"
      }
     },
     "metadata": {},
     "output_type": "display_data"
    },
    {
     "name": "stdout",
     "output_type": "stream",
     "text": [
      "CPU times: user 3.26 s, sys: 30 ms, total: 3.29 s\n",
      "Wall time: 3.24 s\n"
     ]
    }
   ],
   "source": [
    "%%time\n",
    "# Similarly, we are doing the same as done above using the PyMove\n",
    "# library.\n",
    "pm_gl_start = time()\n",
    "for i in range(20):\n",
    "    pm_geolife.generate_dist_features(inplace=True)\n",
    "\n",
    "pm_gl_end = time()\n",
    "pm_times.append(pm_gl_end - pm_gl_start)"
   ],
   "metadata": {
    "collapsed": false,
    "pycharm": {
     "name": "#%%\n"
    }
   }
  },
  {
   "cell_type": "code",
   "execution_count": 14,
   "outputs": [
    {
     "name": "stdout",
     "output_type": "stream",
     "text": [
      "CPU times: user 7.89 s, sys: 2.08 s, total: 9.97 s\n",
      "Wall time: 18.2 s\n"
     ]
    }
   ],
   "source": [
    "%%time\n",
    "\n",
    "# For seagulls dataset, here we are generating the distance\n",
    "# between consecutive points of a trajectory using NumMobility.\n",
    "np_gull_start = time()\n",
    "for i in range(20):\n",
    "    np_gulls_t2 = spatial.create_distance_between_consecutive_column(np_gulls)\n",
    "    np_gulls_t2 = spatial.create_distance_from_start_column(np_gulls_t2)\n",
    "\n",
    "np_gull_end = time()\n",
    "np_times.append(np_gull_end - np_gull_start)"
   ],
   "metadata": {
    "collapsed": false,
    "pycharm": {
     "name": "#%%\n"
    }
   }
  },
  {
   "cell_type": "code",
   "execution_count": 15,
   "outputs": [
    {
     "data": {
      "text/plain": "VBox(children=(HTML(value=''), IntProgress(value=0, max=126)))",
      "application/vnd.jupyter.widget-view+json": {
       "version_major": 2,
       "version_minor": 0,
       "model_id": "f6e99d84d76548fc9ccebdfb533901c0"
      }
     },
     "metadata": {},
     "output_type": "display_data"
    },
    {
     "data": {
      "text/plain": "VBox(children=(HTML(value=''), IntProgress(value=0, max=126)))",
      "application/vnd.jupyter.widget-view+json": {
       "version_major": 2,
       "version_minor": 0,
       "model_id": "0ed1da4036024b3cb34f6341cc693efe"
      }
     },
     "metadata": {},
     "output_type": "display_data"
    },
    {
     "data": {
      "text/plain": "VBox(children=(HTML(value=''), IntProgress(value=0, max=126)))",
      "application/vnd.jupyter.widget-view+json": {
       "version_major": 2,
       "version_minor": 0,
       "model_id": "045fb2eee353478790081c31cd32ac10"
      }
     },
     "metadata": {},
     "output_type": "display_data"
    },
    {
     "data": {
      "text/plain": "VBox(children=(HTML(value=''), IntProgress(value=0, max=126)))",
      "application/vnd.jupyter.widget-view+json": {
       "version_major": 2,
       "version_minor": 0,
       "model_id": "0f69bd6405fc4f38bc1e6cca4998c1f5"
      }
     },
     "metadata": {},
     "output_type": "display_data"
    },
    {
     "data": {
      "text/plain": "VBox(children=(HTML(value=''), IntProgress(value=0, max=126)))",
      "application/vnd.jupyter.widget-view+json": {
       "version_major": 2,
       "version_minor": 0,
       "model_id": "f337d0e8469641dcafd340654e5d458f"
      }
     },
     "metadata": {},
     "output_type": "display_data"
    },
    {
     "data": {
      "text/plain": "VBox(children=(HTML(value=''), IntProgress(value=0, max=126)))",
      "application/vnd.jupyter.widget-view+json": {
       "version_major": 2,
       "version_minor": 0,
       "model_id": "30ed9fe5a4df42a3a16f4c2356b2122a"
      }
     },
     "metadata": {},
     "output_type": "display_data"
    },
    {
     "data": {
      "text/plain": "VBox(children=(HTML(value=''), IntProgress(value=0, max=126)))",
      "application/vnd.jupyter.widget-view+json": {
       "version_major": 2,
       "version_minor": 0,
       "model_id": "2cf5368e164c4bb6be4741036cf04aa8"
      }
     },
     "metadata": {},
     "output_type": "display_data"
    },
    {
     "data": {
      "text/plain": "VBox(children=(HTML(value=''), IntProgress(value=0, max=126)))",
      "application/vnd.jupyter.widget-view+json": {
       "version_major": 2,
       "version_minor": 0,
       "model_id": "0183a367105f4346859247fa3130a505"
      }
     },
     "metadata": {},
     "output_type": "display_data"
    },
    {
     "data": {
      "text/plain": "VBox(children=(HTML(value=''), IntProgress(value=0, max=126)))",
      "application/vnd.jupyter.widget-view+json": {
       "version_major": 2,
       "version_minor": 0,
       "model_id": "9cea13a2be3441d5a41684d4dfd3a4b9"
      }
     },
     "metadata": {},
     "output_type": "display_data"
    },
    {
     "data": {
      "text/plain": "VBox(children=(HTML(value=''), IntProgress(value=0, max=126)))",
      "application/vnd.jupyter.widget-view+json": {
       "version_major": 2,
       "version_minor": 0,
       "model_id": "c2427942097346b6bf29b7cd1a29a1dd"
      }
     },
     "metadata": {},
     "output_type": "display_data"
    },
    {
     "data": {
      "text/plain": "VBox(children=(HTML(value=''), IntProgress(value=0, max=126)))",
      "application/vnd.jupyter.widget-view+json": {
       "version_major": 2,
       "version_minor": 0,
       "model_id": "aeab491ca02647c3a93cbfae3dbc5f1b"
      }
     },
     "metadata": {},
     "output_type": "display_data"
    },
    {
     "data": {
      "text/plain": "VBox(children=(HTML(value=''), IntProgress(value=0, max=126)))",
      "application/vnd.jupyter.widget-view+json": {
       "version_major": 2,
       "version_minor": 0,
       "model_id": "e2f4d72f55574b35824313873eb03dad"
      }
     },
     "metadata": {},
     "output_type": "display_data"
    },
    {
     "data": {
      "text/plain": "VBox(children=(HTML(value=''), IntProgress(value=0, max=126)))",
      "application/vnd.jupyter.widget-view+json": {
       "version_major": 2,
       "version_minor": 0,
       "model_id": "5901978b54e84a018357f81de99c1db5"
      }
     },
     "metadata": {},
     "output_type": "display_data"
    },
    {
     "data": {
      "text/plain": "VBox(children=(HTML(value=''), IntProgress(value=0, max=126)))",
      "application/vnd.jupyter.widget-view+json": {
       "version_major": 2,
       "version_minor": 0,
       "model_id": "efdd7dfcb438443da59eedee9c940a66"
      }
     },
     "metadata": {},
     "output_type": "display_data"
    },
    {
     "data": {
      "text/plain": "VBox(children=(HTML(value=''), IntProgress(value=0, max=126)))",
      "application/vnd.jupyter.widget-view+json": {
       "version_major": 2,
       "version_minor": 0,
       "model_id": "c4de2c32f9de4f93a773ea189e1cc35e"
      }
     },
     "metadata": {},
     "output_type": "display_data"
    },
    {
     "data": {
      "text/plain": "VBox(children=(HTML(value=''), IntProgress(value=0, max=126)))",
      "application/vnd.jupyter.widget-view+json": {
       "version_major": 2,
       "version_minor": 0,
       "model_id": "fbb2143ed57f4b8aae2d4bb1f54393aa"
      }
     },
     "metadata": {},
     "output_type": "display_data"
    },
    {
     "data": {
      "text/plain": "VBox(children=(HTML(value=''), IntProgress(value=0, max=126)))",
      "application/vnd.jupyter.widget-view+json": {
       "version_major": 2,
       "version_minor": 0,
       "model_id": "545c462ba5894ba28044d6350a7a00c3"
      }
     },
     "metadata": {},
     "output_type": "display_data"
    },
    {
     "data": {
      "text/plain": "VBox(children=(HTML(value=''), IntProgress(value=0, max=126)))",
      "application/vnd.jupyter.widget-view+json": {
       "version_major": 2,
       "version_minor": 0,
       "model_id": "bb7a0ad9584f48a4833b4e8f306e2bac"
      }
     },
     "metadata": {},
     "output_type": "display_data"
    },
    {
     "data": {
      "text/plain": "VBox(children=(HTML(value=''), IntProgress(value=0, max=126)))",
      "application/vnd.jupyter.widget-view+json": {
       "version_major": 2,
       "version_minor": 0,
       "model_id": "23459b2f2e3749cf92ca9dc49ddb2dd1"
      }
     },
     "metadata": {},
     "output_type": "display_data"
    },
    {
     "data": {
      "text/plain": "VBox(children=(HTML(value=''), IntProgress(value=0, max=126)))",
      "application/vnd.jupyter.widget-view+json": {
       "version_major": 2,
       "version_minor": 0,
       "model_id": "7e53176d9c36477ca4417c7dc4ff120b"
      }
     },
     "metadata": {},
     "output_type": "display_data"
    },
    {
     "name": "stdout",
     "output_type": "stream",
     "text": [
      "CPU times: user 11.3 s, sys: 552 ms, total: 11.9 s\n",
      "Wall time: 10.7 s\n"
     ]
    }
   ],
   "source": [
    "%%time\n",
    "\n",
    "# Similarly, we are doing the same as done above using the PyMove\n",
    "# library.\n",
    "\"\"\"\n",
    "    NOTE:\n",
    "        -> PyMove generate_dist_features() creates three different\n",
    "           distance columns.\n",
    "\"\"\"\n",
    "pm_gulls_start = time()\n",
    "for i in range(20):\n",
    "    pm_gulls.generate_dist_features(inplace=True)\n",
    "\n",
    "pm_gulls_end = time()\n",
    "pm_times.append(pm_gulls_end - pm_gulls_start)"
   ],
   "metadata": {
    "collapsed": false,
    "pycharm": {
     "name": "#%%\n"
    }
   }
  },
  {
   "cell_type": "code",
   "execution_count": 16,
   "outputs": [
    {
     "name": "stdout",
     "output_type": "stream",
     "text": [
      "CPU times: user 13.2 s, sys: 8.86 s, total: 22.1 s\n",
      "Wall time: 39.4 s\n"
     ]
    }
   ],
   "source": [
    "%%time\n",
    "\n",
    "# Now, doing the same distance feature generation using NumMobility\n",
    "# on the atlantic hurricane dataset. This is the place where\n",
    "# NumMobility excels because NumMobility uses high degree of\n",
    "# parallelization which is reflected in the execution time of\n",
    "# both the libraries doing similar calculation.\n",
    "np_atl_start = time()\n",
    "for i in range(20):\n",
    "\n",
    "    np_atlantic_t1 = spatial.create_distance_between_consecutive_column(np_atlantic)\n",
    "    np_atlantic_t1 = spatial.create_distance_from_start_column(np_atlantic_t1)\n",
    "\n",
    "np_atl_end = time()\n",
    "np_times.append(np_atl_end - np_atl_start)"
   ],
   "metadata": {
    "collapsed": false,
    "pycharm": {
     "name": "#%%\n"
    }
   }
  },
  {
   "cell_type": "code",
   "execution_count": 17,
   "outputs": [
    {
     "data": {
      "text/plain": "VBox(children=(HTML(value=''), IntProgress(value=0, max=1814)))",
      "application/vnd.jupyter.widget-view+json": {
       "version_major": 2,
       "version_minor": 0,
       "model_id": "256d03f7b34a4a03a4181a17f9dd5813"
      }
     },
     "metadata": {},
     "output_type": "display_data"
    },
    {
     "data": {
      "text/plain": "VBox(children=(HTML(value=''), IntProgress(value=0, max=1814)))",
      "application/vnd.jupyter.widget-view+json": {
       "version_major": 2,
       "version_minor": 0,
       "model_id": "49d329113eef47bab2772a5144ec47db"
      }
     },
     "metadata": {},
     "output_type": "display_data"
    },
    {
     "data": {
      "text/plain": "VBox(children=(HTML(value=''), IntProgress(value=0, max=1814)))",
      "application/vnd.jupyter.widget-view+json": {
       "version_major": 2,
       "version_minor": 0,
       "model_id": "626ab7c4af1e40d3acec828c85ef39eb"
      }
     },
     "metadata": {},
     "output_type": "display_data"
    },
    {
     "data": {
      "text/plain": "VBox(children=(HTML(value=''), IntProgress(value=0, max=1814)))",
      "application/vnd.jupyter.widget-view+json": {
       "version_major": 2,
       "version_minor": 0,
       "model_id": "de4a95d76157495c9666cfca52bd94e8"
      }
     },
     "metadata": {},
     "output_type": "display_data"
    },
    {
     "data": {
      "text/plain": "VBox(children=(HTML(value=''), IntProgress(value=0, max=1814)))",
      "application/vnd.jupyter.widget-view+json": {
       "version_major": 2,
       "version_minor": 0,
       "model_id": "264b09738b384a1ab51da091f7329374"
      }
     },
     "metadata": {},
     "output_type": "display_data"
    },
    {
     "data": {
      "text/plain": "VBox(children=(HTML(value=''), IntProgress(value=0, max=1814)))",
      "application/vnd.jupyter.widget-view+json": {
       "version_major": 2,
       "version_minor": 0,
       "model_id": "74e377dd3ee842dcbf7fc8af160439fc"
      }
     },
     "metadata": {},
     "output_type": "display_data"
    },
    {
     "data": {
      "text/plain": "VBox(children=(HTML(value=''), IntProgress(value=0, max=1814)))",
      "application/vnd.jupyter.widget-view+json": {
       "version_major": 2,
       "version_minor": 0,
       "model_id": "6e9fe35274fa4a89b46e9ebb49f44cf3"
      }
     },
     "metadata": {},
     "output_type": "display_data"
    },
    {
     "data": {
      "text/plain": "VBox(children=(HTML(value=''), IntProgress(value=0, max=1814)))",
      "application/vnd.jupyter.widget-view+json": {
       "version_major": 2,
       "version_minor": 0,
       "model_id": "f729fdd7592843f5a6166dabb3ba0fe1"
      }
     },
     "metadata": {},
     "output_type": "display_data"
    },
    {
     "data": {
      "text/plain": "VBox(children=(HTML(value=''), IntProgress(value=0, max=1814)))",
      "application/vnd.jupyter.widget-view+json": {
       "version_major": 2,
       "version_minor": 0,
       "model_id": "28ed917be6be4a12a04c7b592c09c9a8"
      }
     },
     "metadata": {},
     "output_type": "display_data"
    },
    {
     "data": {
      "text/plain": "VBox(children=(HTML(value=''), IntProgress(value=0, max=1814)))",
      "application/vnd.jupyter.widget-view+json": {
       "version_major": 2,
       "version_minor": 0,
       "model_id": "824c9a076e9d489f9b29d4ee9f14b18e"
      }
     },
     "metadata": {},
     "output_type": "display_data"
    },
    {
     "data": {
      "text/plain": "VBox(children=(HTML(value=''), IntProgress(value=0, max=1814)))",
      "application/vnd.jupyter.widget-view+json": {
       "version_major": 2,
       "version_minor": 0,
       "model_id": "af5d81fb2d0d4ed2a0d873b4a6611e19"
      }
     },
     "metadata": {},
     "output_type": "display_data"
    },
    {
     "data": {
      "text/plain": "VBox(children=(HTML(value=''), IntProgress(value=0, max=1814)))",
      "application/vnd.jupyter.widget-view+json": {
       "version_major": 2,
       "version_minor": 0,
       "model_id": "69fb1af90850439184aa7d0cc8277c22"
      }
     },
     "metadata": {},
     "output_type": "display_data"
    },
    {
     "data": {
      "text/plain": "VBox(children=(HTML(value=''), IntProgress(value=0, max=1814)))",
      "application/vnd.jupyter.widget-view+json": {
       "version_major": 2,
       "version_minor": 0,
       "model_id": "078c27666418457dbcf87d2366e9583a"
      }
     },
     "metadata": {},
     "output_type": "display_data"
    },
    {
     "data": {
      "text/plain": "VBox(children=(HTML(value=''), IntProgress(value=0, max=1814)))",
      "application/vnd.jupyter.widget-view+json": {
       "version_major": 2,
       "version_minor": 0,
       "model_id": "81cd786ffd7e4a8da09e1734c5668f6e"
      }
     },
     "metadata": {},
     "output_type": "display_data"
    },
    {
     "data": {
      "text/plain": "VBox(children=(HTML(value=''), IntProgress(value=0, max=1814)))",
      "application/vnd.jupyter.widget-view+json": {
       "version_major": 2,
       "version_minor": 0,
       "model_id": "07ae61e8374d4246986cae3de53918e8"
      }
     },
     "metadata": {},
     "output_type": "display_data"
    },
    {
     "data": {
      "text/plain": "VBox(children=(HTML(value=''), IntProgress(value=0, max=1814)))",
      "application/vnd.jupyter.widget-view+json": {
       "version_major": 2,
       "version_minor": 0,
       "model_id": "aa104b293fc544ef9118ceece8b654ef"
      }
     },
     "metadata": {},
     "output_type": "display_data"
    },
    {
     "data": {
      "text/plain": "VBox(children=(HTML(value=''), IntProgress(value=0, max=1814)))",
      "application/vnd.jupyter.widget-view+json": {
       "version_major": 2,
       "version_minor": 0,
       "model_id": "973b73083024448489cc1fee8d5ede44"
      }
     },
     "metadata": {},
     "output_type": "display_data"
    },
    {
     "data": {
      "text/plain": "VBox(children=(HTML(value=''), IntProgress(value=0, max=1814)))",
      "application/vnd.jupyter.widget-view+json": {
       "version_major": 2,
       "version_minor": 0,
       "model_id": "5c3c30c1cf6c426aa746f31a068efb6b"
      }
     },
     "metadata": {},
     "output_type": "display_data"
    },
    {
     "data": {
      "text/plain": "VBox(children=(HTML(value=''), IntProgress(value=0, max=1814)))",
      "application/vnd.jupyter.widget-view+json": {
       "version_major": 2,
       "version_minor": 0,
       "model_id": "83769ef220df4f529f281ff45c046c05"
      }
     },
     "metadata": {},
     "output_type": "display_data"
    },
    {
     "data": {
      "text/plain": "VBox(children=(HTML(value=''), IntProgress(value=0, max=1814)))",
      "application/vnd.jupyter.widget-view+json": {
       "version_major": 2,
       "version_minor": 0,
       "model_id": "da41202bff1b427eb83399324e6aebab"
      }
     },
     "metadata": {},
     "output_type": "display_data"
    },
    {
     "name": "stdout",
     "output_type": "stream",
     "text": [
      "CPU times: user 7min 59s, sys: 1.31 s, total: 8min\n",
      "Wall time: 7min 57s\n"
     ]
    }
   ],
   "source": [
    "%%time\n",
    "\n",
    "# Doing the same distance feature generation using PyMove Library.\n",
    "# Pymove does not use parallelization, it is clearly visible\n",
    "# in the execution time and it runs very slow as compared to\n",
    "# NumMobility when the number of unique Trajectory IDs keep\n",
    "# increasing.\n",
    "\n",
    "pm_atl_start = time()\n",
    "for i in range(20):\n",
    "\n",
    "    pm_atlantic.generate_dist_features(inplace=True)\n",
    "\n",
    "pm_atl_end = time()\n",
    "pm_times.append(pm_atl_end - pm_atl_start)"
   ],
   "metadata": {
    "collapsed": false,
    "pycharm": {
     "name": "#%%\n"
    }
   }
  },
  {
   "cell_type": "code",
   "execution_count": 23,
   "outputs": [
    {
     "data": {
      "text/plain": "Text(0, 0.5, 'Time (s)')"
     },
     "execution_count": 23,
     "metadata": {},
     "output_type": "execute_result"
    },
    {
     "data": {
      "text/plain": "<Figure size 432x288 with 1 Axes>",
      "image/png": "[encoded data removed]"
     },
     "metadata": {
      "needs_background": "light"
     },
     "output_type": "display_data"
    }
   ],
   "source": [
    "# Plot shows the time taken by PyMove and NumMobility to handle datasets\n",
    "# with different number of trajectory ids.\n",
    "import matplotlib.pyplot as plt\n",
    "\n",
    "plt.plot(ids_, np_times),\n",
    "plt.plot(ids_, pm_times)\n",
    "plt.legend(['NumMobility', 'PyMove'])\n",
    "plt.xlabel('Number of IDs', color='white')\n",
    "plt.ylabel('Time (s)', color='white')\n",
    "\n",
    "\n"
   ],
   "metadata": {
    "collapsed": false,
    "pycharm": {
     "name": "#%%\n"
    }
   }
  }
 ],
 "metadata": {
  "kernelspec": {
   "display_name": "Python 3",
   "language": "python",
   "name": "python3"
  },
  "language_info": {
   "codemirror_mode": {
    "name": "ipython",
    "version": 2
   },
   "file_extension": ".py",
   "mimetype": "text/x-python",
   "name": "python",
   "nbconvert_exporter": "python",
   "pygments_lexer": "ipython2",
   "version": "2.7.6"
  }
 },
 "nbformat": 4,
 "nbformat_minor": 0
}