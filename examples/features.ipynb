{
 "cells": [
  {
   "cell_type": "code",
   "execution_count": 1,
   "metadata": {
    "collapsed": true
   },
   "outputs": [
    {
     "name": "stdout",
     "output_type": "stream",
     "text": [
      "<class 'core.TrajectoryDF.NumPandasTraj'>\n",
      "CPU times: user 1.1 s, sys: 743 ms, total: 1.85 s\n",
      "Wall time: 734 ms\n"
     ]
    }
   ],
   "source": [
    "%%time\n",
    "\n",
    "from core.TrajectoryDF import NumPandasTraj as NumTrajDF\n",
    "from features.temporal_features import TemporalFeatures as temporal\n",
    "\n",
    "dataframe = NumTrajDF.read_csv('geolife_sample.csv')\n",
    "print(type(dataframe))"
   ]
  },
  {
   "cell_type": "code",
   "execution_count": 2,
   "outputs": [
    {
     "name": "stdout",
     "output_type": "stream",
     "text": [
      "CPU times: user 264 ms, sys: 56 ms, total: 320 ms\n",
      "Wall time: 1.15 s\n"
     ]
    },
    {
     "data": {
      "text/plain": "                                       DateTime  traj_id        lat  \\\nDateTime            traj_id                                           \n2008-10-23 16:53:05 1       2008-10-23 16:53:05        1  39.984094   \n2008-10-23 16:53:06 1       2008-10-23 16:53:06        1  39.984198   \n2008-10-23 05:53:11 1       2008-10-23 05:53:11        1  39.984224   \n2008-10-23 05:53:16 1       2008-10-23 05:53:16        1  39.984211   \n2008-10-23 05:53:21 1       2008-10-23 05:53:21        1  39.984217   \n\n                                    lon        Date  \nDateTime            traj_id                          \n2008-10-23 16:53:05 1        116.319236  2008-10-24  \n2008-10-23 16:53:06 1        116.319322  2008-10-24  \n2008-10-23 05:53:11 1        116.319402  2008-10-24  \n2008-10-23 05:53:16 1        116.319389  2008-10-24  \n2008-10-23 05:53:21 1        116.319422  2008-10-24  ",
      "text/html": "<div>\n<style scoped>\n    .dataframe tbody tr th:only-of-type {\n        vertical-align: middle;\n    }\n\n    .dataframe tbody tr th {\n        vertical-align: top;\n    }\n\n    .dataframe thead th {\n        text-align: right;\n    }\n</style>\n<table border=\"1\" class=\"dataframe\">\n  <thead>\n    <tr style=\"text-align: right;\">\n      <th></th>\n      <th></th>\n      <th>DateTime</th>\n      <th>traj_id</th>\n      <th>lat</th>\n      <th>lon</th>\n      <th>Date</th>\n    </tr>\n    <tr>\n      <th>DateTime</th>\n      <th>traj_id</th>\n      <th></th>\n      <th></th>\n      <th></th>\n      <th></th>\n      <th></th>\n    </tr>\n  </thead>\n  <tbody>\n    <tr>\n      <th>2008-10-23 16:53:05</th>\n      <th>1</th>\n      <td>2008-10-23 16:53:05</td>\n      <td>1</td>\n      <td>39.984094</td>\n      <td>116.319236</td>\n      <td>2008-10-24</td>\n    </tr>\n    <tr>\n      <th>2008-10-23 16:53:06</th>\n      <th>1</th>\n      <td>2008-10-23 16:53:06</td>\n      <td>1</td>\n      <td>39.984198</td>\n      <td>116.319322</td>\n      <td>2008-10-24</td>\n    </tr>\n    <tr>\n      <th>2008-10-23 05:53:11</th>\n      <th>1</th>\n      <td>2008-10-23 05:53:11</td>\n      <td>1</td>\n      <td>39.984224</td>\n      <td>116.319402</td>\n      <td>2008-10-24</td>\n    </tr>\n    <tr>\n      <th>2008-10-23 05:53:16</th>\n      <th>1</th>\n      <td>2008-10-23 05:53:16</td>\n      <td>1</td>\n      <td>39.984211</td>\n      <td>116.319389</td>\n      <td>2008-10-24</td>\n    </tr>\n    <tr>\n      <th>2008-10-23 05:53:21</th>\n      <th>1</th>\n      <td>2008-10-23 05:53:21</td>\n      <td>1</td>\n      <td>39.984217</td>\n      <td>116.319422</td>\n      <td>2008-10-24</td>\n    </tr>\n  </tbody>\n</table>\n</div>"
     },
     "execution_count": 2,
     "metadata": {},
     "output_type": "execute_result"
    }
   ],
   "source": [
    "%%time\n",
    "\n",
    "temporal.create_date_column(dataframe, inplace=True).head()"
   ],
   "metadata": {
    "collapsed": false,
    "pycharm": {
     "name": "#%%\n"
    }
   }
  },
  {
   "cell_type": "code",
   "execution_count": 2,
   "outputs": [],
   "source": [],
   "metadata": {
    "collapsed": false,
    "pycharm": {
     "name": "#%%\n"
    }
   }
  }
 ],
 "metadata": {
  "kernelspec": {
   "display_name": "Python 3",
   "language": "python",
   "name": "python3"
  },
  "language_info": {
   "codemirror_mode": {
    "name": "ipython",
    "version": 2
   },
   "file_extension": ".py",
   "mimetype": "text/x-python",
   "name": "python",
   "nbconvert_exporter": "python",
   "pygments_lexer": "ipython2",
   "version": "2.7.6"
  }
 },
 "nbformat": 4,
 "nbformat_minor": 0
}