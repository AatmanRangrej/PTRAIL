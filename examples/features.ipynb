{
 "cells": [
  {
   "cell_type": "code",
   "execution_count": 1,
   "metadata": {},
   "outputs": [
    {
     "name": "stdout",
     "output_type": "stream",
     "text": [
      "CPU times: user 1.14 s, sys: 598 ms, total: 1.74 s\n",
      "Wall time: 789 ms\n"
     ]
    }
   ],
   "source": [
    "%%time\n",
    "\n",
    "from core.TrajectoryDF import NumPandasTraj as NumTrajDF\n",
    "from features.temporal_features import TemporalFeatures as temporal\n",
    "import pandas as pd\n",
    "\n",
    "dataframe = NumTrajDF.read_csv('geolife_sample.csv')"
   ]
  },
  {
   "cell_type": "code",
   "execution_count": 2,
   "outputs": [
    {
     "name": "stderr",
     "output_type": "stream",
     "text": [
      "Process Process-2:\n",
      "Traceback (most recent call last):\n",
      "  File \"/home/yjharanwala/anaconda3/envs/PreprocessingLibrary/lib/python3.8/multiprocessing/process.py\", line 315, in _bootstrap\n",
      "    self.run()\n",
      "Process Process-3:\n",
      "  File \"/home/yjharanwala/anaconda3/envs/PreprocessingLibrary/lib/python3.8/multiprocessing/process.py\", line 108, in run\n",
      "    self._target(*self._args, **self._kwargs)\n",
      "  File \"/home/yjharanwala/Desktop/NumMobility/features/temporal_features.py\", line 112, in date_extractor\n",
      "    print(matches.dt.date.to_numpy())\n",
      "  File \"/home/yjharanwala/anaconda3/envs/PreprocessingLibrary/lib/python3.8/site-packages/pandas/core/generic.py\", line 5139, in __getattr__\n",
      "    return object.__getattribute__(self, name)\n",
      "AttributeError: 'DataFrame' object has no attribute 'dt'\n",
      "Traceback (most recent call last):\n",
      "  File \"/home/yjharanwala/anaconda3/envs/PreprocessingLibrary/lib/python3.8/multiprocessing/process.py\", line 315, in _bootstrap\n",
      "    self.run()\n",
      "  File \"/home/yjharanwala/anaconda3/envs/PreprocessingLibrary/lib/python3.8/multiprocessing/process.py\", line 108, in run\n",
      "    self._target(*self._args, **self._kwargs)\n",
      "  File \"/home/yjharanwala/Desktop/NumMobility/features/temporal_features.py\", line 112, in date_extractor\n",
      "    print(matches.dt.date.to_numpy())\n",
      "  File \"/home/yjharanwala/anaconda3/envs/PreprocessingLibrary/lib/python3.8/site-packages/pandas/core/generic.py\", line 5139, in __getattr__\n",
      "    return object.__getattribute__(self, name)\n",
      "AttributeError: 'DataFrame' object has no attribute 'dt'\n"
     ]
    },
    {
     "name": "stdout",
     "output_type": "stream",
     "text": [
      "[]\n"
     ]
    },
    {
     "ename": "ValueError",
     "evalue": "Length of values (0) does not match length of index (217653)",
     "output_type": "error",
     "traceback": [
      "\u001B[0;31m---------------------------------------------------------------------------\u001B[0m",
      "\u001B[0;31mValueError\u001B[0m                                Traceback (most recent call last)",
      "\u001B[0;32m<timed eval>\u001B[0m in \u001B[0;36m<module>\u001B[0;34m\u001B[0m\n",
      "\u001B[0;32m~/Desktop/NumMobility/features/temporal_features.py\u001B[0m in \u001B[0;36mcreate_date_column\u001B[0;34m(dataframe, inplace)\u001B[0m\n\u001B[1;32m     85\u001B[0m         \u001B[0mdata\u001B[0m\u001B[0;34m.\u001B[0m\u001B[0mset_index\u001B[0m\u001B[0;34m(\u001B[0m\u001B[0;34m[\u001B[0m\u001B[0mconst\u001B[0m\u001B[0;34m.\u001B[0m\u001B[0mDateTime\u001B[0m\u001B[0;34m,\u001B[0m \u001B[0mconst\u001B[0m\u001B[0;34m.\u001B[0m\u001B[0mTRAJECTORY_ID\u001B[0m\u001B[0;34m]\u001B[0m\u001B[0;34m,\u001B[0m \u001B[0minplace\u001B[0m\u001B[0;34m=\u001B[0m\u001B[0;32mTrue\u001B[0m\u001B[0;34m,\u001B[0m \u001B[0mdrop\u001B[0m\u001B[0;34m=\u001B[0m\u001B[0;32mTrue\u001B[0m\u001B[0;34m)\u001B[0m\u001B[0;34m\u001B[0m\u001B[0;34m\u001B[0m\u001B[0m\n\u001B[1;32m     86\u001B[0m         \u001B[0mprint\u001B[0m\u001B[0;34m(\u001B[0m\u001B[0mdates\u001B[0m\u001B[0;34m)\u001B[0m\u001B[0;34m\u001B[0m\u001B[0;34m\u001B[0m\u001B[0m\n\u001B[0;32m---> 87\u001B[0;31m         \u001B[0mdata\u001B[0m\u001B[0;34m[\u001B[0m\u001B[0;34m'Date'\u001B[0m\u001B[0;34m]\u001B[0m \u001B[0;34m=\u001B[0m \u001B[0mdates\u001B[0m\u001B[0;34m\u001B[0m\u001B[0;34m\u001B[0m\u001B[0m\n\u001B[0m\u001B[1;32m     88\u001B[0m         \u001B[0;32mreturn\u001B[0m \u001B[0mdata\u001B[0m\u001B[0;34m\u001B[0m\u001B[0;34m\u001B[0m\u001B[0m\n\u001B[1;32m     89\u001B[0m \u001B[0;34m\u001B[0m\u001B[0m\n",
      "\u001B[0;32m~/anaconda3/envs/PreprocessingLibrary/lib/python3.8/site-packages/pandas/core/frame.py\u001B[0m in \u001B[0;36m__setitem__\u001B[0;34m(self, key, value)\u001B[0m\n\u001B[1;32m   3042\u001B[0m         \u001B[0;32melse\u001B[0m\u001B[0;34m:\u001B[0m\u001B[0;34m\u001B[0m\u001B[0;34m\u001B[0m\u001B[0m\n\u001B[1;32m   3043\u001B[0m             \u001B[0;31m# set column\u001B[0m\u001B[0;34m\u001B[0m\u001B[0;34m\u001B[0m\u001B[0;34m\u001B[0m\u001B[0m\n\u001B[0;32m-> 3044\u001B[0;31m             \u001B[0mself\u001B[0m\u001B[0;34m.\u001B[0m\u001B[0m_set_item\u001B[0m\u001B[0;34m(\u001B[0m\u001B[0mkey\u001B[0m\u001B[0;34m,\u001B[0m \u001B[0mvalue\u001B[0m\u001B[0;34m)\u001B[0m\u001B[0;34m\u001B[0m\u001B[0;34m\u001B[0m\u001B[0m\n\u001B[0m\u001B[1;32m   3045\u001B[0m \u001B[0;34m\u001B[0m\u001B[0m\n\u001B[1;32m   3046\u001B[0m     \u001B[0;32mdef\u001B[0m \u001B[0m_setitem_slice\u001B[0m\u001B[0;34m(\u001B[0m\u001B[0mself\u001B[0m\u001B[0;34m,\u001B[0m \u001B[0mkey\u001B[0m\u001B[0;34m:\u001B[0m \u001B[0mslice\u001B[0m\u001B[0;34m,\u001B[0m \u001B[0mvalue\u001B[0m\u001B[0;34m)\u001B[0m\u001B[0;34m:\u001B[0m\u001B[0;34m\u001B[0m\u001B[0;34m\u001B[0m\u001B[0m\n",
      "\u001B[0;32m~/anaconda3/envs/PreprocessingLibrary/lib/python3.8/site-packages/pandas/core/frame.py\u001B[0m in \u001B[0;36m_set_item\u001B[0;34m(self, key, value)\u001B[0m\n\u001B[1;32m   3118\u001B[0m         \"\"\"\n\u001B[1;32m   3119\u001B[0m         \u001B[0mself\u001B[0m\u001B[0;34m.\u001B[0m\u001B[0m_ensure_valid_index\u001B[0m\u001B[0;34m(\u001B[0m\u001B[0mvalue\u001B[0m\u001B[0;34m)\u001B[0m\u001B[0;34m\u001B[0m\u001B[0;34m\u001B[0m\u001B[0m\n\u001B[0;32m-> 3120\u001B[0;31m         \u001B[0mvalue\u001B[0m \u001B[0;34m=\u001B[0m \u001B[0mself\u001B[0m\u001B[0;34m.\u001B[0m\u001B[0m_sanitize_column\u001B[0m\u001B[0;34m(\u001B[0m\u001B[0mkey\u001B[0m\u001B[0;34m,\u001B[0m \u001B[0mvalue\u001B[0m\u001B[0;34m)\u001B[0m\u001B[0;34m\u001B[0m\u001B[0;34m\u001B[0m\u001B[0m\n\u001B[0m\u001B[1;32m   3121\u001B[0m         \u001B[0mNDFrame\u001B[0m\u001B[0;34m.\u001B[0m\u001B[0m_set_item\u001B[0m\u001B[0;34m(\u001B[0m\u001B[0mself\u001B[0m\u001B[0;34m,\u001B[0m \u001B[0mkey\u001B[0m\u001B[0;34m,\u001B[0m \u001B[0mvalue\u001B[0m\u001B[0;34m)\u001B[0m\u001B[0;34m\u001B[0m\u001B[0;34m\u001B[0m\u001B[0m\n\u001B[1;32m   3122\u001B[0m \u001B[0;34m\u001B[0m\u001B[0m\n",
      "\u001B[0;32m~/anaconda3/envs/PreprocessingLibrary/lib/python3.8/site-packages/pandas/core/frame.py\u001B[0m in \u001B[0;36m_sanitize_column\u001B[0;34m(self, key, value, broadcast)\u001B[0m\n\u001B[1;32m   3766\u001B[0m \u001B[0;34m\u001B[0m\u001B[0m\n\u001B[1;32m   3767\u001B[0m             \u001B[0;31m# turn me into an ndarray\u001B[0m\u001B[0;34m\u001B[0m\u001B[0;34m\u001B[0m\u001B[0;34m\u001B[0m\u001B[0m\n\u001B[0;32m-> 3768\u001B[0;31m             \u001B[0mvalue\u001B[0m \u001B[0;34m=\u001B[0m \u001B[0msanitize_index\u001B[0m\u001B[0;34m(\u001B[0m\u001B[0mvalue\u001B[0m\u001B[0;34m,\u001B[0m \u001B[0mself\u001B[0m\u001B[0;34m.\u001B[0m\u001B[0mindex\u001B[0m\u001B[0;34m)\u001B[0m\u001B[0;34m\u001B[0m\u001B[0;34m\u001B[0m\u001B[0m\n\u001B[0m\u001B[1;32m   3769\u001B[0m             \u001B[0;32mif\u001B[0m \u001B[0;32mnot\u001B[0m \u001B[0misinstance\u001B[0m\u001B[0;34m(\u001B[0m\u001B[0mvalue\u001B[0m\u001B[0;34m,\u001B[0m \u001B[0;34m(\u001B[0m\u001B[0mnp\u001B[0m\u001B[0;34m.\u001B[0m\u001B[0mndarray\u001B[0m\u001B[0;34m,\u001B[0m \u001B[0mIndex\u001B[0m\u001B[0;34m)\u001B[0m\u001B[0;34m)\u001B[0m\u001B[0;34m:\u001B[0m\u001B[0;34m\u001B[0m\u001B[0;34m\u001B[0m\u001B[0m\n\u001B[1;32m   3770\u001B[0m                 \u001B[0;32mif\u001B[0m \u001B[0misinstance\u001B[0m\u001B[0;34m(\u001B[0m\u001B[0mvalue\u001B[0m\u001B[0;34m,\u001B[0m \u001B[0mlist\u001B[0m\u001B[0;34m)\u001B[0m \u001B[0;32mand\u001B[0m \u001B[0mlen\u001B[0m\u001B[0;34m(\u001B[0m\u001B[0mvalue\u001B[0m\u001B[0;34m)\u001B[0m \u001B[0;34m>\u001B[0m \u001B[0;36m0\u001B[0m\u001B[0;34m:\u001B[0m\u001B[0;34m\u001B[0m\u001B[0;34m\u001B[0m\u001B[0m\n",
      "\u001B[0;32m~/anaconda3/envs/PreprocessingLibrary/lib/python3.8/site-packages/pandas/core/internals/construction.py\u001B[0m in \u001B[0;36msanitize_index\u001B[0;34m(data, index)\u001B[0m\n\u001B[1;32m    745\u001B[0m     \"\"\"\n\u001B[1;32m    746\u001B[0m     \u001B[0;32mif\u001B[0m \u001B[0mlen\u001B[0m\u001B[0;34m(\u001B[0m\u001B[0mdata\u001B[0m\u001B[0;34m)\u001B[0m \u001B[0;34m!=\u001B[0m \u001B[0mlen\u001B[0m\u001B[0;34m(\u001B[0m\u001B[0mindex\u001B[0m\u001B[0;34m)\u001B[0m\u001B[0;34m:\u001B[0m\u001B[0;34m\u001B[0m\u001B[0;34m\u001B[0m\u001B[0m\n\u001B[0;32m--> 747\u001B[0;31m         raise ValueError(\n\u001B[0m\u001B[1;32m    748\u001B[0m             \u001B[0;34m\"Length of values \"\u001B[0m\u001B[0;34m\u001B[0m\u001B[0;34m\u001B[0m\u001B[0m\n\u001B[1;32m    749\u001B[0m             \u001B[0;34mf\"({len(data)}) \"\u001B[0m\u001B[0;34m\u001B[0m\u001B[0;34m\u001B[0m\u001B[0m\n",
      "\u001B[0;31mValueError\u001B[0m: Length of values (0) does not match length of index (217653)"
     ]
    }
   ],
   "source": [
    "%%time\n",
    "\n",
    "temporal.create_date_column(dataframe, inplace=True).head(5)"
   ],
   "metadata": {
    "collapsed": false,
    "pycharm": {
     "name": "#%%\n"
    }
   }
  },
  {
   "cell_type": "code",
   "execution_count": 3,
   "metadata": {
    "pycharm": {
     "name": "#%%\n"
    }
   },
   "outputs": [
    {
     "name": "stdout",
     "output_type": "stream",
     "text": [
      "CPU times: user 1.66 s, sys: 25.5 ms, total: 1.69 s\n",
      "Wall time: 1.69 s\n"
     ]
    },
    {
     "data": {
      "text/plain": "                                   lat         lon        Date\nDateTime            traj_id                                   \n2008-10-23 16:53:05 1        39.984094  116.319236  2008-10-23\n2008-10-23 16:53:06 1        39.984198  116.319322  2008-10-23\n2008-10-23 05:53:11 1        39.984224  116.319402  2008-10-23\n2008-10-23 05:53:16 1        39.984211  116.319389  2008-10-23\n2008-10-23 05:53:21 1        39.984217  116.319422  2008-10-23",
      "text/html": "<div>\n<style scoped>\n    .dataframe tbody tr th:only-of-type {\n        vertical-align: middle;\n    }\n\n    .dataframe tbody tr th {\n        vertical-align: top;\n    }\n\n    .dataframe thead th {\n        text-align: right;\n    }\n</style>\n<table border=\"1\" class=\"dataframe\">\n  <thead>\n    <tr style=\"text-align: right;\">\n      <th></th>\n      <th></th>\n      <th>lat</th>\n      <th>lon</th>\n      <th>Date</th>\n    </tr>\n    <tr>\n      <th>DateTime</th>\n      <th>traj_id</th>\n      <th></th>\n      <th></th>\n      <th></th>\n    </tr>\n  </thead>\n  <tbody>\n    <tr>\n      <th>2008-10-23 16:53:05</th>\n      <th>1</th>\n      <td>39.984094</td>\n      <td>116.319236</td>\n      <td>2008-10-23</td>\n    </tr>\n    <tr>\n      <th>2008-10-23 16:53:06</th>\n      <th>1</th>\n      <td>39.984198</td>\n      <td>116.319322</td>\n      <td>2008-10-23</td>\n    </tr>\n    <tr>\n      <th>2008-10-23 05:53:11</th>\n      <th>1</th>\n      <td>39.984224</td>\n      <td>116.319402</td>\n      <td>2008-10-23</td>\n    </tr>\n    <tr>\n      <th>2008-10-23 05:53:16</th>\n      <th>1</th>\n      <td>39.984211</td>\n      <td>116.319389</td>\n      <td>2008-10-23</td>\n    </tr>\n    <tr>\n      <th>2008-10-23 05:53:21</th>\n      <th>1</th>\n      <td>39.984217</td>\n      <td>116.319422</td>\n      <td>2008-10-23</td>\n    </tr>\n  </tbody>\n</table>\n</div>"
     },
     "execution_count": 3,
     "metadata": {},
     "output_type": "execute_result"
    }
   ],
   "source": [
    "%%time\n",
    "\n",
    "temporal.create_date(dataframe, inplace=True).head(5)"
   ]
  },
  {
   "cell_type": "code",
   "execution_count": 4,
   "metadata": {
    "pycharm": {
     "name": "#%%\n"
    }
   },
   "outputs": [
    {
     "name": "stdout",
     "output_type": "stream",
     "text": [
      "CPU times: user 8.59 s, sys: 60.8 ms, total: 8.66 s\n",
      "Wall time: 8.66 s\n"
     ]
    },
    {
     "data": {
      "text/plain": "         ID                 Name      Date  Time Event Status  Latitude  \\\n0  AL011851              UNNAMED  18510625     0           HU      28.0   \n1  AL011851              UNNAMED  18510625   600           HU      28.0   \n2  AL011851              UNNAMED  18510625  1200           HU      28.0   \n3  AL011851              UNNAMED  18510625  1800           HU      28.1   \n4  AL011851              UNNAMED  18510625  2100     L     HU      28.2   \n\n   Longitude  Maximum Wind  Minimum Pressure  ...  Low Wind SW  Low Wind NW  \\\n0      -94.8            80              -999  ...         -999         -999   \n1      -95.4            80              -999  ...         -999         -999   \n2      -96.0            80              -999  ...         -999         -999   \n3      -96.5            80              -999  ...         -999         -999   \n4      -96.8            80              -999  ...         -999         -999   \n\n   Moderate Wind NE  Moderate Wind SE  Moderate Wind SW  Moderate Wind NW  \\\n0              -999              -999              -999              -999   \n1              -999              -999              -999              -999   \n2              -999              -999              -999              -999   \n3              -999              -999              -999              -999   \n4              -999              -999              -999              -999   \n\n   High Wind NE  High Wind SE  High Wind SW  High Wind NW  \n0          -999          -999          -999          -999  \n1          -999          -999          -999          -999  \n2          -999          -999          -999          -999  \n3          -999          -999          -999          -999  \n4          -999          -999          -999          -999  \n\n[5 rows x 22 columns]",
      "text/html": "<div>\n<style scoped>\n    .dataframe tbody tr th:only-of-type {\n        vertical-align: middle;\n    }\n\n    .dataframe tbody tr th {\n        vertical-align: top;\n    }\n\n    .dataframe thead th {\n        text-align: right;\n    }\n</style>\n<table border=\"1\" class=\"dataframe\">\n  <thead>\n    <tr style=\"text-align: right;\">\n      <th></th>\n      <th>ID</th>\n      <th>Name</th>\n      <th>Date</th>\n      <th>Time</th>\n      <th>Event</th>\n      <th>Status</th>\n      <th>Latitude</th>\n      <th>Longitude</th>\n      <th>Maximum Wind</th>\n      <th>Minimum Pressure</th>\n      <th>...</th>\n      <th>Low Wind SW</th>\n      <th>Low Wind NW</th>\n      <th>Moderate Wind NE</th>\n      <th>Moderate Wind SE</th>\n      <th>Moderate Wind SW</th>\n      <th>Moderate Wind NW</th>\n      <th>High Wind NE</th>\n      <th>High Wind SE</th>\n      <th>High Wind SW</th>\n      <th>High Wind NW</th>\n    </tr>\n  </thead>\n  <tbody>\n    <tr>\n      <th>0</th>\n      <td>AL011851</td>\n      <td>UNNAMED</td>\n      <td>18510625</td>\n      <td>0</td>\n      <td></td>\n      <td>HU</td>\n      <td>28.0</td>\n      <td>-94.8</td>\n      <td>80</td>\n      <td>-999</td>\n      <td>...</td>\n      <td>-999</td>\n      <td>-999</td>\n      <td>-999</td>\n      <td>-999</td>\n      <td>-999</td>\n      <td>-999</td>\n      <td>-999</td>\n      <td>-999</td>\n      <td>-999</td>\n      <td>-999</td>\n    </tr>\n    <tr>\n      <th>1</th>\n      <td>AL011851</td>\n      <td>UNNAMED</td>\n      <td>18510625</td>\n      <td>600</td>\n      <td></td>\n      <td>HU</td>\n      <td>28.0</td>\n      <td>-95.4</td>\n      <td>80</td>\n      <td>-999</td>\n      <td>...</td>\n      <td>-999</td>\n      <td>-999</td>\n      <td>-999</td>\n      <td>-999</td>\n      <td>-999</td>\n      <td>-999</td>\n      <td>-999</td>\n      <td>-999</td>\n      <td>-999</td>\n      <td>-999</td>\n    </tr>\n    <tr>\n      <th>2</th>\n      <td>AL011851</td>\n      <td>UNNAMED</td>\n      <td>18510625</td>\n      <td>1200</td>\n      <td></td>\n      <td>HU</td>\n      <td>28.0</td>\n      <td>-96.0</td>\n      <td>80</td>\n      <td>-999</td>\n      <td>...</td>\n      <td>-999</td>\n      <td>-999</td>\n      <td>-999</td>\n      <td>-999</td>\n      <td>-999</td>\n      <td>-999</td>\n      <td>-999</td>\n      <td>-999</td>\n      <td>-999</td>\n      <td>-999</td>\n    </tr>\n    <tr>\n      <th>3</th>\n      <td>AL011851</td>\n      <td>UNNAMED</td>\n      <td>18510625</td>\n      <td>1800</td>\n      <td></td>\n      <td>HU</td>\n      <td>28.1</td>\n      <td>-96.5</td>\n      <td>80</td>\n      <td>-999</td>\n      <td>...</td>\n      <td>-999</td>\n      <td>-999</td>\n      <td>-999</td>\n      <td>-999</td>\n      <td>-999</td>\n      <td>-999</td>\n      <td>-999</td>\n      <td>-999</td>\n      <td>-999</td>\n      <td>-999</td>\n    </tr>\n    <tr>\n      <th>4</th>\n      <td>AL011851</td>\n      <td>UNNAMED</td>\n      <td>18510625</td>\n      <td>2100</td>\n      <td>L</td>\n      <td>HU</td>\n      <td>28.2</td>\n      <td>-96.8</td>\n      <td>80</td>\n      <td>-999</td>\n      <td>...</td>\n      <td>-999</td>\n      <td>-999</td>\n      <td>-999</td>\n      <td>-999</td>\n      <td>-999</td>\n      <td>-999</td>\n      <td>-999</td>\n      <td>-999</td>\n      <td>-999</td>\n      <td>-999</td>\n    </tr>\n  </tbody>\n</table>\n<p>5 rows × 22 columns</p>\n</div>"
     },
     "execution_count": 4,
     "metadata": {},
     "output_type": "execute_result"
    }
   ],
   "source": [
    "%%time\n",
    "from utilities.conversions import Conversions as con\n",
    "\n",
    "atlantic = pd.read_csv('atlantic.csv')\n",
    "atlantic = con.convert_directions_to_degree_lat_lon(atlantic, 'Latitude',\"Longitude\")\n",
    "atlantic.head()"
   ]
  },
  {
   "cell_type": "code",
   "execution_count": 5,
   "metadata": {
    "pycharm": {
     "name": "#%%\n"
    }
   },
   "outputs": [
    {
     "name": "stdout",
     "output_type": "stream",
     "text": [
      "CPU times: user 2.68 s, sys: 8.01 ms, total: 2.69 s\n",
      "Wall time: 2.69 s\n"
     ]
    },
    {
     "data": {
      "text/plain": "         ID                 Name      Date  Time Event Status  Latitude  \\\n0  AL011851              UNNAMED  18510625     0           HU      28.0   \n1  AL011851              UNNAMED  18510625   600           HU      28.0   \n2  AL011851              UNNAMED  18510625  1200           HU      28.0   \n3  AL011851              UNNAMED  18510625  1800           HU      28.1   \n4  AL011851              UNNAMED  18510625  2100     L     HU      28.2   \n\n   Longitude  Maximum Wind  Minimum Pressure  ...  Low Wind NW  \\\n0      -94.8            80              -999  ...         -999   \n1      -95.4            80              -999  ...         -999   \n2      -96.0            80              -999  ...         -999   \n3      -96.5            80              -999  ...         -999   \n4      -96.8            80              -999  ...         -999   \n\n   Moderate Wind NE  Moderate Wind SE  Moderate Wind SW  Moderate Wind NW  \\\n0              -999              -999              -999              -999   \n1              -999              -999              -999              -999   \n2              -999              -999              -999              -999   \n3              -999              -999              -999              -999   \n4              -999              -999              -999              -999   \n\n   High Wind NE  High Wind SE  High Wind SW  High Wind NW             DateTime  \n0          -999          -999          -999          -999  1851-06-25 00:00:00  \n1          -999          -999          -999          -999  1851-06-25 06:00:00  \n2          -999          -999          -999          -999  1851-06-25 12:00:00  \n3          -999          -999          -999          -999  1851-06-25 18:00:00  \n4          -999          -999          -999          -999  1851-06-25 21:00:00  \n\n[5 rows x 23 columns]",
      "text/html": "<div>\n<style scoped>\n    .dataframe tbody tr th:only-of-type {\n        vertical-align: middle;\n    }\n\n    .dataframe tbody tr th {\n        vertical-align: top;\n    }\n\n    .dataframe thead th {\n        text-align: right;\n    }\n</style>\n<table border=\"1\" class=\"dataframe\">\n  <thead>\n    <tr style=\"text-align: right;\">\n      <th></th>\n      <th>ID</th>\n      <th>Name</th>\n      <th>Date</th>\n      <th>Time</th>\n      <th>Event</th>\n      <th>Status</th>\n      <th>Latitude</th>\n      <th>Longitude</th>\n      <th>Maximum Wind</th>\n      <th>Minimum Pressure</th>\n      <th>...</th>\n      <th>Low Wind NW</th>\n      <th>Moderate Wind NE</th>\n      <th>Moderate Wind SE</th>\n      <th>Moderate Wind SW</th>\n      <th>Moderate Wind NW</th>\n      <th>High Wind NE</th>\n      <th>High Wind SE</th>\n      <th>High Wind SW</th>\n      <th>High Wind NW</th>\n      <th>DateTime</th>\n    </tr>\n  </thead>\n  <tbody>\n    <tr>\n      <th>0</th>\n      <td>AL011851</td>\n      <td>UNNAMED</td>\n      <td>18510625</td>\n      <td>0</td>\n      <td></td>\n      <td>HU</td>\n      <td>28.0</td>\n      <td>-94.8</td>\n      <td>80</td>\n      <td>-999</td>\n      <td>...</td>\n      <td>-999</td>\n      <td>-999</td>\n      <td>-999</td>\n      <td>-999</td>\n      <td>-999</td>\n      <td>-999</td>\n      <td>-999</td>\n      <td>-999</td>\n      <td>-999</td>\n      <td>1851-06-25 00:00:00</td>\n    </tr>\n    <tr>\n      <th>1</th>\n      <td>AL011851</td>\n      <td>UNNAMED</td>\n      <td>18510625</td>\n      <td>600</td>\n      <td></td>\n      <td>HU</td>\n      <td>28.0</td>\n      <td>-95.4</td>\n      <td>80</td>\n      <td>-999</td>\n      <td>...</td>\n      <td>-999</td>\n      <td>-999</td>\n      <td>-999</td>\n      <td>-999</td>\n      <td>-999</td>\n      <td>-999</td>\n      <td>-999</td>\n      <td>-999</td>\n      <td>-999</td>\n      <td>1851-06-25 06:00:00</td>\n    </tr>\n    <tr>\n      <th>2</th>\n      <td>AL011851</td>\n      <td>UNNAMED</td>\n      <td>18510625</td>\n      <td>1200</td>\n      <td></td>\n      <td>HU</td>\n      <td>28.0</td>\n      <td>-96.0</td>\n      <td>80</td>\n      <td>-999</td>\n      <td>...</td>\n      <td>-999</td>\n      <td>-999</td>\n      <td>-999</td>\n      <td>-999</td>\n      <td>-999</td>\n      <td>-999</td>\n      <td>-999</td>\n      <td>-999</td>\n      <td>-999</td>\n      <td>1851-06-25 12:00:00</td>\n    </tr>\n    <tr>\n      <th>3</th>\n      <td>AL011851</td>\n      <td>UNNAMED</td>\n      <td>18510625</td>\n      <td>1800</td>\n      <td></td>\n      <td>HU</td>\n      <td>28.1</td>\n      <td>-96.5</td>\n      <td>80</td>\n      <td>-999</td>\n      <td>...</td>\n      <td>-999</td>\n      <td>-999</td>\n      <td>-999</td>\n      <td>-999</td>\n      <td>-999</td>\n      <td>-999</td>\n      <td>-999</td>\n      <td>-999</td>\n      <td>-999</td>\n      <td>1851-06-25 18:00:00</td>\n    </tr>\n    <tr>\n      <th>4</th>\n      <td>AL011851</td>\n      <td>UNNAMED</td>\n      <td>18510625</td>\n      <td>2100</td>\n      <td>L</td>\n      <td>HU</td>\n      <td>28.2</td>\n      <td>-96.8</td>\n      <td>80</td>\n      <td>-999</td>\n      <td>...</td>\n      <td>-999</td>\n      <td>-999</td>\n      <td>-999</td>\n      <td>-999</td>\n      <td>-999</td>\n      <td>-999</td>\n      <td>-999</td>\n      <td>-999</td>\n      <td>-999</td>\n      <td>1851-06-25 21:00:00</td>\n    </tr>\n  </tbody>\n</table>\n<p>5 rows × 23 columns</p>\n</div>"
     },
     "execution_count": 5,
     "metadata": {},
     "output_type": "execute_result"
    }
   ],
   "source": [
    "%%time\n",
    "# This cell is takefrom the PyMove library.\n",
    "# They are cited in the paper as well.\n",
    "\n",
    "def convert_to_datetime(row):\n",
    "        this_date = '{}-{}-{}'.format(str(row['Date'])[0:4], str(row['Date'])[4:6], str(row['Date'])[6:])\n",
    "        this_time = '{:02d}:{:02d}:00'.format(int(row['Time']/100), int(str(row['Time'])[-2:]))\n",
    "        return '{} {}'.format(this_date, this_time)\n",
    "atlantic['DateTime'] = atlantic.apply(convert_to_datetime, axis=1)\n",
    "atlantic.head()"
   ]
  },
  {
   "cell_type": "code",
   "execution_count": 6,
   "metadata": {
    "pycharm": {
     "name": "#%%\n"
    }
   },
   "outputs": [
    {
     "data": {
      "text/plain": "                                             Name  Time Event Status   lat  \\\nDateTime            traj_id                                                  \n1851-06-25 00:00:00 AL011851              UNNAMED     0           HU  28.0   \n1851-06-25 06:00:00 AL011851              UNNAMED   600           HU  28.0   \n1851-06-25 12:00:00 AL011851              UNNAMED  1200           HU  28.0   \n1851-06-25 18:00:00 AL011851              UNNAMED  1800           HU  28.1   \n1851-06-25 21:00:00 AL011851              UNNAMED  2100     L     HU  28.2   \n\n                               lon  Maximum Wind  Minimum Pressure  \\\nDateTime            traj_id                                          \n1851-06-25 00:00:00 AL011851 -94.8            80              -999   \n1851-06-25 06:00:00 AL011851 -95.4            80              -999   \n1851-06-25 12:00:00 AL011851 -96.0            80              -999   \n1851-06-25 18:00:00 AL011851 -96.5            80              -999   \n1851-06-25 21:00:00 AL011851 -96.8            80              -999   \n\n                              Low Wind NE  Low Wind SE  Low Wind SW  \\\nDateTime            traj_id                                           \n1851-06-25 00:00:00 AL011851         -999         -999         -999   \n1851-06-25 06:00:00 AL011851         -999         -999         -999   \n1851-06-25 12:00:00 AL011851         -999         -999         -999   \n1851-06-25 18:00:00 AL011851         -999         -999         -999   \n1851-06-25 21:00:00 AL011851         -999         -999         -999   \n\n                              Low Wind NW  Moderate Wind NE  Moderate Wind SE  \\\nDateTime            traj_id                                                     \n1851-06-25 00:00:00 AL011851         -999              -999              -999   \n1851-06-25 06:00:00 AL011851         -999              -999              -999   \n1851-06-25 12:00:00 AL011851         -999              -999              -999   \n1851-06-25 18:00:00 AL011851         -999              -999              -999   \n1851-06-25 21:00:00 AL011851         -999              -999              -999   \n\n                              Moderate Wind SW  Moderate Wind NW  \\\nDateTime            traj_id                                        \n1851-06-25 00:00:00 AL011851              -999              -999   \n1851-06-25 06:00:00 AL011851              -999              -999   \n1851-06-25 12:00:00 AL011851              -999              -999   \n1851-06-25 18:00:00 AL011851              -999              -999   \n1851-06-25 21:00:00 AL011851              -999              -999   \n\n                              High Wind NE  High Wind SE  High Wind SW  \\\nDateTime            traj_id                                              \n1851-06-25 00:00:00 AL011851          -999          -999          -999   \n1851-06-25 06:00:00 AL011851          -999          -999          -999   \n1851-06-25 12:00:00 AL011851          -999          -999          -999   \n1851-06-25 18:00:00 AL011851          -999          -999          -999   \n1851-06-25 21:00:00 AL011851          -999          -999          -999   \n\n                              High Wind NW  \nDateTime            traj_id                 \n1851-06-25 00:00:00 AL011851          -999  \n1851-06-25 06:00:00 AL011851          -999  \n1851-06-25 12:00:00 AL011851          -999  \n1851-06-25 18:00:00 AL011851          -999  \n1851-06-25 21:00:00 AL011851          -999  ",
      "text/html": "<div>\n<style scoped>\n    .dataframe tbody tr th:only-of-type {\n        vertical-align: middle;\n    }\n\n    .dataframe tbody tr th {\n        vertical-align: top;\n    }\n\n    .dataframe thead th {\n        text-align: right;\n    }\n</style>\n<table border=\"1\" class=\"dataframe\">\n  <thead>\n    <tr style=\"text-align: right;\">\n      <th></th>\n      <th></th>\n      <th>Name</th>\n      <th>Time</th>\n      <th>Event</th>\n      <th>Status</th>\n      <th>lat</th>\n      <th>lon</th>\n      <th>Maximum Wind</th>\n      <th>Minimum Pressure</th>\n      <th>Low Wind NE</th>\n      <th>Low Wind SE</th>\n      <th>Low Wind SW</th>\n      <th>Low Wind NW</th>\n      <th>Moderate Wind NE</th>\n      <th>Moderate Wind SE</th>\n      <th>Moderate Wind SW</th>\n      <th>Moderate Wind NW</th>\n      <th>High Wind NE</th>\n      <th>High Wind SE</th>\n      <th>High Wind SW</th>\n      <th>High Wind NW</th>\n    </tr>\n    <tr>\n      <th>DateTime</th>\n      <th>traj_id</th>\n      <th></th>\n      <th></th>\n      <th></th>\n      <th></th>\n      <th></th>\n      <th></th>\n      <th></th>\n      <th></th>\n      <th></th>\n      <th></th>\n      <th></th>\n      <th></th>\n      <th></th>\n      <th></th>\n      <th></th>\n      <th></th>\n      <th></th>\n      <th></th>\n      <th></th>\n      <th></th>\n    </tr>\n  </thead>\n  <tbody>\n    <tr>\n      <th>1851-06-25 00:00:00</th>\n      <th>AL011851</th>\n      <td>UNNAMED</td>\n      <td>0</td>\n      <td></td>\n      <td>HU</td>\n      <td>28.0</td>\n      <td>-94.8</td>\n      <td>80</td>\n      <td>-999</td>\n      <td>-999</td>\n      <td>-999</td>\n      <td>-999</td>\n      <td>-999</td>\n      <td>-999</td>\n      <td>-999</td>\n      <td>-999</td>\n      <td>-999</td>\n      <td>-999</td>\n      <td>-999</td>\n      <td>-999</td>\n      <td>-999</td>\n    </tr>\n    <tr>\n      <th>1851-06-25 06:00:00</th>\n      <th>AL011851</th>\n      <td>UNNAMED</td>\n      <td>600</td>\n      <td></td>\n      <td>HU</td>\n      <td>28.0</td>\n      <td>-95.4</td>\n      <td>80</td>\n      <td>-999</td>\n      <td>-999</td>\n      <td>-999</td>\n      <td>-999</td>\n      <td>-999</td>\n      <td>-999</td>\n      <td>-999</td>\n      <td>-999</td>\n      <td>-999</td>\n      <td>-999</td>\n      <td>-999</td>\n      <td>-999</td>\n      <td>-999</td>\n    </tr>\n    <tr>\n      <th>1851-06-25 12:00:00</th>\n      <th>AL011851</th>\n      <td>UNNAMED</td>\n      <td>1200</td>\n      <td></td>\n      <td>HU</td>\n      <td>28.0</td>\n      <td>-96.0</td>\n      <td>80</td>\n      <td>-999</td>\n      <td>-999</td>\n      <td>-999</td>\n      <td>-999</td>\n      <td>-999</td>\n      <td>-999</td>\n      <td>-999</td>\n      <td>-999</td>\n      <td>-999</td>\n      <td>-999</td>\n      <td>-999</td>\n      <td>-999</td>\n      <td>-999</td>\n    </tr>\n    <tr>\n      <th>1851-06-25 18:00:00</th>\n      <th>AL011851</th>\n      <td>UNNAMED</td>\n      <td>1800</td>\n      <td></td>\n      <td>HU</td>\n      <td>28.1</td>\n      <td>-96.5</td>\n      <td>80</td>\n      <td>-999</td>\n      <td>-999</td>\n      <td>-999</td>\n      <td>-999</td>\n      <td>-999</td>\n      <td>-999</td>\n      <td>-999</td>\n      <td>-999</td>\n      <td>-999</td>\n      <td>-999</td>\n      <td>-999</td>\n      <td>-999</td>\n      <td>-999</td>\n    </tr>\n    <tr>\n      <th>1851-06-25 21:00:00</th>\n      <th>AL011851</th>\n      <td>UNNAMED</td>\n      <td>2100</td>\n      <td>L</td>\n      <td>HU</td>\n      <td>28.2</td>\n      <td>-96.8</td>\n      <td>80</td>\n      <td>-999</td>\n      <td>-999</td>\n      <td>-999</td>\n      <td>-999</td>\n      <td>-999</td>\n      <td>-999</td>\n      <td>-999</td>\n      <td>-999</td>\n      <td>-999</td>\n      <td>-999</td>\n      <td>-999</td>\n      <td>-999</td>\n      <td>-999</td>\n    </tr>\n  </tbody>\n</table>\n</div>"
     },
     "execution_count": 6,
     "metadata": {},
     "output_type": "execute_result"
    }
   ],
   "source": [
    "num_atlantic = NumTrajDF(atlantic,\n",
    "                         latitude='Latitude',\n",
    "                         longitude='Longitude',\n",
    "                         datetime='DateTime',\n",
    "                         traj_id='ID',\n",
    "                         rest_of_columns=[])\n",
    "num_atlantic.drop('Date', inplace=True, axis=1)\n",
    "num_atlantic.head()\n"
   ]
  },
  {
   "cell_type": "code",
   "execution_count": null,
   "metadata": {
    "pycharm": {
     "name": "#%%\n",
     "is_executing": true
    }
   },
   "outputs": [
    {
     "name": "stderr",
     "output_type": "stream",
     "text": [
      "Process Process-5:\n",
      "Process Process-6:\n",
      "Process Process-8:\n",
      "Process Process-7:\n",
      "Traceback (most recent call last):\n",
      "Traceback (most recent call last):\n",
      "Traceback (most recent call last):\n",
      "  File \"/home/yjharanwala/anaconda3/envs/PreprocessingLibrary/lib/python3.8/multiprocessing/process.py\", line 315, in _bootstrap\n",
      "    self.run()\n",
      "  File \"/home/yjharanwala/anaconda3/envs/PreprocessingLibrary/lib/python3.8/multiprocessing/process.py\", line 315, in _bootstrap\n",
      "    self.run()\n",
      "  File \"/home/yjharanwala/anaconda3/envs/PreprocessingLibrary/lib/python3.8/multiprocessing/process.py\", line 108, in run\n",
      "    self._target(*self._args, **self._kwargs)\n",
      "  File \"/home/yjharanwala/anaconda3/envs/PreprocessingLibrary/lib/python3.8/multiprocessing/process.py\", line 108, in run\n",
      "    self._target(*self._args, **self._kwargs)\n",
      "  File \"/home/yjharanwala/anaconda3/envs/PreprocessingLibrary/lib/python3.8/multiprocessing/process.py\", line 108, in run\n",
      "    self._target(*self._args, **self._kwargs)\n",
      "  File \"/home/yjharanwala/Desktop/NumMobility/features/temporal_features.py\", line 112, in date_extractor\n",
      "    print(matches.dt.date.to_numpy())\n",
      "  File \"/home/yjharanwala/Desktop/NumMobility/features/temporal_features.py\", line 112, in date_extractor\n",
      "    print(matches.dt.date.to_numpy())\n",
      "Traceback (most recent call last):\n",
      "  File \"/home/yjharanwala/Desktop/NumMobility/features/temporal_features.py\", line 112, in date_extractor\n",
      "    print(matches.dt.date.to_numpy())\n",
      "  File \"/home/yjharanwala/anaconda3/envs/PreprocessingLibrary/lib/python3.8/site-packages/pandas/core/generic.py\", line 5139, in __getattr__\n",
      "    return object.__getattribute__(self, name)\n",
      "  File \"/home/yjharanwala/anaconda3/envs/PreprocessingLibrary/lib/python3.8/site-packages/pandas/core/generic.py\", line 5139, in __getattr__\n",
      "    return object.__getattribute__(self, name)\n",
      "  File \"/home/yjharanwala/anaconda3/envs/PreprocessingLibrary/lib/python3.8/site-packages/pandas/core/generic.py\", line 5139, in __getattr__\n",
      "    return object.__getattribute__(self, name)\n",
      "AttributeError: 'DataFrame' object has no attribute 'dt'\n"
     ]
    }
   ],
   "source": [
    "%%time\n",
    "#\n",
    "temporal.create_date_column(num_atlantic,inplace=True).head()"
   ]
  },
  {
   "cell_type": "code",
   "execution_count": null,
   "metadata": {
    "pycharm": {
     "name": "#%%\n",
     "is_executing": true
    }
   },
   "outputs": [],
   "source": [
    "%%time\n",
    "temporal.create_date(num_atlantic, inplace=True)"
   ]
  },
  {
   "cell_type": "code",
   "execution_count": null,
   "metadata": {
    "pycharm": {
     "name": "#%%\n",
     "is_executing": true
    }
   },
   "outputs": [],
   "source": []
  },
  {
   "cell_type": "code",
   "execution_count": null,
   "outputs": [],
   "source": [],
   "metadata": {
    "collapsed": false,
    "pycharm": {
     "name": "#%%\n",
     "is_executing": true
    }
   }
  }
 ],
 "metadata": {
  "kernelspec": {
   "display_name": "Python 3",
   "language": "python",
   "name": "python3"
  },
  "language_info": {
   "codemirror_mode": {
    "name": "ipython",
    "version": 3
   },
   "file_extension": ".py",
   "mimetype": "text/x-python",
   "name": "python",
   "nbconvert_exporter": "python",
   "pygments_lexer": "ipython3",
   "version": "3.8.10"
  }
 },
 "nbformat": 4,
 "nbformat_minor": 1
}