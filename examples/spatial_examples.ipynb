{
 "cells": [
  {
   "cell_type": "code",
   "execution_count": 1,
   "metadata": {
    "collapsed": true
   },
   "outputs": [],
   "source": [
    "import numpy as np\n",
    "\n",
    "from core.TrajectoryDF import NumPandasTraj as NumTrajDF\n",
    "from features.spatial_features import SpatialFeatures as spatial\n",
    "from utilities.conversions import Conversions as con\n",
    "import pandas as pd\n",
    "import time\n",
    "np.seterr(invalid='ignore')\n",
    "start = time.time()"
   ]
  },
  {
   "cell_type": "code",
   "execution_count": 2,
   "outputs": [
    {
     "name": "stdout",
     "output_type": "stream",
     "text": [
      "CPU times: user 8.42 s, sys: 103 ms, total: 8.53 s\n",
      "Wall time: 8.53 s\n"
     ]
    },
    {
     "data": {
      "text/plain": "                                             Name      Date  Time Event  \\\nDateTime            traj_id                                               \n1851-06-25 00:00:00 AL011851              UNNAMED  18510625     0         \n1851-06-25 06:00:00 AL011851              UNNAMED  18510625   600         \n1851-06-25 12:00:00 AL011851              UNNAMED  18510625  1200         \n1851-06-25 18:00:00 AL011851              UNNAMED  18510625  1800         \n1851-06-25 21:00:00 AL011851              UNNAMED  18510625  2100     L   \n\n                             Status   lat   lon  Maximum Wind  \\\nDateTime            traj_id                                     \n1851-06-25 00:00:00 AL011851     HU  28.0 -94.8            80   \n1851-06-25 06:00:00 AL011851     HU  28.0 -95.4            80   \n1851-06-25 12:00:00 AL011851     HU  28.0 -96.0            80   \n1851-06-25 18:00:00 AL011851     HU  28.1 -96.5            80   \n1851-06-25 21:00:00 AL011851     HU  28.2 -96.8            80   \n\n                              Minimum Pressure  Low Wind NE  ...  Low Wind SW  \\\nDateTime            traj_id                                  ...                \n1851-06-25 00:00:00 AL011851              -999         -999  ...         -999   \n1851-06-25 06:00:00 AL011851              -999         -999  ...         -999   \n1851-06-25 12:00:00 AL011851              -999         -999  ...         -999   \n1851-06-25 18:00:00 AL011851              -999         -999  ...         -999   \n1851-06-25 21:00:00 AL011851              -999         -999  ...         -999   \n\n                              Low Wind NW  Moderate Wind NE  Moderate Wind SE  \\\nDateTime            traj_id                                                     \n1851-06-25 00:00:00 AL011851         -999              -999              -999   \n1851-06-25 06:00:00 AL011851         -999              -999              -999   \n1851-06-25 12:00:00 AL011851         -999              -999              -999   \n1851-06-25 18:00:00 AL011851         -999              -999              -999   \n1851-06-25 21:00:00 AL011851         -999              -999              -999   \n\n                              Moderate Wind SW  Moderate Wind NW  \\\nDateTime            traj_id                                        \n1851-06-25 00:00:00 AL011851              -999              -999   \n1851-06-25 06:00:00 AL011851              -999              -999   \n1851-06-25 12:00:00 AL011851              -999              -999   \n1851-06-25 18:00:00 AL011851              -999              -999   \n1851-06-25 21:00:00 AL011851              -999              -999   \n\n                              High Wind NE  High Wind SE  High Wind SW  \\\nDateTime            traj_id                                              \n1851-06-25 00:00:00 AL011851          -999          -999          -999   \n1851-06-25 06:00:00 AL011851          -999          -999          -999   \n1851-06-25 12:00:00 AL011851          -999          -999          -999   \n1851-06-25 18:00:00 AL011851          -999          -999          -999   \n1851-06-25 21:00:00 AL011851          -999          -999          -999   \n\n                              High Wind NW  \nDateTime            traj_id                 \n1851-06-25 00:00:00 AL011851          -999  \n1851-06-25 06:00:00 AL011851          -999  \n1851-06-25 12:00:00 AL011851          -999  \n1851-06-25 18:00:00 AL011851          -999  \n1851-06-25 21:00:00 AL011851          -999  \n\n[5 rows x 21 columns]",
      "text/html": "<div>\n<style scoped>\n    .dataframe tbody tr th:only-of-type {\n        vertical-align: middle;\n    }\n\n    .dataframe tbody tr th {\n        vertical-align: top;\n    }\n\n    .dataframe thead th {\n        text-align: right;\n    }\n</style>\n<table border=\"1\" class=\"dataframe\">\n  <thead>\n    <tr style=\"text-align: right;\">\n      <th></th>\n      <th></th>\n      <th>Name</th>\n      <th>Date</th>\n      <th>Time</th>\n      <th>Event</th>\n      <th>Status</th>\n      <th>lat</th>\n      <th>lon</th>\n      <th>Maximum Wind</th>\n      <th>Minimum Pressure</th>\n      <th>Low Wind NE</th>\n      <th>...</th>\n      <th>Low Wind SW</th>\n      <th>Low Wind NW</th>\n      <th>Moderate Wind NE</th>\n      <th>Moderate Wind SE</th>\n      <th>Moderate Wind SW</th>\n      <th>Moderate Wind NW</th>\n      <th>High Wind NE</th>\n      <th>High Wind SE</th>\n      <th>High Wind SW</th>\n      <th>High Wind NW</th>\n    </tr>\n    <tr>\n      <th>DateTime</th>\n      <th>traj_id</th>\n      <th></th>\n      <th></th>\n      <th></th>\n      <th></th>\n      <th></th>\n      <th></th>\n      <th></th>\n      <th></th>\n      <th></th>\n      <th></th>\n      <th></th>\n      <th></th>\n      <th></th>\n      <th></th>\n      <th></th>\n      <th></th>\n      <th></th>\n      <th></th>\n      <th></th>\n      <th></th>\n      <th></th>\n    </tr>\n  </thead>\n  <tbody>\n    <tr>\n      <th>1851-06-25 00:00:00</th>\n      <th>AL011851</th>\n      <td>UNNAMED</td>\n      <td>18510625</td>\n      <td>0</td>\n      <td></td>\n      <td>HU</td>\n      <td>28.0</td>\n      <td>-94.8</td>\n      <td>80</td>\n      <td>-999</td>\n      <td>-999</td>\n      <td>...</td>\n      <td>-999</td>\n      <td>-999</td>\n      <td>-999</td>\n      <td>-999</td>\n      <td>-999</td>\n      <td>-999</td>\n      <td>-999</td>\n      <td>-999</td>\n      <td>-999</td>\n      <td>-999</td>\n    </tr>\n    <tr>\n      <th>1851-06-25 06:00:00</th>\n      <th>AL011851</th>\n      <td>UNNAMED</td>\n      <td>18510625</td>\n      <td>600</td>\n      <td></td>\n      <td>HU</td>\n      <td>28.0</td>\n      <td>-95.4</td>\n      <td>80</td>\n      <td>-999</td>\n      <td>-999</td>\n      <td>...</td>\n      <td>-999</td>\n      <td>-999</td>\n      <td>-999</td>\n      <td>-999</td>\n      <td>-999</td>\n      <td>-999</td>\n      <td>-999</td>\n      <td>-999</td>\n      <td>-999</td>\n      <td>-999</td>\n    </tr>\n    <tr>\n      <th>1851-06-25 12:00:00</th>\n      <th>AL011851</th>\n      <td>UNNAMED</td>\n      <td>18510625</td>\n      <td>1200</td>\n      <td></td>\n      <td>HU</td>\n      <td>28.0</td>\n      <td>-96.0</td>\n      <td>80</td>\n      <td>-999</td>\n      <td>-999</td>\n      <td>...</td>\n      <td>-999</td>\n      <td>-999</td>\n      <td>-999</td>\n      <td>-999</td>\n      <td>-999</td>\n      <td>-999</td>\n      <td>-999</td>\n      <td>-999</td>\n      <td>-999</td>\n      <td>-999</td>\n    </tr>\n    <tr>\n      <th>1851-06-25 18:00:00</th>\n      <th>AL011851</th>\n      <td>UNNAMED</td>\n      <td>18510625</td>\n      <td>1800</td>\n      <td></td>\n      <td>HU</td>\n      <td>28.1</td>\n      <td>-96.5</td>\n      <td>80</td>\n      <td>-999</td>\n      <td>-999</td>\n      <td>...</td>\n      <td>-999</td>\n      <td>-999</td>\n      <td>-999</td>\n      <td>-999</td>\n      <td>-999</td>\n      <td>-999</td>\n      <td>-999</td>\n      <td>-999</td>\n      <td>-999</td>\n      <td>-999</td>\n    </tr>\n    <tr>\n      <th>1851-06-25 21:00:00</th>\n      <th>AL011851</th>\n      <td>UNNAMED</td>\n      <td>18510625</td>\n      <td>2100</td>\n      <td>L</td>\n      <td>HU</td>\n      <td>28.2</td>\n      <td>-96.8</td>\n      <td>80</td>\n      <td>-999</td>\n      <td>-999</td>\n      <td>...</td>\n      <td>-999</td>\n      <td>-999</td>\n      <td>-999</td>\n      <td>-999</td>\n      <td>-999</td>\n      <td>-999</td>\n      <td>-999</td>\n      <td>-999</td>\n      <td>-999</td>\n      <td>-999</td>\n    </tr>\n  </tbody>\n</table>\n<p>5 rows × 21 columns</p>\n</div>"
     },
     "execution_count": 2,
     "metadata": {},
     "output_type": "execute_result"
    }
   ],
   "source": [
    "%%time\n",
    "# Reading the geolife dataset and converting to NumPandasTraj.\n",
    "geolife = pd.read_csv('./data/geolife_sample.csv')\n",
    "geolife = NumTrajDF(geolife,'lat','lon','datetime','id')\n",
    "\n",
    "# Reading the gulls dataset and converting to NumPandasTraj.\n",
    "gulls = pd.read_csv('./data/gulls.csv')\n",
    "gulls = NumTrajDF(gulls,\n",
    "                 latitude='location-lat',\n",
    "                 longitude='location-long',\n",
    "                 datetime='timestamp',\n",
    "                 traj_id='tag-local-identifier',\n",
    "                 rest_of_columns=[])\n",
    "\n",
    "# Reading the atlantic dataset, cleaning it up and then converting\n",
    "# it to NumPandasTraj.\n",
    "atlantic = pd.read_csv('./data/atlantic.csv')\n",
    "atlantic = con.convert_directions_to_degree_lat_lon(atlantic, 'Latitude',\"Longitude\")\n",
    "def convert_to_datetime(row):\n",
    "        this_date = '{}-{}-{}'.format(str(row['Date'])[0:4], str(row['Date'])[4:6], str(row['Date'])[6:])\n",
    "        this_time = '{:02d}:{:02d}:00'.format(int(row['Time']/100), int(str(row['Time'])[-2:]))\n",
    "        return '{} {}'.format(this_date, this_time)\n",
    "atlantic['DateTime'] = atlantic.apply(convert_to_datetime, axis=1)\n",
    "atlantic = NumTrajDF(atlantic,\n",
    "                         latitude='Latitude',\n",
    "                         longitude='Longitude',\n",
    "                         datetime='DateTime',\n",
    "                         traj_id='ID',\n",
    "                         rest_of_columns=[])\n",
    "atlantic.head()"
   ],
   "metadata": {
    "collapsed": false,
    "pycharm": {
     "name": "#%%\n"
    }
   }
  },
  {
   "cell_type": "code",
   "execution_count": 3,
   "outputs": [
    {
     "name": "stdout",
     "output_type": "stream",
     "text": [
      "(22.147577, 113.54884299999999, 41.132062, 121.156224)\n",
      "(-62.71617, 4.02517, 65.2325, 103.19317)\n",
      "(7.2, -109.5, 81.0, 63.0)\n",
      "CPU times: user 8.1 ms, sys: 8 µs, total: 8.11 ms\n",
      "Wall time: 6.61 ms\n"
     ]
    }
   ],
   "source": [
    "%%time\n",
    "\n",
    "# Now, lets get the bounding boxes of all the dataframes.\n",
    "print(spatial.get_bounding_box(geolife))\n",
    "print(spatial.get_bounding_box(gulls))\n",
    "print(spatial.get_bounding_box(atlantic))"
   ],
   "metadata": {
    "collapsed": false,
    "pycharm": {
     "name": "#%%\n"
    }
   }
  },
  {
   "cell_type": "code",
   "execution_count": 4,
   "outputs": [
    {
     "name": "stdout",
     "output_type": "stream",
     "text": [
      "               lat         lon\n",
      "traj_id                       \n",
      "1        39.984224  116.319402\n",
      "5        40.004155  116.321337\n",
      "              lat       lon\n",
      "traj_id                    \n",
      "91785    64.98267  35.74300\n",
      "91797    64.96767  35.73650\n",
      "91769    54.18433   7.91283\n",
      "91843    55.42533  49.34817\n",
      "91913    64.97850  35.72667\n",
      "...           ...       ...\n",
      "91814    55.43233  49.34283\n",
      "91763    62.78917  28.76983\n",
      "91823    54.18600   7.91867\n",
      "91752    62.40617  29.46983\n",
      "91916    54.18533   7.91500\n",
      "\n",
      "[126 rows x 2 columns]\n",
      "           lat   lon\n",
      "traj_id             \n",
      "AL091869  17.0 -67.5\n",
      "AL041862  13.0 -61.0\n",
      "AL011870  30.5 -88.0\n",
      "AL071861  35.3 -75.3\n",
      "AL071853  15.0 -37.0\n",
      "...        ...   ...\n",
      "AL041926  13.8 -41.2\n",
      "AL142012  15.5 -38.0\n",
      "AL201969  16.0 -47.0\n",
      "AL141971  25.5 -71.5\n",
      "AL031899  11.7 -31.0\n",
      "\n",
      "[1814 rows x 2 columns]\n",
      "CPU times: user 591 ms, sys: 373 ms, total: 963 ms\n",
      "Wall time: 5.11 s\n"
     ]
    }
   ],
   "source": [
    "%%time\n",
    "\n",
    "# Now, lets get the start times of all the dataframes without\n",
    "# giving a traj_id.\n",
    "print(spatial.get_start_location(geolife))\n",
    "print(spatial.get_start_location(gulls))\n",
    "print(spatial.get_start_location(atlantic))"
   ],
   "metadata": {
    "collapsed": false,
    "pycharm": {
     "name": "#%%\n"
    }
   }
  },
  {
   "cell_type": "code",
   "execution_count": 5,
   "outputs": [
    {
     "name": "stdout",
     "output_type": "stream",
     "text": [
      "(39.984224, 116.319402)\n",
      "(61.24783000000001, 24.586170000000003)\n",
      "(28.0, -94.8)\n",
      "CPU times: user 130 ms, sys: 244 µs, total: 131 ms\n",
      "Wall time: 129 ms\n"
     ]
    }
   ],
   "source": [
    "%%time\n",
    "\n",
    "# Now lets check the start times of all dataframes with a traj_id.\n",
    "print(spatial.get_start_location(geolife, '1'))\n",
    "print(spatial.get_start_location(gulls, \"91732\"))\n",
    "print(spatial.get_start_location(atlantic, 'AL011851'))"
   ],
   "metadata": {
    "collapsed": false,
    "pycharm": {
     "name": "#%%\n"
    }
   }
  },
  {
   "cell_type": "code",
   "execution_count": 6,
   "outputs": [
    {
     "name": "stdout",
     "output_type": "stream",
     "text": [
      "               lat         lon\n",
      "traj_id                       \n",
      "1        39.977879  116.326628\n",
      "5        39.999978  116.327460\n",
      "              lat       lon\n",
      "traj_id                    \n",
      "91785    64.98267  35.74300\n",
      "91797    64.96767  35.73633\n",
      "91769    54.18417   7.91350\n",
      "91843    55.43533  49.36383\n",
      "91913    64.96700  35.74083\n",
      "...           ...       ...\n",
      "91814    -1.79117  32.80583\n",
      "91763     6.97833  29.51200\n",
      "91823    61.31100  24.57767\n",
      "91752     8.06067  38.85033\n",
      "91916    56.56600  21.19633\n",
      "\n",
      "[126 rows x 2 columns]\n",
      "           lat   lon\n",
      "traj_id             \n",
      "AL091869  17.0 -67.5\n",
      "AL041862  13.0 -61.0\n",
      "AL011870  30.5 -88.0\n",
      "AL071861  35.3 -75.3\n",
      "AL071853  15.0 -37.0\n",
      "...        ...   ...\n",
      "AL041926  58.2 -49.2\n",
      "AL142012  37.6 -29.1\n",
      "AL201969  26.1 -61.6\n",
      "AL141971  35.7 -69.9\n",
      "AL031899  49.0 -15.5\n",
      "\n",
      "[1814 rows x 2 columns]\n",
      "CPU times: user 549 ms, sys: 412 ms, total: 961 ms\n",
      "Wall time: 4.84 s\n"
     ]
    }
   ],
   "source": [
    "%%time\n",
    "\n",
    "# Now, lets get the start times of all the dataframes without\n",
    "# giving a traj_id.\n",
    "print(spatial.get_end_location(geolife))\n",
    "print(spatial.get_end_location(gulls))\n",
    "print(spatial.get_end_location(atlantic))"
   ],
   "metadata": {
    "collapsed": false,
    "pycharm": {
     "name": "#%%\n"
    }
   }
  },
  {
   "cell_type": "code",
   "execution_count": 7,
   "outputs": [
    {
     "name": "stdout",
     "output_type": "stream",
     "text": [
      "(39.977878999999994, 116.326628)\n",
      "(31.09783, 29.812170000000002)\n",
      "(31.0, -100.2)\n",
      "CPU times: user 126 ms, sys: 11.6 ms, total: 137 ms\n",
      "Wall time: 136 ms\n"
     ]
    }
   ],
   "source": [
    "%%time\n",
    "\n",
    "# Now lets check the start times of all dataframes with a traj_id.\n",
    "print(spatial.get_end_location(geolife, '1'))\n",
    "print(spatial.get_end_location(gulls, \"91732\"))\n",
    "print(spatial.get_end_location(atlantic, 'AL011851'))"
   ],
   "metadata": {
    "collapsed": false,
    "pycharm": {
     "name": "#%%\n"
    }
   }
  },
  {
   "cell_type": "code",
   "execution_count": 8,
   "outputs": [
    {
     "name": "stdout",
     "output_type": "stream",
     "text": [
      "CPU times: user 351 ms, sys: 44.4 ms, total: 395 ms\n",
      "Wall time: 1.12 s\n"
     ]
    },
    {
     "data": {
      "text/plain": "                                   lat         lon  Distance_prev_to_curr\nDateTime            traj_id                                              \n2008-10-23 16:53:05 1        39.984094  116.319236                    NaN\n2008-10-23 16:53:06 1        39.984198  116.319322              13.690153\n2008-10-23 05:53:11 1        39.984224  116.319402               7.403788\n2008-10-23 05:53:16 1        39.984211  116.319389               1.821083\n2008-10-23 05:53:21 1        39.984217  116.319422               2.889671\n2008-10-23 05:53:23 1        39.984710  116.319865              66.555997\n2008-10-23 05:53:28 1        39.984674  116.319810               6.162987\n2008-10-23 05:53:33 1        39.984623  116.319773               6.488225\n2008-10-23 05:53:38 1        39.984606  116.319732               3.971848\n2008-10-23 05:53:43 1        39.984555  116.319728               5.681172",
      "text/html": "<div>\n<style scoped>\n    .dataframe tbody tr th:only-of-type {\n        vertical-align: middle;\n    }\n\n    .dataframe tbody tr th {\n        vertical-align: top;\n    }\n\n    .dataframe thead th {\n        text-align: right;\n    }\n</style>\n<table border=\"1\" class=\"dataframe\">\n  <thead>\n    <tr style=\"text-align: right;\">\n      <th></th>\n      <th></th>\n      <th>lat</th>\n      <th>lon</th>\n      <th>Distance_prev_to_curr</th>\n    </tr>\n    <tr>\n      <th>DateTime</th>\n      <th>traj_id</th>\n      <th></th>\n      <th></th>\n      <th></th>\n    </tr>\n  </thead>\n  <tbody>\n    <tr>\n      <th>2008-10-23 16:53:05</th>\n      <th>1</th>\n      <td>39.984094</td>\n      <td>116.319236</td>\n      <td>NaN</td>\n    </tr>\n    <tr>\n      <th>2008-10-23 16:53:06</th>\n      <th>1</th>\n      <td>39.984198</td>\n      <td>116.319322</td>\n      <td>13.690153</td>\n    </tr>\n    <tr>\n      <th>2008-10-23 05:53:11</th>\n      <th>1</th>\n      <td>39.984224</td>\n      <td>116.319402</td>\n      <td>7.403788</td>\n    </tr>\n    <tr>\n      <th>2008-10-23 05:53:16</th>\n      <th>1</th>\n      <td>39.984211</td>\n      <td>116.319389</td>\n      <td>1.821083</td>\n    </tr>\n    <tr>\n      <th>2008-10-23 05:53:21</th>\n      <th>1</th>\n      <td>39.984217</td>\n      <td>116.319422</td>\n      <td>2.889671</td>\n    </tr>\n    <tr>\n      <th>2008-10-23 05:53:23</th>\n      <th>1</th>\n      <td>39.984710</td>\n      <td>116.319865</td>\n      <td>66.555997</td>\n    </tr>\n    <tr>\n      <th>2008-10-23 05:53:28</th>\n      <th>1</th>\n      <td>39.984674</td>\n      <td>116.319810</td>\n      <td>6.162987</td>\n    </tr>\n    <tr>\n      <th>2008-10-23 05:53:33</th>\n      <th>1</th>\n      <td>39.984623</td>\n      <td>116.319773</td>\n      <td>6.488225</td>\n    </tr>\n    <tr>\n      <th>2008-10-23 05:53:38</th>\n      <th>1</th>\n      <td>39.984606</td>\n      <td>116.319732</td>\n      <td>3.971848</td>\n    </tr>\n    <tr>\n      <th>2008-10-23 05:53:43</th>\n      <th>1</th>\n      <td>39.984555</td>\n      <td>116.319728</td>\n      <td>5.681172</td>\n    </tr>\n  </tbody>\n</table>\n</div>"
     },
     "execution_count": 8,
     "metadata": {},
     "output_type": "execute_result"
    }
   ],
   "source": [
    "%%time\n",
    "\n",
    "# Now, lets calculate the distance between 2 consecutive points for\n",
    "# each dataset one by one.\n",
    "# First, we will check the distances between 2 consecutive points\n",
    "# in the geolife dataset.\n",
    "geolife = spatial.create_distance_between_consecutive_column(geolife)\n",
    "geolife.head(10)"
   ],
   "metadata": {
    "collapsed": false,
    "pycharm": {
     "name": "#%%\n"
    }
   }
  },
  {
   "cell_type": "code",
   "execution_count": 9,
   "outputs": [
    {
     "name": "stdout",
     "output_type": "stream",
     "text": [
      "CPU times: user 240 ms, sys: 44.6 ms, total: 285 ms\n",
      "Wall time: 732 ms\n"
     ]
    },
    {
     "data": {
      "text/plain": "                               event-id  visible      lon       lat  \\\nDateTime            traj_id                                           \n2009-08-15 15:00:00 91733    1082636186     True  7.91883  54.18600   \n2009-08-15 21:00:00 91733    1082636187     True  7.91917  54.18567   \n2009-08-16 06:00:00 91733    1082636188     True  7.91500  54.18533   \n2009-08-16 09:00:00 91733    1082636189     True  7.91917  54.18583   \n2009-08-16 15:00:00 91733    1082636190     True  8.64117  54.33383   \n\n                            sensor-type individual-taxon-canonical-name  \\\nDateTime            traj_id                                               \n2009-08-15 15:00:00 91733           gps                    Larus fuscus   \n2009-08-15 21:00:00 91733           gps                    Larus fuscus   \n2009-08-16 06:00:00 91733           gps                    Larus fuscus   \n2009-08-16 09:00:00 91733           gps                    Larus fuscus   \n2009-08-16 15:00:00 91733           gps                    Larus fuscus   \n\n                            individual-local-identifier  \\\nDateTime            traj_id                               \n2009-08-15 15:00:00 91733                        91733A   \n2009-08-15 21:00:00 91733                        91733A   \n2009-08-16 06:00:00 91733                        91733A   \n2009-08-16 09:00:00 91733                        91733A   \n2009-08-16 15:00:00 91733                        91733A   \n\n                                                                    study-name  \\\nDateTime            traj_id                                                      \n2009-08-15 15:00:00 91733    Navigation experiments in lesser black-backed ...   \n2009-08-15 21:00:00 91733    Navigation experiments in lesser black-backed ...   \n2009-08-16 06:00:00 91733    Navigation experiments in lesser black-backed ...   \n2009-08-16 09:00:00 91733    Navigation experiments in lesser black-backed ...   \n2009-08-16 15:00:00 91733    Navigation experiments in lesser black-backed ...   \n\n                             Distance_prev_to_curr  \nDateTime            traj_id                         \n2009-08-15 15:00:00 91733                      NaN  \n2009-08-15 21:00:00 91733                42.847231  \n2009-08-16 06:00:00 91733               273.951247  \n2009-08-16 09:00:00 91733               276.967082  \n2009-08-16 15:00:00 91733             49697.545831  ",
      "text/html": "<div>\n<style scoped>\n    .dataframe tbody tr th:only-of-type {\n        vertical-align: middle;\n    }\n\n    .dataframe tbody tr th {\n        vertical-align: top;\n    }\n\n    .dataframe thead th {\n        text-align: right;\n    }\n</style>\n<table border=\"1\" class=\"dataframe\">\n  <thead>\n    <tr style=\"text-align: right;\">\n      <th></th>\n      <th></th>\n      <th>event-id</th>\n      <th>visible</th>\n      <th>lon</th>\n      <th>lat</th>\n      <th>sensor-type</th>\n      <th>individual-taxon-canonical-name</th>\n      <th>individual-local-identifier</th>\n      <th>study-name</th>\n      <th>Distance_prev_to_curr</th>\n    </tr>\n    <tr>\n      <th>DateTime</th>\n      <th>traj_id</th>\n      <th></th>\n      <th></th>\n      <th></th>\n      <th></th>\n      <th></th>\n      <th></th>\n      <th></th>\n      <th></th>\n      <th></th>\n    </tr>\n  </thead>\n  <tbody>\n    <tr>\n      <th>2009-08-15 15:00:00</th>\n      <th>91733</th>\n      <td>1082636186</td>\n      <td>True</td>\n      <td>7.91883</td>\n      <td>54.18600</td>\n      <td>gps</td>\n      <td>Larus fuscus</td>\n      <td>91733A</td>\n      <td>Navigation experiments in lesser black-backed ...</td>\n      <td>NaN</td>\n    </tr>\n    <tr>\n      <th>2009-08-15 21:00:00</th>\n      <th>91733</th>\n      <td>1082636187</td>\n      <td>True</td>\n      <td>7.91917</td>\n      <td>54.18567</td>\n      <td>gps</td>\n      <td>Larus fuscus</td>\n      <td>91733A</td>\n      <td>Navigation experiments in lesser black-backed ...</td>\n      <td>42.847231</td>\n    </tr>\n    <tr>\n      <th>2009-08-16 06:00:00</th>\n      <th>91733</th>\n      <td>1082636188</td>\n      <td>True</td>\n      <td>7.91500</td>\n      <td>54.18533</td>\n      <td>gps</td>\n      <td>Larus fuscus</td>\n      <td>91733A</td>\n      <td>Navigation experiments in lesser black-backed ...</td>\n      <td>273.951247</td>\n    </tr>\n    <tr>\n      <th>2009-08-16 09:00:00</th>\n      <th>91733</th>\n      <td>1082636189</td>\n      <td>True</td>\n      <td>7.91917</td>\n      <td>54.18583</td>\n      <td>gps</td>\n      <td>Larus fuscus</td>\n      <td>91733A</td>\n      <td>Navigation experiments in lesser black-backed ...</td>\n      <td>276.967082</td>\n    </tr>\n    <tr>\n      <th>2009-08-16 15:00:00</th>\n      <th>91733</th>\n      <td>1082636190</td>\n      <td>True</td>\n      <td>8.64117</td>\n      <td>54.33383</td>\n      <td>gps</td>\n      <td>Larus fuscus</td>\n      <td>91733A</td>\n      <td>Navigation experiments in lesser black-backed ...</td>\n      <td>49697.545831</td>\n    </tr>\n  </tbody>\n</table>\n</div>"
     },
     "execution_count": 9,
     "metadata": {},
     "output_type": "execute_result"
    }
   ],
   "source": [
    "%%time\n",
    "\n",
    "# # Here, we check the distance between 2 consecutive points\n",
    "# # in the seagulls dataset.\n",
    "gulls = spatial.create_distance_between_consecutive_column(gulls)\n",
    "gulls.head()"
   ],
   "metadata": {
    "collapsed": false,
    "pycharm": {
     "name": "#%%\n"
    }
   }
  },
  {
   "cell_type": "code",
   "execution_count": 10,
   "outputs": [
    {
     "name": "stdout",
     "output_type": "stream",
     "text": [
      "CPU times: user 228 ms, sys: 135 ms, total: 362 ms\n",
      "Wall time: 398 ms\n"
     ]
    },
    {
     "data": {
      "text/plain": "                                             Name      Date  Time Event  \\\nDateTime            traj_id                                               \n1851-07-05 12:00:00 AL021851              UNNAMED  18510705  1200         \n1851-07-10 12:00:00 AL031851              UNNAMED  18510710  1200         \n1853-08-05 12:00:00 AL011853              UNNAMED  18530805  1200         \n1853-08-10 12:00:00 AL021853              UNNAMED  18530810  1200         \n1853-09-21 12:00:00 AL051853              UNNAMED  18530921  1200         \n\n                             Status   lat   lon  Maximum Wind  \\\nDateTime            traj_id                                     \n1851-07-05 12:00:00 AL021851     HU  22.2 -97.6            80   \n1851-07-10 12:00:00 AL031851     TS  12.0 -60.0            50   \n1853-08-05 12:00:00 AL011853     TS  32.5 -69.0            50   \n1853-08-10 12:00:00 AL021853     TS  12.0 -60.0            40   \n1853-09-21 12:00:00 AL051853     TS  20.0 -95.0            50   \n\n                              Minimum Pressure  Low Wind NE  ...  Low Wind NW  \\\nDateTime            traj_id                                  ...                \n1851-07-05 12:00:00 AL021851              -999         -999  ...         -999   \n1851-07-10 12:00:00 AL031851              -999         -999  ...         -999   \n1853-08-05 12:00:00 AL011853              -999         -999  ...         -999   \n1853-08-10 12:00:00 AL021853              -999         -999  ...         -999   \n1853-09-21 12:00:00 AL051853              -999         -999  ...         -999   \n\n                              Moderate Wind NE  Moderate Wind SE  \\\nDateTime            traj_id                                        \n1851-07-05 12:00:00 AL021851              -999              -999   \n1851-07-10 12:00:00 AL031851              -999              -999   \n1853-08-05 12:00:00 AL011853              -999              -999   \n1853-08-10 12:00:00 AL021853              -999              -999   \n1853-09-21 12:00:00 AL051853              -999              -999   \n\n                              Moderate Wind SW  Moderate Wind NW  \\\nDateTime            traj_id                                        \n1851-07-05 12:00:00 AL021851              -999              -999   \n1851-07-10 12:00:00 AL031851              -999              -999   \n1853-08-05 12:00:00 AL011853              -999              -999   \n1853-08-10 12:00:00 AL021853              -999              -999   \n1853-09-21 12:00:00 AL051853              -999              -999   \n\n                              High Wind NE  High Wind SE  High Wind SW  \\\nDateTime            traj_id                                              \n1851-07-05 12:00:00 AL021851          -999          -999          -999   \n1851-07-10 12:00:00 AL031851          -999          -999          -999   \n1853-08-05 12:00:00 AL011853          -999          -999          -999   \n1853-08-10 12:00:00 AL021853          -999          -999          -999   \n1853-09-21 12:00:00 AL051853          -999          -999          -999   \n\n                              High Wind NW  Distance_prev_to_curr  \nDateTime            traj_id                                        \n1851-07-05 12:00:00 AL021851          -999                    NaN  \n1851-07-10 12:00:00 AL031851          -999                    NaN  \n1853-08-05 12:00:00 AL011853          -999                    NaN  \n1853-08-10 12:00:00 AL021853          -999                    NaN  \n1853-09-21 12:00:00 AL051853          -999                    NaN  \n\n[5 rows x 22 columns]",
      "text/html": "<div>\n<style scoped>\n    .dataframe tbody tr th:only-of-type {\n        vertical-align: middle;\n    }\n\n    .dataframe tbody tr th {\n        vertical-align: top;\n    }\n\n    .dataframe thead th {\n        text-align: right;\n    }\n</style>\n<table border=\"1\" class=\"dataframe\">\n  <thead>\n    <tr style=\"text-align: right;\">\n      <th></th>\n      <th></th>\n      <th>Name</th>\n      <th>Date</th>\n      <th>Time</th>\n      <th>Event</th>\n      <th>Status</th>\n      <th>lat</th>\n      <th>lon</th>\n      <th>Maximum Wind</th>\n      <th>Minimum Pressure</th>\n      <th>Low Wind NE</th>\n      <th>...</th>\n      <th>Low Wind NW</th>\n      <th>Moderate Wind NE</th>\n      <th>Moderate Wind SE</th>\n      <th>Moderate Wind SW</th>\n      <th>Moderate Wind NW</th>\n      <th>High Wind NE</th>\n      <th>High Wind SE</th>\n      <th>High Wind SW</th>\n      <th>High Wind NW</th>\n      <th>Distance_prev_to_curr</th>\n    </tr>\n    <tr>\n      <th>DateTime</th>\n      <th>traj_id</th>\n      <th></th>\n      <th></th>\n      <th></th>\n      <th></th>\n      <th></th>\n      <th></th>\n      <th></th>\n      <th></th>\n      <th></th>\n      <th></th>\n      <th></th>\n      <th></th>\n      <th></th>\n      <th></th>\n      <th></th>\n      <th></th>\n      <th></th>\n      <th></th>\n      <th></th>\n      <th></th>\n      <th></th>\n    </tr>\n  </thead>\n  <tbody>\n    <tr>\n      <th>1851-07-05 12:00:00</th>\n      <th>AL021851</th>\n      <td>UNNAMED</td>\n      <td>18510705</td>\n      <td>1200</td>\n      <td></td>\n      <td>HU</td>\n      <td>22.2</td>\n      <td>-97.6</td>\n      <td>80</td>\n      <td>-999</td>\n      <td>-999</td>\n      <td>...</td>\n      <td>-999</td>\n      <td>-999</td>\n      <td>-999</td>\n      <td>-999</td>\n      <td>-999</td>\n      <td>-999</td>\n      <td>-999</td>\n      <td>-999</td>\n      <td>-999</td>\n      <td>NaN</td>\n    </tr>\n    <tr>\n      <th>1851-07-10 12:00:00</th>\n      <th>AL031851</th>\n      <td>UNNAMED</td>\n      <td>18510710</td>\n      <td>1200</td>\n      <td></td>\n      <td>TS</td>\n      <td>12.0</td>\n      <td>-60.0</td>\n      <td>50</td>\n      <td>-999</td>\n      <td>-999</td>\n      <td>...</td>\n      <td>-999</td>\n      <td>-999</td>\n      <td>-999</td>\n      <td>-999</td>\n      <td>-999</td>\n      <td>-999</td>\n      <td>-999</td>\n      <td>-999</td>\n      <td>-999</td>\n      <td>NaN</td>\n    </tr>\n    <tr>\n      <th>1853-08-05 12:00:00</th>\n      <th>AL011853</th>\n      <td>UNNAMED</td>\n      <td>18530805</td>\n      <td>1200</td>\n      <td></td>\n      <td>TS</td>\n      <td>32.5</td>\n      <td>-69.0</td>\n      <td>50</td>\n      <td>-999</td>\n      <td>-999</td>\n      <td>...</td>\n      <td>-999</td>\n      <td>-999</td>\n      <td>-999</td>\n      <td>-999</td>\n      <td>-999</td>\n      <td>-999</td>\n      <td>-999</td>\n      <td>-999</td>\n      <td>-999</td>\n      <td>NaN</td>\n    </tr>\n    <tr>\n      <th>1853-08-10 12:00:00</th>\n      <th>AL021853</th>\n      <td>UNNAMED</td>\n      <td>18530810</td>\n      <td>1200</td>\n      <td></td>\n      <td>TS</td>\n      <td>12.0</td>\n      <td>-60.0</td>\n      <td>40</td>\n      <td>-999</td>\n      <td>-999</td>\n      <td>...</td>\n      <td>-999</td>\n      <td>-999</td>\n      <td>-999</td>\n      <td>-999</td>\n      <td>-999</td>\n      <td>-999</td>\n      <td>-999</td>\n      <td>-999</td>\n      <td>-999</td>\n      <td>NaN</td>\n    </tr>\n    <tr>\n      <th>1853-09-21 12:00:00</th>\n      <th>AL051853</th>\n      <td>UNNAMED</td>\n      <td>18530921</td>\n      <td>1200</td>\n      <td></td>\n      <td>TS</td>\n      <td>20.0</td>\n      <td>-95.0</td>\n      <td>50</td>\n      <td>-999</td>\n      <td>-999</td>\n      <td>...</td>\n      <td>-999</td>\n      <td>-999</td>\n      <td>-999</td>\n      <td>-999</td>\n      <td>-999</td>\n      <td>-999</td>\n      <td>-999</td>\n      <td>-999</td>\n      <td>-999</td>\n      <td>NaN</td>\n    </tr>\n  </tbody>\n</table>\n<p>5 rows × 22 columns</p>\n</div>"
     },
     "execution_count": 10,
     "metadata": {},
     "output_type": "execute_result"
    }
   ],
   "source": [
    "%%time\n",
    "\n",
    "# Here, we check the distance between 2 consecutive points\n",
    "# in the atlantic dataset.\n",
    "atlantic = spatial.create_distance_between_consecutive_column(atlantic)\n",
    "atlantic.head()"
   ],
   "metadata": {
    "collapsed": false,
    "pycharm": {
     "name": "#%%\n"
    }
   }
  },
  {
   "cell_type": "code",
   "execution_count": 11,
   "outputs": [
    {
     "name": "stdout",
     "output_type": "stream",
     "text": [
      "CPU times: user 254 ms, sys: 92.2 ms, total: 346 ms\n",
      "Wall time: 836 ms\n"
     ]
    },
    {
     "data": {
      "text/plain": "                                   lat         lon  Distance_prev_to_curr  \\\nDateTime            traj_id                                                 \n2008-10-23 16:53:05 1        39.984094  116.319236                    NaN   \n2008-10-23 16:53:06 1        39.984198  116.319322              13.690153   \n2008-10-23 05:53:11 1        39.984224  116.319402               7.403788   \n2008-10-23 05:53:16 1        39.984211  116.319389               1.821083   \n2008-10-23 05:53:21 1        39.984217  116.319422               2.889671   \n\n                             Distance_start_to_curr  \nDateTime            traj_id                          \n2008-10-23 16:53:05 1                           NaN  \n2008-10-23 16:53:06 1                     13.690153  \n2008-10-23 05:53:11 1                     20.223428  \n2008-10-23 05:53:16 1                     18.416895  \n2008-10-23 05:53:21 1                     20.933073  ",
      "text/html": "<div>\n<style scoped>\n    .dataframe tbody tr th:only-of-type {\n        vertical-align: middle;\n    }\n\n    .dataframe tbody tr th {\n        vertical-align: top;\n    }\n\n    .dataframe thead th {\n        text-align: right;\n    }\n</style>\n<table border=\"1\" class=\"dataframe\">\n  <thead>\n    <tr style=\"text-align: right;\">\n      <th></th>\n      <th></th>\n      <th>lat</th>\n      <th>lon</th>\n      <th>Distance_prev_to_curr</th>\n      <th>Distance_start_to_curr</th>\n    </tr>\n    <tr>\n      <th>DateTime</th>\n      <th>traj_id</th>\n      <th></th>\n      <th></th>\n      <th></th>\n      <th></th>\n    </tr>\n  </thead>\n  <tbody>\n    <tr>\n      <th>2008-10-23 16:53:05</th>\n      <th>1</th>\n      <td>39.984094</td>\n      <td>116.319236</td>\n      <td>NaN</td>\n      <td>NaN</td>\n    </tr>\n    <tr>\n      <th>2008-10-23 16:53:06</th>\n      <th>1</th>\n      <td>39.984198</td>\n      <td>116.319322</td>\n      <td>13.690153</td>\n      <td>13.690153</td>\n    </tr>\n    <tr>\n      <th>2008-10-23 05:53:11</th>\n      <th>1</th>\n      <td>39.984224</td>\n      <td>116.319402</td>\n      <td>7.403788</td>\n      <td>20.223428</td>\n    </tr>\n    <tr>\n      <th>2008-10-23 05:53:16</th>\n      <th>1</th>\n      <td>39.984211</td>\n      <td>116.319389</td>\n      <td>1.821083</td>\n      <td>18.416895</td>\n    </tr>\n    <tr>\n      <th>2008-10-23 05:53:21</th>\n      <th>1</th>\n      <td>39.984217</td>\n      <td>116.319422</td>\n      <td>2.889671</td>\n      <td>20.933073</td>\n    </tr>\n  </tbody>\n</table>\n</div>"
     },
     "execution_count": 11,
     "metadata": {},
     "output_type": "execute_result"
    }
   ],
   "source": [
    "%%time\n",
    "\n",
    "# Now, lets calculate the distance from start to current point for\n",
    "# each dataset one by one.\n",
    "# Here, we check the distance between start to all points\n",
    "# in the geolife dataset.\n",
    "\n",
    "geolife = spatial.create_distance_from_start_column(geolife)\n",
    "geolife.head()"
   ],
   "metadata": {
    "collapsed": false,
    "pycharm": {
     "name": "#%%\n"
    }
   }
  },
  {
   "cell_type": "code",
   "execution_count": 12,
   "outputs": [
    {
     "name": "stdout",
     "output_type": "stream",
     "text": [
      "CPU times: user 158 ms, sys: 56.2 ms, total: 214 ms\n",
      "Wall time: 529 ms\n"
     ]
    },
    {
     "data": {
      "text/plain": "                               event-id  visible      lon       lat  \\\nDateTime            traj_id                                           \n2009-08-15 15:00:00 91733    1082636186     True  7.91883  54.18600   \n2009-08-15 21:00:00 91733    1082636187     True  7.91917  54.18567   \n2009-08-16 06:00:00 91733    1082636188     True  7.91500  54.18533   \n2009-08-16 09:00:00 91733    1082636189     True  7.91917  54.18583   \n2009-08-16 15:00:00 91733    1082636190     True  8.64117  54.33383   \n\n                            sensor-type individual-taxon-canonical-name  \\\nDateTime            traj_id                                               \n2009-08-15 15:00:00 91733           gps                    Larus fuscus   \n2009-08-15 21:00:00 91733           gps                    Larus fuscus   \n2009-08-16 06:00:00 91733           gps                    Larus fuscus   \n2009-08-16 09:00:00 91733           gps                    Larus fuscus   \n2009-08-16 15:00:00 91733           gps                    Larus fuscus   \n\n                            individual-local-identifier  \\\nDateTime            traj_id                               \n2009-08-15 15:00:00 91733                        91733A   \n2009-08-15 21:00:00 91733                        91733A   \n2009-08-16 06:00:00 91733                        91733A   \n2009-08-16 09:00:00 91733                        91733A   \n2009-08-16 15:00:00 91733                        91733A   \n\n                                                                    study-name  \\\nDateTime            traj_id                                                      \n2009-08-15 15:00:00 91733    Navigation experiments in lesser black-backed ...   \n2009-08-15 21:00:00 91733    Navigation experiments in lesser black-backed ...   \n2009-08-16 06:00:00 91733    Navigation experiments in lesser black-backed ...   \n2009-08-16 09:00:00 91733    Navigation experiments in lesser black-backed ...   \n2009-08-16 15:00:00 91733    Navigation experiments in lesser black-backed ...   \n\n                             Distance_prev_to_curr  Distance_start_to_curr  \nDateTime            traj_id                                                 \n2009-08-15 15:00:00 91733                      NaN                     NaN  \n2009-08-15 21:00:00 91733                42.847231               42.847231  \n2009-08-16 06:00:00 91733               273.951247              260.103940  \n2009-08-16 09:00:00 91733               276.967082               29.098770  \n2009-08-16 15:00:00 91733             49697.545831            49712.038359  ",
      "text/html": "<div>\n<style scoped>\n    .dataframe tbody tr th:only-of-type {\n        vertical-align: middle;\n    }\n\n    .dataframe tbody tr th {\n        vertical-align: top;\n    }\n\n    .dataframe thead th {\n        text-align: right;\n    }\n</style>\n<table border=\"1\" class=\"dataframe\">\n  <thead>\n    <tr style=\"text-align: right;\">\n      <th></th>\n      <th></th>\n      <th>event-id</th>\n      <th>visible</th>\n      <th>lon</th>\n      <th>lat</th>\n      <th>sensor-type</th>\n      <th>individual-taxon-canonical-name</th>\n      <th>individual-local-identifier</th>\n      <th>study-name</th>\n      <th>Distance_prev_to_curr</th>\n      <th>Distance_start_to_curr</th>\n    </tr>\n    <tr>\n      <th>DateTime</th>\n      <th>traj_id</th>\n      <th></th>\n      <th></th>\n      <th></th>\n      <th></th>\n      <th></th>\n      <th></th>\n      <th></th>\n      <th></th>\n      <th></th>\n      <th></th>\n    </tr>\n  </thead>\n  <tbody>\n    <tr>\n      <th>2009-08-15 15:00:00</th>\n      <th>91733</th>\n      <td>1082636186</td>\n      <td>True</td>\n      <td>7.91883</td>\n      <td>54.18600</td>\n      <td>gps</td>\n      <td>Larus fuscus</td>\n      <td>91733A</td>\n      <td>Navigation experiments in lesser black-backed ...</td>\n      <td>NaN</td>\n      <td>NaN</td>\n    </tr>\n    <tr>\n      <th>2009-08-15 21:00:00</th>\n      <th>91733</th>\n      <td>1082636187</td>\n      <td>True</td>\n      <td>7.91917</td>\n      <td>54.18567</td>\n      <td>gps</td>\n      <td>Larus fuscus</td>\n      <td>91733A</td>\n      <td>Navigation experiments in lesser black-backed ...</td>\n      <td>42.847231</td>\n      <td>42.847231</td>\n    </tr>\n    <tr>\n      <th>2009-08-16 06:00:00</th>\n      <th>91733</th>\n      <td>1082636188</td>\n      <td>True</td>\n      <td>7.91500</td>\n      <td>54.18533</td>\n      <td>gps</td>\n      <td>Larus fuscus</td>\n      <td>91733A</td>\n      <td>Navigation experiments in lesser black-backed ...</td>\n      <td>273.951247</td>\n      <td>260.103940</td>\n    </tr>\n    <tr>\n      <th>2009-08-16 09:00:00</th>\n      <th>91733</th>\n      <td>1082636189</td>\n      <td>True</td>\n      <td>7.91917</td>\n      <td>54.18583</td>\n      <td>gps</td>\n      <td>Larus fuscus</td>\n      <td>91733A</td>\n      <td>Navigation experiments in lesser black-backed ...</td>\n      <td>276.967082</td>\n      <td>29.098770</td>\n    </tr>\n    <tr>\n      <th>2009-08-16 15:00:00</th>\n      <th>91733</th>\n      <td>1082636190</td>\n      <td>True</td>\n      <td>8.64117</td>\n      <td>54.33383</td>\n      <td>gps</td>\n      <td>Larus fuscus</td>\n      <td>91733A</td>\n      <td>Navigation experiments in lesser black-backed ...</td>\n      <td>49697.545831</td>\n      <td>49712.038359</td>\n    </tr>\n  </tbody>\n</table>\n</div>"
     },
     "execution_count": 12,
     "metadata": {},
     "output_type": "execute_result"
    }
   ],
   "source": [
    "%%time\n",
    "\n",
    "# Here, we check the distance between start to all points\n",
    "# in the seagulls dataset.\n",
    "gulls = spatial.create_distance_from_start_column(gulls)\n",
    "gulls.head()"
   ],
   "metadata": {
    "collapsed": false,
    "pycharm": {
     "name": "#%%\n"
    }
   }
  },
  {
   "cell_type": "code",
   "execution_count": 13,
   "outputs": [
    {
     "name": "stdout",
     "output_type": "stream",
     "text": [
      "CPU times: user 230 ms, sys: 142 ms, total: 371 ms\n",
      "Wall time: 398 ms\n"
     ]
    },
    {
     "data": {
      "text/plain": "                                             Name      Date  Time Event  \\\nDateTime            traj_id                                               \n1851-07-05 12:00:00 AL021851              UNNAMED  18510705  1200         \n1851-07-10 12:00:00 AL031851              UNNAMED  18510710  1200         \n1853-08-05 12:00:00 AL011853              UNNAMED  18530805  1200         \n1853-08-10 12:00:00 AL021853              UNNAMED  18530810  1200         \n1853-09-21 12:00:00 AL051853              UNNAMED  18530921  1200         \n\n                             Status   lat   lon  Maximum Wind  \\\nDateTime            traj_id                                     \n1851-07-05 12:00:00 AL021851     HU  22.2 -97.6            80   \n1851-07-10 12:00:00 AL031851     TS  12.0 -60.0            50   \n1853-08-05 12:00:00 AL011853     TS  32.5 -69.0            50   \n1853-08-10 12:00:00 AL021853     TS  12.0 -60.0            40   \n1853-09-21 12:00:00 AL051853     TS  20.0 -95.0            50   \n\n                              Minimum Pressure  Low Wind NE  ...  \\\nDateTime            traj_id                                  ...   \n1851-07-05 12:00:00 AL021851              -999         -999  ...   \n1851-07-10 12:00:00 AL031851              -999         -999  ...   \n1853-08-05 12:00:00 AL011853              -999         -999  ...   \n1853-08-10 12:00:00 AL021853              -999         -999  ...   \n1853-09-21 12:00:00 AL051853              -999         -999  ...   \n\n                              Moderate Wind NE  Moderate Wind SE  \\\nDateTime            traj_id                                        \n1851-07-05 12:00:00 AL021851              -999              -999   \n1851-07-10 12:00:00 AL031851              -999              -999   \n1853-08-05 12:00:00 AL011853              -999              -999   \n1853-08-10 12:00:00 AL021853              -999              -999   \n1853-09-21 12:00:00 AL051853              -999              -999   \n\n                              Moderate Wind SW  Moderate Wind NW  \\\nDateTime            traj_id                                        \n1851-07-05 12:00:00 AL021851              -999              -999   \n1851-07-10 12:00:00 AL031851              -999              -999   \n1853-08-05 12:00:00 AL011853              -999              -999   \n1853-08-10 12:00:00 AL021853              -999              -999   \n1853-09-21 12:00:00 AL051853              -999              -999   \n\n                              High Wind NE  High Wind SE  High Wind SW  \\\nDateTime            traj_id                                              \n1851-07-05 12:00:00 AL021851          -999          -999          -999   \n1851-07-10 12:00:00 AL031851          -999          -999          -999   \n1853-08-05 12:00:00 AL011853          -999          -999          -999   \n1853-08-10 12:00:00 AL021853          -999          -999          -999   \n1853-09-21 12:00:00 AL051853          -999          -999          -999   \n\n                              High Wind NW  Distance_prev_to_curr  \\\nDateTime            traj_id                                         \n1851-07-05 12:00:00 AL021851          -999                    NaN   \n1851-07-10 12:00:00 AL031851          -999                    NaN   \n1853-08-05 12:00:00 AL011853          -999                    NaN   \n1853-08-10 12:00:00 AL021853          -999                    NaN   \n1853-09-21 12:00:00 AL051853          -999                    NaN   \n\n                              Distance_start_to_curr  \nDateTime            traj_id                           \n1851-07-05 12:00:00 AL021851                     NaN  \n1851-07-10 12:00:00 AL031851                     NaN  \n1853-08-05 12:00:00 AL011853                     NaN  \n1853-08-10 12:00:00 AL021853                     NaN  \n1853-09-21 12:00:00 AL051853                     NaN  \n\n[5 rows x 23 columns]",
      "text/html": "<div>\n<style scoped>\n    .dataframe tbody tr th:only-of-type {\n        vertical-align: middle;\n    }\n\n    .dataframe tbody tr th {\n        vertical-align: top;\n    }\n\n    .dataframe thead th {\n        text-align: right;\n    }\n</style>\n<table border=\"1\" class=\"dataframe\">\n  <thead>\n    <tr style=\"text-align: right;\">\n      <th></th>\n      <th></th>\n      <th>Name</th>\n      <th>Date</th>\n      <th>Time</th>\n      <th>Event</th>\n      <th>Status</th>\n      <th>lat</th>\n      <th>lon</th>\n      <th>Maximum Wind</th>\n      <th>Minimum Pressure</th>\n      <th>Low Wind NE</th>\n      <th>...</th>\n      <th>Moderate Wind NE</th>\n      <th>Moderate Wind SE</th>\n      <th>Moderate Wind SW</th>\n      <th>Moderate Wind NW</th>\n      <th>High Wind NE</th>\n      <th>High Wind SE</th>\n      <th>High Wind SW</th>\n      <th>High Wind NW</th>\n      <th>Distance_prev_to_curr</th>\n      <th>Distance_start_to_curr</th>\n    </tr>\n    <tr>\n      <th>DateTime</th>\n      <th>traj_id</th>\n      <th></th>\n      <th></th>\n      <th></th>\n      <th></th>\n      <th></th>\n      <th></th>\n      <th></th>\n      <th></th>\n      <th></th>\n      <th></th>\n      <th></th>\n      <th></th>\n      <th></th>\n      <th></th>\n      <th></th>\n      <th></th>\n      <th></th>\n      <th></th>\n      <th></th>\n      <th></th>\n      <th></th>\n    </tr>\n  </thead>\n  <tbody>\n    <tr>\n      <th>1851-07-05 12:00:00</th>\n      <th>AL021851</th>\n      <td>UNNAMED</td>\n      <td>18510705</td>\n      <td>1200</td>\n      <td></td>\n      <td>HU</td>\n      <td>22.2</td>\n      <td>-97.6</td>\n      <td>80</td>\n      <td>-999</td>\n      <td>-999</td>\n      <td>...</td>\n      <td>-999</td>\n      <td>-999</td>\n      <td>-999</td>\n      <td>-999</td>\n      <td>-999</td>\n      <td>-999</td>\n      <td>-999</td>\n      <td>-999</td>\n      <td>NaN</td>\n      <td>NaN</td>\n    </tr>\n    <tr>\n      <th>1851-07-10 12:00:00</th>\n      <th>AL031851</th>\n      <td>UNNAMED</td>\n      <td>18510710</td>\n      <td>1200</td>\n      <td></td>\n      <td>TS</td>\n      <td>12.0</td>\n      <td>-60.0</td>\n      <td>50</td>\n      <td>-999</td>\n      <td>-999</td>\n      <td>...</td>\n      <td>-999</td>\n      <td>-999</td>\n      <td>-999</td>\n      <td>-999</td>\n      <td>-999</td>\n      <td>-999</td>\n      <td>-999</td>\n      <td>-999</td>\n      <td>NaN</td>\n      <td>NaN</td>\n    </tr>\n    <tr>\n      <th>1853-08-05 12:00:00</th>\n      <th>AL011853</th>\n      <td>UNNAMED</td>\n      <td>18530805</td>\n      <td>1200</td>\n      <td></td>\n      <td>TS</td>\n      <td>32.5</td>\n      <td>-69.0</td>\n      <td>50</td>\n      <td>-999</td>\n      <td>-999</td>\n      <td>...</td>\n      <td>-999</td>\n      <td>-999</td>\n      <td>-999</td>\n      <td>-999</td>\n      <td>-999</td>\n      <td>-999</td>\n      <td>-999</td>\n      <td>-999</td>\n      <td>NaN</td>\n      <td>NaN</td>\n    </tr>\n    <tr>\n      <th>1853-08-10 12:00:00</th>\n      <th>AL021853</th>\n      <td>UNNAMED</td>\n      <td>18530810</td>\n      <td>1200</td>\n      <td></td>\n      <td>TS</td>\n      <td>12.0</td>\n      <td>-60.0</td>\n      <td>40</td>\n      <td>-999</td>\n      <td>-999</td>\n      <td>...</td>\n      <td>-999</td>\n      <td>-999</td>\n      <td>-999</td>\n      <td>-999</td>\n      <td>-999</td>\n      <td>-999</td>\n      <td>-999</td>\n      <td>-999</td>\n      <td>NaN</td>\n      <td>NaN</td>\n    </tr>\n    <tr>\n      <th>1853-09-21 12:00:00</th>\n      <th>AL051853</th>\n      <td>UNNAMED</td>\n      <td>18530921</td>\n      <td>1200</td>\n      <td></td>\n      <td>TS</td>\n      <td>20.0</td>\n      <td>-95.0</td>\n      <td>50</td>\n      <td>-999</td>\n      <td>-999</td>\n      <td>...</td>\n      <td>-999</td>\n      <td>-999</td>\n      <td>-999</td>\n      <td>-999</td>\n      <td>-999</td>\n      <td>-999</td>\n      <td>-999</td>\n      <td>-999</td>\n      <td>NaN</td>\n      <td>NaN</td>\n    </tr>\n  </tbody>\n</table>\n<p>5 rows × 23 columns</p>\n</div>"
     },
     "execution_count": 13,
     "metadata": {},
     "output_type": "execute_result"
    }
   ],
   "source": [
    "%%time\n",
    "\n",
    "# Here, we check the distance between start to all points\n",
    "# in the atlantic dataset.\n",
    "atlantic = spatial.create_distance_from_start_column(atlantic)\n",
    "atlantic.head()"
   ],
   "metadata": {
    "collapsed": false,
    "pycharm": {
     "name": "#%%\n"
    }
   }
  },
  {
   "cell_type": "code",
   "execution_count": 14,
   "outputs": [
    {
     "name": "stdout",
     "output_type": "stream",
     "text": [
      "CPU times: user 131 ms, sys: 15.2 ms, total: 146 ms\n",
      "Wall time: 145 ms\n"
     ]
    },
    {
     "data": {
      "text/plain": "14748.27854559045"
     },
     "execution_count": 14,
     "metadata": {},
     "output_type": "execute_result"
    }
   ],
   "source": [
    "%%time\n",
    "\n",
    "# Here, we are calculating the distance travelled in traj_id 1\n",
    "# on the date 2008-10-23.\n",
    "spatial.get_distance_travelled_by_date_and_traj_id(geolife,\n",
    "                                                   '2008-10-23',\n",
    "                                                   '1')"
   ],
   "metadata": {
    "collapsed": false,
    "pycharm": {
     "name": "#%%\n"
    }
   }
  },
  {
   "cell_type": "code",
   "execution_count": 15,
   "outputs": [
    {
     "name": "stdout",
     "output_type": "stream",
     "text": [
      "CPU times: user 259 ms, sys: 77.1 ms, total: 336 ms\n",
      "Wall time: 807 ms\n"
     ]
    },
    {
     "data": {
      "text/plain": "                                   lat         lon  Distance_prev_to_curr  \\\nDateTime            traj_id                                                 \n2008-10-23 16:53:05 1        39.984094  116.319236                    NaN   \n2008-10-23 16:53:06 1        39.984198  116.319322              13.690153   \n2008-10-23 05:53:11 1        39.984224  116.319402               7.403788   \n2008-10-23 05:53:16 1        39.984211  116.319389               1.821083   \n2008-10-23 05:53:21 1        39.984217  116.319422               2.889671   \n\n                             Distance_start_to_curr  Distance_to_(0, 0)  \nDateTime            traj_id                                              \n2008-10-23 16:53:05 1                           NaN        1.221587e+07  \n2008-10-23 16:53:06 1                     13.690153        1.221587e+07  \n2008-10-23 05:53:11 1                     20.223428        1.221588e+07  \n2008-10-23 05:53:16 1                     18.416895        1.221588e+07  \n2008-10-23 05:53:21 1                     20.933073        1.221588e+07  ",
      "text/html": "<div>\n<style scoped>\n    .dataframe tbody tr th:only-of-type {\n        vertical-align: middle;\n    }\n\n    .dataframe tbody tr th {\n        vertical-align: top;\n    }\n\n    .dataframe thead th {\n        text-align: right;\n    }\n</style>\n<table border=\"1\" class=\"dataframe\">\n  <thead>\n    <tr style=\"text-align: right;\">\n      <th></th>\n      <th></th>\n      <th>lat</th>\n      <th>lon</th>\n      <th>Distance_prev_to_curr</th>\n      <th>Distance_start_to_curr</th>\n      <th>Distance_to_(0, 0)</th>\n    </tr>\n    <tr>\n      <th>DateTime</th>\n      <th>traj_id</th>\n      <th></th>\n      <th></th>\n      <th></th>\n      <th></th>\n      <th></th>\n    </tr>\n  </thead>\n  <tbody>\n    <tr>\n      <th>2008-10-23 16:53:05</th>\n      <th>1</th>\n      <td>39.984094</td>\n      <td>116.319236</td>\n      <td>NaN</td>\n      <td>NaN</td>\n      <td>1.221587e+07</td>\n    </tr>\n    <tr>\n      <th>2008-10-23 16:53:06</th>\n      <th>1</th>\n      <td>39.984198</td>\n      <td>116.319322</td>\n      <td>13.690153</td>\n      <td>13.690153</td>\n      <td>1.221587e+07</td>\n    </tr>\n    <tr>\n      <th>2008-10-23 05:53:11</th>\n      <th>1</th>\n      <td>39.984224</td>\n      <td>116.319402</td>\n      <td>7.403788</td>\n      <td>20.223428</td>\n      <td>1.221588e+07</td>\n    </tr>\n    <tr>\n      <th>2008-10-23 05:53:16</th>\n      <th>1</th>\n      <td>39.984211</td>\n      <td>116.319389</td>\n      <td>1.821083</td>\n      <td>18.416895</td>\n      <td>1.221588e+07</td>\n    </tr>\n    <tr>\n      <th>2008-10-23 05:53:21</th>\n      <th>1</th>\n      <td>39.984217</td>\n      <td>116.319422</td>\n      <td>2.889671</td>\n      <td>20.933073</td>\n      <td>1.221588e+07</td>\n    </tr>\n  </tbody>\n</table>\n</div>"
     },
     "execution_count": 15,
     "metadata": {},
     "output_type": "execute_result"
    }
   ],
   "source": [
    "%%time\n",
    "\n",
    "# Now, lets check the distance of all the points\n",
    "# in the geolife dataset from the coordinates (0, 0).\n",
    "geolife = spatial.create_distance_from_given_point_column(geolife,\n",
    "                                                          (0, 0))\n",
    "geolife.head()"
   ],
   "metadata": {
    "collapsed": false,
    "pycharm": {
     "name": "#%%\n"
    }
   }
  },
  {
   "cell_type": "code",
   "execution_count": 16,
   "outputs": [
    {
     "name": "stdout",
     "output_type": "stream",
     "text": [
      "CPU times: user 390 ms, sys: 87.1 ms, total: 477 ms\n",
      "Wall time: 949 ms\n"
     ]
    },
    {
     "data": {
      "text/plain": "                                   lat         lon  Distance_prev_to_curr  \\\nDateTime            traj_id                                                 \n2008-10-23 16:53:05 1        39.984094  116.319236                    NaN   \n2008-10-23 16:53:06 1        39.984198  116.319322              13.690153   \n2008-10-23 05:53:11 1        39.984224  116.319402               7.403788   \n2008-10-23 05:53:16 1        39.984211  116.319389               1.821083   \n2008-10-23 05:53:21 1        39.984217  116.319422               2.889671   \n\n                             Distance_start_to_curr  Distance_to_(0, 0)  \\\nDateTime            traj_id                                               \n2008-10-23 16:53:05 1                           NaN        1.221587e+07   \n2008-10-23 16:53:06 1                     13.690153        1.221587e+07   \n2008-10-23 05:53:11 1                     20.223428        1.221588e+07   \n2008-10-23 05:53:16 1                     18.416895        1.221588e+07   \n2008-10-23 05:53:21 1                     20.933073        1.221588e+07   \n\n                             Within_15000000_m_from_(0, 0)  \nDateTime            traj_id                                 \n2008-10-23 16:53:05 1                                 True  \n2008-10-23 16:53:06 1                                 True  \n2008-10-23 05:53:11 1                                 True  \n2008-10-23 05:53:16 1                                 True  \n2008-10-23 05:53:21 1                                 True  ",
      "text/html": "<div>\n<style scoped>\n    .dataframe tbody tr th:only-of-type {\n        vertical-align: middle;\n    }\n\n    .dataframe tbody tr th {\n        vertical-align: top;\n    }\n\n    .dataframe thead th {\n        text-align: right;\n    }\n</style>\n<table border=\"1\" class=\"dataframe\">\n  <thead>\n    <tr style=\"text-align: right;\">\n      <th></th>\n      <th></th>\n      <th>lat</th>\n      <th>lon</th>\n      <th>Distance_prev_to_curr</th>\n      <th>Distance_start_to_curr</th>\n      <th>Distance_to_(0, 0)</th>\n      <th>Within_15000000_m_from_(0, 0)</th>\n    </tr>\n    <tr>\n      <th>DateTime</th>\n      <th>traj_id</th>\n      <th></th>\n      <th></th>\n      <th></th>\n      <th></th>\n      <th></th>\n      <th></th>\n    </tr>\n  </thead>\n  <tbody>\n    <tr>\n      <th>2008-10-23 16:53:05</th>\n      <th>1</th>\n      <td>39.984094</td>\n      <td>116.319236</td>\n      <td>NaN</td>\n      <td>NaN</td>\n      <td>1.221587e+07</td>\n      <td>True</td>\n    </tr>\n    <tr>\n      <th>2008-10-23 16:53:06</th>\n      <th>1</th>\n      <td>39.984198</td>\n      <td>116.319322</td>\n      <td>13.690153</td>\n      <td>13.690153</td>\n      <td>1.221587e+07</td>\n      <td>True</td>\n    </tr>\n    <tr>\n      <th>2008-10-23 05:53:11</th>\n      <th>1</th>\n      <td>39.984224</td>\n      <td>116.319402</td>\n      <td>7.403788</td>\n      <td>20.223428</td>\n      <td>1.221588e+07</td>\n      <td>True</td>\n    </tr>\n    <tr>\n      <th>2008-10-23 05:53:16</th>\n      <th>1</th>\n      <td>39.984211</td>\n      <td>116.319389</td>\n      <td>1.821083</td>\n      <td>18.416895</td>\n      <td>1.221588e+07</td>\n      <td>True</td>\n    </tr>\n    <tr>\n      <th>2008-10-23 05:53:21</th>\n      <th>1</th>\n      <td>39.984217</td>\n      <td>116.319422</td>\n      <td>2.889671</td>\n      <td>20.933073</td>\n      <td>1.221588e+07</td>\n      <td>True</td>\n    </tr>\n  </tbody>\n</table>\n</div>"
     },
     "execution_count": 16,
     "metadata": {},
     "output_type": "execute_result"
    }
   ],
   "source": [
    "%%time\n",
    "\n",
    "# Now, lets check if all the points in the geolife dataset\n",
    "# are within 12000 KMs of the coordinates (0, 0).\n",
    "geolife = spatial.create_point_within_range_column(geolife,\n",
    "                                                   (0,0),\n",
    "                                                   15000000)\n",
    "geolife.head()"
   ],
   "metadata": {
    "collapsed": false,
    "pycharm": {
     "name": "#%%\n"
    }
   }
  },
  {
   "cell_type": "code",
   "execution_count": 17,
   "outputs": [
    {
     "name": "stdout",
     "output_type": "stream",
     "text": [
      "CPU times: user 32 ms, sys: 3.33 ms, total: 35.3 ms\n",
      "Wall time: 33.9 ms\n"
     ]
    },
    {
     "data": {
      "text/plain": "                                   lat         lon  Distance_prev_to_curr  \\\nDateTime            traj_id                                                 \n2008-10-23 16:53:05 1        39.984094  116.319236                    NaN   \n2008-10-23 16:53:06 1        39.984198  116.319322              13.690153   \n2008-10-23 05:53:11 1        39.984224  116.319402               7.403788   \n2008-10-23 05:53:16 1        39.984211  116.319389               1.821083   \n2008-10-23 05:53:21 1        39.984217  116.319422               2.889671   \n\n                             Distance_start_to_curr  Distance_to_(0, 0)  \\\nDateTime            traj_id                                               \n2008-10-23 16:53:05 1                           NaN        1.221587e+07   \n2008-10-23 16:53:06 1                     13.690153        1.221587e+07   \n2008-10-23 05:53:11 1                     20.223428        1.221588e+07   \n2008-10-23 05:53:16 1                     18.416895        1.221588e+07   \n2008-10-23 05:53:21 1                     20.933073        1.221588e+07   \n\n                             Within_15000000_m_from_(0, 0)  Speed_prev_to_curr  \nDateTime            traj_id                                                     \n2008-10-23 16:53:05 1                                 True                 NaN  \n2008-10-23 16:53:06 1                                 True           13.690153  \n2008-10-23 05:53:11 1                                 True            0.000158  \n2008-10-23 05:53:16 1                                 True            0.364217  \n2008-10-23 05:53:21 1                                 True            0.577934  ",
      "text/html": "<div>\n<style scoped>\n    .dataframe tbody tr th:only-of-type {\n        vertical-align: middle;\n    }\n\n    .dataframe tbody tr th {\n        vertical-align: top;\n    }\n\n    .dataframe thead th {\n        text-align: right;\n    }\n</style>\n<table border=\"1\" class=\"dataframe\">\n  <thead>\n    <tr style=\"text-align: right;\">\n      <th></th>\n      <th></th>\n      <th>lat</th>\n      <th>lon</th>\n      <th>Distance_prev_to_curr</th>\n      <th>Distance_start_to_curr</th>\n      <th>Distance_to_(0, 0)</th>\n      <th>Within_15000000_m_from_(0, 0)</th>\n      <th>Speed_prev_to_curr</th>\n    </tr>\n    <tr>\n      <th>DateTime</th>\n      <th>traj_id</th>\n      <th></th>\n      <th></th>\n      <th></th>\n      <th></th>\n      <th></th>\n      <th></th>\n      <th></th>\n    </tr>\n  </thead>\n  <tbody>\n    <tr>\n      <th>2008-10-23 16:53:05</th>\n      <th>1</th>\n      <td>39.984094</td>\n      <td>116.319236</td>\n      <td>NaN</td>\n      <td>NaN</td>\n      <td>1.221587e+07</td>\n      <td>True</td>\n      <td>NaN</td>\n    </tr>\n    <tr>\n      <th>2008-10-23 16:53:06</th>\n      <th>1</th>\n      <td>39.984198</td>\n      <td>116.319322</td>\n      <td>13.690153</td>\n      <td>13.690153</td>\n      <td>1.221587e+07</td>\n      <td>True</td>\n      <td>13.690153</td>\n    </tr>\n    <tr>\n      <th>2008-10-23 05:53:11</th>\n      <th>1</th>\n      <td>39.984224</td>\n      <td>116.319402</td>\n      <td>7.403788</td>\n      <td>20.223428</td>\n      <td>1.221588e+07</td>\n      <td>True</td>\n      <td>0.000158</td>\n    </tr>\n    <tr>\n      <th>2008-10-23 05:53:16</th>\n      <th>1</th>\n      <td>39.984211</td>\n      <td>116.319389</td>\n      <td>1.821083</td>\n      <td>18.416895</td>\n      <td>1.221588e+07</td>\n      <td>True</td>\n      <td>0.364217</td>\n    </tr>\n    <tr>\n      <th>2008-10-23 05:53:21</th>\n      <th>1</th>\n      <td>39.984217</td>\n      <td>116.319422</td>\n      <td>2.889671</td>\n      <td>20.933073</td>\n      <td>1.221588e+07</td>\n      <td>True</td>\n      <td>0.577934</td>\n    </tr>\n  </tbody>\n</table>\n</div>"
     },
     "execution_count": 17,
     "metadata": {},
     "output_type": "execute_result"
    }
   ],
   "source": [
    "%%time\n",
    "\n",
    "# Now, lets calculate the speed of the object between 2\n",
    "# consecutive trajectory points.\n",
    "# First, we are doing in the geolife dataset.\n",
    "geolife = spatial.create_speed_from_prev_column(geolife)\n",
    "geolife.head()"
   ],
   "metadata": {
    "collapsed": false,
    "pycharm": {
     "name": "#%%\n"
    }
   }
  },
  {
   "cell_type": "code",
   "execution_count": 18,
   "outputs": [
    {
     "name": "stdout",
     "output_type": "stream",
     "text": [
      "CPU times: user 17 ms, sys: 170 µs, total: 17.2 ms\n",
      "Wall time: 15.9 ms\n"
     ]
    },
    {
     "data": {
      "text/plain": "                                             Name      Date  Time Event  \\\nDateTime            traj_id                                               \n1851-07-05 12:00:00 AL021851              UNNAMED  18510705  1200         \n1851-07-10 12:00:00 AL031851              UNNAMED  18510710  1200         \n1853-08-05 12:00:00 AL011853              UNNAMED  18530805  1200         \n1853-08-10 12:00:00 AL021853              UNNAMED  18530810  1200         \n1853-09-21 12:00:00 AL051853              UNNAMED  18530921  1200         \n\n                             Status   lat   lon  Maximum Wind  \\\nDateTime            traj_id                                     \n1851-07-05 12:00:00 AL021851     HU  22.2 -97.6            80   \n1851-07-10 12:00:00 AL031851     TS  12.0 -60.0            50   \n1853-08-05 12:00:00 AL011853     TS  32.5 -69.0            50   \n1853-08-10 12:00:00 AL021853     TS  12.0 -60.0            40   \n1853-09-21 12:00:00 AL051853     TS  20.0 -95.0            50   \n\n                              Minimum Pressure  Low Wind NE  ...  \\\nDateTime            traj_id                                  ...   \n1851-07-05 12:00:00 AL021851              -999         -999  ...   \n1851-07-10 12:00:00 AL031851              -999         -999  ...   \n1853-08-05 12:00:00 AL011853              -999         -999  ...   \n1853-08-10 12:00:00 AL021853              -999         -999  ...   \n1853-09-21 12:00:00 AL051853              -999         -999  ...   \n\n                              Moderate Wind SE  Moderate Wind SW  \\\nDateTime            traj_id                                        \n1851-07-05 12:00:00 AL021851              -999              -999   \n1851-07-10 12:00:00 AL031851              -999              -999   \n1853-08-05 12:00:00 AL011853              -999              -999   \n1853-08-10 12:00:00 AL021853              -999              -999   \n1853-09-21 12:00:00 AL051853              -999              -999   \n\n                              Moderate Wind NW  High Wind NE  High Wind SE  \\\nDateTime            traj_id                                                  \n1851-07-05 12:00:00 AL021851              -999          -999          -999   \n1851-07-10 12:00:00 AL031851              -999          -999          -999   \n1853-08-05 12:00:00 AL011853              -999          -999          -999   \n1853-08-10 12:00:00 AL021853              -999          -999          -999   \n1853-09-21 12:00:00 AL051853              -999          -999          -999   \n\n                              High Wind SW  High Wind NW  \\\nDateTime            traj_id                                \n1851-07-05 12:00:00 AL021851          -999          -999   \n1851-07-10 12:00:00 AL031851          -999          -999   \n1853-08-05 12:00:00 AL011853          -999          -999   \n1853-08-10 12:00:00 AL021853          -999          -999   \n1853-09-21 12:00:00 AL051853          -999          -999   \n\n                              Distance_prev_to_curr  Distance_start_to_curr  \\\nDateTime            traj_id                                                   \n1851-07-05 12:00:00 AL021851                    NaN                     NaN   \n1851-07-10 12:00:00 AL031851                    NaN                     NaN   \n1853-08-05 12:00:00 AL011853                    NaN                     NaN   \n1853-08-10 12:00:00 AL021853                    NaN                     NaN   \n1853-09-21 12:00:00 AL051853                    NaN                     NaN   \n\n                              Speed_prev_to_curr  \nDateTime            traj_id                       \n1851-07-05 12:00:00 AL021851                 NaN  \n1851-07-10 12:00:00 AL031851                 NaN  \n1853-08-05 12:00:00 AL011853                 NaN  \n1853-08-10 12:00:00 AL021853                 NaN  \n1853-09-21 12:00:00 AL051853                 NaN  \n\n[5 rows x 24 columns]",
      "text/html": "<div>\n<style scoped>\n    .dataframe tbody tr th:only-of-type {\n        vertical-align: middle;\n    }\n\n    .dataframe tbody tr th {\n        vertical-align: top;\n    }\n\n    .dataframe thead th {\n        text-align: right;\n    }\n</style>\n<table border=\"1\" class=\"dataframe\">\n  <thead>\n    <tr style=\"text-align: right;\">\n      <th></th>\n      <th></th>\n      <th>Name</th>\n      <th>Date</th>\n      <th>Time</th>\n      <th>Event</th>\n      <th>Status</th>\n      <th>lat</th>\n      <th>lon</th>\n      <th>Maximum Wind</th>\n      <th>Minimum Pressure</th>\n      <th>Low Wind NE</th>\n      <th>...</th>\n      <th>Moderate Wind SE</th>\n      <th>Moderate Wind SW</th>\n      <th>Moderate Wind NW</th>\n      <th>High Wind NE</th>\n      <th>High Wind SE</th>\n      <th>High Wind SW</th>\n      <th>High Wind NW</th>\n      <th>Distance_prev_to_curr</th>\n      <th>Distance_start_to_curr</th>\n      <th>Speed_prev_to_curr</th>\n    </tr>\n    <tr>\n      <th>DateTime</th>\n      <th>traj_id</th>\n      <th></th>\n      <th></th>\n      <th></th>\n      <th></th>\n      <th></th>\n      <th></th>\n      <th></th>\n      <th></th>\n      <th></th>\n      <th></th>\n      <th></th>\n      <th></th>\n      <th></th>\n      <th></th>\n      <th></th>\n      <th></th>\n      <th></th>\n      <th></th>\n      <th></th>\n      <th></th>\n      <th></th>\n    </tr>\n  </thead>\n  <tbody>\n    <tr>\n      <th>1851-07-05 12:00:00</th>\n      <th>AL021851</th>\n      <td>UNNAMED</td>\n      <td>18510705</td>\n      <td>1200</td>\n      <td></td>\n      <td>HU</td>\n      <td>22.2</td>\n      <td>-97.6</td>\n      <td>80</td>\n      <td>-999</td>\n      <td>-999</td>\n      <td>...</td>\n      <td>-999</td>\n      <td>-999</td>\n      <td>-999</td>\n      <td>-999</td>\n      <td>-999</td>\n      <td>-999</td>\n      <td>-999</td>\n      <td>NaN</td>\n      <td>NaN</td>\n      <td>NaN</td>\n    </tr>\n    <tr>\n      <th>1851-07-10 12:00:00</th>\n      <th>AL031851</th>\n      <td>UNNAMED</td>\n      <td>18510710</td>\n      <td>1200</td>\n      <td></td>\n      <td>TS</td>\n      <td>12.0</td>\n      <td>-60.0</td>\n      <td>50</td>\n      <td>-999</td>\n      <td>-999</td>\n      <td>...</td>\n      <td>-999</td>\n      <td>-999</td>\n      <td>-999</td>\n      <td>-999</td>\n      <td>-999</td>\n      <td>-999</td>\n      <td>-999</td>\n      <td>NaN</td>\n      <td>NaN</td>\n      <td>NaN</td>\n    </tr>\n    <tr>\n      <th>1853-08-05 12:00:00</th>\n      <th>AL011853</th>\n      <td>UNNAMED</td>\n      <td>18530805</td>\n      <td>1200</td>\n      <td></td>\n      <td>TS</td>\n      <td>32.5</td>\n      <td>-69.0</td>\n      <td>50</td>\n      <td>-999</td>\n      <td>-999</td>\n      <td>...</td>\n      <td>-999</td>\n      <td>-999</td>\n      <td>-999</td>\n      <td>-999</td>\n      <td>-999</td>\n      <td>-999</td>\n      <td>-999</td>\n      <td>NaN</td>\n      <td>NaN</td>\n      <td>NaN</td>\n    </tr>\n    <tr>\n      <th>1853-08-10 12:00:00</th>\n      <th>AL021853</th>\n      <td>UNNAMED</td>\n      <td>18530810</td>\n      <td>1200</td>\n      <td></td>\n      <td>TS</td>\n      <td>12.0</td>\n      <td>-60.0</td>\n      <td>40</td>\n      <td>-999</td>\n      <td>-999</td>\n      <td>...</td>\n      <td>-999</td>\n      <td>-999</td>\n      <td>-999</td>\n      <td>-999</td>\n      <td>-999</td>\n      <td>-999</td>\n      <td>-999</td>\n      <td>NaN</td>\n      <td>NaN</td>\n      <td>NaN</td>\n    </tr>\n    <tr>\n      <th>1853-09-21 12:00:00</th>\n      <th>AL051853</th>\n      <td>UNNAMED</td>\n      <td>18530921</td>\n      <td>1200</td>\n      <td></td>\n      <td>TS</td>\n      <td>20.0</td>\n      <td>-95.0</td>\n      <td>50</td>\n      <td>-999</td>\n      <td>-999</td>\n      <td>...</td>\n      <td>-999</td>\n      <td>-999</td>\n      <td>-999</td>\n      <td>-999</td>\n      <td>-999</td>\n      <td>-999</td>\n      <td>-999</td>\n      <td>NaN</td>\n      <td>NaN</td>\n      <td>NaN</td>\n    </tr>\n  </tbody>\n</table>\n<p>5 rows × 24 columns</p>\n</div>"
     },
     "execution_count": 18,
     "metadata": {},
     "output_type": "execute_result"
    }
   ],
   "source": [
    "%%time\n",
    "\n",
    "# Now lets calculate the speed between 2 consecutive\n",
    "# points in the atlantic dataset.\n",
    "atlantic = spatial.create_speed_from_prev_column(atlantic)\n",
    "atlantic.head()"
   ],
   "metadata": {
    "collapsed": false,
    "pycharm": {
     "name": "#%%\n"
    }
   }
  },
  {
   "cell_type": "code",
   "execution_count": 19,
   "outputs": [
    {
     "name": "stdout",
     "output_type": "stream",
     "text": [
      "CPU times: user 24.7 ms, sys: 109 µs, total: 24.8 ms\n",
      "Wall time: 23 ms\n"
     ]
    },
    {
     "data": {
      "text/plain": "                               event-id  visible      lon       lat  \\\nDateTime            traj_id                                           \n2009-08-15 15:00:00 91733    1082636186     True  7.91883  54.18600   \n2009-08-15 21:00:00 91733    1082636187     True  7.91917  54.18567   \n2009-08-16 06:00:00 91733    1082636188     True  7.91500  54.18533   \n2009-08-16 09:00:00 91733    1082636189     True  7.91917  54.18583   \n2009-08-16 15:00:00 91733    1082636190     True  8.64117  54.33383   \n\n                            sensor-type individual-taxon-canonical-name  \\\nDateTime            traj_id                                               \n2009-08-15 15:00:00 91733           gps                    Larus fuscus   \n2009-08-15 21:00:00 91733           gps                    Larus fuscus   \n2009-08-16 06:00:00 91733           gps                    Larus fuscus   \n2009-08-16 09:00:00 91733           gps                    Larus fuscus   \n2009-08-16 15:00:00 91733           gps                    Larus fuscus   \n\n                            individual-local-identifier  \\\nDateTime            traj_id                               \n2009-08-15 15:00:00 91733                        91733A   \n2009-08-15 21:00:00 91733                        91733A   \n2009-08-16 06:00:00 91733                        91733A   \n2009-08-16 09:00:00 91733                        91733A   \n2009-08-16 15:00:00 91733                        91733A   \n\n                                                                    study-name  \\\nDateTime            traj_id                                                      \n2009-08-15 15:00:00 91733    Navigation experiments in lesser black-backed ...   \n2009-08-15 21:00:00 91733    Navigation experiments in lesser black-backed ...   \n2009-08-16 06:00:00 91733    Navigation experiments in lesser black-backed ...   \n2009-08-16 09:00:00 91733    Navigation experiments in lesser black-backed ...   \n2009-08-16 15:00:00 91733    Navigation experiments in lesser black-backed ...   \n\n                             Distance_prev_to_curr  Distance_start_to_curr  \\\nDateTime            traj_id                                                  \n2009-08-15 15:00:00 91733                      NaN                     NaN   \n2009-08-15 21:00:00 91733                42.847231               42.847231   \n2009-08-16 06:00:00 91733               273.951247              260.103940   \n2009-08-16 09:00:00 91733               276.967082               29.098770   \n2009-08-16 15:00:00 91733             49697.545831            49712.038359   \n\n                             Speed_prev_to_curr  \nDateTime            traj_id                      \n2009-08-15 15:00:00 91733                   NaN  \n2009-08-15 21:00:00 91733              0.001984  \n2009-08-16 06:00:00 91733              0.008455  \n2009-08-16 09:00:00 91733              0.025645  \n2009-08-16 15:00:00 91733              2.300812  ",
      "text/html": "<div>\n<style scoped>\n    .dataframe tbody tr th:only-of-type {\n        vertical-align: middle;\n    }\n\n    .dataframe tbody tr th {\n        vertical-align: top;\n    }\n\n    .dataframe thead th {\n        text-align: right;\n    }\n</style>\n<table border=\"1\" class=\"dataframe\">\n  <thead>\n    <tr style=\"text-align: right;\">\n      <th></th>\n      <th></th>\n      <th>event-id</th>\n      <th>visible</th>\n      <th>lon</th>\n      <th>lat</th>\n      <th>sensor-type</th>\n      <th>individual-taxon-canonical-name</th>\n      <th>individual-local-identifier</th>\n      <th>study-name</th>\n      <th>Distance_prev_to_curr</th>\n      <th>Distance_start_to_curr</th>\n      <th>Speed_prev_to_curr</th>\n    </tr>\n    <tr>\n      <th>DateTime</th>\n      <th>traj_id</th>\n      <th></th>\n      <th></th>\n      <th></th>\n      <th></th>\n      <th></th>\n      <th></th>\n      <th></th>\n      <th></th>\n      <th></th>\n      <th></th>\n      <th></th>\n    </tr>\n  </thead>\n  <tbody>\n    <tr>\n      <th>2009-08-15 15:00:00</th>\n      <th>91733</th>\n      <td>1082636186</td>\n      <td>True</td>\n      <td>7.91883</td>\n      <td>54.18600</td>\n      <td>gps</td>\n      <td>Larus fuscus</td>\n      <td>91733A</td>\n      <td>Navigation experiments in lesser black-backed ...</td>\n      <td>NaN</td>\n      <td>NaN</td>\n      <td>NaN</td>\n    </tr>\n    <tr>\n      <th>2009-08-15 21:00:00</th>\n      <th>91733</th>\n      <td>1082636187</td>\n      <td>True</td>\n      <td>7.91917</td>\n      <td>54.18567</td>\n      <td>gps</td>\n      <td>Larus fuscus</td>\n      <td>91733A</td>\n      <td>Navigation experiments in lesser black-backed ...</td>\n      <td>42.847231</td>\n      <td>42.847231</td>\n      <td>0.001984</td>\n    </tr>\n    <tr>\n      <th>2009-08-16 06:00:00</th>\n      <th>91733</th>\n      <td>1082636188</td>\n      <td>True</td>\n      <td>7.91500</td>\n      <td>54.18533</td>\n      <td>gps</td>\n      <td>Larus fuscus</td>\n      <td>91733A</td>\n      <td>Navigation experiments in lesser black-backed ...</td>\n      <td>273.951247</td>\n      <td>260.103940</td>\n      <td>0.008455</td>\n    </tr>\n    <tr>\n      <th>2009-08-16 09:00:00</th>\n      <th>91733</th>\n      <td>1082636189</td>\n      <td>True</td>\n      <td>7.91917</td>\n      <td>54.18583</td>\n      <td>gps</td>\n      <td>Larus fuscus</td>\n      <td>91733A</td>\n      <td>Navigation experiments in lesser black-backed ...</td>\n      <td>276.967082</td>\n      <td>29.098770</td>\n      <td>0.025645</td>\n    </tr>\n    <tr>\n      <th>2009-08-16 15:00:00</th>\n      <th>91733</th>\n      <td>1082636190</td>\n      <td>True</td>\n      <td>8.64117</td>\n      <td>54.33383</td>\n      <td>gps</td>\n      <td>Larus fuscus</td>\n      <td>91733A</td>\n      <td>Navigation experiments in lesser black-backed ...</td>\n      <td>49697.545831</td>\n      <td>49712.038359</td>\n      <td>2.300812</td>\n    </tr>\n  </tbody>\n</table>\n</div>"
     },
     "execution_count": 19,
     "metadata": {},
     "output_type": "execute_result"
    }
   ],
   "source": [
    "%%time\n",
    "\n",
    "# Now lets calculate the speed between 2 consecutive\n",
    "# points in the seagulls dataset.\n",
    "gulls = spatial.create_speed_from_prev_column(gulls)\n",
    "gulls.head()"
   ],
   "metadata": {
    "collapsed": false,
    "pycharm": {
     "name": "#%%\n"
    }
   }
  },
  {
   "cell_type": "code",
   "execution_count": 20,
   "outputs": [
    {
     "name": "stdout",
     "output_type": "stream",
     "text": [
      "CPU times: user 34.7 ms, sys: 439 µs, total: 35.1 ms\n",
      "Wall time: 33.3 ms\n"
     ]
    },
    {
     "data": {
      "text/plain": "                                   lat         lon  Distance_prev_to_curr  \\\nDateTime            traj_id                                                 \n2008-10-23 16:53:05 1        39.984094  116.319236                    NaN   \n2008-10-23 16:53:06 1        39.984198  116.319322              13.690153   \n2008-10-23 05:53:11 1        39.984224  116.319402               7.403788   \n2008-10-23 05:53:16 1        39.984211  116.319389               1.821083   \n2008-10-23 05:53:21 1        39.984217  116.319422               2.889671   \n\n                             Distance_start_to_curr  Distance_to_(0, 0)  \\\nDateTime            traj_id                                               \n2008-10-23 16:53:05 1                           NaN        1.221587e+07   \n2008-10-23 16:53:06 1                     13.690153        1.221587e+07   \n2008-10-23 05:53:11 1                     20.223428        1.221588e+07   \n2008-10-23 05:53:16 1                     18.416895        1.221588e+07   \n2008-10-23 05:53:21 1                     20.933073        1.221588e+07   \n\n                             Within_15000000_m_from_(0, 0)  \\\nDateTime            traj_id                                  \n2008-10-23 16:53:05 1                                 True   \n2008-10-23 16:53:06 1                                 True   \n2008-10-23 05:53:11 1                                 True   \n2008-10-23 05:53:16 1                                 True   \n2008-10-23 05:53:21 1                                 True   \n\n                             Speed_prev_to_curr  Acceleration_prev_to_curr  \nDateTime            traj_id                                                 \n2008-10-23 16:53:05 1                       NaN                        NaN  \n2008-10-23 16:53:06 1                 13.690153                        NaN  \n2008-10-23 05:53:11 1                  0.000158                  -0.000292  \n2008-10-23 05:53:16 1                  0.364217                   0.072812  \n2008-10-23 05:53:21 1                  0.577934                   0.042744  ",
      "text/html": "<div>\n<style scoped>\n    .dataframe tbody tr th:only-of-type {\n        vertical-align: middle;\n    }\n\n    .dataframe tbody tr th {\n        vertical-align: top;\n    }\n\n    .dataframe thead th {\n        text-align: right;\n    }\n</style>\n<table border=\"1\" class=\"dataframe\">\n  <thead>\n    <tr style=\"text-align: right;\">\n      <th></th>\n      <th></th>\n      <th>lat</th>\n      <th>lon</th>\n      <th>Distance_prev_to_curr</th>\n      <th>Distance_start_to_curr</th>\n      <th>Distance_to_(0, 0)</th>\n      <th>Within_15000000_m_from_(0, 0)</th>\n      <th>Speed_prev_to_curr</th>\n      <th>Acceleration_prev_to_curr</th>\n    </tr>\n    <tr>\n      <th>DateTime</th>\n      <th>traj_id</th>\n      <th></th>\n      <th></th>\n      <th></th>\n      <th></th>\n      <th></th>\n      <th></th>\n      <th></th>\n      <th></th>\n    </tr>\n  </thead>\n  <tbody>\n    <tr>\n      <th>2008-10-23 16:53:05</th>\n      <th>1</th>\n      <td>39.984094</td>\n      <td>116.319236</td>\n      <td>NaN</td>\n      <td>NaN</td>\n      <td>1.221587e+07</td>\n      <td>True</td>\n      <td>NaN</td>\n      <td>NaN</td>\n    </tr>\n    <tr>\n      <th>2008-10-23 16:53:06</th>\n      <th>1</th>\n      <td>39.984198</td>\n      <td>116.319322</td>\n      <td>13.690153</td>\n      <td>13.690153</td>\n      <td>1.221587e+07</td>\n      <td>True</td>\n      <td>13.690153</td>\n      <td>NaN</td>\n    </tr>\n    <tr>\n      <th>2008-10-23 05:53:11</th>\n      <th>1</th>\n      <td>39.984224</td>\n      <td>116.319402</td>\n      <td>7.403788</td>\n      <td>20.223428</td>\n      <td>1.221588e+07</td>\n      <td>True</td>\n      <td>0.000158</td>\n      <td>-0.000292</td>\n    </tr>\n    <tr>\n      <th>2008-10-23 05:53:16</th>\n      <th>1</th>\n      <td>39.984211</td>\n      <td>116.319389</td>\n      <td>1.821083</td>\n      <td>18.416895</td>\n      <td>1.221588e+07</td>\n      <td>True</td>\n      <td>0.364217</td>\n      <td>0.072812</td>\n    </tr>\n    <tr>\n      <th>2008-10-23 05:53:21</th>\n      <th>1</th>\n      <td>39.984217</td>\n      <td>116.319422</td>\n      <td>2.889671</td>\n      <td>20.933073</td>\n      <td>1.221588e+07</td>\n      <td>True</td>\n      <td>0.577934</td>\n      <td>0.042744</td>\n    </tr>\n  </tbody>\n</table>\n</div>"
     },
     "execution_count": 20,
     "metadata": {},
     "output_type": "execute_result"
    }
   ],
   "source": [
    "%%time\n",
    "\n",
    "# Now lets check the acceleration of the object\n",
    "# between 2 consecutive points.\n",
    "# First, lets check for the geolife dataset.\n",
    "geolife = spatial.create_acceleration_from_prev_column(geolife)\n",
    "geolife.head()"
   ],
   "metadata": {
    "collapsed": false,
    "pycharm": {
     "name": "#%%\n"
    }
   }
  },
  {
   "cell_type": "code",
   "execution_count": 21,
   "outputs": [
    {
     "name": "stdout",
     "output_type": "stream",
     "text": [
      "CPU times: user 25.8 ms, sys: 299 µs, total: 26.1 ms\n",
      "Wall time: 24.1 ms\n"
     ]
    },
    {
     "data": {
      "text/plain": "                               event-id  visible      lon       lat  \\\nDateTime            traj_id                                           \n2009-08-15 15:00:00 91733    1082636186     True  7.91883  54.18600   \n2009-08-15 21:00:00 91733    1082636187     True  7.91917  54.18567   \n2009-08-16 06:00:00 91733    1082636188     True  7.91500  54.18533   \n2009-08-16 09:00:00 91733    1082636189     True  7.91917  54.18583   \n2009-08-16 15:00:00 91733    1082636190     True  8.64117  54.33383   \n\n                            sensor-type individual-taxon-canonical-name  \\\nDateTime            traj_id                                               \n2009-08-15 15:00:00 91733           gps                    Larus fuscus   \n2009-08-15 21:00:00 91733           gps                    Larus fuscus   \n2009-08-16 06:00:00 91733           gps                    Larus fuscus   \n2009-08-16 09:00:00 91733           gps                    Larus fuscus   \n2009-08-16 15:00:00 91733           gps                    Larus fuscus   \n\n                            individual-local-identifier  \\\nDateTime            traj_id                               \n2009-08-15 15:00:00 91733                        91733A   \n2009-08-15 21:00:00 91733                        91733A   \n2009-08-16 06:00:00 91733                        91733A   \n2009-08-16 09:00:00 91733                        91733A   \n2009-08-16 15:00:00 91733                        91733A   \n\n                                                                    study-name  \\\nDateTime            traj_id                                                      \n2009-08-15 15:00:00 91733    Navigation experiments in lesser black-backed ...   \n2009-08-15 21:00:00 91733    Navigation experiments in lesser black-backed ...   \n2009-08-16 06:00:00 91733    Navigation experiments in lesser black-backed ...   \n2009-08-16 09:00:00 91733    Navigation experiments in lesser black-backed ...   \n2009-08-16 15:00:00 91733    Navigation experiments in lesser black-backed ...   \n\n                             Distance_prev_to_curr  Distance_start_to_curr  \\\nDateTime            traj_id                                                  \n2009-08-15 15:00:00 91733                      NaN                     NaN   \n2009-08-15 21:00:00 91733                42.847231               42.847231   \n2009-08-16 06:00:00 91733               273.951247              260.103940   \n2009-08-16 09:00:00 91733               276.967082               29.098770   \n2009-08-16 15:00:00 91733             49697.545831            49712.038359   \n\n                             Speed_prev_to_curr  Acceleration_prev_to_curr  \nDateTime            traj_id                                                 \n2009-08-15 15:00:00 91733                   NaN                        NaN  \n2009-08-15 21:00:00 91733              0.001984                        NaN  \n2009-08-16 06:00:00 91733              0.008455               1.997413e-07  \n2009-08-16 09:00:00 91733              0.025645               1.591650e-06  \n2009-08-16 15:00:00 91733              2.300812               1.053318e-04  ",
      "text/html": "<div>\n<style scoped>\n    .dataframe tbody tr th:only-of-type {\n        vertical-align: middle;\n    }\n\n    .dataframe tbody tr th {\n        vertical-align: top;\n    }\n\n    .dataframe thead th {\n        text-align: right;\n    }\n</style>\n<table border=\"1\" class=\"dataframe\">\n  <thead>\n    <tr style=\"text-align: right;\">\n      <th></th>\n      <th></th>\n      <th>event-id</th>\n      <th>visible</th>\n      <th>lon</th>\n      <th>lat</th>\n      <th>sensor-type</th>\n      <th>individual-taxon-canonical-name</th>\n      <th>individual-local-identifier</th>\n      <th>study-name</th>\n      <th>Distance_prev_to_curr</th>\n      <th>Distance_start_to_curr</th>\n      <th>Speed_prev_to_curr</th>\n      <th>Acceleration_prev_to_curr</th>\n    </tr>\n    <tr>\n      <th>DateTime</th>\n      <th>traj_id</th>\n      <th></th>\n      <th></th>\n      <th></th>\n      <th></th>\n      <th></th>\n      <th></th>\n      <th></th>\n      <th></th>\n      <th></th>\n      <th></th>\n      <th></th>\n      <th></th>\n    </tr>\n  </thead>\n  <tbody>\n    <tr>\n      <th>2009-08-15 15:00:00</th>\n      <th>91733</th>\n      <td>1082636186</td>\n      <td>True</td>\n      <td>7.91883</td>\n      <td>54.18600</td>\n      <td>gps</td>\n      <td>Larus fuscus</td>\n      <td>91733A</td>\n      <td>Navigation experiments in lesser black-backed ...</td>\n      <td>NaN</td>\n      <td>NaN</td>\n      <td>NaN</td>\n      <td>NaN</td>\n    </tr>\n    <tr>\n      <th>2009-08-15 21:00:00</th>\n      <th>91733</th>\n      <td>1082636187</td>\n      <td>True</td>\n      <td>7.91917</td>\n      <td>54.18567</td>\n      <td>gps</td>\n      <td>Larus fuscus</td>\n      <td>91733A</td>\n      <td>Navigation experiments in lesser black-backed ...</td>\n      <td>42.847231</td>\n      <td>42.847231</td>\n      <td>0.001984</td>\n      <td>NaN</td>\n    </tr>\n    <tr>\n      <th>2009-08-16 06:00:00</th>\n      <th>91733</th>\n      <td>1082636188</td>\n      <td>True</td>\n      <td>7.91500</td>\n      <td>54.18533</td>\n      <td>gps</td>\n      <td>Larus fuscus</td>\n      <td>91733A</td>\n      <td>Navigation experiments in lesser black-backed ...</td>\n      <td>273.951247</td>\n      <td>260.103940</td>\n      <td>0.008455</td>\n      <td>1.997413e-07</td>\n    </tr>\n    <tr>\n      <th>2009-08-16 09:00:00</th>\n      <th>91733</th>\n      <td>1082636189</td>\n      <td>True</td>\n      <td>7.91917</td>\n      <td>54.18583</td>\n      <td>gps</td>\n      <td>Larus fuscus</td>\n      <td>91733A</td>\n      <td>Navigation experiments in lesser black-backed ...</td>\n      <td>276.967082</td>\n      <td>29.098770</td>\n      <td>0.025645</td>\n      <td>1.591650e-06</td>\n    </tr>\n    <tr>\n      <th>2009-08-16 15:00:00</th>\n      <th>91733</th>\n      <td>1082636190</td>\n      <td>True</td>\n      <td>8.64117</td>\n      <td>54.33383</td>\n      <td>gps</td>\n      <td>Larus fuscus</td>\n      <td>91733A</td>\n      <td>Navigation experiments in lesser black-backed ...</td>\n      <td>49697.545831</td>\n      <td>49712.038359</td>\n      <td>2.300812</td>\n      <td>1.053318e-04</td>\n    </tr>\n  </tbody>\n</table>\n</div>"
     },
     "execution_count": 21,
     "metadata": {},
     "output_type": "execute_result"
    }
   ],
   "source": [
    "%%time\n",
    "\n",
    "# Now lets check the acceleration of the gulls dataset.\n",
    "gulls = spatial.create_acceleration_from_prev_column(gulls)\n",
    "gulls.head()"
   ],
   "metadata": {
    "collapsed": false,
    "pycharm": {
     "name": "#%%\n"
    }
   }
  },
  {
   "cell_type": "code",
   "execution_count": 22,
   "outputs": [
    {
     "name": "stdout",
     "output_type": "stream",
     "text": [
      "CPU times: user 12.7 ms, sys: 3.45 ms, total: 16.1 ms\n",
      "Wall time: 14.9 ms\n"
     ]
    },
    {
     "data": {
      "text/plain": "                                             Name      Date  Time Event  \\\nDateTime            traj_id                                               \n1851-07-05 12:00:00 AL021851              UNNAMED  18510705  1200         \n1851-07-10 12:00:00 AL031851              UNNAMED  18510710  1200         \n1853-08-05 12:00:00 AL011853              UNNAMED  18530805  1200         \n1853-08-10 12:00:00 AL021853              UNNAMED  18530810  1200         \n1853-09-21 12:00:00 AL051853              UNNAMED  18530921  1200         \n\n                             Status   lat   lon  Maximum Wind  \\\nDateTime            traj_id                                     \n1851-07-05 12:00:00 AL021851     HU  22.2 -97.6            80   \n1851-07-10 12:00:00 AL031851     TS  12.0 -60.0            50   \n1853-08-05 12:00:00 AL011853     TS  32.5 -69.0            50   \n1853-08-10 12:00:00 AL021853     TS  12.0 -60.0            40   \n1853-09-21 12:00:00 AL051853     TS  20.0 -95.0            50   \n\n                              Minimum Pressure  Low Wind NE  ...  \\\nDateTime            traj_id                                  ...   \n1851-07-05 12:00:00 AL021851              -999         -999  ...   \n1851-07-10 12:00:00 AL031851              -999         -999  ...   \n1853-08-05 12:00:00 AL011853              -999         -999  ...   \n1853-08-10 12:00:00 AL021853              -999         -999  ...   \n1853-09-21 12:00:00 AL051853              -999         -999  ...   \n\n                              Moderate Wind SW  Moderate Wind NW  \\\nDateTime            traj_id                                        \n1851-07-05 12:00:00 AL021851              -999              -999   \n1851-07-10 12:00:00 AL031851              -999              -999   \n1853-08-05 12:00:00 AL011853              -999              -999   \n1853-08-10 12:00:00 AL021853              -999              -999   \n1853-09-21 12:00:00 AL051853              -999              -999   \n\n                              High Wind NE  High Wind SE  High Wind SW  \\\nDateTime            traj_id                                              \n1851-07-05 12:00:00 AL021851          -999          -999          -999   \n1851-07-10 12:00:00 AL031851          -999          -999          -999   \n1853-08-05 12:00:00 AL011853          -999          -999          -999   \n1853-08-10 12:00:00 AL021853          -999          -999          -999   \n1853-09-21 12:00:00 AL051853          -999          -999          -999   \n\n                              High Wind NW  Distance_prev_to_curr  \\\nDateTime            traj_id                                         \n1851-07-05 12:00:00 AL021851          -999                    NaN   \n1851-07-10 12:00:00 AL031851          -999                    NaN   \n1853-08-05 12:00:00 AL011853          -999                    NaN   \n1853-08-10 12:00:00 AL021853          -999                    NaN   \n1853-09-21 12:00:00 AL051853          -999                    NaN   \n\n                              Distance_start_to_curr  Speed_prev_to_curr  \\\nDateTime            traj_id                                                \n1851-07-05 12:00:00 AL021851                     NaN                 NaN   \n1851-07-10 12:00:00 AL031851                     NaN                 NaN   \n1853-08-05 12:00:00 AL011853                     NaN                 NaN   \n1853-08-10 12:00:00 AL021853                     NaN                 NaN   \n1853-09-21 12:00:00 AL051853                     NaN                 NaN   \n\n                              Acceleration_prev_to_curr  \nDateTime            traj_id                              \n1851-07-05 12:00:00 AL021851                        NaN  \n1851-07-10 12:00:00 AL031851                        NaN  \n1853-08-05 12:00:00 AL011853                        NaN  \n1853-08-10 12:00:00 AL021853                        NaN  \n1853-09-21 12:00:00 AL051853                        NaN  \n\n[5 rows x 25 columns]",
      "text/html": "<div>\n<style scoped>\n    .dataframe tbody tr th:only-of-type {\n        vertical-align: middle;\n    }\n\n    .dataframe tbody tr th {\n        vertical-align: top;\n    }\n\n    .dataframe thead th {\n        text-align: right;\n    }\n</style>\n<table border=\"1\" class=\"dataframe\">\n  <thead>\n    <tr style=\"text-align: right;\">\n      <th></th>\n      <th></th>\n      <th>Name</th>\n      <th>Date</th>\n      <th>Time</th>\n      <th>Event</th>\n      <th>Status</th>\n      <th>lat</th>\n      <th>lon</th>\n      <th>Maximum Wind</th>\n      <th>Minimum Pressure</th>\n      <th>Low Wind NE</th>\n      <th>...</th>\n      <th>Moderate Wind SW</th>\n      <th>Moderate Wind NW</th>\n      <th>High Wind NE</th>\n      <th>High Wind SE</th>\n      <th>High Wind SW</th>\n      <th>High Wind NW</th>\n      <th>Distance_prev_to_curr</th>\n      <th>Distance_start_to_curr</th>\n      <th>Speed_prev_to_curr</th>\n      <th>Acceleration_prev_to_curr</th>\n    </tr>\n    <tr>\n      <th>DateTime</th>\n      <th>traj_id</th>\n      <th></th>\n      <th></th>\n      <th></th>\n      <th></th>\n      <th></th>\n      <th></th>\n      <th></th>\n      <th></th>\n      <th></th>\n      <th></th>\n      <th></th>\n      <th></th>\n      <th></th>\n      <th></th>\n      <th></th>\n      <th></th>\n      <th></th>\n      <th></th>\n      <th></th>\n      <th></th>\n      <th></th>\n    </tr>\n  </thead>\n  <tbody>\n    <tr>\n      <th>1851-07-05 12:00:00</th>\n      <th>AL021851</th>\n      <td>UNNAMED</td>\n      <td>18510705</td>\n      <td>1200</td>\n      <td></td>\n      <td>HU</td>\n      <td>22.2</td>\n      <td>-97.6</td>\n      <td>80</td>\n      <td>-999</td>\n      <td>-999</td>\n      <td>...</td>\n      <td>-999</td>\n      <td>-999</td>\n      <td>-999</td>\n      <td>-999</td>\n      <td>-999</td>\n      <td>-999</td>\n      <td>NaN</td>\n      <td>NaN</td>\n      <td>NaN</td>\n      <td>NaN</td>\n    </tr>\n    <tr>\n      <th>1851-07-10 12:00:00</th>\n      <th>AL031851</th>\n      <td>UNNAMED</td>\n      <td>18510710</td>\n      <td>1200</td>\n      <td></td>\n      <td>TS</td>\n      <td>12.0</td>\n      <td>-60.0</td>\n      <td>50</td>\n      <td>-999</td>\n      <td>-999</td>\n      <td>...</td>\n      <td>-999</td>\n      <td>-999</td>\n      <td>-999</td>\n      <td>-999</td>\n      <td>-999</td>\n      <td>-999</td>\n      <td>NaN</td>\n      <td>NaN</td>\n      <td>NaN</td>\n      <td>NaN</td>\n    </tr>\n    <tr>\n      <th>1853-08-05 12:00:00</th>\n      <th>AL011853</th>\n      <td>UNNAMED</td>\n      <td>18530805</td>\n      <td>1200</td>\n      <td></td>\n      <td>TS</td>\n      <td>32.5</td>\n      <td>-69.0</td>\n      <td>50</td>\n      <td>-999</td>\n      <td>-999</td>\n      <td>...</td>\n      <td>-999</td>\n      <td>-999</td>\n      <td>-999</td>\n      <td>-999</td>\n      <td>-999</td>\n      <td>-999</td>\n      <td>NaN</td>\n      <td>NaN</td>\n      <td>NaN</td>\n      <td>NaN</td>\n    </tr>\n    <tr>\n      <th>1853-08-10 12:00:00</th>\n      <th>AL021853</th>\n      <td>UNNAMED</td>\n      <td>18530810</td>\n      <td>1200</td>\n      <td></td>\n      <td>TS</td>\n      <td>12.0</td>\n      <td>-60.0</td>\n      <td>40</td>\n      <td>-999</td>\n      <td>-999</td>\n      <td>...</td>\n      <td>-999</td>\n      <td>-999</td>\n      <td>-999</td>\n      <td>-999</td>\n      <td>-999</td>\n      <td>-999</td>\n      <td>NaN</td>\n      <td>NaN</td>\n      <td>NaN</td>\n      <td>NaN</td>\n    </tr>\n    <tr>\n      <th>1853-09-21 12:00:00</th>\n      <th>AL051853</th>\n      <td>UNNAMED</td>\n      <td>18530921</td>\n      <td>1200</td>\n      <td></td>\n      <td>TS</td>\n      <td>20.0</td>\n      <td>-95.0</td>\n      <td>50</td>\n      <td>-999</td>\n      <td>-999</td>\n      <td>...</td>\n      <td>-999</td>\n      <td>-999</td>\n      <td>-999</td>\n      <td>-999</td>\n      <td>-999</td>\n      <td>-999</td>\n      <td>NaN</td>\n      <td>NaN</td>\n      <td>NaN</td>\n      <td>NaN</td>\n    </tr>\n  </tbody>\n</table>\n<p>5 rows × 25 columns</p>\n</div>"
     },
     "execution_count": 22,
     "metadata": {},
     "output_type": "execute_result"
    }
   ],
   "source": [
    "%%time\n",
    "\n",
    "# Now lets check the acceleration of the atlantic dataset.\n",
    "atlantic = spatial.create_acceleration_from_prev_column(atlantic)\n",
    "atlantic.head()"
   ],
   "metadata": {
    "collapsed": false,
    "pycharm": {
     "name": "#%%\n"
    }
   }
  },
  {
   "cell_type": "code",
   "execution_count": 23,
   "outputs": [
    {
     "name": "stdout",
     "output_type": "stream",
     "text": [
      "CPU times: user 38.9 ms, sys: 473 µs, total: 39.3 ms\n",
      "Wall time: 38 ms\n"
     ]
    },
    {
     "data": {
      "text/plain": "                                   lat         lon  Distance_prev_to_curr  \\\nDateTime            traj_id                                                 \n2008-10-23 16:53:05 1        39.984094  116.319236                    NaN   \n2008-10-23 16:53:06 1        39.984198  116.319322              13.690153   \n2008-10-23 05:53:11 1        39.984224  116.319402               7.403788   \n2008-10-23 05:53:16 1        39.984211  116.319389               1.821083   \n2008-10-23 05:53:21 1        39.984217  116.319422               2.889671   \n\n                             Distance_start_to_curr  Distance_to_(0, 0)  \\\nDateTime            traj_id                                               \n2008-10-23 16:53:05 1                           NaN        1.221587e+07   \n2008-10-23 16:53:06 1                     13.690153        1.221587e+07   \n2008-10-23 05:53:11 1                     20.223428        1.221588e+07   \n2008-10-23 05:53:16 1                     18.416895        1.221588e+07   \n2008-10-23 05:53:21 1                     20.933073        1.221588e+07   \n\n                             Within_15000000_m_from_(0, 0)  \\\nDateTime            traj_id                                  \n2008-10-23 16:53:05 1                                 True   \n2008-10-23 16:53:06 1                                 True   \n2008-10-23 05:53:11 1                                 True   \n2008-10-23 05:53:16 1                                 True   \n2008-10-23 05:53:21 1                                 True   \n\n                             Speed_prev_to_curr  Acceleration_prev_to_curr  \\\nDateTime            traj_id                                                  \n2008-10-23 16:53:05 1                       NaN                        NaN   \n2008-10-23 16:53:06 1                 13.690153                        NaN   \n2008-10-23 05:53:11 1                  0.000158                  -0.000292   \n2008-10-23 05:53:16 1                  0.364217                   0.072812   \n2008-10-23 05:53:21 1                  0.577934                   0.042744   \n\n                             jerk_prev_to_curr  \nDateTime            traj_id                     \n2008-10-23 16:53:05 1                      NaN  \n2008-10-23 16:53:06 1                      NaN  \n2008-10-23 05:53:11 1                      NaN  \n2008-10-23 05:53:16 1                 0.014621  \n2008-10-23 05:53:21 1                -0.006014  ",
      "text/html": "<div>\n<style scoped>\n    .dataframe tbody tr th:only-of-type {\n        vertical-align: middle;\n    }\n\n    .dataframe tbody tr th {\n        vertical-align: top;\n    }\n\n    .dataframe thead th {\n        text-align: right;\n    }\n</style>\n<table border=\"1\" class=\"dataframe\">\n  <thead>\n    <tr style=\"text-align: right;\">\n      <th></th>\n      <th></th>\n      <th>lat</th>\n      <th>lon</th>\n      <th>Distance_prev_to_curr</th>\n      <th>Distance_start_to_curr</th>\n      <th>Distance_to_(0, 0)</th>\n      <th>Within_15000000_m_from_(0, 0)</th>\n      <th>Speed_prev_to_curr</th>\n      <th>Acceleration_prev_to_curr</th>\n      <th>jerk_prev_to_curr</th>\n    </tr>\n    <tr>\n      <th>DateTime</th>\n      <th>traj_id</th>\n      <th></th>\n      <th></th>\n      <th></th>\n      <th></th>\n      <th></th>\n      <th></th>\n      <th></th>\n      <th></th>\n      <th></th>\n    </tr>\n  </thead>\n  <tbody>\n    <tr>\n      <th>2008-10-23 16:53:05</th>\n      <th>1</th>\n      <td>39.984094</td>\n      <td>116.319236</td>\n      <td>NaN</td>\n      <td>NaN</td>\n      <td>1.221587e+07</td>\n      <td>True</td>\n      <td>NaN</td>\n      <td>NaN</td>\n      <td>NaN</td>\n    </tr>\n    <tr>\n      <th>2008-10-23 16:53:06</th>\n      <th>1</th>\n      <td>39.984198</td>\n      <td>116.319322</td>\n      <td>13.690153</td>\n      <td>13.690153</td>\n      <td>1.221587e+07</td>\n      <td>True</td>\n      <td>13.690153</td>\n      <td>NaN</td>\n      <td>NaN</td>\n    </tr>\n    <tr>\n      <th>2008-10-23 05:53:11</th>\n      <th>1</th>\n      <td>39.984224</td>\n      <td>116.319402</td>\n      <td>7.403788</td>\n      <td>20.223428</td>\n      <td>1.221588e+07</td>\n      <td>True</td>\n      <td>0.000158</td>\n      <td>-0.000292</td>\n      <td>NaN</td>\n    </tr>\n    <tr>\n      <th>2008-10-23 05:53:16</th>\n      <th>1</th>\n      <td>39.984211</td>\n      <td>116.319389</td>\n      <td>1.821083</td>\n      <td>18.416895</td>\n      <td>1.221588e+07</td>\n      <td>True</td>\n      <td>0.364217</td>\n      <td>0.072812</td>\n      <td>0.014621</td>\n    </tr>\n    <tr>\n      <th>2008-10-23 05:53:21</th>\n      <th>1</th>\n      <td>39.984217</td>\n      <td>116.319422</td>\n      <td>2.889671</td>\n      <td>20.933073</td>\n      <td>1.221588e+07</td>\n      <td>True</td>\n      <td>0.577934</td>\n      <td>0.042744</td>\n      <td>-0.006014</td>\n    </tr>\n  </tbody>\n</table>\n</div>"
     },
     "execution_count": 23,
     "metadata": {},
     "output_type": "execute_result"
    }
   ],
   "source": [
    "%%time\n",
    "\n",
    "# Now lets check the jerk of the object between 2 consecutive\n",
    "# points.\n",
    "# First, we will do it for the geolife dataset.\n",
    "geolife = spatial.create_jerk_from_prev_column(geolife)\n",
    "geolife.head()"
   ],
   "metadata": {
    "collapsed": false,
    "pycharm": {
     "name": "#%%\n"
    }
   }
  },
  {
   "cell_type": "code",
   "execution_count": 24,
   "outputs": [
    {
     "name": "stdout",
     "output_type": "stream",
     "text": [
      "CPU times: user 19.7 ms, sys: 0 ns, total: 19.7 ms\n",
      "Wall time: 18.3 ms\n"
     ]
    },
    {
     "data": {
      "text/plain": "                                             Name      Date  Time Event  \\\nDateTime            traj_id                                               \n1851-07-05 12:00:00 AL021851              UNNAMED  18510705  1200         \n1851-07-10 12:00:00 AL031851              UNNAMED  18510710  1200         \n1853-08-05 12:00:00 AL011853              UNNAMED  18530805  1200         \n1853-08-10 12:00:00 AL021853              UNNAMED  18530810  1200         \n1853-09-21 12:00:00 AL051853              UNNAMED  18530921  1200         \n\n                             Status   lat   lon  Maximum Wind  \\\nDateTime            traj_id                                     \n1851-07-05 12:00:00 AL021851     HU  22.2 -97.6            80   \n1851-07-10 12:00:00 AL031851     TS  12.0 -60.0            50   \n1853-08-05 12:00:00 AL011853     TS  32.5 -69.0            50   \n1853-08-10 12:00:00 AL021853     TS  12.0 -60.0            40   \n1853-09-21 12:00:00 AL051853     TS  20.0 -95.0            50   \n\n                              Minimum Pressure  Low Wind NE  ...  \\\nDateTime            traj_id                                  ...   \n1851-07-05 12:00:00 AL021851              -999         -999  ...   \n1851-07-10 12:00:00 AL031851              -999         -999  ...   \n1853-08-05 12:00:00 AL011853              -999         -999  ...   \n1853-08-10 12:00:00 AL021853              -999         -999  ...   \n1853-09-21 12:00:00 AL051853              -999         -999  ...   \n\n                              Moderate Wind NW  High Wind NE  High Wind SE  \\\nDateTime            traj_id                                                  \n1851-07-05 12:00:00 AL021851              -999          -999          -999   \n1851-07-10 12:00:00 AL031851              -999          -999          -999   \n1853-08-05 12:00:00 AL011853              -999          -999          -999   \n1853-08-10 12:00:00 AL021853              -999          -999          -999   \n1853-09-21 12:00:00 AL051853              -999          -999          -999   \n\n                              High Wind SW  High Wind NW  \\\nDateTime            traj_id                                \n1851-07-05 12:00:00 AL021851          -999          -999   \n1851-07-10 12:00:00 AL031851          -999          -999   \n1853-08-05 12:00:00 AL011853          -999          -999   \n1853-08-10 12:00:00 AL021853          -999          -999   \n1853-09-21 12:00:00 AL051853          -999          -999   \n\n                              Distance_prev_to_curr  Distance_start_to_curr  \\\nDateTime            traj_id                                                   \n1851-07-05 12:00:00 AL021851                    NaN                     NaN   \n1851-07-10 12:00:00 AL031851                    NaN                     NaN   \n1853-08-05 12:00:00 AL011853                    NaN                     NaN   \n1853-08-10 12:00:00 AL021853                    NaN                     NaN   \n1853-09-21 12:00:00 AL051853                    NaN                     NaN   \n\n                              Speed_prev_to_curr  Acceleration_prev_to_curr  \\\nDateTime            traj_id                                                   \n1851-07-05 12:00:00 AL021851                 NaN                        NaN   \n1851-07-10 12:00:00 AL031851                 NaN                        NaN   \n1853-08-05 12:00:00 AL011853                 NaN                        NaN   \n1853-08-10 12:00:00 AL021853                 NaN                        NaN   \n1853-09-21 12:00:00 AL051853                 NaN                        NaN   \n\n                              jerk_prev_to_curr  \nDateTime            traj_id                      \n1851-07-05 12:00:00 AL021851                NaN  \n1851-07-10 12:00:00 AL031851                NaN  \n1853-08-05 12:00:00 AL011853                NaN  \n1853-08-10 12:00:00 AL021853                NaN  \n1853-09-21 12:00:00 AL051853                NaN  \n\n[5 rows x 26 columns]",
      "text/html": "<div>\n<style scoped>\n    .dataframe tbody tr th:only-of-type {\n        vertical-align: middle;\n    }\n\n    .dataframe tbody tr th {\n        vertical-align: top;\n    }\n\n    .dataframe thead th {\n        text-align: right;\n    }\n</style>\n<table border=\"1\" class=\"dataframe\">\n  <thead>\n    <tr style=\"text-align: right;\">\n      <th></th>\n      <th></th>\n      <th>Name</th>\n      <th>Date</th>\n      <th>Time</th>\n      <th>Event</th>\n      <th>Status</th>\n      <th>lat</th>\n      <th>lon</th>\n      <th>Maximum Wind</th>\n      <th>Minimum Pressure</th>\n      <th>Low Wind NE</th>\n      <th>...</th>\n      <th>Moderate Wind NW</th>\n      <th>High Wind NE</th>\n      <th>High Wind SE</th>\n      <th>High Wind SW</th>\n      <th>High Wind NW</th>\n      <th>Distance_prev_to_curr</th>\n      <th>Distance_start_to_curr</th>\n      <th>Speed_prev_to_curr</th>\n      <th>Acceleration_prev_to_curr</th>\n      <th>jerk_prev_to_curr</th>\n    </tr>\n    <tr>\n      <th>DateTime</th>\n      <th>traj_id</th>\n      <th></th>\n      <th></th>\n      <th></th>\n      <th></th>\n      <th></th>\n      <th></th>\n      <th></th>\n      <th></th>\n      <th></th>\n      <th></th>\n      <th></th>\n      <th></th>\n      <th></th>\n      <th></th>\n      <th></th>\n      <th></th>\n      <th></th>\n      <th></th>\n      <th></th>\n      <th></th>\n      <th></th>\n    </tr>\n  </thead>\n  <tbody>\n    <tr>\n      <th>1851-07-05 12:00:00</th>\n      <th>AL021851</th>\n      <td>UNNAMED</td>\n      <td>18510705</td>\n      <td>1200</td>\n      <td></td>\n      <td>HU</td>\n      <td>22.2</td>\n      <td>-97.6</td>\n      <td>80</td>\n      <td>-999</td>\n      <td>-999</td>\n      <td>...</td>\n      <td>-999</td>\n      <td>-999</td>\n      <td>-999</td>\n      <td>-999</td>\n      <td>-999</td>\n      <td>NaN</td>\n      <td>NaN</td>\n      <td>NaN</td>\n      <td>NaN</td>\n      <td>NaN</td>\n    </tr>\n    <tr>\n      <th>1851-07-10 12:00:00</th>\n      <th>AL031851</th>\n      <td>UNNAMED</td>\n      <td>18510710</td>\n      <td>1200</td>\n      <td></td>\n      <td>TS</td>\n      <td>12.0</td>\n      <td>-60.0</td>\n      <td>50</td>\n      <td>-999</td>\n      <td>-999</td>\n      <td>...</td>\n      <td>-999</td>\n      <td>-999</td>\n      <td>-999</td>\n      <td>-999</td>\n      <td>-999</td>\n      <td>NaN</td>\n      <td>NaN</td>\n      <td>NaN</td>\n      <td>NaN</td>\n      <td>NaN</td>\n    </tr>\n    <tr>\n      <th>1853-08-05 12:00:00</th>\n      <th>AL011853</th>\n      <td>UNNAMED</td>\n      <td>18530805</td>\n      <td>1200</td>\n      <td></td>\n      <td>TS</td>\n      <td>32.5</td>\n      <td>-69.0</td>\n      <td>50</td>\n      <td>-999</td>\n      <td>-999</td>\n      <td>...</td>\n      <td>-999</td>\n      <td>-999</td>\n      <td>-999</td>\n      <td>-999</td>\n      <td>-999</td>\n      <td>NaN</td>\n      <td>NaN</td>\n      <td>NaN</td>\n      <td>NaN</td>\n      <td>NaN</td>\n    </tr>\n    <tr>\n      <th>1853-08-10 12:00:00</th>\n      <th>AL021853</th>\n      <td>UNNAMED</td>\n      <td>18530810</td>\n      <td>1200</td>\n      <td></td>\n      <td>TS</td>\n      <td>12.0</td>\n      <td>-60.0</td>\n      <td>40</td>\n      <td>-999</td>\n      <td>-999</td>\n      <td>...</td>\n      <td>-999</td>\n      <td>-999</td>\n      <td>-999</td>\n      <td>-999</td>\n      <td>-999</td>\n      <td>NaN</td>\n      <td>NaN</td>\n      <td>NaN</td>\n      <td>NaN</td>\n      <td>NaN</td>\n    </tr>\n    <tr>\n      <th>1853-09-21 12:00:00</th>\n      <th>AL051853</th>\n      <td>UNNAMED</td>\n      <td>18530921</td>\n      <td>1200</td>\n      <td></td>\n      <td>TS</td>\n      <td>20.0</td>\n      <td>-95.0</td>\n      <td>50</td>\n      <td>-999</td>\n      <td>-999</td>\n      <td>...</td>\n      <td>-999</td>\n      <td>-999</td>\n      <td>-999</td>\n      <td>-999</td>\n      <td>-999</td>\n      <td>NaN</td>\n      <td>NaN</td>\n      <td>NaN</td>\n      <td>NaN</td>\n      <td>NaN</td>\n    </tr>\n  </tbody>\n</table>\n<p>5 rows × 26 columns</p>\n</div>"
     },
     "execution_count": 24,
     "metadata": {},
     "output_type": "execute_result"
    }
   ],
   "source": [
    "%%time\n",
    "\n",
    "# Now lets check the jerk for the atlantic dataset.\n",
    "atlantic = spatial.create_jerk_from_prev_column(atlantic)\n",
    "atlantic.head()"
   ],
   "metadata": {
    "collapsed": false,
    "pycharm": {
     "name": "#%%\n"
    }
   }
  },
  {
   "cell_type": "code",
   "execution_count": 25,
   "outputs": [
    {
     "name": "stdout",
     "output_type": "stream",
     "text": [
      "CPU times: user 24.1 ms, sys: 12 µs, total: 24.1 ms\n",
      "Wall time: 22.6 ms\n"
     ]
    },
    {
     "data": {
      "text/plain": "                               event-id  visible      lon       lat  \\\nDateTime            traj_id                                           \n2009-08-15 15:00:00 91733    1082636186     True  7.91883  54.18600   \n2009-08-15 21:00:00 91733    1082636187     True  7.91917  54.18567   \n2009-08-16 06:00:00 91733    1082636188     True  7.91500  54.18533   \n2009-08-16 09:00:00 91733    1082636189     True  7.91917  54.18583   \n2009-08-16 15:00:00 91733    1082636190     True  8.64117  54.33383   \n\n                            sensor-type individual-taxon-canonical-name  \\\nDateTime            traj_id                                               \n2009-08-15 15:00:00 91733           gps                    Larus fuscus   \n2009-08-15 21:00:00 91733           gps                    Larus fuscus   \n2009-08-16 06:00:00 91733           gps                    Larus fuscus   \n2009-08-16 09:00:00 91733           gps                    Larus fuscus   \n2009-08-16 15:00:00 91733           gps                    Larus fuscus   \n\n                            individual-local-identifier  \\\nDateTime            traj_id                               \n2009-08-15 15:00:00 91733                        91733A   \n2009-08-15 21:00:00 91733                        91733A   \n2009-08-16 06:00:00 91733                        91733A   \n2009-08-16 09:00:00 91733                        91733A   \n2009-08-16 15:00:00 91733                        91733A   \n\n                                                                    study-name  \\\nDateTime            traj_id                                                      \n2009-08-15 15:00:00 91733    Navigation experiments in lesser black-backed ...   \n2009-08-15 21:00:00 91733    Navigation experiments in lesser black-backed ...   \n2009-08-16 06:00:00 91733    Navigation experiments in lesser black-backed ...   \n2009-08-16 09:00:00 91733    Navigation experiments in lesser black-backed ...   \n2009-08-16 15:00:00 91733    Navigation experiments in lesser black-backed ...   \n\n                             Distance_prev_to_curr  Distance_start_to_curr  \\\nDateTime            traj_id                                                  \n2009-08-15 15:00:00 91733                      NaN                     NaN   \n2009-08-15 21:00:00 91733                42.847231               42.847231   \n2009-08-16 06:00:00 91733               273.951247              260.103940   \n2009-08-16 09:00:00 91733               276.967082               29.098770   \n2009-08-16 15:00:00 91733             49697.545831            49712.038359   \n\n                             Speed_prev_to_curr  Acceleration_prev_to_curr  \\\nDateTime            traj_id                                                  \n2009-08-15 15:00:00 91733                   NaN                        NaN   \n2009-08-15 21:00:00 91733              0.001984                        NaN   \n2009-08-16 06:00:00 91733              0.008455               1.997413e-07   \n2009-08-16 09:00:00 91733              0.025645               1.591650e-06   \n2009-08-16 15:00:00 91733              2.300812               1.053318e-04   \n\n                             jerk_prev_to_curr  \nDateTime            traj_id                     \n2009-08-15 15:00:00 91733                  NaN  \n2009-08-15 21:00:00 91733                  NaN  \n2009-08-16 06:00:00 91733                  NaN  \n2009-08-16 09:00:00 91733         1.288804e-10  \n2009-08-16 15:00:00 91733         4.802785e-09  ",
      "text/html": "<div>\n<style scoped>\n    .dataframe tbody tr th:only-of-type {\n        vertical-align: middle;\n    }\n\n    .dataframe tbody tr th {\n        vertical-align: top;\n    }\n\n    .dataframe thead th {\n        text-align: right;\n    }\n</style>\n<table border=\"1\" class=\"dataframe\">\n  <thead>\n    <tr style=\"text-align: right;\">\n      <th></th>\n      <th></th>\n      <th>event-id</th>\n      <th>visible</th>\n      <th>lon</th>\n      <th>lat</th>\n      <th>sensor-type</th>\n      <th>individual-taxon-canonical-name</th>\n      <th>individual-local-identifier</th>\n      <th>study-name</th>\n      <th>Distance_prev_to_curr</th>\n      <th>Distance_start_to_curr</th>\n      <th>Speed_prev_to_curr</th>\n      <th>Acceleration_prev_to_curr</th>\n      <th>jerk_prev_to_curr</th>\n    </tr>\n    <tr>\n      <th>DateTime</th>\n      <th>traj_id</th>\n      <th></th>\n      <th></th>\n      <th></th>\n      <th></th>\n      <th></th>\n      <th></th>\n      <th></th>\n      <th></th>\n      <th></th>\n      <th></th>\n      <th></th>\n      <th></th>\n      <th></th>\n    </tr>\n  </thead>\n  <tbody>\n    <tr>\n      <th>2009-08-15 15:00:00</th>\n      <th>91733</th>\n      <td>1082636186</td>\n      <td>True</td>\n      <td>7.91883</td>\n      <td>54.18600</td>\n      <td>gps</td>\n      <td>Larus fuscus</td>\n      <td>91733A</td>\n      <td>Navigation experiments in lesser black-backed ...</td>\n      <td>NaN</td>\n      <td>NaN</td>\n      <td>NaN</td>\n      <td>NaN</td>\n      <td>NaN</td>\n    </tr>\n    <tr>\n      <th>2009-08-15 21:00:00</th>\n      <th>91733</th>\n      <td>1082636187</td>\n      <td>True</td>\n      <td>7.91917</td>\n      <td>54.18567</td>\n      <td>gps</td>\n      <td>Larus fuscus</td>\n      <td>91733A</td>\n      <td>Navigation experiments in lesser black-backed ...</td>\n      <td>42.847231</td>\n      <td>42.847231</td>\n      <td>0.001984</td>\n      <td>NaN</td>\n      <td>NaN</td>\n    </tr>\n    <tr>\n      <th>2009-08-16 06:00:00</th>\n      <th>91733</th>\n      <td>1082636188</td>\n      <td>True</td>\n      <td>7.91500</td>\n      <td>54.18533</td>\n      <td>gps</td>\n      <td>Larus fuscus</td>\n      <td>91733A</td>\n      <td>Navigation experiments in lesser black-backed ...</td>\n      <td>273.951247</td>\n      <td>260.103940</td>\n      <td>0.008455</td>\n      <td>1.997413e-07</td>\n      <td>NaN</td>\n    </tr>\n    <tr>\n      <th>2009-08-16 09:00:00</th>\n      <th>91733</th>\n      <td>1082636189</td>\n      <td>True</td>\n      <td>7.91917</td>\n      <td>54.18583</td>\n      <td>gps</td>\n      <td>Larus fuscus</td>\n      <td>91733A</td>\n      <td>Navigation experiments in lesser black-backed ...</td>\n      <td>276.967082</td>\n      <td>29.098770</td>\n      <td>0.025645</td>\n      <td>1.591650e-06</td>\n      <td>1.288804e-10</td>\n    </tr>\n    <tr>\n      <th>2009-08-16 15:00:00</th>\n      <th>91733</th>\n      <td>1082636190</td>\n      <td>True</td>\n      <td>8.64117</td>\n      <td>54.33383</td>\n      <td>gps</td>\n      <td>Larus fuscus</td>\n      <td>91733A</td>\n      <td>Navigation experiments in lesser black-backed ...</td>\n      <td>49697.545831</td>\n      <td>49712.038359</td>\n      <td>2.300812</td>\n      <td>1.053318e-04</td>\n      <td>4.802785e-09</td>\n    </tr>\n  </tbody>\n</table>\n</div>"
     },
     "execution_count": 25,
     "metadata": {},
     "output_type": "execute_result"
    }
   ],
   "source": [
    "%%time\n",
    "\n",
    "# Now, lets check the jerk for the seagulls dataset.\n",
    "gulls = spatial.create_jerk_from_prev_column(gulls)\n",
    "gulls.head()"
   ],
   "metadata": {
    "collapsed": false,
    "pycharm": {
     "name": "#%%\n"
    }
   }
  },
  {
   "cell_type": "code",
   "execution_count": 26,
   "outputs": [
    {
     "name": "stdout",
     "output_type": "stream",
     "text": [
      "CPU times: user 393 ms, sys: 111 ms, total: 504 ms\n",
      "Wall time: 1.04 s\n"
     ]
    },
    {
     "data": {
      "text/plain": "                                   lat         lon  Distance_prev_to_curr  \\\nDateTime            traj_id                                                 \n2008-10-23 16:53:05 1        39.984094  116.319236                    NaN   \n2008-10-23 16:53:06 1        39.984198  116.319322              13.690153   \n2008-10-23 05:53:11 1        39.984224  116.319402               7.403788   \n2008-10-23 05:53:16 1        39.984211  116.319389               1.821083   \n2008-10-23 05:53:21 1        39.984217  116.319422               2.889671   \n\n                             Distance_start_to_curr  Distance_to_(0, 0)  \\\nDateTime            traj_id                                               \n2008-10-23 16:53:05 1                           NaN        1.221587e+07   \n2008-10-23 16:53:06 1                     13.690153        1.221587e+07   \n2008-10-23 05:53:11 1                     20.223428        1.221588e+07   \n2008-10-23 05:53:16 1                     18.416895        1.221588e+07   \n2008-10-23 05:53:21 1                     20.933073        1.221588e+07   \n\n                             Within_15000000_m_from_(0, 0)  \\\nDateTime            traj_id                                  \n2008-10-23 16:53:05 1                                 True   \n2008-10-23 16:53:06 1                                 True   \n2008-10-23 05:53:11 1                                 True   \n2008-10-23 05:53:16 1                                 True   \n2008-10-23 05:53:21 1                                 True   \n\n                             Speed_prev_to_curr  Acceleration_prev_to_curr  \\\nDateTime            traj_id                                                  \n2008-10-23 16:53:05 1                       NaN                        NaN   \n2008-10-23 16:53:06 1                 13.690153                        NaN   \n2008-10-23 05:53:11 1                  0.000158                  -0.000292   \n2008-10-23 05:53:16 1                  0.364217                   0.072812   \n2008-10-23 05:53:21 1                  0.577934                   0.042744   \n\n                             jerk_prev_to_curr  Bearing_between_consecutive  \nDateTime            traj_id                                                  \n2008-10-23 16:53:05 1                      NaN                          NaN  \n2008-10-23 16:53:06 1                      NaN                    32.358601  \n2008-10-23 05:53:11 1                      NaN                    67.015294  \n2008-10-23 05:53:16 1                 0.014621                  -142.539885  \n2008-10-23 05:53:21 1                -0.006014                    76.651056  ",
      "text/html": "<div>\n<style scoped>\n    .dataframe tbody tr th:only-of-type {\n        vertical-align: middle;\n    }\n\n    .dataframe tbody tr th {\n        vertical-align: top;\n    }\n\n    .dataframe thead th {\n        text-align: right;\n    }\n</style>\n<table border=\"1\" class=\"dataframe\">\n  <thead>\n    <tr style=\"text-align: right;\">\n      <th></th>\n      <th></th>\n      <th>lat</th>\n      <th>lon</th>\n      <th>Distance_prev_to_curr</th>\n      <th>Distance_start_to_curr</th>\n      <th>Distance_to_(0, 0)</th>\n      <th>Within_15000000_m_from_(0, 0)</th>\n      <th>Speed_prev_to_curr</th>\n      <th>Acceleration_prev_to_curr</th>\n      <th>jerk_prev_to_curr</th>\n      <th>Bearing_between_consecutive</th>\n    </tr>\n    <tr>\n      <th>DateTime</th>\n      <th>traj_id</th>\n      <th></th>\n      <th></th>\n      <th></th>\n      <th></th>\n      <th></th>\n      <th></th>\n      <th></th>\n      <th></th>\n      <th></th>\n      <th></th>\n    </tr>\n  </thead>\n  <tbody>\n    <tr>\n      <th>2008-10-23 16:53:05</th>\n      <th>1</th>\n      <td>39.984094</td>\n      <td>116.319236</td>\n      <td>NaN</td>\n      <td>NaN</td>\n      <td>1.221587e+07</td>\n      <td>True</td>\n      <td>NaN</td>\n      <td>NaN</td>\n      <td>NaN</td>\n      <td>NaN</td>\n    </tr>\n    <tr>\n      <th>2008-10-23 16:53:06</th>\n      <th>1</th>\n      <td>39.984198</td>\n      <td>116.319322</td>\n      <td>13.690153</td>\n      <td>13.690153</td>\n      <td>1.221587e+07</td>\n      <td>True</td>\n      <td>13.690153</td>\n      <td>NaN</td>\n      <td>NaN</td>\n      <td>32.358601</td>\n    </tr>\n    <tr>\n      <th>2008-10-23 05:53:11</th>\n      <th>1</th>\n      <td>39.984224</td>\n      <td>116.319402</td>\n      <td>7.403788</td>\n      <td>20.223428</td>\n      <td>1.221588e+07</td>\n      <td>True</td>\n      <td>0.000158</td>\n      <td>-0.000292</td>\n      <td>NaN</td>\n      <td>67.015294</td>\n    </tr>\n    <tr>\n      <th>2008-10-23 05:53:16</th>\n      <th>1</th>\n      <td>39.984211</td>\n      <td>116.319389</td>\n      <td>1.821083</td>\n      <td>18.416895</td>\n      <td>1.221588e+07</td>\n      <td>True</td>\n      <td>0.364217</td>\n      <td>0.072812</td>\n      <td>0.014621</td>\n      <td>-142.539885</td>\n    </tr>\n    <tr>\n      <th>2008-10-23 05:53:21</th>\n      <th>1</th>\n      <td>39.984217</td>\n      <td>116.319422</td>\n      <td>2.889671</td>\n      <td>20.933073</td>\n      <td>1.221588e+07</td>\n      <td>True</td>\n      <td>0.577934</td>\n      <td>0.042744</td>\n      <td>-0.006014</td>\n      <td>76.651056</td>\n    </tr>\n  </tbody>\n</table>\n</div>"
     },
     "execution_count": 26,
     "metadata": {},
     "output_type": "execute_result"
    }
   ],
   "source": [
    "%%time\n",
    "\n",
    "# Now lets check the bearing between 2 consecutive\n",
    "# points.\n",
    "# First, we will do it for the geolife dataset.\n",
    "geolife = spatial.create_bearing_column(geolife)\n",
    "geolife.head()"
   ],
   "metadata": {
    "collapsed": false,
    "pycharm": {
     "name": "#%%\n"
    }
   }
  },
  {
   "cell_type": "code",
   "execution_count": 27,
   "outputs": [
    {
     "name": "stdout",
     "output_type": "stream",
     "text": [
      "CPU times: user 207 ms, sys: 185 ms, total: 392 ms\n",
      "Wall time: 417 ms\n"
     ]
    },
    {
     "data": {
      "text/plain": "                                             Name      Date  Time Event  \\\nDateTime            traj_id                                               \n1851-07-05 12:00:00 AL021851              UNNAMED  18510705  1200         \n1851-07-10 12:00:00 AL031851              UNNAMED  18510710  1200         \n1853-08-05 12:00:00 AL011853              UNNAMED  18530805  1200         \n1853-08-10 12:00:00 AL021853              UNNAMED  18530810  1200         \n1853-09-21 12:00:00 AL051853              UNNAMED  18530921  1200         \n\n                             Status   lat   lon  Maximum Wind  \\\nDateTime            traj_id                                     \n1851-07-05 12:00:00 AL021851     HU  22.2 -97.6            80   \n1851-07-10 12:00:00 AL031851     TS  12.0 -60.0            50   \n1853-08-05 12:00:00 AL011853     TS  32.5 -69.0            50   \n1853-08-10 12:00:00 AL021853     TS  12.0 -60.0            40   \n1853-09-21 12:00:00 AL051853     TS  20.0 -95.0            50   \n\n                              Minimum Pressure  Low Wind NE  ...  \\\nDateTime            traj_id                                  ...   \n1851-07-05 12:00:00 AL021851              -999         -999  ...   \n1851-07-10 12:00:00 AL031851              -999         -999  ...   \n1853-08-05 12:00:00 AL011853              -999         -999  ...   \n1853-08-10 12:00:00 AL021853              -999         -999  ...   \n1853-09-21 12:00:00 AL051853              -999         -999  ...   \n\n                              High Wind NE  High Wind SE  High Wind SW  \\\nDateTime            traj_id                                              \n1851-07-05 12:00:00 AL021851          -999          -999          -999   \n1851-07-10 12:00:00 AL031851          -999          -999          -999   \n1853-08-05 12:00:00 AL011853          -999          -999          -999   \n1853-08-10 12:00:00 AL021853          -999          -999          -999   \n1853-09-21 12:00:00 AL051853          -999          -999          -999   \n\n                              High Wind NW  Distance_prev_to_curr  \\\nDateTime            traj_id                                         \n1851-07-05 12:00:00 AL021851          -999                    NaN   \n1851-07-10 12:00:00 AL031851          -999                    NaN   \n1853-08-05 12:00:00 AL011853          -999                    NaN   \n1853-08-10 12:00:00 AL021853          -999                    NaN   \n1853-09-21 12:00:00 AL051853          -999                    NaN   \n\n                              Distance_start_to_curr  Speed_prev_to_curr  \\\nDateTime            traj_id                                                \n1851-07-05 12:00:00 AL021851                     NaN                 NaN   \n1851-07-10 12:00:00 AL031851                     NaN                 NaN   \n1853-08-05 12:00:00 AL011853                     NaN                 NaN   \n1853-08-10 12:00:00 AL021853                     NaN                 NaN   \n1853-09-21 12:00:00 AL051853                     NaN                 NaN   \n\n                              Acceleration_prev_to_curr  jerk_prev_to_curr  \\\nDateTime            traj_id                                                  \n1851-07-05 12:00:00 AL021851                        NaN                NaN   \n1851-07-10 12:00:00 AL031851                        NaN                NaN   \n1853-08-05 12:00:00 AL011853                        NaN                NaN   \n1853-08-10 12:00:00 AL021853                        NaN                NaN   \n1853-09-21 12:00:00 AL051853                        NaN                NaN   \n\n                              Bearing_between_consecutive  \nDateTime            traj_id                                \n1851-07-05 12:00:00 AL021851                          NaN  \n1851-07-10 12:00:00 AL031851                          NaN  \n1853-08-05 12:00:00 AL011853                          NaN  \n1853-08-10 12:00:00 AL021853                          NaN  \n1853-09-21 12:00:00 AL051853                          NaN  \n\n[5 rows x 27 columns]",
      "text/html": "<div>\n<style scoped>\n    .dataframe tbody tr th:only-of-type {\n        vertical-align: middle;\n    }\n\n    .dataframe tbody tr th {\n        vertical-align: top;\n    }\n\n    .dataframe thead th {\n        text-align: right;\n    }\n</style>\n<table border=\"1\" class=\"dataframe\">\n  <thead>\n    <tr style=\"text-align: right;\">\n      <th></th>\n      <th></th>\n      <th>Name</th>\n      <th>Date</th>\n      <th>Time</th>\n      <th>Event</th>\n      <th>Status</th>\n      <th>lat</th>\n      <th>lon</th>\n      <th>Maximum Wind</th>\n      <th>Minimum Pressure</th>\n      <th>Low Wind NE</th>\n      <th>...</th>\n      <th>High Wind NE</th>\n      <th>High Wind SE</th>\n      <th>High Wind SW</th>\n      <th>High Wind NW</th>\n      <th>Distance_prev_to_curr</th>\n      <th>Distance_start_to_curr</th>\n      <th>Speed_prev_to_curr</th>\n      <th>Acceleration_prev_to_curr</th>\n      <th>jerk_prev_to_curr</th>\n      <th>Bearing_between_consecutive</th>\n    </tr>\n    <tr>\n      <th>DateTime</th>\n      <th>traj_id</th>\n      <th></th>\n      <th></th>\n      <th></th>\n      <th></th>\n      <th></th>\n      <th></th>\n      <th></th>\n      <th></th>\n      <th></th>\n      <th></th>\n      <th></th>\n      <th></th>\n      <th></th>\n      <th></th>\n      <th></th>\n      <th></th>\n      <th></th>\n      <th></th>\n      <th></th>\n      <th></th>\n      <th></th>\n    </tr>\n  </thead>\n  <tbody>\n    <tr>\n      <th>1851-07-05 12:00:00</th>\n      <th>AL021851</th>\n      <td>UNNAMED</td>\n      <td>18510705</td>\n      <td>1200</td>\n      <td></td>\n      <td>HU</td>\n      <td>22.2</td>\n      <td>-97.6</td>\n      <td>80</td>\n      <td>-999</td>\n      <td>-999</td>\n      <td>...</td>\n      <td>-999</td>\n      <td>-999</td>\n      <td>-999</td>\n      <td>-999</td>\n      <td>NaN</td>\n      <td>NaN</td>\n      <td>NaN</td>\n      <td>NaN</td>\n      <td>NaN</td>\n      <td>NaN</td>\n    </tr>\n    <tr>\n      <th>1851-07-10 12:00:00</th>\n      <th>AL031851</th>\n      <td>UNNAMED</td>\n      <td>18510710</td>\n      <td>1200</td>\n      <td></td>\n      <td>TS</td>\n      <td>12.0</td>\n      <td>-60.0</td>\n      <td>50</td>\n      <td>-999</td>\n      <td>-999</td>\n      <td>...</td>\n      <td>-999</td>\n      <td>-999</td>\n      <td>-999</td>\n      <td>-999</td>\n      <td>NaN</td>\n      <td>NaN</td>\n      <td>NaN</td>\n      <td>NaN</td>\n      <td>NaN</td>\n      <td>NaN</td>\n    </tr>\n    <tr>\n      <th>1853-08-05 12:00:00</th>\n      <th>AL011853</th>\n      <td>UNNAMED</td>\n      <td>18530805</td>\n      <td>1200</td>\n      <td></td>\n      <td>TS</td>\n      <td>32.5</td>\n      <td>-69.0</td>\n      <td>50</td>\n      <td>-999</td>\n      <td>-999</td>\n      <td>...</td>\n      <td>-999</td>\n      <td>-999</td>\n      <td>-999</td>\n      <td>-999</td>\n      <td>NaN</td>\n      <td>NaN</td>\n      <td>NaN</td>\n      <td>NaN</td>\n      <td>NaN</td>\n      <td>NaN</td>\n    </tr>\n    <tr>\n      <th>1853-08-10 12:00:00</th>\n      <th>AL021853</th>\n      <td>UNNAMED</td>\n      <td>18530810</td>\n      <td>1200</td>\n      <td></td>\n      <td>TS</td>\n      <td>12.0</td>\n      <td>-60.0</td>\n      <td>40</td>\n      <td>-999</td>\n      <td>-999</td>\n      <td>...</td>\n      <td>-999</td>\n      <td>-999</td>\n      <td>-999</td>\n      <td>-999</td>\n      <td>NaN</td>\n      <td>NaN</td>\n      <td>NaN</td>\n      <td>NaN</td>\n      <td>NaN</td>\n      <td>NaN</td>\n    </tr>\n    <tr>\n      <th>1853-09-21 12:00:00</th>\n      <th>AL051853</th>\n      <td>UNNAMED</td>\n      <td>18530921</td>\n      <td>1200</td>\n      <td></td>\n      <td>TS</td>\n      <td>20.0</td>\n      <td>-95.0</td>\n      <td>50</td>\n      <td>-999</td>\n      <td>-999</td>\n      <td>...</td>\n      <td>-999</td>\n      <td>-999</td>\n      <td>-999</td>\n      <td>-999</td>\n      <td>NaN</td>\n      <td>NaN</td>\n      <td>NaN</td>\n      <td>NaN</td>\n      <td>NaN</td>\n      <td>NaN</td>\n    </tr>\n  </tbody>\n</table>\n<p>5 rows × 27 columns</p>\n</div>"
     },
     "execution_count": 27,
     "metadata": {},
     "output_type": "execute_result"
    }
   ],
   "source": [
    "%%time\n",
    "\n",
    "# Now lets check the bearing for the atlantic dataset.\n",
    "atlantic = spatial.create_bearing_column(atlantic)\n",
    "atlantic.head()"
   ],
   "metadata": {
    "collapsed": false,
    "pycharm": {
     "name": "#%%\n"
    }
   }
  },
  {
   "cell_type": "code",
   "execution_count": 28,
   "outputs": [
    {
     "name": "stdout",
     "output_type": "stream",
     "text": [
      "CPU times: user 238 ms, sys: 57.8 ms, total: 296 ms\n",
      "Wall time: 596 ms\n"
     ]
    },
    {
     "data": {
      "text/plain": "                               event-id  visible      lon       lat  \\\nDateTime            traj_id                                           \n2009-08-15 15:00:00 91733    1082636186     True  7.91883  54.18600   \n2009-08-15 21:00:00 91733    1082636187     True  7.91917  54.18567   \n2009-08-16 06:00:00 91733    1082636188     True  7.91500  54.18533   \n2009-08-16 09:00:00 91733    1082636189     True  7.91917  54.18583   \n2009-08-16 15:00:00 91733    1082636190     True  8.64117  54.33383   \n\n                            sensor-type individual-taxon-canonical-name  \\\nDateTime            traj_id                                               \n2009-08-15 15:00:00 91733           gps                    Larus fuscus   \n2009-08-15 21:00:00 91733           gps                    Larus fuscus   \n2009-08-16 06:00:00 91733           gps                    Larus fuscus   \n2009-08-16 09:00:00 91733           gps                    Larus fuscus   \n2009-08-16 15:00:00 91733           gps                    Larus fuscus   \n\n                            individual-local-identifier  \\\nDateTime            traj_id                               \n2009-08-15 15:00:00 91733                        91733A   \n2009-08-15 21:00:00 91733                        91733A   \n2009-08-16 06:00:00 91733                        91733A   \n2009-08-16 09:00:00 91733                        91733A   \n2009-08-16 15:00:00 91733                        91733A   \n\n                                                                    study-name  \\\nDateTime            traj_id                                                      \n2009-08-15 15:00:00 91733    Navigation experiments in lesser black-backed ...   \n2009-08-15 21:00:00 91733    Navigation experiments in lesser black-backed ...   \n2009-08-16 06:00:00 91733    Navigation experiments in lesser black-backed ...   \n2009-08-16 09:00:00 91733    Navigation experiments in lesser black-backed ...   \n2009-08-16 15:00:00 91733    Navigation experiments in lesser black-backed ...   \n\n                             Distance_prev_to_curr  Distance_start_to_curr  \\\nDateTime            traj_id                                                  \n2009-08-15 15:00:00 91733                      NaN                     NaN   \n2009-08-15 21:00:00 91733                42.847231               42.847231   \n2009-08-16 06:00:00 91733               273.951247              260.103940   \n2009-08-16 09:00:00 91733               276.967082               29.098770   \n2009-08-16 15:00:00 91733             49697.545831            49712.038359   \n\n                             Speed_prev_to_curr  Acceleration_prev_to_curr  \\\nDateTime            traj_id                                                  \n2009-08-15 15:00:00 91733                   NaN                        NaN   \n2009-08-15 21:00:00 91733              0.001984                        NaN   \n2009-08-16 06:00:00 91733              0.008455               1.997413e-07   \n2009-08-16 09:00:00 91733              0.025645               1.591650e-06   \n2009-08-16 15:00:00 91733              2.300812               1.053318e-04   \n\n                             jerk_prev_to_curr  Bearing_between_consecutive  \nDateTime            traj_id                                                  \n2009-08-15 15:00:00 91733                  NaN                          NaN  \n2009-08-15 21:00:00 91733                  NaN                   148.914497  \n2009-08-16 06:00:00 91733                  NaN                   -97.930652  \n2009-08-16 09:00:00 91733         1.288804e-10                    78.418266  \n2009-08-16 15:00:00 91733         4.802785e-09                    70.369350  ",
      "text/html": "<div>\n<style scoped>\n    .dataframe tbody tr th:only-of-type {\n        vertical-align: middle;\n    }\n\n    .dataframe tbody tr th {\n        vertical-align: top;\n    }\n\n    .dataframe thead th {\n        text-align: right;\n    }\n</style>\n<table border=\"1\" class=\"dataframe\">\n  <thead>\n    <tr style=\"text-align: right;\">\n      <th></th>\n      <th></th>\n      <th>event-id</th>\n      <th>visible</th>\n      <th>lon</th>\n      <th>lat</th>\n      <th>sensor-type</th>\n      <th>individual-taxon-canonical-name</th>\n      <th>individual-local-identifier</th>\n      <th>study-name</th>\n      <th>Distance_prev_to_curr</th>\n      <th>Distance_start_to_curr</th>\n      <th>Speed_prev_to_curr</th>\n      <th>Acceleration_prev_to_curr</th>\n      <th>jerk_prev_to_curr</th>\n      <th>Bearing_between_consecutive</th>\n    </tr>\n    <tr>\n      <th>DateTime</th>\n      <th>traj_id</th>\n      <th></th>\n      <th></th>\n      <th></th>\n      <th></th>\n      <th></th>\n      <th></th>\n      <th></th>\n      <th></th>\n      <th></th>\n      <th></th>\n      <th></th>\n      <th></th>\n      <th></th>\n      <th></th>\n    </tr>\n  </thead>\n  <tbody>\n    <tr>\n      <th>2009-08-15 15:00:00</th>\n      <th>91733</th>\n      <td>1082636186</td>\n      <td>True</td>\n      <td>7.91883</td>\n      <td>54.18600</td>\n      <td>gps</td>\n      <td>Larus fuscus</td>\n      <td>91733A</td>\n      <td>Navigation experiments in lesser black-backed ...</td>\n      <td>NaN</td>\n      <td>NaN</td>\n      <td>NaN</td>\n      <td>NaN</td>\n      <td>NaN</td>\n      <td>NaN</td>\n    </tr>\n    <tr>\n      <th>2009-08-15 21:00:00</th>\n      <th>91733</th>\n      <td>1082636187</td>\n      <td>True</td>\n      <td>7.91917</td>\n      <td>54.18567</td>\n      <td>gps</td>\n      <td>Larus fuscus</td>\n      <td>91733A</td>\n      <td>Navigation experiments in lesser black-backed ...</td>\n      <td>42.847231</td>\n      <td>42.847231</td>\n      <td>0.001984</td>\n      <td>NaN</td>\n      <td>NaN</td>\n      <td>148.914497</td>\n    </tr>\n    <tr>\n      <th>2009-08-16 06:00:00</th>\n      <th>91733</th>\n      <td>1082636188</td>\n      <td>True</td>\n      <td>7.91500</td>\n      <td>54.18533</td>\n      <td>gps</td>\n      <td>Larus fuscus</td>\n      <td>91733A</td>\n      <td>Navigation experiments in lesser black-backed ...</td>\n      <td>273.951247</td>\n      <td>260.103940</td>\n      <td>0.008455</td>\n      <td>1.997413e-07</td>\n      <td>NaN</td>\n      <td>-97.930652</td>\n    </tr>\n    <tr>\n      <th>2009-08-16 09:00:00</th>\n      <th>91733</th>\n      <td>1082636189</td>\n      <td>True</td>\n      <td>7.91917</td>\n      <td>54.18583</td>\n      <td>gps</td>\n      <td>Larus fuscus</td>\n      <td>91733A</td>\n      <td>Navigation experiments in lesser black-backed ...</td>\n      <td>276.967082</td>\n      <td>29.098770</td>\n      <td>0.025645</td>\n      <td>1.591650e-06</td>\n      <td>1.288804e-10</td>\n      <td>78.418266</td>\n    </tr>\n    <tr>\n      <th>2009-08-16 15:00:00</th>\n      <th>91733</th>\n      <td>1082636190</td>\n      <td>True</td>\n      <td>8.64117</td>\n      <td>54.33383</td>\n      <td>gps</td>\n      <td>Larus fuscus</td>\n      <td>91733A</td>\n      <td>Navigation experiments in lesser black-backed ...</td>\n      <td>49697.545831</td>\n      <td>49712.038359</td>\n      <td>2.300812</td>\n      <td>1.053318e-04</td>\n      <td>4.802785e-09</td>\n      <td>70.369350</td>\n    </tr>\n  </tbody>\n</table>\n</div>"
     },
     "execution_count": 28,
     "metadata": {},
     "output_type": "execute_result"
    }
   ],
   "source": [
    "%%time\n",
    "\n",
    "# Now lets check the bearing for the seagulls dataset.\n",
    "gulls = spatial.create_bearing_column(gulls)\n",
    "gulls.head()\n"
   ],
   "metadata": {
    "collapsed": false,
    "pycharm": {
     "name": "#%%\n"
    }
   }
  },
  {
   "cell_type": "code",
   "execution_count": 29,
   "outputs": [
    {
     "name": "stdout",
     "output_type": "stream",
     "text": [
      "CPU times: user 43 ms, sys: 3.81 ms, total: 46.8 ms\n",
      "Wall time: 47.7 ms\n"
     ]
    },
    {
     "data": {
      "text/plain": "                                   lat         lon  Distance_prev_to_curr  \\\nDateTime            traj_id                                                 \n2008-10-23 16:53:05 1        39.984094  116.319236                    NaN   \n2008-10-23 16:53:06 1        39.984198  116.319322              13.690153   \n2008-10-23 05:53:11 1        39.984224  116.319402               7.403788   \n2008-10-23 05:53:16 1        39.984211  116.319389               1.821083   \n2008-10-23 05:53:21 1        39.984217  116.319422               2.889671   \n\n                             Distance_start_to_curr  Distance_to_(0, 0)  \\\nDateTime            traj_id                                               \n2008-10-23 16:53:05 1                           NaN        1.221587e+07   \n2008-10-23 16:53:06 1                     13.690153        1.221587e+07   \n2008-10-23 05:53:11 1                     20.223428        1.221588e+07   \n2008-10-23 05:53:16 1                     18.416895        1.221588e+07   \n2008-10-23 05:53:21 1                     20.933073        1.221588e+07   \n\n                             Within_15000000_m_from_(0, 0)  \\\nDateTime            traj_id                                  \n2008-10-23 16:53:05 1                                 True   \n2008-10-23 16:53:06 1                                 True   \n2008-10-23 05:53:11 1                                 True   \n2008-10-23 05:53:16 1                                 True   \n2008-10-23 05:53:21 1                                 True   \n\n                             Speed_prev_to_curr  Acceleration_prev_to_curr  \\\nDateTime            traj_id                                                  \n2008-10-23 16:53:05 1                       NaN                        NaN   \n2008-10-23 16:53:06 1                 13.690153                        NaN   \n2008-10-23 05:53:11 1                  0.000158                  -0.000292   \n2008-10-23 05:53:16 1                  0.364217                   0.072812   \n2008-10-23 05:53:21 1                  0.577934                   0.042744   \n\n                             jerk_prev_to_curr  Bearing_between_consecutive  \\\nDateTime            traj_id                                                   \n2008-10-23 16:53:05 1                      NaN                          NaN   \n2008-10-23 16:53:06 1                      NaN                    32.358601   \n2008-10-23 05:53:11 1                      NaN                    67.015294   \n2008-10-23 05:53:16 1                 0.014621                  -142.539885   \n2008-10-23 05:53:21 1                -0.006014                    76.651056   \n\n                             Bearing_rate_from_prev  \nDateTime            traj_id                          \n2008-10-23 16:53:05 1                           NaN  \n2008-10-23 16:53:06 1                           NaN  \n2008-10-23 05:53:11 1                      0.000740  \n2008-10-23 05:53:16 1                    -41.911036  \n2008-10-23 05:53:21 1                     43.838188  ",
      "text/html": "<div>\n<style scoped>\n    .dataframe tbody tr th:only-of-type {\n        vertical-align: middle;\n    }\n\n    .dataframe tbody tr th {\n        vertical-align: top;\n    }\n\n    .dataframe thead th {\n        text-align: right;\n    }\n</style>\n<table border=\"1\" class=\"dataframe\">\n  <thead>\n    <tr style=\"text-align: right;\">\n      <th></th>\n      <th></th>\n      <th>lat</th>\n      <th>lon</th>\n      <th>Distance_prev_to_curr</th>\n      <th>Distance_start_to_curr</th>\n      <th>Distance_to_(0, 0)</th>\n      <th>Within_15000000_m_from_(0, 0)</th>\n      <th>Speed_prev_to_curr</th>\n      <th>Acceleration_prev_to_curr</th>\n      <th>jerk_prev_to_curr</th>\n      <th>Bearing_between_consecutive</th>\n      <th>Bearing_rate_from_prev</th>\n    </tr>\n    <tr>\n      <th>DateTime</th>\n      <th>traj_id</th>\n      <th></th>\n      <th></th>\n      <th></th>\n      <th></th>\n      <th></th>\n      <th></th>\n      <th></th>\n      <th></th>\n      <th></th>\n      <th></th>\n      <th></th>\n    </tr>\n  </thead>\n  <tbody>\n    <tr>\n      <th>2008-10-23 16:53:05</th>\n      <th>1</th>\n      <td>39.984094</td>\n      <td>116.319236</td>\n      <td>NaN</td>\n      <td>NaN</td>\n      <td>1.221587e+07</td>\n      <td>True</td>\n      <td>NaN</td>\n      <td>NaN</td>\n      <td>NaN</td>\n      <td>NaN</td>\n      <td>NaN</td>\n    </tr>\n    <tr>\n      <th>2008-10-23 16:53:06</th>\n      <th>1</th>\n      <td>39.984198</td>\n      <td>116.319322</td>\n      <td>13.690153</td>\n      <td>13.690153</td>\n      <td>1.221587e+07</td>\n      <td>True</td>\n      <td>13.690153</td>\n      <td>NaN</td>\n      <td>NaN</td>\n      <td>32.358601</td>\n      <td>NaN</td>\n    </tr>\n    <tr>\n      <th>2008-10-23 05:53:11</th>\n      <th>1</th>\n      <td>39.984224</td>\n      <td>116.319402</td>\n      <td>7.403788</td>\n      <td>20.223428</td>\n      <td>1.221588e+07</td>\n      <td>True</td>\n      <td>0.000158</td>\n      <td>-0.000292</td>\n      <td>NaN</td>\n      <td>67.015294</td>\n      <td>0.000740</td>\n    </tr>\n    <tr>\n      <th>2008-10-23 05:53:16</th>\n      <th>1</th>\n      <td>39.984211</td>\n      <td>116.319389</td>\n      <td>1.821083</td>\n      <td>18.416895</td>\n      <td>1.221588e+07</td>\n      <td>True</td>\n      <td>0.364217</td>\n      <td>0.072812</td>\n      <td>0.014621</td>\n      <td>-142.539885</td>\n      <td>-41.911036</td>\n    </tr>\n    <tr>\n      <th>2008-10-23 05:53:21</th>\n      <th>1</th>\n      <td>39.984217</td>\n      <td>116.319422</td>\n      <td>2.889671</td>\n      <td>20.933073</td>\n      <td>1.221588e+07</td>\n      <td>True</td>\n      <td>0.577934</td>\n      <td>0.042744</td>\n      <td>-0.006014</td>\n      <td>76.651056</td>\n      <td>43.838188</td>\n    </tr>\n  </tbody>\n</table>\n</div>"
     },
     "execution_count": 29,
     "metadata": {},
     "output_type": "execute_result"
    }
   ],
   "source": [
    "%%time\n",
    "\n",
    "# Now, lets calculate the bearing rate between 2 consecutive points.\n",
    "# First, we will do it for the geolife dataset.\n",
    "geolife = spatial.create_bearing_rate_column(geolife)\n",
    "geolife.head()"
   ],
   "metadata": {
    "collapsed": false,
    "pycharm": {
     "name": "#%%\n"
    }
   }
  },
  {
   "cell_type": "code",
   "execution_count": 30,
   "outputs": [
    {
     "name": "stdout",
     "output_type": "stream",
     "text": [
      "CPU times: user 16.6 ms, sys: 106 µs, total: 16.7 ms\n",
      "Wall time: 15.5 ms\n"
     ]
    },
    {
     "data": {
      "text/plain": "                                             Name      Date  Time Event  \\\nDateTime            traj_id                                               \n1851-07-05 12:00:00 AL021851              UNNAMED  18510705  1200         \n1851-07-10 12:00:00 AL031851              UNNAMED  18510710  1200         \n1853-08-05 12:00:00 AL011853              UNNAMED  18530805  1200         \n1853-08-10 12:00:00 AL021853              UNNAMED  18530810  1200         \n1853-09-21 12:00:00 AL051853              UNNAMED  18530921  1200         \n\n                             Status   lat   lon  Maximum Wind  \\\nDateTime            traj_id                                     \n1851-07-05 12:00:00 AL021851     HU  22.2 -97.6            80   \n1851-07-10 12:00:00 AL031851     TS  12.0 -60.0            50   \n1853-08-05 12:00:00 AL011853     TS  32.5 -69.0            50   \n1853-08-10 12:00:00 AL021853     TS  12.0 -60.0            40   \n1853-09-21 12:00:00 AL051853     TS  20.0 -95.0            50   \n\n                              Minimum Pressure  Low Wind NE  ...  \\\nDateTime            traj_id                                  ...   \n1851-07-05 12:00:00 AL021851              -999         -999  ...   \n1851-07-10 12:00:00 AL031851              -999         -999  ...   \n1853-08-05 12:00:00 AL011853              -999         -999  ...   \n1853-08-10 12:00:00 AL021853              -999         -999  ...   \n1853-09-21 12:00:00 AL051853              -999         -999  ...   \n\n                              High Wind SE  High Wind SW  High Wind NW  \\\nDateTime            traj_id                                              \n1851-07-05 12:00:00 AL021851          -999          -999          -999   \n1851-07-10 12:00:00 AL031851          -999          -999          -999   \n1853-08-05 12:00:00 AL011853          -999          -999          -999   \n1853-08-10 12:00:00 AL021853          -999          -999          -999   \n1853-09-21 12:00:00 AL051853          -999          -999          -999   \n\n                              Distance_prev_to_curr  Distance_start_to_curr  \\\nDateTime            traj_id                                                   \n1851-07-05 12:00:00 AL021851                    NaN                     NaN   \n1851-07-10 12:00:00 AL031851                    NaN                     NaN   \n1853-08-05 12:00:00 AL011853                    NaN                     NaN   \n1853-08-10 12:00:00 AL021853                    NaN                     NaN   \n1853-09-21 12:00:00 AL051853                    NaN                     NaN   \n\n                              Speed_prev_to_curr  Acceleration_prev_to_curr  \\\nDateTime            traj_id                                                   \n1851-07-05 12:00:00 AL021851                 NaN                        NaN   \n1851-07-10 12:00:00 AL031851                 NaN                        NaN   \n1853-08-05 12:00:00 AL011853                 NaN                        NaN   \n1853-08-10 12:00:00 AL021853                 NaN                        NaN   \n1853-09-21 12:00:00 AL051853                 NaN                        NaN   \n\n                              jerk_prev_to_curr  Bearing_between_consecutive  \\\nDateTime            traj_id                                                    \n1851-07-05 12:00:00 AL021851                NaN                          NaN   \n1851-07-10 12:00:00 AL031851                NaN                          NaN   \n1853-08-05 12:00:00 AL011853                NaN                          NaN   \n1853-08-10 12:00:00 AL021853                NaN                          NaN   \n1853-09-21 12:00:00 AL051853                NaN                          NaN   \n\n                              Bearing_rate_from_prev  \nDateTime            traj_id                           \n1851-07-05 12:00:00 AL021851                     NaN  \n1851-07-10 12:00:00 AL031851                     NaN  \n1853-08-05 12:00:00 AL011853                     NaN  \n1853-08-10 12:00:00 AL021853                     NaN  \n1853-09-21 12:00:00 AL051853                     NaN  \n\n[5 rows x 28 columns]",
      "text/html": "<div>\n<style scoped>\n    .dataframe tbody tr th:only-of-type {\n        vertical-align: middle;\n    }\n\n    .dataframe tbody tr th {\n        vertical-align: top;\n    }\n\n    .dataframe thead th {\n        text-align: right;\n    }\n</style>\n<table border=\"1\" class=\"dataframe\">\n  <thead>\n    <tr style=\"text-align: right;\">\n      <th></th>\n      <th></th>\n      <th>Name</th>\n      <th>Date</th>\n      <th>Time</th>\n      <th>Event</th>\n      <th>Status</th>\n      <th>lat</th>\n      <th>lon</th>\n      <th>Maximum Wind</th>\n      <th>Minimum Pressure</th>\n      <th>Low Wind NE</th>\n      <th>...</th>\n      <th>High Wind SE</th>\n      <th>High Wind SW</th>\n      <th>High Wind NW</th>\n      <th>Distance_prev_to_curr</th>\n      <th>Distance_start_to_curr</th>\n      <th>Speed_prev_to_curr</th>\n      <th>Acceleration_prev_to_curr</th>\n      <th>jerk_prev_to_curr</th>\n      <th>Bearing_between_consecutive</th>\n      <th>Bearing_rate_from_prev</th>\n    </tr>\n    <tr>\n      <th>DateTime</th>\n      <th>traj_id</th>\n      <th></th>\n      <th></th>\n      <th></th>\n      <th></th>\n      <th></th>\n      <th></th>\n      <th></th>\n      <th></th>\n      <th></th>\n      <th></th>\n      <th></th>\n      <th></th>\n      <th></th>\n      <th></th>\n      <th></th>\n      <th></th>\n      <th></th>\n      <th></th>\n      <th></th>\n      <th></th>\n      <th></th>\n    </tr>\n  </thead>\n  <tbody>\n    <tr>\n      <th>1851-07-05 12:00:00</th>\n      <th>AL021851</th>\n      <td>UNNAMED</td>\n      <td>18510705</td>\n      <td>1200</td>\n      <td></td>\n      <td>HU</td>\n      <td>22.2</td>\n      <td>-97.6</td>\n      <td>80</td>\n      <td>-999</td>\n      <td>-999</td>\n      <td>...</td>\n      <td>-999</td>\n      <td>-999</td>\n      <td>-999</td>\n      <td>NaN</td>\n      <td>NaN</td>\n      <td>NaN</td>\n      <td>NaN</td>\n      <td>NaN</td>\n      <td>NaN</td>\n      <td>NaN</td>\n    </tr>\n    <tr>\n      <th>1851-07-10 12:00:00</th>\n      <th>AL031851</th>\n      <td>UNNAMED</td>\n      <td>18510710</td>\n      <td>1200</td>\n      <td></td>\n      <td>TS</td>\n      <td>12.0</td>\n      <td>-60.0</td>\n      <td>50</td>\n      <td>-999</td>\n      <td>-999</td>\n      <td>...</td>\n      <td>-999</td>\n      <td>-999</td>\n      <td>-999</td>\n      <td>NaN</td>\n      <td>NaN</td>\n      <td>NaN</td>\n      <td>NaN</td>\n      <td>NaN</td>\n      <td>NaN</td>\n      <td>NaN</td>\n    </tr>\n    <tr>\n      <th>1853-08-05 12:00:00</th>\n      <th>AL011853</th>\n      <td>UNNAMED</td>\n      <td>18530805</td>\n      <td>1200</td>\n      <td></td>\n      <td>TS</td>\n      <td>32.5</td>\n      <td>-69.0</td>\n      <td>50</td>\n      <td>-999</td>\n      <td>-999</td>\n      <td>...</td>\n      <td>-999</td>\n      <td>-999</td>\n      <td>-999</td>\n      <td>NaN</td>\n      <td>NaN</td>\n      <td>NaN</td>\n      <td>NaN</td>\n      <td>NaN</td>\n      <td>NaN</td>\n      <td>NaN</td>\n    </tr>\n    <tr>\n      <th>1853-08-10 12:00:00</th>\n      <th>AL021853</th>\n      <td>UNNAMED</td>\n      <td>18530810</td>\n      <td>1200</td>\n      <td></td>\n      <td>TS</td>\n      <td>12.0</td>\n      <td>-60.0</td>\n      <td>40</td>\n      <td>-999</td>\n      <td>-999</td>\n      <td>...</td>\n      <td>-999</td>\n      <td>-999</td>\n      <td>-999</td>\n      <td>NaN</td>\n      <td>NaN</td>\n      <td>NaN</td>\n      <td>NaN</td>\n      <td>NaN</td>\n      <td>NaN</td>\n      <td>NaN</td>\n    </tr>\n    <tr>\n      <th>1853-09-21 12:00:00</th>\n      <th>AL051853</th>\n      <td>UNNAMED</td>\n      <td>18530921</td>\n      <td>1200</td>\n      <td></td>\n      <td>TS</td>\n      <td>20.0</td>\n      <td>-95.0</td>\n      <td>50</td>\n      <td>-999</td>\n      <td>-999</td>\n      <td>...</td>\n      <td>-999</td>\n      <td>-999</td>\n      <td>-999</td>\n      <td>NaN</td>\n      <td>NaN</td>\n      <td>NaN</td>\n      <td>NaN</td>\n      <td>NaN</td>\n      <td>NaN</td>\n      <td>NaN</td>\n    </tr>\n  </tbody>\n</table>\n<p>5 rows × 28 columns</p>\n</div>"
     },
     "execution_count": 30,
     "metadata": {},
     "output_type": "execute_result"
    }
   ],
   "source": [
    "%%time\n",
    "\n",
    "# Now lets calculate the bearing rate for the atlantic dataset.\n",
    "atlantic = spatial.create_bearing_rate_column(atlantic)\n",
    "atlantic.head()"
   ],
   "metadata": {
    "collapsed": false,
    "pycharm": {
     "name": "#%%\n"
    }
   }
  },
  {
   "cell_type": "code",
   "execution_count": 31,
   "outputs": [
    {
     "name": "stdout",
     "output_type": "stream",
     "text": [
      "CPU times: user 28.6 ms, sys: 96 µs, total: 28.7 ms\n",
      "Wall time: 28.2 ms\n"
     ]
    },
    {
     "data": {
      "text/plain": "                               event-id  visible      lon       lat  \\\nDateTime            traj_id                                           \n2009-08-15 15:00:00 91733    1082636186     True  7.91883  54.18600   \n2009-08-15 21:00:00 91733    1082636187     True  7.91917  54.18567   \n2009-08-16 06:00:00 91733    1082636188     True  7.91500  54.18533   \n2009-08-16 09:00:00 91733    1082636189     True  7.91917  54.18583   \n2009-08-16 15:00:00 91733    1082636190     True  8.64117  54.33383   \n\n                            sensor-type individual-taxon-canonical-name  \\\nDateTime            traj_id                                               \n2009-08-15 15:00:00 91733           gps                    Larus fuscus   \n2009-08-15 21:00:00 91733           gps                    Larus fuscus   \n2009-08-16 06:00:00 91733           gps                    Larus fuscus   \n2009-08-16 09:00:00 91733           gps                    Larus fuscus   \n2009-08-16 15:00:00 91733           gps                    Larus fuscus   \n\n                            individual-local-identifier  \\\nDateTime            traj_id                               \n2009-08-15 15:00:00 91733                        91733A   \n2009-08-15 21:00:00 91733                        91733A   \n2009-08-16 06:00:00 91733                        91733A   \n2009-08-16 09:00:00 91733                        91733A   \n2009-08-16 15:00:00 91733                        91733A   \n\n                                                                    study-name  \\\nDateTime            traj_id                                                      \n2009-08-15 15:00:00 91733    Navigation experiments in lesser black-backed ...   \n2009-08-15 21:00:00 91733    Navigation experiments in lesser black-backed ...   \n2009-08-16 06:00:00 91733    Navigation experiments in lesser black-backed ...   \n2009-08-16 09:00:00 91733    Navigation experiments in lesser black-backed ...   \n2009-08-16 15:00:00 91733    Navigation experiments in lesser black-backed ...   \n\n                             Distance_prev_to_curr  Distance_start_to_curr  \\\nDateTime            traj_id                                                  \n2009-08-15 15:00:00 91733                      NaN                     NaN   \n2009-08-15 21:00:00 91733                42.847231               42.847231   \n2009-08-16 06:00:00 91733               273.951247              260.103940   \n2009-08-16 09:00:00 91733               276.967082               29.098770   \n2009-08-16 15:00:00 91733             49697.545831            49712.038359   \n\n                             Speed_prev_to_curr  Acceleration_prev_to_curr  \\\nDateTime            traj_id                                                  \n2009-08-15 15:00:00 91733                   NaN                        NaN   \n2009-08-15 21:00:00 91733              0.001984                        NaN   \n2009-08-16 06:00:00 91733              0.008455               1.997413e-07   \n2009-08-16 09:00:00 91733              0.025645               1.591650e-06   \n2009-08-16 15:00:00 91733              2.300812               1.053318e-04   \n\n                             jerk_prev_to_curr  Bearing_between_consecutive  \\\nDateTime            traj_id                                                   \n2009-08-15 15:00:00 91733                  NaN                          NaN   \n2009-08-15 21:00:00 91733                  NaN                   148.914497   \n2009-08-16 06:00:00 91733                  NaN                   -97.930652   \n2009-08-16 09:00:00 91733         1.288804e-10                    78.418266   \n2009-08-16 15:00:00 91733         4.802785e-09                    70.369350   \n\n                             Bearing_rate_from_prev  \nDateTime            traj_id                          \n2009-08-15 15:00:00 91733                       NaN  \n2009-08-15 21:00:00 91733                       NaN  \n2009-08-16 06:00:00 91733                 -0.007619  \n2009-08-16 09:00:00 91733                  0.016329  \n2009-08-16 15:00:00 91733                 -0.000373  ",
      "text/html": "<div>\n<style scoped>\n    .dataframe tbody tr th:only-of-type {\n        vertical-align: middle;\n    }\n\n    .dataframe tbody tr th {\n        vertical-align: top;\n    }\n\n    .dataframe thead th {\n        text-align: right;\n    }\n</style>\n<table border=\"1\" class=\"dataframe\">\n  <thead>\n    <tr style=\"text-align: right;\">\n      <th></th>\n      <th></th>\n      <th>event-id</th>\n      <th>visible</th>\n      <th>lon</th>\n      <th>lat</th>\n      <th>sensor-type</th>\n      <th>individual-taxon-canonical-name</th>\n      <th>individual-local-identifier</th>\n      <th>study-name</th>\n      <th>Distance_prev_to_curr</th>\n      <th>Distance_start_to_curr</th>\n      <th>Speed_prev_to_curr</th>\n      <th>Acceleration_prev_to_curr</th>\n      <th>jerk_prev_to_curr</th>\n      <th>Bearing_between_consecutive</th>\n      <th>Bearing_rate_from_prev</th>\n    </tr>\n    <tr>\n      <th>DateTime</th>\n      <th>traj_id</th>\n      <th></th>\n      <th></th>\n      <th></th>\n      <th></th>\n      <th></th>\n      <th></th>\n      <th></th>\n      <th></th>\n      <th></th>\n      <th></th>\n      <th></th>\n      <th></th>\n      <th></th>\n      <th></th>\n      <th></th>\n    </tr>\n  </thead>\n  <tbody>\n    <tr>\n      <th>2009-08-15 15:00:00</th>\n      <th>91733</th>\n      <td>1082636186</td>\n      <td>True</td>\n      <td>7.91883</td>\n      <td>54.18600</td>\n      <td>gps</td>\n      <td>Larus fuscus</td>\n      <td>91733A</td>\n      <td>Navigation experiments in lesser black-backed ...</td>\n      <td>NaN</td>\n      <td>NaN</td>\n      <td>NaN</td>\n      <td>NaN</td>\n      <td>NaN</td>\n      <td>NaN</td>\n      <td>NaN</td>\n    </tr>\n    <tr>\n      <th>2009-08-15 21:00:00</th>\n      <th>91733</th>\n      <td>1082636187</td>\n      <td>True</td>\n      <td>7.91917</td>\n      <td>54.18567</td>\n      <td>gps</td>\n      <td>Larus fuscus</td>\n      <td>91733A</td>\n      <td>Navigation experiments in lesser black-backed ...</td>\n      <td>42.847231</td>\n      <td>42.847231</td>\n      <td>0.001984</td>\n      <td>NaN</td>\n      <td>NaN</td>\n      <td>148.914497</td>\n      <td>NaN</td>\n    </tr>\n    <tr>\n      <th>2009-08-16 06:00:00</th>\n      <th>91733</th>\n      <td>1082636188</td>\n      <td>True</td>\n      <td>7.91500</td>\n      <td>54.18533</td>\n      <td>gps</td>\n      <td>Larus fuscus</td>\n      <td>91733A</td>\n      <td>Navigation experiments in lesser black-backed ...</td>\n      <td>273.951247</td>\n      <td>260.103940</td>\n      <td>0.008455</td>\n      <td>1.997413e-07</td>\n      <td>NaN</td>\n      <td>-97.930652</td>\n      <td>-0.007619</td>\n    </tr>\n    <tr>\n      <th>2009-08-16 09:00:00</th>\n      <th>91733</th>\n      <td>1082636189</td>\n      <td>True</td>\n      <td>7.91917</td>\n      <td>54.18583</td>\n      <td>gps</td>\n      <td>Larus fuscus</td>\n      <td>91733A</td>\n      <td>Navigation experiments in lesser black-backed ...</td>\n      <td>276.967082</td>\n      <td>29.098770</td>\n      <td>0.025645</td>\n      <td>1.591650e-06</td>\n      <td>1.288804e-10</td>\n      <td>78.418266</td>\n      <td>0.016329</td>\n    </tr>\n    <tr>\n      <th>2009-08-16 15:00:00</th>\n      <th>91733</th>\n      <td>1082636190</td>\n      <td>True</td>\n      <td>8.64117</td>\n      <td>54.33383</td>\n      <td>gps</td>\n      <td>Larus fuscus</td>\n      <td>91733A</td>\n      <td>Navigation experiments in lesser black-backed ...</td>\n      <td>49697.545831</td>\n      <td>49712.038359</td>\n      <td>2.300812</td>\n      <td>1.053318e-04</td>\n      <td>4.802785e-09</td>\n      <td>70.369350</td>\n      <td>-0.000373</td>\n    </tr>\n  </tbody>\n</table>\n</div>"
     },
     "execution_count": 31,
     "metadata": {},
     "output_type": "execute_result"
    }
   ],
   "source": [
    "%%time\n",
    "\n",
    "# Now lets calculate the bearing rate for the seagulls dataset.\n",
    "gulls = spatial.create_bearing_rate_column(gulls)\n",
    "gulls.head()"
   ],
   "metadata": {
    "collapsed": false,
    "pycharm": {
     "name": "#%%\n"
    }
   }
  },
  {
   "cell_type": "code",
   "execution_count": 32,
   "outputs": [
    {
     "name": "stdout",
     "output_type": "stream",
     "text": [
      "CPU times: user 31.3 ms, sys: 3.18 ms, total: 34.5 ms\n",
      "Wall time: 33 ms\n"
     ]
    },
    {
     "data": {
      "text/plain": "                                   lat         lon  Distance_prev_to_curr  \\\nDateTime            traj_id                                                 \n2008-10-23 16:53:05 1        39.984094  116.319236                    NaN   \n2008-10-23 16:53:06 1        39.984198  116.319322              13.690153   \n2008-10-23 05:53:11 1        39.984224  116.319402               7.403788   \n2008-10-23 05:53:16 1        39.984211  116.319389               1.821083   \n2008-10-23 05:53:21 1        39.984217  116.319422               2.889671   \n\n                             Distance_start_to_curr  Distance_to_(0, 0)  \\\nDateTime            traj_id                                               \n2008-10-23 16:53:05 1                           NaN        1.221587e+07   \n2008-10-23 16:53:06 1                     13.690153        1.221587e+07   \n2008-10-23 05:53:11 1                     20.223428        1.221588e+07   \n2008-10-23 05:53:16 1                     18.416895        1.221588e+07   \n2008-10-23 05:53:21 1                     20.933073        1.221588e+07   \n\n                             Within_15000000_m_from_(0, 0)  \\\nDateTime            traj_id                                  \n2008-10-23 16:53:05 1                                 True   \n2008-10-23 16:53:06 1                                 True   \n2008-10-23 05:53:11 1                                 True   \n2008-10-23 05:53:16 1                                 True   \n2008-10-23 05:53:21 1                                 True   \n\n                             Speed_prev_to_curr  Acceleration_prev_to_curr  \\\nDateTime            traj_id                                                  \n2008-10-23 16:53:05 1                       NaN                        NaN   \n2008-10-23 16:53:06 1                 13.690153                        NaN   \n2008-10-23 05:53:11 1                  0.000158                  -0.000292   \n2008-10-23 05:53:16 1                  0.364217                   0.072812   \n2008-10-23 05:53:21 1                  0.577934                   0.042744   \n\n                             jerk_prev_to_curr  Bearing_between_consecutive  \\\nDateTime            traj_id                                                   \n2008-10-23 16:53:05 1                      NaN                          NaN   \n2008-10-23 16:53:06 1                      NaN                    32.358601   \n2008-10-23 05:53:11 1                      NaN                    67.015294   \n2008-10-23 05:53:16 1                 0.014621                  -142.539885   \n2008-10-23 05:53:21 1                -0.006014                    76.651056   \n\n                             Bearing_rate_from_prev  \\\nDateTime            traj_id                           \n2008-10-23 16:53:05 1                           NaN   \n2008-10-23 16:53:06 1                           NaN   \n2008-10-23 05:53:11 1                      0.000740   \n2008-10-23 05:53:16 1                    -41.911036   \n2008-10-23 05:53:21 1                     43.838188   \n\n                             Rate_of_bearing_rate_from_prev  \nDateTime            traj_id                                  \n2008-10-23 16:53:05 1                                   NaN  \n2008-10-23 16:53:06 1                                   NaN  \n2008-10-23 05:53:11 1                                   NaN  \n2008-10-23 05:53:16 1                             -8.382355  \n2008-10-23 05:53:21 1                             17.149845  ",
      "text/html": "<div>\n<style scoped>\n    .dataframe tbody tr th:only-of-type {\n        vertical-align: middle;\n    }\n\n    .dataframe tbody tr th {\n        vertical-align: top;\n    }\n\n    .dataframe thead th {\n        text-align: right;\n    }\n</style>\n<table border=\"1\" class=\"dataframe\">\n  <thead>\n    <tr style=\"text-align: right;\">\n      <th></th>\n      <th></th>\n      <th>lat</th>\n      <th>lon</th>\n      <th>Distance_prev_to_curr</th>\n      <th>Distance_start_to_curr</th>\n      <th>Distance_to_(0, 0)</th>\n      <th>Within_15000000_m_from_(0, 0)</th>\n      <th>Speed_prev_to_curr</th>\n      <th>Acceleration_prev_to_curr</th>\n      <th>jerk_prev_to_curr</th>\n      <th>Bearing_between_consecutive</th>\n      <th>Bearing_rate_from_prev</th>\n      <th>Rate_of_bearing_rate_from_prev</th>\n    </tr>\n    <tr>\n      <th>DateTime</th>\n      <th>traj_id</th>\n      <th></th>\n      <th></th>\n      <th></th>\n      <th></th>\n      <th></th>\n      <th></th>\n      <th></th>\n      <th></th>\n      <th></th>\n      <th></th>\n      <th></th>\n      <th></th>\n    </tr>\n  </thead>\n  <tbody>\n    <tr>\n      <th>2008-10-23 16:53:05</th>\n      <th>1</th>\n      <td>39.984094</td>\n      <td>116.319236</td>\n      <td>NaN</td>\n      <td>NaN</td>\n      <td>1.221587e+07</td>\n      <td>True</td>\n      <td>NaN</td>\n      <td>NaN</td>\n      <td>NaN</td>\n      <td>NaN</td>\n      <td>NaN</td>\n      <td>NaN</td>\n    </tr>\n    <tr>\n      <th>2008-10-23 16:53:06</th>\n      <th>1</th>\n      <td>39.984198</td>\n      <td>116.319322</td>\n      <td>13.690153</td>\n      <td>13.690153</td>\n      <td>1.221587e+07</td>\n      <td>True</td>\n      <td>13.690153</td>\n      <td>NaN</td>\n      <td>NaN</td>\n      <td>32.358601</td>\n      <td>NaN</td>\n      <td>NaN</td>\n    </tr>\n    <tr>\n      <th>2008-10-23 05:53:11</th>\n      <th>1</th>\n      <td>39.984224</td>\n      <td>116.319402</td>\n      <td>7.403788</td>\n      <td>20.223428</td>\n      <td>1.221588e+07</td>\n      <td>True</td>\n      <td>0.000158</td>\n      <td>-0.000292</td>\n      <td>NaN</td>\n      <td>67.015294</td>\n      <td>0.000740</td>\n      <td>NaN</td>\n    </tr>\n    <tr>\n      <th>2008-10-23 05:53:16</th>\n      <th>1</th>\n      <td>39.984211</td>\n      <td>116.319389</td>\n      <td>1.821083</td>\n      <td>18.416895</td>\n      <td>1.221588e+07</td>\n      <td>True</td>\n      <td>0.364217</td>\n      <td>0.072812</td>\n      <td>0.014621</td>\n      <td>-142.539885</td>\n      <td>-41.911036</td>\n      <td>-8.382355</td>\n    </tr>\n    <tr>\n      <th>2008-10-23 05:53:21</th>\n      <th>1</th>\n      <td>39.984217</td>\n      <td>116.319422</td>\n      <td>2.889671</td>\n      <td>20.933073</td>\n      <td>1.221588e+07</td>\n      <td>True</td>\n      <td>0.577934</td>\n      <td>0.042744</td>\n      <td>-0.006014</td>\n      <td>76.651056</td>\n      <td>43.838188</td>\n      <td>17.149845</td>\n    </tr>\n  </tbody>\n</table>\n</div>"
     },
     "execution_count": 32,
     "metadata": {},
     "output_type": "execute_result"
    }
   ],
   "source": [
    "%%time\n",
    "\n",
    "# Now, lets calculate the rate of bearing rate between 2\n",
    "# consecutive points.\n",
    "geolife = spatial.create_rate_of_bearing_rate_column(geolife)\n",
    "geolife.head()\n"
   ],
   "metadata": {
    "collapsed": false,
    "pycharm": {
     "name": "#%%\n"
    }
   }
  },
  {
   "cell_type": "code",
   "execution_count": 33,
   "outputs": [
    {
     "name": "stdout",
     "output_type": "stream",
     "text": [
      "CPU times: user 20.3 ms, sys: 50 µs, total: 20.4 ms\n",
      "Wall time: 19 ms\n"
     ]
    },
    {
     "data": {
      "text/plain": "                                             Name      Date  Time Event  \\\nDateTime            traj_id                                               \n1851-07-05 12:00:00 AL021851              UNNAMED  18510705  1200         \n1851-07-10 12:00:00 AL031851              UNNAMED  18510710  1200         \n1853-08-05 12:00:00 AL011853              UNNAMED  18530805  1200         \n1853-08-10 12:00:00 AL021853              UNNAMED  18530810  1200         \n1853-09-21 12:00:00 AL051853              UNNAMED  18530921  1200         \n\n                             Status   lat   lon  Maximum Wind  \\\nDateTime            traj_id                                     \n1851-07-05 12:00:00 AL021851     HU  22.2 -97.6            80   \n1851-07-10 12:00:00 AL031851     TS  12.0 -60.0            50   \n1853-08-05 12:00:00 AL011853     TS  32.5 -69.0            50   \n1853-08-10 12:00:00 AL021853     TS  12.0 -60.0            40   \n1853-09-21 12:00:00 AL051853     TS  20.0 -95.0            50   \n\n                              Minimum Pressure  Low Wind NE  ...  \\\nDateTime            traj_id                                  ...   \n1851-07-05 12:00:00 AL021851              -999         -999  ...   \n1851-07-10 12:00:00 AL031851              -999         -999  ...   \n1853-08-05 12:00:00 AL011853              -999         -999  ...   \n1853-08-10 12:00:00 AL021853              -999         -999  ...   \n1853-09-21 12:00:00 AL051853              -999         -999  ...   \n\n                              High Wind SW  High Wind NW  \\\nDateTime            traj_id                                \n1851-07-05 12:00:00 AL021851          -999          -999   \n1851-07-10 12:00:00 AL031851          -999          -999   \n1853-08-05 12:00:00 AL011853          -999          -999   \n1853-08-10 12:00:00 AL021853          -999          -999   \n1853-09-21 12:00:00 AL051853          -999          -999   \n\n                              Distance_prev_to_curr  Distance_start_to_curr  \\\nDateTime            traj_id                                                   \n1851-07-05 12:00:00 AL021851                    NaN                     NaN   \n1851-07-10 12:00:00 AL031851                    NaN                     NaN   \n1853-08-05 12:00:00 AL011853                    NaN                     NaN   \n1853-08-10 12:00:00 AL021853                    NaN                     NaN   \n1853-09-21 12:00:00 AL051853                    NaN                     NaN   \n\n                              Speed_prev_to_curr  Acceleration_prev_to_curr  \\\nDateTime            traj_id                                                   \n1851-07-05 12:00:00 AL021851                 NaN                        NaN   \n1851-07-10 12:00:00 AL031851                 NaN                        NaN   \n1853-08-05 12:00:00 AL011853                 NaN                        NaN   \n1853-08-10 12:00:00 AL021853                 NaN                        NaN   \n1853-09-21 12:00:00 AL051853                 NaN                        NaN   \n\n                              jerk_prev_to_curr  Bearing_between_consecutive  \\\nDateTime            traj_id                                                    \n1851-07-05 12:00:00 AL021851                NaN                          NaN   \n1851-07-10 12:00:00 AL031851                NaN                          NaN   \n1853-08-05 12:00:00 AL011853                NaN                          NaN   \n1853-08-10 12:00:00 AL021853                NaN                          NaN   \n1853-09-21 12:00:00 AL051853                NaN                          NaN   \n\n                              Bearing_rate_from_prev  \\\nDateTime            traj_id                            \n1851-07-05 12:00:00 AL021851                     NaN   \n1851-07-10 12:00:00 AL031851                     NaN   \n1853-08-05 12:00:00 AL011853                     NaN   \n1853-08-10 12:00:00 AL021853                     NaN   \n1853-09-21 12:00:00 AL051853                     NaN   \n\n                              Rate_of_bearing_rate_from_prev  \nDateTime            traj_id                                   \n1851-07-05 12:00:00 AL021851                             NaN  \n1851-07-10 12:00:00 AL031851                             NaN  \n1853-08-05 12:00:00 AL011853                             NaN  \n1853-08-10 12:00:00 AL021853                             NaN  \n1853-09-21 12:00:00 AL051853                             NaN  \n\n[5 rows x 29 columns]",
      "text/html": "<div>\n<style scoped>\n    .dataframe tbody tr th:only-of-type {\n        vertical-align: middle;\n    }\n\n    .dataframe tbody tr th {\n        vertical-align: top;\n    }\n\n    .dataframe thead th {\n        text-align: right;\n    }\n</style>\n<table border=\"1\" class=\"dataframe\">\n  <thead>\n    <tr style=\"text-align: right;\">\n      <th></th>\n      <th></th>\n      <th>Name</th>\n      <th>Date</th>\n      <th>Time</th>\n      <th>Event</th>\n      <th>Status</th>\n      <th>lat</th>\n      <th>lon</th>\n      <th>Maximum Wind</th>\n      <th>Minimum Pressure</th>\n      <th>Low Wind NE</th>\n      <th>...</th>\n      <th>High Wind SW</th>\n      <th>High Wind NW</th>\n      <th>Distance_prev_to_curr</th>\n      <th>Distance_start_to_curr</th>\n      <th>Speed_prev_to_curr</th>\n      <th>Acceleration_prev_to_curr</th>\n      <th>jerk_prev_to_curr</th>\n      <th>Bearing_between_consecutive</th>\n      <th>Bearing_rate_from_prev</th>\n      <th>Rate_of_bearing_rate_from_prev</th>\n    </tr>\n    <tr>\n      <th>DateTime</th>\n      <th>traj_id</th>\n      <th></th>\n      <th></th>\n      <th></th>\n      <th></th>\n      <th></th>\n      <th></th>\n      <th></th>\n      <th></th>\n      <th></th>\n      <th></th>\n      <th></th>\n      <th></th>\n      <th></th>\n      <th></th>\n      <th></th>\n      <th></th>\n      <th></th>\n      <th></th>\n      <th></th>\n      <th></th>\n      <th></th>\n    </tr>\n  </thead>\n  <tbody>\n    <tr>\n      <th>1851-07-05 12:00:00</th>\n      <th>AL021851</th>\n      <td>UNNAMED</td>\n      <td>18510705</td>\n      <td>1200</td>\n      <td></td>\n      <td>HU</td>\n      <td>22.2</td>\n      <td>-97.6</td>\n      <td>80</td>\n      <td>-999</td>\n      <td>-999</td>\n      <td>...</td>\n      <td>-999</td>\n      <td>-999</td>\n      <td>NaN</td>\n      <td>NaN</td>\n      <td>NaN</td>\n      <td>NaN</td>\n      <td>NaN</td>\n      <td>NaN</td>\n      <td>NaN</td>\n      <td>NaN</td>\n    </tr>\n    <tr>\n      <th>1851-07-10 12:00:00</th>\n      <th>AL031851</th>\n      <td>UNNAMED</td>\n      <td>18510710</td>\n      <td>1200</td>\n      <td></td>\n      <td>TS</td>\n      <td>12.0</td>\n      <td>-60.0</td>\n      <td>50</td>\n      <td>-999</td>\n      <td>-999</td>\n      <td>...</td>\n      <td>-999</td>\n      <td>-999</td>\n      <td>NaN</td>\n      <td>NaN</td>\n      <td>NaN</td>\n      <td>NaN</td>\n      <td>NaN</td>\n      <td>NaN</td>\n      <td>NaN</td>\n      <td>NaN</td>\n    </tr>\n    <tr>\n      <th>1853-08-05 12:00:00</th>\n      <th>AL011853</th>\n      <td>UNNAMED</td>\n      <td>18530805</td>\n      <td>1200</td>\n      <td></td>\n      <td>TS</td>\n      <td>32.5</td>\n      <td>-69.0</td>\n      <td>50</td>\n      <td>-999</td>\n      <td>-999</td>\n      <td>...</td>\n      <td>-999</td>\n      <td>-999</td>\n      <td>NaN</td>\n      <td>NaN</td>\n      <td>NaN</td>\n      <td>NaN</td>\n      <td>NaN</td>\n      <td>NaN</td>\n      <td>NaN</td>\n      <td>NaN</td>\n    </tr>\n    <tr>\n      <th>1853-08-10 12:00:00</th>\n      <th>AL021853</th>\n      <td>UNNAMED</td>\n      <td>18530810</td>\n      <td>1200</td>\n      <td></td>\n      <td>TS</td>\n      <td>12.0</td>\n      <td>-60.0</td>\n      <td>40</td>\n      <td>-999</td>\n      <td>-999</td>\n      <td>...</td>\n      <td>-999</td>\n      <td>-999</td>\n      <td>NaN</td>\n      <td>NaN</td>\n      <td>NaN</td>\n      <td>NaN</td>\n      <td>NaN</td>\n      <td>NaN</td>\n      <td>NaN</td>\n      <td>NaN</td>\n    </tr>\n    <tr>\n      <th>1853-09-21 12:00:00</th>\n      <th>AL051853</th>\n      <td>UNNAMED</td>\n      <td>18530921</td>\n      <td>1200</td>\n      <td></td>\n      <td>TS</td>\n      <td>20.0</td>\n      <td>-95.0</td>\n      <td>50</td>\n      <td>-999</td>\n      <td>-999</td>\n      <td>...</td>\n      <td>-999</td>\n      <td>-999</td>\n      <td>NaN</td>\n      <td>NaN</td>\n      <td>NaN</td>\n      <td>NaN</td>\n      <td>NaN</td>\n      <td>NaN</td>\n      <td>NaN</td>\n      <td>NaN</td>\n    </tr>\n  </tbody>\n</table>\n<p>5 rows × 29 columns</p>\n</div>"
     },
     "execution_count": 33,
     "metadata": {},
     "output_type": "execute_result"
    }
   ],
   "source": [
    "%%time\n",
    "\n",
    "# Now, lets calculate the rate of bearing rate for the atlantic\n",
    "# dataset.\n",
    "atlantic = spatial.create_rate_of_bearing_rate_column(atlantic)\n",
    "atlantic.head()"
   ],
   "metadata": {
    "collapsed": false,
    "pycharm": {
     "name": "#%%\n"
    }
   }
  },
  {
   "cell_type": "code",
   "execution_count": 34,
   "outputs": [
    {
     "name": "stdout",
     "output_type": "stream",
     "text": [
      "CPU times: user 21.8 ms, sys: 0 ns, total: 21.8 ms\n",
      "Wall time: 19.6 ms\n"
     ]
    },
    {
     "data": {
      "text/plain": "                               event-id  visible      lon       lat  \\\nDateTime            traj_id                                           \n2009-08-15 15:00:00 91733    1082636186     True  7.91883  54.18600   \n2009-08-15 21:00:00 91733    1082636187     True  7.91917  54.18567   \n2009-08-16 06:00:00 91733    1082636188     True  7.91500  54.18533   \n2009-08-16 09:00:00 91733    1082636189     True  7.91917  54.18583   \n2009-08-16 15:00:00 91733    1082636190     True  8.64117  54.33383   \n\n                            sensor-type individual-taxon-canonical-name  \\\nDateTime            traj_id                                               \n2009-08-15 15:00:00 91733           gps                    Larus fuscus   \n2009-08-15 21:00:00 91733           gps                    Larus fuscus   \n2009-08-16 06:00:00 91733           gps                    Larus fuscus   \n2009-08-16 09:00:00 91733           gps                    Larus fuscus   \n2009-08-16 15:00:00 91733           gps                    Larus fuscus   \n\n                            individual-local-identifier  \\\nDateTime            traj_id                               \n2009-08-15 15:00:00 91733                        91733A   \n2009-08-15 21:00:00 91733                        91733A   \n2009-08-16 06:00:00 91733                        91733A   \n2009-08-16 09:00:00 91733                        91733A   \n2009-08-16 15:00:00 91733                        91733A   \n\n                                                                    study-name  \\\nDateTime            traj_id                                                      \n2009-08-15 15:00:00 91733    Navigation experiments in lesser black-backed ...   \n2009-08-15 21:00:00 91733    Navigation experiments in lesser black-backed ...   \n2009-08-16 06:00:00 91733    Navigation experiments in lesser black-backed ...   \n2009-08-16 09:00:00 91733    Navigation experiments in lesser black-backed ...   \n2009-08-16 15:00:00 91733    Navigation experiments in lesser black-backed ...   \n\n                             Distance_prev_to_curr  Distance_start_to_curr  \\\nDateTime            traj_id                                                  \n2009-08-15 15:00:00 91733                      NaN                     NaN   \n2009-08-15 21:00:00 91733                42.847231               42.847231   \n2009-08-16 06:00:00 91733               273.951247              260.103940   \n2009-08-16 09:00:00 91733               276.967082               29.098770   \n2009-08-16 15:00:00 91733             49697.545831            49712.038359   \n\n                             Speed_prev_to_curr  Acceleration_prev_to_curr  \\\nDateTime            traj_id                                                  \n2009-08-15 15:00:00 91733                   NaN                        NaN   \n2009-08-15 21:00:00 91733              0.001984                        NaN   \n2009-08-16 06:00:00 91733              0.008455               1.997413e-07   \n2009-08-16 09:00:00 91733              0.025645               1.591650e-06   \n2009-08-16 15:00:00 91733              2.300812               1.053318e-04   \n\n                             jerk_prev_to_curr  Bearing_between_consecutive  \\\nDateTime            traj_id                                                   \n2009-08-15 15:00:00 91733                  NaN                          NaN   \n2009-08-15 21:00:00 91733                  NaN                   148.914497   \n2009-08-16 06:00:00 91733                  NaN                   -97.930652   \n2009-08-16 09:00:00 91733         1.288804e-10                    78.418266   \n2009-08-16 15:00:00 91733         4.802785e-09                    70.369350   \n\n                             Bearing_rate_from_prev  \\\nDateTime            traj_id                           \n2009-08-15 15:00:00 91733                       NaN   \n2009-08-15 21:00:00 91733                       NaN   \n2009-08-16 06:00:00 91733                 -0.007619   \n2009-08-16 09:00:00 91733                  0.016329   \n2009-08-16 15:00:00 91733                 -0.000373   \n\n                             Rate_of_bearing_rate_from_prev  \nDateTime            traj_id                                  \n2009-08-15 15:00:00 91733                               NaN  \n2009-08-15 21:00:00 91733                               NaN  \n2009-08-16 06:00:00 91733                               NaN  \n2009-08-16 09:00:00 91733                      2.217341e-06  \n2009-08-16 15:00:00 91733                     -7.732055e-07  ",
      "text/html": "<div>\n<style scoped>\n    .dataframe tbody tr th:only-of-type {\n        vertical-align: middle;\n    }\n\n    .dataframe tbody tr th {\n        vertical-align: top;\n    }\n\n    .dataframe thead th {\n        text-align: right;\n    }\n</style>\n<table border=\"1\" class=\"dataframe\">\n  <thead>\n    <tr style=\"text-align: right;\">\n      <th></th>\n      <th></th>\n      <th>event-id</th>\n      <th>visible</th>\n      <th>lon</th>\n      <th>lat</th>\n      <th>sensor-type</th>\n      <th>individual-taxon-canonical-name</th>\n      <th>individual-local-identifier</th>\n      <th>study-name</th>\n      <th>Distance_prev_to_curr</th>\n      <th>Distance_start_to_curr</th>\n      <th>Speed_prev_to_curr</th>\n      <th>Acceleration_prev_to_curr</th>\n      <th>jerk_prev_to_curr</th>\n      <th>Bearing_between_consecutive</th>\n      <th>Bearing_rate_from_prev</th>\n      <th>Rate_of_bearing_rate_from_prev</th>\n    </tr>\n    <tr>\n      <th>DateTime</th>\n      <th>traj_id</th>\n      <th></th>\n      <th></th>\n      <th></th>\n      <th></th>\n      <th></th>\n      <th></th>\n      <th></th>\n      <th></th>\n      <th></th>\n      <th></th>\n      <th></th>\n      <th></th>\n      <th></th>\n      <th></th>\n      <th></th>\n      <th></th>\n    </tr>\n  </thead>\n  <tbody>\n    <tr>\n      <th>2009-08-15 15:00:00</th>\n      <th>91733</th>\n      <td>1082636186</td>\n      <td>True</td>\n      <td>7.91883</td>\n      <td>54.18600</td>\n      <td>gps</td>\n      <td>Larus fuscus</td>\n      <td>91733A</td>\n      <td>Navigation experiments in lesser black-backed ...</td>\n      <td>NaN</td>\n      <td>NaN</td>\n      <td>NaN</td>\n      <td>NaN</td>\n      <td>NaN</td>\n      <td>NaN</td>\n      <td>NaN</td>\n      <td>NaN</td>\n    </tr>\n    <tr>\n      <th>2009-08-15 21:00:00</th>\n      <th>91733</th>\n      <td>1082636187</td>\n      <td>True</td>\n      <td>7.91917</td>\n      <td>54.18567</td>\n      <td>gps</td>\n      <td>Larus fuscus</td>\n      <td>91733A</td>\n      <td>Navigation experiments in lesser black-backed ...</td>\n      <td>42.847231</td>\n      <td>42.847231</td>\n      <td>0.001984</td>\n      <td>NaN</td>\n      <td>NaN</td>\n      <td>148.914497</td>\n      <td>NaN</td>\n      <td>NaN</td>\n    </tr>\n    <tr>\n      <th>2009-08-16 06:00:00</th>\n      <th>91733</th>\n      <td>1082636188</td>\n      <td>True</td>\n      <td>7.91500</td>\n      <td>54.18533</td>\n      <td>gps</td>\n      <td>Larus fuscus</td>\n      <td>91733A</td>\n      <td>Navigation experiments in lesser black-backed ...</td>\n      <td>273.951247</td>\n      <td>260.103940</td>\n      <td>0.008455</td>\n      <td>1.997413e-07</td>\n      <td>NaN</td>\n      <td>-97.930652</td>\n      <td>-0.007619</td>\n      <td>NaN</td>\n    </tr>\n    <tr>\n      <th>2009-08-16 09:00:00</th>\n      <th>91733</th>\n      <td>1082636189</td>\n      <td>True</td>\n      <td>7.91917</td>\n      <td>54.18583</td>\n      <td>gps</td>\n      <td>Larus fuscus</td>\n      <td>91733A</td>\n      <td>Navigation experiments in lesser black-backed ...</td>\n      <td>276.967082</td>\n      <td>29.098770</td>\n      <td>0.025645</td>\n      <td>1.591650e-06</td>\n      <td>1.288804e-10</td>\n      <td>78.418266</td>\n      <td>0.016329</td>\n      <td>2.217341e-06</td>\n    </tr>\n    <tr>\n      <th>2009-08-16 15:00:00</th>\n      <th>91733</th>\n      <td>1082636190</td>\n      <td>True</td>\n      <td>8.64117</td>\n      <td>54.33383</td>\n      <td>gps</td>\n      <td>Larus fuscus</td>\n      <td>91733A</td>\n      <td>Navigation experiments in lesser black-backed ...</td>\n      <td>49697.545831</td>\n      <td>49712.038359</td>\n      <td>2.300812</td>\n      <td>1.053318e-04</td>\n      <td>4.802785e-09</td>\n      <td>70.369350</td>\n      <td>-0.000373</td>\n      <td>-7.732055e-07</td>\n    </tr>\n  </tbody>\n</table>\n</div>"
     },
     "execution_count": 34,
     "metadata": {},
     "output_type": "execute_result"
    }
   ],
   "source": [
    "%%time\n",
    "\n",
    "# Now lets calculate the rate of bearing rate for the seagulls\n",
    "# dataset.\n",
    "gulls = spatial.create_rate_of_bearing_rate_column(gulls)\n",
    "gulls.head()"
   ],
   "metadata": {
    "collapsed": false,
    "pycharm": {
     "name": "#%%\n"
    }
   }
  },
  {
   "cell_type": "code",
   "execution_count": 35,
   "outputs": [
    {
     "name": "stdout",
     "output_type": "stream",
     "text": [
      "CPU times: user 577 ms, sys: 530 ms, total: 1.11 s\n",
      "Wall time: 4.24 s\n"
     ]
    },
    {
     "data": {
      "text/plain": "           lat   lon\ntraj_id             \nAL011853  32.5 -69.0\nAL051867  17.0 -58.0\nAL021853  12.0 -60.0\nAL041862  13.0 -61.0\nAL031867  14.0 -77.0\n...        ...   ...\nAL041957  13.0 -21.3\nAL142012  15.5 -38.0\nAL201969  16.0 -47.0\nAL141971  25.5 -71.5\nAL031899  11.7 -31.0\n\n[1814 rows x 2 columns]",
      "text/html": "<div>\n<style scoped>\n    .dataframe tbody tr th:only-of-type {\n        vertical-align: middle;\n    }\n\n    .dataframe tbody tr th {\n        vertical-align: top;\n    }\n\n    .dataframe thead th {\n        text-align: right;\n    }\n</style>\n<table border=\"1\" class=\"dataframe\">\n  <thead>\n    <tr style=\"text-align: right;\">\n      <th></th>\n      <th>lat</th>\n      <th>lon</th>\n    </tr>\n    <tr>\n      <th>traj_id</th>\n      <th></th>\n      <th></th>\n    </tr>\n  </thead>\n  <tbody>\n    <tr>\n      <th>AL011853</th>\n      <td>32.5</td>\n      <td>-69.0</td>\n    </tr>\n    <tr>\n      <th>AL051867</th>\n      <td>17.0</td>\n      <td>-58.0</td>\n    </tr>\n    <tr>\n      <th>AL021853</th>\n      <td>12.0</td>\n      <td>-60.0</td>\n    </tr>\n    <tr>\n      <th>AL041862</th>\n      <td>13.0</td>\n      <td>-61.0</td>\n    </tr>\n    <tr>\n      <th>AL031867</th>\n      <td>14.0</td>\n      <td>-77.0</td>\n    </tr>\n    <tr>\n      <th>...</th>\n      <td>...</td>\n      <td>...</td>\n    </tr>\n    <tr>\n      <th>AL041957</th>\n      <td>13.0</td>\n      <td>-21.3</td>\n    </tr>\n    <tr>\n      <th>AL142012</th>\n      <td>15.5</td>\n      <td>-38.0</td>\n    </tr>\n    <tr>\n      <th>AL201969</th>\n      <td>16.0</td>\n      <td>-47.0</td>\n    </tr>\n    <tr>\n      <th>AL141971</th>\n      <td>25.5</td>\n      <td>-71.5</td>\n    </tr>\n    <tr>\n      <th>AL031899</th>\n      <td>11.7</td>\n      <td>-31.0</td>\n    </tr>\n  </tbody>\n</table>\n<p>1814 rows × 2 columns</p>\n</div>"
     },
     "execution_count": 35,
     "metadata": {},
     "output_type": "execute_result"
    }
   ],
   "source": [
    "%%time\n",
    "\n",
    "# Now, lets get the start locations of all the trajectories\n",
    "# in the atlantic dataset.\n",
    "spatial.get_start_location(atlantic)"
   ],
   "metadata": {
    "collapsed": false,
    "pycharm": {
     "name": "#%%\n"
    }
   }
  },
  {
   "cell_type": "code",
   "execution_count": 36,
   "outputs": [
    {
     "name": "stdout",
     "output_type": "stream",
     "text": [
      "CPU times: user 37.9 ms, sys: 8.39 ms, total: 46.3 ms\n",
      "Wall time: 45.2 ms\n"
     ]
    },
    {
     "data": {
      "text/plain": "(31.0, -100.2)"
     },
     "execution_count": 36,
     "metadata": {},
     "output_type": "execute_result"
    }
   ],
   "source": [
    "%%time\n",
    "\n",
    "# Now, lets get the end location of a specific trajectory\n",
    "# from the atlantic dataset.\n",
    "spatial.get_end_location(atlantic, 'AL011851')"
   ],
   "metadata": {
    "collapsed": false,
    "pycharm": {
     "name": "#%%\n"
    }
   }
  },
  {
   "cell_type": "code",
   "execution_count": 37,
   "outputs": [
    {
     "name": "stdout",
     "output_type": "stream",
     "text": [
      "CPU times: user 42.8 ms, sys: 13.2 ms, total: 56 ms\n",
      "Wall time: 65.1 ms\n"
     ]
    },
    {
     "data": {
      "text/plain": "716547.106240304"
     },
     "execution_count": 37,
     "metadata": {},
     "output_type": "execute_result"
    }
   ],
   "source": [
    "%%time\n",
    "\n",
    "# Now, lets get the distance travelled by a specific trajectory\n",
    "# in the atlantic dataset.\n",
    "spatial.get_distance_travelled_by_traj_id(atlantic, 'AL011851')"
   ],
   "metadata": {
    "collapsed": false,
    "pycharm": {
     "name": "#%%\n"
    }
   }
  },
  {
   "cell_type": "code",
   "execution_count": 38,
   "outputs": [
    {
     "name": "stdout",
     "output_type": "stream",
     "text": [
      "CPU times: user 482 ms, sys: 499 ms, total: 981 ms\n",
      "Wall time: 3.28 s\n"
     ]
    },
    {
     "data": {
      "text/plain": "          Number of Unique Coordinates\ntraj_id                               \nAL011853                             1\nAL051867                             1\nAL021853                             1\nAL041862                             1\nAL031867                             1\n...                                ...\nAL041957                            95\nAL142012                            96\nAL201969                            99\nAL141971                           118\nAL031899                           133\n\n[1814 rows x 1 columns]",
      "text/html": "<div>\n<style scoped>\n    .dataframe tbody tr th:only-of-type {\n        vertical-align: middle;\n    }\n\n    .dataframe tbody tr th {\n        vertical-align: top;\n    }\n\n    .dataframe thead th {\n        text-align: right;\n    }\n</style>\n<table border=\"1\" class=\"dataframe\">\n  <thead>\n    <tr style=\"text-align: right;\">\n      <th></th>\n      <th>Number of Unique Coordinates</th>\n    </tr>\n    <tr>\n      <th>traj_id</th>\n      <th></th>\n    </tr>\n  </thead>\n  <tbody>\n    <tr>\n      <th>AL011853</th>\n      <td>1</td>\n    </tr>\n    <tr>\n      <th>AL051867</th>\n      <td>1</td>\n    </tr>\n    <tr>\n      <th>AL021853</th>\n      <td>1</td>\n    </tr>\n    <tr>\n      <th>AL041862</th>\n      <td>1</td>\n    </tr>\n    <tr>\n      <th>AL031867</th>\n      <td>1</td>\n    </tr>\n    <tr>\n      <th>...</th>\n      <td>...</td>\n    </tr>\n    <tr>\n      <th>AL041957</th>\n      <td>95</td>\n    </tr>\n    <tr>\n      <th>AL142012</th>\n      <td>96</td>\n    </tr>\n    <tr>\n      <th>AL201969</th>\n      <td>99</td>\n    </tr>\n    <tr>\n      <th>AL141971</th>\n      <td>118</td>\n    </tr>\n    <tr>\n      <th>AL031899</th>\n      <td>133</td>\n    </tr>\n  </tbody>\n</table>\n<p>1814 rows × 1 columns</p>\n</div>"
     },
     "execution_count": 38,
     "metadata": {},
     "output_type": "execute_result"
    }
   ],
   "source": [
    "%%time\n",
    "\n",
    "# Now, lets get the number of unique locations visited by\n",
    "# all the trajectories in the atlantic dataset.\n",
    "spatial.get_number_of_locations(atlantic)"
   ],
   "metadata": {
    "collapsed": false,
    "pycharm": {
     "name": "#%%\n"
    }
   }
  },
  {
   "cell_type": "code",
   "execution_count": 39,
   "outputs": [
    {
     "name": "stdout",
     "output_type": "stream",
     "text": [
      "Total execution time is 35.47942900657654 seconds.\n"
     ]
    }
   ],
   "source": [
    "end = time.time()\n",
    "print(f\"Total execution time is {end - start} seconds.\")"
   ],
   "metadata": {
    "collapsed": false,
    "pycharm": {
     "name": "#%%\n"
    }
   }
  }
 ],
 "metadata": {
  "kernelspec": {
   "display_name": "Python 3",
   "language": "python",
   "name": "python3"
  },
  "language_info": {
   "codemirror_mode": {
    "name": "ipython",
    "version": 2
   },
   "file_extension": ".py",
   "mimetype": "text/x-python",
   "name": "python",
   "nbconvert_exporter": "python",
   "pygments_lexer": "ipython2",
   "version": "2.7.6"
  }
 },
 "nbformat": 4,
 "nbformat_minor": 0
}