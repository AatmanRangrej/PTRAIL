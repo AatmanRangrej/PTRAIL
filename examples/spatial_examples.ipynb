{
 "cells": [
  {
   "cell_type": "code",
   "execution_count": 1,
   "metadata": {
    "collapsed": true
   },
   "outputs": [],
   "source": [
    "import numpy as np\n",
    "\n",
    "from core.TrajectoryDF import NumPandasTraj as NumTrajDF\n",
    "from features.spatial_features import SpatialFeatures as spatial\n",
    "from utilities.conversions import Conversions as con\n",
    "import pandas as pd\n",
    "import time\n",
    "np.seterr(invalid='ignore')\n",
    "start = time.time()"
   ]
  },
  {
   "cell_type": "code",
   "execution_count": 2,
   "outputs": [
    {
     "name": "stdout",
     "output_type": "stream",
     "text": [
      "CPU times: user 9.85 s, sys: 121 ms, total: 9.97 s\n",
      "Wall time: 9.97 s\n"
     ]
    },
    {
     "data": {
      "text/plain": "                                             Name      Date  Time Event  \\\ntraj_id  DateTime                                                         \nAL011851 1851-06-25 00:00:00              UNNAMED  18510625     0         \n         1851-06-25 06:00:00              UNNAMED  18510625   600         \n         1851-06-25 12:00:00              UNNAMED  18510625  1200         \n         1851-06-25 18:00:00              UNNAMED  18510625  1800         \n         1851-06-25 21:00:00              UNNAMED  18510625  2100     L   \n\n                             Status   lat   lon  Maximum Wind  \\\ntraj_id  DateTime                                               \nAL011851 1851-06-25 00:00:00     HU  28.0 -94.8            80   \n         1851-06-25 06:00:00     HU  28.0 -95.4            80   \n         1851-06-25 12:00:00     HU  28.0 -96.0            80   \n         1851-06-25 18:00:00     HU  28.1 -96.5            80   \n         1851-06-25 21:00:00     HU  28.2 -96.8            80   \n\n                              Minimum Pressure  Low Wind NE  ...  Low Wind SW  \\\ntraj_id  DateTime                                            ...                \nAL011851 1851-06-25 00:00:00              -999         -999  ...         -999   \n         1851-06-25 06:00:00              -999         -999  ...         -999   \n         1851-06-25 12:00:00              -999         -999  ...         -999   \n         1851-06-25 18:00:00              -999         -999  ...         -999   \n         1851-06-25 21:00:00              -999         -999  ...         -999   \n\n                              Low Wind NW  Moderate Wind NE  Moderate Wind SE  \\\ntraj_id  DateTime                                                               \nAL011851 1851-06-25 00:00:00         -999              -999              -999   \n         1851-06-25 06:00:00         -999              -999              -999   \n         1851-06-25 12:00:00         -999              -999              -999   \n         1851-06-25 18:00:00         -999              -999              -999   \n         1851-06-25 21:00:00         -999              -999              -999   \n\n                              Moderate Wind SW  Moderate Wind NW  \\\ntraj_id  DateTime                                                  \nAL011851 1851-06-25 00:00:00              -999              -999   \n         1851-06-25 06:00:00              -999              -999   \n         1851-06-25 12:00:00              -999              -999   \n         1851-06-25 18:00:00              -999              -999   \n         1851-06-25 21:00:00              -999              -999   \n\n                              High Wind NE  High Wind SE  High Wind SW  \\\ntraj_id  DateTime                                                        \nAL011851 1851-06-25 00:00:00          -999          -999          -999   \n         1851-06-25 06:00:00          -999          -999          -999   \n         1851-06-25 12:00:00          -999          -999          -999   \n         1851-06-25 18:00:00          -999          -999          -999   \n         1851-06-25 21:00:00          -999          -999          -999   \n\n                              High Wind NW  \ntraj_id  DateTime                           \nAL011851 1851-06-25 00:00:00          -999  \n         1851-06-25 06:00:00          -999  \n         1851-06-25 12:00:00          -999  \n         1851-06-25 18:00:00          -999  \n         1851-06-25 21:00:00          -999  \n\n[5 rows x 21 columns]",
      "text/html": "<div>\n<style scoped>\n    .dataframe tbody tr th:only-of-type {\n        vertical-align: middle;\n    }\n\n    .dataframe tbody tr th {\n        vertical-align: top;\n    }\n\n    .dataframe thead th {\n        text-align: right;\n    }\n</style>\n<table border=\"1\" class=\"dataframe\">\n  <thead>\n    <tr style=\"text-align: right;\">\n      <th></th>\n      <th></th>\n      <th>Name</th>\n      <th>Date</th>\n      <th>Time</th>\n      <th>Event</th>\n      <th>Status</th>\n      <th>lat</th>\n      <th>lon</th>\n      <th>Maximum Wind</th>\n      <th>Minimum Pressure</th>\n      <th>Low Wind NE</th>\n      <th>...</th>\n      <th>Low Wind SW</th>\n      <th>Low Wind NW</th>\n      <th>Moderate Wind NE</th>\n      <th>Moderate Wind SE</th>\n      <th>Moderate Wind SW</th>\n      <th>Moderate Wind NW</th>\n      <th>High Wind NE</th>\n      <th>High Wind SE</th>\n      <th>High Wind SW</th>\n      <th>High Wind NW</th>\n    </tr>\n    <tr>\n      <th>traj_id</th>\n      <th>DateTime</th>\n      <th></th>\n      <th></th>\n      <th></th>\n      <th></th>\n      <th></th>\n      <th></th>\n      <th></th>\n      <th></th>\n      <th></th>\n      <th></th>\n      <th></th>\n      <th></th>\n      <th></th>\n      <th></th>\n      <th></th>\n      <th></th>\n      <th></th>\n      <th></th>\n      <th></th>\n      <th></th>\n      <th></th>\n    </tr>\n  </thead>\n  <tbody>\n    <tr>\n      <th rowspan=\"5\" valign=\"top\">AL011851</th>\n      <th>1851-06-25 00:00:00</th>\n      <td>UNNAMED</td>\n      <td>18510625</td>\n      <td>0</td>\n      <td></td>\n      <td>HU</td>\n      <td>28.0</td>\n      <td>-94.8</td>\n      <td>80</td>\n      <td>-999</td>\n      <td>-999</td>\n      <td>...</td>\n      <td>-999</td>\n      <td>-999</td>\n      <td>-999</td>\n      <td>-999</td>\n      <td>-999</td>\n      <td>-999</td>\n      <td>-999</td>\n      <td>-999</td>\n      <td>-999</td>\n      <td>-999</td>\n    </tr>\n    <tr>\n      <th>1851-06-25 06:00:00</th>\n      <td>UNNAMED</td>\n      <td>18510625</td>\n      <td>600</td>\n      <td></td>\n      <td>HU</td>\n      <td>28.0</td>\n      <td>-95.4</td>\n      <td>80</td>\n      <td>-999</td>\n      <td>-999</td>\n      <td>...</td>\n      <td>-999</td>\n      <td>-999</td>\n      <td>-999</td>\n      <td>-999</td>\n      <td>-999</td>\n      <td>-999</td>\n      <td>-999</td>\n      <td>-999</td>\n      <td>-999</td>\n      <td>-999</td>\n    </tr>\n    <tr>\n      <th>1851-06-25 12:00:00</th>\n      <td>UNNAMED</td>\n      <td>18510625</td>\n      <td>1200</td>\n      <td></td>\n      <td>HU</td>\n      <td>28.0</td>\n      <td>-96.0</td>\n      <td>80</td>\n      <td>-999</td>\n      <td>-999</td>\n      <td>...</td>\n      <td>-999</td>\n      <td>-999</td>\n      <td>-999</td>\n      <td>-999</td>\n      <td>-999</td>\n      <td>-999</td>\n      <td>-999</td>\n      <td>-999</td>\n      <td>-999</td>\n      <td>-999</td>\n    </tr>\n    <tr>\n      <th>1851-06-25 18:00:00</th>\n      <td>UNNAMED</td>\n      <td>18510625</td>\n      <td>1800</td>\n      <td></td>\n      <td>HU</td>\n      <td>28.1</td>\n      <td>-96.5</td>\n      <td>80</td>\n      <td>-999</td>\n      <td>-999</td>\n      <td>...</td>\n      <td>-999</td>\n      <td>-999</td>\n      <td>-999</td>\n      <td>-999</td>\n      <td>-999</td>\n      <td>-999</td>\n      <td>-999</td>\n      <td>-999</td>\n      <td>-999</td>\n      <td>-999</td>\n    </tr>\n    <tr>\n      <th>1851-06-25 21:00:00</th>\n      <td>UNNAMED</td>\n      <td>18510625</td>\n      <td>2100</td>\n      <td>L</td>\n      <td>HU</td>\n      <td>28.2</td>\n      <td>-96.8</td>\n      <td>80</td>\n      <td>-999</td>\n      <td>-999</td>\n      <td>...</td>\n      <td>-999</td>\n      <td>-999</td>\n      <td>-999</td>\n      <td>-999</td>\n      <td>-999</td>\n      <td>-999</td>\n      <td>-999</td>\n      <td>-999</td>\n      <td>-999</td>\n      <td>-999</td>\n    </tr>\n  </tbody>\n</table>\n<p>5 rows × 21 columns</p>\n</div>"
     },
     "execution_count": 2,
     "metadata": {},
     "output_type": "execute_result"
    }
   ],
   "source": [
    "%%time\n",
    "# Reading the geolife dataset and converting to NumPandasTraj.\n",
    "geolife = pd.read_csv('./data/geolife_sample.csv')\n",
    "geolife = NumTrajDF(geolife,'lat','lon','datetime','id')\n",
    "\n",
    "# Reading the gulls dataset and converting to NumPandasTraj.\n",
    "gulls = pd.read_csv('./data/gulls.csv')\n",
    "gulls = NumTrajDF(gulls,\n",
    "                 latitude='location-lat',\n",
    "                 longitude='location-long',\n",
    "                 datetime='timestamp',\n",
    "                 traj_id='tag-local-identifier',\n",
    "                 rest_of_columns=[])\n",
    "\n",
    "# Reading the atlantic dataset, cleaning it up and then converting\n",
    "# it to NumPandasTraj.\n",
    "atlantic = pd.read_csv('./data/atlantic.csv')\n",
    "atlantic = con.convert_directions_to_degree_lat_lon(atlantic, 'Latitude',\"Longitude\")\n",
    "def convert_to_datetime(row):\n",
    "        this_date = '{}-{}-{}'.format(str(row['Date'])[0:4], str(row['Date'])[4:6], str(row['Date'])[6:])\n",
    "        this_time = '{:02d}:{:02d}:00'.format(int(row['Time']/100), int(str(row['Time'])[-2:]))\n",
    "        return '{} {}'.format(this_date, this_time)\n",
    "atlantic['DateTime'] = atlantic.apply(convert_to_datetime, axis=1)\n",
    "atlantic = NumTrajDF(atlantic,\n",
    "                         latitude='Latitude',\n",
    "                         longitude='Longitude',\n",
    "                         datetime='DateTime',\n",
    "                         traj_id='ID',\n",
    "                         rest_of_columns=[])\n",
    "atlantic.head()"
   ],
   "metadata": {
    "collapsed": false,
    "pycharm": {
     "name": "#%%\n"
    }
   }
  },
  {
   "cell_type": "code",
   "execution_count": 3,
   "outputs": [
    {
     "name": "stdout",
     "output_type": "stream",
     "text": [
      "(22.147577, 113.54884299999999, 41.132062, 121.156224)\n",
      "(-62.71617, 4.02517, 65.2325, 103.19317)\n",
      "(7.2, -109.5, 81.0, 63.0)\n",
      "CPU times: user 9.03 ms, sys: 64 µs, total: 9.09 ms\n",
      "Wall time: 7.68 ms\n"
     ]
    }
   ],
   "source": [
    "%%time\n",
    "\n",
    "# Now, lets get the bounding boxes of all the dataframes.\n",
    "print(spatial.get_bounding_box(geolife))\n",
    "print(spatial.get_bounding_box(gulls))\n",
    "print(spatial.get_bounding_box(atlantic))"
   ],
   "metadata": {
    "collapsed": false,
    "pycharm": {
     "name": "#%%\n"
    }
   }
  },
  {
   "cell_type": "code",
   "execution_count": 4,
   "outputs": [
    {
     "name": "stdout",
     "output_type": "stream",
     "text": [
      "               lat         lon\n",
      "traj_id                       \n",
      "1        39.984224  116.319402\n",
      "5        40.004155  116.321337\n",
      "              lat       lon\n",
      "traj_id                    \n",
      "91785    64.98267  35.74300\n",
      "91797    64.96767  35.73650\n",
      "91769    54.18433   7.91283\n",
      "91843    55.42533  49.34817\n",
      "91913    64.97850  35.72667\n",
      "...           ...       ...\n",
      "91814    55.43233  49.34283\n",
      "91763    62.78917  28.76983\n",
      "91823    54.18600   7.91867\n",
      "91752    62.40617  29.46983\n",
      "91916    54.18533   7.91500\n",
      "\n",
      "[126 rows x 2 columns]\n",
      "           lat   lon\n",
      "traj_id             \n",
      "AL021864  24.0 -89.0\n",
      "AL011853  32.5 -69.0\n",
      "AL021865  26.0 -97.5\n",
      "AL071870  12.0 -35.0\n",
      "AL041856  23.0 -82.5\n",
      "...        ...   ...\n",
      "AL041957  13.0 -21.3\n",
      "AL142012  15.5 -38.0\n",
      "AL201969  16.0 -47.0\n",
      "AL141971  25.5 -71.5\n",
      "AL031899  11.7 -31.0\n",
      "\n",
      "[1814 rows x 2 columns]\n",
      "CPU times: user 628 ms, sys: 374 ms, total: 1 s\n",
      "Wall time: 5.12 s\n"
     ]
    }
   ],
   "source": [
    "%%time\n",
    "\n",
    "# Now, lets get the start times of all the dataframes without\n",
    "# giving a traj_id.\n",
    "print(spatial.get_start_location(geolife))\n",
    "print(spatial.get_start_location(gulls))\n",
    "print(spatial.get_start_location(atlantic))"
   ],
   "metadata": {
    "collapsed": false,
    "pycharm": {
     "name": "#%%\n"
    }
   }
  },
  {
   "cell_type": "code",
   "execution_count": 5,
   "outputs": [
    {
     "name": "stdout",
     "output_type": "stream",
     "text": [
      "(39.984224, 116.319402)\n",
      "(61.24783000000001, 24.586170000000003)\n",
      "(28.0, -94.8)\n",
      "CPU times: user 125 ms, sys: 15.8 ms, total: 141 ms\n",
      "Wall time: 139 ms\n"
     ]
    }
   ],
   "source": [
    "%%time\n",
    "\n",
    "# Now lets check the start times of all dataframes with a traj_id.\n",
    "print(spatial.get_start_location(geolife, '1'))\n",
    "print(spatial.get_start_location(gulls, \"91732\"))\n",
    "print(spatial.get_start_location(atlantic, 'AL011851'))"
   ],
   "metadata": {
    "collapsed": false,
    "pycharm": {
     "name": "#%%\n"
    }
   }
  },
  {
   "cell_type": "code",
   "execution_count": 6,
   "outputs": [
    {
     "name": "stdout",
     "output_type": "stream",
     "text": [
      "               lat         lon\n",
      "traj_id                       \n",
      "1        39.977879  116.326628\n",
      "5        39.999978  116.327460\n",
      "              lat       lon\n",
      "traj_id                    \n",
      "91785    64.98267  35.74300\n",
      "91797    64.96767  35.73633\n",
      "91769    54.18417   7.91350\n",
      "91843    55.43533  49.36383\n",
      "91913    64.96700  35.74083\n",
      "...           ...       ...\n",
      "91814    -1.79117  32.80583\n",
      "91763     6.97833  29.51200\n",
      "91823    61.31100  24.57767\n",
      "91752     8.06067  38.85033\n",
      "91916    56.56600  21.19633\n",
      "\n",
      "[126 rows x 2 columns]\n",
      "           lat   lon\n",
      "traj_id             \n",
      "AL021864  24.0 -89.0\n",
      "AL011853  32.5 -69.0\n",
      "AL021865  26.0 -97.5\n",
      "AL071870  12.0 -35.0\n",
      "AL041856  23.0 -82.5\n",
      "...        ...   ...\n",
      "AL041957  50.0  -6.0\n",
      "AL142012  37.6 -29.1\n",
      "AL201969  26.1 -61.6\n",
      "AL141971  35.7 -69.9\n",
      "AL031899  49.0 -15.5\n",
      "\n",
      "[1814 rows x 2 columns]\n",
      "CPU times: user 578 ms, sys: 453 ms, total: 1.03 s\n",
      "Wall time: 5.35 s\n"
     ]
    }
   ],
   "source": [
    "%%time\n",
    "\n",
    "# Now, lets get the start times of all the dataframes without\n",
    "# giving a traj_id.\n",
    "print(spatial.get_end_location(geolife))\n",
    "print(spatial.get_end_location(gulls))\n",
    "print(spatial.get_end_location(atlantic))"
   ],
   "metadata": {
    "collapsed": false,
    "pycharm": {
     "name": "#%%\n"
    }
   }
  },
  {
   "cell_type": "code",
   "execution_count": 7,
   "outputs": [
    {
     "name": "stdout",
     "output_type": "stream",
     "text": [
      "(39.977878999999994, 116.326628)\n",
      "(31.09783, 29.812170000000002)\n",
      "(31.0, -100.2)\n",
      "CPU times: user 92.4 ms, sys: 0 ns, total: 92.4 ms\n",
      "Wall time: 90.9 ms\n"
     ]
    }
   ],
   "source": [
    "%%time\n",
    "\n",
    "# Now lets check the start times of all dataframes with a traj_id.\n",
    "print(spatial.get_end_location(geolife, '1'))\n",
    "print(spatial.get_end_location(gulls, \"91732\"))\n",
    "print(spatial.get_end_location(atlantic, 'AL011851'))"
   ],
   "metadata": {
    "collapsed": false,
    "pycharm": {
     "name": "#%%\n"
    }
   }
  },
  {
   "cell_type": "code",
   "execution_count": 8,
   "outputs": [
    {
     "name": "stdout",
     "output_type": "stream",
     "text": [
      "CPU times: user 279 ms, sys: 11.8 ms, total: 291 ms\n",
      "Wall time: 290 ms\n"
     ]
    },
    {
     "data": {
      "text/plain": "                                   lat         lon  Distance_prev_to_curr\ntraj_id DateTime                                                         \n1       2008-10-23 16:53:05  39.984094  116.319236                    NaN\n        2008-10-23 16:53:06  39.984198  116.319322              13.690153\n        2008-10-23 05:53:11  39.984224  116.319402               7.403788\n        2008-10-23 05:53:16  39.984211  116.319389               1.821083\n        2008-10-23 05:53:21  39.984217  116.319422               2.889671\n        2008-10-23 05:53:23  39.984710  116.319865              66.555997\n        2008-10-23 05:53:28  39.984674  116.319810               6.162987\n        2008-10-23 05:53:33  39.984623  116.319773               6.488225\n        2008-10-23 05:53:38  39.984606  116.319732               3.971848\n        2008-10-23 05:53:43  39.984555  116.319728               5.681172",
      "text/html": "<div>\n<style scoped>\n    .dataframe tbody tr th:only-of-type {\n        vertical-align: middle;\n    }\n\n    .dataframe tbody tr th {\n        vertical-align: top;\n    }\n\n    .dataframe thead th {\n        text-align: right;\n    }\n</style>\n<table border=\"1\" class=\"dataframe\">\n  <thead>\n    <tr style=\"text-align: right;\">\n      <th></th>\n      <th></th>\n      <th>lat</th>\n      <th>lon</th>\n      <th>Distance_prev_to_curr</th>\n    </tr>\n    <tr>\n      <th>traj_id</th>\n      <th>DateTime</th>\n      <th></th>\n      <th></th>\n      <th></th>\n    </tr>\n  </thead>\n  <tbody>\n    <tr>\n      <th rowspan=\"10\" valign=\"top\">1</th>\n      <th>2008-10-23 16:53:05</th>\n      <td>39.984094</td>\n      <td>116.319236</td>\n      <td>NaN</td>\n    </tr>\n    <tr>\n      <th>2008-10-23 16:53:06</th>\n      <td>39.984198</td>\n      <td>116.319322</td>\n      <td>13.690153</td>\n    </tr>\n    <tr>\n      <th>2008-10-23 05:53:11</th>\n      <td>39.984224</td>\n      <td>116.319402</td>\n      <td>7.403788</td>\n    </tr>\n    <tr>\n      <th>2008-10-23 05:53:16</th>\n      <td>39.984211</td>\n      <td>116.319389</td>\n      <td>1.821083</td>\n    </tr>\n    <tr>\n      <th>2008-10-23 05:53:21</th>\n      <td>39.984217</td>\n      <td>116.319422</td>\n      <td>2.889671</td>\n    </tr>\n    <tr>\n      <th>2008-10-23 05:53:23</th>\n      <td>39.984710</td>\n      <td>116.319865</td>\n      <td>66.555997</td>\n    </tr>\n    <tr>\n      <th>2008-10-23 05:53:28</th>\n      <td>39.984674</td>\n      <td>116.319810</td>\n      <td>6.162987</td>\n    </tr>\n    <tr>\n      <th>2008-10-23 05:53:33</th>\n      <td>39.984623</td>\n      <td>116.319773</td>\n      <td>6.488225</td>\n    </tr>\n    <tr>\n      <th>2008-10-23 05:53:38</th>\n      <td>39.984606</td>\n      <td>116.319732</td>\n      <td>3.971848</td>\n    </tr>\n    <tr>\n      <th>2008-10-23 05:53:43</th>\n      <td>39.984555</td>\n      <td>116.319728</td>\n      <td>5.681172</td>\n    </tr>\n  </tbody>\n</table>\n</div>"
     },
     "execution_count": 8,
     "metadata": {},
     "output_type": "execute_result"
    }
   ],
   "source": [
    "%%time\n",
    "\n",
    "# Now, lets calculate the distance between 2 consecutive points for\n",
    "# each dataset one by one.\n",
    "# First, we will check the distances between 2 consecutive points\n",
    "# in the geolife dataset.\n",
    "geolife = spatial.create_distance_between_consecutive_column(geolife)\n",
    "geolife.head(10)"
   ],
   "metadata": {
    "collapsed": false,
    "pycharm": {
     "name": "#%%\n"
    }
   }
  },
  {
   "cell_type": "code",
   "execution_count": 9,
   "outputs": [
    {
     "name": "stdout",
     "output_type": "stream",
     "text": [
      "CPU times: user 208 ms, sys: 64 ms, total: 272 ms\n",
      "Wall time: 589 ms\n"
     ]
    },
    {
     "data": {
      "text/plain": "                               event-id  visible       lon       lat  \\\ntraj_id DateTime                                                       \n91732   2009-05-27 14:00:00  1082620685     True  24.58617  61.24783   \n        2009-05-27 20:00:00  1082620686     True  24.58217  61.23267   \n        2009-05-28 05:00:00  1082620687     True  24.53133  61.18833   \n        2009-05-28 08:00:00  1082620688     True  24.58200  61.23283   \n        2009-05-28 14:00:00  1082620689     True  24.58250  61.23267   \n\n                            sensor-type individual-taxon-canonical-name  \\\ntraj_id DateTime                                                          \n91732   2009-05-27 14:00:00         gps                    Larus fuscus   \n        2009-05-27 20:00:00         gps                    Larus fuscus   \n        2009-05-28 05:00:00         gps                    Larus fuscus   \n        2009-05-28 08:00:00         gps                    Larus fuscus   \n        2009-05-28 14:00:00         gps                    Larus fuscus   \n\n                            individual-local-identifier  \\\ntraj_id DateTime                                          \n91732   2009-05-27 14:00:00                      91732A   \n        2009-05-27 20:00:00                      91732A   \n        2009-05-28 05:00:00                      91732A   \n        2009-05-28 08:00:00                      91732A   \n        2009-05-28 14:00:00                      91732A   \n\n                                                                    study-name  \\\ntraj_id DateTime                                                                 \n91732   2009-05-27 14:00:00  Navigation experiments in lesser black-backed ...   \n        2009-05-27 20:00:00  Navigation experiments in lesser black-backed ...   \n        2009-05-28 05:00:00  Navigation experiments in lesser black-backed ...   \n        2009-05-28 08:00:00  Navigation experiments in lesser black-backed ...   \n        2009-05-28 14:00:00  Navigation experiments in lesser black-backed ...   \n\n                             Distance_prev_to_curr  \ntraj_id DateTime                                    \n91732   2009-05-27 14:00:00                    NaN  \n        2009-05-27 20:00:00            1699.244398  \n        2009-05-28 05:00:00            5632.120064  \n        2009-05-28 08:00:00            5643.314949  \n        2009-05-28 14:00:00              32.131494  ",
      "text/html": "<div>\n<style scoped>\n    .dataframe tbody tr th:only-of-type {\n        vertical-align: middle;\n    }\n\n    .dataframe tbody tr th {\n        vertical-align: top;\n    }\n\n    .dataframe thead th {\n        text-align: right;\n    }\n</style>\n<table border=\"1\" class=\"dataframe\">\n  <thead>\n    <tr style=\"text-align: right;\">\n      <th></th>\n      <th></th>\n      <th>event-id</th>\n      <th>visible</th>\n      <th>lon</th>\n      <th>lat</th>\n      <th>sensor-type</th>\n      <th>individual-taxon-canonical-name</th>\n      <th>individual-local-identifier</th>\n      <th>study-name</th>\n      <th>Distance_prev_to_curr</th>\n    </tr>\n    <tr>\n      <th>traj_id</th>\n      <th>DateTime</th>\n      <th></th>\n      <th></th>\n      <th></th>\n      <th></th>\n      <th></th>\n      <th></th>\n      <th></th>\n      <th></th>\n      <th></th>\n    </tr>\n  </thead>\n  <tbody>\n    <tr>\n      <th rowspan=\"5\" valign=\"top\">91732</th>\n      <th>2009-05-27 14:00:00</th>\n      <td>1082620685</td>\n      <td>True</td>\n      <td>24.58617</td>\n      <td>61.24783</td>\n      <td>gps</td>\n      <td>Larus fuscus</td>\n      <td>91732A</td>\n      <td>Navigation experiments in lesser black-backed ...</td>\n      <td>NaN</td>\n    </tr>\n    <tr>\n      <th>2009-05-27 20:00:00</th>\n      <td>1082620686</td>\n      <td>True</td>\n      <td>24.58217</td>\n      <td>61.23267</td>\n      <td>gps</td>\n      <td>Larus fuscus</td>\n      <td>91732A</td>\n      <td>Navigation experiments in lesser black-backed ...</td>\n      <td>1699.244398</td>\n    </tr>\n    <tr>\n      <th>2009-05-28 05:00:00</th>\n      <td>1082620687</td>\n      <td>True</td>\n      <td>24.53133</td>\n      <td>61.18833</td>\n      <td>gps</td>\n      <td>Larus fuscus</td>\n      <td>91732A</td>\n      <td>Navigation experiments in lesser black-backed ...</td>\n      <td>5632.120064</td>\n    </tr>\n    <tr>\n      <th>2009-05-28 08:00:00</th>\n      <td>1082620688</td>\n      <td>True</td>\n      <td>24.58200</td>\n      <td>61.23283</td>\n      <td>gps</td>\n      <td>Larus fuscus</td>\n      <td>91732A</td>\n      <td>Navigation experiments in lesser black-backed ...</td>\n      <td>5643.314949</td>\n    </tr>\n    <tr>\n      <th>2009-05-28 14:00:00</th>\n      <td>1082620689</td>\n      <td>True</td>\n      <td>24.58250</td>\n      <td>61.23267</td>\n      <td>gps</td>\n      <td>Larus fuscus</td>\n      <td>91732A</td>\n      <td>Navigation experiments in lesser black-backed ...</td>\n      <td>32.131494</td>\n    </tr>\n  </tbody>\n</table>\n</div>"
     },
     "execution_count": 9,
     "metadata": {},
     "output_type": "execute_result"
    }
   ],
   "source": [
    "%%time\n",
    "\n",
    "# # Here, we check the distance between 2 consecutive points\n",
    "# # in the seagulls dataset.\n",
    "gulls = spatial.create_distance_between_consecutive_column(gulls)\n",
    "gulls.head()"
   ],
   "metadata": {
    "collapsed": false,
    "pycharm": {
     "name": "#%%\n"
    }
   }
  },
  {
   "cell_type": "code",
   "execution_count": 10,
   "outputs": [
    {
     "name": "stdout",
     "output_type": "stream",
     "text": [
      "CPU times: user 322 ms, sys: 195 ms, total: 517 ms\n",
      "Wall time: 1.14 s\n"
     ]
    },
    {
     "data": {
      "text/plain": "                                             Name      Date  Time Event  \\\ntraj_id  DateTime                                                         \nAL021873 1873-08-13 00:00:00              UNNAMED  18730813     0         \n         1873-08-13 06:00:00              UNNAMED  18730813   600         \n         1873-08-13 12:00:00              UNNAMED  18730813  1200         \n         1873-08-13 18:00:00              UNNAMED  18730813  1800         \n         1873-08-14 00:00:00              UNNAMED  18730814     0         \n\n                             Status   lat   lon  Maximum Wind  \\\ntraj_id  DateTime                                               \nAL021873 1873-08-13 00:00:00     TS  13.9 -25.0            40   \n         1873-08-13 06:00:00     TS  14.0 -26.0            40   \n         1873-08-13 12:00:00     TS  14.0 -27.0            40   \n         1873-08-13 18:00:00     TS  14.1 -28.1            40   \n         1873-08-14 00:00:00     TS  14.1 -29.3            50   \n\n                              Minimum Pressure  Low Wind NE  ...  Low Wind NW  \\\ntraj_id  DateTime                                            ...                \nAL021873 1873-08-13 00:00:00              -999         -999  ...         -999   \n         1873-08-13 06:00:00              -999         -999  ...         -999   \n         1873-08-13 12:00:00              -999         -999  ...         -999   \n         1873-08-13 18:00:00              -999         -999  ...         -999   \n         1873-08-14 00:00:00              -999         -999  ...         -999   \n\n                              Moderate Wind NE  Moderate Wind SE  \\\ntraj_id  DateTime                                                  \nAL021873 1873-08-13 00:00:00              -999              -999   \n         1873-08-13 06:00:00              -999              -999   \n         1873-08-13 12:00:00              -999              -999   \n         1873-08-13 18:00:00              -999              -999   \n         1873-08-14 00:00:00              -999              -999   \n\n                              Moderate Wind SW  Moderate Wind NW  \\\ntraj_id  DateTime                                                  \nAL021873 1873-08-13 00:00:00              -999              -999   \n         1873-08-13 06:00:00              -999              -999   \n         1873-08-13 12:00:00              -999              -999   \n         1873-08-13 18:00:00              -999              -999   \n         1873-08-14 00:00:00              -999              -999   \n\n                              High Wind NE  High Wind SE  High Wind SW  \\\ntraj_id  DateTime                                                        \nAL021873 1873-08-13 00:00:00          -999          -999          -999   \n         1873-08-13 06:00:00          -999          -999          -999   \n         1873-08-13 12:00:00          -999          -999          -999   \n         1873-08-13 18:00:00          -999          -999          -999   \n         1873-08-14 00:00:00          -999          -999          -999   \n\n                              High Wind NW  Distance_prev_to_curr  \ntraj_id  DateTime                                                  \nAL021873 1873-08-13 00:00:00          -999                    NaN  \n         1873-08-13 06:00:00          -999          108486.658872  \n         1873-08-13 12:00:00          -999          107891.881958  \n         1873-08-13 18:00:00          -999          119175.045002  \n         1873-08-14 00:00:00          -999          129413.676731  \n\n[5 rows x 22 columns]",
      "text/html": "<div>\n<style scoped>\n    .dataframe tbody tr th:only-of-type {\n        vertical-align: middle;\n    }\n\n    .dataframe tbody tr th {\n        vertical-align: top;\n    }\n\n    .dataframe thead th {\n        text-align: right;\n    }\n</style>\n<table border=\"1\" class=\"dataframe\">\n  <thead>\n    <tr style=\"text-align: right;\">\n      <th></th>\n      <th></th>\n      <th>Name</th>\n      <th>Date</th>\n      <th>Time</th>\n      <th>Event</th>\n      <th>Status</th>\n      <th>lat</th>\n      <th>lon</th>\n      <th>Maximum Wind</th>\n      <th>Minimum Pressure</th>\n      <th>Low Wind NE</th>\n      <th>...</th>\n      <th>Low Wind NW</th>\n      <th>Moderate Wind NE</th>\n      <th>Moderate Wind SE</th>\n      <th>Moderate Wind SW</th>\n      <th>Moderate Wind NW</th>\n      <th>High Wind NE</th>\n      <th>High Wind SE</th>\n      <th>High Wind SW</th>\n      <th>High Wind NW</th>\n      <th>Distance_prev_to_curr</th>\n    </tr>\n    <tr>\n      <th>traj_id</th>\n      <th>DateTime</th>\n      <th></th>\n      <th></th>\n      <th></th>\n      <th></th>\n      <th></th>\n      <th></th>\n      <th></th>\n      <th></th>\n      <th></th>\n      <th></th>\n      <th></th>\n      <th></th>\n      <th></th>\n      <th></th>\n      <th></th>\n      <th></th>\n      <th></th>\n      <th></th>\n      <th></th>\n      <th></th>\n      <th></th>\n    </tr>\n  </thead>\n  <tbody>\n    <tr>\n      <th rowspan=\"5\" valign=\"top\">AL021873</th>\n      <th>1873-08-13 00:00:00</th>\n      <td>UNNAMED</td>\n      <td>18730813</td>\n      <td>0</td>\n      <td></td>\n      <td>TS</td>\n      <td>13.9</td>\n      <td>-25.0</td>\n      <td>40</td>\n      <td>-999</td>\n      <td>-999</td>\n      <td>...</td>\n      <td>-999</td>\n      <td>-999</td>\n      <td>-999</td>\n      <td>-999</td>\n      <td>-999</td>\n      <td>-999</td>\n      <td>-999</td>\n      <td>-999</td>\n      <td>-999</td>\n      <td>NaN</td>\n    </tr>\n    <tr>\n      <th>1873-08-13 06:00:00</th>\n      <td>UNNAMED</td>\n      <td>18730813</td>\n      <td>600</td>\n      <td></td>\n      <td>TS</td>\n      <td>14.0</td>\n      <td>-26.0</td>\n      <td>40</td>\n      <td>-999</td>\n      <td>-999</td>\n      <td>...</td>\n      <td>-999</td>\n      <td>-999</td>\n      <td>-999</td>\n      <td>-999</td>\n      <td>-999</td>\n      <td>-999</td>\n      <td>-999</td>\n      <td>-999</td>\n      <td>-999</td>\n      <td>108486.658872</td>\n    </tr>\n    <tr>\n      <th>1873-08-13 12:00:00</th>\n      <td>UNNAMED</td>\n      <td>18730813</td>\n      <td>1200</td>\n      <td></td>\n      <td>TS</td>\n      <td>14.0</td>\n      <td>-27.0</td>\n      <td>40</td>\n      <td>-999</td>\n      <td>-999</td>\n      <td>...</td>\n      <td>-999</td>\n      <td>-999</td>\n      <td>-999</td>\n      <td>-999</td>\n      <td>-999</td>\n      <td>-999</td>\n      <td>-999</td>\n      <td>-999</td>\n      <td>-999</td>\n      <td>107891.881958</td>\n    </tr>\n    <tr>\n      <th>1873-08-13 18:00:00</th>\n      <td>UNNAMED</td>\n      <td>18730813</td>\n      <td>1800</td>\n      <td></td>\n      <td>TS</td>\n      <td>14.1</td>\n      <td>-28.1</td>\n      <td>40</td>\n      <td>-999</td>\n      <td>-999</td>\n      <td>...</td>\n      <td>-999</td>\n      <td>-999</td>\n      <td>-999</td>\n      <td>-999</td>\n      <td>-999</td>\n      <td>-999</td>\n      <td>-999</td>\n      <td>-999</td>\n      <td>-999</td>\n      <td>119175.045002</td>\n    </tr>\n    <tr>\n      <th>1873-08-14 00:00:00</th>\n      <td>UNNAMED</td>\n      <td>18730814</td>\n      <td>0</td>\n      <td></td>\n      <td>TS</td>\n      <td>14.1</td>\n      <td>-29.3</td>\n      <td>50</td>\n      <td>-999</td>\n      <td>-999</td>\n      <td>...</td>\n      <td>-999</td>\n      <td>-999</td>\n      <td>-999</td>\n      <td>-999</td>\n      <td>-999</td>\n      <td>-999</td>\n      <td>-999</td>\n      <td>-999</td>\n      <td>-999</td>\n      <td>129413.676731</td>\n    </tr>\n  </tbody>\n</table>\n<p>5 rows × 22 columns</p>\n</div>"
     },
     "execution_count": 10,
     "metadata": {},
     "output_type": "execute_result"
    }
   ],
   "source": [
    "%%time\n",
    "\n",
    "# Here, we check the distance between 2 consecutive points\n",
    "# in the atlantic dataset.\n",
    "atlantic = spatial.create_distance_between_consecutive_column(atlantic)\n",
    "atlantic.head()"
   ],
   "metadata": {
    "collapsed": false,
    "pycharm": {
     "name": "#%%\n"
    }
   }
  },
  {
   "cell_type": "code",
   "execution_count": 11,
   "outputs": [
    {
     "name": "stdout",
     "output_type": "stream",
     "text": [
      "CPU times: user 232 ms, sys: 7.9 ms, total: 240 ms\n",
      "Wall time: 238 ms\n"
     ]
    },
    {
     "data": {
      "text/plain": "                                   lat         lon  Distance_prev_to_curr  \\\ntraj_id DateTime                                                            \n1       2008-10-23 16:53:05  39.984094  116.319236                    NaN   \n        2008-10-23 16:53:06  39.984198  116.319322              13.690153   \n        2008-10-23 05:53:11  39.984224  116.319402               7.403788   \n        2008-10-23 05:53:16  39.984211  116.319389               1.821083   \n        2008-10-23 05:53:21  39.984217  116.319422               2.889671   \n\n                             Distance_start_to_curr  \ntraj_id DateTime                                     \n1       2008-10-23 16:53:05                     NaN  \n        2008-10-23 16:53:06               13.690153  \n        2008-10-23 05:53:11               20.223428  \n        2008-10-23 05:53:16               18.416895  \n        2008-10-23 05:53:21               20.933073  ",
      "text/html": "<div>\n<style scoped>\n    .dataframe tbody tr th:only-of-type {\n        vertical-align: middle;\n    }\n\n    .dataframe tbody tr th {\n        vertical-align: top;\n    }\n\n    .dataframe thead th {\n        text-align: right;\n    }\n</style>\n<table border=\"1\" class=\"dataframe\">\n  <thead>\n    <tr style=\"text-align: right;\">\n      <th></th>\n      <th></th>\n      <th>lat</th>\n      <th>lon</th>\n      <th>Distance_prev_to_curr</th>\n      <th>Distance_start_to_curr</th>\n    </tr>\n    <tr>\n      <th>traj_id</th>\n      <th>DateTime</th>\n      <th></th>\n      <th></th>\n      <th></th>\n      <th></th>\n    </tr>\n  </thead>\n  <tbody>\n    <tr>\n      <th rowspan=\"5\" valign=\"top\">1</th>\n      <th>2008-10-23 16:53:05</th>\n      <td>39.984094</td>\n      <td>116.319236</td>\n      <td>NaN</td>\n      <td>NaN</td>\n    </tr>\n    <tr>\n      <th>2008-10-23 16:53:06</th>\n      <td>39.984198</td>\n      <td>116.319322</td>\n      <td>13.690153</td>\n      <td>13.690153</td>\n    </tr>\n    <tr>\n      <th>2008-10-23 05:53:11</th>\n      <td>39.984224</td>\n      <td>116.319402</td>\n      <td>7.403788</td>\n      <td>20.223428</td>\n    </tr>\n    <tr>\n      <th>2008-10-23 05:53:16</th>\n      <td>39.984211</td>\n      <td>116.319389</td>\n      <td>1.821083</td>\n      <td>18.416895</td>\n    </tr>\n    <tr>\n      <th>2008-10-23 05:53:21</th>\n      <td>39.984217</td>\n      <td>116.319422</td>\n      <td>2.889671</td>\n      <td>20.933073</td>\n    </tr>\n  </tbody>\n</table>\n</div>"
     },
     "execution_count": 11,
     "metadata": {},
     "output_type": "execute_result"
    }
   ],
   "source": [
    "%%time\n",
    "\n",
    "# Now, lets calculate the distance from start to current point for\n",
    "# each dataset one by one.\n",
    "# Here, we check the distance between start to all points\n",
    "# in the geolife dataset.\n",
    "\n",
    "geolife = spatial.create_distance_from_start_column(geolife)\n",
    "geolife.head()"
   ],
   "metadata": {
    "collapsed": false,
    "pycharm": {
     "name": "#%%\n"
    }
   }
  },
  {
   "cell_type": "code",
   "execution_count": 12,
   "outputs": [
    {
     "name": "stdout",
     "output_type": "stream",
     "text": [
      "CPU times: user 154 ms, sys: 63.4 ms, total: 218 ms\n",
      "Wall time: 458 ms\n"
     ]
    },
    {
     "data": {
      "text/plain": "                               event-id  visible       lon       lat  \\\ntraj_id DateTime                                                       \n91732   2009-05-27 14:00:00  1082620685     True  24.58617  61.24783   \n        2009-05-27 20:00:00  1082620686     True  24.58217  61.23267   \n        2009-05-28 05:00:00  1082620687     True  24.53133  61.18833   \n        2009-05-28 08:00:00  1082620688     True  24.58200  61.23283   \n        2009-05-28 14:00:00  1082620689     True  24.58250  61.23267   \n\n                            sensor-type individual-taxon-canonical-name  \\\ntraj_id DateTime                                                          \n91732   2009-05-27 14:00:00         gps                    Larus fuscus   \n        2009-05-27 20:00:00         gps                    Larus fuscus   \n        2009-05-28 05:00:00         gps                    Larus fuscus   \n        2009-05-28 08:00:00         gps                    Larus fuscus   \n        2009-05-28 14:00:00         gps                    Larus fuscus   \n\n                            individual-local-identifier  \\\ntraj_id DateTime                                          \n91732   2009-05-27 14:00:00                      91732A   \n        2009-05-27 20:00:00                      91732A   \n        2009-05-28 05:00:00                      91732A   \n        2009-05-28 08:00:00                      91732A   \n        2009-05-28 14:00:00                      91732A   \n\n                                                                    study-name  \\\ntraj_id DateTime                                                                 \n91732   2009-05-27 14:00:00  Navigation experiments in lesser black-backed ...   \n        2009-05-27 20:00:00  Navigation experiments in lesser black-backed ...   \n        2009-05-28 05:00:00  Navigation experiments in lesser black-backed ...   \n        2009-05-28 08:00:00  Navigation experiments in lesser black-backed ...   \n        2009-05-28 14:00:00  Navigation experiments in lesser black-backed ...   \n\n                             Distance_prev_to_curr  Distance_start_to_curr  \ntraj_id DateTime                                                            \n91732   2009-05-27 14:00:00                    NaN                     NaN  \n        2009-05-27 20:00:00            1699.244398             1699.244398  \n        2009-05-28 05:00:00            5632.120064             7238.295521  \n        2009-05-28 08:00:00            5643.314949             1682.777895  \n        2009-05-28 14:00:00              32.131494             1697.111327  ",
      "text/html": "<div>\n<style scoped>\n    .dataframe tbody tr th:only-of-type {\n        vertical-align: middle;\n    }\n\n    .dataframe tbody tr th {\n        vertical-align: top;\n    }\n\n    .dataframe thead th {\n        text-align: right;\n    }\n</style>\n<table border=\"1\" class=\"dataframe\">\n  <thead>\n    <tr style=\"text-align: right;\">\n      <th></th>\n      <th></th>\n      <th>event-id</th>\n      <th>visible</th>\n      <th>lon</th>\n      <th>lat</th>\n      <th>sensor-type</th>\n      <th>individual-taxon-canonical-name</th>\n      <th>individual-local-identifier</th>\n      <th>study-name</th>\n      <th>Distance_prev_to_curr</th>\n      <th>Distance_start_to_curr</th>\n    </tr>\n    <tr>\n      <th>traj_id</th>\n      <th>DateTime</th>\n      <th></th>\n      <th></th>\n      <th></th>\n      <th></th>\n      <th></th>\n      <th></th>\n      <th></th>\n      <th></th>\n      <th></th>\n      <th></th>\n    </tr>\n  </thead>\n  <tbody>\n    <tr>\n      <th rowspan=\"5\" valign=\"top\">91732</th>\n      <th>2009-05-27 14:00:00</th>\n      <td>1082620685</td>\n      <td>True</td>\n      <td>24.58617</td>\n      <td>61.24783</td>\n      <td>gps</td>\n      <td>Larus fuscus</td>\n      <td>91732A</td>\n      <td>Navigation experiments in lesser black-backed ...</td>\n      <td>NaN</td>\n      <td>NaN</td>\n    </tr>\n    <tr>\n      <th>2009-05-27 20:00:00</th>\n      <td>1082620686</td>\n      <td>True</td>\n      <td>24.58217</td>\n      <td>61.23267</td>\n      <td>gps</td>\n      <td>Larus fuscus</td>\n      <td>91732A</td>\n      <td>Navigation experiments in lesser black-backed ...</td>\n      <td>1699.244398</td>\n      <td>1699.244398</td>\n    </tr>\n    <tr>\n      <th>2009-05-28 05:00:00</th>\n      <td>1082620687</td>\n      <td>True</td>\n      <td>24.53133</td>\n      <td>61.18833</td>\n      <td>gps</td>\n      <td>Larus fuscus</td>\n      <td>91732A</td>\n      <td>Navigation experiments in lesser black-backed ...</td>\n      <td>5632.120064</td>\n      <td>7238.295521</td>\n    </tr>\n    <tr>\n      <th>2009-05-28 08:00:00</th>\n      <td>1082620688</td>\n      <td>True</td>\n      <td>24.58200</td>\n      <td>61.23283</td>\n      <td>gps</td>\n      <td>Larus fuscus</td>\n      <td>91732A</td>\n      <td>Navigation experiments in lesser black-backed ...</td>\n      <td>5643.314949</td>\n      <td>1682.777895</td>\n    </tr>\n    <tr>\n      <th>2009-05-28 14:00:00</th>\n      <td>1082620689</td>\n      <td>True</td>\n      <td>24.58250</td>\n      <td>61.23267</td>\n      <td>gps</td>\n      <td>Larus fuscus</td>\n      <td>91732A</td>\n      <td>Navigation experiments in lesser black-backed ...</td>\n      <td>32.131494</td>\n      <td>1697.111327</td>\n    </tr>\n  </tbody>\n</table>\n</div>"
     },
     "execution_count": 12,
     "metadata": {},
     "output_type": "execute_result"
    }
   ],
   "source": [
    "%%time\n",
    "\n",
    "# Here, we check the distance between start to all points\n",
    "# in the seagulls dataset.\n",
    "gulls = spatial.create_distance_from_start_column(gulls)\n",
    "gulls.head()"
   ],
   "metadata": {
    "collapsed": false,
    "pycharm": {
     "name": "#%%\n"
    }
   }
  },
  {
   "cell_type": "code",
   "execution_count": 13,
   "outputs": [
    {
     "name": "stdout",
     "output_type": "stream",
     "text": [
      "CPU times: user 343 ms, sys: 139 ms, total: 482 ms\n",
      "Wall time: 1.16 s\n"
     ]
    },
    {
     "data": {
      "text/plain": "                                             Name      Date  Time Event  \\\ntraj_id  DateTime                                                         \nAL021873 1873-08-13 00:00:00              UNNAMED  18730813     0         \n         1873-08-13 06:00:00              UNNAMED  18730813   600         \n         1873-08-13 12:00:00              UNNAMED  18730813  1200         \n         1873-08-13 18:00:00              UNNAMED  18730813  1800         \n         1873-08-14 00:00:00              UNNAMED  18730814     0         \n\n                             Status   lat   lon  Maximum Wind  \\\ntraj_id  DateTime                                               \nAL021873 1873-08-13 00:00:00     TS  13.9 -25.0            40   \n         1873-08-13 06:00:00     TS  14.0 -26.0            40   \n         1873-08-13 12:00:00     TS  14.0 -27.0            40   \n         1873-08-13 18:00:00     TS  14.1 -28.1            40   \n         1873-08-14 00:00:00     TS  14.1 -29.3            50   \n\n                              Minimum Pressure  Low Wind NE  ...  \\\ntraj_id  DateTime                                            ...   \nAL021873 1873-08-13 00:00:00              -999         -999  ...   \n         1873-08-13 06:00:00              -999         -999  ...   \n         1873-08-13 12:00:00              -999         -999  ...   \n         1873-08-13 18:00:00              -999         -999  ...   \n         1873-08-14 00:00:00              -999         -999  ...   \n\n                              Moderate Wind NE  Moderate Wind SE  \\\ntraj_id  DateTime                                                  \nAL021873 1873-08-13 00:00:00              -999              -999   \n         1873-08-13 06:00:00              -999              -999   \n         1873-08-13 12:00:00              -999              -999   \n         1873-08-13 18:00:00              -999              -999   \n         1873-08-14 00:00:00              -999              -999   \n\n                              Moderate Wind SW  Moderate Wind NW  \\\ntraj_id  DateTime                                                  \nAL021873 1873-08-13 00:00:00              -999              -999   \n         1873-08-13 06:00:00              -999              -999   \n         1873-08-13 12:00:00              -999              -999   \n         1873-08-13 18:00:00              -999              -999   \n         1873-08-14 00:00:00              -999              -999   \n\n                              High Wind NE  High Wind SE  High Wind SW  \\\ntraj_id  DateTime                                                        \nAL021873 1873-08-13 00:00:00          -999          -999          -999   \n         1873-08-13 06:00:00          -999          -999          -999   \n         1873-08-13 12:00:00          -999          -999          -999   \n         1873-08-13 18:00:00          -999          -999          -999   \n         1873-08-14 00:00:00          -999          -999          -999   \n\n                              High Wind NW  Distance_prev_to_curr  \\\ntraj_id  DateTime                                                   \nAL021873 1873-08-13 00:00:00          -999                    NaN   \n         1873-08-13 06:00:00          -999          108486.658872   \n         1873-08-13 12:00:00          -999          107891.881958   \n         1873-08-13 18:00:00          -999          119175.045002   \n         1873-08-14 00:00:00          -999          129413.676731   \n\n                              Distance_start_to_curr  \ntraj_id  DateTime                                     \nAL021873 1873-08-13 00:00:00                     NaN  \n         1873-08-13 06:00:00           108486.658872  \n         1873-08-13 12:00:00           216116.369259  \n         1873-08-13 18:00:00           335201.031514  \n         1873-08-14 00:00:00           464461.502447  \n\n[5 rows x 23 columns]",
      "text/html": "<div>\n<style scoped>\n    .dataframe tbody tr th:only-of-type {\n        vertical-align: middle;\n    }\n\n    .dataframe tbody tr th {\n        vertical-align: top;\n    }\n\n    .dataframe thead th {\n        text-align: right;\n    }\n</style>\n<table border=\"1\" class=\"dataframe\">\n  <thead>\n    <tr style=\"text-align: right;\">\n      <th></th>\n      <th></th>\n      <th>Name</th>\n      <th>Date</th>\n      <th>Time</th>\n      <th>Event</th>\n      <th>Status</th>\n      <th>lat</th>\n      <th>lon</th>\n      <th>Maximum Wind</th>\n      <th>Minimum Pressure</th>\n      <th>Low Wind NE</th>\n      <th>...</th>\n      <th>Moderate Wind NE</th>\n      <th>Moderate Wind SE</th>\n      <th>Moderate Wind SW</th>\n      <th>Moderate Wind NW</th>\n      <th>High Wind NE</th>\n      <th>High Wind SE</th>\n      <th>High Wind SW</th>\n      <th>High Wind NW</th>\n      <th>Distance_prev_to_curr</th>\n      <th>Distance_start_to_curr</th>\n    </tr>\n    <tr>\n      <th>traj_id</th>\n      <th>DateTime</th>\n      <th></th>\n      <th></th>\n      <th></th>\n      <th></th>\n      <th></th>\n      <th></th>\n      <th></th>\n      <th></th>\n      <th></th>\n      <th></th>\n      <th></th>\n      <th></th>\n      <th></th>\n      <th></th>\n      <th></th>\n      <th></th>\n      <th></th>\n      <th></th>\n      <th></th>\n      <th></th>\n      <th></th>\n    </tr>\n  </thead>\n  <tbody>\n    <tr>\n      <th rowspan=\"5\" valign=\"top\">AL021873</th>\n      <th>1873-08-13 00:00:00</th>\n      <td>UNNAMED</td>\n      <td>18730813</td>\n      <td>0</td>\n      <td></td>\n      <td>TS</td>\n      <td>13.9</td>\n      <td>-25.0</td>\n      <td>40</td>\n      <td>-999</td>\n      <td>-999</td>\n      <td>...</td>\n      <td>-999</td>\n      <td>-999</td>\n      <td>-999</td>\n      <td>-999</td>\n      <td>-999</td>\n      <td>-999</td>\n      <td>-999</td>\n      <td>-999</td>\n      <td>NaN</td>\n      <td>NaN</td>\n    </tr>\n    <tr>\n      <th>1873-08-13 06:00:00</th>\n      <td>UNNAMED</td>\n      <td>18730813</td>\n      <td>600</td>\n      <td></td>\n      <td>TS</td>\n      <td>14.0</td>\n      <td>-26.0</td>\n      <td>40</td>\n      <td>-999</td>\n      <td>-999</td>\n      <td>...</td>\n      <td>-999</td>\n      <td>-999</td>\n      <td>-999</td>\n      <td>-999</td>\n      <td>-999</td>\n      <td>-999</td>\n      <td>-999</td>\n      <td>-999</td>\n      <td>108486.658872</td>\n      <td>108486.658872</td>\n    </tr>\n    <tr>\n      <th>1873-08-13 12:00:00</th>\n      <td>UNNAMED</td>\n      <td>18730813</td>\n      <td>1200</td>\n      <td></td>\n      <td>TS</td>\n      <td>14.0</td>\n      <td>-27.0</td>\n      <td>40</td>\n      <td>-999</td>\n      <td>-999</td>\n      <td>...</td>\n      <td>-999</td>\n      <td>-999</td>\n      <td>-999</td>\n      <td>-999</td>\n      <td>-999</td>\n      <td>-999</td>\n      <td>-999</td>\n      <td>-999</td>\n      <td>107891.881958</td>\n      <td>216116.369259</td>\n    </tr>\n    <tr>\n      <th>1873-08-13 18:00:00</th>\n      <td>UNNAMED</td>\n      <td>18730813</td>\n      <td>1800</td>\n      <td></td>\n      <td>TS</td>\n      <td>14.1</td>\n      <td>-28.1</td>\n      <td>40</td>\n      <td>-999</td>\n      <td>-999</td>\n      <td>...</td>\n      <td>-999</td>\n      <td>-999</td>\n      <td>-999</td>\n      <td>-999</td>\n      <td>-999</td>\n      <td>-999</td>\n      <td>-999</td>\n      <td>-999</td>\n      <td>119175.045002</td>\n      <td>335201.031514</td>\n    </tr>\n    <tr>\n      <th>1873-08-14 00:00:00</th>\n      <td>UNNAMED</td>\n      <td>18730814</td>\n      <td>0</td>\n      <td></td>\n      <td>TS</td>\n      <td>14.1</td>\n      <td>-29.3</td>\n      <td>50</td>\n      <td>-999</td>\n      <td>-999</td>\n      <td>...</td>\n      <td>-999</td>\n      <td>-999</td>\n      <td>-999</td>\n      <td>-999</td>\n      <td>-999</td>\n      <td>-999</td>\n      <td>-999</td>\n      <td>-999</td>\n      <td>129413.676731</td>\n      <td>464461.502447</td>\n    </tr>\n  </tbody>\n</table>\n<p>5 rows × 23 columns</p>\n</div>"
     },
     "execution_count": 13,
     "metadata": {},
     "output_type": "execute_result"
    }
   ],
   "source": [
    "%%time\n",
    "\n",
    "# Here, we check the distance between start to all points\n",
    "# in the atlantic dataset.\n",
    "atlantic = spatial.create_distance_from_start_column(atlantic)\n",
    "atlantic.head()"
   ],
   "metadata": {
    "collapsed": false,
    "pycharm": {
     "name": "#%%\n"
    }
   }
  },
  {
   "cell_type": "code",
   "execution_count": 14,
   "outputs": [
    {
     "name": "stdout",
     "output_type": "stream",
     "text": [
      "CPU times: user 172 ms, sys: 0 ns, total: 172 ms\n",
      "Wall time: 171 ms\n"
     ]
    },
    {
     "data": {
      "text/plain": "14748.278545594158"
     },
     "execution_count": 14,
     "metadata": {},
     "output_type": "execute_result"
    }
   ],
   "source": [
    "%%time\n",
    "\n",
    "# Here, we are calculating the distance travelled in traj_id 1\n",
    "# on the date 2008-10-23.\n",
    "spatial.get_distance_travelled_by_date_and_traj_id(geolife,\n",
    "                                                   '2008-10-23',\n",
    "                                                   '1')"
   ],
   "metadata": {
    "collapsed": false,
    "pycharm": {
     "name": "#%%\n"
    }
   }
  },
  {
   "cell_type": "code",
   "execution_count": 15,
   "outputs": [
    {
     "name": "stdout",
     "output_type": "stream",
     "text": [
      "CPU times: user 377 ms, sys: 80.3 ms, total: 458 ms\n",
      "Wall time: 3.75 s\n"
     ]
    },
    {
     "data": {
      "text/plain": "                                   lat         lon  Distance_prev_to_curr  \\\ntraj_id DateTime                                                            \n5       2008-10-24 04:12:30  40.004155  116.321337                    NaN   \n        2008-10-24 04:12:35  40.003834  116.321462              37.247654   \n        2008-10-24 04:12:40  40.003783  116.321431               6.255518   \n        2008-10-24 04:12:45  40.003690  116.321429              10.342531   \n        2008-10-24 04:12:50  40.003589  116.321427              11.231979   \n\n                             Distance_start_to_curr  Distance_to_(0, 0)  \ntraj_id DateTime                                                         \n5       2008-10-24 04:12:30                     NaN        1.221536e+07  \n        2008-10-24 04:12:35               37.247654        1.221538e+07  \n        2008-10-24 04:12:40               42.132251        1.221538e+07  \n        2008-10-24 04:12:45               52.296064        1.221538e+07  \n        2008-10-24 04:12:50               63.401465        1.221539e+07  ",
      "text/html": "<div>\n<style scoped>\n    .dataframe tbody tr th:only-of-type {\n        vertical-align: middle;\n    }\n\n    .dataframe tbody tr th {\n        vertical-align: top;\n    }\n\n    .dataframe thead th {\n        text-align: right;\n    }\n</style>\n<table border=\"1\" class=\"dataframe\">\n  <thead>\n    <tr style=\"text-align: right;\">\n      <th></th>\n      <th></th>\n      <th>lat</th>\n      <th>lon</th>\n      <th>Distance_prev_to_curr</th>\n      <th>Distance_start_to_curr</th>\n      <th>Distance_to_(0, 0)</th>\n    </tr>\n    <tr>\n      <th>traj_id</th>\n      <th>DateTime</th>\n      <th></th>\n      <th></th>\n      <th></th>\n      <th></th>\n      <th></th>\n    </tr>\n  </thead>\n  <tbody>\n    <tr>\n      <th rowspan=\"5\" valign=\"top\">5</th>\n      <th>2008-10-24 04:12:30</th>\n      <td>40.004155</td>\n      <td>116.321337</td>\n      <td>NaN</td>\n      <td>NaN</td>\n      <td>1.221536e+07</td>\n    </tr>\n    <tr>\n      <th>2008-10-24 04:12:35</th>\n      <td>40.003834</td>\n      <td>116.321462</td>\n      <td>37.247654</td>\n      <td>37.247654</td>\n      <td>1.221538e+07</td>\n    </tr>\n    <tr>\n      <th>2008-10-24 04:12:40</th>\n      <td>40.003783</td>\n      <td>116.321431</td>\n      <td>6.255518</td>\n      <td>42.132251</td>\n      <td>1.221538e+07</td>\n    </tr>\n    <tr>\n      <th>2008-10-24 04:12:45</th>\n      <td>40.003690</td>\n      <td>116.321429</td>\n      <td>10.342531</td>\n      <td>52.296064</td>\n      <td>1.221538e+07</td>\n    </tr>\n    <tr>\n      <th>2008-10-24 04:12:50</th>\n      <td>40.003589</td>\n      <td>116.321427</td>\n      <td>11.231979</td>\n      <td>63.401465</td>\n      <td>1.221539e+07</td>\n    </tr>\n  </tbody>\n</table>\n</div>"
     },
     "execution_count": 15,
     "metadata": {},
     "output_type": "execute_result"
    }
   ],
   "source": [
    "%%time\n",
    "\n",
    "# Now, lets check the distance of all the points\n",
    "# in the geolife dataset from the coordinates (0, 0).\n",
    "geolife = spatial.create_distance_from_given_point_column(geolife,\n",
    "                                                          (0, 0))\n",
    "geolife.head()"
   ],
   "metadata": {
    "collapsed": false,
    "pycharm": {
     "name": "#%%\n"
    }
   }
  },
  {
   "cell_type": "code",
   "execution_count": 16,
   "outputs": [
    {
     "name": "stdout",
     "output_type": "stream",
     "text": [
      "CPU times: user 353 ms, sys: 98.8 ms, total: 452 ms\n",
      "Wall time: 3.23 s\n"
     ]
    },
    {
     "data": {
      "text/plain": "                                   lat         lon  Distance_prev_to_curr  \\\ntraj_id DateTime                                                            \n5       2008-10-24 04:12:30  40.004155  116.321337                    NaN   \n        2008-10-24 04:12:35  40.003834  116.321462              37.247654   \n        2008-10-24 04:12:40  40.003783  116.321431               6.255518   \n        2008-10-24 04:12:45  40.003690  116.321429              10.342531   \n        2008-10-24 04:12:50  40.003589  116.321427              11.231979   \n\n                             Distance_start_to_curr  Distance_to_(0, 0)  \\\ntraj_id DateTime                                                          \n5       2008-10-24 04:12:30                     NaN        1.221536e+07   \n        2008-10-24 04:12:35               37.247654        1.221538e+07   \n        2008-10-24 04:12:40               42.132251        1.221538e+07   \n        2008-10-24 04:12:45               52.296064        1.221538e+07   \n        2008-10-24 04:12:50               63.401465        1.221539e+07   \n\n                             Within_15000000_m_from_(0, 0)  \ntraj_id DateTime                                            \n5       2008-10-24 04:12:30                           True  \n        2008-10-24 04:12:35                           True  \n        2008-10-24 04:12:40                           True  \n        2008-10-24 04:12:45                           True  \n        2008-10-24 04:12:50                           True  ",
      "text/html": "<div>\n<style scoped>\n    .dataframe tbody tr th:only-of-type {\n        vertical-align: middle;\n    }\n\n    .dataframe tbody tr th {\n        vertical-align: top;\n    }\n\n    .dataframe thead th {\n        text-align: right;\n    }\n</style>\n<table border=\"1\" class=\"dataframe\">\n  <thead>\n    <tr style=\"text-align: right;\">\n      <th></th>\n      <th></th>\n      <th>lat</th>\n      <th>lon</th>\n      <th>Distance_prev_to_curr</th>\n      <th>Distance_start_to_curr</th>\n      <th>Distance_to_(0, 0)</th>\n      <th>Within_15000000_m_from_(0, 0)</th>\n    </tr>\n    <tr>\n      <th>traj_id</th>\n      <th>DateTime</th>\n      <th></th>\n      <th></th>\n      <th></th>\n      <th></th>\n      <th></th>\n      <th></th>\n    </tr>\n  </thead>\n  <tbody>\n    <tr>\n      <th rowspan=\"5\" valign=\"top\">5</th>\n      <th>2008-10-24 04:12:30</th>\n      <td>40.004155</td>\n      <td>116.321337</td>\n      <td>NaN</td>\n      <td>NaN</td>\n      <td>1.221536e+07</td>\n      <td>True</td>\n    </tr>\n    <tr>\n      <th>2008-10-24 04:12:35</th>\n      <td>40.003834</td>\n      <td>116.321462</td>\n      <td>37.247654</td>\n      <td>37.247654</td>\n      <td>1.221538e+07</td>\n      <td>True</td>\n    </tr>\n    <tr>\n      <th>2008-10-24 04:12:40</th>\n      <td>40.003783</td>\n      <td>116.321431</td>\n      <td>6.255518</td>\n      <td>42.132251</td>\n      <td>1.221538e+07</td>\n      <td>True</td>\n    </tr>\n    <tr>\n      <th>2008-10-24 04:12:45</th>\n      <td>40.003690</td>\n      <td>116.321429</td>\n      <td>10.342531</td>\n      <td>52.296064</td>\n      <td>1.221538e+07</td>\n      <td>True</td>\n    </tr>\n    <tr>\n      <th>2008-10-24 04:12:50</th>\n      <td>40.003589</td>\n      <td>116.321427</td>\n      <td>11.231979</td>\n      <td>63.401465</td>\n      <td>1.221539e+07</td>\n      <td>True</td>\n    </tr>\n  </tbody>\n</table>\n</div>"
     },
     "execution_count": 16,
     "metadata": {},
     "output_type": "execute_result"
    }
   ],
   "source": [
    "%%time\n",
    "\n",
    "# Now, lets check if all the points in the geolife dataset\n",
    "# are within 12000 KMs of the coordinates (0, 0).\n",
    "geolife = spatial.create_point_within_range_column(geolife,\n",
    "                                                   (0,0),\n",
    "                                                   15000000)\n",
    "geolife.head()"
   ],
   "metadata": {
    "collapsed": false,
    "pycharm": {
     "name": "#%%\n"
    }
   }
  },
  {
   "cell_type": "code",
   "execution_count": 17,
   "outputs": [
    {
     "name": "stdout",
     "output_type": "stream",
     "text": [
      "CPU times: user 25.5 ms, sys: 4.22 ms, total: 29.7 ms\n",
      "Wall time: 27.7 ms\n"
     ]
    },
    {
     "data": {
      "text/plain": "                                   lat         lon  Distance_prev_to_curr  \\\ntraj_id DateTime                                                            \n5       2008-10-24 04:12:30  40.004155  116.321337                    NaN   \n        2008-10-24 04:12:35  40.003834  116.321462              37.247654   \n        2008-10-24 04:12:40  40.003783  116.321431               6.255518   \n        2008-10-24 04:12:45  40.003690  116.321429              10.342531   \n        2008-10-24 04:12:50  40.003589  116.321427              11.231979   \n\n                             Distance_start_to_curr  Distance_to_(0, 0)  \\\ntraj_id DateTime                                                          \n5       2008-10-24 04:12:30                     NaN        1.221536e+07   \n        2008-10-24 04:12:35               37.247654        1.221538e+07   \n        2008-10-24 04:12:40               42.132251        1.221538e+07   \n        2008-10-24 04:12:45               52.296064        1.221538e+07   \n        2008-10-24 04:12:50               63.401465        1.221539e+07   \n\n                             Within_15000000_m_from_(0, 0)  Speed_prev_to_curr  \ntraj_id DateTime                                                                \n5       2008-10-24 04:12:30                           True                 NaN  \n        2008-10-24 04:12:35                           True            7.449531  \n        2008-10-24 04:12:40                           True            1.251104  \n        2008-10-24 04:12:45                           True            2.068506  \n        2008-10-24 04:12:50                           True            2.246396  ",
      "text/html": "<div>\n<style scoped>\n    .dataframe tbody tr th:only-of-type {\n        vertical-align: middle;\n    }\n\n    .dataframe tbody tr th {\n        vertical-align: top;\n    }\n\n    .dataframe thead th {\n        text-align: right;\n    }\n</style>\n<table border=\"1\" class=\"dataframe\">\n  <thead>\n    <tr style=\"text-align: right;\">\n      <th></th>\n      <th></th>\n      <th>lat</th>\n      <th>lon</th>\n      <th>Distance_prev_to_curr</th>\n      <th>Distance_start_to_curr</th>\n      <th>Distance_to_(0, 0)</th>\n      <th>Within_15000000_m_from_(0, 0)</th>\n      <th>Speed_prev_to_curr</th>\n    </tr>\n    <tr>\n      <th>traj_id</th>\n      <th>DateTime</th>\n      <th></th>\n      <th></th>\n      <th></th>\n      <th></th>\n      <th></th>\n      <th></th>\n      <th></th>\n    </tr>\n  </thead>\n  <tbody>\n    <tr>\n      <th rowspan=\"5\" valign=\"top\">5</th>\n      <th>2008-10-24 04:12:30</th>\n      <td>40.004155</td>\n      <td>116.321337</td>\n      <td>NaN</td>\n      <td>NaN</td>\n      <td>1.221536e+07</td>\n      <td>True</td>\n      <td>NaN</td>\n    </tr>\n    <tr>\n      <th>2008-10-24 04:12:35</th>\n      <td>40.003834</td>\n      <td>116.321462</td>\n      <td>37.247654</td>\n      <td>37.247654</td>\n      <td>1.221538e+07</td>\n      <td>True</td>\n      <td>7.449531</td>\n    </tr>\n    <tr>\n      <th>2008-10-24 04:12:40</th>\n      <td>40.003783</td>\n      <td>116.321431</td>\n      <td>6.255518</td>\n      <td>42.132251</td>\n      <td>1.221538e+07</td>\n      <td>True</td>\n      <td>1.251104</td>\n    </tr>\n    <tr>\n      <th>2008-10-24 04:12:45</th>\n      <td>40.003690</td>\n      <td>116.321429</td>\n      <td>10.342531</td>\n      <td>52.296064</td>\n      <td>1.221538e+07</td>\n      <td>True</td>\n      <td>2.068506</td>\n    </tr>\n    <tr>\n      <th>2008-10-24 04:12:50</th>\n      <td>40.003589</td>\n      <td>116.321427</td>\n      <td>11.231979</td>\n      <td>63.401465</td>\n      <td>1.221539e+07</td>\n      <td>True</td>\n      <td>2.246396</td>\n    </tr>\n  </tbody>\n</table>\n</div>"
     },
     "execution_count": 17,
     "metadata": {},
     "output_type": "execute_result"
    }
   ],
   "source": [
    "%%time\n",
    "\n",
    "# Now, lets calculate the speed of the object between 2\n",
    "# consecutive trajectory points.\n",
    "# First, we are doing in the geolife dataset.\n",
    "geolife = spatial.create_speed_from_prev_column(geolife)\n",
    "geolife.head()"
   ],
   "metadata": {
    "collapsed": false,
    "pycharm": {
     "name": "#%%\n"
    }
   }
  },
  {
   "cell_type": "code",
   "execution_count": 18,
   "outputs": [
    {
     "name": "stdout",
     "output_type": "stream",
     "text": [
      "CPU times: user 12.9 ms, sys: 125 µs, total: 13 ms\n",
      "Wall time: 11.8 ms\n"
     ]
    },
    {
     "data": {
      "text/plain": "                                             Name      Date  Time Event  \\\ntraj_id  DateTime                                                         \nAL021873 1873-08-13 00:00:00              UNNAMED  18730813     0         \n         1873-08-13 06:00:00              UNNAMED  18730813   600         \n         1873-08-13 12:00:00              UNNAMED  18730813  1200         \n         1873-08-13 18:00:00              UNNAMED  18730813  1800         \n         1873-08-14 00:00:00              UNNAMED  18730814     0         \n\n                             Status   lat   lon  Maximum Wind  \\\ntraj_id  DateTime                                               \nAL021873 1873-08-13 00:00:00     TS  13.9 -25.0            40   \n         1873-08-13 06:00:00     TS  14.0 -26.0            40   \n         1873-08-13 12:00:00     TS  14.0 -27.0            40   \n         1873-08-13 18:00:00     TS  14.1 -28.1            40   \n         1873-08-14 00:00:00     TS  14.1 -29.3            50   \n\n                              Minimum Pressure  Low Wind NE  ...  \\\ntraj_id  DateTime                                            ...   \nAL021873 1873-08-13 00:00:00              -999         -999  ...   \n         1873-08-13 06:00:00              -999         -999  ...   \n         1873-08-13 12:00:00              -999         -999  ...   \n         1873-08-13 18:00:00              -999         -999  ...   \n         1873-08-14 00:00:00              -999         -999  ...   \n\n                              Moderate Wind SE  Moderate Wind SW  \\\ntraj_id  DateTime                                                  \nAL021873 1873-08-13 00:00:00              -999              -999   \n         1873-08-13 06:00:00              -999              -999   \n         1873-08-13 12:00:00              -999              -999   \n         1873-08-13 18:00:00              -999              -999   \n         1873-08-14 00:00:00              -999              -999   \n\n                              Moderate Wind NW  High Wind NE  High Wind SE  \\\ntraj_id  DateTime                                                            \nAL021873 1873-08-13 00:00:00              -999          -999          -999   \n         1873-08-13 06:00:00              -999          -999          -999   \n         1873-08-13 12:00:00              -999          -999          -999   \n         1873-08-13 18:00:00              -999          -999          -999   \n         1873-08-14 00:00:00              -999          -999          -999   \n\n                              High Wind SW  High Wind NW  \\\ntraj_id  DateTime                                          \nAL021873 1873-08-13 00:00:00          -999          -999   \n         1873-08-13 06:00:00          -999          -999   \n         1873-08-13 12:00:00          -999          -999   \n         1873-08-13 18:00:00          -999          -999   \n         1873-08-14 00:00:00          -999          -999   \n\n                              Distance_prev_to_curr  Distance_start_to_curr  \\\ntraj_id  DateTime                                                             \nAL021873 1873-08-13 00:00:00                    NaN                     NaN   \n         1873-08-13 06:00:00          108486.658872           108486.658872   \n         1873-08-13 12:00:00          107891.881958           216116.369259   \n         1873-08-13 18:00:00          119175.045002           335201.031514   \n         1873-08-14 00:00:00          129413.676731           464461.502447   \n\n                              Speed_prev_to_curr  \ntraj_id  DateTime                                 \nAL021873 1873-08-13 00:00:00                 NaN  \n         1873-08-13 06:00:00            5.022531  \n         1873-08-13 12:00:00            4.994995  \n         1873-08-13 18:00:00            5.517363  \n         1873-08-14 00:00:00            5.991374  \n\n[5 rows x 24 columns]",
      "text/html": "<div>\n<style scoped>\n    .dataframe tbody tr th:only-of-type {\n        vertical-align: middle;\n    }\n\n    .dataframe tbody tr th {\n        vertical-align: top;\n    }\n\n    .dataframe thead th {\n        text-align: right;\n    }\n</style>\n<table border=\"1\" class=\"dataframe\">\n  <thead>\n    <tr style=\"text-align: right;\">\n      <th></th>\n      <th></th>\n      <th>Name</th>\n      <th>Date</th>\n      <th>Time</th>\n      <th>Event</th>\n      <th>Status</th>\n      <th>lat</th>\n      <th>lon</th>\n      <th>Maximum Wind</th>\n      <th>Minimum Pressure</th>\n      <th>Low Wind NE</th>\n      <th>...</th>\n      <th>Moderate Wind SE</th>\n      <th>Moderate Wind SW</th>\n      <th>Moderate Wind NW</th>\n      <th>High Wind NE</th>\n      <th>High Wind SE</th>\n      <th>High Wind SW</th>\n      <th>High Wind NW</th>\n      <th>Distance_prev_to_curr</th>\n      <th>Distance_start_to_curr</th>\n      <th>Speed_prev_to_curr</th>\n    </tr>\n    <tr>\n      <th>traj_id</th>\n      <th>DateTime</th>\n      <th></th>\n      <th></th>\n      <th></th>\n      <th></th>\n      <th></th>\n      <th></th>\n      <th></th>\n      <th></th>\n      <th></th>\n      <th></th>\n      <th></th>\n      <th></th>\n      <th></th>\n      <th></th>\n      <th></th>\n      <th></th>\n      <th></th>\n      <th></th>\n      <th></th>\n      <th></th>\n      <th></th>\n    </tr>\n  </thead>\n  <tbody>\n    <tr>\n      <th rowspan=\"5\" valign=\"top\">AL021873</th>\n      <th>1873-08-13 00:00:00</th>\n      <td>UNNAMED</td>\n      <td>18730813</td>\n      <td>0</td>\n      <td></td>\n      <td>TS</td>\n      <td>13.9</td>\n      <td>-25.0</td>\n      <td>40</td>\n      <td>-999</td>\n      <td>-999</td>\n      <td>...</td>\n      <td>-999</td>\n      <td>-999</td>\n      <td>-999</td>\n      <td>-999</td>\n      <td>-999</td>\n      <td>-999</td>\n      <td>-999</td>\n      <td>NaN</td>\n      <td>NaN</td>\n      <td>NaN</td>\n    </tr>\n    <tr>\n      <th>1873-08-13 06:00:00</th>\n      <td>UNNAMED</td>\n      <td>18730813</td>\n      <td>600</td>\n      <td></td>\n      <td>TS</td>\n      <td>14.0</td>\n      <td>-26.0</td>\n      <td>40</td>\n      <td>-999</td>\n      <td>-999</td>\n      <td>...</td>\n      <td>-999</td>\n      <td>-999</td>\n      <td>-999</td>\n      <td>-999</td>\n      <td>-999</td>\n      <td>-999</td>\n      <td>-999</td>\n      <td>108486.658872</td>\n      <td>108486.658872</td>\n      <td>5.022531</td>\n    </tr>\n    <tr>\n      <th>1873-08-13 12:00:00</th>\n      <td>UNNAMED</td>\n      <td>18730813</td>\n      <td>1200</td>\n      <td></td>\n      <td>TS</td>\n      <td>14.0</td>\n      <td>-27.0</td>\n      <td>40</td>\n      <td>-999</td>\n      <td>-999</td>\n      <td>...</td>\n      <td>-999</td>\n      <td>-999</td>\n      <td>-999</td>\n      <td>-999</td>\n      <td>-999</td>\n      <td>-999</td>\n      <td>-999</td>\n      <td>107891.881958</td>\n      <td>216116.369259</td>\n      <td>4.994995</td>\n    </tr>\n    <tr>\n      <th>1873-08-13 18:00:00</th>\n      <td>UNNAMED</td>\n      <td>18730813</td>\n      <td>1800</td>\n      <td></td>\n      <td>TS</td>\n      <td>14.1</td>\n      <td>-28.1</td>\n      <td>40</td>\n      <td>-999</td>\n      <td>-999</td>\n      <td>...</td>\n      <td>-999</td>\n      <td>-999</td>\n      <td>-999</td>\n      <td>-999</td>\n      <td>-999</td>\n      <td>-999</td>\n      <td>-999</td>\n      <td>119175.045002</td>\n      <td>335201.031514</td>\n      <td>5.517363</td>\n    </tr>\n    <tr>\n      <th>1873-08-14 00:00:00</th>\n      <td>UNNAMED</td>\n      <td>18730814</td>\n      <td>0</td>\n      <td></td>\n      <td>TS</td>\n      <td>14.1</td>\n      <td>-29.3</td>\n      <td>50</td>\n      <td>-999</td>\n      <td>-999</td>\n      <td>...</td>\n      <td>-999</td>\n      <td>-999</td>\n      <td>-999</td>\n      <td>-999</td>\n      <td>-999</td>\n      <td>-999</td>\n      <td>-999</td>\n      <td>129413.676731</td>\n      <td>464461.502447</td>\n      <td>5.991374</td>\n    </tr>\n  </tbody>\n</table>\n<p>5 rows × 24 columns</p>\n</div>"
     },
     "execution_count": 18,
     "metadata": {},
     "output_type": "execute_result"
    }
   ],
   "source": [
    "%%time\n",
    "\n",
    "# Now lets calculate the speed between 2 consecutive\n",
    "# points in the atlantic dataset.\n",
    "atlantic = spatial.create_speed_from_prev_column(atlantic)\n",
    "atlantic.head()"
   ],
   "metadata": {
    "collapsed": false,
    "pycharm": {
     "name": "#%%\n"
    }
   }
  },
  {
   "cell_type": "code",
   "execution_count": 19,
   "outputs": [
    {
     "name": "stdout",
     "output_type": "stream",
     "text": [
      "CPU times: user 11.5 ms, sys: 3.34 ms, total: 14.8 ms\n",
      "Wall time: 13.9 ms\n"
     ]
    },
    {
     "data": {
      "text/plain": "                               event-id  visible       lon       lat  \\\ntraj_id DateTime                                                       \n91732   2009-05-27 14:00:00  1082620685     True  24.58617  61.24783   \n        2009-05-27 20:00:00  1082620686     True  24.58217  61.23267   \n        2009-05-28 05:00:00  1082620687     True  24.53133  61.18833   \n        2009-05-28 08:00:00  1082620688     True  24.58200  61.23283   \n        2009-05-28 14:00:00  1082620689     True  24.58250  61.23267   \n\n                            sensor-type individual-taxon-canonical-name  \\\ntraj_id DateTime                                                          \n91732   2009-05-27 14:00:00         gps                    Larus fuscus   \n        2009-05-27 20:00:00         gps                    Larus fuscus   \n        2009-05-28 05:00:00         gps                    Larus fuscus   \n        2009-05-28 08:00:00         gps                    Larus fuscus   \n        2009-05-28 14:00:00         gps                    Larus fuscus   \n\n                            individual-local-identifier  \\\ntraj_id DateTime                                          \n91732   2009-05-27 14:00:00                      91732A   \n        2009-05-27 20:00:00                      91732A   \n        2009-05-28 05:00:00                      91732A   \n        2009-05-28 08:00:00                      91732A   \n        2009-05-28 14:00:00                      91732A   \n\n                                                                    study-name  \\\ntraj_id DateTime                                                                 \n91732   2009-05-27 14:00:00  Navigation experiments in lesser black-backed ...   \n        2009-05-27 20:00:00  Navigation experiments in lesser black-backed ...   \n        2009-05-28 05:00:00  Navigation experiments in lesser black-backed ...   \n        2009-05-28 08:00:00  Navigation experiments in lesser black-backed ...   \n        2009-05-28 14:00:00  Navigation experiments in lesser black-backed ...   \n\n                             Distance_prev_to_curr  Distance_start_to_curr  \\\ntraj_id DateTime                                                             \n91732   2009-05-27 14:00:00                    NaN                     NaN   \n        2009-05-27 20:00:00            1699.244398             1699.244398   \n        2009-05-28 05:00:00            5632.120064             7238.295521   \n        2009-05-28 08:00:00            5643.314949             1682.777895   \n        2009-05-28 14:00:00              32.131494             1697.111327   \n\n                             Speed_prev_to_curr  \ntraj_id DateTime                                 \n91732   2009-05-27 14:00:00                 NaN  \n        2009-05-27 20:00:00            0.078669  \n        2009-05-28 05:00:00            0.173831  \n        2009-05-28 08:00:00            0.522529  \n        2009-05-28 14:00:00            0.001488  ",
      "text/html": "<div>\n<style scoped>\n    .dataframe tbody tr th:only-of-type {\n        vertical-align: middle;\n    }\n\n    .dataframe tbody tr th {\n        vertical-align: top;\n    }\n\n    .dataframe thead th {\n        text-align: right;\n    }\n</style>\n<table border=\"1\" class=\"dataframe\">\n  <thead>\n    <tr style=\"text-align: right;\">\n      <th></th>\n      <th></th>\n      <th>event-id</th>\n      <th>visible</th>\n      <th>lon</th>\n      <th>lat</th>\n      <th>sensor-type</th>\n      <th>individual-taxon-canonical-name</th>\n      <th>individual-local-identifier</th>\n      <th>study-name</th>\n      <th>Distance_prev_to_curr</th>\n      <th>Distance_start_to_curr</th>\n      <th>Speed_prev_to_curr</th>\n    </tr>\n    <tr>\n      <th>traj_id</th>\n      <th>DateTime</th>\n      <th></th>\n      <th></th>\n      <th></th>\n      <th></th>\n      <th></th>\n      <th></th>\n      <th></th>\n      <th></th>\n      <th></th>\n      <th></th>\n      <th></th>\n    </tr>\n  </thead>\n  <tbody>\n    <tr>\n      <th rowspan=\"5\" valign=\"top\">91732</th>\n      <th>2009-05-27 14:00:00</th>\n      <td>1082620685</td>\n      <td>True</td>\n      <td>24.58617</td>\n      <td>61.24783</td>\n      <td>gps</td>\n      <td>Larus fuscus</td>\n      <td>91732A</td>\n      <td>Navigation experiments in lesser black-backed ...</td>\n      <td>NaN</td>\n      <td>NaN</td>\n      <td>NaN</td>\n    </tr>\n    <tr>\n      <th>2009-05-27 20:00:00</th>\n      <td>1082620686</td>\n      <td>True</td>\n      <td>24.58217</td>\n      <td>61.23267</td>\n      <td>gps</td>\n      <td>Larus fuscus</td>\n      <td>91732A</td>\n      <td>Navigation experiments in lesser black-backed ...</td>\n      <td>1699.244398</td>\n      <td>1699.244398</td>\n      <td>0.078669</td>\n    </tr>\n    <tr>\n      <th>2009-05-28 05:00:00</th>\n      <td>1082620687</td>\n      <td>True</td>\n      <td>24.53133</td>\n      <td>61.18833</td>\n      <td>gps</td>\n      <td>Larus fuscus</td>\n      <td>91732A</td>\n      <td>Navigation experiments in lesser black-backed ...</td>\n      <td>5632.120064</td>\n      <td>7238.295521</td>\n      <td>0.173831</td>\n    </tr>\n    <tr>\n      <th>2009-05-28 08:00:00</th>\n      <td>1082620688</td>\n      <td>True</td>\n      <td>24.58200</td>\n      <td>61.23283</td>\n      <td>gps</td>\n      <td>Larus fuscus</td>\n      <td>91732A</td>\n      <td>Navigation experiments in lesser black-backed ...</td>\n      <td>5643.314949</td>\n      <td>1682.777895</td>\n      <td>0.522529</td>\n    </tr>\n    <tr>\n      <th>2009-05-28 14:00:00</th>\n      <td>1082620689</td>\n      <td>True</td>\n      <td>24.58250</td>\n      <td>61.23267</td>\n      <td>gps</td>\n      <td>Larus fuscus</td>\n      <td>91732A</td>\n      <td>Navigation experiments in lesser black-backed ...</td>\n      <td>32.131494</td>\n      <td>1697.111327</td>\n      <td>0.001488</td>\n    </tr>\n  </tbody>\n</table>\n</div>"
     },
     "execution_count": 19,
     "metadata": {},
     "output_type": "execute_result"
    }
   ],
   "source": [
    "%%time\n",
    "\n",
    "# Now lets calculate the speed between 2 consecutive\n",
    "# points in the seagulls dataset.\n",
    "gulls = spatial.create_speed_from_prev_column(gulls)\n",
    "gulls.head()"
   ],
   "metadata": {
    "collapsed": false,
    "pycharm": {
     "name": "#%%\n"
    }
   }
  },
  {
   "cell_type": "code",
   "execution_count": 20,
   "outputs": [
    {
     "name": "stdout",
     "output_type": "stream",
     "text": [
      "CPU times: user 27 ms, sys: 420 µs, total: 27.4 ms\n",
      "Wall time: 26.2 ms\n"
     ]
    },
    {
     "data": {
      "text/plain": "                                   lat         lon  Distance_prev_to_curr  \\\ntraj_id DateTime                                                            \n5       2008-10-24 04:12:30  40.004155  116.321337                    NaN   \n        2008-10-24 04:12:35  40.003834  116.321462              37.247654   \n        2008-10-24 04:12:40  40.003783  116.321431               6.255518   \n        2008-10-24 04:12:45  40.003690  116.321429              10.342531   \n        2008-10-24 04:12:50  40.003589  116.321427              11.231979   \n\n                             Distance_start_to_curr  Distance_to_(0, 0)  \\\ntraj_id DateTime                                                          \n5       2008-10-24 04:12:30                     NaN        1.221536e+07   \n        2008-10-24 04:12:35               37.247654        1.221538e+07   \n        2008-10-24 04:12:40               42.132251        1.221538e+07   \n        2008-10-24 04:12:45               52.296064        1.221538e+07   \n        2008-10-24 04:12:50               63.401465        1.221539e+07   \n\n                             Within_15000000_m_from_(0, 0)  \\\ntraj_id DateTime                                             \n5       2008-10-24 04:12:30                           True   \n        2008-10-24 04:12:35                           True   \n        2008-10-24 04:12:40                           True   \n        2008-10-24 04:12:45                           True   \n        2008-10-24 04:12:50                           True   \n\n                             Speed_prev_to_curr  Acceleration_prev_to_curr  \ntraj_id DateTime                                                            \n5       2008-10-24 04:12:30                 NaN                        NaN  \n        2008-10-24 04:12:35            7.449531                        NaN  \n        2008-10-24 04:12:40            1.251104                  -1.239685  \n        2008-10-24 04:12:45            2.068506                   0.163481  \n        2008-10-24 04:12:50            2.246396                   0.035578  ",
      "text/html": "<div>\n<style scoped>\n    .dataframe tbody tr th:only-of-type {\n        vertical-align: middle;\n    }\n\n    .dataframe tbody tr th {\n        vertical-align: top;\n    }\n\n    .dataframe thead th {\n        text-align: right;\n    }\n</style>\n<table border=\"1\" class=\"dataframe\">\n  <thead>\n    <tr style=\"text-align: right;\">\n      <th></th>\n      <th></th>\n      <th>lat</th>\n      <th>lon</th>\n      <th>Distance_prev_to_curr</th>\n      <th>Distance_start_to_curr</th>\n      <th>Distance_to_(0, 0)</th>\n      <th>Within_15000000_m_from_(0, 0)</th>\n      <th>Speed_prev_to_curr</th>\n      <th>Acceleration_prev_to_curr</th>\n    </tr>\n    <tr>\n      <th>traj_id</th>\n      <th>DateTime</th>\n      <th></th>\n      <th></th>\n      <th></th>\n      <th></th>\n      <th></th>\n      <th></th>\n      <th></th>\n      <th></th>\n    </tr>\n  </thead>\n  <tbody>\n    <tr>\n      <th rowspan=\"5\" valign=\"top\">5</th>\n      <th>2008-10-24 04:12:30</th>\n      <td>40.004155</td>\n      <td>116.321337</td>\n      <td>NaN</td>\n      <td>NaN</td>\n      <td>1.221536e+07</td>\n      <td>True</td>\n      <td>NaN</td>\n      <td>NaN</td>\n    </tr>\n    <tr>\n      <th>2008-10-24 04:12:35</th>\n      <td>40.003834</td>\n      <td>116.321462</td>\n      <td>37.247654</td>\n      <td>37.247654</td>\n      <td>1.221538e+07</td>\n      <td>True</td>\n      <td>7.449531</td>\n      <td>NaN</td>\n    </tr>\n    <tr>\n      <th>2008-10-24 04:12:40</th>\n      <td>40.003783</td>\n      <td>116.321431</td>\n      <td>6.255518</td>\n      <td>42.132251</td>\n      <td>1.221538e+07</td>\n      <td>True</td>\n      <td>1.251104</td>\n      <td>-1.239685</td>\n    </tr>\n    <tr>\n      <th>2008-10-24 04:12:45</th>\n      <td>40.003690</td>\n      <td>116.321429</td>\n      <td>10.342531</td>\n      <td>52.296064</td>\n      <td>1.221538e+07</td>\n      <td>True</td>\n      <td>2.068506</td>\n      <td>0.163481</td>\n    </tr>\n    <tr>\n      <th>2008-10-24 04:12:50</th>\n      <td>40.003589</td>\n      <td>116.321427</td>\n      <td>11.231979</td>\n      <td>63.401465</td>\n      <td>1.221539e+07</td>\n      <td>True</td>\n      <td>2.246396</td>\n      <td>0.035578</td>\n    </tr>\n  </tbody>\n</table>\n</div>"
     },
     "execution_count": 20,
     "metadata": {},
     "output_type": "execute_result"
    }
   ],
   "source": [
    "%%time\n",
    "\n",
    "# Now lets check the acceleration of the object\n",
    "# between 2 consecutive points.\n",
    "# First, lets check for the geolife dataset.\n",
    "geolife = spatial.create_acceleration_from_prev_column(geolife)\n",
    "geolife.head()"
   ],
   "metadata": {
    "collapsed": false,
    "pycharm": {
     "name": "#%%\n"
    }
   }
  },
  {
   "cell_type": "code",
   "execution_count": 21,
   "outputs": [
    {
     "name": "stdout",
     "output_type": "stream",
     "text": [
      "CPU times: user 20.6 ms, sys: 0 ns, total: 20.6 ms\n",
      "Wall time: 19.2 ms\n"
     ]
    },
    {
     "data": {
      "text/plain": "                               event-id  visible       lon       lat  \\\ntraj_id DateTime                                                       \n91732   2009-05-27 14:00:00  1082620685     True  24.58617  61.24783   \n        2009-05-27 20:00:00  1082620686     True  24.58217  61.23267   \n        2009-05-28 05:00:00  1082620687     True  24.53133  61.18833   \n        2009-05-28 08:00:00  1082620688     True  24.58200  61.23283   \n        2009-05-28 14:00:00  1082620689     True  24.58250  61.23267   \n\n                            sensor-type individual-taxon-canonical-name  \\\ntraj_id DateTime                                                          \n91732   2009-05-27 14:00:00         gps                    Larus fuscus   \n        2009-05-27 20:00:00         gps                    Larus fuscus   \n        2009-05-28 05:00:00         gps                    Larus fuscus   \n        2009-05-28 08:00:00         gps                    Larus fuscus   \n        2009-05-28 14:00:00         gps                    Larus fuscus   \n\n                            individual-local-identifier  \\\ntraj_id DateTime                                          \n91732   2009-05-27 14:00:00                      91732A   \n        2009-05-27 20:00:00                      91732A   \n        2009-05-28 05:00:00                      91732A   \n        2009-05-28 08:00:00                      91732A   \n        2009-05-28 14:00:00                      91732A   \n\n                                                                    study-name  \\\ntraj_id DateTime                                                                 \n91732   2009-05-27 14:00:00  Navigation experiments in lesser black-backed ...   \n        2009-05-27 20:00:00  Navigation experiments in lesser black-backed ...   \n        2009-05-28 05:00:00  Navigation experiments in lesser black-backed ...   \n        2009-05-28 08:00:00  Navigation experiments in lesser black-backed ...   \n        2009-05-28 14:00:00  Navigation experiments in lesser black-backed ...   \n\n                             Distance_prev_to_curr  Distance_start_to_curr  \\\ntraj_id DateTime                                                             \n91732   2009-05-27 14:00:00                    NaN                     NaN   \n        2009-05-27 20:00:00            1699.244398             1699.244398   \n        2009-05-28 05:00:00            5632.120064             7238.295521   \n        2009-05-28 08:00:00            5643.314949             1682.777895   \n        2009-05-28 14:00:00              32.131494             1697.111327   \n\n                             Speed_prev_to_curr  Acceleration_prev_to_curr  \ntraj_id DateTime                                                            \n91732   2009-05-27 14:00:00                 NaN                        NaN  \n        2009-05-27 20:00:00            0.078669                        NaN  \n        2009-05-28 05:00:00            0.173831                   0.000003  \n        2009-05-28 08:00:00            0.522529                   0.000032  \n        2009-05-28 14:00:00            0.001488                  -0.000024  ",
      "text/html": "<div>\n<style scoped>\n    .dataframe tbody tr th:only-of-type {\n        vertical-align: middle;\n    }\n\n    .dataframe tbody tr th {\n        vertical-align: top;\n    }\n\n    .dataframe thead th {\n        text-align: right;\n    }\n</style>\n<table border=\"1\" class=\"dataframe\">\n  <thead>\n    <tr style=\"text-align: right;\">\n      <th></th>\n      <th></th>\n      <th>event-id</th>\n      <th>visible</th>\n      <th>lon</th>\n      <th>lat</th>\n      <th>sensor-type</th>\n      <th>individual-taxon-canonical-name</th>\n      <th>individual-local-identifier</th>\n      <th>study-name</th>\n      <th>Distance_prev_to_curr</th>\n      <th>Distance_start_to_curr</th>\n      <th>Speed_prev_to_curr</th>\n      <th>Acceleration_prev_to_curr</th>\n    </tr>\n    <tr>\n      <th>traj_id</th>\n      <th>DateTime</th>\n      <th></th>\n      <th></th>\n      <th></th>\n      <th></th>\n      <th></th>\n      <th></th>\n      <th></th>\n      <th></th>\n      <th></th>\n      <th></th>\n      <th></th>\n      <th></th>\n    </tr>\n  </thead>\n  <tbody>\n    <tr>\n      <th rowspan=\"5\" valign=\"top\">91732</th>\n      <th>2009-05-27 14:00:00</th>\n      <td>1082620685</td>\n      <td>True</td>\n      <td>24.58617</td>\n      <td>61.24783</td>\n      <td>gps</td>\n      <td>Larus fuscus</td>\n      <td>91732A</td>\n      <td>Navigation experiments in lesser black-backed ...</td>\n      <td>NaN</td>\n      <td>NaN</td>\n      <td>NaN</td>\n      <td>NaN</td>\n    </tr>\n    <tr>\n      <th>2009-05-27 20:00:00</th>\n      <td>1082620686</td>\n      <td>True</td>\n      <td>24.58217</td>\n      <td>61.23267</td>\n      <td>gps</td>\n      <td>Larus fuscus</td>\n      <td>91732A</td>\n      <td>Navigation experiments in lesser black-backed ...</td>\n      <td>1699.244398</td>\n      <td>1699.244398</td>\n      <td>0.078669</td>\n      <td>NaN</td>\n    </tr>\n    <tr>\n      <th>2009-05-28 05:00:00</th>\n      <td>1082620687</td>\n      <td>True</td>\n      <td>24.53133</td>\n      <td>61.18833</td>\n      <td>gps</td>\n      <td>Larus fuscus</td>\n      <td>91732A</td>\n      <td>Navigation experiments in lesser black-backed ...</td>\n      <td>5632.120064</td>\n      <td>7238.295521</td>\n      <td>0.173831</td>\n      <td>0.000003</td>\n    </tr>\n    <tr>\n      <th>2009-05-28 08:00:00</th>\n      <td>1082620688</td>\n      <td>True</td>\n      <td>24.58200</td>\n      <td>61.23283</td>\n      <td>gps</td>\n      <td>Larus fuscus</td>\n      <td>91732A</td>\n      <td>Navigation experiments in lesser black-backed ...</td>\n      <td>5643.314949</td>\n      <td>1682.777895</td>\n      <td>0.522529</td>\n      <td>0.000032</td>\n    </tr>\n    <tr>\n      <th>2009-05-28 14:00:00</th>\n      <td>1082620689</td>\n      <td>True</td>\n      <td>24.58250</td>\n      <td>61.23267</td>\n      <td>gps</td>\n      <td>Larus fuscus</td>\n      <td>91732A</td>\n      <td>Navigation experiments in lesser black-backed ...</td>\n      <td>32.131494</td>\n      <td>1697.111327</td>\n      <td>0.001488</td>\n      <td>-0.000024</td>\n    </tr>\n  </tbody>\n</table>\n</div>"
     },
     "execution_count": 21,
     "metadata": {},
     "output_type": "execute_result"
    }
   ],
   "source": [
    "%%time\n",
    "\n",
    "# Now lets check the acceleration of the gulls dataset.\n",
    "gulls = spatial.create_acceleration_from_prev_column(gulls)\n",
    "gulls.head()"
   ],
   "metadata": {
    "collapsed": false,
    "pycharm": {
     "name": "#%%\n"
    }
   }
  },
  {
   "cell_type": "code",
   "execution_count": 22,
   "outputs": [
    {
     "name": "stdout",
     "output_type": "stream",
     "text": [
      "CPU times: user 19.2 ms, sys: 455 µs, total: 19.7 ms\n",
      "Wall time: 18.3 ms\n"
     ]
    },
    {
     "data": {
      "text/plain": "                                             Name      Date  Time Event  \\\ntraj_id  DateTime                                                         \nAL021873 1873-08-13 00:00:00              UNNAMED  18730813     0         \n         1873-08-13 06:00:00              UNNAMED  18730813   600         \n         1873-08-13 12:00:00              UNNAMED  18730813  1200         \n         1873-08-13 18:00:00              UNNAMED  18730813  1800         \n         1873-08-14 00:00:00              UNNAMED  18730814     0         \n\n                             Status   lat   lon  Maximum Wind  \\\ntraj_id  DateTime                                               \nAL021873 1873-08-13 00:00:00     TS  13.9 -25.0            40   \n         1873-08-13 06:00:00     TS  14.0 -26.0            40   \n         1873-08-13 12:00:00     TS  14.0 -27.0            40   \n         1873-08-13 18:00:00     TS  14.1 -28.1            40   \n         1873-08-14 00:00:00     TS  14.1 -29.3            50   \n\n                              Minimum Pressure  Low Wind NE  ...  \\\ntraj_id  DateTime                                            ...   \nAL021873 1873-08-13 00:00:00              -999         -999  ...   \n         1873-08-13 06:00:00              -999         -999  ...   \n         1873-08-13 12:00:00              -999         -999  ...   \n         1873-08-13 18:00:00              -999         -999  ...   \n         1873-08-14 00:00:00              -999         -999  ...   \n\n                              Moderate Wind SW  Moderate Wind NW  \\\ntraj_id  DateTime                                                  \nAL021873 1873-08-13 00:00:00              -999              -999   \n         1873-08-13 06:00:00              -999              -999   \n         1873-08-13 12:00:00              -999              -999   \n         1873-08-13 18:00:00              -999              -999   \n         1873-08-14 00:00:00              -999              -999   \n\n                              High Wind NE  High Wind SE  High Wind SW  \\\ntraj_id  DateTime                                                        \nAL021873 1873-08-13 00:00:00          -999          -999          -999   \n         1873-08-13 06:00:00          -999          -999          -999   \n         1873-08-13 12:00:00          -999          -999          -999   \n         1873-08-13 18:00:00          -999          -999          -999   \n         1873-08-14 00:00:00          -999          -999          -999   \n\n                              High Wind NW  Distance_prev_to_curr  \\\ntraj_id  DateTime                                                   \nAL021873 1873-08-13 00:00:00          -999                    NaN   \n         1873-08-13 06:00:00          -999          108486.658872   \n         1873-08-13 12:00:00          -999          107891.881958   \n         1873-08-13 18:00:00          -999          119175.045002   \n         1873-08-14 00:00:00          -999          129413.676731   \n\n                              Distance_start_to_curr  Speed_prev_to_curr  \\\ntraj_id  DateTime                                                          \nAL021873 1873-08-13 00:00:00                     NaN                 NaN   \n         1873-08-13 06:00:00           108486.658872            5.022531   \n         1873-08-13 12:00:00           216116.369259            4.994995   \n         1873-08-13 18:00:00           335201.031514            5.517363   \n         1873-08-14 00:00:00           464461.502447            5.991374   \n\n                              Acceleration_prev_to_curr  \ntraj_id  DateTime                                        \nAL021873 1873-08-13 00:00:00                        NaN  \n         1873-08-13 06:00:00                        NaN  \n         1873-08-13 12:00:00                  -0.000001  \n         1873-08-13 18:00:00                   0.000024  \n         1873-08-14 00:00:00                   0.000022  \n\n[5 rows x 25 columns]",
      "text/html": "<div>\n<style scoped>\n    .dataframe tbody tr th:only-of-type {\n        vertical-align: middle;\n    }\n\n    .dataframe tbody tr th {\n        vertical-align: top;\n    }\n\n    .dataframe thead th {\n        text-align: right;\n    }\n</style>\n<table border=\"1\" class=\"dataframe\">\n  <thead>\n    <tr style=\"text-align: right;\">\n      <th></th>\n      <th></th>\n      <th>Name</th>\n      <th>Date</th>\n      <th>Time</th>\n      <th>Event</th>\n      <th>Status</th>\n      <th>lat</th>\n      <th>lon</th>\n      <th>Maximum Wind</th>\n      <th>Minimum Pressure</th>\n      <th>Low Wind NE</th>\n      <th>...</th>\n      <th>Moderate Wind SW</th>\n      <th>Moderate Wind NW</th>\n      <th>High Wind NE</th>\n      <th>High Wind SE</th>\n      <th>High Wind SW</th>\n      <th>High Wind NW</th>\n      <th>Distance_prev_to_curr</th>\n      <th>Distance_start_to_curr</th>\n      <th>Speed_prev_to_curr</th>\n      <th>Acceleration_prev_to_curr</th>\n    </tr>\n    <tr>\n      <th>traj_id</th>\n      <th>DateTime</th>\n      <th></th>\n      <th></th>\n      <th></th>\n      <th></th>\n      <th></th>\n      <th></th>\n      <th></th>\n      <th></th>\n      <th></th>\n      <th></th>\n      <th></th>\n      <th></th>\n      <th></th>\n      <th></th>\n      <th></th>\n      <th></th>\n      <th></th>\n      <th></th>\n      <th></th>\n      <th></th>\n      <th></th>\n    </tr>\n  </thead>\n  <tbody>\n    <tr>\n      <th rowspan=\"5\" valign=\"top\">AL021873</th>\n      <th>1873-08-13 00:00:00</th>\n      <td>UNNAMED</td>\n      <td>18730813</td>\n      <td>0</td>\n      <td></td>\n      <td>TS</td>\n      <td>13.9</td>\n      <td>-25.0</td>\n      <td>40</td>\n      <td>-999</td>\n      <td>-999</td>\n      <td>...</td>\n      <td>-999</td>\n      <td>-999</td>\n      <td>-999</td>\n      <td>-999</td>\n      <td>-999</td>\n      <td>-999</td>\n      <td>NaN</td>\n      <td>NaN</td>\n      <td>NaN</td>\n      <td>NaN</td>\n    </tr>\n    <tr>\n      <th>1873-08-13 06:00:00</th>\n      <td>UNNAMED</td>\n      <td>18730813</td>\n      <td>600</td>\n      <td></td>\n      <td>TS</td>\n      <td>14.0</td>\n      <td>-26.0</td>\n      <td>40</td>\n      <td>-999</td>\n      <td>-999</td>\n      <td>...</td>\n      <td>-999</td>\n      <td>-999</td>\n      <td>-999</td>\n      <td>-999</td>\n      <td>-999</td>\n      <td>-999</td>\n      <td>108486.658872</td>\n      <td>108486.658872</td>\n      <td>5.022531</td>\n      <td>NaN</td>\n    </tr>\n    <tr>\n      <th>1873-08-13 12:00:00</th>\n      <td>UNNAMED</td>\n      <td>18730813</td>\n      <td>1200</td>\n      <td></td>\n      <td>TS</td>\n      <td>14.0</td>\n      <td>-27.0</td>\n      <td>40</td>\n      <td>-999</td>\n      <td>-999</td>\n      <td>...</td>\n      <td>-999</td>\n      <td>-999</td>\n      <td>-999</td>\n      <td>-999</td>\n      <td>-999</td>\n      <td>-999</td>\n      <td>107891.881958</td>\n      <td>216116.369259</td>\n      <td>4.994995</td>\n      <td>-0.000001</td>\n    </tr>\n    <tr>\n      <th>1873-08-13 18:00:00</th>\n      <td>UNNAMED</td>\n      <td>18730813</td>\n      <td>1800</td>\n      <td></td>\n      <td>TS</td>\n      <td>14.1</td>\n      <td>-28.1</td>\n      <td>40</td>\n      <td>-999</td>\n      <td>-999</td>\n      <td>...</td>\n      <td>-999</td>\n      <td>-999</td>\n      <td>-999</td>\n      <td>-999</td>\n      <td>-999</td>\n      <td>-999</td>\n      <td>119175.045002</td>\n      <td>335201.031514</td>\n      <td>5.517363</td>\n      <td>0.000024</td>\n    </tr>\n    <tr>\n      <th>1873-08-14 00:00:00</th>\n      <td>UNNAMED</td>\n      <td>18730814</td>\n      <td>0</td>\n      <td></td>\n      <td>TS</td>\n      <td>14.1</td>\n      <td>-29.3</td>\n      <td>50</td>\n      <td>-999</td>\n      <td>-999</td>\n      <td>...</td>\n      <td>-999</td>\n      <td>-999</td>\n      <td>-999</td>\n      <td>-999</td>\n      <td>-999</td>\n      <td>-999</td>\n      <td>129413.676731</td>\n      <td>464461.502447</td>\n      <td>5.991374</td>\n      <td>0.000022</td>\n    </tr>\n  </tbody>\n</table>\n<p>5 rows × 25 columns</p>\n</div>"
     },
     "execution_count": 22,
     "metadata": {},
     "output_type": "execute_result"
    }
   ],
   "source": [
    "%%time\n",
    "\n",
    "# Now lets check the acceleration of the atlantic dataset.\n",
    "atlantic = spatial.create_acceleration_from_prev_column(atlantic)\n",
    "atlantic.head()"
   ],
   "metadata": {
    "collapsed": false,
    "pycharm": {
     "name": "#%%\n"
    }
   }
  },
  {
   "cell_type": "code",
   "execution_count": 23,
   "outputs": [
    {
     "name": "stdout",
     "output_type": "stream",
     "text": [
      "CPU times: user 37.8 ms, sys: 0 ns, total: 37.8 ms\n",
      "Wall time: 36.1 ms\n"
     ]
    },
    {
     "data": {
      "text/plain": "                                   lat         lon  Distance_prev_to_curr  \\\ntraj_id DateTime                                                            \n5       2008-10-24 04:12:30  40.004155  116.321337                    NaN   \n        2008-10-24 04:12:35  40.003834  116.321462              37.247654   \n        2008-10-24 04:12:40  40.003783  116.321431               6.255518   \n        2008-10-24 04:12:45  40.003690  116.321429              10.342531   \n        2008-10-24 04:12:50  40.003589  116.321427              11.231979   \n\n                             Distance_start_to_curr  Distance_to_(0, 0)  \\\ntraj_id DateTime                                                          \n5       2008-10-24 04:12:30                     NaN        1.221536e+07   \n        2008-10-24 04:12:35               37.247654        1.221538e+07   \n        2008-10-24 04:12:40               42.132251        1.221538e+07   \n        2008-10-24 04:12:45               52.296064        1.221538e+07   \n        2008-10-24 04:12:50               63.401465        1.221539e+07   \n\n                             Within_15000000_m_from_(0, 0)  \\\ntraj_id DateTime                                             \n5       2008-10-24 04:12:30                           True   \n        2008-10-24 04:12:35                           True   \n        2008-10-24 04:12:40                           True   \n        2008-10-24 04:12:45                           True   \n        2008-10-24 04:12:50                           True   \n\n                             Speed_prev_to_curr  Acceleration_prev_to_curr  \\\ntraj_id DateTime                                                             \n5       2008-10-24 04:12:30                 NaN                        NaN   \n        2008-10-24 04:12:35            7.449531                        NaN   \n        2008-10-24 04:12:40            1.251104                  -1.239685   \n        2008-10-24 04:12:45            2.068506                   0.163481   \n        2008-10-24 04:12:50            2.246396                   0.035578   \n\n                             jerk_prev_to_curr  \ntraj_id DateTime                                \n5       2008-10-24 04:12:30                NaN  \n        2008-10-24 04:12:35                NaN  \n        2008-10-24 04:12:40                NaN  \n        2008-10-24 04:12:45           0.280633  \n        2008-10-24 04:12:50          -0.025581  ",
      "text/html": "<div>\n<style scoped>\n    .dataframe tbody tr th:only-of-type {\n        vertical-align: middle;\n    }\n\n    .dataframe tbody tr th {\n        vertical-align: top;\n    }\n\n    .dataframe thead th {\n        text-align: right;\n    }\n</style>\n<table border=\"1\" class=\"dataframe\">\n  <thead>\n    <tr style=\"text-align: right;\">\n      <th></th>\n      <th></th>\n      <th>lat</th>\n      <th>lon</th>\n      <th>Distance_prev_to_curr</th>\n      <th>Distance_start_to_curr</th>\n      <th>Distance_to_(0, 0)</th>\n      <th>Within_15000000_m_from_(0, 0)</th>\n      <th>Speed_prev_to_curr</th>\n      <th>Acceleration_prev_to_curr</th>\n      <th>jerk_prev_to_curr</th>\n    </tr>\n    <tr>\n      <th>traj_id</th>\n      <th>DateTime</th>\n      <th></th>\n      <th></th>\n      <th></th>\n      <th></th>\n      <th></th>\n      <th></th>\n      <th></th>\n      <th></th>\n      <th></th>\n    </tr>\n  </thead>\n  <tbody>\n    <tr>\n      <th rowspan=\"5\" valign=\"top\">5</th>\n      <th>2008-10-24 04:12:30</th>\n      <td>40.004155</td>\n      <td>116.321337</td>\n      <td>NaN</td>\n      <td>NaN</td>\n      <td>1.221536e+07</td>\n      <td>True</td>\n      <td>NaN</td>\n      <td>NaN</td>\n      <td>NaN</td>\n    </tr>\n    <tr>\n      <th>2008-10-24 04:12:35</th>\n      <td>40.003834</td>\n      <td>116.321462</td>\n      <td>37.247654</td>\n      <td>37.247654</td>\n      <td>1.221538e+07</td>\n      <td>True</td>\n      <td>7.449531</td>\n      <td>NaN</td>\n      <td>NaN</td>\n    </tr>\n    <tr>\n      <th>2008-10-24 04:12:40</th>\n      <td>40.003783</td>\n      <td>116.321431</td>\n      <td>6.255518</td>\n      <td>42.132251</td>\n      <td>1.221538e+07</td>\n      <td>True</td>\n      <td>1.251104</td>\n      <td>-1.239685</td>\n      <td>NaN</td>\n    </tr>\n    <tr>\n      <th>2008-10-24 04:12:45</th>\n      <td>40.003690</td>\n      <td>116.321429</td>\n      <td>10.342531</td>\n      <td>52.296064</td>\n      <td>1.221538e+07</td>\n      <td>True</td>\n      <td>2.068506</td>\n      <td>0.163481</td>\n      <td>0.280633</td>\n    </tr>\n    <tr>\n      <th>2008-10-24 04:12:50</th>\n      <td>40.003589</td>\n      <td>116.321427</td>\n      <td>11.231979</td>\n      <td>63.401465</td>\n      <td>1.221539e+07</td>\n      <td>True</td>\n      <td>2.246396</td>\n      <td>0.035578</td>\n      <td>-0.025581</td>\n    </tr>\n  </tbody>\n</table>\n</div>"
     },
     "execution_count": 23,
     "metadata": {},
     "output_type": "execute_result"
    }
   ],
   "source": [
    "%%time\n",
    "\n",
    "# Now lets check the jerk of the object between 2 consecutive\n",
    "# points.\n",
    "# First, we will do it for the geolife dataset.\n",
    "geolife = spatial.create_jerk_from_prev_column(geolife)\n",
    "geolife.head()"
   ],
   "metadata": {
    "collapsed": false,
    "pycharm": {
     "name": "#%%\n"
    }
   }
  },
  {
   "cell_type": "code",
   "execution_count": 24,
   "outputs": [
    {
     "name": "stdout",
     "output_type": "stream",
     "text": [
      "CPU times: user 13.7 ms, sys: 7.12 ms, total: 20.8 ms\n",
      "Wall time: 18.8 ms\n"
     ]
    },
    {
     "data": {
      "text/plain": "                                             Name      Date  Time Event  \\\ntraj_id  DateTime                                                         \nAL021873 1873-08-13 00:00:00              UNNAMED  18730813     0         \n         1873-08-13 06:00:00              UNNAMED  18730813   600         \n         1873-08-13 12:00:00              UNNAMED  18730813  1200         \n         1873-08-13 18:00:00              UNNAMED  18730813  1800         \n         1873-08-14 00:00:00              UNNAMED  18730814     0         \n\n                             Status   lat   lon  Maximum Wind  \\\ntraj_id  DateTime                                               \nAL021873 1873-08-13 00:00:00     TS  13.9 -25.0            40   \n         1873-08-13 06:00:00     TS  14.0 -26.0            40   \n         1873-08-13 12:00:00     TS  14.0 -27.0            40   \n         1873-08-13 18:00:00     TS  14.1 -28.1            40   \n         1873-08-14 00:00:00     TS  14.1 -29.3            50   \n\n                              Minimum Pressure  Low Wind NE  ...  \\\ntraj_id  DateTime                                            ...   \nAL021873 1873-08-13 00:00:00              -999         -999  ...   \n         1873-08-13 06:00:00              -999         -999  ...   \n         1873-08-13 12:00:00              -999         -999  ...   \n         1873-08-13 18:00:00              -999         -999  ...   \n         1873-08-14 00:00:00              -999         -999  ...   \n\n                              Moderate Wind NW  High Wind NE  High Wind SE  \\\ntraj_id  DateTime                                                            \nAL021873 1873-08-13 00:00:00              -999          -999          -999   \n         1873-08-13 06:00:00              -999          -999          -999   \n         1873-08-13 12:00:00              -999          -999          -999   \n         1873-08-13 18:00:00              -999          -999          -999   \n         1873-08-14 00:00:00              -999          -999          -999   \n\n                              High Wind SW  High Wind NW  \\\ntraj_id  DateTime                                          \nAL021873 1873-08-13 00:00:00          -999          -999   \n         1873-08-13 06:00:00          -999          -999   \n         1873-08-13 12:00:00          -999          -999   \n         1873-08-13 18:00:00          -999          -999   \n         1873-08-14 00:00:00          -999          -999   \n\n                              Distance_prev_to_curr  Distance_start_to_curr  \\\ntraj_id  DateTime                                                             \nAL021873 1873-08-13 00:00:00                    NaN                     NaN   \n         1873-08-13 06:00:00          108486.658872           108486.658872   \n         1873-08-13 12:00:00          107891.881958           216116.369259   \n         1873-08-13 18:00:00          119175.045002           335201.031514   \n         1873-08-14 00:00:00          129413.676731           464461.502447   \n\n                              Speed_prev_to_curr  Acceleration_prev_to_curr  \\\ntraj_id  DateTime                                                             \nAL021873 1873-08-13 00:00:00                 NaN                        NaN   \n         1873-08-13 06:00:00            5.022531                        NaN   \n         1873-08-13 12:00:00            4.994995                  -0.000001   \n         1873-08-13 18:00:00            5.517363                   0.000024   \n         1873-08-14 00:00:00            5.991374                   0.000022   \n\n                              jerk_prev_to_curr  \ntraj_id  DateTime                                \nAL021873 1873-08-13 00:00:00                NaN  \n         1873-08-13 06:00:00                NaN  \n         1873-08-13 12:00:00                NaN  \n         1873-08-13 18:00:00       1.178636e-09  \n         1873-08-14 00:00:00      -1.036478e-10  \n\n[5 rows x 26 columns]",
      "text/html": "<div>\n<style scoped>\n    .dataframe tbody tr th:only-of-type {\n        vertical-align: middle;\n    }\n\n    .dataframe tbody tr th {\n        vertical-align: top;\n    }\n\n    .dataframe thead th {\n        text-align: right;\n    }\n</style>\n<table border=\"1\" class=\"dataframe\">\n  <thead>\n    <tr style=\"text-align: right;\">\n      <th></th>\n      <th></th>\n      <th>Name</th>\n      <th>Date</th>\n      <th>Time</th>\n      <th>Event</th>\n      <th>Status</th>\n      <th>lat</th>\n      <th>lon</th>\n      <th>Maximum Wind</th>\n      <th>Minimum Pressure</th>\n      <th>Low Wind NE</th>\n      <th>...</th>\n      <th>Moderate Wind NW</th>\n      <th>High Wind NE</th>\n      <th>High Wind SE</th>\n      <th>High Wind SW</th>\n      <th>High Wind NW</th>\n      <th>Distance_prev_to_curr</th>\n      <th>Distance_start_to_curr</th>\n      <th>Speed_prev_to_curr</th>\n      <th>Acceleration_prev_to_curr</th>\n      <th>jerk_prev_to_curr</th>\n    </tr>\n    <tr>\n      <th>traj_id</th>\n      <th>DateTime</th>\n      <th></th>\n      <th></th>\n      <th></th>\n      <th></th>\n      <th></th>\n      <th></th>\n      <th></th>\n      <th></th>\n      <th></th>\n      <th></th>\n      <th></th>\n      <th></th>\n      <th></th>\n      <th></th>\n      <th></th>\n      <th></th>\n      <th></th>\n      <th></th>\n      <th></th>\n      <th></th>\n      <th></th>\n    </tr>\n  </thead>\n  <tbody>\n    <tr>\n      <th rowspan=\"5\" valign=\"top\">AL021873</th>\n      <th>1873-08-13 00:00:00</th>\n      <td>UNNAMED</td>\n      <td>18730813</td>\n      <td>0</td>\n      <td></td>\n      <td>TS</td>\n      <td>13.9</td>\n      <td>-25.0</td>\n      <td>40</td>\n      <td>-999</td>\n      <td>-999</td>\n      <td>...</td>\n      <td>-999</td>\n      <td>-999</td>\n      <td>-999</td>\n      <td>-999</td>\n      <td>-999</td>\n      <td>NaN</td>\n      <td>NaN</td>\n      <td>NaN</td>\n      <td>NaN</td>\n      <td>NaN</td>\n    </tr>\n    <tr>\n      <th>1873-08-13 06:00:00</th>\n      <td>UNNAMED</td>\n      <td>18730813</td>\n      <td>600</td>\n      <td></td>\n      <td>TS</td>\n      <td>14.0</td>\n      <td>-26.0</td>\n      <td>40</td>\n      <td>-999</td>\n      <td>-999</td>\n      <td>...</td>\n      <td>-999</td>\n      <td>-999</td>\n      <td>-999</td>\n      <td>-999</td>\n      <td>-999</td>\n      <td>108486.658872</td>\n      <td>108486.658872</td>\n      <td>5.022531</td>\n      <td>NaN</td>\n      <td>NaN</td>\n    </tr>\n    <tr>\n      <th>1873-08-13 12:00:00</th>\n      <td>UNNAMED</td>\n      <td>18730813</td>\n      <td>1200</td>\n      <td></td>\n      <td>TS</td>\n      <td>14.0</td>\n      <td>-27.0</td>\n      <td>40</td>\n      <td>-999</td>\n      <td>-999</td>\n      <td>...</td>\n      <td>-999</td>\n      <td>-999</td>\n      <td>-999</td>\n      <td>-999</td>\n      <td>-999</td>\n      <td>107891.881958</td>\n      <td>216116.369259</td>\n      <td>4.994995</td>\n      <td>-0.000001</td>\n      <td>NaN</td>\n    </tr>\n    <tr>\n      <th>1873-08-13 18:00:00</th>\n      <td>UNNAMED</td>\n      <td>18730813</td>\n      <td>1800</td>\n      <td></td>\n      <td>TS</td>\n      <td>14.1</td>\n      <td>-28.1</td>\n      <td>40</td>\n      <td>-999</td>\n      <td>-999</td>\n      <td>...</td>\n      <td>-999</td>\n      <td>-999</td>\n      <td>-999</td>\n      <td>-999</td>\n      <td>-999</td>\n      <td>119175.045002</td>\n      <td>335201.031514</td>\n      <td>5.517363</td>\n      <td>0.000024</td>\n      <td>1.178636e-09</td>\n    </tr>\n    <tr>\n      <th>1873-08-14 00:00:00</th>\n      <td>UNNAMED</td>\n      <td>18730814</td>\n      <td>0</td>\n      <td></td>\n      <td>TS</td>\n      <td>14.1</td>\n      <td>-29.3</td>\n      <td>50</td>\n      <td>-999</td>\n      <td>-999</td>\n      <td>...</td>\n      <td>-999</td>\n      <td>-999</td>\n      <td>-999</td>\n      <td>-999</td>\n      <td>-999</td>\n      <td>129413.676731</td>\n      <td>464461.502447</td>\n      <td>5.991374</td>\n      <td>0.000022</td>\n      <td>-1.036478e-10</td>\n    </tr>\n  </tbody>\n</table>\n<p>5 rows × 26 columns</p>\n</div>"
     },
     "execution_count": 24,
     "metadata": {},
     "output_type": "execute_result"
    }
   ],
   "source": [
    "%%time\n",
    "\n",
    "# Now lets check the jerk for the atlantic dataset.\n",
    "atlantic = spatial.create_jerk_from_prev_column(atlantic)\n",
    "atlantic.head()"
   ],
   "metadata": {
    "collapsed": false,
    "pycharm": {
     "name": "#%%\n"
    }
   }
  },
  {
   "cell_type": "code",
   "execution_count": 25,
   "outputs": [
    {
     "name": "stdout",
     "output_type": "stream",
     "text": [
      "CPU times: user 25.1 ms, sys: 145 µs, total: 25.3 ms\n",
      "Wall time: 23.7 ms\n"
     ]
    },
    {
     "data": {
      "text/plain": "                               event-id  visible       lon       lat  \\\ntraj_id DateTime                                                       \n91732   2009-05-27 14:00:00  1082620685     True  24.58617  61.24783   \n        2009-05-27 20:00:00  1082620686     True  24.58217  61.23267   \n        2009-05-28 05:00:00  1082620687     True  24.53133  61.18833   \n        2009-05-28 08:00:00  1082620688     True  24.58200  61.23283   \n        2009-05-28 14:00:00  1082620689     True  24.58250  61.23267   \n\n                            sensor-type individual-taxon-canonical-name  \\\ntraj_id DateTime                                                          \n91732   2009-05-27 14:00:00         gps                    Larus fuscus   \n        2009-05-27 20:00:00         gps                    Larus fuscus   \n        2009-05-28 05:00:00         gps                    Larus fuscus   \n        2009-05-28 08:00:00         gps                    Larus fuscus   \n        2009-05-28 14:00:00         gps                    Larus fuscus   \n\n                            individual-local-identifier  \\\ntraj_id DateTime                                          \n91732   2009-05-27 14:00:00                      91732A   \n        2009-05-27 20:00:00                      91732A   \n        2009-05-28 05:00:00                      91732A   \n        2009-05-28 08:00:00                      91732A   \n        2009-05-28 14:00:00                      91732A   \n\n                                                                    study-name  \\\ntraj_id DateTime                                                                 \n91732   2009-05-27 14:00:00  Navigation experiments in lesser black-backed ...   \n        2009-05-27 20:00:00  Navigation experiments in lesser black-backed ...   \n        2009-05-28 05:00:00  Navigation experiments in lesser black-backed ...   \n        2009-05-28 08:00:00  Navigation experiments in lesser black-backed ...   \n        2009-05-28 14:00:00  Navigation experiments in lesser black-backed ...   \n\n                             Distance_prev_to_curr  Distance_start_to_curr  \\\ntraj_id DateTime                                                             \n91732   2009-05-27 14:00:00                    NaN                     NaN   \n        2009-05-27 20:00:00            1699.244398             1699.244398   \n        2009-05-28 05:00:00            5632.120064             7238.295521   \n        2009-05-28 08:00:00            5643.314949             1682.777895   \n        2009-05-28 14:00:00              32.131494             1697.111327   \n\n                             Speed_prev_to_curr  Acceleration_prev_to_curr  \\\ntraj_id DateTime                                                             \n91732   2009-05-27 14:00:00                 NaN                        NaN   \n        2009-05-27 20:00:00            0.078669                        NaN   \n        2009-05-28 05:00:00            0.173831                   0.000003   \n        2009-05-28 08:00:00            0.522529                   0.000032   \n        2009-05-28 14:00:00            0.001488                  -0.000024   \n\n                             jerk_prev_to_curr  \ntraj_id DateTime                                \n91732   2009-05-27 14:00:00                NaN  \n        2009-05-27 20:00:00                NaN  \n        2009-05-28 05:00:00                NaN  \n        2009-05-28 08:00:00       2.717572e-09  \n        2009-05-28 14:00:00      -2.611536e-09  ",
      "text/html": "<div>\n<style scoped>\n    .dataframe tbody tr th:only-of-type {\n        vertical-align: middle;\n    }\n\n    .dataframe tbody tr th {\n        vertical-align: top;\n    }\n\n    .dataframe thead th {\n        text-align: right;\n    }\n</style>\n<table border=\"1\" class=\"dataframe\">\n  <thead>\n    <tr style=\"text-align: right;\">\n      <th></th>\n      <th></th>\n      <th>event-id</th>\n      <th>visible</th>\n      <th>lon</th>\n      <th>lat</th>\n      <th>sensor-type</th>\n      <th>individual-taxon-canonical-name</th>\n      <th>individual-local-identifier</th>\n      <th>study-name</th>\n      <th>Distance_prev_to_curr</th>\n      <th>Distance_start_to_curr</th>\n      <th>Speed_prev_to_curr</th>\n      <th>Acceleration_prev_to_curr</th>\n      <th>jerk_prev_to_curr</th>\n    </tr>\n    <tr>\n      <th>traj_id</th>\n      <th>DateTime</th>\n      <th></th>\n      <th></th>\n      <th></th>\n      <th></th>\n      <th></th>\n      <th></th>\n      <th></th>\n      <th></th>\n      <th></th>\n      <th></th>\n      <th></th>\n      <th></th>\n      <th></th>\n    </tr>\n  </thead>\n  <tbody>\n    <tr>\n      <th rowspan=\"5\" valign=\"top\">91732</th>\n      <th>2009-05-27 14:00:00</th>\n      <td>1082620685</td>\n      <td>True</td>\n      <td>24.58617</td>\n      <td>61.24783</td>\n      <td>gps</td>\n      <td>Larus fuscus</td>\n      <td>91732A</td>\n      <td>Navigation experiments in lesser black-backed ...</td>\n      <td>NaN</td>\n      <td>NaN</td>\n      <td>NaN</td>\n      <td>NaN</td>\n      <td>NaN</td>\n    </tr>\n    <tr>\n      <th>2009-05-27 20:00:00</th>\n      <td>1082620686</td>\n      <td>True</td>\n      <td>24.58217</td>\n      <td>61.23267</td>\n      <td>gps</td>\n      <td>Larus fuscus</td>\n      <td>91732A</td>\n      <td>Navigation experiments in lesser black-backed ...</td>\n      <td>1699.244398</td>\n      <td>1699.244398</td>\n      <td>0.078669</td>\n      <td>NaN</td>\n      <td>NaN</td>\n    </tr>\n    <tr>\n      <th>2009-05-28 05:00:00</th>\n      <td>1082620687</td>\n      <td>True</td>\n      <td>24.53133</td>\n      <td>61.18833</td>\n      <td>gps</td>\n      <td>Larus fuscus</td>\n      <td>91732A</td>\n      <td>Navigation experiments in lesser black-backed ...</td>\n      <td>5632.120064</td>\n      <td>7238.295521</td>\n      <td>0.173831</td>\n      <td>0.000003</td>\n      <td>NaN</td>\n    </tr>\n    <tr>\n      <th>2009-05-28 08:00:00</th>\n      <td>1082620688</td>\n      <td>True</td>\n      <td>24.58200</td>\n      <td>61.23283</td>\n      <td>gps</td>\n      <td>Larus fuscus</td>\n      <td>91732A</td>\n      <td>Navigation experiments in lesser black-backed ...</td>\n      <td>5643.314949</td>\n      <td>1682.777895</td>\n      <td>0.522529</td>\n      <td>0.000032</td>\n      <td>2.717572e-09</td>\n    </tr>\n    <tr>\n      <th>2009-05-28 14:00:00</th>\n      <td>1082620689</td>\n      <td>True</td>\n      <td>24.58250</td>\n      <td>61.23267</td>\n      <td>gps</td>\n      <td>Larus fuscus</td>\n      <td>91732A</td>\n      <td>Navigation experiments in lesser black-backed ...</td>\n      <td>32.131494</td>\n      <td>1697.111327</td>\n      <td>0.001488</td>\n      <td>-0.000024</td>\n      <td>-2.611536e-09</td>\n    </tr>\n  </tbody>\n</table>\n</div>"
     },
     "execution_count": 25,
     "metadata": {},
     "output_type": "execute_result"
    }
   ],
   "source": [
    "%%time\n",
    "\n",
    "# Now, lets check the jerk for the seagulls dataset.\n",
    "gulls = spatial.create_jerk_from_prev_column(gulls)\n",
    "gulls.head()"
   ],
   "metadata": {
    "collapsed": false,
    "pycharm": {
     "name": "#%%\n"
    }
   }
  },
  {
   "cell_type": "code",
   "execution_count": 26,
   "outputs": [
    {
     "name": "stdout",
     "output_type": "stream",
     "text": [
      "CPU times: user 404 ms, sys: 27.9 ms, total: 432 ms\n",
      "Wall time: 430 ms\n"
     ]
    },
    {
     "data": {
      "text/plain": "                                   lat         lon  Distance_prev_to_curr  \\\ntraj_id DateTime                                                            \n5       2008-10-24 04:12:30  40.004155  116.321337                    NaN   \n        2008-10-24 04:12:35  40.003834  116.321462              37.247654   \n        2008-10-24 04:12:40  40.003783  116.321431               6.255518   \n        2008-10-24 04:12:45  40.003690  116.321429              10.342531   \n        2008-10-24 04:12:50  40.003589  116.321427              11.231979   \n\n                             Distance_start_to_curr  Distance_to_(0, 0)  \\\ntraj_id DateTime                                                          \n5       2008-10-24 04:12:30                     NaN        1.221536e+07   \n        2008-10-24 04:12:35               37.247654        1.221538e+07   \n        2008-10-24 04:12:40               42.132251        1.221538e+07   \n        2008-10-24 04:12:45               52.296064        1.221538e+07   \n        2008-10-24 04:12:50               63.401465        1.221539e+07   \n\n                             Within_15000000_m_from_(0, 0)  \\\ntraj_id DateTime                                             \n5       2008-10-24 04:12:30                           True   \n        2008-10-24 04:12:35                           True   \n        2008-10-24 04:12:40                           True   \n        2008-10-24 04:12:45                           True   \n        2008-10-24 04:12:50                           True   \n\n                             Speed_prev_to_curr  Acceleration_prev_to_curr  \\\ntraj_id DateTime                                                             \n5       2008-10-24 04:12:30                 NaN                        NaN   \n        2008-10-24 04:12:35            7.449531                        NaN   \n        2008-10-24 04:12:40            1.251104                  -1.239685   \n        2008-10-24 04:12:45            2.068506                   0.163481   \n        2008-10-24 04:12:50            2.246396                   0.035578   \n\n                             jerk_prev_to_curr  Bearing_between_consecutive  \ntraj_id DateTime                                                             \n5       2008-10-24 04:12:30                NaN                          NaN  \n        2008-10-24 04:12:35                NaN                   163.390830  \n        2008-10-24 04:12:40                NaN                  -155.032885  \n        2008-10-24 04:12:45           0.280633                  -179.056241  \n        2008-10-24 04:12:50          -0.025581                  -179.130981  ",
      "text/html": "<div>\n<style scoped>\n    .dataframe tbody tr th:only-of-type {\n        vertical-align: middle;\n    }\n\n    .dataframe tbody tr th {\n        vertical-align: top;\n    }\n\n    .dataframe thead th {\n        text-align: right;\n    }\n</style>\n<table border=\"1\" class=\"dataframe\">\n  <thead>\n    <tr style=\"text-align: right;\">\n      <th></th>\n      <th></th>\n      <th>lat</th>\n      <th>lon</th>\n      <th>Distance_prev_to_curr</th>\n      <th>Distance_start_to_curr</th>\n      <th>Distance_to_(0, 0)</th>\n      <th>Within_15000000_m_from_(0, 0)</th>\n      <th>Speed_prev_to_curr</th>\n      <th>Acceleration_prev_to_curr</th>\n      <th>jerk_prev_to_curr</th>\n      <th>Bearing_between_consecutive</th>\n    </tr>\n    <tr>\n      <th>traj_id</th>\n      <th>DateTime</th>\n      <th></th>\n      <th></th>\n      <th></th>\n      <th></th>\n      <th></th>\n      <th></th>\n      <th></th>\n      <th></th>\n      <th></th>\n      <th></th>\n    </tr>\n  </thead>\n  <tbody>\n    <tr>\n      <th rowspan=\"5\" valign=\"top\">5</th>\n      <th>2008-10-24 04:12:30</th>\n      <td>40.004155</td>\n      <td>116.321337</td>\n      <td>NaN</td>\n      <td>NaN</td>\n      <td>1.221536e+07</td>\n      <td>True</td>\n      <td>NaN</td>\n      <td>NaN</td>\n      <td>NaN</td>\n      <td>NaN</td>\n    </tr>\n    <tr>\n      <th>2008-10-24 04:12:35</th>\n      <td>40.003834</td>\n      <td>116.321462</td>\n      <td>37.247654</td>\n      <td>37.247654</td>\n      <td>1.221538e+07</td>\n      <td>True</td>\n      <td>7.449531</td>\n      <td>NaN</td>\n      <td>NaN</td>\n      <td>163.390830</td>\n    </tr>\n    <tr>\n      <th>2008-10-24 04:12:40</th>\n      <td>40.003783</td>\n      <td>116.321431</td>\n      <td>6.255518</td>\n      <td>42.132251</td>\n      <td>1.221538e+07</td>\n      <td>True</td>\n      <td>1.251104</td>\n      <td>-1.239685</td>\n      <td>NaN</td>\n      <td>-155.032885</td>\n    </tr>\n    <tr>\n      <th>2008-10-24 04:12:45</th>\n      <td>40.003690</td>\n      <td>116.321429</td>\n      <td>10.342531</td>\n      <td>52.296064</td>\n      <td>1.221538e+07</td>\n      <td>True</td>\n      <td>2.068506</td>\n      <td>0.163481</td>\n      <td>0.280633</td>\n      <td>-179.056241</td>\n    </tr>\n    <tr>\n      <th>2008-10-24 04:12:50</th>\n      <td>40.003589</td>\n      <td>116.321427</td>\n      <td>11.231979</td>\n      <td>63.401465</td>\n      <td>1.221539e+07</td>\n      <td>True</td>\n      <td>2.246396</td>\n      <td>0.035578</td>\n      <td>-0.025581</td>\n      <td>-179.130981</td>\n    </tr>\n  </tbody>\n</table>\n</div>"
     },
     "execution_count": 26,
     "metadata": {},
     "output_type": "execute_result"
    }
   ],
   "source": [
    "%%time\n",
    "\n",
    "# Now lets check the bearing between 2 consecutive\n",
    "# points.\n",
    "# First, we will do it for the geolife dataset.\n",
    "geolife = spatial.create_bearing_column(geolife)\n",
    "geolife.head()"
   ],
   "metadata": {
    "collapsed": false,
    "pycharm": {
     "name": "#%%\n"
    }
   }
  },
  {
   "cell_type": "code",
   "execution_count": 27,
   "outputs": [
    {
     "name": "stdout",
     "output_type": "stream",
     "text": [
      "CPU times: user 370 ms, sys: 235 ms, total: 605 ms\n",
      "Wall time: 1.35 s\n"
     ]
    },
    {
     "data": {
      "text/plain": "                                             Name      Date  Time Event  \\\ntraj_id  DateTime                                                         \nAL021873 1873-08-13 00:00:00              UNNAMED  18730813     0         \n         1873-08-13 06:00:00              UNNAMED  18730813   600         \n         1873-08-13 12:00:00              UNNAMED  18730813  1200         \n         1873-08-13 18:00:00              UNNAMED  18730813  1800         \n         1873-08-14 00:00:00              UNNAMED  18730814     0         \n\n                             Status   lat   lon  Maximum Wind  \\\ntraj_id  DateTime                                               \nAL021873 1873-08-13 00:00:00     TS  13.9 -25.0            40   \n         1873-08-13 06:00:00     TS  14.0 -26.0            40   \n         1873-08-13 12:00:00     TS  14.0 -27.0            40   \n         1873-08-13 18:00:00     TS  14.1 -28.1            40   \n         1873-08-14 00:00:00     TS  14.1 -29.3            50   \n\n                              Minimum Pressure  Low Wind NE  ...  \\\ntraj_id  DateTime                                            ...   \nAL021873 1873-08-13 00:00:00              -999         -999  ...   \n         1873-08-13 06:00:00              -999         -999  ...   \n         1873-08-13 12:00:00              -999         -999  ...   \n         1873-08-13 18:00:00              -999         -999  ...   \n         1873-08-14 00:00:00              -999         -999  ...   \n\n                              High Wind NE  High Wind SE  High Wind SW  \\\ntraj_id  DateTime                                                        \nAL021873 1873-08-13 00:00:00          -999          -999          -999   \n         1873-08-13 06:00:00          -999          -999          -999   \n         1873-08-13 12:00:00          -999          -999          -999   \n         1873-08-13 18:00:00          -999          -999          -999   \n         1873-08-14 00:00:00          -999          -999          -999   \n\n                              High Wind NW  Distance_prev_to_curr  \\\ntraj_id  DateTime                                                   \nAL021873 1873-08-13 00:00:00          -999                    NaN   \n         1873-08-13 06:00:00          -999          108486.658872   \n         1873-08-13 12:00:00          -999          107891.881958   \n         1873-08-13 18:00:00          -999          119175.045002   \n         1873-08-14 00:00:00          -999          129413.676731   \n\n                              Distance_start_to_curr  Speed_prev_to_curr  \\\ntraj_id  DateTime                                                          \nAL021873 1873-08-13 00:00:00                     NaN                 NaN   \n         1873-08-13 06:00:00           108486.658872            5.022531   \n         1873-08-13 12:00:00           216116.369259            4.994995   \n         1873-08-13 18:00:00           335201.031514            5.517363   \n         1873-08-14 00:00:00           464461.502447            5.991374   \n\n                              Acceleration_prev_to_curr  jerk_prev_to_curr  \\\ntraj_id  DateTime                                                            \nAL021873 1873-08-13 00:00:00                        NaN                NaN   \n         1873-08-13 06:00:00                        NaN                NaN   \n         1873-08-13 12:00:00                  -0.000001                NaN   \n         1873-08-13 18:00:00                   0.000024       1.178636e-09   \n         1873-08-14 00:00:00                   0.000022      -1.036478e-10   \n\n                              Bearing_between_consecutive  \ntraj_id  DateTime                                          \nAL021873 1873-08-13 00:00:00                          NaN  \n         1873-08-13 06:00:00                   -83.996671  \n         1873-08-13 12:00:00                   -89.879036  \n         1873-08-13 18:00:00                   -84.512938  \n         1873-08-14 00:00:00                   -89.853826  \n\n[5 rows x 27 columns]",
      "text/html": "<div>\n<style scoped>\n    .dataframe tbody tr th:only-of-type {\n        vertical-align: middle;\n    }\n\n    .dataframe tbody tr th {\n        vertical-align: top;\n    }\n\n    .dataframe thead th {\n        text-align: right;\n    }\n</style>\n<table border=\"1\" class=\"dataframe\">\n  <thead>\n    <tr style=\"text-align: right;\">\n      <th></th>\n      <th></th>\n      <th>Name</th>\n      <th>Date</th>\n      <th>Time</th>\n      <th>Event</th>\n      <th>Status</th>\n      <th>lat</th>\n      <th>lon</th>\n      <th>Maximum Wind</th>\n      <th>Minimum Pressure</th>\n      <th>Low Wind NE</th>\n      <th>...</th>\n      <th>High Wind NE</th>\n      <th>High Wind SE</th>\n      <th>High Wind SW</th>\n      <th>High Wind NW</th>\n      <th>Distance_prev_to_curr</th>\n      <th>Distance_start_to_curr</th>\n      <th>Speed_prev_to_curr</th>\n      <th>Acceleration_prev_to_curr</th>\n      <th>jerk_prev_to_curr</th>\n      <th>Bearing_between_consecutive</th>\n    </tr>\n    <tr>\n      <th>traj_id</th>\n      <th>DateTime</th>\n      <th></th>\n      <th></th>\n      <th></th>\n      <th></th>\n      <th></th>\n      <th></th>\n      <th></th>\n      <th></th>\n      <th></th>\n      <th></th>\n      <th></th>\n      <th></th>\n      <th></th>\n      <th></th>\n      <th></th>\n      <th></th>\n      <th></th>\n      <th></th>\n      <th></th>\n      <th></th>\n      <th></th>\n    </tr>\n  </thead>\n  <tbody>\n    <tr>\n      <th rowspan=\"5\" valign=\"top\">AL021873</th>\n      <th>1873-08-13 00:00:00</th>\n      <td>UNNAMED</td>\n      <td>18730813</td>\n      <td>0</td>\n      <td></td>\n      <td>TS</td>\n      <td>13.9</td>\n      <td>-25.0</td>\n      <td>40</td>\n      <td>-999</td>\n      <td>-999</td>\n      <td>...</td>\n      <td>-999</td>\n      <td>-999</td>\n      <td>-999</td>\n      <td>-999</td>\n      <td>NaN</td>\n      <td>NaN</td>\n      <td>NaN</td>\n      <td>NaN</td>\n      <td>NaN</td>\n      <td>NaN</td>\n    </tr>\n    <tr>\n      <th>1873-08-13 06:00:00</th>\n      <td>UNNAMED</td>\n      <td>18730813</td>\n      <td>600</td>\n      <td></td>\n      <td>TS</td>\n      <td>14.0</td>\n      <td>-26.0</td>\n      <td>40</td>\n      <td>-999</td>\n      <td>-999</td>\n      <td>...</td>\n      <td>-999</td>\n      <td>-999</td>\n      <td>-999</td>\n      <td>-999</td>\n      <td>108486.658872</td>\n      <td>108486.658872</td>\n      <td>5.022531</td>\n      <td>NaN</td>\n      <td>NaN</td>\n      <td>-83.996671</td>\n    </tr>\n    <tr>\n      <th>1873-08-13 12:00:00</th>\n      <td>UNNAMED</td>\n      <td>18730813</td>\n      <td>1200</td>\n      <td></td>\n      <td>TS</td>\n      <td>14.0</td>\n      <td>-27.0</td>\n      <td>40</td>\n      <td>-999</td>\n      <td>-999</td>\n      <td>...</td>\n      <td>-999</td>\n      <td>-999</td>\n      <td>-999</td>\n      <td>-999</td>\n      <td>107891.881958</td>\n      <td>216116.369259</td>\n      <td>4.994995</td>\n      <td>-0.000001</td>\n      <td>NaN</td>\n      <td>-89.879036</td>\n    </tr>\n    <tr>\n      <th>1873-08-13 18:00:00</th>\n      <td>UNNAMED</td>\n      <td>18730813</td>\n      <td>1800</td>\n      <td></td>\n      <td>TS</td>\n      <td>14.1</td>\n      <td>-28.1</td>\n      <td>40</td>\n      <td>-999</td>\n      <td>-999</td>\n      <td>...</td>\n      <td>-999</td>\n      <td>-999</td>\n      <td>-999</td>\n      <td>-999</td>\n      <td>119175.045002</td>\n      <td>335201.031514</td>\n      <td>5.517363</td>\n      <td>0.000024</td>\n      <td>1.178636e-09</td>\n      <td>-84.512938</td>\n    </tr>\n    <tr>\n      <th>1873-08-14 00:00:00</th>\n      <td>UNNAMED</td>\n      <td>18730814</td>\n      <td>0</td>\n      <td></td>\n      <td>TS</td>\n      <td>14.1</td>\n      <td>-29.3</td>\n      <td>50</td>\n      <td>-999</td>\n      <td>-999</td>\n      <td>...</td>\n      <td>-999</td>\n      <td>-999</td>\n      <td>-999</td>\n      <td>-999</td>\n      <td>129413.676731</td>\n      <td>464461.502447</td>\n      <td>5.991374</td>\n      <td>0.000022</td>\n      <td>-1.036478e-10</td>\n      <td>-89.853826</td>\n    </tr>\n  </tbody>\n</table>\n<p>5 rows × 27 columns</p>\n</div>"
     },
     "execution_count": 27,
     "metadata": {},
     "output_type": "execute_result"
    }
   ],
   "source": [
    "%%time\n",
    "\n",
    "# Now lets check the bearing for the atlantic dataset.\n",
    "atlantic = spatial.create_bearing_column(atlantic)\n",
    "atlantic.head()"
   ],
   "metadata": {
    "collapsed": false,
    "pycharm": {
     "name": "#%%\n"
    }
   }
  },
  {
   "cell_type": "code",
   "execution_count": 28,
   "outputs": [
    {
     "name": "stdout",
     "output_type": "stream",
     "text": [
      "CPU times: user 178 ms, sys: 71.9 ms, total: 250 ms\n",
      "Wall time: 487 ms\n"
     ]
    },
    {
     "data": {
      "text/plain": "                               event-id  visible       lon       lat  \\\ntraj_id DateTime                                                       \n91732   2009-05-27 14:00:00  1082620685     True  24.58617  61.24783   \n        2009-05-27 20:00:00  1082620686     True  24.58217  61.23267   \n        2009-05-28 05:00:00  1082620687     True  24.53133  61.18833   \n        2009-05-28 08:00:00  1082620688     True  24.58200  61.23283   \n        2009-05-28 14:00:00  1082620689     True  24.58250  61.23267   \n\n                            sensor-type individual-taxon-canonical-name  \\\ntraj_id DateTime                                                          \n91732   2009-05-27 14:00:00         gps                    Larus fuscus   \n        2009-05-27 20:00:00         gps                    Larus fuscus   \n        2009-05-28 05:00:00         gps                    Larus fuscus   \n        2009-05-28 08:00:00         gps                    Larus fuscus   \n        2009-05-28 14:00:00         gps                    Larus fuscus   \n\n                            individual-local-identifier  \\\ntraj_id DateTime                                          \n91732   2009-05-27 14:00:00                      91732A   \n        2009-05-27 20:00:00                      91732A   \n        2009-05-28 05:00:00                      91732A   \n        2009-05-28 08:00:00                      91732A   \n        2009-05-28 14:00:00                      91732A   \n\n                                                                    study-name  \\\ntraj_id DateTime                                                                 \n91732   2009-05-27 14:00:00  Navigation experiments in lesser black-backed ...   \n        2009-05-27 20:00:00  Navigation experiments in lesser black-backed ...   \n        2009-05-28 05:00:00  Navigation experiments in lesser black-backed ...   \n        2009-05-28 08:00:00  Navigation experiments in lesser black-backed ...   \n        2009-05-28 14:00:00  Navigation experiments in lesser black-backed ...   \n\n                             Distance_prev_to_curr  Distance_start_to_curr  \\\ntraj_id DateTime                                                             \n91732   2009-05-27 14:00:00                    NaN                     NaN   \n        2009-05-27 20:00:00            1699.244398             1699.244398   \n        2009-05-28 05:00:00            5632.120064             7238.295521   \n        2009-05-28 08:00:00            5643.314949             1682.777895   \n        2009-05-28 14:00:00              32.131494             1697.111327   \n\n                             Speed_prev_to_curr  Acceleration_prev_to_curr  \\\ntraj_id DateTime                                                             \n91732   2009-05-27 14:00:00                 NaN                        NaN   \n        2009-05-27 20:00:00            0.078669                        NaN   \n        2009-05-28 05:00:00            0.173831                   0.000003   \n        2009-05-28 08:00:00            0.522529                   0.000032   \n        2009-05-28 14:00:00            0.001488                  -0.000024   \n\n                             jerk_prev_to_curr  Bearing_between_consecutive  \ntraj_id DateTime                                                             \n91732   2009-05-27 14:00:00                NaN                          NaN  \n        2009-05-27 20:00:00                NaN                  -172.763287  \n        2009-05-28 05:00:00                NaN                  -151.070593  \n        2009-05-28 08:00:00       2.717572e-09                    28.716637  \n        2009-05-28 14:00:00      -2.611536e-09                   123.620959  ",
      "text/html": "<div>\n<style scoped>\n    .dataframe tbody tr th:only-of-type {\n        vertical-align: middle;\n    }\n\n    .dataframe tbody tr th {\n        vertical-align: top;\n    }\n\n    .dataframe thead th {\n        text-align: right;\n    }\n</style>\n<table border=\"1\" class=\"dataframe\">\n  <thead>\n    <tr style=\"text-align: right;\">\n      <th></th>\n      <th></th>\n      <th>event-id</th>\n      <th>visible</th>\n      <th>lon</th>\n      <th>lat</th>\n      <th>sensor-type</th>\n      <th>individual-taxon-canonical-name</th>\n      <th>individual-local-identifier</th>\n      <th>study-name</th>\n      <th>Distance_prev_to_curr</th>\n      <th>Distance_start_to_curr</th>\n      <th>Speed_prev_to_curr</th>\n      <th>Acceleration_prev_to_curr</th>\n      <th>jerk_prev_to_curr</th>\n      <th>Bearing_between_consecutive</th>\n    </tr>\n    <tr>\n      <th>traj_id</th>\n      <th>DateTime</th>\n      <th></th>\n      <th></th>\n      <th></th>\n      <th></th>\n      <th></th>\n      <th></th>\n      <th></th>\n      <th></th>\n      <th></th>\n      <th></th>\n      <th></th>\n      <th></th>\n      <th></th>\n      <th></th>\n    </tr>\n  </thead>\n  <tbody>\n    <tr>\n      <th rowspan=\"5\" valign=\"top\">91732</th>\n      <th>2009-05-27 14:00:00</th>\n      <td>1082620685</td>\n      <td>True</td>\n      <td>24.58617</td>\n      <td>61.24783</td>\n      <td>gps</td>\n      <td>Larus fuscus</td>\n      <td>91732A</td>\n      <td>Navigation experiments in lesser black-backed ...</td>\n      <td>NaN</td>\n      <td>NaN</td>\n      <td>NaN</td>\n      <td>NaN</td>\n      <td>NaN</td>\n      <td>NaN</td>\n    </tr>\n    <tr>\n      <th>2009-05-27 20:00:00</th>\n      <td>1082620686</td>\n      <td>True</td>\n      <td>24.58217</td>\n      <td>61.23267</td>\n      <td>gps</td>\n      <td>Larus fuscus</td>\n      <td>91732A</td>\n      <td>Navigation experiments in lesser black-backed ...</td>\n      <td>1699.244398</td>\n      <td>1699.244398</td>\n      <td>0.078669</td>\n      <td>NaN</td>\n      <td>NaN</td>\n      <td>-172.763287</td>\n    </tr>\n    <tr>\n      <th>2009-05-28 05:00:00</th>\n      <td>1082620687</td>\n      <td>True</td>\n      <td>24.53133</td>\n      <td>61.18833</td>\n      <td>gps</td>\n      <td>Larus fuscus</td>\n      <td>91732A</td>\n      <td>Navigation experiments in lesser black-backed ...</td>\n      <td>5632.120064</td>\n      <td>7238.295521</td>\n      <td>0.173831</td>\n      <td>0.000003</td>\n      <td>NaN</td>\n      <td>-151.070593</td>\n    </tr>\n    <tr>\n      <th>2009-05-28 08:00:00</th>\n      <td>1082620688</td>\n      <td>True</td>\n      <td>24.58200</td>\n      <td>61.23283</td>\n      <td>gps</td>\n      <td>Larus fuscus</td>\n      <td>91732A</td>\n      <td>Navigation experiments in lesser black-backed ...</td>\n      <td>5643.314949</td>\n      <td>1682.777895</td>\n      <td>0.522529</td>\n      <td>0.000032</td>\n      <td>2.717572e-09</td>\n      <td>28.716637</td>\n    </tr>\n    <tr>\n      <th>2009-05-28 14:00:00</th>\n      <td>1082620689</td>\n      <td>True</td>\n      <td>24.58250</td>\n      <td>61.23267</td>\n      <td>gps</td>\n      <td>Larus fuscus</td>\n      <td>91732A</td>\n      <td>Navigation experiments in lesser black-backed ...</td>\n      <td>32.131494</td>\n      <td>1697.111327</td>\n      <td>0.001488</td>\n      <td>-0.000024</td>\n      <td>-2.611536e-09</td>\n      <td>123.620959</td>\n    </tr>\n  </tbody>\n</table>\n</div>"
     },
     "execution_count": 28,
     "metadata": {},
     "output_type": "execute_result"
    }
   ],
   "source": [
    "%%time\n",
    "\n",
    "# Now lets check the bearing for the seagulls dataset.\n",
    "gulls = spatial.create_bearing_column(gulls)\n",
    "gulls.head()\n"
   ],
   "metadata": {
    "collapsed": false,
    "pycharm": {
     "name": "#%%\n"
    }
   }
  },
  {
   "cell_type": "code",
   "execution_count": 29,
   "outputs": [
    {
     "name": "stdout",
     "output_type": "stream",
     "text": [
      "CPU times: user 26.9 ms, sys: 6.6 ms, total: 33.5 ms\n",
      "Wall time: 32.4 ms\n"
     ]
    },
    {
     "data": {
      "text/plain": "                                   lat         lon  Distance_prev_to_curr  \\\ntraj_id DateTime                                                            \n5       2008-10-24 04:12:30  40.004155  116.321337                    NaN   \n        2008-10-24 04:12:35  40.003834  116.321462              37.247654   \n        2008-10-24 04:12:40  40.003783  116.321431               6.255518   \n        2008-10-24 04:12:45  40.003690  116.321429              10.342531   \n        2008-10-24 04:12:50  40.003589  116.321427              11.231979   \n\n                             Distance_start_to_curr  Distance_to_(0, 0)  \\\ntraj_id DateTime                                                          \n5       2008-10-24 04:12:30                     NaN        1.221536e+07   \n        2008-10-24 04:12:35               37.247654        1.221538e+07   \n        2008-10-24 04:12:40               42.132251        1.221538e+07   \n        2008-10-24 04:12:45               52.296064        1.221538e+07   \n        2008-10-24 04:12:50               63.401465        1.221539e+07   \n\n                             Within_15000000_m_from_(0, 0)  \\\ntraj_id DateTime                                             \n5       2008-10-24 04:12:30                           True   \n        2008-10-24 04:12:35                           True   \n        2008-10-24 04:12:40                           True   \n        2008-10-24 04:12:45                           True   \n        2008-10-24 04:12:50                           True   \n\n                             Speed_prev_to_curr  Acceleration_prev_to_curr  \\\ntraj_id DateTime                                                             \n5       2008-10-24 04:12:30                 NaN                        NaN   \n        2008-10-24 04:12:35            7.449531                        NaN   \n        2008-10-24 04:12:40            1.251104                  -1.239685   \n        2008-10-24 04:12:45            2.068506                   0.163481   \n        2008-10-24 04:12:50            2.246396                   0.035578   \n\n                             jerk_prev_to_curr  Bearing_between_consecutive  \\\ntraj_id DateTime                                                              \n5       2008-10-24 04:12:30                NaN                          NaN   \n        2008-10-24 04:12:35                NaN                   163.390830   \n        2008-10-24 04:12:40                NaN                  -155.032885   \n        2008-10-24 04:12:45           0.280633                  -179.056241   \n        2008-10-24 04:12:50          -0.025581                  -179.130981   \n\n                             Bearing_rate_from_prev  \ntraj_id DateTime                                     \n5       2008-10-24 04:12:30                     NaN  \n        2008-10-24 04:12:35                     NaN  \n        2008-10-24 04:12:40              -63.684743  \n        2008-10-24 04:12:45               -4.804671  \n        2008-10-24 04:12:50               -0.014948  ",
      "text/html": "<div>\n<style scoped>\n    .dataframe tbody tr th:only-of-type {\n        vertical-align: middle;\n    }\n\n    .dataframe tbody tr th {\n        vertical-align: top;\n    }\n\n    .dataframe thead th {\n        text-align: right;\n    }\n</style>\n<table border=\"1\" class=\"dataframe\">\n  <thead>\n    <tr style=\"text-align: right;\">\n      <th></th>\n      <th></th>\n      <th>lat</th>\n      <th>lon</th>\n      <th>Distance_prev_to_curr</th>\n      <th>Distance_start_to_curr</th>\n      <th>Distance_to_(0, 0)</th>\n      <th>Within_15000000_m_from_(0, 0)</th>\n      <th>Speed_prev_to_curr</th>\n      <th>Acceleration_prev_to_curr</th>\n      <th>jerk_prev_to_curr</th>\n      <th>Bearing_between_consecutive</th>\n      <th>Bearing_rate_from_prev</th>\n    </tr>\n    <tr>\n      <th>traj_id</th>\n      <th>DateTime</th>\n      <th></th>\n      <th></th>\n      <th></th>\n      <th></th>\n      <th></th>\n      <th></th>\n      <th></th>\n      <th></th>\n      <th></th>\n      <th></th>\n      <th></th>\n    </tr>\n  </thead>\n  <tbody>\n    <tr>\n      <th rowspan=\"5\" valign=\"top\">5</th>\n      <th>2008-10-24 04:12:30</th>\n      <td>40.004155</td>\n      <td>116.321337</td>\n      <td>NaN</td>\n      <td>NaN</td>\n      <td>1.221536e+07</td>\n      <td>True</td>\n      <td>NaN</td>\n      <td>NaN</td>\n      <td>NaN</td>\n      <td>NaN</td>\n      <td>NaN</td>\n    </tr>\n    <tr>\n      <th>2008-10-24 04:12:35</th>\n      <td>40.003834</td>\n      <td>116.321462</td>\n      <td>37.247654</td>\n      <td>37.247654</td>\n      <td>1.221538e+07</td>\n      <td>True</td>\n      <td>7.449531</td>\n      <td>NaN</td>\n      <td>NaN</td>\n      <td>163.390830</td>\n      <td>NaN</td>\n    </tr>\n    <tr>\n      <th>2008-10-24 04:12:40</th>\n      <td>40.003783</td>\n      <td>116.321431</td>\n      <td>6.255518</td>\n      <td>42.132251</td>\n      <td>1.221538e+07</td>\n      <td>True</td>\n      <td>1.251104</td>\n      <td>-1.239685</td>\n      <td>NaN</td>\n      <td>-155.032885</td>\n      <td>-63.684743</td>\n    </tr>\n    <tr>\n      <th>2008-10-24 04:12:45</th>\n      <td>40.003690</td>\n      <td>116.321429</td>\n      <td>10.342531</td>\n      <td>52.296064</td>\n      <td>1.221538e+07</td>\n      <td>True</td>\n      <td>2.068506</td>\n      <td>0.163481</td>\n      <td>0.280633</td>\n      <td>-179.056241</td>\n      <td>-4.804671</td>\n    </tr>\n    <tr>\n      <th>2008-10-24 04:12:50</th>\n      <td>40.003589</td>\n      <td>116.321427</td>\n      <td>11.231979</td>\n      <td>63.401465</td>\n      <td>1.221539e+07</td>\n      <td>True</td>\n      <td>2.246396</td>\n      <td>0.035578</td>\n      <td>-0.025581</td>\n      <td>-179.130981</td>\n      <td>-0.014948</td>\n    </tr>\n  </tbody>\n</table>\n</div>"
     },
     "execution_count": 29,
     "metadata": {},
     "output_type": "execute_result"
    }
   ],
   "source": [
    "%%time\n",
    "\n",
    "# Now, lets calculate the bearing rate between 2 consecutive points.\n",
    "# First, we will do it for the geolife dataset.\n",
    "geolife = spatial.create_bearing_rate_column(geolife)\n",
    "geolife.head()"
   ],
   "metadata": {
    "collapsed": false,
    "pycharm": {
     "name": "#%%\n"
    }
   }
  },
  {
   "cell_type": "code",
   "execution_count": 30,
   "outputs": [
    {
     "name": "stdout",
     "output_type": "stream",
     "text": [
      "CPU times: user 18.9 ms, sys: 437 µs, total: 19.3 ms\n",
      "Wall time: 18.4 ms\n"
     ]
    },
    {
     "data": {
      "text/plain": "                                             Name      Date  Time Event  \\\ntraj_id  DateTime                                                         \nAL021873 1873-08-13 00:00:00              UNNAMED  18730813     0         \n         1873-08-13 06:00:00              UNNAMED  18730813   600         \n         1873-08-13 12:00:00              UNNAMED  18730813  1200         \n         1873-08-13 18:00:00              UNNAMED  18730813  1800         \n         1873-08-14 00:00:00              UNNAMED  18730814     0         \n\n                             Status   lat   lon  Maximum Wind  \\\ntraj_id  DateTime                                               \nAL021873 1873-08-13 00:00:00     TS  13.9 -25.0            40   \n         1873-08-13 06:00:00     TS  14.0 -26.0            40   \n         1873-08-13 12:00:00     TS  14.0 -27.0            40   \n         1873-08-13 18:00:00     TS  14.1 -28.1            40   \n         1873-08-14 00:00:00     TS  14.1 -29.3            50   \n\n                              Minimum Pressure  Low Wind NE  ...  \\\ntraj_id  DateTime                                            ...   \nAL021873 1873-08-13 00:00:00              -999         -999  ...   \n         1873-08-13 06:00:00              -999         -999  ...   \n         1873-08-13 12:00:00              -999         -999  ...   \n         1873-08-13 18:00:00              -999         -999  ...   \n         1873-08-14 00:00:00              -999         -999  ...   \n\n                              High Wind SE  High Wind SW  High Wind NW  \\\ntraj_id  DateTime                                                        \nAL021873 1873-08-13 00:00:00          -999          -999          -999   \n         1873-08-13 06:00:00          -999          -999          -999   \n         1873-08-13 12:00:00          -999          -999          -999   \n         1873-08-13 18:00:00          -999          -999          -999   \n         1873-08-14 00:00:00          -999          -999          -999   \n\n                              Distance_prev_to_curr  Distance_start_to_curr  \\\ntraj_id  DateTime                                                             \nAL021873 1873-08-13 00:00:00                    NaN                     NaN   \n         1873-08-13 06:00:00          108486.658872           108486.658872   \n         1873-08-13 12:00:00          107891.881958           216116.369259   \n         1873-08-13 18:00:00          119175.045002           335201.031514   \n         1873-08-14 00:00:00          129413.676731           464461.502447   \n\n                              Speed_prev_to_curr  Acceleration_prev_to_curr  \\\ntraj_id  DateTime                                                             \nAL021873 1873-08-13 00:00:00                 NaN                        NaN   \n         1873-08-13 06:00:00            5.022531                        NaN   \n         1873-08-13 12:00:00            4.994995                  -0.000001   \n         1873-08-13 18:00:00            5.517363                   0.000024   \n         1873-08-14 00:00:00            5.991374                   0.000022   \n\n                              jerk_prev_to_curr  Bearing_between_consecutive  \\\ntraj_id  DateTime                                                              \nAL021873 1873-08-13 00:00:00                NaN                          NaN   \n         1873-08-13 06:00:00                NaN                   -83.996671   \n         1873-08-13 12:00:00                NaN                   -89.879036   \n         1873-08-13 18:00:00       1.178636e-09                   -84.512938   \n         1873-08-14 00:00:00      -1.036478e-10                   -89.853826   \n\n                              Bearing_rate_from_prev  \ntraj_id  DateTime                                     \nAL021873 1873-08-13 00:00:00                     NaN  \n         1873-08-13 06:00:00                     NaN  \n         1873-08-13 12:00:00               -0.000272  \n         1873-08-13 18:00:00                0.000248  \n         1873-08-14 00:00:00               -0.000247  \n\n[5 rows x 28 columns]",
      "text/html": "<div>\n<style scoped>\n    .dataframe tbody tr th:only-of-type {\n        vertical-align: middle;\n    }\n\n    .dataframe tbody tr th {\n        vertical-align: top;\n    }\n\n    .dataframe thead th {\n        text-align: right;\n    }\n</style>\n<table border=\"1\" class=\"dataframe\">\n  <thead>\n    <tr style=\"text-align: right;\">\n      <th></th>\n      <th></th>\n      <th>Name</th>\n      <th>Date</th>\n      <th>Time</th>\n      <th>Event</th>\n      <th>Status</th>\n      <th>lat</th>\n      <th>lon</th>\n      <th>Maximum Wind</th>\n      <th>Minimum Pressure</th>\n      <th>Low Wind NE</th>\n      <th>...</th>\n      <th>High Wind SE</th>\n      <th>High Wind SW</th>\n      <th>High Wind NW</th>\n      <th>Distance_prev_to_curr</th>\n      <th>Distance_start_to_curr</th>\n      <th>Speed_prev_to_curr</th>\n      <th>Acceleration_prev_to_curr</th>\n      <th>jerk_prev_to_curr</th>\n      <th>Bearing_between_consecutive</th>\n      <th>Bearing_rate_from_prev</th>\n    </tr>\n    <tr>\n      <th>traj_id</th>\n      <th>DateTime</th>\n      <th></th>\n      <th></th>\n      <th></th>\n      <th></th>\n      <th></th>\n      <th></th>\n      <th></th>\n      <th></th>\n      <th></th>\n      <th></th>\n      <th></th>\n      <th></th>\n      <th></th>\n      <th></th>\n      <th></th>\n      <th></th>\n      <th></th>\n      <th></th>\n      <th></th>\n      <th></th>\n      <th></th>\n    </tr>\n  </thead>\n  <tbody>\n    <tr>\n      <th rowspan=\"5\" valign=\"top\">AL021873</th>\n      <th>1873-08-13 00:00:00</th>\n      <td>UNNAMED</td>\n      <td>18730813</td>\n      <td>0</td>\n      <td></td>\n      <td>TS</td>\n      <td>13.9</td>\n      <td>-25.0</td>\n      <td>40</td>\n      <td>-999</td>\n      <td>-999</td>\n      <td>...</td>\n      <td>-999</td>\n      <td>-999</td>\n      <td>-999</td>\n      <td>NaN</td>\n      <td>NaN</td>\n      <td>NaN</td>\n      <td>NaN</td>\n      <td>NaN</td>\n      <td>NaN</td>\n      <td>NaN</td>\n    </tr>\n    <tr>\n      <th>1873-08-13 06:00:00</th>\n      <td>UNNAMED</td>\n      <td>18730813</td>\n      <td>600</td>\n      <td></td>\n      <td>TS</td>\n      <td>14.0</td>\n      <td>-26.0</td>\n      <td>40</td>\n      <td>-999</td>\n      <td>-999</td>\n      <td>...</td>\n      <td>-999</td>\n      <td>-999</td>\n      <td>-999</td>\n      <td>108486.658872</td>\n      <td>108486.658872</td>\n      <td>5.022531</td>\n      <td>NaN</td>\n      <td>NaN</td>\n      <td>-83.996671</td>\n      <td>NaN</td>\n    </tr>\n    <tr>\n      <th>1873-08-13 12:00:00</th>\n      <td>UNNAMED</td>\n      <td>18730813</td>\n      <td>1200</td>\n      <td></td>\n      <td>TS</td>\n      <td>14.0</td>\n      <td>-27.0</td>\n      <td>40</td>\n      <td>-999</td>\n      <td>-999</td>\n      <td>...</td>\n      <td>-999</td>\n      <td>-999</td>\n      <td>-999</td>\n      <td>107891.881958</td>\n      <td>216116.369259</td>\n      <td>4.994995</td>\n      <td>-0.000001</td>\n      <td>NaN</td>\n      <td>-89.879036</td>\n      <td>-0.000272</td>\n    </tr>\n    <tr>\n      <th>1873-08-13 18:00:00</th>\n      <td>UNNAMED</td>\n      <td>18730813</td>\n      <td>1800</td>\n      <td></td>\n      <td>TS</td>\n      <td>14.1</td>\n      <td>-28.1</td>\n      <td>40</td>\n      <td>-999</td>\n      <td>-999</td>\n      <td>...</td>\n      <td>-999</td>\n      <td>-999</td>\n      <td>-999</td>\n      <td>119175.045002</td>\n      <td>335201.031514</td>\n      <td>5.517363</td>\n      <td>0.000024</td>\n      <td>1.178636e-09</td>\n      <td>-84.512938</td>\n      <td>0.000248</td>\n    </tr>\n    <tr>\n      <th>1873-08-14 00:00:00</th>\n      <td>UNNAMED</td>\n      <td>18730814</td>\n      <td>0</td>\n      <td></td>\n      <td>TS</td>\n      <td>14.1</td>\n      <td>-29.3</td>\n      <td>50</td>\n      <td>-999</td>\n      <td>-999</td>\n      <td>...</td>\n      <td>-999</td>\n      <td>-999</td>\n      <td>-999</td>\n      <td>129413.676731</td>\n      <td>464461.502447</td>\n      <td>5.991374</td>\n      <td>0.000022</td>\n      <td>-1.036478e-10</td>\n      <td>-89.853826</td>\n      <td>-0.000247</td>\n    </tr>\n  </tbody>\n</table>\n<p>5 rows × 28 columns</p>\n</div>"
     },
     "execution_count": 30,
     "metadata": {},
     "output_type": "execute_result"
    }
   ],
   "source": [
    "%%time\n",
    "\n",
    "# Now lets calculate the bearing rate for the atlantic dataset.\n",
    "atlantic = spatial.create_bearing_rate_column(atlantic)\n",
    "atlantic.head()"
   ],
   "metadata": {
    "collapsed": false,
    "pycharm": {
     "name": "#%%\n"
    }
   }
  },
  {
   "cell_type": "code",
   "execution_count": 31,
   "outputs": [
    {
     "name": "stdout",
     "output_type": "stream",
     "text": [
      "CPU times: user 18.2 ms, sys: 30 µs, total: 18.3 ms\n",
      "Wall time: 16.6 ms\n"
     ]
    },
    {
     "data": {
      "text/plain": "                               event-id  visible       lon       lat  \\\ntraj_id DateTime                                                       \n91732   2009-05-27 14:00:00  1082620685     True  24.58617  61.24783   \n        2009-05-27 20:00:00  1082620686     True  24.58217  61.23267   \n        2009-05-28 05:00:00  1082620687     True  24.53133  61.18833   \n        2009-05-28 08:00:00  1082620688     True  24.58200  61.23283   \n        2009-05-28 14:00:00  1082620689     True  24.58250  61.23267   \n\n                            sensor-type individual-taxon-canonical-name  \\\ntraj_id DateTime                                                          \n91732   2009-05-27 14:00:00         gps                    Larus fuscus   \n        2009-05-27 20:00:00         gps                    Larus fuscus   \n        2009-05-28 05:00:00         gps                    Larus fuscus   \n        2009-05-28 08:00:00         gps                    Larus fuscus   \n        2009-05-28 14:00:00         gps                    Larus fuscus   \n\n                            individual-local-identifier  \\\ntraj_id DateTime                                          \n91732   2009-05-27 14:00:00                      91732A   \n        2009-05-27 20:00:00                      91732A   \n        2009-05-28 05:00:00                      91732A   \n        2009-05-28 08:00:00                      91732A   \n        2009-05-28 14:00:00                      91732A   \n\n                                                                    study-name  \\\ntraj_id DateTime                                                                 \n91732   2009-05-27 14:00:00  Navigation experiments in lesser black-backed ...   \n        2009-05-27 20:00:00  Navigation experiments in lesser black-backed ...   \n        2009-05-28 05:00:00  Navigation experiments in lesser black-backed ...   \n        2009-05-28 08:00:00  Navigation experiments in lesser black-backed ...   \n        2009-05-28 14:00:00  Navigation experiments in lesser black-backed ...   \n\n                             Distance_prev_to_curr  Distance_start_to_curr  \\\ntraj_id DateTime                                                             \n91732   2009-05-27 14:00:00                    NaN                     NaN   \n        2009-05-27 20:00:00            1699.244398             1699.244398   \n        2009-05-28 05:00:00            5632.120064             7238.295521   \n        2009-05-28 08:00:00            5643.314949             1682.777895   \n        2009-05-28 14:00:00              32.131494             1697.111327   \n\n                             Speed_prev_to_curr  Acceleration_prev_to_curr  \\\ntraj_id DateTime                                                             \n91732   2009-05-27 14:00:00                 NaN                        NaN   \n        2009-05-27 20:00:00            0.078669                        NaN   \n        2009-05-28 05:00:00            0.173831                   0.000003   \n        2009-05-28 08:00:00            0.522529                   0.000032   \n        2009-05-28 14:00:00            0.001488                  -0.000024   \n\n                             jerk_prev_to_curr  Bearing_between_consecutive  \\\ntraj_id DateTime                                                              \n91732   2009-05-27 14:00:00                NaN                          NaN   \n        2009-05-27 20:00:00                NaN                  -172.763287   \n        2009-05-28 05:00:00                NaN                  -151.070593   \n        2009-05-28 08:00:00       2.717572e-09                    28.716637   \n        2009-05-28 14:00:00      -2.611536e-09                   123.620959   \n\n                             Bearing_rate_from_prev  \ntraj_id DateTime                                     \n91732   2009-05-27 14:00:00                     NaN  \n        2009-05-27 20:00:00                     NaN  \n        2009-05-28 05:00:00                0.000670  \n        2009-05-28 08:00:00                0.016647  \n        2009-05-28 14:00:00                0.004394  ",
      "text/html": "<div>\n<style scoped>\n    .dataframe tbody tr th:only-of-type {\n        vertical-align: middle;\n    }\n\n    .dataframe tbody tr th {\n        vertical-align: top;\n    }\n\n    .dataframe thead th {\n        text-align: right;\n    }\n</style>\n<table border=\"1\" class=\"dataframe\">\n  <thead>\n    <tr style=\"text-align: right;\">\n      <th></th>\n      <th></th>\n      <th>event-id</th>\n      <th>visible</th>\n      <th>lon</th>\n      <th>lat</th>\n      <th>sensor-type</th>\n      <th>individual-taxon-canonical-name</th>\n      <th>individual-local-identifier</th>\n      <th>study-name</th>\n      <th>Distance_prev_to_curr</th>\n      <th>Distance_start_to_curr</th>\n      <th>Speed_prev_to_curr</th>\n      <th>Acceleration_prev_to_curr</th>\n      <th>jerk_prev_to_curr</th>\n      <th>Bearing_between_consecutive</th>\n      <th>Bearing_rate_from_prev</th>\n    </tr>\n    <tr>\n      <th>traj_id</th>\n      <th>DateTime</th>\n      <th></th>\n      <th></th>\n      <th></th>\n      <th></th>\n      <th></th>\n      <th></th>\n      <th></th>\n      <th></th>\n      <th></th>\n      <th></th>\n      <th></th>\n      <th></th>\n      <th></th>\n      <th></th>\n      <th></th>\n    </tr>\n  </thead>\n  <tbody>\n    <tr>\n      <th rowspan=\"5\" valign=\"top\">91732</th>\n      <th>2009-05-27 14:00:00</th>\n      <td>1082620685</td>\n      <td>True</td>\n      <td>24.58617</td>\n      <td>61.24783</td>\n      <td>gps</td>\n      <td>Larus fuscus</td>\n      <td>91732A</td>\n      <td>Navigation experiments in lesser black-backed ...</td>\n      <td>NaN</td>\n      <td>NaN</td>\n      <td>NaN</td>\n      <td>NaN</td>\n      <td>NaN</td>\n      <td>NaN</td>\n      <td>NaN</td>\n    </tr>\n    <tr>\n      <th>2009-05-27 20:00:00</th>\n      <td>1082620686</td>\n      <td>True</td>\n      <td>24.58217</td>\n      <td>61.23267</td>\n      <td>gps</td>\n      <td>Larus fuscus</td>\n      <td>91732A</td>\n      <td>Navigation experiments in lesser black-backed ...</td>\n      <td>1699.244398</td>\n      <td>1699.244398</td>\n      <td>0.078669</td>\n      <td>NaN</td>\n      <td>NaN</td>\n      <td>-172.763287</td>\n      <td>NaN</td>\n    </tr>\n    <tr>\n      <th>2009-05-28 05:00:00</th>\n      <td>1082620687</td>\n      <td>True</td>\n      <td>24.53133</td>\n      <td>61.18833</td>\n      <td>gps</td>\n      <td>Larus fuscus</td>\n      <td>91732A</td>\n      <td>Navigation experiments in lesser black-backed ...</td>\n      <td>5632.120064</td>\n      <td>7238.295521</td>\n      <td>0.173831</td>\n      <td>0.000003</td>\n      <td>NaN</td>\n      <td>-151.070593</td>\n      <td>0.000670</td>\n    </tr>\n    <tr>\n      <th>2009-05-28 08:00:00</th>\n      <td>1082620688</td>\n      <td>True</td>\n      <td>24.58200</td>\n      <td>61.23283</td>\n      <td>gps</td>\n      <td>Larus fuscus</td>\n      <td>91732A</td>\n      <td>Navigation experiments in lesser black-backed ...</td>\n      <td>5643.314949</td>\n      <td>1682.777895</td>\n      <td>0.522529</td>\n      <td>0.000032</td>\n      <td>2.717572e-09</td>\n      <td>28.716637</td>\n      <td>0.016647</td>\n    </tr>\n    <tr>\n      <th>2009-05-28 14:00:00</th>\n      <td>1082620689</td>\n      <td>True</td>\n      <td>24.58250</td>\n      <td>61.23267</td>\n      <td>gps</td>\n      <td>Larus fuscus</td>\n      <td>91732A</td>\n      <td>Navigation experiments in lesser black-backed ...</td>\n      <td>32.131494</td>\n      <td>1697.111327</td>\n      <td>0.001488</td>\n      <td>-0.000024</td>\n      <td>-2.611536e-09</td>\n      <td>123.620959</td>\n      <td>0.004394</td>\n    </tr>\n  </tbody>\n</table>\n</div>"
     },
     "execution_count": 31,
     "metadata": {},
     "output_type": "execute_result"
    }
   ],
   "source": [
    "%%time\n",
    "\n",
    "# Now lets calculate the bearing rate for the seagulls dataset.\n",
    "gulls = spatial.create_bearing_rate_column(gulls)\n",
    "gulls.head()"
   ],
   "metadata": {
    "collapsed": false,
    "pycharm": {
     "name": "#%%\n"
    }
   }
  },
  {
   "cell_type": "code",
   "execution_count": 32,
   "outputs": [
    {
     "name": "stdout",
     "output_type": "stream",
     "text": [
      "CPU times: user 22.4 ms, sys: 153 µs, total: 22.5 ms\n",
      "Wall time: 20.9 ms\n"
     ]
    },
    {
     "data": {
      "text/plain": "                                   lat         lon  Distance_prev_to_curr  \\\ntraj_id DateTime                                                            \n5       2008-10-24 04:12:30  40.004155  116.321337                    NaN   \n        2008-10-24 04:12:35  40.003834  116.321462              37.247654   \n        2008-10-24 04:12:40  40.003783  116.321431               6.255518   \n        2008-10-24 04:12:45  40.003690  116.321429              10.342531   \n        2008-10-24 04:12:50  40.003589  116.321427              11.231979   \n\n                             Distance_start_to_curr  Distance_to_(0, 0)  \\\ntraj_id DateTime                                                          \n5       2008-10-24 04:12:30                     NaN        1.221536e+07   \n        2008-10-24 04:12:35               37.247654        1.221538e+07   \n        2008-10-24 04:12:40               42.132251        1.221538e+07   \n        2008-10-24 04:12:45               52.296064        1.221538e+07   \n        2008-10-24 04:12:50               63.401465        1.221539e+07   \n\n                             Within_15000000_m_from_(0, 0)  \\\ntraj_id DateTime                                             \n5       2008-10-24 04:12:30                           True   \n        2008-10-24 04:12:35                           True   \n        2008-10-24 04:12:40                           True   \n        2008-10-24 04:12:45                           True   \n        2008-10-24 04:12:50                           True   \n\n                             Speed_prev_to_curr  Acceleration_prev_to_curr  \\\ntraj_id DateTime                                                             \n5       2008-10-24 04:12:30                 NaN                        NaN   \n        2008-10-24 04:12:35            7.449531                        NaN   \n        2008-10-24 04:12:40            1.251104                  -1.239685   \n        2008-10-24 04:12:45            2.068506                   0.163481   \n        2008-10-24 04:12:50            2.246396                   0.035578   \n\n                             jerk_prev_to_curr  Bearing_between_consecutive  \\\ntraj_id DateTime                                                              \n5       2008-10-24 04:12:30                NaN                          NaN   \n        2008-10-24 04:12:35                NaN                   163.390830   \n        2008-10-24 04:12:40                NaN                  -155.032885   \n        2008-10-24 04:12:45           0.280633                  -179.056241   \n        2008-10-24 04:12:50          -0.025581                  -179.130981   \n\n                             Bearing_rate_from_prev  \\\ntraj_id DateTime                                      \n5       2008-10-24 04:12:30                     NaN   \n        2008-10-24 04:12:35                     NaN   \n        2008-10-24 04:12:40              -63.684743   \n        2008-10-24 04:12:45               -4.804671   \n        2008-10-24 04:12:50               -0.014948   \n\n                             Rate_of_bearing_rate_from_prev  \ntraj_id DateTime                                             \n5       2008-10-24 04:12:30                             NaN  \n        2008-10-24 04:12:35                             NaN  \n        2008-10-24 04:12:40                             NaN  \n        2008-10-24 04:12:45                       11.776014  \n        2008-10-24 04:12:50                        0.957945  ",
      "text/html": "<div>\n<style scoped>\n    .dataframe tbody tr th:only-of-type {\n        vertical-align: middle;\n    }\n\n    .dataframe tbody tr th {\n        vertical-align: top;\n    }\n\n    .dataframe thead th {\n        text-align: right;\n    }\n</style>\n<table border=\"1\" class=\"dataframe\">\n  <thead>\n    <tr style=\"text-align: right;\">\n      <th></th>\n      <th></th>\n      <th>lat</th>\n      <th>lon</th>\n      <th>Distance_prev_to_curr</th>\n      <th>Distance_start_to_curr</th>\n      <th>Distance_to_(0, 0)</th>\n      <th>Within_15000000_m_from_(0, 0)</th>\n      <th>Speed_prev_to_curr</th>\n      <th>Acceleration_prev_to_curr</th>\n      <th>jerk_prev_to_curr</th>\n      <th>Bearing_between_consecutive</th>\n      <th>Bearing_rate_from_prev</th>\n      <th>Rate_of_bearing_rate_from_prev</th>\n    </tr>\n    <tr>\n      <th>traj_id</th>\n      <th>DateTime</th>\n      <th></th>\n      <th></th>\n      <th></th>\n      <th></th>\n      <th></th>\n      <th></th>\n      <th></th>\n      <th></th>\n      <th></th>\n      <th></th>\n      <th></th>\n      <th></th>\n    </tr>\n  </thead>\n  <tbody>\n    <tr>\n      <th rowspan=\"5\" valign=\"top\">5</th>\n      <th>2008-10-24 04:12:30</th>\n      <td>40.004155</td>\n      <td>116.321337</td>\n      <td>NaN</td>\n      <td>NaN</td>\n      <td>1.221536e+07</td>\n      <td>True</td>\n      <td>NaN</td>\n      <td>NaN</td>\n      <td>NaN</td>\n      <td>NaN</td>\n      <td>NaN</td>\n      <td>NaN</td>\n    </tr>\n    <tr>\n      <th>2008-10-24 04:12:35</th>\n      <td>40.003834</td>\n      <td>116.321462</td>\n      <td>37.247654</td>\n      <td>37.247654</td>\n      <td>1.221538e+07</td>\n      <td>True</td>\n      <td>7.449531</td>\n      <td>NaN</td>\n      <td>NaN</td>\n      <td>163.390830</td>\n      <td>NaN</td>\n      <td>NaN</td>\n    </tr>\n    <tr>\n      <th>2008-10-24 04:12:40</th>\n      <td>40.003783</td>\n      <td>116.321431</td>\n      <td>6.255518</td>\n      <td>42.132251</td>\n      <td>1.221538e+07</td>\n      <td>True</td>\n      <td>1.251104</td>\n      <td>-1.239685</td>\n      <td>NaN</td>\n      <td>-155.032885</td>\n      <td>-63.684743</td>\n      <td>NaN</td>\n    </tr>\n    <tr>\n      <th>2008-10-24 04:12:45</th>\n      <td>40.003690</td>\n      <td>116.321429</td>\n      <td>10.342531</td>\n      <td>52.296064</td>\n      <td>1.221538e+07</td>\n      <td>True</td>\n      <td>2.068506</td>\n      <td>0.163481</td>\n      <td>0.280633</td>\n      <td>-179.056241</td>\n      <td>-4.804671</td>\n      <td>11.776014</td>\n    </tr>\n    <tr>\n      <th>2008-10-24 04:12:50</th>\n      <td>40.003589</td>\n      <td>116.321427</td>\n      <td>11.231979</td>\n      <td>63.401465</td>\n      <td>1.221539e+07</td>\n      <td>True</td>\n      <td>2.246396</td>\n      <td>0.035578</td>\n      <td>-0.025581</td>\n      <td>-179.130981</td>\n      <td>-0.014948</td>\n      <td>0.957945</td>\n    </tr>\n  </tbody>\n</table>\n</div>"
     },
     "execution_count": 32,
     "metadata": {},
     "output_type": "execute_result"
    }
   ],
   "source": [
    "%%time\n",
    "\n",
    "# Now, lets calculate the rate of bearing rate between 2\n",
    "# consecutive points.\n",
    "geolife = spatial.create_rate_of_bearing_rate_column(geolife)\n",
    "geolife.head()\n"
   ],
   "metadata": {
    "collapsed": false,
    "pycharm": {
     "name": "#%%\n"
    }
   }
  },
  {
   "cell_type": "code",
   "execution_count": 33,
   "outputs": [
    {
     "name": "stdout",
     "output_type": "stream",
     "text": [
      "CPU times: user 12.3 ms, sys: 39 µs, total: 12.4 ms\n",
      "Wall time: 11.2 ms\n"
     ]
    },
    {
     "data": {
      "text/plain": "                                             Name      Date  Time Event  \\\ntraj_id  DateTime                                                         \nAL021873 1873-08-13 00:00:00              UNNAMED  18730813     0         \n         1873-08-13 06:00:00              UNNAMED  18730813   600         \n         1873-08-13 12:00:00              UNNAMED  18730813  1200         \n         1873-08-13 18:00:00              UNNAMED  18730813  1800         \n         1873-08-14 00:00:00              UNNAMED  18730814     0         \n\n                             Status   lat   lon  Maximum Wind  \\\ntraj_id  DateTime                                               \nAL021873 1873-08-13 00:00:00     TS  13.9 -25.0            40   \n         1873-08-13 06:00:00     TS  14.0 -26.0            40   \n         1873-08-13 12:00:00     TS  14.0 -27.0            40   \n         1873-08-13 18:00:00     TS  14.1 -28.1            40   \n         1873-08-14 00:00:00     TS  14.1 -29.3            50   \n\n                              Minimum Pressure  Low Wind NE  ...  \\\ntraj_id  DateTime                                            ...   \nAL021873 1873-08-13 00:00:00              -999         -999  ...   \n         1873-08-13 06:00:00              -999         -999  ...   \n         1873-08-13 12:00:00              -999         -999  ...   \n         1873-08-13 18:00:00              -999         -999  ...   \n         1873-08-14 00:00:00              -999         -999  ...   \n\n                              High Wind SW  High Wind NW  \\\ntraj_id  DateTime                                          \nAL021873 1873-08-13 00:00:00          -999          -999   \n         1873-08-13 06:00:00          -999          -999   \n         1873-08-13 12:00:00          -999          -999   \n         1873-08-13 18:00:00          -999          -999   \n         1873-08-14 00:00:00          -999          -999   \n\n                              Distance_prev_to_curr  Distance_start_to_curr  \\\ntraj_id  DateTime                                                             \nAL021873 1873-08-13 00:00:00                    NaN                     NaN   \n         1873-08-13 06:00:00          108486.658872           108486.658872   \n         1873-08-13 12:00:00          107891.881958           216116.369259   \n         1873-08-13 18:00:00          119175.045002           335201.031514   \n         1873-08-14 00:00:00          129413.676731           464461.502447   \n\n                              Speed_prev_to_curr  Acceleration_prev_to_curr  \\\ntraj_id  DateTime                                                             \nAL021873 1873-08-13 00:00:00                 NaN                        NaN   \n         1873-08-13 06:00:00            5.022531                        NaN   \n         1873-08-13 12:00:00            4.994995                  -0.000001   \n         1873-08-13 18:00:00            5.517363                   0.000024   \n         1873-08-14 00:00:00            5.991374                   0.000022   \n\n                              jerk_prev_to_curr  Bearing_between_consecutive  \\\ntraj_id  DateTime                                                              \nAL021873 1873-08-13 00:00:00                NaN                          NaN   \n         1873-08-13 06:00:00                NaN                   -83.996671   \n         1873-08-13 12:00:00                NaN                   -89.879036   \n         1873-08-13 18:00:00       1.178636e-09                   -84.512938   \n         1873-08-14 00:00:00      -1.036478e-10                   -89.853826   \n\n                              Bearing_rate_from_prev  \\\ntraj_id  DateTime                                      \nAL021873 1873-08-13 00:00:00                     NaN   \n         1873-08-13 06:00:00                     NaN   \n         1873-08-13 12:00:00               -0.000272   \n         1873-08-13 18:00:00                0.000248   \n         1873-08-14 00:00:00               -0.000247   \n\n                              Rate_of_bearing_rate_from_prev  \ntraj_id  DateTime                                             \nAL021873 1873-08-13 00:00:00                             NaN  \n         1873-08-13 06:00:00                             NaN  \n         1873-08-13 12:00:00                             NaN  \n         1873-08-13 18:00:00                    2.410936e-08  \n         1873-08-14 00:00:00                   -2.294879e-08  \n\n[5 rows x 29 columns]",
      "text/html": "<div>\n<style scoped>\n    .dataframe tbody tr th:only-of-type {\n        vertical-align: middle;\n    }\n\n    .dataframe tbody tr th {\n        vertical-align: top;\n    }\n\n    .dataframe thead th {\n        text-align: right;\n    }\n</style>\n<table border=\"1\" class=\"dataframe\">\n  <thead>\n    <tr style=\"text-align: right;\">\n      <th></th>\n      <th></th>\n      <th>Name</th>\n      <th>Date</th>\n      <th>Time</th>\n      <th>Event</th>\n      <th>Status</th>\n      <th>lat</th>\n      <th>lon</th>\n      <th>Maximum Wind</th>\n      <th>Minimum Pressure</th>\n      <th>Low Wind NE</th>\n      <th>...</th>\n      <th>High Wind SW</th>\n      <th>High Wind NW</th>\n      <th>Distance_prev_to_curr</th>\n      <th>Distance_start_to_curr</th>\n      <th>Speed_prev_to_curr</th>\n      <th>Acceleration_prev_to_curr</th>\n      <th>jerk_prev_to_curr</th>\n      <th>Bearing_between_consecutive</th>\n      <th>Bearing_rate_from_prev</th>\n      <th>Rate_of_bearing_rate_from_prev</th>\n    </tr>\n    <tr>\n      <th>traj_id</th>\n      <th>DateTime</th>\n      <th></th>\n      <th></th>\n      <th></th>\n      <th></th>\n      <th></th>\n      <th></th>\n      <th></th>\n      <th></th>\n      <th></th>\n      <th></th>\n      <th></th>\n      <th></th>\n      <th></th>\n      <th></th>\n      <th></th>\n      <th></th>\n      <th></th>\n      <th></th>\n      <th></th>\n      <th></th>\n      <th></th>\n    </tr>\n  </thead>\n  <tbody>\n    <tr>\n      <th rowspan=\"5\" valign=\"top\">AL021873</th>\n      <th>1873-08-13 00:00:00</th>\n      <td>UNNAMED</td>\n      <td>18730813</td>\n      <td>0</td>\n      <td></td>\n      <td>TS</td>\n      <td>13.9</td>\n      <td>-25.0</td>\n      <td>40</td>\n      <td>-999</td>\n      <td>-999</td>\n      <td>...</td>\n      <td>-999</td>\n      <td>-999</td>\n      <td>NaN</td>\n      <td>NaN</td>\n      <td>NaN</td>\n      <td>NaN</td>\n      <td>NaN</td>\n      <td>NaN</td>\n      <td>NaN</td>\n      <td>NaN</td>\n    </tr>\n    <tr>\n      <th>1873-08-13 06:00:00</th>\n      <td>UNNAMED</td>\n      <td>18730813</td>\n      <td>600</td>\n      <td></td>\n      <td>TS</td>\n      <td>14.0</td>\n      <td>-26.0</td>\n      <td>40</td>\n      <td>-999</td>\n      <td>-999</td>\n      <td>...</td>\n      <td>-999</td>\n      <td>-999</td>\n      <td>108486.658872</td>\n      <td>108486.658872</td>\n      <td>5.022531</td>\n      <td>NaN</td>\n      <td>NaN</td>\n      <td>-83.996671</td>\n      <td>NaN</td>\n      <td>NaN</td>\n    </tr>\n    <tr>\n      <th>1873-08-13 12:00:00</th>\n      <td>UNNAMED</td>\n      <td>18730813</td>\n      <td>1200</td>\n      <td></td>\n      <td>TS</td>\n      <td>14.0</td>\n      <td>-27.0</td>\n      <td>40</td>\n      <td>-999</td>\n      <td>-999</td>\n      <td>...</td>\n      <td>-999</td>\n      <td>-999</td>\n      <td>107891.881958</td>\n      <td>216116.369259</td>\n      <td>4.994995</td>\n      <td>-0.000001</td>\n      <td>NaN</td>\n      <td>-89.879036</td>\n      <td>-0.000272</td>\n      <td>NaN</td>\n    </tr>\n    <tr>\n      <th>1873-08-13 18:00:00</th>\n      <td>UNNAMED</td>\n      <td>18730813</td>\n      <td>1800</td>\n      <td></td>\n      <td>TS</td>\n      <td>14.1</td>\n      <td>-28.1</td>\n      <td>40</td>\n      <td>-999</td>\n      <td>-999</td>\n      <td>...</td>\n      <td>-999</td>\n      <td>-999</td>\n      <td>119175.045002</td>\n      <td>335201.031514</td>\n      <td>5.517363</td>\n      <td>0.000024</td>\n      <td>1.178636e-09</td>\n      <td>-84.512938</td>\n      <td>0.000248</td>\n      <td>2.410936e-08</td>\n    </tr>\n    <tr>\n      <th>1873-08-14 00:00:00</th>\n      <td>UNNAMED</td>\n      <td>18730814</td>\n      <td>0</td>\n      <td></td>\n      <td>TS</td>\n      <td>14.1</td>\n      <td>-29.3</td>\n      <td>50</td>\n      <td>-999</td>\n      <td>-999</td>\n      <td>...</td>\n      <td>-999</td>\n      <td>-999</td>\n      <td>129413.676731</td>\n      <td>464461.502447</td>\n      <td>5.991374</td>\n      <td>0.000022</td>\n      <td>-1.036478e-10</td>\n      <td>-89.853826</td>\n      <td>-0.000247</td>\n      <td>-2.294879e-08</td>\n    </tr>\n  </tbody>\n</table>\n<p>5 rows × 29 columns</p>\n</div>"
     },
     "execution_count": 33,
     "metadata": {},
     "output_type": "execute_result"
    }
   ],
   "source": [
    "%%time\n",
    "\n",
    "# Now, lets calculate the rate of bearing rate for the atlantic\n",
    "# dataset.\n",
    "atlantic = spatial.create_rate_of_bearing_rate_column(atlantic)\n",
    "atlantic.head()"
   ],
   "metadata": {
    "collapsed": false,
    "pycharm": {
     "name": "#%%\n"
    }
   }
  },
  {
   "cell_type": "code",
   "execution_count": 34,
   "outputs": [
    {
     "name": "stdout",
     "output_type": "stream",
     "text": [
      "CPU times: user 17.2 ms, sys: 2.95 ms, total: 20.2 ms\n",
      "Wall time: 18.6 ms\n"
     ]
    },
    {
     "data": {
      "text/plain": "                               event-id  visible       lon       lat  \\\ntraj_id DateTime                                                       \n91732   2009-05-27 14:00:00  1082620685     True  24.58617  61.24783   \n        2009-05-27 20:00:00  1082620686     True  24.58217  61.23267   \n        2009-05-28 05:00:00  1082620687     True  24.53133  61.18833   \n        2009-05-28 08:00:00  1082620688     True  24.58200  61.23283   \n        2009-05-28 14:00:00  1082620689     True  24.58250  61.23267   \n\n                            sensor-type individual-taxon-canonical-name  \\\ntraj_id DateTime                                                          \n91732   2009-05-27 14:00:00         gps                    Larus fuscus   \n        2009-05-27 20:00:00         gps                    Larus fuscus   \n        2009-05-28 05:00:00         gps                    Larus fuscus   \n        2009-05-28 08:00:00         gps                    Larus fuscus   \n        2009-05-28 14:00:00         gps                    Larus fuscus   \n\n                            individual-local-identifier  \\\ntraj_id DateTime                                          \n91732   2009-05-27 14:00:00                      91732A   \n        2009-05-27 20:00:00                      91732A   \n        2009-05-28 05:00:00                      91732A   \n        2009-05-28 08:00:00                      91732A   \n        2009-05-28 14:00:00                      91732A   \n\n                                                                    study-name  \\\ntraj_id DateTime                                                                 \n91732   2009-05-27 14:00:00  Navigation experiments in lesser black-backed ...   \n        2009-05-27 20:00:00  Navigation experiments in lesser black-backed ...   \n        2009-05-28 05:00:00  Navigation experiments in lesser black-backed ...   \n        2009-05-28 08:00:00  Navigation experiments in lesser black-backed ...   \n        2009-05-28 14:00:00  Navigation experiments in lesser black-backed ...   \n\n                             Distance_prev_to_curr  Distance_start_to_curr  \\\ntraj_id DateTime                                                             \n91732   2009-05-27 14:00:00                    NaN                     NaN   \n        2009-05-27 20:00:00            1699.244398             1699.244398   \n        2009-05-28 05:00:00            5632.120064             7238.295521   \n        2009-05-28 08:00:00            5643.314949             1682.777895   \n        2009-05-28 14:00:00              32.131494             1697.111327   \n\n                             Speed_prev_to_curr  Acceleration_prev_to_curr  \\\ntraj_id DateTime                                                             \n91732   2009-05-27 14:00:00                 NaN                        NaN   \n        2009-05-27 20:00:00            0.078669                        NaN   \n        2009-05-28 05:00:00            0.173831                   0.000003   \n        2009-05-28 08:00:00            0.522529                   0.000032   \n        2009-05-28 14:00:00            0.001488                  -0.000024   \n\n                             jerk_prev_to_curr  Bearing_between_consecutive  \\\ntraj_id DateTime                                                              \n91732   2009-05-27 14:00:00                NaN                          NaN   \n        2009-05-27 20:00:00                NaN                  -172.763287   \n        2009-05-28 05:00:00                NaN                  -151.070593   \n        2009-05-28 08:00:00       2.717572e-09                    28.716637   \n        2009-05-28 14:00:00      -2.611536e-09                   123.620959   \n\n                             Bearing_rate_from_prev  \\\ntraj_id DateTime                                      \n91732   2009-05-27 14:00:00                     NaN   \n        2009-05-27 20:00:00                     NaN   \n        2009-05-28 05:00:00                0.000670   \n        2009-05-28 08:00:00                0.016647   \n        2009-05-28 14:00:00                0.004394   \n\n                             Rate_of_bearing_rate_from_prev  \ntraj_id DateTime                                             \n91732   2009-05-27 14:00:00                             NaN  \n        2009-05-27 20:00:00                             NaN  \n        2009-05-28 05:00:00                             NaN  \n        2009-05-28 08:00:00                    1.479392e-06  \n        2009-05-28 14:00:00                   -5.672800e-07  ",
      "text/html": "<div>\n<style scoped>\n    .dataframe tbody tr th:only-of-type {\n        vertical-align: middle;\n    }\n\n    .dataframe tbody tr th {\n        vertical-align: top;\n    }\n\n    .dataframe thead th {\n        text-align: right;\n    }\n</style>\n<table border=\"1\" class=\"dataframe\">\n  <thead>\n    <tr style=\"text-align: right;\">\n      <th></th>\n      <th></th>\n      <th>event-id</th>\n      <th>visible</th>\n      <th>lon</th>\n      <th>lat</th>\n      <th>sensor-type</th>\n      <th>individual-taxon-canonical-name</th>\n      <th>individual-local-identifier</th>\n      <th>study-name</th>\n      <th>Distance_prev_to_curr</th>\n      <th>Distance_start_to_curr</th>\n      <th>Speed_prev_to_curr</th>\n      <th>Acceleration_prev_to_curr</th>\n      <th>jerk_prev_to_curr</th>\n      <th>Bearing_between_consecutive</th>\n      <th>Bearing_rate_from_prev</th>\n      <th>Rate_of_bearing_rate_from_prev</th>\n    </tr>\n    <tr>\n      <th>traj_id</th>\n      <th>DateTime</th>\n      <th></th>\n      <th></th>\n      <th></th>\n      <th></th>\n      <th></th>\n      <th></th>\n      <th></th>\n      <th></th>\n      <th></th>\n      <th></th>\n      <th></th>\n      <th></th>\n      <th></th>\n      <th></th>\n      <th></th>\n      <th></th>\n    </tr>\n  </thead>\n  <tbody>\n    <tr>\n      <th rowspan=\"5\" valign=\"top\">91732</th>\n      <th>2009-05-27 14:00:00</th>\n      <td>1082620685</td>\n      <td>True</td>\n      <td>24.58617</td>\n      <td>61.24783</td>\n      <td>gps</td>\n      <td>Larus fuscus</td>\n      <td>91732A</td>\n      <td>Navigation experiments in lesser black-backed ...</td>\n      <td>NaN</td>\n      <td>NaN</td>\n      <td>NaN</td>\n      <td>NaN</td>\n      <td>NaN</td>\n      <td>NaN</td>\n      <td>NaN</td>\n      <td>NaN</td>\n    </tr>\n    <tr>\n      <th>2009-05-27 20:00:00</th>\n      <td>1082620686</td>\n      <td>True</td>\n      <td>24.58217</td>\n      <td>61.23267</td>\n      <td>gps</td>\n      <td>Larus fuscus</td>\n      <td>91732A</td>\n      <td>Navigation experiments in lesser black-backed ...</td>\n      <td>1699.244398</td>\n      <td>1699.244398</td>\n      <td>0.078669</td>\n      <td>NaN</td>\n      <td>NaN</td>\n      <td>-172.763287</td>\n      <td>NaN</td>\n      <td>NaN</td>\n    </tr>\n    <tr>\n      <th>2009-05-28 05:00:00</th>\n      <td>1082620687</td>\n      <td>True</td>\n      <td>24.53133</td>\n      <td>61.18833</td>\n      <td>gps</td>\n      <td>Larus fuscus</td>\n      <td>91732A</td>\n      <td>Navigation experiments in lesser black-backed ...</td>\n      <td>5632.120064</td>\n      <td>7238.295521</td>\n      <td>0.173831</td>\n      <td>0.000003</td>\n      <td>NaN</td>\n      <td>-151.070593</td>\n      <td>0.000670</td>\n      <td>NaN</td>\n    </tr>\n    <tr>\n      <th>2009-05-28 08:00:00</th>\n      <td>1082620688</td>\n      <td>True</td>\n      <td>24.58200</td>\n      <td>61.23283</td>\n      <td>gps</td>\n      <td>Larus fuscus</td>\n      <td>91732A</td>\n      <td>Navigation experiments in lesser black-backed ...</td>\n      <td>5643.314949</td>\n      <td>1682.777895</td>\n      <td>0.522529</td>\n      <td>0.000032</td>\n      <td>2.717572e-09</td>\n      <td>28.716637</td>\n      <td>0.016647</td>\n      <td>1.479392e-06</td>\n    </tr>\n    <tr>\n      <th>2009-05-28 14:00:00</th>\n      <td>1082620689</td>\n      <td>True</td>\n      <td>24.58250</td>\n      <td>61.23267</td>\n      <td>gps</td>\n      <td>Larus fuscus</td>\n      <td>91732A</td>\n      <td>Navigation experiments in lesser black-backed ...</td>\n      <td>32.131494</td>\n      <td>1697.111327</td>\n      <td>0.001488</td>\n      <td>-0.000024</td>\n      <td>-2.611536e-09</td>\n      <td>123.620959</td>\n      <td>0.004394</td>\n      <td>-5.672800e-07</td>\n    </tr>\n  </tbody>\n</table>\n</div>"
     },
     "execution_count": 34,
     "metadata": {},
     "output_type": "execute_result"
    }
   ],
   "source": [
    "%%time\n",
    "\n",
    "# Now lets calculate the rate of bearing rate for the seagulls\n",
    "# dataset.\n",
    "gulls = spatial.create_rate_of_bearing_rate_column(gulls)\n",
    "gulls.head()"
   ],
   "metadata": {
    "collapsed": false,
    "pycharm": {
     "name": "#%%\n"
    }
   }
  },
  {
   "cell_type": "code",
   "execution_count": 35,
   "outputs": [
    {
     "name": "stdout",
     "output_type": "stream",
     "text": [
      "CPU times: user 510 ms, sys: 553 ms, total: 1.06 s\n",
      "Wall time: 3.95 s\n"
     ]
    },
    {
     "data": {
      "text/plain": "           lat   lon\ntraj_id             \nAL041861  28.5 -50.0\nAL041866  15.0 -29.5\nAL071861  35.3 -75.3\nAL061865  25.5 -69.5\nAL091869  17.0 -67.5\n...        ...   ...\nAL041926  13.8 -41.2\nAL142012  15.5 -38.0\nAL201969  16.0 -47.0\nAL141971  25.5 -71.5\nAL031899  11.7 -31.0\n\n[1814 rows x 2 columns]",
      "text/html": "<div>\n<style scoped>\n    .dataframe tbody tr th:only-of-type {\n        vertical-align: middle;\n    }\n\n    .dataframe tbody tr th {\n        vertical-align: top;\n    }\n\n    .dataframe thead th {\n        text-align: right;\n    }\n</style>\n<table border=\"1\" class=\"dataframe\">\n  <thead>\n    <tr style=\"text-align: right;\">\n      <th></th>\n      <th>lat</th>\n      <th>lon</th>\n    </tr>\n    <tr>\n      <th>traj_id</th>\n      <th></th>\n      <th></th>\n    </tr>\n  </thead>\n  <tbody>\n    <tr>\n      <th>AL041861</th>\n      <td>28.5</td>\n      <td>-50.0</td>\n    </tr>\n    <tr>\n      <th>AL041866</th>\n      <td>15.0</td>\n      <td>-29.5</td>\n    </tr>\n    <tr>\n      <th>AL071861</th>\n      <td>35.3</td>\n      <td>-75.3</td>\n    </tr>\n    <tr>\n      <th>AL061865</th>\n      <td>25.5</td>\n      <td>-69.5</td>\n    </tr>\n    <tr>\n      <th>AL091869</th>\n      <td>17.0</td>\n      <td>-67.5</td>\n    </tr>\n    <tr>\n      <th>...</th>\n      <td>...</td>\n      <td>...</td>\n    </tr>\n    <tr>\n      <th>AL041926</th>\n      <td>13.8</td>\n      <td>-41.2</td>\n    </tr>\n    <tr>\n      <th>AL142012</th>\n      <td>15.5</td>\n      <td>-38.0</td>\n    </tr>\n    <tr>\n      <th>AL201969</th>\n      <td>16.0</td>\n      <td>-47.0</td>\n    </tr>\n    <tr>\n      <th>AL141971</th>\n      <td>25.5</td>\n      <td>-71.5</td>\n    </tr>\n    <tr>\n      <th>AL031899</th>\n      <td>11.7</td>\n      <td>-31.0</td>\n    </tr>\n  </tbody>\n</table>\n<p>1814 rows × 2 columns</p>\n</div>"
     },
     "execution_count": 35,
     "metadata": {},
     "output_type": "execute_result"
    }
   ],
   "source": [
    "%%time\n",
    "\n",
    "# Now, lets get the start locations of all the trajectories\n",
    "# in the atlantic dataset.\n",
    "spatial.get_start_location(atlantic)"
   ],
   "metadata": {
    "collapsed": false,
    "pycharm": {
     "name": "#%%\n"
    }
   }
  },
  {
   "cell_type": "code",
   "execution_count": 36,
   "outputs": [
    {
     "name": "stdout",
     "output_type": "stream",
     "text": [
      "CPU times: user 34.4 ms, sys: 12.2 ms, total: 46.6 ms\n",
      "Wall time: 45.1 ms\n"
     ]
    },
    {
     "data": {
      "text/plain": "(31.0, -100.2)"
     },
     "execution_count": 36,
     "metadata": {},
     "output_type": "execute_result"
    }
   ],
   "source": [
    "%%time\n",
    "\n",
    "# Now, lets get the end location of a specific trajectory\n",
    "# from the atlantic dataset.\n",
    "spatial.get_end_location(atlantic, 'AL011851')"
   ],
   "metadata": {
    "collapsed": false,
    "pycharm": {
     "name": "#%%\n"
    }
   }
  },
  {
   "cell_type": "code",
   "execution_count": 37,
   "outputs": [
    {
     "name": "stdout",
     "output_type": "stream",
     "text": [
      "CPU times: user 32.1 ms, sys: 4.57 ms, total: 36.7 ms\n",
      "Wall time: 35.4 ms\n"
     ]
    },
    {
     "data": {
      "text/plain": "716547.1062403042"
     },
     "execution_count": 37,
     "metadata": {},
     "output_type": "execute_result"
    }
   ],
   "source": [
    "%%time\n",
    "\n",
    "# Now, lets get the distance travelled by a specific trajectory\n",
    "# in the atlantic dataset.\n",
    "spatial.get_distance_travelled_by_traj_id(atlantic, 'AL011851')"
   ],
   "metadata": {
    "collapsed": false,
    "pycharm": {
     "name": "#%%\n"
    }
   }
  },
  {
   "cell_type": "code",
   "execution_count": 38,
   "outputs": [
    {
     "name": "stdout",
     "output_type": "stream",
     "text": [
      "CPU times: user 487 ms, sys: 586 ms, total: 1.07 s\n",
      "Wall time: 3.27 s\n"
     ]
    },
    {
     "data": {
      "text/plain": "          Number of Unique Coordinates\ntraj_id                               \nAL041861                             1\nAL041866                             1\nAL071861                             1\nAL061865                             1\nAL091869                             1\n...                                ...\nAL041926                            95\nAL142012                            96\nAL201969                            99\nAL141971                           118\nAL031899                           133\n\n[1814 rows x 1 columns]",
      "text/html": "<div>\n<style scoped>\n    .dataframe tbody tr th:only-of-type {\n        vertical-align: middle;\n    }\n\n    .dataframe tbody tr th {\n        vertical-align: top;\n    }\n\n    .dataframe thead th {\n        text-align: right;\n    }\n</style>\n<table border=\"1\" class=\"dataframe\">\n  <thead>\n    <tr style=\"text-align: right;\">\n      <th></th>\n      <th>Number of Unique Coordinates</th>\n    </tr>\n    <tr>\n      <th>traj_id</th>\n      <th></th>\n    </tr>\n  </thead>\n  <tbody>\n    <tr>\n      <th>AL041861</th>\n      <td>1</td>\n    </tr>\n    <tr>\n      <th>AL041866</th>\n      <td>1</td>\n    </tr>\n    <tr>\n      <th>AL071861</th>\n      <td>1</td>\n    </tr>\n    <tr>\n      <th>AL061865</th>\n      <td>1</td>\n    </tr>\n    <tr>\n      <th>AL091869</th>\n      <td>1</td>\n    </tr>\n    <tr>\n      <th>...</th>\n      <td>...</td>\n    </tr>\n    <tr>\n      <th>AL041926</th>\n      <td>95</td>\n    </tr>\n    <tr>\n      <th>AL142012</th>\n      <td>96</td>\n    </tr>\n    <tr>\n      <th>AL201969</th>\n      <td>99</td>\n    </tr>\n    <tr>\n      <th>AL141971</th>\n      <td>118</td>\n    </tr>\n    <tr>\n      <th>AL031899</th>\n      <td>133</td>\n    </tr>\n  </tbody>\n</table>\n<p>1814 rows × 1 columns</p>\n</div>"
     },
     "execution_count": 38,
     "metadata": {},
     "output_type": "execute_result"
    }
   ],
   "source": [
    "%%time\n",
    "\n",
    "# Now, lets get the number of unique locations visited by\n",
    "# all the trajectories in the atlantic dataset.\n",
    "spatial.get_number_of_locations(atlantic)"
   ],
   "metadata": {
    "collapsed": false,
    "pycharm": {
     "name": "#%%\n"
    }
   }
  },
  {
   "cell_type": "code",
   "execution_count": 39,
   "outputs": [
    {
     "name": "stdout",
     "output_type": "stream",
     "text": [
      "Total execution time is 42.28119897842407 seconds.\n"
     ]
    }
   ],
   "source": [
    "end = time.time()\n",
    "print(f\"Total execution time is {end - start} seconds.\")"
   ],
   "metadata": {
    "collapsed": false,
    "pycharm": {
     "name": "#%%\n"
    }
   }
  }
 ],
 "metadata": {
  "kernelspec": {
   "display_name": "Python 3",
   "language": "python",
   "name": "python3"
  },
  "language_info": {
   "codemirror_mode": {
    "name": "ipython",
    "version": 2
   },
   "file_extension": ".py",
   "mimetype": "text/x-python",
   "name": "python",
   "nbconvert_exporter": "python",
   "pygments_lexer": "ipython2",
   "version": "2.7.6"
  }
 },
 "nbformat": 4,
 "nbformat_minor": 0
}