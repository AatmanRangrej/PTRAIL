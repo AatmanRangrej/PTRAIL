{
 "cells": [
  {
   "cell_type": "code",
   "execution_count": 1,
   "metadata": {
    "collapsed": true
   },
   "outputs": [],
   "source": [
    "import numpy as np\n",
    "\n",
    "from core.TrajectoryDF import NumPandasTraj as NumTrajDF\n",
    "from features.spatial_features import SpatialFeatures as spatial\n",
    "from utilities.conversions import Conversions as con\n",
    "import pandas as pd\n",
    "import time\n",
    "np.seterr(invalid='ignore')\n",
    "start = time.time()"
   ]
  },
  {
   "cell_type": "code",
   "execution_count": 2,
   "outputs": [
    {
     "name": "stdout",
     "output_type": "stream",
     "text": [
      "CPU times: user 8.94 s, sys: 135 ms, total: 9.07 s\n",
      "Wall time: 9.12 s\n"
     ]
    },
    {
     "data": {
      "text/plain": "                                             Name      Date  Time Event  \\\nDateTime            traj_id                                               \n1851-06-25 00:00:00 AL011851              UNNAMED  18510625     0         \n1851-06-25 06:00:00 AL011851              UNNAMED  18510625   600         \n1851-06-25 12:00:00 AL011851              UNNAMED  18510625  1200         \n1851-06-25 18:00:00 AL011851              UNNAMED  18510625  1800         \n1851-06-25 21:00:00 AL011851              UNNAMED  18510625  2100     L   \n\n                             Status   lat   lon  Maximum Wind  \\\nDateTime            traj_id                                     \n1851-06-25 00:00:00 AL011851     HU  28.0 -94.8            80   \n1851-06-25 06:00:00 AL011851     HU  28.0 -95.4            80   \n1851-06-25 12:00:00 AL011851     HU  28.0 -96.0            80   \n1851-06-25 18:00:00 AL011851     HU  28.1 -96.5            80   \n1851-06-25 21:00:00 AL011851     HU  28.2 -96.8            80   \n\n                              Minimum Pressure  Low Wind NE  ...  Low Wind SW  \\\nDateTime            traj_id                                  ...                \n1851-06-25 00:00:00 AL011851              -999         -999  ...         -999   \n1851-06-25 06:00:00 AL011851              -999         -999  ...         -999   \n1851-06-25 12:00:00 AL011851              -999         -999  ...         -999   \n1851-06-25 18:00:00 AL011851              -999         -999  ...         -999   \n1851-06-25 21:00:00 AL011851              -999         -999  ...         -999   \n\n                              Low Wind NW  Moderate Wind NE  Moderate Wind SE  \\\nDateTime            traj_id                                                     \n1851-06-25 00:00:00 AL011851         -999              -999              -999   \n1851-06-25 06:00:00 AL011851         -999              -999              -999   \n1851-06-25 12:00:00 AL011851         -999              -999              -999   \n1851-06-25 18:00:00 AL011851         -999              -999              -999   \n1851-06-25 21:00:00 AL011851         -999              -999              -999   \n\n                              Moderate Wind SW  Moderate Wind NW  \\\nDateTime            traj_id                                        \n1851-06-25 00:00:00 AL011851              -999              -999   \n1851-06-25 06:00:00 AL011851              -999              -999   \n1851-06-25 12:00:00 AL011851              -999              -999   \n1851-06-25 18:00:00 AL011851              -999              -999   \n1851-06-25 21:00:00 AL011851              -999              -999   \n\n                              High Wind NE  High Wind SE  High Wind SW  \\\nDateTime            traj_id                                              \n1851-06-25 00:00:00 AL011851          -999          -999          -999   \n1851-06-25 06:00:00 AL011851          -999          -999          -999   \n1851-06-25 12:00:00 AL011851          -999          -999          -999   \n1851-06-25 18:00:00 AL011851          -999          -999          -999   \n1851-06-25 21:00:00 AL011851          -999          -999          -999   \n\n                              High Wind NW  \nDateTime            traj_id                 \n1851-06-25 00:00:00 AL011851          -999  \n1851-06-25 06:00:00 AL011851          -999  \n1851-06-25 12:00:00 AL011851          -999  \n1851-06-25 18:00:00 AL011851          -999  \n1851-06-25 21:00:00 AL011851          -999  \n\n[5 rows x 21 columns]",
      "text/html": "<div>\n<style scoped>\n    .dataframe tbody tr th:only-of-type {\n        vertical-align: middle;\n    }\n\n    .dataframe tbody tr th {\n        vertical-align: top;\n    }\n\n    .dataframe thead th {\n        text-align: right;\n    }\n</style>\n<table border=\"1\" class=\"dataframe\">\n  <thead>\n    <tr style=\"text-align: right;\">\n      <th></th>\n      <th></th>\n      <th>Name</th>\n      <th>Date</th>\n      <th>Time</th>\n      <th>Event</th>\n      <th>Status</th>\n      <th>lat</th>\n      <th>lon</th>\n      <th>Maximum Wind</th>\n      <th>Minimum Pressure</th>\n      <th>Low Wind NE</th>\n      <th>...</th>\n      <th>Low Wind SW</th>\n      <th>Low Wind NW</th>\n      <th>Moderate Wind NE</th>\n      <th>Moderate Wind SE</th>\n      <th>Moderate Wind SW</th>\n      <th>Moderate Wind NW</th>\n      <th>High Wind NE</th>\n      <th>High Wind SE</th>\n      <th>High Wind SW</th>\n      <th>High Wind NW</th>\n    </tr>\n    <tr>\n      <th>DateTime</th>\n      <th>traj_id</th>\n      <th></th>\n      <th></th>\n      <th></th>\n      <th></th>\n      <th></th>\n      <th></th>\n      <th></th>\n      <th></th>\n      <th></th>\n      <th></th>\n      <th></th>\n      <th></th>\n      <th></th>\n      <th></th>\n      <th></th>\n      <th></th>\n      <th></th>\n      <th></th>\n      <th></th>\n      <th></th>\n      <th></th>\n    </tr>\n  </thead>\n  <tbody>\n    <tr>\n      <th>1851-06-25 00:00:00</th>\n      <th>AL011851</th>\n      <td>UNNAMED</td>\n      <td>18510625</td>\n      <td>0</td>\n      <td></td>\n      <td>HU</td>\n      <td>28.0</td>\n      <td>-94.8</td>\n      <td>80</td>\n      <td>-999</td>\n      <td>-999</td>\n      <td>...</td>\n      <td>-999</td>\n      <td>-999</td>\n      <td>-999</td>\n      <td>-999</td>\n      <td>-999</td>\n      <td>-999</td>\n      <td>-999</td>\n      <td>-999</td>\n      <td>-999</td>\n      <td>-999</td>\n    </tr>\n    <tr>\n      <th>1851-06-25 06:00:00</th>\n      <th>AL011851</th>\n      <td>UNNAMED</td>\n      <td>18510625</td>\n      <td>600</td>\n      <td></td>\n      <td>HU</td>\n      <td>28.0</td>\n      <td>-95.4</td>\n      <td>80</td>\n      <td>-999</td>\n      <td>-999</td>\n      <td>...</td>\n      <td>-999</td>\n      <td>-999</td>\n      <td>-999</td>\n      <td>-999</td>\n      <td>-999</td>\n      <td>-999</td>\n      <td>-999</td>\n      <td>-999</td>\n      <td>-999</td>\n      <td>-999</td>\n    </tr>\n    <tr>\n      <th>1851-06-25 12:00:00</th>\n      <th>AL011851</th>\n      <td>UNNAMED</td>\n      <td>18510625</td>\n      <td>1200</td>\n      <td></td>\n      <td>HU</td>\n      <td>28.0</td>\n      <td>-96.0</td>\n      <td>80</td>\n      <td>-999</td>\n      <td>-999</td>\n      <td>...</td>\n      <td>-999</td>\n      <td>-999</td>\n      <td>-999</td>\n      <td>-999</td>\n      <td>-999</td>\n      <td>-999</td>\n      <td>-999</td>\n      <td>-999</td>\n      <td>-999</td>\n      <td>-999</td>\n    </tr>\n    <tr>\n      <th>1851-06-25 18:00:00</th>\n      <th>AL011851</th>\n      <td>UNNAMED</td>\n      <td>18510625</td>\n      <td>1800</td>\n      <td></td>\n      <td>HU</td>\n      <td>28.1</td>\n      <td>-96.5</td>\n      <td>80</td>\n      <td>-999</td>\n      <td>-999</td>\n      <td>...</td>\n      <td>-999</td>\n      <td>-999</td>\n      <td>-999</td>\n      <td>-999</td>\n      <td>-999</td>\n      <td>-999</td>\n      <td>-999</td>\n      <td>-999</td>\n      <td>-999</td>\n      <td>-999</td>\n    </tr>\n    <tr>\n      <th>1851-06-25 21:00:00</th>\n      <th>AL011851</th>\n      <td>UNNAMED</td>\n      <td>18510625</td>\n      <td>2100</td>\n      <td>L</td>\n      <td>HU</td>\n      <td>28.2</td>\n      <td>-96.8</td>\n      <td>80</td>\n      <td>-999</td>\n      <td>-999</td>\n      <td>...</td>\n      <td>-999</td>\n      <td>-999</td>\n      <td>-999</td>\n      <td>-999</td>\n      <td>-999</td>\n      <td>-999</td>\n      <td>-999</td>\n      <td>-999</td>\n      <td>-999</td>\n      <td>-999</td>\n    </tr>\n  </tbody>\n</table>\n<p>5 rows × 21 columns</p>\n</div>"
     },
     "execution_count": 2,
     "metadata": {},
     "output_type": "execute_result"
    }
   ],
   "source": [
    "%%time\n",
    "# Reading the geolife dataset and converting to NumPandasTraj.\n",
    "geolife = pd.read_csv('./data/geolife_sample.csv')\n",
    "geolife = NumTrajDF(geolife,'lat','lon','datetime','id')\n",
    "\n",
    "# Reading the gulls dataset and converting to NumPandasTraj.\n",
    "gulls = pd.read_csv('./data/gulls.csv')\n",
    "gulls = NumTrajDF(gulls,\n",
    "                 latitude='location-lat',\n",
    "                 longitude='location-long',\n",
    "                 datetime='timestamp',\n",
    "                 traj_id='tag-local-identifier',\n",
    "                 rest_of_columns=[])\n",
    "\n",
    "# Reading the atlantic dataset, cleaning it up and then converting\n",
    "# it to NumPandasTraj.\n",
    "atlantic = pd.read_csv('./data/atlantic.csv')\n",
    "atlantic = con.convert_directions_to_degree_lat_lon(atlantic, 'Latitude',\"Longitude\")\n",
    "def convert_to_datetime(row):\n",
    "        this_date = '{}-{}-{}'.format(str(row['Date'])[0:4], str(row['Date'])[4:6], str(row['Date'])[6:])\n",
    "        this_time = '{:02d}:{:02d}:00'.format(int(row['Time']/100), int(str(row['Time'])[-2:]))\n",
    "        return '{} {}'.format(this_date, this_time)\n",
    "atlantic['DateTime'] = atlantic.apply(convert_to_datetime, axis=1)\n",
    "atlantic = NumTrajDF(atlantic,\n",
    "                         latitude='Latitude',\n",
    "                         longitude='Longitude',\n",
    "                         datetime='DateTime',\n",
    "                         traj_id='ID',\n",
    "                         rest_of_columns=[])\n",
    "atlantic.head()"
   ],
   "metadata": {
    "collapsed": false,
    "pycharm": {
     "name": "#%%\n"
    }
   }
  },
  {
   "cell_type": "code",
   "execution_count": 3,
   "outputs": [
    {
     "name": "stdout",
     "output_type": "stream",
     "text": [
      "(22.147577, 113.54884299999999, 41.132062, 121.156224)\n",
      "(-62.71617, 4.02517, 65.2325, 103.19317)\n",
      "(7.2, -109.5, 81.0, 63.0)\n",
      "CPU times: user 10.9 ms, sys: 76 µs, total: 10.9 ms\n",
      "Wall time: 9.94 ms\n"
     ]
    }
   ],
   "source": [
    "%%time\n",
    "\n",
    "# Now, lets get the bounding boxes of all the dataframes.\n",
    "print(spatial.get_bounding_box(geolife))\n",
    "print(spatial.get_bounding_box(gulls))\n",
    "print(spatial.get_bounding_box(atlantic))"
   ],
   "metadata": {
    "collapsed": false,
    "pycharm": {
     "name": "#%%\n"
    }
   }
  },
  {
   "cell_type": "code",
   "execution_count": 4,
   "outputs": [
    {
     "name": "stdout",
     "output_type": "stream",
     "text": [
      "               lat         lon\n",
      "traj_id                       \n",
      "1        39.984224  116.319402\n",
      "5        40.004155  116.321337\n",
      "              lat       lon\n",
      "traj_id                    \n",
      "91732    61.24783  24.58617\n",
      "91733    54.18600   7.91883\n",
      "91734    61.27033  24.14400\n",
      "91735    61.24617  24.59167\n",
      "91737    63.53033  22.56433\n",
      "...           ...       ...\n",
      "91920    55.43233  49.34267\n",
      "91921    55.43767  49.36533\n",
      "91924    55.43300  49.34400\n",
      "91929    55.43250  49.34267\n",
      "91930    64.98483  35.72667\n",
      "\n",
      "[126 rows x 2 columns]\n",
      "           lat   lon\n",
      "traj_id             \n",
      "AL011851  28.0 -94.8\n",
      "AL011852  20.5 -67.1\n",
      "AL011853  32.5 -69.0\n",
      "AL011854  26.0 -92.5\n",
      "AL011855  22.2 -98.0\n",
      "...        ...   ...\n",
      "AL282005  13.2 -62.1\n",
      "AL291969  10.3 -81.0\n",
      "AL292005  27.0 -48.0\n",
      "AL302005  31.5 -49.2\n",
      "AL312005  23.9 -35.6\n",
      "\n",
      "[1814 rows x 2 columns]\n",
      "CPU times: user 568 ms, sys: 347 ms, total: 915 ms\n",
      "Wall time: 4.76 s\n"
     ]
    }
   ],
   "source": [
    "%%time\n",
    "\n",
    "# Now, lets get the start times of all the dataframes without\n",
    "# giving a traj_id.\n",
    "print(spatial.get_start_location(geolife))\n",
    "print(spatial.get_start_location(gulls))\n",
    "print(spatial.get_start_location(atlantic))"
   ],
   "metadata": {
    "collapsed": false,
    "pycharm": {
     "name": "#%%\n"
    }
   }
  },
  {
   "cell_type": "code",
   "execution_count": 5,
   "outputs": [
    {
     "name": "stdout",
     "output_type": "stream",
     "text": [
      "(39.984224, 116.319402)\n",
      "(61.24783000000001, 24.586170000000003)\n",
      "(28.0, -94.8)\n",
      "CPU times: user 66.9 ms, sys: 20.4 ms, total: 87.3 ms\n",
      "Wall time: 86.9 ms\n"
     ]
    }
   ],
   "source": [
    "%%time\n",
    "\n",
    "# Now lets check the start times of all dataframes with a traj_id.\n",
    "print(spatial.get_start_location(geolife, '1'))\n",
    "print(spatial.get_start_location(gulls, \"91732\"))\n",
    "print(spatial.get_start_location(atlantic, 'AL011851'))"
   ],
   "metadata": {
    "collapsed": false,
    "pycharm": {
     "name": "#%%\n"
    }
   }
  },
  {
   "cell_type": "code",
   "execution_count": 6,
   "outputs": [
    {
     "name": "stdout",
     "output_type": "stream",
     "text": [
      "               lat         lon\n",
      "traj_id                       \n",
      "1        39.977879  116.326628\n",
      "5        39.999978  116.327460\n",
      "              lat       lon\n",
      "traj_id                    \n",
      "91732    31.09783  29.81217\n",
      "91733    54.31733   8.70433\n",
      "91734    31.45567  31.83350\n",
      "91735    59.57017  24.79733\n",
      "91737    22.55017  45.41367\n",
      "...           ...       ...\n",
      "91920    34.64567  36.54417\n",
      "91921    55.24883  49.28400\n",
      "91924    55.33850  49.35733\n",
      "91929    55.43283  49.33683\n",
      "91930    65.01700  35.72717\n",
      "\n",
      "[126 rows x 2 columns]\n",
      "           lat    lon\n",
      "traj_id              \n",
      "AL011851  31.0 -100.2\n",
      "AL011852  41.0  -68.0\n",
      "AL011853  32.5  -69.0\n",
      "AL011854  28.0 -103.0\n",
      "AL011855  22.2  -98.0\n",
      "...        ...    ...\n",
      "AL282005  15.4  -83.5\n",
      "AL291969   8.5  -82.0\n",
      "AL292005  35.3   -1.0\n",
      "AL302005  24.7  -39.2\n",
      "AL312005  26.3  -55.7\n",
      "\n",
      "[1814 rows x 2 columns]\n",
      "CPU times: user 536 ms, sys: 390 ms, total: 926 ms\n",
      "Wall time: 5.16 s\n"
     ]
    }
   ],
   "source": [
    "%%time\n",
    "\n",
    "# Now, lets get the start times of all the dataframes without\n",
    "# giving a traj_id.\n",
    "print(spatial.get_end_location(geolife))\n",
    "print(spatial.get_end_location(gulls))\n",
    "print(spatial.get_end_location(atlantic))"
   ],
   "metadata": {
    "collapsed": false,
    "pycharm": {
     "name": "#%%\n"
    }
   }
  },
  {
   "cell_type": "code",
   "execution_count": 7,
   "outputs": [
    {
     "name": "stdout",
     "output_type": "stream",
     "text": [
      "(39.977878999999994, 116.326628)\n",
      "(31.09783, 29.812170000000002)\n",
      "(31.0, -100.2)\n",
      "CPU times: user 80.1 ms, sys: 6.99 ms, total: 87.1 ms\n",
      "Wall time: 85.2 ms\n"
     ]
    }
   ],
   "source": [
    "%%time\n",
    "\n",
    "# Now lets check the start times of all dataframes with a traj_id.\n",
    "print(spatial.get_end_location(geolife, '1'))\n",
    "print(spatial.get_end_location(gulls, \"91732\"))\n",
    "print(spatial.get_end_location(atlantic, 'AL011851'))"
   ],
   "metadata": {
    "collapsed": false,
    "pycharm": {
     "name": "#%%\n"
    }
   }
  },
  {
   "cell_type": "code",
   "execution_count": 8,
   "outputs": [
    {
     "name": "stdout",
     "output_type": "stream",
     "text": [
      "CPU times: user 185 ms, sys: 56.1 ms, total: 241 ms\n",
      "Wall time: 573 ms\n"
     ]
    },
    {
     "data": {
      "text/plain": "                                   lat         lon  Distance_prev_to_curr\nDateTime            traj_id                                              \n2008-10-23 16:53:05 1        39.984094  116.319236                    NaN\n2008-10-23 16:53:06 1        39.984198  116.319322              13.690153\n2008-10-23 05:53:11 1        39.984224  116.319402               7.403788\n2008-10-23 05:53:16 1        39.984211  116.319389               1.821083\n2008-10-23 05:53:21 1        39.984217  116.319422               2.889671\n2008-10-23 05:53:23 1        39.984710  116.319865              66.555997\n2008-10-23 05:53:28 1        39.984674  116.319810               6.162987\n2008-10-23 05:53:33 1        39.984623  116.319773               6.488225\n2008-10-23 05:53:38 1        39.984606  116.319732               3.971848\n2008-10-23 05:53:43 1        39.984555  116.319728               5.681172",
      "text/html": "<div>\n<style scoped>\n    .dataframe tbody tr th:only-of-type {\n        vertical-align: middle;\n    }\n\n    .dataframe tbody tr th {\n        vertical-align: top;\n    }\n\n    .dataframe thead th {\n        text-align: right;\n    }\n</style>\n<table border=\"1\" class=\"dataframe\">\n  <thead>\n    <tr style=\"text-align: right;\">\n      <th></th>\n      <th></th>\n      <th>lat</th>\n      <th>lon</th>\n      <th>Distance_prev_to_curr</th>\n    </tr>\n    <tr>\n      <th>DateTime</th>\n      <th>traj_id</th>\n      <th></th>\n      <th></th>\n      <th></th>\n    </tr>\n  </thead>\n  <tbody>\n    <tr>\n      <th>2008-10-23 16:53:05</th>\n      <th>1</th>\n      <td>39.984094</td>\n      <td>116.319236</td>\n      <td>NaN</td>\n    </tr>\n    <tr>\n      <th>2008-10-23 16:53:06</th>\n      <th>1</th>\n      <td>39.984198</td>\n      <td>116.319322</td>\n      <td>13.690153</td>\n    </tr>\n    <tr>\n      <th>2008-10-23 05:53:11</th>\n      <th>1</th>\n      <td>39.984224</td>\n      <td>116.319402</td>\n      <td>7.403788</td>\n    </tr>\n    <tr>\n      <th>2008-10-23 05:53:16</th>\n      <th>1</th>\n      <td>39.984211</td>\n      <td>116.319389</td>\n      <td>1.821083</td>\n    </tr>\n    <tr>\n      <th>2008-10-23 05:53:21</th>\n      <th>1</th>\n      <td>39.984217</td>\n      <td>116.319422</td>\n      <td>2.889671</td>\n    </tr>\n    <tr>\n      <th>2008-10-23 05:53:23</th>\n      <th>1</th>\n      <td>39.984710</td>\n      <td>116.319865</td>\n      <td>66.555997</td>\n    </tr>\n    <tr>\n      <th>2008-10-23 05:53:28</th>\n      <th>1</th>\n      <td>39.984674</td>\n      <td>116.319810</td>\n      <td>6.162987</td>\n    </tr>\n    <tr>\n      <th>2008-10-23 05:53:33</th>\n      <th>1</th>\n      <td>39.984623</td>\n      <td>116.319773</td>\n      <td>6.488225</td>\n    </tr>\n    <tr>\n      <th>2008-10-23 05:53:38</th>\n      <th>1</th>\n      <td>39.984606</td>\n      <td>116.319732</td>\n      <td>3.971848</td>\n    </tr>\n    <tr>\n      <th>2008-10-23 05:53:43</th>\n      <th>1</th>\n      <td>39.984555</td>\n      <td>116.319728</td>\n      <td>5.681172</td>\n    </tr>\n  </tbody>\n</table>\n</div>"
     },
     "execution_count": 8,
     "metadata": {},
     "output_type": "execute_result"
    }
   ],
   "source": [
    "%%time\n",
    "\n",
    "# Now, lets calculate the distance between 2 consecutive points for\n",
    "# each dataset one by one.\n",
    "# First, we will check the distances between 2 consecutive points\n",
    "# in the geolife dataset.\n",
    "geolife = spatial.create_distance_between_consecutive_column(geolife)\n",
    "geolife.head(10)"
   ],
   "metadata": {
    "collapsed": false,
    "pycharm": {
     "name": "#%%\n"
    }
   }
  },
  {
   "cell_type": "code",
   "execution_count": 9,
   "outputs": [
    {
     "name": "stdout",
     "output_type": "stream",
     "text": [
      "CPU times: user 171 ms, sys: 32.4 ms, total: 203 ms\n",
      "Wall time: 806 ms\n"
     ]
    },
    {
     "data": {
      "text/plain": "                               event-id  visible       lon       lat  \\\nDateTime            traj_id                                            \n2009-05-27 14:00:00 91732    1082620685     True  24.58617  61.24783   \n2009-05-27 20:00:00 91732    1082620686     True  24.58217  61.23267   \n2009-05-28 05:00:00 91732    1082620687     True  24.53133  61.18833   \n2009-05-28 08:00:00 91732    1082620688     True  24.58200  61.23283   \n2009-05-28 14:00:00 91732    1082620689     True  24.58250  61.23267   \n\n                            sensor-type individual-taxon-canonical-name  \\\nDateTime            traj_id                                               \n2009-05-27 14:00:00 91732           gps                    Larus fuscus   \n2009-05-27 20:00:00 91732           gps                    Larus fuscus   \n2009-05-28 05:00:00 91732           gps                    Larus fuscus   \n2009-05-28 08:00:00 91732           gps                    Larus fuscus   \n2009-05-28 14:00:00 91732           gps                    Larus fuscus   \n\n                            individual-local-identifier  \\\nDateTime            traj_id                               \n2009-05-27 14:00:00 91732                        91732A   \n2009-05-27 20:00:00 91732                        91732A   \n2009-05-28 05:00:00 91732                        91732A   \n2009-05-28 08:00:00 91732                        91732A   \n2009-05-28 14:00:00 91732                        91732A   \n\n                                                                    study-name  \\\nDateTime            traj_id                                                      \n2009-05-27 14:00:00 91732    Navigation experiments in lesser black-backed ...   \n2009-05-27 20:00:00 91732    Navigation experiments in lesser black-backed ...   \n2009-05-28 05:00:00 91732    Navigation experiments in lesser black-backed ...   \n2009-05-28 08:00:00 91732    Navigation experiments in lesser black-backed ...   \n2009-05-28 14:00:00 91732    Navigation experiments in lesser black-backed ...   \n\n                             Distance_prev_to_curr  \nDateTime            traj_id                         \n2009-05-27 14:00:00 91732                      NaN  \n2009-05-27 20:00:00 91732              1699.244398  \n2009-05-28 05:00:00 91732              5632.120064  \n2009-05-28 08:00:00 91732              5643.314949  \n2009-05-28 14:00:00 91732                32.131494  ",
      "text/html": "<div>\n<style scoped>\n    .dataframe tbody tr th:only-of-type {\n        vertical-align: middle;\n    }\n\n    .dataframe tbody tr th {\n        vertical-align: top;\n    }\n\n    .dataframe thead th {\n        text-align: right;\n    }\n</style>\n<table border=\"1\" class=\"dataframe\">\n  <thead>\n    <tr style=\"text-align: right;\">\n      <th></th>\n      <th></th>\n      <th>event-id</th>\n      <th>visible</th>\n      <th>lon</th>\n      <th>lat</th>\n      <th>sensor-type</th>\n      <th>individual-taxon-canonical-name</th>\n      <th>individual-local-identifier</th>\n      <th>study-name</th>\n      <th>Distance_prev_to_curr</th>\n    </tr>\n    <tr>\n      <th>DateTime</th>\n      <th>traj_id</th>\n      <th></th>\n      <th></th>\n      <th></th>\n      <th></th>\n      <th></th>\n      <th></th>\n      <th></th>\n      <th></th>\n      <th></th>\n    </tr>\n  </thead>\n  <tbody>\n    <tr>\n      <th>2009-05-27 14:00:00</th>\n      <th>91732</th>\n      <td>1082620685</td>\n      <td>True</td>\n      <td>24.58617</td>\n      <td>61.24783</td>\n      <td>gps</td>\n      <td>Larus fuscus</td>\n      <td>91732A</td>\n      <td>Navigation experiments in lesser black-backed ...</td>\n      <td>NaN</td>\n    </tr>\n    <tr>\n      <th>2009-05-27 20:00:00</th>\n      <th>91732</th>\n      <td>1082620686</td>\n      <td>True</td>\n      <td>24.58217</td>\n      <td>61.23267</td>\n      <td>gps</td>\n      <td>Larus fuscus</td>\n      <td>91732A</td>\n      <td>Navigation experiments in lesser black-backed ...</td>\n      <td>1699.244398</td>\n    </tr>\n    <tr>\n      <th>2009-05-28 05:00:00</th>\n      <th>91732</th>\n      <td>1082620687</td>\n      <td>True</td>\n      <td>24.53133</td>\n      <td>61.18833</td>\n      <td>gps</td>\n      <td>Larus fuscus</td>\n      <td>91732A</td>\n      <td>Navigation experiments in lesser black-backed ...</td>\n      <td>5632.120064</td>\n    </tr>\n    <tr>\n      <th>2009-05-28 08:00:00</th>\n      <th>91732</th>\n      <td>1082620688</td>\n      <td>True</td>\n      <td>24.58200</td>\n      <td>61.23283</td>\n      <td>gps</td>\n      <td>Larus fuscus</td>\n      <td>91732A</td>\n      <td>Navigation experiments in lesser black-backed ...</td>\n      <td>5643.314949</td>\n    </tr>\n    <tr>\n      <th>2009-05-28 14:00:00</th>\n      <th>91732</th>\n      <td>1082620689</td>\n      <td>True</td>\n      <td>24.58250</td>\n      <td>61.23267</td>\n      <td>gps</td>\n      <td>Larus fuscus</td>\n      <td>91732A</td>\n      <td>Navigation experiments in lesser black-backed ...</td>\n      <td>32.131494</td>\n    </tr>\n  </tbody>\n</table>\n</div>"
     },
     "execution_count": 9,
     "metadata": {},
     "output_type": "execute_result"
    }
   ],
   "source": [
    "%%time\n",
    "\n",
    "# # Here, we check the distance between 2 consecutive points\n",
    "# # in the seagulls dataset.\n",
    "gulls = spatial.create_distance_between_consecutive_column(gulls)\n",
    "gulls.head()"
   ],
   "metadata": {
    "collapsed": false,
    "pycharm": {
     "name": "#%%\n"
    }
   }
  },
  {
   "cell_type": "code",
   "execution_count": 10,
   "outputs": [
    {
     "name": "stdout",
     "output_type": "stream",
     "text": [
      "CPU times: user 158 ms, sys: 76.3 ms, total: 235 ms\n",
      "Wall time: 560 ms\n"
     ]
    },
    {
     "data": {
      "text/plain": "                                             Name      Date  Time Event  \\\nDateTime            traj_id                                               \n1851-06-25 00:00:00 AL011851              UNNAMED  18510625     0         \n1851-06-25 06:00:00 AL011851              UNNAMED  18510625   600         \n1851-06-25 12:00:00 AL011851              UNNAMED  18510625  1200         \n1851-06-25 18:00:00 AL011851              UNNAMED  18510625  1800         \n1851-06-25 21:00:00 AL011851              UNNAMED  18510625  2100     L   \n\n                             Status   lat   lon  Maximum Wind  \\\nDateTime            traj_id                                     \n1851-06-25 00:00:00 AL011851     HU  28.0 -94.8            80   \n1851-06-25 06:00:00 AL011851     HU  28.0 -95.4            80   \n1851-06-25 12:00:00 AL011851     HU  28.0 -96.0            80   \n1851-06-25 18:00:00 AL011851     HU  28.1 -96.5            80   \n1851-06-25 21:00:00 AL011851     HU  28.2 -96.8            80   \n\n                              Minimum Pressure  Low Wind NE  ...  Low Wind NW  \\\nDateTime            traj_id                                  ...                \n1851-06-25 00:00:00 AL011851              -999         -999  ...         -999   \n1851-06-25 06:00:00 AL011851              -999         -999  ...         -999   \n1851-06-25 12:00:00 AL011851              -999         -999  ...         -999   \n1851-06-25 18:00:00 AL011851              -999         -999  ...         -999   \n1851-06-25 21:00:00 AL011851              -999         -999  ...         -999   \n\n                              Moderate Wind NE  Moderate Wind SE  \\\nDateTime            traj_id                                        \n1851-06-25 00:00:00 AL011851              -999              -999   \n1851-06-25 06:00:00 AL011851              -999              -999   \n1851-06-25 12:00:00 AL011851              -999              -999   \n1851-06-25 18:00:00 AL011851              -999              -999   \n1851-06-25 21:00:00 AL011851              -999              -999   \n\n                              Moderate Wind SW  Moderate Wind NW  \\\nDateTime            traj_id                                        \n1851-06-25 00:00:00 AL011851              -999              -999   \n1851-06-25 06:00:00 AL011851              -999              -999   \n1851-06-25 12:00:00 AL011851              -999              -999   \n1851-06-25 18:00:00 AL011851              -999              -999   \n1851-06-25 21:00:00 AL011851              -999              -999   \n\n                              High Wind NE  High Wind SE  High Wind SW  \\\nDateTime            traj_id                                              \n1851-06-25 00:00:00 AL011851          -999          -999          -999   \n1851-06-25 06:00:00 AL011851          -999          -999          -999   \n1851-06-25 12:00:00 AL011851          -999          -999          -999   \n1851-06-25 18:00:00 AL011851          -999          -999          -999   \n1851-06-25 21:00:00 AL011851          -999          -999          -999   \n\n                              High Wind NW  Distance_prev_to_curr  \nDateTime            traj_id                                        \n1851-06-25 00:00:00 AL011851          -999                    NaN  \n1851-06-25 06:00:00 AL011851          -999           58907.516366  \n1851-06-25 12:00:00 AL011851          -999           58907.516366  \n1851-06-25 18:00:00 AL011851          -999           50310.976622  \n1851-06-25 21:00:00 AL011851          -999           31444.370265  \n\n[5 rows x 22 columns]",
      "text/html": "<div>\n<style scoped>\n    .dataframe tbody tr th:only-of-type {\n        vertical-align: middle;\n    }\n\n    .dataframe tbody tr th {\n        vertical-align: top;\n    }\n\n    .dataframe thead th {\n        text-align: right;\n    }\n</style>\n<table border=\"1\" class=\"dataframe\">\n  <thead>\n    <tr style=\"text-align: right;\">\n      <th></th>\n      <th></th>\n      <th>Name</th>\n      <th>Date</th>\n      <th>Time</th>\n      <th>Event</th>\n      <th>Status</th>\n      <th>lat</th>\n      <th>lon</th>\n      <th>Maximum Wind</th>\n      <th>Minimum Pressure</th>\n      <th>Low Wind NE</th>\n      <th>...</th>\n      <th>Low Wind NW</th>\n      <th>Moderate Wind NE</th>\n      <th>Moderate Wind SE</th>\n      <th>Moderate Wind SW</th>\n      <th>Moderate Wind NW</th>\n      <th>High Wind NE</th>\n      <th>High Wind SE</th>\n      <th>High Wind SW</th>\n      <th>High Wind NW</th>\n      <th>Distance_prev_to_curr</th>\n    </tr>\n    <tr>\n      <th>DateTime</th>\n      <th>traj_id</th>\n      <th></th>\n      <th></th>\n      <th></th>\n      <th></th>\n      <th></th>\n      <th></th>\n      <th></th>\n      <th></th>\n      <th></th>\n      <th></th>\n      <th></th>\n      <th></th>\n      <th></th>\n      <th></th>\n      <th></th>\n      <th></th>\n      <th></th>\n      <th></th>\n      <th></th>\n      <th></th>\n      <th></th>\n    </tr>\n  </thead>\n  <tbody>\n    <tr>\n      <th>1851-06-25 00:00:00</th>\n      <th>AL011851</th>\n      <td>UNNAMED</td>\n      <td>18510625</td>\n      <td>0</td>\n      <td></td>\n      <td>HU</td>\n      <td>28.0</td>\n      <td>-94.8</td>\n      <td>80</td>\n      <td>-999</td>\n      <td>-999</td>\n      <td>...</td>\n      <td>-999</td>\n      <td>-999</td>\n      <td>-999</td>\n      <td>-999</td>\n      <td>-999</td>\n      <td>-999</td>\n      <td>-999</td>\n      <td>-999</td>\n      <td>-999</td>\n      <td>NaN</td>\n    </tr>\n    <tr>\n      <th>1851-06-25 06:00:00</th>\n      <th>AL011851</th>\n      <td>UNNAMED</td>\n      <td>18510625</td>\n      <td>600</td>\n      <td></td>\n      <td>HU</td>\n      <td>28.0</td>\n      <td>-95.4</td>\n      <td>80</td>\n      <td>-999</td>\n      <td>-999</td>\n      <td>...</td>\n      <td>-999</td>\n      <td>-999</td>\n      <td>-999</td>\n      <td>-999</td>\n      <td>-999</td>\n      <td>-999</td>\n      <td>-999</td>\n      <td>-999</td>\n      <td>-999</td>\n      <td>58907.516366</td>\n    </tr>\n    <tr>\n      <th>1851-06-25 12:00:00</th>\n      <th>AL011851</th>\n      <td>UNNAMED</td>\n      <td>18510625</td>\n      <td>1200</td>\n      <td></td>\n      <td>HU</td>\n      <td>28.0</td>\n      <td>-96.0</td>\n      <td>80</td>\n      <td>-999</td>\n      <td>-999</td>\n      <td>...</td>\n      <td>-999</td>\n      <td>-999</td>\n      <td>-999</td>\n      <td>-999</td>\n      <td>-999</td>\n      <td>-999</td>\n      <td>-999</td>\n      <td>-999</td>\n      <td>-999</td>\n      <td>58907.516366</td>\n    </tr>\n    <tr>\n      <th>1851-06-25 18:00:00</th>\n      <th>AL011851</th>\n      <td>UNNAMED</td>\n      <td>18510625</td>\n      <td>1800</td>\n      <td></td>\n      <td>HU</td>\n      <td>28.1</td>\n      <td>-96.5</td>\n      <td>80</td>\n      <td>-999</td>\n      <td>-999</td>\n      <td>...</td>\n      <td>-999</td>\n      <td>-999</td>\n      <td>-999</td>\n      <td>-999</td>\n      <td>-999</td>\n      <td>-999</td>\n      <td>-999</td>\n      <td>-999</td>\n      <td>-999</td>\n      <td>50310.976622</td>\n    </tr>\n    <tr>\n      <th>1851-06-25 21:00:00</th>\n      <th>AL011851</th>\n      <td>UNNAMED</td>\n      <td>18510625</td>\n      <td>2100</td>\n      <td>L</td>\n      <td>HU</td>\n      <td>28.2</td>\n      <td>-96.8</td>\n      <td>80</td>\n      <td>-999</td>\n      <td>-999</td>\n      <td>...</td>\n      <td>-999</td>\n      <td>-999</td>\n      <td>-999</td>\n      <td>-999</td>\n      <td>-999</td>\n      <td>-999</td>\n      <td>-999</td>\n      <td>-999</td>\n      <td>-999</td>\n      <td>31444.370265</td>\n    </tr>\n  </tbody>\n</table>\n<p>5 rows × 22 columns</p>\n</div>"
     },
     "execution_count": 10,
     "metadata": {},
     "output_type": "execute_result"
    }
   ],
   "source": [
    "%%time\n",
    "\n",
    "# Here, we check the distance between 2 consecutive points\n",
    "# in the atlantic dataset.\n",
    "atlantic = spatial.create_distance_between_consecutive_column(atlantic)\n",
    "atlantic.head()"
   ],
   "metadata": {
    "collapsed": false,
    "pycharm": {
     "name": "#%%\n"
    }
   }
  },
  {
   "cell_type": "code",
   "execution_count": 11,
   "outputs": [
    {
     "name": "stdout",
     "output_type": "stream",
     "text": [
      "CPU times: user 190 ms, sys: 57.4 ms, total: 247 ms\n",
      "Wall time: 570 ms\n"
     ]
    },
    {
     "data": {
      "text/plain": "                                   lat         lon  Distance_prev_to_curr  \\\nDateTime            traj_id                                                 \n2008-10-23 16:53:05 1        39.984094  116.319236                    NaN   \n2008-10-23 16:53:06 1        39.984198  116.319322              13.690153   \n2008-10-23 05:53:11 1        39.984224  116.319402               7.403788   \n2008-10-23 05:53:16 1        39.984211  116.319389               1.821083   \n2008-10-23 05:53:21 1        39.984217  116.319422               2.889671   \n\n                             Distance_start_to_curr  \nDateTime            traj_id                          \n2008-10-23 16:53:05 1                           NaN  \n2008-10-23 16:53:06 1                     13.690153  \n2008-10-23 05:53:11 1                     20.223428  \n2008-10-23 05:53:16 1                     18.416895  \n2008-10-23 05:53:21 1                     20.933073  ",
      "text/html": "<div>\n<style scoped>\n    .dataframe tbody tr th:only-of-type {\n        vertical-align: middle;\n    }\n\n    .dataframe tbody tr th {\n        vertical-align: top;\n    }\n\n    .dataframe thead th {\n        text-align: right;\n    }\n</style>\n<table border=\"1\" class=\"dataframe\">\n  <thead>\n    <tr style=\"text-align: right;\">\n      <th></th>\n      <th></th>\n      <th>lat</th>\n      <th>lon</th>\n      <th>Distance_prev_to_curr</th>\n      <th>Distance_start_to_curr</th>\n    </tr>\n    <tr>\n      <th>DateTime</th>\n      <th>traj_id</th>\n      <th></th>\n      <th></th>\n      <th></th>\n      <th></th>\n    </tr>\n  </thead>\n  <tbody>\n    <tr>\n      <th>2008-10-23 16:53:05</th>\n      <th>1</th>\n      <td>39.984094</td>\n      <td>116.319236</td>\n      <td>NaN</td>\n      <td>NaN</td>\n    </tr>\n    <tr>\n      <th>2008-10-23 16:53:06</th>\n      <th>1</th>\n      <td>39.984198</td>\n      <td>116.319322</td>\n      <td>13.690153</td>\n      <td>13.690153</td>\n    </tr>\n    <tr>\n      <th>2008-10-23 05:53:11</th>\n      <th>1</th>\n      <td>39.984224</td>\n      <td>116.319402</td>\n      <td>7.403788</td>\n      <td>20.223428</td>\n    </tr>\n    <tr>\n      <th>2008-10-23 05:53:16</th>\n      <th>1</th>\n      <td>39.984211</td>\n      <td>116.319389</td>\n      <td>1.821083</td>\n      <td>18.416895</td>\n    </tr>\n    <tr>\n      <th>2008-10-23 05:53:21</th>\n      <th>1</th>\n      <td>39.984217</td>\n      <td>116.319422</td>\n      <td>2.889671</td>\n      <td>20.933073</td>\n    </tr>\n  </tbody>\n</table>\n</div>"
     },
     "execution_count": 11,
     "metadata": {},
     "output_type": "execute_result"
    }
   ],
   "source": [
    "%%time\n",
    "\n",
    "# Now, lets calculate the distance from start to current point for\n",
    "# each dataset one by one.\n",
    "# Here, we check the distance between start to all points\n",
    "# in the geolife dataset.\n",
    "\n",
    "geolife = spatial.create_distance_from_start_column(geolife)\n",
    "geolife.head()"
   ],
   "metadata": {
    "collapsed": false,
    "pycharm": {
     "name": "#%%\n"
    }
   }
  },
  {
   "cell_type": "code",
   "execution_count": 12,
   "outputs": [
    {
     "name": "stdout",
     "output_type": "stream",
     "text": [
      "CPU times: user 138 ms, sys: 49.9 ms, total: 188 ms\n",
      "Wall time: 519 ms\n"
     ]
    },
    {
     "data": {
      "text/plain": "                               event-id  visible       lon       lat  \\\nDateTime            traj_id                                            \n2009-05-27 14:00:00 91732    1082620685     True  24.58617  61.24783   \n2009-05-27 20:00:00 91732    1082620686     True  24.58217  61.23267   \n2009-05-28 05:00:00 91732    1082620687     True  24.53133  61.18833   \n2009-05-28 08:00:00 91732    1082620688     True  24.58200  61.23283   \n2009-05-28 14:00:00 91732    1082620689     True  24.58250  61.23267   \n\n                            sensor-type individual-taxon-canonical-name  \\\nDateTime            traj_id                                               \n2009-05-27 14:00:00 91732           gps                    Larus fuscus   \n2009-05-27 20:00:00 91732           gps                    Larus fuscus   \n2009-05-28 05:00:00 91732           gps                    Larus fuscus   \n2009-05-28 08:00:00 91732           gps                    Larus fuscus   \n2009-05-28 14:00:00 91732           gps                    Larus fuscus   \n\n                            individual-local-identifier  \\\nDateTime            traj_id                               \n2009-05-27 14:00:00 91732                        91732A   \n2009-05-27 20:00:00 91732                        91732A   \n2009-05-28 05:00:00 91732                        91732A   \n2009-05-28 08:00:00 91732                        91732A   \n2009-05-28 14:00:00 91732                        91732A   \n\n                                                                    study-name  \\\nDateTime            traj_id                                                      \n2009-05-27 14:00:00 91732    Navigation experiments in lesser black-backed ...   \n2009-05-27 20:00:00 91732    Navigation experiments in lesser black-backed ...   \n2009-05-28 05:00:00 91732    Navigation experiments in lesser black-backed ...   \n2009-05-28 08:00:00 91732    Navigation experiments in lesser black-backed ...   \n2009-05-28 14:00:00 91732    Navigation experiments in lesser black-backed ...   \n\n                             Distance_prev_to_curr  Distance_start_to_curr  \nDateTime            traj_id                                                 \n2009-05-27 14:00:00 91732                      NaN                     NaN  \n2009-05-27 20:00:00 91732              1699.244398             1699.244398  \n2009-05-28 05:00:00 91732              5632.120064             7238.295521  \n2009-05-28 08:00:00 91732              5643.314949             1682.777895  \n2009-05-28 14:00:00 91732                32.131494             1697.111327  ",
      "text/html": "<div>\n<style scoped>\n    .dataframe tbody tr th:only-of-type {\n        vertical-align: middle;\n    }\n\n    .dataframe tbody tr th {\n        vertical-align: top;\n    }\n\n    .dataframe thead th {\n        text-align: right;\n    }\n</style>\n<table border=\"1\" class=\"dataframe\">\n  <thead>\n    <tr style=\"text-align: right;\">\n      <th></th>\n      <th></th>\n      <th>event-id</th>\n      <th>visible</th>\n      <th>lon</th>\n      <th>lat</th>\n      <th>sensor-type</th>\n      <th>individual-taxon-canonical-name</th>\n      <th>individual-local-identifier</th>\n      <th>study-name</th>\n      <th>Distance_prev_to_curr</th>\n      <th>Distance_start_to_curr</th>\n    </tr>\n    <tr>\n      <th>DateTime</th>\n      <th>traj_id</th>\n      <th></th>\n      <th></th>\n      <th></th>\n      <th></th>\n      <th></th>\n      <th></th>\n      <th></th>\n      <th></th>\n      <th></th>\n      <th></th>\n    </tr>\n  </thead>\n  <tbody>\n    <tr>\n      <th>2009-05-27 14:00:00</th>\n      <th>91732</th>\n      <td>1082620685</td>\n      <td>True</td>\n      <td>24.58617</td>\n      <td>61.24783</td>\n      <td>gps</td>\n      <td>Larus fuscus</td>\n      <td>91732A</td>\n      <td>Navigation experiments in lesser black-backed ...</td>\n      <td>NaN</td>\n      <td>NaN</td>\n    </tr>\n    <tr>\n      <th>2009-05-27 20:00:00</th>\n      <th>91732</th>\n      <td>1082620686</td>\n      <td>True</td>\n      <td>24.58217</td>\n      <td>61.23267</td>\n      <td>gps</td>\n      <td>Larus fuscus</td>\n      <td>91732A</td>\n      <td>Navigation experiments in lesser black-backed ...</td>\n      <td>1699.244398</td>\n      <td>1699.244398</td>\n    </tr>\n    <tr>\n      <th>2009-05-28 05:00:00</th>\n      <th>91732</th>\n      <td>1082620687</td>\n      <td>True</td>\n      <td>24.53133</td>\n      <td>61.18833</td>\n      <td>gps</td>\n      <td>Larus fuscus</td>\n      <td>91732A</td>\n      <td>Navigation experiments in lesser black-backed ...</td>\n      <td>5632.120064</td>\n      <td>7238.295521</td>\n    </tr>\n    <tr>\n      <th>2009-05-28 08:00:00</th>\n      <th>91732</th>\n      <td>1082620688</td>\n      <td>True</td>\n      <td>24.58200</td>\n      <td>61.23283</td>\n      <td>gps</td>\n      <td>Larus fuscus</td>\n      <td>91732A</td>\n      <td>Navigation experiments in lesser black-backed ...</td>\n      <td>5643.314949</td>\n      <td>1682.777895</td>\n    </tr>\n    <tr>\n      <th>2009-05-28 14:00:00</th>\n      <th>91732</th>\n      <td>1082620689</td>\n      <td>True</td>\n      <td>24.58250</td>\n      <td>61.23267</td>\n      <td>gps</td>\n      <td>Larus fuscus</td>\n      <td>91732A</td>\n      <td>Navigation experiments in lesser black-backed ...</td>\n      <td>32.131494</td>\n      <td>1697.111327</td>\n    </tr>\n  </tbody>\n</table>\n</div>"
     },
     "execution_count": 12,
     "metadata": {},
     "output_type": "execute_result"
    }
   ],
   "source": [
    "%%time\n",
    "\n",
    "# Here, we check the distance between start to all points\n",
    "# in the seagulls dataset.\n",
    "gulls = spatial.create_distance_from_start_column(gulls)\n",
    "gulls.head()"
   ],
   "metadata": {
    "collapsed": false,
    "pycharm": {
     "name": "#%%\n"
    }
   }
  },
  {
   "cell_type": "code",
   "execution_count": 13,
   "outputs": [
    {
     "name": "stdout",
     "output_type": "stream",
     "text": [
      "CPU times: user 199 ms, sys: 77.7 ms, total: 277 ms\n",
      "Wall time: 488 ms\n"
     ]
    },
    {
     "data": {
      "text/plain": "                                             Name      Date  Time Event  \\\nDateTime            traj_id                                               \n1851-06-25 00:00:00 AL011851              UNNAMED  18510625     0         \n1851-06-25 06:00:00 AL011851              UNNAMED  18510625   600         \n1851-06-25 12:00:00 AL011851              UNNAMED  18510625  1200         \n1851-06-25 18:00:00 AL011851              UNNAMED  18510625  1800         \n1851-06-25 21:00:00 AL011851              UNNAMED  18510625  2100     L   \n\n                             Status   lat   lon  Maximum Wind  \\\nDateTime            traj_id                                     \n1851-06-25 00:00:00 AL011851     HU  28.0 -94.8            80   \n1851-06-25 06:00:00 AL011851     HU  28.0 -95.4            80   \n1851-06-25 12:00:00 AL011851     HU  28.0 -96.0            80   \n1851-06-25 18:00:00 AL011851     HU  28.1 -96.5            80   \n1851-06-25 21:00:00 AL011851     HU  28.2 -96.8            80   \n\n                              Minimum Pressure  Low Wind NE  ...  \\\nDateTime            traj_id                                  ...   \n1851-06-25 00:00:00 AL011851              -999         -999  ...   \n1851-06-25 06:00:00 AL011851              -999         -999  ...   \n1851-06-25 12:00:00 AL011851              -999         -999  ...   \n1851-06-25 18:00:00 AL011851              -999         -999  ...   \n1851-06-25 21:00:00 AL011851              -999         -999  ...   \n\n                              Moderate Wind NE  Moderate Wind SE  \\\nDateTime            traj_id                                        \n1851-06-25 00:00:00 AL011851              -999              -999   \n1851-06-25 06:00:00 AL011851              -999              -999   \n1851-06-25 12:00:00 AL011851              -999              -999   \n1851-06-25 18:00:00 AL011851              -999              -999   \n1851-06-25 21:00:00 AL011851              -999              -999   \n\n                              Moderate Wind SW  Moderate Wind NW  \\\nDateTime            traj_id                                        \n1851-06-25 00:00:00 AL011851              -999              -999   \n1851-06-25 06:00:00 AL011851              -999              -999   \n1851-06-25 12:00:00 AL011851              -999              -999   \n1851-06-25 18:00:00 AL011851              -999              -999   \n1851-06-25 21:00:00 AL011851              -999              -999   \n\n                              High Wind NE  High Wind SE  High Wind SW  \\\nDateTime            traj_id                                              \n1851-06-25 00:00:00 AL011851          -999          -999          -999   \n1851-06-25 06:00:00 AL011851          -999          -999          -999   \n1851-06-25 12:00:00 AL011851          -999          -999          -999   \n1851-06-25 18:00:00 AL011851          -999          -999          -999   \n1851-06-25 21:00:00 AL011851          -999          -999          -999   \n\n                              High Wind NW  Distance_prev_to_curr  \\\nDateTime            traj_id                                         \n1851-06-25 00:00:00 AL011851          -999                    NaN   \n1851-06-25 06:00:00 AL011851          -999           58907.516366   \n1851-06-25 12:00:00 AL011851          -999           58907.516366   \n1851-06-25 18:00:00 AL011851          -999           50310.976622   \n1851-06-25 21:00:00 AL011851          -999           31444.370265   \n\n                              Distance_start_to_curr  \nDateTime            traj_id                           \n1851-06-25 00:00:00 AL011851                     NaN  \n1851-06-25 06:00:00 AL011851            58907.516366  \n1851-06-25 12:00:00 AL011851           117814.676769  \n1851-06-25 18:00:00 AL011851           167196.061925  \n1851-06-25 21:00:00 AL011851           197430.193137  \n\n[5 rows x 23 columns]",
      "text/html": "<div>\n<style scoped>\n    .dataframe tbody tr th:only-of-type {\n        vertical-align: middle;\n    }\n\n    .dataframe tbody tr th {\n        vertical-align: top;\n    }\n\n    .dataframe thead th {\n        text-align: right;\n    }\n</style>\n<table border=\"1\" class=\"dataframe\">\n  <thead>\n    <tr style=\"text-align: right;\">\n      <th></th>\n      <th></th>\n      <th>Name</th>\n      <th>Date</th>\n      <th>Time</th>\n      <th>Event</th>\n      <th>Status</th>\n      <th>lat</th>\n      <th>lon</th>\n      <th>Maximum Wind</th>\n      <th>Minimum Pressure</th>\n      <th>Low Wind NE</th>\n      <th>...</th>\n      <th>Moderate Wind NE</th>\n      <th>Moderate Wind SE</th>\n      <th>Moderate Wind SW</th>\n      <th>Moderate Wind NW</th>\n      <th>High Wind NE</th>\n      <th>High Wind SE</th>\n      <th>High Wind SW</th>\n      <th>High Wind NW</th>\n      <th>Distance_prev_to_curr</th>\n      <th>Distance_start_to_curr</th>\n    </tr>\n    <tr>\n      <th>DateTime</th>\n      <th>traj_id</th>\n      <th></th>\n      <th></th>\n      <th></th>\n      <th></th>\n      <th></th>\n      <th></th>\n      <th></th>\n      <th></th>\n      <th></th>\n      <th></th>\n      <th></th>\n      <th></th>\n      <th></th>\n      <th></th>\n      <th></th>\n      <th></th>\n      <th></th>\n      <th></th>\n      <th></th>\n      <th></th>\n      <th></th>\n    </tr>\n  </thead>\n  <tbody>\n    <tr>\n      <th>1851-06-25 00:00:00</th>\n      <th>AL011851</th>\n      <td>UNNAMED</td>\n      <td>18510625</td>\n      <td>0</td>\n      <td></td>\n      <td>HU</td>\n      <td>28.0</td>\n      <td>-94.8</td>\n      <td>80</td>\n      <td>-999</td>\n      <td>-999</td>\n      <td>...</td>\n      <td>-999</td>\n      <td>-999</td>\n      <td>-999</td>\n      <td>-999</td>\n      <td>-999</td>\n      <td>-999</td>\n      <td>-999</td>\n      <td>-999</td>\n      <td>NaN</td>\n      <td>NaN</td>\n    </tr>\n    <tr>\n      <th>1851-06-25 06:00:00</th>\n      <th>AL011851</th>\n      <td>UNNAMED</td>\n      <td>18510625</td>\n      <td>600</td>\n      <td></td>\n      <td>HU</td>\n      <td>28.0</td>\n      <td>-95.4</td>\n      <td>80</td>\n      <td>-999</td>\n      <td>-999</td>\n      <td>...</td>\n      <td>-999</td>\n      <td>-999</td>\n      <td>-999</td>\n      <td>-999</td>\n      <td>-999</td>\n      <td>-999</td>\n      <td>-999</td>\n      <td>-999</td>\n      <td>58907.516366</td>\n      <td>58907.516366</td>\n    </tr>\n    <tr>\n      <th>1851-06-25 12:00:00</th>\n      <th>AL011851</th>\n      <td>UNNAMED</td>\n      <td>18510625</td>\n      <td>1200</td>\n      <td></td>\n      <td>HU</td>\n      <td>28.0</td>\n      <td>-96.0</td>\n      <td>80</td>\n      <td>-999</td>\n      <td>-999</td>\n      <td>...</td>\n      <td>-999</td>\n      <td>-999</td>\n      <td>-999</td>\n      <td>-999</td>\n      <td>-999</td>\n      <td>-999</td>\n      <td>-999</td>\n      <td>-999</td>\n      <td>58907.516366</td>\n      <td>117814.676769</td>\n    </tr>\n    <tr>\n      <th>1851-06-25 18:00:00</th>\n      <th>AL011851</th>\n      <td>UNNAMED</td>\n      <td>18510625</td>\n      <td>1800</td>\n      <td></td>\n      <td>HU</td>\n      <td>28.1</td>\n      <td>-96.5</td>\n      <td>80</td>\n      <td>-999</td>\n      <td>-999</td>\n      <td>...</td>\n      <td>-999</td>\n      <td>-999</td>\n      <td>-999</td>\n      <td>-999</td>\n      <td>-999</td>\n      <td>-999</td>\n      <td>-999</td>\n      <td>-999</td>\n      <td>50310.976622</td>\n      <td>167196.061925</td>\n    </tr>\n    <tr>\n      <th>1851-06-25 21:00:00</th>\n      <th>AL011851</th>\n      <td>UNNAMED</td>\n      <td>18510625</td>\n      <td>2100</td>\n      <td>L</td>\n      <td>HU</td>\n      <td>28.2</td>\n      <td>-96.8</td>\n      <td>80</td>\n      <td>-999</td>\n      <td>-999</td>\n      <td>...</td>\n      <td>-999</td>\n      <td>-999</td>\n      <td>-999</td>\n      <td>-999</td>\n      <td>-999</td>\n      <td>-999</td>\n      <td>-999</td>\n      <td>-999</td>\n      <td>31444.370265</td>\n      <td>197430.193137</td>\n    </tr>\n  </tbody>\n</table>\n<p>5 rows × 23 columns</p>\n</div>"
     },
     "execution_count": 13,
     "metadata": {},
     "output_type": "execute_result"
    }
   ],
   "source": [
    "%%time\n",
    "\n",
    "# Here, we check the distance between start to all points\n",
    "# in the atlantic dataset.\n",
    "atlantic = spatial.create_distance_from_start_column(atlantic)\n",
    "atlantic.head()"
   ],
   "metadata": {
    "collapsed": false,
    "pycharm": {
     "name": "#%%\n"
    }
   }
  },
  {
   "cell_type": "code",
   "execution_count": 14,
   "outputs": [
    {
     "name": "stdout",
     "output_type": "stream",
     "text": [
      "CPU times: user 164 ms, sys: 0 ns, total: 164 ms\n",
      "Wall time: 163 ms\n"
     ]
    },
    {
     "data": {
      "text/plain": "14748.27854559045"
     },
     "execution_count": 14,
     "metadata": {},
     "output_type": "execute_result"
    }
   ],
   "source": [
    "%%time\n",
    "\n",
    "# Here, we are calculating the distance travelled in traj_id 1\n",
    "# on the date 2008-10-23.\n",
    "spatial.get_distance_travelled_by_date_and_traj_id(geolife,\n",
    "                                                   '2008-10-23',\n",
    "                                                   '1')"
   ],
   "metadata": {
    "collapsed": false,
    "pycharm": {
     "name": "#%%\n"
    }
   }
  },
  {
   "cell_type": "code",
   "execution_count": 15,
   "outputs": [
    {
     "name": "stdout",
     "output_type": "stream",
     "text": [
      "CPU times: user 224 ms, sys: 59.5 ms, total: 284 ms\n",
      "Wall time: 613 ms\n"
     ]
    },
    {
     "data": {
      "text/plain": "                                   lat         lon  Distance_prev_to_curr  \\\nDateTime            traj_id                                                 \n2008-10-23 16:53:05 1        39.984094  116.319236                    NaN   \n2008-10-23 16:53:06 1        39.984198  116.319322              13.690153   \n2008-10-23 05:53:11 1        39.984224  116.319402               7.403788   \n2008-10-23 05:53:16 1        39.984211  116.319389               1.821083   \n2008-10-23 05:53:21 1        39.984217  116.319422               2.889671   \n\n                             Distance_start_to_curr  Distance_to_(0, 0)  \nDateTime            traj_id                                              \n2008-10-23 16:53:05 1                           NaN        1.221587e+07  \n2008-10-23 16:53:06 1                     13.690153        1.221587e+07  \n2008-10-23 05:53:11 1                     20.223428        1.221588e+07  \n2008-10-23 05:53:16 1                     18.416895        1.221588e+07  \n2008-10-23 05:53:21 1                     20.933073        1.221588e+07  ",
      "text/html": "<div>\n<style scoped>\n    .dataframe tbody tr th:only-of-type {\n        vertical-align: middle;\n    }\n\n    .dataframe tbody tr th {\n        vertical-align: top;\n    }\n\n    .dataframe thead th {\n        text-align: right;\n    }\n</style>\n<table border=\"1\" class=\"dataframe\">\n  <thead>\n    <tr style=\"text-align: right;\">\n      <th></th>\n      <th></th>\n      <th>lat</th>\n      <th>lon</th>\n      <th>Distance_prev_to_curr</th>\n      <th>Distance_start_to_curr</th>\n      <th>Distance_to_(0, 0)</th>\n    </tr>\n    <tr>\n      <th>DateTime</th>\n      <th>traj_id</th>\n      <th></th>\n      <th></th>\n      <th></th>\n      <th></th>\n      <th></th>\n    </tr>\n  </thead>\n  <tbody>\n    <tr>\n      <th>2008-10-23 16:53:05</th>\n      <th>1</th>\n      <td>39.984094</td>\n      <td>116.319236</td>\n      <td>NaN</td>\n      <td>NaN</td>\n      <td>1.221587e+07</td>\n    </tr>\n    <tr>\n      <th>2008-10-23 16:53:06</th>\n      <th>1</th>\n      <td>39.984198</td>\n      <td>116.319322</td>\n      <td>13.690153</td>\n      <td>13.690153</td>\n      <td>1.221587e+07</td>\n    </tr>\n    <tr>\n      <th>2008-10-23 05:53:11</th>\n      <th>1</th>\n      <td>39.984224</td>\n      <td>116.319402</td>\n      <td>7.403788</td>\n      <td>20.223428</td>\n      <td>1.221588e+07</td>\n    </tr>\n    <tr>\n      <th>2008-10-23 05:53:16</th>\n      <th>1</th>\n      <td>39.984211</td>\n      <td>116.319389</td>\n      <td>1.821083</td>\n      <td>18.416895</td>\n      <td>1.221588e+07</td>\n    </tr>\n    <tr>\n      <th>2008-10-23 05:53:21</th>\n      <th>1</th>\n      <td>39.984217</td>\n      <td>116.319422</td>\n      <td>2.889671</td>\n      <td>20.933073</td>\n      <td>1.221588e+07</td>\n    </tr>\n  </tbody>\n</table>\n</div>"
     },
     "execution_count": 15,
     "metadata": {},
     "output_type": "execute_result"
    }
   ],
   "source": [
    "%%time\n",
    "\n",
    "# Now, lets check the distance of all the points\n",
    "# in the geolife dataset from the coordinates (0, 0).\n",
    "geolife = spatial.create_distance_from_given_point_column(geolife,\n",
    "                                                          (0, 0))\n",
    "geolife.head()"
   ],
   "metadata": {
    "collapsed": false,
    "pycharm": {
     "name": "#%%\n"
    }
   }
  },
  {
   "cell_type": "code",
   "execution_count": 16,
   "outputs": [
    {
     "name": "stdout",
     "output_type": "stream",
     "text": [
      "CPU times: user 246 ms, sys: 39.2 ms, total: 285 ms\n",
      "Wall time: 650 ms\n"
     ]
    },
    {
     "data": {
      "text/plain": "                                   lat         lon  Distance_prev_to_curr  \\\nDateTime            traj_id                                                 \n2008-10-23 16:53:05 1        39.984094  116.319236                    NaN   \n2008-10-23 16:53:06 1        39.984198  116.319322              13.690153   \n2008-10-23 05:53:11 1        39.984224  116.319402               7.403788   \n2008-10-23 05:53:16 1        39.984211  116.319389               1.821083   \n2008-10-23 05:53:21 1        39.984217  116.319422               2.889671   \n\n                             Distance_start_to_curr  Distance_to_(0, 0)  \\\nDateTime            traj_id                                               \n2008-10-23 16:53:05 1                           NaN        1.221587e+07   \n2008-10-23 16:53:06 1                     13.690153        1.221587e+07   \n2008-10-23 05:53:11 1                     20.223428        1.221588e+07   \n2008-10-23 05:53:16 1                     18.416895        1.221588e+07   \n2008-10-23 05:53:21 1                     20.933073        1.221588e+07   \n\n                             Within_15000000_m_from_(0, 0)  \nDateTime            traj_id                                 \n2008-10-23 16:53:05 1                                 True  \n2008-10-23 16:53:06 1                                 True  \n2008-10-23 05:53:11 1                                 True  \n2008-10-23 05:53:16 1                                 True  \n2008-10-23 05:53:21 1                                 True  ",
      "text/html": "<div>\n<style scoped>\n    .dataframe tbody tr th:only-of-type {\n        vertical-align: middle;\n    }\n\n    .dataframe tbody tr th {\n        vertical-align: top;\n    }\n\n    .dataframe thead th {\n        text-align: right;\n    }\n</style>\n<table border=\"1\" class=\"dataframe\">\n  <thead>\n    <tr style=\"text-align: right;\">\n      <th></th>\n      <th></th>\n      <th>lat</th>\n      <th>lon</th>\n      <th>Distance_prev_to_curr</th>\n      <th>Distance_start_to_curr</th>\n      <th>Distance_to_(0, 0)</th>\n      <th>Within_15000000_m_from_(0, 0)</th>\n    </tr>\n    <tr>\n      <th>DateTime</th>\n      <th>traj_id</th>\n      <th></th>\n      <th></th>\n      <th></th>\n      <th></th>\n      <th></th>\n      <th></th>\n    </tr>\n  </thead>\n  <tbody>\n    <tr>\n      <th>2008-10-23 16:53:05</th>\n      <th>1</th>\n      <td>39.984094</td>\n      <td>116.319236</td>\n      <td>NaN</td>\n      <td>NaN</td>\n      <td>1.221587e+07</td>\n      <td>True</td>\n    </tr>\n    <tr>\n      <th>2008-10-23 16:53:06</th>\n      <th>1</th>\n      <td>39.984198</td>\n      <td>116.319322</td>\n      <td>13.690153</td>\n      <td>13.690153</td>\n      <td>1.221587e+07</td>\n      <td>True</td>\n    </tr>\n    <tr>\n      <th>2008-10-23 05:53:11</th>\n      <th>1</th>\n      <td>39.984224</td>\n      <td>116.319402</td>\n      <td>7.403788</td>\n      <td>20.223428</td>\n      <td>1.221588e+07</td>\n      <td>True</td>\n    </tr>\n    <tr>\n      <th>2008-10-23 05:53:16</th>\n      <th>1</th>\n      <td>39.984211</td>\n      <td>116.319389</td>\n      <td>1.821083</td>\n      <td>18.416895</td>\n      <td>1.221588e+07</td>\n      <td>True</td>\n    </tr>\n    <tr>\n      <th>2008-10-23 05:53:21</th>\n      <th>1</th>\n      <td>39.984217</td>\n      <td>116.319422</td>\n      <td>2.889671</td>\n      <td>20.933073</td>\n      <td>1.221588e+07</td>\n      <td>True</td>\n    </tr>\n  </tbody>\n</table>\n</div>"
     },
     "execution_count": 16,
     "metadata": {},
     "output_type": "execute_result"
    }
   ],
   "source": [
    "%%time\n",
    "\n",
    "# Now, lets check if all the points in the geolife dataset\n",
    "# are within 12000 KMs of the coordinates (0, 0).\n",
    "geolife = spatial.create_point_within_range_column(geolife,\n",
    "                                                   (0,0),\n",
    "                                                   15000000)\n",
    "geolife.head()"
   ],
   "metadata": {
    "collapsed": false,
    "pycharm": {
     "name": "#%%\n"
    }
   }
  },
  {
   "cell_type": "code",
   "execution_count": 17,
   "outputs": [
    {
     "name": "stdout",
     "output_type": "stream",
     "text": [
      "CPU times: user 44.7 ms, sys: 669 µs, total: 45.3 ms\n",
      "Wall time: 45 ms\n"
     ]
    },
    {
     "data": {
      "text/plain": "                                   lat         lon  Distance_prev_to_curr  \\\nDateTime            traj_id                                                 \n2008-10-23 16:53:05 1        39.984094  116.319236                    NaN   \n2008-10-23 16:53:06 1        39.984198  116.319322              13.690153   \n2008-10-23 05:53:11 1        39.984224  116.319402               7.403788   \n2008-10-23 05:53:16 1        39.984211  116.319389               1.821083   \n2008-10-23 05:53:21 1        39.984217  116.319422               2.889671   \n\n                             Distance_start_to_curr  Distance_to_(0, 0)  \\\nDateTime            traj_id                                               \n2008-10-23 16:53:05 1                           NaN        1.221587e+07   \n2008-10-23 16:53:06 1                     13.690153        1.221587e+07   \n2008-10-23 05:53:11 1                     20.223428        1.221588e+07   \n2008-10-23 05:53:16 1                     18.416895        1.221588e+07   \n2008-10-23 05:53:21 1                     20.933073        1.221588e+07   \n\n                             Within_15000000_m_from_(0, 0)  Speed_prev_to_curr  \nDateTime            traj_id                                                     \n2008-10-23 16:53:05 1                                 True                 NaN  \n2008-10-23 16:53:06 1                                 True           13.690153  \n2008-10-23 05:53:11 1                                 True            0.000158  \n2008-10-23 05:53:16 1                                 True            0.364217  \n2008-10-23 05:53:21 1                                 True            0.577934  ",
      "text/html": "<div>\n<style scoped>\n    .dataframe tbody tr th:only-of-type {\n        vertical-align: middle;\n    }\n\n    .dataframe tbody tr th {\n        vertical-align: top;\n    }\n\n    .dataframe thead th {\n        text-align: right;\n    }\n</style>\n<table border=\"1\" class=\"dataframe\">\n  <thead>\n    <tr style=\"text-align: right;\">\n      <th></th>\n      <th></th>\n      <th>lat</th>\n      <th>lon</th>\n      <th>Distance_prev_to_curr</th>\n      <th>Distance_start_to_curr</th>\n      <th>Distance_to_(0, 0)</th>\n      <th>Within_15000000_m_from_(0, 0)</th>\n      <th>Speed_prev_to_curr</th>\n    </tr>\n    <tr>\n      <th>DateTime</th>\n      <th>traj_id</th>\n      <th></th>\n      <th></th>\n      <th></th>\n      <th></th>\n      <th></th>\n      <th></th>\n      <th></th>\n    </tr>\n  </thead>\n  <tbody>\n    <tr>\n      <th>2008-10-23 16:53:05</th>\n      <th>1</th>\n      <td>39.984094</td>\n      <td>116.319236</td>\n      <td>NaN</td>\n      <td>NaN</td>\n      <td>1.221587e+07</td>\n      <td>True</td>\n      <td>NaN</td>\n    </tr>\n    <tr>\n      <th>2008-10-23 16:53:06</th>\n      <th>1</th>\n      <td>39.984198</td>\n      <td>116.319322</td>\n      <td>13.690153</td>\n      <td>13.690153</td>\n      <td>1.221587e+07</td>\n      <td>True</td>\n      <td>13.690153</td>\n    </tr>\n    <tr>\n      <th>2008-10-23 05:53:11</th>\n      <th>1</th>\n      <td>39.984224</td>\n      <td>116.319402</td>\n      <td>7.403788</td>\n      <td>20.223428</td>\n      <td>1.221588e+07</td>\n      <td>True</td>\n      <td>0.000158</td>\n    </tr>\n    <tr>\n      <th>2008-10-23 05:53:16</th>\n      <th>1</th>\n      <td>39.984211</td>\n      <td>116.319389</td>\n      <td>1.821083</td>\n      <td>18.416895</td>\n      <td>1.221588e+07</td>\n      <td>True</td>\n      <td>0.364217</td>\n    </tr>\n    <tr>\n      <th>2008-10-23 05:53:21</th>\n      <th>1</th>\n      <td>39.984217</td>\n      <td>116.319422</td>\n      <td>2.889671</td>\n      <td>20.933073</td>\n      <td>1.221588e+07</td>\n      <td>True</td>\n      <td>0.577934</td>\n    </tr>\n  </tbody>\n</table>\n</div>"
     },
     "execution_count": 17,
     "metadata": {},
     "output_type": "execute_result"
    }
   ],
   "source": [
    "%%time\n",
    "\n",
    "# Now, lets calculate the speed of the object between 2\n",
    "# consecutive trajectory points.\n",
    "# First, we are doing in the geolife dataset.\n",
    "geolife = spatial.create_speed_from_prev_column(geolife)\n",
    "geolife.head()"
   ],
   "metadata": {
    "collapsed": false,
    "pycharm": {
     "name": "#%%\n"
    }
   }
  },
  {
   "cell_type": "code",
   "execution_count": 18,
   "outputs": [
    {
     "name": "stdout",
     "output_type": "stream",
     "text": [
      "CPU times: user 16.6 ms, sys: 4.09 ms, total: 20.6 ms\n",
      "Wall time: 18.9 ms\n"
     ]
    },
    {
     "data": {
      "text/plain": "                                             Name      Date  Time Event  \\\nDateTime            traj_id                                               \n1851-06-25 00:00:00 AL011851              UNNAMED  18510625     0         \n1851-06-25 06:00:00 AL011851              UNNAMED  18510625   600         \n1851-06-25 12:00:00 AL011851              UNNAMED  18510625  1200         \n1851-06-25 18:00:00 AL011851              UNNAMED  18510625  1800         \n1851-06-25 21:00:00 AL011851              UNNAMED  18510625  2100     L   \n\n                             Status   lat   lon  Maximum Wind  \\\nDateTime            traj_id                                     \n1851-06-25 00:00:00 AL011851     HU  28.0 -94.8            80   \n1851-06-25 06:00:00 AL011851     HU  28.0 -95.4            80   \n1851-06-25 12:00:00 AL011851     HU  28.0 -96.0            80   \n1851-06-25 18:00:00 AL011851     HU  28.1 -96.5            80   \n1851-06-25 21:00:00 AL011851     HU  28.2 -96.8            80   \n\n                              Minimum Pressure  Low Wind NE  ...  \\\nDateTime            traj_id                                  ...   \n1851-06-25 00:00:00 AL011851              -999         -999  ...   \n1851-06-25 06:00:00 AL011851              -999         -999  ...   \n1851-06-25 12:00:00 AL011851              -999         -999  ...   \n1851-06-25 18:00:00 AL011851              -999         -999  ...   \n1851-06-25 21:00:00 AL011851              -999         -999  ...   \n\n                              Moderate Wind SE  Moderate Wind SW  \\\nDateTime            traj_id                                        \n1851-06-25 00:00:00 AL011851              -999              -999   \n1851-06-25 06:00:00 AL011851              -999              -999   \n1851-06-25 12:00:00 AL011851              -999              -999   \n1851-06-25 18:00:00 AL011851              -999              -999   \n1851-06-25 21:00:00 AL011851              -999              -999   \n\n                              Moderate Wind NW  High Wind NE  High Wind SE  \\\nDateTime            traj_id                                                  \n1851-06-25 00:00:00 AL011851              -999          -999          -999   \n1851-06-25 06:00:00 AL011851              -999          -999          -999   \n1851-06-25 12:00:00 AL011851              -999          -999          -999   \n1851-06-25 18:00:00 AL011851              -999          -999          -999   \n1851-06-25 21:00:00 AL011851              -999          -999          -999   \n\n                              High Wind SW  High Wind NW  \\\nDateTime            traj_id                                \n1851-06-25 00:00:00 AL011851          -999          -999   \n1851-06-25 06:00:00 AL011851          -999          -999   \n1851-06-25 12:00:00 AL011851          -999          -999   \n1851-06-25 18:00:00 AL011851          -999          -999   \n1851-06-25 21:00:00 AL011851          -999          -999   \n\n                              Distance_prev_to_curr  Distance_start_to_curr  \\\nDateTime            traj_id                                                   \n1851-06-25 00:00:00 AL011851                    NaN                     NaN   \n1851-06-25 06:00:00 AL011851           58907.516366            58907.516366   \n1851-06-25 12:00:00 AL011851           58907.516366           117814.676769   \n1851-06-25 18:00:00 AL011851           50310.976622           167196.061925   \n1851-06-25 21:00:00 AL011851           31444.370265           197430.193137   \n\n                              Speed_prev_to_curr  \nDateTime            traj_id                       \n1851-06-25 00:00:00 AL011851                 NaN  \n1851-06-25 06:00:00 AL011851            2.727200  \n1851-06-25 12:00:00 AL011851            2.727200  \n1851-06-25 18:00:00 AL011851            2.329212  \n1851-06-25 21:00:00 AL011851            2.911516  \n\n[5 rows x 24 columns]",
      "text/html": "<div>\n<style scoped>\n    .dataframe tbody tr th:only-of-type {\n        vertical-align: middle;\n    }\n\n    .dataframe tbody tr th {\n        vertical-align: top;\n    }\n\n    .dataframe thead th {\n        text-align: right;\n    }\n</style>\n<table border=\"1\" class=\"dataframe\">\n  <thead>\n    <tr style=\"text-align: right;\">\n      <th></th>\n      <th></th>\n      <th>Name</th>\n      <th>Date</th>\n      <th>Time</th>\n      <th>Event</th>\n      <th>Status</th>\n      <th>lat</th>\n      <th>lon</th>\n      <th>Maximum Wind</th>\n      <th>Minimum Pressure</th>\n      <th>Low Wind NE</th>\n      <th>...</th>\n      <th>Moderate Wind SE</th>\n      <th>Moderate Wind SW</th>\n      <th>Moderate Wind NW</th>\n      <th>High Wind NE</th>\n      <th>High Wind SE</th>\n      <th>High Wind SW</th>\n      <th>High Wind NW</th>\n      <th>Distance_prev_to_curr</th>\n      <th>Distance_start_to_curr</th>\n      <th>Speed_prev_to_curr</th>\n    </tr>\n    <tr>\n      <th>DateTime</th>\n      <th>traj_id</th>\n      <th></th>\n      <th></th>\n      <th></th>\n      <th></th>\n      <th></th>\n      <th></th>\n      <th></th>\n      <th></th>\n      <th></th>\n      <th></th>\n      <th></th>\n      <th></th>\n      <th></th>\n      <th></th>\n      <th></th>\n      <th></th>\n      <th></th>\n      <th></th>\n      <th></th>\n      <th></th>\n      <th></th>\n    </tr>\n  </thead>\n  <tbody>\n    <tr>\n      <th>1851-06-25 00:00:00</th>\n      <th>AL011851</th>\n      <td>UNNAMED</td>\n      <td>18510625</td>\n      <td>0</td>\n      <td></td>\n      <td>HU</td>\n      <td>28.0</td>\n      <td>-94.8</td>\n      <td>80</td>\n      <td>-999</td>\n      <td>-999</td>\n      <td>...</td>\n      <td>-999</td>\n      <td>-999</td>\n      <td>-999</td>\n      <td>-999</td>\n      <td>-999</td>\n      <td>-999</td>\n      <td>-999</td>\n      <td>NaN</td>\n      <td>NaN</td>\n      <td>NaN</td>\n    </tr>\n    <tr>\n      <th>1851-06-25 06:00:00</th>\n      <th>AL011851</th>\n      <td>UNNAMED</td>\n      <td>18510625</td>\n      <td>600</td>\n      <td></td>\n      <td>HU</td>\n      <td>28.0</td>\n      <td>-95.4</td>\n      <td>80</td>\n      <td>-999</td>\n      <td>-999</td>\n      <td>...</td>\n      <td>-999</td>\n      <td>-999</td>\n      <td>-999</td>\n      <td>-999</td>\n      <td>-999</td>\n      <td>-999</td>\n      <td>-999</td>\n      <td>58907.516366</td>\n      <td>58907.516366</td>\n      <td>2.727200</td>\n    </tr>\n    <tr>\n      <th>1851-06-25 12:00:00</th>\n      <th>AL011851</th>\n      <td>UNNAMED</td>\n      <td>18510625</td>\n      <td>1200</td>\n      <td></td>\n      <td>HU</td>\n      <td>28.0</td>\n      <td>-96.0</td>\n      <td>80</td>\n      <td>-999</td>\n      <td>-999</td>\n      <td>...</td>\n      <td>-999</td>\n      <td>-999</td>\n      <td>-999</td>\n      <td>-999</td>\n      <td>-999</td>\n      <td>-999</td>\n      <td>-999</td>\n      <td>58907.516366</td>\n      <td>117814.676769</td>\n      <td>2.727200</td>\n    </tr>\n    <tr>\n      <th>1851-06-25 18:00:00</th>\n      <th>AL011851</th>\n      <td>UNNAMED</td>\n      <td>18510625</td>\n      <td>1800</td>\n      <td></td>\n      <td>HU</td>\n      <td>28.1</td>\n      <td>-96.5</td>\n      <td>80</td>\n      <td>-999</td>\n      <td>-999</td>\n      <td>...</td>\n      <td>-999</td>\n      <td>-999</td>\n      <td>-999</td>\n      <td>-999</td>\n      <td>-999</td>\n      <td>-999</td>\n      <td>-999</td>\n      <td>50310.976622</td>\n      <td>167196.061925</td>\n      <td>2.329212</td>\n    </tr>\n    <tr>\n      <th>1851-06-25 21:00:00</th>\n      <th>AL011851</th>\n      <td>UNNAMED</td>\n      <td>18510625</td>\n      <td>2100</td>\n      <td>L</td>\n      <td>HU</td>\n      <td>28.2</td>\n      <td>-96.8</td>\n      <td>80</td>\n      <td>-999</td>\n      <td>-999</td>\n      <td>...</td>\n      <td>-999</td>\n      <td>-999</td>\n      <td>-999</td>\n      <td>-999</td>\n      <td>-999</td>\n      <td>-999</td>\n      <td>-999</td>\n      <td>31444.370265</td>\n      <td>197430.193137</td>\n      <td>2.911516</td>\n    </tr>\n  </tbody>\n</table>\n<p>5 rows × 24 columns</p>\n</div>"
     },
     "execution_count": 18,
     "metadata": {},
     "output_type": "execute_result"
    }
   ],
   "source": [
    "%%time\n",
    "\n",
    "# Now lets calculate the speed between 2 consecutive\n",
    "# points in the atlantic dataset.\n",
    "atlantic = spatial.create_speed_from_prev_column(atlantic)\n",
    "atlantic.head()"
   ],
   "metadata": {
    "collapsed": false,
    "pycharm": {
     "name": "#%%\n"
    }
   }
  },
  {
   "cell_type": "code",
   "execution_count": 19,
   "outputs": [
    {
     "name": "stdout",
     "output_type": "stream",
     "text": [
      "CPU times: user 18.1 ms, sys: 0 ns, total: 18.1 ms\n",
      "Wall time: 17 ms\n"
     ]
    },
    {
     "data": {
      "text/plain": "                               event-id  visible       lon       lat  \\\nDateTime            traj_id                                            \n2009-05-27 14:00:00 91732    1082620685     True  24.58617  61.24783   \n2009-05-27 20:00:00 91732    1082620686     True  24.58217  61.23267   \n2009-05-28 05:00:00 91732    1082620687     True  24.53133  61.18833   \n2009-05-28 08:00:00 91732    1082620688     True  24.58200  61.23283   \n2009-05-28 14:00:00 91732    1082620689     True  24.58250  61.23267   \n\n                            sensor-type individual-taxon-canonical-name  \\\nDateTime            traj_id                                               \n2009-05-27 14:00:00 91732           gps                    Larus fuscus   \n2009-05-27 20:00:00 91732           gps                    Larus fuscus   \n2009-05-28 05:00:00 91732           gps                    Larus fuscus   \n2009-05-28 08:00:00 91732           gps                    Larus fuscus   \n2009-05-28 14:00:00 91732           gps                    Larus fuscus   \n\n                            individual-local-identifier  \\\nDateTime            traj_id                               \n2009-05-27 14:00:00 91732                        91732A   \n2009-05-27 20:00:00 91732                        91732A   \n2009-05-28 05:00:00 91732                        91732A   \n2009-05-28 08:00:00 91732                        91732A   \n2009-05-28 14:00:00 91732                        91732A   \n\n                                                                    study-name  \\\nDateTime            traj_id                                                      \n2009-05-27 14:00:00 91732    Navigation experiments in lesser black-backed ...   \n2009-05-27 20:00:00 91732    Navigation experiments in lesser black-backed ...   \n2009-05-28 05:00:00 91732    Navigation experiments in lesser black-backed ...   \n2009-05-28 08:00:00 91732    Navigation experiments in lesser black-backed ...   \n2009-05-28 14:00:00 91732    Navigation experiments in lesser black-backed ...   \n\n                             Distance_prev_to_curr  Distance_start_to_curr  \\\nDateTime            traj_id                                                  \n2009-05-27 14:00:00 91732                      NaN                     NaN   \n2009-05-27 20:00:00 91732              1699.244398             1699.244398   \n2009-05-28 05:00:00 91732              5632.120064             7238.295521   \n2009-05-28 08:00:00 91732              5643.314949             1682.777895   \n2009-05-28 14:00:00 91732                32.131494             1697.111327   \n\n                             Speed_prev_to_curr  \nDateTime            traj_id                      \n2009-05-27 14:00:00 91732                   NaN  \n2009-05-27 20:00:00 91732              0.078669  \n2009-05-28 05:00:00 91732              0.173831  \n2009-05-28 08:00:00 91732              0.522529  \n2009-05-28 14:00:00 91732              0.001488  ",
      "text/html": "<div>\n<style scoped>\n    .dataframe tbody tr th:only-of-type {\n        vertical-align: middle;\n    }\n\n    .dataframe tbody tr th {\n        vertical-align: top;\n    }\n\n    .dataframe thead th {\n        text-align: right;\n    }\n</style>\n<table border=\"1\" class=\"dataframe\">\n  <thead>\n    <tr style=\"text-align: right;\">\n      <th></th>\n      <th></th>\n      <th>event-id</th>\n      <th>visible</th>\n      <th>lon</th>\n      <th>lat</th>\n      <th>sensor-type</th>\n      <th>individual-taxon-canonical-name</th>\n      <th>individual-local-identifier</th>\n      <th>study-name</th>\n      <th>Distance_prev_to_curr</th>\n      <th>Distance_start_to_curr</th>\n      <th>Speed_prev_to_curr</th>\n    </tr>\n    <tr>\n      <th>DateTime</th>\n      <th>traj_id</th>\n      <th></th>\n      <th></th>\n      <th></th>\n      <th></th>\n      <th></th>\n      <th></th>\n      <th></th>\n      <th></th>\n      <th></th>\n      <th></th>\n      <th></th>\n    </tr>\n  </thead>\n  <tbody>\n    <tr>\n      <th>2009-05-27 14:00:00</th>\n      <th>91732</th>\n      <td>1082620685</td>\n      <td>True</td>\n      <td>24.58617</td>\n      <td>61.24783</td>\n      <td>gps</td>\n      <td>Larus fuscus</td>\n      <td>91732A</td>\n      <td>Navigation experiments in lesser black-backed ...</td>\n      <td>NaN</td>\n      <td>NaN</td>\n      <td>NaN</td>\n    </tr>\n    <tr>\n      <th>2009-05-27 20:00:00</th>\n      <th>91732</th>\n      <td>1082620686</td>\n      <td>True</td>\n      <td>24.58217</td>\n      <td>61.23267</td>\n      <td>gps</td>\n      <td>Larus fuscus</td>\n      <td>91732A</td>\n      <td>Navigation experiments in lesser black-backed ...</td>\n      <td>1699.244398</td>\n      <td>1699.244398</td>\n      <td>0.078669</td>\n    </tr>\n    <tr>\n      <th>2009-05-28 05:00:00</th>\n      <th>91732</th>\n      <td>1082620687</td>\n      <td>True</td>\n      <td>24.53133</td>\n      <td>61.18833</td>\n      <td>gps</td>\n      <td>Larus fuscus</td>\n      <td>91732A</td>\n      <td>Navigation experiments in lesser black-backed ...</td>\n      <td>5632.120064</td>\n      <td>7238.295521</td>\n      <td>0.173831</td>\n    </tr>\n    <tr>\n      <th>2009-05-28 08:00:00</th>\n      <th>91732</th>\n      <td>1082620688</td>\n      <td>True</td>\n      <td>24.58200</td>\n      <td>61.23283</td>\n      <td>gps</td>\n      <td>Larus fuscus</td>\n      <td>91732A</td>\n      <td>Navigation experiments in lesser black-backed ...</td>\n      <td>5643.314949</td>\n      <td>1682.777895</td>\n      <td>0.522529</td>\n    </tr>\n    <tr>\n      <th>2009-05-28 14:00:00</th>\n      <th>91732</th>\n      <td>1082620689</td>\n      <td>True</td>\n      <td>24.58250</td>\n      <td>61.23267</td>\n      <td>gps</td>\n      <td>Larus fuscus</td>\n      <td>91732A</td>\n      <td>Navigation experiments in lesser black-backed ...</td>\n      <td>32.131494</td>\n      <td>1697.111327</td>\n      <td>0.001488</td>\n    </tr>\n  </tbody>\n</table>\n</div>"
     },
     "execution_count": 19,
     "metadata": {},
     "output_type": "execute_result"
    }
   ],
   "source": [
    "%%time\n",
    "\n",
    "# Now lets calculate the speed between 2 consecutive\n",
    "# points in the seagulls dataset.\n",
    "gulls = spatial.create_speed_from_prev_column(gulls)\n",
    "gulls.head()"
   ],
   "metadata": {
    "collapsed": false,
    "pycharm": {
     "name": "#%%\n"
    }
   }
  },
  {
   "cell_type": "code",
   "execution_count": 20,
   "outputs": [
    {
     "name": "stdout",
     "output_type": "stream",
     "text": [
      "CPU times: user 33.2 ms, sys: 0 ns, total: 33.2 ms\n",
      "Wall time: 31.6 ms\n"
     ]
    },
    {
     "data": {
      "text/plain": "                                   lat         lon  Distance_prev_to_curr  \\\nDateTime            traj_id                                                 \n2008-10-23 16:53:05 1        39.984094  116.319236                    NaN   \n2008-10-23 16:53:06 1        39.984198  116.319322              13.690153   \n2008-10-23 05:53:11 1        39.984224  116.319402               7.403788   \n2008-10-23 05:53:16 1        39.984211  116.319389               1.821083   \n2008-10-23 05:53:21 1        39.984217  116.319422               2.889671   \n\n                             Distance_start_to_curr  Distance_to_(0, 0)  \\\nDateTime            traj_id                                               \n2008-10-23 16:53:05 1                           NaN        1.221587e+07   \n2008-10-23 16:53:06 1                     13.690153        1.221587e+07   \n2008-10-23 05:53:11 1                     20.223428        1.221588e+07   \n2008-10-23 05:53:16 1                     18.416895        1.221588e+07   \n2008-10-23 05:53:21 1                     20.933073        1.221588e+07   \n\n                             Within_15000000_m_from_(0, 0)  \\\nDateTime            traj_id                                  \n2008-10-23 16:53:05 1                                 True   \n2008-10-23 16:53:06 1                                 True   \n2008-10-23 05:53:11 1                                 True   \n2008-10-23 05:53:16 1                                 True   \n2008-10-23 05:53:21 1                                 True   \n\n                             Speed_prev_to_curr  Acceleration_prev_to_curr  \nDateTime            traj_id                                                 \n2008-10-23 16:53:05 1                       NaN                        NaN  \n2008-10-23 16:53:06 1                 13.690153                        NaN  \n2008-10-23 05:53:11 1                  0.000158                  -0.000292  \n2008-10-23 05:53:16 1                  0.364217                   0.072812  \n2008-10-23 05:53:21 1                  0.577934                   0.042744  ",
      "text/html": "<div>\n<style scoped>\n    .dataframe tbody tr th:only-of-type {\n        vertical-align: middle;\n    }\n\n    .dataframe tbody tr th {\n        vertical-align: top;\n    }\n\n    .dataframe thead th {\n        text-align: right;\n    }\n</style>\n<table border=\"1\" class=\"dataframe\">\n  <thead>\n    <tr style=\"text-align: right;\">\n      <th></th>\n      <th></th>\n      <th>lat</th>\n      <th>lon</th>\n      <th>Distance_prev_to_curr</th>\n      <th>Distance_start_to_curr</th>\n      <th>Distance_to_(0, 0)</th>\n      <th>Within_15000000_m_from_(0, 0)</th>\n      <th>Speed_prev_to_curr</th>\n      <th>Acceleration_prev_to_curr</th>\n    </tr>\n    <tr>\n      <th>DateTime</th>\n      <th>traj_id</th>\n      <th></th>\n      <th></th>\n      <th></th>\n      <th></th>\n      <th></th>\n      <th></th>\n      <th></th>\n      <th></th>\n    </tr>\n  </thead>\n  <tbody>\n    <tr>\n      <th>2008-10-23 16:53:05</th>\n      <th>1</th>\n      <td>39.984094</td>\n      <td>116.319236</td>\n      <td>NaN</td>\n      <td>NaN</td>\n      <td>1.221587e+07</td>\n      <td>True</td>\n      <td>NaN</td>\n      <td>NaN</td>\n    </tr>\n    <tr>\n      <th>2008-10-23 16:53:06</th>\n      <th>1</th>\n      <td>39.984198</td>\n      <td>116.319322</td>\n      <td>13.690153</td>\n      <td>13.690153</td>\n      <td>1.221587e+07</td>\n      <td>True</td>\n      <td>13.690153</td>\n      <td>NaN</td>\n    </tr>\n    <tr>\n      <th>2008-10-23 05:53:11</th>\n      <th>1</th>\n      <td>39.984224</td>\n      <td>116.319402</td>\n      <td>7.403788</td>\n      <td>20.223428</td>\n      <td>1.221588e+07</td>\n      <td>True</td>\n      <td>0.000158</td>\n      <td>-0.000292</td>\n    </tr>\n    <tr>\n      <th>2008-10-23 05:53:16</th>\n      <th>1</th>\n      <td>39.984211</td>\n      <td>116.319389</td>\n      <td>1.821083</td>\n      <td>18.416895</td>\n      <td>1.221588e+07</td>\n      <td>True</td>\n      <td>0.364217</td>\n      <td>0.072812</td>\n    </tr>\n    <tr>\n      <th>2008-10-23 05:53:21</th>\n      <th>1</th>\n      <td>39.984217</td>\n      <td>116.319422</td>\n      <td>2.889671</td>\n      <td>20.933073</td>\n      <td>1.221588e+07</td>\n      <td>True</td>\n      <td>0.577934</td>\n      <td>0.042744</td>\n    </tr>\n  </tbody>\n</table>\n</div>"
     },
     "execution_count": 20,
     "metadata": {},
     "output_type": "execute_result"
    }
   ],
   "source": [
    "%%time\n",
    "\n",
    "# Now lets check the acceleration of the object\n",
    "# between 2 consecutive points.\n",
    "# First, lets check for the geolife dataset.\n",
    "geolife = spatial.create_acceleration_from_prev_column(geolife)\n",
    "geolife.head()"
   ],
   "metadata": {
    "collapsed": false,
    "pycharm": {
     "name": "#%%\n"
    }
   }
  },
  {
   "cell_type": "code",
   "execution_count": 21,
   "outputs": [
    {
     "name": "stdout",
     "output_type": "stream",
     "text": [
      "CPU times: user 25.1 ms, sys: 169 µs, total: 25.3 ms\n",
      "Wall time: 23.3 ms\n"
     ]
    },
    {
     "data": {
      "text/plain": "                               event-id  visible       lon       lat  \\\nDateTime            traj_id                                            \n2009-05-27 14:00:00 91732    1082620685     True  24.58617  61.24783   \n2009-05-27 20:00:00 91732    1082620686     True  24.58217  61.23267   \n2009-05-28 05:00:00 91732    1082620687     True  24.53133  61.18833   \n2009-05-28 08:00:00 91732    1082620688     True  24.58200  61.23283   \n2009-05-28 14:00:00 91732    1082620689     True  24.58250  61.23267   \n\n                            sensor-type individual-taxon-canonical-name  \\\nDateTime            traj_id                                               \n2009-05-27 14:00:00 91732           gps                    Larus fuscus   \n2009-05-27 20:00:00 91732           gps                    Larus fuscus   \n2009-05-28 05:00:00 91732           gps                    Larus fuscus   \n2009-05-28 08:00:00 91732           gps                    Larus fuscus   \n2009-05-28 14:00:00 91732           gps                    Larus fuscus   \n\n                            individual-local-identifier  \\\nDateTime            traj_id                               \n2009-05-27 14:00:00 91732                        91732A   \n2009-05-27 20:00:00 91732                        91732A   \n2009-05-28 05:00:00 91732                        91732A   \n2009-05-28 08:00:00 91732                        91732A   \n2009-05-28 14:00:00 91732                        91732A   \n\n                                                                    study-name  \\\nDateTime            traj_id                                                      \n2009-05-27 14:00:00 91732    Navigation experiments in lesser black-backed ...   \n2009-05-27 20:00:00 91732    Navigation experiments in lesser black-backed ...   \n2009-05-28 05:00:00 91732    Navigation experiments in lesser black-backed ...   \n2009-05-28 08:00:00 91732    Navigation experiments in lesser black-backed ...   \n2009-05-28 14:00:00 91732    Navigation experiments in lesser black-backed ...   \n\n                             Distance_prev_to_curr  Distance_start_to_curr  \\\nDateTime            traj_id                                                  \n2009-05-27 14:00:00 91732                      NaN                     NaN   \n2009-05-27 20:00:00 91732              1699.244398             1699.244398   \n2009-05-28 05:00:00 91732              5632.120064             7238.295521   \n2009-05-28 08:00:00 91732              5643.314949             1682.777895   \n2009-05-28 14:00:00 91732                32.131494             1697.111327   \n\n                             Speed_prev_to_curr  Acceleration_prev_to_curr  \nDateTime            traj_id                                                 \n2009-05-27 14:00:00 91732                   NaN                        NaN  \n2009-05-27 20:00:00 91732              0.078669                        NaN  \n2009-05-28 05:00:00 91732              0.173831                   0.000003  \n2009-05-28 08:00:00 91732              0.522529                   0.000032  \n2009-05-28 14:00:00 91732              0.001488                  -0.000024  ",
      "text/html": "<div>\n<style scoped>\n    .dataframe tbody tr th:only-of-type {\n        vertical-align: middle;\n    }\n\n    .dataframe tbody tr th {\n        vertical-align: top;\n    }\n\n    .dataframe thead th {\n        text-align: right;\n    }\n</style>\n<table border=\"1\" class=\"dataframe\">\n  <thead>\n    <tr style=\"text-align: right;\">\n      <th></th>\n      <th></th>\n      <th>event-id</th>\n      <th>visible</th>\n      <th>lon</th>\n      <th>lat</th>\n      <th>sensor-type</th>\n      <th>individual-taxon-canonical-name</th>\n      <th>individual-local-identifier</th>\n      <th>study-name</th>\n      <th>Distance_prev_to_curr</th>\n      <th>Distance_start_to_curr</th>\n      <th>Speed_prev_to_curr</th>\n      <th>Acceleration_prev_to_curr</th>\n    </tr>\n    <tr>\n      <th>DateTime</th>\n      <th>traj_id</th>\n      <th></th>\n      <th></th>\n      <th></th>\n      <th></th>\n      <th></th>\n      <th></th>\n      <th></th>\n      <th></th>\n      <th></th>\n      <th></th>\n      <th></th>\n      <th></th>\n    </tr>\n  </thead>\n  <tbody>\n    <tr>\n      <th>2009-05-27 14:00:00</th>\n      <th>91732</th>\n      <td>1082620685</td>\n      <td>True</td>\n      <td>24.58617</td>\n      <td>61.24783</td>\n      <td>gps</td>\n      <td>Larus fuscus</td>\n      <td>91732A</td>\n      <td>Navigation experiments in lesser black-backed ...</td>\n      <td>NaN</td>\n      <td>NaN</td>\n      <td>NaN</td>\n      <td>NaN</td>\n    </tr>\n    <tr>\n      <th>2009-05-27 20:00:00</th>\n      <th>91732</th>\n      <td>1082620686</td>\n      <td>True</td>\n      <td>24.58217</td>\n      <td>61.23267</td>\n      <td>gps</td>\n      <td>Larus fuscus</td>\n      <td>91732A</td>\n      <td>Navigation experiments in lesser black-backed ...</td>\n      <td>1699.244398</td>\n      <td>1699.244398</td>\n      <td>0.078669</td>\n      <td>NaN</td>\n    </tr>\n    <tr>\n      <th>2009-05-28 05:00:00</th>\n      <th>91732</th>\n      <td>1082620687</td>\n      <td>True</td>\n      <td>24.53133</td>\n      <td>61.18833</td>\n      <td>gps</td>\n      <td>Larus fuscus</td>\n      <td>91732A</td>\n      <td>Navigation experiments in lesser black-backed ...</td>\n      <td>5632.120064</td>\n      <td>7238.295521</td>\n      <td>0.173831</td>\n      <td>0.000003</td>\n    </tr>\n    <tr>\n      <th>2009-05-28 08:00:00</th>\n      <th>91732</th>\n      <td>1082620688</td>\n      <td>True</td>\n      <td>24.58200</td>\n      <td>61.23283</td>\n      <td>gps</td>\n      <td>Larus fuscus</td>\n      <td>91732A</td>\n      <td>Navigation experiments in lesser black-backed ...</td>\n      <td>5643.314949</td>\n      <td>1682.777895</td>\n      <td>0.522529</td>\n      <td>0.000032</td>\n    </tr>\n    <tr>\n      <th>2009-05-28 14:00:00</th>\n      <th>91732</th>\n      <td>1082620689</td>\n      <td>True</td>\n      <td>24.58250</td>\n      <td>61.23267</td>\n      <td>gps</td>\n      <td>Larus fuscus</td>\n      <td>91732A</td>\n      <td>Navigation experiments in lesser black-backed ...</td>\n      <td>32.131494</td>\n      <td>1697.111327</td>\n      <td>0.001488</td>\n      <td>-0.000024</td>\n    </tr>\n  </tbody>\n</table>\n</div>"
     },
     "execution_count": 21,
     "metadata": {},
     "output_type": "execute_result"
    }
   ],
   "source": [
    "%%time\n",
    "\n",
    "# Now lets check the acceleration of the gulls dataset.\n",
    "gulls = spatial.create_acceleration_from_prev_column(gulls)\n",
    "gulls.head()"
   ],
   "metadata": {
    "collapsed": false,
    "pycharm": {
     "name": "#%%\n"
    }
   }
  },
  {
   "cell_type": "code",
   "execution_count": 22,
   "outputs": [
    {
     "name": "stdout",
     "output_type": "stream",
     "text": [
      "CPU times: user 14.2 ms, sys: 306 µs, total: 14.5 ms\n",
      "Wall time: 13.1 ms\n"
     ]
    },
    {
     "data": {
      "text/plain": "                                             Name      Date  Time Event  \\\nDateTime            traj_id                                               \n1851-06-25 00:00:00 AL011851              UNNAMED  18510625     0         \n1851-06-25 06:00:00 AL011851              UNNAMED  18510625   600         \n1851-06-25 12:00:00 AL011851              UNNAMED  18510625  1200         \n1851-06-25 18:00:00 AL011851              UNNAMED  18510625  1800         \n1851-06-25 21:00:00 AL011851              UNNAMED  18510625  2100     L   \n\n                             Status   lat   lon  Maximum Wind  \\\nDateTime            traj_id                                     \n1851-06-25 00:00:00 AL011851     HU  28.0 -94.8            80   \n1851-06-25 06:00:00 AL011851     HU  28.0 -95.4            80   \n1851-06-25 12:00:00 AL011851     HU  28.0 -96.0            80   \n1851-06-25 18:00:00 AL011851     HU  28.1 -96.5            80   \n1851-06-25 21:00:00 AL011851     HU  28.2 -96.8            80   \n\n                              Minimum Pressure  Low Wind NE  ...  \\\nDateTime            traj_id                                  ...   \n1851-06-25 00:00:00 AL011851              -999         -999  ...   \n1851-06-25 06:00:00 AL011851              -999         -999  ...   \n1851-06-25 12:00:00 AL011851              -999         -999  ...   \n1851-06-25 18:00:00 AL011851              -999         -999  ...   \n1851-06-25 21:00:00 AL011851              -999         -999  ...   \n\n                              Moderate Wind SW  Moderate Wind NW  \\\nDateTime            traj_id                                        \n1851-06-25 00:00:00 AL011851              -999              -999   \n1851-06-25 06:00:00 AL011851              -999              -999   \n1851-06-25 12:00:00 AL011851              -999              -999   \n1851-06-25 18:00:00 AL011851              -999              -999   \n1851-06-25 21:00:00 AL011851              -999              -999   \n\n                              High Wind NE  High Wind SE  High Wind SW  \\\nDateTime            traj_id                                              \n1851-06-25 00:00:00 AL011851          -999          -999          -999   \n1851-06-25 06:00:00 AL011851          -999          -999          -999   \n1851-06-25 12:00:00 AL011851          -999          -999          -999   \n1851-06-25 18:00:00 AL011851          -999          -999          -999   \n1851-06-25 21:00:00 AL011851          -999          -999          -999   \n\n                              High Wind NW  Distance_prev_to_curr  \\\nDateTime            traj_id                                         \n1851-06-25 00:00:00 AL011851          -999                    NaN   \n1851-06-25 06:00:00 AL011851          -999           58907.516366   \n1851-06-25 12:00:00 AL011851          -999           58907.516366   \n1851-06-25 18:00:00 AL011851          -999           50310.976622   \n1851-06-25 21:00:00 AL011851          -999           31444.370265   \n\n                              Distance_start_to_curr  Speed_prev_to_curr  \\\nDateTime            traj_id                                                \n1851-06-25 00:00:00 AL011851                     NaN                 NaN   \n1851-06-25 06:00:00 AL011851            58907.516366            2.727200   \n1851-06-25 12:00:00 AL011851           117814.676769            2.727200   \n1851-06-25 18:00:00 AL011851           167196.061925            2.329212   \n1851-06-25 21:00:00 AL011851           197430.193137            2.911516   \n\n                              Acceleration_prev_to_curr  \nDateTime            traj_id                              \n1851-06-25 00:00:00 AL011851                        NaN  \n1851-06-25 06:00:00 AL011851                        NaN  \n1851-06-25 12:00:00 AL011851              -3.001714e-18  \n1851-06-25 18:00:00 AL011851              -1.842537e-05  \n1851-06-25 21:00:00 AL011851               5.391703e-05  \n\n[5 rows x 25 columns]",
      "text/html": "<div>\n<style scoped>\n    .dataframe tbody tr th:only-of-type {\n        vertical-align: middle;\n    }\n\n    .dataframe tbody tr th {\n        vertical-align: top;\n    }\n\n    .dataframe thead th {\n        text-align: right;\n    }\n</style>\n<table border=\"1\" class=\"dataframe\">\n  <thead>\n    <tr style=\"text-align: right;\">\n      <th></th>\n      <th></th>\n      <th>Name</th>\n      <th>Date</th>\n      <th>Time</th>\n      <th>Event</th>\n      <th>Status</th>\n      <th>lat</th>\n      <th>lon</th>\n      <th>Maximum Wind</th>\n      <th>Minimum Pressure</th>\n      <th>Low Wind NE</th>\n      <th>...</th>\n      <th>Moderate Wind SW</th>\n      <th>Moderate Wind NW</th>\n      <th>High Wind NE</th>\n      <th>High Wind SE</th>\n      <th>High Wind SW</th>\n      <th>High Wind NW</th>\n      <th>Distance_prev_to_curr</th>\n      <th>Distance_start_to_curr</th>\n      <th>Speed_prev_to_curr</th>\n      <th>Acceleration_prev_to_curr</th>\n    </tr>\n    <tr>\n      <th>DateTime</th>\n      <th>traj_id</th>\n      <th></th>\n      <th></th>\n      <th></th>\n      <th></th>\n      <th></th>\n      <th></th>\n      <th></th>\n      <th></th>\n      <th></th>\n      <th></th>\n      <th></th>\n      <th></th>\n      <th></th>\n      <th></th>\n      <th></th>\n      <th></th>\n      <th></th>\n      <th></th>\n      <th></th>\n      <th></th>\n      <th></th>\n    </tr>\n  </thead>\n  <tbody>\n    <tr>\n      <th>1851-06-25 00:00:00</th>\n      <th>AL011851</th>\n      <td>UNNAMED</td>\n      <td>18510625</td>\n      <td>0</td>\n      <td></td>\n      <td>HU</td>\n      <td>28.0</td>\n      <td>-94.8</td>\n      <td>80</td>\n      <td>-999</td>\n      <td>-999</td>\n      <td>...</td>\n      <td>-999</td>\n      <td>-999</td>\n      <td>-999</td>\n      <td>-999</td>\n      <td>-999</td>\n      <td>-999</td>\n      <td>NaN</td>\n      <td>NaN</td>\n      <td>NaN</td>\n      <td>NaN</td>\n    </tr>\n    <tr>\n      <th>1851-06-25 06:00:00</th>\n      <th>AL011851</th>\n      <td>UNNAMED</td>\n      <td>18510625</td>\n      <td>600</td>\n      <td></td>\n      <td>HU</td>\n      <td>28.0</td>\n      <td>-95.4</td>\n      <td>80</td>\n      <td>-999</td>\n      <td>-999</td>\n      <td>...</td>\n      <td>-999</td>\n      <td>-999</td>\n      <td>-999</td>\n      <td>-999</td>\n      <td>-999</td>\n      <td>-999</td>\n      <td>58907.516366</td>\n      <td>58907.516366</td>\n      <td>2.727200</td>\n      <td>NaN</td>\n    </tr>\n    <tr>\n      <th>1851-06-25 12:00:00</th>\n      <th>AL011851</th>\n      <td>UNNAMED</td>\n      <td>18510625</td>\n      <td>1200</td>\n      <td></td>\n      <td>HU</td>\n      <td>28.0</td>\n      <td>-96.0</td>\n      <td>80</td>\n      <td>-999</td>\n      <td>-999</td>\n      <td>...</td>\n      <td>-999</td>\n      <td>-999</td>\n      <td>-999</td>\n      <td>-999</td>\n      <td>-999</td>\n      <td>-999</td>\n      <td>58907.516366</td>\n      <td>117814.676769</td>\n      <td>2.727200</td>\n      <td>-3.001714e-18</td>\n    </tr>\n    <tr>\n      <th>1851-06-25 18:00:00</th>\n      <th>AL011851</th>\n      <td>UNNAMED</td>\n      <td>18510625</td>\n      <td>1800</td>\n      <td></td>\n      <td>HU</td>\n      <td>28.1</td>\n      <td>-96.5</td>\n      <td>80</td>\n      <td>-999</td>\n      <td>-999</td>\n      <td>...</td>\n      <td>-999</td>\n      <td>-999</td>\n      <td>-999</td>\n      <td>-999</td>\n      <td>-999</td>\n      <td>-999</td>\n      <td>50310.976622</td>\n      <td>167196.061925</td>\n      <td>2.329212</td>\n      <td>-1.842537e-05</td>\n    </tr>\n    <tr>\n      <th>1851-06-25 21:00:00</th>\n      <th>AL011851</th>\n      <td>UNNAMED</td>\n      <td>18510625</td>\n      <td>2100</td>\n      <td>L</td>\n      <td>HU</td>\n      <td>28.2</td>\n      <td>-96.8</td>\n      <td>80</td>\n      <td>-999</td>\n      <td>-999</td>\n      <td>...</td>\n      <td>-999</td>\n      <td>-999</td>\n      <td>-999</td>\n      <td>-999</td>\n      <td>-999</td>\n      <td>-999</td>\n      <td>31444.370265</td>\n      <td>197430.193137</td>\n      <td>2.911516</td>\n      <td>5.391703e-05</td>\n    </tr>\n  </tbody>\n</table>\n<p>5 rows × 25 columns</p>\n</div>"
     },
     "execution_count": 22,
     "metadata": {},
     "output_type": "execute_result"
    }
   ],
   "source": [
    "%%time\n",
    "\n",
    "# Now lets check the acceleration of the atlantic dataset.\n",
    "atlantic = spatial.create_acceleration_from_prev_column(atlantic)\n",
    "atlantic.head()"
   ],
   "metadata": {
    "collapsed": false,
    "pycharm": {
     "name": "#%%\n"
    }
   }
  },
  {
   "cell_type": "code",
   "execution_count": 23,
   "outputs": [
    {
     "name": "stdout",
     "output_type": "stream",
     "text": [
      "CPU times: user 27.6 ms, sys: 132 µs, total: 27.7 ms\n",
      "Wall time: 26 ms\n"
     ]
    },
    {
     "data": {
      "text/plain": "                                   lat         lon  Distance_prev_to_curr  \\\nDateTime            traj_id                                                 \n2008-10-23 16:53:05 1        39.984094  116.319236                    NaN   \n2008-10-23 16:53:06 1        39.984198  116.319322              13.690153   \n2008-10-23 05:53:11 1        39.984224  116.319402               7.403788   \n2008-10-23 05:53:16 1        39.984211  116.319389               1.821083   \n2008-10-23 05:53:21 1        39.984217  116.319422               2.889671   \n\n                             Distance_start_to_curr  Distance_to_(0, 0)  \\\nDateTime            traj_id                                               \n2008-10-23 16:53:05 1                           NaN        1.221587e+07   \n2008-10-23 16:53:06 1                     13.690153        1.221587e+07   \n2008-10-23 05:53:11 1                     20.223428        1.221588e+07   \n2008-10-23 05:53:16 1                     18.416895        1.221588e+07   \n2008-10-23 05:53:21 1                     20.933073        1.221588e+07   \n\n                             Within_15000000_m_from_(0, 0)  \\\nDateTime            traj_id                                  \n2008-10-23 16:53:05 1                                 True   \n2008-10-23 16:53:06 1                                 True   \n2008-10-23 05:53:11 1                                 True   \n2008-10-23 05:53:16 1                                 True   \n2008-10-23 05:53:21 1                                 True   \n\n                             Speed_prev_to_curr  Acceleration_prev_to_curr  \\\nDateTime            traj_id                                                  \n2008-10-23 16:53:05 1                       NaN                        NaN   \n2008-10-23 16:53:06 1                 13.690153                        NaN   \n2008-10-23 05:53:11 1                  0.000158                  -0.000292   \n2008-10-23 05:53:16 1                  0.364217                   0.072812   \n2008-10-23 05:53:21 1                  0.577934                   0.042744   \n\n                             jerk_prev_to_curr  \nDateTime            traj_id                     \n2008-10-23 16:53:05 1                      NaN  \n2008-10-23 16:53:06 1                      NaN  \n2008-10-23 05:53:11 1                      NaN  \n2008-10-23 05:53:16 1                 0.014621  \n2008-10-23 05:53:21 1                -0.006014  ",
      "text/html": "<div>\n<style scoped>\n    .dataframe tbody tr th:only-of-type {\n        vertical-align: middle;\n    }\n\n    .dataframe tbody tr th {\n        vertical-align: top;\n    }\n\n    .dataframe thead th {\n        text-align: right;\n    }\n</style>\n<table border=\"1\" class=\"dataframe\">\n  <thead>\n    <tr style=\"text-align: right;\">\n      <th></th>\n      <th></th>\n      <th>lat</th>\n      <th>lon</th>\n      <th>Distance_prev_to_curr</th>\n      <th>Distance_start_to_curr</th>\n      <th>Distance_to_(0, 0)</th>\n      <th>Within_15000000_m_from_(0, 0)</th>\n      <th>Speed_prev_to_curr</th>\n      <th>Acceleration_prev_to_curr</th>\n      <th>jerk_prev_to_curr</th>\n    </tr>\n    <tr>\n      <th>DateTime</th>\n      <th>traj_id</th>\n      <th></th>\n      <th></th>\n      <th></th>\n      <th></th>\n      <th></th>\n      <th></th>\n      <th></th>\n      <th></th>\n      <th></th>\n    </tr>\n  </thead>\n  <tbody>\n    <tr>\n      <th>2008-10-23 16:53:05</th>\n      <th>1</th>\n      <td>39.984094</td>\n      <td>116.319236</td>\n      <td>NaN</td>\n      <td>NaN</td>\n      <td>1.221587e+07</td>\n      <td>True</td>\n      <td>NaN</td>\n      <td>NaN</td>\n      <td>NaN</td>\n    </tr>\n    <tr>\n      <th>2008-10-23 16:53:06</th>\n      <th>1</th>\n      <td>39.984198</td>\n      <td>116.319322</td>\n      <td>13.690153</td>\n      <td>13.690153</td>\n      <td>1.221587e+07</td>\n      <td>True</td>\n      <td>13.690153</td>\n      <td>NaN</td>\n      <td>NaN</td>\n    </tr>\n    <tr>\n      <th>2008-10-23 05:53:11</th>\n      <th>1</th>\n      <td>39.984224</td>\n      <td>116.319402</td>\n      <td>7.403788</td>\n      <td>20.223428</td>\n      <td>1.221588e+07</td>\n      <td>True</td>\n      <td>0.000158</td>\n      <td>-0.000292</td>\n      <td>NaN</td>\n    </tr>\n    <tr>\n      <th>2008-10-23 05:53:16</th>\n      <th>1</th>\n      <td>39.984211</td>\n      <td>116.319389</td>\n      <td>1.821083</td>\n      <td>18.416895</td>\n      <td>1.221588e+07</td>\n      <td>True</td>\n      <td>0.364217</td>\n      <td>0.072812</td>\n      <td>0.014621</td>\n    </tr>\n    <tr>\n      <th>2008-10-23 05:53:21</th>\n      <th>1</th>\n      <td>39.984217</td>\n      <td>116.319422</td>\n      <td>2.889671</td>\n      <td>20.933073</td>\n      <td>1.221588e+07</td>\n      <td>True</td>\n      <td>0.577934</td>\n      <td>0.042744</td>\n      <td>-0.006014</td>\n    </tr>\n  </tbody>\n</table>\n</div>"
     },
     "execution_count": 23,
     "metadata": {},
     "output_type": "execute_result"
    }
   ],
   "source": [
    "%%time\n",
    "\n",
    "# Now lets check the jerk of the object between 2 consecutive\n",
    "# points.\n",
    "# First, we will do it for the geolife dataset.\n",
    "geolife = spatial.create_jerk_from_prev_column(geolife)\n",
    "geolife.head()"
   ],
   "metadata": {
    "collapsed": false,
    "pycharm": {
     "name": "#%%\n"
    }
   }
  },
  {
   "cell_type": "code",
   "execution_count": 24,
   "outputs": [
    {
     "name": "stdout",
     "output_type": "stream",
     "text": [
      "CPU times: user 11.6 ms, sys: 249 µs, total: 11.8 ms\n",
      "Wall time: 10.8 ms\n"
     ]
    },
    {
     "data": {
      "text/plain": "                                             Name      Date  Time Event  \\\nDateTime            traj_id                                               \n1851-06-25 00:00:00 AL011851              UNNAMED  18510625     0         \n1851-06-25 06:00:00 AL011851              UNNAMED  18510625   600         \n1851-06-25 12:00:00 AL011851              UNNAMED  18510625  1200         \n1851-06-25 18:00:00 AL011851              UNNAMED  18510625  1800         \n1851-06-25 21:00:00 AL011851              UNNAMED  18510625  2100     L   \n\n                             Status   lat   lon  Maximum Wind  \\\nDateTime            traj_id                                     \n1851-06-25 00:00:00 AL011851     HU  28.0 -94.8            80   \n1851-06-25 06:00:00 AL011851     HU  28.0 -95.4            80   \n1851-06-25 12:00:00 AL011851     HU  28.0 -96.0            80   \n1851-06-25 18:00:00 AL011851     HU  28.1 -96.5            80   \n1851-06-25 21:00:00 AL011851     HU  28.2 -96.8            80   \n\n                              Minimum Pressure  Low Wind NE  ...  \\\nDateTime            traj_id                                  ...   \n1851-06-25 00:00:00 AL011851              -999         -999  ...   \n1851-06-25 06:00:00 AL011851              -999         -999  ...   \n1851-06-25 12:00:00 AL011851              -999         -999  ...   \n1851-06-25 18:00:00 AL011851              -999         -999  ...   \n1851-06-25 21:00:00 AL011851              -999         -999  ...   \n\n                              Moderate Wind NW  High Wind NE  High Wind SE  \\\nDateTime            traj_id                                                  \n1851-06-25 00:00:00 AL011851              -999          -999          -999   \n1851-06-25 06:00:00 AL011851              -999          -999          -999   \n1851-06-25 12:00:00 AL011851              -999          -999          -999   \n1851-06-25 18:00:00 AL011851              -999          -999          -999   \n1851-06-25 21:00:00 AL011851              -999          -999          -999   \n\n                              High Wind SW  High Wind NW  \\\nDateTime            traj_id                                \n1851-06-25 00:00:00 AL011851          -999          -999   \n1851-06-25 06:00:00 AL011851          -999          -999   \n1851-06-25 12:00:00 AL011851          -999          -999   \n1851-06-25 18:00:00 AL011851          -999          -999   \n1851-06-25 21:00:00 AL011851          -999          -999   \n\n                              Distance_prev_to_curr  Distance_start_to_curr  \\\nDateTime            traj_id                                                   \n1851-06-25 00:00:00 AL011851                    NaN                     NaN   \n1851-06-25 06:00:00 AL011851           58907.516366            58907.516366   \n1851-06-25 12:00:00 AL011851           58907.516366           117814.676769   \n1851-06-25 18:00:00 AL011851           50310.976622           167196.061925   \n1851-06-25 21:00:00 AL011851           31444.370265           197430.193137   \n\n                              Speed_prev_to_curr  Acceleration_prev_to_curr  \\\nDateTime            traj_id                                                   \n1851-06-25 00:00:00 AL011851                 NaN                        NaN   \n1851-06-25 06:00:00 AL011851            2.727200                        NaN   \n1851-06-25 12:00:00 AL011851            2.727200              -3.001714e-18   \n1851-06-25 18:00:00 AL011851            2.329212              -1.842537e-05   \n1851-06-25 21:00:00 AL011851            2.911516               5.391703e-05   \n\n                              jerk_prev_to_curr  \nDateTime            traj_id                      \n1851-06-25 00:00:00 AL011851                NaN  \n1851-06-25 06:00:00 AL011851                NaN  \n1851-06-25 12:00:00 AL011851                NaN  \n1851-06-25 18:00:00 AL011851      -8.530263e-10  \n1851-06-25 21:00:00 AL011851       6.698370e-09  \n\n[5 rows x 26 columns]",
      "text/html": "<div>\n<style scoped>\n    .dataframe tbody tr th:only-of-type {\n        vertical-align: middle;\n    }\n\n    .dataframe tbody tr th {\n        vertical-align: top;\n    }\n\n    .dataframe thead th {\n        text-align: right;\n    }\n</style>\n<table border=\"1\" class=\"dataframe\">\n  <thead>\n    <tr style=\"text-align: right;\">\n      <th></th>\n      <th></th>\n      <th>Name</th>\n      <th>Date</th>\n      <th>Time</th>\n      <th>Event</th>\n      <th>Status</th>\n      <th>lat</th>\n      <th>lon</th>\n      <th>Maximum Wind</th>\n      <th>Minimum Pressure</th>\n      <th>Low Wind NE</th>\n      <th>...</th>\n      <th>Moderate Wind NW</th>\n      <th>High Wind NE</th>\n      <th>High Wind SE</th>\n      <th>High Wind SW</th>\n      <th>High Wind NW</th>\n      <th>Distance_prev_to_curr</th>\n      <th>Distance_start_to_curr</th>\n      <th>Speed_prev_to_curr</th>\n      <th>Acceleration_prev_to_curr</th>\n      <th>jerk_prev_to_curr</th>\n    </tr>\n    <tr>\n      <th>DateTime</th>\n      <th>traj_id</th>\n      <th></th>\n      <th></th>\n      <th></th>\n      <th></th>\n      <th></th>\n      <th></th>\n      <th></th>\n      <th></th>\n      <th></th>\n      <th></th>\n      <th></th>\n      <th></th>\n      <th></th>\n      <th></th>\n      <th></th>\n      <th></th>\n      <th></th>\n      <th></th>\n      <th></th>\n      <th></th>\n      <th></th>\n    </tr>\n  </thead>\n  <tbody>\n    <tr>\n      <th>1851-06-25 00:00:00</th>\n      <th>AL011851</th>\n      <td>UNNAMED</td>\n      <td>18510625</td>\n      <td>0</td>\n      <td></td>\n      <td>HU</td>\n      <td>28.0</td>\n      <td>-94.8</td>\n      <td>80</td>\n      <td>-999</td>\n      <td>-999</td>\n      <td>...</td>\n      <td>-999</td>\n      <td>-999</td>\n      <td>-999</td>\n      <td>-999</td>\n      <td>-999</td>\n      <td>NaN</td>\n      <td>NaN</td>\n      <td>NaN</td>\n      <td>NaN</td>\n      <td>NaN</td>\n    </tr>\n    <tr>\n      <th>1851-06-25 06:00:00</th>\n      <th>AL011851</th>\n      <td>UNNAMED</td>\n      <td>18510625</td>\n      <td>600</td>\n      <td></td>\n      <td>HU</td>\n      <td>28.0</td>\n      <td>-95.4</td>\n      <td>80</td>\n      <td>-999</td>\n      <td>-999</td>\n      <td>...</td>\n      <td>-999</td>\n      <td>-999</td>\n      <td>-999</td>\n      <td>-999</td>\n      <td>-999</td>\n      <td>58907.516366</td>\n      <td>58907.516366</td>\n      <td>2.727200</td>\n      <td>NaN</td>\n      <td>NaN</td>\n    </tr>\n    <tr>\n      <th>1851-06-25 12:00:00</th>\n      <th>AL011851</th>\n      <td>UNNAMED</td>\n      <td>18510625</td>\n      <td>1200</td>\n      <td></td>\n      <td>HU</td>\n      <td>28.0</td>\n      <td>-96.0</td>\n      <td>80</td>\n      <td>-999</td>\n      <td>-999</td>\n      <td>...</td>\n      <td>-999</td>\n      <td>-999</td>\n      <td>-999</td>\n      <td>-999</td>\n      <td>-999</td>\n      <td>58907.516366</td>\n      <td>117814.676769</td>\n      <td>2.727200</td>\n      <td>-3.001714e-18</td>\n      <td>NaN</td>\n    </tr>\n    <tr>\n      <th>1851-06-25 18:00:00</th>\n      <th>AL011851</th>\n      <td>UNNAMED</td>\n      <td>18510625</td>\n      <td>1800</td>\n      <td></td>\n      <td>HU</td>\n      <td>28.1</td>\n      <td>-96.5</td>\n      <td>80</td>\n      <td>-999</td>\n      <td>-999</td>\n      <td>...</td>\n      <td>-999</td>\n      <td>-999</td>\n      <td>-999</td>\n      <td>-999</td>\n      <td>-999</td>\n      <td>50310.976622</td>\n      <td>167196.061925</td>\n      <td>2.329212</td>\n      <td>-1.842537e-05</td>\n      <td>-8.530263e-10</td>\n    </tr>\n    <tr>\n      <th>1851-06-25 21:00:00</th>\n      <th>AL011851</th>\n      <td>UNNAMED</td>\n      <td>18510625</td>\n      <td>2100</td>\n      <td>L</td>\n      <td>HU</td>\n      <td>28.2</td>\n      <td>-96.8</td>\n      <td>80</td>\n      <td>-999</td>\n      <td>-999</td>\n      <td>...</td>\n      <td>-999</td>\n      <td>-999</td>\n      <td>-999</td>\n      <td>-999</td>\n      <td>-999</td>\n      <td>31444.370265</td>\n      <td>197430.193137</td>\n      <td>2.911516</td>\n      <td>5.391703e-05</td>\n      <td>6.698370e-09</td>\n    </tr>\n  </tbody>\n</table>\n<p>5 rows × 26 columns</p>\n</div>"
     },
     "execution_count": 24,
     "metadata": {},
     "output_type": "execute_result"
    }
   ],
   "source": [
    "%%time\n",
    "\n",
    "# Now lets check the jerk for the atlantic dataset.\n",
    "atlantic = spatial.create_jerk_from_prev_column(atlantic)\n",
    "atlantic.head()"
   ],
   "metadata": {
    "collapsed": false,
    "pycharm": {
     "name": "#%%\n"
    }
   }
  },
  {
   "cell_type": "code",
   "execution_count": 25,
   "outputs": [
    {
     "name": "stdout",
     "output_type": "stream",
     "text": [
      "CPU times: user 13 ms, sys: 10.5 ms, total: 23.5 ms\n",
      "Wall time: 22.2 ms\n"
     ]
    },
    {
     "data": {
      "text/plain": "                               event-id  visible       lon       lat  \\\nDateTime            traj_id                                            \n2009-05-27 14:00:00 91732    1082620685     True  24.58617  61.24783   \n2009-05-27 20:00:00 91732    1082620686     True  24.58217  61.23267   \n2009-05-28 05:00:00 91732    1082620687     True  24.53133  61.18833   \n2009-05-28 08:00:00 91732    1082620688     True  24.58200  61.23283   \n2009-05-28 14:00:00 91732    1082620689     True  24.58250  61.23267   \n\n                            sensor-type individual-taxon-canonical-name  \\\nDateTime            traj_id                                               \n2009-05-27 14:00:00 91732           gps                    Larus fuscus   \n2009-05-27 20:00:00 91732           gps                    Larus fuscus   \n2009-05-28 05:00:00 91732           gps                    Larus fuscus   \n2009-05-28 08:00:00 91732           gps                    Larus fuscus   \n2009-05-28 14:00:00 91732           gps                    Larus fuscus   \n\n                            individual-local-identifier  \\\nDateTime            traj_id                               \n2009-05-27 14:00:00 91732                        91732A   \n2009-05-27 20:00:00 91732                        91732A   \n2009-05-28 05:00:00 91732                        91732A   \n2009-05-28 08:00:00 91732                        91732A   \n2009-05-28 14:00:00 91732                        91732A   \n\n                                                                    study-name  \\\nDateTime            traj_id                                                      \n2009-05-27 14:00:00 91732    Navigation experiments in lesser black-backed ...   \n2009-05-27 20:00:00 91732    Navigation experiments in lesser black-backed ...   \n2009-05-28 05:00:00 91732    Navigation experiments in lesser black-backed ...   \n2009-05-28 08:00:00 91732    Navigation experiments in lesser black-backed ...   \n2009-05-28 14:00:00 91732    Navigation experiments in lesser black-backed ...   \n\n                             Distance_prev_to_curr  Distance_start_to_curr  \\\nDateTime            traj_id                                                  \n2009-05-27 14:00:00 91732                      NaN                     NaN   \n2009-05-27 20:00:00 91732              1699.244398             1699.244398   \n2009-05-28 05:00:00 91732              5632.120064             7238.295521   \n2009-05-28 08:00:00 91732              5643.314949             1682.777895   \n2009-05-28 14:00:00 91732                32.131494             1697.111327   \n\n                             Speed_prev_to_curr  Acceleration_prev_to_curr  \\\nDateTime            traj_id                                                  \n2009-05-27 14:00:00 91732                   NaN                        NaN   \n2009-05-27 20:00:00 91732              0.078669                        NaN   \n2009-05-28 05:00:00 91732              0.173831                   0.000003   \n2009-05-28 08:00:00 91732              0.522529                   0.000032   \n2009-05-28 14:00:00 91732              0.001488                  -0.000024   \n\n                             jerk_prev_to_curr  \nDateTime            traj_id                     \n2009-05-27 14:00:00 91732                  NaN  \n2009-05-27 20:00:00 91732                  NaN  \n2009-05-28 05:00:00 91732                  NaN  \n2009-05-28 08:00:00 91732         2.717572e-09  \n2009-05-28 14:00:00 91732        -2.611536e-09  ",
      "text/html": "<div>\n<style scoped>\n    .dataframe tbody tr th:only-of-type {\n        vertical-align: middle;\n    }\n\n    .dataframe tbody tr th {\n        vertical-align: top;\n    }\n\n    .dataframe thead th {\n        text-align: right;\n    }\n</style>\n<table border=\"1\" class=\"dataframe\">\n  <thead>\n    <tr style=\"text-align: right;\">\n      <th></th>\n      <th></th>\n      <th>event-id</th>\n      <th>visible</th>\n      <th>lon</th>\n      <th>lat</th>\n      <th>sensor-type</th>\n      <th>individual-taxon-canonical-name</th>\n      <th>individual-local-identifier</th>\n      <th>study-name</th>\n      <th>Distance_prev_to_curr</th>\n      <th>Distance_start_to_curr</th>\n      <th>Speed_prev_to_curr</th>\n      <th>Acceleration_prev_to_curr</th>\n      <th>jerk_prev_to_curr</th>\n    </tr>\n    <tr>\n      <th>DateTime</th>\n      <th>traj_id</th>\n      <th></th>\n      <th></th>\n      <th></th>\n      <th></th>\n      <th></th>\n      <th></th>\n      <th></th>\n      <th></th>\n      <th></th>\n      <th></th>\n      <th></th>\n      <th></th>\n      <th></th>\n    </tr>\n  </thead>\n  <tbody>\n    <tr>\n      <th>2009-05-27 14:00:00</th>\n      <th>91732</th>\n      <td>1082620685</td>\n      <td>True</td>\n      <td>24.58617</td>\n      <td>61.24783</td>\n      <td>gps</td>\n      <td>Larus fuscus</td>\n      <td>91732A</td>\n      <td>Navigation experiments in lesser black-backed ...</td>\n      <td>NaN</td>\n      <td>NaN</td>\n      <td>NaN</td>\n      <td>NaN</td>\n      <td>NaN</td>\n    </tr>\n    <tr>\n      <th>2009-05-27 20:00:00</th>\n      <th>91732</th>\n      <td>1082620686</td>\n      <td>True</td>\n      <td>24.58217</td>\n      <td>61.23267</td>\n      <td>gps</td>\n      <td>Larus fuscus</td>\n      <td>91732A</td>\n      <td>Navigation experiments in lesser black-backed ...</td>\n      <td>1699.244398</td>\n      <td>1699.244398</td>\n      <td>0.078669</td>\n      <td>NaN</td>\n      <td>NaN</td>\n    </tr>\n    <tr>\n      <th>2009-05-28 05:00:00</th>\n      <th>91732</th>\n      <td>1082620687</td>\n      <td>True</td>\n      <td>24.53133</td>\n      <td>61.18833</td>\n      <td>gps</td>\n      <td>Larus fuscus</td>\n      <td>91732A</td>\n      <td>Navigation experiments in lesser black-backed ...</td>\n      <td>5632.120064</td>\n      <td>7238.295521</td>\n      <td>0.173831</td>\n      <td>0.000003</td>\n      <td>NaN</td>\n    </tr>\n    <tr>\n      <th>2009-05-28 08:00:00</th>\n      <th>91732</th>\n      <td>1082620688</td>\n      <td>True</td>\n      <td>24.58200</td>\n      <td>61.23283</td>\n      <td>gps</td>\n      <td>Larus fuscus</td>\n      <td>91732A</td>\n      <td>Navigation experiments in lesser black-backed ...</td>\n      <td>5643.314949</td>\n      <td>1682.777895</td>\n      <td>0.522529</td>\n      <td>0.000032</td>\n      <td>2.717572e-09</td>\n    </tr>\n    <tr>\n      <th>2009-05-28 14:00:00</th>\n      <th>91732</th>\n      <td>1082620689</td>\n      <td>True</td>\n      <td>24.58250</td>\n      <td>61.23267</td>\n      <td>gps</td>\n      <td>Larus fuscus</td>\n      <td>91732A</td>\n      <td>Navigation experiments in lesser black-backed ...</td>\n      <td>32.131494</td>\n      <td>1697.111327</td>\n      <td>0.001488</td>\n      <td>-0.000024</td>\n      <td>-2.611536e-09</td>\n    </tr>\n  </tbody>\n</table>\n</div>"
     },
     "execution_count": 25,
     "metadata": {},
     "output_type": "execute_result"
    }
   ],
   "source": [
    "%%time\n",
    "\n",
    "# Now, lets check the jerk for the seagulls dataset.\n",
    "gulls = spatial.create_jerk_from_prev_column(gulls)\n",
    "gulls.head()"
   ],
   "metadata": {
    "collapsed": false,
    "pycharm": {
     "name": "#%%\n"
    }
   }
  },
  {
   "cell_type": "code",
   "execution_count": 26,
   "outputs": [
    {
     "name": "stdout",
     "output_type": "stream",
     "text": [
      "CPU times: user 334 ms, sys: 99.8 ms, total: 433 ms\n",
      "Wall time: 821 ms\n"
     ]
    },
    {
     "data": {
      "text/plain": "                                   lat         lon  Distance_prev_to_curr  \\\nDateTime            traj_id                                                 \n2008-10-23 16:53:05 1        39.984094  116.319236                    NaN   \n2008-10-23 16:53:06 1        39.984198  116.319322              13.690153   \n2008-10-23 05:53:11 1        39.984224  116.319402               7.403788   \n2008-10-23 05:53:16 1        39.984211  116.319389               1.821083   \n2008-10-23 05:53:21 1        39.984217  116.319422               2.889671   \n\n                             Distance_start_to_curr  Distance_to_(0, 0)  \\\nDateTime            traj_id                                               \n2008-10-23 16:53:05 1                           NaN        1.221587e+07   \n2008-10-23 16:53:06 1                     13.690153        1.221587e+07   \n2008-10-23 05:53:11 1                     20.223428        1.221588e+07   \n2008-10-23 05:53:16 1                     18.416895        1.221588e+07   \n2008-10-23 05:53:21 1                     20.933073        1.221588e+07   \n\n                             Within_15000000_m_from_(0, 0)  \\\nDateTime            traj_id                                  \n2008-10-23 16:53:05 1                                 True   \n2008-10-23 16:53:06 1                                 True   \n2008-10-23 05:53:11 1                                 True   \n2008-10-23 05:53:16 1                                 True   \n2008-10-23 05:53:21 1                                 True   \n\n                             Speed_prev_to_curr  Acceleration_prev_to_curr  \\\nDateTime            traj_id                                                  \n2008-10-23 16:53:05 1                       NaN                        NaN   \n2008-10-23 16:53:06 1                 13.690153                        NaN   \n2008-10-23 05:53:11 1                  0.000158                  -0.000292   \n2008-10-23 05:53:16 1                  0.364217                   0.072812   \n2008-10-23 05:53:21 1                  0.577934                   0.042744   \n\n                             jerk_prev_to_curr  Bearing_between_consecutive  \nDateTime            traj_id                                                  \n2008-10-23 16:53:05 1                      NaN                          NaN  \n2008-10-23 16:53:06 1                      NaN                    32.358601  \n2008-10-23 05:53:11 1                      NaN                    67.015294  \n2008-10-23 05:53:16 1                 0.014621                  -142.539885  \n2008-10-23 05:53:21 1                -0.006014                    76.651056  ",
      "text/html": "<div>\n<style scoped>\n    .dataframe tbody tr th:only-of-type {\n        vertical-align: middle;\n    }\n\n    .dataframe tbody tr th {\n        vertical-align: top;\n    }\n\n    .dataframe thead th {\n        text-align: right;\n    }\n</style>\n<table border=\"1\" class=\"dataframe\">\n  <thead>\n    <tr style=\"text-align: right;\">\n      <th></th>\n      <th></th>\n      <th>lat</th>\n      <th>lon</th>\n      <th>Distance_prev_to_curr</th>\n      <th>Distance_start_to_curr</th>\n      <th>Distance_to_(0, 0)</th>\n      <th>Within_15000000_m_from_(0, 0)</th>\n      <th>Speed_prev_to_curr</th>\n      <th>Acceleration_prev_to_curr</th>\n      <th>jerk_prev_to_curr</th>\n      <th>Bearing_between_consecutive</th>\n    </tr>\n    <tr>\n      <th>DateTime</th>\n      <th>traj_id</th>\n      <th></th>\n      <th></th>\n      <th></th>\n      <th></th>\n      <th></th>\n      <th></th>\n      <th></th>\n      <th></th>\n      <th></th>\n      <th></th>\n    </tr>\n  </thead>\n  <tbody>\n    <tr>\n      <th>2008-10-23 16:53:05</th>\n      <th>1</th>\n      <td>39.984094</td>\n      <td>116.319236</td>\n      <td>NaN</td>\n      <td>NaN</td>\n      <td>1.221587e+07</td>\n      <td>True</td>\n      <td>NaN</td>\n      <td>NaN</td>\n      <td>NaN</td>\n      <td>NaN</td>\n    </tr>\n    <tr>\n      <th>2008-10-23 16:53:06</th>\n      <th>1</th>\n      <td>39.984198</td>\n      <td>116.319322</td>\n      <td>13.690153</td>\n      <td>13.690153</td>\n      <td>1.221587e+07</td>\n      <td>True</td>\n      <td>13.690153</td>\n      <td>NaN</td>\n      <td>NaN</td>\n      <td>32.358601</td>\n    </tr>\n    <tr>\n      <th>2008-10-23 05:53:11</th>\n      <th>1</th>\n      <td>39.984224</td>\n      <td>116.319402</td>\n      <td>7.403788</td>\n      <td>20.223428</td>\n      <td>1.221588e+07</td>\n      <td>True</td>\n      <td>0.000158</td>\n      <td>-0.000292</td>\n      <td>NaN</td>\n      <td>67.015294</td>\n    </tr>\n    <tr>\n      <th>2008-10-23 05:53:16</th>\n      <th>1</th>\n      <td>39.984211</td>\n      <td>116.319389</td>\n      <td>1.821083</td>\n      <td>18.416895</td>\n      <td>1.221588e+07</td>\n      <td>True</td>\n      <td>0.364217</td>\n      <td>0.072812</td>\n      <td>0.014621</td>\n      <td>-142.539885</td>\n    </tr>\n    <tr>\n      <th>2008-10-23 05:53:21</th>\n      <th>1</th>\n      <td>39.984217</td>\n      <td>116.319422</td>\n      <td>2.889671</td>\n      <td>20.933073</td>\n      <td>1.221588e+07</td>\n      <td>True</td>\n      <td>0.577934</td>\n      <td>0.042744</td>\n      <td>-0.006014</td>\n      <td>76.651056</td>\n    </tr>\n  </tbody>\n</table>\n</div>"
     },
     "execution_count": 26,
     "metadata": {},
     "output_type": "execute_result"
    }
   ],
   "source": [
    "%%time\n",
    "\n",
    "# Now lets check the bearing between 2 consecutive\n",
    "# points.\n",
    "# First, we will do it for the geolife dataset.\n",
    "geolife = spatial.create_bearing_column(geolife)\n",
    "geolife.head()"
   ],
   "metadata": {
    "collapsed": false,
    "pycharm": {
     "name": "#%%\n"
    }
   }
  },
  {
   "cell_type": "code",
   "execution_count": 27,
   "outputs": [
    {
     "name": "stdout",
     "output_type": "stream",
     "text": [
      "CPU times: user 181 ms, sys: 92.4 ms, total: 274 ms\n",
      "Wall time: 616 ms\n"
     ]
    },
    {
     "data": {
      "text/plain": "                                             Name      Date  Time Event  \\\nDateTime            traj_id                                               \n1851-06-25 00:00:00 AL011851              UNNAMED  18510625     0         \n1851-06-25 06:00:00 AL011851              UNNAMED  18510625   600         \n1851-06-25 12:00:00 AL011851              UNNAMED  18510625  1200         \n1851-06-25 18:00:00 AL011851              UNNAMED  18510625  1800         \n1851-06-25 21:00:00 AL011851              UNNAMED  18510625  2100     L   \n\n                             Status   lat   lon  Maximum Wind  \\\nDateTime            traj_id                                     \n1851-06-25 00:00:00 AL011851     HU  28.0 -94.8            80   \n1851-06-25 06:00:00 AL011851     HU  28.0 -95.4            80   \n1851-06-25 12:00:00 AL011851     HU  28.0 -96.0            80   \n1851-06-25 18:00:00 AL011851     HU  28.1 -96.5            80   \n1851-06-25 21:00:00 AL011851     HU  28.2 -96.8            80   \n\n                              Minimum Pressure  Low Wind NE  ...  \\\nDateTime            traj_id                                  ...   \n1851-06-25 00:00:00 AL011851              -999         -999  ...   \n1851-06-25 06:00:00 AL011851              -999         -999  ...   \n1851-06-25 12:00:00 AL011851              -999         -999  ...   \n1851-06-25 18:00:00 AL011851              -999         -999  ...   \n1851-06-25 21:00:00 AL011851              -999         -999  ...   \n\n                              High Wind NE  High Wind SE  High Wind SW  \\\nDateTime            traj_id                                              \n1851-06-25 00:00:00 AL011851          -999          -999          -999   \n1851-06-25 06:00:00 AL011851          -999          -999          -999   \n1851-06-25 12:00:00 AL011851          -999          -999          -999   \n1851-06-25 18:00:00 AL011851          -999          -999          -999   \n1851-06-25 21:00:00 AL011851          -999          -999          -999   \n\n                              High Wind NW  Distance_prev_to_curr  \\\nDateTime            traj_id                                         \n1851-06-25 00:00:00 AL011851          -999                    NaN   \n1851-06-25 06:00:00 AL011851          -999           58907.516366   \n1851-06-25 12:00:00 AL011851          -999           58907.516366   \n1851-06-25 18:00:00 AL011851          -999           50310.976622   \n1851-06-25 21:00:00 AL011851          -999           31444.370265   \n\n                              Distance_start_to_curr  Speed_prev_to_curr  \\\nDateTime            traj_id                                                \n1851-06-25 00:00:00 AL011851                     NaN                 NaN   \n1851-06-25 06:00:00 AL011851            58907.516366            2.727200   \n1851-06-25 12:00:00 AL011851           117814.676769            2.727200   \n1851-06-25 18:00:00 AL011851           167196.061925            2.329212   \n1851-06-25 21:00:00 AL011851           197430.193137            2.911516   \n\n                              Acceleration_prev_to_curr  jerk_prev_to_curr  \\\nDateTime            traj_id                                                  \n1851-06-25 00:00:00 AL011851                        NaN                NaN   \n1851-06-25 06:00:00 AL011851                        NaN                NaN   \n1851-06-25 12:00:00 AL011851              -3.001714e-18                NaN   \n1851-06-25 18:00:00 AL011851              -1.842537e-05      -8.530263e-10   \n1851-06-25 21:00:00 AL011851               5.391703e-05       6.698370e-09   \n\n                              Bearing_between_consecutive  \nDateTime            traj_id                                \n1851-06-25 00:00:00 AL011851                          NaN  \n1851-06-25 06:00:00 AL011851                   -89.859158  \n1851-06-25 12:00:00 AL011851                   -89.859158  \n1851-06-25 18:00:00 AL011851                   -77.113860  \n1851-06-25 21:00:00 AL011851                   -69.220135  \n\n[5 rows x 27 columns]",
      "text/html": "<div>\n<style scoped>\n    .dataframe tbody tr th:only-of-type {\n        vertical-align: middle;\n    }\n\n    .dataframe tbody tr th {\n        vertical-align: top;\n    }\n\n    .dataframe thead th {\n        text-align: right;\n    }\n</style>\n<table border=\"1\" class=\"dataframe\">\n  <thead>\n    <tr style=\"text-align: right;\">\n      <th></th>\n      <th></th>\n      <th>Name</th>\n      <th>Date</th>\n      <th>Time</th>\n      <th>Event</th>\n      <th>Status</th>\n      <th>lat</th>\n      <th>lon</th>\n      <th>Maximum Wind</th>\n      <th>Minimum Pressure</th>\n      <th>Low Wind NE</th>\n      <th>...</th>\n      <th>High Wind NE</th>\n      <th>High Wind SE</th>\n      <th>High Wind SW</th>\n      <th>High Wind NW</th>\n      <th>Distance_prev_to_curr</th>\n      <th>Distance_start_to_curr</th>\n      <th>Speed_prev_to_curr</th>\n      <th>Acceleration_prev_to_curr</th>\n      <th>jerk_prev_to_curr</th>\n      <th>Bearing_between_consecutive</th>\n    </tr>\n    <tr>\n      <th>DateTime</th>\n      <th>traj_id</th>\n      <th></th>\n      <th></th>\n      <th></th>\n      <th></th>\n      <th></th>\n      <th></th>\n      <th></th>\n      <th></th>\n      <th></th>\n      <th></th>\n      <th></th>\n      <th></th>\n      <th></th>\n      <th></th>\n      <th></th>\n      <th></th>\n      <th></th>\n      <th></th>\n      <th></th>\n      <th></th>\n      <th></th>\n    </tr>\n  </thead>\n  <tbody>\n    <tr>\n      <th>1851-06-25 00:00:00</th>\n      <th>AL011851</th>\n      <td>UNNAMED</td>\n      <td>18510625</td>\n      <td>0</td>\n      <td></td>\n      <td>HU</td>\n      <td>28.0</td>\n      <td>-94.8</td>\n      <td>80</td>\n      <td>-999</td>\n      <td>-999</td>\n      <td>...</td>\n      <td>-999</td>\n      <td>-999</td>\n      <td>-999</td>\n      <td>-999</td>\n      <td>NaN</td>\n      <td>NaN</td>\n      <td>NaN</td>\n      <td>NaN</td>\n      <td>NaN</td>\n      <td>NaN</td>\n    </tr>\n    <tr>\n      <th>1851-06-25 06:00:00</th>\n      <th>AL011851</th>\n      <td>UNNAMED</td>\n      <td>18510625</td>\n      <td>600</td>\n      <td></td>\n      <td>HU</td>\n      <td>28.0</td>\n      <td>-95.4</td>\n      <td>80</td>\n      <td>-999</td>\n      <td>-999</td>\n      <td>...</td>\n      <td>-999</td>\n      <td>-999</td>\n      <td>-999</td>\n      <td>-999</td>\n      <td>58907.516366</td>\n      <td>58907.516366</td>\n      <td>2.727200</td>\n      <td>NaN</td>\n      <td>NaN</td>\n      <td>-89.859158</td>\n    </tr>\n    <tr>\n      <th>1851-06-25 12:00:00</th>\n      <th>AL011851</th>\n      <td>UNNAMED</td>\n      <td>18510625</td>\n      <td>1200</td>\n      <td></td>\n      <td>HU</td>\n      <td>28.0</td>\n      <td>-96.0</td>\n      <td>80</td>\n      <td>-999</td>\n      <td>-999</td>\n      <td>...</td>\n      <td>-999</td>\n      <td>-999</td>\n      <td>-999</td>\n      <td>-999</td>\n      <td>58907.516366</td>\n      <td>117814.676769</td>\n      <td>2.727200</td>\n      <td>-3.001714e-18</td>\n      <td>NaN</td>\n      <td>-89.859158</td>\n    </tr>\n    <tr>\n      <th>1851-06-25 18:00:00</th>\n      <th>AL011851</th>\n      <td>UNNAMED</td>\n      <td>18510625</td>\n      <td>1800</td>\n      <td></td>\n      <td>HU</td>\n      <td>28.1</td>\n      <td>-96.5</td>\n      <td>80</td>\n      <td>-999</td>\n      <td>-999</td>\n      <td>...</td>\n      <td>-999</td>\n      <td>-999</td>\n      <td>-999</td>\n      <td>-999</td>\n      <td>50310.976622</td>\n      <td>167196.061925</td>\n      <td>2.329212</td>\n      <td>-1.842537e-05</td>\n      <td>-8.530263e-10</td>\n      <td>-77.113860</td>\n    </tr>\n    <tr>\n      <th>1851-06-25 21:00:00</th>\n      <th>AL011851</th>\n      <td>UNNAMED</td>\n      <td>18510625</td>\n      <td>2100</td>\n      <td>L</td>\n      <td>HU</td>\n      <td>28.2</td>\n      <td>-96.8</td>\n      <td>80</td>\n      <td>-999</td>\n      <td>-999</td>\n      <td>...</td>\n      <td>-999</td>\n      <td>-999</td>\n      <td>-999</td>\n      <td>-999</td>\n      <td>31444.370265</td>\n      <td>197430.193137</td>\n      <td>2.911516</td>\n      <td>5.391703e-05</td>\n      <td>6.698370e-09</td>\n      <td>-69.220135</td>\n    </tr>\n  </tbody>\n</table>\n<p>5 rows × 27 columns</p>\n</div>"
     },
     "execution_count": 27,
     "metadata": {},
     "output_type": "execute_result"
    }
   ],
   "source": [
    "%%time\n",
    "\n",
    "# Now lets check the bearing for the atlantic dataset.\n",
    "atlantic = spatial.create_bearing_column(atlantic)\n",
    "atlantic.head()"
   ],
   "metadata": {
    "collapsed": false,
    "pycharm": {
     "name": "#%%\n"
    }
   }
  },
  {
   "cell_type": "code",
   "execution_count": 28,
   "outputs": [
    {
     "name": "stdout",
     "output_type": "stream",
     "text": [
      "CPU times: user 187 ms, sys: 52.2 ms, total: 239 ms\n",
      "Wall time: 543 ms\n"
     ]
    },
    {
     "data": {
      "text/plain": "                               event-id  visible       lon       lat  \\\nDateTime            traj_id                                            \n2009-05-27 14:00:00 91732    1082620685     True  24.58617  61.24783   \n2009-05-27 20:00:00 91732    1082620686     True  24.58217  61.23267   \n2009-05-28 05:00:00 91732    1082620687     True  24.53133  61.18833   \n2009-05-28 08:00:00 91732    1082620688     True  24.58200  61.23283   \n2009-05-28 14:00:00 91732    1082620689     True  24.58250  61.23267   \n\n                            sensor-type individual-taxon-canonical-name  \\\nDateTime            traj_id                                               \n2009-05-27 14:00:00 91732           gps                    Larus fuscus   \n2009-05-27 20:00:00 91732           gps                    Larus fuscus   \n2009-05-28 05:00:00 91732           gps                    Larus fuscus   \n2009-05-28 08:00:00 91732           gps                    Larus fuscus   \n2009-05-28 14:00:00 91732           gps                    Larus fuscus   \n\n                            individual-local-identifier  \\\nDateTime            traj_id                               \n2009-05-27 14:00:00 91732                        91732A   \n2009-05-27 20:00:00 91732                        91732A   \n2009-05-28 05:00:00 91732                        91732A   \n2009-05-28 08:00:00 91732                        91732A   \n2009-05-28 14:00:00 91732                        91732A   \n\n                                                                    study-name  \\\nDateTime            traj_id                                                      \n2009-05-27 14:00:00 91732    Navigation experiments in lesser black-backed ...   \n2009-05-27 20:00:00 91732    Navigation experiments in lesser black-backed ...   \n2009-05-28 05:00:00 91732    Navigation experiments in lesser black-backed ...   \n2009-05-28 08:00:00 91732    Navigation experiments in lesser black-backed ...   \n2009-05-28 14:00:00 91732    Navigation experiments in lesser black-backed ...   \n\n                             Distance_prev_to_curr  Distance_start_to_curr  \\\nDateTime            traj_id                                                  \n2009-05-27 14:00:00 91732                      NaN                     NaN   \n2009-05-27 20:00:00 91732              1699.244398             1699.244398   \n2009-05-28 05:00:00 91732              5632.120064             7238.295521   \n2009-05-28 08:00:00 91732              5643.314949             1682.777895   \n2009-05-28 14:00:00 91732                32.131494             1697.111327   \n\n                             Speed_prev_to_curr  Acceleration_prev_to_curr  \\\nDateTime            traj_id                                                  \n2009-05-27 14:00:00 91732                   NaN                        NaN   \n2009-05-27 20:00:00 91732              0.078669                        NaN   \n2009-05-28 05:00:00 91732              0.173831                   0.000003   \n2009-05-28 08:00:00 91732              0.522529                   0.000032   \n2009-05-28 14:00:00 91732              0.001488                  -0.000024   \n\n                             jerk_prev_to_curr  Bearing_between_consecutive  \nDateTime            traj_id                                                  \n2009-05-27 14:00:00 91732                  NaN                          NaN  \n2009-05-27 20:00:00 91732                  NaN                  -172.763287  \n2009-05-28 05:00:00 91732                  NaN                  -151.070593  \n2009-05-28 08:00:00 91732         2.717572e-09                    28.716637  \n2009-05-28 14:00:00 91732        -2.611536e-09                   123.620959  ",
      "text/html": "<div>\n<style scoped>\n    .dataframe tbody tr th:only-of-type {\n        vertical-align: middle;\n    }\n\n    .dataframe tbody tr th {\n        vertical-align: top;\n    }\n\n    .dataframe thead th {\n        text-align: right;\n    }\n</style>\n<table border=\"1\" class=\"dataframe\">\n  <thead>\n    <tr style=\"text-align: right;\">\n      <th></th>\n      <th></th>\n      <th>event-id</th>\n      <th>visible</th>\n      <th>lon</th>\n      <th>lat</th>\n      <th>sensor-type</th>\n      <th>individual-taxon-canonical-name</th>\n      <th>individual-local-identifier</th>\n      <th>study-name</th>\n      <th>Distance_prev_to_curr</th>\n      <th>Distance_start_to_curr</th>\n      <th>Speed_prev_to_curr</th>\n      <th>Acceleration_prev_to_curr</th>\n      <th>jerk_prev_to_curr</th>\n      <th>Bearing_between_consecutive</th>\n    </tr>\n    <tr>\n      <th>DateTime</th>\n      <th>traj_id</th>\n      <th></th>\n      <th></th>\n      <th></th>\n      <th></th>\n      <th></th>\n      <th></th>\n      <th></th>\n      <th></th>\n      <th></th>\n      <th></th>\n      <th></th>\n      <th></th>\n      <th></th>\n      <th></th>\n    </tr>\n  </thead>\n  <tbody>\n    <tr>\n      <th>2009-05-27 14:00:00</th>\n      <th>91732</th>\n      <td>1082620685</td>\n      <td>True</td>\n      <td>24.58617</td>\n      <td>61.24783</td>\n      <td>gps</td>\n      <td>Larus fuscus</td>\n      <td>91732A</td>\n      <td>Navigation experiments in lesser black-backed ...</td>\n      <td>NaN</td>\n      <td>NaN</td>\n      <td>NaN</td>\n      <td>NaN</td>\n      <td>NaN</td>\n      <td>NaN</td>\n    </tr>\n    <tr>\n      <th>2009-05-27 20:00:00</th>\n      <th>91732</th>\n      <td>1082620686</td>\n      <td>True</td>\n      <td>24.58217</td>\n      <td>61.23267</td>\n      <td>gps</td>\n      <td>Larus fuscus</td>\n      <td>91732A</td>\n      <td>Navigation experiments in lesser black-backed ...</td>\n      <td>1699.244398</td>\n      <td>1699.244398</td>\n      <td>0.078669</td>\n      <td>NaN</td>\n      <td>NaN</td>\n      <td>-172.763287</td>\n    </tr>\n    <tr>\n      <th>2009-05-28 05:00:00</th>\n      <th>91732</th>\n      <td>1082620687</td>\n      <td>True</td>\n      <td>24.53133</td>\n      <td>61.18833</td>\n      <td>gps</td>\n      <td>Larus fuscus</td>\n      <td>91732A</td>\n      <td>Navigation experiments in lesser black-backed ...</td>\n      <td>5632.120064</td>\n      <td>7238.295521</td>\n      <td>0.173831</td>\n      <td>0.000003</td>\n      <td>NaN</td>\n      <td>-151.070593</td>\n    </tr>\n    <tr>\n      <th>2009-05-28 08:00:00</th>\n      <th>91732</th>\n      <td>1082620688</td>\n      <td>True</td>\n      <td>24.58200</td>\n      <td>61.23283</td>\n      <td>gps</td>\n      <td>Larus fuscus</td>\n      <td>91732A</td>\n      <td>Navigation experiments in lesser black-backed ...</td>\n      <td>5643.314949</td>\n      <td>1682.777895</td>\n      <td>0.522529</td>\n      <td>0.000032</td>\n      <td>2.717572e-09</td>\n      <td>28.716637</td>\n    </tr>\n    <tr>\n      <th>2009-05-28 14:00:00</th>\n      <th>91732</th>\n      <td>1082620689</td>\n      <td>True</td>\n      <td>24.58250</td>\n      <td>61.23267</td>\n      <td>gps</td>\n      <td>Larus fuscus</td>\n      <td>91732A</td>\n      <td>Navigation experiments in lesser black-backed ...</td>\n      <td>32.131494</td>\n      <td>1697.111327</td>\n      <td>0.001488</td>\n      <td>-0.000024</td>\n      <td>-2.611536e-09</td>\n      <td>123.620959</td>\n    </tr>\n  </tbody>\n</table>\n</div>"
     },
     "execution_count": 28,
     "metadata": {},
     "output_type": "execute_result"
    }
   ],
   "source": [
    "%%time\n",
    "\n",
    "# Now lets check the bearing for the seagulls dataset.\n",
    "gulls = spatial.create_bearing_column(gulls)\n",
    "gulls.head()\n"
   ],
   "metadata": {
    "collapsed": false,
    "pycharm": {
     "name": "#%%\n"
    }
   }
  },
  {
   "cell_type": "code",
   "execution_count": 29,
   "outputs": [
    {
     "name": "stdout",
     "output_type": "stream",
     "text": [
      "CPU times: user 37.3 ms, sys: 181 µs, total: 37.5 ms\n",
      "Wall time: 35.4 ms\n"
     ]
    },
    {
     "data": {
      "text/plain": "                                   lat         lon  Distance_prev_to_curr  \\\nDateTime            traj_id                                                 \n2008-10-23 16:53:05 1        39.984094  116.319236                    NaN   \n2008-10-23 16:53:06 1        39.984198  116.319322              13.690153   \n2008-10-23 05:53:11 1        39.984224  116.319402               7.403788   \n2008-10-23 05:53:16 1        39.984211  116.319389               1.821083   \n2008-10-23 05:53:21 1        39.984217  116.319422               2.889671   \n\n                             Distance_start_to_curr  Distance_to_(0, 0)  \\\nDateTime            traj_id                                               \n2008-10-23 16:53:05 1                           NaN        1.221587e+07   \n2008-10-23 16:53:06 1                     13.690153        1.221587e+07   \n2008-10-23 05:53:11 1                     20.223428        1.221588e+07   \n2008-10-23 05:53:16 1                     18.416895        1.221588e+07   \n2008-10-23 05:53:21 1                     20.933073        1.221588e+07   \n\n                             Within_15000000_m_from_(0, 0)  \\\nDateTime            traj_id                                  \n2008-10-23 16:53:05 1                                 True   \n2008-10-23 16:53:06 1                                 True   \n2008-10-23 05:53:11 1                                 True   \n2008-10-23 05:53:16 1                                 True   \n2008-10-23 05:53:21 1                                 True   \n\n                             Speed_prev_to_curr  Acceleration_prev_to_curr  \\\nDateTime            traj_id                                                  \n2008-10-23 16:53:05 1                       NaN                        NaN   \n2008-10-23 16:53:06 1                 13.690153                        NaN   \n2008-10-23 05:53:11 1                  0.000158                  -0.000292   \n2008-10-23 05:53:16 1                  0.364217                   0.072812   \n2008-10-23 05:53:21 1                  0.577934                   0.042744   \n\n                             jerk_prev_to_curr  Bearing_between_consecutive  \\\nDateTime            traj_id                                                   \n2008-10-23 16:53:05 1                      NaN                          NaN   \n2008-10-23 16:53:06 1                      NaN                    32.358601   \n2008-10-23 05:53:11 1                      NaN                    67.015294   \n2008-10-23 05:53:16 1                 0.014621                  -142.539885   \n2008-10-23 05:53:21 1                -0.006014                    76.651056   \n\n                             Bearing_rate_from_prev  \nDateTime            traj_id                          \n2008-10-23 16:53:05 1                           NaN  \n2008-10-23 16:53:06 1                           NaN  \n2008-10-23 05:53:11 1                      0.000740  \n2008-10-23 05:53:16 1                    -41.911036  \n2008-10-23 05:53:21 1                     43.838188  ",
      "text/html": "<div>\n<style scoped>\n    .dataframe tbody tr th:only-of-type {\n        vertical-align: middle;\n    }\n\n    .dataframe tbody tr th {\n        vertical-align: top;\n    }\n\n    .dataframe thead th {\n        text-align: right;\n    }\n</style>\n<table border=\"1\" class=\"dataframe\">\n  <thead>\n    <tr style=\"text-align: right;\">\n      <th></th>\n      <th></th>\n      <th>lat</th>\n      <th>lon</th>\n      <th>Distance_prev_to_curr</th>\n      <th>Distance_start_to_curr</th>\n      <th>Distance_to_(0, 0)</th>\n      <th>Within_15000000_m_from_(0, 0)</th>\n      <th>Speed_prev_to_curr</th>\n      <th>Acceleration_prev_to_curr</th>\n      <th>jerk_prev_to_curr</th>\n      <th>Bearing_between_consecutive</th>\n      <th>Bearing_rate_from_prev</th>\n    </tr>\n    <tr>\n      <th>DateTime</th>\n      <th>traj_id</th>\n      <th></th>\n      <th></th>\n      <th></th>\n      <th></th>\n      <th></th>\n      <th></th>\n      <th></th>\n      <th></th>\n      <th></th>\n      <th></th>\n      <th></th>\n    </tr>\n  </thead>\n  <tbody>\n    <tr>\n      <th>2008-10-23 16:53:05</th>\n      <th>1</th>\n      <td>39.984094</td>\n      <td>116.319236</td>\n      <td>NaN</td>\n      <td>NaN</td>\n      <td>1.221587e+07</td>\n      <td>True</td>\n      <td>NaN</td>\n      <td>NaN</td>\n      <td>NaN</td>\n      <td>NaN</td>\n      <td>NaN</td>\n    </tr>\n    <tr>\n      <th>2008-10-23 16:53:06</th>\n      <th>1</th>\n      <td>39.984198</td>\n      <td>116.319322</td>\n      <td>13.690153</td>\n      <td>13.690153</td>\n      <td>1.221587e+07</td>\n      <td>True</td>\n      <td>13.690153</td>\n      <td>NaN</td>\n      <td>NaN</td>\n      <td>32.358601</td>\n      <td>NaN</td>\n    </tr>\n    <tr>\n      <th>2008-10-23 05:53:11</th>\n      <th>1</th>\n      <td>39.984224</td>\n      <td>116.319402</td>\n      <td>7.403788</td>\n      <td>20.223428</td>\n      <td>1.221588e+07</td>\n      <td>True</td>\n      <td>0.000158</td>\n      <td>-0.000292</td>\n      <td>NaN</td>\n      <td>67.015294</td>\n      <td>0.000740</td>\n    </tr>\n    <tr>\n      <th>2008-10-23 05:53:16</th>\n      <th>1</th>\n      <td>39.984211</td>\n      <td>116.319389</td>\n      <td>1.821083</td>\n      <td>18.416895</td>\n      <td>1.221588e+07</td>\n      <td>True</td>\n      <td>0.364217</td>\n      <td>0.072812</td>\n      <td>0.014621</td>\n      <td>-142.539885</td>\n      <td>-41.911036</td>\n    </tr>\n    <tr>\n      <th>2008-10-23 05:53:21</th>\n      <th>1</th>\n      <td>39.984217</td>\n      <td>116.319422</td>\n      <td>2.889671</td>\n      <td>20.933073</td>\n      <td>1.221588e+07</td>\n      <td>True</td>\n      <td>0.577934</td>\n      <td>0.042744</td>\n      <td>-0.006014</td>\n      <td>76.651056</td>\n      <td>43.838188</td>\n    </tr>\n  </tbody>\n</table>\n</div>"
     },
     "execution_count": 29,
     "metadata": {},
     "output_type": "execute_result"
    }
   ],
   "source": [
    "%%time\n",
    "\n",
    "# Now, lets calculate the bearing rate between 2 consecutive points.\n",
    "# First, we will do it for the geolife dataset.\n",
    "geolife = spatial.create_bearing_rate_column(geolife)\n",
    "geolife.head()"
   ],
   "metadata": {
    "collapsed": false,
    "pycharm": {
     "name": "#%%\n"
    }
   }
  },
  {
   "cell_type": "code",
   "execution_count": 30,
   "outputs": [
    {
     "name": "stdout",
     "output_type": "stream",
     "text": [
      "CPU times: user 19.6 ms, sys: 539 µs, total: 20.1 ms\n",
      "Wall time: 18.6 ms\n"
     ]
    },
    {
     "data": {
      "text/plain": "                                             Name      Date  Time Event  \\\nDateTime            traj_id                                               \n1851-06-25 00:00:00 AL011851              UNNAMED  18510625     0         \n1851-06-25 06:00:00 AL011851              UNNAMED  18510625   600         \n1851-06-25 12:00:00 AL011851              UNNAMED  18510625  1200         \n1851-06-25 18:00:00 AL011851              UNNAMED  18510625  1800         \n1851-06-25 21:00:00 AL011851              UNNAMED  18510625  2100     L   \n\n                             Status   lat   lon  Maximum Wind  \\\nDateTime            traj_id                                     \n1851-06-25 00:00:00 AL011851     HU  28.0 -94.8            80   \n1851-06-25 06:00:00 AL011851     HU  28.0 -95.4            80   \n1851-06-25 12:00:00 AL011851     HU  28.0 -96.0            80   \n1851-06-25 18:00:00 AL011851     HU  28.1 -96.5            80   \n1851-06-25 21:00:00 AL011851     HU  28.2 -96.8            80   \n\n                              Minimum Pressure  Low Wind NE  ...  \\\nDateTime            traj_id                                  ...   \n1851-06-25 00:00:00 AL011851              -999         -999  ...   \n1851-06-25 06:00:00 AL011851              -999         -999  ...   \n1851-06-25 12:00:00 AL011851              -999         -999  ...   \n1851-06-25 18:00:00 AL011851              -999         -999  ...   \n1851-06-25 21:00:00 AL011851              -999         -999  ...   \n\n                              High Wind SE  High Wind SW  High Wind NW  \\\nDateTime            traj_id                                              \n1851-06-25 00:00:00 AL011851          -999          -999          -999   \n1851-06-25 06:00:00 AL011851          -999          -999          -999   \n1851-06-25 12:00:00 AL011851          -999          -999          -999   \n1851-06-25 18:00:00 AL011851          -999          -999          -999   \n1851-06-25 21:00:00 AL011851          -999          -999          -999   \n\n                              Distance_prev_to_curr  Distance_start_to_curr  \\\nDateTime            traj_id                                                   \n1851-06-25 00:00:00 AL011851                    NaN                     NaN   \n1851-06-25 06:00:00 AL011851           58907.516366            58907.516366   \n1851-06-25 12:00:00 AL011851           58907.516366           117814.676769   \n1851-06-25 18:00:00 AL011851           50310.976622           167196.061925   \n1851-06-25 21:00:00 AL011851           31444.370265           197430.193137   \n\n                              Speed_prev_to_curr  Acceleration_prev_to_curr  \\\nDateTime            traj_id                                                   \n1851-06-25 00:00:00 AL011851                 NaN                        NaN   \n1851-06-25 06:00:00 AL011851            2.727200                        NaN   \n1851-06-25 12:00:00 AL011851            2.727200              -3.001714e-18   \n1851-06-25 18:00:00 AL011851            2.329212              -1.842537e-05   \n1851-06-25 21:00:00 AL011851            2.911516               5.391703e-05   \n\n                              jerk_prev_to_curr  Bearing_between_consecutive  \\\nDateTime            traj_id                                                    \n1851-06-25 00:00:00 AL011851                NaN                          NaN   \n1851-06-25 06:00:00 AL011851                NaN                   -89.859158   \n1851-06-25 12:00:00 AL011851                NaN                   -89.859158   \n1851-06-25 18:00:00 AL011851      -8.530263e-10                   -77.113860   \n1851-06-25 21:00:00 AL011851       6.698370e-09                   -69.220135   \n\n                              Bearing_rate_from_prev  \nDateTime            traj_id                           \n1851-06-25 00:00:00 AL011851                     NaN  \n1851-06-25 06:00:00 AL011851                     NaN  \n1851-06-25 12:00:00 AL011851            6.579099e-19  \n1851-06-25 18:00:00 AL011851            5.900601e-04  \n1851-06-25 21:00:00 AL011851            7.309005e-04  \n\n[5 rows x 28 columns]",
      "text/html": "<div>\n<style scoped>\n    .dataframe tbody tr th:only-of-type {\n        vertical-align: middle;\n    }\n\n    .dataframe tbody tr th {\n        vertical-align: top;\n    }\n\n    .dataframe thead th {\n        text-align: right;\n    }\n</style>\n<table border=\"1\" class=\"dataframe\">\n  <thead>\n    <tr style=\"text-align: right;\">\n      <th></th>\n      <th></th>\n      <th>Name</th>\n      <th>Date</th>\n      <th>Time</th>\n      <th>Event</th>\n      <th>Status</th>\n      <th>lat</th>\n      <th>lon</th>\n      <th>Maximum Wind</th>\n      <th>Minimum Pressure</th>\n      <th>Low Wind NE</th>\n      <th>...</th>\n      <th>High Wind SE</th>\n      <th>High Wind SW</th>\n      <th>High Wind NW</th>\n      <th>Distance_prev_to_curr</th>\n      <th>Distance_start_to_curr</th>\n      <th>Speed_prev_to_curr</th>\n      <th>Acceleration_prev_to_curr</th>\n      <th>jerk_prev_to_curr</th>\n      <th>Bearing_between_consecutive</th>\n      <th>Bearing_rate_from_prev</th>\n    </tr>\n    <tr>\n      <th>DateTime</th>\n      <th>traj_id</th>\n      <th></th>\n      <th></th>\n      <th></th>\n      <th></th>\n      <th></th>\n      <th></th>\n      <th></th>\n      <th></th>\n      <th></th>\n      <th></th>\n      <th></th>\n      <th></th>\n      <th></th>\n      <th></th>\n      <th></th>\n      <th></th>\n      <th></th>\n      <th></th>\n      <th></th>\n      <th></th>\n      <th></th>\n    </tr>\n  </thead>\n  <tbody>\n    <tr>\n      <th>1851-06-25 00:00:00</th>\n      <th>AL011851</th>\n      <td>UNNAMED</td>\n      <td>18510625</td>\n      <td>0</td>\n      <td></td>\n      <td>HU</td>\n      <td>28.0</td>\n      <td>-94.8</td>\n      <td>80</td>\n      <td>-999</td>\n      <td>-999</td>\n      <td>...</td>\n      <td>-999</td>\n      <td>-999</td>\n      <td>-999</td>\n      <td>NaN</td>\n      <td>NaN</td>\n      <td>NaN</td>\n      <td>NaN</td>\n      <td>NaN</td>\n      <td>NaN</td>\n      <td>NaN</td>\n    </tr>\n    <tr>\n      <th>1851-06-25 06:00:00</th>\n      <th>AL011851</th>\n      <td>UNNAMED</td>\n      <td>18510625</td>\n      <td>600</td>\n      <td></td>\n      <td>HU</td>\n      <td>28.0</td>\n      <td>-95.4</td>\n      <td>80</td>\n      <td>-999</td>\n      <td>-999</td>\n      <td>...</td>\n      <td>-999</td>\n      <td>-999</td>\n      <td>-999</td>\n      <td>58907.516366</td>\n      <td>58907.516366</td>\n      <td>2.727200</td>\n      <td>NaN</td>\n      <td>NaN</td>\n      <td>-89.859158</td>\n      <td>NaN</td>\n    </tr>\n    <tr>\n      <th>1851-06-25 12:00:00</th>\n      <th>AL011851</th>\n      <td>UNNAMED</td>\n      <td>18510625</td>\n      <td>1200</td>\n      <td></td>\n      <td>HU</td>\n      <td>28.0</td>\n      <td>-96.0</td>\n      <td>80</td>\n      <td>-999</td>\n      <td>-999</td>\n      <td>...</td>\n      <td>-999</td>\n      <td>-999</td>\n      <td>-999</td>\n      <td>58907.516366</td>\n      <td>117814.676769</td>\n      <td>2.727200</td>\n      <td>-3.001714e-18</td>\n      <td>NaN</td>\n      <td>-89.859158</td>\n      <td>6.579099e-19</td>\n    </tr>\n    <tr>\n      <th>1851-06-25 18:00:00</th>\n      <th>AL011851</th>\n      <td>UNNAMED</td>\n      <td>18510625</td>\n      <td>1800</td>\n      <td></td>\n      <td>HU</td>\n      <td>28.1</td>\n      <td>-96.5</td>\n      <td>80</td>\n      <td>-999</td>\n      <td>-999</td>\n      <td>...</td>\n      <td>-999</td>\n      <td>-999</td>\n      <td>-999</td>\n      <td>50310.976622</td>\n      <td>167196.061925</td>\n      <td>2.329212</td>\n      <td>-1.842537e-05</td>\n      <td>-8.530263e-10</td>\n      <td>-77.113860</td>\n      <td>5.900601e-04</td>\n    </tr>\n    <tr>\n      <th>1851-06-25 21:00:00</th>\n      <th>AL011851</th>\n      <td>UNNAMED</td>\n      <td>18510625</td>\n      <td>2100</td>\n      <td>L</td>\n      <td>HU</td>\n      <td>28.2</td>\n      <td>-96.8</td>\n      <td>80</td>\n      <td>-999</td>\n      <td>-999</td>\n      <td>...</td>\n      <td>-999</td>\n      <td>-999</td>\n      <td>-999</td>\n      <td>31444.370265</td>\n      <td>197430.193137</td>\n      <td>2.911516</td>\n      <td>5.391703e-05</td>\n      <td>6.698370e-09</td>\n      <td>-69.220135</td>\n      <td>7.309005e-04</td>\n    </tr>\n  </tbody>\n</table>\n<p>5 rows × 28 columns</p>\n</div>"
     },
     "execution_count": 30,
     "metadata": {},
     "output_type": "execute_result"
    }
   ],
   "source": [
    "%%time\n",
    "\n",
    "# Now lets calculate the bearing rate for the atlantic dataset.\n",
    "atlantic = spatial.create_bearing_rate_column(atlantic)\n",
    "atlantic.head()"
   ],
   "metadata": {
    "collapsed": false,
    "pycharm": {
     "name": "#%%\n"
    }
   }
  },
  {
   "cell_type": "code",
   "execution_count": 31,
   "outputs": [
    {
     "name": "stdout",
     "output_type": "stream",
     "text": [
      "CPU times: user 19.5 ms, sys: 529 µs, total: 20.1 ms\n",
      "Wall time: 19.2 ms\n"
     ]
    },
    {
     "data": {
      "text/plain": "                               event-id  visible       lon       lat  \\\nDateTime            traj_id                                            \n2009-05-27 14:00:00 91732    1082620685     True  24.58617  61.24783   \n2009-05-27 20:00:00 91732    1082620686     True  24.58217  61.23267   \n2009-05-28 05:00:00 91732    1082620687     True  24.53133  61.18833   \n2009-05-28 08:00:00 91732    1082620688     True  24.58200  61.23283   \n2009-05-28 14:00:00 91732    1082620689     True  24.58250  61.23267   \n\n                            sensor-type individual-taxon-canonical-name  \\\nDateTime            traj_id                                               \n2009-05-27 14:00:00 91732           gps                    Larus fuscus   \n2009-05-27 20:00:00 91732           gps                    Larus fuscus   \n2009-05-28 05:00:00 91732           gps                    Larus fuscus   \n2009-05-28 08:00:00 91732           gps                    Larus fuscus   \n2009-05-28 14:00:00 91732           gps                    Larus fuscus   \n\n                            individual-local-identifier  \\\nDateTime            traj_id                               \n2009-05-27 14:00:00 91732                        91732A   \n2009-05-27 20:00:00 91732                        91732A   \n2009-05-28 05:00:00 91732                        91732A   \n2009-05-28 08:00:00 91732                        91732A   \n2009-05-28 14:00:00 91732                        91732A   \n\n                                                                    study-name  \\\nDateTime            traj_id                                                      \n2009-05-27 14:00:00 91732    Navigation experiments in lesser black-backed ...   \n2009-05-27 20:00:00 91732    Navigation experiments in lesser black-backed ...   \n2009-05-28 05:00:00 91732    Navigation experiments in lesser black-backed ...   \n2009-05-28 08:00:00 91732    Navigation experiments in lesser black-backed ...   \n2009-05-28 14:00:00 91732    Navigation experiments in lesser black-backed ...   \n\n                             Distance_prev_to_curr  Distance_start_to_curr  \\\nDateTime            traj_id                                                  \n2009-05-27 14:00:00 91732                      NaN                     NaN   \n2009-05-27 20:00:00 91732              1699.244398             1699.244398   \n2009-05-28 05:00:00 91732              5632.120064             7238.295521   \n2009-05-28 08:00:00 91732              5643.314949             1682.777895   \n2009-05-28 14:00:00 91732                32.131494             1697.111327   \n\n                             Speed_prev_to_curr  Acceleration_prev_to_curr  \\\nDateTime            traj_id                                                  \n2009-05-27 14:00:00 91732                   NaN                        NaN   \n2009-05-27 20:00:00 91732              0.078669                        NaN   \n2009-05-28 05:00:00 91732              0.173831                   0.000003   \n2009-05-28 08:00:00 91732              0.522529                   0.000032   \n2009-05-28 14:00:00 91732              0.001488                  -0.000024   \n\n                             jerk_prev_to_curr  Bearing_between_consecutive  \\\nDateTime            traj_id                                                   \n2009-05-27 14:00:00 91732                  NaN                          NaN   \n2009-05-27 20:00:00 91732                  NaN                  -172.763287   \n2009-05-28 05:00:00 91732                  NaN                  -151.070593   \n2009-05-28 08:00:00 91732         2.717572e-09                    28.716637   \n2009-05-28 14:00:00 91732        -2.611536e-09                   123.620959   \n\n                             Bearing_rate_from_prev  \nDateTime            traj_id                          \n2009-05-27 14:00:00 91732                       NaN  \n2009-05-27 20:00:00 91732                       NaN  \n2009-05-28 05:00:00 91732                  0.000670  \n2009-05-28 08:00:00 91732                  0.016647  \n2009-05-28 14:00:00 91732                  0.004394  ",
      "text/html": "<div>\n<style scoped>\n    .dataframe tbody tr th:only-of-type {\n        vertical-align: middle;\n    }\n\n    .dataframe tbody tr th {\n        vertical-align: top;\n    }\n\n    .dataframe thead th {\n        text-align: right;\n    }\n</style>\n<table border=\"1\" class=\"dataframe\">\n  <thead>\n    <tr style=\"text-align: right;\">\n      <th></th>\n      <th></th>\n      <th>event-id</th>\n      <th>visible</th>\n      <th>lon</th>\n      <th>lat</th>\n      <th>sensor-type</th>\n      <th>individual-taxon-canonical-name</th>\n      <th>individual-local-identifier</th>\n      <th>study-name</th>\n      <th>Distance_prev_to_curr</th>\n      <th>Distance_start_to_curr</th>\n      <th>Speed_prev_to_curr</th>\n      <th>Acceleration_prev_to_curr</th>\n      <th>jerk_prev_to_curr</th>\n      <th>Bearing_between_consecutive</th>\n      <th>Bearing_rate_from_prev</th>\n    </tr>\n    <tr>\n      <th>DateTime</th>\n      <th>traj_id</th>\n      <th></th>\n      <th></th>\n      <th></th>\n      <th></th>\n      <th></th>\n      <th></th>\n      <th></th>\n      <th></th>\n      <th></th>\n      <th></th>\n      <th></th>\n      <th></th>\n      <th></th>\n      <th></th>\n      <th></th>\n    </tr>\n  </thead>\n  <tbody>\n    <tr>\n      <th>2009-05-27 14:00:00</th>\n      <th>91732</th>\n      <td>1082620685</td>\n      <td>True</td>\n      <td>24.58617</td>\n      <td>61.24783</td>\n      <td>gps</td>\n      <td>Larus fuscus</td>\n      <td>91732A</td>\n      <td>Navigation experiments in lesser black-backed ...</td>\n      <td>NaN</td>\n      <td>NaN</td>\n      <td>NaN</td>\n      <td>NaN</td>\n      <td>NaN</td>\n      <td>NaN</td>\n      <td>NaN</td>\n    </tr>\n    <tr>\n      <th>2009-05-27 20:00:00</th>\n      <th>91732</th>\n      <td>1082620686</td>\n      <td>True</td>\n      <td>24.58217</td>\n      <td>61.23267</td>\n      <td>gps</td>\n      <td>Larus fuscus</td>\n      <td>91732A</td>\n      <td>Navigation experiments in lesser black-backed ...</td>\n      <td>1699.244398</td>\n      <td>1699.244398</td>\n      <td>0.078669</td>\n      <td>NaN</td>\n      <td>NaN</td>\n      <td>-172.763287</td>\n      <td>NaN</td>\n    </tr>\n    <tr>\n      <th>2009-05-28 05:00:00</th>\n      <th>91732</th>\n      <td>1082620687</td>\n      <td>True</td>\n      <td>24.53133</td>\n      <td>61.18833</td>\n      <td>gps</td>\n      <td>Larus fuscus</td>\n      <td>91732A</td>\n      <td>Navigation experiments in lesser black-backed ...</td>\n      <td>5632.120064</td>\n      <td>7238.295521</td>\n      <td>0.173831</td>\n      <td>0.000003</td>\n      <td>NaN</td>\n      <td>-151.070593</td>\n      <td>0.000670</td>\n    </tr>\n    <tr>\n      <th>2009-05-28 08:00:00</th>\n      <th>91732</th>\n      <td>1082620688</td>\n      <td>True</td>\n      <td>24.58200</td>\n      <td>61.23283</td>\n      <td>gps</td>\n      <td>Larus fuscus</td>\n      <td>91732A</td>\n      <td>Navigation experiments in lesser black-backed ...</td>\n      <td>5643.314949</td>\n      <td>1682.777895</td>\n      <td>0.522529</td>\n      <td>0.000032</td>\n      <td>2.717572e-09</td>\n      <td>28.716637</td>\n      <td>0.016647</td>\n    </tr>\n    <tr>\n      <th>2009-05-28 14:00:00</th>\n      <th>91732</th>\n      <td>1082620689</td>\n      <td>True</td>\n      <td>24.58250</td>\n      <td>61.23267</td>\n      <td>gps</td>\n      <td>Larus fuscus</td>\n      <td>91732A</td>\n      <td>Navigation experiments in lesser black-backed ...</td>\n      <td>32.131494</td>\n      <td>1697.111327</td>\n      <td>0.001488</td>\n      <td>-0.000024</td>\n      <td>-2.611536e-09</td>\n      <td>123.620959</td>\n      <td>0.004394</td>\n    </tr>\n  </tbody>\n</table>\n</div>"
     },
     "execution_count": 31,
     "metadata": {},
     "output_type": "execute_result"
    }
   ],
   "source": [
    "%%time\n",
    "\n",
    "# Now lets calculate the bearing rate for the seagulls dataset.\n",
    "gulls = spatial.create_bearing_rate_column(gulls)\n",
    "gulls.head()"
   ],
   "metadata": {
    "collapsed": false,
    "pycharm": {
     "name": "#%%\n"
    }
   }
  },
  {
   "cell_type": "code",
   "execution_count": 32,
   "outputs": [
    {
     "name": "stdout",
     "output_type": "stream",
     "text": [
      "CPU times: user 27.2 ms, sys: 3.87 ms, total: 31 ms\n",
      "Wall time: 29.9 ms\n"
     ]
    },
    {
     "data": {
      "text/plain": "                                   lat         lon  Distance_prev_to_curr  \\\nDateTime            traj_id                                                 \n2008-10-23 16:53:05 1        39.984094  116.319236                    NaN   \n2008-10-23 16:53:06 1        39.984198  116.319322              13.690153   \n2008-10-23 05:53:11 1        39.984224  116.319402               7.403788   \n2008-10-23 05:53:16 1        39.984211  116.319389               1.821083   \n2008-10-23 05:53:21 1        39.984217  116.319422               2.889671   \n\n                             Distance_start_to_curr  Distance_to_(0, 0)  \\\nDateTime            traj_id                                               \n2008-10-23 16:53:05 1                           NaN        1.221587e+07   \n2008-10-23 16:53:06 1                     13.690153        1.221587e+07   \n2008-10-23 05:53:11 1                     20.223428        1.221588e+07   \n2008-10-23 05:53:16 1                     18.416895        1.221588e+07   \n2008-10-23 05:53:21 1                     20.933073        1.221588e+07   \n\n                             Within_15000000_m_from_(0, 0)  \\\nDateTime            traj_id                                  \n2008-10-23 16:53:05 1                                 True   \n2008-10-23 16:53:06 1                                 True   \n2008-10-23 05:53:11 1                                 True   \n2008-10-23 05:53:16 1                                 True   \n2008-10-23 05:53:21 1                                 True   \n\n                             Speed_prev_to_curr  Acceleration_prev_to_curr  \\\nDateTime            traj_id                                                  \n2008-10-23 16:53:05 1                       NaN                        NaN   \n2008-10-23 16:53:06 1                 13.690153                        NaN   \n2008-10-23 05:53:11 1                  0.000158                  -0.000292   \n2008-10-23 05:53:16 1                  0.364217                   0.072812   \n2008-10-23 05:53:21 1                  0.577934                   0.042744   \n\n                             jerk_prev_to_curr  Bearing_between_consecutive  \\\nDateTime            traj_id                                                   \n2008-10-23 16:53:05 1                      NaN                          NaN   \n2008-10-23 16:53:06 1                      NaN                    32.358601   \n2008-10-23 05:53:11 1                      NaN                    67.015294   \n2008-10-23 05:53:16 1                 0.014621                  -142.539885   \n2008-10-23 05:53:21 1                -0.006014                    76.651056   \n\n                             Bearing_rate_from_prev  \\\nDateTime            traj_id                           \n2008-10-23 16:53:05 1                           NaN   \n2008-10-23 16:53:06 1                           NaN   \n2008-10-23 05:53:11 1                      0.000740   \n2008-10-23 05:53:16 1                    -41.911036   \n2008-10-23 05:53:21 1                     43.838188   \n\n                             Rate_of_bearing_rate_from_prev  \nDateTime            traj_id                                  \n2008-10-23 16:53:05 1                                   NaN  \n2008-10-23 16:53:06 1                                   NaN  \n2008-10-23 05:53:11 1                                   NaN  \n2008-10-23 05:53:16 1                             -8.382355  \n2008-10-23 05:53:21 1                             17.149845  ",
      "text/html": "<div>\n<style scoped>\n    .dataframe tbody tr th:only-of-type {\n        vertical-align: middle;\n    }\n\n    .dataframe tbody tr th {\n        vertical-align: top;\n    }\n\n    .dataframe thead th {\n        text-align: right;\n    }\n</style>\n<table border=\"1\" class=\"dataframe\">\n  <thead>\n    <tr style=\"text-align: right;\">\n      <th></th>\n      <th></th>\n      <th>lat</th>\n      <th>lon</th>\n      <th>Distance_prev_to_curr</th>\n      <th>Distance_start_to_curr</th>\n      <th>Distance_to_(0, 0)</th>\n      <th>Within_15000000_m_from_(0, 0)</th>\n      <th>Speed_prev_to_curr</th>\n      <th>Acceleration_prev_to_curr</th>\n      <th>jerk_prev_to_curr</th>\n      <th>Bearing_between_consecutive</th>\n      <th>Bearing_rate_from_prev</th>\n      <th>Rate_of_bearing_rate_from_prev</th>\n    </tr>\n    <tr>\n      <th>DateTime</th>\n      <th>traj_id</th>\n      <th></th>\n      <th></th>\n      <th></th>\n      <th></th>\n      <th></th>\n      <th></th>\n      <th></th>\n      <th></th>\n      <th></th>\n      <th></th>\n      <th></th>\n      <th></th>\n    </tr>\n  </thead>\n  <tbody>\n    <tr>\n      <th>2008-10-23 16:53:05</th>\n      <th>1</th>\n      <td>39.984094</td>\n      <td>116.319236</td>\n      <td>NaN</td>\n      <td>NaN</td>\n      <td>1.221587e+07</td>\n      <td>True</td>\n      <td>NaN</td>\n      <td>NaN</td>\n      <td>NaN</td>\n      <td>NaN</td>\n      <td>NaN</td>\n      <td>NaN</td>\n    </tr>\n    <tr>\n      <th>2008-10-23 16:53:06</th>\n      <th>1</th>\n      <td>39.984198</td>\n      <td>116.319322</td>\n      <td>13.690153</td>\n      <td>13.690153</td>\n      <td>1.221587e+07</td>\n      <td>True</td>\n      <td>13.690153</td>\n      <td>NaN</td>\n      <td>NaN</td>\n      <td>32.358601</td>\n      <td>NaN</td>\n      <td>NaN</td>\n    </tr>\n    <tr>\n      <th>2008-10-23 05:53:11</th>\n      <th>1</th>\n      <td>39.984224</td>\n      <td>116.319402</td>\n      <td>7.403788</td>\n      <td>20.223428</td>\n      <td>1.221588e+07</td>\n      <td>True</td>\n      <td>0.000158</td>\n      <td>-0.000292</td>\n      <td>NaN</td>\n      <td>67.015294</td>\n      <td>0.000740</td>\n      <td>NaN</td>\n    </tr>\n    <tr>\n      <th>2008-10-23 05:53:16</th>\n      <th>1</th>\n      <td>39.984211</td>\n      <td>116.319389</td>\n      <td>1.821083</td>\n      <td>18.416895</td>\n      <td>1.221588e+07</td>\n      <td>True</td>\n      <td>0.364217</td>\n      <td>0.072812</td>\n      <td>0.014621</td>\n      <td>-142.539885</td>\n      <td>-41.911036</td>\n      <td>-8.382355</td>\n    </tr>\n    <tr>\n      <th>2008-10-23 05:53:21</th>\n      <th>1</th>\n      <td>39.984217</td>\n      <td>116.319422</td>\n      <td>2.889671</td>\n      <td>20.933073</td>\n      <td>1.221588e+07</td>\n      <td>True</td>\n      <td>0.577934</td>\n      <td>0.042744</td>\n      <td>-0.006014</td>\n      <td>76.651056</td>\n      <td>43.838188</td>\n      <td>17.149845</td>\n    </tr>\n  </tbody>\n</table>\n</div>"
     },
     "execution_count": 32,
     "metadata": {},
     "output_type": "execute_result"
    }
   ],
   "source": [
    "%%time\n",
    "\n",
    "# Now, lets calculate the rate of bearing rate between 2\n",
    "# consecutive points.\n",
    "geolife = spatial.create_rate_of_bearing_rate_column(geolife)\n",
    "geolife.head()\n"
   ],
   "metadata": {
    "collapsed": false,
    "pycharm": {
     "name": "#%%\n"
    }
   }
  },
  {
   "cell_type": "code",
   "execution_count": 33,
   "outputs": [
    {
     "name": "stdout",
     "output_type": "stream",
     "text": [
      "CPU times: user 17.5 ms, sys: 193 µs, total: 17.7 ms\n",
      "Wall time: 16.7 ms\n"
     ]
    },
    {
     "data": {
      "text/plain": "                                             Name      Date  Time Event  \\\nDateTime            traj_id                                               \n1851-06-25 00:00:00 AL011851              UNNAMED  18510625     0         \n1851-06-25 06:00:00 AL011851              UNNAMED  18510625   600         \n1851-06-25 12:00:00 AL011851              UNNAMED  18510625  1200         \n1851-06-25 18:00:00 AL011851              UNNAMED  18510625  1800         \n1851-06-25 21:00:00 AL011851              UNNAMED  18510625  2100     L   \n\n                             Status   lat   lon  Maximum Wind  \\\nDateTime            traj_id                                     \n1851-06-25 00:00:00 AL011851     HU  28.0 -94.8            80   \n1851-06-25 06:00:00 AL011851     HU  28.0 -95.4            80   \n1851-06-25 12:00:00 AL011851     HU  28.0 -96.0            80   \n1851-06-25 18:00:00 AL011851     HU  28.1 -96.5            80   \n1851-06-25 21:00:00 AL011851     HU  28.2 -96.8            80   \n\n                              Minimum Pressure  Low Wind NE  ...  \\\nDateTime            traj_id                                  ...   \n1851-06-25 00:00:00 AL011851              -999         -999  ...   \n1851-06-25 06:00:00 AL011851              -999         -999  ...   \n1851-06-25 12:00:00 AL011851              -999         -999  ...   \n1851-06-25 18:00:00 AL011851              -999         -999  ...   \n1851-06-25 21:00:00 AL011851              -999         -999  ...   \n\n                              High Wind SW  High Wind NW  \\\nDateTime            traj_id                                \n1851-06-25 00:00:00 AL011851          -999          -999   \n1851-06-25 06:00:00 AL011851          -999          -999   \n1851-06-25 12:00:00 AL011851          -999          -999   \n1851-06-25 18:00:00 AL011851          -999          -999   \n1851-06-25 21:00:00 AL011851          -999          -999   \n\n                              Distance_prev_to_curr  Distance_start_to_curr  \\\nDateTime            traj_id                                                   \n1851-06-25 00:00:00 AL011851                    NaN                     NaN   \n1851-06-25 06:00:00 AL011851           58907.516366            58907.516366   \n1851-06-25 12:00:00 AL011851           58907.516366           117814.676769   \n1851-06-25 18:00:00 AL011851           50310.976622           167196.061925   \n1851-06-25 21:00:00 AL011851           31444.370265           197430.193137   \n\n                              Speed_prev_to_curr  Acceleration_prev_to_curr  \\\nDateTime            traj_id                                                   \n1851-06-25 00:00:00 AL011851                 NaN                        NaN   \n1851-06-25 06:00:00 AL011851            2.727200                        NaN   \n1851-06-25 12:00:00 AL011851            2.727200              -3.001714e-18   \n1851-06-25 18:00:00 AL011851            2.329212              -1.842537e-05   \n1851-06-25 21:00:00 AL011851            2.911516               5.391703e-05   \n\n                              jerk_prev_to_curr  Bearing_between_consecutive  \\\nDateTime            traj_id                                                    \n1851-06-25 00:00:00 AL011851                NaN                          NaN   \n1851-06-25 06:00:00 AL011851                NaN                   -89.859158   \n1851-06-25 12:00:00 AL011851                NaN                   -89.859158   \n1851-06-25 18:00:00 AL011851      -8.530263e-10                   -77.113860   \n1851-06-25 21:00:00 AL011851       6.698370e-09                   -69.220135   \n\n                              Bearing_rate_from_prev  \\\nDateTime            traj_id                            \n1851-06-25 00:00:00 AL011851                     NaN   \n1851-06-25 06:00:00 AL011851                     NaN   \n1851-06-25 12:00:00 AL011851            6.579099e-19   \n1851-06-25 18:00:00 AL011851            5.900601e-04   \n1851-06-25 21:00:00 AL011851            7.309005e-04   \n\n                              Rate_of_bearing_rate_from_prev  \nDateTime            traj_id                                   \n1851-06-25 00:00:00 AL011851                             NaN  \n1851-06-25 06:00:00 AL011851                             NaN  \n1851-06-25 12:00:00 AL011851                             NaN  \n1851-06-25 18:00:00 AL011851                    2.731760e-08  \n1851-06-25 21:00:00 AL011851                    1.304079e-08  \n\n[5 rows x 29 columns]",
      "text/html": "<div>\n<style scoped>\n    .dataframe tbody tr th:only-of-type {\n        vertical-align: middle;\n    }\n\n    .dataframe tbody tr th {\n        vertical-align: top;\n    }\n\n    .dataframe thead th {\n        text-align: right;\n    }\n</style>\n<table border=\"1\" class=\"dataframe\">\n  <thead>\n    <tr style=\"text-align: right;\">\n      <th></th>\n      <th></th>\n      <th>Name</th>\n      <th>Date</th>\n      <th>Time</th>\n      <th>Event</th>\n      <th>Status</th>\n      <th>lat</th>\n      <th>lon</th>\n      <th>Maximum Wind</th>\n      <th>Minimum Pressure</th>\n      <th>Low Wind NE</th>\n      <th>...</th>\n      <th>High Wind SW</th>\n      <th>High Wind NW</th>\n      <th>Distance_prev_to_curr</th>\n      <th>Distance_start_to_curr</th>\n      <th>Speed_prev_to_curr</th>\n      <th>Acceleration_prev_to_curr</th>\n      <th>jerk_prev_to_curr</th>\n      <th>Bearing_between_consecutive</th>\n      <th>Bearing_rate_from_prev</th>\n      <th>Rate_of_bearing_rate_from_prev</th>\n    </tr>\n    <tr>\n      <th>DateTime</th>\n      <th>traj_id</th>\n      <th></th>\n      <th></th>\n      <th></th>\n      <th></th>\n      <th></th>\n      <th></th>\n      <th></th>\n      <th></th>\n      <th></th>\n      <th></th>\n      <th></th>\n      <th></th>\n      <th></th>\n      <th></th>\n      <th></th>\n      <th></th>\n      <th></th>\n      <th></th>\n      <th></th>\n      <th></th>\n      <th></th>\n    </tr>\n  </thead>\n  <tbody>\n    <tr>\n      <th>1851-06-25 00:00:00</th>\n      <th>AL011851</th>\n      <td>UNNAMED</td>\n      <td>18510625</td>\n      <td>0</td>\n      <td></td>\n      <td>HU</td>\n      <td>28.0</td>\n      <td>-94.8</td>\n      <td>80</td>\n      <td>-999</td>\n      <td>-999</td>\n      <td>...</td>\n      <td>-999</td>\n      <td>-999</td>\n      <td>NaN</td>\n      <td>NaN</td>\n      <td>NaN</td>\n      <td>NaN</td>\n      <td>NaN</td>\n      <td>NaN</td>\n      <td>NaN</td>\n      <td>NaN</td>\n    </tr>\n    <tr>\n      <th>1851-06-25 06:00:00</th>\n      <th>AL011851</th>\n      <td>UNNAMED</td>\n      <td>18510625</td>\n      <td>600</td>\n      <td></td>\n      <td>HU</td>\n      <td>28.0</td>\n      <td>-95.4</td>\n      <td>80</td>\n      <td>-999</td>\n      <td>-999</td>\n      <td>...</td>\n      <td>-999</td>\n      <td>-999</td>\n      <td>58907.516366</td>\n      <td>58907.516366</td>\n      <td>2.727200</td>\n      <td>NaN</td>\n      <td>NaN</td>\n      <td>-89.859158</td>\n      <td>NaN</td>\n      <td>NaN</td>\n    </tr>\n    <tr>\n      <th>1851-06-25 12:00:00</th>\n      <th>AL011851</th>\n      <td>UNNAMED</td>\n      <td>18510625</td>\n      <td>1200</td>\n      <td></td>\n      <td>HU</td>\n      <td>28.0</td>\n      <td>-96.0</td>\n      <td>80</td>\n      <td>-999</td>\n      <td>-999</td>\n      <td>...</td>\n      <td>-999</td>\n      <td>-999</td>\n      <td>58907.516366</td>\n      <td>117814.676769</td>\n      <td>2.727200</td>\n      <td>-3.001714e-18</td>\n      <td>NaN</td>\n      <td>-89.859158</td>\n      <td>6.579099e-19</td>\n      <td>NaN</td>\n    </tr>\n    <tr>\n      <th>1851-06-25 18:00:00</th>\n      <th>AL011851</th>\n      <td>UNNAMED</td>\n      <td>18510625</td>\n      <td>1800</td>\n      <td></td>\n      <td>HU</td>\n      <td>28.1</td>\n      <td>-96.5</td>\n      <td>80</td>\n      <td>-999</td>\n      <td>-999</td>\n      <td>...</td>\n      <td>-999</td>\n      <td>-999</td>\n      <td>50310.976622</td>\n      <td>167196.061925</td>\n      <td>2.329212</td>\n      <td>-1.842537e-05</td>\n      <td>-8.530263e-10</td>\n      <td>-77.113860</td>\n      <td>5.900601e-04</td>\n      <td>2.731760e-08</td>\n    </tr>\n    <tr>\n      <th>1851-06-25 21:00:00</th>\n      <th>AL011851</th>\n      <td>UNNAMED</td>\n      <td>18510625</td>\n      <td>2100</td>\n      <td>L</td>\n      <td>HU</td>\n      <td>28.2</td>\n      <td>-96.8</td>\n      <td>80</td>\n      <td>-999</td>\n      <td>-999</td>\n      <td>...</td>\n      <td>-999</td>\n      <td>-999</td>\n      <td>31444.370265</td>\n      <td>197430.193137</td>\n      <td>2.911516</td>\n      <td>5.391703e-05</td>\n      <td>6.698370e-09</td>\n      <td>-69.220135</td>\n      <td>7.309005e-04</td>\n      <td>1.304079e-08</td>\n    </tr>\n  </tbody>\n</table>\n<p>5 rows × 29 columns</p>\n</div>"
     },
     "execution_count": 33,
     "metadata": {},
     "output_type": "execute_result"
    }
   ],
   "source": [
    "%%time\n",
    "\n",
    "# Now, lets calculate the rate of bearing rate for the atlantic\n",
    "# dataset.\n",
    "atlantic = spatial.create_rate_of_bearing_rate_column(atlantic)\n",
    "atlantic.head()"
   ],
   "metadata": {
    "collapsed": false,
    "pycharm": {
     "name": "#%%\n"
    }
   }
  },
  {
   "cell_type": "code",
   "execution_count": 34,
   "outputs": [
    {
     "name": "stdout",
     "output_type": "stream",
     "text": [
      "CPU times: user 18.2 ms, sys: 275 µs, total: 18.4 ms\n",
      "Wall time: 17.1 ms\n"
     ]
    },
    {
     "data": {
      "text/plain": "                               event-id  visible       lon       lat  \\\nDateTime            traj_id                                            \n2009-05-27 14:00:00 91732    1082620685     True  24.58617  61.24783   \n2009-05-27 20:00:00 91732    1082620686     True  24.58217  61.23267   \n2009-05-28 05:00:00 91732    1082620687     True  24.53133  61.18833   \n2009-05-28 08:00:00 91732    1082620688     True  24.58200  61.23283   \n2009-05-28 14:00:00 91732    1082620689     True  24.58250  61.23267   \n\n                            sensor-type individual-taxon-canonical-name  \\\nDateTime            traj_id                                               \n2009-05-27 14:00:00 91732           gps                    Larus fuscus   \n2009-05-27 20:00:00 91732           gps                    Larus fuscus   \n2009-05-28 05:00:00 91732           gps                    Larus fuscus   \n2009-05-28 08:00:00 91732           gps                    Larus fuscus   \n2009-05-28 14:00:00 91732           gps                    Larus fuscus   \n\n                            individual-local-identifier  \\\nDateTime            traj_id                               \n2009-05-27 14:00:00 91732                        91732A   \n2009-05-27 20:00:00 91732                        91732A   \n2009-05-28 05:00:00 91732                        91732A   \n2009-05-28 08:00:00 91732                        91732A   \n2009-05-28 14:00:00 91732                        91732A   \n\n                                                                    study-name  \\\nDateTime            traj_id                                                      \n2009-05-27 14:00:00 91732    Navigation experiments in lesser black-backed ...   \n2009-05-27 20:00:00 91732    Navigation experiments in lesser black-backed ...   \n2009-05-28 05:00:00 91732    Navigation experiments in lesser black-backed ...   \n2009-05-28 08:00:00 91732    Navigation experiments in lesser black-backed ...   \n2009-05-28 14:00:00 91732    Navigation experiments in lesser black-backed ...   \n\n                             Distance_prev_to_curr  Distance_start_to_curr  \\\nDateTime            traj_id                                                  \n2009-05-27 14:00:00 91732                      NaN                     NaN   \n2009-05-27 20:00:00 91732              1699.244398             1699.244398   \n2009-05-28 05:00:00 91732              5632.120064             7238.295521   \n2009-05-28 08:00:00 91732              5643.314949             1682.777895   \n2009-05-28 14:00:00 91732                32.131494             1697.111327   \n\n                             Speed_prev_to_curr  Acceleration_prev_to_curr  \\\nDateTime            traj_id                                                  \n2009-05-27 14:00:00 91732                   NaN                        NaN   \n2009-05-27 20:00:00 91732              0.078669                        NaN   \n2009-05-28 05:00:00 91732              0.173831                   0.000003   \n2009-05-28 08:00:00 91732              0.522529                   0.000032   \n2009-05-28 14:00:00 91732              0.001488                  -0.000024   \n\n                             jerk_prev_to_curr  Bearing_between_consecutive  \\\nDateTime            traj_id                                                   \n2009-05-27 14:00:00 91732                  NaN                          NaN   \n2009-05-27 20:00:00 91732                  NaN                  -172.763287   \n2009-05-28 05:00:00 91732                  NaN                  -151.070593   \n2009-05-28 08:00:00 91732         2.717572e-09                    28.716637   \n2009-05-28 14:00:00 91732        -2.611536e-09                   123.620959   \n\n                             Bearing_rate_from_prev  \\\nDateTime            traj_id                           \n2009-05-27 14:00:00 91732                       NaN   \n2009-05-27 20:00:00 91732                       NaN   \n2009-05-28 05:00:00 91732                  0.000670   \n2009-05-28 08:00:00 91732                  0.016647   \n2009-05-28 14:00:00 91732                  0.004394   \n\n                             Rate_of_bearing_rate_from_prev  \nDateTime            traj_id                                  \n2009-05-27 14:00:00 91732                               NaN  \n2009-05-27 20:00:00 91732                               NaN  \n2009-05-28 05:00:00 91732                               NaN  \n2009-05-28 08:00:00 91732                      1.479392e-06  \n2009-05-28 14:00:00 91732                     -5.672800e-07  ",
      "text/html": "<div>\n<style scoped>\n    .dataframe tbody tr th:only-of-type {\n        vertical-align: middle;\n    }\n\n    .dataframe tbody tr th {\n        vertical-align: top;\n    }\n\n    .dataframe thead th {\n        text-align: right;\n    }\n</style>\n<table border=\"1\" class=\"dataframe\">\n  <thead>\n    <tr style=\"text-align: right;\">\n      <th></th>\n      <th></th>\n      <th>event-id</th>\n      <th>visible</th>\n      <th>lon</th>\n      <th>lat</th>\n      <th>sensor-type</th>\n      <th>individual-taxon-canonical-name</th>\n      <th>individual-local-identifier</th>\n      <th>study-name</th>\n      <th>Distance_prev_to_curr</th>\n      <th>Distance_start_to_curr</th>\n      <th>Speed_prev_to_curr</th>\n      <th>Acceleration_prev_to_curr</th>\n      <th>jerk_prev_to_curr</th>\n      <th>Bearing_between_consecutive</th>\n      <th>Bearing_rate_from_prev</th>\n      <th>Rate_of_bearing_rate_from_prev</th>\n    </tr>\n    <tr>\n      <th>DateTime</th>\n      <th>traj_id</th>\n      <th></th>\n      <th></th>\n      <th></th>\n      <th></th>\n      <th></th>\n      <th></th>\n      <th></th>\n      <th></th>\n      <th></th>\n      <th></th>\n      <th></th>\n      <th></th>\n      <th></th>\n      <th></th>\n      <th></th>\n      <th></th>\n    </tr>\n  </thead>\n  <tbody>\n    <tr>\n      <th>2009-05-27 14:00:00</th>\n      <th>91732</th>\n      <td>1082620685</td>\n      <td>True</td>\n      <td>24.58617</td>\n      <td>61.24783</td>\n      <td>gps</td>\n      <td>Larus fuscus</td>\n      <td>91732A</td>\n      <td>Navigation experiments in lesser black-backed ...</td>\n      <td>NaN</td>\n      <td>NaN</td>\n      <td>NaN</td>\n      <td>NaN</td>\n      <td>NaN</td>\n      <td>NaN</td>\n      <td>NaN</td>\n      <td>NaN</td>\n    </tr>\n    <tr>\n      <th>2009-05-27 20:00:00</th>\n      <th>91732</th>\n      <td>1082620686</td>\n      <td>True</td>\n      <td>24.58217</td>\n      <td>61.23267</td>\n      <td>gps</td>\n      <td>Larus fuscus</td>\n      <td>91732A</td>\n      <td>Navigation experiments in lesser black-backed ...</td>\n      <td>1699.244398</td>\n      <td>1699.244398</td>\n      <td>0.078669</td>\n      <td>NaN</td>\n      <td>NaN</td>\n      <td>-172.763287</td>\n      <td>NaN</td>\n      <td>NaN</td>\n    </tr>\n    <tr>\n      <th>2009-05-28 05:00:00</th>\n      <th>91732</th>\n      <td>1082620687</td>\n      <td>True</td>\n      <td>24.53133</td>\n      <td>61.18833</td>\n      <td>gps</td>\n      <td>Larus fuscus</td>\n      <td>91732A</td>\n      <td>Navigation experiments in lesser black-backed ...</td>\n      <td>5632.120064</td>\n      <td>7238.295521</td>\n      <td>0.173831</td>\n      <td>0.000003</td>\n      <td>NaN</td>\n      <td>-151.070593</td>\n      <td>0.000670</td>\n      <td>NaN</td>\n    </tr>\n    <tr>\n      <th>2009-05-28 08:00:00</th>\n      <th>91732</th>\n      <td>1082620688</td>\n      <td>True</td>\n      <td>24.58200</td>\n      <td>61.23283</td>\n      <td>gps</td>\n      <td>Larus fuscus</td>\n      <td>91732A</td>\n      <td>Navigation experiments in lesser black-backed ...</td>\n      <td>5643.314949</td>\n      <td>1682.777895</td>\n      <td>0.522529</td>\n      <td>0.000032</td>\n      <td>2.717572e-09</td>\n      <td>28.716637</td>\n      <td>0.016647</td>\n      <td>1.479392e-06</td>\n    </tr>\n    <tr>\n      <th>2009-05-28 14:00:00</th>\n      <th>91732</th>\n      <td>1082620689</td>\n      <td>True</td>\n      <td>24.58250</td>\n      <td>61.23267</td>\n      <td>gps</td>\n      <td>Larus fuscus</td>\n      <td>91732A</td>\n      <td>Navigation experiments in lesser black-backed ...</td>\n      <td>32.131494</td>\n      <td>1697.111327</td>\n      <td>0.001488</td>\n      <td>-0.000024</td>\n      <td>-2.611536e-09</td>\n      <td>123.620959</td>\n      <td>0.004394</td>\n      <td>-5.672800e-07</td>\n    </tr>\n  </tbody>\n</table>\n</div>"
     },
     "execution_count": 34,
     "metadata": {},
     "output_type": "execute_result"
    }
   ],
   "source": [
    "%%time\n",
    "\n",
    "# Now lets calculate the rate of bearing rate for the seagulls\n",
    "# dataset.\n",
    "gulls = spatial.create_rate_of_bearing_rate_column(gulls)\n",
    "gulls.head()"
   ],
   "metadata": {
    "collapsed": false,
    "pycharm": {
     "name": "#%%\n"
    }
   }
  },
  {
   "cell_type": "code",
   "execution_count": 35,
   "outputs": [
    {
     "name": "stdout",
     "output_type": "stream",
     "text": [
      "CPU times: user 484 ms, sys: 462 ms, total: 946 ms\n",
      "Wall time: 3.84 s\n"
     ]
    },
    {
     "data": {
      "text/plain": "           lat   lon\ntraj_id             \nAL011851  28.0 -94.8\nAL011852  20.5 -67.1\nAL011853  32.5 -69.0\nAL011854  26.0 -92.5\nAL011855  22.2 -98.0\n...        ...   ...\nAL282005  13.2 -62.1\nAL291969  10.3 -81.0\nAL292005  27.0 -48.0\nAL302005  31.5 -49.2\nAL312005  23.9 -35.6\n\n[1814 rows x 2 columns]",
      "text/html": "<div>\n<style scoped>\n    .dataframe tbody tr th:only-of-type {\n        vertical-align: middle;\n    }\n\n    .dataframe tbody tr th {\n        vertical-align: top;\n    }\n\n    .dataframe thead th {\n        text-align: right;\n    }\n</style>\n<table border=\"1\" class=\"dataframe\">\n  <thead>\n    <tr style=\"text-align: right;\">\n      <th></th>\n      <th>lat</th>\n      <th>lon</th>\n    </tr>\n    <tr>\n      <th>traj_id</th>\n      <th></th>\n      <th></th>\n    </tr>\n  </thead>\n  <tbody>\n    <tr>\n      <th>AL011851</th>\n      <td>28.0</td>\n      <td>-94.8</td>\n    </tr>\n    <tr>\n      <th>AL011852</th>\n      <td>20.5</td>\n      <td>-67.1</td>\n    </tr>\n    <tr>\n      <th>AL011853</th>\n      <td>32.5</td>\n      <td>-69.0</td>\n    </tr>\n    <tr>\n      <th>AL011854</th>\n      <td>26.0</td>\n      <td>-92.5</td>\n    </tr>\n    <tr>\n      <th>AL011855</th>\n      <td>22.2</td>\n      <td>-98.0</td>\n    </tr>\n    <tr>\n      <th>...</th>\n      <td>...</td>\n      <td>...</td>\n    </tr>\n    <tr>\n      <th>AL282005</th>\n      <td>13.2</td>\n      <td>-62.1</td>\n    </tr>\n    <tr>\n      <th>AL291969</th>\n      <td>10.3</td>\n      <td>-81.0</td>\n    </tr>\n    <tr>\n      <th>AL292005</th>\n      <td>27.0</td>\n      <td>-48.0</td>\n    </tr>\n    <tr>\n      <th>AL302005</th>\n      <td>31.5</td>\n      <td>-49.2</td>\n    </tr>\n    <tr>\n      <th>AL312005</th>\n      <td>23.9</td>\n      <td>-35.6</td>\n    </tr>\n  </tbody>\n</table>\n<p>1814 rows × 2 columns</p>\n</div>"
     },
     "execution_count": 35,
     "metadata": {},
     "output_type": "execute_result"
    }
   ],
   "source": [
    "%%time\n",
    "\n",
    "# Now, lets get the start locations of all the trajectories\n",
    "# in the atlantic dataset.\n",
    "spatial.get_start_location(atlantic)"
   ],
   "metadata": {
    "collapsed": false,
    "pycharm": {
     "name": "#%%\n"
    }
   }
  },
  {
   "cell_type": "code",
   "execution_count": 36,
   "outputs": [
    {
     "name": "stdout",
     "output_type": "stream",
     "text": [
      "CPU times: user 27.9 ms, sys: 16.5 ms, total: 44.4 ms\n",
      "Wall time: 42.5 ms\n"
     ]
    },
    {
     "data": {
      "text/plain": "(31.0, -100.2)"
     },
     "execution_count": 36,
     "metadata": {},
     "output_type": "execute_result"
    }
   ],
   "source": [
    "%%time\n",
    "\n",
    "# Now, lets get the end location of a specific trajectory\n",
    "# from the atlantic dataset.\n",
    "spatial.get_end_location(atlantic, 'AL011851')"
   ],
   "metadata": {
    "collapsed": false,
    "pycharm": {
     "name": "#%%\n"
    }
   }
  },
  {
   "cell_type": "code",
   "execution_count": 37,
   "outputs": [
    {
     "name": "stdout",
     "output_type": "stream",
     "text": [
      "CPU times: user 43.4 ms, sys: 7.82 ms, total: 51.3 ms\n",
      "Wall time: 59.9 ms\n"
     ]
    },
    {
     "data": {
      "text/plain": "716547.106240304"
     },
     "execution_count": 37,
     "metadata": {},
     "output_type": "execute_result"
    }
   ],
   "source": [
    "%%time\n",
    "\n",
    "# Now, lets get the distance travelled by a specific trajectory\n",
    "# in the atlantic dataset.\n",
    "spatial.get_distance_travelled_by_traj_id(atlantic, 'AL011851')"
   ],
   "metadata": {
    "collapsed": false,
    "pycharm": {
     "name": "#%%\n"
    }
   }
  },
  {
   "cell_type": "code",
   "execution_count": 38,
   "outputs": [
    {
     "name": "stdout",
     "output_type": "stream",
     "text": [
      "CPU times: user 519 ms, sys: 493 ms, total: 1.01 s\n",
      "Wall time: 3.47 s\n"
     ]
    },
    {
     "data": {
      "text/plain": "          Number of Unique Coordinates\ntraj_id                               \nAL011851                            14\nAL011852                            45\nAL011853                             1\nAL011854                            11\nAL011855                             1\n...                                ...\nAL282005                            33\nAL291969                            13\nAL292005                            42\nAL302005                            43\nAL312005                            36\n\n[1814 rows x 1 columns]",
      "text/html": "<div>\n<style scoped>\n    .dataframe tbody tr th:only-of-type {\n        vertical-align: middle;\n    }\n\n    .dataframe tbody tr th {\n        vertical-align: top;\n    }\n\n    .dataframe thead th {\n        text-align: right;\n    }\n</style>\n<table border=\"1\" class=\"dataframe\">\n  <thead>\n    <tr style=\"text-align: right;\">\n      <th></th>\n      <th>Number of Unique Coordinates</th>\n    </tr>\n    <tr>\n      <th>traj_id</th>\n      <th></th>\n    </tr>\n  </thead>\n  <tbody>\n    <tr>\n      <th>AL011851</th>\n      <td>14</td>\n    </tr>\n    <tr>\n      <th>AL011852</th>\n      <td>45</td>\n    </tr>\n    <tr>\n      <th>AL011853</th>\n      <td>1</td>\n    </tr>\n    <tr>\n      <th>AL011854</th>\n      <td>11</td>\n    </tr>\n    <tr>\n      <th>AL011855</th>\n      <td>1</td>\n    </tr>\n    <tr>\n      <th>...</th>\n      <td>...</td>\n    </tr>\n    <tr>\n      <th>AL282005</th>\n      <td>33</td>\n    </tr>\n    <tr>\n      <th>AL291969</th>\n      <td>13</td>\n    </tr>\n    <tr>\n      <th>AL292005</th>\n      <td>42</td>\n    </tr>\n    <tr>\n      <th>AL302005</th>\n      <td>43</td>\n    </tr>\n    <tr>\n      <th>AL312005</th>\n      <td>36</td>\n    </tr>\n  </tbody>\n</table>\n<p>1814 rows × 1 columns</p>\n</div>"
     },
     "execution_count": 38,
     "metadata": {},
     "output_type": "execute_result"
    }
   ],
   "source": [
    "%%time\n",
    "\n",
    "# Now, lets get the number of unique locations visited by\n",
    "# all the trajectories in the atlantic dataset.\n",
    "spatial.get_number_of_locations(atlantic)"
   ],
   "metadata": {
    "collapsed": false,
    "pycharm": {
     "name": "#%%\n"
    }
   }
  },
  {
   "cell_type": "code",
   "execution_count": 39,
   "outputs": [
    {
     "name": "stdout",
     "output_type": "stream",
     "text": [
      "Total execution time is 34.5739369392395 seconds.\n"
     ]
    }
   ],
   "source": [
    "end = time.time()\n",
    "print(f\"Total execution time is {end - start} seconds.\")"
   ],
   "metadata": {
    "collapsed": false,
    "pycharm": {
     "name": "#%%\n"
    }
   }
  }
 ],
 "metadata": {
  "kernelspec": {
   "display_name": "Python 3",
   "language": "python",
   "name": "python3"
  },
  "language_info": {
   "codemirror_mode": {
    "name": "ipython",
    "version": 2
   },
   "file_extension": ".py",
   "mimetype": "text/x-python",
   "name": "python",
   "nbconvert_exporter": "python",
   "pygments_lexer": "ipython2",
   "version": "2.7.6"
  }
 },
 "nbformat": 4,
 "nbformat_minor": 0
}