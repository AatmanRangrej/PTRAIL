{
 "cells": [
  {
   "cell_type": "code",
   "execution_count": 1,
   "metadata": {
    "collapsed": true
   },
   "outputs": [],
   "source": [
    "from core.TrajectoryDF import NumPandasTraj as NumTrajDF\n",
    "from features.spatial_features import SpatialFeatures as spatial\n",
    "from utilities.conversions import Conversions as con\n",
    "from utilities.helper_functions import Helpers as help\n",
    "import pandas as pd"
   ]
  },
  {
   "cell_type": "code",
   "execution_count": 2,
   "outputs": [
    {
     "name": "stdout",
     "output_type": "stream",
     "text": [
      "CPU times: user 7.88 s, sys: 77.3 ms, total: 7.96 s\n",
      "Wall time: 7.96 s\n"
     ]
    },
    {
     "data": {
      "text/plain": "                                             Name      Date  Time Event  \\\nDateTime            traj_id                                               \n1851-06-25 00:00:00 AL011851              UNNAMED  18510625     0         \n1851-06-25 06:00:00 AL011851              UNNAMED  18510625   600         \n1851-06-25 12:00:00 AL011851              UNNAMED  18510625  1200         \n1851-06-25 18:00:00 AL011851              UNNAMED  18510625  1800         \n1851-06-25 21:00:00 AL011851              UNNAMED  18510625  2100     L   \n\n                             Status   lat   lon  Maximum Wind  \\\nDateTime            traj_id                                     \n1851-06-25 00:00:00 AL011851     HU  28.0 -94.8            80   \n1851-06-25 06:00:00 AL011851     HU  28.0 -95.4            80   \n1851-06-25 12:00:00 AL011851     HU  28.0 -96.0            80   \n1851-06-25 18:00:00 AL011851     HU  28.1 -96.5            80   \n1851-06-25 21:00:00 AL011851     HU  28.2 -96.8            80   \n\n                              Minimum Pressure  Low Wind NE  ...  Low Wind SW  \\\nDateTime            traj_id                                  ...                \n1851-06-25 00:00:00 AL011851              -999         -999  ...         -999   \n1851-06-25 06:00:00 AL011851              -999         -999  ...         -999   \n1851-06-25 12:00:00 AL011851              -999         -999  ...         -999   \n1851-06-25 18:00:00 AL011851              -999         -999  ...         -999   \n1851-06-25 21:00:00 AL011851              -999         -999  ...         -999   \n\n                              Low Wind NW  Moderate Wind NE  Moderate Wind SE  \\\nDateTime            traj_id                                                     \n1851-06-25 00:00:00 AL011851         -999              -999              -999   \n1851-06-25 06:00:00 AL011851         -999              -999              -999   \n1851-06-25 12:00:00 AL011851         -999              -999              -999   \n1851-06-25 18:00:00 AL011851         -999              -999              -999   \n1851-06-25 21:00:00 AL011851         -999              -999              -999   \n\n                              Moderate Wind SW  Moderate Wind NW  \\\nDateTime            traj_id                                        \n1851-06-25 00:00:00 AL011851              -999              -999   \n1851-06-25 06:00:00 AL011851              -999              -999   \n1851-06-25 12:00:00 AL011851              -999              -999   \n1851-06-25 18:00:00 AL011851              -999              -999   \n1851-06-25 21:00:00 AL011851              -999              -999   \n\n                              High Wind NE  High Wind SE  High Wind SW  \\\nDateTime            traj_id                                              \n1851-06-25 00:00:00 AL011851          -999          -999          -999   \n1851-06-25 06:00:00 AL011851          -999          -999          -999   \n1851-06-25 12:00:00 AL011851          -999          -999          -999   \n1851-06-25 18:00:00 AL011851          -999          -999          -999   \n1851-06-25 21:00:00 AL011851          -999          -999          -999   \n\n                              High Wind NW  \nDateTime            traj_id                 \n1851-06-25 00:00:00 AL011851          -999  \n1851-06-25 06:00:00 AL011851          -999  \n1851-06-25 12:00:00 AL011851          -999  \n1851-06-25 18:00:00 AL011851          -999  \n1851-06-25 21:00:00 AL011851          -999  \n\n[5 rows x 21 columns]",
      "text/html": "<div>\n<style scoped>\n    .dataframe tbody tr th:only-of-type {\n        vertical-align: middle;\n    }\n\n    .dataframe tbody tr th {\n        vertical-align: top;\n    }\n\n    .dataframe thead th {\n        text-align: right;\n    }\n</style>\n<table border=\"1\" class=\"dataframe\">\n  <thead>\n    <tr style=\"text-align: right;\">\n      <th></th>\n      <th></th>\n      <th>Name</th>\n      <th>Date</th>\n      <th>Time</th>\n      <th>Event</th>\n      <th>Status</th>\n      <th>lat</th>\n      <th>lon</th>\n      <th>Maximum Wind</th>\n      <th>Minimum Pressure</th>\n      <th>Low Wind NE</th>\n      <th>...</th>\n      <th>Low Wind SW</th>\n      <th>Low Wind NW</th>\n      <th>Moderate Wind NE</th>\n      <th>Moderate Wind SE</th>\n      <th>Moderate Wind SW</th>\n      <th>Moderate Wind NW</th>\n      <th>High Wind NE</th>\n      <th>High Wind SE</th>\n      <th>High Wind SW</th>\n      <th>High Wind NW</th>\n    </tr>\n    <tr>\n      <th>DateTime</th>\n      <th>traj_id</th>\n      <th></th>\n      <th></th>\n      <th></th>\n      <th></th>\n      <th></th>\n      <th></th>\n      <th></th>\n      <th></th>\n      <th></th>\n      <th></th>\n      <th></th>\n      <th></th>\n      <th></th>\n      <th></th>\n      <th></th>\n      <th></th>\n      <th></th>\n      <th></th>\n      <th></th>\n      <th></th>\n      <th></th>\n    </tr>\n  </thead>\n  <tbody>\n    <tr>\n      <th>1851-06-25 00:00:00</th>\n      <th>AL011851</th>\n      <td>UNNAMED</td>\n      <td>18510625</td>\n      <td>0</td>\n      <td></td>\n      <td>HU</td>\n      <td>28.0</td>\n      <td>-94.8</td>\n      <td>80</td>\n      <td>-999</td>\n      <td>-999</td>\n      <td>...</td>\n      <td>-999</td>\n      <td>-999</td>\n      <td>-999</td>\n      <td>-999</td>\n      <td>-999</td>\n      <td>-999</td>\n      <td>-999</td>\n      <td>-999</td>\n      <td>-999</td>\n      <td>-999</td>\n    </tr>\n    <tr>\n      <th>1851-06-25 06:00:00</th>\n      <th>AL011851</th>\n      <td>UNNAMED</td>\n      <td>18510625</td>\n      <td>600</td>\n      <td></td>\n      <td>HU</td>\n      <td>28.0</td>\n      <td>-95.4</td>\n      <td>80</td>\n      <td>-999</td>\n      <td>-999</td>\n      <td>...</td>\n      <td>-999</td>\n      <td>-999</td>\n      <td>-999</td>\n      <td>-999</td>\n      <td>-999</td>\n      <td>-999</td>\n      <td>-999</td>\n      <td>-999</td>\n      <td>-999</td>\n      <td>-999</td>\n    </tr>\n    <tr>\n      <th>1851-06-25 12:00:00</th>\n      <th>AL011851</th>\n      <td>UNNAMED</td>\n      <td>18510625</td>\n      <td>1200</td>\n      <td></td>\n      <td>HU</td>\n      <td>28.0</td>\n      <td>-96.0</td>\n      <td>80</td>\n      <td>-999</td>\n      <td>-999</td>\n      <td>...</td>\n      <td>-999</td>\n      <td>-999</td>\n      <td>-999</td>\n      <td>-999</td>\n      <td>-999</td>\n      <td>-999</td>\n      <td>-999</td>\n      <td>-999</td>\n      <td>-999</td>\n      <td>-999</td>\n    </tr>\n    <tr>\n      <th>1851-06-25 18:00:00</th>\n      <th>AL011851</th>\n      <td>UNNAMED</td>\n      <td>18510625</td>\n      <td>1800</td>\n      <td></td>\n      <td>HU</td>\n      <td>28.1</td>\n      <td>-96.5</td>\n      <td>80</td>\n      <td>-999</td>\n      <td>-999</td>\n      <td>...</td>\n      <td>-999</td>\n      <td>-999</td>\n      <td>-999</td>\n      <td>-999</td>\n      <td>-999</td>\n      <td>-999</td>\n      <td>-999</td>\n      <td>-999</td>\n      <td>-999</td>\n      <td>-999</td>\n    </tr>\n    <tr>\n      <th>1851-06-25 21:00:00</th>\n      <th>AL011851</th>\n      <td>UNNAMED</td>\n      <td>18510625</td>\n      <td>2100</td>\n      <td>L</td>\n      <td>HU</td>\n      <td>28.2</td>\n      <td>-96.8</td>\n      <td>80</td>\n      <td>-999</td>\n      <td>-999</td>\n      <td>...</td>\n      <td>-999</td>\n      <td>-999</td>\n      <td>-999</td>\n      <td>-999</td>\n      <td>-999</td>\n      <td>-999</td>\n      <td>-999</td>\n      <td>-999</td>\n      <td>-999</td>\n      <td>-999</td>\n    </tr>\n  </tbody>\n</table>\n<p>5 rows × 21 columns</p>\n</div>"
     },
     "execution_count": 2,
     "metadata": {},
     "output_type": "execute_result"
    }
   ],
   "source": [
    "%%time\n",
    "# Reading the geolife dataset and converting to NumPandasTraj.\n",
    "geolife = pd.read_csv('./data/geolife_sample.csv')\n",
    "geolife = NumTrajDF(geolife,'lat','lon','datetime','id')\n",
    "\n",
    "# Reading the gulls dataset and converting to NumPandasTraj.\n",
    "gulls = pd.read_csv('./data/gulls.csv')\n",
    "gulls = NumTrajDF(gulls,\n",
    "                 latitude='location-lat',\n",
    "                 longitude='location-long',\n",
    "                 datetime='timestamp',\n",
    "                 traj_id='tag-local-identifier',\n",
    "                 rest_of_columns=[])\n",
    "\n",
    "# Reading the atlantic dataset, cleaning it up and then converting\n",
    "# it to NumPandasTraj.\n",
    "atlantic = pd.read_csv('./data/atlantic.csv')\n",
    "atlantic = con.convert_directions_to_degree_lat_lon(atlantic, 'Latitude',\"Longitude\")\n",
    "def convert_to_datetime(row):\n",
    "        this_date = '{}-{}-{}'.format(str(row['Date'])[0:4], str(row['Date'])[4:6], str(row['Date'])[6:])\n",
    "        this_time = '{:02d}:{:02d}:00'.format(int(row['Time']/100), int(str(row['Time'])[-2:]))\n",
    "        return '{} {}'.format(this_date, this_time)\n",
    "atlantic['DateTime'] = atlantic.apply(convert_to_datetime, axis=1)\n",
    "atlantic = NumTrajDF(atlantic,\n",
    "                         latitude='Latitude',\n",
    "                         longitude='Longitude',\n",
    "                         datetime='DateTime',\n",
    "                         traj_id='ID',\n",
    "                         rest_of_columns=[])\n",
    "atlantic.head()"
   ],
   "metadata": {
    "collapsed": false,
    "pycharm": {
     "name": "#%%\n"
    }
   }
  },
  {
   "cell_type": "code",
   "execution_count": 3,
   "outputs": [
    {
     "name": "stdout",
     "output_type": "stream",
     "text": [
      "(22.147577, 113.54884299999999, 41.132062, 121.156224)\n",
      "(-62.71617, 4.02517, 65.2325, 103.19317)\n",
      "(7.2, -359.1, 81.0, 63.0)\n",
      "CPU times: user 6.86 ms, sys: 0 ns, total: 6.86 ms\n",
      "Wall time: 5.7 ms\n"
     ]
    }
   ],
   "source": [
    "%%time\n",
    "\n",
    "# Now, lets get the bounding boxes of all the dataframes.\n",
    "print(spatial.get_bounding_box(geolife))\n",
    "print(spatial.get_bounding_box(gulls))\n",
    "print(spatial.get_bounding_box(atlantic))"
   ],
   "metadata": {
    "collapsed": false,
    "pycharm": {
     "name": "#%%\n"
    }
   }
  },
  {
   "cell_type": "code",
   "execution_count": 4,
   "outputs": [
    {
     "name": "stdout",
     "output_type": "stream",
     "text": [
      "(39.984224, 116.319402)\n",
      "(61.27033, 24.144000000000002)\n",
      "(28.0, -94.8)\n",
      "CPU times: user 44.5 ms, sys: 4.24 ms, total: 48.7 ms\n",
      "Wall time: 46.4 ms\n"
     ]
    }
   ],
   "source": [
    "%%time\n",
    "\n",
    "# Now, lets get the start times of all the dataframes without\n",
    "# giving a traj_id.\n",
    "print(spatial.get_start_location(geolife))\n",
    "print(spatial.get_start_location(gulls))\n",
    "print(spatial.get_start_location(atlantic))"
   ],
   "metadata": {
    "collapsed": false,
    "pycharm": {
     "name": "#%%\n"
    }
   }
  },
  {
   "cell_type": "code",
   "execution_count": 5,
   "outputs": [
    {
     "name": "stdout",
     "output_type": "stream",
     "text": [
      "(39.984224, 116.319402)\n",
      "(61.24783000000001, 24.586170000000003)\n",
      "(28.0, -94.8)\n",
      "CPU times: user 80.1 ms, sys: 0 ns, total: 80.1 ms\n",
      "Wall time: 78.7 ms\n"
     ]
    }
   ],
   "source": [
    "%%time\n",
    "\n",
    "# Now lets check the start times of all dataframes with a traj_id.\n",
    "print(spatial.get_start_location(geolife, '1'))\n",
    "print(spatial.get_start_location(gulls, \"91732\"))\n",
    "print(spatial.get_start_location(atlantic, 'AL011851'))"
   ],
   "metadata": {
    "collapsed": false,
    "pycharm": {
     "name": "#%%\n"
    }
   }
  },
  {
   "cell_type": "code",
   "execution_count": 6,
   "outputs": [
    {
     "name": "stdout",
     "output_type": "stream",
     "text": [
      "(39.999978000000006, 116.32746000000002)\n",
      "(56.566, 21.19633)\n",
      "(40.7, -45.4)\n",
      "CPU times: user 36.7 ms, sys: 3.84 ms, total: 40.5 ms\n",
      "Wall time: 38.2 ms\n"
     ]
    }
   ],
   "source": [
    "%%time\n",
    "\n",
    "# Now, lets get the start times of all the dataframes without\n",
    "# giving a traj_id.\n",
    "print(spatial.get_end_location(geolife))\n",
    "print(spatial.get_end_location(gulls))\n",
    "print(spatial.get_end_location(atlantic))"
   ],
   "metadata": {
    "collapsed": false,
    "pycharm": {
     "name": "#%%\n"
    }
   }
  },
  {
   "cell_type": "code",
   "execution_count": 7,
   "outputs": [
    {
     "name": "stdout",
     "output_type": "stream",
     "text": [
      "(39.977878999999994, 116.326628)\n",
      "(31.09783, 29.812170000000002)\n",
      "(31.0, -100.2)\n",
      "CPU times: user 78.8 ms, sys: 4.15 ms, total: 83 ms\n",
      "Wall time: 80.8 ms\n"
     ]
    }
   ],
   "source": [
    "%%time\n",
    "\n",
    "# Now lets check the start times of all dataframes with a traj_id.\n",
    "print(spatial.get_end_location(geolife, '1'))\n",
    "print(spatial.get_end_location(gulls, \"91732\"))\n",
    "print(spatial.get_end_location(atlantic, 'AL011851'))"
   ],
   "metadata": {
    "collapsed": false,
    "pycharm": {
     "name": "#%%\n"
    }
   }
  },
  {
   "cell_type": "code",
   "execution_count": 8,
   "outputs": [
    {
     "name": "stdout",
     "output_type": "stream",
     "text": [
      "CPU times: user 323 ms, sys: 70.1 ms, total: 393 ms\n",
      "Wall time: 540 ms\n"
     ]
    },
    {
     "data": {
      "text/plain": "                                   lat         lon  Distance_prev_to_curr\nDateTime            traj_id                                              \n2008-10-23 16:53:05 1        39.984094  116.319236               0.000000\n2008-10-23 16:53:06 1        39.984198  116.319322              13.690153\n2008-10-23 05:53:11 1        39.984224  116.319402               7.403788\n2008-10-23 05:53:16 1        39.984211  116.319389               1.821083\n2008-10-23 05:53:21 1        39.984217  116.319422               2.889671\n2008-10-23 05:53:23 1        39.984710  116.319865              66.555997\n2008-10-23 05:53:28 1        39.984674  116.319810               6.162987\n2008-10-23 05:53:33 1        39.984623  116.319773               6.488225\n2008-10-23 05:53:38 1        39.984606  116.319732               3.971848\n2008-10-23 05:53:43 1        39.984555  116.319728               5.681172",
      "text/html": "<div>\n<style scoped>\n    .dataframe tbody tr th:only-of-type {\n        vertical-align: middle;\n    }\n\n    .dataframe tbody tr th {\n        vertical-align: top;\n    }\n\n    .dataframe thead th {\n        text-align: right;\n    }\n</style>\n<table border=\"1\" class=\"dataframe\">\n  <thead>\n    <tr style=\"text-align: right;\">\n      <th></th>\n      <th></th>\n      <th>lat</th>\n      <th>lon</th>\n      <th>Distance_prev_to_curr</th>\n    </tr>\n    <tr>\n      <th>DateTime</th>\n      <th>traj_id</th>\n      <th></th>\n      <th></th>\n      <th></th>\n    </tr>\n  </thead>\n  <tbody>\n    <tr>\n      <th>2008-10-23 16:53:05</th>\n      <th>1</th>\n      <td>39.984094</td>\n      <td>116.319236</td>\n      <td>0.000000</td>\n    </tr>\n    <tr>\n      <th>2008-10-23 16:53:06</th>\n      <th>1</th>\n      <td>39.984198</td>\n      <td>116.319322</td>\n      <td>13.690153</td>\n    </tr>\n    <tr>\n      <th>2008-10-23 05:53:11</th>\n      <th>1</th>\n      <td>39.984224</td>\n      <td>116.319402</td>\n      <td>7.403788</td>\n    </tr>\n    <tr>\n      <th>2008-10-23 05:53:16</th>\n      <th>1</th>\n      <td>39.984211</td>\n      <td>116.319389</td>\n      <td>1.821083</td>\n    </tr>\n    <tr>\n      <th>2008-10-23 05:53:21</th>\n      <th>1</th>\n      <td>39.984217</td>\n      <td>116.319422</td>\n      <td>2.889671</td>\n    </tr>\n    <tr>\n      <th>2008-10-23 05:53:23</th>\n      <th>1</th>\n      <td>39.984710</td>\n      <td>116.319865</td>\n      <td>66.555997</td>\n    </tr>\n    <tr>\n      <th>2008-10-23 05:53:28</th>\n      <th>1</th>\n      <td>39.984674</td>\n      <td>116.319810</td>\n      <td>6.162987</td>\n    </tr>\n    <tr>\n      <th>2008-10-23 05:53:33</th>\n      <th>1</th>\n      <td>39.984623</td>\n      <td>116.319773</td>\n      <td>6.488225</td>\n    </tr>\n    <tr>\n      <th>2008-10-23 05:53:38</th>\n      <th>1</th>\n      <td>39.984606</td>\n      <td>116.319732</td>\n      <td>3.971848</td>\n    </tr>\n    <tr>\n      <th>2008-10-23 05:53:43</th>\n      <th>1</th>\n      <td>39.984555</td>\n      <td>116.319728</td>\n      <td>5.681172</td>\n    </tr>\n  </tbody>\n</table>\n</div>"
     },
     "execution_count": 8,
     "metadata": {},
     "output_type": "execute_result"
    }
   ],
   "source": [
    "%%time\n",
    "\n",
    "# Now, lets calculate the distance between 2 consecutive points for\n",
    "# each dataset one by one.\n",
    "\n",
    "geolife = spatial.create_distance_between_consecutive_column(dataframe=geolife,\n",
    "                                                             inplace=True,\n",
    "                                                             metres=True)\n",
    "geolife.head(10)"
   ],
   "metadata": {
    "collapsed": false,
    "pycharm": {
     "name": "#%%\n"
    }
   }
  },
  {
   "cell_type": "code",
   "execution_count": 9,
   "outputs": [
    {
     "name": "stdout",
     "output_type": "stream",
     "text": [
      "CPU times: user 183 ms, sys: 51.9 ms, total: 235 ms\n",
      "Wall time: 330 ms\n"
     ]
    },
    {
     "data": {
      "text/plain": "                               event-id  visible       lon       lat  \\\nDateTime            traj_id                                            \n2009-05-27 14:00:00 91732    1082620685     True  24.58617  61.24783   \n2009-05-27 20:00:00 91732    1082620686     True  24.58217  61.23267   \n2009-05-28 05:00:00 91732    1082620687     True  24.53133  61.18833   \n2009-05-28 08:00:00 91732    1082620688     True  24.58200  61.23283   \n2009-05-28 14:00:00 91732    1082620689     True  24.58250  61.23267   \n\n                            sensor-type individual-taxon-canonical-name  \\\nDateTime            traj_id                                               \n2009-05-27 14:00:00 91732           gps                    Larus fuscus   \n2009-05-27 20:00:00 91732           gps                    Larus fuscus   \n2009-05-28 05:00:00 91732           gps                    Larus fuscus   \n2009-05-28 08:00:00 91732           gps                    Larus fuscus   \n2009-05-28 14:00:00 91732           gps                    Larus fuscus   \n\n                            individual-local-identifier  \\\nDateTime            traj_id                               \n2009-05-27 14:00:00 91732                        91732A   \n2009-05-27 20:00:00 91732                        91732A   \n2009-05-28 05:00:00 91732                        91732A   \n2009-05-28 08:00:00 91732                        91732A   \n2009-05-28 14:00:00 91732                        91732A   \n\n                                                                    study-name  \\\nDateTime            traj_id                                                      \n2009-05-27 14:00:00 91732    Navigation experiments in lesser black-backed ...   \n2009-05-27 20:00:00 91732    Navigation experiments in lesser black-backed ...   \n2009-05-28 05:00:00 91732    Navigation experiments in lesser black-backed ...   \n2009-05-28 08:00:00 91732    Navigation experiments in lesser black-backed ...   \n2009-05-28 14:00:00 91732    Navigation experiments in lesser black-backed ...   \n\n                             Distance_prev_to_curr  \nDateTime            traj_id                         \n2009-05-27 14:00:00 91732                 0.000000  \n2009-05-27 20:00:00 91732              1699.244398  \n2009-05-28 05:00:00 91732              5632.120064  \n2009-05-28 08:00:00 91732              5643.314949  \n2009-05-28 14:00:00 91732                32.131494  ",
      "text/html": "<div>\n<style scoped>\n    .dataframe tbody tr th:only-of-type {\n        vertical-align: middle;\n    }\n\n    .dataframe tbody tr th {\n        vertical-align: top;\n    }\n\n    .dataframe thead th {\n        text-align: right;\n    }\n</style>\n<table border=\"1\" class=\"dataframe\">\n  <thead>\n    <tr style=\"text-align: right;\">\n      <th></th>\n      <th></th>\n      <th>event-id</th>\n      <th>visible</th>\n      <th>lon</th>\n      <th>lat</th>\n      <th>sensor-type</th>\n      <th>individual-taxon-canonical-name</th>\n      <th>individual-local-identifier</th>\n      <th>study-name</th>\n      <th>Distance_prev_to_curr</th>\n    </tr>\n    <tr>\n      <th>DateTime</th>\n      <th>traj_id</th>\n      <th></th>\n      <th></th>\n      <th></th>\n      <th></th>\n      <th></th>\n      <th></th>\n      <th></th>\n      <th></th>\n      <th></th>\n    </tr>\n  </thead>\n  <tbody>\n    <tr>\n      <th>2009-05-27 14:00:00</th>\n      <th>91732</th>\n      <td>1082620685</td>\n      <td>True</td>\n      <td>24.58617</td>\n      <td>61.24783</td>\n      <td>gps</td>\n      <td>Larus fuscus</td>\n      <td>91732A</td>\n      <td>Navigation experiments in lesser black-backed ...</td>\n      <td>0.000000</td>\n    </tr>\n    <tr>\n      <th>2009-05-27 20:00:00</th>\n      <th>91732</th>\n      <td>1082620686</td>\n      <td>True</td>\n      <td>24.58217</td>\n      <td>61.23267</td>\n      <td>gps</td>\n      <td>Larus fuscus</td>\n      <td>91732A</td>\n      <td>Navigation experiments in lesser black-backed ...</td>\n      <td>1699.244398</td>\n    </tr>\n    <tr>\n      <th>2009-05-28 05:00:00</th>\n      <th>91732</th>\n      <td>1082620687</td>\n      <td>True</td>\n      <td>24.53133</td>\n      <td>61.18833</td>\n      <td>gps</td>\n      <td>Larus fuscus</td>\n      <td>91732A</td>\n      <td>Navigation experiments in lesser black-backed ...</td>\n      <td>5632.120064</td>\n    </tr>\n    <tr>\n      <th>2009-05-28 08:00:00</th>\n      <th>91732</th>\n      <td>1082620688</td>\n      <td>True</td>\n      <td>24.58200</td>\n      <td>61.23283</td>\n      <td>gps</td>\n      <td>Larus fuscus</td>\n      <td>91732A</td>\n      <td>Navigation experiments in lesser black-backed ...</td>\n      <td>5643.314949</td>\n    </tr>\n    <tr>\n      <th>2009-05-28 14:00:00</th>\n      <th>91732</th>\n      <td>1082620689</td>\n      <td>True</td>\n      <td>24.58250</td>\n      <td>61.23267</td>\n      <td>gps</td>\n      <td>Larus fuscus</td>\n      <td>91732A</td>\n      <td>Navigation experiments in lesser black-backed ...</td>\n      <td>32.131494</td>\n    </tr>\n  </tbody>\n</table>\n</div>"
     },
     "execution_count": 9,
     "metadata": {},
     "output_type": "execute_result"
    }
   ],
   "source": [
    "%%time\n",
    "\n",
    "gulls = spatial.create_distance_between_consecutive_column(dataframe=gulls,\n",
    "                                                           inplace=True,\n",
    "                                                           metres=True)\n",
    "gulls.head()"
   ],
   "metadata": {
    "collapsed": false,
    "pycharm": {
     "name": "#%%\n"
    }
   }
  },
  {
   "cell_type": "code",
   "execution_count": 11,
   "outputs": [
    {
     "name": "stdout",
     "output_type": "stream",
     "text": [
      "CPU times: user 546 ms, sys: 161 ms, total: 707 ms\n",
      "Wall time: 679 ms\n"
     ]
    },
    {
     "data": {
      "text/plain": "                                             Name      Date  Time Event  \\\nDateTime            traj_id                                               \n1851-06-25 00:00:00 AL011851              UNNAMED  18510625     0         \n1851-06-25 06:00:00 AL011851              UNNAMED  18510625   600         \n1851-06-25 12:00:00 AL011851              UNNAMED  18510625  1200         \n1851-06-25 18:00:00 AL011851              UNNAMED  18510625  1800         \n1851-06-25 21:00:00 AL011851              UNNAMED  18510625  2100     L   \n\n                             Status   lat   lon  Maximum Wind  \\\nDateTime            traj_id                                     \n1851-06-25 00:00:00 AL011851     HU  28.0 -94.8            80   \n1851-06-25 06:00:00 AL011851     HU  28.0 -95.4            80   \n1851-06-25 12:00:00 AL011851     HU  28.0 -96.0            80   \n1851-06-25 18:00:00 AL011851     HU  28.1 -96.5            80   \n1851-06-25 21:00:00 AL011851     HU  28.2 -96.8            80   \n\n                              Minimum Pressure  Low Wind NE  ...  Low Wind NW  \\\nDateTime            traj_id                                  ...                \n1851-06-25 00:00:00 AL011851              -999         -999  ...         -999   \n1851-06-25 06:00:00 AL011851              -999         -999  ...         -999   \n1851-06-25 12:00:00 AL011851              -999         -999  ...         -999   \n1851-06-25 18:00:00 AL011851              -999         -999  ...         -999   \n1851-06-25 21:00:00 AL011851              -999         -999  ...         -999   \n\n                              Moderate Wind NE  Moderate Wind SE  \\\nDateTime            traj_id                                        \n1851-06-25 00:00:00 AL011851              -999              -999   \n1851-06-25 06:00:00 AL011851              -999              -999   \n1851-06-25 12:00:00 AL011851              -999              -999   \n1851-06-25 18:00:00 AL011851              -999              -999   \n1851-06-25 21:00:00 AL011851              -999              -999   \n\n                              Moderate Wind SW  Moderate Wind NW  \\\nDateTime            traj_id                                        \n1851-06-25 00:00:00 AL011851              -999              -999   \n1851-06-25 06:00:00 AL011851              -999              -999   \n1851-06-25 12:00:00 AL011851              -999              -999   \n1851-06-25 18:00:00 AL011851              -999              -999   \n1851-06-25 21:00:00 AL011851              -999              -999   \n\n                              High Wind NE  High Wind SE  High Wind SW  \\\nDateTime            traj_id                                              \n1851-06-25 00:00:00 AL011851          -999          -999          -999   \n1851-06-25 06:00:00 AL011851          -999          -999          -999   \n1851-06-25 12:00:00 AL011851          -999          -999          -999   \n1851-06-25 18:00:00 AL011851          -999          -999          -999   \n1851-06-25 21:00:00 AL011851          -999          -999          -999   \n\n                              High Wind NW  Distance_prev_to_curr  \nDateTime            traj_id                                        \n1851-06-25 00:00:00 AL011851          -999               0.000000  \n1851-06-25 06:00:00 AL011851          -999           58907.516366  \n1851-06-25 12:00:00 AL011851          -999           58907.516366  \n1851-06-25 18:00:00 AL011851          -999           50310.976622  \n1851-06-25 21:00:00 AL011851          -999           31444.370265  \n\n[5 rows x 22 columns]",
      "text/html": "<div>\n<style scoped>\n    .dataframe tbody tr th:only-of-type {\n        vertical-align: middle;\n    }\n\n    .dataframe tbody tr th {\n        vertical-align: top;\n    }\n\n    .dataframe thead th {\n        text-align: right;\n    }\n</style>\n<table border=\"1\" class=\"dataframe\">\n  <thead>\n    <tr style=\"text-align: right;\">\n      <th></th>\n      <th></th>\n      <th>Name</th>\n      <th>Date</th>\n      <th>Time</th>\n      <th>Event</th>\n      <th>Status</th>\n      <th>lat</th>\n      <th>lon</th>\n      <th>Maximum Wind</th>\n      <th>Minimum Pressure</th>\n      <th>Low Wind NE</th>\n      <th>...</th>\n      <th>Low Wind NW</th>\n      <th>Moderate Wind NE</th>\n      <th>Moderate Wind SE</th>\n      <th>Moderate Wind SW</th>\n      <th>Moderate Wind NW</th>\n      <th>High Wind NE</th>\n      <th>High Wind SE</th>\n      <th>High Wind SW</th>\n      <th>High Wind NW</th>\n      <th>Distance_prev_to_curr</th>\n    </tr>\n    <tr>\n      <th>DateTime</th>\n      <th>traj_id</th>\n      <th></th>\n      <th></th>\n      <th></th>\n      <th></th>\n      <th></th>\n      <th></th>\n      <th></th>\n      <th></th>\n      <th></th>\n      <th></th>\n      <th></th>\n      <th></th>\n      <th></th>\n      <th></th>\n      <th></th>\n      <th></th>\n      <th></th>\n      <th></th>\n      <th></th>\n      <th></th>\n      <th></th>\n    </tr>\n  </thead>\n  <tbody>\n    <tr>\n      <th>1851-06-25 00:00:00</th>\n      <th>AL011851</th>\n      <td>UNNAMED</td>\n      <td>18510625</td>\n      <td>0</td>\n      <td></td>\n      <td>HU</td>\n      <td>28.0</td>\n      <td>-94.8</td>\n      <td>80</td>\n      <td>-999</td>\n      <td>-999</td>\n      <td>...</td>\n      <td>-999</td>\n      <td>-999</td>\n      <td>-999</td>\n      <td>-999</td>\n      <td>-999</td>\n      <td>-999</td>\n      <td>-999</td>\n      <td>-999</td>\n      <td>-999</td>\n      <td>0.000000</td>\n    </tr>\n    <tr>\n      <th>1851-06-25 06:00:00</th>\n      <th>AL011851</th>\n      <td>UNNAMED</td>\n      <td>18510625</td>\n      <td>600</td>\n      <td></td>\n      <td>HU</td>\n      <td>28.0</td>\n      <td>-95.4</td>\n      <td>80</td>\n      <td>-999</td>\n      <td>-999</td>\n      <td>...</td>\n      <td>-999</td>\n      <td>-999</td>\n      <td>-999</td>\n      <td>-999</td>\n      <td>-999</td>\n      <td>-999</td>\n      <td>-999</td>\n      <td>-999</td>\n      <td>-999</td>\n      <td>58907.516366</td>\n    </tr>\n    <tr>\n      <th>1851-06-25 12:00:00</th>\n      <th>AL011851</th>\n      <td>UNNAMED</td>\n      <td>18510625</td>\n      <td>1200</td>\n      <td></td>\n      <td>HU</td>\n      <td>28.0</td>\n      <td>-96.0</td>\n      <td>80</td>\n      <td>-999</td>\n      <td>-999</td>\n      <td>...</td>\n      <td>-999</td>\n      <td>-999</td>\n      <td>-999</td>\n      <td>-999</td>\n      <td>-999</td>\n      <td>-999</td>\n      <td>-999</td>\n      <td>-999</td>\n      <td>-999</td>\n      <td>58907.516366</td>\n    </tr>\n    <tr>\n      <th>1851-06-25 18:00:00</th>\n      <th>AL011851</th>\n      <td>UNNAMED</td>\n      <td>18510625</td>\n      <td>1800</td>\n      <td></td>\n      <td>HU</td>\n      <td>28.1</td>\n      <td>-96.5</td>\n      <td>80</td>\n      <td>-999</td>\n      <td>-999</td>\n      <td>...</td>\n      <td>-999</td>\n      <td>-999</td>\n      <td>-999</td>\n      <td>-999</td>\n      <td>-999</td>\n      <td>-999</td>\n      <td>-999</td>\n      <td>-999</td>\n      <td>-999</td>\n      <td>50310.976622</td>\n    </tr>\n    <tr>\n      <th>1851-06-25 21:00:00</th>\n      <th>AL011851</th>\n      <td>UNNAMED</td>\n      <td>18510625</td>\n      <td>2100</td>\n      <td>L</td>\n      <td>HU</td>\n      <td>28.2</td>\n      <td>-96.8</td>\n      <td>80</td>\n      <td>-999</td>\n      <td>-999</td>\n      <td>...</td>\n      <td>-999</td>\n      <td>-999</td>\n      <td>-999</td>\n      <td>-999</td>\n      <td>-999</td>\n      <td>-999</td>\n      <td>-999</td>\n      <td>-999</td>\n      <td>-999</td>\n      <td>31444.370265</td>\n    </tr>\n  </tbody>\n</table>\n<p>5 rows × 22 columns</p>\n</div>"
     },
     "execution_count": 11,
     "metadata": {},
     "output_type": "execute_result"
    }
   ],
   "source": [
    "%%time\n",
    "\n",
    "atlantic = spatial.create_distance_between_consecutive_column(dataframe=atlantic,\n",
    "                                                              inplace=True,\n",
    "                                                              metres=True)\n",
    "atlantic.head()"
   ],
   "metadata": {
    "collapsed": false,
    "pycharm": {
     "name": "#%%\n"
    }
   }
  },
  {
   "cell_type": "code",
   "execution_count": null,
   "outputs": [],
   "source": [],
   "metadata": {
    "collapsed": false,
    "pycharm": {
     "name": "#%%\n"
    }
   }
  }
 ],
 "metadata": {
  "kernelspec": {
   "display_name": "Python 3",
   "language": "python",
   "name": "python3"
  },
  "language_info": {
   "codemirror_mode": {
    "name": "ipython",
    "version": 2
   },
   "file_extension": ".py",
   "mimetype": "text/x-python",
   "name": "python",
   "nbconvert_exporter": "python",
   "pygments_lexer": "ipython2",
   "version": "2.7.6"
  }
 },
 "nbformat": 4,
 "nbformat_minor": 0
}