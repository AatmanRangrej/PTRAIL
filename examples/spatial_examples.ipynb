{
 "cells": [
  {
   "cell_type": "code",
   "execution_count": 1,
   "metadata": {
    "collapsed": true
   },
   "outputs": [],
   "source": [
    "import numpy as np\n",
    "\n",
    "from core.TrajectoryDF import NumPandasTraj as NumTrajDF\n",
    "from features.spatial_features import SpatialFeatures as spatial\n",
    "from utilities.conversions import Conversions as con\n",
    "import pandas as pd\n",
    "import time\n",
    "np.seterr(invalid='ignore')\n",
    "start = time.time()"
   ]
  },
  {
   "cell_type": "code",
   "execution_count": 2,
   "outputs": [
    {
     "name": "stdout",
     "output_type": "stream",
     "text": [
      "CPU times: user 12.8 s, sys: 123 ms, total: 13 s\n",
      "Wall time: 13 s\n"
     ]
    },
    {
     "data": {
      "text/plain": "                                             Name      Date  Time Event  \\\nDateTime            traj_id                                               \n1851-06-25 00:00:00 AL011851              UNNAMED  18510625     0         \n1851-06-25 06:00:00 AL011851              UNNAMED  18510625   600         \n1851-06-25 12:00:00 AL011851              UNNAMED  18510625  1200         \n1851-06-25 18:00:00 AL011851              UNNAMED  18510625  1800         \n1851-06-25 21:00:00 AL011851              UNNAMED  18510625  2100     L   \n\n                             Status   lat   lon  Maximum Wind  \\\nDateTime            traj_id                                     \n1851-06-25 00:00:00 AL011851     HU  28.0 -94.8            80   \n1851-06-25 06:00:00 AL011851     HU  28.0 -95.4            80   \n1851-06-25 12:00:00 AL011851     HU  28.0 -96.0            80   \n1851-06-25 18:00:00 AL011851     HU  28.1 -96.5            80   \n1851-06-25 21:00:00 AL011851     HU  28.2 -96.8            80   \n\n                              Minimum Pressure  Low Wind NE  ...  Low Wind SW  \\\nDateTime            traj_id                                  ...                \n1851-06-25 00:00:00 AL011851              -999         -999  ...         -999   \n1851-06-25 06:00:00 AL011851              -999         -999  ...         -999   \n1851-06-25 12:00:00 AL011851              -999         -999  ...         -999   \n1851-06-25 18:00:00 AL011851              -999         -999  ...         -999   \n1851-06-25 21:00:00 AL011851              -999         -999  ...         -999   \n\n                              Low Wind NW  Moderate Wind NE  Moderate Wind SE  \\\nDateTime            traj_id                                                     \n1851-06-25 00:00:00 AL011851         -999              -999              -999   \n1851-06-25 06:00:00 AL011851         -999              -999              -999   \n1851-06-25 12:00:00 AL011851         -999              -999              -999   \n1851-06-25 18:00:00 AL011851         -999              -999              -999   \n1851-06-25 21:00:00 AL011851         -999              -999              -999   \n\n                              Moderate Wind SW  Moderate Wind NW  \\\nDateTime            traj_id                                        \n1851-06-25 00:00:00 AL011851              -999              -999   \n1851-06-25 06:00:00 AL011851              -999              -999   \n1851-06-25 12:00:00 AL011851              -999              -999   \n1851-06-25 18:00:00 AL011851              -999              -999   \n1851-06-25 21:00:00 AL011851              -999              -999   \n\n                              High Wind NE  High Wind SE  High Wind SW  \\\nDateTime            traj_id                                              \n1851-06-25 00:00:00 AL011851          -999          -999          -999   \n1851-06-25 06:00:00 AL011851          -999          -999          -999   \n1851-06-25 12:00:00 AL011851          -999          -999          -999   \n1851-06-25 18:00:00 AL011851          -999          -999          -999   \n1851-06-25 21:00:00 AL011851          -999          -999          -999   \n\n                              High Wind NW  \nDateTime            traj_id                 \n1851-06-25 00:00:00 AL011851          -999  \n1851-06-25 06:00:00 AL011851          -999  \n1851-06-25 12:00:00 AL011851          -999  \n1851-06-25 18:00:00 AL011851          -999  \n1851-06-25 21:00:00 AL011851          -999  \n\n[5 rows x 21 columns]",
      "text/html": "<div>\n<style scoped>\n    .dataframe tbody tr th:only-of-type {\n        vertical-align: middle;\n    }\n\n    .dataframe tbody tr th {\n        vertical-align: top;\n    }\n\n    .dataframe thead th {\n        text-align: right;\n    }\n</style>\n<table border=\"1\" class=\"dataframe\">\n  <thead>\n    <tr style=\"text-align: right;\">\n      <th></th>\n      <th></th>\n      <th>Name</th>\n      <th>Date</th>\n      <th>Time</th>\n      <th>Event</th>\n      <th>Status</th>\n      <th>lat</th>\n      <th>lon</th>\n      <th>Maximum Wind</th>\n      <th>Minimum Pressure</th>\n      <th>Low Wind NE</th>\n      <th>...</th>\n      <th>Low Wind SW</th>\n      <th>Low Wind NW</th>\n      <th>Moderate Wind NE</th>\n      <th>Moderate Wind SE</th>\n      <th>Moderate Wind SW</th>\n      <th>Moderate Wind NW</th>\n      <th>High Wind NE</th>\n      <th>High Wind SE</th>\n      <th>High Wind SW</th>\n      <th>High Wind NW</th>\n    </tr>\n    <tr>\n      <th>DateTime</th>\n      <th>traj_id</th>\n      <th></th>\n      <th></th>\n      <th></th>\n      <th></th>\n      <th></th>\n      <th></th>\n      <th></th>\n      <th></th>\n      <th></th>\n      <th></th>\n      <th></th>\n      <th></th>\n      <th></th>\n      <th></th>\n      <th></th>\n      <th></th>\n      <th></th>\n      <th></th>\n      <th></th>\n      <th></th>\n      <th></th>\n    </tr>\n  </thead>\n  <tbody>\n    <tr>\n      <th>1851-06-25 00:00:00</th>\n      <th>AL011851</th>\n      <td>UNNAMED</td>\n      <td>18510625</td>\n      <td>0</td>\n      <td></td>\n      <td>HU</td>\n      <td>28.0</td>\n      <td>-94.8</td>\n      <td>80</td>\n      <td>-999</td>\n      <td>-999</td>\n      <td>...</td>\n      <td>-999</td>\n      <td>-999</td>\n      <td>-999</td>\n      <td>-999</td>\n      <td>-999</td>\n      <td>-999</td>\n      <td>-999</td>\n      <td>-999</td>\n      <td>-999</td>\n      <td>-999</td>\n    </tr>\n    <tr>\n      <th>1851-06-25 06:00:00</th>\n      <th>AL011851</th>\n      <td>UNNAMED</td>\n      <td>18510625</td>\n      <td>600</td>\n      <td></td>\n      <td>HU</td>\n      <td>28.0</td>\n      <td>-95.4</td>\n      <td>80</td>\n      <td>-999</td>\n      <td>-999</td>\n      <td>...</td>\n      <td>-999</td>\n      <td>-999</td>\n      <td>-999</td>\n      <td>-999</td>\n      <td>-999</td>\n      <td>-999</td>\n      <td>-999</td>\n      <td>-999</td>\n      <td>-999</td>\n      <td>-999</td>\n    </tr>\n    <tr>\n      <th>1851-06-25 12:00:00</th>\n      <th>AL011851</th>\n      <td>UNNAMED</td>\n      <td>18510625</td>\n      <td>1200</td>\n      <td></td>\n      <td>HU</td>\n      <td>28.0</td>\n      <td>-96.0</td>\n      <td>80</td>\n      <td>-999</td>\n      <td>-999</td>\n      <td>...</td>\n      <td>-999</td>\n      <td>-999</td>\n      <td>-999</td>\n      <td>-999</td>\n      <td>-999</td>\n      <td>-999</td>\n      <td>-999</td>\n      <td>-999</td>\n      <td>-999</td>\n      <td>-999</td>\n    </tr>\n    <tr>\n      <th>1851-06-25 18:00:00</th>\n      <th>AL011851</th>\n      <td>UNNAMED</td>\n      <td>18510625</td>\n      <td>1800</td>\n      <td></td>\n      <td>HU</td>\n      <td>28.1</td>\n      <td>-96.5</td>\n      <td>80</td>\n      <td>-999</td>\n      <td>-999</td>\n      <td>...</td>\n      <td>-999</td>\n      <td>-999</td>\n      <td>-999</td>\n      <td>-999</td>\n      <td>-999</td>\n      <td>-999</td>\n      <td>-999</td>\n      <td>-999</td>\n      <td>-999</td>\n      <td>-999</td>\n    </tr>\n    <tr>\n      <th>1851-06-25 21:00:00</th>\n      <th>AL011851</th>\n      <td>UNNAMED</td>\n      <td>18510625</td>\n      <td>2100</td>\n      <td>L</td>\n      <td>HU</td>\n      <td>28.2</td>\n      <td>-96.8</td>\n      <td>80</td>\n      <td>-999</td>\n      <td>-999</td>\n      <td>...</td>\n      <td>-999</td>\n      <td>-999</td>\n      <td>-999</td>\n      <td>-999</td>\n      <td>-999</td>\n      <td>-999</td>\n      <td>-999</td>\n      <td>-999</td>\n      <td>-999</td>\n      <td>-999</td>\n    </tr>\n  </tbody>\n</table>\n<p>5 rows × 21 columns</p>\n</div>"
     },
     "execution_count": 2,
     "metadata": {},
     "output_type": "execute_result"
    }
   ],
   "source": [
    "%%time\n",
    "# Reading the geolife dataset and converting to NumPandasTraj.\n",
    "geolife = pd.read_csv('./data/geolife_sample.csv')\n",
    "geolife = NumTrajDF(geolife,'lat','lon','datetime','id')\n",
    "\n",
    "# Reading the gulls dataset and converting to NumPandasTraj.\n",
    "gulls = pd.read_csv('./data/gulls.csv')\n",
    "gulls = NumTrajDF(gulls,\n",
    "                 latitude='location-lat',\n",
    "                 longitude='location-long',\n",
    "                 datetime='timestamp',\n",
    "                 traj_id='tag-local-identifier',\n",
    "                 rest_of_columns=[])\n",
    "\n",
    "# Reading the atlantic dataset, cleaning it up and then converting\n",
    "# it to NumPandasTraj.\n",
    "atlantic = pd.read_csv('./data/atlantic.csv')\n",
    "atlantic = con.convert_directions_to_degree_lat_lon(atlantic, 'Latitude',\"Longitude\")\n",
    "def convert_to_datetime(row):\n",
    "        this_date = '{}-{}-{}'.format(str(row['Date'])[0:4], str(row['Date'])[4:6], str(row['Date'])[6:])\n",
    "        this_time = '{:02d}:{:02d}:00'.format(int(row['Time']/100), int(str(row['Time'])[-2:]))\n",
    "        return '{} {}'.format(this_date, this_time)\n",
    "atlantic['DateTime'] = atlantic.apply(convert_to_datetime, axis=1)\n",
    "atlantic = NumTrajDF(atlantic,\n",
    "                         latitude='Latitude',\n",
    "                         longitude='Longitude',\n",
    "                         datetime='DateTime',\n",
    "                         traj_id='ID',\n",
    "                         rest_of_columns=[])\n",
    "atlantic.head()"
   ],
   "metadata": {
    "collapsed": false,
    "pycharm": {
     "name": "#%%\n"
    }
   }
  },
  {
   "cell_type": "code",
   "execution_count": 3,
   "outputs": [
    {
     "name": "stdout",
     "output_type": "stream",
     "text": [
      "(22.147577, 113.54884299999999, 41.132062, 121.156224)\n",
      "(-62.71617, 4.02517, 65.2325, 103.19317)\n",
      "(7.2, -109.5, 81.0, 63.0)\n",
      "CPU times: user 9.89 ms, sys: 104 µs, total: 10 ms\n",
      "Wall time: 8.43 ms\n"
     ]
    }
   ],
   "source": [
    "%%time\n",
    "\n",
    "# Now, lets get the bounding boxes of all the dataframes.\n",
    "print(spatial.get_bounding_box(geolife))\n",
    "print(spatial.get_bounding_box(gulls))\n",
    "print(spatial.get_bounding_box(atlantic))"
   ],
   "metadata": {
    "collapsed": false,
    "pycharm": {
     "name": "#%%\n"
    }
   }
  },
  {
   "cell_type": "code",
   "execution_count": 4,
   "outputs": [
    {
     "name": "stdout",
     "output_type": "stream",
     "text": [
      "               lat         lon\n",
      "traj_id                       \n",
      "1        39.984224  116.319402\n",
      "5        40.004155  116.321337\n",
      "              lat       lon\n",
      "traj_id                    \n",
      "91732    61.24783  24.58617\n",
      "91733    54.18600   7.91883\n",
      "91734    61.27033  24.14400\n",
      "91735    61.24617  24.59167\n",
      "91737    63.53033  22.56433\n",
      "...           ...       ...\n",
      "91920    55.43233  49.34267\n",
      "91921    55.43767  49.36533\n",
      "91924    55.43300  49.34400\n",
      "91929    55.43250  49.34267\n",
      "91930    64.98483  35.72667\n",
      "\n",
      "[126 rows x 2 columns]\n",
      "           lat   lon\n",
      "traj_id             \n",
      "AL011851  28.0 -94.8\n",
      "AL011852  20.5 -67.1\n",
      "AL011853  32.5 -69.0\n",
      "AL011854  26.0 -92.5\n",
      "AL011855  22.2 -98.0\n",
      "...        ...   ...\n",
      "AL282005  13.2 -62.1\n",
      "AL291969  10.3 -81.0\n",
      "AL292005  27.0 -48.0\n",
      "AL302005  31.5 -49.2\n",
      "AL312005  23.9 -35.6\n",
      "\n",
      "[1814 rows x 2 columns]\n",
      "CPU times: user 672 ms, sys: 397 ms, total: 1.07 s\n",
      "Wall time: 5.61 s\n"
     ]
    }
   ],
   "source": [
    "%%time\n",
    "\n",
    "# Now, lets get the start times of all the dataframes without\n",
    "# giving a traj_id.\n",
    "print(spatial.get_start_location(geolife))\n",
    "print(spatial.get_start_location(gulls))\n",
    "print(spatial.get_start_location(atlantic))"
   ],
   "metadata": {
    "collapsed": false,
    "pycharm": {
     "name": "#%%\n"
    }
   }
  },
  {
   "cell_type": "code",
   "execution_count": 5,
   "outputs": [
    {
     "name": "stdout",
     "output_type": "stream",
     "text": [
      "(39.984224, 116.319402)\n",
      "(61.24783000000001, 24.586170000000003)\n",
      "(28.0, -94.8)\n",
      "CPU times: user 85.2 ms, sys: 83 µs, total: 85.3 ms\n",
      "Wall time: 83.7 ms\n"
     ]
    }
   ],
   "source": [
    "%%time\n",
    "\n",
    "# Now lets check the start times of all dataframes with a traj_id.\n",
    "print(spatial.get_start_location(geolife, '1'))\n",
    "print(spatial.get_start_location(gulls, \"91732\"))\n",
    "print(spatial.get_start_location(atlantic, 'AL011851'))"
   ],
   "metadata": {
    "collapsed": false,
    "pycharm": {
     "name": "#%%\n"
    }
   }
  },
  {
   "cell_type": "code",
   "execution_count": 6,
   "outputs": [
    {
     "name": "stdout",
     "output_type": "stream",
     "text": [
      "               lat         lon\n",
      "traj_id                       \n",
      "1        39.977879  116.326628\n",
      "5        39.999978  116.327460\n",
      "              lat       lon\n",
      "traj_id                    \n",
      "91732    31.09783  29.81217\n",
      "91733    54.31733   8.70433\n",
      "91734    31.45567  31.83350\n",
      "91735    59.57017  24.79733\n",
      "91737    22.55017  45.41367\n",
      "...           ...       ...\n",
      "91920    34.64567  36.54417\n",
      "91921    55.24883  49.28400\n",
      "91924    55.33850  49.35733\n",
      "91929    55.43283  49.33683\n",
      "91930    65.01700  35.72717\n",
      "\n",
      "[126 rows x 2 columns]\n",
      "           lat    lon\n",
      "traj_id              \n",
      "AL011851  31.0 -100.2\n",
      "AL011852  41.0  -68.0\n",
      "AL011853  32.5  -69.0\n",
      "AL011854  28.0 -103.0\n",
      "AL011855  22.2  -98.0\n",
      "...        ...    ...\n",
      "AL282005  15.4  -83.5\n",
      "AL291969   8.5  -82.0\n",
      "AL292005  35.3   -1.0\n",
      "AL302005  24.7  -39.2\n",
      "AL312005  26.3  -55.7\n",
      "\n",
      "[1814 rows x 2 columns]\n",
      "CPU times: user 568 ms, sys: 400 ms, total: 968 ms\n",
      "Wall time: 5.14 s\n"
     ]
    }
   ],
   "source": [
    "%%time\n",
    "\n",
    "# Now, lets get the start times of all the dataframes without\n",
    "# giving a traj_id.\n",
    "print(spatial.get_end_location(geolife))\n",
    "print(spatial.get_end_location(gulls))\n",
    "print(spatial.get_end_location(atlantic))"
   ],
   "metadata": {
    "collapsed": false,
    "pycharm": {
     "name": "#%%\n"
    }
   }
  },
  {
   "cell_type": "code",
   "execution_count": 7,
   "outputs": [
    {
     "name": "stdout",
     "output_type": "stream",
     "text": [
      "(39.977878999999994, 116.326628)\n",
      "(31.09783, 29.812170000000002)\n",
      "(31.0, -100.2)\n",
      "CPU times: user 87.7 ms, sys: 7.97 ms, total: 95.7 ms\n",
      "Wall time: 93.6 ms\n"
     ]
    }
   ],
   "source": [
    "%%time\n",
    "\n",
    "# Now lets check the start times of all dataframes with a traj_id.\n",
    "print(spatial.get_end_location(geolife, '1'))\n",
    "print(spatial.get_end_location(gulls, \"91732\"))\n",
    "print(spatial.get_end_location(atlantic, 'AL011851'))"
   ],
   "metadata": {
    "collapsed": false,
    "pycharm": {
     "name": "#%%\n"
    }
   }
  },
  {
   "cell_type": "code",
   "execution_count": 8,
   "outputs": [
    {
     "name": "stdout",
     "output_type": "stream",
     "text": [
      "CPU times: user 603 ms, sys: 149 ms, total: 752 ms\n",
      "Wall time: 1.72 s\n"
     ]
    },
    {
     "data": {
      "text/plain": "                                   lat         lon  Distance_prev_to_curr\nDateTime            traj_id                                              \n2008-10-23 16:53:05 1        39.984094  116.319236                    NaN\n2008-10-23 16:53:06 1        39.984198  116.319322              13.690153\n2008-10-23 05:53:11 1        39.984224  116.319402               7.403788\n2008-10-23 05:53:16 1        39.984211  116.319389               1.821083\n2008-10-23 05:53:21 1        39.984217  116.319422               2.889671\n2008-10-23 05:53:23 1        39.984710  116.319865              66.555997\n2008-10-23 05:53:28 1        39.984674  116.319810               6.162987\n2008-10-23 05:53:33 1        39.984623  116.319773               6.488225\n2008-10-23 05:53:38 1        39.984606  116.319732               3.971848\n2008-10-23 05:53:43 1        39.984555  116.319728               5.681172",
      "text/html": "<div>\n<style scoped>\n    .dataframe tbody tr th:only-of-type {\n        vertical-align: middle;\n    }\n\n    .dataframe tbody tr th {\n        vertical-align: top;\n    }\n\n    .dataframe thead th {\n        text-align: right;\n    }\n</style>\n<table border=\"1\" class=\"dataframe\">\n  <thead>\n    <tr style=\"text-align: right;\">\n      <th></th>\n      <th></th>\n      <th>lat</th>\n      <th>lon</th>\n      <th>Distance_prev_to_curr</th>\n    </tr>\n    <tr>\n      <th>DateTime</th>\n      <th>traj_id</th>\n      <th></th>\n      <th></th>\n      <th></th>\n    </tr>\n  </thead>\n  <tbody>\n    <tr>\n      <th>2008-10-23 16:53:05</th>\n      <th>1</th>\n      <td>39.984094</td>\n      <td>116.319236</td>\n      <td>NaN</td>\n    </tr>\n    <tr>\n      <th>2008-10-23 16:53:06</th>\n      <th>1</th>\n      <td>39.984198</td>\n      <td>116.319322</td>\n      <td>13.690153</td>\n    </tr>\n    <tr>\n      <th>2008-10-23 05:53:11</th>\n      <th>1</th>\n      <td>39.984224</td>\n      <td>116.319402</td>\n      <td>7.403788</td>\n    </tr>\n    <tr>\n      <th>2008-10-23 05:53:16</th>\n      <th>1</th>\n      <td>39.984211</td>\n      <td>116.319389</td>\n      <td>1.821083</td>\n    </tr>\n    <tr>\n      <th>2008-10-23 05:53:21</th>\n      <th>1</th>\n      <td>39.984217</td>\n      <td>116.319422</td>\n      <td>2.889671</td>\n    </tr>\n    <tr>\n      <th>2008-10-23 05:53:23</th>\n      <th>1</th>\n      <td>39.984710</td>\n      <td>116.319865</td>\n      <td>66.555997</td>\n    </tr>\n    <tr>\n      <th>2008-10-23 05:53:28</th>\n      <th>1</th>\n      <td>39.984674</td>\n      <td>116.319810</td>\n      <td>6.162987</td>\n    </tr>\n    <tr>\n      <th>2008-10-23 05:53:33</th>\n      <th>1</th>\n      <td>39.984623</td>\n      <td>116.319773</td>\n      <td>6.488225</td>\n    </tr>\n    <tr>\n      <th>2008-10-23 05:53:38</th>\n      <th>1</th>\n      <td>39.984606</td>\n      <td>116.319732</td>\n      <td>3.971848</td>\n    </tr>\n    <tr>\n      <th>2008-10-23 05:53:43</th>\n      <th>1</th>\n      <td>39.984555</td>\n      <td>116.319728</td>\n      <td>5.681172</td>\n    </tr>\n  </tbody>\n</table>\n</div>"
     },
     "execution_count": 8,
     "metadata": {},
     "output_type": "execute_result"
    }
   ],
   "source": [
    "%%time\n",
    "\n",
    "# Now, lets calculate the distance between 2 consecutive points for\n",
    "# each dataset one by one.\n",
    "# First, we will check the distances between 2 consecutive points\n",
    "# in the geolife dataset.\n",
    "geolife = spatial.create_distance_between_consecutive_column(geolife)\n",
    "geolife.head(10)"
   ],
   "metadata": {
    "collapsed": false,
    "pycharm": {
     "name": "#%%\n"
    }
   }
  },
  {
   "cell_type": "code",
   "execution_count": 9,
   "outputs": [
    {
     "name": "stdout",
     "output_type": "stream",
     "text": [
      "CPU times: user 184 ms, sys: 43.6 ms, total: 227 ms\n",
      "Wall time: 566 ms\n"
     ]
    },
    {
     "data": {
      "text/plain": "                               event-id  visible      lon       lat  \\\nDateTime            traj_id                                           \n2009-08-15 15:00:00 91733    1082636186     True  7.91883  54.18600   \n2009-08-15 21:00:00 91733    1082636187     True  7.91917  54.18567   \n2009-08-16 06:00:00 91733    1082636188     True  7.91500  54.18533   \n2009-08-16 09:00:00 91733    1082636189     True  7.91917  54.18583   \n2009-08-16 15:00:00 91733    1082636190     True  8.64117  54.33383   \n\n                            sensor-type individual-taxon-canonical-name  \\\nDateTime            traj_id                                               \n2009-08-15 15:00:00 91733           gps                    Larus fuscus   \n2009-08-15 21:00:00 91733           gps                    Larus fuscus   \n2009-08-16 06:00:00 91733           gps                    Larus fuscus   \n2009-08-16 09:00:00 91733           gps                    Larus fuscus   \n2009-08-16 15:00:00 91733           gps                    Larus fuscus   \n\n                            individual-local-identifier  \\\nDateTime            traj_id                               \n2009-08-15 15:00:00 91733                        91733A   \n2009-08-15 21:00:00 91733                        91733A   \n2009-08-16 06:00:00 91733                        91733A   \n2009-08-16 09:00:00 91733                        91733A   \n2009-08-16 15:00:00 91733                        91733A   \n\n                                                                    study-name  \\\nDateTime            traj_id                                                      \n2009-08-15 15:00:00 91733    Navigation experiments in lesser black-backed ...   \n2009-08-15 21:00:00 91733    Navigation experiments in lesser black-backed ...   \n2009-08-16 06:00:00 91733    Navigation experiments in lesser black-backed ...   \n2009-08-16 09:00:00 91733    Navigation experiments in lesser black-backed ...   \n2009-08-16 15:00:00 91733    Navigation experiments in lesser black-backed ...   \n\n                             Distance_prev_to_curr  \nDateTime            traj_id                         \n2009-08-15 15:00:00 91733                      NaN  \n2009-08-15 21:00:00 91733                42.847231  \n2009-08-16 06:00:00 91733               273.951247  \n2009-08-16 09:00:00 91733               276.967082  \n2009-08-16 15:00:00 91733             49697.545831  ",
      "text/html": "<div>\n<style scoped>\n    .dataframe tbody tr th:only-of-type {\n        vertical-align: middle;\n    }\n\n    .dataframe tbody tr th {\n        vertical-align: top;\n    }\n\n    .dataframe thead th {\n        text-align: right;\n    }\n</style>\n<table border=\"1\" class=\"dataframe\">\n  <thead>\n    <tr style=\"text-align: right;\">\n      <th></th>\n      <th></th>\n      <th>event-id</th>\n      <th>visible</th>\n      <th>lon</th>\n      <th>lat</th>\n      <th>sensor-type</th>\n      <th>individual-taxon-canonical-name</th>\n      <th>individual-local-identifier</th>\n      <th>study-name</th>\n      <th>Distance_prev_to_curr</th>\n    </tr>\n    <tr>\n      <th>DateTime</th>\n      <th>traj_id</th>\n      <th></th>\n      <th></th>\n      <th></th>\n      <th></th>\n      <th></th>\n      <th></th>\n      <th></th>\n      <th></th>\n      <th></th>\n    </tr>\n  </thead>\n  <tbody>\n    <tr>\n      <th>2009-08-15 15:00:00</th>\n      <th>91733</th>\n      <td>1082636186</td>\n      <td>True</td>\n      <td>7.91883</td>\n      <td>54.18600</td>\n      <td>gps</td>\n      <td>Larus fuscus</td>\n      <td>91733A</td>\n      <td>Navigation experiments in lesser black-backed ...</td>\n      <td>NaN</td>\n    </tr>\n    <tr>\n      <th>2009-08-15 21:00:00</th>\n      <th>91733</th>\n      <td>1082636187</td>\n      <td>True</td>\n      <td>7.91917</td>\n      <td>54.18567</td>\n      <td>gps</td>\n      <td>Larus fuscus</td>\n      <td>91733A</td>\n      <td>Navigation experiments in lesser black-backed ...</td>\n      <td>42.847231</td>\n    </tr>\n    <tr>\n      <th>2009-08-16 06:00:00</th>\n      <th>91733</th>\n      <td>1082636188</td>\n      <td>True</td>\n      <td>7.91500</td>\n      <td>54.18533</td>\n      <td>gps</td>\n      <td>Larus fuscus</td>\n      <td>91733A</td>\n      <td>Navigation experiments in lesser black-backed ...</td>\n      <td>273.951247</td>\n    </tr>\n    <tr>\n      <th>2009-08-16 09:00:00</th>\n      <th>91733</th>\n      <td>1082636189</td>\n      <td>True</td>\n      <td>7.91917</td>\n      <td>54.18583</td>\n      <td>gps</td>\n      <td>Larus fuscus</td>\n      <td>91733A</td>\n      <td>Navigation experiments in lesser black-backed ...</td>\n      <td>276.967082</td>\n    </tr>\n    <tr>\n      <th>2009-08-16 15:00:00</th>\n      <th>91733</th>\n      <td>1082636190</td>\n      <td>True</td>\n      <td>8.64117</td>\n      <td>54.33383</td>\n      <td>gps</td>\n      <td>Larus fuscus</td>\n      <td>91733A</td>\n      <td>Navigation experiments in lesser black-backed ...</td>\n      <td>49697.545831</td>\n    </tr>\n  </tbody>\n</table>\n</div>"
     },
     "execution_count": 9,
     "metadata": {},
     "output_type": "execute_result"
    }
   ],
   "source": [
    "%%time\n",
    "\n",
    "# # Here, we check the distance between 2 consecutive points\n",
    "# # in the seagulls dataset.\n",
    "gulls = spatial.create_distance_between_consecutive_column(gulls)\n",
    "gulls.head()"
   ],
   "metadata": {
    "collapsed": false,
    "pycharm": {
     "name": "#%%\n"
    }
   }
  },
  {
   "cell_type": "code",
   "execution_count": 10,
   "outputs": [
    {
     "name": "stdout",
     "output_type": "stream",
     "text": [
      "CPU times: user 230 ms, sys: 107 ms, total: 336 ms\n",
      "Wall time: 357 ms\n"
     ]
    },
    {
     "data": {
      "text/plain": "                                             Name      Date  Time Event  \\\nDateTime            traj_id                                               \n1851-07-05 12:00:00 AL021851              UNNAMED  18510705  1200         \n1851-07-10 12:00:00 AL031851              UNNAMED  18510710  1200         \n1853-08-05 12:00:00 AL011853              UNNAMED  18530805  1200         \n1853-08-10 12:00:00 AL021853              UNNAMED  18530810  1200         \n1853-09-21 12:00:00 AL051853              UNNAMED  18530921  1200         \n\n                             Status   lat   lon  Maximum Wind  \\\nDateTime            traj_id                                     \n1851-07-05 12:00:00 AL021851     HU  22.2 -97.6            80   \n1851-07-10 12:00:00 AL031851     TS  12.0 -60.0            50   \n1853-08-05 12:00:00 AL011853     TS  32.5 -69.0            50   \n1853-08-10 12:00:00 AL021853     TS  12.0 -60.0            40   \n1853-09-21 12:00:00 AL051853     TS  20.0 -95.0            50   \n\n                              Minimum Pressure  Low Wind NE  ...  Low Wind NW  \\\nDateTime            traj_id                                  ...                \n1851-07-05 12:00:00 AL021851              -999         -999  ...         -999   \n1851-07-10 12:00:00 AL031851              -999         -999  ...         -999   \n1853-08-05 12:00:00 AL011853              -999         -999  ...         -999   \n1853-08-10 12:00:00 AL021853              -999         -999  ...         -999   \n1853-09-21 12:00:00 AL051853              -999         -999  ...         -999   \n\n                              Moderate Wind NE  Moderate Wind SE  \\\nDateTime            traj_id                                        \n1851-07-05 12:00:00 AL021851              -999              -999   \n1851-07-10 12:00:00 AL031851              -999              -999   \n1853-08-05 12:00:00 AL011853              -999              -999   \n1853-08-10 12:00:00 AL021853              -999              -999   \n1853-09-21 12:00:00 AL051853              -999              -999   \n\n                              Moderate Wind SW  Moderate Wind NW  \\\nDateTime            traj_id                                        \n1851-07-05 12:00:00 AL021851              -999              -999   \n1851-07-10 12:00:00 AL031851              -999              -999   \n1853-08-05 12:00:00 AL011853              -999              -999   \n1853-08-10 12:00:00 AL021853              -999              -999   \n1853-09-21 12:00:00 AL051853              -999              -999   \n\n                              High Wind NE  High Wind SE  High Wind SW  \\\nDateTime            traj_id                                              \n1851-07-05 12:00:00 AL021851          -999          -999          -999   \n1851-07-10 12:00:00 AL031851          -999          -999          -999   \n1853-08-05 12:00:00 AL011853          -999          -999          -999   \n1853-08-10 12:00:00 AL021853          -999          -999          -999   \n1853-09-21 12:00:00 AL051853          -999          -999          -999   \n\n                              High Wind NW  Distance_prev_to_curr  \nDateTime            traj_id                                        \n1851-07-05 12:00:00 AL021851          -999                    NaN  \n1851-07-10 12:00:00 AL031851          -999                    NaN  \n1853-08-05 12:00:00 AL011853          -999                    NaN  \n1853-08-10 12:00:00 AL021853          -999                    NaN  \n1853-09-21 12:00:00 AL051853          -999                    NaN  \n\n[5 rows x 22 columns]",
      "text/html": "<div>\n<style scoped>\n    .dataframe tbody tr th:only-of-type {\n        vertical-align: middle;\n    }\n\n    .dataframe tbody tr th {\n        vertical-align: top;\n    }\n\n    .dataframe thead th {\n        text-align: right;\n    }\n</style>\n<table border=\"1\" class=\"dataframe\">\n  <thead>\n    <tr style=\"text-align: right;\">\n      <th></th>\n      <th></th>\n      <th>Name</th>\n      <th>Date</th>\n      <th>Time</th>\n      <th>Event</th>\n      <th>Status</th>\n      <th>lat</th>\n      <th>lon</th>\n      <th>Maximum Wind</th>\n      <th>Minimum Pressure</th>\n      <th>Low Wind NE</th>\n      <th>...</th>\n      <th>Low Wind NW</th>\n      <th>Moderate Wind NE</th>\n      <th>Moderate Wind SE</th>\n      <th>Moderate Wind SW</th>\n      <th>Moderate Wind NW</th>\n      <th>High Wind NE</th>\n      <th>High Wind SE</th>\n      <th>High Wind SW</th>\n      <th>High Wind NW</th>\n      <th>Distance_prev_to_curr</th>\n    </tr>\n    <tr>\n      <th>DateTime</th>\n      <th>traj_id</th>\n      <th></th>\n      <th></th>\n      <th></th>\n      <th></th>\n      <th></th>\n      <th></th>\n      <th></th>\n      <th></th>\n      <th></th>\n      <th></th>\n      <th></th>\n      <th></th>\n      <th></th>\n      <th></th>\n      <th></th>\n      <th></th>\n      <th></th>\n      <th></th>\n      <th></th>\n      <th></th>\n      <th></th>\n    </tr>\n  </thead>\n  <tbody>\n    <tr>\n      <th>1851-07-05 12:00:00</th>\n      <th>AL021851</th>\n      <td>UNNAMED</td>\n      <td>18510705</td>\n      <td>1200</td>\n      <td></td>\n      <td>HU</td>\n      <td>22.2</td>\n      <td>-97.6</td>\n      <td>80</td>\n      <td>-999</td>\n      <td>-999</td>\n      <td>...</td>\n      <td>-999</td>\n      <td>-999</td>\n      <td>-999</td>\n      <td>-999</td>\n      <td>-999</td>\n      <td>-999</td>\n      <td>-999</td>\n      <td>-999</td>\n      <td>-999</td>\n      <td>NaN</td>\n    </tr>\n    <tr>\n      <th>1851-07-10 12:00:00</th>\n      <th>AL031851</th>\n      <td>UNNAMED</td>\n      <td>18510710</td>\n      <td>1200</td>\n      <td></td>\n      <td>TS</td>\n      <td>12.0</td>\n      <td>-60.0</td>\n      <td>50</td>\n      <td>-999</td>\n      <td>-999</td>\n      <td>...</td>\n      <td>-999</td>\n      <td>-999</td>\n      <td>-999</td>\n      <td>-999</td>\n      <td>-999</td>\n      <td>-999</td>\n      <td>-999</td>\n      <td>-999</td>\n      <td>-999</td>\n      <td>NaN</td>\n    </tr>\n    <tr>\n      <th>1853-08-05 12:00:00</th>\n      <th>AL011853</th>\n      <td>UNNAMED</td>\n      <td>18530805</td>\n      <td>1200</td>\n      <td></td>\n      <td>TS</td>\n      <td>32.5</td>\n      <td>-69.0</td>\n      <td>50</td>\n      <td>-999</td>\n      <td>-999</td>\n      <td>...</td>\n      <td>-999</td>\n      <td>-999</td>\n      <td>-999</td>\n      <td>-999</td>\n      <td>-999</td>\n      <td>-999</td>\n      <td>-999</td>\n      <td>-999</td>\n      <td>-999</td>\n      <td>NaN</td>\n    </tr>\n    <tr>\n      <th>1853-08-10 12:00:00</th>\n      <th>AL021853</th>\n      <td>UNNAMED</td>\n      <td>18530810</td>\n      <td>1200</td>\n      <td></td>\n      <td>TS</td>\n      <td>12.0</td>\n      <td>-60.0</td>\n      <td>40</td>\n      <td>-999</td>\n      <td>-999</td>\n      <td>...</td>\n      <td>-999</td>\n      <td>-999</td>\n      <td>-999</td>\n      <td>-999</td>\n      <td>-999</td>\n      <td>-999</td>\n      <td>-999</td>\n      <td>-999</td>\n      <td>-999</td>\n      <td>NaN</td>\n    </tr>\n    <tr>\n      <th>1853-09-21 12:00:00</th>\n      <th>AL051853</th>\n      <td>UNNAMED</td>\n      <td>18530921</td>\n      <td>1200</td>\n      <td></td>\n      <td>TS</td>\n      <td>20.0</td>\n      <td>-95.0</td>\n      <td>50</td>\n      <td>-999</td>\n      <td>-999</td>\n      <td>...</td>\n      <td>-999</td>\n      <td>-999</td>\n      <td>-999</td>\n      <td>-999</td>\n      <td>-999</td>\n      <td>-999</td>\n      <td>-999</td>\n      <td>-999</td>\n      <td>-999</td>\n      <td>NaN</td>\n    </tr>\n  </tbody>\n</table>\n<p>5 rows × 22 columns</p>\n</div>"
     },
     "execution_count": 10,
     "metadata": {},
     "output_type": "execute_result"
    }
   ],
   "source": [
    "%%time\n",
    "\n",
    "# Here, we check the distance between 2 consecutive points\n",
    "# in the atlantic dataset.\n",
    "atlantic = spatial.create_distance_between_consecutive_column(atlantic)\n",
    "atlantic.head()"
   ],
   "metadata": {
    "collapsed": false,
    "pycharm": {
     "name": "#%%\n"
    }
   }
  },
  {
   "cell_type": "code",
   "execution_count": 11,
   "outputs": [
    {
     "name": "stdout",
     "output_type": "stream",
     "text": [
      "CPU times: user 249 ms, sys: 79.8 ms, total: 328 ms\n",
      "Wall time: 1.27 s\n"
     ]
    },
    {
     "data": {
      "text/plain": "                                   lat         lon  Distance_prev_to_curr  \\\nDateTime            traj_id                                                 \n2008-10-23 16:53:05 1        39.984094  116.319236                    NaN   \n2008-10-23 16:53:06 1        39.984198  116.319322              13.690153   \n2008-10-23 05:53:11 1        39.984224  116.319402               7.403788   \n2008-10-23 05:53:16 1        39.984211  116.319389               1.821083   \n2008-10-23 05:53:21 1        39.984217  116.319422               2.889671   \n\n                             Distance_start_to_curr  \nDateTime            traj_id                          \n2008-10-23 16:53:05 1                           NaN  \n2008-10-23 16:53:06 1                     13.690153  \n2008-10-23 05:53:11 1                     20.223428  \n2008-10-23 05:53:16 1                     18.416895  \n2008-10-23 05:53:21 1                     20.933073  ",
      "text/html": "<div>\n<style scoped>\n    .dataframe tbody tr th:only-of-type {\n        vertical-align: middle;\n    }\n\n    .dataframe tbody tr th {\n        vertical-align: top;\n    }\n\n    .dataframe thead th {\n        text-align: right;\n    }\n</style>\n<table border=\"1\" class=\"dataframe\">\n  <thead>\n    <tr style=\"text-align: right;\">\n      <th></th>\n      <th></th>\n      <th>lat</th>\n      <th>lon</th>\n      <th>Distance_prev_to_curr</th>\n      <th>Distance_start_to_curr</th>\n    </tr>\n    <tr>\n      <th>DateTime</th>\n      <th>traj_id</th>\n      <th></th>\n      <th></th>\n      <th></th>\n      <th></th>\n    </tr>\n  </thead>\n  <tbody>\n    <tr>\n      <th>2008-10-23 16:53:05</th>\n      <th>1</th>\n      <td>39.984094</td>\n      <td>116.319236</td>\n      <td>NaN</td>\n      <td>NaN</td>\n    </tr>\n    <tr>\n      <th>2008-10-23 16:53:06</th>\n      <th>1</th>\n      <td>39.984198</td>\n      <td>116.319322</td>\n      <td>13.690153</td>\n      <td>13.690153</td>\n    </tr>\n    <tr>\n      <th>2008-10-23 05:53:11</th>\n      <th>1</th>\n      <td>39.984224</td>\n      <td>116.319402</td>\n      <td>7.403788</td>\n      <td>20.223428</td>\n    </tr>\n    <tr>\n      <th>2008-10-23 05:53:16</th>\n      <th>1</th>\n      <td>39.984211</td>\n      <td>116.319389</td>\n      <td>1.821083</td>\n      <td>18.416895</td>\n    </tr>\n    <tr>\n      <th>2008-10-23 05:53:21</th>\n      <th>1</th>\n      <td>39.984217</td>\n      <td>116.319422</td>\n      <td>2.889671</td>\n      <td>20.933073</td>\n    </tr>\n  </tbody>\n</table>\n</div>"
     },
     "execution_count": 11,
     "metadata": {},
     "output_type": "execute_result"
    }
   ],
   "source": [
    "%%time\n",
    "\n",
    "# Now, lets calculate the distance from start to current point for\n",
    "# each dataset one by one.\n",
    "# Here, we check the distance between start to all points\n",
    "# in the geolife dataset.\n",
    "\n",
    "geolife = spatial.create_distance_from_start_column(geolife)\n",
    "geolife.head()"
   ],
   "metadata": {
    "collapsed": false,
    "pycharm": {
     "name": "#%%\n"
    }
   }
  },
  {
   "cell_type": "code",
   "execution_count": 12,
   "outputs": [
    {
     "name": "stdout",
     "output_type": "stream",
     "text": [
      "CPU times: user 179 ms, sys: 65.9 ms, total: 245 ms\n",
      "Wall time: 554 ms\n"
     ]
    },
    {
     "data": {
      "text/plain": "                               event-id  visible      lon       lat  \\\nDateTime            traj_id                                           \n2009-08-15 15:00:00 91733    1082636186     True  7.91883  54.18600   \n2009-08-15 21:00:00 91733    1082636187     True  7.91917  54.18567   \n2009-08-16 06:00:00 91733    1082636188     True  7.91500  54.18533   \n2009-08-16 09:00:00 91733    1082636189     True  7.91917  54.18583   \n2009-08-16 15:00:00 91733    1082636190     True  8.64117  54.33383   \n\n                            sensor-type individual-taxon-canonical-name  \\\nDateTime            traj_id                                               \n2009-08-15 15:00:00 91733           gps                    Larus fuscus   \n2009-08-15 21:00:00 91733           gps                    Larus fuscus   \n2009-08-16 06:00:00 91733           gps                    Larus fuscus   \n2009-08-16 09:00:00 91733           gps                    Larus fuscus   \n2009-08-16 15:00:00 91733           gps                    Larus fuscus   \n\n                            individual-local-identifier  \\\nDateTime            traj_id                               \n2009-08-15 15:00:00 91733                        91733A   \n2009-08-15 21:00:00 91733                        91733A   \n2009-08-16 06:00:00 91733                        91733A   \n2009-08-16 09:00:00 91733                        91733A   \n2009-08-16 15:00:00 91733                        91733A   \n\n                                                                    study-name  \\\nDateTime            traj_id                                                      \n2009-08-15 15:00:00 91733    Navigation experiments in lesser black-backed ...   \n2009-08-15 21:00:00 91733    Navigation experiments in lesser black-backed ...   \n2009-08-16 06:00:00 91733    Navigation experiments in lesser black-backed ...   \n2009-08-16 09:00:00 91733    Navigation experiments in lesser black-backed ...   \n2009-08-16 15:00:00 91733    Navigation experiments in lesser black-backed ...   \n\n                             Distance_prev_to_curr  Distance_start_to_curr  \nDateTime            traj_id                                                 \n2009-08-15 15:00:00 91733                      NaN                     NaN  \n2009-08-15 21:00:00 91733                42.847231               42.847231  \n2009-08-16 06:00:00 91733               273.951247              260.103940  \n2009-08-16 09:00:00 91733               276.967082               29.098770  \n2009-08-16 15:00:00 91733             49697.545831            49712.038359  ",
      "text/html": "<div>\n<style scoped>\n    .dataframe tbody tr th:only-of-type {\n        vertical-align: middle;\n    }\n\n    .dataframe tbody tr th {\n        vertical-align: top;\n    }\n\n    .dataframe thead th {\n        text-align: right;\n    }\n</style>\n<table border=\"1\" class=\"dataframe\">\n  <thead>\n    <tr style=\"text-align: right;\">\n      <th></th>\n      <th></th>\n      <th>event-id</th>\n      <th>visible</th>\n      <th>lon</th>\n      <th>lat</th>\n      <th>sensor-type</th>\n      <th>individual-taxon-canonical-name</th>\n      <th>individual-local-identifier</th>\n      <th>study-name</th>\n      <th>Distance_prev_to_curr</th>\n      <th>Distance_start_to_curr</th>\n    </tr>\n    <tr>\n      <th>DateTime</th>\n      <th>traj_id</th>\n      <th></th>\n      <th></th>\n      <th></th>\n      <th></th>\n      <th></th>\n      <th></th>\n      <th></th>\n      <th></th>\n      <th></th>\n      <th></th>\n    </tr>\n  </thead>\n  <tbody>\n    <tr>\n      <th>2009-08-15 15:00:00</th>\n      <th>91733</th>\n      <td>1082636186</td>\n      <td>True</td>\n      <td>7.91883</td>\n      <td>54.18600</td>\n      <td>gps</td>\n      <td>Larus fuscus</td>\n      <td>91733A</td>\n      <td>Navigation experiments in lesser black-backed ...</td>\n      <td>NaN</td>\n      <td>NaN</td>\n    </tr>\n    <tr>\n      <th>2009-08-15 21:00:00</th>\n      <th>91733</th>\n      <td>1082636187</td>\n      <td>True</td>\n      <td>7.91917</td>\n      <td>54.18567</td>\n      <td>gps</td>\n      <td>Larus fuscus</td>\n      <td>91733A</td>\n      <td>Navigation experiments in lesser black-backed ...</td>\n      <td>42.847231</td>\n      <td>42.847231</td>\n    </tr>\n    <tr>\n      <th>2009-08-16 06:00:00</th>\n      <th>91733</th>\n      <td>1082636188</td>\n      <td>True</td>\n      <td>7.91500</td>\n      <td>54.18533</td>\n      <td>gps</td>\n      <td>Larus fuscus</td>\n      <td>91733A</td>\n      <td>Navigation experiments in lesser black-backed ...</td>\n      <td>273.951247</td>\n      <td>260.103940</td>\n    </tr>\n    <tr>\n      <th>2009-08-16 09:00:00</th>\n      <th>91733</th>\n      <td>1082636189</td>\n      <td>True</td>\n      <td>7.91917</td>\n      <td>54.18583</td>\n      <td>gps</td>\n      <td>Larus fuscus</td>\n      <td>91733A</td>\n      <td>Navigation experiments in lesser black-backed ...</td>\n      <td>276.967082</td>\n      <td>29.098770</td>\n    </tr>\n    <tr>\n      <th>2009-08-16 15:00:00</th>\n      <th>91733</th>\n      <td>1082636190</td>\n      <td>True</td>\n      <td>8.64117</td>\n      <td>54.33383</td>\n      <td>gps</td>\n      <td>Larus fuscus</td>\n      <td>91733A</td>\n      <td>Navigation experiments in lesser black-backed ...</td>\n      <td>49697.545831</td>\n      <td>49712.038359</td>\n    </tr>\n  </tbody>\n</table>\n</div>"
     },
     "execution_count": 12,
     "metadata": {},
     "output_type": "execute_result"
    }
   ],
   "source": [
    "%%time\n",
    "\n",
    "# Here, we check the distance between start to all points\n",
    "# in the seagulls dataset.\n",
    "gulls = spatial.create_distance_from_start_column(gulls)\n",
    "gulls.head()"
   ],
   "metadata": {
    "collapsed": false,
    "pycharm": {
     "name": "#%%\n"
    }
   }
  },
  {
   "cell_type": "code",
   "execution_count": 13,
   "outputs": [
    {
     "name": "stdout",
     "output_type": "stream",
     "text": [
      "CPU times: user 219 ms, sys: 150 ms, total: 369 ms\n",
      "Wall time: 399 ms\n"
     ]
    },
    {
     "data": {
      "text/plain": "                                             Name      Date  Time Event  \\\nDateTime            traj_id                                               \n1851-07-05 12:00:00 AL021851              UNNAMED  18510705  1200         \n1851-07-10 12:00:00 AL031851              UNNAMED  18510710  1200         \n1853-08-05 12:00:00 AL011853              UNNAMED  18530805  1200         \n1853-08-10 12:00:00 AL021853              UNNAMED  18530810  1200         \n1853-09-21 12:00:00 AL051853              UNNAMED  18530921  1200         \n\n                             Status   lat   lon  Maximum Wind  \\\nDateTime            traj_id                                     \n1851-07-05 12:00:00 AL021851     HU  22.2 -97.6            80   \n1851-07-10 12:00:00 AL031851     TS  12.0 -60.0            50   \n1853-08-05 12:00:00 AL011853     TS  32.5 -69.0            50   \n1853-08-10 12:00:00 AL021853     TS  12.0 -60.0            40   \n1853-09-21 12:00:00 AL051853     TS  20.0 -95.0            50   \n\n                              Minimum Pressure  Low Wind NE  ...  \\\nDateTime            traj_id                                  ...   \n1851-07-05 12:00:00 AL021851              -999         -999  ...   \n1851-07-10 12:00:00 AL031851              -999         -999  ...   \n1853-08-05 12:00:00 AL011853              -999         -999  ...   \n1853-08-10 12:00:00 AL021853              -999         -999  ...   \n1853-09-21 12:00:00 AL051853              -999         -999  ...   \n\n                              Moderate Wind NE  Moderate Wind SE  \\\nDateTime            traj_id                                        \n1851-07-05 12:00:00 AL021851              -999              -999   \n1851-07-10 12:00:00 AL031851              -999              -999   \n1853-08-05 12:00:00 AL011853              -999              -999   \n1853-08-10 12:00:00 AL021853              -999              -999   \n1853-09-21 12:00:00 AL051853              -999              -999   \n\n                              Moderate Wind SW  Moderate Wind NW  \\\nDateTime            traj_id                                        \n1851-07-05 12:00:00 AL021851              -999              -999   \n1851-07-10 12:00:00 AL031851              -999              -999   \n1853-08-05 12:00:00 AL011853              -999              -999   \n1853-08-10 12:00:00 AL021853              -999              -999   \n1853-09-21 12:00:00 AL051853              -999              -999   \n\n                              High Wind NE  High Wind SE  High Wind SW  \\\nDateTime            traj_id                                              \n1851-07-05 12:00:00 AL021851          -999          -999          -999   \n1851-07-10 12:00:00 AL031851          -999          -999          -999   \n1853-08-05 12:00:00 AL011853          -999          -999          -999   \n1853-08-10 12:00:00 AL021853          -999          -999          -999   \n1853-09-21 12:00:00 AL051853          -999          -999          -999   \n\n                              High Wind NW  Distance_prev_to_curr  \\\nDateTime            traj_id                                         \n1851-07-05 12:00:00 AL021851          -999                    NaN   \n1851-07-10 12:00:00 AL031851          -999                    NaN   \n1853-08-05 12:00:00 AL011853          -999                    NaN   \n1853-08-10 12:00:00 AL021853          -999                    NaN   \n1853-09-21 12:00:00 AL051853          -999                    NaN   \n\n                              Distance_start_to_curr  \nDateTime            traj_id                           \n1851-07-05 12:00:00 AL021851                     NaN  \n1851-07-10 12:00:00 AL031851                     NaN  \n1853-08-05 12:00:00 AL011853                     NaN  \n1853-08-10 12:00:00 AL021853                     NaN  \n1853-09-21 12:00:00 AL051853                     NaN  \n\n[5 rows x 23 columns]",
      "text/html": "<div>\n<style scoped>\n    .dataframe tbody tr th:only-of-type {\n        vertical-align: middle;\n    }\n\n    .dataframe tbody tr th {\n        vertical-align: top;\n    }\n\n    .dataframe thead th {\n        text-align: right;\n    }\n</style>\n<table border=\"1\" class=\"dataframe\">\n  <thead>\n    <tr style=\"text-align: right;\">\n      <th></th>\n      <th></th>\n      <th>Name</th>\n      <th>Date</th>\n      <th>Time</th>\n      <th>Event</th>\n      <th>Status</th>\n      <th>lat</th>\n      <th>lon</th>\n      <th>Maximum Wind</th>\n      <th>Minimum Pressure</th>\n      <th>Low Wind NE</th>\n      <th>...</th>\n      <th>Moderate Wind NE</th>\n      <th>Moderate Wind SE</th>\n      <th>Moderate Wind SW</th>\n      <th>Moderate Wind NW</th>\n      <th>High Wind NE</th>\n      <th>High Wind SE</th>\n      <th>High Wind SW</th>\n      <th>High Wind NW</th>\n      <th>Distance_prev_to_curr</th>\n      <th>Distance_start_to_curr</th>\n    </tr>\n    <tr>\n      <th>DateTime</th>\n      <th>traj_id</th>\n      <th></th>\n      <th></th>\n      <th></th>\n      <th></th>\n      <th></th>\n      <th></th>\n      <th></th>\n      <th></th>\n      <th></th>\n      <th></th>\n      <th></th>\n      <th></th>\n      <th></th>\n      <th></th>\n      <th></th>\n      <th></th>\n      <th></th>\n      <th></th>\n      <th></th>\n      <th></th>\n      <th></th>\n    </tr>\n  </thead>\n  <tbody>\n    <tr>\n      <th>1851-07-05 12:00:00</th>\n      <th>AL021851</th>\n      <td>UNNAMED</td>\n      <td>18510705</td>\n      <td>1200</td>\n      <td></td>\n      <td>HU</td>\n      <td>22.2</td>\n      <td>-97.6</td>\n      <td>80</td>\n      <td>-999</td>\n      <td>-999</td>\n      <td>...</td>\n      <td>-999</td>\n      <td>-999</td>\n      <td>-999</td>\n      <td>-999</td>\n      <td>-999</td>\n      <td>-999</td>\n      <td>-999</td>\n      <td>-999</td>\n      <td>NaN</td>\n      <td>NaN</td>\n    </tr>\n    <tr>\n      <th>1851-07-10 12:00:00</th>\n      <th>AL031851</th>\n      <td>UNNAMED</td>\n      <td>18510710</td>\n      <td>1200</td>\n      <td></td>\n      <td>TS</td>\n      <td>12.0</td>\n      <td>-60.0</td>\n      <td>50</td>\n      <td>-999</td>\n      <td>-999</td>\n      <td>...</td>\n      <td>-999</td>\n      <td>-999</td>\n      <td>-999</td>\n      <td>-999</td>\n      <td>-999</td>\n      <td>-999</td>\n      <td>-999</td>\n      <td>-999</td>\n      <td>NaN</td>\n      <td>NaN</td>\n    </tr>\n    <tr>\n      <th>1853-08-05 12:00:00</th>\n      <th>AL011853</th>\n      <td>UNNAMED</td>\n      <td>18530805</td>\n      <td>1200</td>\n      <td></td>\n      <td>TS</td>\n      <td>32.5</td>\n      <td>-69.0</td>\n      <td>50</td>\n      <td>-999</td>\n      <td>-999</td>\n      <td>...</td>\n      <td>-999</td>\n      <td>-999</td>\n      <td>-999</td>\n      <td>-999</td>\n      <td>-999</td>\n      <td>-999</td>\n      <td>-999</td>\n      <td>-999</td>\n      <td>NaN</td>\n      <td>NaN</td>\n    </tr>\n    <tr>\n      <th>1853-08-10 12:00:00</th>\n      <th>AL021853</th>\n      <td>UNNAMED</td>\n      <td>18530810</td>\n      <td>1200</td>\n      <td></td>\n      <td>TS</td>\n      <td>12.0</td>\n      <td>-60.0</td>\n      <td>40</td>\n      <td>-999</td>\n      <td>-999</td>\n      <td>...</td>\n      <td>-999</td>\n      <td>-999</td>\n      <td>-999</td>\n      <td>-999</td>\n      <td>-999</td>\n      <td>-999</td>\n      <td>-999</td>\n      <td>-999</td>\n      <td>NaN</td>\n      <td>NaN</td>\n    </tr>\n    <tr>\n      <th>1853-09-21 12:00:00</th>\n      <th>AL051853</th>\n      <td>UNNAMED</td>\n      <td>18530921</td>\n      <td>1200</td>\n      <td></td>\n      <td>TS</td>\n      <td>20.0</td>\n      <td>-95.0</td>\n      <td>50</td>\n      <td>-999</td>\n      <td>-999</td>\n      <td>...</td>\n      <td>-999</td>\n      <td>-999</td>\n      <td>-999</td>\n      <td>-999</td>\n      <td>-999</td>\n      <td>-999</td>\n      <td>-999</td>\n      <td>-999</td>\n      <td>NaN</td>\n      <td>NaN</td>\n    </tr>\n  </tbody>\n</table>\n<p>5 rows × 23 columns</p>\n</div>"
     },
     "execution_count": 13,
     "metadata": {},
     "output_type": "execute_result"
    }
   ],
   "source": [
    "%%time\n",
    "\n",
    "# Here, we check the distance between start to all points\n",
    "# in the atlantic dataset.\n",
    "atlantic = spatial.create_distance_from_start_column(atlantic)\n",
    "atlantic.head()"
   ],
   "metadata": {
    "collapsed": false,
    "pycharm": {
     "name": "#%%\n"
    }
   }
  },
  {
   "cell_type": "code",
   "execution_count": 14,
   "outputs": [
    {
     "name": "stdout",
     "output_type": "stream",
     "text": [
      "CPU times: user 160 ms, sys: 0 ns, total: 160 ms\n",
      "Wall time: 159 ms\n"
     ]
    },
    {
     "data": {
      "text/plain": "14748.27854559045"
     },
     "execution_count": 14,
     "metadata": {},
     "output_type": "execute_result"
    }
   ],
   "source": [
    "%%time\n",
    "\n",
    "# Here, we are calculating the distance travelled in traj_id 1\n",
    "# on the date 2008-10-23.\n",
    "spatial.get_distance_travelled_by_date_and_traj_id(geolife,\n",
    "                                                   '2008-10-23',\n",
    "                                                   '1')"
   ],
   "metadata": {
    "collapsed": false,
    "pycharm": {
     "name": "#%%\n"
    }
   }
  },
  {
   "cell_type": "code",
   "execution_count": 15,
   "outputs": [
    {
     "name": "stdout",
     "output_type": "stream",
     "text": [
      "CPU times: user 716 ms, sys: 166 ms, total: 882 ms\n",
      "Wall time: 1.84 s\n"
     ]
    },
    {
     "data": {
      "text/plain": "                                   lat         lon  Distance_prev_to_curr  \\\nDateTime            traj_id                                                 \n2008-10-23 16:53:05 1        39.984094  116.319236                    NaN   \n2008-10-23 16:53:06 1        39.984198  116.319322              13.690153   \n2008-10-23 05:53:11 1        39.984224  116.319402               7.403788   \n2008-10-23 05:53:16 1        39.984211  116.319389               1.821083   \n2008-10-23 05:53:21 1        39.984217  116.319422               2.889671   \n\n                             Distance_start_to_curr  Distance_to_(0, 0)  \nDateTime            traj_id                                              \n2008-10-23 16:53:05 1                           NaN        1.221587e+07  \n2008-10-23 16:53:06 1                     13.690153        1.221587e+07  \n2008-10-23 05:53:11 1                     20.223428        1.221588e+07  \n2008-10-23 05:53:16 1                     18.416895        1.221588e+07  \n2008-10-23 05:53:21 1                     20.933073        1.221588e+07  ",
      "text/html": "<div>\n<style scoped>\n    .dataframe tbody tr th:only-of-type {\n        vertical-align: middle;\n    }\n\n    .dataframe tbody tr th {\n        vertical-align: top;\n    }\n\n    .dataframe thead th {\n        text-align: right;\n    }\n</style>\n<table border=\"1\" class=\"dataframe\">\n  <thead>\n    <tr style=\"text-align: right;\">\n      <th></th>\n      <th></th>\n      <th>lat</th>\n      <th>lon</th>\n      <th>Distance_prev_to_curr</th>\n      <th>Distance_start_to_curr</th>\n      <th>Distance_to_(0, 0)</th>\n    </tr>\n    <tr>\n      <th>DateTime</th>\n      <th>traj_id</th>\n      <th></th>\n      <th></th>\n      <th></th>\n      <th></th>\n      <th></th>\n    </tr>\n  </thead>\n  <tbody>\n    <tr>\n      <th>2008-10-23 16:53:05</th>\n      <th>1</th>\n      <td>39.984094</td>\n      <td>116.319236</td>\n      <td>NaN</td>\n      <td>NaN</td>\n      <td>1.221587e+07</td>\n    </tr>\n    <tr>\n      <th>2008-10-23 16:53:06</th>\n      <th>1</th>\n      <td>39.984198</td>\n      <td>116.319322</td>\n      <td>13.690153</td>\n      <td>13.690153</td>\n      <td>1.221587e+07</td>\n    </tr>\n    <tr>\n      <th>2008-10-23 05:53:11</th>\n      <th>1</th>\n      <td>39.984224</td>\n      <td>116.319402</td>\n      <td>7.403788</td>\n      <td>20.223428</td>\n      <td>1.221588e+07</td>\n    </tr>\n    <tr>\n      <th>2008-10-23 05:53:16</th>\n      <th>1</th>\n      <td>39.984211</td>\n      <td>116.319389</td>\n      <td>1.821083</td>\n      <td>18.416895</td>\n      <td>1.221588e+07</td>\n    </tr>\n    <tr>\n      <th>2008-10-23 05:53:21</th>\n      <th>1</th>\n      <td>39.984217</td>\n      <td>116.319422</td>\n      <td>2.889671</td>\n      <td>20.933073</td>\n      <td>1.221588e+07</td>\n    </tr>\n  </tbody>\n</table>\n</div>"
     },
     "execution_count": 15,
     "metadata": {},
     "output_type": "execute_result"
    }
   ],
   "source": [
    "%%time\n",
    "\n",
    "# Now, lets check the distance of all the points\n",
    "# in the geolife dataset from the coordinates (0, 0).\n",
    "geolife = spatial.create_distance_from_given_point_column(geolife,\n",
    "                                                          (0, 0))\n",
    "geolife.head()"
   ],
   "metadata": {
    "collapsed": false,
    "pycharm": {
     "name": "#%%\n"
    }
   }
  },
  {
   "cell_type": "code",
   "execution_count": 16,
   "outputs": [
    {
     "name": "stdout",
     "output_type": "stream",
     "text": [
      "CPU times: user 364 ms, sys: 111 ms, total: 474 ms\n",
      "Wall time: 1.41 s\n"
     ]
    },
    {
     "data": {
      "text/plain": "                                   lat         lon  Distance_prev_to_curr  \\\nDateTime            traj_id                                                 \n2008-10-23 16:53:05 1        39.984094  116.319236                    NaN   \n2008-10-23 16:53:06 1        39.984198  116.319322              13.690153   \n2008-10-23 05:53:11 1        39.984224  116.319402               7.403788   \n2008-10-23 05:53:16 1        39.984211  116.319389               1.821083   \n2008-10-23 05:53:21 1        39.984217  116.319422               2.889671   \n\n                             Distance_start_to_curr  Distance_to_(0, 0)  \\\nDateTime            traj_id                                               \n2008-10-23 16:53:05 1                           NaN        1.221587e+07   \n2008-10-23 16:53:06 1                     13.690153        1.221587e+07   \n2008-10-23 05:53:11 1                     20.223428        1.221588e+07   \n2008-10-23 05:53:16 1                     18.416895        1.221588e+07   \n2008-10-23 05:53:21 1                     20.933073        1.221588e+07   \n\n                             Within_15000000_m_from_(0, 0)  \nDateTime            traj_id                                 \n2008-10-23 16:53:05 1                                 True  \n2008-10-23 16:53:06 1                                 True  \n2008-10-23 05:53:11 1                                 True  \n2008-10-23 05:53:16 1                                 True  \n2008-10-23 05:53:21 1                                 True  ",
      "text/html": "<div>\n<style scoped>\n    .dataframe tbody tr th:only-of-type {\n        vertical-align: middle;\n    }\n\n    .dataframe tbody tr th {\n        vertical-align: top;\n    }\n\n    .dataframe thead th {\n        text-align: right;\n    }\n</style>\n<table border=\"1\" class=\"dataframe\">\n  <thead>\n    <tr style=\"text-align: right;\">\n      <th></th>\n      <th></th>\n      <th>lat</th>\n      <th>lon</th>\n      <th>Distance_prev_to_curr</th>\n      <th>Distance_start_to_curr</th>\n      <th>Distance_to_(0, 0)</th>\n      <th>Within_15000000_m_from_(0, 0)</th>\n    </tr>\n    <tr>\n      <th>DateTime</th>\n      <th>traj_id</th>\n      <th></th>\n      <th></th>\n      <th></th>\n      <th></th>\n      <th></th>\n      <th></th>\n    </tr>\n  </thead>\n  <tbody>\n    <tr>\n      <th>2008-10-23 16:53:05</th>\n      <th>1</th>\n      <td>39.984094</td>\n      <td>116.319236</td>\n      <td>NaN</td>\n      <td>NaN</td>\n      <td>1.221587e+07</td>\n      <td>True</td>\n    </tr>\n    <tr>\n      <th>2008-10-23 16:53:06</th>\n      <th>1</th>\n      <td>39.984198</td>\n      <td>116.319322</td>\n      <td>13.690153</td>\n      <td>13.690153</td>\n      <td>1.221587e+07</td>\n      <td>True</td>\n    </tr>\n    <tr>\n      <th>2008-10-23 05:53:11</th>\n      <th>1</th>\n      <td>39.984224</td>\n      <td>116.319402</td>\n      <td>7.403788</td>\n      <td>20.223428</td>\n      <td>1.221588e+07</td>\n      <td>True</td>\n    </tr>\n    <tr>\n      <th>2008-10-23 05:53:16</th>\n      <th>1</th>\n      <td>39.984211</td>\n      <td>116.319389</td>\n      <td>1.821083</td>\n      <td>18.416895</td>\n      <td>1.221588e+07</td>\n      <td>True</td>\n    </tr>\n    <tr>\n      <th>2008-10-23 05:53:21</th>\n      <th>1</th>\n      <td>39.984217</td>\n      <td>116.319422</td>\n      <td>2.889671</td>\n      <td>20.933073</td>\n      <td>1.221588e+07</td>\n      <td>True</td>\n    </tr>\n  </tbody>\n</table>\n</div>"
     },
     "execution_count": 16,
     "metadata": {},
     "output_type": "execute_result"
    }
   ],
   "source": [
    "%%time\n",
    "\n",
    "# Now, lets check if all the points in the geolife dataset\n",
    "# are within 12000 KMs of the coordinates (0, 0).\n",
    "geolife = spatial.create_point_within_range_column(geolife,\n",
    "                                                   (0,0),\n",
    "                                                   15000000)\n",
    "geolife.head()"
   ],
   "metadata": {
    "collapsed": false,
    "pycharm": {
     "name": "#%%\n"
    }
   }
  },
  {
   "cell_type": "code",
   "execution_count": 17,
   "outputs": [
    {
     "name": "stdout",
     "output_type": "stream",
     "text": [
      "CPU times: user 20.7 ms, sys: 8.13 ms, total: 28.8 ms\n",
      "Wall time: 28.1 ms\n"
     ]
    },
    {
     "data": {
      "text/plain": "                                   lat         lon  Distance_prev_to_curr  \\\nDateTime            traj_id                                                 \n2008-10-23 16:53:05 1        39.984094  116.319236                    NaN   \n2008-10-23 16:53:06 1        39.984198  116.319322              13.690153   \n2008-10-23 05:53:11 1        39.984224  116.319402               7.403788   \n2008-10-23 05:53:16 1        39.984211  116.319389               1.821083   \n2008-10-23 05:53:21 1        39.984217  116.319422               2.889671   \n\n                             Distance_start_to_curr  Distance_to_(0, 0)  \\\nDateTime            traj_id                                               \n2008-10-23 16:53:05 1                           NaN        1.221587e+07   \n2008-10-23 16:53:06 1                     13.690153        1.221587e+07   \n2008-10-23 05:53:11 1                     20.223428        1.221588e+07   \n2008-10-23 05:53:16 1                     18.416895        1.221588e+07   \n2008-10-23 05:53:21 1                     20.933073        1.221588e+07   \n\n                             Within_15000000_m_from_(0, 0)  Speed_prev_to_curr  \nDateTime            traj_id                                                     \n2008-10-23 16:53:05 1                                 True                 NaN  \n2008-10-23 16:53:06 1                                 True           13.690153  \n2008-10-23 05:53:11 1                                 True            0.000158  \n2008-10-23 05:53:16 1                                 True            0.364217  \n2008-10-23 05:53:21 1                                 True            0.577934  ",
      "text/html": "<div>\n<style scoped>\n    .dataframe tbody tr th:only-of-type {\n        vertical-align: middle;\n    }\n\n    .dataframe tbody tr th {\n        vertical-align: top;\n    }\n\n    .dataframe thead th {\n        text-align: right;\n    }\n</style>\n<table border=\"1\" class=\"dataframe\">\n  <thead>\n    <tr style=\"text-align: right;\">\n      <th></th>\n      <th></th>\n      <th>lat</th>\n      <th>lon</th>\n      <th>Distance_prev_to_curr</th>\n      <th>Distance_start_to_curr</th>\n      <th>Distance_to_(0, 0)</th>\n      <th>Within_15000000_m_from_(0, 0)</th>\n      <th>Speed_prev_to_curr</th>\n    </tr>\n    <tr>\n      <th>DateTime</th>\n      <th>traj_id</th>\n      <th></th>\n      <th></th>\n      <th></th>\n      <th></th>\n      <th></th>\n      <th></th>\n      <th></th>\n    </tr>\n  </thead>\n  <tbody>\n    <tr>\n      <th>2008-10-23 16:53:05</th>\n      <th>1</th>\n      <td>39.984094</td>\n      <td>116.319236</td>\n      <td>NaN</td>\n      <td>NaN</td>\n      <td>1.221587e+07</td>\n      <td>True</td>\n      <td>NaN</td>\n    </tr>\n    <tr>\n      <th>2008-10-23 16:53:06</th>\n      <th>1</th>\n      <td>39.984198</td>\n      <td>116.319322</td>\n      <td>13.690153</td>\n      <td>13.690153</td>\n      <td>1.221587e+07</td>\n      <td>True</td>\n      <td>13.690153</td>\n    </tr>\n    <tr>\n      <th>2008-10-23 05:53:11</th>\n      <th>1</th>\n      <td>39.984224</td>\n      <td>116.319402</td>\n      <td>7.403788</td>\n      <td>20.223428</td>\n      <td>1.221588e+07</td>\n      <td>True</td>\n      <td>0.000158</td>\n    </tr>\n    <tr>\n      <th>2008-10-23 05:53:16</th>\n      <th>1</th>\n      <td>39.984211</td>\n      <td>116.319389</td>\n      <td>1.821083</td>\n      <td>18.416895</td>\n      <td>1.221588e+07</td>\n      <td>True</td>\n      <td>0.364217</td>\n    </tr>\n    <tr>\n      <th>2008-10-23 05:53:21</th>\n      <th>1</th>\n      <td>39.984217</td>\n      <td>116.319422</td>\n      <td>2.889671</td>\n      <td>20.933073</td>\n      <td>1.221588e+07</td>\n      <td>True</td>\n      <td>0.577934</td>\n    </tr>\n  </tbody>\n</table>\n</div>"
     },
     "execution_count": 17,
     "metadata": {},
     "output_type": "execute_result"
    }
   ],
   "source": [
    "%%time\n",
    "\n",
    "# Now, lets calculate the speed of the object between 2\n",
    "# consecutive trajectory points.\n",
    "# First, we are doing in the geolife dataset.\n",
    "geolife = spatial.create_speed_from_prev_column(geolife)\n",
    "geolife.head()"
   ],
   "metadata": {
    "collapsed": false,
    "pycharm": {
     "name": "#%%\n"
    }
   }
  },
  {
   "cell_type": "code",
   "execution_count": 18,
   "outputs": [
    {
     "name": "stdout",
     "output_type": "stream",
     "text": [
      "CPU times: user 15.2 ms, sys: 4.44 ms, total: 19.6 ms\n",
      "Wall time: 18.1 ms\n"
     ]
    },
    {
     "data": {
      "text/plain": "                                             Name      Date  Time Event  \\\nDateTime            traj_id                                               \n1851-07-05 12:00:00 AL021851              UNNAMED  18510705  1200         \n1851-07-10 12:00:00 AL031851              UNNAMED  18510710  1200         \n1853-08-05 12:00:00 AL011853              UNNAMED  18530805  1200         \n1853-08-10 12:00:00 AL021853              UNNAMED  18530810  1200         \n1853-09-21 12:00:00 AL051853              UNNAMED  18530921  1200         \n\n                             Status   lat   lon  Maximum Wind  \\\nDateTime            traj_id                                     \n1851-07-05 12:00:00 AL021851     HU  22.2 -97.6            80   \n1851-07-10 12:00:00 AL031851     TS  12.0 -60.0            50   \n1853-08-05 12:00:00 AL011853     TS  32.5 -69.0            50   \n1853-08-10 12:00:00 AL021853     TS  12.0 -60.0            40   \n1853-09-21 12:00:00 AL051853     TS  20.0 -95.0            50   \n\n                              Minimum Pressure  Low Wind NE  ...  \\\nDateTime            traj_id                                  ...   \n1851-07-05 12:00:00 AL021851              -999         -999  ...   \n1851-07-10 12:00:00 AL031851              -999         -999  ...   \n1853-08-05 12:00:00 AL011853              -999         -999  ...   \n1853-08-10 12:00:00 AL021853              -999         -999  ...   \n1853-09-21 12:00:00 AL051853              -999         -999  ...   \n\n                              Moderate Wind SE  Moderate Wind SW  \\\nDateTime            traj_id                                        \n1851-07-05 12:00:00 AL021851              -999              -999   \n1851-07-10 12:00:00 AL031851              -999              -999   \n1853-08-05 12:00:00 AL011853              -999              -999   \n1853-08-10 12:00:00 AL021853              -999              -999   \n1853-09-21 12:00:00 AL051853              -999              -999   \n\n                              Moderate Wind NW  High Wind NE  High Wind SE  \\\nDateTime            traj_id                                                  \n1851-07-05 12:00:00 AL021851              -999          -999          -999   \n1851-07-10 12:00:00 AL031851              -999          -999          -999   \n1853-08-05 12:00:00 AL011853              -999          -999          -999   \n1853-08-10 12:00:00 AL021853              -999          -999          -999   \n1853-09-21 12:00:00 AL051853              -999          -999          -999   \n\n                              High Wind SW  High Wind NW  \\\nDateTime            traj_id                                \n1851-07-05 12:00:00 AL021851          -999          -999   \n1851-07-10 12:00:00 AL031851          -999          -999   \n1853-08-05 12:00:00 AL011853          -999          -999   \n1853-08-10 12:00:00 AL021853          -999          -999   \n1853-09-21 12:00:00 AL051853          -999          -999   \n\n                              Distance_prev_to_curr  Distance_start_to_curr  \\\nDateTime            traj_id                                                   \n1851-07-05 12:00:00 AL021851                    NaN                     NaN   \n1851-07-10 12:00:00 AL031851                    NaN                     NaN   \n1853-08-05 12:00:00 AL011853                    NaN                     NaN   \n1853-08-10 12:00:00 AL021853                    NaN                     NaN   \n1853-09-21 12:00:00 AL051853                    NaN                     NaN   \n\n                              Speed_prev_to_curr  \nDateTime            traj_id                       \n1851-07-05 12:00:00 AL021851                 NaN  \n1851-07-10 12:00:00 AL031851                 NaN  \n1853-08-05 12:00:00 AL011853                 NaN  \n1853-08-10 12:00:00 AL021853                 NaN  \n1853-09-21 12:00:00 AL051853                 NaN  \n\n[5 rows x 24 columns]",
      "text/html": "<div>\n<style scoped>\n    .dataframe tbody tr th:only-of-type {\n        vertical-align: middle;\n    }\n\n    .dataframe tbody tr th {\n        vertical-align: top;\n    }\n\n    .dataframe thead th {\n        text-align: right;\n    }\n</style>\n<table border=\"1\" class=\"dataframe\">\n  <thead>\n    <tr style=\"text-align: right;\">\n      <th></th>\n      <th></th>\n      <th>Name</th>\n      <th>Date</th>\n      <th>Time</th>\n      <th>Event</th>\n      <th>Status</th>\n      <th>lat</th>\n      <th>lon</th>\n      <th>Maximum Wind</th>\n      <th>Minimum Pressure</th>\n      <th>Low Wind NE</th>\n      <th>...</th>\n      <th>Moderate Wind SE</th>\n      <th>Moderate Wind SW</th>\n      <th>Moderate Wind NW</th>\n      <th>High Wind NE</th>\n      <th>High Wind SE</th>\n      <th>High Wind SW</th>\n      <th>High Wind NW</th>\n      <th>Distance_prev_to_curr</th>\n      <th>Distance_start_to_curr</th>\n      <th>Speed_prev_to_curr</th>\n    </tr>\n    <tr>\n      <th>DateTime</th>\n      <th>traj_id</th>\n      <th></th>\n      <th></th>\n      <th></th>\n      <th></th>\n      <th></th>\n      <th></th>\n      <th></th>\n      <th></th>\n      <th></th>\n      <th></th>\n      <th></th>\n      <th></th>\n      <th></th>\n      <th></th>\n      <th></th>\n      <th></th>\n      <th></th>\n      <th></th>\n      <th></th>\n      <th></th>\n      <th></th>\n    </tr>\n  </thead>\n  <tbody>\n    <tr>\n      <th>1851-07-05 12:00:00</th>\n      <th>AL021851</th>\n      <td>UNNAMED</td>\n      <td>18510705</td>\n      <td>1200</td>\n      <td></td>\n      <td>HU</td>\n      <td>22.2</td>\n      <td>-97.6</td>\n      <td>80</td>\n      <td>-999</td>\n      <td>-999</td>\n      <td>...</td>\n      <td>-999</td>\n      <td>-999</td>\n      <td>-999</td>\n      <td>-999</td>\n      <td>-999</td>\n      <td>-999</td>\n      <td>-999</td>\n      <td>NaN</td>\n      <td>NaN</td>\n      <td>NaN</td>\n    </tr>\n    <tr>\n      <th>1851-07-10 12:00:00</th>\n      <th>AL031851</th>\n      <td>UNNAMED</td>\n      <td>18510710</td>\n      <td>1200</td>\n      <td></td>\n      <td>TS</td>\n      <td>12.0</td>\n      <td>-60.0</td>\n      <td>50</td>\n      <td>-999</td>\n      <td>-999</td>\n      <td>...</td>\n      <td>-999</td>\n      <td>-999</td>\n      <td>-999</td>\n      <td>-999</td>\n      <td>-999</td>\n      <td>-999</td>\n      <td>-999</td>\n      <td>NaN</td>\n      <td>NaN</td>\n      <td>NaN</td>\n    </tr>\n    <tr>\n      <th>1853-08-05 12:00:00</th>\n      <th>AL011853</th>\n      <td>UNNAMED</td>\n      <td>18530805</td>\n      <td>1200</td>\n      <td></td>\n      <td>TS</td>\n      <td>32.5</td>\n      <td>-69.0</td>\n      <td>50</td>\n      <td>-999</td>\n      <td>-999</td>\n      <td>...</td>\n      <td>-999</td>\n      <td>-999</td>\n      <td>-999</td>\n      <td>-999</td>\n      <td>-999</td>\n      <td>-999</td>\n      <td>-999</td>\n      <td>NaN</td>\n      <td>NaN</td>\n      <td>NaN</td>\n    </tr>\n    <tr>\n      <th>1853-08-10 12:00:00</th>\n      <th>AL021853</th>\n      <td>UNNAMED</td>\n      <td>18530810</td>\n      <td>1200</td>\n      <td></td>\n      <td>TS</td>\n      <td>12.0</td>\n      <td>-60.0</td>\n      <td>40</td>\n      <td>-999</td>\n      <td>-999</td>\n      <td>...</td>\n      <td>-999</td>\n      <td>-999</td>\n      <td>-999</td>\n      <td>-999</td>\n      <td>-999</td>\n      <td>-999</td>\n      <td>-999</td>\n      <td>NaN</td>\n      <td>NaN</td>\n      <td>NaN</td>\n    </tr>\n    <tr>\n      <th>1853-09-21 12:00:00</th>\n      <th>AL051853</th>\n      <td>UNNAMED</td>\n      <td>18530921</td>\n      <td>1200</td>\n      <td></td>\n      <td>TS</td>\n      <td>20.0</td>\n      <td>-95.0</td>\n      <td>50</td>\n      <td>-999</td>\n      <td>-999</td>\n      <td>...</td>\n      <td>-999</td>\n      <td>-999</td>\n      <td>-999</td>\n      <td>-999</td>\n      <td>-999</td>\n      <td>-999</td>\n      <td>-999</td>\n      <td>NaN</td>\n      <td>NaN</td>\n      <td>NaN</td>\n    </tr>\n  </tbody>\n</table>\n<p>5 rows × 24 columns</p>\n</div>"
     },
     "execution_count": 18,
     "metadata": {},
     "output_type": "execute_result"
    }
   ],
   "source": [
    "%%time\n",
    "\n",
    "# Now lets calculate the speed between 2 consecutive\n",
    "# points in the atlantic dataset.\n",
    "atlantic = spatial.create_speed_from_prev_column(atlantic)\n",
    "atlantic.head()"
   ],
   "metadata": {
    "collapsed": false,
    "pycharm": {
     "name": "#%%\n"
    }
   }
  },
  {
   "cell_type": "code",
   "execution_count": 19,
   "outputs": [
    {
     "name": "stdout",
     "output_type": "stream",
     "text": [
      "CPU times: user 17.6 ms, sys: 200 µs, total: 17.8 ms\n",
      "Wall time: 16.7 ms\n"
     ]
    },
    {
     "data": {
      "text/plain": "                               event-id  visible      lon       lat  \\\nDateTime            traj_id                                           \n2009-08-15 15:00:00 91733    1082636186     True  7.91883  54.18600   \n2009-08-15 21:00:00 91733    1082636187     True  7.91917  54.18567   \n2009-08-16 06:00:00 91733    1082636188     True  7.91500  54.18533   \n2009-08-16 09:00:00 91733    1082636189     True  7.91917  54.18583   \n2009-08-16 15:00:00 91733    1082636190     True  8.64117  54.33383   \n\n                            sensor-type individual-taxon-canonical-name  \\\nDateTime            traj_id                                               \n2009-08-15 15:00:00 91733           gps                    Larus fuscus   \n2009-08-15 21:00:00 91733           gps                    Larus fuscus   \n2009-08-16 06:00:00 91733           gps                    Larus fuscus   \n2009-08-16 09:00:00 91733           gps                    Larus fuscus   \n2009-08-16 15:00:00 91733           gps                    Larus fuscus   \n\n                            individual-local-identifier  \\\nDateTime            traj_id                               \n2009-08-15 15:00:00 91733                        91733A   \n2009-08-15 21:00:00 91733                        91733A   \n2009-08-16 06:00:00 91733                        91733A   \n2009-08-16 09:00:00 91733                        91733A   \n2009-08-16 15:00:00 91733                        91733A   \n\n                                                                    study-name  \\\nDateTime            traj_id                                                      \n2009-08-15 15:00:00 91733    Navigation experiments in lesser black-backed ...   \n2009-08-15 21:00:00 91733    Navigation experiments in lesser black-backed ...   \n2009-08-16 06:00:00 91733    Navigation experiments in lesser black-backed ...   \n2009-08-16 09:00:00 91733    Navigation experiments in lesser black-backed ...   \n2009-08-16 15:00:00 91733    Navigation experiments in lesser black-backed ...   \n\n                             Distance_prev_to_curr  Distance_start_to_curr  \\\nDateTime            traj_id                                                  \n2009-08-15 15:00:00 91733                      NaN                     NaN   \n2009-08-15 21:00:00 91733                42.847231               42.847231   \n2009-08-16 06:00:00 91733               273.951247              260.103940   \n2009-08-16 09:00:00 91733               276.967082               29.098770   \n2009-08-16 15:00:00 91733             49697.545831            49712.038359   \n\n                             Speed_prev_to_curr  \nDateTime            traj_id                      \n2009-08-15 15:00:00 91733                   NaN  \n2009-08-15 21:00:00 91733              0.001984  \n2009-08-16 06:00:00 91733              0.008455  \n2009-08-16 09:00:00 91733              0.025645  \n2009-08-16 15:00:00 91733              2.300812  ",
      "text/html": "<div>\n<style scoped>\n    .dataframe tbody tr th:only-of-type {\n        vertical-align: middle;\n    }\n\n    .dataframe tbody tr th {\n        vertical-align: top;\n    }\n\n    .dataframe thead th {\n        text-align: right;\n    }\n</style>\n<table border=\"1\" class=\"dataframe\">\n  <thead>\n    <tr style=\"text-align: right;\">\n      <th></th>\n      <th></th>\n      <th>event-id</th>\n      <th>visible</th>\n      <th>lon</th>\n      <th>lat</th>\n      <th>sensor-type</th>\n      <th>individual-taxon-canonical-name</th>\n      <th>individual-local-identifier</th>\n      <th>study-name</th>\n      <th>Distance_prev_to_curr</th>\n      <th>Distance_start_to_curr</th>\n      <th>Speed_prev_to_curr</th>\n    </tr>\n    <tr>\n      <th>DateTime</th>\n      <th>traj_id</th>\n      <th></th>\n      <th></th>\n      <th></th>\n      <th></th>\n      <th></th>\n      <th></th>\n      <th></th>\n      <th></th>\n      <th></th>\n      <th></th>\n      <th></th>\n    </tr>\n  </thead>\n  <tbody>\n    <tr>\n      <th>2009-08-15 15:00:00</th>\n      <th>91733</th>\n      <td>1082636186</td>\n      <td>True</td>\n      <td>7.91883</td>\n      <td>54.18600</td>\n      <td>gps</td>\n      <td>Larus fuscus</td>\n      <td>91733A</td>\n      <td>Navigation experiments in lesser black-backed ...</td>\n      <td>NaN</td>\n      <td>NaN</td>\n      <td>NaN</td>\n    </tr>\n    <tr>\n      <th>2009-08-15 21:00:00</th>\n      <th>91733</th>\n      <td>1082636187</td>\n      <td>True</td>\n      <td>7.91917</td>\n      <td>54.18567</td>\n      <td>gps</td>\n      <td>Larus fuscus</td>\n      <td>91733A</td>\n      <td>Navigation experiments in lesser black-backed ...</td>\n      <td>42.847231</td>\n      <td>42.847231</td>\n      <td>0.001984</td>\n    </tr>\n    <tr>\n      <th>2009-08-16 06:00:00</th>\n      <th>91733</th>\n      <td>1082636188</td>\n      <td>True</td>\n      <td>7.91500</td>\n      <td>54.18533</td>\n      <td>gps</td>\n      <td>Larus fuscus</td>\n      <td>91733A</td>\n      <td>Navigation experiments in lesser black-backed ...</td>\n      <td>273.951247</td>\n      <td>260.103940</td>\n      <td>0.008455</td>\n    </tr>\n    <tr>\n      <th>2009-08-16 09:00:00</th>\n      <th>91733</th>\n      <td>1082636189</td>\n      <td>True</td>\n      <td>7.91917</td>\n      <td>54.18583</td>\n      <td>gps</td>\n      <td>Larus fuscus</td>\n      <td>91733A</td>\n      <td>Navigation experiments in lesser black-backed ...</td>\n      <td>276.967082</td>\n      <td>29.098770</td>\n      <td>0.025645</td>\n    </tr>\n    <tr>\n      <th>2009-08-16 15:00:00</th>\n      <th>91733</th>\n      <td>1082636190</td>\n      <td>True</td>\n      <td>8.64117</td>\n      <td>54.33383</td>\n      <td>gps</td>\n      <td>Larus fuscus</td>\n      <td>91733A</td>\n      <td>Navigation experiments in lesser black-backed ...</td>\n      <td>49697.545831</td>\n      <td>49712.038359</td>\n      <td>2.300812</td>\n    </tr>\n  </tbody>\n</table>\n</div>"
     },
     "execution_count": 19,
     "metadata": {},
     "output_type": "execute_result"
    }
   ],
   "source": [
    "%%time\n",
    "\n",
    "# Now lets calculate the speed between 2 consecutive\n",
    "# points in the seagulls dataset.\n",
    "gulls = spatial.create_speed_from_prev_column(gulls)\n",
    "gulls.head()"
   ],
   "metadata": {
    "collapsed": false,
    "pycharm": {
     "name": "#%%\n"
    }
   }
  },
  {
   "cell_type": "code",
   "execution_count": 20,
   "outputs": [
    {
     "name": "stdout",
     "output_type": "stream",
     "text": [
      "CPU times: user 29.5 ms, sys: 0 ns, total: 29.5 ms\n",
      "Wall time: 28.1 ms\n"
     ]
    },
    {
     "data": {
      "text/plain": "                                   lat         lon  Distance_prev_to_curr  \\\nDateTime            traj_id                                                 \n2008-10-23 16:53:05 1        39.984094  116.319236                    NaN   \n2008-10-23 16:53:06 1        39.984198  116.319322              13.690153   \n2008-10-23 05:53:11 1        39.984224  116.319402               7.403788   \n2008-10-23 05:53:16 1        39.984211  116.319389               1.821083   \n2008-10-23 05:53:21 1        39.984217  116.319422               2.889671   \n\n                             Distance_start_to_curr  Distance_to_(0, 0)  \\\nDateTime            traj_id                                               \n2008-10-23 16:53:05 1                           NaN        1.221587e+07   \n2008-10-23 16:53:06 1                     13.690153        1.221587e+07   \n2008-10-23 05:53:11 1                     20.223428        1.221588e+07   \n2008-10-23 05:53:16 1                     18.416895        1.221588e+07   \n2008-10-23 05:53:21 1                     20.933073        1.221588e+07   \n\n                             Within_15000000_m_from_(0, 0)  \\\nDateTime            traj_id                                  \n2008-10-23 16:53:05 1                                 True   \n2008-10-23 16:53:06 1                                 True   \n2008-10-23 05:53:11 1                                 True   \n2008-10-23 05:53:16 1                                 True   \n2008-10-23 05:53:21 1                                 True   \n\n                             Speed_prev_to_curr  Acceleration_prev_to_curr  \nDateTime            traj_id                                                 \n2008-10-23 16:53:05 1                       NaN                        NaN  \n2008-10-23 16:53:06 1                 13.690153                        NaN  \n2008-10-23 05:53:11 1                  0.000158                  -0.000292  \n2008-10-23 05:53:16 1                  0.364217                   0.072812  \n2008-10-23 05:53:21 1                  0.577934                   0.042744  ",
      "text/html": "<div>\n<style scoped>\n    .dataframe tbody tr th:only-of-type {\n        vertical-align: middle;\n    }\n\n    .dataframe tbody tr th {\n        vertical-align: top;\n    }\n\n    .dataframe thead th {\n        text-align: right;\n    }\n</style>\n<table border=\"1\" class=\"dataframe\">\n  <thead>\n    <tr style=\"text-align: right;\">\n      <th></th>\n      <th></th>\n      <th>lat</th>\n      <th>lon</th>\n      <th>Distance_prev_to_curr</th>\n      <th>Distance_start_to_curr</th>\n      <th>Distance_to_(0, 0)</th>\n      <th>Within_15000000_m_from_(0, 0)</th>\n      <th>Speed_prev_to_curr</th>\n      <th>Acceleration_prev_to_curr</th>\n    </tr>\n    <tr>\n      <th>DateTime</th>\n      <th>traj_id</th>\n      <th></th>\n      <th></th>\n      <th></th>\n      <th></th>\n      <th></th>\n      <th></th>\n      <th></th>\n      <th></th>\n    </tr>\n  </thead>\n  <tbody>\n    <tr>\n      <th>2008-10-23 16:53:05</th>\n      <th>1</th>\n      <td>39.984094</td>\n      <td>116.319236</td>\n      <td>NaN</td>\n      <td>NaN</td>\n      <td>1.221587e+07</td>\n      <td>True</td>\n      <td>NaN</td>\n      <td>NaN</td>\n    </tr>\n    <tr>\n      <th>2008-10-23 16:53:06</th>\n      <th>1</th>\n      <td>39.984198</td>\n      <td>116.319322</td>\n      <td>13.690153</td>\n      <td>13.690153</td>\n      <td>1.221587e+07</td>\n      <td>True</td>\n      <td>13.690153</td>\n      <td>NaN</td>\n    </tr>\n    <tr>\n      <th>2008-10-23 05:53:11</th>\n      <th>1</th>\n      <td>39.984224</td>\n      <td>116.319402</td>\n      <td>7.403788</td>\n      <td>20.223428</td>\n      <td>1.221588e+07</td>\n      <td>True</td>\n      <td>0.000158</td>\n      <td>-0.000292</td>\n    </tr>\n    <tr>\n      <th>2008-10-23 05:53:16</th>\n      <th>1</th>\n      <td>39.984211</td>\n      <td>116.319389</td>\n      <td>1.821083</td>\n      <td>18.416895</td>\n      <td>1.221588e+07</td>\n      <td>True</td>\n      <td>0.364217</td>\n      <td>0.072812</td>\n    </tr>\n    <tr>\n      <th>2008-10-23 05:53:21</th>\n      <th>1</th>\n      <td>39.984217</td>\n      <td>116.319422</td>\n      <td>2.889671</td>\n      <td>20.933073</td>\n      <td>1.221588e+07</td>\n      <td>True</td>\n      <td>0.577934</td>\n      <td>0.042744</td>\n    </tr>\n  </tbody>\n</table>\n</div>"
     },
     "execution_count": 20,
     "metadata": {},
     "output_type": "execute_result"
    }
   ],
   "source": [
    "%%time\n",
    "\n",
    "# Now lets check the acceleration of the object\n",
    "# between 2 consecutive points.\n",
    "# First, lets check for the geolife dataset.\n",
    "geolife = spatial.create_acceleration_from_prev_column(geolife)\n",
    "geolife.head()"
   ],
   "metadata": {
    "collapsed": false,
    "pycharm": {
     "name": "#%%\n"
    }
   }
  },
  {
   "cell_type": "code",
   "execution_count": 21,
   "outputs": [
    {
     "name": "stdout",
     "output_type": "stream",
     "text": [
      "CPU times: user 17.4 ms, sys: 0 ns, total: 17.4 ms\n",
      "Wall time: 16.4 ms\n"
     ]
    },
    {
     "data": {
      "text/plain": "                               event-id  visible      lon       lat  \\\nDateTime            traj_id                                           \n2009-08-15 15:00:00 91733    1082636186     True  7.91883  54.18600   \n2009-08-15 21:00:00 91733    1082636187     True  7.91917  54.18567   \n2009-08-16 06:00:00 91733    1082636188     True  7.91500  54.18533   \n2009-08-16 09:00:00 91733    1082636189     True  7.91917  54.18583   \n2009-08-16 15:00:00 91733    1082636190     True  8.64117  54.33383   \n\n                            sensor-type individual-taxon-canonical-name  \\\nDateTime            traj_id                                               \n2009-08-15 15:00:00 91733           gps                    Larus fuscus   \n2009-08-15 21:00:00 91733           gps                    Larus fuscus   \n2009-08-16 06:00:00 91733           gps                    Larus fuscus   \n2009-08-16 09:00:00 91733           gps                    Larus fuscus   \n2009-08-16 15:00:00 91733           gps                    Larus fuscus   \n\n                            individual-local-identifier  \\\nDateTime            traj_id                               \n2009-08-15 15:00:00 91733                        91733A   \n2009-08-15 21:00:00 91733                        91733A   \n2009-08-16 06:00:00 91733                        91733A   \n2009-08-16 09:00:00 91733                        91733A   \n2009-08-16 15:00:00 91733                        91733A   \n\n                                                                    study-name  \\\nDateTime            traj_id                                                      \n2009-08-15 15:00:00 91733    Navigation experiments in lesser black-backed ...   \n2009-08-15 21:00:00 91733    Navigation experiments in lesser black-backed ...   \n2009-08-16 06:00:00 91733    Navigation experiments in lesser black-backed ...   \n2009-08-16 09:00:00 91733    Navigation experiments in lesser black-backed ...   \n2009-08-16 15:00:00 91733    Navigation experiments in lesser black-backed ...   \n\n                             Distance_prev_to_curr  Distance_start_to_curr  \\\nDateTime            traj_id                                                  \n2009-08-15 15:00:00 91733                      NaN                     NaN   \n2009-08-15 21:00:00 91733                42.847231               42.847231   \n2009-08-16 06:00:00 91733               273.951247              260.103940   \n2009-08-16 09:00:00 91733               276.967082               29.098770   \n2009-08-16 15:00:00 91733             49697.545831            49712.038359   \n\n                             Speed_prev_to_curr  Acceleration_prev_to_curr  \nDateTime            traj_id                                                 \n2009-08-15 15:00:00 91733                   NaN                        NaN  \n2009-08-15 21:00:00 91733              0.001984                        NaN  \n2009-08-16 06:00:00 91733              0.008455               1.997413e-07  \n2009-08-16 09:00:00 91733              0.025645               1.591650e-06  \n2009-08-16 15:00:00 91733              2.300812               1.053318e-04  ",
      "text/html": "<div>\n<style scoped>\n    .dataframe tbody tr th:only-of-type {\n        vertical-align: middle;\n    }\n\n    .dataframe tbody tr th {\n        vertical-align: top;\n    }\n\n    .dataframe thead th {\n        text-align: right;\n    }\n</style>\n<table border=\"1\" class=\"dataframe\">\n  <thead>\n    <tr style=\"text-align: right;\">\n      <th></th>\n      <th></th>\n      <th>event-id</th>\n      <th>visible</th>\n      <th>lon</th>\n      <th>lat</th>\n      <th>sensor-type</th>\n      <th>individual-taxon-canonical-name</th>\n      <th>individual-local-identifier</th>\n      <th>study-name</th>\n      <th>Distance_prev_to_curr</th>\n      <th>Distance_start_to_curr</th>\n      <th>Speed_prev_to_curr</th>\n      <th>Acceleration_prev_to_curr</th>\n    </tr>\n    <tr>\n      <th>DateTime</th>\n      <th>traj_id</th>\n      <th></th>\n      <th></th>\n      <th></th>\n      <th></th>\n      <th></th>\n      <th></th>\n      <th></th>\n      <th></th>\n      <th></th>\n      <th></th>\n      <th></th>\n      <th></th>\n    </tr>\n  </thead>\n  <tbody>\n    <tr>\n      <th>2009-08-15 15:00:00</th>\n      <th>91733</th>\n      <td>1082636186</td>\n      <td>True</td>\n      <td>7.91883</td>\n      <td>54.18600</td>\n      <td>gps</td>\n      <td>Larus fuscus</td>\n      <td>91733A</td>\n      <td>Navigation experiments in lesser black-backed ...</td>\n      <td>NaN</td>\n      <td>NaN</td>\n      <td>NaN</td>\n      <td>NaN</td>\n    </tr>\n    <tr>\n      <th>2009-08-15 21:00:00</th>\n      <th>91733</th>\n      <td>1082636187</td>\n      <td>True</td>\n      <td>7.91917</td>\n      <td>54.18567</td>\n      <td>gps</td>\n      <td>Larus fuscus</td>\n      <td>91733A</td>\n      <td>Navigation experiments in lesser black-backed ...</td>\n      <td>42.847231</td>\n      <td>42.847231</td>\n      <td>0.001984</td>\n      <td>NaN</td>\n    </tr>\n    <tr>\n      <th>2009-08-16 06:00:00</th>\n      <th>91733</th>\n      <td>1082636188</td>\n      <td>True</td>\n      <td>7.91500</td>\n      <td>54.18533</td>\n      <td>gps</td>\n      <td>Larus fuscus</td>\n      <td>91733A</td>\n      <td>Navigation experiments in lesser black-backed ...</td>\n      <td>273.951247</td>\n      <td>260.103940</td>\n      <td>0.008455</td>\n      <td>1.997413e-07</td>\n    </tr>\n    <tr>\n      <th>2009-08-16 09:00:00</th>\n      <th>91733</th>\n      <td>1082636189</td>\n      <td>True</td>\n      <td>7.91917</td>\n      <td>54.18583</td>\n      <td>gps</td>\n      <td>Larus fuscus</td>\n      <td>91733A</td>\n      <td>Navigation experiments in lesser black-backed ...</td>\n      <td>276.967082</td>\n      <td>29.098770</td>\n      <td>0.025645</td>\n      <td>1.591650e-06</td>\n    </tr>\n    <tr>\n      <th>2009-08-16 15:00:00</th>\n      <th>91733</th>\n      <td>1082636190</td>\n      <td>True</td>\n      <td>8.64117</td>\n      <td>54.33383</td>\n      <td>gps</td>\n      <td>Larus fuscus</td>\n      <td>91733A</td>\n      <td>Navigation experiments in lesser black-backed ...</td>\n      <td>49697.545831</td>\n      <td>49712.038359</td>\n      <td>2.300812</td>\n      <td>1.053318e-04</td>\n    </tr>\n  </tbody>\n</table>\n</div>"
     },
     "execution_count": 21,
     "metadata": {},
     "output_type": "execute_result"
    }
   ],
   "source": [
    "%%time\n",
    "\n",
    "# Now lets check the acceleration of the gulls dataset.\n",
    "gulls = spatial.create_acceleration_from_prev_column(gulls)\n",
    "gulls.head()"
   ],
   "metadata": {
    "collapsed": false,
    "pycharm": {
     "name": "#%%\n"
    }
   }
  },
  {
   "cell_type": "code",
   "execution_count": 22,
   "outputs": [
    {
     "name": "stdout",
     "output_type": "stream",
     "text": [
      "CPU times: user 16.1 ms, sys: 4 µs, total: 16.1 ms\n",
      "Wall time: 14.6 ms\n"
     ]
    },
    {
     "data": {
      "text/plain": "                                             Name      Date  Time Event  \\\nDateTime            traj_id                                               \n1851-07-05 12:00:00 AL021851              UNNAMED  18510705  1200         \n1851-07-10 12:00:00 AL031851              UNNAMED  18510710  1200         \n1853-08-05 12:00:00 AL011853              UNNAMED  18530805  1200         \n1853-08-10 12:00:00 AL021853              UNNAMED  18530810  1200         \n1853-09-21 12:00:00 AL051853              UNNAMED  18530921  1200         \n\n                             Status   lat   lon  Maximum Wind  \\\nDateTime            traj_id                                     \n1851-07-05 12:00:00 AL021851     HU  22.2 -97.6            80   \n1851-07-10 12:00:00 AL031851     TS  12.0 -60.0            50   \n1853-08-05 12:00:00 AL011853     TS  32.5 -69.0            50   \n1853-08-10 12:00:00 AL021853     TS  12.0 -60.0            40   \n1853-09-21 12:00:00 AL051853     TS  20.0 -95.0            50   \n\n                              Minimum Pressure  Low Wind NE  ...  \\\nDateTime            traj_id                                  ...   \n1851-07-05 12:00:00 AL021851              -999         -999  ...   \n1851-07-10 12:00:00 AL031851              -999         -999  ...   \n1853-08-05 12:00:00 AL011853              -999         -999  ...   \n1853-08-10 12:00:00 AL021853              -999         -999  ...   \n1853-09-21 12:00:00 AL051853              -999         -999  ...   \n\n                              Moderate Wind SW  Moderate Wind NW  \\\nDateTime            traj_id                                        \n1851-07-05 12:00:00 AL021851              -999              -999   \n1851-07-10 12:00:00 AL031851              -999              -999   \n1853-08-05 12:00:00 AL011853              -999              -999   \n1853-08-10 12:00:00 AL021853              -999              -999   \n1853-09-21 12:00:00 AL051853              -999              -999   \n\n                              High Wind NE  High Wind SE  High Wind SW  \\\nDateTime            traj_id                                              \n1851-07-05 12:00:00 AL021851          -999          -999          -999   \n1851-07-10 12:00:00 AL031851          -999          -999          -999   \n1853-08-05 12:00:00 AL011853          -999          -999          -999   \n1853-08-10 12:00:00 AL021853          -999          -999          -999   \n1853-09-21 12:00:00 AL051853          -999          -999          -999   \n\n                              High Wind NW  Distance_prev_to_curr  \\\nDateTime            traj_id                                         \n1851-07-05 12:00:00 AL021851          -999                    NaN   \n1851-07-10 12:00:00 AL031851          -999                    NaN   \n1853-08-05 12:00:00 AL011853          -999                    NaN   \n1853-08-10 12:00:00 AL021853          -999                    NaN   \n1853-09-21 12:00:00 AL051853          -999                    NaN   \n\n                              Distance_start_to_curr  Speed_prev_to_curr  \\\nDateTime            traj_id                                                \n1851-07-05 12:00:00 AL021851                     NaN                 NaN   \n1851-07-10 12:00:00 AL031851                     NaN                 NaN   \n1853-08-05 12:00:00 AL011853                     NaN                 NaN   \n1853-08-10 12:00:00 AL021853                     NaN                 NaN   \n1853-09-21 12:00:00 AL051853                     NaN                 NaN   \n\n                              Acceleration_prev_to_curr  \nDateTime            traj_id                              \n1851-07-05 12:00:00 AL021851                        NaN  \n1851-07-10 12:00:00 AL031851                        NaN  \n1853-08-05 12:00:00 AL011853                        NaN  \n1853-08-10 12:00:00 AL021853                        NaN  \n1853-09-21 12:00:00 AL051853                        NaN  \n\n[5 rows x 25 columns]",
      "text/html": "<div>\n<style scoped>\n    .dataframe tbody tr th:only-of-type {\n        vertical-align: middle;\n    }\n\n    .dataframe tbody tr th {\n        vertical-align: top;\n    }\n\n    .dataframe thead th {\n        text-align: right;\n    }\n</style>\n<table border=\"1\" class=\"dataframe\">\n  <thead>\n    <tr style=\"text-align: right;\">\n      <th></th>\n      <th></th>\n      <th>Name</th>\n      <th>Date</th>\n      <th>Time</th>\n      <th>Event</th>\n      <th>Status</th>\n      <th>lat</th>\n      <th>lon</th>\n      <th>Maximum Wind</th>\n      <th>Minimum Pressure</th>\n      <th>Low Wind NE</th>\n      <th>...</th>\n      <th>Moderate Wind SW</th>\n      <th>Moderate Wind NW</th>\n      <th>High Wind NE</th>\n      <th>High Wind SE</th>\n      <th>High Wind SW</th>\n      <th>High Wind NW</th>\n      <th>Distance_prev_to_curr</th>\n      <th>Distance_start_to_curr</th>\n      <th>Speed_prev_to_curr</th>\n      <th>Acceleration_prev_to_curr</th>\n    </tr>\n    <tr>\n      <th>DateTime</th>\n      <th>traj_id</th>\n      <th></th>\n      <th></th>\n      <th></th>\n      <th></th>\n      <th></th>\n      <th></th>\n      <th></th>\n      <th></th>\n      <th></th>\n      <th></th>\n      <th></th>\n      <th></th>\n      <th></th>\n      <th></th>\n      <th></th>\n      <th></th>\n      <th></th>\n      <th></th>\n      <th></th>\n      <th></th>\n      <th></th>\n    </tr>\n  </thead>\n  <tbody>\n    <tr>\n      <th>1851-07-05 12:00:00</th>\n      <th>AL021851</th>\n      <td>UNNAMED</td>\n      <td>18510705</td>\n      <td>1200</td>\n      <td></td>\n      <td>HU</td>\n      <td>22.2</td>\n      <td>-97.6</td>\n      <td>80</td>\n      <td>-999</td>\n      <td>-999</td>\n      <td>...</td>\n      <td>-999</td>\n      <td>-999</td>\n      <td>-999</td>\n      <td>-999</td>\n      <td>-999</td>\n      <td>-999</td>\n      <td>NaN</td>\n      <td>NaN</td>\n      <td>NaN</td>\n      <td>NaN</td>\n    </tr>\n    <tr>\n      <th>1851-07-10 12:00:00</th>\n      <th>AL031851</th>\n      <td>UNNAMED</td>\n      <td>18510710</td>\n      <td>1200</td>\n      <td></td>\n      <td>TS</td>\n      <td>12.0</td>\n      <td>-60.0</td>\n      <td>50</td>\n      <td>-999</td>\n      <td>-999</td>\n      <td>...</td>\n      <td>-999</td>\n      <td>-999</td>\n      <td>-999</td>\n      <td>-999</td>\n      <td>-999</td>\n      <td>-999</td>\n      <td>NaN</td>\n      <td>NaN</td>\n      <td>NaN</td>\n      <td>NaN</td>\n    </tr>\n    <tr>\n      <th>1853-08-05 12:00:00</th>\n      <th>AL011853</th>\n      <td>UNNAMED</td>\n      <td>18530805</td>\n      <td>1200</td>\n      <td></td>\n      <td>TS</td>\n      <td>32.5</td>\n      <td>-69.0</td>\n      <td>50</td>\n      <td>-999</td>\n      <td>-999</td>\n      <td>...</td>\n      <td>-999</td>\n      <td>-999</td>\n      <td>-999</td>\n      <td>-999</td>\n      <td>-999</td>\n      <td>-999</td>\n      <td>NaN</td>\n      <td>NaN</td>\n      <td>NaN</td>\n      <td>NaN</td>\n    </tr>\n    <tr>\n      <th>1853-08-10 12:00:00</th>\n      <th>AL021853</th>\n      <td>UNNAMED</td>\n      <td>18530810</td>\n      <td>1200</td>\n      <td></td>\n      <td>TS</td>\n      <td>12.0</td>\n      <td>-60.0</td>\n      <td>40</td>\n      <td>-999</td>\n      <td>-999</td>\n      <td>...</td>\n      <td>-999</td>\n      <td>-999</td>\n      <td>-999</td>\n      <td>-999</td>\n      <td>-999</td>\n      <td>-999</td>\n      <td>NaN</td>\n      <td>NaN</td>\n      <td>NaN</td>\n      <td>NaN</td>\n    </tr>\n    <tr>\n      <th>1853-09-21 12:00:00</th>\n      <th>AL051853</th>\n      <td>UNNAMED</td>\n      <td>18530921</td>\n      <td>1200</td>\n      <td></td>\n      <td>TS</td>\n      <td>20.0</td>\n      <td>-95.0</td>\n      <td>50</td>\n      <td>-999</td>\n      <td>-999</td>\n      <td>...</td>\n      <td>-999</td>\n      <td>-999</td>\n      <td>-999</td>\n      <td>-999</td>\n      <td>-999</td>\n      <td>-999</td>\n      <td>NaN</td>\n      <td>NaN</td>\n      <td>NaN</td>\n      <td>NaN</td>\n    </tr>\n  </tbody>\n</table>\n<p>5 rows × 25 columns</p>\n</div>"
     },
     "execution_count": 22,
     "metadata": {},
     "output_type": "execute_result"
    }
   ],
   "source": [
    "%%time\n",
    "\n",
    "# Now lets check the acceleration of the atlantic dataset.\n",
    "atlantic = spatial.create_acceleration_from_prev_column(atlantic)\n",
    "atlantic.head()"
   ],
   "metadata": {
    "collapsed": false,
    "pycharm": {
     "name": "#%%\n"
    }
   }
  },
  {
   "cell_type": "code",
   "execution_count": 23,
   "outputs": [
    {
     "name": "stdout",
     "output_type": "stream",
     "text": [
      "CPU times: user 30.5 ms, sys: 3.27 ms, total: 33.8 ms\n",
      "Wall time: 31.9 ms\n"
     ]
    },
    {
     "data": {
      "text/plain": "                                   lat         lon  Distance_prev_to_curr  \\\nDateTime            traj_id                                                 \n2008-10-23 16:53:05 1        39.984094  116.319236                    NaN   \n2008-10-23 16:53:06 1        39.984198  116.319322              13.690153   \n2008-10-23 05:53:11 1        39.984224  116.319402               7.403788   \n2008-10-23 05:53:16 1        39.984211  116.319389               1.821083   \n2008-10-23 05:53:21 1        39.984217  116.319422               2.889671   \n\n                             Distance_start_to_curr  Distance_to_(0, 0)  \\\nDateTime            traj_id                                               \n2008-10-23 16:53:05 1                           NaN        1.221587e+07   \n2008-10-23 16:53:06 1                     13.690153        1.221587e+07   \n2008-10-23 05:53:11 1                     20.223428        1.221588e+07   \n2008-10-23 05:53:16 1                     18.416895        1.221588e+07   \n2008-10-23 05:53:21 1                     20.933073        1.221588e+07   \n\n                             Within_15000000_m_from_(0, 0)  \\\nDateTime            traj_id                                  \n2008-10-23 16:53:05 1                                 True   \n2008-10-23 16:53:06 1                                 True   \n2008-10-23 05:53:11 1                                 True   \n2008-10-23 05:53:16 1                                 True   \n2008-10-23 05:53:21 1                                 True   \n\n                             Speed_prev_to_curr  Acceleration_prev_to_curr  \\\nDateTime            traj_id                                                  \n2008-10-23 16:53:05 1                       NaN                        NaN   \n2008-10-23 16:53:06 1                 13.690153                        NaN   \n2008-10-23 05:53:11 1                  0.000158                  -0.000292   \n2008-10-23 05:53:16 1                  0.364217                   0.072812   \n2008-10-23 05:53:21 1                  0.577934                   0.042744   \n\n                             jerk_prev_to_curr  \nDateTime            traj_id                     \n2008-10-23 16:53:05 1                      NaN  \n2008-10-23 16:53:06 1                      NaN  \n2008-10-23 05:53:11 1                      NaN  \n2008-10-23 05:53:16 1                 0.014621  \n2008-10-23 05:53:21 1                -0.006014  ",
      "text/html": "<div>\n<style scoped>\n    .dataframe tbody tr th:only-of-type {\n        vertical-align: middle;\n    }\n\n    .dataframe tbody tr th {\n        vertical-align: top;\n    }\n\n    .dataframe thead th {\n        text-align: right;\n    }\n</style>\n<table border=\"1\" class=\"dataframe\">\n  <thead>\n    <tr style=\"text-align: right;\">\n      <th></th>\n      <th></th>\n      <th>lat</th>\n      <th>lon</th>\n      <th>Distance_prev_to_curr</th>\n      <th>Distance_start_to_curr</th>\n      <th>Distance_to_(0, 0)</th>\n      <th>Within_15000000_m_from_(0, 0)</th>\n      <th>Speed_prev_to_curr</th>\n      <th>Acceleration_prev_to_curr</th>\n      <th>jerk_prev_to_curr</th>\n    </tr>\n    <tr>\n      <th>DateTime</th>\n      <th>traj_id</th>\n      <th></th>\n      <th></th>\n      <th></th>\n      <th></th>\n      <th></th>\n      <th></th>\n      <th></th>\n      <th></th>\n      <th></th>\n    </tr>\n  </thead>\n  <tbody>\n    <tr>\n      <th>2008-10-23 16:53:05</th>\n      <th>1</th>\n      <td>39.984094</td>\n      <td>116.319236</td>\n      <td>NaN</td>\n      <td>NaN</td>\n      <td>1.221587e+07</td>\n      <td>True</td>\n      <td>NaN</td>\n      <td>NaN</td>\n      <td>NaN</td>\n    </tr>\n    <tr>\n      <th>2008-10-23 16:53:06</th>\n      <th>1</th>\n      <td>39.984198</td>\n      <td>116.319322</td>\n      <td>13.690153</td>\n      <td>13.690153</td>\n      <td>1.221587e+07</td>\n      <td>True</td>\n      <td>13.690153</td>\n      <td>NaN</td>\n      <td>NaN</td>\n    </tr>\n    <tr>\n      <th>2008-10-23 05:53:11</th>\n      <th>1</th>\n      <td>39.984224</td>\n      <td>116.319402</td>\n      <td>7.403788</td>\n      <td>20.223428</td>\n      <td>1.221588e+07</td>\n      <td>True</td>\n      <td>0.000158</td>\n      <td>-0.000292</td>\n      <td>NaN</td>\n    </tr>\n    <tr>\n      <th>2008-10-23 05:53:16</th>\n      <th>1</th>\n      <td>39.984211</td>\n      <td>116.319389</td>\n      <td>1.821083</td>\n      <td>18.416895</td>\n      <td>1.221588e+07</td>\n      <td>True</td>\n      <td>0.364217</td>\n      <td>0.072812</td>\n      <td>0.014621</td>\n    </tr>\n    <tr>\n      <th>2008-10-23 05:53:21</th>\n      <th>1</th>\n      <td>39.984217</td>\n      <td>116.319422</td>\n      <td>2.889671</td>\n      <td>20.933073</td>\n      <td>1.221588e+07</td>\n      <td>True</td>\n      <td>0.577934</td>\n      <td>0.042744</td>\n      <td>-0.006014</td>\n    </tr>\n  </tbody>\n</table>\n</div>"
     },
     "execution_count": 23,
     "metadata": {},
     "output_type": "execute_result"
    }
   ],
   "source": [
    "%%time\n",
    "\n",
    "# Now lets check the jerk of the object between 2 consecutive\n",
    "# points.\n",
    "# First, we will do it for the geolife dataset.\n",
    "geolife = spatial.create_jerk_from_prev_column(geolife)\n",
    "geolife.head()"
   ],
   "metadata": {
    "collapsed": false,
    "pycharm": {
     "name": "#%%\n"
    }
   }
  },
  {
   "cell_type": "code",
   "execution_count": 24,
   "outputs": [
    {
     "name": "stdout",
     "output_type": "stream",
     "text": [
      "CPU times: user 14.9 ms, sys: 0 ns, total: 14.9 ms\n",
      "Wall time: 13.8 ms\n"
     ]
    },
    {
     "data": {
      "text/plain": "                                             Name      Date  Time Event  \\\nDateTime            traj_id                                               \n1851-07-05 12:00:00 AL021851              UNNAMED  18510705  1200         \n1851-07-10 12:00:00 AL031851              UNNAMED  18510710  1200         \n1853-08-05 12:00:00 AL011853              UNNAMED  18530805  1200         \n1853-08-10 12:00:00 AL021853              UNNAMED  18530810  1200         \n1853-09-21 12:00:00 AL051853              UNNAMED  18530921  1200         \n\n                             Status   lat   lon  Maximum Wind  \\\nDateTime            traj_id                                     \n1851-07-05 12:00:00 AL021851     HU  22.2 -97.6            80   \n1851-07-10 12:00:00 AL031851     TS  12.0 -60.0            50   \n1853-08-05 12:00:00 AL011853     TS  32.5 -69.0            50   \n1853-08-10 12:00:00 AL021853     TS  12.0 -60.0            40   \n1853-09-21 12:00:00 AL051853     TS  20.0 -95.0            50   \n\n                              Minimum Pressure  Low Wind NE  ...  \\\nDateTime            traj_id                                  ...   \n1851-07-05 12:00:00 AL021851              -999         -999  ...   \n1851-07-10 12:00:00 AL031851              -999         -999  ...   \n1853-08-05 12:00:00 AL011853              -999         -999  ...   \n1853-08-10 12:00:00 AL021853              -999         -999  ...   \n1853-09-21 12:00:00 AL051853              -999         -999  ...   \n\n                              Moderate Wind NW  High Wind NE  High Wind SE  \\\nDateTime            traj_id                                                  \n1851-07-05 12:00:00 AL021851              -999          -999          -999   \n1851-07-10 12:00:00 AL031851              -999          -999          -999   \n1853-08-05 12:00:00 AL011853              -999          -999          -999   \n1853-08-10 12:00:00 AL021853              -999          -999          -999   \n1853-09-21 12:00:00 AL051853              -999          -999          -999   \n\n                              High Wind SW  High Wind NW  \\\nDateTime            traj_id                                \n1851-07-05 12:00:00 AL021851          -999          -999   \n1851-07-10 12:00:00 AL031851          -999          -999   \n1853-08-05 12:00:00 AL011853          -999          -999   \n1853-08-10 12:00:00 AL021853          -999          -999   \n1853-09-21 12:00:00 AL051853          -999          -999   \n\n                              Distance_prev_to_curr  Distance_start_to_curr  \\\nDateTime            traj_id                                                   \n1851-07-05 12:00:00 AL021851                    NaN                     NaN   \n1851-07-10 12:00:00 AL031851                    NaN                     NaN   \n1853-08-05 12:00:00 AL011853                    NaN                     NaN   \n1853-08-10 12:00:00 AL021853                    NaN                     NaN   \n1853-09-21 12:00:00 AL051853                    NaN                     NaN   \n\n                              Speed_prev_to_curr  Acceleration_prev_to_curr  \\\nDateTime            traj_id                                                   \n1851-07-05 12:00:00 AL021851                 NaN                        NaN   \n1851-07-10 12:00:00 AL031851                 NaN                        NaN   \n1853-08-05 12:00:00 AL011853                 NaN                        NaN   \n1853-08-10 12:00:00 AL021853                 NaN                        NaN   \n1853-09-21 12:00:00 AL051853                 NaN                        NaN   \n\n                              jerk_prev_to_curr  \nDateTime            traj_id                      \n1851-07-05 12:00:00 AL021851                NaN  \n1851-07-10 12:00:00 AL031851                NaN  \n1853-08-05 12:00:00 AL011853                NaN  \n1853-08-10 12:00:00 AL021853                NaN  \n1853-09-21 12:00:00 AL051853                NaN  \n\n[5 rows x 26 columns]",
      "text/html": "<div>\n<style scoped>\n    .dataframe tbody tr th:only-of-type {\n        vertical-align: middle;\n    }\n\n    .dataframe tbody tr th {\n        vertical-align: top;\n    }\n\n    .dataframe thead th {\n        text-align: right;\n    }\n</style>\n<table border=\"1\" class=\"dataframe\">\n  <thead>\n    <tr style=\"text-align: right;\">\n      <th></th>\n      <th></th>\n      <th>Name</th>\n      <th>Date</th>\n      <th>Time</th>\n      <th>Event</th>\n      <th>Status</th>\n      <th>lat</th>\n      <th>lon</th>\n      <th>Maximum Wind</th>\n      <th>Minimum Pressure</th>\n      <th>Low Wind NE</th>\n      <th>...</th>\n      <th>Moderate Wind NW</th>\n      <th>High Wind NE</th>\n      <th>High Wind SE</th>\n      <th>High Wind SW</th>\n      <th>High Wind NW</th>\n      <th>Distance_prev_to_curr</th>\n      <th>Distance_start_to_curr</th>\n      <th>Speed_prev_to_curr</th>\n      <th>Acceleration_prev_to_curr</th>\n      <th>jerk_prev_to_curr</th>\n    </tr>\n    <tr>\n      <th>DateTime</th>\n      <th>traj_id</th>\n      <th></th>\n      <th></th>\n      <th></th>\n      <th></th>\n      <th></th>\n      <th></th>\n      <th></th>\n      <th></th>\n      <th></th>\n      <th></th>\n      <th></th>\n      <th></th>\n      <th></th>\n      <th></th>\n      <th></th>\n      <th></th>\n      <th></th>\n      <th></th>\n      <th></th>\n      <th></th>\n      <th></th>\n    </tr>\n  </thead>\n  <tbody>\n    <tr>\n      <th>1851-07-05 12:00:00</th>\n      <th>AL021851</th>\n      <td>UNNAMED</td>\n      <td>18510705</td>\n      <td>1200</td>\n      <td></td>\n      <td>HU</td>\n      <td>22.2</td>\n      <td>-97.6</td>\n      <td>80</td>\n      <td>-999</td>\n      <td>-999</td>\n      <td>...</td>\n      <td>-999</td>\n      <td>-999</td>\n      <td>-999</td>\n      <td>-999</td>\n      <td>-999</td>\n      <td>NaN</td>\n      <td>NaN</td>\n      <td>NaN</td>\n      <td>NaN</td>\n      <td>NaN</td>\n    </tr>\n    <tr>\n      <th>1851-07-10 12:00:00</th>\n      <th>AL031851</th>\n      <td>UNNAMED</td>\n      <td>18510710</td>\n      <td>1200</td>\n      <td></td>\n      <td>TS</td>\n      <td>12.0</td>\n      <td>-60.0</td>\n      <td>50</td>\n      <td>-999</td>\n      <td>-999</td>\n      <td>...</td>\n      <td>-999</td>\n      <td>-999</td>\n      <td>-999</td>\n      <td>-999</td>\n      <td>-999</td>\n      <td>NaN</td>\n      <td>NaN</td>\n      <td>NaN</td>\n      <td>NaN</td>\n      <td>NaN</td>\n    </tr>\n    <tr>\n      <th>1853-08-05 12:00:00</th>\n      <th>AL011853</th>\n      <td>UNNAMED</td>\n      <td>18530805</td>\n      <td>1200</td>\n      <td></td>\n      <td>TS</td>\n      <td>32.5</td>\n      <td>-69.0</td>\n      <td>50</td>\n      <td>-999</td>\n      <td>-999</td>\n      <td>...</td>\n      <td>-999</td>\n      <td>-999</td>\n      <td>-999</td>\n      <td>-999</td>\n      <td>-999</td>\n      <td>NaN</td>\n      <td>NaN</td>\n      <td>NaN</td>\n      <td>NaN</td>\n      <td>NaN</td>\n    </tr>\n    <tr>\n      <th>1853-08-10 12:00:00</th>\n      <th>AL021853</th>\n      <td>UNNAMED</td>\n      <td>18530810</td>\n      <td>1200</td>\n      <td></td>\n      <td>TS</td>\n      <td>12.0</td>\n      <td>-60.0</td>\n      <td>40</td>\n      <td>-999</td>\n      <td>-999</td>\n      <td>...</td>\n      <td>-999</td>\n      <td>-999</td>\n      <td>-999</td>\n      <td>-999</td>\n      <td>-999</td>\n      <td>NaN</td>\n      <td>NaN</td>\n      <td>NaN</td>\n      <td>NaN</td>\n      <td>NaN</td>\n    </tr>\n    <tr>\n      <th>1853-09-21 12:00:00</th>\n      <th>AL051853</th>\n      <td>UNNAMED</td>\n      <td>18530921</td>\n      <td>1200</td>\n      <td></td>\n      <td>TS</td>\n      <td>20.0</td>\n      <td>-95.0</td>\n      <td>50</td>\n      <td>-999</td>\n      <td>-999</td>\n      <td>...</td>\n      <td>-999</td>\n      <td>-999</td>\n      <td>-999</td>\n      <td>-999</td>\n      <td>-999</td>\n      <td>NaN</td>\n      <td>NaN</td>\n      <td>NaN</td>\n      <td>NaN</td>\n      <td>NaN</td>\n    </tr>\n  </tbody>\n</table>\n<p>5 rows × 26 columns</p>\n</div>"
     },
     "execution_count": 24,
     "metadata": {},
     "output_type": "execute_result"
    }
   ],
   "source": [
    "%%time\n",
    "\n",
    "# Now lets check the jerk for the atlantic dataset.\n",
    "atlantic = spatial.create_jerk_from_prev_column(atlantic)\n",
    "atlantic.head()"
   ],
   "metadata": {
    "collapsed": false,
    "pycharm": {
     "name": "#%%\n"
    }
   }
  },
  {
   "cell_type": "code",
   "execution_count": 25,
   "outputs": [
    {
     "name": "stdout",
     "output_type": "stream",
     "text": [
      "CPU times: user 15.2 ms, sys: 415 µs, total: 15.6 ms\n",
      "Wall time: 14.6 ms\n"
     ]
    },
    {
     "data": {
      "text/plain": "                               event-id  visible      lon       lat  \\\nDateTime            traj_id                                           \n2009-08-15 15:00:00 91733    1082636186     True  7.91883  54.18600   \n2009-08-15 21:00:00 91733    1082636187     True  7.91917  54.18567   \n2009-08-16 06:00:00 91733    1082636188     True  7.91500  54.18533   \n2009-08-16 09:00:00 91733    1082636189     True  7.91917  54.18583   \n2009-08-16 15:00:00 91733    1082636190     True  8.64117  54.33383   \n\n                            sensor-type individual-taxon-canonical-name  \\\nDateTime            traj_id                                               \n2009-08-15 15:00:00 91733           gps                    Larus fuscus   \n2009-08-15 21:00:00 91733           gps                    Larus fuscus   \n2009-08-16 06:00:00 91733           gps                    Larus fuscus   \n2009-08-16 09:00:00 91733           gps                    Larus fuscus   \n2009-08-16 15:00:00 91733           gps                    Larus fuscus   \n\n                            individual-local-identifier  \\\nDateTime            traj_id                               \n2009-08-15 15:00:00 91733                        91733A   \n2009-08-15 21:00:00 91733                        91733A   \n2009-08-16 06:00:00 91733                        91733A   \n2009-08-16 09:00:00 91733                        91733A   \n2009-08-16 15:00:00 91733                        91733A   \n\n                                                                    study-name  \\\nDateTime            traj_id                                                      \n2009-08-15 15:00:00 91733    Navigation experiments in lesser black-backed ...   \n2009-08-15 21:00:00 91733    Navigation experiments in lesser black-backed ...   \n2009-08-16 06:00:00 91733    Navigation experiments in lesser black-backed ...   \n2009-08-16 09:00:00 91733    Navigation experiments in lesser black-backed ...   \n2009-08-16 15:00:00 91733    Navigation experiments in lesser black-backed ...   \n\n                             Distance_prev_to_curr  Distance_start_to_curr  \\\nDateTime            traj_id                                                  \n2009-08-15 15:00:00 91733                      NaN                     NaN   \n2009-08-15 21:00:00 91733                42.847231               42.847231   \n2009-08-16 06:00:00 91733               273.951247              260.103940   \n2009-08-16 09:00:00 91733               276.967082               29.098770   \n2009-08-16 15:00:00 91733             49697.545831            49712.038359   \n\n                             Speed_prev_to_curr  Acceleration_prev_to_curr  \\\nDateTime            traj_id                                                  \n2009-08-15 15:00:00 91733                   NaN                        NaN   \n2009-08-15 21:00:00 91733              0.001984                        NaN   \n2009-08-16 06:00:00 91733              0.008455               1.997413e-07   \n2009-08-16 09:00:00 91733              0.025645               1.591650e-06   \n2009-08-16 15:00:00 91733              2.300812               1.053318e-04   \n\n                             jerk_prev_to_curr  \nDateTime            traj_id                     \n2009-08-15 15:00:00 91733                  NaN  \n2009-08-15 21:00:00 91733                  NaN  \n2009-08-16 06:00:00 91733                  NaN  \n2009-08-16 09:00:00 91733         1.288804e-10  \n2009-08-16 15:00:00 91733         4.802785e-09  ",
      "text/html": "<div>\n<style scoped>\n    .dataframe tbody tr th:only-of-type {\n        vertical-align: middle;\n    }\n\n    .dataframe tbody tr th {\n        vertical-align: top;\n    }\n\n    .dataframe thead th {\n        text-align: right;\n    }\n</style>\n<table border=\"1\" class=\"dataframe\">\n  <thead>\n    <tr style=\"text-align: right;\">\n      <th></th>\n      <th></th>\n      <th>event-id</th>\n      <th>visible</th>\n      <th>lon</th>\n      <th>lat</th>\n      <th>sensor-type</th>\n      <th>individual-taxon-canonical-name</th>\n      <th>individual-local-identifier</th>\n      <th>study-name</th>\n      <th>Distance_prev_to_curr</th>\n      <th>Distance_start_to_curr</th>\n      <th>Speed_prev_to_curr</th>\n      <th>Acceleration_prev_to_curr</th>\n      <th>jerk_prev_to_curr</th>\n    </tr>\n    <tr>\n      <th>DateTime</th>\n      <th>traj_id</th>\n      <th></th>\n      <th></th>\n      <th></th>\n      <th></th>\n      <th></th>\n      <th></th>\n      <th></th>\n      <th></th>\n      <th></th>\n      <th></th>\n      <th></th>\n      <th></th>\n      <th></th>\n    </tr>\n  </thead>\n  <tbody>\n    <tr>\n      <th>2009-08-15 15:00:00</th>\n      <th>91733</th>\n      <td>1082636186</td>\n      <td>True</td>\n      <td>7.91883</td>\n      <td>54.18600</td>\n      <td>gps</td>\n      <td>Larus fuscus</td>\n      <td>91733A</td>\n      <td>Navigation experiments in lesser black-backed ...</td>\n      <td>NaN</td>\n      <td>NaN</td>\n      <td>NaN</td>\n      <td>NaN</td>\n      <td>NaN</td>\n    </tr>\n    <tr>\n      <th>2009-08-15 21:00:00</th>\n      <th>91733</th>\n      <td>1082636187</td>\n      <td>True</td>\n      <td>7.91917</td>\n      <td>54.18567</td>\n      <td>gps</td>\n      <td>Larus fuscus</td>\n      <td>91733A</td>\n      <td>Navigation experiments in lesser black-backed ...</td>\n      <td>42.847231</td>\n      <td>42.847231</td>\n      <td>0.001984</td>\n      <td>NaN</td>\n      <td>NaN</td>\n    </tr>\n    <tr>\n      <th>2009-08-16 06:00:00</th>\n      <th>91733</th>\n      <td>1082636188</td>\n      <td>True</td>\n      <td>7.91500</td>\n      <td>54.18533</td>\n      <td>gps</td>\n      <td>Larus fuscus</td>\n      <td>91733A</td>\n      <td>Navigation experiments in lesser black-backed ...</td>\n      <td>273.951247</td>\n      <td>260.103940</td>\n      <td>0.008455</td>\n      <td>1.997413e-07</td>\n      <td>NaN</td>\n    </tr>\n    <tr>\n      <th>2009-08-16 09:00:00</th>\n      <th>91733</th>\n      <td>1082636189</td>\n      <td>True</td>\n      <td>7.91917</td>\n      <td>54.18583</td>\n      <td>gps</td>\n      <td>Larus fuscus</td>\n      <td>91733A</td>\n      <td>Navigation experiments in lesser black-backed ...</td>\n      <td>276.967082</td>\n      <td>29.098770</td>\n      <td>0.025645</td>\n      <td>1.591650e-06</td>\n      <td>1.288804e-10</td>\n    </tr>\n    <tr>\n      <th>2009-08-16 15:00:00</th>\n      <th>91733</th>\n      <td>1082636190</td>\n      <td>True</td>\n      <td>8.64117</td>\n      <td>54.33383</td>\n      <td>gps</td>\n      <td>Larus fuscus</td>\n      <td>91733A</td>\n      <td>Navigation experiments in lesser black-backed ...</td>\n      <td>49697.545831</td>\n      <td>49712.038359</td>\n      <td>2.300812</td>\n      <td>1.053318e-04</td>\n      <td>4.802785e-09</td>\n    </tr>\n  </tbody>\n</table>\n</div>"
     },
     "execution_count": 25,
     "metadata": {},
     "output_type": "execute_result"
    }
   ],
   "source": [
    "%%time\n",
    "\n",
    "# Now, lets check the jerk for the seagulls dataset.\n",
    "gulls = spatial.create_jerk_from_prev_column(gulls)\n",
    "gulls.head()"
   ],
   "metadata": {
    "collapsed": false,
    "pycharm": {
     "name": "#%%\n"
    }
   }
  },
  {
   "cell_type": "code",
   "execution_count": 26,
   "outputs": [
    {
     "name": "stdout",
     "output_type": "stream",
     "text": [
      "CPU times: user 481 ms, sys: 107 ms, total: 588 ms\n",
      "Wall time: 1.46 s\n"
     ]
    },
    {
     "data": {
      "text/plain": "                                   lat         lon  Distance_prev_to_curr  \\\nDateTime            traj_id                                                 \n2008-10-23 16:53:05 1        39.984094  116.319236                    NaN   \n2008-10-23 16:53:06 1        39.984198  116.319322              13.690153   \n2008-10-23 05:53:11 1        39.984224  116.319402               7.403788   \n2008-10-23 05:53:16 1        39.984211  116.319389               1.821083   \n2008-10-23 05:53:21 1        39.984217  116.319422               2.889671   \n\n                             Distance_start_to_curr  Distance_to_(0, 0)  \\\nDateTime            traj_id                                               \n2008-10-23 16:53:05 1                           NaN        1.221587e+07   \n2008-10-23 16:53:06 1                     13.690153        1.221587e+07   \n2008-10-23 05:53:11 1                     20.223428        1.221588e+07   \n2008-10-23 05:53:16 1                     18.416895        1.221588e+07   \n2008-10-23 05:53:21 1                     20.933073        1.221588e+07   \n\n                             Within_15000000_m_from_(0, 0)  \\\nDateTime            traj_id                                  \n2008-10-23 16:53:05 1                                 True   \n2008-10-23 16:53:06 1                                 True   \n2008-10-23 05:53:11 1                                 True   \n2008-10-23 05:53:16 1                                 True   \n2008-10-23 05:53:21 1                                 True   \n\n                             Speed_prev_to_curr  Acceleration_prev_to_curr  \\\nDateTime            traj_id                                                  \n2008-10-23 16:53:05 1                       NaN                        NaN   \n2008-10-23 16:53:06 1                 13.690153                        NaN   \n2008-10-23 05:53:11 1                  0.000158                  -0.000292   \n2008-10-23 05:53:16 1                  0.364217                   0.072812   \n2008-10-23 05:53:21 1                  0.577934                   0.042744   \n\n                             jerk_prev_to_curr  Bearing_between_consecutive  \nDateTime            traj_id                                                  \n2008-10-23 16:53:05 1                      NaN                          NaN  \n2008-10-23 16:53:06 1                      NaN                    32.358601  \n2008-10-23 05:53:11 1                      NaN                    67.015294  \n2008-10-23 05:53:16 1                 0.014621                  -142.539885  \n2008-10-23 05:53:21 1                -0.006014                    76.651056  ",
      "text/html": "<div>\n<style scoped>\n    .dataframe tbody tr th:only-of-type {\n        vertical-align: middle;\n    }\n\n    .dataframe tbody tr th {\n        vertical-align: top;\n    }\n\n    .dataframe thead th {\n        text-align: right;\n    }\n</style>\n<table border=\"1\" class=\"dataframe\">\n  <thead>\n    <tr style=\"text-align: right;\">\n      <th></th>\n      <th></th>\n      <th>lat</th>\n      <th>lon</th>\n      <th>Distance_prev_to_curr</th>\n      <th>Distance_start_to_curr</th>\n      <th>Distance_to_(0, 0)</th>\n      <th>Within_15000000_m_from_(0, 0)</th>\n      <th>Speed_prev_to_curr</th>\n      <th>Acceleration_prev_to_curr</th>\n      <th>jerk_prev_to_curr</th>\n      <th>Bearing_between_consecutive</th>\n    </tr>\n    <tr>\n      <th>DateTime</th>\n      <th>traj_id</th>\n      <th></th>\n      <th></th>\n      <th></th>\n      <th></th>\n      <th></th>\n      <th></th>\n      <th></th>\n      <th></th>\n      <th></th>\n      <th></th>\n    </tr>\n  </thead>\n  <tbody>\n    <tr>\n      <th>2008-10-23 16:53:05</th>\n      <th>1</th>\n      <td>39.984094</td>\n      <td>116.319236</td>\n      <td>NaN</td>\n      <td>NaN</td>\n      <td>1.221587e+07</td>\n      <td>True</td>\n      <td>NaN</td>\n      <td>NaN</td>\n      <td>NaN</td>\n      <td>NaN</td>\n    </tr>\n    <tr>\n      <th>2008-10-23 16:53:06</th>\n      <th>1</th>\n      <td>39.984198</td>\n      <td>116.319322</td>\n      <td>13.690153</td>\n      <td>13.690153</td>\n      <td>1.221587e+07</td>\n      <td>True</td>\n      <td>13.690153</td>\n      <td>NaN</td>\n      <td>NaN</td>\n      <td>32.358601</td>\n    </tr>\n    <tr>\n      <th>2008-10-23 05:53:11</th>\n      <th>1</th>\n      <td>39.984224</td>\n      <td>116.319402</td>\n      <td>7.403788</td>\n      <td>20.223428</td>\n      <td>1.221588e+07</td>\n      <td>True</td>\n      <td>0.000158</td>\n      <td>-0.000292</td>\n      <td>NaN</td>\n      <td>67.015294</td>\n    </tr>\n    <tr>\n      <th>2008-10-23 05:53:16</th>\n      <th>1</th>\n      <td>39.984211</td>\n      <td>116.319389</td>\n      <td>1.821083</td>\n      <td>18.416895</td>\n      <td>1.221588e+07</td>\n      <td>True</td>\n      <td>0.364217</td>\n      <td>0.072812</td>\n      <td>0.014621</td>\n      <td>-142.539885</td>\n    </tr>\n    <tr>\n      <th>2008-10-23 05:53:21</th>\n      <th>1</th>\n      <td>39.984217</td>\n      <td>116.319422</td>\n      <td>2.889671</td>\n      <td>20.933073</td>\n      <td>1.221588e+07</td>\n      <td>True</td>\n      <td>0.577934</td>\n      <td>0.042744</td>\n      <td>-0.006014</td>\n      <td>76.651056</td>\n    </tr>\n  </tbody>\n</table>\n</div>"
     },
     "execution_count": 26,
     "metadata": {},
     "output_type": "execute_result"
    }
   ],
   "source": [
    "%%time\n",
    "\n",
    "# Now lets check the bearing between 2 consecutive\n",
    "# points.\n",
    "# First, we will do it for the geolife dataset.\n",
    "geolife = spatial.create_bearing_column(geolife)\n",
    "geolife.head()"
   ],
   "metadata": {
    "collapsed": false,
    "pycharm": {
     "name": "#%%\n"
    }
   }
  },
  {
   "cell_type": "code",
   "execution_count": 27,
   "outputs": [
    {
     "name": "stdout",
     "output_type": "stream",
     "text": [
      "CPU times: user 234 ms, sys: 178 ms, total: 413 ms\n",
      "Wall time: 435 ms\n"
     ]
    },
    {
     "data": {
      "text/plain": "                                             Name      Date  Time Event  \\\nDateTime            traj_id                                               \n1851-07-05 12:00:00 AL021851              UNNAMED  18510705  1200         \n1851-07-10 12:00:00 AL031851              UNNAMED  18510710  1200         \n1853-08-05 12:00:00 AL011853              UNNAMED  18530805  1200         \n1853-08-10 12:00:00 AL021853              UNNAMED  18530810  1200         \n1853-09-21 12:00:00 AL051853              UNNAMED  18530921  1200         \n\n                             Status   lat   lon  Maximum Wind  \\\nDateTime            traj_id                                     \n1851-07-05 12:00:00 AL021851     HU  22.2 -97.6            80   \n1851-07-10 12:00:00 AL031851     TS  12.0 -60.0            50   \n1853-08-05 12:00:00 AL011853     TS  32.5 -69.0            50   \n1853-08-10 12:00:00 AL021853     TS  12.0 -60.0            40   \n1853-09-21 12:00:00 AL051853     TS  20.0 -95.0            50   \n\n                              Minimum Pressure  Low Wind NE  ...  \\\nDateTime            traj_id                                  ...   \n1851-07-05 12:00:00 AL021851              -999         -999  ...   \n1851-07-10 12:00:00 AL031851              -999         -999  ...   \n1853-08-05 12:00:00 AL011853              -999         -999  ...   \n1853-08-10 12:00:00 AL021853              -999         -999  ...   \n1853-09-21 12:00:00 AL051853              -999         -999  ...   \n\n                              High Wind NE  High Wind SE  High Wind SW  \\\nDateTime            traj_id                                              \n1851-07-05 12:00:00 AL021851          -999          -999          -999   \n1851-07-10 12:00:00 AL031851          -999          -999          -999   \n1853-08-05 12:00:00 AL011853          -999          -999          -999   \n1853-08-10 12:00:00 AL021853          -999          -999          -999   \n1853-09-21 12:00:00 AL051853          -999          -999          -999   \n\n                              High Wind NW  Distance_prev_to_curr  \\\nDateTime            traj_id                                         \n1851-07-05 12:00:00 AL021851          -999                    NaN   \n1851-07-10 12:00:00 AL031851          -999                    NaN   \n1853-08-05 12:00:00 AL011853          -999                    NaN   \n1853-08-10 12:00:00 AL021853          -999                    NaN   \n1853-09-21 12:00:00 AL051853          -999                    NaN   \n\n                              Distance_start_to_curr  Speed_prev_to_curr  \\\nDateTime            traj_id                                                \n1851-07-05 12:00:00 AL021851                     NaN                 NaN   \n1851-07-10 12:00:00 AL031851                     NaN                 NaN   \n1853-08-05 12:00:00 AL011853                     NaN                 NaN   \n1853-08-10 12:00:00 AL021853                     NaN                 NaN   \n1853-09-21 12:00:00 AL051853                     NaN                 NaN   \n\n                              Acceleration_prev_to_curr  jerk_prev_to_curr  \\\nDateTime            traj_id                                                  \n1851-07-05 12:00:00 AL021851                        NaN                NaN   \n1851-07-10 12:00:00 AL031851                        NaN                NaN   \n1853-08-05 12:00:00 AL011853                        NaN                NaN   \n1853-08-10 12:00:00 AL021853                        NaN                NaN   \n1853-09-21 12:00:00 AL051853                        NaN                NaN   \n\n                              Bearing_between_consecutive  \nDateTime            traj_id                                \n1851-07-05 12:00:00 AL021851                          NaN  \n1851-07-10 12:00:00 AL031851                          NaN  \n1853-08-05 12:00:00 AL011853                          NaN  \n1853-08-10 12:00:00 AL021853                          NaN  \n1853-09-21 12:00:00 AL051853                          NaN  \n\n[5 rows x 27 columns]",
      "text/html": "<div>\n<style scoped>\n    .dataframe tbody tr th:only-of-type {\n        vertical-align: middle;\n    }\n\n    .dataframe tbody tr th {\n        vertical-align: top;\n    }\n\n    .dataframe thead th {\n        text-align: right;\n    }\n</style>\n<table border=\"1\" class=\"dataframe\">\n  <thead>\n    <tr style=\"text-align: right;\">\n      <th></th>\n      <th></th>\n      <th>Name</th>\n      <th>Date</th>\n      <th>Time</th>\n      <th>Event</th>\n      <th>Status</th>\n      <th>lat</th>\n      <th>lon</th>\n      <th>Maximum Wind</th>\n      <th>Minimum Pressure</th>\n      <th>Low Wind NE</th>\n      <th>...</th>\n      <th>High Wind NE</th>\n      <th>High Wind SE</th>\n      <th>High Wind SW</th>\n      <th>High Wind NW</th>\n      <th>Distance_prev_to_curr</th>\n      <th>Distance_start_to_curr</th>\n      <th>Speed_prev_to_curr</th>\n      <th>Acceleration_prev_to_curr</th>\n      <th>jerk_prev_to_curr</th>\n      <th>Bearing_between_consecutive</th>\n    </tr>\n    <tr>\n      <th>DateTime</th>\n      <th>traj_id</th>\n      <th></th>\n      <th></th>\n      <th></th>\n      <th></th>\n      <th></th>\n      <th></th>\n      <th></th>\n      <th></th>\n      <th></th>\n      <th></th>\n      <th></th>\n      <th></th>\n      <th></th>\n      <th></th>\n      <th></th>\n      <th></th>\n      <th></th>\n      <th></th>\n      <th></th>\n      <th></th>\n      <th></th>\n    </tr>\n  </thead>\n  <tbody>\n    <tr>\n      <th>1851-07-05 12:00:00</th>\n      <th>AL021851</th>\n      <td>UNNAMED</td>\n      <td>18510705</td>\n      <td>1200</td>\n      <td></td>\n      <td>HU</td>\n      <td>22.2</td>\n      <td>-97.6</td>\n      <td>80</td>\n      <td>-999</td>\n      <td>-999</td>\n      <td>...</td>\n      <td>-999</td>\n      <td>-999</td>\n      <td>-999</td>\n      <td>-999</td>\n      <td>NaN</td>\n      <td>NaN</td>\n      <td>NaN</td>\n      <td>NaN</td>\n      <td>NaN</td>\n      <td>NaN</td>\n    </tr>\n    <tr>\n      <th>1851-07-10 12:00:00</th>\n      <th>AL031851</th>\n      <td>UNNAMED</td>\n      <td>18510710</td>\n      <td>1200</td>\n      <td></td>\n      <td>TS</td>\n      <td>12.0</td>\n      <td>-60.0</td>\n      <td>50</td>\n      <td>-999</td>\n      <td>-999</td>\n      <td>...</td>\n      <td>-999</td>\n      <td>-999</td>\n      <td>-999</td>\n      <td>-999</td>\n      <td>NaN</td>\n      <td>NaN</td>\n      <td>NaN</td>\n      <td>NaN</td>\n      <td>NaN</td>\n      <td>NaN</td>\n    </tr>\n    <tr>\n      <th>1853-08-05 12:00:00</th>\n      <th>AL011853</th>\n      <td>UNNAMED</td>\n      <td>18530805</td>\n      <td>1200</td>\n      <td></td>\n      <td>TS</td>\n      <td>32.5</td>\n      <td>-69.0</td>\n      <td>50</td>\n      <td>-999</td>\n      <td>-999</td>\n      <td>...</td>\n      <td>-999</td>\n      <td>-999</td>\n      <td>-999</td>\n      <td>-999</td>\n      <td>NaN</td>\n      <td>NaN</td>\n      <td>NaN</td>\n      <td>NaN</td>\n      <td>NaN</td>\n      <td>NaN</td>\n    </tr>\n    <tr>\n      <th>1853-08-10 12:00:00</th>\n      <th>AL021853</th>\n      <td>UNNAMED</td>\n      <td>18530810</td>\n      <td>1200</td>\n      <td></td>\n      <td>TS</td>\n      <td>12.0</td>\n      <td>-60.0</td>\n      <td>40</td>\n      <td>-999</td>\n      <td>-999</td>\n      <td>...</td>\n      <td>-999</td>\n      <td>-999</td>\n      <td>-999</td>\n      <td>-999</td>\n      <td>NaN</td>\n      <td>NaN</td>\n      <td>NaN</td>\n      <td>NaN</td>\n      <td>NaN</td>\n      <td>NaN</td>\n    </tr>\n    <tr>\n      <th>1853-09-21 12:00:00</th>\n      <th>AL051853</th>\n      <td>UNNAMED</td>\n      <td>18530921</td>\n      <td>1200</td>\n      <td></td>\n      <td>TS</td>\n      <td>20.0</td>\n      <td>-95.0</td>\n      <td>50</td>\n      <td>-999</td>\n      <td>-999</td>\n      <td>...</td>\n      <td>-999</td>\n      <td>-999</td>\n      <td>-999</td>\n      <td>-999</td>\n      <td>NaN</td>\n      <td>NaN</td>\n      <td>NaN</td>\n      <td>NaN</td>\n      <td>NaN</td>\n      <td>NaN</td>\n    </tr>\n  </tbody>\n</table>\n<p>5 rows × 27 columns</p>\n</div>"
     },
     "execution_count": 27,
     "metadata": {},
     "output_type": "execute_result"
    }
   ],
   "source": [
    "%%time\n",
    "\n",
    "# Now lets check the bearing for the atlantic dataset.\n",
    "atlantic = spatial.create_bearing_column(atlantic)\n",
    "atlantic.head()"
   ],
   "metadata": {
    "collapsed": false,
    "pycharm": {
     "name": "#%%\n"
    }
   }
  },
  {
   "cell_type": "code",
   "execution_count": 28,
   "outputs": [
    {
     "name": "stdout",
     "output_type": "stream",
     "text": [
      "CPU times: user 225 ms, sys: 93.2 ms, total: 318 ms\n",
      "Wall time: 688 ms\n"
     ]
    },
    {
     "data": {
      "text/plain": "                               event-id  visible      lon       lat  \\\nDateTime            traj_id                                           \n2009-08-15 15:00:00 91733    1082636186     True  7.91883  54.18600   \n2009-08-15 21:00:00 91733    1082636187     True  7.91917  54.18567   \n2009-08-16 06:00:00 91733    1082636188     True  7.91500  54.18533   \n2009-08-16 09:00:00 91733    1082636189     True  7.91917  54.18583   \n2009-08-16 15:00:00 91733    1082636190     True  8.64117  54.33383   \n\n                            sensor-type individual-taxon-canonical-name  \\\nDateTime            traj_id                                               \n2009-08-15 15:00:00 91733           gps                    Larus fuscus   \n2009-08-15 21:00:00 91733           gps                    Larus fuscus   \n2009-08-16 06:00:00 91733           gps                    Larus fuscus   \n2009-08-16 09:00:00 91733           gps                    Larus fuscus   \n2009-08-16 15:00:00 91733           gps                    Larus fuscus   \n\n                            individual-local-identifier  \\\nDateTime            traj_id                               \n2009-08-15 15:00:00 91733                        91733A   \n2009-08-15 21:00:00 91733                        91733A   \n2009-08-16 06:00:00 91733                        91733A   \n2009-08-16 09:00:00 91733                        91733A   \n2009-08-16 15:00:00 91733                        91733A   \n\n                                                                    study-name  \\\nDateTime            traj_id                                                      \n2009-08-15 15:00:00 91733    Navigation experiments in lesser black-backed ...   \n2009-08-15 21:00:00 91733    Navigation experiments in lesser black-backed ...   \n2009-08-16 06:00:00 91733    Navigation experiments in lesser black-backed ...   \n2009-08-16 09:00:00 91733    Navigation experiments in lesser black-backed ...   \n2009-08-16 15:00:00 91733    Navigation experiments in lesser black-backed ...   \n\n                             Distance_prev_to_curr  Distance_start_to_curr  \\\nDateTime            traj_id                                                  \n2009-08-15 15:00:00 91733                      NaN                     NaN   \n2009-08-15 21:00:00 91733                42.847231               42.847231   \n2009-08-16 06:00:00 91733               273.951247              260.103940   \n2009-08-16 09:00:00 91733               276.967082               29.098770   \n2009-08-16 15:00:00 91733             49697.545831            49712.038359   \n\n                             Speed_prev_to_curr  Acceleration_prev_to_curr  \\\nDateTime            traj_id                                                  \n2009-08-15 15:00:00 91733                   NaN                        NaN   \n2009-08-15 21:00:00 91733              0.001984                        NaN   \n2009-08-16 06:00:00 91733              0.008455               1.997413e-07   \n2009-08-16 09:00:00 91733              0.025645               1.591650e-06   \n2009-08-16 15:00:00 91733              2.300812               1.053318e-04   \n\n                             jerk_prev_to_curr  Bearing_between_consecutive  \nDateTime            traj_id                                                  \n2009-08-15 15:00:00 91733                  NaN                          NaN  \n2009-08-15 21:00:00 91733                  NaN                   148.914497  \n2009-08-16 06:00:00 91733                  NaN                   -97.930652  \n2009-08-16 09:00:00 91733         1.288804e-10                    78.418266  \n2009-08-16 15:00:00 91733         4.802785e-09                    70.369350  ",
      "text/html": "<div>\n<style scoped>\n    .dataframe tbody tr th:only-of-type {\n        vertical-align: middle;\n    }\n\n    .dataframe tbody tr th {\n        vertical-align: top;\n    }\n\n    .dataframe thead th {\n        text-align: right;\n    }\n</style>\n<table border=\"1\" class=\"dataframe\">\n  <thead>\n    <tr style=\"text-align: right;\">\n      <th></th>\n      <th></th>\n      <th>event-id</th>\n      <th>visible</th>\n      <th>lon</th>\n      <th>lat</th>\n      <th>sensor-type</th>\n      <th>individual-taxon-canonical-name</th>\n      <th>individual-local-identifier</th>\n      <th>study-name</th>\n      <th>Distance_prev_to_curr</th>\n      <th>Distance_start_to_curr</th>\n      <th>Speed_prev_to_curr</th>\n      <th>Acceleration_prev_to_curr</th>\n      <th>jerk_prev_to_curr</th>\n      <th>Bearing_between_consecutive</th>\n    </tr>\n    <tr>\n      <th>DateTime</th>\n      <th>traj_id</th>\n      <th></th>\n      <th></th>\n      <th></th>\n      <th></th>\n      <th></th>\n      <th></th>\n      <th></th>\n      <th></th>\n      <th></th>\n      <th></th>\n      <th></th>\n      <th></th>\n      <th></th>\n      <th></th>\n    </tr>\n  </thead>\n  <tbody>\n    <tr>\n      <th>2009-08-15 15:00:00</th>\n      <th>91733</th>\n      <td>1082636186</td>\n      <td>True</td>\n      <td>7.91883</td>\n      <td>54.18600</td>\n      <td>gps</td>\n      <td>Larus fuscus</td>\n      <td>91733A</td>\n      <td>Navigation experiments in lesser black-backed ...</td>\n      <td>NaN</td>\n      <td>NaN</td>\n      <td>NaN</td>\n      <td>NaN</td>\n      <td>NaN</td>\n      <td>NaN</td>\n    </tr>\n    <tr>\n      <th>2009-08-15 21:00:00</th>\n      <th>91733</th>\n      <td>1082636187</td>\n      <td>True</td>\n      <td>7.91917</td>\n      <td>54.18567</td>\n      <td>gps</td>\n      <td>Larus fuscus</td>\n      <td>91733A</td>\n      <td>Navigation experiments in lesser black-backed ...</td>\n      <td>42.847231</td>\n      <td>42.847231</td>\n      <td>0.001984</td>\n      <td>NaN</td>\n      <td>NaN</td>\n      <td>148.914497</td>\n    </tr>\n    <tr>\n      <th>2009-08-16 06:00:00</th>\n      <th>91733</th>\n      <td>1082636188</td>\n      <td>True</td>\n      <td>7.91500</td>\n      <td>54.18533</td>\n      <td>gps</td>\n      <td>Larus fuscus</td>\n      <td>91733A</td>\n      <td>Navigation experiments in lesser black-backed ...</td>\n      <td>273.951247</td>\n      <td>260.103940</td>\n      <td>0.008455</td>\n      <td>1.997413e-07</td>\n      <td>NaN</td>\n      <td>-97.930652</td>\n    </tr>\n    <tr>\n      <th>2009-08-16 09:00:00</th>\n      <th>91733</th>\n      <td>1082636189</td>\n      <td>True</td>\n      <td>7.91917</td>\n      <td>54.18583</td>\n      <td>gps</td>\n      <td>Larus fuscus</td>\n      <td>91733A</td>\n      <td>Navigation experiments in lesser black-backed ...</td>\n      <td>276.967082</td>\n      <td>29.098770</td>\n      <td>0.025645</td>\n      <td>1.591650e-06</td>\n      <td>1.288804e-10</td>\n      <td>78.418266</td>\n    </tr>\n    <tr>\n      <th>2009-08-16 15:00:00</th>\n      <th>91733</th>\n      <td>1082636190</td>\n      <td>True</td>\n      <td>8.64117</td>\n      <td>54.33383</td>\n      <td>gps</td>\n      <td>Larus fuscus</td>\n      <td>91733A</td>\n      <td>Navigation experiments in lesser black-backed ...</td>\n      <td>49697.545831</td>\n      <td>49712.038359</td>\n      <td>2.300812</td>\n      <td>1.053318e-04</td>\n      <td>4.802785e-09</td>\n      <td>70.369350</td>\n    </tr>\n  </tbody>\n</table>\n</div>"
     },
     "execution_count": 28,
     "metadata": {},
     "output_type": "execute_result"
    }
   ],
   "source": [
    "%%time\n",
    "\n",
    "# Now lets check the bearing for the seagulls dataset.\n",
    "gulls = spatial.create_bearing_column(gulls)\n",
    "gulls.head()\n"
   ],
   "metadata": {
    "collapsed": false,
    "pycharm": {
     "name": "#%%\n"
    }
   }
  },
  {
   "cell_type": "code",
   "execution_count": 29,
   "outputs": [
    {
     "name": "stdout",
     "output_type": "stream",
     "text": [
      "CPU times: user 40.9 ms, sys: 90 µs, total: 41 ms\n",
      "Wall time: 39.6 ms\n"
     ]
    },
    {
     "data": {
      "text/plain": "                                   lat         lon  Distance_prev_to_curr  \\\nDateTime            traj_id                                                 \n2008-10-23 16:53:05 1        39.984094  116.319236                    NaN   \n2008-10-23 16:53:06 1        39.984198  116.319322              13.690153   \n2008-10-23 05:53:11 1        39.984224  116.319402               7.403788   \n2008-10-23 05:53:16 1        39.984211  116.319389               1.821083   \n2008-10-23 05:53:21 1        39.984217  116.319422               2.889671   \n\n                             Distance_start_to_curr  Distance_to_(0, 0)  \\\nDateTime            traj_id                                               \n2008-10-23 16:53:05 1                           NaN        1.221587e+07   \n2008-10-23 16:53:06 1                     13.690153        1.221587e+07   \n2008-10-23 05:53:11 1                     20.223428        1.221588e+07   \n2008-10-23 05:53:16 1                     18.416895        1.221588e+07   \n2008-10-23 05:53:21 1                     20.933073        1.221588e+07   \n\n                             Within_15000000_m_from_(0, 0)  \\\nDateTime            traj_id                                  \n2008-10-23 16:53:05 1                                 True   \n2008-10-23 16:53:06 1                                 True   \n2008-10-23 05:53:11 1                                 True   \n2008-10-23 05:53:16 1                                 True   \n2008-10-23 05:53:21 1                                 True   \n\n                             Speed_prev_to_curr  Acceleration_prev_to_curr  \\\nDateTime            traj_id                                                  \n2008-10-23 16:53:05 1                       NaN                        NaN   \n2008-10-23 16:53:06 1                 13.690153                        NaN   \n2008-10-23 05:53:11 1                  0.000158                  -0.000292   \n2008-10-23 05:53:16 1                  0.364217                   0.072812   \n2008-10-23 05:53:21 1                  0.577934                   0.042744   \n\n                             jerk_prev_to_curr  Bearing_between_consecutive  \\\nDateTime            traj_id                                                   \n2008-10-23 16:53:05 1                      NaN                          NaN   \n2008-10-23 16:53:06 1                      NaN                    32.358601   \n2008-10-23 05:53:11 1                      NaN                    67.015294   \n2008-10-23 05:53:16 1                 0.014621                  -142.539885   \n2008-10-23 05:53:21 1                -0.006014                    76.651056   \n\n                             Bearing_rate_from_prev  \nDateTime            traj_id                          \n2008-10-23 16:53:05 1                           NaN  \n2008-10-23 16:53:06 1                           NaN  \n2008-10-23 05:53:11 1                      0.000740  \n2008-10-23 05:53:16 1                    -41.911036  \n2008-10-23 05:53:21 1                     43.838188  ",
      "text/html": "<div>\n<style scoped>\n    .dataframe tbody tr th:only-of-type {\n        vertical-align: middle;\n    }\n\n    .dataframe tbody tr th {\n        vertical-align: top;\n    }\n\n    .dataframe thead th {\n        text-align: right;\n    }\n</style>\n<table border=\"1\" class=\"dataframe\">\n  <thead>\n    <tr style=\"text-align: right;\">\n      <th></th>\n      <th></th>\n      <th>lat</th>\n      <th>lon</th>\n      <th>Distance_prev_to_curr</th>\n      <th>Distance_start_to_curr</th>\n      <th>Distance_to_(0, 0)</th>\n      <th>Within_15000000_m_from_(0, 0)</th>\n      <th>Speed_prev_to_curr</th>\n      <th>Acceleration_prev_to_curr</th>\n      <th>jerk_prev_to_curr</th>\n      <th>Bearing_between_consecutive</th>\n      <th>Bearing_rate_from_prev</th>\n    </tr>\n    <tr>\n      <th>DateTime</th>\n      <th>traj_id</th>\n      <th></th>\n      <th></th>\n      <th></th>\n      <th></th>\n      <th></th>\n      <th></th>\n      <th></th>\n      <th></th>\n      <th></th>\n      <th></th>\n      <th></th>\n    </tr>\n  </thead>\n  <tbody>\n    <tr>\n      <th>2008-10-23 16:53:05</th>\n      <th>1</th>\n      <td>39.984094</td>\n      <td>116.319236</td>\n      <td>NaN</td>\n      <td>NaN</td>\n      <td>1.221587e+07</td>\n      <td>True</td>\n      <td>NaN</td>\n      <td>NaN</td>\n      <td>NaN</td>\n      <td>NaN</td>\n      <td>NaN</td>\n    </tr>\n    <tr>\n      <th>2008-10-23 16:53:06</th>\n      <th>1</th>\n      <td>39.984198</td>\n      <td>116.319322</td>\n      <td>13.690153</td>\n      <td>13.690153</td>\n      <td>1.221587e+07</td>\n      <td>True</td>\n      <td>13.690153</td>\n      <td>NaN</td>\n      <td>NaN</td>\n      <td>32.358601</td>\n      <td>NaN</td>\n    </tr>\n    <tr>\n      <th>2008-10-23 05:53:11</th>\n      <th>1</th>\n      <td>39.984224</td>\n      <td>116.319402</td>\n      <td>7.403788</td>\n      <td>20.223428</td>\n      <td>1.221588e+07</td>\n      <td>True</td>\n      <td>0.000158</td>\n      <td>-0.000292</td>\n      <td>NaN</td>\n      <td>67.015294</td>\n      <td>0.000740</td>\n    </tr>\n    <tr>\n      <th>2008-10-23 05:53:16</th>\n      <th>1</th>\n      <td>39.984211</td>\n      <td>116.319389</td>\n      <td>1.821083</td>\n      <td>18.416895</td>\n      <td>1.221588e+07</td>\n      <td>True</td>\n      <td>0.364217</td>\n      <td>0.072812</td>\n      <td>0.014621</td>\n      <td>-142.539885</td>\n      <td>-41.911036</td>\n    </tr>\n    <tr>\n      <th>2008-10-23 05:53:21</th>\n      <th>1</th>\n      <td>39.984217</td>\n      <td>116.319422</td>\n      <td>2.889671</td>\n      <td>20.933073</td>\n      <td>1.221588e+07</td>\n      <td>True</td>\n      <td>0.577934</td>\n      <td>0.042744</td>\n      <td>-0.006014</td>\n      <td>76.651056</td>\n      <td>43.838188</td>\n    </tr>\n  </tbody>\n</table>\n</div>"
     },
     "execution_count": 29,
     "metadata": {},
     "output_type": "execute_result"
    }
   ],
   "source": [
    "%%time\n",
    "\n",
    "# Now, lets calculate the bearing rate between 2 consecutive points.\n",
    "# First, we will do it for the geolife dataset.\n",
    "geolife = spatial.create_bearing_rate_column(geolife)\n",
    "geolife.head()"
   ],
   "metadata": {
    "collapsed": false,
    "pycharm": {
     "name": "#%%\n"
    }
   }
  },
  {
   "cell_type": "code",
   "execution_count": 30,
   "outputs": [
    {
     "name": "stdout",
     "output_type": "stream",
     "text": [
      "CPU times: user 15.4 ms, sys: 3.93 ms, total: 19.4 ms\n",
      "Wall time: 18.2 ms\n"
     ]
    },
    {
     "data": {
      "text/plain": "                                             Name      Date  Time Event  \\\nDateTime            traj_id                                               \n1851-07-05 12:00:00 AL021851              UNNAMED  18510705  1200         \n1851-07-10 12:00:00 AL031851              UNNAMED  18510710  1200         \n1853-08-05 12:00:00 AL011853              UNNAMED  18530805  1200         \n1853-08-10 12:00:00 AL021853              UNNAMED  18530810  1200         \n1853-09-21 12:00:00 AL051853              UNNAMED  18530921  1200         \n\n                             Status   lat   lon  Maximum Wind  \\\nDateTime            traj_id                                     \n1851-07-05 12:00:00 AL021851     HU  22.2 -97.6            80   \n1851-07-10 12:00:00 AL031851     TS  12.0 -60.0            50   \n1853-08-05 12:00:00 AL011853     TS  32.5 -69.0            50   \n1853-08-10 12:00:00 AL021853     TS  12.0 -60.0            40   \n1853-09-21 12:00:00 AL051853     TS  20.0 -95.0            50   \n\n                              Minimum Pressure  Low Wind NE  ...  \\\nDateTime            traj_id                                  ...   \n1851-07-05 12:00:00 AL021851              -999         -999  ...   \n1851-07-10 12:00:00 AL031851              -999         -999  ...   \n1853-08-05 12:00:00 AL011853              -999         -999  ...   \n1853-08-10 12:00:00 AL021853              -999         -999  ...   \n1853-09-21 12:00:00 AL051853              -999         -999  ...   \n\n                              High Wind SE  High Wind SW  High Wind NW  \\\nDateTime            traj_id                                              \n1851-07-05 12:00:00 AL021851          -999          -999          -999   \n1851-07-10 12:00:00 AL031851          -999          -999          -999   \n1853-08-05 12:00:00 AL011853          -999          -999          -999   \n1853-08-10 12:00:00 AL021853          -999          -999          -999   \n1853-09-21 12:00:00 AL051853          -999          -999          -999   \n\n                              Distance_prev_to_curr  Distance_start_to_curr  \\\nDateTime            traj_id                                                   \n1851-07-05 12:00:00 AL021851                    NaN                     NaN   \n1851-07-10 12:00:00 AL031851                    NaN                     NaN   \n1853-08-05 12:00:00 AL011853                    NaN                     NaN   \n1853-08-10 12:00:00 AL021853                    NaN                     NaN   \n1853-09-21 12:00:00 AL051853                    NaN                     NaN   \n\n                              Speed_prev_to_curr  Acceleration_prev_to_curr  \\\nDateTime            traj_id                                                   \n1851-07-05 12:00:00 AL021851                 NaN                        NaN   \n1851-07-10 12:00:00 AL031851                 NaN                        NaN   \n1853-08-05 12:00:00 AL011853                 NaN                        NaN   \n1853-08-10 12:00:00 AL021853                 NaN                        NaN   \n1853-09-21 12:00:00 AL051853                 NaN                        NaN   \n\n                              jerk_prev_to_curr  Bearing_between_consecutive  \\\nDateTime            traj_id                                                    \n1851-07-05 12:00:00 AL021851                NaN                          NaN   \n1851-07-10 12:00:00 AL031851                NaN                          NaN   \n1853-08-05 12:00:00 AL011853                NaN                          NaN   \n1853-08-10 12:00:00 AL021853                NaN                          NaN   \n1853-09-21 12:00:00 AL051853                NaN                          NaN   \n\n                              Bearing_rate_from_prev  \nDateTime            traj_id                           \n1851-07-05 12:00:00 AL021851                     NaN  \n1851-07-10 12:00:00 AL031851                     NaN  \n1853-08-05 12:00:00 AL011853                     NaN  \n1853-08-10 12:00:00 AL021853                     NaN  \n1853-09-21 12:00:00 AL051853                     NaN  \n\n[5 rows x 28 columns]",
      "text/html": "<div>\n<style scoped>\n    .dataframe tbody tr th:only-of-type {\n        vertical-align: middle;\n    }\n\n    .dataframe tbody tr th {\n        vertical-align: top;\n    }\n\n    .dataframe thead th {\n        text-align: right;\n    }\n</style>\n<table border=\"1\" class=\"dataframe\">\n  <thead>\n    <tr style=\"text-align: right;\">\n      <th></th>\n      <th></th>\n      <th>Name</th>\n      <th>Date</th>\n      <th>Time</th>\n      <th>Event</th>\n      <th>Status</th>\n      <th>lat</th>\n      <th>lon</th>\n      <th>Maximum Wind</th>\n      <th>Minimum Pressure</th>\n      <th>Low Wind NE</th>\n      <th>...</th>\n      <th>High Wind SE</th>\n      <th>High Wind SW</th>\n      <th>High Wind NW</th>\n      <th>Distance_prev_to_curr</th>\n      <th>Distance_start_to_curr</th>\n      <th>Speed_prev_to_curr</th>\n      <th>Acceleration_prev_to_curr</th>\n      <th>jerk_prev_to_curr</th>\n      <th>Bearing_between_consecutive</th>\n      <th>Bearing_rate_from_prev</th>\n    </tr>\n    <tr>\n      <th>DateTime</th>\n      <th>traj_id</th>\n      <th></th>\n      <th></th>\n      <th></th>\n      <th></th>\n      <th></th>\n      <th></th>\n      <th></th>\n      <th></th>\n      <th></th>\n      <th></th>\n      <th></th>\n      <th></th>\n      <th></th>\n      <th></th>\n      <th></th>\n      <th></th>\n      <th></th>\n      <th></th>\n      <th></th>\n      <th></th>\n      <th></th>\n    </tr>\n  </thead>\n  <tbody>\n    <tr>\n      <th>1851-07-05 12:00:00</th>\n      <th>AL021851</th>\n      <td>UNNAMED</td>\n      <td>18510705</td>\n      <td>1200</td>\n      <td></td>\n      <td>HU</td>\n      <td>22.2</td>\n      <td>-97.6</td>\n      <td>80</td>\n      <td>-999</td>\n      <td>-999</td>\n      <td>...</td>\n      <td>-999</td>\n      <td>-999</td>\n      <td>-999</td>\n      <td>NaN</td>\n      <td>NaN</td>\n      <td>NaN</td>\n      <td>NaN</td>\n      <td>NaN</td>\n      <td>NaN</td>\n      <td>NaN</td>\n    </tr>\n    <tr>\n      <th>1851-07-10 12:00:00</th>\n      <th>AL031851</th>\n      <td>UNNAMED</td>\n      <td>18510710</td>\n      <td>1200</td>\n      <td></td>\n      <td>TS</td>\n      <td>12.0</td>\n      <td>-60.0</td>\n      <td>50</td>\n      <td>-999</td>\n      <td>-999</td>\n      <td>...</td>\n      <td>-999</td>\n      <td>-999</td>\n      <td>-999</td>\n      <td>NaN</td>\n      <td>NaN</td>\n      <td>NaN</td>\n      <td>NaN</td>\n      <td>NaN</td>\n      <td>NaN</td>\n      <td>NaN</td>\n    </tr>\n    <tr>\n      <th>1853-08-05 12:00:00</th>\n      <th>AL011853</th>\n      <td>UNNAMED</td>\n      <td>18530805</td>\n      <td>1200</td>\n      <td></td>\n      <td>TS</td>\n      <td>32.5</td>\n      <td>-69.0</td>\n      <td>50</td>\n      <td>-999</td>\n      <td>-999</td>\n      <td>...</td>\n      <td>-999</td>\n      <td>-999</td>\n      <td>-999</td>\n      <td>NaN</td>\n      <td>NaN</td>\n      <td>NaN</td>\n      <td>NaN</td>\n      <td>NaN</td>\n      <td>NaN</td>\n      <td>NaN</td>\n    </tr>\n    <tr>\n      <th>1853-08-10 12:00:00</th>\n      <th>AL021853</th>\n      <td>UNNAMED</td>\n      <td>18530810</td>\n      <td>1200</td>\n      <td></td>\n      <td>TS</td>\n      <td>12.0</td>\n      <td>-60.0</td>\n      <td>40</td>\n      <td>-999</td>\n      <td>-999</td>\n      <td>...</td>\n      <td>-999</td>\n      <td>-999</td>\n      <td>-999</td>\n      <td>NaN</td>\n      <td>NaN</td>\n      <td>NaN</td>\n      <td>NaN</td>\n      <td>NaN</td>\n      <td>NaN</td>\n      <td>NaN</td>\n    </tr>\n    <tr>\n      <th>1853-09-21 12:00:00</th>\n      <th>AL051853</th>\n      <td>UNNAMED</td>\n      <td>18530921</td>\n      <td>1200</td>\n      <td></td>\n      <td>TS</td>\n      <td>20.0</td>\n      <td>-95.0</td>\n      <td>50</td>\n      <td>-999</td>\n      <td>-999</td>\n      <td>...</td>\n      <td>-999</td>\n      <td>-999</td>\n      <td>-999</td>\n      <td>NaN</td>\n      <td>NaN</td>\n      <td>NaN</td>\n      <td>NaN</td>\n      <td>NaN</td>\n      <td>NaN</td>\n      <td>NaN</td>\n    </tr>\n  </tbody>\n</table>\n<p>5 rows × 28 columns</p>\n</div>"
     },
     "execution_count": 30,
     "metadata": {},
     "output_type": "execute_result"
    }
   ],
   "source": [
    "%%time\n",
    "\n",
    "# Now lets calculate the bearing rate for the atlantic dataset.\n",
    "atlantic = spatial.create_bearing_rate_column(atlantic)\n",
    "atlantic.head()"
   ],
   "metadata": {
    "collapsed": false,
    "pycharm": {
     "name": "#%%\n"
    }
   }
  },
  {
   "cell_type": "code",
   "execution_count": 31,
   "outputs": [
    {
     "name": "stdout",
     "output_type": "stream",
     "text": [
      "CPU times: user 19.2 ms, sys: 4.48 ms, total: 23.7 ms\n",
      "Wall time: 22.1 ms\n"
     ]
    },
    {
     "data": {
      "text/plain": "                               event-id  visible      lon       lat  \\\nDateTime            traj_id                                           \n2009-08-15 15:00:00 91733    1082636186     True  7.91883  54.18600   \n2009-08-15 21:00:00 91733    1082636187     True  7.91917  54.18567   \n2009-08-16 06:00:00 91733    1082636188     True  7.91500  54.18533   \n2009-08-16 09:00:00 91733    1082636189     True  7.91917  54.18583   \n2009-08-16 15:00:00 91733    1082636190     True  8.64117  54.33383   \n\n                            sensor-type individual-taxon-canonical-name  \\\nDateTime            traj_id                                               \n2009-08-15 15:00:00 91733           gps                    Larus fuscus   \n2009-08-15 21:00:00 91733           gps                    Larus fuscus   \n2009-08-16 06:00:00 91733           gps                    Larus fuscus   \n2009-08-16 09:00:00 91733           gps                    Larus fuscus   \n2009-08-16 15:00:00 91733           gps                    Larus fuscus   \n\n                            individual-local-identifier  \\\nDateTime            traj_id                               \n2009-08-15 15:00:00 91733                        91733A   \n2009-08-15 21:00:00 91733                        91733A   \n2009-08-16 06:00:00 91733                        91733A   \n2009-08-16 09:00:00 91733                        91733A   \n2009-08-16 15:00:00 91733                        91733A   \n\n                                                                    study-name  \\\nDateTime            traj_id                                                      \n2009-08-15 15:00:00 91733    Navigation experiments in lesser black-backed ...   \n2009-08-15 21:00:00 91733    Navigation experiments in lesser black-backed ...   \n2009-08-16 06:00:00 91733    Navigation experiments in lesser black-backed ...   \n2009-08-16 09:00:00 91733    Navigation experiments in lesser black-backed ...   \n2009-08-16 15:00:00 91733    Navigation experiments in lesser black-backed ...   \n\n                             Distance_prev_to_curr  Distance_start_to_curr  \\\nDateTime            traj_id                                                  \n2009-08-15 15:00:00 91733                      NaN                     NaN   \n2009-08-15 21:00:00 91733                42.847231               42.847231   \n2009-08-16 06:00:00 91733               273.951247              260.103940   \n2009-08-16 09:00:00 91733               276.967082               29.098770   \n2009-08-16 15:00:00 91733             49697.545831            49712.038359   \n\n                             Speed_prev_to_curr  Acceleration_prev_to_curr  \\\nDateTime            traj_id                                                  \n2009-08-15 15:00:00 91733                   NaN                        NaN   \n2009-08-15 21:00:00 91733              0.001984                        NaN   \n2009-08-16 06:00:00 91733              0.008455               1.997413e-07   \n2009-08-16 09:00:00 91733              0.025645               1.591650e-06   \n2009-08-16 15:00:00 91733              2.300812               1.053318e-04   \n\n                             jerk_prev_to_curr  Bearing_between_consecutive  \\\nDateTime            traj_id                                                   \n2009-08-15 15:00:00 91733                  NaN                          NaN   \n2009-08-15 21:00:00 91733                  NaN                   148.914497   \n2009-08-16 06:00:00 91733                  NaN                   -97.930652   \n2009-08-16 09:00:00 91733         1.288804e-10                    78.418266   \n2009-08-16 15:00:00 91733         4.802785e-09                    70.369350   \n\n                             Bearing_rate_from_prev  \nDateTime            traj_id                          \n2009-08-15 15:00:00 91733                       NaN  \n2009-08-15 21:00:00 91733                       NaN  \n2009-08-16 06:00:00 91733                 -0.007619  \n2009-08-16 09:00:00 91733                  0.016329  \n2009-08-16 15:00:00 91733                 -0.000373  ",
      "text/html": "<div>\n<style scoped>\n    .dataframe tbody tr th:only-of-type {\n        vertical-align: middle;\n    }\n\n    .dataframe tbody tr th {\n        vertical-align: top;\n    }\n\n    .dataframe thead th {\n        text-align: right;\n    }\n</style>\n<table border=\"1\" class=\"dataframe\">\n  <thead>\n    <tr style=\"text-align: right;\">\n      <th></th>\n      <th></th>\n      <th>event-id</th>\n      <th>visible</th>\n      <th>lon</th>\n      <th>lat</th>\n      <th>sensor-type</th>\n      <th>individual-taxon-canonical-name</th>\n      <th>individual-local-identifier</th>\n      <th>study-name</th>\n      <th>Distance_prev_to_curr</th>\n      <th>Distance_start_to_curr</th>\n      <th>Speed_prev_to_curr</th>\n      <th>Acceleration_prev_to_curr</th>\n      <th>jerk_prev_to_curr</th>\n      <th>Bearing_between_consecutive</th>\n      <th>Bearing_rate_from_prev</th>\n    </tr>\n    <tr>\n      <th>DateTime</th>\n      <th>traj_id</th>\n      <th></th>\n      <th></th>\n      <th></th>\n      <th></th>\n      <th></th>\n      <th></th>\n      <th></th>\n      <th></th>\n      <th></th>\n      <th></th>\n      <th></th>\n      <th></th>\n      <th></th>\n      <th></th>\n      <th></th>\n    </tr>\n  </thead>\n  <tbody>\n    <tr>\n      <th>2009-08-15 15:00:00</th>\n      <th>91733</th>\n      <td>1082636186</td>\n      <td>True</td>\n      <td>7.91883</td>\n      <td>54.18600</td>\n      <td>gps</td>\n      <td>Larus fuscus</td>\n      <td>91733A</td>\n      <td>Navigation experiments in lesser black-backed ...</td>\n      <td>NaN</td>\n      <td>NaN</td>\n      <td>NaN</td>\n      <td>NaN</td>\n      <td>NaN</td>\n      <td>NaN</td>\n      <td>NaN</td>\n    </tr>\n    <tr>\n      <th>2009-08-15 21:00:00</th>\n      <th>91733</th>\n      <td>1082636187</td>\n      <td>True</td>\n      <td>7.91917</td>\n      <td>54.18567</td>\n      <td>gps</td>\n      <td>Larus fuscus</td>\n      <td>91733A</td>\n      <td>Navigation experiments in lesser black-backed ...</td>\n      <td>42.847231</td>\n      <td>42.847231</td>\n      <td>0.001984</td>\n      <td>NaN</td>\n      <td>NaN</td>\n      <td>148.914497</td>\n      <td>NaN</td>\n    </tr>\n    <tr>\n      <th>2009-08-16 06:00:00</th>\n      <th>91733</th>\n      <td>1082636188</td>\n      <td>True</td>\n      <td>7.91500</td>\n      <td>54.18533</td>\n      <td>gps</td>\n      <td>Larus fuscus</td>\n      <td>91733A</td>\n      <td>Navigation experiments in lesser black-backed ...</td>\n      <td>273.951247</td>\n      <td>260.103940</td>\n      <td>0.008455</td>\n      <td>1.997413e-07</td>\n      <td>NaN</td>\n      <td>-97.930652</td>\n      <td>-0.007619</td>\n    </tr>\n    <tr>\n      <th>2009-08-16 09:00:00</th>\n      <th>91733</th>\n      <td>1082636189</td>\n      <td>True</td>\n      <td>7.91917</td>\n      <td>54.18583</td>\n      <td>gps</td>\n      <td>Larus fuscus</td>\n      <td>91733A</td>\n      <td>Navigation experiments in lesser black-backed ...</td>\n      <td>276.967082</td>\n      <td>29.098770</td>\n      <td>0.025645</td>\n      <td>1.591650e-06</td>\n      <td>1.288804e-10</td>\n      <td>78.418266</td>\n      <td>0.016329</td>\n    </tr>\n    <tr>\n      <th>2009-08-16 15:00:00</th>\n      <th>91733</th>\n      <td>1082636190</td>\n      <td>True</td>\n      <td>8.64117</td>\n      <td>54.33383</td>\n      <td>gps</td>\n      <td>Larus fuscus</td>\n      <td>91733A</td>\n      <td>Navigation experiments in lesser black-backed ...</td>\n      <td>49697.545831</td>\n      <td>49712.038359</td>\n      <td>2.300812</td>\n      <td>1.053318e-04</td>\n      <td>4.802785e-09</td>\n      <td>70.369350</td>\n      <td>-0.000373</td>\n    </tr>\n  </tbody>\n</table>\n</div>"
     },
     "execution_count": 31,
     "metadata": {},
     "output_type": "execute_result"
    }
   ],
   "source": [
    "%%time\n",
    "\n",
    "# Now lets calculate the bearing rate for the seagulls dataset.\n",
    "gulls = spatial.create_bearing_rate_column(gulls)\n",
    "gulls.head()"
   ],
   "metadata": {
    "collapsed": false,
    "pycharm": {
     "name": "#%%\n"
    }
   }
  },
  {
   "cell_type": "code",
   "execution_count": 32,
   "outputs": [
    {
     "name": "stdout",
     "output_type": "stream",
     "text": [
      "CPU times: user 37 ms, sys: 108 µs, total: 37.1 ms\n",
      "Wall time: 36.3 ms\n"
     ]
    },
    {
     "data": {
      "text/plain": "                                   lat         lon  Distance_prev_to_curr  \\\nDateTime            traj_id                                                 \n2008-10-23 16:53:05 1        39.984094  116.319236                    NaN   \n2008-10-23 16:53:06 1        39.984198  116.319322              13.690153   \n2008-10-23 05:53:11 1        39.984224  116.319402               7.403788   \n2008-10-23 05:53:16 1        39.984211  116.319389               1.821083   \n2008-10-23 05:53:21 1        39.984217  116.319422               2.889671   \n\n                             Distance_start_to_curr  Distance_to_(0, 0)  \\\nDateTime            traj_id                                               \n2008-10-23 16:53:05 1                           NaN        1.221587e+07   \n2008-10-23 16:53:06 1                     13.690153        1.221587e+07   \n2008-10-23 05:53:11 1                     20.223428        1.221588e+07   \n2008-10-23 05:53:16 1                     18.416895        1.221588e+07   \n2008-10-23 05:53:21 1                     20.933073        1.221588e+07   \n\n                             Within_15000000_m_from_(0, 0)  \\\nDateTime            traj_id                                  \n2008-10-23 16:53:05 1                                 True   \n2008-10-23 16:53:06 1                                 True   \n2008-10-23 05:53:11 1                                 True   \n2008-10-23 05:53:16 1                                 True   \n2008-10-23 05:53:21 1                                 True   \n\n                             Speed_prev_to_curr  Acceleration_prev_to_curr  \\\nDateTime            traj_id                                                  \n2008-10-23 16:53:05 1                       NaN                        NaN   \n2008-10-23 16:53:06 1                 13.690153                        NaN   \n2008-10-23 05:53:11 1                  0.000158                  -0.000292   \n2008-10-23 05:53:16 1                  0.364217                   0.072812   \n2008-10-23 05:53:21 1                  0.577934                   0.042744   \n\n                             jerk_prev_to_curr  Bearing_between_consecutive  \\\nDateTime            traj_id                                                   \n2008-10-23 16:53:05 1                      NaN                          NaN   \n2008-10-23 16:53:06 1                      NaN                    32.358601   \n2008-10-23 05:53:11 1                      NaN                    67.015294   \n2008-10-23 05:53:16 1                 0.014621                  -142.539885   \n2008-10-23 05:53:21 1                -0.006014                    76.651056   \n\n                             Bearing_rate_from_prev  \\\nDateTime            traj_id                           \n2008-10-23 16:53:05 1                           NaN   \n2008-10-23 16:53:06 1                           NaN   \n2008-10-23 05:53:11 1                      0.000740   \n2008-10-23 05:53:16 1                    -41.911036   \n2008-10-23 05:53:21 1                     43.838188   \n\n                             Rate_of_bearing_rate_from_prev  \nDateTime            traj_id                                  \n2008-10-23 16:53:05 1                                   NaN  \n2008-10-23 16:53:06 1                                   NaN  \n2008-10-23 05:53:11 1                                   NaN  \n2008-10-23 05:53:16 1                             -8.382355  \n2008-10-23 05:53:21 1                             17.149845  ",
      "text/html": "<div>\n<style scoped>\n    .dataframe tbody tr th:only-of-type {\n        vertical-align: middle;\n    }\n\n    .dataframe tbody tr th {\n        vertical-align: top;\n    }\n\n    .dataframe thead th {\n        text-align: right;\n    }\n</style>\n<table border=\"1\" class=\"dataframe\">\n  <thead>\n    <tr style=\"text-align: right;\">\n      <th></th>\n      <th></th>\n      <th>lat</th>\n      <th>lon</th>\n      <th>Distance_prev_to_curr</th>\n      <th>Distance_start_to_curr</th>\n      <th>Distance_to_(0, 0)</th>\n      <th>Within_15000000_m_from_(0, 0)</th>\n      <th>Speed_prev_to_curr</th>\n      <th>Acceleration_prev_to_curr</th>\n      <th>jerk_prev_to_curr</th>\n      <th>Bearing_between_consecutive</th>\n      <th>Bearing_rate_from_prev</th>\n      <th>Rate_of_bearing_rate_from_prev</th>\n    </tr>\n    <tr>\n      <th>DateTime</th>\n      <th>traj_id</th>\n      <th></th>\n      <th></th>\n      <th></th>\n      <th></th>\n      <th></th>\n      <th></th>\n      <th></th>\n      <th></th>\n      <th></th>\n      <th></th>\n      <th></th>\n      <th></th>\n    </tr>\n  </thead>\n  <tbody>\n    <tr>\n      <th>2008-10-23 16:53:05</th>\n      <th>1</th>\n      <td>39.984094</td>\n      <td>116.319236</td>\n      <td>NaN</td>\n      <td>NaN</td>\n      <td>1.221587e+07</td>\n      <td>True</td>\n      <td>NaN</td>\n      <td>NaN</td>\n      <td>NaN</td>\n      <td>NaN</td>\n      <td>NaN</td>\n      <td>NaN</td>\n    </tr>\n    <tr>\n      <th>2008-10-23 16:53:06</th>\n      <th>1</th>\n      <td>39.984198</td>\n      <td>116.319322</td>\n      <td>13.690153</td>\n      <td>13.690153</td>\n      <td>1.221587e+07</td>\n      <td>True</td>\n      <td>13.690153</td>\n      <td>NaN</td>\n      <td>NaN</td>\n      <td>32.358601</td>\n      <td>NaN</td>\n      <td>NaN</td>\n    </tr>\n    <tr>\n      <th>2008-10-23 05:53:11</th>\n      <th>1</th>\n      <td>39.984224</td>\n      <td>116.319402</td>\n      <td>7.403788</td>\n      <td>20.223428</td>\n      <td>1.221588e+07</td>\n      <td>True</td>\n      <td>0.000158</td>\n      <td>-0.000292</td>\n      <td>NaN</td>\n      <td>67.015294</td>\n      <td>0.000740</td>\n      <td>NaN</td>\n    </tr>\n    <tr>\n      <th>2008-10-23 05:53:16</th>\n      <th>1</th>\n      <td>39.984211</td>\n      <td>116.319389</td>\n      <td>1.821083</td>\n      <td>18.416895</td>\n      <td>1.221588e+07</td>\n      <td>True</td>\n      <td>0.364217</td>\n      <td>0.072812</td>\n      <td>0.014621</td>\n      <td>-142.539885</td>\n      <td>-41.911036</td>\n      <td>-8.382355</td>\n    </tr>\n    <tr>\n      <th>2008-10-23 05:53:21</th>\n      <th>1</th>\n      <td>39.984217</td>\n      <td>116.319422</td>\n      <td>2.889671</td>\n      <td>20.933073</td>\n      <td>1.221588e+07</td>\n      <td>True</td>\n      <td>0.577934</td>\n      <td>0.042744</td>\n      <td>-0.006014</td>\n      <td>76.651056</td>\n      <td>43.838188</td>\n      <td>17.149845</td>\n    </tr>\n  </tbody>\n</table>\n</div>"
     },
     "execution_count": 32,
     "metadata": {},
     "output_type": "execute_result"
    }
   ],
   "source": [
    "%%time\n",
    "\n",
    "# Now, lets calculate the rate of bearing rate between 2\n",
    "# consecutive points.\n",
    "geolife = spatial.create_rate_of_bearing_rate_column(geolife)\n",
    "geolife.head()\n"
   ],
   "metadata": {
    "collapsed": false,
    "pycharm": {
     "name": "#%%\n"
    }
   }
  },
  {
   "cell_type": "code",
   "execution_count": 33,
   "outputs": [
    {
     "name": "stdout",
     "output_type": "stream",
     "text": [
      "CPU times: user 17.4 ms, sys: 177 µs, total: 17.5 ms\n",
      "Wall time: 15.9 ms\n"
     ]
    },
    {
     "data": {
      "text/plain": "                                             Name      Date  Time Event  \\\nDateTime            traj_id                                               \n1851-07-05 12:00:00 AL021851              UNNAMED  18510705  1200         \n1851-07-10 12:00:00 AL031851              UNNAMED  18510710  1200         \n1853-08-05 12:00:00 AL011853              UNNAMED  18530805  1200         \n1853-08-10 12:00:00 AL021853              UNNAMED  18530810  1200         \n1853-09-21 12:00:00 AL051853              UNNAMED  18530921  1200         \n\n                             Status   lat   lon  Maximum Wind  \\\nDateTime            traj_id                                     \n1851-07-05 12:00:00 AL021851     HU  22.2 -97.6            80   \n1851-07-10 12:00:00 AL031851     TS  12.0 -60.0            50   \n1853-08-05 12:00:00 AL011853     TS  32.5 -69.0            50   \n1853-08-10 12:00:00 AL021853     TS  12.0 -60.0            40   \n1853-09-21 12:00:00 AL051853     TS  20.0 -95.0            50   \n\n                              Minimum Pressure  Low Wind NE  ...  \\\nDateTime            traj_id                                  ...   \n1851-07-05 12:00:00 AL021851              -999         -999  ...   \n1851-07-10 12:00:00 AL031851              -999         -999  ...   \n1853-08-05 12:00:00 AL011853              -999         -999  ...   \n1853-08-10 12:00:00 AL021853              -999         -999  ...   \n1853-09-21 12:00:00 AL051853              -999         -999  ...   \n\n                              High Wind SW  High Wind NW  \\\nDateTime            traj_id                                \n1851-07-05 12:00:00 AL021851          -999          -999   \n1851-07-10 12:00:00 AL031851          -999          -999   \n1853-08-05 12:00:00 AL011853          -999          -999   \n1853-08-10 12:00:00 AL021853          -999          -999   \n1853-09-21 12:00:00 AL051853          -999          -999   \n\n                              Distance_prev_to_curr  Distance_start_to_curr  \\\nDateTime            traj_id                                                   \n1851-07-05 12:00:00 AL021851                    NaN                     NaN   \n1851-07-10 12:00:00 AL031851                    NaN                     NaN   \n1853-08-05 12:00:00 AL011853                    NaN                     NaN   \n1853-08-10 12:00:00 AL021853                    NaN                     NaN   \n1853-09-21 12:00:00 AL051853                    NaN                     NaN   \n\n                              Speed_prev_to_curr  Acceleration_prev_to_curr  \\\nDateTime            traj_id                                                   \n1851-07-05 12:00:00 AL021851                 NaN                        NaN   \n1851-07-10 12:00:00 AL031851                 NaN                        NaN   \n1853-08-05 12:00:00 AL011853                 NaN                        NaN   \n1853-08-10 12:00:00 AL021853                 NaN                        NaN   \n1853-09-21 12:00:00 AL051853                 NaN                        NaN   \n\n                              jerk_prev_to_curr  Bearing_between_consecutive  \\\nDateTime            traj_id                                                    \n1851-07-05 12:00:00 AL021851                NaN                          NaN   \n1851-07-10 12:00:00 AL031851                NaN                          NaN   \n1853-08-05 12:00:00 AL011853                NaN                          NaN   \n1853-08-10 12:00:00 AL021853                NaN                          NaN   \n1853-09-21 12:00:00 AL051853                NaN                          NaN   \n\n                              Bearing_rate_from_prev  \\\nDateTime            traj_id                            \n1851-07-05 12:00:00 AL021851                     NaN   \n1851-07-10 12:00:00 AL031851                     NaN   \n1853-08-05 12:00:00 AL011853                     NaN   \n1853-08-10 12:00:00 AL021853                     NaN   \n1853-09-21 12:00:00 AL051853                     NaN   \n\n                              Rate_of_bearing_rate_from_prev  \nDateTime            traj_id                                   \n1851-07-05 12:00:00 AL021851                             NaN  \n1851-07-10 12:00:00 AL031851                             NaN  \n1853-08-05 12:00:00 AL011853                             NaN  \n1853-08-10 12:00:00 AL021853                             NaN  \n1853-09-21 12:00:00 AL051853                             NaN  \n\n[5 rows x 29 columns]",
      "text/html": "<div>\n<style scoped>\n    .dataframe tbody tr th:only-of-type {\n        vertical-align: middle;\n    }\n\n    .dataframe tbody tr th {\n        vertical-align: top;\n    }\n\n    .dataframe thead th {\n        text-align: right;\n    }\n</style>\n<table border=\"1\" class=\"dataframe\">\n  <thead>\n    <tr style=\"text-align: right;\">\n      <th></th>\n      <th></th>\n      <th>Name</th>\n      <th>Date</th>\n      <th>Time</th>\n      <th>Event</th>\n      <th>Status</th>\n      <th>lat</th>\n      <th>lon</th>\n      <th>Maximum Wind</th>\n      <th>Minimum Pressure</th>\n      <th>Low Wind NE</th>\n      <th>...</th>\n      <th>High Wind SW</th>\n      <th>High Wind NW</th>\n      <th>Distance_prev_to_curr</th>\n      <th>Distance_start_to_curr</th>\n      <th>Speed_prev_to_curr</th>\n      <th>Acceleration_prev_to_curr</th>\n      <th>jerk_prev_to_curr</th>\n      <th>Bearing_between_consecutive</th>\n      <th>Bearing_rate_from_prev</th>\n      <th>Rate_of_bearing_rate_from_prev</th>\n    </tr>\n    <tr>\n      <th>DateTime</th>\n      <th>traj_id</th>\n      <th></th>\n      <th></th>\n      <th></th>\n      <th></th>\n      <th></th>\n      <th></th>\n      <th></th>\n      <th></th>\n      <th></th>\n      <th></th>\n      <th></th>\n      <th></th>\n      <th></th>\n      <th></th>\n      <th></th>\n      <th></th>\n      <th></th>\n      <th></th>\n      <th></th>\n      <th></th>\n      <th></th>\n    </tr>\n  </thead>\n  <tbody>\n    <tr>\n      <th>1851-07-05 12:00:00</th>\n      <th>AL021851</th>\n      <td>UNNAMED</td>\n      <td>18510705</td>\n      <td>1200</td>\n      <td></td>\n      <td>HU</td>\n      <td>22.2</td>\n      <td>-97.6</td>\n      <td>80</td>\n      <td>-999</td>\n      <td>-999</td>\n      <td>...</td>\n      <td>-999</td>\n      <td>-999</td>\n      <td>NaN</td>\n      <td>NaN</td>\n      <td>NaN</td>\n      <td>NaN</td>\n      <td>NaN</td>\n      <td>NaN</td>\n      <td>NaN</td>\n      <td>NaN</td>\n    </tr>\n    <tr>\n      <th>1851-07-10 12:00:00</th>\n      <th>AL031851</th>\n      <td>UNNAMED</td>\n      <td>18510710</td>\n      <td>1200</td>\n      <td></td>\n      <td>TS</td>\n      <td>12.0</td>\n      <td>-60.0</td>\n      <td>50</td>\n      <td>-999</td>\n      <td>-999</td>\n      <td>...</td>\n      <td>-999</td>\n      <td>-999</td>\n      <td>NaN</td>\n      <td>NaN</td>\n      <td>NaN</td>\n      <td>NaN</td>\n      <td>NaN</td>\n      <td>NaN</td>\n      <td>NaN</td>\n      <td>NaN</td>\n    </tr>\n    <tr>\n      <th>1853-08-05 12:00:00</th>\n      <th>AL011853</th>\n      <td>UNNAMED</td>\n      <td>18530805</td>\n      <td>1200</td>\n      <td></td>\n      <td>TS</td>\n      <td>32.5</td>\n      <td>-69.0</td>\n      <td>50</td>\n      <td>-999</td>\n      <td>-999</td>\n      <td>...</td>\n      <td>-999</td>\n      <td>-999</td>\n      <td>NaN</td>\n      <td>NaN</td>\n      <td>NaN</td>\n      <td>NaN</td>\n      <td>NaN</td>\n      <td>NaN</td>\n      <td>NaN</td>\n      <td>NaN</td>\n    </tr>\n    <tr>\n      <th>1853-08-10 12:00:00</th>\n      <th>AL021853</th>\n      <td>UNNAMED</td>\n      <td>18530810</td>\n      <td>1200</td>\n      <td></td>\n      <td>TS</td>\n      <td>12.0</td>\n      <td>-60.0</td>\n      <td>40</td>\n      <td>-999</td>\n      <td>-999</td>\n      <td>...</td>\n      <td>-999</td>\n      <td>-999</td>\n      <td>NaN</td>\n      <td>NaN</td>\n      <td>NaN</td>\n      <td>NaN</td>\n      <td>NaN</td>\n      <td>NaN</td>\n      <td>NaN</td>\n      <td>NaN</td>\n    </tr>\n    <tr>\n      <th>1853-09-21 12:00:00</th>\n      <th>AL051853</th>\n      <td>UNNAMED</td>\n      <td>18530921</td>\n      <td>1200</td>\n      <td></td>\n      <td>TS</td>\n      <td>20.0</td>\n      <td>-95.0</td>\n      <td>50</td>\n      <td>-999</td>\n      <td>-999</td>\n      <td>...</td>\n      <td>-999</td>\n      <td>-999</td>\n      <td>NaN</td>\n      <td>NaN</td>\n      <td>NaN</td>\n      <td>NaN</td>\n      <td>NaN</td>\n      <td>NaN</td>\n      <td>NaN</td>\n      <td>NaN</td>\n    </tr>\n  </tbody>\n</table>\n<p>5 rows × 29 columns</p>\n</div>"
     },
     "execution_count": 33,
     "metadata": {},
     "output_type": "execute_result"
    }
   ],
   "source": [
    "%%time\n",
    "\n",
    "# Now, lets calculate the rate of bearing rate for the atlantic\n",
    "# dataset.\n",
    "atlantic = spatial.create_rate_of_bearing_rate_column(atlantic)\n",
    "atlantic.head()"
   ],
   "metadata": {
    "collapsed": false,
    "pycharm": {
     "name": "#%%\n"
    }
   }
  },
  {
   "cell_type": "code",
   "execution_count": 34,
   "outputs": [
    {
     "name": "stdout",
     "output_type": "stream",
     "text": [
      "CPU times: user 25.7 ms, sys: 0 ns, total: 25.7 ms\n",
      "Wall time: 23.9 ms\n"
     ]
    },
    {
     "data": {
      "text/plain": "                               event-id  visible      lon       lat  \\\nDateTime            traj_id                                           \n2009-08-15 15:00:00 91733    1082636186     True  7.91883  54.18600   \n2009-08-15 21:00:00 91733    1082636187     True  7.91917  54.18567   \n2009-08-16 06:00:00 91733    1082636188     True  7.91500  54.18533   \n2009-08-16 09:00:00 91733    1082636189     True  7.91917  54.18583   \n2009-08-16 15:00:00 91733    1082636190     True  8.64117  54.33383   \n\n                            sensor-type individual-taxon-canonical-name  \\\nDateTime            traj_id                                               \n2009-08-15 15:00:00 91733           gps                    Larus fuscus   \n2009-08-15 21:00:00 91733           gps                    Larus fuscus   \n2009-08-16 06:00:00 91733           gps                    Larus fuscus   \n2009-08-16 09:00:00 91733           gps                    Larus fuscus   \n2009-08-16 15:00:00 91733           gps                    Larus fuscus   \n\n                            individual-local-identifier  \\\nDateTime            traj_id                               \n2009-08-15 15:00:00 91733                        91733A   \n2009-08-15 21:00:00 91733                        91733A   \n2009-08-16 06:00:00 91733                        91733A   \n2009-08-16 09:00:00 91733                        91733A   \n2009-08-16 15:00:00 91733                        91733A   \n\n                                                                    study-name  \\\nDateTime            traj_id                                                      \n2009-08-15 15:00:00 91733    Navigation experiments in lesser black-backed ...   \n2009-08-15 21:00:00 91733    Navigation experiments in lesser black-backed ...   \n2009-08-16 06:00:00 91733    Navigation experiments in lesser black-backed ...   \n2009-08-16 09:00:00 91733    Navigation experiments in lesser black-backed ...   \n2009-08-16 15:00:00 91733    Navigation experiments in lesser black-backed ...   \n\n                             Distance_prev_to_curr  Distance_start_to_curr  \\\nDateTime            traj_id                                                  \n2009-08-15 15:00:00 91733                      NaN                     NaN   \n2009-08-15 21:00:00 91733                42.847231               42.847231   \n2009-08-16 06:00:00 91733               273.951247              260.103940   \n2009-08-16 09:00:00 91733               276.967082               29.098770   \n2009-08-16 15:00:00 91733             49697.545831            49712.038359   \n\n                             Speed_prev_to_curr  Acceleration_prev_to_curr  \\\nDateTime            traj_id                                                  \n2009-08-15 15:00:00 91733                   NaN                        NaN   \n2009-08-15 21:00:00 91733              0.001984                        NaN   \n2009-08-16 06:00:00 91733              0.008455               1.997413e-07   \n2009-08-16 09:00:00 91733              0.025645               1.591650e-06   \n2009-08-16 15:00:00 91733              2.300812               1.053318e-04   \n\n                             jerk_prev_to_curr  Bearing_between_consecutive  \\\nDateTime            traj_id                                                   \n2009-08-15 15:00:00 91733                  NaN                          NaN   \n2009-08-15 21:00:00 91733                  NaN                   148.914497   \n2009-08-16 06:00:00 91733                  NaN                   -97.930652   \n2009-08-16 09:00:00 91733         1.288804e-10                    78.418266   \n2009-08-16 15:00:00 91733         4.802785e-09                    70.369350   \n\n                             Bearing_rate_from_prev  \\\nDateTime            traj_id                           \n2009-08-15 15:00:00 91733                       NaN   \n2009-08-15 21:00:00 91733                       NaN   \n2009-08-16 06:00:00 91733                 -0.007619   \n2009-08-16 09:00:00 91733                  0.016329   \n2009-08-16 15:00:00 91733                 -0.000373   \n\n                             Rate_of_bearing_rate_from_prev  \nDateTime            traj_id                                  \n2009-08-15 15:00:00 91733                               NaN  \n2009-08-15 21:00:00 91733                               NaN  \n2009-08-16 06:00:00 91733                               NaN  \n2009-08-16 09:00:00 91733                      2.217341e-06  \n2009-08-16 15:00:00 91733                     -7.732055e-07  ",
      "text/html": "<div>\n<style scoped>\n    .dataframe tbody tr th:only-of-type {\n        vertical-align: middle;\n    }\n\n    .dataframe tbody tr th {\n        vertical-align: top;\n    }\n\n    .dataframe thead th {\n        text-align: right;\n    }\n</style>\n<table border=\"1\" class=\"dataframe\">\n  <thead>\n    <tr style=\"text-align: right;\">\n      <th></th>\n      <th></th>\n      <th>event-id</th>\n      <th>visible</th>\n      <th>lon</th>\n      <th>lat</th>\n      <th>sensor-type</th>\n      <th>individual-taxon-canonical-name</th>\n      <th>individual-local-identifier</th>\n      <th>study-name</th>\n      <th>Distance_prev_to_curr</th>\n      <th>Distance_start_to_curr</th>\n      <th>Speed_prev_to_curr</th>\n      <th>Acceleration_prev_to_curr</th>\n      <th>jerk_prev_to_curr</th>\n      <th>Bearing_between_consecutive</th>\n      <th>Bearing_rate_from_prev</th>\n      <th>Rate_of_bearing_rate_from_prev</th>\n    </tr>\n    <tr>\n      <th>DateTime</th>\n      <th>traj_id</th>\n      <th></th>\n      <th></th>\n      <th></th>\n      <th></th>\n      <th></th>\n      <th></th>\n      <th></th>\n      <th></th>\n      <th></th>\n      <th></th>\n      <th></th>\n      <th></th>\n      <th></th>\n      <th></th>\n      <th></th>\n      <th></th>\n    </tr>\n  </thead>\n  <tbody>\n    <tr>\n      <th>2009-08-15 15:00:00</th>\n      <th>91733</th>\n      <td>1082636186</td>\n      <td>True</td>\n      <td>7.91883</td>\n      <td>54.18600</td>\n      <td>gps</td>\n      <td>Larus fuscus</td>\n      <td>91733A</td>\n      <td>Navigation experiments in lesser black-backed ...</td>\n      <td>NaN</td>\n      <td>NaN</td>\n      <td>NaN</td>\n      <td>NaN</td>\n      <td>NaN</td>\n      <td>NaN</td>\n      <td>NaN</td>\n      <td>NaN</td>\n    </tr>\n    <tr>\n      <th>2009-08-15 21:00:00</th>\n      <th>91733</th>\n      <td>1082636187</td>\n      <td>True</td>\n      <td>7.91917</td>\n      <td>54.18567</td>\n      <td>gps</td>\n      <td>Larus fuscus</td>\n      <td>91733A</td>\n      <td>Navigation experiments in lesser black-backed ...</td>\n      <td>42.847231</td>\n      <td>42.847231</td>\n      <td>0.001984</td>\n      <td>NaN</td>\n      <td>NaN</td>\n      <td>148.914497</td>\n      <td>NaN</td>\n      <td>NaN</td>\n    </tr>\n    <tr>\n      <th>2009-08-16 06:00:00</th>\n      <th>91733</th>\n      <td>1082636188</td>\n      <td>True</td>\n      <td>7.91500</td>\n      <td>54.18533</td>\n      <td>gps</td>\n      <td>Larus fuscus</td>\n      <td>91733A</td>\n      <td>Navigation experiments in lesser black-backed ...</td>\n      <td>273.951247</td>\n      <td>260.103940</td>\n      <td>0.008455</td>\n      <td>1.997413e-07</td>\n      <td>NaN</td>\n      <td>-97.930652</td>\n      <td>-0.007619</td>\n      <td>NaN</td>\n    </tr>\n    <tr>\n      <th>2009-08-16 09:00:00</th>\n      <th>91733</th>\n      <td>1082636189</td>\n      <td>True</td>\n      <td>7.91917</td>\n      <td>54.18583</td>\n      <td>gps</td>\n      <td>Larus fuscus</td>\n      <td>91733A</td>\n      <td>Navigation experiments in lesser black-backed ...</td>\n      <td>276.967082</td>\n      <td>29.098770</td>\n      <td>0.025645</td>\n      <td>1.591650e-06</td>\n      <td>1.288804e-10</td>\n      <td>78.418266</td>\n      <td>0.016329</td>\n      <td>2.217341e-06</td>\n    </tr>\n    <tr>\n      <th>2009-08-16 15:00:00</th>\n      <th>91733</th>\n      <td>1082636190</td>\n      <td>True</td>\n      <td>8.64117</td>\n      <td>54.33383</td>\n      <td>gps</td>\n      <td>Larus fuscus</td>\n      <td>91733A</td>\n      <td>Navigation experiments in lesser black-backed ...</td>\n      <td>49697.545831</td>\n      <td>49712.038359</td>\n      <td>2.300812</td>\n      <td>1.053318e-04</td>\n      <td>4.802785e-09</td>\n      <td>70.369350</td>\n      <td>-0.000373</td>\n      <td>-7.732055e-07</td>\n    </tr>\n  </tbody>\n</table>\n</div>"
     },
     "execution_count": 34,
     "metadata": {},
     "output_type": "execute_result"
    }
   ],
   "source": [
    "%%time\n",
    "\n",
    "# Now lets calculate the rate of bearing rate for the seagulls\n",
    "# dataset.\n",
    "gulls = spatial.create_rate_of_bearing_rate_column(gulls)\n",
    "gulls.head()"
   ],
   "metadata": {
    "collapsed": false,
    "pycharm": {
     "name": "#%%\n"
    }
   }
  },
  {
   "cell_type": "code",
   "execution_count": 35,
   "outputs": [
    {
     "name": "stdout",
     "output_type": "stream",
     "text": [
      "CPU times: user 494 ms, sys: 512 ms, total: 1.01 s\n",
      "Wall time: 3.32 s\n"
     ]
    },
    {
     "data": {
      "text/plain": "           lat   lon\ntraj_id             \nAL011851  28.0 -94.8\nAL011852  20.5 -67.1\nAL011853  32.5 -69.0\nAL011854  26.0 -92.5\nAL011855  22.2 -98.0\n...        ...   ...\nAL282005  13.2 -62.1\nAL291969  10.3 -81.0\nAL292005  27.0 -48.0\nAL302005  31.5 -49.2\nAL312005  23.9 -35.6\n\n[1814 rows x 2 columns]",
      "text/html": "<div>\n<style scoped>\n    .dataframe tbody tr th:only-of-type {\n        vertical-align: middle;\n    }\n\n    .dataframe tbody tr th {\n        vertical-align: top;\n    }\n\n    .dataframe thead th {\n        text-align: right;\n    }\n</style>\n<table border=\"1\" class=\"dataframe\">\n  <thead>\n    <tr style=\"text-align: right;\">\n      <th></th>\n      <th>lat</th>\n      <th>lon</th>\n    </tr>\n    <tr>\n      <th>traj_id</th>\n      <th></th>\n      <th></th>\n    </tr>\n  </thead>\n  <tbody>\n    <tr>\n      <th>AL011851</th>\n      <td>28.0</td>\n      <td>-94.8</td>\n    </tr>\n    <tr>\n      <th>AL011852</th>\n      <td>20.5</td>\n      <td>-67.1</td>\n    </tr>\n    <tr>\n      <th>AL011853</th>\n      <td>32.5</td>\n      <td>-69.0</td>\n    </tr>\n    <tr>\n      <th>AL011854</th>\n      <td>26.0</td>\n      <td>-92.5</td>\n    </tr>\n    <tr>\n      <th>AL011855</th>\n      <td>22.2</td>\n      <td>-98.0</td>\n    </tr>\n    <tr>\n      <th>...</th>\n      <td>...</td>\n      <td>...</td>\n    </tr>\n    <tr>\n      <th>AL282005</th>\n      <td>13.2</td>\n      <td>-62.1</td>\n    </tr>\n    <tr>\n      <th>AL291969</th>\n      <td>10.3</td>\n      <td>-81.0</td>\n    </tr>\n    <tr>\n      <th>AL292005</th>\n      <td>27.0</td>\n      <td>-48.0</td>\n    </tr>\n    <tr>\n      <th>AL302005</th>\n      <td>31.5</td>\n      <td>-49.2</td>\n    </tr>\n    <tr>\n      <th>AL312005</th>\n      <td>23.9</td>\n      <td>-35.6</td>\n    </tr>\n  </tbody>\n</table>\n<p>1814 rows × 2 columns</p>\n</div>"
     },
     "execution_count": 35,
     "metadata": {},
     "output_type": "execute_result"
    }
   ],
   "source": [
    "%%time\n",
    "\n",
    "# Now, lets get the start locations of all the trajectories\n",
    "# in the atlantic dataset.\n",
    "spatial.get_start_location(atlantic)"
   ],
   "metadata": {
    "collapsed": false,
    "pycharm": {
     "name": "#%%\n"
    }
   }
  },
  {
   "cell_type": "code",
   "execution_count": 36,
   "outputs": [
    {
     "name": "stdout",
     "output_type": "stream",
     "text": [
      "CPU times: user 14.1 ms, sys: 16.4 ms, total: 30.5 ms\n",
      "Wall time: 29.5 ms\n"
     ]
    },
    {
     "data": {
      "text/plain": "(31.0, -100.2)"
     },
     "execution_count": 36,
     "metadata": {},
     "output_type": "execute_result"
    }
   ],
   "source": [
    "%%time\n",
    "\n",
    "# Now, lets get the end location of a specific trajectory\n",
    "# from the atlantic dataset.\n",
    "spatial.get_end_location(atlantic, 'AL011851')"
   ],
   "metadata": {
    "collapsed": false,
    "pycharm": {
     "name": "#%%\n"
    }
   }
  },
  {
   "cell_type": "code",
   "execution_count": 37,
   "outputs": [
    {
     "name": "stdout",
     "output_type": "stream",
     "text": [
      "CPU times: user 33.5 ms, sys: 7.76 ms, total: 41.3 ms\n",
      "Wall time: 51.9 ms\n"
     ]
    },
    {
     "data": {
      "text/plain": "716547.106240304"
     },
     "execution_count": 37,
     "metadata": {},
     "output_type": "execute_result"
    }
   ],
   "source": [
    "%%time\n",
    "\n",
    "# Now, lets get the distance travelled by a specific trajectory\n",
    "# in the atlantic dataset.\n",
    "spatial.get_distance_travelled_by_traj_id(atlantic, 'AL011851')"
   ],
   "metadata": {
    "collapsed": false,
    "pycharm": {
     "name": "#%%\n"
    }
   }
  },
  {
   "cell_type": "code",
   "execution_count": 38,
   "outputs": [
    {
     "name": "stdout",
     "output_type": "stream",
     "text": [
      "CPU times: user 537 ms, sys: 259 ms, total: 796 ms\n",
      "Wall time: 3.69 s\n"
     ]
    },
    {
     "data": {
      "text/plain": "          Number of Unique Coordinates\ntraj_id                               \nAL011851                            14\nAL011852                            45\nAL011853                             1\nAL011854                            11\nAL011855                             1\n...                                ...\nAL282005                            33\nAL291969                            13\nAL292005                            42\nAL302005                            43\nAL312005                            36\n\n[1814 rows x 1 columns]",
      "text/html": "<div>\n<style scoped>\n    .dataframe tbody tr th:only-of-type {\n        vertical-align: middle;\n    }\n\n    .dataframe tbody tr th {\n        vertical-align: top;\n    }\n\n    .dataframe thead th {\n        text-align: right;\n    }\n</style>\n<table border=\"1\" class=\"dataframe\">\n  <thead>\n    <tr style=\"text-align: right;\">\n      <th></th>\n      <th>Number of Unique Coordinates</th>\n    </tr>\n    <tr>\n      <th>traj_id</th>\n      <th></th>\n    </tr>\n  </thead>\n  <tbody>\n    <tr>\n      <th>AL011851</th>\n      <td>14</td>\n    </tr>\n    <tr>\n      <th>AL011852</th>\n      <td>45</td>\n    </tr>\n    <tr>\n      <th>AL011853</th>\n      <td>1</td>\n    </tr>\n    <tr>\n      <th>AL011854</th>\n      <td>11</td>\n    </tr>\n    <tr>\n      <th>AL011855</th>\n      <td>1</td>\n    </tr>\n    <tr>\n      <th>...</th>\n      <td>...</td>\n    </tr>\n    <tr>\n      <th>AL282005</th>\n      <td>33</td>\n    </tr>\n    <tr>\n      <th>AL291969</th>\n      <td>13</td>\n    </tr>\n    <tr>\n      <th>AL292005</th>\n      <td>42</td>\n    </tr>\n    <tr>\n      <th>AL302005</th>\n      <td>43</td>\n    </tr>\n    <tr>\n      <th>AL312005</th>\n      <td>36</td>\n    </tr>\n  </tbody>\n</table>\n<p>1814 rows × 1 columns</p>\n</div>"
     },
     "execution_count": 38,
     "metadata": {},
     "output_type": "execute_result"
    }
   ],
   "source": [
    "%%time\n",
    "\n",
    "# Now, lets get the number of unique locations visited by\n",
    "# all the trajectories in the atlantic dataset.\n",
    "spatial.get_number_of_locations(atlantic)"
   ],
   "metadata": {
    "collapsed": false,
    "pycharm": {
     "name": "#%%\n"
    }
   }
  },
  {
   "cell_type": "code",
   "execution_count": 39,
   "outputs": [
    {
     "name": "stdout",
     "output_type": "stream",
     "text": [
      "Total execution time is 42.89334034919739 seconds.\n"
     ]
    }
   ],
   "source": [
    "end = time.time()\n",
    "print(f\"Total execution time is {end - start} seconds.\")"
   ],
   "metadata": {
    "collapsed": false,
    "pycharm": {
     "name": "#%%\n"
    }
   }
  }
 ],
 "metadata": {
  "kernelspec": {
   "display_name": "Python 3",
   "language": "python",
   "name": "python3"
  },
  "language_info": {
   "codemirror_mode": {
    "name": "ipython",
    "version": 2
   },
   "file_extension": ".py",
   "mimetype": "text/x-python",
   "name": "python",
   "nbconvert_exporter": "python",
   "pygments_lexer": "ipython2",
   "version": "2.7.6"
  }
 },
 "nbformat": 4,
 "nbformat_minor": 0
}