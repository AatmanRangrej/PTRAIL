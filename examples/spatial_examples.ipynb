{
 "cells": [
  {
   "cell_type": "code",
   "execution_count": 1,
   "metadata": {
    "collapsed": true
   },
   "outputs": [],
   "source": [
    "from core.TrajectoryDF import NumPandasTraj as NumTrajDF\n",
    "from features.spatial_features import SpatialFeatures as spatial\n",
    "from utilities.conversions import Conversions as con\n",
    "import pandas as pd"
   ]
  },
  {
   "cell_type": "code",
   "execution_count": 2,
   "outputs": [
    {
     "name": "stdout",
     "output_type": "stream",
     "text": [
      "CPU times: user 12.5 s, sys: 177 ms, total: 12.7 s\n",
      "Wall time: 12.7 s\n"
     ]
    },
    {
     "data": {
      "text/plain": "                                             Name      Date  Time Event  \\\nDateTime            traj_id                                               \n1851-06-25 00:00:00 AL011851              UNNAMED  18510625     0         \n1851-06-25 06:00:00 AL011851              UNNAMED  18510625   600         \n1851-06-25 12:00:00 AL011851              UNNAMED  18510625  1200         \n1851-06-25 18:00:00 AL011851              UNNAMED  18510625  1800         \n1851-06-25 21:00:00 AL011851              UNNAMED  18510625  2100     L   \n\n                             Status   lat   lon  Maximum Wind  \\\nDateTime            traj_id                                     \n1851-06-25 00:00:00 AL011851     HU  28.0 -94.8            80   \n1851-06-25 06:00:00 AL011851     HU  28.0 -95.4            80   \n1851-06-25 12:00:00 AL011851     HU  28.0 -96.0            80   \n1851-06-25 18:00:00 AL011851     HU  28.1 -96.5            80   \n1851-06-25 21:00:00 AL011851     HU  28.2 -96.8            80   \n\n                              Minimum Pressure  Low Wind NE  ...  Low Wind SW  \\\nDateTime            traj_id                                  ...                \n1851-06-25 00:00:00 AL011851              -999         -999  ...         -999   \n1851-06-25 06:00:00 AL011851              -999         -999  ...         -999   \n1851-06-25 12:00:00 AL011851              -999         -999  ...         -999   \n1851-06-25 18:00:00 AL011851              -999         -999  ...         -999   \n1851-06-25 21:00:00 AL011851              -999         -999  ...         -999   \n\n                              Low Wind NW  Moderate Wind NE  Moderate Wind SE  \\\nDateTime            traj_id                                                     \n1851-06-25 00:00:00 AL011851         -999              -999              -999   \n1851-06-25 06:00:00 AL011851         -999              -999              -999   \n1851-06-25 12:00:00 AL011851         -999              -999              -999   \n1851-06-25 18:00:00 AL011851         -999              -999              -999   \n1851-06-25 21:00:00 AL011851         -999              -999              -999   \n\n                              Moderate Wind SW  Moderate Wind NW  \\\nDateTime            traj_id                                        \n1851-06-25 00:00:00 AL011851              -999              -999   \n1851-06-25 06:00:00 AL011851              -999              -999   \n1851-06-25 12:00:00 AL011851              -999              -999   \n1851-06-25 18:00:00 AL011851              -999              -999   \n1851-06-25 21:00:00 AL011851              -999              -999   \n\n                              High Wind NE  High Wind SE  High Wind SW  \\\nDateTime            traj_id                                              \n1851-06-25 00:00:00 AL011851          -999          -999          -999   \n1851-06-25 06:00:00 AL011851          -999          -999          -999   \n1851-06-25 12:00:00 AL011851          -999          -999          -999   \n1851-06-25 18:00:00 AL011851          -999          -999          -999   \n1851-06-25 21:00:00 AL011851          -999          -999          -999   \n\n                              High Wind NW  \nDateTime            traj_id                 \n1851-06-25 00:00:00 AL011851          -999  \n1851-06-25 06:00:00 AL011851          -999  \n1851-06-25 12:00:00 AL011851          -999  \n1851-06-25 18:00:00 AL011851          -999  \n1851-06-25 21:00:00 AL011851          -999  \n\n[5 rows x 21 columns]",
      "text/html": "<div>\n<style scoped>\n    .dataframe tbody tr th:only-of-type {\n        vertical-align: middle;\n    }\n\n    .dataframe tbody tr th {\n        vertical-align: top;\n    }\n\n    .dataframe thead th {\n        text-align: right;\n    }\n</style>\n<table border=\"1\" class=\"dataframe\">\n  <thead>\n    <tr style=\"text-align: right;\">\n      <th></th>\n      <th></th>\n      <th>Name</th>\n      <th>Date</th>\n      <th>Time</th>\n      <th>Event</th>\n      <th>Status</th>\n      <th>lat</th>\n      <th>lon</th>\n      <th>Maximum Wind</th>\n      <th>Minimum Pressure</th>\n      <th>Low Wind NE</th>\n      <th>...</th>\n      <th>Low Wind SW</th>\n      <th>Low Wind NW</th>\n      <th>Moderate Wind NE</th>\n      <th>Moderate Wind SE</th>\n      <th>Moderate Wind SW</th>\n      <th>Moderate Wind NW</th>\n      <th>High Wind NE</th>\n      <th>High Wind SE</th>\n      <th>High Wind SW</th>\n      <th>High Wind NW</th>\n    </tr>\n    <tr>\n      <th>DateTime</th>\n      <th>traj_id</th>\n      <th></th>\n      <th></th>\n      <th></th>\n      <th></th>\n      <th></th>\n      <th></th>\n      <th></th>\n      <th></th>\n      <th></th>\n      <th></th>\n      <th></th>\n      <th></th>\n      <th></th>\n      <th></th>\n      <th></th>\n      <th></th>\n      <th></th>\n      <th></th>\n      <th></th>\n      <th></th>\n      <th></th>\n    </tr>\n  </thead>\n  <tbody>\n    <tr>\n      <th>1851-06-25 00:00:00</th>\n      <th>AL011851</th>\n      <td>UNNAMED</td>\n      <td>18510625</td>\n      <td>0</td>\n      <td></td>\n      <td>HU</td>\n      <td>28.0</td>\n      <td>-94.8</td>\n      <td>80</td>\n      <td>-999</td>\n      <td>-999</td>\n      <td>...</td>\n      <td>-999</td>\n      <td>-999</td>\n      <td>-999</td>\n      <td>-999</td>\n      <td>-999</td>\n      <td>-999</td>\n      <td>-999</td>\n      <td>-999</td>\n      <td>-999</td>\n      <td>-999</td>\n    </tr>\n    <tr>\n      <th>1851-06-25 06:00:00</th>\n      <th>AL011851</th>\n      <td>UNNAMED</td>\n      <td>18510625</td>\n      <td>600</td>\n      <td></td>\n      <td>HU</td>\n      <td>28.0</td>\n      <td>-95.4</td>\n      <td>80</td>\n      <td>-999</td>\n      <td>-999</td>\n      <td>...</td>\n      <td>-999</td>\n      <td>-999</td>\n      <td>-999</td>\n      <td>-999</td>\n      <td>-999</td>\n      <td>-999</td>\n      <td>-999</td>\n      <td>-999</td>\n      <td>-999</td>\n      <td>-999</td>\n    </tr>\n    <tr>\n      <th>1851-06-25 12:00:00</th>\n      <th>AL011851</th>\n      <td>UNNAMED</td>\n      <td>18510625</td>\n      <td>1200</td>\n      <td></td>\n      <td>HU</td>\n      <td>28.0</td>\n      <td>-96.0</td>\n      <td>80</td>\n      <td>-999</td>\n      <td>-999</td>\n      <td>...</td>\n      <td>-999</td>\n      <td>-999</td>\n      <td>-999</td>\n      <td>-999</td>\n      <td>-999</td>\n      <td>-999</td>\n      <td>-999</td>\n      <td>-999</td>\n      <td>-999</td>\n      <td>-999</td>\n    </tr>\n    <tr>\n      <th>1851-06-25 18:00:00</th>\n      <th>AL011851</th>\n      <td>UNNAMED</td>\n      <td>18510625</td>\n      <td>1800</td>\n      <td></td>\n      <td>HU</td>\n      <td>28.1</td>\n      <td>-96.5</td>\n      <td>80</td>\n      <td>-999</td>\n      <td>-999</td>\n      <td>...</td>\n      <td>-999</td>\n      <td>-999</td>\n      <td>-999</td>\n      <td>-999</td>\n      <td>-999</td>\n      <td>-999</td>\n      <td>-999</td>\n      <td>-999</td>\n      <td>-999</td>\n      <td>-999</td>\n    </tr>\n    <tr>\n      <th>1851-06-25 21:00:00</th>\n      <th>AL011851</th>\n      <td>UNNAMED</td>\n      <td>18510625</td>\n      <td>2100</td>\n      <td>L</td>\n      <td>HU</td>\n      <td>28.2</td>\n      <td>-96.8</td>\n      <td>80</td>\n      <td>-999</td>\n      <td>-999</td>\n      <td>...</td>\n      <td>-999</td>\n      <td>-999</td>\n      <td>-999</td>\n      <td>-999</td>\n      <td>-999</td>\n      <td>-999</td>\n      <td>-999</td>\n      <td>-999</td>\n      <td>-999</td>\n      <td>-999</td>\n    </tr>\n  </tbody>\n</table>\n<p>5 rows × 21 columns</p>\n</div>"
     },
     "execution_count": 2,
     "metadata": {},
     "output_type": "execute_result"
    }
   ],
   "source": [
    "%%time\n",
    "# Reading the geolife dataset and converting to NumPandasTraj.\n",
    "geolife = pd.read_csv('./data/geolife_sample.csv')\n",
    "geolife = NumTrajDF(geolife,'lat','lon','datetime','id')\n",
    "\n",
    "# Reading the gulls dataset and converting to NumPandasTraj.\n",
    "gulls = pd.read_csv('./data/gulls.csv')\n",
    "gulls = NumTrajDF(gulls,\n",
    "                 latitude='location-lat',\n",
    "                 longitude='location-long',\n",
    "                 datetime='timestamp',\n",
    "                 traj_id='tag-local-identifier',\n",
    "                 rest_of_columns=[])\n",
    "\n",
    "# Reading the atlantic dataset, cleaning it up and then converting\n",
    "# it to NumPandasTraj.\n",
    "atlantic = pd.read_csv('./data/atlantic.csv')\n",
    "atlantic = con.convert_directions_to_degree_lat_lon(atlantic, 'Latitude',\"Longitude\")\n",
    "def convert_to_datetime(row):\n",
    "        this_date = '{}-{}-{}'.format(str(row['Date'])[0:4], str(row['Date'])[4:6], str(row['Date'])[6:])\n",
    "        this_time = '{:02d}:{:02d}:00'.format(int(row['Time']/100), int(str(row['Time'])[-2:]))\n",
    "        return '{} {}'.format(this_date, this_time)\n",
    "atlantic['DateTime'] = atlantic.apply(convert_to_datetime, axis=1)\n",
    "atlantic = NumTrajDF(atlantic,\n",
    "                         latitude='Latitude',\n",
    "                         longitude='Longitude',\n",
    "                         datetime='DateTime',\n",
    "                         traj_id='ID',\n",
    "                         rest_of_columns=[])\n",
    "atlantic.head()"
   ],
   "metadata": {
    "collapsed": false,
    "pycharm": {
     "name": "#%%\n"
    }
   }
  },
  {
   "cell_type": "code",
   "execution_count": 3,
   "outputs": [
    {
     "name": "stdout",
     "output_type": "stream",
     "text": [
      "(22.147577, 113.54884299999999, 41.132062, 121.156224)\n",
      "(-62.71617, 4.02517, 65.2325, 103.19317)\n",
      "(7.2, -359.1, 81.0, 63.0)\n",
      "CPU times: user 12.9 ms, sys: 52 µs, total: 13 ms\n",
      "Wall time: 11.2 ms\n"
     ]
    }
   ],
   "source": [
    "%%time\n",
    "\n",
    "# Now, lets get the bounding boxes of all the dataframes.\n",
    "print(spatial.get_bounding_box(geolife))\n",
    "print(spatial.get_bounding_box(gulls))\n",
    "print(spatial.get_bounding_box(atlantic))"
   ],
   "metadata": {
    "collapsed": false,
    "pycharm": {
     "name": "#%%\n"
    }
   }
  },
  {
   "cell_type": "code",
   "execution_count": 4,
   "outputs": [
    {
     "name": "stdout",
     "output_type": "stream",
     "text": [
      "(39.984224, 116.319402)\n",
      "(61.27033, 24.144000000000002)\n",
      "(28.0, -94.8)\n",
      "CPU times: user 51.7 ms, sys: 3.98 ms, total: 55.7 ms\n",
      "Wall time: 53.4 ms\n"
     ]
    }
   ],
   "source": [
    "%%time\n",
    "\n",
    "# Now, lets get the start times of all the dataframes without\n",
    "# giving a traj_id.\n",
    "print(spatial.get_start_location(geolife))\n",
    "print(spatial.get_start_location(gulls))\n",
    "print(spatial.get_start_location(atlantic))"
   ],
   "metadata": {
    "collapsed": false,
    "pycharm": {
     "name": "#%%\n"
    }
   }
  },
  {
   "cell_type": "code",
   "execution_count": 5,
   "outputs": [
    {
     "name": "stdout",
     "output_type": "stream",
     "text": [
      "(39.984224, 116.319402)\n",
      "(61.24783000000001, 24.586170000000003)\n",
      "(28.0, -94.8)\n",
      "CPU times: user 131 ms, sys: 3.69 ms, total: 135 ms\n",
      "Wall time: 132 ms\n"
     ]
    }
   ],
   "source": [
    "%%time\n",
    "\n",
    "# Now lets check the start times of all dataframes with a traj_id.\n",
    "print(spatial.get_start_location(geolife, '1'))\n",
    "print(spatial.get_start_location(gulls, \"91732\"))\n",
    "print(spatial.get_start_location(atlantic, 'AL011851'))"
   ],
   "metadata": {
    "collapsed": false,
    "pycharm": {
     "name": "#%%\n"
    }
   }
  },
  {
   "cell_type": "code",
   "execution_count": 6,
   "outputs": [
    {
     "name": "stdout",
     "output_type": "stream",
     "text": [
      "(39.999978000000006, 116.32746000000002)\n",
      "(56.566, 21.19633)\n",
      "(40.7, -45.4)\n",
      "CPU times: user 62.5 ms, sys: 104 µs, total: 62.6 ms\n",
      "Wall time: 59.4 ms\n"
     ]
    }
   ],
   "source": [
    "%%time\n",
    "\n",
    "# Now, lets get the start times of all the dataframes without\n",
    "# giving a traj_id.\n",
    "print(spatial.get_end_location(geolife))\n",
    "print(spatial.get_end_location(gulls))\n",
    "print(spatial.get_end_location(atlantic))"
   ],
   "metadata": {
    "collapsed": false,
    "pycharm": {
     "name": "#%%\n"
    }
   }
  },
  {
   "cell_type": "code",
   "execution_count": 7,
   "outputs": [
    {
     "name": "stdout",
     "output_type": "stream",
     "text": [
      "(39.977878999999994, 116.326628)\n",
      "(31.09783, 29.812170000000002)\n",
      "(31.0, -100.2)\n",
      "CPU times: user 130 ms, sys: 131 µs, total: 131 ms\n",
      "Wall time: 128 ms\n"
     ]
    }
   ],
   "source": [
    "%%time\n",
    "\n",
    "# Now lets check the start times of all dataframes with a traj_id.\n",
    "print(spatial.get_end_location(geolife, '1'))\n",
    "print(spatial.get_end_location(gulls, \"91732\"))\n",
    "print(spatial.get_end_location(atlantic, 'AL011851'))"
   ],
   "metadata": {
    "collapsed": false,
    "pycharm": {
     "name": "#%%\n"
    }
   }
  },
  {
   "cell_type": "code",
   "execution_count": 8,
   "outputs": [
    {
     "name": "stdout",
     "output_type": "stream",
     "text": [
      "CPU times: user 214 ms, sys: 55.9 ms, total: 270 ms\n",
      "Wall time: 599 ms\n"
     ]
    },
    {
     "data": {
      "text/plain": "                                   lat         lon  Distance_prev_to_curr\nDateTime            traj_id                                              \n2008-10-23 16:53:05 1        39.984094  116.319236               0.000000\n2008-10-23 16:53:06 1        39.984198  116.319322              13.690153\n2008-10-23 05:53:11 1        39.984224  116.319402               7.403788\n2008-10-23 05:53:16 1        39.984211  116.319389               1.821083\n2008-10-23 05:53:21 1        39.984217  116.319422               2.889671\n2008-10-23 05:53:23 1        39.984710  116.319865              66.555997\n2008-10-23 05:53:28 1        39.984674  116.319810               6.162987\n2008-10-23 05:53:33 1        39.984623  116.319773               6.488225\n2008-10-23 05:53:38 1        39.984606  116.319732               3.971848\n2008-10-23 05:53:43 1        39.984555  116.319728               5.681172",
      "text/html": "<div>\n<style scoped>\n    .dataframe tbody tr th:only-of-type {\n        vertical-align: middle;\n    }\n\n    .dataframe tbody tr th {\n        vertical-align: top;\n    }\n\n    .dataframe thead th {\n        text-align: right;\n    }\n</style>\n<table border=\"1\" class=\"dataframe\">\n  <thead>\n    <tr style=\"text-align: right;\">\n      <th></th>\n      <th></th>\n      <th>lat</th>\n      <th>lon</th>\n      <th>Distance_prev_to_curr</th>\n    </tr>\n    <tr>\n      <th>DateTime</th>\n      <th>traj_id</th>\n      <th></th>\n      <th></th>\n      <th></th>\n    </tr>\n  </thead>\n  <tbody>\n    <tr>\n      <th>2008-10-23 16:53:05</th>\n      <th>1</th>\n      <td>39.984094</td>\n      <td>116.319236</td>\n      <td>0.000000</td>\n    </tr>\n    <tr>\n      <th>2008-10-23 16:53:06</th>\n      <th>1</th>\n      <td>39.984198</td>\n      <td>116.319322</td>\n      <td>13.690153</td>\n    </tr>\n    <tr>\n      <th>2008-10-23 05:53:11</th>\n      <th>1</th>\n      <td>39.984224</td>\n      <td>116.319402</td>\n      <td>7.403788</td>\n    </tr>\n    <tr>\n      <th>2008-10-23 05:53:16</th>\n      <th>1</th>\n      <td>39.984211</td>\n      <td>116.319389</td>\n      <td>1.821083</td>\n    </tr>\n    <tr>\n      <th>2008-10-23 05:53:21</th>\n      <th>1</th>\n      <td>39.984217</td>\n      <td>116.319422</td>\n      <td>2.889671</td>\n    </tr>\n    <tr>\n      <th>2008-10-23 05:53:23</th>\n      <th>1</th>\n      <td>39.984710</td>\n      <td>116.319865</td>\n      <td>66.555997</td>\n    </tr>\n    <tr>\n      <th>2008-10-23 05:53:28</th>\n      <th>1</th>\n      <td>39.984674</td>\n      <td>116.319810</td>\n      <td>6.162987</td>\n    </tr>\n    <tr>\n      <th>2008-10-23 05:53:33</th>\n      <th>1</th>\n      <td>39.984623</td>\n      <td>116.319773</td>\n      <td>6.488225</td>\n    </tr>\n    <tr>\n      <th>2008-10-23 05:53:38</th>\n      <th>1</th>\n      <td>39.984606</td>\n      <td>116.319732</td>\n      <td>3.971848</td>\n    </tr>\n    <tr>\n      <th>2008-10-23 05:53:43</th>\n      <th>1</th>\n      <td>39.984555</td>\n      <td>116.319728</td>\n      <td>5.681172</td>\n    </tr>\n  </tbody>\n</table>\n</div>"
     },
     "execution_count": 8,
     "metadata": {},
     "output_type": "execute_result"
    }
   ],
   "source": [
    "%%time\n",
    "\n",
    "# Now, lets calculate the distance between 2 consecutive points for\n",
    "# each dataset one by one.\n",
    "# First, we will check the distances between 2 consecutive points\n",
    "# in the geolife dataset.\n",
    "geolife = spatial.create_distance_between_consecutive_column(geolife)\n",
    "geolife.head(10)"
   ],
   "metadata": {
    "collapsed": false,
    "pycharm": {
     "name": "#%%\n"
    }
   }
  },
  {
   "cell_type": "code",
   "execution_count": 9,
   "outputs": [
    {
     "data": {
      "text/plain": "                               event-id  visible       lon       lat  \\\nDateTime            traj_id                                            \n2009-05-27 14:00:00 91732    1082620685     True  24.58617  61.24783   \n2009-05-27 20:00:00 91732    1082620686     True  24.58217  61.23267   \n2009-05-28 05:00:00 91732    1082620687     True  24.53133  61.18833   \n2009-05-28 08:00:00 91732    1082620688     True  24.58200  61.23283   \n2009-05-28 14:00:00 91732    1082620689     True  24.58250  61.23267   \n\n                            sensor-type individual-taxon-canonical-name  \\\nDateTime            traj_id                                               \n2009-05-27 14:00:00 91732           gps                    Larus fuscus   \n2009-05-27 20:00:00 91732           gps                    Larus fuscus   \n2009-05-28 05:00:00 91732           gps                    Larus fuscus   \n2009-05-28 08:00:00 91732           gps                    Larus fuscus   \n2009-05-28 14:00:00 91732           gps                    Larus fuscus   \n\n                            individual-local-identifier  \\\nDateTime            traj_id                               \n2009-05-27 14:00:00 91732                        91732A   \n2009-05-27 20:00:00 91732                        91732A   \n2009-05-28 05:00:00 91732                        91732A   \n2009-05-28 08:00:00 91732                        91732A   \n2009-05-28 14:00:00 91732                        91732A   \n\n                                                                    study-name  \\\nDateTime            traj_id                                                      \n2009-05-27 14:00:00 91732    Navigation experiments in lesser black-backed ...   \n2009-05-27 20:00:00 91732    Navigation experiments in lesser black-backed ...   \n2009-05-28 05:00:00 91732    Navigation experiments in lesser black-backed ...   \n2009-05-28 08:00:00 91732    Navigation experiments in lesser black-backed ...   \n2009-05-28 14:00:00 91732    Navigation experiments in lesser black-backed ...   \n\n                             Distance_prev_to_curr  \nDateTime            traj_id                         \n2009-05-27 14:00:00 91732                 0.000000  \n2009-05-27 20:00:00 91732              1699.244398  \n2009-05-28 05:00:00 91732              5632.120064  \n2009-05-28 08:00:00 91732              5643.314949  \n2009-05-28 14:00:00 91732                32.131494  ",
      "text/html": "<div>\n<style scoped>\n    .dataframe tbody tr th:only-of-type {\n        vertical-align: middle;\n    }\n\n    .dataframe tbody tr th {\n        vertical-align: top;\n    }\n\n    .dataframe thead th {\n        text-align: right;\n    }\n</style>\n<table border=\"1\" class=\"dataframe\">\n  <thead>\n    <tr style=\"text-align: right;\">\n      <th></th>\n      <th></th>\n      <th>event-id</th>\n      <th>visible</th>\n      <th>lon</th>\n      <th>lat</th>\n      <th>sensor-type</th>\n      <th>individual-taxon-canonical-name</th>\n      <th>individual-local-identifier</th>\n      <th>study-name</th>\n      <th>Distance_prev_to_curr</th>\n    </tr>\n    <tr>\n      <th>DateTime</th>\n      <th>traj_id</th>\n      <th></th>\n      <th></th>\n      <th></th>\n      <th></th>\n      <th></th>\n      <th></th>\n      <th></th>\n      <th></th>\n      <th></th>\n    </tr>\n  </thead>\n  <tbody>\n    <tr>\n      <th>2009-05-27 14:00:00</th>\n      <th>91732</th>\n      <td>1082620685</td>\n      <td>True</td>\n      <td>24.58617</td>\n      <td>61.24783</td>\n      <td>gps</td>\n      <td>Larus fuscus</td>\n      <td>91732A</td>\n      <td>Navigation experiments in lesser black-backed ...</td>\n      <td>0.000000</td>\n    </tr>\n    <tr>\n      <th>2009-05-27 20:00:00</th>\n      <th>91732</th>\n      <td>1082620686</td>\n      <td>True</td>\n      <td>24.58217</td>\n      <td>61.23267</td>\n      <td>gps</td>\n      <td>Larus fuscus</td>\n      <td>91732A</td>\n      <td>Navigation experiments in lesser black-backed ...</td>\n      <td>1699.244398</td>\n    </tr>\n    <tr>\n      <th>2009-05-28 05:00:00</th>\n      <th>91732</th>\n      <td>1082620687</td>\n      <td>True</td>\n      <td>24.53133</td>\n      <td>61.18833</td>\n      <td>gps</td>\n      <td>Larus fuscus</td>\n      <td>91732A</td>\n      <td>Navigation experiments in lesser black-backed ...</td>\n      <td>5632.120064</td>\n    </tr>\n    <tr>\n      <th>2009-05-28 08:00:00</th>\n      <th>91732</th>\n      <td>1082620688</td>\n      <td>True</td>\n      <td>24.58200</td>\n      <td>61.23283</td>\n      <td>gps</td>\n      <td>Larus fuscus</td>\n      <td>91732A</td>\n      <td>Navigation experiments in lesser black-backed ...</td>\n      <td>5643.314949</td>\n    </tr>\n    <tr>\n      <th>2009-05-28 14:00:00</th>\n      <th>91732</th>\n      <td>1082620689</td>\n      <td>True</td>\n      <td>24.58250</td>\n      <td>61.23267</td>\n      <td>gps</td>\n      <td>Larus fuscus</td>\n      <td>91732A</td>\n      <td>Navigation experiments in lesser black-backed ...</td>\n      <td>32.131494</td>\n    </tr>\n  </tbody>\n</table>\n</div>"
     },
     "execution_count": 9,
     "metadata": {},
     "output_type": "execute_result"
    }
   ],
   "source": [
    "# %%time\n",
    "# # Here, we check the distance between 2 consecutive points\n",
    "# # in the seagulls dataset.\n",
    "gulls = spatial.create_distance_between_consecutive_column(gulls)\n",
    "gulls.head()"
   ],
   "metadata": {
    "collapsed": false,
    "pycharm": {
     "name": "#%%\n"
    }
   }
  },
  {
   "cell_type": "code",
   "execution_count": 10,
   "outputs": [
    {
     "data": {
      "text/plain": "                                             Name      Date  Time Event  \\\nDateTime            traj_id                                               \n1851-06-25 00:00:00 AL011851              UNNAMED  18510625     0         \n1851-06-25 06:00:00 AL011851              UNNAMED  18510625   600         \n1851-06-25 12:00:00 AL011851              UNNAMED  18510625  1200         \n1851-06-25 18:00:00 AL011851              UNNAMED  18510625  1800         \n1851-06-25 21:00:00 AL011851              UNNAMED  18510625  2100     L   \n\n                             Status   lat   lon  Maximum Wind  \\\nDateTime            traj_id                                     \n1851-06-25 00:00:00 AL011851     HU  28.0 -94.8            80   \n1851-06-25 06:00:00 AL011851     HU  28.0 -95.4            80   \n1851-06-25 12:00:00 AL011851     HU  28.0 -96.0            80   \n1851-06-25 18:00:00 AL011851     HU  28.1 -96.5            80   \n1851-06-25 21:00:00 AL011851     HU  28.2 -96.8            80   \n\n                              Minimum Pressure  Low Wind NE  ...  Low Wind NW  \\\nDateTime            traj_id                                  ...                \n1851-06-25 00:00:00 AL011851              -999         -999  ...         -999   \n1851-06-25 06:00:00 AL011851              -999         -999  ...         -999   \n1851-06-25 12:00:00 AL011851              -999         -999  ...         -999   \n1851-06-25 18:00:00 AL011851              -999         -999  ...         -999   \n1851-06-25 21:00:00 AL011851              -999         -999  ...         -999   \n\n                              Moderate Wind NE  Moderate Wind SE  \\\nDateTime            traj_id                                        \n1851-06-25 00:00:00 AL011851              -999              -999   \n1851-06-25 06:00:00 AL011851              -999              -999   \n1851-06-25 12:00:00 AL011851              -999              -999   \n1851-06-25 18:00:00 AL011851              -999              -999   \n1851-06-25 21:00:00 AL011851              -999              -999   \n\n                              Moderate Wind SW  Moderate Wind NW  \\\nDateTime            traj_id                                        \n1851-06-25 00:00:00 AL011851              -999              -999   \n1851-06-25 06:00:00 AL011851              -999              -999   \n1851-06-25 12:00:00 AL011851              -999              -999   \n1851-06-25 18:00:00 AL011851              -999              -999   \n1851-06-25 21:00:00 AL011851              -999              -999   \n\n                              High Wind NE  High Wind SE  High Wind SW  \\\nDateTime            traj_id                                              \n1851-06-25 00:00:00 AL011851          -999          -999          -999   \n1851-06-25 06:00:00 AL011851          -999          -999          -999   \n1851-06-25 12:00:00 AL011851          -999          -999          -999   \n1851-06-25 18:00:00 AL011851          -999          -999          -999   \n1851-06-25 21:00:00 AL011851          -999          -999          -999   \n\n                              High Wind NW  Distance_prev_to_curr  \nDateTime            traj_id                                        \n1851-06-25 00:00:00 AL011851          -999               0.000000  \n1851-06-25 06:00:00 AL011851          -999           58907.516366  \n1851-06-25 12:00:00 AL011851          -999           58907.516366  \n1851-06-25 18:00:00 AL011851          -999           50310.976622  \n1851-06-25 21:00:00 AL011851          -999           31444.370265  \n\n[5 rows x 22 columns]",
      "text/html": "<div>\n<style scoped>\n    .dataframe tbody tr th:only-of-type {\n        vertical-align: middle;\n    }\n\n    .dataframe tbody tr th {\n        vertical-align: top;\n    }\n\n    .dataframe thead th {\n        text-align: right;\n    }\n</style>\n<table border=\"1\" class=\"dataframe\">\n  <thead>\n    <tr style=\"text-align: right;\">\n      <th></th>\n      <th></th>\n      <th>Name</th>\n      <th>Date</th>\n      <th>Time</th>\n      <th>Event</th>\n      <th>Status</th>\n      <th>lat</th>\n      <th>lon</th>\n      <th>Maximum Wind</th>\n      <th>Minimum Pressure</th>\n      <th>Low Wind NE</th>\n      <th>...</th>\n      <th>Low Wind NW</th>\n      <th>Moderate Wind NE</th>\n      <th>Moderate Wind SE</th>\n      <th>Moderate Wind SW</th>\n      <th>Moderate Wind NW</th>\n      <th>High Wind NE</th>\n      <th>High Wind SE</th>\n      <th>High Wind SW</th>\n      <th>High Wind NW</th>\n      <th>Distance_prev_to_curr</th>\n    </tr>\n    <tr>\n      <th>DateTime</th>\n      <th>traj_id</th>\n      <th></th>\n      <th></th>\n      <th></th>\n      <th></th>\n      <th></th>\n      <th></th>\n      <th></th>\n      <th></th>\n      <th></th>\n      <th></th>\n      <th></th>\n      <th></th>\n      <th></th>\n      <th></th>\n      <th></th>\n      <th></th>\n      <th></th>\n      <th></th>\n      <th></th>\n      <th></th>\n      <th></th>\n    </tr>\n  </thead>\n  <tbody>\n    <tr>\n      <th>1851-06-25 00:00:00</th>\n      <th>AL011851</th>\n      <td>UNNAMED</td>\n      <td>18510625</td>\n      <td>0</td>\n      <td></td>\n      <td>HU</td>\n      <td>28.0</td>\n      <td>-94.8</td>\n      <td>80</td>\n      <td>-999</td>\n      <td>-999</td>\n      <td>...</td>\n      <td>-999</td>\n      <td>-999</td>\n      <td>-999</td>\n      <td>-999</td>\n      <td>-999</td>\n      <td>-999</td>\n      <td>-999</td>\n      <td>-999</td>\n      <td>-999</td>\n      <td>0.000000</td>\n    </tr>\n    <tr>\n      <th>1851-06-25 06:00:00</th>\n      <th>AL011851</th>\n      <td>UNNAMED</td>\n      <td>18510625</td>\n      <td>600</td>\n      <td></td>\n      <td>HU</td>\n      <td>28.0</td>\n      <td>-95.4</td>\n      <td>80</td>\n      <td>-999</td>\n      <td>-999</td>\n      <td>...</td>\n      <td>-999</td>\n      <td>-999</td>\n      <td>-999</td>\n      <td>-999</td>\n      <td>-999</td>\n      <td>-999</td>\n      <td>-999</td>\n      <td>-999</td>\n      <td>-999</td>\n      <td>58907.516366</td>\n    </tr>\n    <tr>\n      <th>1851-06-25 12:00:00</th>\n      <th>AL011851</th>\n      <td>UNNAMED</td>\n      <td>18510625</td>\n      <td>1200</td>\n      <td></td>\n      <td>HU</td>\n      <td>28.0</td>\n      <td>-96.0</td>\n      <td>80</td>\n      <td>-999</td>\n      <td>-999</td>\n      <td>...</td>\n      <td>-999</td>\n      <td>-999</td>\n      <td>-999</td>\n      <td>-999</td>\n      <td>-999</td>\n      <td>-999</td>\n      <td>-999</td>\n      <td>-999</td>\n      <td>-999</td>\n      <td>58907.516366</td>\n    </tr>\n    <tr>\n      <th>1851-06-25 18:00:00</th>\n      <th>AL011851</th>\n      <td>UNNAMED</td>\n      <td>18510625</td>\n      <td>1800</td>\n      <td></td>\n      <td>HU</td>\n      <td>28.1</td>\n      <td>-96.5</td>\n      <td>80</td>\n      <td>-999</td>\n      <td>-999</td>\n      <td>...</td>\n      <td>-999</td>\n      <td>-999</td>\n      <td>-999</td>\n      <td>-999</td>\n      <td>-999</td>\n      <td>-999</td>\n      <td>-999</td>\n      <td>-999</td>\n      <td>-999</td>\n      <td>50310.976622</td>\n    </tr>\n    <tr>\n      <th>1851-06-25 21:00:00</th>\n      <th>AL011851</th>\n      <td>UNNAMED</td>\n      <td>18510625</td>\n      <td>2100</td>\n      <td>L</td>\n      <td>HU</td>\n      <td>28.2</td>\n      <td>-96.8</td>\n      <td>80</td>\n      <td>-999</td>\n      <td>-999</td>\n      <td>...</td>\n      <td>-999</td>\n      <td>-999</td>\n      <td>-999</td>\n      <td>-999</td>\n      <td>-999</td>\n      <td>-999</td>\n      <td>-999</td>\n      <td>-999</td>\n      <td>-999</td>\n      <td>31444.370265</td>\n    </tr>\n  </tbody>\n</table>\n<p>5 rows × 22 columns</p>\n</div>"
     },
     "execution_count": 10,
     "metadata": {},
     "output_type": "execute_result"
    }
   ],
   "source": [
    "# %%time\n",
    "# Here, we check the distance between 2 consecutive points\n",
    "# in the atlantic dataset.\n",
    "atlantic = spatial.create_distance_between_consecutive_column(atlantic)\n",
    "atlantic.head()"
   ],
   "metadata": {
    "collapsed": false,
    "pycharm": {
     "name": "#%%\n"
    }
   }
  },
  {
   "cell_type": "code",
   "execution_count": 11,
   "outputs": [
    {
     "name": "stdout",
     "output_type": "stream",
     "text": [
      "CPU times: user 191 ms, sys: 56.3 ms, total: 247 ms\n",
      "Wall time: 571 ms\n"
     ]
    },
    {
     "data": {
      "text/plain": "                                   lat         lon  Distance_prev_to_curr  \\\nDateTime            traj_id                                                 \n2008-10-23 16:53:05 1        39.984094  116.319236               0.000000   \n2008-10-23 16:53:06 1        39.984198  116.319322              13.690153   \n2008-10-23 05:53:11 1        39.984224  116.319402               7.403788   \n2008-10-23 05:53:16 1        39.984211  116.319389               1.821083   \n2008-10-23 05:53:21 1        39.984217  116.319422               2.889671   \n\n                             Distance_start_to_curr  \nDateTime            traj_id                          \n2008-10-23 16:53:05 1                      0.000000  \n2008-10-23 16:53:06 1                     13.690153  \n2008-10-23 05:53:11 1                     20.223428  \n2008-10-23 05:53:16 1                     18.416895  \n2008-10-23 05:53:21 1                     20.933073  ",
      "text/html": "<div>\n<style scoped>\n    .dataframe tbody tr th:only-of-type {\n        vertical-align: middle;\n    }\n\n    .dataframe tbody tr th {\n        vertical-align: top;\n    }\n\n    .dataframe thead th {\n        text-align: right;\n    }\n</style>\n<table border=\"1\" class=\"dataframe\">\n  <thead>\n    <tr style=\"text-align: right;\">\n      <th></th>\n      <th></th>\n      <th>lat</th>\n      <th>lon</th>\n      <th>Distance_prev_to_curr</th>\n      <th>Distance_start_to_curr</th>\n    </tr>\n    <tr>\n      <th>DateTime</th>\n      <th>traj_id</th>\n      <th></th>\n      <th></th>\n      <th></th>\n      <th></th>\n    </tr>\n  </thead>\n  <tbody>\n    <tr>\n      <th>2008-10-23 16:53:05</th>\n      <th>1</th>\n      <td>39.984094</td>\n      <td>116.319236</td>\n      <td>0.000000</td>\n      <td>0.000000</td>\n    </tr>\n    <tr>\n      <th>2008-10-23 16:53:06</th>\n      <th>1</th>\n      <td>39.984198</td>\n      <td>116.319322</td>\n      <td>13.690153</td>\n      <td>13.690153</td>\n    </tr>\n    <tr>\n      <th>2008-10-23 05:53:11</th>\n      <th>1</th>\n      <td>39.984224</td>\n      <td>116.319402</td>\n      <td>7.403788</td>\n      <td>20.223428</td>\n    </tr>\n    <tr>\n      <th>2008-10-23 05:53:16</th>\n      <th>1</th>\n      <td>39.984211</td>\n      <td>116.319389</td>\n      <td>1.821083</td>\n      <td>18.416895</td>\n    </tr>\n    <tr>\n      <th>2008-10-23 05:53:21</th>\n      <th>1</th>\n      <td>39.984217</td>\n      <td>116.319422</td>\n      <td>2.889671</td>\n      <td>20.933073</td>\n    </tr>\n  </tbody>\n</table>\n</div>"
     },
     "execution_count": 11,
     "metadata": {},
     "output_type": "execute_result"
    }
   ],
   "source": [
    "%%time\n",
    "\n",
    "# Now, lets calculate the distance from start to current point for\n",
    "# each dataset one by one.\n",
    "# Here, we check the distance between start to all points\n",
    "# in the geolife dataset.\n",
    "\n",
    "geolife = spatial.create_distance_from_start_column(geolife)\n",
    "geolife.head()"
   ],
   "metadata": {
    "collapsed": false,
    "pycharm": {
     "name": "#%%\n"
    }
   }
  },
  {
   "cell_type": "code",
   "execution_count": 12,
   "outputs": [
    {
     "name": "stdout",
     "output_type": "stream",
     "text": [
      "CPU times: user 184 ms, sys: 55.5 ms, total: 239 ms\n",
      "Wall time: 685 ms\n"
     ]
    },
    {
     "data": {
      "text/plain": "                               event-id  visible       lon       lat  \\\nDateTime            traj_id                                            \n2009-05-27 14:00:00 91732    1082620685     True  24.58617  61.24783   \n2009-05-27 20:00:00 91732    1082620686     True  24.58217  61.23267   \n2009-05-28 05:00:00 91732    1082620687     True  24.53133  61.18833   \n2009-05-28 08:00:00 91732    1082620688     True  24.58200  61.23283   \n2009-05-28 14:00:00 91732    1082620689     True  24.58250  61.23267   \n\n                            sensor-type individual-taxon-canonical-name  \\\nDateTime            traj_id                                               \n2009-05-27 14:00:00 91732           gps                    Larus fuscus   \n2009-05-27 20:00:00 91732           gps                    Larus fuscus   \n2009-05-28 05:00:00 91732           gps                    Larus fuscus   \n2009-05-28 08:00:00 91732           gps                    Larus fuscus   \n2009-05-28 14:00:00 91732           gps                    Larus fuscus   \n\n                            individual-local-identifier  \\\nDateTime            traj_id                               \n2009-05-27 14:00:00 91732                        91732A   \n2009-05-27 20:00:00 91732                        91732A   \n2009-05-28 05:00:00 91732                        91732A   \n2009-05-28 08:00:00 91732                        91732A   \n2009-05-28 14:00:00 91732                        91732A   \n\n                                                                    study-name  \\\nDateTime            traj_id                                                      \n2009-05-27 14:00:00 91732    Navigation experiments in lesser black-backed ...   \n2009-05-27 20:00:00 91732    Navigation experiments in lesser black-backed ...   \n2009-05-28 05:00:00 91732    Navigation experiments in lesser black-backed ...   \n2009-05-28 08:00:00 91732    Navigation experiments in lesser black-backed ...   \n2009-05-28 14:00:00 91732    Navigation experiments in lesser black-backed ...   \n\n                             Distance_prev_to_curr  Distance_start_to_curr  \nDateTime            traj_id                                                 \n2009-05-27 14:00:00 91732                 0.000000                0.000000  \n2009-05-27 20:00:00 91732              1699.244398             1699.244398  \n2009-05-28 05:00:00 91732              5632.120064             7238.295521  \n2009-05-28 08:00:00 91732              5643.314949             1682.777895  \n2009-05-28 14:00:00 91732                32.131494             1697.111327  ",
      "text/html": "<div>\n<style scoped>\n    .dataframe tbody tr th:only-of-type {\n        vertical-align: middle;\n    }\n\n    .dataframe tbody tr th {\n        vertical-align: top;\n    }\n\n    .dataframe thead th {\n        text-align: right;\n    }\n</style>\n<table border=\"1\" class=\"dataframe\">\n  <thead>\n    <tr style=\"text-align: right;\">\n      <th></th>\n      <th></th>\n      <th>event-id</th>\n      <th>visible</th>\n      <th>lon</th>\n      <th>lat</th>\n      <th>sensor-type</th>\n      <th>individual-taxon-canonical-name</th>\n      <th>individual-local-identifier</th>\n      <th>study-name</th>\n      <th>Distance_prev_to_curr</th>\n      <th>Distance_start_to_curr</th>\n    </tr>\n    <tr>\n      <th>DateTime</th>\n      <th>traj_id</th>\n      <th></th>\n      <th></th>\n      <th></th>\n      <th></th>\n      <th></th>\n      <th></th>\n      <th></th>\n      <th></th>\n      <th></th>\n      <th></th>\n    </tr>\n  </thead>\n  <tbody>\n    <tr>\n      <th>2009-05-27 14:00:00</th>\n      <th>91732</th>\n      <td>1082620685</td>\n      <td>True</td>\n      <td>24.58617</td>\n      <td>61.24783</td>\n      <td>gps</td>\n      <td>Larus fuscus</td>\n      <td>91732A</td>\n      <td>Navigation experiments in lesser black-backed ...</td>\n      <td>0.000000</td>\n      <td>0.000000</td>\n    </tr>\n    <tr>\n      <th>2009-05-27 20:00:00</th>\n      <th>91732</th>\n      <td>1082620686</td>\n      <td>True</td>\n      <td>24.58217</td>\n      <td>61.23267</td>\n      <td>gps</td>\n      <td>Larus fuscus</td>\n      <td>91732A</td>\n      <td>Navigation experiments in lesser black-backed ...</td>\n      <td>1699.244398</td>\n      <td>1699.244398</td>\n    </tr>\n    <tr>\n      <th>2009-05-28 05:00:00</th>\n      <th>91732</th>\n      <td>1082620687</td>\n      <td>True</td>\n      <td>24.53133</td>\n      <td>61.18833</td>\n      <td>gps</td>\n      <td>Larus fuscus</td>\n      <td>91732A</td>\n      <td>Navigation experiments in lesser black-backed ...</td>\n      <td>5632.120064</td>\n      <td>7238.295521</td>\n    </tr>\n    <tr>\n      <th>2009-05-28 08:00:00</th>\n      <th>91732</th>\n      <td>1082620688</td>\n      <td>True</td>\n      <td>24.58200</td>\n      <td>61.23283</td>\n      <td>gps</td>\n      <td>Larus fuscus</td>\n      <td>91732A</td>\n      <td>Navigation experiments in lesser black-backed ...</td>\n      <td>5643.314949</td>\n      <td>1682.777895</td>\n    </tr>\n    <tr>\n      <th>2009-05-28 14:00:00</th>\n      <th>91732</th>\n      <td>1082620689</td>\n      <td>True</td>\n      <td>24.58250</td>\n      <td>61.23267</td>\n      <td>gps</td>\n      <td>Larus fuscus</td>\n      <td>91732A</td>\n      <td>Navigation experiments in lesser black-backed ...</td>\n      <td>32.131494</td>\n      <td>1697.111327</td>\n    </tr>\n  </tbody>\n</table>\n</div>"
     },
     "execution_count": 12,
     "metadata": {},
     "output_type": "execute_result"
    }
   ],
   "source": [
    "%%time\n",
    "# Here, we check the distance between start to all points\n",
    "# in the seagulls dataset.\n",
    "gulls = spatial.create_distance_from_start_column(gulls)\n",
    "gulls.head()"
   ],
   "metadata": {
    "collapsed": false,
    "pycharm": {
     "name": "#%%\n"
    }
   }
  },
  {
   "cell_type": "code",
   "execution_count": 13,
   "outputs": [
    {
     "name": "stdout",
     "output_type": "stream",
     "text": [
      "CPU times: user 142 ms, sys: 68 ms, total: 210 ms\n",
      "Wall time: 560 ms\n"
     ]
    },
    {
     "data": {
      "text/plain": "                                             Name      Date  Time Event  \\\nDateTime            traj_id                                               \n1851-06-25 00:00:00 AL011851              UNNAMED  18510625     0         \n1851-06-25 06:00:00 AL011851              UNNAMED  18510625   600         \n1851-06-25 12:00:00 AL011851              UNNAMED  18510625  1200         \n1851-06-25 18:00:00 AL011851              UNNAMED  18510625  1800         \n1851-06-25 21:00:00 AL011851              UNNAMED  18510625  2100     L   \n\n                             Status   lat   lon  Maximum Wind  \\\nDateTime            traj_id                                     \n1851-06-25 00:00:00 AL011851     HU  28.0 -94.8            80   \n1851-06-25 06:00:00 AL011851     HU  28.0 -95.4            80   \n1851-06-25 12:00:00 AL011851     HU  28.0 -96.0            80   \n1851-06-25 18:00:00 AL011851     HU  28.1 -96.5            80   \n1851-06-25 21:00:00 AL011851     HU  28.2 -96.8            80   \n\n                              Minimum Pressure  Low Wind NE  ...  \\\nDateTime            traj_id                                  ...   \n1851-06-25 00:00:00 AL011851              -999         -999  ...   \n1851-06-25 06:00:00 AL011851              -999         -999  ...   \n1851-06-25 12:00:00 AL011851              -999         -999  ...   \n1851-06-25 18:00:00 AL011851              -999         -999  ...   \n1851-06-25 21:00:00 AL011851              -999         -999  ...   \n\n                              Moderate Wind NE  Moderate Wind SE  \\\nDateTime            traj_id                                        \n1851-06-25 00:00:00 AL011851              -999              -999   \n1851-06-25 06:00:00 AL011851              -999              -999   \n1851-06-25 12:00:00 AL011851              -999              -999   \n1851-06-25 18:00:00 AL011851              -999              -999   \n1851-06-25 21:00:00 AL011851              -999              -999   \n\n                              Moderate Wind SW  Moderate Wind NW  \\\nDateTime            traj_id                                        \n1851-06-25 00:00:00 AL011851              -999              -999   \n1851-06-25 06:00:00 AL011851              -999              -999   \n1851-06-25 12:00:00 AL011851              -999              -999   \n1851-06-25 18:00:00 AL011851              -999              -999   \n1851-06-25 21:00:00 AL011851              -999              -999   \n\n                              High Wind NE  High Wind SE  High Wind SW  \\\nDateTime            traj_id                                              \n1851-06-25 00:00:00 AL011851          -999          -999          -999   \n1851-06-25 06:00:00 AL011851          -999          -999          -999   \n1851-06-25 12:00:00 AL011851          -999          -999          -999   \n1851-06-25 18:00:00 AL011851          -999          -999          -999   \n1851-06-25 21:00:00 AL011851          -999          -999          -999   \n\n                              High Wind NW  Distance_prev_to_curr  \\\nDateTime            traj_id                                         \n1851-06-25 00:00:00 AL011851          -999               0.000000   \n1851-06-25 06:00:00 AL011851          -999           58907.516366   \n1851-06-25 12:00:00 AL011851          -999           58907.516366   \n1851-06-25 18:00:00 AL011851          -999           50310.976622   \n1851-06-25 21:00:00 AL011851          -999           31444.370265   \n\n                              Distance_start_to_curr  \nDateTime            traj_id                           \n1851-06-25 00:00:00 AL011851                0.000000  \n1851-06-25 06:00:00 AL011851            58907.516366  \n1851-06-25 12:00:00 AL011851           117814.676769  \n1851-06-25 18:00:00 AL011851           167196.061925  \n1851-06-25 21:00:00 AL011851           197430.193137  \n\n[5 rows x 23 columns]",
      "text/html": "<div>\n<style scoped>\n    .dataframe tbody tr th:only-of-type {\n        vertical-align: middle;\n    }\n\n    .dataframe tbody tr th {\n        vertical-align: top;\n    }\n\n    .dataframe thead th {\n        text-align: right;\n    }\n</style>\n<table border=\"1\" class=\"dataframe\">\n  <thead>\n    <tr style=\"text-align: right;\">\n      <th></th>\n      <th></th>\n      <th>Name</th>\n      <th>Date</th>\n      <th>Time</th>\n      <th>Event</th>\n      <th>Status</th>\n      <th>lat</th>\n      <th>lon</th>\n      <th>Maximum Wind</th>\n      <th>Minimum Pressure</th>\n      <th>Low Wind NE</th>\n      <th>...</th>\n      <th>Moderate Wind NE</th>\n      <th>Moderate Wind SE</th>\n      <th>Moderate Wind SW</th>\n      <th>Moderate Wind NW</th>\n      <th>High Wind NE</th>\n      <th>High Wind SE</th>\n      <th>High Wind SW</th>\n      <th>High Wind NW</th>\n      <th>Distance_prev_to_curr</th>\n      <th>Distance_start_to_curr</th>\n    </tr>\n    <tr>\n      <th>DateTime</th>\n      <th>traj_id</th>\n      <th></th>\n      <th></th>\n      <th></th>\n      <th></th>\n      <th></th>\n      <th></th>\n      <th></th>\n      <th></th>\n      <th></th>\n      <th></th>\n      <th></th>\n      <th></th>\n      <th></th>\n      <th></th>\n      <th></th>\n      <th></th>\n      <th></th>\n      <th></th>\n      <th></th>\n      <th></th>\n      <th></th>\n    </tr>\n  </thead>\n  <tbody>\n    <tr>\n      <th>1851-06-25 00:00:00</th>\n      <th>AL011851</th>\n      <td>UNNAMED</td>\n      <td>18510625</td>\n      <td>0</td>\n      <td></td>\n      <td>HU</td>\n      <td>28.0</td>\n      <td>-94.8</td>\n      <td>80</td>\n      <td>-999</td>\n      <td>-999</td>\n      <td>...</td>\n      <td>-999</td>\n      <td>-999</td>\n      <td>-999</td>\n      <td>-999</td>\n      <td>-999</td>\n      <td>-999</td>\n      <td>-999</td>\n      <td>-999</td>\n      <td>0.000000</td>\n      <td>0.000000</td>\n    </tr>\n    <tr>\n      <th>1851-06-25 06:00:00</th>\n      <th>AL011851</th>\n      <td>UNNAMED</td>\n      <td>18510625</td>\n      <td>600</td>\n      <td></td>\n      <td>HU</td>\n      <td>28.0</td>\n      <td>-95.4</td>\n      <td>80</td>\n      <td>-999</td>\n      <td>-999</td>\n      <td>...</td>\n      <td>-999</td>\n      <td>-999</td>\n      <td>-999</td>\n      <td>-999</td>\n      <td>-999</td>\n      <td>-999</td>\n      <td>-999</td>\n      <td>-999</td>\n      <td>58907.516366</td>\n      <td>58907.516366</td>\n    </tr>\n    <tr>\n      <th>1851-06-25 12:00:00</th>\n      <th>AL011851</th>\n      <td>UNNAMED</td>\n      <td>18510625</td>\n      <td>1200</td>\n      <td></td>\n      <td>HU</td>\n      <td>28.0</td>\n      <td>-96.0</td>\n      <td>80</td>\n      <td>-999</td>\n      <td>-999</td>\n      <td>...</td>\n      <td>-999</td>\n      <td>-999</td>\n      <td>-999</td>\n      <td>-999</td>\n      <td>-999</td>\n      <td>-999</td>\n      <td>-999</td>\n      <td>-999</td>\n      <td>58907.516366</td>\n      <td>117814.676769</td>\n    </tr>\n    <tr>\n      <th>1851-06-25 18:00:00</th>\n      <th>AL011851</th>\n      <td>UNNAMED</td>\n      <td>18510625</td>\n      <td>1800</td>\n      <td></td>\n      <td>HU</td>\n      <td>28.1</td>\n      <td>-96.5</td>\n      <td>80</td>\n      <td>-999</td>\n      <td>-999</td>\n      <td>...</td>\n      <td>-999</td>\n      <td>-999</td>\n      <td>-999</td>\n      <td>-999</td>\n      <td>-999</td>\n      <td>-999</td>\n      <td>-999</td>\n      <td>-999</td>\n      <td>50310.976622</td>\n      <td>167196.061925</td>\n    </tr>\n    <tr>\n      <th>1851-06-25 21:00:00</th>\n      <th>AL011851</th>\n      <td>UNNAMED</td>\n      <td>18510625</td>\n      <td>2100</td>\n      <td>L</td>\n      <td>HU</td>\n      <td>28.2</td>\n      <td>-96.8</td>\n      <td>80</td>\n      <td>-999</td>\n      <td>-999</td>\n      <td>...</td>\n      <td>-999</td>\n      <td>-999</td>\n      <td>-999</td>\n      <td>-999</td>\n      <td>-999</td>\n      <td>-999</td>\n      <td>-999</td>\n      <td>-999</td>\n      <td>31444.370265</td>\n      <td>197430.193137</td>\n    </tr>\n  </tbody>\n</table>\n<p>5 rows × 23 columns</p>\n</div>"
     },
     "execution_count": 13,
     "metadata": {},
     "output_type": "execute_result"
    }
   ],
   "source": [
    "%%time\n",
    "\n",
    "# Here, we check the distance between start to all points\n",
    "# in the atlantic dataset.\n",
    "atlantic = spatial.create_distance_from_start_column(atlantic)\n",
    "atlantic.head()"
   ],
   "metadata": {
    "collapsed": false,
    "pycharm": {
     "name": "#%%\n"
    }
   }
  },
  {
   "cell_type": "code",
   "execution_count": 14,
   "outputs": [
    {
     "name": "stdout",
     "output_type": "stream",
     "text": [
      "CPU times: user 213 ms, sys: 8.05 ms, total: 221 ms\n",
      "Wall time: 220 ms\n"
     ]
    },
    {
     "data": {
      "text/plain": "14748.27854559045"
     },
     "execution_count": 14,
     "metadata": {},
     "output_type": "execute_result"
    }
   ],
   "source": [
    "%%time\n",
    "\n",
    "# Here, we are calculating the distance travelled in traj_id 1\n",
    "# on the date 2008-10-23.\n",
    "spatial.get_distance_by_date_and_traj_id(geolife, '2008-10-23', '1')"
   ],
   "metadata": {
    "collapsed": false,
    "pycharm": {
     "name": "#%%\n"
    }
   }
  },
  {
   "cell_type": "code",
   "execution_count": 15,
   "outputs": [
    {
     "name": "stdout",
     "output_type": "stream",
     "text": [
      "CPU times: user 290 ms, sys: 64 ms, total: 354 ms\n",
      "Wall time: 705 ms\n"
     ]
    },
    {
     "data": {
      "text/plain": "                                   lat         lon  Distance_prev_to_curr  \\\nDateTime            traj_id                                                 \n2008-10-23 16:53:05 1        39.984094  116.319236               0.000000   \n2008-10-23 16:53:06 1        39.984198  116.319322              13.690153   \n2008-10-23 05:53:11 1        39.984224  116.319402               7.403788   \n2008-10-23 05:53:16 1        39.984211  116.319389               1.821083   \n2008-10-23 05:53:21 1        39.984217  116.319422               2.889671   \n\n                             Distance_start_to_curr  Distance_to_(0, 0)  \nDateTime            traj_id                                              \n2008-10-23 16:53:05 1                      0.000000        1.221587e+07  \n2008-10-23 16:53:06 1                     13.690153        1.221587e+07  \n2008-10-23 05:53:11 1                     20.223428        1.221588e+07  \n2008-10-23 05:53:16 1                     18.416895        1.221588e+07  \n2008-10-23 05:53:21 1                     20.933073        1.221588e+07  ",
      "text/html": "<div>\n<style scoped>\n    .dataframe tbody tr th:only-of-type {\n        vertical-align: middle;\n    }\n\n    .dataframe tbody tr th {\n        vertical-align: top;\n    }\n\n    .dataframe thead th {\n        text-align: right;\n    }\n</style>\n<table border=\"1\" class=\"dataframe\">\n  <thead>\n    <tr style=\"text-align: right;\">\n      <th></th>\n      <th></th>\n      <th>lat</th>\n      <th>lon</th>\n      <th>Distance_prev_to_curr</th>\n      <th>Distance_start_to_curr</th>\n      <th>Distance_to_(0, 0)</th>\n    </tr>\n    <tr>\n      <th>DateTime</th>\n      <th>traj_id</th>\n      <th></th>\n      <th></th>\n      <th></th>\n      <th></th>\n      <th></th>\n    </tr>\n  </thead>\n  <tbody>\n    <tr>\n      <th>2008-10-23 16:53:05</th>\n      <th>1</th>\n      <td>39.984094</td>\n      <td>116.319236</td>\n      <td>0.000000</td>\n      <td>0.000000</td>\n      <td>1.221587e+07</td>\n    </tr>\n    <tr>\n      <th>2008-10-23 16:53:06</th>\n      <th>1</th>\n      <td>39.984198</td>\n      <td>116.319322</td>\n      <td>13.690153</td>\n      <td>13.690153</td>\n      <td>1.221587e+07</td>\n    </tr>\n    <tr>\n      <th>2008-10-23 05:53:11</th>\n      <th>1</th>\n      <td>39.984224</td>\n      <td>116.319402</td>\n      <td>7.403788</td>\n      <td>20.223428</td>\n      <td>1.221588e+07</td>\n    </tr>\n    <tr>\n      <th>2008-10-23 05:53:16</th>\n      <th>1</th>\n      <td>39.984211</td>\n      <td>116.319389</td>\n      <td>1.821083</td>\n      <td>18.416895</td>\n      <td>1.221588e+07</td>\n    </tr>\n    <tr>\n      <th>2008-10-23 05:53:21</th>\n      <th>1</th>\n      <td>39.984217</td>\n      <td>116.319422</td>\n      <td>2.889671</td>\n      <td>20.933073</td>\n      <td>1.221588e+07</td>\n    </tr>\n  </tbody>\n</table>\n</div>"
     },
     "execution_count": 15,
     "metadata": {},
     "output_type": "execute_result"
    }
   ],
   "source": [
    "%%time\n",
    "\n",
    "# Now, lets check the distance of all the points\n",
    "# in the geolife dataset from the coordinates (0, 0).\n",
    "geolife = spatial.create_distance_from_given_point_column(geolife,\n",
    "                                                          (0, 0))\n",
    "geolife.head()"
   ],
   "metadata": {
    "collapsed": false,
    "pycharm": {
     "name": "#%%\n"
    }
   }
  },
  {
   "cell_type": "code",
   "execution_count": 16,
   "outputs": [
    {
     "name": "stdout",
     "output_type": "stream",
     "text": [
      "CPU times: user 220 ms, sys: 63.5 ms, total: 284 ms\n",
      "Wall time: 626 ms\n"
     ]
    },
    {
     "data": {
      "text/plain": "                                   lat         lon  Distance_prev_to_curr  \\\nDateTime            traj_id                                                 \n2008-10-23 16:53:05 1        39.984094  116.319236               0.000000   \n2008-10-23 16:53:06 1        39.984198  116.319322              13.690153   \n2008-10-23 05:53:11 1        39.984224  116.319402               7.403788   \n2008-10-23 05:53:16 1        39.984211  116.319389               1.821083   \n2008-10-23 05:53:21 1        39.984217  116.319422               2.889671   \n\n                             Distance_start_to_curr  Distance_to_(0, 0)  \\\nDateTime            traj_id                                               \n2008-10-23 16:53:05 1                      0.000000        1.221587e+07   \n2008-10-23 16:53:06 1                     13.690153        1.221587e+07   \n2008-10-23 05:53:11 1                     20.223428        1.221588e+07   \n2008-10-23 05:53:16 1                     18.416895        1.221588e+07   \n2008-10-23 05:53:21 1                     20.933073        1.221588e+07   \n\n                             Within_15000000_m_from_(0, 0)  \nDateTime            traj_id                                 \n2008-10-23 16:53:05 1                                 True  \n2008-10-23 16:53:06 1                                 True  \n2008-10-23 05:53:11 1                                 True  \n2008-10-23 05:53:16 1                                 True  \n2008-10-23 05:53:21 1                                 True  ",
      "text/html": "<div>\n<style scoped>\n    .dataframe tbody tr th:only-of-type {\n        vertical-align: middle;\n    }\n\n    .dataframe tbody tr th {\n        vertical-align: top;\n    }\n\n    .dataframe thead th {\n        text-align: right;\n    }\n</style>\n<table border=\"1\" class=\"dataframe\">\n  <thead>\n    <tr style=\"text-align: right;\">\n      <th></th>\n      <th></th>\n      <th>lat</th>\n      <th>lon</th>\n      <th>Distance_prev_to_curr</th>\n      <th>Distance_start_to_curr</th>\n      <th>Distance_to_(0, 0)</th>\n      <th>Within_15000000_m_from_(0, 0)</th>\n    </tr>\n    <tr>\n      <th>DateTime</th>\n      <th>traj_id</th>\n      <th></th>\n      <th></th>\n      <th></th>\n      <th></th>\n      <th></th>\n      <th></th>\n    </tr>\n  </thead>\n  <tbody>\n    <tr>\n      <th>2008-10-23 16:53:05</th>\n      <th>1</th>\n      <td>39.984094</td>\n      <td>116.319236</td>\n      <td>0.000000</td>\n      <td>0.000000</td>\n      <td>1.221587e+07</td>\n      <td>True</td>\n    </tr>\n    <tr>\n      <th>2008-10-23 16:53:06</th>\n      <th>1</th>\n      <td>39.984198</td>\n      <td>116.319322</td>\n      <td>13.690153</td>\n      <td>13.690153</td>\n      <td>1.221587e+07</td>\n      <td>True</td>\n    </tr>\n    <tr>\n      <th>2008-10-23 05:53:11</th>\n      <th>1</th>\n      <td>39.984224</td>\n      <td>116.319402</td>\n      <td>7.403788</td>\n      <td>20.223428</td>\n      <td>1.221588e+07</td>\n      <td>True</td>\n    </tr>\n    <tr>\n      <th>2008-10-23 05:53:16</th>\n      <th>1</th>\n      <td>39.984211</td>\n      <td>116.319389</td>\n      <td>1.821083</td>\n      <td>18.416895</td>\n      <td>1.221588e+07</td>\n      <td>True</td>\n    </tr>\n    <tr>\n      <th>2008-10-23 05:53:21</th>\n      <th>1</th>\n      <td>39.984217</td>\n      <td>116.319422</td>\n      <td>2.889671</td>\n      <td>20.933073</td>\n      <td>1.221588e+07</td>\n      <td>True</td>\n    </tr>\n  </tbody>\n</table>\n</div>"
     },
     "execution_count": 16,
     "metadata": {},
     "output_type": "execute_result"
    }
   ],
   "source": [
    "%%time\n",
    "\n",
    "# Now, lets check if all the points in the geolife dataset\n",
    "# are within 12000 KMs of the coordinates (0, 0).\n",
    "geolife = spatial.create_point_within_range_column(geolife,\n",
    "                                                   (0,0),\n",
    "                                                   15000000)\n",
    "geolife.head()"
   ],
   "metadata": {
    "collapsed": false,
    "pycharm": {
     "name": "#%%\n"
    }
   }
  },
  {
   "cell_type": "code",
   "execution_count": 17,
   "outputs": [
    {
     "name": "stdout",
     "output_type": "stream",
     "text": [
      "CPU times: user 18.1 ms, sys: 11.9 ms, total: 30 ms\n",
      "Wall time: 29.2 ms\n"
     ]
    },
    {
     "data": {
      "text/plain": "                                   lat         lon  Distance_prev_to_curr  \\\nDateTime            traj_id                                                 \n2008-10-23 16:53:05 1        39.984094  116.319236               0.000000   \n2008-10-23 16:53:06 1        39.984198  116.319322              13.690153   \n2008-10-23 05:53:11 1        39.984224  116.319402               7.403788   \n2008-10-23 05:53:16 1        39.984211  116.319389               1.821083   \n2008-10-23 05:53:21 1        39.984217  116.319422               2.889671   \n\n                             Distance_start_to_curr  Distance_to_(0, 0)  \\\nDateTime            traj_id                                               \n2008-10-23 16:53:05 1                      0.000000        1.221587e+07   \n2008-10-23 16:53:06 1                     13.690153        1.221587e+07   \n2008-10-23 05:53:11 1                     20.223428        1.221588e+07   \n2008-10-23 05:53:16 1                     18.416895        1.221588e+07   \n2008-10-23 05:53:21 1                     20.933073        1.221588e+07   \n\n                             Within_15000000_m_from_(0, 0)  Speed_prev_to_curr  \nDateTime            traj_id                                                     \n2008-10-23 16:53:05 1                                 True                 NaN  \n2008-10-23 16:53:06 1                                 True           13.690153  \n2008-10-23 05:53:11 1                                 True            0.000158  \n2008-10-23 05:53:16 1                                 True            0.364217  \n2008-10-23 05:53:21 1                                 True            0.577934  ",
      "text/html": "<div>\n<style scoped>\n    .dataframe tbody tr th:only-of-type {\n        vertical-align: middle;\n    }\n\n    .dataframe tbody tr th {\n        vertical-align: top;\n    }\n\n    .dataframe thead th {\n        text-align: right;\n    }\n</style>\n<table border=\"1\" class=\"dataframe\">\n  <thead>\n    <tr style=\"text-align: right;\">\n      <th></th>\n      <th></th>\n      <th>lat</th>\n      <th>lon</th>\n      <th>Distance_prev_to_curr</th>\n      <th>Distance_start_to_curr</th>\n      <th>Distance_to_(0, 0)</th>\n      <th>Within_15000000_m_from_(0, 0)</th>\n      <th>Speed_prev_to_curr</th>\n    </tr>\n    <tr>\n      <th>DateTime</th>\n      <th>traj_id</th>\n      <th></th>\n      <th></th>\n      <th></th>\n      <th></th>\n      <th></th>\n      <th></th>\n      <th></th>\n    </tr>\n  </thead>\n  <tbody>\n    <tr>\n      <th>2008-10-23 16:53:05</th>\n      <th>1</th>\n      <td>39.984094</td>\n      <td>116.319236</td>\n      <td>0.000000</td>\n      <td>0.000000</td>\n      <td>1.221587e+07</td>\n      <td>True</td>\n      <td>NaN</td>\n    </tr>\n    <tr>\n      <th>2008-10-23 16:53:06</th>\n      <th>1</th>\n      <td>39.984198</td>\n      <td>116.319322</td>\n      <td>13.690153</td>\n      <td>13.690153</td>\n      <td>1.221587e+07</td>\n      <td>True</td>\n      <td>13.690153</td>\n    </tr>\n    <tr>\n      <th>2008-10-23 05:53:11</th>\n      <th>1</th>\n      <td>39.984224</td>\n      <td>116.319402</td>\n      <td>7.403788</td>\n      <td>20.223428</td>\n      <td>1.221588e+07</td>\n      <td>True</td>\n      <td>0.000158</td>\n    </tr>\n    <tr>\n      <th>2008-10-23 05:53:16</th>\n      <th>1</th>\n      <td>39.984211</td>\n      <td>116.319389</td>\n      <td>1.821083</td>\n      <td>18.416895</td>\n      <td>1.221588e+07</td>\n      <td>True</td>\n      <td>0.364217</td>\n    </tr>\n    <tr>\n      <th>2008-10-23 05:53:21</th>\n      <th>1</th>\n      <td>39.984217</td>\n      <td>116.319422</td>\n      <td>2.889671</td>\n      <td>20.933073</td>\n      <td>1.221588e+07</td>\n      <td>True</td>\n      <td>0.577934</td>\n    </tr>\n  </tbody>\n</table>\n</div>"
     },
     "execution_count": 17,
     "metadata": {},
     "output_type": "execute_result"
    }
   ],
   "source": [
    "%%time\n",
    "\n",
    "# Now, lets calculate the speed of the object between 2\n",
    "# consecutive trajectory points.\n",
    "# First, we are doing in the geolife dataset.\n",
    "geolife = spatial.create_speed_from_prev_column(geolife)\n",
    "geolife.head()"
   ],
   "metadata": {
    "collapsed": false,
    "pycharm": {
     "name": "#%%\n"
    }
   }
  },
  {
   "cell_type": "code",
   "execution_count": 18,
   "outputs": [
    {
     "name": "stdout",
     "output_type": "stream",
     "text": [
      "CPU times: user 19.1 ms, sys: 106 µs, total: 19.2 ms\n",
      "Wall time: 17.8 ms\n"
     ]
    },
    {
     "data": {
      "text/plain": "                                             Name      Date  Time Event  \\\nDateTime            traj_id                                               \n1851-06-25 00:00:00 AL011851              UNNAMED  18510625     0         \n1851-06-25 06:00:00 AL011851              UNNAMED  18510625   600         \n1851-06-25 12:00:00 AL011851              UNNAMED  18510625  1200         \n1851-06-25 18:00:00 AL011851              UNNAMED  18510625  1800         \n1851-06-25 21:00:00 AL011851              UNNAMED  18510625  2100     L   \n\n                             Status   lat   lon  Maximum Wind  \\\nDateTime            traj_id                                     \n1851-06-25 00:00:00 AL011851     HU  28.0 -94.8            80   \n1851-06-25 06:00:00 AL011851     HU  28.0 -95.4            80   \n1851-06-25 12:00:00 AL011851     HU  28.0 -96.0            80   \n1851-06-25 18:00:00 AL011851     HU  28.1 -96.5            80   \n1851-06-25 21:00:00 AL011851     HU  28.2 -96.8            80   \n\n                              Minimum Pressure  Low Wind NE  ...  \\\nDateTime            traj_id                                  ...   \n1851-06-25 00:00:00 AL011851              -999         -999  ...   \n1851-06-25 06:00:00 AL011851              -999         -999  ...   \n1851-06-25 12:00:00 AL011851              -999         -999  ...   \n1851-06-25 18:00:00 AL011851              -999         -999  ...   \n1851-06-25 21:00:00 AL011851              -999         -999  ...   \n\n                              Moderate Wind SE  Moderate Wind SW  \\\nDateTime            traj_id                                        \n1851-06-25 00:00:00 AL011851              -999              -999   \n1851-06-25 06:00:00 AL011851              -999              -999   \n1851-06-25 12:00:00 AL011851              -999              -999   \n1851-06-25 18:00:00 AL011851              -999              -999   \n1851-06-25 21:00:00 AL011851              -999              -999   \n\n                              Moderate Wind NW  High Wind NE  High Wind SE  \\\nDateTime            traj_id                                                  \n1851-06-25 00:00:00 AL011851              -999          -999          -999   \n1851-06-25 06:00:00 AL011851              -999          -999          -999   \n1851-06-25 12:00:00 AL011851              -999          -999          -999   \n1851-06-25 18:00:00 AL011851              -999          -999          -999   \n1851-06-25 21:00:00 AL011851              -999          -999          -999   \n\n                              High Wind SW  High Wind NW  \\\nDateTime            traj_id                                \n1851-06-25 00:00:00 AL011851          -999          -999   \n1851-06-25 06:00:00 AL011851          -999          -999   \n1851-06-25 12:00:00 AL011851          -999          -999   \n1851-06-25 18:00:00 AL011851          -999          -999   \n1851-06-25 21:00:00 AL011851          -999          -999   \n\n                              Distance_prev_to_curr  Distance_start_to_curr  \\\nDateTime            traj_id                                                   \n1851-06-25 00:00:00 AL011851               0.000000                0.000000   \n1851-06-25 06:00:00 AL011851           58907.516366            58907.516366   \n1851-06-25 12:00:00 AL011851           58907.516366           117814.676769   \n1851-06-25 18:00:00 AL011851           50310.976622           167196.061925   \n1851-06-25 21:00:00 AL011851           31444.370265           197430.193137   \n\n                              Speed_prev_to_curr  \nDateTime            traj_id                       \n1851-06-25 00:00:00 AL011851                 NaN  \n1851-06-25 06:00:00 AL011851            2.727200  \n1851-06-25 12:00:00 AL011851            2.727200  \n1851-06-25 18:00:00 AL011851            2.329212  \n1851-06-25 21:00:00 AL011851            2.911516  \n\n[5 rows x 24 columns]",
      "text/html": "<div>\n<style scoped>\n    .dataframe tbody tr th:only-of-type {\n        vertical-align: middle;\n    }\n\n    .dataframe tbody tr th {\n        vertical-align: top;\n    }\n\n    .dataframe thead th {\n        text-align: right;\n    }\n</style>\n<table border=\"1\" class=\"dataframe\">\n  <thead>\n    <tr style=\"text-align: right;\">\n      <th></th>\n      <th></th>\n      <th>Name</th>\n      <th>Date</th>\n      <th>Time</th>\n      <th>Event</th>\n      <th>Status</th>\n      <th>lat</th>\n      <th>lon</th>\n      <th>Maximum Wind</th>\n      <th>Minimum Pressure</th>\n      <th>Low Wind NE</th>\n      <th>...</th>\n      <th>Moderate Wind SE</th>\n      <th>Moderate Wind SW</th>\n      <th>Moderate Wind NW</th>\n      <th>High Wind NE</th>\n      <th>High Wind SE</th>\n      <th>High Wind SW</th>\n      <th>High Wind NW</th>\n      <th>Distance_prev_to_curr</th>\n      <th>Distance_start_to_curr</th>\n      <th>Speed_prev_to_curr</th>\n    </tr>\n    <tr>\n      <th>DateTime</th>\n      <th>traj_id</th>\n      <th></th>\n      <th></th>\n      <th></th>\n      <th></th>\n      <th></th>\n      <th></th>\n      <th></th>\n      <th></th>\n      <th></th>\n      <th></th>\n      <th></th>\n      <th></th>\n      <th></th>\n      <th></th>\n      <th></th>\n      <th></th>\n      <th></th>\n      <th></th>\n      <th></th>\n      <th></th>\n      <th></th>\n    </tr>\n  </thead>\n  <tbody>\n    <tr>\n      <th>1851-06-25 00:00:00</th>\n      <th>AL011851</th>\n      <td>UNNAMED</td>\n      <td>18510625</td>\n      <td>0</td>\n      <td></td>\n      <td>HU</td>\n      <td>28.0</td>\n      <td>-94.8</td>\n      <td>80</td>\n      <td>-999</td>\n      <td>-999</td>\n      <td>...</td>\n      <td>-999</td>\n      <td>-999</td>\n      <td>-999</td>\n      <td>-999</td>\n      <td>-999</td>\n      <td>-999</td>\n      <td>-999</td>\n      <td>0.000000</td>\n      <td>0.000000</td>\n      <td>NaN</td>\n    </tr>\n    <tr>\n      <th>1851-06-25 06:00:00</th>\n      <th>AL011851</th>\n      <td>UNNAMED</td>\n      <td>18510625</td>\n      <td>600</td>\n      <td></td>\n      <td>HU</td>\n      <td>28.0</td>\n      <td>-95.4</td>\n      <td>80</td>\n      <td>-999</td>\n      <td>-999</td>\n      <td>...</td>\n      <td>-999</td>\n      <td>-999</td>\n      <td>-999</td>\n      <td>-999</td>\n      <td>-999</td>\n      <td>-999</td>\n      <td>-999</td>\n      <td>58907.516366</td>\n      <td>58907.516366</td>\n      <td>2.727200</td>\n    </tr>\n    <tr>\n      <th>1851-06-25 12:00:00</th>\n      <th>AL011851</th>\n      <td>UNNAMED</td>\n      <td>18510625</td>\n      <td>1200</td>\n      <td></td>\n      <td>HU</td>\n      <td>28.0</td>\n      <td>-96.0</td>\n      <td>80</td>\n      <td>-999</td>\n      <td>-999</td>\n      <td>...</td>\n      <td>-999</td>\n      <td>-999</td>\n      <td>-999</td>\n      <td>-999</td>\n      <td>-999</td>\n      <td>-999</td>\n      <td>-999</td>\n      <td>58907.516366</td>\n      <td>117814.676769</td>\n      <td>2.727200</td>\n    </tr>\n    <tr>\n      <th>1851-06-25 18:00:00</th>\n      <th>AL011851</th>\n      <td>UNNAMED</td>\n      <td>18510625</td>\n      <td>1800</td>\n      <td></td>\n      <td>HU</td>\n      <td>28.1</td>\n      <td>-96.5</td>\n      <td>80</td>\n      <td>-999</td>\n      <td>-999</td>\n      <td>...</td>\n      <td>-999</td>\n      <td>-999</td>\n      <td>-999</td>\n      <td>-999</td>\n      <td>-999</td>\n      <td>-999</td>\n      <td>-999</td>\n      <td>50310.976622</td>\n      <td>167196.061925</td>\n      <td>2.329212</td>\n    </tr>\n    <tr>\n      <th>1851-06-25 21:00:00</th>\n      <th>AL011851</th>\n      <td>UNNAMED</td>\n      <td>18510625</td>\n      <td>2100</td>\n      <td>L</td>\n      <td>HU</td>\n      <td>28.2</td>\n      <td>-96.8</td>\n      <td>80</td>\n      <td>-999</td>\n      <td>-999</td>\n      <td>...</td>\n      <td>-999</td>\n      <td>-999</td>\n      <td>-999</td>\n      <td>-999</td>\n      <td>-999</td>\n      <td>-999</td>\n      <td>-999</td>\n      <td>31444.370265</td>\n      <td>197430.193137</td>\n      <td>2.911516</td>\n    </tr>\n  </tbody>\n</table>\n<p>5 rows × 24 columns</p>\n</div>"
     },
     "execution_count": 18,
     "metadata": {},
     "output_type": "execute_result"
    }
   ],
   "source": [
    "%%time\n",
    "\n",
    "# Now lets calculate the speed between 2 consecutive\n",
    "# points in the atlantic dataset.\n",
    "atlantic = spatial.create_speed_from_prev_column(atlantic)\n",
    "atlantic.head()"
   ],
   "metadata": {
    "collapsed": false,
    "pycharm": {
     "name": "#%%\n"
    }
   }
  },
  {
   "cell_type": "code",
   "execution_count": 19,
   "outputs": [
    {
     "name": "stdout",
     "output_type": "stream",
     "text": [
      "CPU times: user 24.5 ms, sys: 37 µs, total: 24.5 ms\n",
      "Wall time: 23.4 ms\n"
     ]
    },
    {
     "data": {
      "text/plain": "                               event-id  visible       lon       lat  \\\nDateTime            traj_id                                            \n2009-05-27 14:00:00 91732    1082620685     True  24.58617  61.24783   \n2009-05-27 20:00:00 91732    1082620686     True  24.58217  61.23267   \n2009-05-28 05:00:00 91732    1082620687     True  24.53133  61.18833   \n2009-05-28 08:00:00 91732    1082620688     True  24.58200  61.23283   \n2009-05-28 14:00:00 91732    1082620689     True  24.58250  61.23267   \n\n                            sensor-type individual-taxon-canonical-name  \\\nDateTime            traj_id                                               \n2009-05-27 14:00:00 91732           gps                    Larus fuscus   \n2009-05-27 20:00:00 91732           gps                    Larus fuscus   \n2009-05-28 05:00:00 91732           gps                    Larus fuscus   \n2009-05-28 08:00:00 91732           gps                    Larus fuscus   \n2009-05-28 14:00:00 91732           gps                    Larus fuscus   \n\n                            individual-local-identifier  \\\nDateTime            traj_id                               \n2009-05-27 14:00:00 91732                        91732A   \n2009-05-27 20:00:00 91732                        91732A   \n2009-05-28 05:00:00 91732                        91732A   \n2009-05-28 08:00:00 91732                        91732A   \n2009-05-28 14:00:00 91732                        91732A   \n\n                                                                    study-name  \\\nDateTime            traj_id                                                      \n2009-05-27 14:00:00 91732    Navigation experiments in lesser black-backed ...   \n2009-05-27 20:00:00 91732    Navigation experiments in lesser black-backed ...   \n2009-05-28 05:00:00 91732    Navigation experiments in lesser black-backed ...   \n2009-05-28 08:00:00 91732    Navigation experiments in lesser black-backed ...   \n2009-05-28 14:00:00 91732    Navigation experiments in lesser black-backed ...   \n\n                             Distance_prev_to_curr  Distance_start_to_curr  \\\nDateTime            traj_id                                                  \n2009-05-27 14:00:00 91732                 0.000000                0.000000   \n2009-05-27 20:00:00 91732              1699.244398             1699.244398   \n2009-05-28 05:00:00 91732              5632.120064             7238.295521   \n2009-05-28 08:00:00 91732              5643.314949             1682.777895   \n2009-05-28 14:00:00 91732                32.131494             1697.111327   \n\n                             Speed_prev_to_curr  \nDateTime            traj_id                      \n2009-05-27 14:00:00 91732                   NaN  \n2009-05-27 20:00:00 91732              0.078669  \n2009-05-28 05:00:00 91732              0.173831  \n2009-05-28 08:00:00 91732              0.522529  \n2009-05-28 14:00:00 91732              0.001488  ",
      "text/html": "<div>\n<style scoped>\n    .dataframe tbody tr th:only-of-type {\n        vertical-align: middle;\n    }\n\n    .dataframe tbody tr th {\n        vertical-align: top;\n    }\n\n    .dataframe thead th {\n        text-align: right;\n    }\n</style>\n<table border=\"1\" class=\"dataframe\">\n  <thead>\n    <tr style=\"text-align: right;\">\n      <th></th>\n      <th></th>\n      <th>event-id</th>\n      <th>visible</th>\n      <th>lon</th>\n      <th>lat</th>\n      <th>sensor-type</th>\n      <th>individual-taxon-canonical-name</th>\n      <th>individual-local-identifier</th>\n      <th>study-name</th>\n      <th>Distance_prev_to_curr</th>\n      <th>Distance_start_to_curr</th>\n      <th>Speed_prev_to_curr</th>\n    </tr>\n    <tr>\n      <th>DateTime</th>\n      <th>traj_id</th>\n      <th></th>\n      <th></th>\n      <th></th>\n      <th></th>\n      <th></th>\n      <th></th>\n      <th></th>\n      <th></th>\n      <th></th>\n      <th></th>\n      <th></th>\n    </tr>\n  </thead>\n  <tbody>\n    <tr>\n      <th>2009-05-27 14:00:00</th>\n      <th>91732</th>\n      <td>1082620685</td>\n      <td>True</td>\n      <td>24.58617</td>\n      <td>61.24783</td>\n      <td>gps</td>\n      <td>Larus fuscus</td>\n      <td>91732A</td>\n      <td>Navigation experiments in lesser black-backed ...</td>\n      <td>0.000000</td>\n      <td>0.000000</td>\n      <td>NaN</td>\n    </tr>\n    <tr>\n      <th>2009-05-27 20:00:00</th>\n      <th>91732</th>\n      <td>1082620686</td>\n      <td>True</td>\n      <td>24.58217</td>\n      <td>61.23267</td>\n      <td>gps</td>\n      <td>Larus fuscus</td>\n      <td>91732A</td>\n      <td>Navigation experiments in lesser black-backed ...</td>\n      <td>1699.244398</td>\n      <td>1699.244398</td>\n      <td>0.078669</td>\n    </tr>\n    <tr>\n      <th>2009-05-28 05:00:00</th>\n      <th>91732</th>\n      <td>1082620687</td>\n      <td>True</td>\n      <td>24.53133</td>\n      <td>61.18833</td>\n      <td>gps</td>\n      <td>Larus fuscus</td>\n      <td>91732A</td>\n      <td>Navigation experiments in lesser black-backed ...</td>\n      <td>5632.120064</td>\n      <td>7238.295521</td>\n      <td>0.173831</td>\n    </tr>\n    <tr>\n      <th>2009-05-28 08:00:00</th>\n      <th>91732</th>\n      <td>1082620688</td>\n      <td>True</td>\n      <td>24.58200</td>\n      <td>61.23283</td>\n      <td>gps</td>\n      <td>Larus fuscus</td>\n      <td>91732A</td>\n      <td>Navigation experiments in lesser black-backed ...</td>\n      <td>5643.314949</td>\n      <td>1682.777895</td>\n      <td>0.522529</td>\n    </tr>\n    <tr>\n      <th>2009-05-28 14:00:00</th>\n      <th>91732</th>\n      <td>1082620689</td>\n      <td>True</td>\n      <td>24.58250</td>\n      <td>61.23267</td>\n      <td>gps</td>\n      <td>Larus fuscus</td>\n      <td>91732A</td>\n      <td>Navigation experiments in lesser black-backed ...</td>\n      <td>32.131494</td>\n      <td>1697.111327</td>\n      <td>0.001488</td>\n    </tr>\n  </tbody>\n</table>\n</div>"
     },
     "execution_count": 19,
     "metadata": {},
     "output_type": "execute_result"
    }
   ],
   "source": [
    "%%time\n",
    "\n",
    "# Now lets calculate the speed between 2 consecutive\n",
    "# points in the seagulls dataset.\n",
    "gulls = spatial.create_speed_from_prev_column(gulls)\n",
    "gulls.head()"
   ],
   "metadata": {
    "collapsed": false,
    "pycharm": {
     "name": "#%%\n"
    }
   }
  },
  {
   "cell_type": "code",
   "execution_count": 20,
   "outputs": [
    {
     "name": "stdout",
     "output_type": "stream",
     "text": [
      "CPU times: user 29.1 ms, sys: 4.1 ms, total: 33.2 ms\n",
      "Wall time: 31.7 ms\n"
     ]
    },
    {
     "data": {
      "text/plain": "                                   lat         lon  Distance_prev_to_curr  \\\nDateTime            traj_id                                                 \n2008-10-23 16:53:05 1        39.984094  116.319236               0.000000   \n2008-10-23 16:53:06 1        39.984198  116.319322              13.690153   \n2008-10-23 05:53:11 1        39.984224  116.319402               7.403788   \n2008-10-23 05:53:16 1        39.984211  116.319389               1.821083   \n2008-10-23 05:53:21 1        39.984217  116.319422               2.889671   \n\n                             Distance_start_to_curr  Distance_to_(0, 0)  \\\nDateTime            traj_id                                               \n2008-10-23 16:53:05 1                      0.000000        1.221587e+07   \n2008-10-23 16:53:06 1                     13.690153        1.221587e+07   \n2008-10-23 05:53:11 1                     20.223428        1.221588e+07   \n2008-10-23 05:53:16 1                     18.416895        1.221588e+07   \n2008-10-23 05:53:21 1                     20.933073        1.221588e+07   \n\n                             Within_15000000_m_from_(0, 0)  \\\nDateTime            traj_id                                  \n2008-10-23 16:53:05 1                                 True   \n2008-10-23 16:53:06 1                                 True   \n2008-10-23 05:53:11 1                                 True   \n2008-10-23 05:53:16 1                                 True   \n2008-10-23 05:53:21 1                                 True   \n\n                             Speed_prev_to_curr  Acceleration_prev_to_curr  \nDateTime            traj_id                                                 \n2008-10-23 16:53:05 1                       NaN                        NaN  \n2008-10-23 16:53:06 1                 13.690153                        NaN  \n2008-10-23 05:53:11 1                  0.000158                  -0.000292  \n2008-10-23 05:53:16 1                  0.364217                   0.072812  \n2008-10-23 05:53:21 1                  0.577934                   0.042744  ",
      "text/html": "<div>\n<style scoped>\n    .dataframe tbody tr th:only-of-type {\n        vertical-align: middle;\n    }\n\n    .dataframe tbody tr th {\n        vertical-align: top;\n    }\n\n    .dataframe thead th {\n        text-align: right;\n    }\n</style>\n<table border=\"1\" class=\"dataframe\">\n  <thead>\n    <tr style=\"text-align: right;\">\n      <th></th>\n      <th></th>\n      <th>lat</th>\n      <th>lon</th>\n      <th>Distance_prev_to_curr</th>\n      <th>Distance_start_to_curr</th>\n      <th>Distance_to_(0, 0)</th>\n      <th>Within_15000000_m_from_(0, 0)</th>\n      <th>Speed_prev_to_curr</th>\n      <th>Acceleration_prev_to_curr</th>\n    </tr>\n    <tr>\n      <th>DateTime</th>\n      <th>traj_id</th>\n      <th></th>\n      <th></th>\n      <th></th>\n      <th></th>\n      <th></th>\n      <th></th>\n      <th></th>\n      <th></th>\n    </tr>\n  </thead>\n  <tbody>\n    <tr>\n      <th>2008-10-23 16:53:05</th>\n      <th>1</th>\n      <td>39.984094</td>\n      <td>116.319236</td>\n      <td>0.000000</td>\n      <td>0.000000</td>\n      <td>1.221587e+07</td>\n      <td>True</td>\n      <td>NaN</td>\n      <td>NaN</td>\n    </tr>\n    <tr>\n      <th>2008-10-23 16:53:06</th>\n      <th>1</th>\n      <td>39.984198</td>\n      <td>116.319322</td>\n      <td>13.690153</td>\n      <td>13.690153</td>\n      <td>1.221587e+07</td>\n      <td>True</td>\n      <td>13.690153</td>\n      <td>NaN</td>\n    </tr>\n    <tr>\n      <th>2008-10-23 05:53:11</th>\n      <th>1</th>\n      <td>39.984224</td>\n      <td>116.319402</td>\n      <td>7.403788</td>\n      <td>20.223428</td>\n      <td>1.221588e+07</td>\n      <td>True</td>\n      <td>0.000158</td>\n      <td>-0.000292</td>\n    </tr>\n    <tr>\n      <th>2008-10-23 05:53:16</th>\n      <th>1</th>\n      <td>39.984211</td>\n      <td>116.319389</td>\n      <td>1.821083</td>\n      <td>18.416895</td>\n      <td>1.221588e+07</td>\n      <td>True</td>\n      <td>0.364217</td>\n      <td>0.072812</td>\n    </tr>\n    <tr>\n      <th>2008-10-23 05:53:21</th>\n      <th>1</th>\n      <td>39.984217</td>\n      <td>116.319422</td>\n      <td>2.889671</td>\n      <td>20.933073</td>\n      <td>1.221588e+07</td>\n      <td>True</td>\n      <td>0.577934</td>\n      <td>0.042744</td>\n    </tr>\n  </tbody>\n</table>\n</div>"
     },
     "execution_count": 20,
     "metadata": {},
     "output_type": "execute_result"
    }
   ],
   "source": [
    "%%time\n",
    "\n",
    "# Now lets check the acceleration of the object\n",
    "# between 2 consecutive points.\n",
    "# First, lets check for the geolife dataset.\n",
    "geolife = spatial.create_acceleration_from_prev_column(geolife)\n",
    "geolife.head()"
   ],
   "metadata": {
    "collapsed": false,
    "pycharm": {
     "name": "#%%\n"
    }
   }
  },
  {
   "cell_type": "code",
   "execution_count": 21,
   "outputs": [
    {
     "name": "stdout",
     "output_type": "stream",
     "text": [
      "CPU times: user 38.9 ms, sys: 232 µs, total: 39.1 ms\n",
      "Wall time: 37.8 ms\n"
     ]
    },
    {
     "data": {
      "text/plain": "                                   lat         lon  Distance_prev_to_curr  \\\nDateTime            traj_id                                                 \n2008-10-23 16:53:05 1        39.984094  116.319236               0.000000   \n2008-10-23 16:53:06 1        39.984198  116.319322              13.690153   \n2008-10-23 05:53:11 1        39.984224  116.319402               7.403788   \n2008-10-23 05:53:16 1        39.984211  116.319389               1.821083   \n2008-10-23 05:53:21 1        39.984217  116.319422               2.889671   \n\n                             Distance_start_to_curr  Distance_to_(0, 0)  \\\nDateTime            traj_id                                               \n2008-10-23 16:53:05 1                      0.000000        1.221587e+07   \n2008-10-23 16:53:06 1                     13.690153        1.221587e+07   \n2008-10-23 05:53:11 1                     20.223428        1.221588e+07   \n2008-10-23 05:53:16 1                     18.416895        1.221588e+07   \n2008-10-23 05:53:21 1                     20.933073        1.221588e+07   \n\n                             Within_15000000_m_from_(0, 0)  \\\nDateTime            traj_id                                  \n2008-10-23 16:53:05 1                                 True   \n2008-10-23 16:53:06 1                                 True   \n2008-10-23 05:53:11 1                                 True   \n2008-10-23 05:53:16 1                                 True   \n2008-10-23 05:53:21 1                                 True   \n\n                             Speed_prev_to_curr  Acceleration_prev_to_curr  \\\nDateTime            traj_id                                                  \n2008-10-23 16:53:05 1                       NaN                        NaN   \n2008-10-23 16:53:06 1                 13.690153                        NaN   \n2008-10-23 05:53:11 1                  0.000158                  -0.000292   \n2008-10-23 05:53:16 1                  0.364217                   0.072812   \n2008-10-23 05:53:21 1                  0.577934                   0.042744   \n\n                             jerk_prev_to_curr  \nDateTime            traj_id                     \n2008-10-23 16:53:05 1                      NaN  \n2008-10-23 16:53:06 1                      NaN  \n2008-10-23 05:53:11 1                      NaN  \n2008-10-23 05:53:16 1                 0.014621  \n2008-10-23 05:53:21 1                -0.006014  ",
      "text/html": "<div>\n<style scoped>\n    .dataframe tbody tr th:only-of-type {\n        vertical-align: middle;\n    }\n\n    .dataframe tbody tr th {\n        vertical-align: top;\n    }\n\n    .dataframe thead th {\n        text-align: right;\n    }\n</style>\n<table border=\"1\" class=\"dataframe\">\n  <thead>\n    <tr style=\"text-align: right;\">\n      <th></th>\n      <th></th>\n      <th>lat</th>\n      <th>lon</th>\n      <th>Distance_prev_to_curr</th>\n      <th>Distance_start_to_curr</th>\n      <th>Distance_to_(0, 0)</th>\n      <th>Within_15000000_m_from_(0, 0)</th>\n      <th>Speed_prev_to_curr</th>\n      <th>Acceleration_prev_to_curr</th>\n      <th>jerk_prev_to_curr</th>\n    </tr>\n    <tr>\n      <th>DateTime</th>\n      <th>traj_id</th>\n      <th></th>\n      <th></th>\n      <th></th>\n      <th></th>\n      <th></th>\n      <th></th>\n      <th></th>\n      <th></th>\n      <th></th>\n    </tr>\n  </thead>\n  <tbody>\n    <tr>\n      <th>2008-10-23 16:53:05</th>\n      <th>1</th>\n      <td>39.984094</td>\n      <td>116.319236</td>\n      <td>0.000000</td>\n      <td>0.000000</td>\n      <td>1.221587e+07</td>\n      <td>True</td>\n      <td>NaN</td>\n      <td>NaN</td>\n      <td>NaN</td>\n    </tr>\n    <tr>\n      <th>2008-10-23 16:53:06</th>\n      <th>1</th>\n      <td>39.984198</td>\n      <td>116.319322</td>\n      <td>13.690153</td>\n      <td>13.690153</td>\n      <td>1.221587e+07</td>\n      <td>True</td>\n      <td>13.690153</td>\n      <td>NaN</td>\n      <td>NaN</td>\n    </tr>\n    <tr>\n      <th>2008-10-23 05:53:11</th>\n      <th>1</th>\n      <td>39.984224</td>\n      <td>116.319402</td>\n      <td>7.403788</td>\n      <td>20.223428</td>\n      <td>1.221588e+07</td>\n      <td>True</td>\n      <td>0.000158</td>\n      <td>-0.000292</td>\n      <td>NaN</td>\n    </tr>\n    <tr>\n      <th>2008-10-23 05:53:16</th>\n      <th>1</th>\n      <td>39.984211</td>\n      <td>116.319389</td>\n      <td>1.821083</td>\n      <td>18.416895</td>\n      <td>1.221588e+07</td>\n      <td>True</td>\n      <td>0.364217</td>\n      <td>0.072812</td>\n      <td>0.014621</td>\n    </tr>\n    <tr>\n      <th>2008-10-23 05:53:21</th>\n      <th>1</th>\n      <td>39.984217</td>\n      <td>116.319422</td>\n      <td>2.889671</td>\n      <td>20.933073</td>\n      <td>1.221588e+07</td>\n      <td>True</td>\n      <td>0.577934</td>\n      <td>0.042744</td>\n      <td>-0.006014</td>\n    </tr>\n  </tbody>\n</table>\n</div>"
     },
     "execution_count": 21,
     "metadata": {},
     "output_type": "execute_result"
    }
   ],
   "source": [
    "%%time\n",
    "\n",
    "# Now lets check the jerk of the object between 2 consecutive\n",
    "# points.\n",
    "# First, we will do it for the geolife dataset.\n",
    "geolife = spatial.create_jerk_from_prev_column(geolife)\n",
    "geolife.head()"
   ],
   "metadata": {
    "collapsed": false,
    "pycharm": {
     "name": "#%%\n"
    }
   }
  },
  {
   "cell_type": "code",
   "execution_count": 21,
   "outputs": [],
   "source": [],
   "metadata": {
    "collapsed": false,
    "pycharm": {
     "name": "#%%\n"
    }
   }
  }
 ],
 "metadata": {
  "kernelspec": {
   "display_name": "Python 3",
   "language": "python",
   "name": "python3"
  },
  "language_info": {
   "codemirror_mode": {
    "name": "ipython",
    "version": 2
   },
   "file_extension": ".py",
   "mimetype": "text/x-python",
   "name": "python",
   "nbconvert_exporter": "python",
   "pygments_lexer": "ipython2",
   "version": "2.7.6"
  }
 },
 "nbformat": 4,
 "nbformat_minor": 0
}