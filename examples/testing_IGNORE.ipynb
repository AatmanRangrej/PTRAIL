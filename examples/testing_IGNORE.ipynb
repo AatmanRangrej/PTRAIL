{
 "cells": [
  {
   "cell_type": "code",
   "execution_count": 1,
   "metadata": {
    "collapsed": true,
    "pycharm": {
     "name": "#%%\n"
    }
   },
   "outputs": [
    {
     "name": "stdout",
     "output_type": "stream",
     "text": [
      "------------------------ Dataset Facts ------------------------------\n",
      "\n",
      "Number of unique Trajectories in the data: 253\n",
      "Number of points in the data: 287136\n",
      "Dataset time range: 1196 days 22:51:45\n",
      "Datatype of the DataFrame: <class 'Nummobility.core.TrajectoryDF.NumPandasTraj'>\n",
      "Dataset Bounding Box: (45.18896978643169, -118.61020848239596, 45.314545642992, -118.50455596234036)\n",
      "\n",
      "---------------------------------------------------------------------\n"
     ]
    },
    {
     "data": {
      "text/plain": "                                     lat         lon  StarkeyTime    GMDate  \\\ntraj_id   DateTime                                                            \n880109D01 1995-04-13 13:40:06  45.239682 -118.533204    229902006  21:40:06   \n          1995-04-15 12:16:15  45.250521 -118.530438    230069775  20:16:15   \n          1995-04-15 21:39:38  45.247943 -118.541455    230103578  05:39:38   \n          1995-04-16 03:32:14  45.247429 -118.539530    230124734  11:32:14   \n          1995-04-16 04:08:28  45.247117 -118.542579    230126908  12:08:28   \n\n                                 GMTime   LocDate   LocTime  RadNum Species  \\\ntraj_id   DateTime                                                            \n880109D01 1995-04-13 13:40:06  19950413  19950413  13:40:06     409       D   \n          1995-04-15 12:16:15  19950415  19950415  12:16:15     409       D   \n          1995-04-15 21:39:38  19950416  19950415  21:39:38     409       D   \n          1995-04-16 03:32:14  19950416  19950416  03:32:14     409       D   \n          1995-04-16 04:08:28  19950416  19950416  04:08:28     409       D   \n\n                                 UTME     UTMN  Year  Grensunr  Grensuns  \\\ntraj_id   DateTime                                                         \n880109D01 1995-04-13 13:40:06  379662  5010734    95  13:13:00  02:39:00   \n          1995-04-15 12:16:15  379895  5011927    95  13:09:00  02:41:00   \n          1995-04-15 21:39:38  379039  5011656    95  13:07:00  02:43:00   \n          1995-04-16 03:32:14  379188  5011581    95  13:07:00  02:43:00   \n          1995-04-16 04:08:28  378938  5011567    95  13:07:00  02:43:00   \n\n                               Obswt  \ntraj_id   DateTime                    \n880109D01 1995-04-13 13:40:06   1.47  \n          1995-04-15 12:16:15   1.59  \n          1995-04-15 21:39:38   1.34  \n          1995-04-16 03:32:14   1.50  \n          1995-04-16 04:08:28   1.34  ",
      "text/html": "<div>\n<style scoped>\n    .dataframe tbody tr th:only-of-type {\n        vertical-align: middle;\n    }\n\n    .dataframe tbody tr th {\n        vertical-align: top;\n    }\n\n    .dataframe thead th {\n        text-align: right;\n    }\n</style>\n<table border=\"1\" class=\"dataframe\">\n  <thead>\n    <tr style=\"text-align: right;\">\n      <th></th>\n      <th></th>\n      <th>lat</th>\n      <th>lon</th>\n      <th>StarkeyTime</th>\n      <th>GMDate</th>\n      <th>GMTime</th>\n      <th>LocDate</th>\n      <th>LocTime</th>\n      <th>RadNum</th>\n      <th>Species</th>\n      <th>UTME</th>\n      <th>UTMN</th>\n      <th>Year</th>\n      <th>Grensunr</th>\n      <th>Grensuns</th>\n      <th>Obswt</th>\n    </tr>\n    <tr>\n      <th>traj_id</th>\n      <th>DateTime</th>\n      <th></th>\n      <th></th>\n      <th></th>\n      <th></th>\n      <th></th>\n      <th></th>\n      <th></th>\n      <th></th>\n      <th></th>\n      <th></th>\n      <th></th>\n      <th></th>\n      <th></th>\n      <th></th>\n      <th></th>\n    </tr>\n  </thead>\n  <tbody>\n    <tr>\n      <th rowspan=\"5\" valign=\"top\">880109D01</th>\n      <th>1995-04-13 13:40:06</th>\n      <td>45.239682</td>\n      <td>-118.533204</td>\n      <td>229902006</td>\n      <td>21:40:06</td>\n      <td>19950413</td>\n      <td>19950413</td>\n      <td>13:40:06</td>\n      <td>409</td>\n      <td>D</td>\n      <td>379662</td>\n      <td>5010734</td>\n      <td>95</td>\n      <td>13:13:00</td>\n      <td>02:39:00</td>\n      <td>1.47</td>\n    </tr>\n    <tr>\n      <th>1995-04-15 12:16:15</th>\n      <td>45.250521</td>\n      <td>-118.530438</td>\n      <td>230069775</td>\n      <td>20:16:15</td>\n      <td>19950415</td>\n      <td>19950415</td>\n      <td>12:16:15</td>\n      <td>409</td>\n      <td>D</td>\n      <td>379895</td>\n      <td>5011927</td>\n      <td>95</td>\n      <td>13:09:00</td>\n      <td>02:41:00</td>\n      <td>1.59</td>\n    </tr>\n    <tr>\n      <th>1995-04-15 21:39:38</th>\n      <td>45.247943</td>\n      <td>-118.541455</td>\n      <td>230103578</td>\n      <td>05:39:38</td>\n      <td>19950416</td>\n      <td>19950415</td>\n      <td>21:39:38</td>\n      <td>409</td>\n      <td>D</td>\n      <td>379039</td>\n      <td>5011656</td>\n      <td>95</td>\n      <td>13:07:00</td>\n      <td>02:43:00</td>\n      <td>1.34</td>\n    </tr>\n    <tr>\n      <th>1995-04-16 03:32:14</th>\n      <td>45.247429</td>\n      <td>-118.539530</td>\n      <td>230124734</td>\n      <td>11:32:14</td>\n      <td>19950416</td>\n      <td>19950416</td>\n      <td>03:32:14</td>\n      <td>409</td>\n      <td>D</td>\n      <td>379188</td>\n      <td>5011581</td>\n      <td>95</td>\n      <td>13:07:00</td>\n      <td>02:43:00</td>\n      <td>1.50</td>\n    </tr>\n    <tr>\n      <th>1995-04-16 04:08:28</th>\n      <td>45.247117</td>\n      <td>-118.542579</td>\n      <td>230126908</td>\n      <td>12:08:28</td>\n      <td>19950416</td>\n      <td>19950416</td>\n      <td>04:08:28</td>\n      <td>409</td>\n      <td>D</td>\n      <td>378938</td>\n      <td>5011567</td>\n      <td>95</td>\n      <td>13:07:00</td>\n      <td>02:43:00</td>\n      <td>1.34</td>\n    </tr>\n  </tbody>\n</table>\n</div>"
     },
     "execution_count": 1,
     "metadata": {},
     "output_type": "execute_result"
    }
   ],
   "source": [
    "# Note that for our dataset, ungulate animals = mule deer, elk.\n",
    "# One of the main reason for this research was to help farmers,\n",
    "# ranchers etc to determine if fencing their farms would help\n",
    "# them prevent losses which occur due to heavy grazing by the\n",
    "# ungulates. Therefore, some ungulate proof pastures were\n",
    "# created for the research within the starkey area and one\n",
    "# such example of that data is the DistEWater which is the\n",
    "# distance to the nearest water source within the ungulate\n",
    "# proof area.\n",
    "\n",
    "# First, lets import the starkey dataset and the habitat data\n",
    "# and then check both out. Now it is to be noted that since\n",
    "# the habitat dataset is not an actual trajectory dataset, we\n",
    "# will just import the habitat dataset as a pandas dataframe.\n",
    "import matplotlib.pyplot as plt\n",
    "\n",
    "from Nummobility.core.TrajectoryDF import NumPandasTraj\n",
    "import pandas as pd\n",
    "from Nummobility.semantics.semantic_features import SemanticFeatures as sem\n",
    "import osmnx as ox\n",
    "\n",
    "pd.set_option('display.max_columns', 500)\n",
    "\n",
    "pdf = pd.read_csv('./data/starkey.csv')\n",
    "starkey_traj = NumPandasTraj(data_set=pdf,\n",
    "                             latitude='lat',\n",
    "                             longitude='lon',\n",
    "                             datetime='DateTime',\n",
    "                             traj_id='Id')\n",
    "print(starkey_traj)\n",
    "starkey_traj.head()"
   ]
  },
  {
   "cell_type": "code",
   "execution_count": 2,
   "outputs": [
    {
     "name": "stdout",
     "output_type": "stream",
     "text": [
      "The shape of the starkey habitat dataset: (85969, 19)\n"
     ]
    },
    {
     "data": {
      "text/plain": "         lat         lon  SoilDpth  PerSlope  SINAspct  COSAspct  Convex3  \\\n0  45.272378 -118.610193        14         5     -0.81      0.59   500.63   \n1  45.272648 -118.610201        14         5     -0.71      0.71   500.21   \n2  45.272918 -118.610208        14         4     -0.89      0.45   499.93   \n3  45.270224 -118.609750        14         8     -0.98      0.21   500.68   \n4  45.270494 -118.609757        14         7     -0.97      0.22   501.22   \n\n   DistCWat  Canopy  Elev  DistEWat EcoGener  DistOPEN  DistRSTR  DistCLSD  \\\n0       218       3  1389       212       GB       127      2271        30   \n1       228       3  1388       218       GB       150      2293        30   \n2       242       3  1387       228       GB       170      2315        30   \n3       201       5  1393       201       GB        30      2081       134   \n4       190       5  1393       190       GB        30      2101       108   \n\n   DistEFnc      CowPast  ForgProd  DistEdge  \n0         0  SMITH-BALLY       363         0  \n1         0  SMITH-BALLY       363         0  \n2         0  SMITH-BALLY       363         0  \n3         0  SMITH-BALLY       363         0  \n4         0  SMITH-BALLY       363         0  ",
      "text/html": "<div>\n<style scoped>\n    .dataframe tbody tr th:only-of-type {\n        vertical-align: middle;\n    }\n\n    .dataframe tbody tr th {\n        vertical-align: top;\n    }\n\n    .dataframe thead th {\n        text-align: right;\n    }\n</style>\n<table border=\"1\" class=\"dataframe\">\n  <thead>\n    <tr style=\"text-align: right;\">\n      <th></th>\n      <th>lat</th>\n      <th>lon</th>\n      <th>SoilDpth</th>\n      <th>PerSlope</th>\n      <th>SINAspct</th>\n      <th>COSAspct</th>\n      <th>Convex3</th>\n      <th>DistCWat</th>\n      <th>Canopy</th>\n      <th>Elev</th>\n      <th>DistEWat</th>\n      <th>EcoGener</th>\n      <th>DistOPEN</th>\n      <th>DistRSTR</th>\n      <th>DistCLSD</th>\n      <th>DistEFnc</th>\n      <th>CowPast</th>\n      <th>ForgProd</th>\n      <th>DistEdge</th>\n    </tr>\n  </thead>\n  <tbody>\n    <tr>\n      <th>0</th>\n      <td>45.272378</td>\n      <td>-118.610193</td>\n      <td>14</td>\n      <td>5</td>\n      <td>-0.81</td>\n      <td>0.59</td>\n      <td>500.63</td>\n      <td>218</td>\n      <td>3</td>\n      <td>1389</td>\n      <td>212</td>\n      <td>GB</td>\n      <td>127</td>\n      <td>2271</td>\n      <td>30</td>\n      <td>0</td>\n      <td>SMITH-BALLY</td>\n      <td>363</td>\n      <td>0</td>\n    </tr>\n    <tr>\n      <th>1</th>\n      <td>45.272648</td>\n      <td>-118.610201</td>\n      <td>14</td>\n      <td>5</td>\n      <td>-0.71</td>\n      <td>0.71</td>\n      <td>500.21</td>\n      <td>228</td>\n      <td>3</td>\n      <td>1388</td>\n      <td>218</td>\n      <td>GB</td>\n      <td>150</td>\n      <td>2293</td>\n      <td>30</td>\n      <td>0</td>\n      <td>SMITH-BALLY</td>\n      <td>363</td>\n      <td>0</td>\n    </tr>\n    <tr>\n      <th>2</th>\n      <td>45.272918</td>\n      <td>-118.610208</td>\n      <td>14</td>\n      <td>4</td>\n      <td>-0.89</td>\n      <td>0.45</td>\n      <td>499.93</td>\n      <td>242</td>\n      <td>3</td>\n      <td>1387</td>\n      <td>228</td>\n      <td>GB</td>\n      <td>170</td>\n      <td>2315</td>\n      <td>30</td>\n      <td>0</td>\n      <td>SMITH-BALLY</td>\n      <td>363</td>\n      <td>0</td>\n    </tr>\n    <tr>\n      <th>3</th>\n      <td>45.270224</td>\n      <td>-118.609750</td>\n      <td>14</td>\n      <td>8</td>\n      <td>-0.98</td>\n      <td>0.21</td>\n      <td>500.68</td>\n      <td>201</td>\n      <td>5</td>\n      <td>1393</td>\n      <td>201</td>\n      <td>GB</td>\n      <td>30</td>\n      <td>2081</td>\n      <td>134</td>\n      <td>0</td>\n      <td>SMITH-BALLY</td>\n      <td>363</td>\n      <td>0</td>\n    </tr>\n    <tr>\n      <th>4</th>\n      <td>45.270494</td>\n      <td>-118.609757</td>\n      <td>14</td>\n      <td>7</td>\n      <td>-0.97</td>\n      <td>0.22</td>\n      <td>501.22</td>\n      <td>190</td>\n      <td>5</td>\n      <td>1393</td>\n      <td>190</td>\n      <td>GB</td>\n      <td>30</td>\n      <td>2101</td>\n      <td>108</td>\n      <td>0</td>\n      <td>SMITH-BALLY</td>\n      <td>363</td>\n      <td>0</td>\n    </tr>\n  </tbody>\n</table>\n</div>"
     },
     "execution_count": 2,
     "metadata": {},
     "output_type": "execute_result"
    }
   ],
   "source": [
    "# Now, importing the habitat data.\n",
    "starkey_habitat = pd.read_csv('./data/starkey_habitat.csv')\n",
    "print(f\"The shape of the starkey habitat dataset: {starkey_habitat.shape}\")\n",
    "starkey_habitat.head()"
   ],
   "metadata": {
    "collapsed": false,
    "pycharm": {
     "name": "#%%\n"
    }
   }
  },
  {
   "cell_type": "code",
   "execution_count": 3,
   "outputs": [
    {
     "data": {
      "text/plain": "BEAR           38216\nSMITH-BALLY    26363\nMDWCRK         12830\nHALFMOON        6205\nHORSE           1444\nSTRIP            907\nNE                 2\nName: CowPast, dtype: int64"
     },
     "execution_count": 3,
     "metadata": {},
     "output_type": "execute_result"
    }
   ],
   "source": [
    "starkey_habitat['CowPast'].value_counts()"
   ],
   "metadata": {
    "collapsed": false,
    "pycharm": {
     "name": "#%%\n"
    }
   }
  },
  {
   "cell_type": "code",
   "execution_count": 4,
   "outputs": [
    {
     "name": "stdout",
     "output_type": "stream",
     "text": [
      "CPU times: user 2 µs, sys: 0 ns, total: 2 µs\n",
      "Wall time: 3.81 µs\n"
     ]
    }
   ],
   "source": [
    "%%time\n",
    "\n",
    "# Checking whether each point in the trajectory is inside\n",
    "# Smith Bally pasture or not.\n",
    "\n",
    "# pasture_visited = sem.visited_location(df=starkey_traj,\n",
    "#                                        geo_layers=starkey_habitat,\n",
    "#                                        visited_location_name = 'SMITH-BALLY',\n",
    "#                                        location_column_name='CowPast')\n",
    "# pasture_visited.head()"
   ],
   "metadata": {
    "collapsed": false,
    "pycharm": {
     "name": "#%%\n"
    }
   }
  },
  {
   "cell_type": "code",
   "execution_count": 5,
   "outputs": [],
   "source": [
    "# Using osmnx to fetch water body data in an area of 100 km\n",
    "# near a point in the Smith-Bally pasture of the starkey\n",
    "# research area.\n",
    "from shapely.geometry import LineString\n",
    "\n",
    "# tags = {'natural': 'water'}\n",
    "# odf = ox.geometries_from_point(center_point=(45.272918, -118.610208),\n",
    "#                                dist=50000,\n",
    "#                                tags=tags)\n",
    "# odf = odf.reset_index().loc[odf.reset_index()['element_type'] == 'node']"
   ],
   "metadata": {
    "collapsed": false,
    "pycharm": {
     "name": "#%%\n"
    }
   }
  },
  {
   "cell_type": "code",
   "execution_count": 6,
   "outputs": [],
   "source": [
    "# odf = odf.reset_index()\n",
    "# geoms = []\n",
    "# for i in range(len(odf)):\n",
    "#     val = odf.iloc[i]['geometry']\n",
    "#     if val.geom_type == 'Polygon':\n",
    "#         geoms.append(LineString(list(val.exterior.coords)))\n",
    "#     else:\n",
    "#         print(val.geom_type)\n",
    "#         geoms.append(LineString(list(val.coords)))\n",
    "#\n",
    "# odf['geometry'] = geoms\n",
    "\n",
    "# odf"
   ],
   "metadata": {
    "collapsed": false,
    "pycharm": {
     "name": "#%%\n"
    }
   }
  },
  {
   "cell_type": "code",
   "execution_count": 7,
   "outputs": [],
   "source": [
    "\n",
    "# Now, checking whether the points in the starkey dataset\n",
    "# have crossed or if the trajectories have intersected\n",
    "# the above found water bodies.\n",
    "\n",
    "# water_crossed = sem.visited_waterbody(df=starkey_traj,\n",
    "#                                       water_bodies=odf)"
   ],
   "metadata": {
    "collapsed": false,
    "pycharm": {
     "name": "#%%\n"
    }
   }
  },
  {
   "cell_type": "code",
   "execution_count": 8,
   "outputs": [],
   "source": [
    "# water_crossed"
   ],
   "metadata": {
    "collapsed": false,
    "pycharm": {
     "name": "#%%\n"
    }
   }
  },
  {
   "cell_type": "code",
   "execution_count": 9,
   "outputs": [],
   "source": [
    "# water_crossed['Visited_Waterbodies'].value_counts()"
   ],
   "metadata": {
    "collapsed": false,
    "pycharm": {
     "name": "#%%\n"
    }
   }
  },
  {
   "cell_type": "code",
   "execution_count": 10,
   "outputs": [],
   "source": [
    "# odf.geometry.plot(figsize=(25,20), linewidth=50, color='black'),\n",
    "# plt.plot(water_crossed['lon'], water_crossed['lat'], color='red', alpha=0.5)"
   ],
   "metadata": {
    "collapsed": false,
    "pycharm": {
     "name": "#%%\n"
    }
   }
  },
  {
   "cell_type": "code",
   "execution_count": 11,
   "outputs": [
    {
     "data": {
      "text/plain": "(214, 17)"
     },
     "execution_count": 11,
     "metadata": {},
     "output_type": "execute_result"
    }
   ],
   "source": [
    "small = starkey_traj.reset_index().loc[starkey_traj.reset_index()['traj_id'] == '880109D01']\n",
    "small.shape"
   ],
   "metadata": {
    "collapsed": false,
    "pycharm": {
     "name": "#%%\n"
    }
   }
  },
  {
   "cell_type": "code",
   "execution_count": 12,
   "outputs": [
    {
     "data": {
      "text/plain": "(38216, 19)"
     },
     "execution_count": 12,
     "metadata": {},
     "output_type": "execute_result"
    }
   ],
   "source": [
    "pasture = starkey_habitat.loc[starkey_habitat['CowPast'] == 'BEAR']\n",
    "pasture.shape"
   ],
   "metadata": {
    "collapsed": false,
    "pycharm": {
     "name": "#%%\n"
    }
   }
  },
  {
   "cell_type": "code",
   "execution_count": null,
   "outputs": [
    {
     "name": "stdout",
     "output_type": "stream",
     "text": [
      "8\n"
     ]
    }
   ],
   "source": [
    "%%time\n",
    "\n",
    "water = sem.visited_poi(df=starkey_traj,\n",
    "                        surrounding_data=pasture,\n",
    "                        dist_column_label='DistEWat',\n",
    "                        nearby_threshold=10)\n",
    "water.head()"
   ],
   "metadata": {
    "collapsed": false,
    "pycharm": {
     "name": "#%%\n",
     "is_executing": true
    }
   }
  },
  {
   "cell_type": "code",
   "execution_count": null,
   "outputs": [],
   "source": [],
   "metadata": {
    "collapsed": false,
    "pycharm": {
     "name": "#%%\n",
     "is_executing": true
    }
   }
  }
 ],
 "metadata": {
  "kernelspec": {
   "display_name": "Python 3",
   "language": "python",
   "name": "python3"
  },
  "language_info": {
   "codemirror_mode": {
    "name": "ipython",
    "version": 2
   },
   "file_extension": ".py",
   "mimetype": "text/x-python",
   "name": "python",
   "nbconvert_exporter": "python",
   "pygments_lexer": "ipython2",
   "version": "2.7.6"
  }
 },
 "nbformat": 4,
 "nbformat_minor": 0
}