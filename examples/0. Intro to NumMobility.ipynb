{
 "cells": [
  {
   "cell_type": "markdown",
   "source": [
    "<!---------------------- Introduction Section ------------------->\n",
    "<h1> NumMobility: A Mobility Data PreProcessing Library </h1>\n",
    "\n",
    "<h2> Introduction </h2>\n",
    "\n",
    "<p align='justify'>\n",
    "NumMobility is a state-of-the art Mobility Data Preprocessing Library that mainly deals with filtering data, generating features and interpolation of Trajectory Data.\n",
    "\n",
    "<b><i> The main features of NumMobility are: </i></b>\n",
    "\n",
    "<ol align='justify'>\n",
    "<li> NumMobility uses primarily parallel computation based on\n",
    "     python Pandas and numpy which makes it very fast as compared\n",
    "     to other libraries available.\n",
    "</li>\n",
    "\n",
    "<li> NumMobility harnesses the full power of the machine that\n",
    "     it is running on by using all the cores available in the\n",
    "     computer.\n",
    "</li>\n",
    "\n",
    "<li> NumMobility uses a customized DataFrame built on top of python\n",
    "     pandas for representation and storage of Trajectory Data.\n",
    "</li>\n",
    "\n",
    "<li> NumMobility also provides several Temporal and spatial features\n",
    "     which are calculated mostly using parallel computation for very\n",
    "     fast and accurate calculations.\n",
    "</li>\n",
    "\n",
    "<li> Moreover, NumMobility also provides several filteration and\n",
    "     outlier detection methods for cleaning and noise reduction of\n",
    "     the Trajectory Data.\n",
    "</li>\n",
    "\n",
    "<li> Apart from the features mentioned above, <i><b> four </b></i>\n",
    "     different kinds of Trajectory Interpolation techniques are\n",
    "     offered by NumMobility which is a first in the community.\n",
    "</li>\n",
    "</ol>\n",
    "</p>\n",
    "\n",
    "<!----------------- Dataset Link Section --------------------->\n",
    "<hr style=\"height:6px;background-color:black\">\n",
    "\n",
    "<p align='justify'>\n",
    "In the introduction of the library, the seagulls dataset is used\n",
    "which can be downloaded from the link below: <br>\n",
    "<span> &#8618; </span>\n",
    "<a href=\"https://github.com/YakshHaranwala/NumMobility/blob/main/examples/data/gulls.csv\" target='_blank'> Seagulls Dataset </a>\n",
    "</p>\n",
    "\n",
    "<!----------------- NbViewer Link ---------------------------->\n",
    "<hr style=\"height:6px;background-color:black\">\n",
    "<p align='justify'>\n",
    "Note: Viewing this notebook in GitHub will not render JavaScript\n",
    "elements. Hence, for a better experience, click the link below\n",
    "to open the Jupyter notebook in NB viewer.\n",
    "\n",
    "<span> &#8618; </span>\n",
    "<a href=\"https://nbviewer.jupyter.org/github/YakshHaranwala/NumMobility/blob/main/examples/0.%20Intro%20to%20NumMobility.ipynb\" target='_blank'> Click Here </a>\n",
    "</p>\n",
    "\n",
    "<!------------------------- Documentation Link ----------------->\n",
    "<hr style=\"height:6px;background-color:black\">\n",
    "<p align='justify'>\n",
    "The Link to NumMobility's Documentation is: <br>\n",
    "\n",
    "<span> &#8618; </span>\n",
    "<a href='https://nummobility.readthedocs.io/en/latest/' target='_blank'> <i> NumMobility Documentation </i> </a>\n",
    "</p>\n",
    "<hr style=\"height:6px;background-color:black\">"
   ],
   "metadata": {
    "collapsed": false,
    "pycharm": {
     "name": "#%% md\n"
    }
   }
  },
  {
   "cell_type": "markdown",
   "source": [
    "<h2> Importing Trajectory Data into a NumPandasTraj Dataframe </h2>\n",
    "\n",
    "<p align='justify'>\n",
    "NumMobility Library stores Mobility Data (Trajectories) in a specialised\n",
    "pandas Dataframe structure called NumPandasTraj. As a result, the following\n",
    "constraints are enforced for the data to be able to be stores in a NumPandasTraj.\n",
    "\n",
    "<ol align='justify'>\n",
    "   <li>\n",
    "        Firstly, for a mobility dataset to be able to work with NumMobility Library needs\n",
    "        to have the following mandatory columns present:\n",
    "       <ul type='square'>\n",
    "           <li> DateTime </li>\n",
    "           <li> Trajectory ID </li>\n",
    "           <li> Latitude </li>\n",
    "           <li> Longitude </li>\n",
    "       </ul>\n",
    "   </li>\n",
    "   <li>\n",
    "       Secondly, NumPandasTraj has a very specific constraint for the index of the\n",
    "       dataframes, the Library enforces a multi-index consisting of the\n",
    "       <b><i> Trajectory ID, DateTime </i></b> columns because the operations of the\n",
    "       library are dependent on the 2 columns. As a result, it is recommended\n",
    "       to not change the index and keep the multi-index of <b><i> Trajectory ID, DateTime </i></b>\n",
    "       at all times.\n",
    "   </li>\n",
    "   <li>\n",
    "        Note that since NumPandasTraj Dataframe is built on top of\n",
    "        python pandas, it does not have any restrictions on the number\n",
    "        of columns that the dataset has. The only requirement is that\n",
    "        the dataset should atleast contain the above mentioned four columns.\n",
    "   </li>\n",
    "</ol>\n",
    "</p>\n",
    "\n",
    "<hr style=\"height:6px;background-color:black\">"
   ],
   "metadata": {
    "collapsed": false,
    "pycharm": {
     "name": "#%% md\n"
    }
   }
  },
  {
   "cell_type": "code",
   "execution_count": 1,
   "outputs": [
    {
     "name": "stdout",
     "output_type": "stream",
     "text": [
      "The dimensions of the dataframe:(6, 2)\n",
      "Type of the dataframe: <class 'core.TrajectoryDF.NumPandasTraj'>\n"
     ]
    }
   ],
   "source": [
    "\"\"\"\n",
    "    METHOD - I:\n",
    "        1. Enter the trajectory data into a list.\n",
    "        2. Then, convert the list into a NumPandasTraj\n",
    "           Dataframe to be used with NumMobility Library.\n",
    "\"\"\"\n",
    "import pandas as pd\n",
    "from core.TrajectoryDF import NumPandasTraj\n",
    "\n",
    "list_data = [\n",
    "    [39.984094, 116.319236, '2008-10-23 05:53:05', 1],\n",
    "    [39.984198, 116.319322, '2008-10-23 05:53:06', 1],\n",
    "    [39.984224, 116.319402, '2008-10-23 05:53:11', 1],\n",
    "    [39.984224, 116.319404, '2008-10-23 05:53:11', 1],\n",
    "    [39.984224, 116.568956, '2008-10-23 05:53:11', 1],\n",
    "    [39.984224, 116.568956, '2008-10-23 05:53:11', 1]\n",
    "]\n",
    "list_df = NumPandasTraj(data_set=list_data,\n",
    "                        latitude='lat',\n",
    "                        longitude='lon',\n",
    "                        datetime='datetime',\n",
    "                        traj_id='id')\n",
    "print(f\"The dimensions of the dataframe:{list_df.shape}\")\n",
    "print(f\"Type of the dataframe: {type(list_df)}\")"
   ],
   "metadata": {
    "collapsed": false,
    "pycharm": {
     "name": "#%%\n"
    }
   }
  },
  {
   "cell_type": "code",
   "execution_count": 2,
   "outputs": [
    {
     "name": "stdout",
     "output_type": "stream",
     "text": [
      "The dimensions of the dataframe:(5, 2)\n",
      "Type of the dataframe: <class 'core.TrajectoryDF.NumPandasTraj'>\n"
     ]
    }
   ],
   "source": [
    "\"\"\"\n",
    "    METHOD - II:\n",
    "        1. Enter the trajectory data into a dictionary.\n",
    "        2. Then, convert the dictionary into a NumPandasTraj\n",
    "           Dataframe to be used with NumMobility Library.\n",
    "\"\"\"\n",
    "dict_data = {\n",
    "    'lat': [39.984198, 39.984224, 39.984094, 40.98, 41.256],\n",
    "    'lon': [116.319402, 116.319322, 116.319402, 116.3589, 117],\n",
    "    'datetime': ['2008-10-23 05:53:11', '2008-10-23 05:53:06', '2008-10-23 05:53:30', '2008-10-23 05:54:06', '2008-10-23 05:59:06'],\n",
    "    'id' : [1, 1, 1, 3, 3],\n",
    "}\n",
    "dict_df = NumPandasTraj(data_set=dict_data,\n",
    "                        latitude='lat',\n",
    "                        longitude='lon',\n",
    "                        datetime='datetime',\n",
    "                        traj_id='id')\n",
    "print(f\"The dimensions of the dataframe:{dict_df.shape}\")\n",
    "print(f\"Type of the dataframe: {type(dict_df)}\")"
   ],
   "metadata": {
    "collapsed": false,
    "pycharm": {
     "name": "#%%\n"
    }
   }
  },
  {
   "cell_type": "code",
   "execution_count": 3,
   "outputs": [
    {
     "data": {
      "text/plain": "                                   lat         lon\ntraj_id DateTime                                  \n1       2008-10-23 05:53:05  39.984094  116.319236\n        2008-10-23 05:53:06  39.984198  116.319322\n        2008-10-23 05:53:11  39.984224  116.319402\n        2008-10-23 05:53:11  39.984224  116.319404\n        2008-10-23 05:53:11  39.984224  116.568956",
      "text/html": "<div>\n<style scoped>\n    .dataframe tbody tr th:only-of-type {\n        vertical-align: middle;\n    }\n\n    .dataframe tbody tr th {\n        vertical-align: top;\n    }\n\n    .dataframe thead th {\n        text-align: right;\n    }\n</style>\n<table border=\"1\" class=\"dataframe\">\n  <thead>\n    <tr style=\"text-align: right;\">\n      <th></th>\n      <th></th>\n      <th>lat</th>\n      <th>lon</th>\n    </tr>\n    <tr>\n      <th>traj_id</th>\n      <th>DateTime</th>\n      <th></th>\n      <th></th>\n    </tr>\n  </thead>\n  <tbody>\n    <tr>\n      <th rowspan=\"5\" valign=\"top\">1</th>\n      <th>2008-10-23 05:53:05</th>\n      <td>39.984094</td>\n      <td>116.319236</td>\n    </tr>\n    <tr>\n      <th>2008-10-23 05:53:06</th>\n      <td>39.984198</td>\n      <td>116.319322</td>\n    </tr>\n    <tr>\n      <th>2008-10-23 05:53:11</th>\n      <td>39.984224</td>\n      <td>116.319402</td>\n    </tr>\n    <tr>\n      <th>2008-10-23 05:53:11</th>\n      <td>39.984224</td>\n      <td>116.319404</td>\n    </tr>\n    <tr>\n      <th>2008-10-23 05:53:11</th>\n      <td>39.984224</td>\n      <td>116.568956</td>\n    </tr>\n  </tbody>\n</table>\n</div>"
     },
     "execution_count": 3,
     "metadata": {},
     "output_type": "execute_result"
    }
   ],
   "source": [
    "# Now, printing the head of the dataframe with data\n",
    "# imported from a list.\n",
    "list_df.head()"
   ],
   "metadata": {
    "collapsed": false,
    "pycharm": {
     "name": "#%%\n"
    }
   }
  },
  {
   "cell_type": "code",
   "execution_count": 4,
   "outputs": [
    {
     "data": {
      "text/plain": "                                   lat         lon\ntraj_id DateTime                                  \n1       2008-10-23 05:53:06  39.984224  116.319322\n        2008-10-23 05:53:11  39.984198  116.319402\n        2008-10-23 05:53:30  39.984094  116.319402\n3       2008-10-23 05:54:06  40.980000  116.358900\n        2008-10-23 05:59:06  41.256000  117.000000",
      "text/html": "<div>\n<style scoped>\n    .dataframe tbody tr th:only-of-type {\n        vertical-align: middle;\n    }\n\n    .dataframe tbody tr th {\n        vertical-align: top;\n    }\n\n    .dataframe thead th {\n        text-align: right;\n    }\n</style>\n<table border=\"1\" class=\"dataframe\">\n  <thead>\n    <tr style=\"text-align: right;\">\n      <th></th>\n      <th></th>\n      <th>lat</th>\n      <th>lon</th>\n    </tr>\n    <tr>\n      <th>traj_id</th>\n      <th>DateTime</th>\n      <th></th>\n      <th></th>\n    </tr>\n  </thead>\n  <tbody>\n    <tr>\n      <th rowspan=\"3\" valign=\"top\">1</th>\n      <th>2008-10-23 05:53:06</th>\n      <td>39.984224</td>\n      <td>116.319322</td>\n    </tr>\n    <tr>\n      <th>2008-10-23 05:53:11</th>\n      <td>39.984198</td>\n      <td>116.319402</td>\n    </tr>\n    <tr>\n      <th>2008-10-23 05:53:30</th>\n      <td>39.984094</td>\n      <td>116.319402</td>\n    </tr>\n    <tr>\n      <th rowspan=\"2\" valign=\"top\">3</th>\n      <th>2008-10-23 05:54:06</th>\n      <td>40.980000</td>\n      <td>116.358900</td>\n    </tr>\n    <tr>\n      <th>2008-10-23 05:59:06</th>\n      <td>41.256000</td>\n      <td>117.000000</td>\n    </tr>\n  </tbody>\n</table>\n</div>"
     },
     "execution_count": 4,
     "metadata": {},
     "output_type": "execute_result"
    }
   ],
   "source": [
    "# Now, printing the head of the dataframe with data\n",
    "# imported from a dictionary.\n",
    "dict_df.head()"
   ],
   "metadata": {
    "collapsed": false,
    "pycharm": {
     "name": "#%%\n"
    }
   }
  },
  {
   "cell_type": "code",
   "source": [
    "\"\"\"\n",
    "    METHOD - III:\n",
    "        1. First, import the seagulls dataset from the csv file\n",
    "           using pandas into a pandas dataframe.\n",
    "        2. Then, convert the pandas dataframe into a NumPandasTraj\n",
    "           DataFrame to be used with NumMobility library.\n",
    "\"\"\"\n",
    "df = pd.read_csv('./data/gulls.csv')\n",
    "seagulls_df = NumPandasTraj(data_set=df,\n",
    "                            latitude='location-lat',\n",
    "                            longitude='location-long',\n",
    "                            datetime='timestamp',\n",
    "                            traj_id='tag-local-identifier',\n",
    "                            rest_of_columns=[])\n",
    "print(f\"The dimensions of the dataframe:{seagulls_df.shape}\")\n",
    "print(f\"Type of the dataframe: {type(seagulls_df)}\")"
   ],
   "metadata": {
    "collapsed": false,
    "pycharm": {
     "name": "#%%\n"
    }
   },
   "execution_count": 5,
   "outputs": [
    {
     "name": "stdout",
     "output_type": "stream",
     "text": [
      "The dimensions of the dataframe:(89869, 8)\n",
      "Type of the dataframe: <class 'core.TrajectoryDF.NumPandasTraj'>\n"
     ]
    }
   ]
  },
  {
   "cell_type": "code",
   "execution_count": 6,
   "outputs": [
    {
     "data": {
      "text/plain": "                               event-id  visible       lon       lat  \\\ntraj_id DateTime                                                       \n91732   2009-05-27 14:00:00  1082620685     True  24.58617  61.24783   \n        2009-05-27 20:00:00  1082620686     True  24.58217  61.23267   \n        2009-05-28 05:00:00  1082620687     True  24.53133  61.18833   \n        2009-05-28 08:00:00  1082620688     True  24.58200  61.23283   \n        2009-05-28 14:00:00  1082620689     True  24.58250  61.23267   \n\n                            sensor-type individual-taxon-canonical-name  \\\ntraj_id DateTime                                                          \n91732   2009-05-27 14:00:00         gps                    Larus fuscus   \n        2009-05-27 20:00:00         gps                    Larus fuscus   \n        2009-05-28 05:00:00         gps                    Larus fuscus   \n        2009-05-28 08:00:00         gps                    Larus fuscus   \n        2009-05-28 14:00:00         gps                    Larus fuscus   \n\n                            individual-local-identifier  \\\ntraj_id DateTime                                          \n91732   2009-05-27 14:00:00                      91732A   \n        2009-05-27 20:00:00                      91732A   \n        2009-05-28 05:00:00                      91732A   \n        2009-05-28 08:00:00                      91732A   \n        2009-05-28 14:00:00                      91732A   \n\n                                                                    study-name  \ntraj_id DateTime                                                                \n91732   2009-05-27 14:00:00  Navigation experiments in lesser black-backed ...  \n        2009-05-27 20:00:00  Navigation experiments in lesser black-backed ...  \n        2009-05-28 05:00:00  Navigation experiments in lesser black-backed ...  \n        2009-05-28 08:00:00  Navigation experiments in lesser black-backed ...  \n        2009-05-28 14:00:00  Navigation experiments in lesser black-backed ...  ",
      "text/html": "<div>\n<style scoped>\n    .dataframe tbody tr th:only-of-type {\n        vertical-align: middle;\n    }\n\n    .dataframe tbody tr th {\n        vertical-align: top;\n    }\n\n    .dataframe thead th {\n        text-align: right;\n    }\n</style>\n<table border=\"1\" class=\"dataframe\">\n  <thead>\n    <tr style=\"text-align: right;\">\n      <th></th>\n      <th></th>\n      <th>event-id</th>\n      <th>visible</th>\n      <th>lon</th>\n      <th>lat</th>\n      <th>sensor-type</th>\n      <th>individual-taxon-canonical-name</th>\n      <th>individual-local-identifier</th>\n      <th>study-name</th>\n    </tr>\n    <tr>\n      <th>traj_id</th>\n      <th>DateTime</th>\n      <th></th>\n      <th></th>\n      <th></th>\n      <th></th>\n      <th></th>\n      <th></th>\n      <th></th>\n      <th></th>\n    </tr>\n  </thead>\n  <tbody>\n    <tr>\n      <th rowspan=\"5\" valign=\"top\">91732</th>\n      <th>2009-05-27 14:00:00</th>\n      <td>1082620685</td>\n      <td>True</td>\n      <td>24.58617</td>\n      <td>61.24783</td>\n      <td>gps</td>\n      <td>Larus fuscus</td>\n      <td>91732A</td>\n      <td>Navigation experiments in lesser black-backed ...</td>\n    </tr>\n    <tr>\n      <th>2009-05-27 20:00:00</th>\n      <td>1082620686</td>\n      <td>True</td>\n      <td>24.58217</td>\n      <td>61.23267</td>\n      <td>gps</td>\n      <td>Larus fuscus</td>\n      <td>91732A</td>\n      <td>Navigation experiments in lesser black-backed ...</td>\n    </tr>\n    <tr>\n      <th>2009-05-28 05:00:00</th>\n      <td>1082620687</td>\n      <td>True</td>\n      <td>24.53133</td>\n      <td>61.18833</td>\n      <td>gps</td>\n      <td>Larus fuscus</td>\n      <td>91732A</td>\n      <td>Navigation experiments in lesser black-backed ...</td>\n    </tr>\n    <tr>\n      <th>2009-05-28 08:00:00</th>\n      <td>1082620688</td>\n      <td>True</td>\n      <td>24.58200</td>\n      <td>61.23283</td>\n      <td>gps</td>\n      <td>Larus fuscus</td>\n      <td>91732A</td>\n      <td>Navigation experiments in lesser black-backed ...</td>\n    </tr>\n    <tr>\n      <th>2009-05-28 14:00:00</th>\n      <td>1082620689</td>\n      <td>True</td>\n      <td>24.58250</td>\n      <td>61.23267</td>\n      <td>gps</td>\n      <td>Larus fuscus</td>\n      <td>91732A</td>\n      <td>Navigation experiments in lesser black-backed ...</td>\n    </tr>\n  </tbody>\n</table>\n</div>"
     },
     "execution_count": 6,
     "metadata": {},
     "output_type": "execute_result"
    }
   ],
   "source": [
    "# Now, print the head of the seagulls_df dataframe.\n",
    "seagulls_df.head()"
   ],
   "metadata": {
    "collapsed": false,
    "pycharm": {
     "name": "#%%\n"
    }
   }
  },
  {
   "cell_type": "markdown",
   "source": [
    "<h1> Kinematic Trajectory Features </h1>\n",
    "\n",
    "<p align='justify'>\n",
    "\n",
    "As mentioned above, NumMobility offers a multitude of features\n",
    "which are calculated based on both Datetime, and the coordinates\n",
    "of the points given in the data. Both the feature module are named\n",
    "as follows:\n",
    "\n",
    "<ul align='jusitfy'>\n",
    "    <li> temporal_features (based on DateTime) </li>\n",
    "    <li> spatial_features (based on geographical coordinates) </li>\n",
    "\n",
    "</p>\n",
    "<hr style=\"background-color:black; height:7px\">"
   ],
   "metadata": {
    "collapsed": false,
    "pycharm": {
     "name": "#%% md\n"
    }
   }
  },
  {
   "cell_type": "markdown",
   "source": [
    "<h2> NumMobility Temporal Features </h2>\n",
    "\n",
    "<p align='justify'>\n",
    "\n",
    "The following steps are performed to demonstrate the usage of\n",
    "Temporal features present in NumMobility:\n",
    "\n",
    "<ul type='square', align='justify'>\n",
    "<li>Various features Date, Time, Week-day, Time of Day etc are\n",
    "    calculated using temporal_features.py module functions and\n",
    "    the results are appended to the original dataframe.\n",
    "</li>\n",
    "<li> Not all the functions present in the module are demonstrated\n",
    "     here. Only a few of the functions are demonstrated here, keeping\n",
    "     the length of jupyter notebook in mind. Further functions can\n",
    "     be explored in the documentation of the library. The documentation\n",
    "     link is provided in the introduction section of this notebook.\n",
    "</li>\n",
    "\n",
    "</p>"
   ],
   "metadata": {
    "collapsed": false,
    "pycharm": {
     "name": "#%% md\n"
    }
   }
  },
  {
   "cell_type": "code",
   "execution_count": 7,
   "outputs": [
    {
     "name": "stdout",
     "output_type": "stream",
     "text": [
      "CPU times: user 262 ms, sys: 20.2 ms, total: 282 ms\n",
      "Wall time: 281 ms\n"
     ]
    },
    {
     "data": {
      "text/plain": "                               event-id  visible       lon       lat  \\\ntraj_id DateTime                                                       \n91732   2009-05-27 14:00:00  1082620685     True  24.58617  61.24783   \n        2009-05-27 20:00:00  1082620686     True  24.58217  61.23267   \n        2009-05-28 05:00:00  1082620687     True  24.53133  61.18833   \n        2009-05-28 08:00:00  1082620688     True  24.58200  61.23283   \n        2009-05-28 14:00:00  1082620689     True  24.58250  61.23267   \n\n                            sensor-type individual-taxon-canonical-name  \\\ntraj_id DateTime                                                          \n91732   2009-05-27 14:00:00         gps                    Larus fuscus   \n        2009-05-27 20:00:00         gps                    Larus fuscus   \n        2009-05-28 05:00:00         gps                    Larus fuscus   \n        2009-05-28 08:00:00         gps                    Larus fuscus   \n        2009-05-28 14:00:00         gps                    Larus fuscus   \n\n                            individual-local-identifier  \\\ntraj_id DateTime                                          \n91732   2009-05-27 14:00:00                      91732A   \n        2009-05-27 20:00:00                      91732A   \n        2009-05-28 05:00:00                      91732A   \n        2009-05-28 08:00:00                      91732A   \n        2009-05-28 14:00:00                      91732A   \n\n                                                                    study-name  \\\ntraj_id DateTime                                                                 \n91732   2009-05-27 14:00:00  Navigation experiments in lesser black-backed ...   \n        2009-05-27 20:00:00  Navigation experiments in lesser black-backed ...   \n        2009-05-28 05:00:00  Navigation experiments in lesser black-backed ...   \n        2009-05-28 08:00:00  Navigation experiments in lesser black-backed ...   \n        2009-05-28 14:00:00  Navigation experiments in lesser black-backed ...   \n\n                                   Date Day_Of_Week    Time_Of_Day  \ntraj_id DateTime                                                    \n91732   2009-05-27 14:00:00  2009-05-27   Wednesday           Noon  \n        2009-05-27 20:00:00  2009-05-27   Wednesday        Evening  \n        2009-05-28 05:00:00  2009-05-28    Thursday  Early Morning  \n        2009-05-28 08:00:00  2009-05-28    Thursday  Early Morning  \n        2009-05-28 14:00:00  2009-05-28    Thursday           Noon  ",
      "text/html": "<div>\n<style scoped>\n    .dataframe tbody tr th:only-of-type {\n        vertical-align: middle;\n    }\n\n    .dataframe tbody tr th {\n        vertical-align: top;\n    }\n\n    .dataframe thead th {\n        text-align: right;\n    }\n</style>\n<table border=\"1\" class=\"dataframe\">\n  <thead>\n    <tr style=\"text-align: right;\">\n      <th></th>\n      <th></th>\n      <th>event-id</th>\n      <th>visible</th>\n      <th>lon</th>\n      <th>lat</th>\n      <th>sensor-type</th>\n      <th>individual-taxon-canonical-name</th>\n      <th>individual-local-identifier</th>\n      <th>study-name</th>\n      <th>Date</th>\n      <th>Day_Of_Week</th>\n      <th>Time_Of_Day</th>\n    </tr>\n    <tr>\n      <th>traj_id</th>\n      <th>DateTime</th>\n      <th></th>\n      <th></th>\n      <th></th>\n      <th></th>\n      <th></th>\n      <th></th>\n      <th></th>\n      <th></th>\n      <th></th>\n      <th></th>\n      <th></th>\n    </tr>\n  </thead>\n  <tbody>\n    <tr>\n      <th rowspan=\"5\" valign=\"top\">91732</th>\n      <th>2009-05-27 14:00:00</th>\n      <td>1082620685</td>\n      <td>True</td>\n      <td>24.58617</td>\n      <td>61.24783</td>\n      <td>gps</td>\n      <td>Larus fuscus</td>\n      <td>91732A</td>\n      <td>Navigation experiments in lesser black-backed ...</td>\n      <td>2009-05-27</td>\n      <td>Wednesday</td>\n      <td>Noon</td>\n    </tr>\n    <tr>\n      <th>2009-05-27 20:00:00</th>\n      <td>1082620686</td>\n      <td>True</td>\n      <td>24.58217</td>\n      <td>61.23267</td>\n      <td>gps</td>\n      <td>Larus fuscus</td>\n      <td>91732A</td>\n      <td>Navigation experiments in lesser black-backed ...</td>\n      <td>2009-05-27</td>\n      <td>Wednesday</td>\n      <td>Evening</td>\n    </tr>\n    <tr>\n      <th>2009-05-28 05:00:00</th>\n      <td>1082620687</td>\n      <td>True</td>\n      <td>24.53133</td>\n      <td>61.18833</td>\n      <td>gps</td>\n      <td>Larus fuscus</td>\n      <td>91732A</td>\n      <td>Navigation experiments in lesser black-backed ...</td>\n      <td>2009-05-28</td>\n      <td>Thursday</td>\n      <td>Early Morning</td>\n    </tr>\n    <tr>\n      <th>2009-05-28 08:00:00</th>\n      <td>1082620688</td>\n      <td>True</td>\n      <td>24.58200</td>\n      <td>61.23283</td>\n      <td>gps</td>\n      <td>Larus fuscus</td>\n      <td>91732A</td>\n      <td>Navigation experiments in lesser black-backed ...</td>\n      <td>2009-05-28</td>\n      <td>Thursday</td>\n      <td>Early Morning</td>\n    </tr>\n    <tr>\n      <th>2009-05-28 14:00:00</th>\n      <td>1082620689</td>\n      <td>True</td>\n      <td>24.58250</td>\n      <td>61.23267</td>\n      <td>gps</td>\n      <td>Larus fuscus</td>\n      <td>91732A</td>\n      <td>Navigation experiments in lesser black-backed ...</td>\n      <td>2009-05-28</td>\n      <td>Thursday</td>\n      <td>Noon</td>\n    </tr>\n  </tbody>\n</table>\n</div>"
     },
     "execution_count": 7,
     "metadata": {},
     "output_type": "execute_result"
    }
   ],
   "source": [
    "%%time\n",
    "\n",
    "\"\"\"\n",
    "    To demonstrate the temporal features, we will:\n",
    "        1. First, import the temporal_features.py module from the\n",
    "           features package.\n",
    "        2. Generate Date, Day_Of_Week, Time_Of_day features on\n",
    "           the seagulls dataset.\n",
    "        3. Print the execution time of the code.\n",
    "        4. Finally, check the head of the dataframe to\n",
    "           see the results of feature generation.\n",
    "\"\"\"\n",
    "from features.temporal_features import TemporalFeatures as temporal\n",
    "\n",
    "temporal_features_df = temporal.create_date_column(seagulls_df)\n",
    "temporal_features_df = temporal.create_day_of_week_column(temporal_features_df)\n",
    "temporal_features_df = temporal.create_time_of_day_column(temporal_features_df)\n",
    "temporal_features_df.head()"
   ],
   "metadata": {
    "collapsed": false,
    "pycharm": {
     "name": "#%%\n"
    }
   }
  },
  {
   "cell_type": "code",
   "execution_count": 7,
   "outputs": [],
   "source": [],
   "metadata": {
    "collapsed": false,
    "pycharm": {
     "name": "#%%"
    }
   }
  }
 ],
 "metadata": {
  "kernelspec": {
   "display_name": "Python 3",
   "language": "python",
   "name": "python3"
  },
  "language_info": {
   "codemirror_mode": {
    "name": "ipython",
    "version": 2
   },
   "file_extension": ".py",
   "mimetype": "text/x-python",
   "name": "python",
   "nbconvert_exporter": "python",
   "pygments_lexer": "ipython2",
   "version": "2.7.6"
  }
 },
 "nbformat": 4,
 "nbformat_minor": 0
}