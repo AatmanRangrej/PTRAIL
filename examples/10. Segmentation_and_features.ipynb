{
 "cells": [
  {
   "cell_type": "code",
   "execution_count": 1,
   "metadata": {
    "collapsed": true
   },
   "outputs": [],
   "source": [
    "import pandas as pd\n",
    "from ptrail.core.TrajectoryDF import PTRAILDataFrame\n",
    "from ptrail.preprocessing.filters import Filters as filters\n",
    "from ptrail.features.kinematic_features import KinematicFeatures\n",
    "from ptrail.features.temporal_features import TemporalFeatures\n",
    "from ptrail.preprocessing.interpolation import Interpolation\n",
    "from ptrail.utilities.conversions import Conversions as con\n",
    "import ptrail.utilities.constants as const\n",
    "import datetime as dt\n",
    "\n",
    "# Reading the gulls dataset and converting to PTRAILDataFrame.\n",
    "# Also, lets, print the first 5 points of the dataset to\n",
    "# see how the dataframe looks.\n",
    "gulls = pd.read_csv('./data/gulls.csv')\n",
    "gulls = PTRAILDataFrame(gulls,\n",
    "                        latitude='location-lat',\n",
    "                        longitude='location-long',\n",
    "                        datetime='timestamp',\n",
    "                        traj_id='tag-local-identifier',\n",
    "                        rest_of_columns=[])"
   ]
  },
  {
   "cell_type": "code",
   "execution_count": 2,
   "outputs": [],
   "source": [
    "pdf = pd.read_csv('./data/geolife_sample.csv')\n",
    "geolife = PTRAILDataFrame(data_set=pdf,\n",
    "                             latitude='lat',\n",
    "                             longitude='lon',\n",
    "                             datetime='datetime',\n",
    "                             traj_id='id')\n"
   ],
   "metadata": {
    "collapsed": false,
    "pycharm": {
     "name": "#%%\n"
    }
   }
  },
  {
   "cell_type": "code",
   "execution_count": 3,
   "outputs": [],
   "source": [
    "atlantic = pd.read_csv('./data/atlantic.csv')\n",
    "atlantic = con.convert_directions_to_degree_lat_lon(atlantic, 'Latitude',\"Longitude\")\n",
    "def convert_to_datetime(row):\n",
    "        this_date = '{}-{}-{}'.format(str(row['Date'])[0:4], str(row['Date'])[4:6], str(row['Date'])[6:])\n",
    "        this_time = '{:02d}:{:02d}:00'.format(int(row['Time']/100), int(str(row['Time'])[-2:]))\n",
    "        return '{} {}'.format(this_date, this_time)\n",
    "atlantic['DateTime'] = atlantic.apply(convert_to_datetime, axis=1)\n",
    "atlantic = PTRAILDataFrame(atlantic,\n",
    "                          latitude='Latitude',\n",
    "                          longitude='Longitude',\n",
    "                          datetime='DateTime',\n",
    "                          traj_id='ID',\n",
    "                          rest_of_columns=[])\n",
    "atlantic = TemporalFeatures.create_date_column(atlantic)"
   ],
   "metadata": {
    "collapsed": false,
    "pycharm": {
     "name": "#%%\n"
    }
   }
  },
  {
   "cell_type": "code",
   "execution_count": 4,
   "outputs": [],
   "source": [
    "pdf = pd.read_csv('./data/starkey.csv')\n",
    "starkey = PTRAILDataFrame(data_set=pdf,\n",
    "                          latitude='lat',\n",
    "                          longitude='lon',\n",
    "                          datetime='DateTime',\n",
    "                          traj_id='Id')"
   ],
   "metadata": {
    "collapsed": false,
    "pycharm": {
     "name": "#%%\n"
    }
   }
  },
  {
   "cell_type": "code",
   "execution_count": 5,
   "outputs": [],
   "source": [
    "t1 = gulls.reset_index().loc[gulls.reset_index()[const.TRAJECTORY_ID] == '91732'][[const.TRAJECTORY_ID, const.DateTime, const.LAT, const.LONG]]\n",
    "t1 = PTRAILDataFrame(data_set=t1,\n",
    "                     datetime='DateTime',\n",
    "                     traj_id='traj_id',\n",
    "                     latitude='lat',\n",
    "                     longitude='lon')"
   ],
   "metadata": {
    "collapsed": false,
    "pycharm": {
     "name": "#%%\n"
    }
   }
  },
  {
   "cell_type": "code",
   "execution_count": 6,
   "outputs": [],
   "source": [
    "def segment_traj_by_week(df):\n",
    "    \"\"\"\n",
    "        Given a dataframe containing trajectory data, segment all\n",
    "        the trajectories by each week.\n",
    "\n",
    "        Parameters\n",
    "        ----------\n",
    "            df: PTRAILDataFrame\n",
    "                The dataframe containing trajectory data.\n",
    "\n",
    "        Returns\n",
    "        -------\n",
    "            pandas.core.dataframe.DataFrame:\n",
    "                The dataframe containing segmented trajectories\n",
    "                with a new column added called segment_id\n",
    "    \"\"\"\n",
    "    # First, create the date column and get all the unique traj_ids\n",
    "    # in the dataframe..\n",
    "    df = TemporalFeatures.create_date_column(df)\n",
    "    ids_ = list(df.traj_id.value_counts().keys())\n",
    "\n",
    "    # Get the ideal number of IDs by which the dataframe is to be split.\n",
    "    df_chunks = []\n",
    "    for i in range(len(ids_)):\n",
    "        small_df = df.reset_index().loc[df.reset_index()[const.TRAJECTORY_ID] == ids_[i]]\n",
    "        df_chunks.append(small_df)\n",
    "\n",
    "    # Now, iterate over the entire dataframe and then segment\n",
    "    # the trajectories by 1 week each.\n",
    "    results = []\n",
    "    for i in range(len(ids_)):\n",
    "        # Take the traj_df of a single Trajectory out from the\n",
    "        # list of chunks and find their max and min timestamps.\n",
    "        traj = df_chunks[i]\n",
    "        t_max = traj.reset_index()[const.DateTime].max()\n",
    "        t_min = traj.reset_index()[const.DateTime].min()\n",
    "\n",
    "        # For iteration purposes, set t_1 to min and t_2 to\n",
    "        # t_1 + 7 days.\n",
    "        t_1 = t_min\n",
    "        t_2 = t_1 + dt.timedelta(days=7)\n",
    "        seg_id = 1\n",
    "\n",
    "        # Now, segment the trajectories into smaller segments\n",
    "        # wherein each segment contains the points of a span\n",
    "        # of 7 days only.\n",
    "        while t_2 < t_max:\n",
    "            if t_2 < t_max:\n",
    "                seg = filters.filter_by_date(traj,\n",
    "                                             start_date=t_1.strftime('%Y-%m-%d'),\n",
    "                                             end_date=t_2.strftime('%Y-%m-%d'))\n",
    "                # Once filtered, assign the segment with a segment ID.\n",
    "                seg['seg_id'] = seg_id\n",
    "\n",
    "                # Increment the segment id, t_1 and t_2 values by\n",
    "                # 1, 7 days and 7 days respectively to continue\n",
    "                # the iteration.\n",
    "                seg_id += 1\n",
    "                t_1 += dt.timedelta(days=7)\n",
    "                t_2 += dt.timedelta(days=7)\n",
    "                results.append(seg.drop(columns=['index', 'level_0']))\n",
    "\n",
    "            # If, t_2 is greater than the max time present in the\n",
    "            # trajectory, then assign t_2 = max and proceed\n",
    "            # further with segmentation.\n",
    "            elif t_2 >= t_max:\n",
    "                seg = filters.filter_by_date(traj,\n",
    "                                             start_date=t_1.strftime('%Y-%m-%d'),\n",
    "                                             end_date=t_max.strftime('%Y-%m-%d'))\n",
    "                # Once filtered, assign the segment with a segment ID.\n",
    "                seg['seg_id'] = seg_id\n",
    "\n",
    "                # Increment the segment id, t_1 and t_2 values by\n",
    "                # 1, 7 days and 7 days respectively to continue\n",
    "                # the iteration.\n",
    "                seg_id += 1\n",
    "                t_1 += dt.timedelta(days=7)\n",
    "                t_2 += dt.timedelta(days=7)\n",
    "                results.append(seg.drop(columns=['index', 'level_0']))\n",
    "\n",
    "    # Finally, concat the dataframes, set the index as\n",
    "    # [traj_id, seg_id, DateTime].\n",
    "    return pd.concat(results).reset_index().set_index(['traj_id', 'seg_id', 'DateTime'])"
   ],
   "metadata": {
    "collapsed": false,
    "pycharm": {
     "name": "#%%\n"
    }
   }
  },
  {
   "cell_type": "code",
   "execution_count": 7,
   "outputs": [
    {
     "name": "stdout",
     "output_type": "stream",
     "text": [
      "CPU times: user 3min 49s, sys: 408 ms, total: 3min 49s\n",
      "Wall time: 3min 49s\n"
     ]
    }
   ],
   "source": [
    "%%time\n",
    "\n",
    "seg = segment_traj_by_week(starkey)"
   ],
   "metadata": {
    "collapsed": false,
    "pycharm": {
     "name": "#%%\n"
    }
   }
  },
  {
   "cell_type": "code",
   "execution_count": 15,
   "outputs": [
    {
     "name": "stdout",
     "output_type": "stream",
     "text": [
      "287136\n"
     ]
    },
    {
     "data": {
      "text/plain": "                                            lat         lon  StarkeyTime  \\\ntraj_id   seg_id DateTime                                                  \n910313E37 1      1993-05-06 17:04:47  45.218440 -118.566257    168829487   \n                 1993-05-06 17:21:12  45.218985 -118.565890    168826332   \n                 1993-05-06 17:27:53  45.219536 -118.565141    168830873   \n                 1993-05-06 17:51:48  45.219260 -118.565516    168832308   \n                 1993-05-06 18:40:04  45.220128 -118.561336    168835204   \n...                                         ...         ...          ...   \n          2      1993-05-20 10:07:23  45.247662 -118.542212    170014043   \n                 1993-05-20 10:43:48  45.247657 -118.542594    170016228   \n                 1993-05-20 11:19:51  45.247662 -118.542212    170018391   \n                 1993-05-20 11:56:00  45.248483 -118.541469    170020560   \n                 1993-05-20 12:32:22  45.247423 -118.539912    170022742   \n\n                                        GMDate    GMTime   LocDate   LocTime  \\\ntraj_id   seg_id DateTime                                                      \n910313E37 1      1993-05-06 17:04:47  01:04:47  19930507  19930506  17:04:47   \n                 1993-05-06 17:21:12  01:21:12  19930507  19930506  17:21:12   \n                 1993-05-06 17:27:53  01:27:53  19930507  19930506  17:27:53   \n                 1993-05-06 17:51:48  01:51:48  19930507  19930506  17:51:48   \n                 1993-05-06 18:40:04  02:40:04  19930507  19930506  18:40:04   \n...                                        ...       ...       ...       ...   \n          2      1993-05-20 10:07:23  18:07:23  19930520  19930520  10:07:23   \n                 1993-05-20 10:43:48  18:43:48  19930520  19930520  10:43:48   \n                 1993-05-20 11:19:51  19:19:51  19930520  19930520  11:19:51   \n                 1993-05-20 11:56:00  19:56:00  19930520  19930520  11:56:00   \n                 1993-05-20 12:32:22  20:32:22  19930520  19930520  12:32:22   \n\n                                      RadNum Species    UTME     UTMN  Year  \\\ntraj_id   seg_id DateTime                                                     \n910313E37 1      1993-05-06 17:04:47      67       E  377026  5008419    93   \n                 1993-05-06 17:21:12      67       E  377053  5008474    93   \n                 1993-05-06 17:27:53      67       E  377108  5008516    93   \n                 1993-05-06 17:51:48      67       E  377083  5008494    93   \n                 1993-05-06 18:40:04      67       E  377406  5008591    93   \n...                                      ...     ...     ...      ...   ...   \n          2      1993-05-20 10:07:23      67       E  378975  5011622    93   \n                 1993-05-20 10:43:48      67       E  378959  5011619    93   \n                 1993-05-20 11:19:51      67       E  378983  5011625    93   \n                 1993-05-20 11:56:00      67       E  379020  5011695    93   \n                 1993-05-20 12:32:22      67       E  379163  5011589    93   \n\n                                      Grensunr  Grensuns  Obswt        Date  \ntraj_id   seg_id DateTime                                                    \n910313E37 1      1993-05-06 17:04:47  12:34:00  03:10:00   1.67  1993-05-06  \n                 1993-05-06 17:21:12  12:34:00  03:10:00   1.73  1993-05-06  \n                 1993-05-06 17:27:53  12:34:00  03:10:00   1.73  1993-05-06  \n                 1993-05-06 17:51:48  12:34:00  03:10:00   1.73  1993-05-06  \n                 1993-05-06 18:40:04  12:34:00  03:10:00   1.46  1993-05-06  \n...                                        ...       ...    ...         ...  \n          2      1993-05-20 10:07:23  12:19:00  03:25:00   1.34  1993-05-20  \n                 1993-05-20 10:43:48  12:19:00  03:25:00   1.34  1993-05-20  \n                 1993-05-20 11:19:51  12:19:00  03:25:00   1.34  1993-05-20  \n                 1993-05-20 11:56:00  12:19:00  03:25:00   1.46  1993-05-20  \n                 1993-05-20 12:32:22  12:19:00  03:25:00   1.50  1993-05-20  \n\n[500 rows x 16 columns]",
      "text/html": "<div>\n<style scoped>\n    .dataframe tbody tr th:only-of-type {\n        vertical-align: middle;\n    }\n\n    .dataframe tbody tr th {\n        vertical-align: top;\n    }\n\n    .dataframe thead th {\n        text-align: right;\n    }\n</style>\n<table border=\"1\" class=\"dataframe\">\n  <thead>\n    <tr style=\"text-align: right;\">\n      <th></th>\n      <th></th>\n      <th></th>\n      <th>lat</th>\n      <th>lon</th>\n      <th>StarkeyTime</th>\n      <th>GMDate</th>\n      <th>GMTime</th>\n      <th>LocDate</th>\n      <th>LocTime</th>\n      <th>RadNum</th>\n      <th>Species</th>\n      <th>UTME</th>\n      <th>UTMN</th>\n      <th>Year</th>\n      <th>Grensunr</th>\n      <th>Grensuns</th>\n      <th>Obswt</th>\n      <th>Date</th>\n    </tr>\n    <tr>\n      <th>traj_id</th>\n      <th>seg_id</th>\n      <th>DateTime</th>\n      <th></th>\n      <th></th>\n      <th></th>\n      <th></th>\n      <th></th>\n      <th></th>\n      <th></th>\n      <th></th>\n      <th></th>\n      <th></th>\n      <th></th>\n      <th></th>\n      <th></th>\n      <th></th>\n      <th></th>\n      <th></th>\n    </tr>\n  </thead>\n  <tbody>\n    <tr>\n      <th rowspan=\"11\" valign=\"top\">910313E37</th>\n      <th rowspan=\"5\" valign=\"top\">1</th>\n      <th>1993-05-06 17:04:47</th>\n      <td>45.218440</td>\n      <td>-118.566257</td>\n      <td>168829487</td>\n      <td>01:04:47</td>\n      <td>19930507</td>\n      <td>19930506</td>\n      <td>17:04:47</td>\n      <td>67</td>\n      <td>E</td>\n      <td>377026</td>\n      <td>5008419</td>\n      <td>93</td>\n      <td>12:34:00</td>\n      <td>03:10:00</td>\n      <td>1.67</td>\n      <td>1993-05-06</td>\n    </tr>\n    <tr>\n      <th>1993-05-06 17:21:12</th>\n      <td>45.218985</td>\n      <td>-118.565890</td>\n      <td>168826332</td>\n      <td>01:21:12</td>\n      <td>19930507</td>\n      <td>19930506</td>\n      <td>17:21:12</td>\n      <td>67</td>\n      <td>E</td>\n      <td>377053</td>\n      <td>5008474</td>\n      <td>93</td>\n      <td>12:34:00</td>\n      <td>03:10:00</td>\n      <td>1.73</td>\n      <td>1993-05-06</td>\n    </tr>\n    <tr>\n      <th>1993-05-06 17:27:53</th>\n      <td>45.219536</td>\n      <td>-118.565141</td>\n      <td>168830873</td>\n      <td>01:27:53</td>\n      <td>19930507</td>\n      <td>19930506</td>\n      <td>17:27:53</td>\n      <td>67</td>\n      <td>E</td>\n      <td>377108</td>\n      <td>5008516</td>\n      <td>93</td>\n      <td>12:34:00</td>\n      <td>03:10:00</td>\n      <td>1.73</td>\n      <td>1993-05-06</td>\n    </tr>\n    <tr>\n      <th>1993-05-06 17:51:48</th>\n      <td>45.219260</td>\n      <td>-118.565516</td>\n      <td>168832308</td>\n      <td>01:51:48</td>\n      <td>19930507</td>\n      <td>19930506</td>\n      <td>17:51:48</td>\n      <td>67</td>\n      <td>E</td>\n      <td>377083</td>\n      <td>5008494</td>\n      <td>93</td>\n      <td>12:34:00</td>\n      <td>03:10:00</td>\n      <td>1.73</td>\n      <td>1993-05-06</td>\n    </tr>\n    <tr>\n      <th>1993-05-06 18:40:04</th>\n      <td>45.220128</td>\n      <td>-118.561336</td>\n      <td>168835204</td>\n      <td>02:40:04</td>\n      <td>19930507</td>\n      <td>19930506</td>\n      <td>18:40:04</td>\n      <td>67</td>\n      <td>E</td>\n      <td>377406</td>\n      <td>5008591</td>\n      <td>93</td>\n      <td>12:34:00</td>\n      <td>03:10:00</td>\n      <td>1.46</td>\n      <td>1993-05-06</td>\n    </tr>\n    <tr>\n      <th>...</th>\n      <th>...</th>\n      <td>...</td>\n      <td>...</td>\n      <td>...</td>\n      <td>...</td>\n      <td>...</td>\n      <td>...</td>\n      <td>...</td>\n      <td>...</td>\n      <td>...</td>\n      <td>...</td>\n      <td>...</td>\n      <td>...</td>\n      <td>...</td>\n      <td>...</td>\n      <td>...</td>\n      <td>...</td>\n    </tr>\n    <tr>\n      <th rowspan=\"5\" valign=\"top\">2</th>\n      <th>1993-05-20 10:07:23</th>\n      <td>45.247662</td>\n      <td>-118.542212</td>\n      <td>170014043</td>\n      <td>18:07:23</td>\n      <td>19930520</td>\n      <td>19930520</td>\n      <td>10:07:23</td>\n      <td>67</td>\n      <td>E</td>\n      <td>378975</td>\n      <td>5011622</td>\n      <td>93</td>\n      <td>12:19:00</td>\n      <td>03:25:00</td>\n      <td>1.34</td>\n      <td>1993-05-20</td>\n    </tr>\n    <tr>\n      <th>1993-05-20 10:43:48</th>\n      <td>45.247657</td>\n      <td>-118.542594</td>\n      <td>170016228</td>\n      <td>18:43:48</td>\n      <td>19930520</td>\n      <td>19930520</td>\n      <td>10:43:48</td>\n      <td>67</td>\n      <td>E</td>\n      <td>378959</td>\n      <td>5011619</td>\n      <td>93</td>\n      <td>12:19:00</td>\n      <td>03:25:00</td>\n      <td>1.34</td>\n      <td>1993-05-20</td>\n    </tr>\n    <tr>\n      <th>1993-05-20 11:19:51</th>\n      <td>45.247662</td>\n      <td>-118.542212</td>\n      <td>170018391</td>\n      <td>19:19:51</td>\n      <td>19930520</td>\n      <td>19930520</td>\n      <td>11:19:51</td>\n      <td>67</td>\n      <td>E</td>\n      <td>378983</td>\n      <td>5011625</td>\n      <td>93</td>\n      <td>12:19:00</td>\n      <td>03:25:00</td>\n      <td>1.34</td>\n      <td>1993-05-20</td>\n    </tr>\n    <tr>\n      <th>1993-05-20 11:56:00</th>\n      <td>45.248483</td>\n      <td>-118.541469</td>\n      <td>170020560</td>\n      <td>19:56:00</td>\n      <td>19930520</td>\n      <td>19930520</td>\n      <td>11:56:00</td>\n      <td>67</td>\n      <td>E</td>\n      <td>379020</td>\n      <td>5011695</td>\n      <td>93</td>\n      <td>12:19:00</td>\n      <td>03:25:00</td>\n      <td>1.46</td>\n      <td>1993-05-20</td>\n    </tr>\n    <tr>\n      <th>1993-05-20 12:32:22</th>\n      <td>45.247423</td>\n      <td>-118.539912</td>\n      <td>170022742</td>\n      <td>20:32:22</td>\n      <td>19930520</td>\n      <td>19930520</td>\n      <td>12:32:22</td>\n      <td>67</td>\n      <td>E</td>\n      <td>379163</td>\n      <td>5011589</td>\n      <td>93</td>\n      <td>12:19:00</td>\n      <td>03:25:00</td>\n      <td>1.50</td>\n      <td>1993-05-20</td>\n    </tr>\n  </tbody>\n</table>\n<p>500 rows × 16 columns</p>\n</div>"
     },
     "execution_count": 15,
     "metadata": {},
     "output_type": "execute_result"
    }
   ],
   "source": [
    "print(len(starkey))"
   ],
   "metadata": {
    "collapsed": false,
    "pycharm": {
     "name": "#%%\n"
    }
   }
  },
  {
   "cell_type": "code",
   "execution_count": 12,
   "outputs": [
    {
     "data": {
      "text/plain": "       traj_id  seg_id            DateTime        lat         lon  \\\n515  910313E37       3 1993-05-20 00:01:37  45.258491 -118.540211   \n516  910313E37       3 1993-05-20 00:43:33  45.257671 -118.540953   \n517  910313E37       3 1993-05-20 01:23:01  45.257661 -118.541718   \n518  910313E37       3 1993-05-20 03:31:47  45.254105 -118.545063   \n519  910313E37       3 1993-05-20 04:06:04  45.253316 -118.543512   \n..         ...     ...                 ...        ...         ...   \n783  910313E37       3 1993-05-27 20:57:42  45.252044 -118.557623   \n784  910313E37       3 1993-05-27 21:33:04  45.252049 -118.557241   \n785  910313E37       3 1993-05-27 22:09:58  45.252605 -118.556109   \n786  910313E37       3 1993-05-27 22:48:02  45.252610 -118.555727   \n787  910313E37       3 1993-05-27 23:31:20  45.253119 -118.558035   \n\n     StarkeyTime    GMDate    GMTime   LocDate   LocTime  RadNum Species  \\\n515    169977697  08:01:37  19930520  19930520  00:01:37      67       E   \n516    169980213  08:43:33  19930520  19930520  00:43:33      67       E   \n517    169982581  09:23:01  19930520  19930520  01:23:01      67       E   \n518    169990307  11:31:47  19930520  19930520  03:31:47      67       E   \n519    169992364  12:06:04  19930520  19930520  04:06:04      67       E   \n..           ...       ...       ...       ...       ...     ...     ...   \n783    170657862  04:57:42  19930528  19930527  20:57:42      67       E   \n784    170659984  05:33:04  19930528  19930527  21:33:04      67       E   \n785    170662198  06:09:58  19930528  19930527  22:09:58      67       E   \n786    170664482  06:48:02  19930528  19930527  22:48:02      67       E   \n787    170667080  07:31:20  19930528  19930527  23:31:20      67       E   \n\n       UTME     UTMN  Year  Grensunr  Grensuns  Obswt        Date  \n515  379144  5012820    93  12:19:00  03:25:00   1.55  1993-05-20  \n516  379094  5012720    93  12:19:00  03:25:00   1.50  1993-05-20  \n517  379022  5012736    93  12:19:00  03:25:00   1.50  1993-05-20  \n518  378766  5012345    93  12:19:00  03:25:00   1.62  1993-05-20  \n519  378891  5012240    93  12:19:00  03:25:00   1.67  1993-05-20  \n..      ...      ...   ...       ...       ...    ...         ...  \n783  377771  5012128    93  12:12:00  03:33:00   1.57  1993-05-27  \n784  377807  5012127    93  12:12:00  03:33:00   1.57  1993-05-27  \n785  377881  5012182    93  12:12:00  03:33:00   1.58  1993-05-27  \n786  377930  5012188    93  12:12:00  03:33:00   1.58  1993-05-27  \n787  377753  5012243    93  12:12:00  03:33:00   1.66  1993-05-27  \n\n[273 rows x 19 columns]",
      "text/html": "<div>\n<style scoped>\n    .dataframe tbody tr th:only-of-type {\n        vertical-align: middle;\n    }\n\n    .dataframe tbody tr th {\n        vertical-align: top;\n    }\n\n    .dataframe thead th {\n        text-align: right;\n    }\n</style>\n<table border=\"1\" class=\"dataframe\">\n  <thead>\n    <tr style=\"text-align: right;\">\n      <th></th>\n      <th>traj_id</th>\n      <th>seg_id</th>\n      <th>DateTime</th>\n      <th>lat</th>\n      <th>lon</th>\n      <th>StarkeyTime</th>\n      <th>GMDate</th>\n      <th>GMTime</th>\n      <th>LocDate</th>\n      <th>LocTime</th>\n      <th>RadNum</th>\n      <th>Species</th>\n      <th>UTME</th>\n      <th>UTMN</th>\n      <th>Year</th>\n      <th>Grensunr</th>\n      <th>Grensuns</th>\n      <th>Obswt</th>\n      <th>Date</th>\n    </tr>\n  </thead>\n  <tbody>\n    <tr>\n      <th>515</th>\n      <td>910313E37</td>\n      <td>3</td>\n      <td>1993-05-20 00:01:37</td>\n      <td>45.258491</td>\n      <td>-118.540211</td>\n      <td>169977697</td>\n      <td>08:01:37</td>\n      <td>19930520</td>\n      <td>19930520</td>\n      <td>00:01:37</td>\n      <td>67</td>\n      <td>E</td>\n      <td>379144</td>\n      <td>5012820</td>\n      <td>93</td>\n      <td>12:19:00</td>\n      <td>03:25:00</td>\n      <td>1.55</td>\n      <td>1993-05-20</td>\n    </tr>\n    <tr>\n      <th>516</th>\n      <td>910313E37</td>\n      <td>3</td>\n      <td>1993-05-20 00:43:33</td>\n      <td>45.257671</td>\n      <td>-118.540953</td>\n      <td>169980213</td>\n      <td>08:43:33</td>\n      <td>19930520</td>\n      <td>19930520</td>\n      <td>00:43:33</td>\n      <td>67</td>\n      <td>E</td>\n      <td>379094</td>\n      <td>5012720</td>\n      <td>93</td>\n      <td>12:19:00</td>\n      <td>03:25:00</td>\n      <td>1.50</td>\n      <td>1993-05-20</td>\n    </tr>\n    <tr>\n      <th>517</th>\n      <td>910313E37</td>\n      <td>3</td>\n      <td>1993-05-20 01:23:01</td>\n      <td>45.257661</td>\n      <td>-118.541718</td>\n      <td>169982581</td>\n      <td>09:23:01</td>\n      <td>19930520</td>\n      <td>19930520</td>\n      <td>01:23:01</td>\n      <td>67</td>\n      <td>E</td>\n      <td>379022</td>\n      <td>5012736</td>\n      <td>93</td>\n      <td>12:19:00</td>\n      <td>03:25:00</td>\n      <td>1.50</td>\n      <td>1993-05-20</td>\n    </tr>\n    <tr>\n      <th>518</th>\n      <td>910313E37</td>\n      <td>3</td>\n      <td>1993-05-20 03:31:47</td>\n      <td>45.254105</td>\n      <td>-118.545063</td>\n      <td>169990307</td>\n      <td>11:31:47</td>\n      <td>19930520</td>\n      <td>19930520</td>\n      <td>03:31:47</td>\n      <td>67</td>\n      <td>E</td>\n      <td>378766</td>\n      <td>5012345</td>\n      <td>93</td>\n      <td>12:19:00</td>\n      <td>03:25:00</td>\n      <td>1.62</td>\n      <td>1993-05-20</td>\n    </tr>\n    <tr>\n      <th>519</th>\n      <td>910313E37</td>\n      <td>3</td>\n      <td>1993-05-20 04:06:04</td>\n      <td>45.253316</td>\n      <td>-118.543512</td>\n      <td>169992364</td>\n      <td>12:06:04</td>\n      <td>19930520</td>\n      <td>19930520</td>\n      <td>04:06:04</td>\n      <td>67</td>\n      <td>E</td>\n      <td>378891</td>\n      <td>5012240</td>\n      <td>93</td>\n      <td>12:19:00</td>\n      <td>03:25:00</td>\n      <td>1.67</td>\n      <td>1993-05-20</td>\n    </tr>\n    <tr>\n      <th>...</th>\n      <td>...</td>\n      <td>...</td>\n      <td>...</td>\n      <td>...</td>\n      <td>...</td>\n      <td>...</td>\n      <td>...</td>\n      <td>...</td>\n      <td>...</td>\n      <td>...</td>\n      <td>...</td>\n      <td>...</td>\n      <td>...</td>\n      <td>...</td>\n      <td>...</td>\n      <td>...</td>\n      <td>...</td>\n      <td>...</td>\n      <td>...</td>\n    </tr>\n    <tr>\n      <th>783</th>\n      <td>910313E37</td>\n      <td>3</td>\n      <td>1993-05-27 20:57:42</td>\n      <td>45.252044</td>\n      <td>-118.557623</td>\n      <td>170657862</td>\n      <td>04:57:42</td>\n      <td>19930528</td>\n      <td>19930527</td>\n      <td>20:57:42</td>\n      <td>67</td>\n      <td>E</td>\n      <td>377771</td>\n      <td>5012128</td>\n      <td>93</td>\n      <td>12:12:00</td>\n      <td>03:33:00</td>\n      <td>1.57</td>\n      <td>1993-05-27</td>\n    </tr>\n    <tr>\n      <th>784</th>\n      <td>910313E37</td>\n      <td>3</td>\n      <td>1993-05-27 21:33:04</td>\n      <td>45.252049</td>\n      <td>-118.557241</td>\n      <td>170659984</td>\n      <td>05:33:04</td>\n      <td>19930528</td>\n      <td>19930527</td>\n      <td>21:33:04</td>\n      <td>67</td>\n      <td>E</td>\n      <td>377807</td>\n      <td>5012127</td>\n      <td>93</td>\n      <td>12:12:00</td>\n      <td>03:33:00</td>\n      <td>1.57</td>\n      <td>1993-05-27</td>\n    </tr>\n    <tr>\n      <th>785</th>\n      <td>910313E37</td>\n      <td>3</td>\n      <td>1993-05-27 22:09:58</td>\n      <td>45.252605</td>\n      <td>-118.556109</td>\n      <td>170662198</td>\n      <td>06:09:58</td>\n      <td>19930528</td>\n      <td>19930527</td>\n      <td>22:09:58</td>\n      <td>67</td>\n      <td>E</td>\n      <td>377881</td>\n      <td>5012182</td>\n      <td>93</td>\n      <td>12:12:00</td>\n      <td>03:33:00</td>\n      <td>1.58</td>\n      <td>1993-05-27</td>\n    </tr>\n    <tr>\n      <th>786</th>\n      <td>910313E37</td>\n      <td>3</td>\n      <td>1993-05-27 22:48:02</td>\n      <td>45.252610</td>\n      <td>-118.555727</td>\n      <td>170664482</td>\n      <td>06:48:02</td>\n      <td>19930528</td>\n      <td>19930527</td>\n      <td>22:48:02</td>\n      <td>67</td>\n      <td>E</td>\n      <td>377930</td>\n      <td>5012188</td>\n      <td>93</td>\n      <td>12:12:00</td>\n      <td>03:33:00</td>\n      <td>1.58</td>\n      <td>1993-05-27</td>\n    </tr>\n    <tr>\n      <th>787</th>\n      <td>910313E37</td>\n      <td>3</td>\n      <td>1993-05-27 23:31:20</td>\n      <td>45.253119</td>\n      <td>-118.558035</td>\n      <td>170667080</td>\n      <td>07:31:20</td>\n      <td>19930528</td>\n      <td>19930527</td>\n      <td>23:31:20</td>\n      <td>67</td>\n      <td>E</td>\n      <td>377753</td>\n      <td>5012243</td>\n      <td>93</td>\n      <td>12:12:00</td>\n      <td>03:33:00</td>\n      <td>1.66</td>\n      <td>1993-05-27</td>\n    </tr>\n  </tbody>\n</table>\n<p>273 rows × 19 columns</p>\n</div>"
     },
     "execution_count": 12,
     "metadata": {},
     "output_type": "execute_result"
    }
   ],
   "source": [
    "import numpy as np\n",
    "seg.reset_index().loc[np.logical_and(seg.reset_index()['seg_id'] == 3, seg.reset_index()['traj_id'] == '910313E37')]"
   ],
   "metadata": {
    "collapsed": false,
    "pycharm": {
     "name": "#%%\n"
    }
   }
  },
  {
   "cell_type": "code",
   "execution_count": null,
   "outputs": [],
   "source": [
    "# stats = KinematicFeatures.generate_kinematic_stats(gulls)"
   ],
   "metadata": {
    "collapsed": false,
    "pycharm": {
     "name": "#%%\n"
    }
   }
  },
  {
   "cell_type": "code",
   "execution_count": null,
   "outputs": [],
   "source": [
    "# stats.head(16)"
   ],
   "metadata": {
    "collapsed": false,
    "pycharm": {
     "name": "#%%\n"
    }
   }
  },
  {
   "cell_type": "code",
   "execution_count": null,
   "outputs": [],
   "source": [],
   "metadata": {
    "collapsed": false,
    "pycharm": {
     "name": "#%%\n"
    }
   }
  }
 ],
 "metadata": {
  "kernelspec": {
   "display_name": "Python 3",
   "language": "python",
   "name": "python3"
  },
  "language_info": {
   "codemirror_mode": {
    "name": "ipython",
    "version": 2
   },
   "file_extension": ".py",
   "mimetype": "text/x-python",
   "name": "python",
   "nbconvert_exporter": "python",
   "pygments_lexer": "ipython2",
   "version": "2.7.6"
  }
 },
 "nbformat": 4,
 "nbformat_minor": 0
}