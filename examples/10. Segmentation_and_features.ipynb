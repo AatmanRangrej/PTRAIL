{
 "cells": [
  {
   "cell_type": "code",
   "execution_count": 1,
   "metadata": {
    "collapsed": true
   },
   "outputs": [],
   "source": [
    "import pandas as pd\n",
    "from ptrail.core.TrajectoryDF import PTRAILDataFrame\n",
    "from ptrail.preprocessing.filters import Filters as filters\n",
    "from ptrail.features.kinematic_features import KinematicFeatures\n",
    "from ptrail.features.temporal_features import TemporalFeatures\n",
    "from ptrail.preprocessing.interpolation import Interpolation\n",
    "from ptrail.utilities.conversions import Conversions as con\n",
    "import ptrail.utilities.constants as const\n",
    "import datetime as dt\n",
    "\n",
    "# Reading the gulls dataset and converting to PTRAILDataFrame.\n",
    "# Also, lets, print the first 5 points of the dataset to\n",
    "# see how the dataframe looks.\n",
    "gulls = pd.read_csv('./data/gulls.csv')\n",
    "gulls = PTRAILDataFrame(gulls,\n",
    "                        latitude='location-lat',\n",
    "                        longitude='location-long',\n",
    "                        datetime='timestamp',\n",
    "                        traj_id='tag-local-identifier',\n",
    "                        rest_of_columns=[])"
   ]
  },
  {
   "cell_type": "code",
   "execution_count": 2,
   "outputs": [],
   "source": [
    "pdf = pd.read_csv('./data/geolife_sample.csv')\n",
    "geolife = PTRAILDataFrame(data_set=pdf,\n",
    "                             latitude='lat',\n",
    "                             longitude='lon',\n",
    "                             datetime='datetime',\n",
    "                             traj_id='id')\n"
   ],
   "metadata": {
    "collapsed": false,
    "pycharm": {
     "name": "#%%\n"
    }
   }
  },
  {
   "cell_type": "code",
   "execution_count": 3,
   "outputs": [],
   "source": [
    "atlantic = pd.read_csv('./data/atlantic.csv')\n",
    "atlantic = con.convert_directions_to_degree_lat_lon(atlantic, 'Latitude',\"Longitude\")\n",
    "def convert_to_datetime(row):\n",
    "        this_date = '{}-{}-{}'.format(str(row['Date'])[0:4], str(row['Date'])[4:6], str(row['Date'])[6:])\n",
    "        this_time = '{:02d}:{:02d}:00'.format(int(row['Time']/100), int(str(row['Time'])[-2:]))\n",
    "        return '{} {}'.format(this_date, this_time)\n",
    "atlantic['DateTime'] = atlantic.apply(convert_to_datetime, axis=1)\n",
    "atlantic = PTRAILDataFrame(atlantic,\n",
    "                          latitude='Latitude',\n",
    "                          longitude='Longitude',\n",
    "                          datetime='DateTime',\n",
    "                          traj_id='ID',\n",
    "                          rest_of_columns=[])\n",
    "atlantic = TemporalFeatures.create_date_column(atlantic)"
   ],
   "metadata": {
    "collapsed": false,
    "pycharm": {
     "name": "#%%\n"
    }
   }
  },
  {
   "cell_type": "code",
   "execution_count": 4,
   "outputs": [],
   "source": [
    "pdf = pd.read_csv('./data/starkey.csv')\n",
    "starkey = PTRAILDataFrame(data_set=pdf,\n",
    "                          latitude='lat',\n",
    "                          longitude='lon',\n",
    "                          datetime='DateTime',\n",
    "                          traj_id='Id')"
   ],
   "metadata": {
    "collapsed": false,
    "pycharm": {
     "name": "#%%\n"
    }
   }
  },
  {
   "cell_type": "code",
   "execution_count": 5,
   "outputs": [],
   "source": [
    "t1 = gulls.reset_index().loc[gulls.reset_index()[const.TRAJECTORY_ID] == '91732'][[const.TRAJECTORY_ID, const.DateTime, const.LAT, const.LONG]]\n",
    "t1 = PTRAILDataFrame(data_set=t1,\n",
    "                     datetime='DateTime',\n",
    "                     traj_id='traj_id',\n",
    "                     latitude='lat',\n",
    "                     longitude='lon')"
   ],
   "metadata": {
    "collapsed": false,
    "pycharm": {
     "name": "#%%\n"
    }
   }
  },
  {
   "cell_type": "code",
   "execution_count": 6,
   "outputs": [],
   "source": [
    "def segment_traj_by_week(df):\n",
    "    \"\"\"\n",
    "        Given a dataframe containing trajectory data, segment all\n",
    "        the trajectories by each week.\n",
    "\n",
    "        Parameters\n",
    "        ----------\n",
    "            df: PTRAILDataFrame\n",
    "                The dataframe containing trajectory data.\n",
    "\n",
    "        Returns\n",
    "        -------\n",
    "            pandas.core.dataframe.DataFrame:\n",
    "                The dataframe containing segmented trajectories\n",
    "                with a new column added called segment_id\n",
    "    \"\"\"\n",
    "    # First, create the date column and get all the unique traj_ids\n",
    "    # in the dataframe..\n",
    "    df = TemporalFeatures.create_date_column(df)\n",
    "    ids_ = list(df.traj_id.value_counts().keys())\n",
    "\n",
    "    # Get the ideal number of IDs by which the dataframe is to be split.\n",
    "    df_chunks = []\n",
    "    for i in range(len(ids_)):\n",
    "        small_df = df.reset_index().loc[df.reset_index()[const.TRAJECTORY_ID] == ids_[i]]\n",
    "        df_chunks.append(small_df)\n",
    "\n",
    "    # Now, iterate over the entire dataframe and then segment\n",
    "    # the trajectories by 1 week each.\n",
    "    results = []\n",
    "    for i in range(len(ids_)):\n",
    "        # Take the traj_df of a single Trajectory out from the\n",
    "        # list of chunks and find their max and min timestamps.\n",
    "        traj = df_chunks[i]\n",
    "        t_max = traj.reset_index()[const.DateTime].max()\n",
    "        t_min = traj.reset_index()[const.DateTime].min()\n",
    "\n",
    "        # For iteration purposes, set t_1 to min and t_2 to\n",
    "        # t_1 + 7 days.\n",
    "        t_1 = t_min\n",
    "        t_2 = t_1 + dt.timedelta(days=7)\n",
    "        seg_id = 1\n",
    "\n",
    "        # Now, segment the trajectories into smaller segments\n",
    "        # wherein each segment contains the points of a span\n",
    "        # of 7 days only.\n",
    "        while t_2 < t_max:\n",
    "            if t_2 < t_max:\n",
    "                seg = filters.filter_by_date(traj,\n",
    "                                             start_date=t_1.strftime('%Y-%m-%d'),\n",
    "                                             end_date=t_2.strftime('%Y-%m-%d'))\n",
    "                # Once filtered, assign the segment with a segment ID.\n",
    "                seg['seg_id'] = seg_id\n",
    "\n",
    "                # Increment the segment id, t_1 and t_2 values by\n",
    "                # 1, 7 days and 7 days respectively to continue\n",
    "                # the iteration.\n",
    "                seg_id += 1\n",
    "                t_1 += dt.timedelta(days=7)\n",
    "                t_2 += dt.timedelta(days=7)\n",
    "                results.append(seg.drop(columns=['index', 'level_0']))\n",
    "\n",
    "            # If, t_2 is greater than the max time present in the\n",
    "            # trajectory, then assign t_2 = max and proceed\n",
    "            # further with segmentation.\n",
    "            elif t_2 >= t_max:\n",
    "                seg = filters.filter_by_date(traj,\n",
    "                                             start_date=t_1.strftime('%Y-%m-%d'),\n",
    "                                             end_date=t_max.strftime('%Y-%m-%d'))\n",
    "                # Once filtered, assign the segment with a segment ID.\n",
    "                seg['seg_id'] = seg_id\n",
    "\n",
    "                # Increment the segment id, t_1 and t_2 values by\n",
    "                # 1, 7 days and 7 days respectively to continue\n",
    "                # the iteration.\n",
    "                seg_id += 1\n",
    "                t_1 += dt.timedelta(days=7)\n",
    "                t_2 += dt.timedelta(days=7)\n",
    "                results.append(seg.drop(columns=['index', 'level_0']))\n",
    "\n",
    "    # Finally, concat the dataframes, set the index as\n",
    "    # [traj_id, seg_id, DateTime].\n",
    "    return pd.concat(results).reset_index().set_index(['traj_id', 'seg_id', 'DateTime'])"
   ],
   "metadata": {
    "collapsed": false,
    "pycharm": {
     "name": "#%%\n"
    }
   }
  },
  {
   "cell_type": "code",
   "execution_count": 7,
   "outputs": [
    {
     "name": "stdout",
     "output_type": "stream",
     "text": [
      "CPU times: user 3min 49s, sys: 408 ms, total: 3min 49s\n",
      "Wall time: 3min 49s\n"
     ]
    }
   ],
   "source": [
    "%%time\n",
    "\n",
    "seg = segment_traj_by_week(starkey)"
   ],
   "metadata": {
    "collapsed": false,
    "pycharm": {
     "name": "#%%\n"
    }
   }
  },
  {
   "cell_type": "code",
   "execution_count": 8,
   "outputs": [
    {
     "name": "stdout",
     "output_type": "stream",
     "text": [
      "287136\n"
     ]
    },
    {
     "data": {
      "text/plain": "                                            lat         lon  StarkeyTime  \\\ntraj_id   seg_id DateTime                                                  \n910313E37 1      1993-05-06 17:04:47  45.218440 -118.566257    168829487   \n                 1993-05-06 17:21:12  45.218985 -118.565890    168826332   \n                 1993-05-06 17:27:53  45.219536 -118.565141    168830873   \n                 1993-05-06 17:51:48  45.219260 -118.565516    168832308   \n                 1993-05-06 18:40:04  45.220128 -118.561336    168835204   \n...                                         ...         ...          ...   \n950227D02 1      1996-08-11 07:18:14  45.223289 -118.567155    271869494   \n                 1996-08-11 09:13:06  45.223008 -118.567911    271876386   \n                 1996-08-11 11:06:48  45.223003 -118.568293    271883208   \n                 1996-08-11 13:06:05  45.224342 -118.569095    271890365   \n                 1996-08-11 15:03:44  45.225173 -118.567589    271897424   \n\n                                        GMDate    GMTime   LocDate   LocTime  \\\ntraj_id   seg_id DateTime                                                      \n910313E37 1      1993-05-06 17:04:47  01:04:47  19930507  19930506  17:04:47   \n                 1993-05-06 17:21:12  01:21:12  19930507  19930506  17:21:12   \n                 1993-05-06 17:27:53  01:27:53  19930507  19930506  17:27:53   \n                 1993-05-06 17:51:48  01:51:48  19930507  19930506  17:51:48   \n                 1993-05-06 18:40:04  02:40:04  19930507  19930506  18:40:04   \n...                                        ...       ...       ...       ...   \n950227D02 1      1996-08-11 07:18:14  15:18:14  19960811  19960811  07:18:14   \n                 1996-08-11 09:13:06  17:13:06  19960811  19960811  09:13:06   \n                 1996-08-11 11:06:48  19:06:48  19960811  19960811  11:06:48   \n                 1996-08-11 13:06:05  21:06:05  19960811  19960811  13:06:05   \n                 1996-08-11 15:03:44  23:03:44  19960811  19960811  15:03:44   \n\n                                      RadNum Species    UTME     UTMN  Year  \\\ntraj_id   seg_id DateTime                                                     \n910313E37 1      1993-05-06 17:04:47      67       E  377026  5008419    93   \n                 1993-05-06 17:21:12      67       E  377053  5008474    93   \n                 1993-05-06 17:27:53      67       E  377108  5008516    93   \n                 1993-05-06 17:51:48      67       E  377083  5008494    93   \n                 1993-05-06 18:40:04      67       E  377406  5008591    93   \n...                                      ...     ...     ...      ...   ...   \n950227D02 1      1996-08-11 07:18:14     417       D  376978  5008937    96   \n                 1996-08-11 09:13:06     417       D  376902  5008934    96   \n                 1996-08-11 11:06:48     417       D  376865  5008927    96   \n                 1996-08-11 13:06:05     417       D  376806  5009065    96   \n                 1996-08-11 15:03:44     417       D  376927  5009150    96   \n\n                                      Grensunr  Grensuns  Obswt        Date  \ntraj_id   seg_id DateTime                                                    \n910313E37 1      1993-05-06 17:04:47  12:34:00  03:10:00   1.67  1993-05-06  \n                 1993-05-06 17:21:12  12:34:00  03:10:00   1.73  1993-05-06  \n                 1993-05-06 17:27:53  12:34:00  03:10:00   1.73  1993-05-06  \n                 1993-05-06 17:51:48  12:34:00  03:10:00   1.73  1993-05-06  \n                 1993-05-06 18:40:04  12:34:00  03:10:00   1.46  1993-05-06  \n...                                        ...       ...    ...         ...  \n950227D02 1      1996-08-11 07:18:14  12:51:00  03:10:00   1.43  1996-08-11  \n                 1996-08-11 09:13:06  12:51:00  03:10:00   1.43  1996-08-11  \n                 1996-08-11 11:06:48  12:51:00  03:10:00   1.43  1996-08-11  \n                 1996-08-11 13:06:05  12:51:00  03:10:00   1.56  1996-08-11  \n                 1996-08-11 15:03:44  12:51:00  03:10:00   1.56  1996-08-11  \n\n[320829 rows x 16 columns]",
      "text/html": "<div>\n<style scoped>\n    .dataframe tbody tr th:only-of-type {\n        vertical-align: middle;\n    }\n\n    .dataframe tbody tr th {\n        vertical-align: top;\n    }\n\n    .dataframe thead th {\n        text-align: right;\n    }\n</style>\n<table border=\"1\" class=\"dataframe\">\n  <thead>\n    <tr style=\"text-align: right;\">\n      <th></th>\n      <th></th>\n      <th></th>\n      <th>lat</th>\n      <th>lon</th>\n      <th>StarkeyTime</th>\n      <th>GMDate</th>\n      <th>GMTime</th>\n      <th>LocDate</th>\n      <th>LocTime</th>\n      <th>RadNum</th>\n      <th>Species</th>\n      <th>UTME</th>\n      <th>UTMN</th>\n      <th>Year</th>\n      <th>Grensunr</th>\n      <th>Grensuns</th>\n      <th>Obswt</th>\n      <th>Date</th>\n    </tr>\n    <tr>\n      <th>traj_id</th>\n      <th>seg_id</th>\n      <th>DateTime</th>\n      <th></th>\n      <th></th>\n      <th></th>\n      <th></th>\n      <th></th>\n      <th></th>\n      <th></th>\n      <th></th>\n      <th></th>\n      <th></th>\n      <th></th>\n      <th></th>\n      <th></th>\n      <th></th>\n      <th></th>\n      <th></th>\n    </tr>\n  </thead>\n  <tbody>\n    <tr>\n      <th rowspan=\"5\" valign=\"top\">910313E37</th>\n      <th rowspan=\"5\" valign=\"top\">1</th>\n      <th>1993-05-06 17:04:47</th>\n      <td>45.218440</td>\n      <td>-118.566257</td>\n      <td>168829487</td>\n      <td>01:04:47</td>\n      <td>19930507</td>\n      <td>19930506</td>\n      <td>17:04:47</td>\n      <td>67</td>\n      <td>E</td>\n      <td>377026</td>\n      <td>5008419</td>\n      <td>93</td>\n      <td>12:34:00</td>\n      <td>03:10:00</td>\n      <td>1.67</td>\n      <td>1993-05-06</td>\n    </tr>\n    <tr>\n      <th>1993-05-06 17:21:12</th>\n      <td>45.218985</td>\n      <td>-118.565890</td>\n      <td>168826332</td>\n      <td>01:21:12</td>\n      <td>19930507</td>\n      <td>19930506</td>\n      <td>17:21:12</td>\n      <td>67</td>\n      <td>E</td>\n      <td>377053</td>\n      <td>5008474</td>\n      <td>93</td>\n      <td>12:34:00</td>\n      <td>03:10:00</td>\n      <td>1.73</td>\n      <td>1993-05-06</td>\n    </tr>\n    <tr>\n      <th>1993-05-06 17:27:53</th>\n      <td>45.219536</td>\n      <td>-118.565141</td>\n      <td>168830873</td>\n      <td>01:27:53</td>\n      <td>19930507</td>\n      <td>19930506</td>\n      <td>17:27:53</td>\n      <td>67</td>\n      <td>E</td>\n      <td>377108</td>\n      <td>5008516</td>\n      <td>93</td>\n      <td>12:34:00</td>\n      <td>03:10:00</td>\n      <td>1.73</td>\n      <td>1993-05-06</td>\n    </tr>\n    <tr>\n      <th>1993-05-06 17:51:48</th>\n      <td>45.219260</td>\n      <td>-118.565516</td>\n      <td>168832308</td>\n      <td>01:51:48</td>\n      <td>19930507</td>\n      <td>19930506</td>\n      <td>17:51:48</td>\n      <td>67</td>\n      <td>E</td>\n      <td>377083</td>\n      <td>5008494</td>\n      <td>93</td>\n      <td>12:34:00</td>\n      <td>03:10:00</td>\n      <td>1.73</td>\n      <td>1993-05-06</td>\n    </tr>\n    <tr>\n      <th>1993-05-06 18:40:04</th>\n      <td>45.220128</td>\n      <td>-118.561336</td>\n      <td>168835204</td>\n      <td>02:40:04</td>\n      <td>19930507</td>\n      <td>19930506</td>\n      <td>18:40:04</td>\n      <td>67</td>\n      <td>E</td>\n      <td>377406</td>\n      <td>5008591</td>\n      <td>93</td>\n      <td>12:34:00</td>\n      <td>03:10:00</td>\n      <td>1.46</td>\n      <td>1993-05-06</td>\n    </tr>\n    <tr>\n      <th>...</th>\n      <th>...</th>\n      <th>...</th>\n      <td>...</td>\n      <td>...</td>\n      <td>...</td>\n      <td>...</td>\n      <td>...</td>\n      <td>...</td>\n      <td>...</td>\n      <td>...</td>\n      <td>...</td>\n      <td>...</td>\n      <td>...</td>\n      <td>...</td>\n      <td>...</td>\n      <td>...</td>\n      <td>...</td>\n      <td>...</td>\n    </tr>\n    <tr>\n      <th rowspan=\"5\" valign=\"top\">950227D02</th>\n      <th rowspan=\"5\" valign=\"top\">1</th>\n      <th>1996-08-11 07:18:14</th>\n      <td>45.223289</td>\n      <td>-118.567155</td>\n      <td>271869494</td>\n      <td>15:18:14</td>\n      <td>19960811</td>\n      <td>19960811</td>\n      <td>07:18:14</td>\n      <td>417</td>\n      <td>D</td>\n      <td>376978</td>\n      <td>5008937</td>\n      <td>96</td>\n      <td>12:51:00</td>\n      <td>03:10:00</td>\n      <td>1.43</td>\n      <td>1996-08-11</td>\n    </tr>\n    <tr>\n      <th>1996-08-11 09:13:06</th>\n      <td>45.223008</td>\n      <td>-118.567911</td>\n      <td>271876386</td>\n      <td>17:13:06</td>\n      <td>19960811</td>\n      <td>19960811</td>\n      <td>09:13:06</td>\n      <td>417</td>\n      <td>D</td>\n      <td>376902</td>\n      <td>5008934</td>\n      <td>96</td>\n      <td>12:51:00</td>\n      <td>03:10:00</td>\n      <td>1.43</td>\n      <td>1996-08-11</td>\n    </tr>\n    <tr>\n      <th>1996-08-11 11:06:48</th>\n      <td>45.223003</td>\n      <td>-118.568293</td>\n      <td>271883208</td>\n      <td>19:06:48</td>\n      <td>19960811</td>\n      <td>19960811</td>\n      <td>11:06:48</td>\n      <td>417</td>\n      <td>D</td>\n      <td>376865</td>\n      <td>5008927</td>\n      <td>96</td>\n      <td>12:51:00</td>\n      <td>03:10:00</td>\n      <td>1.43</td>\n      <td>1996-08-11</td>\n    </tr>\n    <tr>\n      <th>1996-08-11 13:06:05</th>\n      <td>45.224342</td>\n      <td>-118.569095</td>\n      <td>271890365</td>\n      <td>21:06:05</td>\n      <td>19960811</td>\n      <td>19960811</td>\n      <td>13:06:05</td>\n      <td>417</td>\n      <td>D</td>\n      <td>376806</td>\n      <td>5009065</td>\n      <td>96</td>\n      <td>12:51:00</td>\n      <td>03:10:00</td>\n      <td>1.56</td>\n      <td>1996-08-11</td>\n    </tr>\n    <tr>\n      <th>1996-08-11 15:03:44</th>\n      <td>45.225173</td>\n      <td>-118.567589</td>\n      <td>271897424</td>\n      <td>23:03:44</td>\n      <td>19960811</td>\n      <td>19960811</td>\n      <td>15:03:44</td>\n      <td>417</td>\n      <td>D</td>\n      <td>376927</td>\n      <td>5009150</td>\n      <td>96</td>\n      <td>12:51:00</td>\n      <td>03:10:00</td>\n      <td>1.56</td>\n      <td>1996-08-11</td>\n    </tr>\n  </tbody>\n</table>\n<p>320829 rows × 16 columns</p>\n</div>"
     },
     "execution_count": 8,
     "metadata": {},
     "output_type": "execute_result"
    }
   ],
   "source": [
    "print(len(starkey))\n",
    "seg"
   ],
   "metadata": {
    "collapsed": false,
    "pycharm": {
     "name": "#%%\n"
    }
   }
  },
  {
   "cell_type": "code",
   "execution_count": 9,
   "outputs": [
    {
     "ename": "TypeError",
     "evalue": "Cannot perform 'rand_' with a dtyped [object] array and scalar of type [bool]",
     "output_type": "error",
     "traceback": [
      "\u001B[0;31m---------------------------------------------------------------------------\u001B[0m",
      "\u001B[0;31mTypeError\u001B[0m                                 Traceback (most recent call last)",
      "\u001B[0;32m~/anaconda3/envs/PreprocessingLibrary/lib/python3.8/site-packages/pandas/core/ops/array_ops.py\u001B[0m in \u001B[0;36mna_logical_op\u001B[0;34m(x, y, op)\u001B[0m\n\u001B[1;32m    264\u001B[0m         \u001B[0;31m#  (xint or xbool) and (yint or bool)\u001B[0m\u001B[0;34m\u001B[0m\u001B[0;34m\u001B[0m\u001B[0;34m\u001B[0m\u001B[0m\n\u001B[0;32m--> 265\u001B[0;31m         \u001B[0mresult\u001B[0m \u001B[0;34m=\u001B[0m \u001B[0mop\u001B[0m\u001B[0;34m(\u001B[0m\u001B[0mx\u001B[0m\u001B[0;34m,\u001B[0m \u001B[0my\u001B[0m\u001B[0;34m)\u001B[0m\u001B[0;34m\u001B[0m\u001B[0;34m\u001B[0m\u001B[0m\n\u001B[0m\u001B[1;32m    266\u001B[0m     \u001B[0;32mexcept\u001B[0m \u001B[0mTypeError\u001B[0m\u001B[0;34m:\u001B[0m\u001B[0;34m\u001B[0m\u001B[0;34m\u001B[0m\u001B[0m\n",
      "\u001B[0;32m~/anaconda3/envs/PreprocessingLibrary/lib/python3.8/site-packages/pandas/core/ops/roperator.py\u001B[0m in \u001B[0;36mrand_\u001B[0;34m(left, right)\u001B[0m\n\u001B[1;32m     51\u001B[0m \u001B[0;32mdef\u001B[0m \u001B[0mrand_\u001B[0m\u001B[0;34m(\u001B[0m\u001B[0mleft\u001B[0m\u001B[0;34m,\u001B[0m \u001B[0mright\u001B[0m\u001B[0;34m)\u001B[0m\u001B[0;34m:\u001B[0m\u001B[0;34m\u001B[0m\u001B[0;34m\u001B[0m\u001B[0m\n\u001B[0;32m---> 52\u001B[0;31m     \u001B[0;32mreturn\u001B[0m \u001B[0moperator\u001B[0m\u001B[0;34m.\u001B[0m\u001B[0mand_\u001B[0m\u001B[0;34m(\u001B[0m\u001B[0mright\u001B[0m\u001B[0;34m,\u001B[0m \u001B[0mleft\u001B[0m\u001B[0;34m)\u001B[0m\u001B[0;34m\u001B[0m\u001B[0;34m\u001B[0m\u001B[0m\n\u001B[0m\u001B[1;32m     53\u001B[0m \u001B[0;34m\u001B[0m\u001B[0m\n",
      "\u001B[0;31mTypeError\u001B[0m: unsupported operand type(s) for &: 'int' and 'str'",
      "\nDuring handling of the above exception, another exception occurred:\n",
      "\u001B[0;31mTypeError\u001B[0m                                 Traceback (most recent call last)",
      "\u001B[0;32m~/anaconda3/envs/PreprocessingLibrary/lib/python3.8/site-packages/pandas/core/ops/array_ops.py\u001B[0m in \u001B[0;36mna_logical_op\u001B[0;34m(x, y, op)\u001B[0m\n\u001B[1;32m    278\u001B[0m             \u001B[0;32mtry\u001B[0m\u001B[0;34m:\u001B[0m\u001B[0;34m\u001B[0m\u001B[0;34m\u001B[0m\u001B[0m\n\u001B[0;32m--> 279\u001B[0;31m                 \u001B[0mresult\u001B[0m \u001B[0;34m=\u001B[0m \u001B[0mlibops\u001B[0m\u001B[0;34m.\u001B[0m\u001B[0mscalar_binop\u001B[0m\u001B[0;34m(\u001B[0m\u001B[0mx\u001B[0m\u001B[0;34m,\u001B[0m \u001B[0my\u001B[0m\u001B[0;34m,\u001B[0m \u001B[0mop\u001B[0m\u001B[0;34m)\u001B[0m\u001B[0;34m\u001B[0m\u001B[0;34m\u001B[0m\u001B[0m\n\u001B[0m\u001B[1;32m    280\u001B[0m             except (\n",
      "\u001B[0;32mpandas/_libs/ops.pyx\u001B[0m in \u001B[0;36mpandas._libs.ops.scalar_binop\u001B[0;34m()\u001B[0m\n",
      "\u001B[0;32m~/anaconda3/envs/PreprocessingLibrary/lib/python3.8/site-packages/pandas/core/ops/roperator.py\u001B[0m in \u001B[0;36mrand_\u001B[0;34m(left, right)\u001B[0m\n\u001B[1;32m     51\u001B[0m \u001B[0;32mdef\u001B[0m \u001B[0mrand_\u001B[0m\u001B[0;34m(\u001B[0m\u001B[0mleft\u001B[0m\u001B[0;34m,\u001B[0m \u001B[0mright\u001B[0m\u001B[0;34m)\u001B[0m\u001B[0;34m:\u001B[0m\u001B[0;34m\u001B[0m\u001B[0;34m\u001B[0m\u001B[0m\n\u001B[0;32m---> 52\u001B[0;31m     \u001B[0;32mreturn\u001B[0m \u001B[0moperator\u001B[0m\u001B[0;34m.\u001B[0m\u001B[0mand_\u001B[0m\u001B[0;34m(\u001B[0m\u001B[0mright\u001B[0m\u001B[0;34m,\u001B[0m \u001B[0mleft\u001B[0m\u001B[0;34m)\u001B[0m\u001B[0;34m\u001B[0m\u001B[0;34m\u001B[0m\u001B[0m\n\u001B[0m\u001B[1;32m     53\u001B[0m \u001B[0;34m\u001B[0m\u001B[0m\n",
      "\u001B[0;31mTypeError\u001B[0m: unsupported operand type(s) for &: 'bool' and 'str'",
      "\nThe above exception was the direct cause of the following exception:\n",
      "\u001B[0;31mTypeError\u001B[0m                                 Traceback (most recent call last)",
      "\u001B[0;32m/tmp/ipykernel_2450/2155160143.py\u001B[0m in \u001B[0;36m<module>\u001B[0;34m\u001B[0m\n\u001B[0;32m----> 1\u001B[0;31m \u001B[0mseg\u001B[0m\u001B[0;34m.\u001B[0m\u001B[0mreset_index\u001B[0m\u001B[0;34m(\u001B[0m\u001B[0;34m)\u001B[0m\u001B[0;34m.\u001B[0m\u001B[0mloc\u001B[0m\u001B[0;34m[\u001B[0m\u001B[0mseg\u001B[0m\u001B[0;34m.\u001B[0m\u001B[0mreset_index\u001B[0m\u001B[0;34m(\u001B[0m\u001B[0;34m)\u001B[0m\u001B[0;34m[\u001B[0m\u001B[0;34m'seg_id'\u001B[0m\u001B[0;34m]\u001B[0m \u001B[0;34m==\u001B[0m \u001B[0;36m3\u001B[0m \u001B[0;34m&\u001B[0m \u001B[0mseg\u001B[0m\u001B[0;34m.\u001B[0m\u001B[0mreset_index\u001B[0m\u001B[0;34m(\u001B[0m\u001B[0;34m)\u001B[0m\u001B[0;34m[\u001B[0m\u001B[0;34m'traj_id'\u001B[0m\u001B[0;34m]\u001B[0m \u001B[0;34m==\u001B[0m \u001B[0;34m'1'\u001B[0m\u001B[0;34m]\u001B[0m\u001B[0;34m\u001B[0m\u001B[0;34m\u001B[0m\u001B[0m\n\u001B[0m",
      "\u001B[0;32m~/anaconda3/envs/PreprocessingLibrary/lib/python3.8/site-packages/pandas/core/ops/common.py\u001B[0m in \u001B[0;36mnew_method\u001B[0;34m(self, other)\u001B[0m\n\u001B[1;32m     63\u001B[0m         \u001B[0mother\u001B[0m \u001B[0;34m=\u001B[0m \u001B[0mitem_from_zerodim\u001B[0m\u001B[0;34m(\u001B[0m\u001B[0mother\u001B[0m\u001B[0;34m)\u001B[0m\u001B[0;34m\u001B[0m\u001B[0;34m\u001B[0m\u001B[0m\n\u001B[1;32m     64\u001B[0m \u001B[0;34m\u001B[0m\u001B[0m\n\u001B[0;32m---> 65\u001B[0;31m         \u001B[0;32mreturn\u001B[0m \u001B[0mmethod\u001B[0m\u001B[0;34m(\u001B[0m\u001B[0mself\u001B[0m\u001B[0;34m,\u001B[0m \u001B[0mother\u001B[0m\u001B[0;34m)\u001B[0m\u001B[0;34m\u001B[0m\u001B[0;34m\u001B[0m\u001B[0m\n\u001B[0m\u001B[1;32m     66\u001B[0m \u001B[0;34m\u001B[0m\u001B[0m\n\u001B[1;32m     67\u001B[0m     \u001B[0;32mreturn\u001B[0m \u001B[0mnew_method\u001B[0m\u001B[0;34m\u001B[0m\u001B[0;34m\u001B[0m\u001B[0m\n",
      "\u001B[0;32m~/anaconda3/envs/PreprocessingLibrary/lib/python3.8/site-packages/pandas/core/arraylike.py\u001B[0m in \u001B[0;36m__rand__\u001B[0;34m(self, other)\u001B[0m\n\u001B[1;32m     61\u001B[0m     \u001B[0;34m@\u001B[0m\u001B[0munpack_zerodim_and_defer\u001B[0m\u001B[0;34m(\u001B[0m\u001B[0;34m\"__rand__\"\u001B[0m\u001B[0;34m)\u001B[0m\u001B[0;34m\u001B[0m\u001B[0;34m\u001B[0m\u001B[0m\n\u001B[1;32m     62\u001B[0m     \u001B[0;32mdef\u001B[0m \u001B[0m__rand__\u001B[0m\u001B[0;34m(\u001B[0m\u001B[0mself\u001B[0m\u001B[0;34m,\u001B[0m \u001B[0mother\u001B[0m\u001B[0;34m)\u001B[0m\u001B[0;34m:\u001B[0m\u001B[0;34m\u001B[0m\u001B[0;34m\u001B[0m\u001B[0m\n\u001B[0;32m---> 63\u001B[0;31m         \u001B[0;32mreturn\u001B[0m \u001B[0mself\u001B[0m\u001B[0;34m.\u001B[0m\u001B[0m_logical_method\u001B[0m\u001B[0;34m(\u001B[0m\u001B[0mother\u001B[0m\u001B[0;34m,\u001B[0m \u001B[0mroperator\u001B[0m\u001B[0;34m.\u001B[0m\u001B[0mrand_\u001B[0m\u001B[0;34m)\u001B[0m\u001B[0;34m\u001B[0m\u001B[0;34m\u001B[0m\u001B[0m\n\u001B[0m\u001B[1;32m     64\u001B[0m \u001B[0;34m\u001B[0m\u001B[0m\n\u001B[1;32m     65\u001B[0m     \u001B[0;34m@\u001B[0m\u001B[0munpack_zerodim_and_defer\u001B[0m\u001B[0;34m(\u001B[0m\u001B[0;34m\"__or__\"\u001B[0m\u001B[0;34m)\u001B[0m\u001B[0;34m\u001B[0m\u001B[0;34m\u001B[0m\u001B[0m\n",
      "\u001B[0;32m~/anaconda3/envs/PreprocessingLibrary/lib/python3.8/site-packages/pandas/core/series.py\u001B[0m in \u001B[0;36m_logical_method\u001B[0;34m(self, other, op)\u001B[0m\n\u001B[1;32m   4987\u001B[0m         \u001B[0mrvalues\u001B[0m \u001B[0;34m=\u001B[0m \u001B[0mextract_array\u001B[0m\u001B[0;34m(\u001B[0m\u001B[0mother\u001B[0m\u001B[0;34m,\u001B[0m \u001B[0mextract_numpy\u001B[0m\u001B[0;34m=\u001B[0m\u001B[0;32mTrue\u001B[0m\u001B[0;34m)\u001B[0m\u001B[0;34m\u001B[0m\u001B[0;34m\u001B[0m\u001B[0m\n\u001B[1;32m   4988\u001B[0m \u001B[0;34m\u001B[0m\u001B[0m\n\u001B[0;32m-> 4989\u001B[0;31m         \u001B[0mres_values\u001B[0m \u001B[0;34m=\u001B[0m \u001B[0mops\u001B[0m\u001B[0;34m.\u001B[0m\u001B[0mlogical_op\u001B[0m\u001B[0;34m(\u001B[0m\u001B[0mlvalues\u001B[0m\u001B[0;34m,\u001B[0m \u001B[0mrvalues\u001B[0m\u001B[0;34m,\u001B[0m \u001B[0mop\u001B[0m\u001B[0;34m)\u001B[0m\u001B[0;34m\u001B[0m\u001B[0;34m\u001B[0m\u001B[0m\n\u001B[0m\u001B[1;32m   4990\u001B[0m         \u001B[0;32mreturn\u001B[0m \u001B[0mself\u001B[0m\u001B[0;34m.\u001B[0m\u001B[0m_construct_result\u001B[0m\u001B[0;34m(\u001B[0m\u001B[0mres_values\u001B[0m\u001B[0;34m,\u001B[0m \u001B[0mname\u001B[0m\u001B[0;34m=\u001B[0m\u001B[0mres_name\u001B[0m\u001B[0;34m)\u001B[0m\u001B[0;34m\u001B[0m\u001B[0;34m\u001B[0m\u001B[0m\n\u001B[1;32m   4991\u001B[0m \u001B[0;34m\u001B[0m\u001B[0m\n",
      "\u001B[0;32m~/anaconda3/envs/PreprocessingLibrary/lib/python3.8/site-packages/pandas/core/ops/array_ops.py\u001B[0m in \u001B[0;36mlogical_op\u001B[0;34m(left, right, op)\u001B[0m\n\u001B[1;32m    353\u001B[0m         \u001B[0mfiller\u001B[0m \u001B[0;34m=\u001B[0m \u001B[0mfill_int\u001B[0m \u001B[0;32mif\u001B[0m \u001B[0mis_self_int_dtype\u001B[0m \u001B[0;32mand\u001B[0m \u001B[0mis_other_int_dtype\u001B[0m \u001B[0;32melse\u001B[0m \u001B[0mfill_bool\u001B[0m\u001B[0;34m\u001B[0m\u001B[0;34m\u001B[0m\u001B[0m\n\u001B[1;32m    354\u001B[0m \u001B[0;34m\u001B[0m\u001B[0m\n\u001B[0;32m--> 355\u001B[0;31m         \u001B[0mres_values\u001B[0m \u001B[0;34m=\u001B[0m \u001B[0mna_logical_op\u001B[0m\u001B[0;34m(\u001B[0m\u001B[0mlvalues\u001B[0m\u001B[0;34m,\u001B[0m \u001B[0mrvalues\u001B[0m\u001B[0;34m,\u001B[0m \u001B[0mop\u001B[0m\u001B[0;34m)\u001B[0m\u001B[0;34m\u001B[0m\u001B[0;34m\u001B[0m\u001B[0m\n\u001B[0m\u001B[1;32m    356\u001B[0m         \u001B[0;31m# error: Cannot call function of unknown type\u001B[0m\u001B[0;34m\u001B[0m\u001B[0;34m\u001B[0m\u001B[0;34m\u001B[0m\u001B[0m\n\u001B[1;32m    357\u001B[0m         \u001B[0mres_values\u001B[0m \u001B[0;34m=\u001B[0m \u001B[0mfiller\u001B[0m\u001B[0;34m(\u001B[0m\u001B[0mres_values\u001B[0m\u001B[0;34m)\u001B[0m  \u001B[0;31m# type: ignore[operator]\u001B[0m\u001B[0;34m\u001B[0m\u001B[0;34m\u001B[0m\u001B[0m\n",
      "\u001B[0;32m~/anaconda3/envs/PreprocessingLibrary/lib/python3.8/site-packages/pandas/core/ops/array_ops.py\u001B[0m in \u001B[0;36mna_logical_op\u001B[0;34m(x, y, op)\u001B[0m\n\u001B[1;32m    286\u001B[0m             ) as err:\n\u001B[1;32m    287\u001B[0m                 \u001B[0mtyp\u001B[0m \u001B[0;34m=\u001B[0m \u001B[0mtype\u001B[0m\u001B[0;34m(\u001B[0m\u001B[0my\u001B[0m\u001B[0;34m)\u001B[0m\u001B[0;34m.\u001B[0m\u001B[0m__name__\u001B[0m\u001B[0;34m\u001B[0m\u001B[0;34m\u001B[0m\u001B[0m\n\u001B[0;32m--> 288\u001B[0;31m                 raise TypeError(\n\u001B[0m\u001B[1;32m    289\u001B[0m                     \u001B[0;34mf\"Cannot perform '{op.__name__}' with a dtyped [{x.dtype}] array \"\u001B[0m\u001B[0;34m\u001B[0m\u001B[0;34m\u001B[0m\u001B[0m\n\u001B[1;32m    290\u001B[0m                     \u001B[0;34mf\"and scalar of type [{typ}]\"\u001B[0m\u001B[0;34m\u001B[0m\u001B[0;34m\u001B[0m\u001B[0m\n",
      "\u001B[0;31mTypeError\u001B[0m: Cannot perform 'rand_' with a dtyped [object] array and scalar of type [bool]"
     ]
    }
   ],
   "source": [
    "seg.reset_index().loc[seg.reset_index()['seg_id'] == 3 & seg.reset_index()['traj_id'] == '1']"
   ],
   "metadata": {
    "collapsed": false,
    "pycharm": {
     "name": "#%%\n"
    }
   }
  },
  {
   "cell_type": "code",
   "execution_count": null,
   "outputs": [],
   "source": [
    "# stats = KinematicFeatures.generate_kinematic_stats(gulls)"
   ],
   "metadata": {
    "collapsed": false,
    "pycharm": {
     "name": "#%%\n"
    }
   }
  },
  {
   "cell_type": "code",
   "execution_count": null,
   "outputs": [],
   "source": [
    "# stats.head(16)"
   ],
   "metadata": {
    "collapsed": false,
    "pycharm": {
     "name": "#%%\n"
    }
   }
  },
  {
   "cell_type": "code",
   "execution_count": null,
   "outputs": [],
   "source": [],
   "metadata": {
    "collapsed": false,
    "pycharm": {
     "name": "#%%\n"
    }
   }
  }
 ],
 "metadata": {
  "kernelspec": {
   "display_name": "Python 3",
   "language": "python",
   "name": "python3"
  },
  "language_info": {
   "codemirror_mode": {
    "name": "ipython",
    "version": 2
   },
   "file_extension": ".py",
   "mimetype": "text/x-python",
   "name": "python",
   "nbconvert_exporter": "python",
   "pygments_lexer": "ipython2",
   "version": "2.7.6"
  }
 },
 "nbformat": 4,
 "nbformat_minor": 0
}