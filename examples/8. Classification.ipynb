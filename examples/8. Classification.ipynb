{
 "cells": [
  {
   "cell_type": "code",
   "execution_count": 1,
   "metadata": {
    "collapsed": true
   },
   "outputs": [
    {
     "name": "stdout",
     "output_type": "stream",
     "text": [
      "Size of the Dataset: (287136, 15)\n"
     ]
    },
    {
     "data": {
      "text/plain": "                                     lat         lon  StarkeyTime    GMDate  \\\ntraj_id   DateTime                                                            \n880109D01 1970-01-01 00:04:17  45.238700 -118.525916    230803457  08:04:17   \n          1970-01-01 00:24:02  45.241063 -118.530948    230286242  08:24:02   \n          1970-01-01 00:33:08  45.249747 -118.527741    230545988  08:33:08   \n          1970-01-01 00:33:51  45.238440 -118.525144    230978031  08:33:51   \n          1970-01-01 00:36:53  45.254177 -118.539712    230632613  08:36:53   \n\n                                 GMTime   LocDate   LocTime  RadNum Species  \\\ntraj_id   DateTime                                                            \n880109D01 1970-01-01 00:04:17  19950424  19950424  00:04:17     409       D   \n          1970-01-01 00:24:02  19950418  19950418  00:24:02     409       D   \n          1970-01-01 00:33:08  19950421  19950421  00:33:08     409       D   \n          1970-01-01 00:33:51  19950426  19950426  00:33:51     409       D   \n          1970-01-01 00:36:53  19950422  19950422  00:36:53     409       D   \n\n                                 UTME     UTMN  Year  Grensunr  Grensuns  \\\ntraj_id   DateTime                                                         \n880109D01 1970-01-01 00:04:17  380220  5010606    95  12:54:00  02:53:00   \n          1970-01-01 00:24:02  379854  5010865    95  13:04:00  02:45:00   \n          1970-01-01 00:33:08  380122  5011840    95  12:59:00  02:49:00   \n          1970-01-01 00:33:51  380293  5010559    95  12:50:00  02:56:00   \n          1970-01-01 00:36:53  379191  5012351    95  12:57:00  02:50:00   \n\n                               Obswt  \ntraj_id   DateTime                    \n880109D01 1970-01-01 00:04:17   1.42  \n          1970-01-01 00:24:02   1.43  \n          1970-01-01 00:33:08   1.66  \n          1970-01-01 00:33:51   1.42  \n          1970-01-01 00:36:53   1.48  ",
      "text/html": "<div>\n<style scoped>\n    .dataframe tbody tr th:only-of-type {\n        vertical-align: middle;\n    }\n\n    .dataframe tbody tr th {\n        vertical-align: top;\n    }\n\n    .dataframe thead th {\n        text-align: right;\n    }\n</style>\n<table border=\"1\" class=\"dataframe\">\n  <thead>\n    <tr style=\"text-align: right;\">\n      <th></th>\n      <th></th>\n      <th>lat</th>\n      <th>lon</th>\n      <th>StarkeyTime</th>\n      <th>GMDate</th>\n      <th>GMTime</th>\n      <th>LocDate</th>\n      <th>LocTime</th>\n      <th>RadNum</th>\n      <th>Species</th>\n      <th>UTME</th>\n      <th>UTMN</th>\n      <th>Year</th>\n      <th>Grensunr</th>\n      <th>Grensuns</th>\n      <th>Obswt</th>\n    </tr>\n    <tr>\n      <th>traj_id</th>\n      <th>DateTime</th>\n      <th></th>\n      <th></th>\n      <th></th>\n      <th></th>\n      <th></th>\n      <th></th>\n      <th></th>\n      <th></th>\n      <th></th>\n      <th></th>\n      <th></th>\n      <th></th>\n      <th></th>\n      <th></th>\n      <th></th>\n    </tr>\n  </thead>\n  <tbody>\n    <tr>\n      <th rowspan=\"5\" valign=\"top\">880109D01</th>\n      <th>1970-01-01 00:04:17</th>\n      <td>45.238700</td>\n      <td>-118.525916</td>\n      <td>230803457</td>\n      <td>08:04:17</td>\n      <td>19950424</td>\n      <td>19950424</td>\n      <td>00:04:17</td>\n      <td>409</td>\n      <td>D</td>\n      <td>380220</td>\n      <td>5010606</td>\n      <td>95</td>\n      <td>12:54:00</td>\n      <td>02:53:00</td>\n      <td>1.42</td>\n    </tr>\n    <tr>\n      <th>1970-01-01 00:24:02</th>\n      <td>45.241063</td>\n      <td>-118.530948</td>\n      <td>230286242</td>\n      <td>08:24:02</td>\n      <td>19950418</td>\n      <td>19950418</td>\n      <td>00:24:02</td>\n      <td>409</td>\n      <td>D</td>\n      <td>379854</td>\n      <td>5010865</td>\n      <td>95</td>\n      <td>13:04:00</td>\n      <td>02:45:00</td>\n      <td>1.43</td>\n    </tr>\n    <tr>\n      <th>1970-01-01 00:33:08</th>\n      <td>45.249747</td>\n      <td>-118.527741</td>\n      <td>230545988</td>\n      <td>08:33:08</td>\n      <td>19950421</td>\n      <td>19950421</td>\n      <td>00:33:08</td>\n      <td>409</td>\n      <td>D</td>\n      <td>380122</td>\n      <td>5011840</td>\n      <td>95</td>\n      <td>12:59:00</td>\n      <td>02:49:00</td>\n      <td>1.66</td>\n    </tr>\n    <tr>\n      <th>1970-01-01 00:33:51</th>\n      <td>45.238440</td>\n      <td>-118.525144</td>\n      <td>230978031</td>\n      <td>08:33:51</td>\n      <td>19950426</td>\n      <td>19950426</td>\n      <td>00:33:51</td>\n      <td>409</td>\n      <td>D</td>\n      <td>380293</td>\n      <td>5010559</td>\n      <td>95</td>\n      <td>12:50:00</td>\n      <td>02:56:00</td>\n      <td>1.42</td>\n    </tr>\n    <tr>\n      <th>1970-01-01 00:36:53</th>\n      <td>45.254177</td>\n      <td>-118.539712</td>\n      <td>230632613</td>\n      <td>08:36:53</td>\n      <td>19950422</td>\n      <td>19950422</td>\n      <td>00:36:53</td>\n      <td>409</td>\n      <td>D</td>\n      <td>379191</td>\n      <td>5012351</td>\n      <td>95</td>\n      <td>12:57:00</td>\n      <td>02:50:00</td>\n      <td>1.48</td>\n    </tr>\n  </tbody>\n</table>\n</div>"
     },
     "execution_count": 1,
     "metadata": {},
     "output_type": "execute_result"
    }
   ],
   "source": [
    "import pandas as pd\n",
    "from Nummobility.core.TrajectoryDF import NumPandasTraj\n",
    "\n",
    "\"\"\"\n",
    "    First, to begin with the following actions ar performed:\n",
    "        1. Read the database from the csv file using pandas.\n",
    "        2. Convert the pandas dataframe to NumPandasTraj DataFrame\n",
    "           in order to represent the data with NumMobility.\n",
    "\n",
    "    It is to be duly noted that the Starkey Project database provided\n",
    "    originally has been modified here to meet with the needs of\n",
    "    NumMobility Library.\n",
    "\"\"\"\n",
    "pdf = pd.read_csv('./data/starkey.csv')\n",
    "starkey = NumPandasTraj(data_set=pdf,\n",
    "                        latitude='lat',\n",
    "                        longitude='lon',\n",
    "                        datetime='DateTime',\n",
    "                        traj_id='Id')\n",
    "print(\"Size of the Dataset: {}\".format(starkey.shape))\n",
    "starkey.head(5)\n"
   ]
  },
  {
   "cell_type": "code",
   "execution_count": 2,
   "outputs": [
    {
     "name": "stdout",
     "output_type": "stream",
     "text": [
      "CPU times: user 865 ms, sys: 171 ms, total: 1.04 s\n",
      "Wall time: 1.43 s\n"
     ]
    }
   ],
   "source": [
    "%%time\n",
    "\n",
    "# Now, we import the spatial features from the NumMobility\n",
    "# library and generate several spatial features on the dataset.\n",
    "from Nummobility.features.spatial_features import SpatialFeatures\n",
    "\n",
    "starkey = SpatialFeatures.create_distance_between_consecutive_column(starkey)"
   ],
   "metadata": {
    "collapsed": false,
    "pycharm": {
     "name": "#%%\n"
    }
   }
  },
  {
   "cell_type": "code",
   "execution_count": 3,
   "outputs": [
    {
     "name": "stderr",
     "output_type": "stream",
     "text": [
      "/home/yjharanwala/Desktop/NumMobility/Nummobility/preprocessing/filters.py:749: UserWarning: If kinematic features have been generated on the dataframe, then make sure to generate them again as outlier detection drops the point from the dataframe and does not run the kinematic features again.\n",
      "  warnings.warn(\"If kinematic features have been generated on the dataframe, then make \"\n"
     ]
    },
    {
     "name": "stdout",
     "output_type": "stream",
     "text": [
      "Original DF length: 287136\n",
      "Filtered DF length: 275561\n",
      "CPU times: user 889 ms, sys: 236 ms, total: 1.12 s\n",
      "Wall time: 25.2 s\n"
     ]
    }
   ],
   "source": [
    "%%time\n",
    "\n",
    "# Finally, lets run hampel filter on Distance between\n",
    "# consecutive points so as to clean up the data a little bit.\n",
    "\n",
    "from Nummobility.preprocessing.filters import Filters\n",
    "\n",
    "small_starkey = Filters.hampel_outlier_detection(starkey,\n",
    "                                                 'Distance_prev_to_curr')\n",
    "print(f\"Original DF length: {len(starkey)}\")\n",
    "print(f\"Filtered DF length: {len(small_starkey)}\")"
   ],
   "metadata": {
    "collapsed": false,
    "pycharm": {
     "name": "#%%\n"
    }
   }
  },
  {
   "cell_type": "code",
   "execution_count": 4,
   "outputs": [
    {
     "name": "stdout",
     "output_type": "stream",
     "text": [
      "Original DF length: 275561\n",
      "Filtered DF length: 272778\n"
     ]
    }
   ],
   "source": [
    "# Here drop the points with the same trajectory ID and the\n",
    "# same DateTime values are they are not allowed in Cubic\n",
    "# interpolation since the times need to be strictly increasing.\n",
    "\n",
    "filtered_starkey = small_starkey.reset_index().drop_duplicates(subset=['DateTime', 'traj_id'], keep='first')\n",
    "print(f\"Original DF length: {len(small_starkey)}\")\n",
    "print(f\"Filtered DF length: {len(filtered_starkey)}\")"
   ],
   "metadata": {
    "collapsed": false,
    "pycharm": {
     "name": "#%%\n"
    }
   }
  },
  {
   "cell_type": "code",
   "execution_count": 5,
   "outputs": [],
   "source": [
    "# Now, lets split the dataset using. The size of the\n",
    "# training dataset is 70% of original dataset and the\n",
    "# rest is testing dataset.\n",
    "\n",
    "# Setting up the train database. Here, it is to be noted\n",
    "# that for the purpose of fitting in the classifier, only\n",
    "# the lat, lon, datetime, traj_id and Species columns are\n",
    "# used and other columns are not being considered for now.\n",
    "\n",
    "ids_ = list(filtered_starkey.traj_id.value_counts().keys())\n",
    "\n",
    "train_df = []\n",
    "for i in range(int(len(ids_) * 0.7)):\n",
    "    small = filtered_starkey.reset_index().loc[filtered_starkey.reset_index()['traj_id'] == ids_[i],\n",
    "    ['DateTime', 'traj_id', 'lat', 'lon', 'Species']]\n",
    "    train_df.append(small)\n",
    "\n",
    "np_train_starkey = NumPandasTraj(pd.concat(train_df),\n",
    "                                 latitude='lat',\n",
    "                                 longitude='lon',\n",
    "                                 datetime='DateTime',\n",
    "                                 traj_id='traj_id')"
   ],
   "metadata": {
    "collapsed": false,
    "pycharm": {
     "name": "#%%\n"
    }
   }
  },
  {
   "cell_type": "code",
   "execution_count": 6,
   "outputs": [],
   "source": [
    "# Setting up the test database. Here, it is to be noted\n",
    "# that for the purpose of fitting in the classifier, only\n",
    "# the lat, lon, datetime, traj_id and Species columns are\n",
    "# used and other columns are not being considered for now.\n",
    "\n",
    "test_df = []\n",
    "for i in range(int(len(ids_) * 0.7)+1, len(ids_)):\n",
    "    small = filtered_starkey.reset_index().loc[filtered_starkey.reset_index()['traj_id'] == ids_[i],\n",
    "    ['DateTime', 'traj_id', 'lat', 'lon', 'Species']]\n",
    "    test_df.append(small)\n",
    "\n",
    "np_test_starkey = NumPandasTraj(pd.concat(test_df),\n",
    "                                 latitude='lat',\n",
    "                                 longitude='lon',\n",
    "                                 datetime='DateTime',\n",
    "                                 traj_id='traj_id')"
   ],
   "metadata": {
    "collapsed": false,
    "pycharm": {
     "name": "#%%\n"
    }
   }
  },
  {
   "cell_type": "code",
   "execution_count": 7,
   "outputs": [
    {
     "data": {
      "text/plain": "                                     lat         lon  Species\ntraj_id   DateTime                                           \n880109D01 1970-01-01 00:04:17  45.238700 -118.525916        0\n          1970-01-01 00:24:02  45.241063 -118.530948        0\n          1970-01-01 00:33:08  45.249747 -118.527741        0\n          1970-01-01 00:33:51  45.238440 -118.525144        0\n          1970-01-01 00:36:53  45.254177 -118.539712        0",
      "text/html": "<div>\n<style scoped>\n    .dataframe tbody tr th:only-of-type {\n        vertical-align: middle;\n    }\n\n    .dataframe tbody tr th {\n        vertical-align: top;\n    }\n\n    .dataframe thead th {\n        text-align: right;\n    }\n</style>\n<table border=\"1\" class=\"dataframe\">\n  <thead>\n    <tr style=\"text-align: right;\">\n      <th></th>\n      <th></th>\n      <th>lat</th>\n      <th>lon</th>\n      <th>Species</th>\n    </tr>\n    <tr>\n      <th>traj_id</th>\n      <th>DateTime</th>\n      <th></th>\n      <th></th>\n      <th></th>\n    </tr>\n  </thead>\n  <tbody>\n    <tr>\n      <th rowspan=\"5\" valign=\"top\">880109D01</th>\n      <th>1970-01-01 00:04:17</th>\n      <td>45.238700</td>\n      <td>-118.525916</td>\n      <td>0</td>\n    </tr>\n    <tr>\n      <th>1970-01-01 00:24:02</th>\n      <td>45.241063</td>\n      <td>-118.530948</td>\n      <td>0</td>\n    </tr>\n    <tr>\n      <th>1970-01-01 00:33:08</th>\n      <td>45.249747</td>\n      <td>-118.527741</td>\n      <td>0</td>\n    </tr>\n    <tr>\n      <th>1970-01-01 00:33:51</th>\n      <td>45.238440</td>\n      <td>-118.525144</td>\n      <td>0</td>\n    </tr>\n    <tr>\n      <th>1970-01-01 00:36:53</th>\n      <td>45.254177</td>\n      <td>-118.539712</td>\n      <td>0</td>\n    </tr>\n  </tbody>\n</table>\n</div>"
     },
     "execution_count": 7,
     "metadata": {},
     "output_type": "execute_result"
    }
   ],
   "source": [
    "# Modifying the data of the Species column to indicate the\n",
    "# results as follows:\n",
    "#   D (Deer) : 0\n",
    "#   E (Elk): 1\n",
    "#   C (Cattle): 2\n",
    "\n",
    "# First, doing the above mentioned conversion for the test\n",
    "# dataset.\n",
    "int_test = []\n",
    "for i in range(len(np_test_starkey['Species'])):\n",
    "    if np_test_starkey['Species'].iloc[i] == 'D':\n",
    "        int_test.append(0)\n",
    "    elif np_test_starkey['Species'].iloc[i] == 'E':\n",
    "        int_test.append(1)\n",
    "    else:\n",
    "        int_test.append(2)\n",
    "np_test_starkey['Species'] = int_test\n",
    "np_test_starkey.head()"
   ],
   "metadata": {
    "collapsed": false,
    "pycharm": {
     "name": "#%%\n"
    }
   }
  },
  {
   "cell_type": "code",
   "execution_count": 8,
   "outputs": [
    {
     "data": {
      "text/plain": "                                     lat         lon  Species\ntraj_id   DateTime                                           \n880119D02 1970-01-01 00:00:22  45.242184 -118.527920        0\n          1970-01-01 00:01:10  45.242199 -118.526774        0\n          1970-01-01 00:01:24  45.239769 -118.526709        0\n          1970-01-01 00:02:43  45.243335 -118.522600        0\n          1970-01-01 00:03:35  45.243793 -118.528728        0",
      "text/html": "<div>\n<style scoped>\n    .dataframe tbody tr th:only-of-type {\n        vertical-align: middle;\n    }\n\n    .dataframe tbody tr th {\n        vertical-align: top;\n    }\n\n    .dataframe thead th {\n        text-align: right;\n    }\n</style>\n<table border=\"1\" class=\"dataframe\">\n  <thead>\n    <tr style=\"text-align: right;\">\n      <th></th>\n      <th></th>\n      <th>lat</th>\n      <th>lon</th>\n      <th>Species</th>\n    </tr>\n    <tr>\n      <th>traj_id</th>\n      <th>DateTime</th>\n      <th></th>\n      <th></th>\n      <th></th>\n    </tr>\n  </thead>\n  <tbody>\n    <tr>\n      <th rowspan=\"5\" valign=\"top\">880119D02</th>\n      <th>1970-01-01 00:00:22</th>\n      <td>45.242184</td>\n      <td>-118.527920</td>\n      <td>0</td>\n    </tr>\n    <tr>\n      <th>1970-01-01 00:01:10</th>\n      <td>45.242199</td>\n      <td>-118.526774</td>\n      <td>0</td>\n    </tr>\n    <tr>\n      <th>1970-01-01 00:01:24</th>\n      <td>45.239769</td>\n      <td>-118.526709</td>\n      <td>0</td>\n    </tr>\n    <tr>\n      <th>1970-01-01 00:02:43</th>\n      <td>45.243335</td>\n      <td>-118.522600</td>\n      <td>0</td>\n    </tr>\n    <tr>\n      <th>1970-01-01 00:03:35</th>\n      <td>45.243793</td>\n      <td>-118.528728</td>\n      <td>0</td>\n    </tr>\n  </tbody>\n</table>\n</div>"
     },
     "execution_count": 8,
     "metadata": {},
     "output_type": "execute_result"
    }
   ],
   "source": [
    "# Now, doing the conversion for the train dataset.\n",
    "int_train = []\n",
    "for i in range(len(np_train_starkey['Species'])):\n",
    "    if np_train_starkey['Species'].iloc[i] == 'D':\n",
    "        int_train.append(0)\n",
    "    elif np_train_starkey['Species'].iloc[i] == 'E':\n",
    "        int_train.append(1)\n",
    "    else:\n",
    "        int_train.append(2)\n",
    "np_train_starkey['Species'] = int_train\n",
    "np_train_starkey.head()"
   ],
   "metadata": {
    "collapsed": false,
    "pycharm": {
     "name": "#%%\n"
    }
   }
  },
  {
   "cell_type": "code",
   "execution_count": 9,
   "outputs": [],
   "source": [
    "## Getting the training x and y ready for the DecisionTree.\n",
    "train_x = np_train_starkey.drop(columns=['Species'])\n",
    "train_y = np_train_starkey.reset_index()['Species']"
   ],
   "metadata": {
    "collapsed": false,
    "pycharm": {
     "name": "#%%\n"
    }
   }
  },
  {
   "cell_type": "code",
   "execution_count": 10,
   "outputs": [],
   "source": [
    "# Getting the testing x and y ready for the DecisionTree.\n",
    "test_x = np_test_starkey.drop(columns=['Species'])\n",
    "test_y = np_test_starkey.reset_index()['Species']"
   ],
   "metadata": {
    "collapsed": false,
    "pycharm": {
     "name": "#%%\n"
    }
   }
  },
  {
   "cell_type": "code",
   "execution_count": 11,
   "outputs": [
    {
     "name": "stdout",
     "output_type": "stream",
     "text": [
      "The depth of decision tree is: 40\n"
     ]
    }
   ],
   "source": [
    "# Now, setting up the DecisionTree model from the scikit-learn\n",
    "# library. Here, we are trying to see if we can predict the\n",
    "# Distance_prev_to_curr.\n",
    "\n",
    "from sklearn.tree import DecisionTreeClassifier\n",
    "\n",
    "dtc_model = DecisionTreeClassifier()\n",
    "dtc_model.fit(train_x, train_y)\n",
    "\n",
    "print(f\"The depth of decision tree is: {dtc_model.get_depth()}\")"
   ],
   "metadata": {
    "collapsed": false,
    "pycharm": {
     "name": "#%%\n"
    }
   }
  },
  {
   "cell_type": "code",
   "execution_count": 12,
   "outputs": [
    {
     "name": "stdout",
     "output_type": "stream",
     "text": [
      "Target on train data: [0 0 0 ... 1 2 1]\n"
     ]
    }
   ],
   "source": [
    "# Now predicting the values of the training dataset.\n",
    "\n",
    "dtc_predict_train = dtc_model.predict(train_x)\n",
    "print(f\"Target on train data: {dtc_predict_train}\")"
   ],
   "metadata": {
    "collapsed": false,
    "pycharm": {
     "name": "#%%\n"
    }
   }
  },
  {
   "cell_type": "code",
   "execution_count": 13,
   "outputs": [
    {
     "name": "stdout",
     "output_type": "stream",
     "text": [
      "Target on the test data: [0 0 0 ... 1 1 1]\n"
     ]
    }
   ],
   "source": [
    "# Now, predicting the values of the test dataset.\n",
    "dtc_predict_test = dtc_model.predict(test_x)\n",
    "print(f\"Target on the test data: {dtc_predict_test}\")"
   ],
   "metadata": {
    "collapsed": false,
    "pycharm": {
     "name": "#%%\n"
    }
   }
  },
  {
   "cell_type": "code",
   "execution_count": 14,
   "outputs": [
    {
     "name": "stdout",
     "output_type": "stream",
     "text": [
      "The Training accuracy is: 81.06507661624576%\n",
      "The Testing accuracy is: 45.173202039739756%\n"
     ]
    }
   ],
   "source": [
    "from sklearn.metrics import accuracy_score\n",
    "\n",
    "dtc_train_accuracy = accuracy_score(train_y, dtc_predict_train)\n",
    "print(f\"The Training accuracy is: {dtc_train_accuracy*100}%\")\n",
    "\n",
    "dtc_test_accuracy = accuracy_score(test_y, dtc_predict_test)\n",
    "print(f\"The Testing accuracy is: {dtc_test_accuracy*100}%\")"
   ],
   "metadata": {
    "collapsed": false,
    "pycharm": {
     "name": "#%%\n"
    }
   }
  },
  {
   "cell_type": "code",
   "execution_count": null,
   "outputs": [],
   "source": [
    "%%time\n",
    "\n",
    "# Now, lets try another classification model which is the\n",
    "# Support Vector Machine and check its accuracy.\n",
    "from sklearn.svm import SVC\n",
    "\n",
    "svc_model = SVC()\n",
    "svc_model.fit(train_x, train_y)"
   ],
   "metadata": {
    "collapsed": false,
    "pycharm": {
     "name": "#%%\n",
     "is_executing": true
    }
   }
  },
  {
   "cell_type": "code",
   "execution_count": null,
   "outputs": [],
   "source": [
    "%%time\n",
    "\n",
    "# Now, lets predict the Species on the train and test dataset.\n",
    "svc_predict_train = svc_model.predict(train_x)\n",
    "print(f\"Target on train data: {svc_predict_train}\")\n",
    "\n",
    "svc_predict_test = svc_model.predict(test_x)\n",
    "print(f\"Target on test data: {svc_predict_test}\")"
   ],
   "metadata": {
    "collapsed": false,
    "pycharm": {
     "name": "#%%\n",
     "is_executing": true
    }
   }
  },
  {
   "cell_type": "code",
   "execution_count": null,
   "outputs": [],
   "source": [
    "%%time\n",
    "\n",
    "# Finally, lets check the accuracy of the SVC module.\n",
    "\n",
    "svc_train_accuracy = accuracy_score(train_y, svc_predict_train)\n",
    "print(f\"The Training accuracy og SVC is: {svc_train_accuracy*100}%\")\n",
    "\n",
    "svc_test_accuracy = accuracy_score(train_x, svc_predict_test)\n",
    "print(f\"The Training accuracy og SVC is: {svc_test_accuracy*100}%\")"
   ],
   "metadata": {
    "collapsed": false,
    "pycharm": {
     "name": "#%%\n",
     "is_executing": true
    }
   }
  }
 ],
 "metadata": {
  "kernelspec": {
   "display_name": "Python 3",
   "language": "python",
   "name": "python3"
  },
  "language_info": {
   "codemirror_mode": {
    "name": "ipython",
    "version": 2
   },
   "file_extension": ".py",
   "mimetype": "text/x-python",
   "name": "python",
   "nbconvert_exporter": "python",
   "pygments_lexer": "ipython2",
   "version": "2.7.6"
  }
 },
 "nbformat": 4,
 "nbformat_minor": 0
}