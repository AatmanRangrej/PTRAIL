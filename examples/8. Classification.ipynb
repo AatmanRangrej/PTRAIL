{
 "cells": [
  {
   "cell_type": "code",
   "execution_count": 1,
   "metadata": {
    "collapsed": true
   },
   "outputs": [
    {
     "name": "stdout",
     "output_type": "stream",
     "text": [
      "Size of the Dataset: (287136, 15)\n"
     ]
    },
    {
     "data": {
      "text/plain": "                                     lat         lon  StarkeyTime    GMDate  \\\ntraj_id   DateTime                                                            \n880109D01 1995-04-13 13:40:06  45.239682 -118.533204    229902006  21:40:06   \n          1995-04-15 12:16:15  45.250521 -118.530438    230069775  20:16:15   \n          1995-04-15 21:39:38  45.247943 -118.541455    230103578  05:39:38   \n          1995-04-16 03:32:14  45.247429 -118.539530    230124734  11:32:14   \n          1995-04-16 04:08:28  45.247117 -118.542579    230126908  12:08:28   \n\n                                 GMTime   LocDate   LocTime  RadNum Species  \\\ntraj_id   DateTime                                                            \n880109D01 1995-04-13 13:40:06  19950413  19950413  13:40:06     409       D   \n          1995-04-15 12:16:15  19950415  19950415  12:16:15     409       D   \n          1995-04-15 21:39:38  19950416  19950415  21:39:38     409       D   \n          1995-04-16 03:32:14  19950416  19950416  03:32:14     409       D   \n          1995-04-16 04:08:28  19950416  19950416  04:08:28     409       D   \n\n                                 UTME     UTMN  Year  Grensunr  Grensuns  \\\ntraj_id   DateTime                                                         \n880109D01 1995-04-13 13:40:06  379662  5010734    95  13:13:00  02:39:00   \n          1995-04-15 12:16:15  379895  5011927    95  13:09:00  02:41:00   \n          1995-04-15 21:39:38  379039  5011656    95  13:07:00  02:43:00   \n          1995-04-16 03:32:14  379188  5011581    95  13:07:00  02:43:00   \n          1995-04-16 04:08:28  378938  5011567    95  13:07:00  02:43:00   \n\n                               Obswt  \ntraj_id   DateTime                    \n880109D01 1995-04-13 13:40:06   1.47  \n          1995-04-15 12:16:15   1.59  \n          1995-04-15 21:39:38   1.34  \n          1995-04-16 03:32:14   1.50  \n          1995-04-16 04:08:28   1.34  ",
      "text/html": "<div>\n<style scoped>\n    .dataframe tbody tr th:only-of-type {\n        vertical-align: middle;\n    }\n\n    .dataframe tbody tr th {\n        vertical-align: top;\n    }\n\n    .dataframe thead th {\n        text-align: right;\n    }\n</style>\n<table border=\"1\" class=\"dataframe\">\n  <thead>\n    <tr style=\"text-align: right;\">\n      <th></th>\n      <th></th>\n      <th>lat</th>\n      <th>lon</th>\n      <th>StarkeyTime</th>\n      <th>GMDate</th>\n      <th>GMTime</th>\n      <th>LocDate</th>\n      <th>LocTime</th>\n      <th>RadNum</th>\n      <th>Species</th>\n      <th>UTME</th>\n      <th>UTMN</th>\n      <th>Year</th>\n      <th>Grensunr</th>\n      <th>Grensuns</th>\n      <th>Obswt</th>\n    </tr>\n    <tr>\n      <th>traj_id</th>\n      <th>DateTime</th>\n      <th></th>\n      <th></th>\n      <th></th>\n      <th></th>\n      <th></th>\n      <th></th>\n      <th></th>\n      <th></th>\n      <th></th>\n      <th></th>\n      <th></th>\n      <th></th>\n      <th></th>\n      <th></th>\n      <th></th>\n    </tr>\n  </thead>\n  <tbody>\n    <tr>\n      <th rowspan=\"5\" valign=\"top\">880109D01</th>\n      <th>1995-04-13 13:40:06</th>\n      <td>45.239682</td>\n      <td>-118.533204</td>\n      <td>229902006</td>\n      <td>21:40:06</td>\n      <td>19950413</td>\n      <td>19950413</td>\n      <td>13:40:06</td>\n      <td>409</td>\n      <td>D</td>\n      <td>379662</td>\n      <td>5010734</td>\n      <td>95</td>\n      <td>13:13:00</td>\n      <td>02:39:00</td>\n      <td>1.47</td>\n    </tr>\n    <tr>\n      <th>1995-04-15 12:16:15</th>\n      <td>45.250521</td>\n      <td>-118.530438</td>\n      <td>230069775</td>\n      <td>20:16:15</td>\n      <td>19950415</td>\n      <td>19950415</td>\n      <td>12:16:15</td>\n      <td>409</td>\n      <td>D</td>\n      <td>379895</td>\n      <td>5011927</td>\n      <td>95</td>\n      <td>13:09:00</td>\n      <td>02:41:00</td>\n      <td>1.59</td>\n    </tr>\n    <tr>\n      <th>1995-04-15 21:39:38</th>\n      <td>45.247943</td>\n      <td>-118.541455</td>\n      <td>230103578</td>\n      <td>05:39:38</td>\n      <td>19950416</td>\n      <td>19950415</td>\n      <td>21:39:38</td>\n      <td>409</td>\n      <td>D</td>\n      <td>379039</td>\n      <td>5011656</td>\n      <td>95</td>\n      <td>13:07:00</td>\n      <td>02:43:00</td>\n      <td>1.34</td>\n    </tr>\n    <tr>\n      <th>1995-04-16 03:32:14</th>\n      <td>45.247429</td>\n      <td>-118.539530</td>\n      <td>230124734</td>\n      <td>11:32:14</td>\n      <td>19950416</td>\n      <td>19950416</td>\n      <td>03:32:14</td>\n      <td>409</td>\n      <td>D</td>\n      <td>379188</td>\n      <td>5011581</td>\n      <td>95</td>\n      <td>13:07:00</td>\n      <td>02:43:00</td>\n      <td>1.50</td>\n    </tr>\n    <tr>\n      <th>1995-04-16 04:08:28</th>\n      <td>45.247117</td>\n      <td>-118.542579</td>\n      <td>230126908</td>\n      <td>12:08:28</td>\n      <td>19950416</td>\n      <td>19950416</td>\n      <td>04:08:28</td>\n      <td>409</td>\n      <td>D</td>\n      <td>378938</td>\n      <td>5011567</td>\n      <td>95</td>\n      <td>13:07:00</td>\n      <td>02:43:00</td>\n      <td>1.34</td>\n    </tr>\n  </tbody>\n</table>\n</div>"
     },
     "execution_count": 1,
     "metadata": {},
     "output_type": "execute_result"
    }
   ],
   "source": [
    "import pandas as pd\n",
    "from Nummobility.core.TrajectoryDF import NumPandasTraj\n",
    "\n",
    "\"\"\"\n",
    "    First, to begin with the following actions ar performed:\n",
    "        1. Read the database from the csv file using pandas.\n",
    "        2. Convert the pandas dataframe to NumPandasTraj DataFrame\n",
    "           in order to represent the data with NumMobility.\n",
    "\n",
    "    It is to be duly noted that the Starkey Project database provided\n",
    "    originally has been modified here to meet with the needs of\n",
    "    NumMobility Library.\n",
    "\"\"\"\n",
    "pdf = pd.read_csv('./data/starkey.csv')\n",
    "starkey = NumPandasTraj(data_set=pdf,\n",
    "                        latitude='lat',\n",
    "                        longitude='lon',\n",
    "                        datetime='DateTime',\n",
    "                        traj_id='Id')\n",
    "print(\"Size of the Dataset: {}\".format(starkey.shape))\n",
    "starkey.head(5)\n"
   ]
  },
  {
   "cell_type": "code",
   "execution_count": 2,
   "outputs": [
    {
     "name": "stdout",
     "output_type": "stream",
     "text": [
      "CPU times: user 1.25 s, sys: 229 ms, total: 1.48 s\n",
      "Wall time: 1.86 s\n"
     ]
    },
    {
     "data": {
      "text/plain": "                                     lat         lon  StarkeyTime    GMDate  \\\ntraj_id   DateTime                                                            \n880109D01 1995-04-13 13:40:06  45.239682 -118.533204    229902006  21:40:06   \n          1995-04-15 12:16:15  45.250521 -118.530438    230069775  20:16:15   \n          1995-04-15 21:39:38  45.247943 -118.541455    230103578  05:39:38   \n          1995-04-16 03:32:14  45.247429 -118.539530    230124734  11:32:14   \n          1995-04-16 04:08:28  45.247117 -118.542579    230126908  12:08:28   \n\n                                 GMTime   LocDate   LocTime  RadNum Species  \\\ntraj_id   DateTime                                                            \n880109D01 1995-04-13 13:40:06  19950413  19950413  13:40:06     409       D   \n          1995-04-15 12:16:15  19950415  19950415  12:16:15     409       D   \n          1995-04-15 21:39:38  19950416  19950415  21:39:38     409       D   \n          1995-04-16 03:32:14  19950416  19950416  03:32:14     409       D   \n          1995-04-16 04:08:28  19950416  19950416  04:08:28     409       D   \n\n                                 UTME     UTMN  Year  Grensunr  Grensuns  \\\ntraj_id   DateTime                                                         \n880109D01 1995-04-13 13:40:06  379662  5010734    95  13:13:00  02:39:00   \n          1995-04-15 12:16:15  379895  5011927    95  13:09:00  02:41:00   \n          1995-04-15 21:39:38  379039  5011656    95  13:07:00  02:43:00   \n          1995-04-16 03:32:14  379188  5011581    95  13:07:00  02:43:00   \n          1995-04-16 04:08:28  378938  5011567    95  13:07:00  02:43:00   \n\n                               Obswt  Distance_prev_to_curr        Date  \ntraj_id   DateTime                                                       \n880109D01 1995-04-13 13:40:06   1.47                    NaN  1995-04-13  \n          1995-04-15 12:16:15   1.59            1224.551334  1995-04-15  \n          1995-04-15 21:39:38   1.34             908.878736  1995-04-15  \n          1995-04-16 03:32:14   1.50             161.204428  1995-04-16  \n          1995-04-16 04:08:28   1.34             241.258531  1995-04-16  ",
      "text/html": "<div>\n<style scoped>\n    .dataframe tbody tr th:only-of-type {\n        vertical-align: middle;\n    }\n\n    .dataframe tbody tr th {\n        vertical-align: top;\n    }\n\n    .dataframe thead th {\n        text-align: right;\n    }\n</style>\n<table border=\"1\" class=\"dataframe\">\n  <thead>\n    <tr style=\"text-align: right;\">\n      <th></th>\n      <th></th>\n      <th>lat</th>\n      <th>lon</th>\n      <th>StarkeyTime</th>\n      <th>GMDate</th>\n      <th>GMTime</th>\n      <th>LocDate</th>\n      <th>LocTime</th>\n      <th>RadNum</th>\n      <th>Species</th>\n      <th>UTME</th>\n      <th>UTMN</th>\n      <th>Year</th>\n      <th>Grensunr</th>\n      <th>Grensuns</th>\n      <th>Obswt</th>\n      <th>Distance_prev_to_curr</th>\n      <th>Date</th>\n    </tr>\n    <tr>\n      <th>traj_id</th>\n      <th>DateTime</th>\n      <th></th>\n      <th></th>\n      <th></th>\n      <th></th>\n      <th></th>\n      <th></th>\n      <th></th>\n      <th></th>\n      <th></th>\n      <th></th>\n      <th></th>\n      <th></th>\n      <th></th>\n      <th></th>\n      <th></th>\n      <th></th>\n      <th></th>\n    </tr>\n  </thead>\n  <tbody>\n    <tr>\n      <th rowspan=\"5\" valign=\"top\">880109D01</th>\n      <th>1995-04-13 13:40:06</th>\n      <td>45.239682</td>\n      <td>-118.533204</td>\n      <td>229902006</td>\n      <td>21:40:06</td>\n      <td>19950413</td>\n      <td>19950413</td>\n      <td>13:40:06</td>\n      <td>409</td>\n      <td>D</td>\n      <td>379662</td>\n      <td>5010734</td>\n      <td>95</td>\n      <td>13:13:00</td>\n      <td>02:39:00</td>\n      <td>1.47</td>\n      <td>NaN</td>\n      <td>1995-04-13</td>\n    </tr>\n    <tr>\n      <th>1995-04-15 12:16:15</th>\n      <td>45.250521</td>\n      <td>-118.530438</td>\n      <td>230069775</td>\n      <td>20:16:15</td>\n      <td>19950415</td>\n      <td>19950415</td>\n      <td>12:16:15</td>\n      <td>409</td>\n      <td>D</td>\n      <td>379895</td>\n      <td>5011927</td>\n      <td>95</td>\n      <td>13:09:00</td>\n      <td>02:41:00</td>\n      <td>1.59</td>\n      <td>1224.551334</td>\n      <td>1995-04-15</td>\n    </tr>\n    <tr>\n      <th>1995-04-15 21:39:38</th>\n      <td>45.247943</td>\n      <td>-118.541455</td>\n      <td>230103578</td>\n      <td>05:39:38</td>\n      <td>19950416</td>\n      <td>19950415</td>\n      <td>21:39:38</td>\n      <td>409</td>\n      <td>D</td>\n      <td>379039</td>\n      <td>5011656</td>\n      <td>95</td>\n      <td>13:07:00</td>\n      <td>02:43:00</td>\n      <td>1.34</td>\n      <td>908.878736</td>\n      <td>1995-04-15</td>\n    </tr>\n    <tr>\n      <th>1995-04-16 03:32:14</th>\n      <td>45.247429</td>\n      <td>-118.539530</td>\n      <td>230124734</td>\n      <td>11:32:14</td>\n      <td>19950416</td>\n      <td>19950416</td>\n      <td>03:32:14</td>\n      <td>409</td>\n      <td>D</td>\n      <td>379188</td>\n      <td>5011581</td>\n      <td>95</td>\n      <td>13:07:00</td>\n      <td>02:43:00</td>\n      <td>1.50</td>\n      <td>161.204428</td>\n      <td>1995-04-16</td>\n    </tr>\n    <tr>\n      <th>1995-04-16 04:08:28</th>\n      <td>45.247117</td>\n      <td>-118.542579</td>\n      <td>230126908</td>\n      <td>12:08:28</td>\n      <td>19950416</td>\n      <td>19950416</td>\n      <td>04:08:28</td>\n      <td>409</td>\n      <td>D</td>\n      <td>378938</td>\n      <td>5011567</td>\n      <td>95</td>\n      <td>13:07:00</td>\n      <td>02:43:00</td>\n      <td>1.34</td>\n      <td>241.258531</td>\n      <td>1995-04-16</td>\n    </tr>\n  </tbody>\n</table>\n</div>"
     },
     "execution_count": 2,
     "metadata": {},
     "output_type": "execute_result"
    }
   ],
   "source": [
    "%%time\n",
    "\n",
    "# Now, we import the spatial features from the NumMobility\n",
    "# library and generate several spatial features on the dataset.\n",
    "from Nummobility.features.spatial_features import SpatialFeatures\n",
    "from Nummobility.features.temporal_features import TemporalFeatures\n",
    "\n",
    "starkey = SpatialFeatures.create_distance_between_consecutive_column(starkey)\n",
    "starkey = TemporalFeatures.create_date_column(starkey)\n",
    "starkey.head()"
   ],
   "metadata": {
    "collapsed": false,
    "pycharm": {
     "name": "#%%\n"
    }
   }
  },
  {
   "cell_type": "code",
   "execution_count": 3,
   "outputs": [
    {
     "name": "stderr",
     "output_type": "stream",
     "text": [
      "/home/yjharanwala/Desktop/NumMobility/Nummobility/preprocessing/filters.py:749: UserWarning: If kinematic features have been generated on the dataframe, then make sure to generate them again as outlier detection drops the point from the dataframe and does not run the kinematic features again.\n",
      "  warnings.warn(\"If kinematic features have been generated on the dataframe, then make \"\n"
     ]
    },
    {
     "name": "stdout",
     "output_type": "stream",
     "text": [
      "Original DF length: 287136\n",
      "Filtered DF length: 262207\n",
      "CPU times: user 1.03 s, sys: 238 ms, total: 1.27 s\n",
      "Wall time: 24.1 s\n"
     ]
    }
   ],
   "source": [
    "%%time\n",
    "\n",
    "# Finally, lets run hampel filter on Distance between\n",
    "# consecutive points so as to clean up the data a little bit.\n",
    "\n",
    "from Nummobility.preprocessing.filters import Filters\n",
    "\n",
    "small_starkey = Filters.hampel_outlier_detection(starkey,\n",
    "                                                 'Distance_prev_to_curr')\n",
    "print(f\"Original DF length: {len(starkey)}\")\n",
    "print(f\"Filtered DF length: {len(small_starkey)}\")"
   ],
   "metadata": {
    "collapsed": false,
    "pycharm": {
     "name": "#%%\n"
    }
   }
  },
  {
   "cell_type": "code",
   "execution_count": 4,
   "outputs": [],
   "source": [
    "# # Here drop the points with the same trajectory ID and the\n",
    "# # same DateTime values are they are not allowed in Cubic\n",
    "# # interpolation since the times need to be strictly increasing.\n",
    "#\n",
    "# filtered_starkey = small_starkey.reset_index().drop_duplicates(subset=['DateTime', 'traj_id'], keep='first')\n",
    "# print(f\"Original DF length: {len(small_starkey)}\")\n",
    "# print(f\"Filtered DF length: {len(filtered_starkey)}\")"
   ],
   "metadata": {
    "collapsed": false,
    "pycharm": {
     "name": "#%%\n"
    }
   }
  },
  {
   "cell_type": "code",
   "execution_count": 5,
   "outputs": [],
   "source": [
    "# Now, lets split the dataset using. The size of the\n",
    "# training dataset is 70% of original dataset and the\n",
    "# rest is testing dataset.\n",
    "\n",
    "# Setting up the train database. Here, it is to be noted\n",
    "# that for the purpose of fitting in the classifier, only\n",
    "# the lat, lon, datetime, traj_id and Species columns are\n",
    "# used and other columns are not being considered for now.\n",
    "\n",
    "ids_ = list(small_starkey.traj_id.value_counts().keys())\n",
    "\n",
    "train_df = []\n",
    "for i in range(int(len(ids_) * 0.7)):\n",
    "    small = small_starkey.reset_index().loc[small_starkey.reset_index()['traj_id'] == ids_[i],\n",
    "    ['DateTime', 'traj_id', 'lat', 'lon', 'Species']]\n",
    "    train_df.append(small)\n",
    "\n",
    "np_train_starkey = NumPandasTraj(pd.concat(train_df),\n",
    "                                 latitude='lat',\n",
    "                                 longitude='lon',\n",
    "                                 datetime='DateTime',\n",
    "                                 traj_id='traj_id')"
   ],
   "metadata": {
    "collapsed": false,
    "pycharm": {
     "name": "#%%\n"
    }
   }
  },
  {
   "cell_type": "code",
   "execution_count": 6,
   "outputs": [],
   "source": [
    "# Setting up the test database. Here, it is to be noted\n",
    "# that for the purpose of fitting in the classifier, only\n",
    "# the lat, lon, datetime, traj_id and Species columns are\n",
    "# used and other columns are not being considered for now.\n",
    "\n",
    "test_df = []\n",
    "for i in range(int(len(ids_) * 0.7)+1, len(ids_)):\n",
    "    small = small_starkey.reset_index().loc[small_starkey.reset_index()['traj_id'] == ids_[i],\n",
    "    ['DateTime', 'traj_id', 'lat', 'lon', 'Species']]\n",
    "    test_df.append(small)\n",
    "\n",
    "np_test_starkey = NumPandasTraj(pd.concat(test_df),\n",
    "                                 latitude='lat',\n",
    "                                 longitude='lon',\n",
    "                                 datetime='DateTime',\n",
    "                                 traj_id='traj_id')"
   ],
   "metadata": {
    "collapsed": false,
    "pycharm": {
     "name": "#%%\n"
    }
   }
  },
  {
   "cell_type": "code",
   "execution_count": 7,
   "outputs": [
    {
     "data": {
      "text/plain": "                                     lat         lon  Species\ntraj_id   DateTime                                           \n880109D01 1995-04-13 13:40:06  45.239682 -118.533204        0\n          1995-04-16 03:32:14  45.247429 -118.539530        0\n          1995-04-16 04:08:28  45.247117 -118.542579        0\n          1995-04-16 05:30:40  45.246359 -118.538736        0\n          1995-04-16 06:03:39  45.246655 -118.536833        0",
      "text/html": "<div>\n<style scoped>\n    .dataframe tbody tr th:only-of-type {\n        vertical-align: middle;\n    }\n\n    .dataframe tbody tr th {\n        vertical-align: top;\n    }\n\n    .dataframe thead th {\n        text-align: right;\n    }\n</style>\n<table border=\"1\" class=\"dataframe\">\n  <thead>\n    <tr style=\"text-align: right;\">\n      <th></th>\n      <th></th>\n      <th>lat</th>\n      <th>lon</th>\n      <th>Species</th>\n    </tr>\n    <tr>\n      <th>traj_id</th>\n      <th>DateTime</th>\n      <th></th>\n      <th></th>\n      <th></th>\n    </tr>\n  </thead>\n  <tbody>\n    <tr>\n      <th rowspan=\"5\" valign=\"top\">880109D01</th>\n      <th>1995-04-13 13:40:06</th>\n      <td>45.239682</td>\n      <td>-118.533204</td>\n      <td>0</td>\n    </tr>\n    <tr>\n      <th>1995-04-16 03:32:14</th>\n      <td>45.247429</td>\n      <td>-118.539530</td>\n      <td>0</td>\n    </tr>\n    <tr>\n      <th>1995-04-16 04:08:28</th>\n      <td>45.247117</td>\n      <td>-118.542579</td>\n      <td>0</td>\n    </tr>\n    <tr>\n      <th>1995-04-16 05:30:40</th>\n      <td>45.246359</td>\n      <td>-118.538736</td>\n      <td>0</td>\n    </tr>\n    <tr>\n      <th>1995-04-16 06:03:39</th>\n      <td>45.246655</td>\n      <td>-118.536833</td>\n      <td>0</td>\n    </tr>\n  </tbody>\n</table>\n</div>"
     },
     "execution_count": 7,
     "metadata": {},
     "output_type": "execute_result"
    }
   ],
   "source": [
    "# Modifying the data of the Species column to indicate the\n",
    "# results as follows:\n",
    "#   D (Deer) : 0\n",
    "#   E (Elk): 1\n",
    "#   C (Cattle): 2\n",
    "\n",
    "# First, doing the above mentioned conversion for the test\n",
    "# dataset.\n",
    "int_test = []\n",
    "for i in range(len(np_test_starkey['Species'])):\n",
    "    if np_test_starkey['Species'].iloc[i] == 'D':\n",
    "        int_test.append(0)\n",
    "    elif np_test_starkey['Species'].iloc[i] == 'E':\n",
    "        int_test.append(1)\n",
    "    else:\n",
    "        int_test.append(2)\n",
    "np_test_starkey['Species'] = int_test\n",
    "np_test_starkey.head()"
   ],
   "metadata": {
    "collapsed": false,
    "pycharm": {
     "name": "#%%\n"
    }
   }
  },
  {
   "cell_type": "code",
   "execution_count": 8,
   "outputs": [
    {
     "data": {
      "text/plain": "                                     lat         lon  Species\ntraj_id   DateTime                                           \n880119D02 1993-05-18 14:04:36  45.245158 -118.527618        0\n          1993-05-18 14:41:26  45.244873 -118.528757        0\n          1993-05-18 15:17:29  45.245148 -118.528382        0\n          1993-05-18 15:54:58  45.243803 -118.527964        0\n          1993-05-18 17:05:50  45.243814 -118.527199        0",
      "text/html": "<div>\n<style scoped>\n    .dataframe tbody tr th:only-of-type {\n        vertical-align: middle;\n    }\n\n    .dataframe tbody tr th {\n        vertical-align: top;\n    }\n\n    .dataframe thead th {\n        text-align: right;\n    }\n</style>\n<table border=\"1\" class=\"dataframe\">\n  <thead>\n    <tr style=\"text-align: right;\">\n      <th></th>\n      <th></th>\n      <th>lat</th>\n      <th>lon</th>\n      <th>Species</th>\n    </tr>\n    <tr>\n      <th>traj_id</th>\n      <th>DateTime</th>\n      <th></th>\n      <th></th>\n      <th></th>\n    </tr>\n  </thead>\n  <tbody>\n    <tr>\n      <th rowspan=\"5\" valign=\"top\">880119D02</th>\n      <th>1993-05-18 14:04:36</th>\n      <td>45.245158</td>\n      <td>-118.527618</td>\n      <td>0</td>\n    </tr>\n    <tr>\n      <th>1993-05-18 14:41:26</th>\n      <td>45.244873</td>\n      <td>-118.528757</td>\n      <td>0</td>\n    </tr>\n    <tr>\n      <th>1993-05-18 15:17:29</th>\n      <td>45.245148</td>\n      <td>-118.528382</td>\n      <td>0</td>\n    </tr>\n    <tr>\n      <th>1993-05-18 15:54:58</th>\n      <td>45.243803</td>\n      <td>-118.527964</td>\n      <td>0</td>\n    </tr>\n    <tr>\n      <th>1993-05-18 17:05:50</th>\n      <td>45.243814</td>\n      <td>-118.527199</td>\n      <td>0</td>\n    </tr>\n  </tbody>\n</table>\n</div>"
     },
     "execution_count": 8,
     "metadata": {},
     "output_type": "execute_result"
    }
   ],
   "source": [
    "# Now, doing the conversion for the train dataset.\n",
    "int_train = []\n",
    "for i in range(len(np_train_starkey['Species'])):\n",
    "    if np_train_starkey['Species'].iloc[i] == 'D':\n",
    "        int_train.append(0)\n",
    "    elif np_train_starkey['Species'].iloc[i] == 'E':\n",
    "        int_train.append(1)\n",
    "    else:\n",
    "        int_train.append(2)\n",
    "np_train_starkey['Species'] = int_train\n",
    "np_train_starkey.head()"
   ],
   "metadata": {
    "collapsed": false,
    "pycharm": {
     "name": "#%%\n"
    }
   }
  },
  {
   "cell_type": "code",
   "execution_count": 9,
   "outputs": [],
   "source": [
    "## Getting the training x and y ready for the DecisionTree.\n",
    "train_x = np_train_starkey.drop(columns=['Species'])\n",
    "train_y = np_train_starkey.reset_index()['Species']"
   ],
   "metadata": {
    "collapsed": false,
    "pycharm": {
     "name": "#%%\n"
    }
   }
  },
  {
   "cell_type": "code",
   "execution_count": 10,
   "outputs": [],
   "source": [
    "# Getting the testing x and y ready for the DecisionTree.\n",
    "test_x = np_test_starkey.drop(columns=['Species'])\n",
    "test_y = np_test_starkey.reset_index()['Species']"
   ],
   "metadata": {
    "collapsed": false,
    "pycharm": {
     "name": "#%%\n"
    }
   }
  },
  {
   "cell_type": "code",
   "execution_count": 11,
   "outputs": [
    {
     "name": "stdout",
     "output_type": "stream",
     "text": [
      "The depth of decision tree is: 40\n"
     ]
    }
   ],
   "source": [
    "# Now, setting up the DecisionTree model from the scikit-learn\n",
    "# library. Here, we are trying to see if we can predict the\n",
    "# Distance_prev_to_curr.\n",
    "\n",
    "from sklearn.tree import DecisionTreeClassifier\n",
    "\n",
    "dtc_model = DecisionTreeClassifier()\n",
    "dtc_model.fit(train_x, train_y)\n",
    "\n",
    "print(f\"The depth of decision tree is: {dtc_model.get_depth()}\")"
   ],
   "metadata": {
    "collapsed": false,
    "pycharm": {
     "name": "#%%\n"
    }
   }
  },
  {
   "cell_type": "code",
   "execution_count": 12,
   "outputs": [
    {
     "name": "stdout",
     "output_type": "stream",
     "text": [
      "Target on train data: [0 0 0 ... 0 2 2]\n"
     ]
    }
   ],
   "source": [
    "# Now predicting the values of the training dataset.\n",
    "\n",
    "dtc_predict_train = dtc_model.predict(train_x)\n",
    "print(f\"Target on train data: {dtc_predict_train}\")"
   ],
   "metadata": {
    "collapsed": false,
    "pycharm": {
     "name": "#%%\n"
    }
   }
  },
  {
   "cell_type": "code",
   "execution_count": 13,
   "outputs": [
    {
     "name": "stdout",
     "output_type": "stream",
     "text": [
      "Target on the test data: [0 1 1 ... 1 2 1]\n"
     ]
    }
   ],
   "source": [
    "# Now, predicting the values of the test dataset.\n",
    "dtc_predict_test = dtc_model.predict(test_x)\n",
    "print(f\"Target on the test data: {dtc_predict_test}\")"
   ],
   "metadata": {
    "collapsed": false,
    "pycharm": {
     "name": "#%%\n"
    }
   }
  },
  {
   "cell_type": "code",
   "execution_count": 14,
   "outputs": [
    {
     "name": "stdout",
     "output_type": "stream",
     "text": [
      "The Training accuracy is: 81.21551923224962%\n",
      "The Testing accuracy is: 46.40501675856849%\n"
     ]
    }
   ],
   "source": [
    "from sklearn.metrics import accuracy_score\n",
    "\n",
    "dtc_train_accuracy = accuracy_score(train_y, dtc_predict_train)\n",
    "print(f\"The Training accuracy is: {dtc_train_accuracy*100}%\")\n",
    "\n",
    "dtc_test_accuracy = accuracy_score(test_y, dtc_predict_test)\n",
    "print(f\"The Testing accuracy is: {dtc_test_accuracy*100}%\")"
   ],
   "metadata": {
    "collapsed": false,
    "pycharm": {
     "name": "#%%\n"
    }
   }
  },
  {
   "cell_type": "code",
   "execution_count": 15,
   "outputs": [
    {
     "name": "stdout",
     "output_type": "stream",
     "text": [
      "CPU times: user 3 µs, sys: 0 ns, total: 3 µs\n",
      "Wall time: 6.44 µs\n"
     ]
    }
   ],
   "source": [
    "%%time\n",
    "\n",
    "# Now, lets try another classification model which is the\n",
    "# Support Vector Machine and check its accuracy.\n",
    "# from sklearn.svm import SVC\n",
    "#\n",
    "# svc_model = SVC()\n",
    "# svc_model.fit(train_x, train_y)\n",
    "#"
   ],
   "metadata": {
    "collapsed": false,
    "pycharm": {
     "name": "#%%\n"
    }
   }
  },
  {
   "cell_type": "code",
   "execution_count": 16,
   "outputs": [],
   "source": [
    "# %%time\n",
    "#\n",
    "# # Now, lets predict the Species on the train and test dataset.\n",
    "# svc_predict_train = svc_model.predict(train_x)\n",
    "# print(f\"Target on train data: {svc_predict_train}\")\n",
    "#\n",
    "# svc_predict_test = svc_model.predict(test_x)\n",
    "# print(f\"Target on test data: {svc_predict_test}\")\n",
    "#"
   ],
   "metadata": {
    "collapsed": false,
    "pycharm": {
     "name": "#%%\n"
    }
   }
  },
  {
   "cell_type": "code",
   "execution_count": 17,
   "outputs": [],
   "source": [
    "# # Finally, lets check the accuracy of the SVC module.\n",
    "# svc_train_accuracy = accuracy_score(train_y, svc_predict_train)\n",
    "# print(f\"The Training accuracy og SVC is: {svc_train_accuracy*100}%\")\n",
    "#\n",
    "# svc_test_accuracy = accuracy_score(test_y, svc_predict_test)\n",
    "# print(f\"The Training accuracy og SVC is: {svc_test_accuracy*100}%\")"
   ],
   "metadata": {
    "collapsed": false,
    "pycharm": {
     "name": "#%%\n"
    }
   }
  },
  {
   "cell_type": "code",
   "execution_count": 18,
   "outputs": [
    {
     "name": "stdout",
     "output_type": "stream",
     "text": [
      "CPU times: user 36.4 ms, sys: 3.89 ms, total: 40.3 ms\n",
      "Wall time: 39.7 ms\n"
     ]
    },
    {
     "data": {
      "text/plain": "GaussianNB()"
     },
     "execution_count": 18,
     "metadata": {},
     "output_type": "execute_result"
    }
   ],
   "source": [
    "%%time\n",
    "# Now, lets try the same classification with the Naive\n",
    "# Bayes algorithm. Repeat the same steps:\n",
    "#   1. Setup the model and train it.\n",
    "#   2. Try to predict on the Training dataset.\n",
    "#   3. Try to predict on the Testing dataset.\n",
    "#   4. Measure accuracy for both.\n",
    "\n",
    "from sklearn.naive_bayes import GaussianNB\n",
    "\n",
    "nb_model = GaussianNB()\n",
    "nb_model.fit(train_x, train_y)"
   ],
   "metadata": {
    "collapsed": false,
    "pycharm": {
     "name": "#%%\n"
    }
   }
  },
  {
   "cell_type": "code",
   "execution_count": 19,
   "outputs": [
    {
     "name": "stdout",
     "output_type": "stream",
     "text": [
      "Target on train data: [0 0 0 ... 0 0 0]\n",
      "Target on test data: [1 1 1 ... 1 1 1]\n",
      "CPU times: user 26.7 ms, sys: 0 ns, total: 26.7 ms\n",
      "Wall time: 25.1 ms\n"
     ]
    }
   ],
   "source": [
    "%%time\n",
    "\n",
    "# Now, lets predict the Species on the train and test dataset.\n",
    "nb_predict_train = nb_model.predict(train_x)\n",
    "print(f\"Target on train data: {nb_predict_train}\")\n",
    "\n",
    "nb_predict_test = nb_model.predict(test_x)\n",
    "print(f\"Target on test data: {nb_predict_test}\")"
   ],
   "metadata": {
    "collapsed": false,
    "pycharm": {
     "name": "#%%\n"
    }
   }
  },
  {
   "cell_type": "code",
   "execution_count": 20,
   "outputs": [
    {
     "name": "stdout",
     "output_type": "stream",
     "text": [
      "The Training accuracy of NB is: 61.56329920539204%\n",
      "The Testing accuracy of NB is: 30.6699823404332%\n"
     ]
    }
   ],
   "source": [
    "# Finally, lets check the accuracy of the SVC module.\n",
    "nb_train_accuracy = accuracy_score(train_y, nb_predict_train)\n",
    "print(f\"The Training accuracy of NB is: {nb_train_accuracy*100}%\")\n",
    "\n",
    "nb_test_accuracy = accuracy_score(test_y, nb_predict_test)\n",
    "print(f\"The Testing accuracy of NB is: {nb_test_accuracy*100}%\")"
   ],
   "metadata": {
    "collapsed": false,
    "pycharm": {
     "name": "#%%\n"
    }
   }
  },
  {
   "cell_type": "code",
   "execution_count": 21,
   "outputs": [
    {
     "name": "stdout",
     "output_type": "stream",
     "text": [
      "CPU times: user 154 ms, sys: 28 µs, total: 154 ms\n",
      "Wall time: 152 ms\n"
     ]
    },
    {
     "data": {
      "text/plain": "KNeighborsClassifier(n_neighbors=75)"
     },
     "execution_count": 21,
     "metadata": {},
     "output_type": "execute_result"
    }
   ],
   "source": [
    "%%time\n",
    "# Now, lets try the same classification with K Nearest\n",
    "# Neighbors algorithm. Repeat the same steps:\n",
    "#   1. Setup the model and train it.\n",
    "#   2. Try to predict on the Training dataset.\n",
    "#   3. Try to predict on the Testing dataset.\n",
    "#   4. Measure accuracy for both.\n",
    "\n",
    "from sklearn.neighbors import KNeighborsClassifier\n",
    "\n",
    "knn_model = KNeighborsClassifier(n_neighbors=75)\n",
    "knn_model.fit(train_x, train_y)"
   ],
   "metadata": {
    "collapsed": false,
    "pycharm": {
     "name": "#%%\n"
    }
   }
  },
  {
   "cell_type": "code",
   "execution_count": 22,
   "outputs": [
    {
     "name": "stdout",
     "output_type": "stream",
     "text": [
      "Target on train data: [0 0 0 ... 0 2 0]\n",
      "Target on test data: [0 1 1 ... 1 2 1]\n",
      "CPU times: user 11.2 s, sys: 116 ms, total: 11.4 s\n",
      "Wall time: 11.4 s\n"
     ]
    }
   ],
   "source": [
    "%%time\n",
    "\n",
    "# Now, lets predict the Species on the train and test dataset.\n",
    "knn_predict_train = knn_model.predict(train_x)\n",
    "print(f\"Target on train data: {knn_predict_train}\")\n",
    "\n",
    "knn_predict_test = knn_model.predict(test_x)\n",
    "print(f\"Target on test data: {knn_predict_test}\")"
   ],
   "metadata": {
    "collapsed": false,
    "pycharm": {
     "name": "#%%\n"
    }
   }
  },
  {
   "cell_type": "code",
   "execution_count": 23,
   "outputs": [
    {
     "name": "stdout",
     "output_type": "stream",
     "text": [
      "The Training accuracy of KNN is: 74.74446810876464%\n",
      "The Testing accuracy of KNN is: 47.81417810934516%\n"
     ]
    }
   ],
   "source": [
    "# Finally, lets check the accuracy of the SVC module.\n",
    "knn_train_accuracy = accuracy_score(train_y, knn_predict_train)\n",
    "print(f\"The Training accuracy of KNN is: {knn_train_accuracy*100}%\")\n",
    "\n",
    "knn_test_accuracy = accuracy_score(test_y, knn_predict_test)\n",
    "print(f\"The Testing accuracy of KNN is: {knn_test_accuracy*100}%\")"
   ],
   "metadata": {
    "collapsed": false,
    "pycharm": {
     "name": "#%%\n"
    }
   }
  },
  {
   "cell_type": "code",
   "execution_count": 24,
   "outputs": [
    {
     "name": "stdout",
     "output_type": "stream",
     "text": [
      "CPU times: user 11 s, sys: 195 ms, total: 11.2 s\n",
      "Wall time: 1.02 s\n"
     ]
    },
    {
     "data": {
      "text/plain": "KMeans(n_clusters=3)"
     },
     "execution_count": 24,
     "metadata": {},
     "output_type": "execute_result"
    }
   ],
   "source": [
    "%%time\n",
    "# Now, lets try the same classification with K means\n",
    "# clustering algorithm. Repeat the same steps:\n",
    "#   1. Setup the model and train it.\n",
    "#   2. Try to predict on the Training dataset.\n",
    "#   3. Try to predict on the Testing dataset.\n",
    "#   4. Measure accuracy for both.\n",
    "\n",
    "from sklearn.cluster import KMeans\n",
    "\n",
    "km_model = KMeans(n_clusters=3)\n",
    "km_model.fit(train_x, train_y)"
   ],
   "metadata": {
    "collapsed": false,
    "pycharm": {
     "name": "#%%\n"
    }
   }
  },
  {
   "cell_type": "code",
   "execution_count": 25,
   "outputs": [
    {
     "name": "stdout",
     "output_type": "stream",
     "text": [
      "Target on train data: [2 2 2 ... 2 2 2]\n",
      "Target on test data: [2 2 2 ... 2 2 2]\n",
      "CPU times: user 124 ms, sys: 11.9 ms, total: 136 ms\n",
      "Wall time: 11.7 ms\n"
     ]
    }
   ],
   "source": [
    "%%time\n",
    "\n",
    "# Now, lets predict the Species on the train and test dataset.\n",
    "km_predict_train = km_model.predict(train_x)\n",
    "print(f\"Target on train data: {km_predict_train}\")\n",
    "\n",
    "km_predict_test = km_model.predict(test_x)\n",
    "print(f\"Target on test data: {km_predict_test}\")"
   ],
   "metadata": {
    "collapsed": false,
    "pycharm": {
     "name": "#%%\n"
    }
   }
  },
  {
   "cell_type": "code",
   "execution_count": 26,
   "outputs": [
    {
     "name": "stdout",
     "output_type": "stream",
     "text": [
      "The Training accuracy of KM is: 32.97623018825965%\n",
      "The Testing accuracy of KM is: 47.81417810934516%\n"
     ]
    }
   ],
   "source": [
    "# Finally, lets check the accuracy of the SVC module.\n",
    "km_train_accuracy = accuracy_score(train_y, km_predict_train)\n",
    "print(f\"The Training accuracy of KM is: {km_train_accuracy*100}%\")\n",
    "\n",
    "km_test_accuracy = accuracy_score(test_y, knn_predict_test)\n",
    "print(f\"The Testing accuracy of KM is: {km_test_accuracy*100}%\")"
   ],
   "metadata": {
    "collapsed": false,
    "pycharm": {
     "name": "#%%\n"
    }
   }
  },
  {
   "cell_type": "code",
   "execution_count": 27,
   "outputs": [
    {
     "name": "stdout",
     "output_type": "stream",
     "text": [
      "CPU times: user 31 s, sys: 200 ms, total: 31.2 s\n",
      "Wall time: 29.2 s\n"
     ]
    },
    {
     "data": {
      "text/plain": "RandomForestClassifier()"
     },
     "execution_count": 27,
     "metadata": {},
     "output_type": "execute_result"
    }
   ],
   "source": [
    "%%time\n",
    "# Finally, lets try the same classification with Random\n",
    "# Forests Classification algorithm. Repeat the same steps:\n",
    "#   1. Setup the model and train it.\n",
    "#   2. Try to predict on the Training dataset.\n",
    "#   3. Try to predict on the Testing dataset.\n",
    "#   4. Measure accuracy for both.\n",
    "\n",
    "from sklearn.ensemble import RandomForestClassifier\n",
    "\n",
    "rf_model = RandomForestClassifier()\n",
    "rf_model.fit(train_x, train_y)"
   ],
   "metadata": {
    "collapsed": false,
    "pycharm": {
     "name": "#%%\n"
    }
   }
  },
  {
   "cell_type": "code",
   "execution_count": 28,
   "outputs": [
    {
     "name": "stdout",
     "output_type": "stream",
     "text": [
      "Target on train data: [0 0 0 ... 0 2 2]\n",
      "Target on test data: [0 1 1 ... 1 2 1]\n",
      "CPU times: user 4.09 s, sys: 4.03 ms, total: 4.1 s\n",
      "Wall time: 4.1 s\n"
     ]
    }
   ],
   "source": [
    "%%time\n",
    "\n",
    "# Now, lets predict the Species on the train and test dataset.\n",
    "rf_predict_train = rf_model.predict(train_x)\n",
    "print(f\"Target on train data: {rf_predict_train}\")\n",
    "\n",
    "rf_predict_test = rf_model.predict(test_x)\n",
    "print(f\"Target on test data: {rf_predict_test}\")"
   ],
   "metadata": {
    "collapsed": false,
    "pycharm": {
     "name": "#%%\n"
    }
   }
  },
  {
   "cell_type": "code",
   "execution_count": 29,
   "outputs": [
    {
     "name": "stdout",
     "output_type": "stream",
     "text": [
      "The Training accuracy of RF is: 74.74446810876464%\n",
      "The Testing accuracy of RF is: 48.93141600893791%\n"
     ]
    }
   ],
   "source": [
    "# Finally, lets check the accuracy of the SVC module.\n",
    "rf_train_accuracy = accuracy_score(train_y, rf_predict_train)\n",
    "print(f\"The Training accuracy of RF is: {knn_train_accuracy*100}%\")\n",
    "\n",
    "rf_test_accuracy = accuracy_score(test_y, rf_predict_test)\n",
    "print(f\"The Testing accuracy of RF is: {rf_test_accuracy*100}%\")"
   ],
   "metadata": {
    "collapsed": false,
    "pycharm": {
     "name": "#%%\n"
    }
   }
  },
  {
   "cell_type": "code",
   "execution_count": 29,
   "outputs": [],
   "source": [],
   "metadata": {
    "collapsed": false,
    "pycharm": {
     "name": "#%%\n"
    }
   }
  }
 ],
 "metadata": {
  "kernelspec": {
   "display_name": "Python 3",
   "language": "python",
   "name": "python3"
  },
  "language_info": {
   "codemirror_mode": {
    "name": "ipython",
    "version": 2
   },
   "file_extension": ".py",
   "mimetype": "text/x-python",
   "name": "python",
   "nbconvert_exporter": "python",
   "pygments_lexer": "ipython2",
   "version": "2.7.6"
  }
 },
 "nbformat": 4,
 "nbformat_minor": 0
}