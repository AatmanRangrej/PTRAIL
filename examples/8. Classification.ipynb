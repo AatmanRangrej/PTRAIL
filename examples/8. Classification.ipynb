{
 "cells": [
  {
   "cell_type": "code",
   "execution_count": 1,
   "metadata": {
    "collapsed": true
   },
   "outputs": [
    {
     "data": {
      "text/plain": "                                     lat         lon  StarkeyTime    GMDate  \\\ntraj_id   DateTime                                                            \n880109D01 1970-01-01 00:04:17  45.238700 -118.525916    230803457  08:04:17   \n          1970-01-01 00:24:02  45.241063 -118.530948    230286242  08:24:02   \n          1970-01-01 00:33:08  45.249747 -118.527741    230545988  08:33:08   \n          1970-01-01 00:33:51  45.238440 -118.525144    230978031  08:33:51   \n          1970-01-01 00:36:53  45.254177 -118.539712    230632613  08:36:53   \n\n                                 GMTime   LocDate   LocTime  RadNum Species  \\\ntraj_id   DateTime                                                            \n880109D01 1970-01-01 00:04:17  19950424  19950424  00:04:17     409       D   \n          1970-01-01 00:24:02  19950418  19950418  00:24:02     409       D   \n          1970-01-01 00:33:08  19950421  19950421  00:33:08     409       D   \n          1970-01-01 00:33:51  19950426  19950426  00:33:51     409       D   \n          1970-01-01 00:36:53  19950422  19950422  00:36:53     409       D   \n\n                                 UTME     UTMN  Year  Grensunr  Grensuns  \\\ntraj_id   DateTime                                                         \n880109D01 1970-01-01 00:04:17  380220  5010606    95  12:54:00  02:53:00   \n          1970-01-01 00:24:02  379854  5010865    95  13:04:00  02:45:00   \n          1970-01-01 00:33:08  380122  5011840    95  12:59:00  02:49:00   \n          1970-01-01 00:33:51  380293  5010559    95  12:50:00  02:56:00   \n          1970-01-01 00:36:53  379191  5012351    95  12:57:00  02:50:00   \n\n                               Obswt  \ntraj_id   DateTime                    \n880109D01 1970-01-01 00:04:17   1.42  \n          1970-01-01 00:24:02   1.43  \n          1970-01-01 00:33:08   1.66  \n          1970-01-01 00:33:51   1.42  \n          1970-01-01 00:36:53   1.48  ",
      "text/html": "<div>\n<style scoped>\n    .dataframe tbody tr th:only-of-type {\n        vertical-align: middle;\n    }\n\n    .dataframe tbody tr th {\n        vertical-align: top;\n    }\n\n    .dataframe thead th {\n        text-align: right;\n    }\n</style>\n<table border=\"1\" class=\"dataframe\">\n  <thead>\n    <tr style=\"text-align: right;\">\n      <th></th>\n      <th></th>\n      <th>lat</th>\n      <th>lon</th>\n      <th>StarkeyTime</th>\n      <th>GMDate</th>\n      <th>GMTime</th>\n      <th>LocDate</th>\n      <th>LocTime</th>\n      <th>RadNum</th>\n      <th>Species</th>\n      <th>UTME</th>\n      <th>UTMN</th>\n      <th>Year</th>\n      <th>Grensunr</th>\n      <th>Grensuns</th>\n      <th>Obswt</th>\n    </tr>\n    <tr>\n      <th>traj_id</th>\n      <th>DateTime</th>\n      <th></th>\n      <th></th>\n      <th></th>\n      <th></th>\n      <th></th>\n      <th></th>\n      <th></th>\n      <th></th>\n      <th></th>\n      <th></th>\n      <th></th>\n      <th></th>\n      <th></th>\n      <th></th>\n      <th></th>\n    </tr>\n  </thead>\n  <tbody>\n    <tr>\n      <th rowspan=\"5\" valign=\"top\">880109D01</th>\n      <th>1970-01-01 00:04:17</th>\n      <td>45.238700</td>\n      <td>-118.525916</td>\n      <td>230803457</td>\n      <td>08:04:17</td>\n      <td>19950424</td>\n      <td>19950424</td>\n      <td>00:04:17</td>\n      <td>409</td>\n      <td>D</td>\n      <td>380220</td>\n      <td>5010606</td>\n      <td>95</td>\n      <td>12:54:00</td>\n      <td>02:53:00</td>\n      <td>1.42</td>\n    </tr>\n    <tr>\n      <th>1970-01-01 00:24:02</th>\n      <td>45.241063</td>\n      <td>-118.530948</td>\n      <td>230286242</td>\n      <td>08:24:02</td>\n      <td>19950418</td>\n      <td>19950418</td>\n      <td>00:24:02</td>\n      <td>409</td>\n      <td>D</td>\n      <td>379854</td>\n      <td>5010865</td>\n      <td>95</td>\n      <td>13:04:00</td>\n      <td>02:45:00</td>\n      <td>1.43</td>\n    </tr>\n    <tr>\n      <th>1970-01-01 00:33:08</th>\n      <td>45.249747</td>\n      <td>-118.527741</td>\n      <td>230545988</td>\n      <td>08:33:08</td>\n      <td>19950421</td>\n      <td>19950421</td>\n      <td>00:33:08</td>\n      <td>409</td>\n      <td>D</td>\n      <td>380122</td>\n      <td>5011840</td>\n      <td>95</td>\n      <td>12:59:00</td>\n      <td>02:49:00</td>\n      <td>1.66</td>\n    </tr>\n    <tr>\n      <th>1970-01-01 00:33:51</th>\n      <td>45.238440</td>\n      <td>-118.525144</td>\n      <td>230978031</td>\n      <td>08:33:51</td>\n      <td>19950426</td>\n      <td>19950426</td>\n      <td>00:33:51</td>\n      <td>409</td>\n      <td>D</td>\n      <td>380293</td>\n      <td>5010559</td>\n      <td>95</td>\n      <td>12:50:00</td>\n      <td>02:56:00</td>\n      <td>1.42</td>\n    </tr>\n    <tr>\n      <th>1970-01-01 00:36:53</th>\n      <td>45.254177</td>\n      <td>-118.539712</td>\n      <td>230632613</td>\n      <td>08:36:53</td>\n      <td>19950422</td>\n      <td>19950422</td>\n      <td>00:36:53</td>\n      <td>409</td>\n      <td>D</td>\n      <td>379191</td>\n      <td>5012351</td>\n      <td>95</td>\n      <td>12:57:00</td>\n      <td>02:50:00</td>\n      <td>1.48</td>\n    </tr>\n  </tbody>\n</table>\n</div>"
     },
     "execution_count": 1,
     "metadata": {},
     "output_type": "execute_result"
    }
   ],
   "source": [
    "import pandas as pd\n",
    "from nummobility.core.TrajectoryDF import NumPandasTraj\n",
    "\n",
    "pdf = pd.read_csv('./data/starkey.csv')\n",
    "starkey = NumPandasTraj(data_set=pdf,\n",
    "                        latitude='lat',\n",
    "                        longitude='lon',\n",
    "                        datetime='DateTime',\n",
    "                        traj_id='Id')\n",
    "starkey.head(5)"
   ]
  },
  {
   "cell_type": "code",
   "execution_count": 1,
   "outputs": [],
   "source": [],
   "metadata": {
    "collapsed": false,
    "pycharm": {
     "name": "#%%\n"
    }
   }
  }
 ],
 "metadata": {
  "kernelspec": {
   "display_name": "Python 3",
   "language": "python",
   "name": "python3"
  },
  "language_info": {
   "codemirror_mode": {
    "name": "ipython",
    "version": 2
   },
   "file_extension": ".py",
   "mimetype": "text/x-python",
   "name": "python",
   "nbconvert_exporter": "python",
   "pygments_lexer": "ipython2",
   "version": "2.7.6"
  }
 },
 "nbformat": 4,
 "nbformat_minor": 0
}