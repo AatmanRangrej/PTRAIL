{
 "cells": [
  {
   "cell_type": "code",
   "execution_count": 1,
   "metadata": {
    "collapsed": true
   },
   "outputs": [],
   "source": [
    "import pymove as pm\n",
    "import pandas as pd\n",
    "from core.TrajectoryDF import NumPandasTraj as TrajDF\n",
    "from features.spatial_features import SpatialFeatures as spatial\n",
    "from utilities.conversions import Conversions as con"
   ]
  },
  {
   "cell_type": "code",
   "execution_count": 2,
   "outputs": [],
   "source": [
    "atlantic = pd.read_csv('./data/atlantic.csv')\n",
    "atlantic = con.convert_directions_to_degree_lat_lon(atlantic, 'Latitude',\"Longitude\")\n",
    "def convert_to_datetime(row):\n",
    "        this_date = '{}-{}-{}'.format(str(row['Date'])[0:4], str(row['Date'])[4:6], str(row['Date'])[6:])\n",
    "        this_time = '{:02d}:{:02d}:00'.format(int(row['Time']/100), int(str(row['Time'])[-2:]))\n",
    "        return '{} {}'.format(this_date, this_time)\n",
    "atlantic['DateTime'] = atlantic.apply(convert_to_datetime, axis=1)\n",
    "\n",
    "gulls = pd.read_csv('./data/gulls.csv')\n",
    "\n",
    "geolife = pd.read_csv('./data/geolife_sample.csv')"
   ],
   "metadata": {
    "collapsed": false,
    "pycharm": {
     "name": "#%%\n"
    }
   }
  },
  {
   "cell_type": "code",
   "execution_count": 3,
   "outputs": [
    {
     "name": "stdout",
     "output_type": "stream",
     "text": [
      "CPU times: user 505 ms, sys: 24.1 ms, total: 529 ms\n",
      "Wall time: 527 ms\n"
     ]
    }
   ],
   "source": [
    "%%time\n",
    "\n",
    "np_atlantic = TrajDF(atlantic,\n",
    "                         latitude='Latitude',\n",
    "                         longitude='Longitude',\n",
    "                         datetime='DateTime',\n",
    "                         traj_id='ID',\n",
    "                         rest_of_columns=[])\n",
    "\n",
    "np_gulls = TrajDF(gulls,\n",
    "                 latitude='location-lat',\n",
    "                 longitude='location-long',\n",
    "                 datetime='timestamp',\n",
    "                 traj_id='tag-local-identifier',\n",
    "                 rest_of_columns=[])\n",
    "\n",
    "np_geolife = TrajDF(geolife,latitude='lat',\n",
    "                     longitude='lon',\n",
    "                     datetime='datetime',\n",
    "                     traj_id='id')\n"
   ],
   "metadata": {
    "collapsed": false,
    "pycharm": {
     "name": "#%%\n"
    }
   }
  },
  {
   "cell_type": "code",
   "execution_count": 4,
   "outputs": [
    {
     "name": "stdout",
     "output_type": "stream",
     "text": [
      "CPU times: user 95.2 ms, sys: 7.63 ms, total: 103 ms\n",
      "Wall time: 101 ms\n"
     ]
    }
   ],
   "source": [
    "%%time\n",
    "\n",
    "pm_atlantic = pm.MoveDataFrame(atlantic,\n",
    "                         latitude='Latitude',\n",
    "                         longitude='Longitude',\n",
    "                         datetime='DateTime',\n",
    "                         traj_id='ID')\n",
    "\n",
    "pm_gulls = pm.MoveDataFrame(gulls,\n",
    "                 latitude='location-lat',\n",
    "                 longitude='location-long',\n",
    "                 datetime='timestamp',\n",
    "                 traj_id='tag-local-identifier')\n",
    "\n",
    "pm_geolife = pm.MoveDataFrame(geolife,\n",
    "                              latitude='lat',\n",
    "                              longitude='lon',\n",
    "                              datetime='datetime',\n",
    "                              traj_id='id')"
   ],
   "metadata": {
    "collapsed": false,
    "pycharm": {
     "name": "#%%\n"
    }
   }
  },
  {
   "cell_type": "code",
   "execution_count": 5,
   "outputs": [],
   "source": [
    "# %%time\n",
    "#\n",
    "# small_one = spatial.create_distance_between_consecutive_column(np_atlantic)\n",
    "# small_one = spatial.create_distance_from_start_column(small_one)\n",
    "# small_one.head()\n",
    "#\n",
    "#"
   ],
   "metadata": {
    "collapsed": false,
    "pycharm": {
     "name": "#%%\n"
    }
   }
  },
  {
   "cell_type": "code",
   "execution_count": 6,
   "outputs": [],
   "source": [
    "# %%time\n",
    "#\n",
    "# pm_atlantic.generate_dist_features()\n",
    "# pm_atlantic.set_index(['id'], drop=True, inplace=True)\n",
    "# pm_atlantic.head()\n",
    "#\n",
    "#"
   ],
   "metadata": {
    "collapsed": false,
    "pycharm": {
     "name": "#%%\n"
    }
   }
  },
  {
   "cell_type": "code",
   "execution_count": 7,
   "outputs": [],
   "source": [
    "# %%time\n",
    "#\n",
    "# small_two = spatial.create_distance_between_consecutive_column(np_gulls)\n",
    "# small_two = spatial.create_distance_from_start_column(small_two)\n",
    "# small_two.head()\n"
   ],
   "metadata": {
    "collapsed": false,
    "pycharm": {
     "name": "#%%\n"
    }
   }
  },
  {
   "cell_type": "code",
   "execution_count": 8,
   "outputs": [],
   "source": [
    "# %%time\n",
    "#\n",
    "# pm_gulls.generate_dist_features()\n",
    "# pm_gulls.set_index(['id'], drop=True, inplace=True)\n",
    "# pm_gulls.head()\n",
    "#\n",
    "#"
   ],
   "metadata": {
    "collapsed": false,
    "pycharm": {
     "name": "#%%\n"
    }
   }
  },
  {
   "cell_type": "code",
   "execution_count": 9,
   "outputs": [],
   "source": [
    "# %%time\n",
    "#\n",
    "# small_three = spatial.create_distance_between_consecutive_column(np_geolife)\n",
    "# small_three = spatial.create_distance_from_start_column(small_three)\n",
    "# small_three.head()\n",
    "#\n",
    "#"
   ],
   "metadata": {
    "collapsed": false,
    "pycharm": {
     "name": "#%%\n"
    }
   }
  },
  {
   "cell_type": "code",
   "execution_count": 10,
   "outputs": [],
   "source": [
    "# %%time\n",
    "#\n",
    "# pm_geolife.generate_dist_features()\n",
    "# pm_geolife.set_index(['id'], inplace=True, drop=True)\n",
    "# pm_geolife.head()"
   ],
   "metadata": {
    "collapsed": false,
    "pycharm": {
     "name": "#%%\n"
    }
   }
  },
  {
   "cell_type": "code",
   "execution_count": 11,
   "outputs": [
    {
     "name": "stdout",
     "output_type": "stream",
     "text": [
      "CPU times: user 5 µs, sys: 1e+03 ns, total: 6 µs\n",
      "Wall time: 7.87 µs\n"
     ]
    }
   ],
   "source": [
    "%%time\n",
    "\n",
    "from features.helper_functions import Helpers as help\n",
    "\n",
    "# b1 = spatial.create_rate_of_bearing_rate_column(np_gulls)\n",
    "# b1.head()\n"
   ],
   "metadata": {
    "collapsed": false,
    "pycharm": {
     "name": "#%%\n"
    }
   }
  },
  {
   "cell_type": "code",
   "execution_count": 14,
   "outputs": [
    {
     "data": {
      "text/plain": "         Trajectory Duration\ntraj_id                     \nAL011851     3 days 00:00:00\nAL011852    11 days 00:00:00\nAL011853     0 days 00:00:00\nAL011854     2 days 12:00:00\nAL011855     0 days 00:00:00\n...                      ...\nAL282005     8 days 00:00:00\nAL291969     4 days 00:00:00\nAL292005    10 days 06:00:00\nAL302005    10 days 12:00:00\nAL312005     8 days 18:00:00\n\n[1814 rows x 1 columns]",
      "text/html": "<div>\n<style scoped>\n    .dataframe tbody tr th:only-of-type {\n        vertical-align: middle;\n    }\n\n    .dataframe tbody tr th {\n        vertical-align: top;\n    }\n\n    .dataframe thead th {\n        text-align: right;\n    }\n</style>\n<table border=\"1\" class=\"dataframe\">\n  <thead>\n    <tr style=\"text-align: right;\">\n      <th></th>\n      <th>Trajectory Duration</th>\n    </tr>\n    <tr>\n      <th>traj_id</th>\n      <th></th>\n    </tr>\n  </thead>\n  <tbody>\n    <tr>\n      <th>AL011851</th>\n      <td>3 days 00:00:00</td>\n    </tr>\n    <tr>\n      <th>AL011852</th>\n      <td>11 days 00:00:00</td>\n    </tr>\n    <tr>\n      <th>AL011853</th>\n      <td>0 days 00:00:00</td>\n    </tr>\n    <tr>\n      <th>AL011854</th>\n      <td>2 days 12:00:00</td>\n    </tr>\n    <tr>\n      <th>AL011855</th>\n      <td>0 days 00:00:00</td>\n    </tr>\n    <tr>\n      <th>...</th>\n      <td>...</td>\n    </tr>\n    <tr>\n      <th>AL282005</th>\n      <td>8 days 00:00:00</td>\n    </tr>\n    <tr>\n      <th>AL291969</th>\n      <td>4 days 00:00:00</td>\n    </tr>\n    <tr>\n      <th>AL292005</th>\n      <td>10 days 06:00:00</td>\n    </tr>\n    <tr>\n      <th>AL302005</th>\n      <td>10 days 12:00:00</td>\n    </tr>\n    <tr>\n      <th>AL312005</th>\n      <td>8 days 18:00:00</td>\n    </tr>\n  </tbody>\n</table>\n<p>1814 rows × 1 columns</p>\n</div>"
     },
     "execution_count": 14,
     "metadata": {},
     "output_type": "execute_result"
    }
   ],
   "source": [
    "from features.temporal_features import TemporalFeatures as temporal\n",
    "\n",
    "t1 = temporal.get_traj_duration(np_atlantic)\n",
    "t1"
   ],
   "metadata": {
    "collapsed": false,
    "pycharm": {
     "name": "#%%\n"
    }
   }
  },
  {
   "cell_type": "code",
   "execution_count": null,
   "outputs": [],
   "source": [],
   "metadata": {
    "collapsed": false,
    "pycharm": {
     "name": "#%%\n"
    }
   }
  }
 ],
 "metadata": {
  "kernelspec": {
   "display_name": "Python 3",
   "language": "python",
   "name": "python3"
  },
  "language_info": {
   "codemirror_mode": {
    "name": "ipython",
    "version": 2
   },
   "file_extension": ".py",
   "mimetype": "text/x-python",
   "name": "python",
   "nbconvert_exporter": "python",
   "pygments_lexer": "ipython2",
   "version": "2.7.6"
  }
 },
 "nbformat": 4,
 "nbformat_minor": 0
}