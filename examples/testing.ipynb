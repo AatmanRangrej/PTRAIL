{
 "cells": [
  {
   "cell_type": "code",
   "execution_count": 1,
   "metadata": {},
   "outputs": [],
   "source": [
    "import numpy as np\n",
    "\n",
    "import utilities.constants as const\n",
    "from core.TrajectoryDF import NumPandasTraj as NumTrajDF\n",
    "from features.spatial_features import SpatialFeatures as spatial\n",
    "from features.temporal_features import TemporalFeatures as temporal\n",
    "from utilities.conversions import Conversions as con\n",
    "from preprocessing.filters import Filters as filters\n",
    "from utilities.DistanceCalculator import DistanceFormulaLog as calc\n",
    "from features.helper_functions import Helpers as helpers\n",
    "\n",
    "import pandas as pd\n",
    "import time\n",
    "np.seterr(invalid='ignore')\n",
    "start = time.time()"
   ]
  },
  {
   "cell_type": "code",
   "execution_count": 2,
   "outputs": [
    {
     "data": {
      "text/plain": "                                             Name       Date Event Status  \\\nDateTime            traj_id                                                 \n1851-07-05 12:00:00 AL021851              UNNAMED 1851-07-05           HU   \n1851-07-10 12:00:00 AL031851              UNNAMED 1851-07-10           TS   \n1853-08-05 12:00:00 AL011853              UNNAMED 1853-08-05           TS   \n1853-08-10 12:00:00 AL021853              UNNAMED 1853-08-10           TS   \n1853-09-21 12:00:00 AL051853              UNNAMED 1853-09-21           TS   \n\n                               lat   lon  Maximum Wind  Minimum Pressure  \\\nDateTime            traj_id                                                \n1851-07-05 12:00:00 AL021851  22.2 -97.6            80              -999   \n1851-07-10 12:00:00 AL031851  12.0 -60.0            50              -999   \n1853-08-05 12:00:00 AL011853  32.5 -69.0            50              -999   \n1853-08-10 12:00:00 AL021853  12.0 -60.0            40              -999   \n1853-09-21 12:00:00 AL051853  20.0 -95.0            50              -999   \n\n                              Low Wind NE  Low Wind SE  Low Wind SW  \\\nDateTime            traj_id                                           \n1851-07-05 12:00:00 AL021851         -999         -999         -999   \n1851-07-10 12:00:00 AL031851         -999         -999         -999   \n1853-08-05 12:00:00 AL011853         -999         -999         -999   \n1853-08-10 12:00:00 AL021853         -999         -999         -999   \n1853-09-21 12:00:00 AL051853         -999         -999         -999   \n\n                              Low Wind NW  Moderate Wind NE  Moderate Wind SE  \\\nDateTime            traj_id                                                     \n1851-07-05 12:00:00 AL021851         -999              -999              -999   \n1851-07-10 12:00:00 AL031851         -999              -999              -999   \n1853-08-05 12:00:00 AL011853         -999              -999              -999   \n1853-08-10 12:00:00 AL021853         -999              -999              -999   \n1853-09-21 12:00:00 AL051853         -999              -999              -999   \n\n                              Moderate Wind SW  Moderate Wind NW  \\\nDateTime            traj_id                                        \n1851-07-05 12:00:00 AL021851              -999              -999   \n1851-07-10 12:00:00 AL031851              -999              -999   \n1853-08-05 12:00:00 AL011853              -999              -999   \n1853-08-10 12:00:00 AL021853              -999              -999   \n1853-09-21 12:00:00 AL051853              -999              -999   \n\n                              High Wind NE  High Wind SE  High Wind SW  \\\nDateTime            traj_id                                              \n1851-07-05 12:00:00 AL021851          -999          -999          -999   \n1851-07-10 12:00:00 AL031851          -999          -999          -999   \n1853-08-05 12:00:00 AL011853          -999          -999          -999   \n1853-08-10 12:00:00 AL021853          -999          -999          -999   \n1853-09-21 12:00:00 AL051853          -999          -999          -999   \n\n                              High Wind NW  \nDateTime            traj_id                 \n1851-07-05 12:00:00 AL021851          -999  \n1851-07-10 12:00:00 AL031851          -999  \n1853-08-05 12:00:00 AL011853          -999  \n1853-08-10 12:00:00 AL021853          -999  \n1853-09-21 12:00:00 AL051853          -999  ",
      "text/html": "<div>\n<style scoped>\n    .dataframe tbody tr th:only-of-type {\n        vertical-align: middle;\n    }\n\n    .dataframe tbody tr th {\n        vertical-align: top;\n    }\n\n    .dataframe thead th {\n        text-align: right;\n    }\n</style>\n<table border=\"1\" class=\"dataframe\">\n  <thead>\n    <tr style=\"text-align: right;\">\n      <th></th>\n      <th></th>\n      <th>Name</th>\n      <th>Date</th>\n      <th>Event</th>\n      <th>Status</th>\n      <th>lat</th>\n      <th>lon</th>\n      <th>Maximum Wind</th>\n      <th>Minimum Pressure</th>\n      <th>Low Wind NE</th>\n      <th>Low Wind SE</th>\n      <th>Low Wind SW</th>\n      <th>Low Wind NW</th>\n      <th>Moderate Wind NE</th>\n      <th>Moderate Wind SE</th>\n      <th>Moderate Wind SW</th>\n      <th>Moderate Wind NW</th>\n      <th>High Wind NE</th>\n      <th>High Wind SE</th>\n      <th>High Wind SW</th>\n      <th>High Wind NW</th>\n    </tr>\n    <tr>\n      <th>DateTime</th>\n      <th>traj_id</th>\n      <th></th>\n      <th></th>\n      <th></th>\n      <th></th>\n      <th></th>\n      <th></th>\n      <th></th>\n      <th></th>\n      <th></th>\n      <th></th>\n      <th></th>\n      <th></th>\n      <th></th>\n      <th></th>\n      <th></th>\n      <th></th>\n      <th></th>\n      <th></th>\n      <th></th>\n      <th></th>\n    </tr>\n  </thead>\n  <tbody>\n    <tr>\n      <th>1851-07-05 12:00:00</th>\n      <th>AL021851</th>\n      <td>UNNAMED</td>\n      <td>1851-07-05</td>\n      <td></td>\n      <td>HU</td>\n      <td>22.2</td>\n      <td>-97.6</td>\n      <td>80</td>\n      <td>-999</td>\n      <td>-999</td>\n      <td>-999</td>\n      <td>-999</td>\n      <td>-999</td>\n      <td>-999</td>\n      <td>-999</td>\n      <td>-999</td>\n      <td>-999</td>\n      <td>-999</td>\n      <td>-999</td>\n      <td>-999</td>\n      <td>-999</td>\n    </tr>\n    <tr>\n      <th>1851-07-10 12:00:00</th>\n      <th>AL031851</th>\n      <td>UNNAMED</td>\n      <td>1851-07-10</td>\n      <td></td>\n      <td>TS</td>\n      <td>12.0</td>\n      <td>-60.0</td>\n      <td>50</td>\n      <td>-999</td>\n      <td>-999</td>\n      <td>-999</td>\n      <td>-999</td>\n      <td>-999</td>\n      <td>-999</td>\n      <td>-999</td>\n      <td>-999</td>\n      <td>-999</td>\n      <td>-999</td>\n      <td>-999</td>\n      <td>-999</td>\n      <td>-999</td>\n    </tr>\n    <tr>\n      <th>1853-08-05 12:00:00</th>\n      <th>AL011853</th>\n      <td>UNNAMED</td>\n      <td>1853-08-05</td>\n      <td></td>\n      <td>TS</td>\n      <td>32.5</td>\n      <td>-69.0</td>\n      <td>50</td>\n      <td>-999</td>\n      <td>-999</td>\n      <td>-999</td>\n      <td>-999</td>\n      <td>-999</td>\n      <td>-999</td>\n      <td>-999</td>\n      <td>-999</td>\n      <td>-999</td>\n      <td>-999</td>\n      <td>-999</td>\n      <td>-999</td>\n      <td>-999</td>\n    </tr>\n    <tr>\n      <th>1853-08-10 12:00:00</th>\n      <th>AL021853</th>\n      <td>UNNAMED</td>\n      <td>1853-08-10</td>\n      <td></td>\n      <td>TS</td>\n      <td>12.0</td>\n      <td>-60.0</td>\n      <td>40</td>\n      <td>-999</td>\n      <td>-999</td>\n      <td>-999</td>\n      <td>-999</td>\n      <td>-999</td>\n      <td>-999</td>\n      <td>-999</td>\n      <td>-999</td>\n      <td>-999</td>\n      <td>-999</td>\n      <td>-999</td>\n      <td>-999</td>\n      <td>-999</td>\n    </tr>\n    <tr>\n      <th>1853-09-21 12:00:00</th>\n      <th>AL051853</th>\n      <td>UNNAMED</td>\n      <td>1853-09-21</td>\n      <td></td>\n      <td>TS</td>\n      <td>20.0</td>\n      <td>-95.0</td>\n      <td>50</td>\n      <td>-999</td>\n      <td>-999</td>\n      <td>-999</td>\n      <td>-999</td>\n      <td>-999</td>\n      <td>-999</td>\n      <td>-999</td>\n      <td>-999</td>\n      <td>-999</td>\n      <td>-999</td>\n      <td>-999</td>\n      <td>-999</td>\n      <td>-999</td>\n    </tr>\n  </tbody>\n</table>\n</div>"
     },
     "execution_count": 2,
     "metadata": {},
     "output_type": "execute_result"
    }
   ],
   "source": [
    "# %%time\n",
    "#\n",
    "# Reading the geolife dataset and converting to NumPandasTraj.\n",
    "geolife = pd.read_csv('./data/geolife_sample.csv')\n",
    "geolife = NumTrajDF(geolife,'lat','lon','datetime','id')\n",
    "#\n",
    "# Reading the gulls dataset and converting to NumPandasTraj.\n",
    "gulls = pd.read_csv('./data/gulls.csv')\n",
    "gulls = NumTrajDF(gulls,\n",
    "                 latitude='location-lat',\n",
    "                 longitude='location-long',\n",
    "                 datetime='timestamp',\n",
    "                 traj_id='tag-local-identifier',\n",
    "                 rest_of_columns=[])\n",
    "\n",
    "\n",
    "# Reading the atlantic dataset, cleaning it up and\n",
    "# then converting it to NumPandasTraj.\n",
    "atlantic = pd.read_csv('./data/atlantic.csv')\n",
    "atlantic = con.convert_directions_to_degree_lat_lon(atlantic, 'Latitude',\"Longitude\")\n",
    "def convert_to_datetime(row):\n",
    "        this_date = '{}-{}-{}'.format(str(row['Date'])[0:4], str(row['Date'])[4:6], str(row['Date'])[6:])\n",
    "        this_time = '{:02d}:{:02d}:00'.format(int(row['Time']/100), int(str(row['Time'])[-2:]))\n",
    "        return '{} {}'.format(this_date, this_time)\n",
    "atlantic['DateTime'] = atlantic.apply(convert_to_datetime, axis=1)\n",
    "atlantic = NumTrajDF(atlantic,\n",
    "                         latitude='Latitude',\n",
    "                         longitude='Longitude',\n",
    "                         datetime='DateTime',\n",
    "                         traj_id='ID',\n",
    "                         rest_of_columns=[])\n",
    "atlantic = atlantic.drop(columns='Time')\n",
    "atlantic = temporal.create_date_column(atlantic)\n",
    "atlantic.head()"
   ],
   "metadata": {
    "collapsed": false,
    "pycharm": {
     "name": "#%%\n"
    }
   }
  },
  {
   "cell_type": "code",
   "execution_count": 3,
   "outputs": [
    {
     "data": {
      "text/plain": "(38.100678394081264, 114.84275815636957, 39.89932160591873, 117.15724184363044)"
     },
     "execution_count": 3,
     "metadata": {},
     "output_type": "execute_result"
    }
   ],
   "source": [
    "# %%time\n",
    "\n",
    "#Now, let create a bounding box of 100 km radius from the\n",
    "#coordinates 39, 116.\n",
    "\n",
    "bbox = filters.get_bounding_box_by_radius(39, 116, 100000)\n",
    "bbox"
   ],
   "metadata": {
    "collapsed": false,
    "pycharm": {
     "name": "#%%\n"
    }
   }
  },
  {
   "cell_type": "code",
   "execution_count": 4,
   "outputs": [
    {
     "name": "stdout",
     "output_type": "stream",
     "text": [
      "Length of atlantic: 49105\n",
      "Length of small: 46909\n"
     ]
    }
   ],
   "source": [
    "# Now, lets filter the trajectory based on date. We will\n",
    "# try all the possible combinations for the filtering.\n",
    "\n",
    "small = filters.filter_by_date(atlantic, start_date='1851-06-25',end_date='2011-01-01')\n",
    "print(f\"Length of atlantic: {len(atlantic)}\")\n",
    "print(f\"Length of small: {len(small)}\")"
   ],
   "metadata": {
    "collapsed": false,
    "pycharm": {
     "name": "#%%\n"
    }
   }
  },
  {
   "cell_type": "code",
   "execution_count": 5,
   "outputs": [
    {
     "name": "stdout",
     "output_type": "stream",
     "text": [
      "Length of atlantic: 49105\n",
      "Length of tiny: 46536\n"
     ]
    },
    {
     "data": {
      "text/plain": "                                             Name       Date Event Status  \\\nDateTime            traj_id                                                 \n1851-07-05 12:00:00 AL021851              UNNAMED 1851-07-05           HU   \n1851-07-10 12:00:00 AL031851              UNNAMED 1851-07-10           TS   \n1853-08-05 12:00:00 AL011853              UNNAMED 1853-08-05           TS   \n1853-08-10 12:00:00 AL021853              UNNAMED 1853-08-10           TS   \n1853-09-21 12:00:00 AL051853              UNNAMED 1853-09-21           TS   \n\n                               lat   lon  Maximum Wind  Minimum Pressure  \\\nDateTime            traj_id                                                \n1851-07-05 12:00:00 AL021851  22.2 -97.6            80              -999   \n1851-07-10 12:00:00 AL031851  12.0 -60.0            50              -999   \n1853-08-05 12:00:00 AL011853  32.5 -69.0            50              -999   \n1853-08-10 12:00:00 AL021853  12.0 -60.0            40              -999   \n1853-09-21 12:00:00 AL051853  20.0 -95.0            50              -999   \n\n                              Low Wind NE  Low Wind SE  Low Wind SW  \\\nDateTime            traj_id                                           \n1851-07-05 12:00:00 AL021851         -999         -999         -999   \n1851-07-10 12:00:00 AL031851         -999         -999         -999   \n1853-08-05 12:00:00 AL011853         -999         -999         -999   \n1853-08-10 12:00:00 AL021853         -999         -999         -999   \n1853-09-21 12:00:00 AL051853         -999         -999         -999   \n\n                              Low Wind NW  Moderate Wind NE  Moderate Wind SE  \\\nDateTime            traj_id                                                     \n1851-07-05 12:00:00 AL021851         -999              -999              -999   \n1851-07-10 12:00:00 AL031851         -999              -999              -999   \n1853-08-05 12:00:00 AL011853         -999              -999              -999   \n1853-08-10 12:00:00 AL021853         -999              -999              -999   \n1853-09-21 12:00:00 AL051853         -999              -999              -999   \n\n                              Moderate Wind SW  Moderate Wind NW  \\\nDateTime            traj_id                                        \n1851-07-05 12:00:00 AL021851              -999              -999   \n1851-07-10 12:00:00 AL031851              -999              -999   \n1853-08-05 12:00:00 AL011853              -999              -999   \n1853-08-10 12:00:00 AL021853              -999              -999   \n1853-09-21 12:00:00 AL051853              -999              -999   \n\n                              High Wind NE  High Wind SE  High Wind SW  \\\nDateTime            traj_id                                              \n1851-07-05 12:00:00 AL021851          -999          -999          -999   \n1851-07-10 12:00:00 AL031851          -999          -999          -999   \n1853-08-05 12:00:00 AL011853          -999          -999          -999   \n1853-08-10 12:00:00 AL021853          -999          -999          -999   \n1853-09-21 12:00:00 AL051853          -999          -999          -999   \n\n                              High Wind NW  \nDateTime            traj_id                 \n1851-07-05 12:00:00 AL021851          -999  \n1851-07-10 12:00:00 AL031851          -999  \n1853-08-05 12:00:00 AL011853          -999  \n1853-08-10 12:00:00 AL021853          -999  \n1853-09-21 12:00:00 AL051853          -999  ",
      "text/html": "<div>\n<style scoped>\n    .dataframe tbody tr th:only-of-type {\n        vertical-align: middle;\n    }\n\n    .dataframe tbody tr th {\n        vertical-align: top;\n    }\n\n    .dataframe thead th {\n        text-align: right;\n    }\n</style>\n<table border=\"1\" class=\"dataframe\">\n  <thead>\n    <tr style=\"text-align: right;\">\n      <th></th>\n      <th></th>\n      <th>Name</th>\n      <th>Date</th>\n      <th>Event</th>\n      <th>Status</th>\n      <th>lat</th>\n      <th>lon</th>\n      <th>Maximum Wind</th>\n      <th>Minimum Pressure</th>\n      <th>Low Wind NE</th>\n      <th>Low Wind SE</th>\n      <th>Low Wind SW</th>\n      <th>Low Wind NW</th>\n      <th>Moderate Wind NE</th>\n      <th>Moderate Wind SE</th>\n      <th>Moderate Wind SW</th>\n      <th>Moderate Wind NW</th>\n      <th>High Wind NE</th>\n      <th>High Wind SE</th>\n      <th>High Wind SW</th>\n      <th>High Wind NW</th>\n    </tr>\n    <tr>\n      <th>DateTime</th>\n      <th>traj_id</th>\n      <th></th>\n      <th></th>\n      <th></th>\n      <th></th>\n      <th></th>\n      <th></th>\n      <th></th>\n      <th></th>\n      <th></th>\n      <th></th>\n      <th></th>\n      <th></th>\n      <th></th>\n      <th></th>\n      <th></th>\n      <th></th>\n      <th></th>\n      <th></th>\n      <th></th>\n      <th></th>\n    </tr>\n  </thead>\n  <tbody>\n    <tr>\n      <th>1851-07-05 12:00:00</th>\n      <th>AL021851</th>\n      <td>UNNAMED</td>\n      <td>1851-07-05</td>\n      <td></td>\n      <td>HU</td>\n      <td>22.2</td>\n      <td>-97.6</td>\n      <td>80</td>\n      <td>-999</td>\n      <td>-999</td>\n      <td>-999</td>\n      <td>-999</td>\n      <td>-999</td>\n      <td>-999</td>\n      <td>-999</td>\n      <td>-999</td>\n      <td>-999</td>\n      <td>-999</td>\n      <td>-999</td>\n      <td>-999</td>\n      <td>-999</td>\n    </tr>\n    <tr>\n      <th>1851-07-10 12:00:00</th>\n      <th>AL031851</th>\n      <td>UNNAMED</td>\n      <td>1851-07-10</td>\n      <td></td>\n      <td>TS</td>\n      <td>12.0</td>\n      <td>-60.0</td>\n      <td>50</td>\n      <td>-999</td>\n      <td>-999</td>\n      <td>-999</td>\n      <td>-999</td>\n      <td>-999</td>\n      <td>-999</td>\n      <td>-999</td>\n      <td>-999</td>\n      <td>-999</td>\n      <td>-999</td>\n      <td>-999</td>\n      <td>-999</td>\n      <td>-999</td>\n    </tr>\n    <tr>\n      <th>1853-08-05 12:00:00</th>\n      <th>AL011853</th>\n      <td>UNNAMED</td>\n      <td>1853-08-05</td>\n      <td></td>\n      <td>TS</td>\n      <td>32.5</td>\n      <td>-69.0</td>\n      <td>50</td>\n      <td>-999</td>\n      <td>-999</td>\n      <td>-999</td>\n      <td>-999</td>\n      <td>-999</td>\n      <td>-999</td>\n      <td>-999</td>\n      <td>-999</td>\n      <td>-999</td>\n      <td>-999</td>\n      <td>-999</td>\n      <td>-999</td>\n      <td>-999</td>\n    </tr>\n    <tr>\n      <th>1853-08-10 12:00:00</th>\n      <th>AL021853</th>\n      <td>UNNAMED</td>\n      <td>1853-08-10</td>\n      <td></td>\n      <td>TS</td>\n      <td>12.0</td>\n      <td>-60.0</td>\n      <td>40</td>\n      <td>-999</td>\n      <td>-999</td>\n      <td>-999</td>\n      <td>-999</td>\n      <td>-999</td>\n      <td>-999</td>\n      <td>-999</td>\n      <td>-999</td>\n      <td>-999</td>\n      <td>-999</td>\n      <td>-999</td>\n      <td>-999</td>\n      <td>-999</td>\n    </tr>\n    <tr>\n      <th>1853-09-21 12:00:00</th>\n      <th>AL051853</th>\n      <td>UNNAMED</td>\n      <td>1853-09-21</td>\n      <td></td>\n      <td>TS</td>\n      <td>20.0</td>\n      <td>-95.0</td>\n      <td>50</td>\n      <td>-999</td>\n      <td>-999</td>\n      <td>-999</td>\n      <td>-999</td>\n      <td>-999</td>\n      <td>-999</td>\n      <td>-999</td>\n      <td>-999</td>\n      <td>-999</td>\n      <td>-999</td>\n      <td>-999</td>\n      <td>-999</td>\n      <td>-999</td>\n    </tr>\n  </tbody>\n</table>\n</div>"
     },
     "execution_count": 5,
     "metadata": {},
     "output_type": "execute_result"
    }
   ],
   "source": [
    "# Now, lets filter the trajectory based on datetime. We will\n",
    "# try all the possible cases one by one.\n",
    "\n",
    "tiny = filters.filter_by_datetime(atlantic, start_dateTime='1859-09-21 23:00:00' ,\n",
    "                                  end_dateTime='2011-09-21 23:00:00')\n",
    "print(f\"Length of atlantic: {len(atlantic)}\")\n",
    "print(f\"Length of tiny: {len(tiny)}\")\n",
    "atlantic.head()"
   ],
   "metadata": {
    "collapsed": false,
    "pycharm": {
     "name": "#%%\n"
    }
   }
  },
  {
   "cell_type": "code",
   "execution_count": 6,
   "outputs": [
    {
     "name": "stdout",
     "output_type": "stream",
     "text": [
      "Length of atlantic: 49105\n",
      "Length of speed_filt_df: 41356\n"
     ]
    },
    {
     "data": {
      "text/plain": "                                             Name       Date Event Status  \\\nDateTime            traj_id                                                 \n1851-07-05 12:00:00 AL021851              UNNAMED 1851-07-05           HU   \n1851-07-10 12:00:00 AL031851              UNNAMED 1851-07-10           TS   \n1853-08-05 12:00:00 AL011853              UNNAMED 1853-08-05           TS   \n1853-08-10 12:00:00 AL021853              UNNAMED 1853-08-10           TS   \n1853-09-21 12:00:00 AL051853              UNNAMED 1853-09-21           TS   \n\n                               lat   lon  Maximum Wind  Minimum Pressure  \\\nDateTime            traj_id                                                \n1851-07-05 12:00:00 AL021851  22.2 -97.6            80              -999   \n1851-07-10 12:00:00 AL031851  12.0 -60.0            50              -999   \n1853-08-05 12:00:00 AL011853  32.5 -69.0            50              -999   \n1853-08-10 12:00:00 AL021853  12.0 -60.0            40              -999   \n1853-09-21 12:00:00 AL051853  20.0 -95.0            50              -999   \n\n                              Low Wind NE  Low Wind SE  ...  Moderate Wind NE  \\\nDateTime            traj_id                             ...                     \n1851-07-05 12:00:00 AL021851         -999         -999  ...              -999   \n1851-07-10 12:00:00 AL031851         -999         -999  ...              -999   \n1853-08-05 12:00:00 AL011853         -999         -999  ...              -999   \n1853-08-10 12:00:00 AL021853         -999         -999  ...              -999   \n1853-09-21 12:00:00 AL051853         -999         -999  ...              -999   \n\n                              Moderate Wind SE  Moderate Wind SW  \\\nDateTime            traj_id                                        \n1851-07-05 12:00:00 AL021851              -999              -999   \n1851-07-10 12:00:00 AL031851              -999              -999   \n1853-08-05 12:00:00 AL011853              -999              -999   \n1853-08-10 12:00:00 AL021853              -999              -999   \n1853-09-21 12:00:00 AL051853              -999              -999   \n\n                              Moderate Wind NW  High Wind NE  High Wind SE  \\\nDateTime            traj_id                                                  \n1851-07-05 12:00:00 AL021851              -999          -999          -999   \n1851-07-10 12:00:00 AL031851              -999          -999          -999   \n1853-08-05 12:00:00 AL011853              -999          -999          -999   \n1853-08-10 12:00:00 AL021853              -999          -999          -999   \n1853-09-21 12:00:00 AL051853              -999          -999          -999   \n\n                              High Wind SW  High Wind NW  \\\nDateTime            traj_id                                \n1851-07-05 12:00:00 AL021851          -999          -999   \n1851-07-10 12:00:00 AL031851          -999          -999   \n1853-08-05 12:00:00 AL011853          -999          -999   \n1853-08-10 12:00:00 AL021853          -999          -999   \n1853-09-21 12:00:00 AL051853          -999          -999   \n\n                              Distance_prev_to_curr  Speed_prev_to_curr  \nDateTime            traj_id                                              \n1851-07-05 12:00:00 AL021851                    NaN                 NaN  \n1851-07-10 12:00:00 AL031851                    NaN                 NaN  \n1853-08-05 12:00:00 AL011853                    NaN                 NaN  \n1853-08-10 12:00:00 AL021853                    NaN                 NaN  \n1853-09-21 12:00:00 AL051853                    NaN                 NaN  \n\n[5 rows x 22 columns]",
      "text/html": "<div>\n<style scoped>\n    .dataframe tbody tr th:only-of-type {\n        vertical-align: middle;\n    }\n\n    .dataframe tbody tr th {\n        vertical-align: top;\n    }\n\n    .dataframe thead th {\n        text-align: right;\n    }\n</style>\n<table border=\"1\" class=\"dataframe\">\n  <thead>\n    <tr style=\"text-align: right;\">\n      <th></th>\n      <th></th>\n      <th>Name</th>\n      <th>Date</th>\n      <th>Event</th>\n      <th>Status</th>\n      <th>lat</th>\n      <th>lon</th>\n      <th>Maximum Wind</th>\n      <th>Minimum Pressure</th>\n      <th>Low Wind NE</th>\n      <th>Low Wind SE</th>\n      <th>...</th>\n      <th>Moderate Wind NE</th>\n      <th>Moderate Wind SE</th>\n      <th>Moderate Wind SW</th>\n      <th>Moderate Wind NW</th>\n      <th>High Wind NE</th>\n      <th>High Wind SE</th>\n      <th>High Wind SW</th>\n      <th>High Wind NW</th>\n      <th>Distance_prev_to_curr</th>\n      <th>Speed_prev_to_curr</th>\n    </tr>\n    <tr>\n      <th>DateTime</th>\n      <th>traj_id</th>\n      <th></th>\n      <th></th>\n      <th></th>\n      <th></th>\n      <th></th>\n      <th></th>\n      <th></th>\n      <th></th>\n      <th></th>\n      <th></th>\n      <th></th>\n      <th></th>\n      <th></th>\n      <th></th>\n      <th></th>\n      <th></th>\n      <th></th>\n      <th></th>\n      <th></th>\n      <th></th>\n      <th></th>\n    </tr>\n  </thead>\n  <tbody>\n    <tr>\n      <th>1851-07-05 12:00:00</th>\n      <th>AL021851</th>\n      <td>UNNAMED</td>\n      <td>1851-07-05</td>\n      <td></td>\n      <td>HU</td>\n      <td>22.2</td>\n      <td>-97.6</td>\n      <td>80</td>\n      <td>-999</td>\n      <td>-999</td>\n      <td>-999</td>\n      <td>...</td>\n      <td>-999</td>\n      <td>-999</td>\n      <td>-999</td>\n      <td>-999</td>\n      <td>-999</td>\n      <td>-999</td>\n      <td>-999</td>\n      <td>-999</td>\n      <td>NaN</td>\n      <td>NaN</td>\n    </tr>\n    <tr>\n      <th>1851-07-10 12:00:00</th>\n      <th>AL031851</th>\n      <td>UNNAMED</td>\n      <td>1851-07-10</td>\n      <td></td>\n      <td>TS</td>\n      <td>12.0</td>\n      <td>-60.0</td>\n      <td>50</td>\n      <td>-999</td>\n      <td>-999</td>\n      <td>-999</td>\n      <td>...</td>\n      <td>-999</td>\n      <td>-999</td>\n      <td>-999</td>\n      <td>-999</td>\n      <td>-999</td>\n      <td>-999</td>\n      <td>-999</td>\n      <td>-999</td>\n      <td>NaN</td>\n      <td>NaN</td>\n    </tr>\n    <tr>\n      <th>1853-08-05 12:00:00</th>\n      <th>AL011853</th>\n      <td>UNNAMED</td>\n      <td>1853-08-05</td>\n      <td></td>\n      <td>TS</td>\n      <td>32.5</td>\n      <td>-69.0</td>\n      <td>50</td>\n      <td>-999</td>\n      <td>-999</td>\n      <td>-999</td>\n      <td>...</td>\n      <td>-999</td>\n      <td>-999</td>\n      <td>-999</td>\n      <td>-999</td>\n      <td>-999</td>\n      <td>-999</td>\n      <td>-999</td>\n      <td>-999</td>\n      <td>NaN</td>\n      <td>NaN</td>\n    </tr>\n    <tr>\n      <th>1853-08-10 12:00:00</th>\n      <th>AL021853</th>\n      <td>UNNAMED</td>\n      <td>1853-08-10</td>\n      <td></td>\n      <td>TS</td>\n      <td>12.0</td>\n      <td>-60.0</td>\n      <td>40</td>\n      <td>-999</td>\n      <td>-999</td>\n      <td>-999</td>\n      <td>...</td>\n      <td>-999</td>\n      <td>-999</td>\n      <td>-999</td>\n      <td>-999</td>\n      <td>-999</td>\n      <td>-999</td>\n      <td>-999</td>\n      <td>-999</td>\n      <td>NaN</td>\n      <td>NaN</td>\n    </tr>\n    <tr>\n      <th>1853-09-21 12:00:00</th>\n      <th>AL051853</th>\n      <td>UNNAMED</td>\n      <td>1853-09-21</td>\n      <td></td>\n      <td>TS</td>\n      <td>20.0</td>\n      <td>-95.0</td>\n      <td>50</td>\n      <td>-999</td>\n      <td>-999</td>\n      <td>-999</td>\n      <td>...</td>\n      <td>-999</td>\n      <td>-999</td>\n      <td>-999</td>\n      <td>-999</td>\n      <td>-999</td>\n      <td>-999</td>\n      <td>-999</td>\n      <td>-999</td>\n      <td>NaN</td>\n      <td>NaN</td>\n    </tr>\n  </tbody>\n</table>\n<p>5 rows × 22 columns</p>\n</div>"
     },
     "execution_count": 6,
     "metadata": {},
     "output_type": "execute_result"
    }
   ],
   "source": [
    "# Now, lets filter the dataframe based on maximum speed.\n",
    "\n",
    "atlantic = spatial.create_speed_from_prev_column(atlantic)\n",
    "max_speed_filt_df = filters.filter_by_max_speed(atlantic, 10)\n",
    "print(f\"Length of atlantic: {len(atlantic)}\")\n",
    "print(f\"Length of speed_filt_df: {len(max_speed_filt_df)}\")\n",
    "atlantic.head()"
   ],
   "metadata": {
    "collapsed": false,
    "pycharm": {
     "name": "#%%\n"
    }
   }
  },
  {
   "cell_type": "code",
   "execution_count": 7,
   "outputs": [
    {
     "name": "stdout",
     "output_type": "stream",
     "text": [
      "Length of speed_filt_df: 41356\n",
      "Length of min_speed_filt: 20485\n"
     ]
    }
   ],
   "source": [
    "# Now, lets filter the dataframe based on minimum speed.\n",
    "\n",
    "min_speed_filt = filters.filter_by_min_speed(max_speed_filt_df, 5)\n",
    "print(f\"Length of speed_filt_df: {len(max_speed_filt_df)}\")\n",
    "print(f\"Length of min_speed_filt: {len(min_speed_filt)}\")"
   ],
   "metadata": {
    "collapsed": false,
    "pycharm": {
     "name": "#%%\n"
    }
   }
  },
  {
   "cell_type": "code",
   "execution_count": 8,
   "outputs": [
    {
     "name": "stdout",
     "output_type": "stream",
     "text": [
      "length of atlantic: 49105\n",
      "length of min_distance_filt: 20584\n"
     ]
    }
   ],
   "source": [
    "# Now, lets filter the dataframe based on minimum distance\n",
    "# between consecutive points.\n",
    "\n",
    "min_distance_filt = filters.filter_by_min_consecutive_distance(atlantic,\n",
    "                                                               125000)\n",
    "print(f\"length of atlantic: {len(atlantic)}\")\n",
    "print(f\"length of min_distance_filt: {len(min_distance_filt)}\")"
   ],
   "metadata": {
    "collapsed": false,
    "pycharm": {
     "name": "#%%\n"
    }
   }
  },
  {
   "cell_type": "code",
   "execution_count": 9,
   "outputs": [
    {
     "name": "stdout",
     "output_type": "stream",
     "text": [
      "length of min_distance_filt: 20584\n",
      "length of max_distance_filt: 20412\n"
     ]
    }
   ],
   "source": [
    "# Now, lets filter the dataframe based on maximum distance\n",
    "# between consecutive points.\n",
    "\n",
    "max_distance_filt = filters.filter_by_max_consecutive_distance(min_distance_filt,\n",
    "                                                               500000)\n",
    "print(f\"length of min_distance_filt: {len(min_distance_filt)}\")\n",
    "print(f\"length of max_distance_filt: {len(max_distance_filt)}\")"
   ],
   "metadata": {
    "collapsed": false,
    "pycharm": {
     "name": "#%%\n"
    }
   }
  },
  {
   "cell_type": "code",
   "execution_count": 10,
   "outputs": [
    {
     "name": "stdout",
     "output_type": "stream",
     "text": [
      "length of atlantic: 49105\n",
      "length of max_dist_speed_filt: 20871\n",
      "107991.62581248698\n",
      "4.999612306133656\n"
     ]
    }
   ],
   "source": [
    "# Now, lets filter the data based on maximum speed as\n",
    "# well as maximum distance between 2 consecutive points.\n",
    "\n",
    "max_dist_speed_filt = \\\n",
    "    filters.filter_by_max_distance_and_speed(atlantic, max_distance=300000, max_speed=5)\n",
    "print(f\"length of atlantic: {len(atlantic)}\")\n",
    "print(f\"length of max_dist_speed_filt: {len(max_dist_speed_filt)}\")\n",
    "print(max_dist_speed_filt['Distance_prev_to_curr'].max())\n",
    "print(max_dist_speed_filt['Speed_prev_to_curr'].max())"
   ],
   "metadata": {
    "collapsed": false,
    "pycharm": {
     "name": "#%%\n"
    }
   }
  },
  {
   "cell_type": "code",
   "execution_count": 11,
   "outputs": [
    {
     "name": "stdout",
     "output_type": "stream",
     "text": [
      "length of atlantic: 49105\n",
      "length of max_dist_speed_filt: 5773\n",
      "150474.93590679907\n",
      "10.000128930993524\n"
     ]
    }
   ],
   "source": [
    "\n",
    "# Now, lets filter the data based on minimum speed as\n",
    "# well as minimum distance between 2 consecutive points.\n",
    "\n",
    "min_dist_speed_filt = \\\n",
    "    filters.filter_by_min_distance_and_speed(atlantic, min_distance=150000, min_speed=10)\n",
    "print(f\"length of atlantic: {len(atlantic)}\")\n",
    "print(f\"length of max_dist_speed_filt: {len(min_dist_speed_filt)}\")\n",
    "print(min_dist_speed_filt['Distance_prev_to_curr'].min())\n",
    "print(min_dist_speed_filt['Speed_prev_to_curr'].min())"
   ],
   "metadata": {
    "collapsed": false,
    "pycharm": {
     "name": "#%%\n"
    }
   }
  },
  {
   "cell_type": "code",
   "execution_count": 12,
   "outputs": [
    {
     "name": "stdout",
     "output_type": "stream",
     "text": [
      "length of geolife: 217653\n",
      "length of outlier_df: 212126\n",
      "Number of outliers: 5527\n"
     ]
    }
   ],
   "source": [
    "# Now, lets remove the outliers based on the\n",
    "# distance between 2 consecutive points.\n",
    "\n",
    "geolife = spatial.create_speed_from_prev_column(geolife)\n",
    "outlier_df = filters.filter_outliers_by_consecutive_distance(geolife)\n",
    "print(f\"length of geolife: {len(geolife)}\")\n",
    "print(f\"length of outlier_df: {len(outlier_df)}\")\n",
    "print(f\"Number of outliers: {len(geolife) - len(outlier_df)}\")"
   ],
   "metadata": {
    "collapsed": false,
    "pycharm": {
     "name": "#%%\n"
    }
   }
  },
  {
   "cell_type": "code",
   "execution_count": 13,
   "outputs": [
    {
     "name": "stdout",
     "output_type": "stream",
     "text": [
      "length of geolife: 217653\n",
      "length of outlier_df: 195280\n",
      "Number of outliers: 22373\n"
     ]
    }
   ],
   "source": [
    "odf_two = filters.filter_outliers_by_consecutive_speed(geolife)\n",
    "print(f\"length of geolife: {len(geolife)}\")\n",
    "print(f\"length of outlier_df: {len(odf_two)}\")\n",
    "print(f\"Number of outliers: {len(geolife) - len(odf_two)}\")"
   ],
   "metadata": {
    "collapsed": false,
    "pycharm": {
     "name": "#%%\n"
    }
   }
  },
  {
   "cell_type": "code",
   "execution_count": 15,
   "outputs": [
    {
     "data": {
      "text/plain": "                                   lat         lon  Distance_prev_to_curr  \\\nDateTime            traj_id                                                 \n2008-10-23 16:53:05 1        39.984094  116.319236                    NaN   \n2008-10-23 16:53:06 1        39.984198  116.319322              13.690153   \n2008-10-23 05:53:11 1        39.984224  116.319402               7.403788   \n2008-10-23 05:53:16 1        39.984211  116.319389               1.821083   \n2008-10-23 05:53:21 1        39.984217  116.319422               2.889671   \n\n                             Speed_prev_to_curr  \nDateTime            traj_id                      \n2008-10-23 16:53:05 1                       NaN  \n2008-10-23 16:53:06 1                 13.690153  \n2008-10-23 05:53:11 1                  0.000158  \n2008-10-23 05:53:16 1                  0.364217  \n2008-10-23 05:53:21 1                  0.577934  ",
      "text/html": "<div>\n<style scoped>\n    .dataframe tbody tr th:only-of-type {\n        vertical-align: middle;\n    }\n\n    .dataframe tbody tr th {\n        vertical-align: top;\n    }\n\n    .dataframe thead th {\n        text-align: right;\n    }\n</style>\n<table border=\"1\" class=\"dataframe\">\n  <thead>\n    <tr style=\"text-align: right;\">\n      <th></th>\n      <th></th>\n      <th>lat</th>\n      <th>lon</th>\n      <th>Distance_prev_to_curr</th>\n      <th>Speed_prev_to_curr</th>\n    </tr>\n    <tr>\n      <th>DateTime</th>\n      <th>traj_id</th>\n      <th></th>\n      <th></th>\n      <th></th>\n      <th></th>\n    </tr>\n  </thead>\n  <tbody>\n    <tr>\n      <th>2008-10-23 16:53:05</th>\n      <th>1</th>\n      <td>39.984094</td>\n      <td>116.319236</td>\n      <td>NaN</td>\n      <td>NaN</td>\n    </tr>\n    <tr>\n      <th>2008-10-23 16:53:06</th>\n      <th>1</th>\n      <td>39.984198</td>\n      <td>116.319322</td>\n      <td>13.690153</td>\n      <td>13.690153</td>\n    </tr>\n    <tr>\n      <th>2008-10-23 05:53:11</th>\n      <th>1</th>\n      <td>39.984224</td>\n      <td>116.319402</td>\n      <td>7.403788</td>\n      <td>0.000158</td>\n    </tr>\n    <tr>\n      <th>2008-10-23 05:53:16</th>\n      <th>1</th>\n      <td>39.984211</td>\n      <td>116.319389</td>\n      <td>1.821083</td>\n      <td>0.364217</td>\n    </tr>\n    <tr>\n      <th>2008-10-23 05:53:21</th>\n      <th>1</th>\n      <td>39.984217</td>\n      <td>116.319422</td>\n      <td>2.889671</td>\n      <td>0.577934</td>\n    </tr>\n  </tbody>\n</table>\n</div>"
     },
     "execution_count": 15,
     "metadata": {},
     "output_type": "execute_result"
    }
   ],
   "source": [
    "\n"
   ],
   "metadata": {
    "collapsed": false,
    "pycharm": {
     "name": "#%%\n"
    }
   }
  }
 ],
 "metadata": {
  "kernelspec": {
   "display_name": "Python 3",
   "language": "python",
   "name": "python3"
  },
  "language_info": {
   "codemirror_mode": {
    "name": "ipython",
    "version": 3
   },
   "file_extension": ".py",
   "mimetype": "text/x-python",
   "name": "python",
   "nbconvert_exporter": "python",
   "pygments_lexer": "ipython3",
   "version": "3.8.10"
  }
 },
 "nbformat": 4,
 "nbformat_minor": 1
}