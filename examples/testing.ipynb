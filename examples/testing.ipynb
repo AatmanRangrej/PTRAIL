{
 "cells": [
  {
   "cell_type": "code",
   "execution_count": 1,
   "metadata": {},
   "outputs": [],
   "source": [
    "import numpy as np\n",
    "\n",
    "import utilities.constants as const\n",
    "from core.TrajectoryDF import NumPandasTraj as NumTrajDF\n",
    "from features.spatial_features import SpatialFeatures as spatial\n",
    "from features.temporal_features import TemporalFeatures as temporal\n",
    "from utilities.conversions import Conversions as con\n",
    "from preprocessing.filters import Filters as filters\n",
    "import pandas as pd\n",
    "import time\n",
    "np.seterr(invalid='ignore')\n",
    "start = time.time()"
   ]
  },
  {
   "cell_type": "code",
   "execution_count": 2,
   "outputs": [
    {
     "name": "stdout",
     "output_type": "stream",
     "text": [
      "CPU times: user 3 µs, sys: 1 µs, total: 4 µs\n",
      "Wall time: 7.15 µs\n"
     ]
    }
   ],
   "source": [
    "%%time\n",
    "\n",
    "# # Reading the geolife dataset and converting to NumPandasTraj.\n",
    "# geolife = pd.read_csv('./data/geolife_sample.csv')\n",
    "# geolife = NumTrajDF(geolife,'lat','lon','datetime','id')\n",
    "#\n",
    "# Reading the gulls dataset and converting to NumPandasTraj.\n",
    "# gulls = pd.read_csv('./data/gulls.csv')\n",
    "# gulls = NumTrajDF(gulls,\n",
    "#                  latitude='location-lat',\n",
    "#                  longitude='location-long',\n",
    "#                  datetime='timestamp',\n",
    "#                  traj_id='tag-local-identifier',\n",
    "#                  rest_of_columns=[])\n",
    "#\n",
    "#\n",
    "# # # Reading the atlantic dataset, cleaning it up and\n",
    "# # # then converting it to NumPandasTraj.\n",
    "# atlantic = pd.read_csv('./data/atlantic.csv')\n",
    "# atlantic = con.convert_directions_to_degree_lat_lon(atlantic, 'Latitude',\"Longitude\")\n",
    "# def convert_to_datetime(row):\n",
    "#         this_date = '{}-{}-{}'.format(str(row['Date'])[0:4], str(row['Date'])[4:6], str(row['Date'])[6:])\n",
    "#         this_time = '{:02d}:{:02d}:00'.format(int(row['Time']/100), int(str(row['Time'])[-2:]))\n",
    "#         return '{} {}'.format(this_date, this_time)\n",
    "# atlantic['DateTime'] = atlantic.apply(convert_to_datetime, axis=1)\n",
    "# atlantic = NumTrajDF(atlantic,\n",
    "#                          latitude='Latitude',\n",
    "#                          longitude='Longitude',\n",
    "#                          datetime='DateTime',\n",
    "#                          traj_id='ID',\n",
    "#                          rest_of_columns=[])\n",
    "# atlantic.drop(columns='Time')\n",
    "# atlantic.drop(columns='Date')"
   ],
   "metadata": {
    "collapsed": false,
    "pycharm": {
     "name": "#%%\n"
    }
   }
  },
  {
   "cell_type": "code",
   "execution_count": 3,
   "outputs": [
    {
     "name": "stdout",
     "output_type": "stream",
     "text": [
      "CPU times: user 11.4 s, sys: 760 ms, total: 12.2 s\n",
      "Wall time: 12.2 s\n"
     ]
    },
    {
     "data": {
      "text/plain": "                                   lat        lon  Altitude  \\\nDateTime            traj_id                                   \n2008-03-31 16:00:08 10       41.741415  86.186028    -777.0   \n2008-03-31 16:01:07 10       41.737063  86.179470    -777.0   \n2008-03-31 16:02:07 10       41.734105  86.172823    -777.0   \n2008-03-31 16:03:06 10       41.739110  86.166563    -777.0   \n2008-03-31 16:04:05 10       41.744368  86.159987    -777.0   \n\n                                        Id_perc Label  \nDateTime            traj_id                            \n2008-03-31 16:00:08 10       20080331160008.plt  taxi  \n2008-03-31 16:01:07 10       20080331160008.plt  taxi  \n2008-03-31 16:02:07 10       20080331160008.plt  taxi  \n2008-03-31 16:03:06 10       20080331160008.plt  taxi  \n2008-03-31 16:04:05 10       20080331160008.plt  taxi  ",
      "text/html": "<div>\n<style scoped>\n    .dataframe tbody tr th:only-of-type {\n        vertical-align: middle;\n    }\n\n    .dataframe tbody tr th {\n        vertical-align: top;\n    }\n\n    .dataframe thead th {\n        text-align: right;\n    }\n</style>\n<table border=\"1\" class=\"dataframe\">\n  <thead>\n    <tr style=\"text-align: right;\">\n      <th></th>\n      <th></th>\n      <th>lat</th>\n      <th>lon</th>\n      <th>Altitude</th>\n      <th>Id_perc</th>\n      <th>Label</th>\n    </tr>\n    <tr>\n      <th>DateTime</th>\n      <th>traj_id</th>\n      <th></th>\n      <th></th>\n      <th></th>\n      <th></th>\n      <th></th>\n    </tr>\n  </thead>\n  <tbody>\n    <tr>\n      <th>2008-03-31 16:00:08</th>\n      <th>10</th>\n      <td>41.741415</td>\n      <td>86.186028</td>\n      <td>-777.0</td>\n      <td>20080331160008.plt</td>\n      <td>taxi</td>\n    </tr>\n    <tr>\n      <th>2008-03-31 16:01:07</th>\n      <th>10</th>\n      <td>41.737063</td>\n      <td>86.179470</td>\n      <td>-777.0</td>\n      <td>20080331160008.plt</td>\n      <td>taxi</td>\n    </tr>\n    <tr>\n      <th>2008-03-31 16:02:07</th>\n      <th>10</th>\n      <td>41.734105</td>\n      <td>86.172823</td>\n      <td>-777.0</td>\n      <td>20080331160008.plt</td>\n      <td>taxi</td>\n    </tr>\n    <tr>\n      <th>2008-03-31 16:03:06</th>\n      <th>10</th>\n      <td>41.739110</td>\n      <td>86.166563</td>\n      <td>-777.0</td>\n      <td>20080331160008.plt</td>\n      <td>taxi</td>\n    </tr>\n    <tr>\n      <th>2008-03-31 16:04:05</th>\n      <th>10</th>\n      <td>41.744368</td>\n      <td>86.159987</td>\n      <td>-777.0</td>\n      <td>20080331160008.plt</td>\n      <td>taxi</td>\n    </tr>\n  </tbody>\n</table>\n</div>"
     },
     "execution_count": 3,
     "metadata": {},
     "output_type": "execute_result"
    }
   ],
   "source": [
    "%%time\n",
    "\n",
    "pdf = pd.read_csv('./data/dataset_raw_full.csv')\n",
    "raw_df = NumTrajDF(pdf, 'Latitude', 'Longitude',\n",
    "                   'Date_Time', 'Id_user')\n",
    "raw_df.head()\n"
   ],
   "metadata": {
    "collapsed": false,
    "pycharm": {
     "name": "#%%\n"
    }
   }
  },
  {
   "cell_type": "code",
   "execution_count": 4,
   "outputs": [
    {
     "name": "stdout",
     "output_type": "stream",
     "text": [
      "The total number of lines in the dataset are: 3387303\n",
      "The total number of trajectories in the dataset are: 57\n",
      "CPU times: user 44.2 s, sys: 8.38 s, total: 52.5 s\n",
      "Wall time: 2min 3s\n"
     ]
    }
   ],
   "source": [
    "%%time\n",
    "\n",
    "# Running all the spatial functions available to check the\n",
    "# execution time together.\n",
    "\n",
    "spatial.get_bounding_box(raw_df)\n",
    "spatial.get_start_location(raw_df)\n",
    "spatial.get_end_location(raw_df)\n",
    "raw_df = spatial.create_distance_between_consecutive_column(raw_df)\n",
    "raw_df = spatial.create_distance_from_start_column(raw_df)\n",
    "spatial.get_distance_travelled_by_date_and_traj_id(raw_df, '2008-03-31', '10')\n",
    "raw_df = spatial.create_point_within_range_column(raw_df, (40, 80), 100000)\n",
    "raw_df = spatial.create_distance_from_given_point_column(raw_df, (40, 80))\n",
    "raw_df = spatial.create_speed_from_prev_column(raw_df)\n",
    "raw_df = spatial.create_acceleration_from_prev_column(raw_df)\n",
    "raw_df = spatial.create_jerk_from_prev_column(raw_df)\n",
    "raw_df = spatial.create_bearing_column(raw_df)\n",
    "raw_df = spatial.create_bearing_rate_column(raw_df)\n",
    "raw_df = spatial.create_rate_of_bearing_rate_column(raw_df)\n",
    "spatial.get_distance_travelled_by_traj_id(raw_df, '10')\n",
    "print(f\"The total number of lines in the dataset are: {len(raw_df)}\\n\"\n",
    "      f\"The total number of trajectories in the dataset \"\n",
    "      f\"are: {raw_df.reset_index()[const.TRAJECTORY_ID].nunique()}\")"
   ],
   "metadata": {
    "collapsed": false,
    "pycharm": {
     "name": "#%%\n"
    }
   }
  },
  {
   "cell_type": "code",
   "execution_count": 4,
   "outputs": [],
   "source": [],
   "metadata": {
    "collapsed": false,
    "pycharm": {
     "name": "#%%\n"
    }
   }
  }
 ],
 "metadata": {
  "kernelspec": {
   "display_name": "Python 3",
   "language": "python",
   "name": "python3"
  },
  "language_info": {
   "codemirror_mode": {
    "name": "ipython",
    "version": 3
   },
   "file_extension": ".py",
   "mimetype": "text/x-python",
   "name": "python",
   "nbconvert_exporter": "python",
   "pygments_lexer": "ipython3",
   "version": "3.8.10"
  }
 },
 "nbformat": 4,
 "nbformat_minor": 1
}