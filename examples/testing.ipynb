{
 "cells": [
  {
   "cell_type": "code",
   "execution_count": 1,
   "metadata": {},
   "outputs": [],
   "source": [
    "import numpy as np\n",
    "\n",
    "import utilities.constants as const\n",
    "from core.TrajectoryDF import NumPandasTraj as NumTrajDF\n",
    "from features.spatial_features import SpatialFeatures as spatial\n",
    "from features.temporal_features import TemporalFeatures as temporal\n",
    "from utilities.conversions import Conversions as con\n",
    "from preprocessing.filters import Filters as filters\n",
    "import pandas as pd\n",
    "import time\n",
    "np.seterr(invalid='ignore')\n",
    "start = time.time()"
   ]
  },
  {
   "cell_type": "code",
   "execution_count": 2,
   "outputs": [
    {
     "name": "stdout",
     "output_type": "stream",
     "text": [
      "CPU times: user 8.25 s, sys: 118 ms, total: 8.37 s\n",
      "Wall time: 8.39 s\n"
     ]
    },
    {
     "data": {
      "text/plain": "                                             Name  Time Event Status   lat  \\\nDateTime            traj_id                                                  \n1851-06-25 00:00:00 AL011851              UNNAMED     0           HU  28.0   \n1851-06-25 06:00:00 AL011851              UNNAMED   600           HU  28.0   \n1851-06-25 12:00:00 AL011851              UNNAMED  1200           HU  28.0   \n1851-06-25 18:00:00 AL011851              UNNAMED  1800           HU  28.1   \n1851-06-25 21:00:00 AL011851              UNNAMED  2100     L     HU  28.2   \n...                                           ...   ...   ...    ...   ...   \n2015-11-12 12:00:00 AL122015                 KATE  1200           EX  41.3   \n2015-11-12 18:00:00 AL122015                 KATE  1800           EX  41.9   \n2015-11-13 00:00:00 AL122015                 KATE     0           EX  41.5   \n2015-11-13 06:00:00 AL122015                 KATE   600           EX  40.8   \n2015-11-13 12:00:00 AL122015                 KATE  1200           EX  40.7   \n\n                               lon  Maximum Wind  Minimum Pressure  \\\nDateTime            traj_id                                          \n1851-06-25 00:00:00 AL011851 -94.8            80              -999   \n1851-06-25 06:00:00 AL011851 -95.4            80              -999   \n1851-06-25 12:00:00 AL011851 -96.0            80              -999   \n1851-06-25 18:00:00 AL011851 -96.5            80              -999   \n1851-06-25 21:00:00 AL011851 -96.8            80              -999   \n...                            ...           ...               ...   \n2015-11-12 12:00:00 AL122015 -50.4            55               981   \n2015-11-12 18:00:00 AL122015 -49.9            55               983   \n2015-11-13 00:00:00 AL122015 -49.2            50               985   \n2015-11-13 06:00:00 AL122015 -47.5            45               985   \n2015-11-13 12:00:00 AL122015 -45.4            45               987   \n\n                              Low Wind NE  Low Wind SE  Low Wind SW  \\\nDateTime            traj_id                                           \n1851-06-25 00:00:00 AL011851         -999         -999         -999   \n1851-06-25 06:00:00 AL011851         -999         -999         -999   \n1851-06-25 12:00:00 AL011851         -999         -999         -999   \n1851-06-25 18:00:00 AL011851         -999         -999         -999   \n1851-06-25 21:00:00 AL011851         -999         -999         -999   \n...                                   ...          ...          ...   \n2015-11-12 12:00:00 AL122015          220          220          180   \n2015-11-12 18:00:00 AL122015          220          220          180   \n2015-11-13 00:00:00 AL122015          540          520          200   \n2015-11-13 06:00:00 AL122015          620          460          180   \n2015-11-13 12:00:00 AL122015          710          400          150   \n\n                              Low Wind NW  Moderate Wind NE  Moderate Wind SE  \\\nDateTime            traj_id                                                     \n1851-06-25 00:00:00 AL011851         -999              -999              -999   \n1851-06-25 06:00:00 AL011851         -999              -999              -999   \n1851-06-25 12:00:00 AL011851         -999              -999              -999   \n1851-06-25 18:00:00 AL011851         -999              -999              -999   \n1851-06-25 21:00:00 AL011851         -999              -999              -999   \n...                                   ...               ...               ...   \n2015-11-12 12:00:00 AL122015          120               120               120   \n2015-11-12 18:00:00 AL122015          120               120               120   \n2015-11-13 00:00:00 AL122015          220               120               120   \n2015-11-13 06:00:00 AL122015          220                 0                 0   \n2015-11-13 12:00:00 AL122015          220                 0                 0   \n\n                              Moderate Wind SW  Moderate Wind NW  \\\nDateTime            traj_id                                        \n1851-06-25 00:00:00 AL011851              -999              -999   \n1851-06-25 06:00:00 AL011851              -999              -999   \n1851-06-25 12:00:00 AL011851              -999              -999   \n1851-06-25 18:00:00 AL011851              -999              -999   \n1851-06-25 21:00:00 AL011851              -999              -999   \n...                                        ...               ...   \n2015-11-12 12:00:00 AL122015                60                 0   \n2015-11-12 18:00:00 AL122015                60                 0   \n2015-11-13 00:00:00 AL122015                60                 0   \n2015-11-13 06:00:00 AL122015                 0                 0   \n2015-11-13 12:00:00 AL122015                 0                 0   \n\n                              High Wind NE  High Wind SE  High Wind SW  \\\nDateTime            traj_id                                              \n1851-06-25 00:00:00 AL011851          -999          -999          -999   \n1851-06-25 06:00:00 AL011851          -999          -999          -999   \n1851-06-25 12:00:00 AL011851          -999          -999          -999   \n1851-06-25 18:00:00 AL011851          -999          -999          -999   \n1851-06-25 21:00:00 AL011851          -999          -999          -999   \n...                                    ...           ...           ...   \n2015-11-12 12:00:00 AL122015             0             0             0   \n2015-11-12 18:00:00 AL122015             0             0             0   \n2015-11-13 00:00:00 AL122015             0             0             0   \n2015-11-13 06:00:00 AL122015             0             0             0   \n2015-11-13 12:00:00 AL122015             0             0             0   \n\n                              High Wind NW  \nDateTime            traj_id                 \n1851-06-25 00:00:00 AL011851          -999  \n1851-06-25 06:00:00 AL011851          -999  \n1851-06-25 12:00:00 AL011851          -999  \n1851-06-25 18:00:00 AL011851          -999  \n1851-06-25 21:00:00 AL011851          -999  \n...                                    ...  \n2015-11-12 12:00:00 AL122015             0  \n2015-11-12 18:00:00 AL122015             0  \n2015-11-13 00:00:00 AL122015             0  \n2015-11-13 06:00:00 AL122015             0  \n2015-11-13 12:00:00 AL122015             0  \n\n[49105 rows x 20 columns]",
      "text/html": "<div>\n<style scoped>\n    .dataframe tbody tr th:only-of-type {\n        vertical-align: middle;\n    }\n\n    .dataframe tbody tr th {\n        vertical-align: top;\n    }\n\n    .dataframe thead th {\n        text-align: right;\n    }\n</style>\n<table border=\"1\" class=\"dataframe\">\n  <thead>\n    <tr style=\"text-align: right;\">\n      <th></th>\n      <th></th>\n      <th>Name</th>\n      <th>Time</th>\n      <th>Event</th>\n      <th>Status</th>\n      <th>lat</th>\n      <th>lon</th>\n      <th>Maximum Wind</th>\n      <th>Minimum Pressure</th>\n      <th>Low Wind NE</th>\n      <th>Low Wind SE</th>\n      <th>Low Wind SW</th>\n      <th>Low Wind NW</th>\n      <th>Moderate Wind NE</th>\n      <th>Moderate Wind SE</th>\n      <th>Moderate Wind SW</th>\n      <th>Moderate Wind NW</th>\n      <th>High Wind NE</th>\n      <th>High Wind SE</th>\n      <th>High Wind SW</th>\n      <th>High Wind NW</th>\n    </tr>\n    <tr>\n      <th>DateTime</th>\n      <th>traj_id</th>\n      <th></th>\n      <th></th>\n      <th></th>\n      <th></th>\n      <th></th>\n      <th></th>\n      <th></th>\n      <th></th>\n      <th></th>\n      <th></th>\n      <th></th>\n      <th></th>\n      <th></th>\n      <th></th>\n      <th></th>\n      <th></th>\n      <th></th>\n      <th></th>\n      <th></th>\n      <th></th>\n    </tr>\n  </thead>\n  <tbody>\n    <tr>\n      <th>1851-06-25 00:00:00</th>\n      <th>AL011851</th>\n      <td>UNNAMED</td>\n      <td>0</td>\n      <td></td>\n      <td>HU</td>\n      <td>28.0</td>\n      <td>-94.8</td>\n      <td>80</td>\n      <td>-999</td>\n      <td>-999</td>\n      <td>-999</td>\n      <td>-999</td>\n      <td>-999</td>\n      <td>-999</td>\n      <td>-999</td>\n      <td>-999</td>\n      <td>-999</td>\n      <td>-999</td>\n      <td>-999</td>\n      <td>-999</td>\n      <td>-999</td>\n    </tr>\n    <tr>\n      <th>1851-06-25 06:00:00</th>\n      <th>AL011851</th>\n      <td>UNNAMED</td>\n      <td>600</td>\n      <td></td>\n      <td>HU</td>\n      <td>28.0</td>\n      <td>-95.4</td>\n      <td>80</td>\n      <td>-999</td>\n      <td>-999</td>\n      <td>-999</td>\n      <td>-999</td>\n      <td>-999</td>\n      <td>-999</td>\n      <td>-999</td>\n      <td>-999</td>\n      <td>-999</td>\n      <td>-999</td>\n      <td>-999</td>\n      <td>-999</td>\n      <td>-999</td>\n    </tr>\n    <tr>\n      <th>1851-06-25 12:00:00</th>\n      <th>AL011851</th>\n      <td>UNNAMED</td>\n      <td>1200</td>\n      <td></td>\n      <td>HU</td>\n      <td>28.0</td>\n      <td>-96.0</td>\n      <td>80</td>\n      <td>-999</td>\n      <td>-999</td>\n      <td>-999</td>\n      <td>-999</td>\n      <td>-999</td>\n      <td>-999</td>\n      <td>-999</td>\n      <td>-999</td>\n      <td>-999</td>\n      <td>-999</td>\n      <td>-999</td>\n      <td>-999</td>\n      <td>-999</td>\n    </tr>\n    <tr>\n      <th>1851-06-25 18:00:00</th>\n      <th>AL011851</th>\n      <td>UNNAMED</td>\n      <td>1800</td>\n      <td></td>\n      <td>HU</td>\n      <td>28.1</td>\n      <td>-96.5</td>\n      <td>80</td>\n      <td>-999</td>\n      <td>-999</td>\n      <td>-999</td>\n      <td>-999</td>\n      <td>-999</td>\n      <td>-999</td>\n      <td>-999</td>\n      <td>-999</td>\n      <td>-999</td>\n      <td>-999</td>\n      <td>-999</td>\n      <td>-999</td>\n      <td>-999</td>\n    </tr>\n    <tr>\n      <th>1851-06-25 21:00:00</th>\n      <th>AL011851</th>\n      <td>UNNAMED</td>\n      <td>2100</td>\n      <td>L</td>\n      <td>HU</td>\n      <td>28.2</td>\n      <td>-96.8</td>\n      <td>80</td>\n      <td>-999</td>\n      <td>-999</td>\n      <td>-999</td>\n      <td>-999</td>\n      <td>-999</td>\n      <td>-999</td>\n      <td>-999</td>\n      <td>-999</td>\n      <td>-999</td>\n      <td>-999</td>\n      <td>-999</td>\n      <td>-999</td>\n      <td>-999</td>\n    </tr>\n    <tr>\n      <th>...</th>\n      <th>...</th>\n      <td>...</td>\n      <td>...</td>\n      <td>...</td>\n      <td>...</td>\n      <td>...</td>\n      <td>...</td>\n      <td>...</td>\n      <td>...</td>\n      <td>...</td>\n      <td>...</td>\n      <td>...</td>\n      <td>...</td>\n      <td>...</td>\n      <td>...</td>\n      <td>...</td>\n      <td>...</td>\n      <td>...</td>\n      <td>...</td>\n      <td>...</td>\n      <td>...</td>\n    </tr>\n    <tr>\n      <th>2015-11-12 12:00:00</th>\n      <th>AL122015</th>\n      <td>KATE</td>\n      <td>1200</td>\n      <td></td>\n      <td>EX</td>\n      <td>41.3</td>\n      <td>-50.4</td>\n      <td>55</td>\n      <td>981</td>\n      <td>220</td>\n      <td>220</td>\n      <td>180</td>\n      <td>120</td>\n      <td>120</td>\n      <td>120</td>\n      <td>60</td>\n      <td>0</td>\n      <td>0</td>\n      <td>0</td>\n      <td>0</td>\n      <td>0</td>\n    </tr>\n    <tr>\n      <th>2015-11-12 18:00:00</th>\n      <th>AL122015</th>\n      <td>KATE</td>\n      <td>1800</td>\n      <td></td>\n      <td>EX</td>\n      <td>41.9</td>\n      <td>-49.9</td>\n      <td>55</td>\n      <td>983</td>\n      <td>220</td>\n      <td>220</td>\n      <td>180</td>\n      <td>120</td>\n      <td>120</td>\n      <td>120</td>\n      <td>60</td>\n      <td>0</td>\n      <td>0</td>\n      <td>0</td>\n      <td>0</td>\n      <td>0</td>\n    </tr>\n    <tr>\n      <th>2015-11-13 00:00:00</th>\n      <th>AL122015</th>\n      <td>KATE</td>\n      <td>0</td>\n      <td></td>\n      <td>EX</td>\n      <td>41.5</td>\n      <td>-49.2</td>\n      <td>50</td>\n      <td>985</td>\n      <td>540</td>\n      <td>520</td>\n      <td>200</td>\n      <td>220</td>\n      <td>120</td>\n      <td>120</td>\n      <td>60</td>\n      <td>0</td>\n      <td>0</td>\n      <td>0</td>\n      <td>0</td>\n      <td>0</td>\n    </tr>\n    <tr>\n      <th>2015-11-13 06:00:00</th>\n      <th>AL122015</th>\n      <td>KATE</td>\n      <td>600</td>\n      <td></td>\n      <td>EX</td>\n      <td>40.8</td>\n      <td>-47.5</td>\n      <td>45</td>\n      <td>985</td>\n      <td>620</td>\n      <td>460</td>\n      <td>180</td>\n      <td>220</td>\n      <td>0</td>\n      <td>0</td>\n      <td>0</td>\n      <td>0</td>\n      <td>0</td>\n      <td>0</td>\n      <td>0</td>\n      <td>0</td>\n    </tr>\n    <tr>\n      <th>2015-11-13 12:00:00</th>\n      <th>AL122015</th>\n      <td>KATE</td>\n      <td>1200</td>\n      <td></td>\n      <td>EX</td>\n      <td>40.7</td>\n      <td>-45.4</td>\n      <td>45</td>\n      <td>987</td>\n      <td>710</td>\n      <td>400</td>\n      <td>150</td>\n      <td>220</td>\n      <td>0</td>\n      <td>0</td>\n      <td>0</td>\n      <td>0</td>\n      <td>0</td>\n      <td>0</td>\n      <td>0</td>\n      <td>0</td>\n    </tr>\n  </tbody>\n</table>\n<p>49105 rows × 20 columns</p>\n</div>"
     },
     "execution_count": 2,
     "metadata": {},
     "output_type": "execute_result"
    }
   ],
   "source": [
    "%%time\n",
    "\n",
    "# Reading the geolife dataset and converting to NumPandasTraj.\n",
    "geolife = pd.read_csv('./data/geolife_sample.csv')\n",
    "geolife = NumTrajDF(geolife,'lat','lon','datetime','id')\n",
    "\n",
    "# Reading the gulls dataset and converting to NumPandasTraj.\n",
    "gulls = pd.read_csv('./data/gulls.csv')\n",
    "gulls = NumTrajDF(gulls,\n",
    "                 latitude='location-lat',\n",
    "                 longitude='location-long',\n",
    "                 datetime='timestamp',\n",
    "                 traj_id='tag-local-identifier',\n",
    "                 rest_of_columns=[])\n",
    "\n",
    "\n",
    "# Reading the atlantic dataset, cleaning it up and\n",
    "# then converting it to NumPandasTraj.\n",
    "atlantic = pd.read_csv('./data/atlantic.csv')\n",
    "atlantic = con.convert_directions_to_degree_lat_lon(atlantic, 'Latitude',\"Longitude\")\n",
    "def convert_to_datetime(row):\n",
    "        this_date = '{}-{}-{}'.format(str(row['Date'])[0:4], str(row['Date'])[4:6], str(row['Date'])[6:])\n",
    "        this_time = '{:02d}:{:02d}:00'.format(int(row['Time']/100), int(str(row['Time'])[-2:]))\n",
    "        return '{} {}'.format(this_date, this_time)\n",
    "atlantic['DateTime'] = atlantic.apply(convert_to_datetime, axis=1)\n",
    "atlantic = NumTrajDF(atlantic,\n",
    "                         latitude='Latitude',\n",
    "                         longitude='Longitude',\n",
    "                         datetime='DateTime',\n",
    "                         traj_id='ID',\n",
    "                         rest_of_columns=[])\n",
    "atlantic.drop(columns='Time')\n",
    "atlantic.drop(columns='Date')"
   ],
   "metadata": {
    "collapsed": false,
    "pycharm": {
     "name": "#%%\n"
    }
   }
  },
  {
   "cell_type": "code",
   "execution_count": 3,
   "outputs": [
    {
     "name": "stdout",
     "output_type": "stream",
     "text": [
      "CPU times: user 26 µs, sys: 2 µs, total: 28 µs\n",
      "Wall time: 30.3 µs\n"
     ]
    },
    {
     "data": {
      "text/plain": "(38.100678394081264, 114.84275815636957, 39.89932160591873, 117.15724184363044)"
     },
     "execution_count": 3,
     "metadata": {},
     "output_type": "execute_result"
    }
   ],
   "source": [
    "%%time\n",
    "\n",
    "bbox = filters.get_bounding_box_by_radius(39, 116, 100000)\n",
    "bbox"
   ],
   "metadata": {
    "collapsed": false,
    "pycharm": {
     "name": "#%%\n"
    }
   }
  },
  {
   "cell_type": "code",
   "execution_count": 4,
   "outputs": [
    {
     "name": "stdout",
     "output_type": "stream",
     "text": [
      "Original length of geolife: 217653\n",
      "Filtered length of geolife: 356\n"
     ]
    }
   ],
   "source": [
    "bbox_filt = filters.filter_by_bounding_box(geolife, bbox, True)\n",
    "print(f\"Original length of geolife: {len(geolife)}\")\n",
    "print(f\"Filtered length of geolife: {len(bbox_filt)}\")"
   ],
   "metadata": {
    "collapsed": false,
    "pycharm": {
     "name": "#%%\n"
    }
   }
  },
  {
   "cell_type": "code",
   "execution_count": 4,
   "outputs": [],
   "source": [],
   "metadata": {
    "collapsed": false,
    "pycharm": {
     "name": "#%%\n"
    }
   }
  }
 ],
 "metadata": {
  "kernelspec": {
   "display_name": "Python 3",
   "language": "python",
   "name": "python3"
  },
  "language_info": {
   "codemirror_mode": {
    "name": "ipython",
    "version": 3
   },
   "file_extension": ".py",
   "mimetype": "text/x-python",
   "name": "python",
   "nbconvert_exporter": "python",
   "pygments_lexer": "ipython3",
   "version": "3.8.10"
  }
 },
 "nbformat": 4,
 "nbformat_minor": 1
}