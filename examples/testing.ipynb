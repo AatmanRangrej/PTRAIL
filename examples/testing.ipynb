{
 "cells": [
  {
   "cell_type": "code",
   "execution_count": 1,
   "metadata": {
    "collapsed": true
   },
   "outputs": [],
   "source": [
    "import pymove as pm\n",
    "import pandas as pd\n",
    "import numpy as np\n",
    "import utilities.constants as const\n",
    "\n",
    "from core.TrajectoryDF import NumPandasTraj as TrajDF\n",
    "from preprocessing.filters import Filters as filt\n",
    "from features.spatial_features import SpatialFeatures as spatial\n",
    "from utilities.conversions import Conversions as con\n",
    "from preprocessing.interpolation import Interpolate as ip"
   ]
  },
  {
   "cell_type": "code",
   "execution_count": 2,
   "outputs": [],
   "source": [
    "# atlantic = pd.read_csv('./data/atlantic.csv')\n",
    "# atlantic = con.convert_directions_to_degree_lat_lon(atlantic, 'Latitude',\"Longitude\")\n",
    "# def convert_to_datetime(row):\n",
    "#         this_date = '{}-{}-{}'.format(str(row['Date'])[0:4], str(row['Date'])[4:6], str(row['Date'])[6:])\n",
    "#         this_time = '{:02d}:{:02d}:00'.format(int(row['Time']/100), int(str(row['Time'])[-2:]))\n",
    "#         return '{} {}'.format(this_date, this_time)\n",
    "# atlantic['DateTime'] = atlantic.apply(convert_to_datetime, axis=1)\n",
    "#\n",
    "# gulls = pd.read_csv('./data/gulls.csv')\n",
    "\n",
    "geolife = pd.read_csv('./data/sample.csv')"
   ],
   "metadata": {
    "collapsed": false,
    "pycharm": {
     "name": "#%%\n"
    }
   }
  },
  {
   "cell_type": "code",
   "execution_count": 3,
   "outputs": [
    {
     "name": "stdout",
     "output_type": "stream",
     "text": [
      "CPU times: user 17.3 ms, sys: 265 µs, total: 17.6 ms\n",
      "Wall time: 15.6 ms\n"
     ]
    }
   ],
   "source": [
    "%%time\n",
    "#\n",
    "# np_atlantic = TrajDF(atlantic,\n",
    "#                          latitude='Latitude',\n",
    "#                          longitude='Longitude',\n",
    "#                          datetime='DateTime',\n",
    "#                          traj_id='ID',\n",
    "#                          rest_of_columns=[])\n",
    "#\n",
    "# np_gulls = TrajDF(gulls,\n",
    "#                  latitude='location-lat',\n",
    "#                  longitude='location-long',\n",
    "#                  datetime='timestamp',\n",
    "#                  traj_id='tag-local-identifier',\n",
    "#                  rest_of_columns=[])\n",
    "\n",
    "np_geolife = TrajDF(geolife,latitude='lat',\n",
    "                     longitude='lon',\n",
    "                     datetime='datetime',\n",
    "                     traj_id='id')\n"
   ],
   "metadata": {
    "collapsed": false,
    "pycharm": {
     "name": "#%%\n"
    }
   }
  },
  {
   "cell_type": "code",
   "execution_count": 4,
   "outputs": [],
   "source": [
    "# %%time\n",
    "#\n",
    "# np_geolife = spatial.create_distance_between_consecutive_column(np_geolife)\n",
    "# ip_geolife = ip.interpolate_position(np_geolife.reset_index(), 30)"
   ],
   "metadata": {
    "collapsed": false,
    "pycharm": {
     "name": "#%%\n"
    }
   }
  },
  {
   "cell_type": "code",
   "execution_count": 5,
   "outputs": [],
   "source": [
    "# ip_geolife.shape\n",
    "#"
   ],
   "metadata": {
    "collapsed": false,
    "pycharm": {
     "name": "#%%\n"
    }
   }
  },
  {
   "cell_type": "code",
   "execution_count": 6,
   "outputs": [],
   "source": [
    "# np_geolife.shape"
   ],
   "metadata": {
    "collapsed": false,
    "pycharm": {
     "name": "#%%\n"
    }
   }
  },
  {
   "cell_type": "code",
   "execution_count": 7,
   "outputs": [],
   "source": [
    "# ip_geolife.head(11)"
   ],
   "metadata": {
    "collapsed": false,
    "pycharm": {
     "name": "#%%\n"
    }
   }
  },
  {
   "cell_type": "code",
   "execution_count": 8,
   "outputs": [],
   "source": [
    "# np_geolife.head(11)"
   ],
   "metadata": {
    "collapsed": false,
    "pycharm": {
     "name": "#%%\n"
    }
   }
  },
  {
   "cell_type": "code",
   "execution_count": 9,
   "outputs": [],
   "source": [
    "# ip_geolife.loc[ip_geolife[const.LAT] < 0]"
   ],
   "metadata": {
    "collapsed": false,
    "pycharm": {
     "name": "#%%\n"
    }
   }
  },
  {
   "cell_type": "code",
   "execution_count": 10,
   "outputs": [
    {
     "data": {
      "text/plain": "                                            lat                 lon  \\\ntraj_id DateTime                                                      \n1       2008-10-22 07:27:17  -115375057.7061615  223058292.84436035   \n        2008-10-23 05:53:03           39.984211  116.31938899999999   \n        2008-10-23 05:53:08  39.984216999999994  116.31942200000002   \n        2008-10-23 05:53:11             39.9842             116.319   \n        2008-10-23 05:53:13   39.98478572959182  116.31992199081631   \n\n                             Distance_prev_to_curr  \ntraj_id DateTime                                    \n1       2008-10-22 07:27:17                    0.0  \n        2008-10-23 05:53:03                    0.0  \n        2008-10-23 05:53:08                    0.0  \n        2008-10-23 05:53:11                    NaN  \n        2008-10-23 05:53:13                    0.0  ",
      "text/html": "<div>\n<style scoped>\n    .dataframe tbody tr th:only-of-type {\n        vertical-align: middle;\n    }\n\n    .dataframe tbody tr th {\n        vertical-align: top;\n    }\n\n    .dataframe thead th {\n        text-align: right;\n    }\n</style>\n<table border=\"1\" class=\"dataframe\">\n  <thead>\n    <tr style=\"text-align: right;\">\n      <th></th>\n      <th></th>\n      <th>lat</th>\n      <th>lon</th>\n      <th>Distance_prev_to_curr</th>\n    </tr>\n    <tr>\n      <th>traj_id</th>\n      <th>DateTime</th>\n      <th></th>\n      <th></th>\n      <th></th>\n    </tr>\n  </thead>\n  <tbody>\n    <tr>\n      <th rowspan=\"5\" valign=\"top\">1</th>\n      <th>2008-10-22 07:27:17</th>\n      <td>-115375057.7061615</td>\n      <td>223058292.84436035</td>\n      <td>0.0</td>\n    </tr>\n    <tr>\n      <th>2008-10-23 05:53:03</th>\n      <td>39.984211</td>\n      <td>116.31938899999999</td>\n      <td>0.0</td>\n    </tr>\n    <tr>\n      <th>2008-10-23 05:53:08</th>\n      <td>39.984216999999994</td>\n      <td>116.31942200000002</td>\n      <td>0.0</td>\n    </tr>\n    <tr>\n      <th>2008-10-23 05:53:11</th>\n      <td>39.9842</td>\n      <td>116.319</td>\n      <td>NaN</td>\n    </tr>\n    <tr>\n      <th>2008-10-23 05:53:13</th>\n      <td>39.98478572959182</td>\n      <td>116.31992199081631</td>\n      <td>0.0</td>\n    </tr>\n  </tbody>\n</table>\n</div>"
     },
     "execution_count": 10,
     "metadata": {},
     "output_type": "execute_result"
    }
   ],
   "source": [
    "np_geolife = spatial.create_distance_between_consecutive_column(np_geolife)\n",
    "ip_geolife = ip.cubic_alt(dataframe=np_geolife, distance_threshold=10)\n",
    "ip_geolife.head()"
   ],
   "metadata": {
    "collapsed": false,
    "pycharm": {
     "name": "#%%\n"
    }
   }
  },
  {
   "cell_type": "code",
   "execution_count": 11,
   "outputs": [
    {
     "data": {
      "text/plain": "(1342, 3)"
     },
     "execution_count": 11,
     "metadata": {},
     "output_type": "execute_result"
    }
   ],
   "source": [
    "ip_geolife.shape"
   ],
   "metadata": {
    "collapsed": false,
    "pycharm": {
     "name": "#%%\n"
    }
   }
  },
  {
   "cell_type": "code",
   "execution_count": 12,
   "outputs": [],
   "source": [
    "ip_geolife.to_csv('abc.csv')\n",
    "#ip_geolife = spatial.create_distance_between_consecutive_column(ip_geolife)\n",
    "#ip_geolife"
   ],
   "metadata": {
    "collapsed": false,
    "pycharm": {
     "name": "#%%\n"
    }
   }
  },
  {
   "cell_type": "code",
   "execution_count": 13,
   "outputs": [],
   "source": [
    "np_geolife.to_csv('123.csv')"
   ],
   "metadata": {
    "collapsed": false,
    "pycharm": {
     "name": "#%%\n"
    }
   }
  },
  {
   "cell_type": "code",
   "execution_count": 14,
   "outputs": [
    {
     "data": {
      "text/plain": "[<matplotlib.lines.Line2D at 0x7f870e700850>]"
     },
     "execution_count": 14,
     "metadata": {},
     "output_type": "execute_result"
    },
    {
     "data": {
      "text/plain": "<Figure size 432x288 with 1 Axes>",
      "image/png": "[encoded data removed]"
     },
     "metadata": {
      "needs_background": "light"
     },
     "output_type": "display_data"
    }
   ],
   "source": [
    "import matplotlib.pyplot as plt\n",
    "\n",
    "plt.plot(np_geolife[const.LAT], np_geolife[const.LONG])\n"
   ],
   "metadata": {
    "collapsed": false,
    "pycharm": {
     "name": "#%%\n"
    }
   }
  },
  {
   "cell_type": "code",
   "execution_count": 15,
   "outputs": [
    {
     "data": {
      "text/plain": "[<matplotlib.lines.Line2D at 0x7f870e5ddb20>]"
     },
     "execution_count": 15,
     "metadata": {},
     "output_type": "execute_result"
    },
    {
     "data": {
      "text/plain": "<Figure size 432x288 with 1 Axes>",
      "image/png": "[encoded data removed]"
     },
     "metadata": {
      "needs_background": "light"
     },
     "output_type": "display_data"
    }
   ],
   "source": [
    "plt.plot(ip_geolife[const.LAT], ip_geolife[const.LONG])\n"
   ],
   "metadata": {
    "collapsed": false,
    "pycharm": {
     "name": "#%%\n"
    }
   }
  },
  {
   "cell_type": "code",
   "execution_count": 26,
   "outputs": [],
   "source": [
    "abc = pd.read_csv('abc.csv')"
   ],
   "metadata": {
    "collapsed": false,
    "pycharm": {
     "name": "#%%\n"
    }
   }
  },
  {
   "cell_type": "code",
   "execution_count": 27,
   "outputs": [
    {
     "data": {
      "text/plain": "[<matplotlib.lines.Line2D at 0x7f870e446310>]"
     },
     "execution_count": 27,
     "metadata": {},
     "output_type": "execute_result"
    },
    {
     "data": {
      "text/plain": "<Figure size 432x288 with 1 Axes>",
      "image/png": "[encoded data removed]"
     },
     "metadata": {
      "needs_background": "light"
     },
     "output_type": "display_data"
    }
   ],
   "source": [
    "\n",
    "plt.plot(abc['lat'], abc['lon'])"
   ],
   "metadata": {
    "collapsed": false,
    "pycharm": {
     "name": "#%%\n"
    }
   }
  },
  {
   "cell_type": "code",
   "execution_count": 28,
   "outputs": [
    {
     "data": {
      "text/plain": "                             index        lat         lon  \\\ntraj_id DateTime                                            \n1       2008-10-23 05:53:03      0  39.984211  116.319389   \n        2008-10-23 05:53:08      1  39.984217  116.319422   \n        2008-10-23 05:53:11      2  39.984224  116.319402   \n        2008-10-23 05:53:13      3  39.984786  116.319922   \n        2008-10-23 05:53:16      4  39.984211  116.319389   \n\n                             Distance_prev_to_curr  \ntraj_id DateTime                                    \n1       2008-10-23 05:53:03                    NaN  \n        2008-10-23 05:53:08               2.889671  \n        2008-10-23 05:53:11               1.873356  \n        2008-10-23 05:53:13              76.578015  \n        2008-10-23 05:53:16              78.397889  ",
      "text/html": "<div>\n<style scoped>\n    .dataframe tbody tr th:only-of-type {\n        vertical-align: middle;\n    }\n\n    .dataframe tbody tr th {\n        vertical-align: top;\n    }\n\n    .dataframe thead th {\n        text-align: right;\n    }\n</style>\n<table border=\"1\" class=\"dataframe\">\n  <thead>\n    <tr style=\"text-align: right;\">\n      <th></th>\n      <th></th>\n      <th>index</th>\n      <th>lat</th>\n      <th>lon</th>\n      <th>Distance_prev_to_curr</th>\n    </tr>\n    <tr>\n      <th>traj_id</th>\n      <th>DateTime</th>\n      <th></th>\n      <th></th>\n      <th></th>\n      <th></th>\n    </tr>\n  </thead>\n  <tbody>\n    <tr>\n      <th rowspan=\"5\" valign=\"top\">1</th>\n      <th>2008-10-23 05:53:03</th>\n      <td>0</td>\n      <td>39.984211</td>\n      <td>116.319389</td>\n      <td>NaN</td>\n    </tr>\n    <tr>\n      <th>2008-10-23 05:53:08</th>\n      <td>1</td>\n      <td>39.984217</td>\n      <td>116.319422</td>\n      <td>2.889671</td>\n    </tr>\n    <tr>\n      <th>2008-10-23 05:53:11</th>\n      <td>2</td>\n      <td>39.984224</td>\n      <td>116.319402</td>\n      <td>1.873356</td>\n    </tr>\n    <tr>\n      <th>2008-10-23 05:53:13</th>\n      <td>3</td>\n      <td>39.984786</td>\n      <td>116.319922</td>\n      <td>76.578015</td>\n    </tr>\n    <tr>\n      <th>2008-10-23 05:53:16</th>\n      <td>4</td>\n      <td>39.984211</td>\n      <td>116.319389</td>\n      <td>78.397889</td>\n    </tr>\n  </tbody>\n</table>\n</div>"
     },
     "execution_count": 28,
     "metadata": {},
     "output_type": "execute_result"
    }
   ],
   "source": [
    "abc = spatial.create_distance_between_consecutive_column(abc)\n",
    "abc.head()"
   ],
   "metadata": {
    "collapsed": false,
    "pycharm": {
     "name": "#%%\n"
    }
   }
  },
  {
   "cell_type": "code",
   "execution_count": 29,
   "outputs": [
    {
     "data": {
      "text/plain": "(1249, 4)"
     },
     "execution_count": 29,
     "metadata": {},
     "output_type": "execute_result"
    }
   ],
   "source": [
    "d = filt.filter_outliers_by_consecutive_distance(abc)\n",
    "d.shape"
   ],
   "metadata": {
    "collapsed": false,
    "pycharm": {
     "name": "#%%\n"
    }
   }
  },
  {
   "cell_type": "code",
   "execution_count": 30,
   "outputs": [
    {
     "data": {
      "text/plain": "[<matplotlib.lines.Line2D at 0x7f870e3f8730>]"
     },
     "execution_count": 30,
     "metadata": {},
     "output_type": "execute_result"
    },
    {
     "data": {
      "text/plain": "<Figure size 432x288 with 1 Axes>",
      "image/png": "[encoded data removed]"
     },
     "metadata": {
      "needs_background": "light"
     },
     "output_type": "display_data"
    }
   ],
   "source": [
    "plt.plot(abc['lat'], abc['lon'])"
   ],
   "metadata": {
    "collapsed": false,
    "pycharm": {
     "name": "#%%\n"
    }
   }
  },
  {
   "cell_type": "code",
   "execution_count": 20,
   "outputs": [],
   "source": [],
   "metadata": {
    "collapsed": false,
    "pycharm": {
     "name": "#%%\n"
    }
   }
  }
 ],
 "metadata": {
  "kernelspec": {
   "display_name": "Python 3",
   "language": "python",
   "name": "python3"
  },
  "language_info": {
   "codemirror_mode": {
    "name": "ipython",
    "version": 2
   },
   "file_extension": ".py",
   "mimetype": "text/x-python",
   "name": "python",
   "nbconvert_exporter": "python",
   "pygments_lexer": "ipython2",
   "version": "2.7.6"
  }
 },
 "nbformat": 4,
 "nbformat_minor": 0
}