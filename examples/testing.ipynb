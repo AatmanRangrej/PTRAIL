{
 "cells": [
  {
   "cell_type": "code",
   "execution_count": 1,
   "metadata": {
    "collapsed": true
   },
   "outputs": [],
   "source": [
    "import pymove as pm\n",
    "import pandas as pd\n",
    "from core.TrajectoryDF import NumPandasTraj as TrajDF\n",
    "from preprocessing.filters import Filters as filt\n",
    "from utilities.conversions import Conversions as con\n",
    "from preprocessing.interpolation import Interpolate as ip"
   ]
  },
  {
   "cell_type": "code",
   "execution_count": 2,
   "outputs": [],
   "source": [
    "atlantic = pd.read_csv('./data/atlantic.csv')\n",
    "atlantic = con.convert_directions_to_degree_lat_lon(atlantic, 'Latitude',\"Longitude\")\n",
    "def convert_to_datetime(row):\n",
    "        this_date = '{}-{}-{}'.format(str(row['Date'])[0:4], str(row['Date'])[4:6], str(row['Date'])[6:])\n",
    "        this_time = '{:02d}:{:02d}:00'.format(int(row['Time']/100), int(str(row['Time'])[-2:]))\n",
    "        return '{} {}'.format(this_date, this_time)\n",
    "atlantic['DateTime'] = atlantic.apply(convert_to_datetime, axis=1)\n",
    "\n",
    "gulls = pd.read_csv('./data/gulls.csv')\n",
    "\n",
    "geolife = pd.read_csv('./data/geolife_sample.csv')"
   ],
   "metadata": {
    "collapsed": false,
    "pycharm": {
     "name": "#%%\n"
    }
   }
  },
  {
   "cell_type": "code",
   "execution_count": 3,
   "outputs": [
    {
     "name": "stdout",
     "output_type": "stream",
     "text": [
      "CPU times: user 494 ms, sys: 8.15 ms, total: 502 ms\n",
      "Wall time: 501 ms\n"
     ]
    }
   ],
   "source": [
    "%%time\n",
    "\n",
    "np_atlantic = TrajDF(atlantic,\n",
    "                         latitude='Latitude',\n",
    "                         longitude='Longitude',\n",
    "                         datetime='DateTime',\n",
    "                         traj_id='ID',\n",
    "                         rest_of_columns=[])\n",
    "\n",
    "np_gulls = TrajDF(gulls,\n",
    "                 latitude='location-lat',\n",
    "                 longitude='location-long',\n",
    "                 datetime='timestamp',\n",
    "                 traj_id='tag-local-identifier',\n",
    "                 rest_of_columns=[])\n",
    "\n",
    "np_geolife = TrajDF(geolife,latitude='lat',\n",
    "                     longitude='lon',\n",
    "                     datetime='datetime',\n",
    "                     traj_id='id')\n"
   ],
   "metadata": {
    "collapsed": false,
    "pycharm": {
     "name": "#%%\n"
    }
   }
  },
  {
   "cell_type": "code",
   "execution_count": 4,
   "outputs": [
    {
     "name": "stdout",
     "output_type": "stream",
     "text": [
      "(49105, 23)\n",
      "CPU times: user 96.8 ms, sys: 4.05 ms, total: 101 ms\n",
      "Wall time: 99.6 ms\n"
     ]
    }
   ],
   "source": [
    "%%time\n",
    "\n",
    "pm_atlantic = pm.MoveDataFrame(atlantic,\n",
    "                         latitude='Latitude',\n",
    "                         longitude='Longitude',\n",
    "                         datetime='DateTime',\n",
    "                         traj_id='ID')\n",
    "\n",
    "pm_gulls = pm.MoveDataFrame(gulls,\n",
    "                 latitude='location-lat',\n",
    "                 longitude='location-long',\n",
    "                 datetime='timestamp',\n",
    "                 traj_id='tag-local-identifier')\n",
    "\n",
    "pm_geolife = pm.MoveDataFrame(geolife,\n",
    "                              latitude='lat',\n",
    "                              longitude='lon',\n",
    "                              datetime='datetime',\n",
    "                              traj_id='id')\n",
    "print(atlantic.shape)"
   ],
   "metadata": {
    "collapsed": false,
    "pycharm": {
     "name": "#%%\n"
    }
   }
  },
  {
   "cell_type": "code",
   "execution_count": 5,
   "outputs": [
    {
     "name": "stdout",
     "output_type": "stream",
     "text": [
      "CPU times: user 12.1 s, sys: 29.5 ms, total: 12.1 s\n",
      "Wall time: 12 s\n"
     ]
    },
    {
     "data": {
      "text/plain": "              P1             P2                 Interpolated?      Distance\n0  (28.0, -96.0)  (28.2, -96.8)                 (28.1, -96.4)   9811.574223\n1  (28.1, -96.5)  (28.2, -97.0)               (28.15, -96.75)   7413.590340\n2  (28.2, -96.8)  (28.3, -97.6)   (28.25, -97.19999999999999)  20373.945476\n3  (28.2, -97.0)  (28.4, -98.3)  (28.299999999999997, -97.65)   4896.613752\n4  (28.3, -97.6)  (28.6, -98.9)  (28.450000000000003, -98.25)   7405.988077",
      "text/html": "<div>\n<style scoped>\n    .dataframe tbody tr th:only-of-type {\n        vertical-align: middle;\n    }\n\n    .dataframe tbody tr th {\n        vertical-align: top;\n    }\n\n    .dataframe thead th {\n        text-align: right;\n    }\n</style>\n<table border=\"1\" class=\"dataframe\">\n  <thead>\n    <tr style=\"text-align: right;\">\n      <th></th>\n      <th>P1</th>\n      <th>P2</th>\n      <th>Interpolated?</th>\n      <th>Distance</th>\n    </tr>\n  </thead>\n  <tbody>\n    <tr>\n      <th>0</th>\n      <td>(28.0, -96.0)</td>\n      <td>(28.2, -96.8)</td>\n      <td>(28.1, -96.4)</td>\n      <td>9811.574223</td>\n    </tr>\n    <tr>\n      <th>1</th>\n      <td>(28.1, -96.5)</td>\n      <td>(28.2, -97.0)</td>\n      <td>(28.15, -96.75)</td>\n      <td>7413.590340</td>\n    </tr>\n    <tr>\n      <th>2</th>\n      <td>(28.2, -96.8)</td>\n      <td>(28.3, -97.6)</td>\n      <td>(28.25, -97.19999999999999)</td>\n      <td>20373.945476</td>\n    </tr>\n    <tr>\n      <th>3</th>\n      <td>(28.2, -97.0)</td>\n      <td>(28.4, -98.3)</td>\n      <td>(28.299999999999997, -97.65)</td>\n      <td>4896.613752</td>\n    </tr>\n    <tr>\n      <th>4</th>\n      <td>(28.3, -97.6)</td>\n      <td>(28.6, -98.9)</td>\n      <td>(28.450000000000003, -98.25)</td>\n      <td>7405.988077</td>\n    </tr>\n  </tbody>\n</table>\n</div>"
     },
     "execution_count": 5,
     "metadata": {},
     "output_type": "execute_result"
    }
   ],
   "source": [
    "%%time\n",
    "\n",
    "linear = ip.interpolation(np_atlantic)\n",
    "#print(linear.shape)\n",
    "linear.head()\n"
   ],
   "metadata": {
    "collapsed": false,
    "pycharm": {
     "name": "#%%\n"
    }
   }
  },
  {
   "cell_type": "code",
   "execution_count": 5,
   "outputs": [],
   "source": [],
   "metadata": {
    "collapsed": false,
    "pycharm": {
     "name": "#%%\n"
    }
   }
  }
 ],
 "metadata": {
  "kernelspec": {
   "display_name": "Python 3",
   "language": "python",
   "name": "python3"
  },
  "language_info": {
   "codemirror_mode": {
    "name": "ipython",
    "version": 2
   },
   "file_extension": ".py",
   "mimetype": "text/x-python",
   "name": "python",
   "nbconvert_exporter": "python",
   "pygments_lexer": "ipython2",
   "version": "2.7.6"
  }
 },
 "nbformat": 4,
 "nbformat_minor": 0
}