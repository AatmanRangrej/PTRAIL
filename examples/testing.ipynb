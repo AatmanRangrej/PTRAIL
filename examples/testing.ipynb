{
 "cells": [
  {
   "cell_type": "code",
   "execution_count": 13,
   "metadata": {
    "collapsed": true
   },
   "outputs": [],
   "source": [
    "import numpy as np\n",
    "import pymove as pm\n",
    "import pandas as pd\n",
    "from core.TrajectoryDF import NumPandasTraj as TrajDF\n",
    "from features.spatial_features import SpatialFeatures as spatial\n",
    "from features.helper_functions import Helpers as help"
   ]
  },
  {
   "cell_type": "code",
   "execution_count": 14,
   "outputs": [
    {
     "data": {
      "text/plain": "(89869, 8)"
     },
     "execution_count": 14,
     "metadata": {},
     "output_type": "execute_result"
    }
   ],
   "source": [
    "pdf = pd.read_csv('./data/gulls.csv')\n",
    "\n",
    "np_traj = TrajDF(pdf,'location-lat', 'location-long',\n",
    "                 'timestamp','tag-local-identifier')\n",
    "np_traj.shape"
   ],
   "metadata": {
    "collapsed": false,
    "pycharm": {
     "name": "#%%\n"
    }
   }
  },
  {
   "cell_type": "code",
   "execution_count": 15,
   "outputs": [
    {
     "name": "stdout",
     "output_type": "stream",
     "text": [
      "CPU times: user 218 ms, sys: 73 ms, total: 291 ms\n",
      "Wall time: 448 ms\n"
     ]
    },
    {
     "data": {
      "text/plain": "                               event-id  visible       lon       lat  \\\nDateTime            traj_id                                            \n2009-05-27 14:00:00 91732    1082620685     True  24.58617  61.24783   \n2009-05-27 20:00:00 91732    1082620686     True  24.58217  61.23267   \n2009-05-28 05:00:00 91732    1082620687     True  24.53133  61.18833   \n\n                            sensor-type individual-taxon-canonical-name  \\\nDateTime            traj_id                                               \n2009-05-27 14:00:00 91732           gps                    Larus fuscus   \n2009-05-27 20:00:00 91732           gps                    Larus fuscus   \n2009-05-28 05:00:00 91732           gps                    Larus fuscus   \n\n                            individual-local-identifier  \\\nDateTime            traj_id                               \n2009-05-27 14:00:00 91732                        91732A   \n2009-05-27 20:00:00 91732                        91732A   \n2009-05-28 05:00:00 91732                        91732A   \n\n                                                                    study-name  \\\nDateTime            traj_id                                                      \n2009-05-27 14:00:00 91732    Navigation experiments in lesser black-backed ...   \n2009-05-27 20:00:00 91732    Navigation experiments in lesser black-backed ...   \n2009-05-28 05:00:00 91732    Navigation experiments in lesser black-backed ...   \n\n                             Distance_prev_to_curr  \nDateTime            traj_id                         \n2009-05-27 14:00:00 91732                      NaN  \n2009-05-27 20:00:00 91732              1699.244398  \n2009-05-28 05:00:00 91732              5632.120064  ",
      "text/html": "<div>\n<style scoped>\n    .dataframe tbody tr th:only-of-type {\n        vertical-align: middle;\n    }\n\n    .dataframe tbody tr th {\n        vertical-align: top;\n    }\n\n    .dataframe thead th {\n        text-align: right;\n    }\n</style>\n<table border=\"1\" class=\"dataframe\">\n  <thead>\n    <tr style=\"text-align: right;\">\n      <th></th>\n      <th></th>\n      <th>event-id</th>\n      <th>visible</th>\n      <th>lon</th>\n      <th>lat</th>\n      <th>sensor-type</th>\n      <th>individual-taxon-canonical-name</th>\n      <th>individual-local-identifier</th>\n      <th>study-name</th>\n      <th>Distance_prev_to_curr</th>\n    </tr>\n    <tr>\n      <th>DateTime</th>\n      <th>traj_id</th>\n      <th></th>\n      <th></th>\n      <th></th>\n      <th></th>\n      <th></th>\n      <th></th>\n      <th></th>\n      <th></th>\n      <th></th>\n    </tr>\n  </thead>\n  <tbody>\n    <tr>\n      <th>2009-05-27 14:00:00</th>\n      <th>91732</th>\n      <td>1082620685</td>\n      <td>True</td>\n      <td>24.58617</td>\n      <td>61.24783</td>\n      <td>gps</td>\n      <td>Larus fuscus</td>\n      <td>91732A</td>\n      <td>Navigation experiments in lesser black-backed ...</td>\n      <td>NaN</td>\n    </tr>\n    <tr>\n      <th>2009-05-27 20:00:00</th>\n      <th>91732</th>\n      <td>1082620686</td>\n      <td>True</td>\n      <td>24.58217</td>\n      <td>61.23267</td>\n      <td>gps</td>\n      <td>Larus fuscus</td>\n      <td>91732A</td>\n      <td>Navigation experiments in lesser black-backed ...</td>\n      <td>1699.244398</td>\n    </tr>\n    <tr>\n      <th>2009-05-28 05:00:00</th>\n      <th>91732</th>\n      <td>1082620687</td>\n      <td>True</td>\n      <td>24.53133</td>\n      <td>61.18833</td>\n      <td>gps</td>\n      <td>Larus fuscus</td>\n      <td>91732A</td>\n      <td>Navigation experiments in lesser black-backed ...</td>\n      <td>5632.120064</td>\n    </tr>\n  </tbody>\n</table>\n</div>"
     },
     "execution_count": 15,
     "metadata": {},
     "output_type": "execute_result"
    }
   ],
   "source": [
    "%%time\n",
    "\n",
    "spatial.create_distance_between_consecutive_column(np_traj).head(3)"
   ],
   "metadata": {
    "collapsed": false,
    "pycharm": {
     "name": "#%%\n"
    }
   }
  },
  {
   "cell_type": "code",
   "execution_count": 16,
   "outputs": [
    {
     "name": "stdout",
     "output_type": "stream",
     "text": [
      "CPU times: user 405 ms, sys: 98.8 ms, total: 504 ms\n",
      "Wall time: 2.71 s\n"
     ]
    },
    {
     "data": {
      "text/plain": "                               event-id  visible       lon       lat  \\\nDateTime            traj_id                                            \n2009-05-27 14:00:00 91732    1082620685     True  24.58617  61.24783   \n2009-05-27 20:00:00 91732    1082620686     True  24.58217  61.23267   \n2009-05-28 05:00:00 91732    1082620687     True  24.53133  61.18833   \n\n                            sensor-type individual-taxon-canonical-name  \\\nDateTime            traj_id                                               \n2009-05-27 14:00:00 91732           gps                    Larus fuscus   \n2009-05-27 20:00:00 91732           gps                    Larus fuscus   \n2009-05-28 05:00:00 91732           gps                    Larus fuscus   \n\n                            individual-local-identifier  \\\nDateTime            traj_id                               \n2009-05-27 14:00:00 91732                        91732A   \n2009-05-27 20:00:00 91732                        91732A   \n2009-05-28 05:00:00 91732                        91732A   \n\n                                                                    study-name  \\\nDateTime            traj_id                                                      \n2009-05-27 14:00:00 91732    Navigation experiments in lesser black-backed ...   \n2009-05-27 20:00:00 91732    Navigation experiments in lesser black-backed ...   \n2009-05-28 05:00:00 91732    Navigation experiments in lesser black-backed ...   \n\n                             Distance_start_to_curr  \nDateTime            traj_id                          \n2009-05-27 14:00:00 91732                       NaN  \n2009-05-27 20:00:00 91732               1699.244398  \n2009-05-28 05:00:00 91732               7238.295521  ",
      "text/html": "<div>\n<style scoped>\n    .dataframe tbody tr th:only-of-type {\n        vertical-align: middle;\n    }\n\n    .dataframe tbody tr th {\n        vertical-align: top;\n    }\n\n    .dataframe thead th {\n        text-align: right;\n    }\n</style>\n<table border=\"1\" class=\"dataframe\">\n  <thead>\n    <tr style=\"text-align: right;\">\n      <th></th>\n      <th></th>\n      <th>event-id</th>\n      <th>visible</th>\n      <th>lon</th>\n      <th>lat</th>\n      <th>sensor-type</th>\n      <th>individual-taxon-canonical-name</th>\n      <th>individual-local-identifier</th>\n      <th>study-name</th>\n      <th>Distance_start_to_curr</th>\n    </tr>\n    <tr>\n      <th>DateTime</th>\n      <th>traj_id</th>\n      <th></th>\n      <th></th>\n      <th></th>\n      <th></th>\n      <th></th>\n      <th></th>\n      <th></th>\n      <th></th>\n      <th></th>\n    </tr>\n  </thead>\n  <tbody>\n    <tr>\n      <th>2009-05-27 14:00:00</th>\n      <th>91732</th>\n      <td>1082620685</td>\n      <td>True</td>\n      <td>24.58617</td>\n      <td>61.24783</td>\n      <td>gps</td>\n      <td>Larus fuscus</td>\n      <td>91732A</td>\n      <td>Navigation experiments in lesser black-backed ...</td>\n      <td>NaN</td>\n    </tr>\n    <tr>\n      <th>2009-05-27 20:00:00</th>\n      <th>91732</th>\n      <td>1082620686</td>\n      <td>True</td>\n      <td>24.58217</td>\n      <td>61.23267</td>\n      <td>gps</td>\n      <td>Larus fuscus</td>\n      <td>91732A</td>\n      <td>Navigation experiments in lesser black-backed ...</td>\n      <td>1699.244398</td>\n    </tr>\n    <tr>\n      <th>2009-05-28 05:00:00</th>\n      <th>91732</th>\n      <td>1082620687</td>\n      <td>True</td>\n      <td>24.53133</td>\n      <td>61.18833</td>\n      <td>gps</td>\n      <td>Larus fuscus</td>\n      <td>91732A</td>\n      <td>Navigation experiments in lesser black-backed ...</td>\n      <td>7238.295521</td>\n    </tr>\n  </tbody>\n</table>\n</div>"
     },
     "execution_count": 12,
     "metadata": {},
     "output_type": "execute_result"
    },
    {
     "name": "stdout",
     "output_type": "stream",
     "text": [
      "CPU times: user 173 ms, sys: 41.1 ms, total: 214 ms\n",
      "Wall time: 1.98 s\n"
     ]
    },
    {
     "data": {
      "text/plain": "                               event-id  visible       lon       lat  \\\nDateTime            traj_id                                            \n2009-05-27 14:00:00 91732    1082620685     True  24.58617  61.24783   \n2009-05-27 20:00:00 91732    1082620686     True  24.58217  61.23267   \n2009-05-28 05:00:00 91732    1082620687     True  24.53133  61.18833   \n\n                            sensor-type individual-taxon-canonical-name  \\\nDateTime            traj_id                                               \n2009-05-27 14:00:00 91732           gps                    Larus fuscus   \n2009-05-27 20:00:00 91732           gps                    Larus fuscus   \n2009-05-28 05:00:00 91732           gps                    Larus fuscus   \n\n                            individual-local-identifier  \\\nDateTime            traj_id                               \n2009-05-27 14:00:00 91732                        91732A   \n2009-05-27 20:00:00 91732                        91732A   \n2009-05-28 05:00:00 91732                        91732A   \n\n                                                                    study-name  \\\nDateTime            traj_id                                                      \n2009-05-27 14:00:00 91732    Navigation experiments in lesser black-backed ...   \n2009-05-27 20:00:00 91732    Navigation experiments in lesser black-backed ...   \n2009-05-28 05:00:00 91732    Navigation experiments in lesser black-backed ...   \n\n                             Distance_start_to_curr  \nDateTime            traj_id                          \n2009-05-27 14:00:00 91732                       NaN  \n2009-05-27 20:00:00 91732               1699.244398  \n2009-05-28 05:00:00 91732               7238.295521  ",
      "text/html": "<div>\n<style scoped>\n    .dataframe tbody tr th:only-of-type {\n        vertical-align: middle;\n    }\n\n    .dataframe tbody tr th {\n        vertical-align: top;\n    }\n\n    .dataframe thead th {\n        text-align: right;\n    }\n</style>\n<table border=\"1\" class=\"dataframe\">\n  <thead>\n    <tr style=\"text-align: right;\">\n      <th></th>\n      <th></th>\n      <th>event-id</th>\n      <th>visible</th>\n      <th>lon</th>\n      <th>lat</th>\n      <th>sensor-type</th>\n      <th>individual-taxon-canonical-name</th>\n      <th>individual-local-identifier</th>\n      <th>study-name</th>\n      <th>Distance_start_to_curr</th>\n    </tr>\n    <tr>\n      <th>DateTime</th>\n      <th>traj_id</th>\n      <th></th>\n      <th></th>\n      <th></th>\n      <th></th>\n      <th></th>\n      <th></th>\n      <th></th>\n      <th></th>\n      <th></th>\n    </tr>\n  </thead>\n  <tbody>\n    <tr>\n      <th>2009-05-27 14:00:00</th>\n      <th>91732</th>\n      <td>1082620685</td>\n      <td>True</td>\n      <td>24.58617</td>\n      <td>61.24783</td>\n      <td>gps</td>\n      <td>Larus fuscus</td>\n      <td>91732A</td>\n      <td>Navigation experiments in lesser black-backed ...</td>\n      <td>NaN</td>\n    </tr>\n    <tr>\n      <th>2009-05-27 20:00:00</th>\n      <th>91732</th>\n      <td>1082620686</td>\n      <td>True</td>\n      <td>24.58217</td>\n      <td>61.23267</td>\n      <td>gps</td>\n      <td>Larus fuscus</td>\n      <td>91732A</td>\n      <td>Navigation experiments in lesser black-backed ...</td>\n      <td>1699.244398</td>\n    </tr>\n    <tr>\n      <th>2009-05-28 05:00:00</th>\n      <th>91732</th>\n      <td>1082620687</td>\n      <td>True</td>\n      <td>24.53133</td>\n      <td>61.18833</td>\n      <td>gps</td>\n      <td>Larus fuscus</td>\n      <td>91732A</td>\n      <td>Navigation experiments in lesser black-backed ...</td>\n      <td>7238.295521</td>\n    </tr>\n  </tbody>\n</table>\n</div>"
     },
     "execution_count": 16,
     "metadata": {},
     "output_type": "execute_result"
    }
   ],
   "source": [
    "%%time\n",
    "\n",
    "spatial.create_distance_from_start_column(np_traj).head(3)"
   ],
   "metadata": {
    "collapsed": false,
    "pycharm": {
     "name": "#%%\n"
    }
   }
  },
  {
   "cell_type": "code",
   "execution_count": 16,
   "outputs": [],
   "source": [
    "\n"
   ],
   "metadata": {
    "collapsed": false,
    "pycharm": {
     "name": "#%%\n"
    }
   }
  }
 ],
 "metadata": {
  "kernelspec": {
   "display_name": "Python 3",
   "language": "python",
   "name": "python3"
  },
  "language_info": {
   "codemirror_mode": {
    "name": "ipython",
    "version": 2
   },
   "file_extension": ".py",
   "mimetype": "text/x-python",
   "name": "python",
   "nbconvert_exporter": "python",
   "pygments_lexer": "ipython2",
   "version": "2.7.6"
  }
 },
 "nbformat": 4,
 "nbformat_minor": 0
}