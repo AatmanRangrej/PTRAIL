{
 "cells": [
  {
   "cell_type": "code",
   "execution_count": 1,
   "metadata": {
    "collapsed": true
   },
   "outputs": [],
   "source": [
    "import pymove as pm\n",
    "import pandas as pd\n",
    "import numpy as np\n",
    "np.seterr(invalid='ignore')\n",
    "from core.TrajectoryDF import NumPandasTraj as TrajDF\n",
    "from preprocessing.filters import Filters as filt\n",
    "from features.spatial_features import SpatialFeatures as spatial\n",
    "from utilities.conversions import Conversions as con\n",
    "from preprocessing.interpolation import Interpolate as ip"
   ]
  },
  {
   "cell_type": "code",
   "execution_count": 2,
   "outputs": [],
   "source": [
    "atlantic = pd.read_csv('./data/atlantic.csv')\n",
    "atlantic = con.convert_directions_to_degree_lat_lon(atlantic, 'Latitude',\"Longitude\")\n",
    "def convert_to_datetime(row):\n",
    "        this_date = '{}-{}-{}'.format(str(row['Date'])[0:4], str(row['Date'])[4:6], str(row['Date'])[6:])\n",
    "        this_time = '{:02d}:{:02d}:00'.format(int(row['Time']/100), int(str(row['Time'])[-2:]))\n",
    "        return '{} {}'.format(this_date, this_time)\n",
    "atlantic['DateTime'] = atlantic.apply(convert_to_datetime, axis=1)\n",
    "\n",
    "gulls = pd.read_csv('./data/gulls.csv')\n",
    "\n",
    "geolife = pd.read_csv('./data/geolife_sample.csv')"
   ],
   "metadata": {
    "collapsed": false,
    "pycharm": {
     "name": "#%%\n"
    }
   }
  },
  {
   "cell_type": "code",
   "execution_count": 3,
   "outputs": [
    {
     "name": "stdout",
     "output_type": "stream",
     "text": [
      "CPU times: user 526 ms, sys: 8.08 ms, total: 534 ms\n",
      "Wall time: 533 ms\n"
     ]
    }
   ],
   "source": [
    "%%time\n",
    "\n",
    "np_atlantic = TrajDF(atlantic,\n",
    "                         latitude='Latitude',\n",
    "                         longitude='Longitude',\n",
    "                         datetime='DateTime',\n",
    "                         traj_id='ID',\n",
    "                         rest_of_columns=[])\n",
    "\n",
    "np_gulls = TrajDF(gulls,\n",
    "                 latitude='location-lat',\n",
    "                 longitude='location-long',\n",
    "                 datetime='timestamp',\n",
    "                 traj_id='tag-local-identifier',\n",
    "                 rest_of_columns=[])\n",
    "\n",
    "np_geolife = TrajDF(geolife,latitude='lat',\n",
    "                     longitude='lon',\n",
    "                     datetime='datetime',\n",
    "                     traj_id='id')\n"
   ],
   "metadata": {
    "collapsed": false,
    "pycharm": {
     "name": "#%%\n"
    }
   }
  },
  {
   "cell_type": "code",
   "execution_count": 4,
   "outputs": [
    {
     "name": "stdout",
     "output_type": "stream",
     "text": [
      "(49105, 23)\n",
      "CPU times: user 104 ms, sys: 7.98 ms, total: 112 ms\n",
      "Wall time: 109 ms\n"
     ]
    }
   ],
   "source": [
    "%%time\n",
    "\n",
    "pm_atlantic = pm.MoveDataFrame(atlantic,\n",
    "                         latitude='Latitude',\n",
    "                         longitude='Longitude',\n",
    "                         datetime='DateTime',\n",
    "                         traj_id='ID')\n",
    "\n",
    "pm_gulls = pm.MoveDataFrame(gulls,\n",
    "                 latitude='location-lat',\n",
    "                 longitude='location-long',\n",
    "                 datetime='timestamp',\n",
    "                 traj_id='tag-local-identifier')\n",
    "\n",
    "pm_geolife = pm.MoveDataFrame(geolife,\n",
    "                              latitude='lat',\n",
    "                              longitude='lon',\n",
    "                              datetime='datetime',\n",
    "                              traj_id='id')\n",
    "print(atlantic.shape)"
   ],
   "metadata": {
    "collapsed": false,
    "pycharm": {
     "name": "#%%\n"
    }
   }
  },
  {
   "cell_type": "code",
   "execution_count": 5,
   "outputs": [
    {
     "data": {
      "text/plain": "217653"
     },
     "execution_count": 5,
     "metadata": {},
     "output_type": "execute_result"
    }
   ],
   "source": [
    "# %%time\n",
    "#\n",
    "# linear = ip.interpolate_position(dataframe=np_atlantic,\n",
    "#                                  ip_type='linear',\n",
    "#                                  distance_threshold=250000)\n",
    "# print(linear.shape)\n",
    "# linear.head()\n",
    "\n",
    "len(np_geolife)"
   ],
   "metadata": {
    "collapsed": false,
    "pycharm": {
     "name": "#%%\n"
    }
   }
  },
  {
   "cell_type": "code",
   "execution_count": 6,
   "outputs": [
    {
     "name": "stdout",
     "output_type": "stream",
     "text": [
      "CPU times: user 52.9 s, sys: 37.9 ms, total: 52.9 s\n",
      "Wall time: 52.9 s\n"
     ]
    }
   ],
   "source": [
    "%%time\n",
    "np_geolife = spatial.create_distance_between_consecutive_column(np_geolife)\n",
    "interpolated_geolife = ip.interpolate_position(np_geolife, 30)"
   ],
   "metadata": {
    "collapsed": false,
    "pycharm": {
     "name": "#%%\n"
    }
   }
  },
  {
   "cell_type": "code",
   "execution_count": 7,
   "outputs": [
    {
     "name": "stdout",
     "output_type": "stream",
     "text": [
      "Length of original geolife Dataframe: 217653\n",
      "Length of interpolated geolife Dataframe: 222460\n"
     ]
    }
   ],
   "source": [
    "print(f\"Length of original geolife Dataframe: {len(np_geolife)}\")\n",
    "print(f\"Length of interpolated geolife Dataframe: {len(interpolated_geolife)}\")"
   ],
   "metadata": {
    "collapsed": false,
    "pycharm": {
     "name": "#%%\n"
    }
   }
  },
  {
   "cell_type": "code",
   "execution_count": 8,
   "outputs": [
    {
     "name": "stderr",
     "output_type": "stream",
     "text": [
      "/home/yjharanwala/anaconda3/envs/PreprocessingLibrary/lib/python3.8/site-packages/pandas/core/indexing.py:670: SettingWithCopyWarning: \n",
      "A value is trying to be set on a copy of a slice from a DataFrame\n",
      "\n",
      "See the caveats in the documentation: https://pandas.pydata.org/pandas-docs/stable/user_guide/indexing.html#returning-a-view-versus-a-copy\n",
      "  iloc._setitem_with_indexer(indexer, value)\n"
     ]
    },
    {
     "name": "stdout",
     "output_type": "stream",
     "text": [
      "CPU times: user 29.5 s, sys: 485 ms, total: 30 s\n",
      "Wall time: 31.2 s\n"
     ]
    }
   ],
   "source": [
    "%%time\n",
    "\n",
    "np_atlantic = spatial.create_distance_between_consecutive_column(np_atlantic)\n",
    "interpolated_atlantic = ip.interpolate_position(np_atlantic, 250000)"
   ],
   "metadata": {
    "collapsed": false,
    "pycharm": {
     "name": "#%%\n"
    }
   }
  },
  {
   "cell_type": "code",
   "execution_count": 9,
   "outputs": [
    {
     "name": "stdout",
     "output_type": "stream",
     "text": [
      "Length of original atlantic Dataframe: 49105\n",
      "Length of interpolated atlantic Dataframe: 52837\n"
     ]
    }
   ],
   "source": [
    "print(f\"Length of original atlantic Dataframe: {len(np_atlantic)}\")\n",
    "print(f\"Length of interpolated atlantic Dataframe: {len(interpolated_atlantic)}\")\n"
   ],
   "metadata": {
    "collapsed": false,
    "pycharm": {
     "name": "#%%\n"
    }
   }
  }
 ],
 "metadata": {
  "kernelspec": {
   "display_name": "Python 3",
   "language": "python",
   "name": "python3"
  },
  "language_info": {
   "codemirror_mode": {
    "name": "ipython",
    "version": 2
   },
   "file_extension": ".py",
   "mimetype": "text/x-python",
   "name": "python",
   "nbconvert_exporter": "python",
   "pygments_lexer": "ipython2",
   "version": "2.7.6"
  }
 },
 "nbformat": 4,
 "nbformat_minor": 0
}