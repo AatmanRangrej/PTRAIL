{
 "cells": [
  {
   "cell_type": "code",
   "execution_count": 5,
   "metadata": {},
   "outputs": [],
   "source": [
    "import numpy as np\n",
    "\n",
    "import utilities.constants as const\n",
    "from core.TrajectoryDF import NumPandasTraj as NumTrajDF\n",
    "from features.spatial_features import SpatialFeatures as spatial\n",
    "from features.temporal_features import TemporalFeatures as temporal\n",
    "from utilities.conversions import Conversions as con\n",
    "from preprocessing.filters import Filters as filters\n",
    "import pandas as pd\n",
    "import time\n",
    "np.seterr(invalid='ignore')\n",
    "start = time.time()"
   ]
  },
  {
   "cell_type": "code",
   "execution_count": 6,
   "outputs": [
    {
     "name": "stdout",
     "output_type": "stream",
     "text": [
      "CPU times: user 9.78 s, sys: 74.7 ms, total: 9.86 s\n",
      "Wall time: 9.86 s\n"
     ]
    }
   ],
   "source": [
    "%%time\n",
    "\n",
    "# Reading the geolife dataset and converting to NumPandasTraj.\n",
    "geolife = pd.read_csv('./data/geolife_sample.csv')\n",
    "geolife = NumTrajDF(geolife,'lat','lon','datetime','id')\n",
    "geolife.head()\n",
    "\n",
    "# Reading the gulls dataset and converting to NumPandasTraj.\n",
    "gulls = pd.read_csv('./data/gulls.csv')\n",
    "gulls = NumTrajDF(gulls,\n",
    "                 latitude='location-lat',\n",
    "                 longitude='location-long',\n",
    "                 datetime='timestamp',\n",
    "                 traj_id='tag-local-identifier',\n",
    "                 rest_of_columns=[])\n",
    "#\n",
    "# Reading the atlantic dataset, cleaning it up and then converting\n",
    "# it to NumPandasTraj.\n",
    "atlantic = pd.read_csv('./data/atlantic.csv')\n",
    "atlantic = con.convert_directions_to_degree_lat_lon(atlantic, 'Latitude',\"Longitude\")\n",
    "def convert_to_datetime(row):\n",
    "        this_date = '{}-{}-{}'.format(str(row['Date'])[0:4], str(row['Date'])[4:6], str(row['Date'])[6:])\n",
    "        this_time = '{:02d}:{:02d}:00'.format(int(row['Time']/100), int(str(row['Time'])[-2:]))\n",
    "        return '{} {}'.format(this_date, this_time)\n",
    "atlantic['DateTime'] = atlantic.apply(convert_to_datetime, axis=1)\n",
    "atlantic = NumTrajDF(atlantic,\n",
    "                         latitude='Latitude',\n",
    "                         longitude='Longitude',\n",
    "                         datetime='DateTime',\n",
    "                         traj_id='ID',\n",
    "                         rest_of_columns=[])\n"
   ],
   "metadata": {
    "collapsed": false,
    "pycharm": {
     "name": "#%%\n"
    }
   }
  },
  {
   "cell_type": "code",
   "execution_count": 7,
   "outputs": [
    {
     "name": "stdout",
     "output_type": "stream",
     "text": [
      "CPU times: user 15 µs, sys: 0 ns, total: 15 µs\n",
      "Wall time: 17.6 µs\n"
     ]
    },
    {
     "data": {
      "text/plain": "(-0.01569612305760477,\n 0.1588368021418282,\n 0.01569612305760477,\n 0.1902290482570377)"
     },
     "execution_count": 7,
     "metadata": {},
     "output_type": "execute_result"
    }
   ],
   "source": [
    "%%time\n",
    "\n",
    "filters.get_bounding_box_by_radius(0, 10, 100000)"
   ],
   "metadata": {
    "collapsed": false,
    "pycharm": {
     "name": "#%%\n"
    }
   }
  }
 ],
 "metadata": {
  "kernelspec": {
   "display_name": "Python 3",
   "language": "python",
   "name": "python3"
  },
  "language_info": {
   "codemirror_mode": {
    "name": "ipython",
    "version": 3
   },
   "file_extension": ".py",
   "mimetype": "text/x-python",
   "name": "python",
   "nbconvert_exporter": "python",
   "pygments_lexer": "ipython3",
   "version": "3.8.10"
  }
 },
 "nbformat": 4,
 "nbformat_minor": 1
}