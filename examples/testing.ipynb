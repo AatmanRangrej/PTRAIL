{
 "cells": [
  {
   "cell_type": "code",
   "execution_count": 1,
   "metadata": {
    "collapsed": true
   },
   "outputs": [],
   "source": [
    "import pymove as pm\n",
    "import pandas as pd\n",
    "from core.TrajectoryDF import NumPandasTraj as TrajDF\n",
    "from features.spatial_features import SpatialFeatures as spatial\n",
    "from utilities.conversions import Conversions as con"
   ]
  },
  {
   "cell_type": "code",
   "execution_count": 2,
   "outputs": [],
   "source": [
    "atlantic = pd.read_csv('./data/atlantic.csv')\n",
    "atlantic = con.convert_directions_to_degree_lat_lon(atlantic, 'Latitude',\"Longitude\")\n",
    "def convert_to_datetime(row):\n",
    "        this_date = '{}-{}-{}'.format(str(row['Date'])[0:4], str(row['Date'])[4:6], str(row['Date'])[6:])\n",
    "        this_time = '{:02d}:{:02d}:00'.format(int(row['Time']/100), int(str(row['Time'])[-2:]))\n",
    "        return '{} {}'.format(this_date, this_time)\n",
    "atlantic['DateTime'] = atlantic.apply(convert_to_datetime, axis=1)\n",
    "\n",
    "gulls = pd.read_csv('./data/gulls.csv')\n",
    "\n",
    "geolife = pd.read_csv('./data/geolife_sample.csv')"
   ],
   "metadata": {
    "collapsed": false,
    "pycharm": {
     "name": "#%%\n"
    }
   }
  },
  {
   "cell_type": "code",
   "execution_count": 3,
   "outputs": [
    {
     "name": "stdout",
     "output_type": "stream",
     "text": [
      "CPU times: user 515 ms, sys: 8.06 ms, total: 523 ms\n",
      "Wall time: 522 ms\n"
     ]
    }
   ],
   "source": [
    "%%time\n",
    "\n",
    "np_atlantic = TrajDF(atlantic,\n",
    "                         latitude='Latitude',\n",
    "                         longitude='Longitude',\n",
    "                         datetime='DateTime',\n",
    "                         traj_id='ID',\n",
    "                         rest_of_columns=[])\n",
    "\n",
    "np_gulls = TrajDF(gulls,\n",
    "                 latitude='location-lat',\n",
    "                 longitude='location-long',\n",
    "                 datetime='timestamp',\n",
    "                 traj_id='tag-local-identifier',\n",
    "                 rest_of_columns=[])\n",
    "\n",
    "np_geolife = TrajDF(geolife,latitude='lat',\n",
    "                     longitude='lon',\n",
    "                     datetime='datetime',\n",
    "                     traj_id='id')\n"
   ],
   "metadata": {
    "collapsed": false,
    "pycharm": {
     "name": "#%%\n"
    }
   }
  },
  {
   "cell_type": "code",
   "execution_count": 4,
   "outputs": [
    {
     "name": "stdout",
     "output_type": "stream",
     "text": [
      "CPU times: user 107 ms, sys: 3.95 ms, total: 111 ms\n",
      "Wall time: 110 ms\n"
     ]
    }
   ],
   "source": [
    "%%time\n",
    "\n",
    "pm_atlantic = pm.MoveDataFrame(atlantic,\n",
    "                         latitude='Latitude',\n",
    "                         longitude='Longitude',\n",
    "                         datetime='DateTime',\n",
    "                         traj_id='ID')\n",
    "\n",
    "pm_gulls = pm.MoveDataFrame(gulls,\n",
    "                 latitude='location-lat',\n",
    "                 longitude='location-long',\n",
    "                 datetime='timestamp',\n",
    "                 traj_id='tag-local-identifier')\n",
    "\n",
    "pm_geolife = pm.MoveDataFrame(geolife,\n",
    "                              latitude='lat',\n",
    "                              longitude='lon',\n",
    "                              datetime='datetime',\n",
    "                              traj_id='id')"
   ],
   "metadata": {
    "collapsed": false,
    "pycharm": {
     "name": "#%%\n"
    }
   }
  },
  {
   "cell_type": "code",
   "execution_count": 5,
   "outputs": [
    {
     "name": "stdout",
     "output_type": "stream",
     "text": [
      "CPU times: user 568 ms, sys: 433 ms, total: 1 s\n",
      "Wall time: 2.28 s\n"
     ]
    },
    {
     "data": {
      "text/plain": "                                             Name      Date  Time Event  \\\nDateTime            traj_id                                               \n1873-08-13 00:00:00 AL021873              UNNAMED  18730813     0         \n1873-08-13 06:00:00 AL021873              UNNAMED  18730813   600         \n1873-08-13 12:00:00 AL021873              UNNAMED  18730813  1200         \n1873-08-13 18:00:00 AL021873              UNNAMED  18730813  1800         \n1873-08-14 00:00:00 AL021873              UNNAMED  18730814     0         \n\n                             Status   lat   lon  Maximum Wind  \\\nDateTime            traj_id                                     \n1873-08-13 00:00:00 AL021873     TS  13.9 -25.0            40   \n1873-08-13 06:00:00 AL021873     TS  14.0 -26.0            40   \n1873-08-13 12:00:00 AL021873     TS  14.0 -27.0            40   \n1873-08-13 18:00:00 AL021873     TS  14.1 -28.1            40   \n1873-08-14 00:00:00 AL021873     TS  14.1 -29.3            50   \n\n                              Minimum Pressure  Low Wind NE  ...  \\\nDateTime            traj_id                                  ...   \n1873-08-13 00:00:00 AL021873              -999         -999  ...   \n1873-08-13 06:00:00 AL021873              -999         -999  ...   \n1873-08-13 12:00:00 AL021873              -999         -999  ...   \n1873-08-13 18:00:00 AL021873              -999         -999  ...   \n1873-08-14 00:00:00 AL021873              -999         -999  ...   \n\n                              Moderate Wind NE  Moderate Wind SE  \\\nDateTime            traj_id                                        \n1873-08-13 00:00:00 AL021873              -999              -999   \n1873-08-13 06:00:00 AL021873              -999              -999   \n1873-08-13 12:00:00 AL021873              -999              -999   \n1873-08-13 18:00:00 AL021873              -999              -999   \n1873-08-14 00:00:00 AL021873              -999              -999   \n\n                              Moderate Wind SW  Moderate Wind NW  \\\nDateTime            traj_id                                        \n1873-08-13 00:00:00 AL021873              -999              -999   \n1873-08-13 06:00:00 AL021873              -999              -999   \n1873-08-13 12:00:00 AL021873              -999              -999   \n1873-08-13 18:00:00 AL021873              -999              -999   \n1873-08-14 00:00:00 AL021873              -999              -999   \n\n                              High Wind NE  High Wind SE  High Wind SW  \\\nDateTime            traj_id                                              \n1873-08-13 00:00:00 AL021873          -999          -999          -999   \n1873-08-13 06:00:00 AL021873          -999          -999          -999   \n1873-08-13 12:00:00 AL021873          -999          -999          -999   \n1873-08-13 18:00:00 AL021873          -999          -999          -999   \n1873-08-14 00:00:00 AL021873          -999          -999          -999   \n\n                              High Wind NW  Distance_prev_to_curr  \\\nDateTime            traj_id                                         \n1873-08-13 00:00:00 AL021873          -999                    NaN   \n1873-08-13 06:00:00 AL021873          -999          108486.658872   \n1873-08-13 12:00:00 AL021873          -999          107891.881958   \n1873-08-13 18:00:00 AL021873          -999          119175.045002   \n1873-08-14 00:00:00 AL021873          -999          129413.676731   \n\n                              Distance_start_to_curr  \nDateTime            traj_id                           \n1873-08-13 00:00:00 AL021873                     NaN  \n1873-08-13 06:00:00 AL021873           108486.658872  \n1873-08-13 12:00:00 AL021873           216116.369259  \n1873-08-13 18:00:00 AL021873           335201.031514  \n1873-08-14 00:00:00 AL021873           464461.502447  \n\n[5 rows x 23 columns]",
      "text/html": "<div>\n<style scoped>\n    .dataframe tbody tr th:only-of-type {\n        vertical-align: middle;\n    }\n\n    .dataframe tbody tr th {\n        vertical-align: top;\n    }\n\n    .dataframe thead th {\n        text-align: right;\n    }\n</style>\n<table border=\"1\" class=\"dataframe\">\n  <thead>\n    <tr style=\"text-align: right;\">\n      <th></th>\n      <th></th>\n      <th>Name</th>\n      <th>Date</th>\n      <th>Time</th>\n      <th>Event</th>\n      <th>Status</th>\n      <th>lat</th>\n      <th>lon</th>\n      <th>Maximum Wind</th>\n      <th>Minimum Pressure</th>\n      <th>Low Wind NE</th>\n      <th>...</th>\n      <th>Moderate Wind NE</th>\n      <th>Moderate Wind SE</th>\n      <th>Moderate Wind SW</th>\n      <th>Moderate Wind NW</th>\n      <th>High Wind NE</th>\n      <th>High Wind SE</th>\n      <th>High Wind SW</th>\n      <th>High Wind NW</th>\n      <th>Distance_prev_to_curr</th>\n      <th>Distance_start_to_curr</th>\n    </tr>\n    <tr>\n      <th>DateTime</th>\n      <th>traj_id</th>\n      <th></th>\n      <th></th>\n      <th></th>\n      <th></th>\n      <th></th>\n      <th></th>\n      <th></th>\n      <th></th>\n      <th></th>\n      <th></th>\n      <th></th>\n      <th></th>\n      <th></th>\n      <th></th>\n      <th></th>\n      <th></th>\n      <th></th>\n      <th></th>\n      <th></th>\n      <th></th>\n      <th></th>\n    </tr>\n  </thead>\n  <tbody>\n    <tr>\n      <th>1873-08-13 00:00:00</th>\n      <th>AL021873</th>\n      <td>UNNAMED</td>\n      <td>18730813</td>\n      <td>0</td>\n      <td></td>\n      <td>TS</td>\n      <td>13.9</td>\n      <td>-25.0</td>\n      <td>40</td>\n      <td>-999</td>\n      <td>-999</td>\n      <td>...</td>\n      <td>-999</td>\n      <td>-999</td>\n      <td>-999</td>\n      <td>-999</td>\n      <td>-999</td>\n      <td>-999</td>\n      <td>-999</td>\n      <td>-999</td>\n      <td>NaN</td>\n      <td>NaN</td>\n    </tr>\n    <tr>\n      <th>1873-08-13 06:00:00</th>\n      <th>AL021873</th>\n      <td>UNNAMED</td>\n      <td>18730813</td>\n      <td>600</td>\n      <td></td>\n      <td>TS</td>\n      <td>14.0</td>\n      <td>-26.0</td>\n      <td>40</td>\n      <td>-999</td>\n      <td>-999</td>\n      <td>...</td>\n      <td>-999</td>\n      <td>-999</td>\n      <td>-999</td>\n      <td>-999</td>\n      <td>-999</td>\n      <td>-999</td>\n      <td>-999</td>\n      <td>-999</td>\n      <td>108486.658872</td>\n      <td>108486.658872</td>\n    </tr>\n    <tr>\n      <th>1873-08-13 12:00:00</th>\n      <th>AL021873</th>\n      <td>UNNAMED</td>\n      <td>18730813</td>\n      <td>1200</td>\n      <td></td>\n      <td>TS</td>\n      <td>14.0</td>\n      <td>-27.0</td>\n      <td>40</td>\n      <td>-999</td>\n      <td>-999</td>\n      <td>...</td>\n      <td>-999</td>\n      <td>-999</td>\n      <td>-999</td>\n      <td>-999</td>\n      <td>-999</td>\n      <td>-999</td>\n      <td>-999</td>\n      <td>-999</td>\n      <td>107891.881958</td>\n      <td>216116.369259</td>\n    </tr>\n    <tr>\n      <th>1873-08-13 18:00:00</th>\n      <th>AL021873</th>\n      <td>UNNAMED</td>\n      <td>18730813</td>\n      <td>1800</td>\n      <td></td>\n      <td>TS</td>\n      <td>14.1</td>\n      <td>-28.1</td>\n      <td>40</td>\n      <td>-999</td>\n      <td>-999</td>\n      <td>...</td>\n      <td>-999</td>\n      <td>-999</td>\n      <td>-999</td>\n      <td>-999</td>\n      <td>-999</td>\n      <td>-999</td>\n      <td>-999</td>\n      <td>-999</td>\n      <td>119175.045002</td>\n      <td>335201.031514</td>\n    </tr>\n    <tr>\n      <th>1873-08-14 00:00:00</th>\n      <th>AL021873</th>\n      <td>UNNAMED</td>\n      <td>18730814</td>\n      <td>0</td>\n      <td></td>\n      <td>TS</td>\n      <td>14.1</td>\n      <td>-29.3</td>\n      <td>50</td>\n      <td>-999</td>\n      <td>-999</td>\n      <td>...</td>\n      <td>-999</td>\n      <td>-999</td>\n      <td>-999</td>\n      <td>-999</td>\n      <td>-999</td>\n      <td>-999</td>\n      <td>-999</td>\n      <td>-999</td>\n      <td>129413.676731</td>\n      <td>464461.502447</td>\n    </tr>\n  </tbody>\n</table>\n<p>5 rows × 23 columns</p>\n</div>"
     },
     "execution_count": 5,
     "metadata": {},
     "output_type": "execute_result"
    }
   ],
   "source": [
    "%%time\n",
    "\n",
    "small_one = spatial.create_distance_between_consecutive_column(np_atlantic)\n",
    "small_one = spatial.create_distance_from_start_column(small_one)\n",
    "small_one.head()\n"
   ],
   "metadata": {
    "collapsed": false,
    "pycharm": {
     "name": "#%%\n"
    }
   }
  },
  {
   "cell_type": "code",
   "execution_count": 6,
   "outputs": [
    {
     "data": {
      "text/plain": "VBox(children=(HTML(value=''), IntProgress(value=0, max=1814)))",
      "application/vnd.jupyter.widget-view+json": {
       "version_major": 2,
       "version_minor": 0,
       "model_id": "1b1e2a7ae12c4dcf95d0a3c8b52a4045"
      }
     },
     "metadata": {},
     "output_type": "display_data"
    },
    {
     "name": "stdout",
     "output_type": "stream",
     "text": [
      "CPU times: user 25.7 s, sys: 61 ms, total: 25.8 s\n",
      "Wall time: 25.6 s\n"
     ]
    },
    {
     "data": {
      "text/plain": "                         Name      Date  Time Event Status   lat   lon  \\\nid                                                                       \nAL011851              UNNAMED  18510625     0           HU  28.0 -94.8   \nAL011851              UNNAMED  18510625   600           HU  28.0 -95.4   \nAL011851              UNNAMED  18510625  1200           HU  28.0 -96.0   \nAL011851              UNNAMED  18510625  1800           HU  28.1 -96.5   \nAL011851              UNNAMED  18510625  2100     L     HU  28.2 -96.8   \n\n          Maximum Wind  Minimum Pressure  Low Wind NE  ...  Moderate Wind SW  \\\nid                                                     ...                     \nAL011851            80              -999         -999  ...              -999   \nAL011851            80              -999         -999  ...              -999   \nAL011851            80              -999         -999  ...              -999   \nAL011851            80              -999         -999  ...              -999   \nAL011851            80              -999         -999  ...              -999   \n\n          Moderate Wind NW  High Wind NE  High Wind SE  High Wind SW  \\\nid                                                                     \nAL011851              -999          -999          -999          -999   \nAL011851              -999          -999          -999          -999   \nAL011851              -999          -999          -999          -999   \nAL011851              -999          -999          -999          -999   \nAL011851              -999          -999          -999          -999   \n\n          High Wind NW            datetime  dist_to_prev  dist_to_next  \\\nid                                                                       \nAL011851          -999 1851-06-25 00:00:00           NaN  58907.516366   \nAL011851          -999 1851-06-25 06:00:00  58907.516366  58907.516366   \nAL011851          -999 1851-06-25 12:00:00  58907.516366  50310.976622   \nAL011851          -999 1851-06-25 18:00:00  50310.976622  31444.370265   \nAL011851          -999 1851-06-25 21:00:00  31444.370265  19599.292319   \n\n          dist_prev_to_next  \nid                           \nAL011851                NaN  \nAL011851      117814.676769  \nAL011851      108517.871246  \nAL011851       81560.691439  \nAL011851       50266.402639  \n\n[5 rows x 25 columns]",
      "text/html": "<div>\n<style scoped>\n    .dataframe tbody tr th:only-of-type {\n        vertical-align: middle;\n    }\n\n    .dataframe tbody tr th {\n        vertical-align: top;\n    }\n\n    .dataframe thead th {\n        text-align: right;\n    }\n</style>\n<table border=\"1\" class=\"dataframe\">\n  <thead>\n    <tr style=\"text-align: right;\">\n      <th></th>\n      <th>Name</th>\n      <th>Date</th>\n      <th>Time</th>\n      <th>Event</th>\n      <th>Status</th>\n      <th>lat</th>\n      <th>lon</th>\n      <th>Maximum Wind</th>\n      <th>Minimum Pressure</th>\n      <th>Low Wind NE</th>\n      <th>...</th>\n      <th>Moderate Wind SW</th>\n      <th>Moderate Wind NW</th>\n      <th>High Wind NE</th>\n      <th>High Wind SE</th>\n      <th>High Wind SW</th>\n      <th>High Wind NW</th>\n      <th>datetime</th>\n      <th>dist_to_prev</th>\n      <th>dist_to_next</th>\n      <th>dist_prev_to_next</th>\n    </tr>\n    <tr>\n      <th>id</th>\n      <th></th>\n      <th></th>\n      <th></th>\n      <th></th>\n      <th></th>\n      <th></th>\n      <th></th>\n      <th></th>\n      <th></th>\n      <th></th>\n      <th></th>\n      <th></th>\n      <th></th>\n      <th></th>\n      <th></th>\n      <th></th>\n      <th></th>\n      <th></th>\n      <th></th>\n      <th></th>\n      <th></th>\n    </tr>\n  </thead>\n  <tbody>\n    <tr>\n      <th>AL011851</th>\n      <td>UNNAMED</td>\n      <td>18510625</td>\n      <td>0</td>\n      <td></td>\n      <td>HU</td>\n      <td>28.0</td>\n      <td>-94.8</td>\n      <td>80</td>\n      <td>-999</td>\n      <td>-999</td>\n      <td>...</td>\n      <td>-999</td>\n      <td>-999</td>\n      <td>-999</td>\n      <td>-999</td>\n      <td>-999</td>\n      <td>-999</td>\n      <td>1851-06-25 00:00:00</td>\n      <td>NaN</td>\n      <td>58907.516366</td>\n      <td>NaN</td>\n    </tr>\n    <tr>\n      <th>AL011851</th>\n      <td>UNNAMED</td>\n      <td>18510625</td>\n      <td>600</td>\n      <td></td>\n      <td>HU</td>\n      <td>28.0</td>\n      <td>-95.4</td>\n      <td>80</td>\n      <td>-999</td>\n      <td>-999</td>\n      <td>...</td>\n      <td>-999</td>\n      <td>-999</td>\n      <td>-999</td>\n      <td>-999</td>\n      <td>-999</td>\n      <td>-999</td>\n      <td>1851-06-25 06:00:00</td>\n      <td>58907.516366</td>\n      <td>58907.516366</td>\n      <td>117814.676769</td>\n    </tr>\n    <tr>\n      <th>AL011851</th>\n      <td>UNNAMED</td>\n      <td>18510625</td>\n      <td>1200</td>\n      <td></td>\n      <td>HU</td>\n      <td>28.0</td>\n      <td>-96.0</td>\n      <td>80</td>\n      <td>-999</td>\n      <td>-999</td>\n      <td>...</td>\n      <td>-999</td>\n      <td>-999</td>\n      <td>-999</td>\n      <td>-999</td>\n      <td>-999</td>\n      <td>-999</td>\n      <td>1851-06-25 12:00:00</td>\n      <td>58907.516366</td>\n      <td>50310.976622</td>\n      <td>108517.871246</td>\n    </tr>\n    <tr>\n      <th>AL011851</th>\n      <td>UNNAMED</td>\n      <td>18510625</td>\n      <td>1800</td>\n      <td></td>\n      <td>HU</td>\n      <td>28.1</td>\n      <td>-96.5</td>\n      <td>80</td>\n      <td>-999</td>\n      <td>-999</td>\n      <td>...</td>\n      <td>-999</td>\n      <td>-999</td>\n      <td>-999</td>\n      <td>-999</td>\n      <td>-999</td>\n      <td>-999</td>\n      <td>1851-06-25 18:00:00</td>\n      <td>50310.976622</td>\n      <td>31444.370265</td>\n      <td>81560.691439</td>\n    </tr>\n    <tr>\n      <th>AL011851</th>\n      <td>UNNAMED</td>\n      <td>18510625</td>\n      <td>2100</td>\n      <td>L</td>\n      <td>HU</td>\n      <td>28.2</td>\n      <td>-96.8</td>\n      <td>80</td>\n      <td>-999</td>\n      <td>-999</td>\n      <td>...</td>\n      <td>-999</td>\n      <td>-999</td>\n      <td>-999</td>\n      <td>-999</td>\n      <td>-999</td>\n      <td>-999</td>\n      <td>1851-06-25 21:00:00</td>\n      <td>31444.370265</td>\n      <td>19599.292319</td>\n      <td>50266.402639</td>\n    </tr>\n  </tbody>\n</table>\n<p>5 rows × 25 columns</p>\n</div>"
     },
     "execution_count": 6,
     "metadata": {},
     "output_type": "execute_result"
    }
   ],
   "source": [
    "%%time\n",
    "\n",
    "pm_atlantic.generate_dist_features()\n",
    "pm_atlantic.set_index(['id'], drop=True, inplace=True)\n",
    "pm_atlantic.head()\n"
   ],
   "metadata": {
    "collapsed": false,
    "pycharm": {
     "name": "#%%\n"
    }
   }
  },
  {
   "cell_type": "code",
   "execution_count": 7,
   "outputs": [
    {
     "name": "stdout",
     "output_type": "stream",
     "text": [
      "CPU times: user 308 ms, sys: 141 ms, total: 449 ms\n",
      "Wall time: 871 ms\n"
     ]
    },
    {
     "data": {
      "text/plain": "                               event-id  visible       lon       lat  \\\nDateTime            traj_id                                            \n2009-05-27 14:00:00 91732    1082620685     True  24.58617  61.24783   \n2009-05-27 20:00:00 91732    1082620686     True  24.58217  61.23267   \n2009-05-28 05:00:00 91732    1082620687     True  24.53133  61.18833   \n2009-05-28 08:00:00 91732    1082620688     True  24.58200  61.23283   \n2009-05-28 14:00:00 91732    1082620689     True  24.58250  61.23267   \n\n                            sensor-type individual-taxon-canonical-name  \\\nDateTime            traj_id                                               \n2009-05-27 14:00:00 91732           gps                    Larus fuscus   \n2009-05-27 20:00:00 91732           gps                    Larus fuscus   \n2009-05-28 05:00:00 91732           gps                    Larus fuscus   \n2009-05-28 08:00:00 91732           gps                    Larus fuscus   \n2009-05-28 14:00:00 91732           gps                    Larus fuscus   \n\n                            individual-local-identifier  \\\nDateTime            traj_id                               \n2009-05-27 14:00:00 91732                        91732A   \n2009-05-27 20:00:00 91732                        91732A   \n2009-05-28 05:00:00 91732                        91732A   \n2009-05-28 08:00:00 91732                        91732A   \n2009-05-28 14:00:00 91732                        91732A   \n\n                                                                    study-name  \\\nDateTime            traj_id                                                      \n2009-05-27 14:00:00 91732    Navigation experiments in lesser black-backed ...   \n2009-05-27 20:00:00 91732    Navigation experiments in lesser black-backed ...   \n2009-05-28 05:00:00 91732    Navigation experiments in lesser black-backed ...   \n2009-05-28 08:00:00 91732    Navigation experiments in lesser black-backed ...   \n2009-05-28 14:00:00 91732    Navigation experiments in lesser black-backed ...   \n\n                             Distance_prev_to_curr  Distance_start_to_curr  \nDateTime            traj_id                                                 \n2009-05-27 14:00:00 91732                      NaN                     NaN  \n2009-05-27 20:00:00 91732              1699.244398             1699.244398  \n2009-05-28 05:00:00 91732              5632.120064             7238.295521  \n2009-05-28 08:00:00 91732              5643.314949             1682.777895  \n2009-05-28 14:00:00 91732                32.131494             1697.111327  ",
      "text/html": "<div>\n<style scoped>\n    .dataframe tbody tr th:only-of-type {\n        vertical-align: middle;\n    }\n\n    .dataframe tbody tr th {\n        vertical-align: top;\n    }\n\n    .dataframe thead th {\n        text-align: right;\n    }\n</style>\n<table border=\"1\" class=\"dataframe\">\n  <thead>\n    <tr style=\"text-align: right;\">\n      <th></th>\n      <th></th>\n      <th>event-id</th>\n      <th>visible</th>\n      <th>lon</th>\n      <th>lat</th>\n      <th>sensor-type</th>\n      <th>individual-taxon-canonical-name</th>\n      <th>individual-local-identifier</th>\n      <th>study-name</th>\n      <th>Distance_prev_to_curr</th>\n      <th>Distance_start_to_curr</th>\n    </tr>\n    <tr>\n      <th>DateTime</th>\n      <th>traj_id</th>\n      <th></th>\n      <th></th>\n      <th></th>\n      <th></th>\n      <th></th>\n      <th></th>\n      <th></th>\n      <th></th>\n      <th></th>\n      <th></th>\n    </tr>\n  </thead>\n  <tbody>\n    <tr>\n      <th>2009-05-27 14:00:00</th>\n      <th>91732</th>\n      <td>1082620685</td>\n      <td>True</td>\n      <td>24.58617</td>\n      <td>61.24783</td>\n      <td>gps</td>\n      <td>Larus fuscus</td>\n      <td>91732A</td>\n      <td>Navigation experiments in lesser black-backed ...</td>\n      <td>NaN</td>\n      <td>NaN</td>\n    </tr>\n    <tr>\n      <th>2009-05-27 20:00:00</th>\n      <th>91732</th>\n      <td>1082620686</td>\n      <td>True</td>\n      <td>24.58217</td>\n      <td>61.23267</td>\n      <td>gps</td>\n      <td>Larus fuscus</td>\n      <td>91732A</td>\n      <td>Navigation experiments in lesser black-backed ...</td>\n      <td>1699.244398</td>\n      <td>1699.244398</td>\n    </tr>\n    <tr>\n      <th>2009-05-28 05:00:00</th>\n      <th>91732</th>\n      <td>1082620687</td>\n      <td>True</td>\n      <td>24.53133</td>\n      <td>61.18833</td>\n      <td>gps</td>\n      <td>Larus fuscus</td>\n      <td>91732A</td>\n      <td>Navigation experiments in lesser black-backed ...</td>\n      <td>5632.120064</td>\n      <td>7238.295521</td>\n    </tr>\n    <tr>\n      <th>2009-05-28 08:00:00</th>\n      <th>91732</th>\n      <td>1082620688</td>\n      <td>True</td>\n      <td>24.58200</td>\n      <td>61.23283</td>\n      <td>gps</td>\n      <td>Larus fuscus</td>\n      <td>91732A</td>\n      <td>Navigation experiments in lesser black-backed ...</td>\n      <td>5643.314949</td>\n      <td>1682.777895</td>\n    </tr>\n    <tr>\n      <th>2009-05-28 14:00:00</th>\n      <th>91732</th>\n      <td>1082620689</td>\n      <td>True</td>\n      <td>24.58250</td>\n      <td>61.23267</td>\n      <td>gps</td>\n      <td>Larus fuscus</td>\n      <td>91732A</td>\n      <td>Navigation experiments in lesser black-backed ...</td>\n      <td>32.131494</td>\n      <td>1697.111327</td>\n    </tr>\n  </tbody>\n</table>\n</div>"
     },
     "execution_count": 7,
     "metadata": {},
     "output_type": "execute_result"
    }
   ],
   "source": [
    "%%time\n",
    "\n",
    "small_two = spatial.create_distance_between_consecutive_column(np_gulls)\n",
    "small_two = spatial.create_distance_from_start_column(small_two)\n",
    "small_two.head()\n"
   ],
   "metadata": {
    "collapsed": false,
    "pycharm": {
     "name": "#%%\n"
    }
   }
  },
  {
   "cell_type": "code",
   "execution_count": 8,
   "outputs": [
    {
     "data": {
      "text/plain": "VBox(children=(HTML(value=''), IntProgress(value=0, max=126)))",
      "application/vnd.jupyter.widget-view+json": {
       "version_major": 2,
       "version_minor": 0,
       "model_id": "17ccee17490d4345a5acc8af4b8f62a7"
      }
     },
     "metadata": {},
     "output_type": "display_data"
    },
    {
     "name": "stdout",
     "output_type": "stream",
     "text": [
      "CPU times: user 590 ms, sys: 48.2 ms, total: 638 ms\n",
      "Wall time: 571 ms\n"
     ]
    },
    {
     "data": {
      "text/plain": "         event-id  visible            datetime       lon       lat  \\\nid                                                                   \n91732  1082620685     True 2009-05-27 14:00:00  24.58617  61.24783   \n91732  1082620686     True 2009-05-27 20:00:00  24.58217  61.23267   \n91732  1082620687     True 2009-05-28 05:00:00  24.53133  61.18833   \n91732  1082620688     True 2009-05-28 08:00:00  24.58200  61.23283   \n91732  1082620689     True 2009-05-28 14:00:00  24.58250  61.23267   \n\n      sensor-type individual-taxon-canonical-name individual-local-identifier  \\\nid                                                                              \n91732         gps                    Larus fuscus                      91732A   \n91732         gps                    Larus fuscus                      91732A   \n91732         gps                    Larus fuscus                      91732A   \n91732         gps                    Larus fuscus                      91732A   \n91732         gps                    Larus fuscus                      91732A   \n\n                                              study-name  dist_to_prev  \\\nid                                                                       \n91732  Navigation experiments in lesser black-backed ...           NaN   \n91732  Navigation experiments in lesser black-backed ...   1699.244398   \n91732  Navigation experiments in lesser black-backed ...   5632.120064   \n91732  Navigation experiments in lesser black-backed ...   5643.314949   \n91732  Navigation experiments in lesser black-backed ...     32.131494   \n\n       dist_to_next  dist_prev_to_next  \nid                                      \n91732   1699.244398                NaN  \n91732   5632.120064        7238.295521  \n91732   5643.314949          19.982121  \n91732     32.131494        5640.683634  \n91732   1679.440928        1665.145497  ",
      "text/html": "<div>\n<style scoped>\n    .dataframe tbody tr th:only-of-type {\n        vertical-align: middle;\n    }\n\n    .dataframe tbody tr th {\n        vertical-align: top;\n    }\n\n    .dataframe thead th {\n        text-align: right;\n    }\n</style>\n<table border=\"1\" class=\"dataframe\">\n  <thead>\n    <tr style=\"text-align: right;\">\n      <th></th>\n      <th>event-id</th>\n      <th>visible</th>\n      <th>datetime</th>\n      <th>lon</th>\n      <th>lat</th>\n      <th>sensor-type</th>\n      <th>individual-taxon-canonical-name</th>\n      <th>individual-local-identifier</th>\n      <th>study-name</th>\n      <th>dist_to_prev</th>\n      <th>dist_to_next</th>\n      <th>dist_prev_to_next</th>\n    </tr>\n    <tr>\n      <th>id</th>\n      <th></th>\n      <th></th>\n      <th></th>\n      <th></th>\n      <th></th>\n      <th></th>\n      <th></th>\n      <th></th>\n      <th></th>\n      <th></th>\n      <th></th>\n      <th></th>\n    </tr>\n  </thead>\n  <tbody>\n    <tr>\n      <th>91732</th>\n      <td>1082620685</td>\n      <td>True</td>\n      <td>2009-05-27 14:00:00</td>\n      <td>24.58617</td>\n      <td>61.24783</td>\n      <td>gps</td>\n      <td>Larus fuscus</td>\n      <td>91732A</td>\n      <td>Navigation experiments in lesser black-backed ...</td>\n      <td>NaN</td>\n      <td>1699.244398</td>\n      <td>NaN</td>\n    </tr>\n    <tr>\n      <th>91732</th>\n      <td>1082620686</td>\n      <td>True</td>\n      <td>2009-05-27 20:00:00</td>\n      <td>24.58217</td>\n      <td>61.23267</td>\n      <td>gps</td>\n      <td>Larus fuscus</td>\n      <td>91732A</td>\n      <td>Navigation experiments in lesser black-backed ...</td>\n      <td>1699.244398</td>\n      <td>5632.120064</td>\n      <td>7238.295521</td>\n    </tr>\n    <tr>\n      <th>91732</th>\n      <td>1082620687</td>\n      <td>True</td>\n      <td>2009-05-28 05:00:00</td>\n      <td>24.53133</td>\n      <td>61.18833</td>\n      <td>gps</td>\n      <td>Larus fuscus</td>\n      <td>91732A</td>\n      <td>Navigation experiments in lesser black-backed ...</td>\n      <td>5632.120064</td>\n      <td>5643.314949</td>\n      <td>19.982121</td>\n    </tr>\n    <tr>\n      <th>91732</th>\n      <td>1082620688</td>\n      <td>True</td>\n      <td>2009-05-28 08:00:00</td>\n      <td>24.58200</td>\n      <td>61.23283</td>\n      <td>gps</td>\n      <td>Larus fuscus</td>\n      <td>91732A</td>\n      <td>Navigation experiments in lesser black-backed ...</td>\n      <td>5643.314949</td>\n      <td>32.131494</td>\n      <td>5640.683634</td>\n    </tr>\n    <tr>\n      <th>91732</th>\n      <td>1082620689</td>\n      <td>True</td>\n      <td>2009-05-28 14:00:00</td>\n      <td>24.58250</td>\n      <td>61.23267</td>\n      <td>gps</td>\n      <td>Larus fuscus</td>\n      <td>91732A</td>\n      <td>Navigation experiments in lesser black-backed ...</td>\n      <td>32.131494</td>\n      <td>1679.440928</td>\n      <td>1665.145497</td>\n    </tr>\n  </tbody>\n</table>\n</div>"
     },
     "execution_count": 8,
     "metadata": {},
     "output_type": "execute_result"
    }
   ],
   "source": [
    "%%time\n",
    "\n",
    "pm_gulls.generate_dist_features()\n",
    "pm_gulls.set_index(['id'], drop=True, inplace=True)\n",
    "pm_gulls.head()\n"
   ],
   "metadata": {
    "collapsed": false,
    "pycharm": {
     "name": "#%%\n"
    }
   }
  },
  {
   "cell_type": "code",
   "execution_count": 9,
   "outputs": [
    {
     "name": "stdout",
     "output_type": "stream",
     "text": [
      "CPU times: user 454 ms, sys: 16 ms, total: 470 ms\n",
      "Wall time: 468 ms\n"
     ]
    },
    {
     "data": {
      "text/plain": "                                   lat         lon  Distance_prev_to_curr  \\\nDateTime            traj_id                                                 \n2008-10-23 16:53:05 1        39.984094  116.319236                    NaN   \n2008-10-23 16:53:06 1        39.984198  116.319322              13.690153   \n2008-10-23 05:53:11 1        39.984224  116.319402               7.403788   \n2008-10-23 05:53:16 1        39.984211  116.319389               1.821083   \n2008-10-23 05:53:21 1        39.984217  116.319422               2.889671   \n\n                             Distance_start_to_curr  \nDateTime            traj_id                          \n2008-10-23 16:53:05 1                           NaN  \n2008-10-23 16:53:06 1                     13.690153  \n2008-10-23 05:53:11 1                     20.223428  \n2008-10-23 05:53:16 1                     18.416895  \n2008-10-23 05:53:21 1                     20.933073  ",
      "text/html": "<div>\n<style scoped>\n    .dataframe tbody tr th:only-of-type {\n        vertical-align: middle;\n    }\n\n    .dataframe tbody tr th {\n        vertical-align: top;\n    }\n\n    .dataframe thead th {\n        text-align: right;\n    }\n</style>\n<table border=\"1\" class=\"dataframe\">\n  <thead>\n    <tr style=\"text-align: right;\">\n      <th></th>\n      <th></th>\n      <th>lat</th>\n      <th>lon</th>\n      <th>Distance_prev_to_curr</th>\n      <th>Distance_start_to_curr</th>\n    </tr>\n    <tr>\n      <th>DateTime</th>\n      <th>traj_id</th>\n      <th></th>\n      <th></th>\n      <th></th>\n      <th></th>\n    </tr>\n  </thead>\n  <tbody>\n    <tr>\n      <th>2008-10-23 16:53:05</th>\n      <th>1</th>\n      <td>39.984094</td>\n      <td>116.319236</td>\n      <td>NaN</td>\n      <td>NaN</td>\n    </tr>\n    <tr>\n      <th>2008-10-23 16:53:06</th>\n      <th>1</th>\n      <td>39.984198</td>\n      <td>116.319322</td>\n      <td>13.690153</td>\n      <td>13.690153</td>\n    </tr>\n    <tr>\n      <th>2008-10-23 05:53:11</th>\n      <th>1</th>\n      <td>39.984224</td>\n      <td>116.319402</td>\n      <td>7.403788</td>\n      <td>20.223428</td>\n    </tr>\n    <tr>\n      <th>2008-10-23 05:53:16</th>\n      <th>1</th>\n      <td>39.984211</td>\n      <td>116.319389</td>\n      <td>1.821083</td>\n      <td>18.416895</td>\n    </tr>\n    <tr>\n      <th>2008-10-23 05:53:21</th>\n      <th>1</th>\n      <td>39.984217</td>\n      <td>116.319422</td>\n      <td>2.889671</td>\n      <td>20.933073</td>\n    </tr>\n  </tbody>\n</table>\n</div>"
     },
     "execution_count": 9,
     "metadata": {},
     "output_type": "execute_result"
    }
   ],
   "source": [
    "%%time\n",
    "\n",
    "small_three = spatial.create_distance_between_consecutive_column(np_geolife)\n",
    "small_three = spatial.create_distance_from_start_column(small_three)\n",
    "small_three.head()\n"
   ],
   "metadata": {
    "collapsed": false,
    "pycharm": {
     "name": "#%%\n"
    }
   }
  },
  {
   "cell_type": "code",
   "execution_count": 10,
   "outputs": [
    {
     "data": {
      "text/plain": "VBox(children=(HTML(value=''), IntProgress(value=0, max=2)))",
      "application/vnd.jupyter.widget-view+json": {
       "version_major": 2,
       "version_minor": 0,
       "model_id": "0d712d07d2de44fa905973cabf137a48"
      }
     },
     "metadata": {},
     "output_type": "display_data"
    },
    {
     "name": "stdout",
     "output_type": "stream",
     "text": [
      "CPU times: user 191 ms, sys: 12.1 ms, total: 203 ms\n",
      "Wall time: 198 ms\n"
     ]
    },
    {
     "data": {
      "text/plain": "          lat         lon            datetime  dist_to_prev  dist_to_next  \\\nid                                                                          \n1   39.984094  116.319236 2008-10-23 16:53:05           NaN     13.690153   \n1   39.984198  116.319322 2008-10-23 16:53:06     13.690153      7.403788   \n1   39.984224  116.319402 2008-10-23 05:53:11      7.403788      1.821083   \n1   39.984211  116.319389 2008-10-23 05:53:16      1.821083      2.889671   \n1   39.984217  116.319422 2008-10-23 05:53:21      2.889671     66.555997   \n\n    dist_prev_to_next  \nid                     \n1                 NaN  \n1           20.223428  \n1            5.888579  \n1            1.873356  \n1           68.727260  ",
      "text/html": "<div>\n<style scoped>\n    .dataframe tbody tr th:only-of-type {\n        vertical-align: middle;\n    }\n\n    .dataframe tbody tr th {\n        vertical-align: top;\n    }\n\n    .dataframe thead th {\n        text-align: right;\n    }\n</style>\n<table border=\"1\" class=\"dataframe\">\n  <thead>\n    <tr style=\"text-align: right;\">\n      <th></th>\n      <th>lat</th>\n      <th>lon</th>\n      <th>datetime</th>\n      <th>dist_to_prev</th>\n      <th>dist_to_next</th>\n      <th>dist_prev_to_next</th>\n    </tr>\n    <tr>\n      <th>id</th>\n      <th></th>\n      <th></th>\n      <th></th>\n      <th></th>\n      <th></th>\n      <th></th>\n    </tr>\n  </thead>\n  <tbody>\n    <tr>\n      <th>1</th>\n      <td>39.984094</td>\n      <td>116.319236</td>\n      <td>2008-10-23 16:53:05</td>\n      <td>NaN</td>\n      <td>13.690153</td>\n      <td>NaN</td>\n    </tr>\n    <tr>\n      <th>1</th>\n      <td>39.984198</td>\n      <td>116.319322</td>\n      <td>2008-10-23 16:53:06</td>\n      <td>13.690153</td>\n      <td>7.403788</td>\n      <td>20.223428</td>\n    </tr>\n    <tr>\n      <th>1</th>\n      <td>39.984224</td>\n      <td>116.319402</td>\n      <td>2008-10-23 05:53:11</td>\n      <td>7.403788</td>\n      <td>1.821083</td>\n      <td>5.888579</td>\n    </tr>\n    <tr>\n      <th>1</th>\n      <td>39.984211</td>\n      <td>116.319389</td>\n      <td>2008-10-23 05:53:16</td>\n      <td>1.821083</td>\n      <td>2.889671</td>\n      <td>1.873356</td>\n    </tr>\n    <tr>\n      <th>1</th>\n      <td>39.984217</td>\n      <td>116.319422</td>\n      <td>2008-10-23 05:53:21</td>\n      <td>2.889671</td>\n      <td>66.555997</td>\n      <td>68.727260</td>\n    </tr>\n  </tbody>\n</table>\n</div>"
     },
     "execution_count": 10,
     "metadata": {},
     "output_type": "execute_result"
    }
   ],
   "source": [
    "%%time\n",
    "\n",
    "pm_geolife.generate_dist_features()\n",
    "pm_geolife.set_index(['id'], inplace=True, drop=True)\n",
    "pm_geolife.head()"
   ],
   "metadata": {
    "collapsed": false,
    "pycharm": {
     "name": "#%%\n"
    }
   }
  },
  {
   "cell_type": "code",
   "execution_count": 11,
   "outputs": [
    {
     "name": "stdout",
     "output_type": "stream",
     "text": [
      "CPU times: user 272 ms, sys: 68.1 ms, total: 340 ms\n",
      "Wall time: 556 ms\n"
     ]
    },
    {
     "data": {
      "text/plain": "                               event-id  visible       lon       lat  \\\nDateTime            traj_id                                            \n2009-05-27 14:00:00 91732    1082620685     True  24.58617  61.24783   \n2009-05-27 20:00:00 91732    1082620686     True  24.58217  61.23267   \n2009-05-28 05:00:00 91732    1082620687     True  24.53133  61.18833   \n2009-05-28 08:00:00 91732    1082620688     True  24.58200  61.23283   \n2009-05-28 14:00:00 91732    1082620689     True  24.58250  61.23267   \n\n                            sensor-type individual-taxon-canonical-name  \\\nDateTime            traj_id                                               \n2009-05-27 14:00:00 91732           gps                    Larus fuscus   \n2009-05-27 20:00:00 91732           gps                    Larus fuscus   \n2009-05-28 05:00:00 91732           gps                    Larus fuscus   \n2009-05-28 08:00:00 91732           gps                    Larus fuscus   \n2009-05-28 14:00:00 91732           gps                    Larus fuscus   \n\n                            individual-local-identifier  \\\nDateTime            traj_id                               \n2009-05-27 14:00:00 91732                        91732A   \n2009-05-27 20:00:00 91732                        91732A   \n2009-05-28 05:00:00 91732                        91732A   \n2009-05-28 08:00:00 91732                        91732A   \n2009-05-28 14:00:00 91732                        91732A   \n\n                                                                    study-name  \\\nDateTime            traj_id                                                      \n2009-05-27 14:00:00 91732    Navigation experiments in lesser black-backed ...   \n2009-05-27 20:00:00 91732    Navigation experiments in lesser black-backed ...   \n2009-05-28 05:00:00 91732    Navigation experiments in lesser black-backed ...   \n2009-05-28 08:00:00 91732    Navigation experiments in lesser black-backed ...   \n2009-05-28 14:00:00 91732    Navigation experiments in lesser black-backed ...   \n\n                             Bearing_between_consecutive  \\\nDateTime            traj_id                                \n2009-05-27 14:00:00 91732                            NaN   \n2009-05-27 20:00:00 91732                    -172.763287   \n2009-05-28 05:00:00 91732                    -151.070593   \n2009-05-28 08:00:00 91732                      28.716637   \n2009-05-28 14:00:00 91732                     123.620959   \n\n                             Bearing_rate_from_prev  \\\nDateTime            traj_id                           \n2009-05-27 14:00:00 91732                       NaN   \n2009-05-27 20:00:00 91732                       NaN   \n2009-05-28 05:00:00 91732                  0.000670   \n2009-05-28 08:00:00 91732                  0.016647   \n2009-05-28 14:00:00 91732                  0.004394   \n\n                             Rate_of_bearing_rate_from_prev  \nDateTime            traj_id                                  \n2009-05-27 14:00:00 91732                               NaN  \n2009-05-27 20:00:00 91732                               NaN  \n2009-05-28 05:00:00 91732                          0.000670  \n2009-05-28 08:00:00 91732                          0.016647  \n2009-05-28 14:00:00 91732                          0.004394  ",
      "text/html": "<div>\n<style scoped>\n    .dataframe tbody tr th:only-of-type {\n        vertical-align: middle;\n    }\n\n    .dataframe tbody tr th {\n        vertical-align: top;\n    }\n\n    .dataframe thead th {\n        text-align: right;\n    }\n</style>\n<table border=\"1\" class=\"dataframe\">\n  <thead>\n    <tr style=\"text-align: right;\">\n      <th></th>\n      <th></th>\n      <th>event-id</th>\n      <th>visible</th>\n      <th>lon</th>\n      <th>lat</th>\n      <th>sensor-type</th>\n      <th>individual-taxon-canonical-name</th>\n      <th>individual-local-identifier</th>\n      <th>study-name</th>\n      <th>Bearing_between_consecutive</th>\n      <th>Bearing_rate_from_prev</th>\n      <th>Rate_of_bearing_rate_from_prev</th>\n    </tr>\n    <tr>\n      <th>DateTime</th>\n      <th>traj_id</th>\n      <th></th>\n      <th></th>\n      <th></th>\n      <th></th>\n      <th></th>\n      <th></th>\n      <th></th>\n      <th></th>\n      <th></th>\n      <th></th>\n      <th></th>\n    </tr>\n  </thead>\n  <tbody>\n    <tr>\n      <th>2009-05-27 14:00:00</th>\n      <th>91732</th>\n      <td>1082620685</td>\n      <td>True</td>\n      <td>24.58617</td>\n      <td>61.24783</td>\n      <td>gps</td>\n      <td>Larus fuscus</td>\n      <td>91732A</td>\n      <td>Navigation experiments in lesser black-backed ...</td>\n      <td>NaN</td>\n      <td>NaN</td>\n      <td>NaN</td>\n    </tr>\n    <tr>\n      <th>2009-05-27 20:00:00</th>\n      <th>91732</th>\n      <td>1082620686</td>\n      <td>True</td>\n      <td>24.58217</td>\n      <td>61.23267</td>\n      <td>gps</td>\n      <td>Larus fuscus</td>\n      <td>91732A</td>\n      <td>Navigation experiments in lesser black-backed ...</td>\n      <td>-172.763287</td>\n      <td>NaN</td>\n      <td>NaN</td>\n    </tr>\n    <tr>\n      <th>2009-05-28 05:00:00</th>\n      <th>91732</th>\n      <td>1082620687</td>\n      <td>True</td>\n      <td>24.53133</td>\n      <td>61.18833</td>\n      <td>gps</td>\n      <td>Larus fuscus</td>\n      <td>91732A</td>\n      <td>Navigation experiments in lesser black-backed ...</td>\n      <td>-151.070593</td>\n      <td>0.000670</td>\n      <td>0.000670</td>\n    </tr>\n    <tr>\n      <th>2009-05-28 08:00:00</th>\n      <th>91732</th>\n      <td>1082620688</td>\n      <td>True</td>\n      <td>24.58200</td>\n      <td>61.23283</td>\n      <td>gps</td>\n      <td>Larus fuscus</td>\n      <td>91732A</td>\n      <td>Navigation experiments in lesser black-backed ...</td>\n      <td>28.716637</td>\n      <td>0.016647</td>\n      <td>0.016647</td>\n    </tr>\n    <tr>\n      <th>2009-05-28 14:00:00</th>\n      <th>91732</th>\n      <td>1082620689</td>\n      <td>True</td>\n      <td>24.58250</td>\n      <td>61.23267</td>\n      <td>gps</td>\n      <td>Larus fuscus</td>\n      <td>91732A</td>\n      <td>Navigation experiments in lesser black-backed ...</td>\n      <td>123.620959</td>\n      <td>0.004394</td>\n      <td>0.004394</td>\n    </tr>\n  </tbody>\n</table>\n</div>"
     },
     "execution_count": 11,
     "metadata": {},
     "output_type": "execute_result"
    }
   ],
   "source": [
    "%%time\n",
    "\n",
    "b1 = spatial.create_rate_of_bearing_rate_column(np_gulls)\n",
    "b1.head()\n"
   ],
   "metadata": {
    "collapsed": false,
    "pycharm": {
     "name": "#%%\n"
    }
   }
  },
  {
   "cell_type": "code",
   "execution_count": 12,
   "outputs": [
    {
     "data": {
      "text/plain": "            Traj_Duration\ntraj_id                  \nAL011851  3 days 00:00:00\nAL011852 11 days 00:00:00\nAL011853  0 days 00:00:00\nAL011854  2 days 12:00:00\nAL011855  0 days 00:00:00\n...                   ...\nAL282005  8 days 00:00:00\nAL291969  4 days 00:00:00\nAL292005 10 days 06:00:00\nAL302005 10 days 12:00:00\nAL312005  8 days 18:00:00\n\n[1814 rows x 1 columns]",
      "text/html": "<div>\n<style scoped>\n    .dataframe tbody tr th:only-of-type {\n        vertical-align: middle;\n    }\n\n    .dataframe tbody tr th {\n        vertical-align: top;\n    }\n\n    .dataframe thead th {\n        text-align: right;\n    }\n</style>\n<table border=\"1\" class=\"dataframe\">\n  <thead>\n    <tr style=\"text-align: right;\">\n      <th></th>\n      <th>Traj_Duration</th>\n    </tr>\n    <tr>\n      <th>traj_id</th>\n      <th></th>\n    </tr>\n  </thead>\n  <tbody>\n    <tr>\n      <th>AL011851</th>\n      <td>3 days 00:00:00</td>\n    </tr>\n    <tr>\n      <th>AL011852</th>\n      <td>11 days 00:00:00</td>\n    </tr>\n    <tr>\n      <th>AL011853</th>\n      <td>0 days 00:00:00</td>\n    </tr>\n    <tr>\n      <th>AL011854</th>\n      <td>2 days 12:00:00</td>\n    </tr>\n    <tr>\n      <th>AL011855</th>\n      <td>0 days 00:00:00</td>\n    </tr>\n    <tr>\n      <th>...</th>\n      <td>...</td>\n    </tr>\n    <tr>\n      <th>AL282005</th>\n      <td>8 days 00:00:00</td>\n    </tr>\n    <tr>\n      <th>AL291969</th>\n      <td>4 days 00:00:00</td>\n    </tr>\n    <tr>\n      <th>AL292005</th>\n      <td>10 days 06:00:00</td>\n    </tr>\n    <tr>\n      <th>AL302005</th>\n      <td>10 days 12:00:00</td>\n    </tr>\n    <tr>\n      <th>AL312005</th>\n      <td>8 days 18:00:00</td>\n    </tr>\n  </tbody>\n</table>\n<p>1814 rows × 1 columns</p>\n</div>"
     },
     "execution_count": 12,
     "metadata": {},
     "output_type": "execute_result"
    }
   ],
   "source": [
    "from features.temporal_features import TemporalFeatures as temporal\n",
    "\n",
    "t1 = temporal.get_traj_duration(np_atlantic)\n",
    "t1"
   ],
   "metadata": {
    "collapsed": false,
    "pycharm": {
     "name": "#%%\n"
    }
   }
  },
  {
   "cell_type": "code",
   "execution_count": 12,
   "outputs": [],
   "source": [],
   "metadata": {
    "collapsed": false,
    "pycharm": {
     "name": "#%%\n"
    }
   }
  }
 ],
 "metadata": {
  "kernelspec": {
   "display_name": "Python 3",
   "language": "python",
   "name": "python3"
  },
  "language_info": {
   "codemirror_mode": {
    "name": "ipython",
    "version": 2
   },
   "file_extension": ".py",
   "mimetype": "text/x-python",
   "name": "python",
   "nbconvert_exporter": "python",
   "pygments_lexer": "ipython2",
   "version": "2.7.6"
  }
 },
 "nbformat": 4,
 "nbformat_minor": 0
}