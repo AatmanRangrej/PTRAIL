{
 "cells": [
  {
   "cell_type": "code",
   "execution_count": 2,
   "metadata": {},
   "outputs": [],
   "source": [
    "import numpy as np\n",
    "\n",
    "import utilities.constants as const\n",
    "from core.TrajectoryDF import NumPandasTraj as NumTrajDF\n",
    "from features.spatial_features import SpatialFeatures as spatial\n",
    "from features.temporal_features import TemporalFeatures as temporal\n",
    "from utilities.conversions import Conversions as con\n",
    "import pandas as pd\n",
    "import time\n",
    "np.seterr(invalid='ignore')\n",
    "start = time.time()"
   ]
  },
  {
   "cell_type": "code",
   "execution_count": 3,
   "outputs": [
    {
     "name": "stdout",
     "output_type": "stream",
     "text": [
      "CPU times: user 8.9 s, sys: 99.3 ms, total: 9 s\n",
      "Wall time: 9.01 s\n"
     ]
    }
   ],
   "source": [
    "%%time\n",
    "\n",
    "# Reading the geolife dataset and converting to NumPandasTraj.\n",
    "geolife = pd.read_csv('./data/geolife_sample.csv')\n",
    "geolife = NumTrajDF(geolife,'lat','lon','datetime','id')\n",
    "geolife.head()\n",
    "\n",
    "# Reading the gulls dataset and converting to NumPandasTraj.\n",
    "gulls = pd.read_csv('./data/gulls.csv')\n",
    "gulls = NumTrajDF(gulls,\n",
    "                 latitude='location-lat',\n",
    "                 longitude='location-long',\n",
    "                 datetime='timestamp',\n",
    "                 traj_id='tag-local-identifier',\n",
    "                 rest_of_columns=[])\n",
    "#\n",
    "# Reading the atlantic dataset, cleaning it up and then converting\n",
    "# it to NumPandasTraj.\n",
    "atlantic = pd.read_csv('./data/atlantic.csv')\n",
    "atlantic = con.convert_directions_to_degree_lat_lon(atlantic, 'Latitude',\"Longitude\")\n",
    "def convert_to_datetime(row):\n",
    "        this_date = '{}-{}-{}'.format(str(row['Date'])[0:4], str(row['Date'])[4:6], str(row['Date'])[6:])\n",
    "        this_time = '{:02d}:{:02d}:00'.format(int(row['Time']/100), int(str(row['Time'])[-2:]))\n",
    "        return '{} {}'.format(this_date, this_time)\n",
    "atlantic['DateTime'] = atlantic.apply(convert_to_datetime, axis=1)\n",
    "atlantic = NumTrajDF(atlantic,\n",
    "                         latitude='Latitude',\n",
    "                         longitude='Longitude',\n",
    "                         datetime='DateTime',\n",
    "                         traj_id='ID',\n",
    "                         rest_of_columns=[])\n"
   ],
   "metadata": {
    "collapsed": false,
    "pycharm": {
     "name": "#%%\n"
    }
   }
  },
  {
   "cell_type": "code",
   "execution_count": 4,
   "outputs": [
    {
     "name": "stdout",
     "output_type": "stream",
     "text": [
      "CPU times: user 468 ms, sys: 321 ms, total: 789 ms\n",
      "Wall time: 3.7 s\n"
     ]
    },
    {
     "data": {
      "text/plain": "           lat   lon\ntraj_id             \nAL011851  28.0 -94.8\nAL011852  20.5 -67.1\nAL011853  32.5 -69.0\nAL011854  26.0 -92.5\nAL011855  22.2 -98.0\n...        ...   ...\nAL282005  13.2 -62.1\nAL291969  10.3 -81.0\nAL292005  27.0 -48.0\nAL302005  31.5 -49.2\nAL312005  23.9 -35.6\n\n[1814 rows x 2 columns]",
      "text/html": "<div>\n<style scoped>\n    .dataframe tbody tr th:only-of-type {\n        vertical-align: middle;\n    }\n\n    .dataframe tbody tr th {\n        vertical-align: top;\n    }\n\n    .dataframe thead th {\n        text-align: right;\n    }\n</style>\n<table border=\"1\" class=\"dataframe\">\n  <thead>\n    <tr style=\"text-align: right;\">\n      <th></th>\n      <th>lat</th>\n      <th>lon</th>\n    </tr>\n    <tr>\n      <th>traj_id</th>\n      <th></th>\n      <th></th>\n    </tr>\n  </thead>\n  <tbody>\n    <tr>\n      <th>AL011851</th>\n      <td>28.0</td>\n      <td>-94.8</td>\n    </tr>\n    <tr>\n      <th>AL011852</th>\n      <td>20.5</td>\n      <td>-67.1</td>\n    </tr>\n    <tr>\n      <th>AL011853</th>\n      <td>32.5</td>\n      <td>-69.0</td>\n    </tr>\n    <tr>\n      <th>AL011854</th>\n      <td>26.0</td>\n      <td>-92.5</td>\n    </tr>\n    <tr>\n      <th>AL011855</th>\n      <td>22.2</td>\n      <td>-98.0</td>\n    </tr>\n    <tr>\n      <th>...</th>\n      <td>...</td>\n      <td>...</td>\n    </tr>\n    <tr>\n      <th>AL282005</th>\n      <td>13.2</td>\n      <td>-62.1</td>\n    </tr>\n    <tr>\n      <th>AL291969</th>\n      <td>10.3</td>\n      <td>-81.0</td>\n    </tr>\n    <tr>\n      <th>AL292005</th>\n      <td>27.0</td>\n      <td>-48.0</td>\n    </tr>\n    <tr>\n      <th>AL302005</th>\n      <td>31.5</td>\n      <td>-49.2</td>\n    </tr>\n    <tr>\n      <th>AL312005</th>\n      <td>23.9</td>\n      <td>-35.6</td>\n    </tr>\n  </tbody>\n</table>\n<p>1814 rows × 2 columns</p>\n</div>"
     },
     "execution_count": 4,
     "metadata": {},
     "output_type": "execute_result"
    }
   ],
   "source": [
    "%%time\n",
    "\n",
    "spatial.get_start_location(atlantic)"
   ],
   "metadata": {
    "collapsed": false,
    "pycharm": {
     "name": "#%%\n"
    }
   }
  },
  {
   "cell_type": "code",
   "execution_count": 5,
   "outputs": [
    {
     "name": "stdout",
     "output_type": "stream",
     "text": [
      "CPU times: user 412 ms, sys: 370 ms, total: 782 ms\n",
      "Wall time: 3.65 s\n"
     ]
    },
    {
     "data": {
      "text/plain": "           lat    lon\ntraj_id              \nAL011851  31.0 -100.2\nAL011852  41.0  -68.0\nAL011853  32.5  -69.0\nAL011854  28.0 -103.0\nAL011855  22.2  -98.0\n...        ...    ...\nAL282005  15.4  -83.5\nAL291969   8.5  -82.0\nAL292005  35.3   -1.0\nAL302005  24.7  -39.2\nAL312005  26.3  -55.7\n\n[1814 rows x 2 columns]",
      "text/html": "<div>\n<style scoped>\n    .dataframe tbody tr th:only-of-type {\n        vertical-align: middle;\n    }\n\n    .dataframe tbody tr th {\n        vertical-align: top;\n    }\n\n    .dataframe thead th {\n        text-align: right;\n    }\n</style>\n<table border=\"1\" class=\"dataframe\">\n  <thead>\n    <tr style=\"text-align: right;\">\n      <th></th>\n      <th>lat</th>\n      <th>lon</th>\n    </tr>\n    <tr>\n      <th>traj_id</th>\n      <th></th>\n      <th></th>\n    </tr>\n  </thead>\n  <tbody>\n    <tr>\n      <th>AL011851</th>\n      <td>31.0</td>\n      <td>-100.2</td>\n    </tr>\n    <tr>\n      <th>AL011852</th>\n      <td>41.0</td>\n      <td>-68.0</td>\n    </tr>\n    <tr>\n      <th>AL011853</th>\n      <td>32.5</td>\n      <td>-69.0</td>\n    </tr>\n    <tr>\n      <th>AL011854</th>\n      <td>28.0</td>\n      <td>-103.0</td>\n    </tr>\n    <tr>\n      <th>AL011855</th>\n      <td>22.2</td>\n      <td>-98.0</td>\n    </tr>\n    <tr>\n      <th>...</th>\n      <td>...</td>\n      <td>...</td>\n    </tr>\n    <tr>\n      <th>AL282005</th>\n      <td>15.4</td>\n      <td>-83.5</td>\n    </tr>\n    <tr>\n      <th>AL291969</th>\n      <td>8.5</td>\n      <td>-82.0</td>\n    </tr>\n    <tr>\n      <th>AL292005</th>\n      <td>35.3</td>\n      <td>-1.0</td>\n    </tr>\n    <tr>\n      <th>AL302005</th>\n      <td>24.7</td>\n      <td>-39.2</td>\n    </tr>\n    <tr>\n      <th>AL312005</th>\n      <td>26.3</td>\n      <td>-55.7</td>\n    </tr>\n  </tbody>\n</table>\n<p>1814 rows × 2 columns</p>\n</div>"
     },
     "execution_count": 5,
     "metadata": {},
     "output_type": "execute_result"
    }
   ],
   "source": [
    "%%time\n",
    "\n",
    "spatial.get_end_location(atlantic)"
   ],
   "metadata": {
    "collapsed": false,
    "pycharm": {
     "name": "#%%\n"
    }
   }
  },
  {
   "cell_type": "code",
   "execution_count": 6,
   "outputs": [
    {
     "name": "stdout",
     "output_type": "stream",
     "text": [
      "CPU times: user 66.9 ms, sys: 15.9 ms, total: 82.8 ms\n",
      "Wall time: 81.5 ms\n"
     ]
    },
    {
     "data": {
      "text/plain": "                                   lat         lon\nDateTime            traj_id                       \n2008-10-23 05:53:11 1        39.984224  116.319402\n2008-10-23 05:53:16 1        39.984211  116.319389\n2008-10-23 05:53:21 1        39.984217  116.319422\n2008-10-23 05:53:23 1        39.984710  116.319865\n2008-10-23 05:53:28 1        39.984674  116.319810\n...                                ...         ...\n2009-03-19 05:46:02 5        39.999896  116.327290\n2009-03-19 05:46:07 5        39.999899  116.327352\n2009-03-19 05:46:12 5        39.999945  116.327394\n2009-03-19 05:46:17 5        40.000015  116.327433\n2009-03-19 05:46:37 5        39.999978  116.327460\n\n[217653 rows x 2 columns]",
      "text/html": "<div>\n<style scoped>\n    .dataframe tbody tr th:only-of-type {\n        vertical-align: middle;\n    }\n\n    .dataframe tbody tr th {\n        vertical-align: top;\n    }\n\n    .dataframe thead th {\n        text-align: right;\n    }\n</style>\n<table border=\"1\" class=\"dataframe\">\n  <thead>\n    <tr style=\"text-align: right;\">\n      <th></th>\n      <th></th>\n      <th>lat</th>\n      <th>lon</th>\n    </tr>\n    <tr>\n      <th>DateTime</th>\n      <th>traj_id</th>\n      <th></th>\n      <th></th>\n    </tr>\n  </thead>\n  <tbody>\n    <tr>\n      <th>2008-10-23 05:53:11</th>\n      <th>1</th>\n      <td>39.984224</td>\n      <td>116.319402</td>\n    </tr>\n    <tr>\n      <th>2008-10-23 05:53:16</th>\n      <th>1</th>\n      <td>39.984211</td>\n      <td>116.319389</td>\n    </tr>\n    <tr>\n      <th>2008-10-23 05:53:21</th>\n      <th>1</th>\n      <td>39.984217</td>\n      <td>116.319422</td>\n    </tr>\n    <tr>\n      <th>2008-10-23 05:53:23</th>\n      <th>1</th>\n      <td>39.984710</td>\n      <td>116.319865</td>\n    </tr>\n    <tr>\n      <th>2008-10-23 05:53:28</th>\n      <th>1</th>\n      <td>39.984674</td>\n      <td>116.319810</td>\n    </tr>\n    <tr>\n      <th>...</th>\n      <th>...</th>\n      <td>...</td>\n      <td>...</td>\n    </tr>\n    <tr>\n      <th>2009-03-19 05:46:02</th>\n      <th>5</th>\n      <td>39.999896</td>\n      <td>116.327290</td>\n    </tr>\n    <tr>\n      <th>2009-03-19 05:46:07</th>\n      <th>5</th>\n      <td>39.999899</td>\n      <td>116.327352</td>\n    </tr>\n    <tr>\n      <th>2009-03-19 05:46:12</th>\n      <th>5</th>\n      <td>39.999945</td>\n      <td>116.327394</td>\n    </tr>\n    <tr>\n      <th>2009-03-19 05:46:17</th>\n      <th>5</th>\n      <td>40.000015</td>\n      <td>116.327433</td>\n    </tr>\n    <tr>\n      <th>2009-03-19 05:46:37</th>\n      <th>5</th>\n      <td>39.999978</td>\n      <td>116.327460</td>\n    </tr>\n  </tbody>\n</table>\n<p>217653 rows × 2 columns</p>\n</div>"
     },
     "execution_count": 6,
     "metadata": {},
     "output_type": "execute_result"
    }
   ],
   "source": [
    "%%time\n",
    "\n",
    "geolife.sort_by_traj_id_and_datetime(True)"
   ],
   "metadata": {
    "collapsed": false,
    "pycharm": {
     "name": "#%%\n"
    }
   }
  },
  {
   "cell_type": "code",
   "execution_count": 7,
   "outputs": [
    {
     "name": "stdout",
     "output_type": "stream",
     "text": [
      "CPU times: user 382 ms, sys: 238 ms, total: 620 ms\n",
      "Wall time: 2.59 s\n"
     ]
    },
    {
     "data": {
      "text/plain": "                      traj_id\nDateTime                     \n1851-06-25 00:00:00  AL011851\n1851-07-05 12:00:00  AL021851\n1851-07-10 12:00:00  AL031851\n1851-08-16 00:00:00  AL041851\n1851-09-13 00:00:00  AL051851\n...                       ...\n2015-09-08 06:00:00  AL082015\n2015-09-15 00:00:00  AL092015\n2015-09-15 12:00:00  AL102015\n2015-09-26 18:00:00  AL112015\n2015-11-08 18:00:00  AL122015\n\n[1814 rows x 1 columns]",
      "text/html": "<div>\n<style scoped>\n    .dataframe tbody tr th:only-of-type {\n        vertical-align: middle;\n    }\n\n    .dataframe tbody tr th {\n        vertical-align: top;\n    }\n\n    .dataframe thead th {\n        text-align: right;\n    }\n</style>\n<table border=\"1\" class=\"dataframe\">\n  <thead>\n    <tr style=\"text-align: right;\">\n      <th></th>\n      <th>traj_id</th>\n    </tr>\n    <tr>\n      <th>DateTime</th>\n      <th></th>\n    </tr>\n  </thead>\n  <tbody>\n    <tr>\n      <th>1851-06-25 00:00:00</th>\n      <td>AL011851</td>\n    </tr>\n    <tr>\n      <th>1851-07-05 12:00:00</th>\n      <td>AL021851</td>\n    </tr>\n    <tr>\n      <th>1851-07-10 12:00:00</th>\n      <td>AL031851</td>\n    </tr>\n    <tr>\n      <th>1851-08-16 00:00:00</th>\n      <td>AL041851</td>\n    </tr>\n    <tr>\n      <th>1851-09-13 00:00:00</th>\n      <td>AL051851</td>\n    </tr>\n    <tr>\n      <th>...</th>\n      <td>...</td>\n    </tr>\n    <tr>\n      <th>2015-09-08 06:00:00</th>\n      <td>AL082015</td>\n    </tr>\n    <tr>\n      <th>2015-09-15 00:00:00</th>\n      <td>AL092015</td>\n    </tr>\n    <tr>\n      <th>2015-09-15 12:00:00</th>\n      <td>AL102015</td>\n    </tr>\n    <tr>\n      <th>2015-09-26 18:00:00</th>\n      <td>AL112015</td>\n    </tr>\n    <tr>\n      <th>2015-11-08 18:00:00</th>\n      <td>AL122015</td>\n    </tr>\n  </tbody>\n</table>\n<p>1814 rows × 1 columns</p>\n</div>"
     },
     "execution_count": 7,
     "metadata": {},
     "output_type": "execute_result"
    }
   ],
   "source": [
    "%%time\n",
    "\n",
    "temporal.get_start_time(atlantic)"
   ],
   "metadata": {
    "collapsed": false,
    "pycharm": {
     "name": "#%%\n"
    }
   }
  },
  {
   "cell_type": "code",
   "execution_count": 7,
   "outputs": [],
   "source": [],
   "metadata": {
    "collapsed": false,
    "pycharm": {
     "name": "#%%\n"
    }
   }
  }
 ],
 "metadata": {
  "kernelspec": {
   "display_name": "Python 3",
   "language": "python",
   "name": "python3"
  },
  "language_info": {
   "codemirror_mode": {
    "name": "ipython",
    "version": 3
   },
   "file_extension": ".py",
   "mimetype": "text/x-python",
   "name": "python",
   "nbconvert_exporter": "python",
   "pygments_lexer": "ipython3",
   "version": "3.8.10"
  }
 },
 "nbformat": 4,
 "nbformat_minor": 1
}