{
 "cells": [
  {
   "cell_type": "markdown",
   "source": [
    "<h1> NumMobility for Mobility Data Preprocessing </h1>\n",
    "\n",
    "<p>\n",
    "NumMobility Library stores Mobility Data (Trajectories) in a specialised\n",
    "pandas Dataframe structure called NumPandasTraj. As a result, the following\n",
    "constraints are enforced for the data to be able to be stores in a NumPandasTraj.\n",
    "\n",
    "<ol>\n",
    "   <li>\n",
    "        Firstly, for a mobility dataset to be able to work with NumMobility Library needs\n",
    "        to have the following mandatory columns present:\n",
    "   </li>\n",
    "       <ul>\n",
    "           <li> DateTime </li>\n",
    "           <li> Trajectory ID </li>\n",
    "           <li> Latitude </li>\n",
    "           <li> Longitude </li>\n",
    "       </ul>\n",
    "\n",
    "   <li>\n",
    "       Secondly, NumPandasTraj has a very specific constraint for the index of the\n",
    "       dataframes, the Library enforces a multi-index consisting of the\n",
    "       <b><i> Trajectory ID, DateTime </i></b> columns because the operations of the\n",
    "       library are dependent on the 2 columns. As a result, it is recommended\n",
    "       to not change the index and keep the multi-index of <b><i> Trajectory ID, DateTime </i></b>\n",
    "       at all times.\n",
    "   </li>\n",
    "</ol>\n",
    "</p>\n",
    "\n",
    "<hr>\n",
    "\n",
    "<p>\n",
    "This jupyter notebook contains a gentle introduction to NumMobility library. <br>\n",
    "The following functionalities ar demonstrated in this Jupyter notebook:\n",
    "\n",
    "<ol>\n",
    "   <li>\n",
    "       Import data to and store it in a NumPandasTraj Dataframe.\n",
    "   </li>\n",
    "   <li>\n",
    "       Generate various temporal i.e., features related to DateTime (Timestamps) present\n",
    "       in the DataFrame. Feautres like Date, Time, Week-day, Time of Day\n",
    "       etc are calculated using the Library functions and the results\n",
    "       are appended to the original dataframe.\n",
    "   </li>\n",
    "   <li>\n",
    "       Note that execution times are also displayed for each executed cell\n",
    "       which shows how fast is the library as compared to other libraries\n",
    "       openly available for Mobility Data Preprocessing.\n",
    "   </li>\n",
    "</ol>\n",
    "</p>\n",
    "\n",
    "<hr>\n",
    "\n",
    "Here, we are going to work on the 2 following datasets:\n",
    "<ul>\n",
    "   <li> <a href=\"https://github.com/YakshHaranwala/NumMobility/blob/main/examples/data/geolife_sample.csv\" target=\"_blank\"> Geolife-Sample </a> </li>\n",
    "   <li> <a href=\"https://github.com/YakshHaranwala/NumMobility/blob/main/examples/data/gulls.csv\" target=\"_blank\"> Seagulls Dataset </a> </li>\n",
    "</ul>\n",
    "\n",
    "Without further ado, lets jump into NumPandasTraj and explore the various\n",
    "functionalities provided."
   ],
   "metadata": {
    "collapsed": false,
    "pycharm": {
     "name": "#%% md\n"
    }
   }
  },
  {
   "cell_type": "markdown",
   "source": [
    "<h1> NumMobility Temporal Features </h1>"
   ],
   "metadata": {
    "collapsed": false,
    "pycharm": {
     "name": "#%% md\n"
    }
   }
  },
  {
   "cell_type": "code",
   "source": [
    "# First, lets import the DataFrame, the temporal features\n",
    "# and pandas library to read the csv file.\n",
    "from core.TrajectoryDF import NumPandasTraj as NumTrajDF\n",
    "from features.temporal_features import TemporalFeatures as temporal\n",
    "import pandas as pd"
   ],
   "metadata": {
    "collapsed": false,
    "pycharm": {
     "name": "#%%\n"
    }
   },
   "execution_count": 1,
   "outputs": []
  },
  {
   "cell_type": "code",
   "execution_count": 2,
   "metadata": {
    "collapsed": true,
    "pycharm": {
     "name": "#%%\n"
    }
   },
   "outputs": [
    {
     "name": "stdout",
     "output_type": "stream",
     "text": [
      "The data type of dataframe read from CSV: <class 'pandas.core.frame.DataFrame'>\n",
      "The data type after converting to NumTrajDF: <class 'core.TrajectoryDF.NumPandasTraj'>\n",
      "CPU times: user 263 ms, sys: 29.8 ms, total: 293 ms\n",
      "Wall time: 293 ms\n"
     ]
    },
    {
     "data": {
      "text/plain": "                               event-id  visible       lon       lat  \\\ntraj_id DateTime                                                       \n91732   2009-05-27 14:00:00  1082620685     True  24.58617  61.24783   \n        2009-05-27 20:00:00  1082620686     True  24.58217  61.23267   \n        2009-05-28 05:00:00  1082620687     True  24.53133  61.18833   \n        2009-05-28 08:00:00  1082620688     True  24.58200  61.23283   \n        2009-05-28 14:00:00  1082620689     True  24.58250  61.23267   \n\n                            sensor-type individual-taxon-canonical-name  \\\ntraj_id DateTime                                                          \n91732   2009-05-27 14:00:00         gps                    Larus fuscus   \n        2009-05-27 20:00:00         gps                    Larus fuscus   \n        2009-05-28 05:00:00         gps                    Larus fuscus   \n        2009-05-28 08:00:00         gps                    Larus fuscus   \n        2009-05-28 14:00:00         gps                    Larus fuscus   \n\n                            individual-local-identifier  \\\ntraj_id DateTime                                          \n91732   2009-05-27 14:00:00                      91732A   \n        2009-05-27 20:00:00                      91732A   \n        2009-05-28 05:00:00                      91732A   \n        2009-05-28 08:00:00                      91732A   \n        2009-05-28 14:00:00                      91732A   \n\n                                                                    study-name  \ntraj_id DateTime                                                                \n91732   2009-05-27 14:00:00  Navigation experiments in lesser black-backed ...  \n        2009-05-27 20:00:00  Navigation experiments in lesser black-backed ...  \n        2009-05-28 05:00:00  Navigation experiments in lesser black-backed ...  \n        2009-05-28 08:00:00  Navigation experiments in lesser black-backed ...  \n        2009-05-28 14:00:00  Navigation experiments in lesser black-backed ...  ",
      "text/html": "<div>\n<style scoped>\n    .dataframe tbody tr th:only-of-type {\n        vertical-align: middle;\n    }\n\n    .dataframe tbody tr th {\n        vertical-align: top;\n    }\n\n    .dataframe thead th {\n        text-align: right;\n    }\n</style>\n<table border=\"1\" class=\"dataframe\">\n  <thead>\n    <tr style=\"text-align: right;\">\n      <th></th>\n      <th></th>\n      <th>event-id</th>\n      <th>visible</th>\n      <th>lon</th>\n      <th>lat</th>\n      <th>sensor-type</th>\n      <th>individual-taxon-canonical-name</th>\n      <th>individual-local-identifier</th>\n      <th>study-name</th>\n    </tr>\n    <tr>\n      <th>traj_id</th>\n      <th>DateTime</th>\n      <th></th>\n      <th></th>\n      <th></th>\n      <th></th>\n      <th></th>\n      <th></th>\n      <th></th>\n      <th></th>\n    </tr>\n  </thead>\n  <tbody>\n    <tr>\n      <th rowspan=\"5\" valign=\"top\">91732</th>\n      <th>2009-05-27 14:00:00</th>\n      <td>1082620685</td>\n      <td>True</td>\n      <td>24.58617</td>\n      <td>61.24783</td>\n      <td>gps</td>\n      <td>Larus fuscus</td>\n      <td>91732A</td>\n      <td>Navigation experiments in lesser black-backed ...</td>\n    </tr>\n    <tr>\n      <th>2009-05-27 20:00:00</th>\n      <td>1082620686</td>\n      <td>True</td>\n      <td>24.58217</td>\n      <td>61.23267</td>\n      <td>gps</td>\n      <td>Larus fuscus</td>\n      <td>91732A</td>\n      <td>Navigation experiments in lesser black-backed ...</td>\n    </tr>\n    <tr>\n      <th>2009-05-28 05:00:00</th>\n      <td>1082620687</td>\n      <td>True</td>\n      <td>24.53133</td>\n      <td>61.18833</td>\n      <td>gps</td>\n      <td>Larus fuscus</td>\n      <td>91732A</td>\n      <td>Navigation experiments in lesser black-backed ...</td>\n    </tr>\n    <tr>\n      <th>2009-05-28 08:00:00</th>\n      <td>1082620688</td>\n      <td>True</td>\n      <td>24.58200</td>\n      <td>61.23283</td>\n      <td>gps</td>\n      <td>Larus fuscus</td>\n      <td>91732A</td>\n      <td>Navigation experiments in lesser black-backed ...</td>\n    </tr>\n    <tr>\n      <th>2009-05-28 14:00:00</th>\n      <td>1082620689</td>\n      <td>True</td>\n      <td>24.58250</td>\n      <td>61.23267</td>\n      <td>gps</td>\n      <td>Larus fuscus</td>\n      <td>91732A</td>\n      <td>Navigation experiments in lesser black-backed ...</td>\n    </tr>\n  </tbody>\n</table>\n</div>"
     },
     "execution_count": 2,
     "metadata": {},
     "output_type": "execute_result"
    }
   ],
   "source": [
    "%%time\n",
    "\n",
    "# First, lets import the gulls.csv and convert it into\n",
    "# NumPandasTraj.\n",
    "\n",
    "gulls = pd.read_csv('./data/gulls.csv')\n",
    "print(f\"The data type of dataframe read from CSV: {type(gulls)}\")\n",
    "gulls = NumTrajDF(data_set=gulls,\n",
    "                 latitude='location-lat',\n",
    "                 longitude='location-long',\n",
    "                 datetime='timestamp',\n",
    "                 traj_id='tag-local-identifier',\n",
    "                 rest_of_columns=[])\n",
    "print(f\"The data type after converting to NumTrajDF: {type(gulls)}\")\n",
    "gulls.head()"
   ]
  },
  {
   "cell_type": "code",
   "execution_count": 3,
   "outputs": [
    {
     "name": "stdout",
     "output_type": "stream",
     "text": [
      "The data type of dataframe read from CSV: <class 'pandas.core.frame.DataFrame'>\n",
      "The data type after converting to NumTrajDF: <class 'core.TrajectoryDF.NumPandasTraj'>\n",
      "CPU times: user 485 ms, sys: 36.8 ms, total: 522 ms\n",
      "Wall time: 521 ms\n"
     ]
    },
    {
     "data": {
      "text/plain": "                                   lat         lon\ntraj_id DateTime                                  \n1       2008-10-23 05:53:11  39.984224  116.319402\n        2008-10-23 05:53:16  39.984211  116.319389\n        2008-10-23 05:53:21  39.984217  116.319422\n        2008-10-23 05:53:23  39.984710  116.319865\n        2008-10-23 05:53:28  39.984674  116.319810",
      "text/html": "<div>\n<style scoped>\n    .dataframe tbody tr th:only-of-type {\n        vertical-align: middle;\n    }\n\n    .dataframe tbody tr th {\n        vertical-align: top;\n    }\n\n    .dataframe thead th {\n        text-align: right;\n    }\n</style>\n<table border=\"1\" class=\"dataframe\">\n  <thead>\n    <tr style=\"text-align: right;\">\n      <th></th>\n      <th></th>\n      <th>lat</th>\n      <th>lon</th>\n    </tr>\n    <tr>\n      <th>traj_id</th>\n      <th>DateTime</th>\n      <th></th>\n      <th></th>\n    </tr>\n  </thead>\n  <tbody>\n    <tr>\n      <th rowspan=\"5\" valign=\"top\">1</th>\n      <th>2008-10-23 05:53:11</th>\n      <td>39.984224</td>\n      <td>116.319402</td>\n    </tr>\n    <tr>\n      <th>2008-10-23 05:53:16</th>\n      <td>39.984211</td>\n      <td>116.319389</td>\n    </tr>\n    <tr>\n      <th>2008-10-23 05:53:21</th>\n      <td>39.984217</td>\n      <td>116.319422</td>\n    </tr>\n    <tr>\n      <th>2008-10-23 05:53:23</th>\n      <td>39.984710</td>\n      <td>116.319865</td>\n    </tr>\n    <tr>\n      <th>2008-10-23 05:53:28</th>\n      <td>39.984674</td>\n      <td>116.319810</td>\n    </tr>\n  </tbody>\n</table>\n</div>"
     },
     "execution_count": 3,
     "metadata": {},
     "output_type": "execute_result"
    }
   ],
   "source": [
    "%%time\n",
    "\n",
    "# Now lets import the geolife_sample.csv and convert it into\n",
    "# NumPandasTraj DF.\n",
    "\n",
    "pdf = pd.read_csv('./data/geolife_sample.csv')\n",
    "geolife_df = NumTrajDF(data_set=pdf,\n",
    "                      latitude='lat',\n",
    "                      longitude='lon',\n",
    "                      datetime='datetime',\n",
    "                      traj_id='id')\n",
    "\n",
    "print(f\"The data type of dataframe read from CSV: {type(pdf)}\")\n",
    "print(f\"The data type after converting to NumTrajDF: {type(geolife_df)}\")\n",
    "geolife_df.head()"
   ],
   "metadata": {
    "collapsed": false,
    "pycharm": {
     "name": "#%%\n"
    }
   }
  },
  {
   "cell_type": "code",
   "execution_count": 4,
   "outputs": [
    {
     "name": "stdout",
     "output_type": "stream",
     "text": [
      "CPU times: user 511 ms, sys: 27.2 ms, total: 538 ms\n",
      "Wall time: 536 ms\n"
     ]
    },
    {
     "data": {
      "text/plain": "                                   lat         lon      Time    Time_Of_Day\ntraj_id DateTime                                                           \n1       2008-10-23 05:53:11  39.984224  116.319402  05:53:11  Early Morning\n        2008-10-23 05:53:16  39.984211  116.319389  05:53:16  Early Morning\n        2008-10-23 05:53:21  39.984217  116.319422  05:53:21  Early Morning\n        2008-10-23 05:53:23  39.984710  116.319865  05:53:23  Early Morning\n        2008-10-23 05:53:28  39.984674  116.319810  05:53:28  Early Morning",
      "text/html": "<div>\n<style scoped>\n    .dataframe tbody tr th:only-of-type {\n        vertical-align: middle;\n    }\n\n    .dataframe tbody tr th {\n        vertical-align: top;\n    }\n\n    .dataframe thead th {\n        text-align: right;\n    }\n</style>\n<table border=\"1\" class=\"dataframe\">\n  <thead>\n    <tr style=\"text-align: right;\">\n      <th></th>\n      <th></th>\n      <th>lat</th>\n      <th>lon</th>\n      <th>Time</th>\n      <th>Time_Of_Day</th>\n    </tr>\n    <tr>\n      <th>traj_id</th>\n      <th>DateTime</th>\n      <th></th>\n      <th></th>\n      <th></th>\n      <th></th>\n    </tr>\n  </thead>\n  <tbody>\n    <tr>\n      <th rowspan=\"5\" valign=\"top\">1</th>\n      <th>2008-10-23 05:53:11</th>\n      <td>39.984224</td>\n      <td>116.319402</td>\n      <td>05:53:11</td>\n      <td>Early Morning</td>\n    </tr>\n    <tr>\n      <th>2008-10-23 05:53:16</th>\n      <td>39.984211</td>\n      <td>116.319389</td>\n      <td>05:53:16</td>\n      <td>Early Morning</td>\n    </tr>\n    <tr>\n      <th>2008-10-23 05:53:21</th>\n      <td>39.984217</td>\n      <td>116.319422</td>\n      <td>05:53:21</td>\n      <td>Early Morning</td>\n    </tr>\n    <tr>\n      <th>2008-10-23 05:53:23</th>\n      <td>39.984710</td>\n      <td>116.319865</td>\n      <td>05:53:23</td>\n      <td>Early Morning</td>\n    </tr>\n    <tr>\n      <th>2008-10-23 05:53:28</th>\n      <td>39.984674</td>\n      <td>116.319810</td>\n      <td>05:53:28</td>\n      <td>Early Morning</td>\n    </tr>\n  </tbody>\n</table>\n</div>"
     },
     "execution_count": 4,
     "metadata": {},
     "output_type": "execute_result"
    }
   ],
   "source": [
    "%%time\n",
    "\n",
    "# First, we will perform the aforementioned operations on the\n",
    "# geolife-sample dataset.\n",
    "\n",
    "# First, lets generate the Time column and find out the\n",
    "# time of the day from the TimeStamp provided in the data\n",
    "# New columns will be added to the dataset indicating the time\n",
    "# of the point recorded and the period of the time.\n",
    "\n",
    "\n",
    "geolife_df = temporal.create_time_column(geolife_df)\n",
    "geolife_df = temporal.create_time_of_day_column(geolife_df)\n",
    "geolife_df.head()"
   ],
   "metadata": {
    "collapsed": false,
    "pycharm": {
     "name": "#%%\n"
    }
   }
  },
  {
   "cell_type": "code",
   "execution_count": 5,
   "outputs": [
    {
     "name": "stdout",
     "output_type": "stream",
     "text": [
      "CPU times: user 837 ms, sys: 13.7 ms, total: 851 ms\n",
      "Wall time: 850 ms\n"
     ]
    },
    {
     "data": {
      "text/plain": "                                   lat         lon      Time    Time_Of_Day  \\\ntraj_id DateTime                                                              \n1       2008-10-23 05:53:11  39.984224  116.319402  05:53:11  Early Morning   \n        2008-10-23 05:53:16  39.984211  116.319389  05:53:16  Early Morning   \n        2008-10-23 05:53:21  39.984217  116.319422  05:53:21  Early Morning   \n        2008-10-23 05:53:23  39.984710  116.319865  05:53:23  Early Morning   \n        2008-10-23 05:53:28  39.984674  116.319810  05:53:28  Early Morning   \n\n                                   Date Day_Of_Week  Weekend  \ntraj_id DateTime                                              \n1       2008-10-23 05:53:11  2008-10-23    Thursday    False  \n        2008-10-23 05:53:16  2008-10-23    Thursday    False  \n        2008-10-23 05:53:21  2008-10-23    Thursday    False  \n        2008-10-23 05:53:23  2008-10-23    Thursday    False  \n        2008-10-23 05:53:28  2008-10-23    Thursday    False  ",
      "text/html": "<div>\n<style scoped>\n    .dataframe tbody tr th:only-of-type {\n        vertical-align: middle;\n    }\n\n    .dataframe tbody tr th {\n        vertical-align: top;\n    }\n\n    .dataframe thead th {\n        text-align: right;\n    }\n</style>\n<table border=\"1\" class=\"dataframe\">\n  <thead>\n    <tr style=\"text-align: right;\">\n      <th></th>\n      <th></th>\n      <th>lat</th>\n      <th>lon</th>\n      <th>Time</th>\n      <th>Time_Of_Day</th>\n      <th>Date</th>\n      <th>Day_Of_Week</th>\n      <th>Weekend</th>\n    </tr>\n    <tr>\n      <th>traj_id</th>\n      <th>DateTime</th>\n      <th></th>\n      <th></th>\n      <th></th>\n      <th></th>\n      <th></th>\n      <th></th>\n      <th></th>\n    </tr>\n  </thead>\n  <tbody>\n    <tr>\n      <th rowspan=\"5\" valign=\"top\">1</th>\n      <th>2008-10-23 05:53:11</th>\n      <td>39.984224</td>\n      <td>116.319402</td>\n      <td>05:53:11</td>\n      <td>Early Morning</td>\n      <td>2008-10-23</td>\n      <td>Thursday</td>\n      <td>False</td>\n    </tr>\n    <tr>\n      <th>2008-10-23 05:53:16</th>\n      <td>39.984211</td>\n      <td>116.319389</td>\n      <td>05:53:16</td>\n      <td>Early Morning</td>\n      <td>2008-10-23</td>\n      <td>Thursday</td>\n      <td>False</td>\n    </tr>\n    <tr>\n      <th>2008-10-23 05:53:21</th>\n      <td>39.984217</td>\n      <td>116.319422</td>\n      <td>05:53:21</td>\n      <td>Early Morning</td>\n      <td>2008-10-23</td>\n      <td>Thursday</td>\n      <td>False</td>\n    </tr>\n    <tr>\n      <th>2008-10-23 05:53:23</th>\n      <td>39.984710</td>\n      <td>116.319865</td>\n      <td>05:53:23</td>\n      <td>Early Morning</td>\n      <td>2008-10-23</td>\n      <td>Thursday</td>\n      <td>False</td>\n    </tr>\n    <tr>\n      <th>2008-10-23 05:53:28</th>\n      <td>39.984674</td>\n      <td>116.319810</td>\n      <td>05:53:28</td>\n      <td>Early Morning</td>\n      <td>2008-10-23</td>\n      <td>Thursday</td>\n      <td>False</td>\n    </tr>\n  </tbody>\n</table>\n</div>"
     },
     "execution_count": 5,
     "metadata": {},
     "output_type": "execute_result"
    }
   ],
   "source": [
    "%%time\n",
    "\n",
    "\"\"\"\n",
    "Here, we will create 3 new columns that contain the following features:\n",
    "    1. The date on which the data point was recorded.\n",
    "    2. The day of the week on which the data point was recorded.\n",
    "    3. A boolean column indicating whether the point was recorded\n",
    "       on a weekend or not.\n",
    "\n",
    "    All the operations are being performed on the geolife-sample dataset.\n",
    "\"\"\"\n",
    "geolife_df = temporal.create_date_column(geolife_df)\n",
    "geolife_df = temporal.create_day_of_week_column(geolife_df)\n",
    "geolife_df = temporal.create_weekend_indicator_column(geolife_df)\n",
    "geolife_df.head()\n"
   ],
   "metadata": {
    "collapsed": false,
    "pycharm": {
     "name": "#%%\n"
    }
   }
  },
  {
   "cell_type": "code",
   "execution_count": 6,
   "outputs": [
    {
     "name": "stdout",
     "output_type": "stream",
     "text": [
      "CPU times: user 189 ms, sys: 380 µs, total: 190 ms\n",
      "Wall time: 188 ms\n"
     ]
    },
    {
     "data": {
      "text/plain": "                               event-id  visible       lon       lat  \\\ntraj_id DateTime                                                       \n91732   2009-05-27 14:00:00  1082620685     True  24.58617  61.24783   \n        2009-05-27 20:00:00  1082620686     True  24.58217  61.23267   \n        2009-05-28 05:00:00  1082620687     True  24.53133  61.18833   \n        2009-05-28 08:00:00  1082620688     True  24.58200  61.23283   \n        2009-05-28 14:00:00  1082620689     True  24.58250  61.23267   \n\n                            sensor-type individual-taxon-canonical-name  \\\ntraj_id DateTime                                                          \n91732   2009-05-27 14:00:00         gps                    Larus fuscus   \n        2009-05-27 20:00:00         gps                    Larus fuscus   \n        2009-05-28 05:00:00         gps                    Larus fuscus   \n        2009-05-28 08:00:00         gps                    Larus fuscus   \n        2009-05-28 14:00:00         gps                    Larus fuscus   \n\n                            individual-local-identifier  \\\ntraj_id DateTime                                          \n91732   2009-05-27 14:00:00                      91732A   \n        2009-05-27 20:00:00                      91732A   \n        2009-05-28 05:00:00                      91732A   \n        2009-05-28 08:00:00                      91732A   \n        2009-05-28 14:00:00                      91732A   \n\n                                                                    study-name  \\\ntraj_id DateTime                                                                 \n91732   2009-05-27 14:00:00  Navigation experiments in lesser black-backed ...   \n        2009-05-27 20:00:00  Navigation experiments in lesser black-backed ...   \n        2009-05-28 05:00:00  Navigation experiments in lesser black-backed ...   \n        2009-05-28 08:00:00  Navigation experiments in lesser black-backed ...   \n        2009-05-28 14:00:00  Navigation experiments in lesser black-backed ...   \n\n                                 Time    Time_Of_Day  \ntraj_id DateTime                                      \n91732   2009-05-27 14:00:00  14:00:00           Noon  \n        2009-05-27 20:00:00  20:00:00        Evening  \n        2009-05-28 05:00:00  05:00:00  Early Morning  \n        2009-05-28 08:00:00  08:00:00  Early Morning  \n        2009-05-28 14:00:00  14:00:00           Noon  ",
      "text/html": "<div>\n<style scoped>\n    .dataframe tbody tr th:only-of-type {\n        vertical-align: middle;\n    }\n\n    .dataframe tbody tr th {\n        vertical-align: top;\n    }\n\n    .dataframe thead th {\n        text-align: right;\n    }\n</style>\n<table border=\"1\" class=\"dataframe\">\n  <thead>\n    <tr style=\"text-align: right;\">\n      <th></th>\n      <th></th>\n      <th>event-id</th>\n      <th>visible</th>\n      <th>lon</th>\n      <th>lat</th>\n      <th>sensor-type</th>\n      <th>individual-taxon-canonical-name</th>\n      <th>individual-local-identifier</th>\n      <th>study-name</th>\n      <th>Time</th>\n      <th>Time_Of_Day</th>\n    </tr>\n    <tr>\n      <th>traj_id</th>\n      <th>DateTime</th>\n      <th></th>\n      <th></th>\n      <th></th>\n      <th></th>\n      <th></th>\n      <th></th>\n      <th></th>\n      <th></th>\n      <th></th>\n      <th></th>\n    </tr>\n  </thead>\n  <tbody>\n    <tr>\n      <th rowspan=\"5\" valign=\"top\">91732</th>\n      <th>2009-05-27 14:00:00</th>\n      <td>1082620685</td>\n      <td>True</td>\n      <td>24.58617</td>\n      <td>61.24783</td>\n      <td>gps</td>\n      <td>Larus fuscus</td>\n      <td>91732A</td>\n      <td>Navigation experiments in lesser black-backed ...</td>\n      <td>14:00:00</td>\n      <td>Noon</td>\n    </tr>\n    <tr>\n      <th>2009-05-27 20:00:00</th>\n      <td>1082620686</td>\n      <td>True</td>\n      <td>24.58217</td>\n      <td>61.23267</td>\n      <td>gps</td>\n      <td>Larus fuscus</td>\n      <td>91732A</td>\n      <td>Navigation experiments in lesser black-backed ...</td>\n      <td>20:00:00</td>\n      <td>Evening</td>\n    </tr>\n    <tr>\n      <th>2009-05-28 05:00:00</th>\n      <td>1082620687</td>\n      <td>True</td>\n      <td>24.53133</td>\n      <td>61.18833</td>\n      <td>gps</td>\n      <td>Larus fuscus</td>\n      <td>91732A</td>\n      <td>Navigation experiments in lesser black-backed ...</td>\n      <td>05:00:00</td>\n      <td>Early Morning</td>\n    </tr>\n    <tr>\n      <th>2009-05-28 08:00:00</th>\n      <td>1082620688</td>\n      <td>True</td>\n      <td>24.58200</td>\n      <td>61.23283</td>\n      <td>gps</td>\n      <td>Larus fuscus</td>\n      <td>91732A</td>\n      <td>Navigation experiments in lesser black-backed ...</td>\n      <td>08:00:00</td>\n      <td>Early Morning</td>\n    </tr>\n    <tr>\n      <th>2009-05-28 14:00:00</th>\n      <td>1082620689</td>\n      <td>True</td>\n      <td>24.58250</td>\n      <td>61.23267</td>\n      <td>gps</td>\n      <td>Larus fuscus</td>\n      <td>91732A</td>\n      <td>Navigation experiments in lesser black-backed ...</td>\n      <td>14:00:00</td>\n      <td>Noon</td>\n    </tr>\n  </tbody>\n</table>\n</div>"
     },
     "execution_count": 6,
     "metadata": {},
     "output_type": "execute_result"
    }
   ],
   "source": [
    "%%time\n",
    "\n",
    "# Now, moving onto the seagulls dataset.\n",
    "\n",
    "# Now, lets generate the Time column and find out the\n",
    "# time of the day from the TimeStamp provided in the data\n",
    "# New columns will be added to the dataset indicating the time\n",
    "# of the point recorded and the period of the time.\n",
    "\n",
    "gulls = temporal.create_time_column(gulls)\n",
    "gulls = temporal.create_time_of_day_column(gulls)\n",
    "gulls.head()"
   ],
   "metadata": {
    "collapsed": false,
    "pycharm": {
     "name": "#%%\n"
    }
   }
  },
  {
   "cell_type": "code",
   "execution_count": 7,
   "outputs": [
    {
     "name": "stdout",
     "output_type": "stream",
     "text": [
      "CPU times: user 338 ms, sys: 8.47 ms, total: 346 ms\n",
      "Wall time: 345 ms\n"
     ]
    },
    {
     "data": {
      "text/plain": "                               event-id  visible       lon       lat  \\\ntraj_id DateTime                                                       \n91732   2009-05-27 14:00:00  1082620685     True  24.58617  61.24783   \n        2009-05-27 20:00:00  1082620686     True  24.58217  61.23267   \n        2009-05-28 05:00:00  1082620687     True  24.53133  61.18833   \n        2009-05-28 08:00:00  1082620688     True  24.58200  61.23283   \n        2009-05-28 14:00:00  1082620689     True  24.58250  61.23267   \n\n                            sensor-type individual-taxon-canonical-name  \\\ntraj_id DateTime                                                          \n91732   2009-05-27 14:00:00         gps                    Larus fuscus   \n        2009-05-27 20:00:00         gps                    Larus fuscus   \n        2009-05-28 05:00:00         gps                    Larus fuscus   \n        2009-05-28 08:00:00         gps                    Larus fuscus   \n        2009-05-28 14:00:00         gps                    Larus fuscus   \n\n                            individual-local-identifier  \\\ntraj_id DateTime                                          \n91732   2009-05-27 14:00:00                      91732A   \n        2009-05-27 20:00:00                      91732A   \n        2009-05-28 05:00:00                      91732A   \n        2009-05-28 08:00:00                      91732A   \n        2009-05-28 14:00:00                      91732A   \n\n                                                                    study-name  \\\ntraj_id DateTime                                                                 \n91732   2009-05-27 14:00:00  Navigation experiments in lesser black-backed ...   \n        2009-05-27 20:00:00  Navigation experiments in lesser black-backed ...   \n        2009-05-28 05:00:00  Navigation experiments in lesser black-backed ...   \n        2009-05-28 08:00:00  Navigation experiments in lesser black-backed ...   \n        2009-05-28 14:00:00  Navigation experiments in lesser black-backed ...   \n\n                                 Time    Time_Of_Day        Date Day_Of_Week  \\\ntraj_id DateTime                                                               \n91732   2009-05-27 14:00:00  14:00:00           Noon  2009-05-27   Wednesday   \n        2009-05-27 20:00:00  20:00:00        Evening  2009-05-27   Wednesday   \n        2009-05-28 05:00:00  05:00:00  Early Morning  2009-05-28    Thursday   \n        2009-05-28 08:00:00  08:00:00  Early Morning  2009-05-28    Thursday   \n        2009-05-28 14:00:00  14:00:00           Noon  2009-05-28    Thursday   \n\n                             Weekend  \ntraj_id DateTime                      \n91732   2009-05-27 14:00:00    False  \n        2009-05-27 20:00:00    False  \n        2009-05-28 05:00:00    False  \n        2009-05-28 08:00:00    False  \n        2009-05-28 14:00:00    False  ",
      "text/html": "<div>\n<style scoped>\n    .dataframe tbody tr th:only-of-type {\n        vertical-align: middle;\n    }\n\n    .dataframe tbody tr th {\n        vertical-align: top;\n    }\n\n    .dataframe thead th {\n        text-align: right;\n    }\n</style>\n<table border=\"1\" class=\"dataframe\">\n  <thead>\n    <tr style=\"text-align: right;\">\n      <th></th>\n      <th></th>\n      <th>event-id</th>\n      <th>visible</th>\n      <th>lon</th>\n      <th>lat</th>\n      <th>sensor-type</th>\n      <th>individual-taxon-canonical-name</th>\n      <th>individual-local-identifier</th>\n      <th>study-name</th>\n      <th>Time</th>\n      <th>Time_Of_Day</th>\n      <th>Date</th>\n      <th>Day_Of_Week</th>\n      <th>Weekend</th>\n    </tr>\n    <tr>\n      <th>traj_id</th>\n      <th>DateTime</th>\n      <th></th>\n      <th></th>\n      <th></th>\n      <th></th>\n      <th></th>\n      <th></th>\n      <th></th>\n      <th></th>\n      <th></th>\n      <th></th>\n      <th></th>\n      <th></th>\n      <th></th>\n    </tr>\n  </thead>\n  <tbody>\n    <tr>\n      <th rowspan=\"5\" valign=\"top\">91732</th>\n      <th>2009-05-27 14:00:00</th>\n      <td>1082620685</td>\n      <td>True</td>\n      <td>24.58617</td>\n      <td>61.24783</td>\n      <td>gps</td>\n      <td>Larus fuscus</td>\n      <td>91732A</td>\n      <td>Navigation experiments in lesser black-backed ...</td>\n      <td>14:00:00</td>\n      <td>Noon</td>\n      <td>2009-05-27</td>\n      <td>Wednesday</td>\n      <td>False</td>\n    </tr>\n    <tr>\n      <th>2009-05-27 20:00:00</th>\n      <td>1082620686</td>\n      <td>True</td>\n      <td>24.58217</td>\n      <td>61.23267</td>\n      <td>gps</td>\n      <td>Larus fuscus</td>\n      <td>91732A</td>\n      <td>Navigation experiments in lesser black-backed ...</td>\n      <td>20:00:00</td>\n      <td>Evening</td>\n      <td>2009-05-27</td>\n      <td>Wednesday</td>\n      <td>False</td>\n    </tr>\n    <tr>\n      <th>2009-05-28 05:00:00</th>\n      <td>1082620687</td>\n      <td>True</td>\n      <td>24.53133</td>\n      <td>61.18833</td>\n      <td>gps</td>\n      <td>Larus fuscus</td>\n      <td>91732A</td>\n      <td>Navigation experiments in lesser black-backed ...</td>\n      <td>05:00:00</td>\n      <td>Early Morning</td>\n      <td>2009-05-28</td>\n      <td>Thursday</td>\n      <td>False</td>\n    </tr>\n    <tr>\n      <th>2009-05-28 08:00:00</th>\n      <td>1082620688</td>\n      <td>True</td>\n      <td>24.58200</td>\n      <td>61.23283</td>\n      <td>gps</td>\n      <td>Larus fuscus</td>\n      <td>91732A</td>\n      <td>Navigation experiments in lesser black-backed ...</td>\n      <td>08:00:00</td>\n      <td>Early Morning</td>\n      <td>2009-05-28</td>\n      <td>Thursday</td>\n      <td>False</td>\n    </tr>\n    <tr>\n      <th>2009-05-28 14:00:00</th>\n      <td>1082620689</td>\n      <td>True</td>\n      <td>24.58250</td>\n      <td>61.23267</td>\n      <td>gps</td>\n      <td>Larus fuscus</td>\n      <td>91732A</td>\n      <td>Navigation experiments in lesser black-backed ...</td>\n      <td>14:00:00</td>\n      <td>Noon</td>\n      <td>2009-05-28</td>\n      <td>Thursday</td>\n      <td>False</td>\n    </tr>\n  </tbody>\n</table>\n</div>"
     },
     "execution_count": 7,
     "metadata": {},
     "output_type": "execute_result"
    }
   ],
   "source": [
    "%%time\n",
    "\n",
    "\"\"\"\n",
    "Here, we will create 3 new columns that contain the following features:\n",
    "    1. The date on which the data point was recorded.\n",
    "    2. The day of the week on which the data point was recorded.\n",
    "    3. A boolean column indicating whether the point was recorded\n",
    "       on a weekend or not.\n",
    "\n",
    "    All the operations are being performed on the seagulls dataset.\n",
    "\"\"\"\n",
    "gulls = temporal.create_date_column(gulls)\n",
    "gulls = temporal.create_day_of_week_column(gulls)\n",
    "gulls = temporal.create_weekend_indicator_column(gulls)\n",
    "gulls.head()"
   ],
   "metadata": {
    "collapsed": false,
    "pycharm": {
     "name": "#%%\n"
    }
   }
  },
  {
   "cell_type": "code",
   "execution_count": 8,
   "outputs": [
    {
     "name": "stdout",
     "output_type": "stream",
     "text": [
      "CPU times: user 610 ms, sys: 56.3 ms, total: 666 ms\n",
      "Wall time: 1.68 s\n"
     ]
    },
    {
     "data": {
      "text/plain": "            Traj_Duration\ntraj_id                  \n91732   519 days 00:00:00\n91733    11 days 15:00:00\n91734   140 days 13:55:00\n91735   122 days 00:00:00\n91737   276 days 02:00:00\n...                   ...\n91920    42 days 19:00:00\n91921    12 days 00:00:00\n91924     6 days 00:00:00\n91929    11 days 09:00:00\n91930    12 days 00:00:00\n\n[126 rows x 1 columns]",
      "text/html": "<div>\n<style scoped>\n    .dataframe tbody tr th:only-of-type {\n        vertical-align: middle;\n    }\n\n    .dataframe tbody tr th {\n        vertical-align: top;\n    }\n\n    .dataframe thead th {\n        text-align: right;\n    }\n</style>\n<table border=\"1\" class=\"dataframe\">\n  <thead>\n    <tr style=\"text-align: right;\">\n      <th></th>\n      <th>Traj_Duration</th>\n    </tr>\n    <tr>\n      <th>traj_id</th>\n      <th></th>\n    </tr>\n  </thead>\n  <tbody>\n    <tr>\n      <th>91732</th>\n      <td>519 days 00:00:00</td>\n    </tr>\n    <tr>\n      <th>91733</th>\n      <td>11 days 15:00:00</td>\n    </tr>\n    <tr>\n      <th>91734</th>\n      <td>140 days 13:55:00</td>\n    </tr>\n    <tr>\n      <th>91735</th>\n      <td>122 days 00:00:00</td>\n    </tr>\n    <tr>\n      <th>91737</th>\n      <td>276 days 02:00:00</td>\n    </tr>\n    <tr>\n      <th>...</th>\n      <td>...</td>\n    </tr>\n    <tr>\n      <th>91920</th>\n      <td>42 days 19:00:00</td>\n    </tr>\n    <tr>\n      <th>91921</th>\n      <td>12 days 00:00:00</td>\n    </tr>\n    <tr>\n      <th>91924</th>\n      <td>6 days 00:00:00</td>\n    </tr>\n    <tr>\n      <th>91929</th>\n      <td>11 days 09:00:00</td>\n    </tr>\n    <tr>\n      <th>91930</th>\n      <td>12 days 00:00:00</td>\n    </tr>\n  </tbody>\n</table>\n<p>126 rows × 1 columns</p>\n</div>"
     },
     "execution_count": 8,
     "metadata": {},
     "output_type": "execute_result"
    }
   ],
   "source": [
    "%%time\n",
    "\n",
    "\"\"\"\n",
    "Now, another feature provided in the library calculates the\n",
    "duration of the trajectory present in the dataset. The result\n",
    "obtained from it depends on 2 conditions:\n",
    "    1. If the user wants the duration of a particular ID, then\n",
    "       the library returns the duration of that particular ID only.\n",
    "    2. However, if no particular ID is mentioned by the user, then\n",
    "       the library calculates the trajectory duration for each\n",
    "       unique trajectory ID present in the dataset.\n",
    "\"\"\"\n",
    "# First, lets get the trajectory durations for all the\n",
    "# unique trajectories present in the dataset.\n",
    "\n",
    "durations = temporal.get_traj_duration(gulls)\n",
    "durations"
   ],
   "metadata": {
    "collapsed": false,
    "pycharm": {
     "name": "#%%\n"
    }
   }
  },
  {
   "cell_type": "code",
   "execution_count": 9,
   "outputs": [
    {
     "name": "stdout",
     "output_type": "stream",
     "text": [
      "CPU times: user 84.9 ms, sys: 7.48 ms, total: 92.4 ms\n",
      "Wall time: 91.4 ms\n"
     ]
    },
    {
     "data": {
      "text/plain": "DateTime   52 days 18:38:07\ndtype: timedelta64[ns]"
     },
     "execution_count": 9,
     "metadata": {},
     "output_type": "execute_result"
    }
   ],
   "source": [
    "%%time\n",
    "\n",
    "# Now, lets get the trajectory duration for only a single\n",
    "# trajectory with the Trajectory ID: 1 present in the\n",
    "# geolife-dataset.\n",
    "\n",
    "delta_two = temporal.get_traj_duration(geolife_df, traj_id='1')\n",
    "delta_two"
   ],
   "metadata": {
    "collapsed": false,
    "pycharm": {
     "name": "#%%\n"
    }
   }
  },
  {
   "cell_type": "code",
   "execution_count": 9,
   "outputs": [],
   "source": [],
   "metadata": {
    "collapsed": false,
    "pycharm": {
     "name": "#%%\n"
    }
   }
  }
 ],
 "metadata": {
  "kernelspec": {
   "display_name": "Python 3",
   "language": "python",
   "name": "python3"
  },
  "language_info": {
   "codemirror_mode": {
    "name": "ipython",
    "version": 2
   },
   "file_extension": ".py",
   "mimetype": "text/x-python",
   "name": "python",
   "nbconvert_exporter": "python",
   "pygments_lexer": "ipython2",
   "version": "2.7.6"
  }
 },
 "nbformat": 4,
 "nbformat_minor": 0
}