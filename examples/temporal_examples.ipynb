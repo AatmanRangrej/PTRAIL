{
 "cells": [
  {
   "cell_type": "code",
   "execution_count": 1,
   "outputs": [],
   "source": [
    "from core.TrajectoryDF import NumPandasTraj as NumTrajDF\n",
    "from features.temporal_features import TemporalFeatures as temporal\n",
    "import pandas as pd\n",
    "import utilities.constants as const\n",
    "import numpy as np\n",
    "from features.helper_functions import Helpers as help\n",
    "import pymove as pm"
   ],
   "metadata": {
    "collapsed": false,
    "pycharm": {
     "name": "#%%\n"
    }
   }
  },
  {
   "cell_type": "code",
   "execution_count": 2,
   "metadata": {
    "collapsed": true,
    "pycharm": {
     "name": "#%%\n"
    }
   },
   "outputs": [
    {
     "name": "stdout",
     "output_type": "stream",
     "text": [
      "CPU times: user 273 ms, sys: 11.2 ms, total: 284 ms\n",
      "Wall time: 283 ms\n"
     ]
    },
    {
     "data": {
      "text/plain": "                               event-id  visible       lon       lat  \\\ntraj_id DateTime                                                       \n91732   2009-05-27 14:00:00  1082620685     True  24.58617  61.24783   \n        2009-05-27 20:00:00  1082620686     True  24.58217  61.23267   \n        2009-05-28 05:00:00  1082620687     True  24.53133  61.18833   \n        2009-05-28 08:00:00  1082620688     True  24.58200  61.23283   \n        2009-05-28 14:00:00  1082620689     True  24.58250  61.23267   \n\n                            sensor-type individual-taxon-canonical-name  \\\ntraj_id DateTime                                                          \n91732   2009-05-27 14:00:00         gps                    Larus fuscus   \n        2009-05-27 20:00:00         gps                    Larus fuscus   \n        2009-05-28 05:00:00         gps                    Larus fuscus   \n        2009-05-28 08:00:00         gps                    Larus fuscus   \n        2009-05-28 14:00:00         gps                    Larus fuscus   \n\n                            individual-local-identifier  \\\ntraj_id DateTime                                          \n91732   2009-05-27 14:00:00                      91732A   \n        2009-05-27 20:00:00                      91732A   \n        2009-05-28 05:00:00                      91732A   \n        2009-05-28 08:00:00                      91732A   \n        2009-05-28 14:00:00                      91732A   \n\n                                                                    study-name  \ntraj_id DateTime                                                                \n91732   2009-05-27 14:00:00  Navigation experiments in lesser black-backed ...  \n        2009-05-27 20:00:00  Navigation experiments in lesser black-backed ...  \n        2009-05-28 05:00:00  Navigation experiments in lesser black-backed ...  \n        2009-05-28 08:00:00  Navigation experiments in lesser black-backed ...  \n        2009-05-28 14:00:00  Navigation experiments in lesser black-backed ...  ",
      "text/html": "<div>\n<style scoped>\n    .dataframe tbody tr th:only-of-type {\n        vertical-align: middle;\n    }\n\n    .dataframe tbody tr th {\n        vertical-align: top;\n    }\n\n    .dataframe thead th {\n        text-align: right;\n    }\n</style>\n<table border=\"1\" class=\"dataframe\">\n  <thead>\n    <tr style=\"text-align: right;\">\n      <th></th>\n      <th></th>\n      <th>event-id</th>\n      <th>visible</th>\n      <th>lon</th>\n      <th>lat</th>\n      <th>sensor-type</th>\n      <th>individual-taxon-canonical-name</th>\n      <th>individual-local-identifier</th>\n      <th>study-name</th>\n    </tr>\n    <tr>\n      <th>traj_id</th>\n      <th>DateTime</th>\n      <th></th>\n      <th></th>\n      <th></th>\n      <th></th>\n      <th></th>\n      <th></th>\n      <th></th>\n      <th></th>\n    </tr>\n  </thead>\n  <tbody>\n    <tr>\n      <th rowspan=\"5\" valign=\"top\">91732</th>\n      <th>2009-05-27 14:00:00</th>\n      <td>1082620685</td>\n      <td>True</td>\n      <td>24.58617</td>\n      <td>61.24783</td>\n      <td>gps</td>\n      <td>Larus fuscus</td>\n      <td>91732A</td>\n      <td>Navigation experiments in lesser black-backed ...</td>\n    </tr>\n    <tr>\n      <th>2009-05-27 20:00:00</th>\n      <td>1082620686</td>\n      <td>True</td>\n      <td>24.58217</td>\n      <td>61.23267</td>\n      <td>gps</td>\n      <td>Larus fuscus</td>\n      <td>91732A</td>\n      <td>Navigation experiments in lesser black-backed ...</td>\n    </tr>\n    <tr>\n      <th>2009-05-28 05:00:00</th>\n      <td>1082620687</td>\n      <td>True</td>\n      <td>24.53133</td>\n      <td>61.18833</td>\n      <td>gps</td>\n      <td>Larus fuscus</td>\n      <td>91732A</td>\n      <td>Navigation experiments in lesser black-backed ...</td>\n    </tr>\n    <tr>\n      <th>2009-05-28 08:00:00</th>\n      <td>1082620688</td>\n      <td>True</td>\n      <td>24.58200</td>\n      <td>61.23283</td>\n      <td>gps</td>\n      <td>Larus fuscus</td>\n      <td>91732A</td>\n      <td>Navigation experiments in lesser black-backed ...</td>\n    </tr>\n    <tr>\n      <th>2009-05-28 14:00:00</th>\n      <td>1082620689</td>\n      <td>True</td>\n      <td>24.58250</td>\n      <td>61.23267</td>\n      <td>gps</td>\n      <td>Larus fuscus</td>\n      <td>91732A</td>\n      <td>Navigation experiments in lesser black-backed ...</td>\n    </tr>\n  </tbody>\n</table>\n</div>"
     },
     "execution_count": 2,
     "metadata": {},
     "output_type": "execute_result"
    }
   ],
   "source": [
    "%%time\n",
    "# Now lets import the gulls.csv and convert it into our\n",
    "# NumPandasTraj.\n",
    "\n",
    "gulls = pd.read_csv('./data/gulls.csv')\n",
    "gulls = NumTrajDF(gulls,\n",
    "                 latitude='location-lat',\n",
    "                 longitude='location-long',\n",
    "                 datetime='timestamp',\n",
    "                 traj_id='tag-local-identifier',\n",
    "                 rest_of_columns=[])\n",
    "gulls.head()"
   ]
  },
  {
   "cell_type": "code",
   "execution_count": 3,
   "outputs": [
    {
     "name": "stdout",
     "output_type": "stream",
     "text": [
      "CPU times: user 443 ms, sys: 55.6 ms, total: 499 ms\n",
      "Wall time: 497 ms\n"
     ]
    },
    {
     "data": {
      "text/plain": "                                   lat         lon\ntraj_id DateTime                                  \n1       2008-10-23 16:53:05  39.984094  116.319236\n        2008-10-23 16:53:06  39.984198  116.319322\n        2008-10-23 05:53:11  39.984224  116.319402\n        2008-10-23 05:53:16  39.984211  116.319389\n        2008-10-23 05:53:21  39.984217  116.319422",
      "text/html": "<div>\n<style scoped>\n    .dataframe tbody tr th:only-of-type {\n        vertical-align: middle;\n    }\n\n    .dataframe tbody tr th {\n        vertical-align: top;\n    }\n\n    .dataframe thead th {\n        text-align: right;\n    }\n</style>\n<table border=\"1\" class=\"dataframe\">\n  <thead>\n    <tr style=\"text-align: right;\">\n      <th></th>\n      <th></th>\n      <th>lat</th>\n      <th>lon</th>\n    </tr>\n    <tr>\n      <th>traj_id</th>\n      <th>DateTime</th>\n      <th></th>\n      <th></th>\n    </tr>\n  </thead>\n  <tbody>\n    <tr>\n      <th rowspan=\"5\" valign=\"top\">1</th>\n      <th>2008-10-23 16:53:05</th>\n      <td>39.984094</td>\n      <td>116.319236</td>\n    </tr>\n    <tr>\n      <th>2008-10-23 16:53:06</th>\n      <td>39.984198</td>\n      <td>116.319322</td>\n    </tr>\n    <tr>\n      <th>2008-10-23 05:53:11</th>\n      <td>39.984224</td>\n      <td>116.319402</td>\n    </tr>\n    <tr>\n      <th>2008-10-23 05:53:16</th>\n      <td>39.984211</td>\n      <td>116.319389</td>\n    </tr>\n    <tr>\n      <th>2008-10-23 05:53:21</th>\n      <td>39.984217</td>\n      <td>116.319422</td>\n    </tr>\n  </tbody>\n</table>\n</div>"
     },
     "execution_count": 3,
     "metadata": {},
     "output_type": "execute_result"
    }
   ],
   "source": [
    "%%time\n",
    "# Now lets import the geolife_sample.csv and convert it into our\n",
    "# NumPandasTraj.\n",
    "\n",
    "pdf = pd.read_csv('./data/geolife_sample.csv')\n",
    "dataframe = NumTrajDF(pdf,'lat','lon','datetime','id')\n",
    "dataframe.head()"
   ],
   "metadata": {
    "collapsed": false,
    "pycharm": {
     "name": "#%%\n"
    }
   }
  },
  {
   "cell_type": "code",
   "execution_count": 4,
   "outputs": [],
   "source": [
    "pm_traj = pm.MoveDataFrame(pdf, 'lat', 'lon', 'datetime', 'id')"
   ],
   "metadata": {
    "collapsed": false,
    "pycharm": {
     "name": "#%%\n"
    }
   }
  },
  {
   "cell_type": "code",
   "execution_count": 5,
   "outputs": [
    {
     "name": "stdout",
     "output_type": "stream",
     "text": [
      "CPU times: user 1.22 s, sys: 53.9 ms, total: 1.27 s\n",
      "Wall time: 1.27 s\n"
     ]
    },
    {
     "data": {
      "text/plain": "                                   lat         lon      Time    Time_Of_Day  \\\ntraj_id DateTime                                                              \n1       2008-10-23 16:53:05  39.984094  116.319236  16:53:05           Noon   \n        2008-10-23 16:53:06  39.984198  116.319322  16:53:06           Noon   \n        2008-10-23 05:53:11  39.984224  116.319402  05:53:11  Early Morning   \n        2008-10-23 05:53:16  39.984211  116.319389  05:53:16  Early Morning   \n        2008-10-23 05:53:21  39.984217  116.319422  05:53:21  Early Morning   \n\n                                   Date Day_Of_Week  Weekend  \ntraj_id DateTime                                              \n1       2008-10-23 16:53:05  2008-10-23    Thursday    False  \n        2008-10-23 16:53:06  2008-10-23    Thursday    False  \n        2008-10-23 05:53:11  2008-10-23    Thursday    False  \n        2008-10-23 05:53:16  2008-10-23    Thursday    False  \n        2008-10-23 05:53:21  2008-10-23    Thursday    False  ",
      "text/html": "<div>\n<style scoped>\n    .dataframe tbody tr th:only-of-type {\n        vertical-align: middle;\n    }\n\n    .dataframe tbody tr th {\n        vertical-align: top;\n    }\n\n    .dataframe thead th {\n        text-align: right;\n    }\n</style>\n<table border=\"1\" class=\"dataframe\">\n  <thead>\n    <tr style=\"text-align: right;\">\n      <th></th>\n      <th></th>\n      <th>lat</th>\n      <th>lon</th>\n      <th>Time</th>\n      <th>Time_Of_Day</th>\n      <th>Date</th>\n      <th>Day_Of_Week</th>\n      <th>Weekend</th>\n    </tr>\n    <tr>\n      <th>traj_id</th>\n      <th>DateTime</th>\n      <th></th>\n      <th></th>\n      <th></th>\n      <th></th>\n      <th></th>\n      <th></th>\n      <th></th>\n    </tr>\n  </thead>\n  <tbody>\n    <tr>\n      <th rowspan=\"5\" valign=\"top\">1</th>\n      <th>2008-10-23 16:53:05</th>\n      <td>39.984094</td>\n      <td>116.319236</td>\n      <td>16:53:05</td>\n      <td>Noon</td>\n      <td>2008-10-23</td>\n      <td>Thursday</td>\n      <td>False</td>\n    </tr>\n    <tr>\n      <th>2008-10-23 16:53:06</th>\n      <td>39.984198</td>\n      <td>116.319322</td>\n      <td>16:53:06</td>\n      <td>Noon</td>\n      <td>2008-10-23</td>\n      <td>Thursday</td>\n      <td>False</td>\n    </tr>\n    <tr>\n      <th>2008-10-23 05:53:11</th>\n      <td>39.984224</td>\n      <td>116.319402</td>\n      <td>05:53:11</td>\n      <td>Early Morning</td>\n      <td>2008-10-23</td>\n      <td>Thursday</td>\n      <td>False</td>\n    </tr>\n    <tr>\n      <th>2008-10-23 05:53:16</th>\n      <td>39.984211</td>\n      <td>116.319389</td>\n      <td>05:53:16</td>\n      <td>Early Morning</td>\n      <td>2008-10-23</td>\n      <td>Thursday</td>\n      <td>False</td>\n    </tr>\n    <tr>\n      <th>2008-10-23 05:53:21</th>\n      <td>39.984217</td>\n      <td>116.319422</td>\n      <td>05:53:21</td>\n      <td>Early Morning</td>\n      <td>2008-10-23</td>\n      <td>Thursday</td>\n      <td>False</td>\n    </tr>\n  </tbody>\n</table>\n</div>"
     },
     "execution_count": 5,
     "metadata": {},
     "output_type": "execute_result"
    }
   ],
   "source": [
    "%%time\n",
    "# Here, we will calculate the date, time, day of the week and whether\n",
    "# it is weekend or not in the same cell. Upon running, the library\n",
    "# always executes within 3-4 seconds. Compared to dask version of this,\n",
    "# only the time column creation took 7.5 seconds. So this version\n",
    "# is more efficient in terms of code execution and memory usage.\n",
    "\n",
    "dataframe = temporal.create_time_column(dataframe)\n",
    "dataframe = temporal.create_time_of_day_column(dataframe)\n",
    "dataframe = temporal.create_date_column(dataframe)\n",
    "dataframe = temporal.create_day_of_week_column(dataframe)\n",
    "dataframe = temporal.create_weekend_indicator_column(dataframe)\n",
    "dataframe.head()\n",
    "#"
   ],
   "metadata": {
    "collapsed": false,
    "pycharm": {
     "name": "#%%\n"
    }
   }
  },
  {
   "cell_type": "code",
   "execution_count": 6,
   "outputs": [
    {
     "name": "stdout",
     "output_type": "stream",
     "text": [
      "CPU times: user 472 ms, sys: 10.9 ms, total: 483 ms\n",
      "Wall time: 482 ms\n"
     ]
    },
    {
     "data": {
      "text/plain": "                               event-id  visible       lon       lat  \\\ntraj_id DateTime                                                       \n91732   2009-05-27 14:00:00  1082620685     True  24.58617  61.24783   \n        2009-05-27 20:00:00  1082620686     True  24.58217  61.23267   \n        2009-05-28 05:00:00  1082620687     True  24.53133  61.18833   \n        2009-05-28 08:00:00  1082620688     True  24.58200  61.23283   \n        2009-05-28 14:00:00  1082620689     True  24.58250  61.23267   \n\n                            sensor-type individual-taxon-canonical-name  \\\ntraj_id DateTime                                                          \n91732   2009-05-27 14:00:00         gps                    Larus fuscus   \n        2009-05-27 20:00:00         gps                    Larus fuscus   \n        2009-05-28 05:00:00         gps                    Larus fuscus   \n        2009-05-28 08:00:00         gps                    Larus fuscus   \n        2009-05-28 14:00:00         gps                    Larus fuscus   \n\n                            individual-local-identifier  \\\ntraj_id DateTime                                          \n91732   2009-05-27 14:00:00                      91732A   \n        2009-05-27 20:00:00                      91732A   \n        2009-05-28 05:00:00                      91732A   \n        2009-05-28 08:00:00                      91732A   \n        2009-05-28 14:00:00                      91732A   \n\n                                                                    study-name  \\\ntraj_id DateTime                                                                 \n91732   2009-05-27 14:00:00  Navigation experiments in lesser black-backed ...   \n        2009-05-27 20:00:00  Navigation experiments in lesser black-backed ...   \n        2009-05-28 05:00:00  Navigation experiments in lesser black-backed ...   \n        2009-05-28 08:00:00  Navigation experiments in lesser black-backed ...   \n        2009-05-28 14:00:00  Navigation experiments in lesser black-backed ...   \n\n                                 Time    Time_Of_Day        Date Day_Of_Week  \\\ntraj_id DateTime                                                               \n91732   2009-05-27 14:00:00  14:00:00           Noon  2009-05-27   Wednesday   \n        2009-05-27 20:00:00  20:00:00        Evening  2009-05-27   Wednesday   \n        2009-05-28 05:00:00  05:00:00  Early Morning  2009-05-28    Thursday   \n        2009-05-28 08:00:00  08:00:00  Early Morning  2009-05-28    Thursday   \n        2009-05-28 14:00:00  14:00:00           Noon  2009-05-28    Thursday   \n\n                             Weekend  \ntraj_id DateTime                      \n91732   2009-05-27 14:00:00    False  \n        2009-05-27 20:00:00    False  \n        2009-05-28 05:00:00    False  \n        2009-05-28 08:00:00    False  \n        2009-05-28 14:00:00    False  ",
      "text/html": "<div>\n<style scoped>\n    .dataframe tbody tr th:only-of-type {\n        vertical-align: middle;\n    }\n\n    .dataframe tbody tr th {\n        vertical-align: top;\n    }\n\n    .dataframe thead th {\n        text-align: right;\n    }\n</style>\n<table border=\"1\" class=\"dataframe\">\n  <thead>\n    <tr style=\"text-align: right;\">\n      <th></th>\n      <th></th>\n      <th>event-id</th>\n      <th>visible</th>\n      <th>lon</th>\n      <th>lat</th>\n      <th>sensor-type</th>\n      <th>individual-taxon-canonical-name</th>\n      <th>individual-local-identifier</th>\n      <th>study-name</th>\n      <th>Time</th>\n      <th>Time_Of_Day</th>\n      <th>Date</th>\n      <th>Day_Of_Week</th>\n      <th>Weekend</th>\n    </tr>\n    <tr>\n      <th>traj_id</th>\n      <th>DateTime</th>\n      <th></th>\n      <th></th>\n      <th></th>\n      <th></th>\n      <th></th>\n      <th></th>\n      <th></th>\n      <th></th>\n      <th></th>\n      <th></th>\n      <th></th>\n      <th></th>\n      <th></th>\n    </tr>\n  </thead>\n  <tbody>\n    <tr>\n      <th rowspan=\"5\" valign=\"top\">91732</th>\n      <th>2009-05-27 14:00:00</th>\n      <td>1082620685</td>\n      <td>True</td>\n      <td>24.58617</td>\n      <td>61.24783</td>\n      <td>gps</td>\n      <td>Larus fuscus</td>\n      <td>91732A</td>\n      <td>Navigation experiments in lesser black-backed ...</td>\n      <td>14:00:00</td>\n      <td>Noon</td>\n      <td>2009-05-27</td>\n      <td>Wednesday</td>\n      <td>False</td>\n    </tr>\n    <tr>\n      <th>2009-05-27 20:00:00</th>\n      <td>1082620686</td>\n      <td>True</td>\n      <td>24.58217</td>\n      <td>61.23267</td>\n      <td>gps</td>\n      <td>Larus fuscus</td>\n      <td>91732A</td>\n      <td>Navigation experiments in lesser black-backed ...</td>\n      <td>20:00:00</td>\n      <td>Evening</td>\n      <td>2009-05-27</td>\n      <td>Wednesday</td>\n      <td>False</td>\n    </tr>\n    <tr>\n      <th>2009-05-28 05:00:00</th>\n      <td>1082620687</td>\n      <td>True</td>\n      <td>24.53133</td>\n      <td>61.18833</td>\n      <td>gps</td>\n      <td>Larus fuscus</td>\n      <td>91732A</td>\n      <td>Navigation experiments in lesser black-backed ...</td>\n      <td>05:00:00</td>\n      <td>Early Morning</td>\n      <td>2009-05-28</td>\n      <td>Thursday</td>\n      <td>False</td>\n    </tr>\n    <tr>\n      <th>2009-05-28 08:00:00</th>\n      <td>1082620688</td>\n      <td>True</td>\n      <td>24.58200</td>\n      <td>61.23283</td>\n      <td>gps</td>\n      <td>Larus fuscus</td>\n      <td>91732A</td>\n      <td>Navigation experiments in lesser black-backed ...</td>\n      <td>08:00:00</td>\n      <td>Early Morning</td>\n      <td>2009-05-28</td>\n      <td>Thursday</td>\n      <td>False</td>\n    </tr>\n    <tr>\n      <th>2009-05-28 14:00:00</th>\n      <td>1082620689</td>\n      <td>True</td>\n      <td>24.58250</td>\n      <td>61.23267</td>\n      <td>gps</td>\n      <td>Larus fuscus</td>\n      <td>91732A</td>\n      <td>Navigation experiments in lesser black-backed ...</td>\n      <td>14:00:00</td>\n      <td>Noon</td>\n      <td>2009-05-28</td>\n      <td>Thursday</td>\n      <td>False</td>\n    </tr>\n  </tbody>\n</table>\n</div>"
     },
     "execution_count": 6,
     "metadata": {},
     "output_type": "execute_result"
    }
   ],
   "source": [
    "%%time\n",
    "# Here, we will calculate the date, time, day of the week and whether\n",
    "# it is weekend or not in the same cell. Upon running, the library\n",
    "# always executes within 2 seconds even though this has more number\n",
    "# of trajectories as compared to geolife_sample.csv.\n",
    "\n",
    "gulls = temporal.create_time_column(gulls)\n",
    "gulls = temporal.create_time_of_day_column(gulls)\n",
    "gulls = temporal.create_date_column(gulls)\n",
    "gulls = temporal.create_day_of_week_column(gulls)\n",
    "gulls = temporal.create_weekend_indicator_column(gulls)\n",
    "gulls.head()"
   ],
   "metadata": {
    "collapsed": false,
    "pycharm": {
     "name": "#%%\n"
    }
   }
  },
  {
   "cell_type": "code",
   "execution_count": 7,
   "outputs": [
    {
     "name": "stdout",
     "output_type": "stream",
     "text": [
      "CPU times: user 1.73 s, sys: 157 ms, total: 1.89 s\n",
      "Wall time: 2.26 s\n"
     ]
    },
    {
     "data": {
      "text/plain": "            Traj_Duration\ntraj_id                  \n1        52 days 18:38:07\n5       146 days 01:34:07",
      "text/html": "<div>\n<style scoped>\n    .dataframe tbody tr th:only-of-type {\n        vertical-align: middle;\n    }\n\n    .dataframe tbody tr th {\n        vertical-align: top;\n    }\n\n    .dataframe thead th {\n        text-align: right;\n    }\n</style>\n<table border=\"1\" class=\"dataframe\">\n  <thead>\n    <tr style=\"text-align: right;\">\n      <th></th>\n      <th>Traj_Duration</th>\n    </tr>\n    <tr>\n      <th>traj_id</th>\n      <th></th>\n    </tr>\n  </thead>\n  <tbody>\n    <tr>\n      <th>1</th>\n      <td>52 days 18:38:07</td>\n    </tr>\n    <tr>\n      <th>5</th>\n      <td>146 days 01:34:07</td>\n    </tr>\n  </tbody>\n</table>\n</div>"
     },
     "execution_count": 7,
     "metadata": {},
     "output_type": "execute_result"
    }
   ],
   "source": [
    "%%time\n",
    "\n",
    "# Now, let's calculate the time duration.\n",
    "delta_one = temporal.get_traj_duration(dataframe)\n",
    "delta_two = temporal.get_traj_duration(dataframe, traj_id='5')\n",
    "delta_one"
   ],
   "metadata": {
    "collapsed": false,
    "pycharm": {
     "name": "#%%\n"
    }
   }
  },
  {
   "cell_type": "code",
   "execution_count": 11,
   "outputs": [],
   "source": [],
   "metadata": {
    "collapsed": false,
    "pycharm": {
     "name": "#%%\n"
    }
   }
  }
 ],
 "metadata": {
  "kernelspec": {
   "display_name": "Python 3",
   "language": "python",
   "name": "python3"
  },
  "language_info": {
   "codemirror_mode": {
    "name": "ipython",
    "version": 2
   },
   "file_extension": ".py",
   "mimetype": "text/x-python",
   "name": "python",
   "nbconvert_exporter": "python",
   "pygments_lexer": "ipython2",
   "version": "2.7.6"
  }
 },
 "nbformat": 4,
 "nbformat_minor": 0
}