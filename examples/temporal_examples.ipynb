{
 "cells": [
  {
   "cell_type": "code",
   "execution_count": 1,
   "outputs": [],
   "source": [
    "from core.TrajectoryDF import NumPandasTraj as NumTrajDF\n",
    "from features.temporal_features import TemporalFeatures as temporal\n",
    "import pandas as pd\n",
    "import utilities.constants as const\n",
    "import numpy as np"
   ],
   "metadata": {
    "collapsed": false,
    "pycharm": {
     "name": "#%%\n"
    }
   }
  },
  {
   "cell_type": "code",
   "execution_count": 2,
   "metadata": {
    "collapsed": true,
    "pycharm": {
     "name": "#%%\n"
    }
   },
   "outputs": [
    {
     "name": "stdout",
     "output_type": "stream",
     "text": [
      "CPU times: user 271 ms, sys: 16.2 ms, total: 287 ms\n",
      "Wall time: 286 ms\n"
     ]
    },
    {
     "data": {
      "text/plain": "                               event-id  visible       lon       lat  \\\nDateTime            traj_id                                            \n2009-05-27 14:00:00 91732    1082620685     True  24.58617  61.24783   \n2009-05-27 20:00:00 91732    1082620686     True  24.58217  61.23267   \n2009-05-28 05:00:00 91732    1082620687     True  24.53133  61.18833   \n2009-05-28 08:00:00 91732    1082620688     True  24.58200  61.23283   \n2009-05-28 14:00:00 91732    1082620689     True  24.58250  61.23267   \n\n                            sensor-type individual-taxon-canonical-name  \\\nDateTime            traj_id                                               \n2009-05-27 14:00:00 91732           gps                    Larus fuscus   \n2009-05-27 20:00:00 91732           gps                    Larus fuscus   \n2009-05-28 05:00:00 91732           gps                    Larus fuscus   \n2009-05-28 08:00:00 91732           gps                    Larus fuscus   \n2009-05-28 14:00:00 91732           gps                    Larus fuscus   \n\n                            individual-local-identifier  \\\nDateTime            traj_id                               \n2009-05-27 14:00:00 91732                        91732A   \n2009-05-27 20:00:00 91732                        91732A   \n2009-05-28 05:00:00 91732                        91732A   \n2009-05-28 08:00:00 91732                        91732A   \n2009-05-28 14:00:00 91732                        91732A   \n\n                                                                    study-name  \nDateTime            traj_id                                                     \n2009-05-27 14:00:00 91732    Navigation experiments in lesser black-backed ...  \n2009-05-27 20:00:00 91732    Navigation experiments in lesser black-backed ...  \n2009-05-28 05:00:00 91732    Navigation experiments in lesser black-backed ...  \n2009-05-28 08:00:00 91732    Navigation experiments in lesser black-backed ...  \n2009-05-28 14:00:00 91732    Navigation experiments in lesser black-backed ...  ",
      "text/html": "<div>\n<style scoped>\n    .dataframe tbody tr th:only-of-type {\n        vertical-align: middle;\n    }\n\n    .dataframe tbody tr th {\n        vertical-align: top;\n    }\n\n    .dataframe thead th {\n        text-align: right;\n    }\n</style>\n<table border=\"1\" class=\"dataframe\">\n  <thead>\n    <tr style=\"text-align: right;\">\n      <th></th>\n      <th></th>\n      <th>event-id</th>\n      <th>visible</th>\n      <th>lon</th>\n      <th>lat</th>\n      <th>sensor-type</th>\n      <th>individual-taxon-canonical-name</th>\n      <th>individual-local-identifier</th>\n      <th>study-name</th>\n    </tr>\n    <tr>\n      <th>DateTime</th>\n      <th>traj_id</th>\n      <th></th>\n      <th></th>\n      <th></th>\n      <th></th>\n      <th></th>\n      <th></th>\n      <th></th>\n      <th></th>\n    </tr>\n  </thead>\n  <tbody>\n    <tr>\n      <th>2009-05-27 14:00:00</th>\n      <th>91732</th>\n      <td>1082620685</td>\n      <td>True</td>\n      <td>24.58617</td>\n      <td>61.24783</td>\n      <td>gps</td>\n      <td>Larus fuscus</td>\n      <td>91732A</td>\n      <td>Navigation experiments in lesser black-backed ...</td>\n    </tr>\n    <tr>\n      <th>2009-05-27 20:00:00</th>\n      <th>91732</th>\n      <td>1082620686</td>\n      <td>True</td>\n      <td>24.58217</td>\n      <td>61.23267</td>\n      <td>gps</td>\n      <td>Larus fuscus</td>\n      <td>91732A</td>\n      <td>Navigation experiments in lesser black-backed ...</td>\n    </tr>\n    <tr>\n      <th>2009-05-28 05:00:00</th>\n      <th>91732</th>\n      <td>1082620687</td>\n      <td>True</td>\n      <td>24.53133</td>\n      <td>61.18833</td>\n      <td>gps</td>\n      <td>Larus fuscus</td>\n      <td>91732A</td>\n      <td>Navigation experiments in lesser black-backed ...</td>\n    </tr>\n    <tr>\n      <th>2009-05-28 08:00:00</th>\n      <th>91732</th>\n      <td>1082620688</td>\n      <td>True</td>\n      <td>24.58200</td>\n      <td>61.23283</td>\n      <td>gps</td>\n      <td>Larus fuscus</td>\n      <td>91732A</td>\n      <td>Navigation experiments in lesser black-backed ...</td>\n    </tr>\n    <tr>\n      <th>2009-05-28 14:00:00</th>\n      <th>91732</th>\n      <td>1082620689</td>\n      <td>True</td>\n      <td>24.58250</td>\n      <td>61.23267</td>\n      <td>gps</td>\n      <td>Larus fuscus</td>\n      <td>91732A</td>\n      <td>Navigation experiments in lesser black-backed ...</td>\n    </tr>\n  </tbody>\n</table>\n</div>"
     },
     "execution_count": 2,
     "metadata": {},
     "output_type": "execute_result"
    }
   ],
   "source": [
    "%%time\n",
    "# Now lets import the gulls.csv and convert it into our\n",
    "# NumPandasTraj.\n",
    "\n",
    "gulls = pd.read_csv('./data/gulls.csv')\n",
    "gulls = NumTrajDF(gulls,\n",
    "                 latitude='location-lat',\n",
    "                 longitude='location-long',\n",
    "                 datetime='timestamp',\n",
    "                 traj_id='tag-local-identifier',\n",
    "                 rest_of_columns=[])\n",
    "gulls.head()"
   ]
  },
  {
   "cell_type": "code",
   "execution_count": 3,
   "outputs": [
    {
     "name": "stdout",
     "output_type": "stream",
     "text": [
      "CPU times: user 480 ms, sys: 19.4 ms, total: 499 ms\n",
      "Wall time: 500 ms\n"
     ]
    },
    {
     "data": {
      "text/plain": "                                   lat         lon\nDateTime            traj_id                       \n2008-10-23 16:53:05 1        39.984094  116.319236\n2008-10-23 16:53:06 1        39.984198  116.319322\n2008-10-23 05:53:11 1        39.984224  116.319402\n2008-10-23 05:53:16 1        39.984211  116.319389\n2008-10-23 05:53:21 1        39.984217  116.319422",
      "text/html": "<div>\n<style scoped>\n    .dataframe tbody tr th:only-of-type {\n        vertical-align: middle;\n    }\n\n    .dataframe tbody tr th {\n        vertical-align: top;\n    }\n\n    .dataframe thead th {\n        text-align: right;\n    }\n</style>\n<table border=\"1\" class=\"dataframe\">\n  <thead>\n    <tr style=\"text-align: right;\">\n      <th></th>\n      <th></th>\n      <th>lat</th>\n      <th>lon</th>\n    </tr>\n    <tr>\n      <th>DateTime</th>\n      <th>traj_id</th>\n      <th></th>\n      <th></th>\n    </tr>\n  </thead>\n  <tbody>\n    <tr>\n      <th>2008-10-23 16:53:05</th>\n      <th>1</th>\n      <td>39.984094</td>\n      <td>116.319236</td>\n    </tr>\n    <tr>\n      <th>2008-10-23 16:53:06</th>\n      <th>1</th>\n      <td>39.984198</td>\n      <td>116.319322</td>\n    </tr>\n    <tr>\n      <th>2008-10-23 05:53:11</th>\n      <th>1</th>\n      <td>39.984224</td>\n      <td>116.319402</td>\n    </tr>\n    <tr>\n      <th>2008-10-23 05:53:16</th>\n      <th>1</th>\n      <td>39.984211</td>\n      <td>116.319389</td>\n    </tr>\n    <tr>\n      <th>2008-10-23 05:53:21</th>\n      <th>1</th>\n      <td>39.984217</td>\n      <td>116.319422</td>\n    </tr>\n  </tbody>\n</table>\n</div>"
     },
     "execution_count": 3,
     "metadata": {},
     "output_type": "execute_result"
    }
   ],
   "source": [
    "%%time\n",
    "# Now lets import the geolife_sample.csv and convert it into our\n",
    "# NumPandasTraj.\n",
    "\n",
    "pdf = pd.read_csv('./data/geolife_sample.csv')\n",
    "dataframe = NumTrajDF(pdf,'lat','lon','datetime','id')\n",
    "dataframe.head()"
   ],
   "metadata": {
    "collapsed": false,
    "pycharm": {
     "name": "#%%\n"
    }
   }
  },
  {
   "cell_type": "code",
   "execution_count": 4,
   "outputs": [
    {
     "name": "stdout",
     "output_type": "stream",
     "text": [
      "CPU times: user 3.1 s, sys: 515 ms, total: 3.61 s\n",
      "Wall time: 8.63 s\n"
     ]
    },
    {
     "data": {
      "text/plain": "                                   lat         lon      Time    Time_Of_Day  \\\nDateTime            traj_id                                                   \n2008-10-23 16:53:05 1        39.984094  116.319236  16:53:05           Noon   \n2008-10-23 16:53:06 1        39.984198  116.319322  16:53:06           Noon   \n2008-10-23 05:53:11 1        39.984224  116.319402  05:53:11  Early Morning   \n2008-10-23 05:53:16 1        39.984211  116.319389  05:53:16  Early Morning   \n2008-10-23 05:53:21 1        39.984217  116.319422  05:53:21  Early Morning   \n\n                                   Date Day_Of_Week  Weekend  \nDateTime            traj_id                                   \n2008-10-23 16:53:05 1        2008-10-23    Thursday    False  \n2008-10-23 16:53:06 1        2008-10-23    Thursday    False  \n2008-10-23 05:53:11 1        2008-10-23    Thursday    False  \n2008-10-23 05:53:16 1        2008-10-23    Thursday    False  \n2008-10-23 05:53:21 1        2008-10-23    Thursday    False  ",
      "text/html": "<div>\n<style scoped>\n    .dataframe tbody tr th:only-of-type {\n        vertical-align: middle;\n    }\n\n    .dataframe tbody tr th {\n        vertical-align: top;\n    }\n\n    .dataframe thead th {\n        text-align: right;\n    }\n</style>\n<table border=\"1\" class=\"dataframe\">\n  <thead>\n    <tr style=\"text-align: right;\">\n      <th></th>\n      <th></th>\n      <th>lat</th>\n      <th>lon</th>\n      <th>Time</th>\n      <th>Time_Of_Day</th>\n      <th>Date</th>\n      <th>Day_Of_Week</th>\n      <th>Weekend</th>\n    </tr>\n    <tr>\n      <th>DateTime</th>\n      <th>traj_id</th>\n      <th></th>\n      <th></th>\n      <th></th>\n      <th></th>\n      <th></th>\n      <th></th>\n      <th></th>\n    </tr>\n  </thead>\n  <tbody>\n    <tr>\n      <th>2008-10-23 16:53:05</th>\n      <th>1</th>\n      <td>39.984094</td>\n      <td>116.319236</td>\n      <td>16:53:05</td>\n      <td>Noon</td>\n      <td>2008-10-23</td>\n      <td>Thursday</td>\n      <td>False</td>\n    </tr>\n    <tr>\n      <th>2008-10-23 16:53:06</th>\n      <th>1</th>\n      <td>39.984198</td>\n      <td>116.319322</td>\n      <td>16:53:06</td>\n      <td>Noon</td>\n      <td>2008-10-23</td>\n      <td>Thursday</td>\n      <td>False</td>\n    </tr>\n    <tr>\n      <th>2008-10-23 05:53:11</th>\n      <th>1</th>\n      <td>39.984224</td>\n      <td>116.319402</td>\n      <td>05:53:11</td>\n      <td>Early Morning</td>\n      <td>2008-10-23</td>\n      <td>Thursday</td>\n      <td>False</td>\n    </tr>\n    <tr>\n      <th>2008-10-23 05:53:16</th>\n      <th>1</th>\n      <td>39.984211</td>\n      <td>116.319389</td>\n      <td>05:53:16</td>\n      <td>Early Morning</td>\n      <td>2008-10-23</td>\n      <td>Thursday</td>\n      <td>False</td>\n    </tr>\n    <tr>\n      <th>2008-10-23 05:53:21</th>\n      <th>1</th>\n      <td>39.984217</td>\n      <td>116.319422</td>\n      <td>05:53:21</td>\n      <td>Early Morning</td>\n      <td>2008-10-23</td>\n      <td>Thursday</td>\n      <td>False</td>\n    </tr>\n  </tbody>\n</table>\n</div>"
     },
     "execution_count": 4,
     "metadata": {},
     "output_type": "execute_result"
    }
   ],
   "source": [
    "%%time\n",
    "# Here, we will calculate the date, time, day of the week and whether\n",
    "# it is weekend or not in the same cell. Upon running, the library\n",
    "# always executes within 3-4 seconds. Compared to dask version of this,\n",
    "# only the time column creation took 7.5 seconds. So this version\n",
    "# is more efficient in terms of code execution and memory usage.\n",
    "\n",
    "dataframe = temporal.create_time_column(dataframe)\n",
    "dataframe = temporal.create_time_of_day_column(dataframe)\n",
    "dataframe = temporal.create_date_column(dataframe)\n",
    "dataframe = temporal.create_day_of_week_column(dataframe)\n",
    "dataframe = temporal.create_weekend_indicator_column(dataframe)\n",
    "dataframe.head()"
   ],
   "metadata": {
    "collapsed": false,
    "pycharm": {
     "name": "#%%\n"
    }
   }
  },
  {
   "cell_type": "code",
   "execution_count": 5,
   "outputs": [
    {
     "name": "stdout",
     "output_type": "stream",
     "text": [
      "CPU times: user 1.82 s, sys: 360 ms, total: 2.18 s\n",
      "Wall time: 5.2 s\n"
     ]
    },
    {
     "data": {
      "text/plain": "                               event-id  visible      lon       lat  \\\nDateTime            traj_id                                           \n2009-08-15 15:00:00 91733    1082636186     True  7.91883  54.18600   \n2009-08-15 21:00:00 91733    1082636187     True  7.91917  54.18567   \n2009-08-16 06:00:00 91733    1082636188     True  7.91500  54.18533   \n2009-08-16 09:00:00 91733    1082636189     True  7.91917  54.18583   \n2009-08-16 15:00:00 91733    1082636190     True  8.64117  54.33383   \n\n                            sensor-type individual-taxon-canonical-name  \\\nDateTime            traj_id                                               \n2009-08-15 15:00:00 91733           gps                    Larus fuscus   \n2009-08-15 21:00:00 91733           gps                    Larus fuscus   \n2009-08-16 06:00:00 91733           gps                    Larus fuscus   \n2009-08-16 09:00:00 91733           gps                    Larus fuscus   \n2009-08-16 15:00:00 91733           gps                    Larus fuscus   \n\n                            individual-local-identifier  \\\nDateTime            traj_id                               \n2009-08-15 15:00:00 91733                        91733A   \n2009-08-15 21:00:00 91733                        91733A   \n2009-08-16 06:00:00 91733                        91733A   \n2009-08-16 09:00:00 91733                        91733A   \n2009-08-16 15:00:00 91733                        91733A   \n\n                                                                    study-name  \\\nDateTime            traj_id                                                      \n2009-08-15 15:00:00 91733    Navigation experiments in lesser black-backed ...   \n2009-08-15 21:00:00 91733    Navigation experiments in lesser black-backed ...   \n2009-08-16 06:00:00 91733    Navigation experiments in lesser black-backed ...   \n2009-08-16 09:00:00 91733    Navigation experiments in lesser black-backed ...   \n2009-08-16 15:00:00 91733    Navigation experiments in lesser black-backed ...   \n\n                                 Time    Time_Of_Day        Date Day_Of_Week  \\\nDateTime            traj_id                                                    \n2009-08-15 15:00:00 91733    21:00:00           Noon  2009-08-15    Saturday   \n2009-08-15 21:00:00 91733    06:00:00          Night  2009-08-15    Saturday   \n2009-08-16 06:00:00 91733    09:00:00  Early Morning  2009-08-16      Sunday   \n2009-08-16 09:00:00 91733    15:00:00        Morning  2009-08-16      Sunday   \n2009-08-16 15:00:00 91733    21:00:00           Noon  2009-08-16      Sunday   \n\n                             Weekend  \nDateTime            traj_id           \n2009-08-15 15:00:00 91733       True  \n2009-08-15 21:00:00 91733       True  \n2009-08-16 06:00:00 91733       True  \n2009-08-16 09:00:00 91733       True  \n2009-08-16 15:00:00 91733       True  ",
      "text/html": "<div>\n<style scoped>\n    .dataframe tbody tr th:only-of-type {\n        vertical-align: middle;\n    }\n\n    .dataframe tbody tr th {\n        vertical-align: top;\n    }\n\n    .dataframe thead th {\n        text-align: right;\n    }\n</style>\n<table border=\"1\" class=\"dataframe\">\n  <thead>\n    <tr style=\"text-align: right;\">\n      <th></th>\n      <th></th>\n      <th>event-id</th>\n      <th>visible</th>\n      <th>lon</th>\n      <th>lat</th>\n      <th>sensor-type</th>\n      <th>individual-taxon-canonical-name</th>\n      <th>individual-local-identifier</th>\n      <th>study-name</th>\n      <th>Time</th>\n      <th>Time_Of_Day</th>\n      <th>Date</th>\n      <th>Day_Of_Week</th>\n      <th>Weekend</th>\n    </tr>\n    <tr>\n      <th>DateTime</th>\n      <th>traj_id</th>\n      <th></th>\n      <th></th>\n      <th></th>\n      <th></th>\n      <th></th>\n      <th></th>\n      <th></th>\n      <th></th>\n      <th></th>\n      <th></th>\n      <th></th>\n      <th></th>\n      <th></th>\n    </tr>\n  </thead>\n  <tbody>\n    <tr>\n      <th>2009-08-15 15:00:00</th>\n      <th>91733</th>\n      <td>1082636186</td>\n      <td>True</td>\n      <td>7.91883</td>\n      <td>54.18600</td>\n      <td>gps</td>\n      <td>Larus fuscus</td>\n      <td>91733A</td>\n      <td>Navigation experiments in lesser black-backed ...</td>\n      <td>21:00:00</td>\n      <td>Noon</td>\n      <td>2009-08-15</td>\n      <td>Saturday</td>\n      <td>True</td>\n    </tr>\n    <tr>\n      <th>2009-08-15 21:00:00</th>\n      <th>91733</th>\n      <td>1082636187</td>\n      <td>True</td>\n      <td>7.91917</td>\n      <td>54.18567</td>\n      <td>gps</td>\n      <td>Larus fuscus</td>\n      <td>91733A</td>\n      <td>Navigation experiments in lesser black-backed ...</td>\n      <td>06:00:00</td>\n      <td>Night</td>\n      <td>2009-08-15</td>\n      <td>Saturday</td>\n      <td>True</td>\n    </tr>\n    <tr>\n      <th>2009-08-16 06:00:00</th>\n      <th>91733</th>\n      <td>1082636188</td>\n      <td>True</td>\n      <td>7.91500</td>\n      <td>54.18533</td>\n      <td>gps</td>\n      <td>Larus fuscus</td>\n      <td>91733A</td>\n      <td>Navigation experiments in lesser black-backed ...</td>\n      <td>09:00:00</td>\n      <td>Early Morning</td>\n      <td>2009-08-16</td>\n      <td>Sunday</td>\n      <td>True</td>\n    </tr>\n    <tr>\n      <th>2009-08-16 09:00:00</th>\n      <th>91733</th>\n      <td>1082636189</td>\n      <td>True</td>\n      <td>7.91917</td>\n      <td>54.18583</td>\n      <td>gps</td>\n      <td>Larus fuscus</td>\n      <td>91733A</td>\n      <td>Navigation experiments in lesser black-backed ...</td>\n      <td>15:00:00</td>\n      <td>Morning</td>\n      <td>2009-08-16</td>\n      <td>Sunday</td>\n      <td>True</td>\n    </tr>\n    <tr>\n      <th>2009-08-16 15:00:00</th>\n      <th>91733</th>\n      <td>1082636190</td>\n      <td>True</td>\n      <td>8.64117</td>\n      <td>54.33383</td>\n      <td>gps</td>\n      <td>Larus fuscus</td>\n      <td>91733A</td>\n      <td>Navigation experiments in lesser black-backed ...</td>\n      <td>21:00:00</td>\n      <td>Noon</td>\n      <td>2009-08-16</td>\n      <td>Sunday</td>\n      <td>True</td>\n    </tr>\n  </tbody>\n</table>\n</div>"
     },
     "execution_count": 5,
     "metadata": {},
     "output_type": "execute_result"
    }
   ],
   "source": [
    "%%time\n",
    "# Here, we will calculate the date, time, day of the week and whether\n",
    "# it is weekend or not in the same cell. Upon running, the library\n",
    "# always executes within 2 seconds even though this has more number\n",
    "# of trajectories as compared to geolife_sample.csv.\n",
    "\n",
    "gulls = temporal.create_time_column(gulls)\n",
    "gulls = temporal.create_time_of_day_column(gulls)\n",
    "gulls = temporal.create_date_column(gulls)\n",
    "gulls = temporal.create_day_of_week_column(gulls)\n",
    "gulls = temporal.create_weekend_indicator_column(gulls)\n",
    "gulls.head()"
   ],
   "metadata": {
    "collapsed": false,
    "pycharm": {
     "name": "#%%\n"
    }
   }
  },
  {
   "cell_type": "code",
   "execution_count": 6,
   "outputs": [
    {
     "name": "stdout",
     "output_type": "stream",
     "text": [
      "CPU times: user 147 ms, sys: 10.8 ms, total: 158 ms\n",
      "Wall time: 157 ms\n"
     ]
    },
    {
     "data": {
      "text/plain": "Timedelta('146 days 23:53:26')"
     },
     "execution_count": 6,
     "metadata": {},
     "output_type": "execute_result"
    }
   ],
   "source": [
    "%%time\n",
    "\n",
    "# Now, let's calculate the time duration.\n",
    "delta_one = temporal.get_traj_duration(dataframe)\n",
    "delta_two = temporal.get_traj_duration(dataframe, traj_id='5')\n",
    "delta_one"
   ],
   "metadata": {
    "collapsed": false,
    "pycharm": {
     "name": "#%%\n"
    }
   }
  },
  {
   "cell_type": "code",
   "execution_count": 7,
   "outputs": [
    {
     "name": "stdout",
     "output_type": "stream",
     "text": [
      "CPU times: user 442 ms, sys: 75.4 ms, total: 517 ms\n",
      "Wall time: 2.31 s\n"
     ]
    },
    {
     "data": {
      "text/plain": "                   DateTime\ntraj_id                    \n91732   2009-05-27 14:00:00\n91733   2009-08-15 15:00:00\n91734   2009-05-25 00:05:00\n91735   2009-05-27 14:00:00\n91737   2009-07-26 05:00:00\n...                     ...\n91920   2009-08-19 19:00:00\n91921   2009-08-19 19:00:00\n91924   2009-08-19 19:00:00\n91929   2009-08-19 19:00:00\n91930   2009-08-19 05:00:00\n\n[126 rows x 1 columns]",
      "text/html": "<div>\n<style scoped>\n    .dataframe tbody tr th:only-of-type {\n        vertical-align: middle;\n    }\n\n    .dataframe tbody tr th {\n        vertical-align: top;\n    }\n\n    .dataframe thead th {\n        text-align: right;\n    }\n</style>\n<table border=\"1\" class=\"dataframe\">\n  <thead>\n    <tr style=\"text-align: right;\">\n      <th></th>\n      <th>DateTime</th>\n    </tr>\n    <tr>\n      <th>traj_id</th>\n      <th></th>\n    </tr>\n  </thead>\n  <tbody>\n    <tr>\n      <th>91732</th>\n      <td>2009-05-27 14:00:00</td>\n    </tr>\n    <tr>\n      <th>91733</th>\n      <td>2009-08-15 15:00:00</td>\n    </tr>\n    <tr>\n      <th>91734</th>\n      <td>2009-05-25 00:05:00</td>\n    </tr>\n    <tr>\n      <th>91735</th>\n      <td>2009-05-27 14:00:00</td>\n    </tr>\n    <tr>\n      <th>91737</th>\n      <td>2009-07-26 05:00:00</td>\n    </tr>\n    <tr>\n      <th>...</th>\n      <td>...</td>\n    </tr>\n    <tr>\n      <th>91920</th>\n      <td>2009-08-19 19:00:00</td>\n    </tr>\n    <tr>\n      <th>91921</th>\n      <td>2009-08-19 19:00:00</td>\n    </tr>\n    <tr>\n      <th>91924</th>\n      <td>2009-08-19 19:00:00</td>\n    </tr>\n    <tr>\n      <th>91929</th>\n      <td>2009-08-19 19:00:00</td>\n    </tr>\n    <tr>\n      <th>91930</th>\n      <td>2009-08-19 05:00:00</td>\n    </tr>\n  </tbody>\n</table>\n<p>126 rows × 1 columns</p>\n</div>"
     },
     "execution_count": 7,
     "metadata": {},
     "output_type": "execute_result"
    }
   ],
   "source": [
    "%%time\n",
    "\n",
    "# Now, lets get the starting time of all the trajectory IDs.\n",
    "temporal.get_start_time(gulls)"
   ],
   "metadata": {
    "collapsed": false,
    "pycharm": {
     "name": "#%%\n"
    }
   }
  },
  {
   "cell_type": "code",
   "execution_count": 8,
   "outputs": [
    {
     "name": "stdout",
     "output_type": "stream",
     "text": [
      "CPU times: user 45.8 ms, sys: 12.4 ms, total: 58.2 ms\n",
      "Wall time: 56.8 ms\n"
     ]
    },
    {
     "data": {
      "text/plain": "Timestamp('2010-10-28 14:00:00')"
     },
     "execution_count": 8,
     "metadata": {},
     "output_type": "execute_result"
    }
   ],
   "source": [
    "%%time\n",
    "\n",
    "# Now, lets get the ending time of a specific trajectory ID.\n",
    "temporal.get_end_time(gulls, '91732')"
   ],
   "metadata": {
    "collapsed": false,
    "pycharm": {
     "name": "#%%\n"
    }
   }
  },
  {
   "cell_type": "code",
   "execution_count": 8,
   "outputs": [],
   "source": [],
   "metadata": {
    "collapsed": false,
    "pycharm": {
     "name": "#%%\n"
    }
   }
  }
 ],
 "metadata": {
  "kernelspec": {
   "display_name": "Python 3",
   "language": "python",
   "name": "python3"
  },
  "language_info": {
   "codemirror_mode": {
    "name": "ipython",
    "version": 2
   },
   "file_extension": ".py",
   "mimetype": "text/x-python",
   "name": "python",
   "nbconvert_exporter": "python",
   "pygments_lexer": "ipython2",
   "version": "2.7.6"
  }
 },
 "nbformat": 4,
 "nbformat_minor": 0
}