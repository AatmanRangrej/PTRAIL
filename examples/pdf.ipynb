{
 "cells": [
  {
   "cell_type": "code",
   "execution_count": 1,
   "metadata": {
    "collapsed": true
   },
   "outputs": [],
   "source": [
    "import pandas as pd\n",
    "from core.TrajectoryDF import NumPandasTraj as TrajDF"
   ]
  },
  {
   "cell_type": "code",
   "execution_count": 2,
   "outputs": [
    {
     "data": {
      "text/plain": "                                   lat        lon  Altitude  \\\nDateTime            traj_id                                   \n2008-03-31 16:00:08 10       41.741415  86.186028    -777.0   \n2008-03-31 16:01:07 10       41.737063  86.179470    -777.0   \n2008-03-31 16:02:07 10       41.734105  86.172823    -777.0   \n2008-03-31 16:03:06 10       41.739110  86.166563    -777.0   \n2008-03-31 16:04:05 10       41.744368  86.159987    -777.0   \n\n                                        Id_perc Label  \nDateTime            traj_id                            \n2008-03-31 16:00:08 10       20080331160008.plt  taxi  \n2008-03-31 16:01:07 10       20080331160008.plt  taxi  \n2008-03-31 16:02:07 10       20080331160008.plt  taxi  \n2008-03-31 16:03:06 10       20080331160008.plt  taxi  \n2008-03-31 16:04:05 10       20080331160008.plt  taxi  ",
      "text/html": "<div>\n<style scoped>\n    .dataframe tbody tr th:only-of-type {\n        vertical-align: middle;\n    }\n\n    .dataframe tbody tr th {\n        vertical-align: top;\n    }\n\n    .dataframe thead th {\n        text-align: right;\n    }\n</style>\n<table border=\"1\" class=\"dataframe\">\n  <thead>\n    <tr style=\"text-align: right;\">\n      <th></th>\n      <th></th>\n      <th>lat</th>\n      <th>lon</th>\n      <th>Altitude</th>\n      <th>Id_perc</th>\n      <th>Label</th>\n    </tr>\n    <tr>\n      <th>DateTime</th>\n      <th>traj_id</th>\n      <th></th>\n      <th></th>\n      <th></th>\n      <th></th>\n      <th></th>\n    </tr>\n  </thead>\n  <tbody>\n    <tr>\n      <th>2008-03-31 16:00:08</th>\n      <th>10</th>\n      <td>41.741415</td>\n      <td>86.186028</td>\n      <td>-777.0</td>\n      <td>20080331160008.plt</td>\n      <td>taxi</td>\n    </tr>\n    <tr>\n      <th>2008-03-31 16:01:07</th>\n      <th>10</th>\n      <td>41.737063</td>\n      <td>86.179470</td>\n      <td>-777.0</td>\n      <td>20080331160008.plt</td>\n      <td>taxi</td>\n    </tr>\n    <tr>\n      <th>2008-03-31 16:02:07</th>\n      <th>10</th>\n      <td>41.734105</td>\n      <td>86.172823</td>\n      <td>-777.0</td>\n      <td>20080331160008.plt</td>\n      <td>taxi</td>\n    </tr>\n    <tr>\n      <th>2008-03-31 16:03:06</th>\n      <th>10</th>\n      <td>41.739110</td>\n      <td>86.166563</td>\n      <td>-777.0</td>\n      <td>20080331160008.plt</td>\n      <td>taxi</td>\n    </tr>\n    <tr>\n      <th>2008-03-31 16:04:05</th>\n      <th>10</th>\n      <td>41.744368</td>\n      <td>86.159987</td>\n      <td>-777.0</td>\n      <td>20080331160008.plt</td>\n      <td>taxi</td>\n    </tr>\n  </tbody>\n</table>\n</div>"
     },
     "execution_count": 2,
     "metadata": {},
     "output_type": "execute_result"
    }
   ],
   "source": [
    "pdf = pd.read_csv('./data/dataset_raw_full.csv')\n",
    "np_traj = TrajDF(pdf, \"Latitude\",\"Longitude\", \"Date_Time\",\"Id_user\")\n",
    "np_traj.head()"
   ],
   "metadata": {
    "collapsed": false,
    "pycharm": {
     "name": "#%%\n"
    }
   }
  },
  {
   "cell_type": "code",
   "execution_count": 10,
   "outputs": [
    {
     "data": {
      "text/plain": "60          8\n114        57\n136        96\n87         99\n53        196\n117       199\n107       199\n76        232\n111       288\n175       293\n80        355\n91        361\n108       371\n86        389\n144       493\n97        521\n98        557\n161       577\n92        641\n139      1023\n101      1088\n58       1114\n56       1205\n89       1468\n105      1559\n138      1596\n21       1633\n129      2800\n69       2988\n170      3727\n102      5742\n75       6673\n81      10146\n73      10457\n64      14357\n125     25889\n96      31603\n78      32987\n67      37003\n82      41421\n112     45774\n179     66416\n163     75748\n115     86069\n141     98288\n52      99255\n153    111019\n20     138441\n84     139635\n126    177681\n65     192035\n62     216681\n10     254722\n85     261023\n167    349425\n128    382820\n68     449860\nName: traj_id, dtype: int64"
     },
     "execution_count": 10,
     "metadata": {},
     "output_type": "execute_result"
    }
   ],
   "source": [
    "home = np_traj.traj_id.value_counts().sort_values()\n",
    "home"
   ],
   "metadata": {
    "collapsed": false,
    "pycharm": {
     "name": "#%%\n"
    }
   }
  },
  {
   "cell_type": "code",
   "execution_count": null,
   "outputs": [],
   "source": [],
   "metadata": {
    "collapsed": false,
    "pycharm": {
     "name": "#%%\n"
    }
   }
  }
 ],
 "metadata": {
  "kernelspec": {
   "display_name": "Python 3",
   "language": "python",
   "name": "python3"
  },
  "language_info": {
   "codemirror_mode": {
    "name": "ipython",
    "version": 2
   },
   "file_extension": ".py",
   "mimetype": "text/x-python",
   "name": "python",
   "nbconvert_exporter": "python",
   "pygments_lexer": "ipython2",
   "version": "2.7.6"
  }
 },
 "nbformat": 4,
 "nbformat_minor": 0
}