{
 "cells": [
  {
   "cell_type": "markdown",
   "source": [
    "<h1> PTRAIL Filters </h1>\n",
    "<p>\n",
    "    This Jupyter Notebook contains several examples of filtering\n",
    "    functions like filtering the data based on time, date,\n",
    "    proximity to a point etc.\n",
    "    <br>\n",
    "    <br>\n",
    "    Apart from filtering, this Jupyter\n",
    "    Notebook also has examples of outlier detection and removal\n",
    "    from the dataset.\n",
    "</p>\n",
    "\n",
    "<hr>\n",
    "\n",
    "<p align='justify'>\n",
    "    This Jupyter Notebook contains Dataset filtering examples and\n",
    "    the following datasets are used to demonstrate them:\n",
    "    <ul>\n",
    "        <li> <a href=\"https://github.com/YakshHaranwala/PTRAIL/blob/main/examples/data/geolife_sample.csv\"> Geolife Sample </a> </li>\n",
    "        <li> <a href=\"https://github.com/YakshHaranwala/PTRAIL/blob/main/examples/data/gulls.csv\"> Seagulls Dataset </a> </li>\n",
    "        <li> <a href=\"https://github.com/YakshHaranwala/PTRAIL/blob/main/examples/data/atlantic.csv\"> Hurricane Dataset </a> </li>\n",
    "    </ul>\n",
    "</p>\n",
    "\n",
    "<hr>\n",
    "<p align='justify'>\n",
    "Note: Viewing this notebook in GitHub will not render JavaScript\n",
    "elements. Hence, for a better experience, click the link below\n",
    "to open the Jupyter notebook in NB viewer.\n",
    "\n",
    "<span> &#8618; </span>\n",
    "<a href=\"https://nbviewer.jupyter.org/github/YakshHaranwala/PTRAIL/blob/main/examples/3.%20filter_examples.ipynb\" target='_blank'> Click Here </a>\n",
    "</p>"
   ],
   "metadata": {
    "collapsed": false,
    "pycharm": {
     "name": "#%% md\n"
    }
   }
  },
  {
   "cell_type": "code",
   "execution_count": 1,
   "metadata": {},
   "outputs": [],
   "source": [
    "import numpy as np\n",
    "\n",
    "from ptrail.core.TrajectoryDF import PTRAILDataFrame\n",
    "from ptrail.features.spatial_features import SpatialFeatures as spatial\n",
    "from ptrail.features.temporal_features import TemporalFeatures as temporal\n",
    "from ptrail.utilities.conversions import Conversions as con\n",
    "from ptrail.preprocessing.filters import Filters as filters\n",
    "import ptrail.utilities.constants as const\n",
    "\n",
    "import pandas as pd\n",
    "import time\n",
    "np.seterr(invalid='ignore')\n",
    "start = time.time()"
   ]
  },
  {
   "cell_type": "code",
   "execution_count": 2,
   "outputs": [
    {
     "name": "stdout",
     "output_type": "stream",
     "text": [
      "CPU times: user 480 ms, sys: 68.6 ms, total: 548 ms\n",
      "Wall time: 547 ms\n"
     ]
    },
    {
     "data": {
      "text/plain": "                                   lat         lon\ntraj_id DateTime                                  \n1       2008-10-23 05:53:11  39.984224  116.319402\n        2008-10-23 05:53:16  39.984211  116.319389\n        2008-10-23 05:53:21  39.984217  116.319422\n        2008-10-23 05:53:23  39.984710  116.319865\n        2008-10-23 05:53:28  39.984674  116.319810",
      "text/html": "<div>\n<style scoped>\n    .dataframe tbody tr th:only-of-type {\n        vertical-align: middle;\n    }\n\n    .dataframe tbody tr th {\n        vertical-align: top;\n    }\n\n    .dataframe thead th {\n        text-align: right;\n    }\n</style>\n<table border=\"1\" class=\"dataframe\">\n  <thead>\n    <tr style=\"text-align: right;\">\n      <th></th>\n      <th></th>\n      <th>lat</th>\n      <th>lon</th>\n    </tr>\n    <tr>\n      <th>traj_id</th>\n      <th>DateTime</th>\n      <th></th>\n      <th></th>\n    </tr>\n  </thead>\n  <tbody>\n    <tr>\n      <th rowspan=\"5\" valign=\"top\">1</th>\n      <th>2008-10-23 05:53:11</th>\n      <td>39.984224</td>\n      <td>116.319402</td>\n    </tr>\n    <tr>\n      <th>2008-10-23 05:53:16</th>\n      <td>39.984211</td>\n      <td>116.319389</td>\n    </tr>\n    <tr>\n      <th>2008-10-23 05:53:21</th>\n      <td>39.984217</td>\n      <td>116.319422</td>\n    </tr>\n    <tr>\n      <th>2008-10-23 05:53:23</th>\n      <td>39.984710</td>\n      <td>116.319865</td>\n    </tr>\n    <tr>\n      <th>2008-10-23 05:53:28</th>\n      <td>39.984674</td>\n      <td>116.319810</td>\n    </tr>\n  </tbody>\n</table>\n</div>"
     },
     "execution_count": 2,
     "metadata": {},
     "output_type": "execute_result"
    }
   ],
   "source": [
    "%%time\n",
    "\"\"\"\n",
    "    First of all, lets import all the datasets one by one\n",
    "    and check out a few of their points.\n",
    "\"\"\"\n",
    "# Reading the geolife dataset and converting to PTRAILDataFrame.\n",
    "# Also, lets, print the first 5 points of the datset to\n",
    "# see how the dataframe looks.\n",
    "geolife = pd.read_csv('./data/geolife_sample.csv')\n",
    "geolife = PTRAILDataFrame(geolife,'lat','lon','datetime','id')\n",
    "geolife.head()"
   ],
   "metadata": {
    "collapsed": false,
    "pycharm": {
     "name": "#%%\n"
    }
   }
  },
  {
   "cell_type": "code",
   "execution_count": 3,
   "outputs": [
    {
     "name": "stdout",
     "output_type": "stream",
     "text": [
      "CPU times: user 279 ms, sys: 7.65 ms, total: 287 ms\n",
      "Wall time: 285 ms\n"
     ]
    },
    {
     "data": {
      "text/plain": "                               event-id  visible       lon       lat  \\\ntraj_id DateTime                                                       \n91732   2009-05-27 14:00:00  1082620685     True  24.58617  61.24783   \n        2009-05-27 20:00:00  1082620686     True  24.58217  61.23267   \n        2009-05-28 05:00:00  1082620687     True  24.53133  61.18833   \n        2009-05-28 08:00:00  1082620688     True  24.58200  61.23283   \n        2009-05-28 14:00:00  1082620689     True  24.58250  61.23267   \n\n                            sensor-type individual-taxon-canonical-name  \\\ntraj_id DateTime                                                          \n91732   2009-05-27 14:00:00         gps                    Larus fuscus   \n        2009-05-27 20:00:00         gps                    Larus fuscus   \n        2009-05-28 05:00:00         gps                    Larus fuscus   \n        2009-05-28 08:00:00         gps                    Larus fuscus   \n        2009-05-28 14:00:00         gps                    Larus fuscus   \n\n                            individual-local-identifier  \\\ntraj_id DateTime                                          \n91732   2009-05-27 14:00:00                      91732A   \n        2009-05-27 20:00:00                      91732A   \n        2009-05-28 05:00:00                      91732A   \n        2009-05-28 08:00:00                      91732A   \n        2009-05-28 14:00:00                      91732A   \n\n                                                                    study-name  \ntraj_id DateTime                                                                \n91732   2009-05-27 14:00:00  Navigation experiments in lesser black-backed ...  \n        2009-05-27 20:00:00  Navigation experiments in lesser black-backed ...  \n        2009-05-28 05:00:00  Navigation experiments in lesser black-backed ...  \n        2009-05-28 08:00:00  Navigation experiments in lesser black-backed ...  \n        2009-05-28 14:00:00  Navigation experiments in lesser black-backed ...  ",
      "text/html": "<div>\n<style scoped>\n    .dataframe tbody tr th:only-of-type {\n        vertical-align: middle;\n    }\n\n    .dataframe tbody tr th {\n        vertical-align: top;\n    }\n\n    .dataframe thead th {\n        text-align: right;\n    }\n</style>\n<table border=\"1\" class=\"dataframe\">\n  <thead>\n    <tr style=\"text-align: right;\">\n      <th></th>\n      <th></th>\n      <th>event-id</th>\n      <th>visible</th>\n      <th>lon</th>\n      <th>lat</th>\n      <th>sensor-type</th>\n      <th>individual-taxon-canonical-name</th>\n      <th>individual-local-identifier</th>\n      <th>study-name</th>\n    </tr>\n    <tr>\n      <th>traj_id</th>\n      <th>DateTime</th>\n      <th></th>\n      <th></th>\n      <th></th>\n      <th></th>\n      <th></th>\n      <th></th>\n      <th></th>\n      <th></th>\n    </tr>\n  </thead>\n  <tbody>\n    <tr>\n      <th rowspan=\"5\" valign=\"top\">91732</th>\n      <th>2009-05-27 14:00:00</th>\n      <td>1082620685</td>\n      <td>True</td>\n      <td>24.58617</td>\n      <td>61.24783</td>\n      <td>gps</td>\n      <td>Larus fuscus</td>\n      <td>91732A</td>\n      <td>Navigation experiments in lesser black-backed ...</td>\n    </tr>\n    <tr>\n      <th>2009-05-27 20:00:00</th>\n      <td>1082620686</td>\n      <td>True</td>\n      <td>24.58217</td>\n      <td>61.23267</td>\n      <td>gps</td>\n      <td>Larus fuscus</td>\n      <td>91732A</td>\n      <td>Navigation experiments in lesser black-backed ...</td>\n    </tr>\n    <tr>\n      <th>2009-05-28 05:00:00</th>\n      <td>1082620687</td>\n      <td>True</td>\n      <td>24.53133</td>\n      <td>61.18833</td>\n      <td>gps</td>\n      <td>Larus fuscus</td>\n      <td>91732A</td>\n      <td>Navigation experiments in lesser black-backed ...</td>\n    </tr>\n    <tr>\n      <th>2009-05-28 08:00:00</th>\n      <td>1082620688</td>\n      <td>True</td>\n      <td>24.58200</td>\n      <td>61.23283</td>\n      <td>gps</td>\n      <td>Larus fuscus</td>\n      <td>91732A</td>\n      <td>Navigation experiments in lesser black-backed ...</td>\n    </tr>\n    <tr>\n      <th>2009-05-28 14:00:00</th>\n      <td>1082620689</td>\n      <td>True</td>\n      <td>24.58250</td>\n      <td>61.23267</td>\n      <td>gps</td>\n      <td>Larus fuscus</td>\n      <td>91732A</td>\n      <td>Navigation experiments in lesser black-backed ...</td>\n    </tr>\n  </tbody>\n</table>\n</div>"
     },
     "execution_count": 3,
     "metadata": {},
     "output_type": "execute_result"
    }
   ],
   "source": [
    "%%time\n",
    "\n",
    "# Reading the gulls dataset and converting to PTRAILDataFrame.\n",
    "# Also, lets, print the first 5 points of the datset to\n",
    "# see how the dataframe looks.\n",
    "gulls = pd.read_csv('./data/gulls.csv')\n",
    "gulls = PTRAILDataFrame(gulls,\n",
    "                        latitude='location-lat',\n",
    "                        longitude='location-long',\n",
    "                        datetime='timestamp',\n",
    "                        traj_id='tag-local-identifier',\n",
    "                        rest_of_columns=[])\n",
    "gulls.head()"
   ],
   "metadata": {
    "collapsed": false,
    "pycharm": {
     "name": "#%%\n"
    }
   }
  },
  {
   "cell_type": "code",
   "execution_count": 4,
   "outputs": [
    {
     "name": "stdout",
     "output_type": "stream",
     "text": [
      "CPU times: user 8.06 s, sys: 49.4 ms, total: 8.11 s\n",
      "Wall time: 8.11 s\n"
     ]
    },
    {
     "data": {
      "text/plain": "                                             Name        Date  Time Event  \\\ntraj_id  DateTime                                                           \nAL011851 1851-06-25 00:00:00              UNNAMED  1851-06-25     0         \n         1851-06-25 06:00:00              UNNAMED  1851-06-25   600         \n         1851-06-25 12:00:00              UNNAMED  1851-06-25  1200         \n         1851-06-25 18:00:00              UNNAMED  1851-06-25  1800         \n         1851-06-25 21:00:00              UNNAMED  1851-06-25  2100     L   \n\n                             Status   lat   lon  Maximum Wind  \\\ntraj_id  DateTime                                               \nAL011851 1851-06-25 00:00:00     HU  28.0 -94.8            80   \n         1851-06-25 06:00:00     HU  28.0 -95.4            80   \n         1851-06-25 12:00:00     HU  28.0 -96.0            80   \n         1851-06-25 18:00:00     HU  28.1 -96.5            80   \n         1851-06-25 21:00:00     HU  28.2 -96.8            80   \n\n                              Minimum Pressure  Low Wind NE  ...  Low Wind SW  \\\ntraj_id  DateTime                                            ...                \nAL011851 1851-06-25 00:00:00              -999         -999  ...         -999   \n         1851-06-25 06:00:00              -999         -999  ...         -999   \n         1851-06-25 12:00:00              -999         -999  ...         -999   \n         1851-06-25 18:00:00              -999         -999  ...         -999   \n         1851-06-25 21:00:00              -999         -999  ...         -999   \n\n                              Low Wind NW  Moderate Wind NE  Moderate Wind SE  \\\ntraj_id  DateTime                                                               \nAL011851 1851-06-25 00:00:00         -999              -999              -999   \n         1851-06-25 06:00:00         -999              -999              -999   \n         1851-06-25 12:00:00         -999              -999              -999   \n         1851-06-25 18:00:00         -999              -999              -999   \n         1851-06-25 21:00:00         -999              -999              -999   \n\n                              Moderate Wind SW  Moderate Wind NW  \\\ntraj_id  DateTime                                                  \nAL011851 1851-06-25 00:00:00              -999              -999   \n         1851-06-25 06:00:00              -999              -999   \n         1851-06-25 12:00:00              -999              -999   \n         1851-06-25 18:00:00              -999              -999   \n         1851-06-25 21:00:00              -999              -999   \n\n                              High Wind NE  High Wind SE  High Wind SW  \\\ntraj_id  DateTime                                                        \nAL011851 1851-06-25 00:00:00          -999          -999          -999   \n         1851-06-25 06:00:00          -999          -999          -999   \n         1851-06-25 12:00:00          -999          -999          -999   \n         1851-06-25 18:00:00          -999          -999          -999   \n         1851-06-25 21:00:00          -999          -999          -999   \n\n                              High Wind NW  \ntraj_id  DateTime                           \nAL011851 1851-06-25 00:00:00          -999  \n         1851-06-25 06:00:00          -999  \n         1851-06-25 12:00:00          -999  \n         1851-06-25 18:00:00          -999  \n         1851-06-25 21:00:00          -999  \n\n[5 rows x 21 columns]",
      "text/html": "<div>\n<style scoped>\n    .dataframe tbody tr th:only-of-type {\n        vertical-align: middle;\n    }\n\n    .dataframe tbody tr th {\n        vertical-align: top;\n    }\n\n    .dataframe thead th {\n        text-align: right;\n    }\n</style>\n<table border=\"1\" class=\"dataframe\">\n  <thead>\n    <tr style=\"text-align: right;\">\n      <th></th>\n      <th></th>\n      <th>Name</th>\n      <th>Date</th>\n      <th>Time</th>\n      <th>Event</th>\n      <th>Status</th>\n      <th>lat</th>\n      <th>lon</th>\n      <th>Maximum Wind</th>\n      <th>Minimum Pressure</th>\n      <th>Low Wind NE</th>\n      <th>...</th>\n      <th>Low Wind SW</th>\n      <th>Low Wind NW</th>\n      <th>Moderate Wind NE</th>\n      <th>Moderate Wind SE</th>\n      <th>Moderate Wind SW</th>\n      <th>Moderate Wind NW</th>\n      <th>High Wind NE</th>\n      <th>High Wind SE</th>\n      <th>High Wind SW</th>\n      <th>High Wind NW</th>\n    </tr>\n    <tr>\n      <th>traj_id</th>\n      <th>DateTime</th>\n      <th></th>\n      <th></th>\n      <th></th>\n      <th></th>\n      <th></th>\n      <th></th>\n      <th></th>\n      <th></th>\n      <th></th>\n      <th></th>\n      <th></th>\n      <th></th>\n      <th></th>\n      <th></th>\n      <th></th>\n      <th></th>\n      <th></th>\n      <th></th>\n      <th></th>\n      <th></th>\n      <th></th>\n    </tr>\n  </thead>\n  <tbody>\n    <tr>\n      <th rowspan=\"5\" valign=\"top\">AL011851</th>\n      <th>1851-06-25 00:00:00</th>\n      <td>UNNAMED</td>\n      <td>1851-06-25</td>\n      <td>0</td>\n      <td></td>\n      <td>HU</td>\n      <td>28.0</td>\n      <td>-94.8</td>\n      <td>80</td>\n      <td>-999</td>\n      <td>-999</td>\n      <td>...</td>\n      <td>-999</td>\n      <td>-999</td>\n      <td>-999</td>\n      <td>-999</td>\n      <td>-999</td>\n      <td>-999</td>\n      <td>-999</td>\n      <td>-999</td>\n      <td>-999</td>\n      <td>-999</td>\n    </tr>\n    <tr>\n      <th>1851-06-25 06:00:00</th>\n      <td>UNNAMED</td>\n      <td>1851-06-25</td>\n      <td>600</td>\n      <td></td>\n      <td>HU</td>\n      <td>28.0</td>\n      <td>-95.4</td>\n      <td>80</td>\n      <td>-999</td>\n      <td>-999</td>\n      <td>...</td>\n      <td>-999</td>\n      <td>-999</td>\n      <td>-999</td>\n      <td>-999</td>\n      <td>-999</td>\n      <td>-999</td>\n      <td>-999</td>\n      <td>-999</td>\n      <td>-999</td>\n      <td>-999</td>\n    </tr>\n    <tr>\n      <th>1851-06-25 12:00:00</th>\n      <td>UNNAMED</td>\n      <td>1851-06-25</td>\n      <td>1200</td>\n      <td></td>\n      <td>HU</td>\n      <td>28.0</td>\n      <td>-96.0</td>\n      <td>80</td>\n      <td>-999</td>\n      <td>-999</td>\n      <td>...</td>\n      <td>-999</td>\n      <td>-999</td>\n      <td>-999</td>\n      <td>-999</td>\n      <td>-999</td>\n      <td>-999</td>\n      <td>-999</td>\n      <td>-999</td>\n      <td>-999</td>\n      <td>-999</td>\n    </tr>\n    <tr>\n      <th>1851-06-25 18:00:00</th>\n      <td>UNNAMED</td>\n      <td>1851-06-25</td>\n      <td>1800</td>\n      <td></td>\n      <td>HU</td>\n      <td>28.1</td>\n      <td>-96.5</td>\n      <td>80</td>\n      <td>-999</td>\n      <td>-999</td>\n      <td>...</td>\n      <td>-999</td>\n      <td>-999</td>\n      <td>-999</td>\n      <td>-999</td>\n      <td>-999</td>\n      <td>-999</td>\n      <td>-999</td>\n      <td>-999</td>\n      <td>-999</td>\n      <td>-999</td>\n    </tr>\n    <tr>\n      <th>1851-06-25 21:00:00</th>\n      <td>UNNAMED</td>\n      <td>1851-06-25</td>\n      <td>2100</td>\n      <td>L</td>\n      <td>HU</td>\n      <td>28.2</td>\n      <td>-96.8</td>\n      <td>80</td>\n      <td>-999</td>\n      <td>-999</td>\n      <td>...</td>\n      <td>-999</td>\n      <td>-999</td>\n      <td>-999</td>\n      <td>-999</td>\n      <td>-999</td>\n      <td>-999</td>\n      <td>-999</td>\n      <td>-999</td>\n      <td>-999</td>\n      <td>-999</td>\n    </tr>\n  </tbody>\n</table>\n<p>5 rows × 21 columns</p>\n</div>"
     },
     "execution_count": 4,
     "metadata": {},
     "output_type": "execute_result"
    }
   ],
   "source": [
    "%%time\n",
    "'''\n",
    "    1. Reading the atlantic dataset, cleaning it up and then\n",
    "       converting it to PTRAILDataFrame.\n",
    "    2. It is to be noted that apart from reading the dataset,\n",
    "       before converting to PTRAILDataFrame, the dataframe needs\n",
    "       some cleanup as the Time format provided in the dataframe\n",
    "       needs to be first converted into a library supported time\n",
    "       format. Also, the format of the coordinates need to be\n",
    "       converted to library supported format before converting'\n",
    "       it to PTRAILDataFrame.\n",
    "    3. Also, lets, print the first 5 points of the dataset to\n",
    "      see how the dataframe looks.\n",
    "'''\n",
    "atlantic = pd.read_csv('./data/atlantic.csv')\n",
    "atlantic = con.convert_directions_to_degree_lat_lon(atlantic, 'Latitude',\"Longitude\")\n",
    "def convert_to_datetime(row):\n",
    "        this_date = '{}-{}-{}'.format(str(row['Date'])[0:4], str(row['Date'])[4:6], str(row['Date'])[6:])\n",
    "        this_time = '{:02d}:{:02d}:00'.format(int(row['Time']/100), int(str(row['Time'])[-2:]))\n",
    "        return '{} {}'.format(this_date, this_time)\n",
    "atlantic['DateTime'] = atlantic.apply(convert_to_datetime, axis=1)\n",
    "atlantic = PTRAILDataFrame(atlantic,\n",
    "                          latitude='Latitude',\n",
    "                          longitude='Longitude',\n",
    "                          datetime='DateTime',\n",
    "                          traj_id='ID',\n",
    "                          rest_of_columns=[])\n",
    "atlantic = temporal.create_date_column(atlantic)\n",
    "atlantic.head()\n"
   ],
   "metadata": {
    "collapsed": false,
    "pycharm": {
     "name": "#%%\n"
    }
   }
  },
  {
   "cell_type": "code",
   "execution_count": 5,
   "outputs": [
    {
     "data": {
      "text/plain": "(38.100678394081264, 114.84275815636957, 39.89932160591873, 117.15724184363044)"
     },
     "execution_count": 5,
     "metadata": {},
     "output_type": "execute_result"
    }
   ],
   "source": [
    "# %%time\n",
    "\n",
    "#Now, let create a bounding box of 100 km radius from the\n",
    "#coordinates 39, 116.\n",
    "\n",
    "bbox = filters.get_bounding_box_by_radius(39, 116, 100000)\n",
    "bbox"
   ],
   "metadata": {
    "collapsed": false,
    "pycharm": {
     "name": "#%%\n"
    }
   }
  },
  {
   "cell_type": "code",
   "execution_count": 6,
   "outputs": [
    {
     "name": "stdout",
     "output_type": "stream",
     "text": [
      "Length of atlantic: 49105\n",
      "Length of small: 46909\n"
     ]
    }
   ],
   "source": [
    "# Now, lets filter the trajectory based on date. We will\n",
    "# try all the possible combinations for the filtering.\n",
    "\n",
    "small = filters.filter_by_date(atlantic, start_date='1851-06-25',end_date='2011-01-01')\n",
    "print(f\"Length of atlantic: {len(atlantic)}\")\n",
    "print(f\"Length of small: {len(small)}\")"
   ],
   "metadata": {
    "collapsed": false,
    "pycharm": {
     "name": "#%%\n"
    }
   }
  },
  {
   "cell_type": "code",
   "execution_count": 7,
   "outputs": [
    {
     "name": "stdout",
     "output_type": "stream",
     "text": [
      "Length of atlantic: 49105\n",
      "Length of tiny: 46536\n"
     ]
    }
   ],
   "source": [
    "# Now, lets filter the trajectory based on datetime. We will\n",
    "# try all the possible cases one by one.\n",
    "\n",
    "tiny = filters.filter_by_datetime(atlantic, start_dateTime='1859-09-21 23:00:00' ,\n",
    "                                  end_dateTime='2011-09-21 23:00:00')\n",
    "print(f\"Length of atlantic: {len(atlantic)}\")\n",
    "print(f\"Length of tiny: {len(tiny)}\")"
   ],
   "metadata": {
    "collapsed": false,
    "pycharm": {
     "name": "#%%\n"
    }
   }
  },
  {
   "cell_type": "code",
   "execution_count": 8,
   "outputs": [
    {
     "name": "stdout",
     "output_type": "stream",
     "text": [
      "Length of atlantic: 49105\n",
      "Length of speed_filt_df: 41358\n"
     ]
    }
   ],
   "source": [
    "# Now, lets filter the dataframe based on maximum speed.\n",
    "\n",
    "atlantic = spatial.create_speed_from_prev_column(atlantic)\n",
    "max_speed_filt_df = filters.filter_by_max_speed(atlantic, 10)\n",
    "print(f\"Length of atlantic: {len(atlantic)}\")\n",
    "print(f\"Length of speed_filt_df: {len(max_speed_filt_df)}\")"
   ],
   "metadata": {
    "collapsed": false,
    "pycharm": {
     "name": "#%%\n"
    }
   }
  },
  {
   "cell_type": "code",
   "execution_count": 9,
   "outputs": [
    {
     "name": "stdout",
     "output_type": "stream",
     "text": [
      "Length of speed_filt_df: 41358\n",
      "Length of min_speed_filt: 20485\n"
     ]
    }
   ],
   "source": [
    "# Now, lets filter the dataframe based on minimum speed.\n",
    "\n",
    "min_speed_filt = filters.filter_by_min_speed(max_speed_filt_df, 5)\n",
    "print(f\"Length of speed_filt_df: {len(max_speed_filt_df)}\")\n",
    "print(f\"Length of min_speed_filt: {len(min_speed_filt)}\")"
   ],
   "metadata": {
    "collapsed": false,
    "pycharm": {
     "name": "#%%\n"
    }
   }
  },
  {
   "cell_type": "code",
   "execution_count": 10,
   "outputs": [
    {
     "name": "stdout",
     "output_type": "stream",
     "text": [
      "length of atlantic: 49105\n",
      "length of min_distance_filt: 20584\n"
     ]
    }
   ],
   "source": [
    "# Now, lets filter the dataframe based on minimum distance\n",
    "# between consecutive points.\n",
    "\n",
    "min_distance_filt = filters.filter_by_min_consecutive_distance(atlantic,\n",
    "                                                               125000)\n",
    "print(f\"length of atlantic: {len(atlantic)}\")\n",
    "print(f\"length of min_distance_filt: {len(min_distance_filt)}\")"
   ],
   "metadata": {
    "collapsed": false,
    "pycharm": {
     "name": "#%%\n"
    }
   }
  },
  {
   "cell_type": "code",
   "execution_count": 11,
   "outputs": [
    {
     "name": "stdout",
     "output_type": "stream",
     "text": [
      "length of min_distance_filt: 20584\n",
      "length of max_distance_filt: 20412\n"
     ]
    }
   ],
   "source": [
    "# Now, lets filter the dataframe based on maximum distance\n",
    "# between consecutive points.\n",
    "\n",
    "max_distance_filt = filters.filter_by_max_consecutive_distance(min_distance_filt,\n",
    "                                                               500000)\n",
    "print(f\"length of min_distance_filt: {len(min_distance_filt)}\")\n",
    "print(f\"length of max_distance_filt: {len(max_distance_filt)}\")"
   ],
   "metadata": {
    "collapsed": false,
    "pycharm": {
     "name": "#%%\n"
    }
   }
  },
  {
   "cell_type": "code",
   "execution_count": 12,
   "outputs": [
    {
     "name": "stdout",
     "output_type": "stream",
     "text": [
      "length of atlantic: 49105\n",
      "length of max_dist_speed_filt: 20873\n"
     ]
    }
   ],
   "source": [
    "# Now, lets filter the data based on maximum speed as\n",
    "# well as maximum distance between 2 consecutive points.\n",
    "\n",
    "max_dist_speed_filt = \\\n",
    "    filters.filter_by_max_distance_and_speed(atlantic, max_distance=300000, max_speed=5)\n",
    "print(f\"length of atlantic: {len(atlantic)}\")\n",
    "print(f\"length of max_dist_speed_filt: {len(max_dist_speed_filt)}\")"
   ],
   "metadata": {
    "collapsed": false,
    "pycharm": {
     "name": "#%%\n"
    }
   }
  },
  {
   "cell_type": "code",
   "execution_count": 13,
   "outputs": [
    {
     "name": "stdout",
     "output_type": "stream",
     "text": [
      "length of atlantic: 49105\n",
      "length of max_dist_speed_filt: 5773\n"
     ]
    }
   ],
   "source": [
    "\n",
    "# Now, lets filter the data based on minimum speed as\n",
    "# well as minimum distance between 2 consecutive points.\n",
    "\n",
    "min_dist_speed_filt = \\\n",
    "    filters.filter_by_min_distance_and_speed(atlantic, min_distance=150000, min_speed=10)\n",
    "print(f\"length of atlantic: {len(atlantic)}\")\n",
    "print(f\"length of max_dist_speed_filt: {len(min_dist_speed_filt)}\")"
   ],
   "metadata": {
    "collapsed": false,
    "pycharm": {
     "name": "#%%\n"
    }
   }
  },
  {
   "cell_type": "code",
   "execution_count": 14,
   "outputs": [
    {
     "name": "stdout",
     "output_type": "stream",
     "text": [
      "length of geolife: 217653\n",
      "length of outlier_df: 212124\n",
      "Number of outliers: 5529\n"
     ]
    }
   ],
   "source": [
    "# Now, lets remove the outliers based on the\n",
    "# distance between 2 consecutive points.\n",
    "\n",
    "geolife = spatial.create_speed_from_prev_column(geolife)\n",
    "outlier_df = filters.filter_outliers_by_consecutive_distance(geolife)\n",
    "print(f\"length of geolife: {len(geolife)}\")\n",
    "print(f\"length of outlier_df: {len(outlier_df)}\")\n",
    "print(f\"Number of outliers: {len(geolife) - len(outlier_df)}\")"
   ],
   "metadata": {
    "collapsed": false,
    "pycharm": {
     "name": "#%%\n"
    }
   }
  },
  {
   "cell_type": "code",
   "execution_count": 15,
   "outputs": [
    {
     "name": "stdout",
     "output_type": "stream",
     "text": [
      "length of geolife: 217653\n",
      "length of outlier_df: 195283\n",
      "Number of outliers: 22370\n"
     ]
    }
   ],
   "source": [
    "odf_two = filters.filter_outliers_by_consecutive_speed(geolife)\n",
    "print(f\"length of geolife: {len(geolife)}\")\n",
    "print(f\"length of outlier_df: {len(odf_two)}\")\n",
    "print(f\"Number of outliers: {len(geolife) - len(odf_two)}\")"
   ],
   "metadata": {
    "collapsed": false,
    "pycharm": {
     "name": "#%%\n"
    }
   }
  },
  {
   "cell_type": "code",
   "execution_count": 16,
   "outputs": [
    {
     "name": "stdout",
     "output_type": "stream",
     "text": [
      "Number of unique Traj IDs in atlantic: 1814\n",
      "Number of unique Traj IDs left after filter: 1772\n"
     ]
    }
   ],
   "source": [
    "# Now, lets remove the trajectories that have\n",
    "# fewer than 5 points.\n",
    "\n",
    "short_traj_gone = filters.remove_trajectories_with_less_points(atlantic, 5)\n",
    "print(f\"Number of unique Traj IDs in atlantic: {atlantic.traj_id.nunique()}\")\n",
    "print(f\"Number of unique Traj IDs left after filter: {short_traj_gone.traj_id.nunique()}\")\n"
   ],
   "metadata": {
    "collapsed": false,
    "pycharm": {
     "name": "#%%\n"
    }
   }
  },
  {
   "cell_type": "code",
   "execution_count": 17,
   "outputs": [],
   "source": [
    "\"\"\"\n",
    "    Outlier Detection:\n",
    "        First we are taking a snippet of the gulls dataframe and then manipulating\n",
    "        some of its value at different points so that they become outliers. This\n",
    "        is followed by running the Hampel filter for outlier detection. The plot\n",
    "        before the hampel filter and after it shows that the outliers have been removed.\n",
    "\n",
    "\"\"\"\n",
    "small_gulls = gulls.reset_index().loc[gulls.reset_index()[const.TRAJECTORY_ID] == '91732'][[const.TRAJECTORY_ID, const.DateTime, const.LAT, const.LONG]]\n",
    "\n",
    "# Changing the values to make them the outliers\n",
    "df = small_gulls.copy()\n",
    "df.iloc[0, df.columns.get_loc(const.LAT)]= 80\n",
    "df.iloc[5, df.columns.get_loc(const.LAT)]= 70\n",
    "df.iloc[69, df.columns.get_loc(const.LAT)]= 55\n",
    "df.iloc[152, df.columns.get_loc(const.LAT)]= 850\n",
    "df.iloc[450, df.columns.get_loc(const.LAT)]= 6969"
   ],
   "metadata": {
    "collapsed": false,
    "pycharm": {
     "name": "#%%\n"
    }
   }
  },
  {
   "cell_type": "code",
   "execution_count": 18,
   "outputs": [
    {
     "data": {
      "text/plain": "[<matplotlib.lines.Line2D at 0x7f0f87a21a30>]"
     },
     "execution_count": 18,
     "metadata": {},
     "output_type": "execute_result"
    },
    {
     "data": {
      "text/plain": "<Figure size 432x288 with 1 Axes>",
      "image/png": "[encoded data removed]"
     },
     "metadata": {
      "needs_background": "light"
     },
     "output_type": "display_data"
    }
   ],
   "source": [
    "# Plotting the original dataframe of snippet\n",
    "import matplotlib.pyplot as plt\n",
    "\n",
    "plt.plot(small_gulls[const.LAT], small_gulls[const.LONG])"
   ],
   "metadata": {
    "collapsed": false,
    "pycharm": {
     "name": "#%%\n"
    }
   }
  },
  {
   "cell_type": "code",
   "execution_count": 19,
   "outputs": [
    {
     "data": {
      "text/plain": "[<matplotlib.lines.Line2D at 0x7f0f87bb3d90>]"
     },
     "execution_count": 19,
     "metadata": {},
     "output_type": "execute_result"
    },
    {
     "data": {
      "text/plain": "<Figure size 432x288 with 1 Axes>",
      "image/png": "[encoded data removed]"
     },
     "metadata": {
      "needs_background": "light"
     },
     "output_type": "display_data"
    }
   ],
   "source": [
    "# Plotting the manipulated dataframe snippet\n",
    "plt.plot(df[const.LAT], df[const.LONG])"
   ],
   "metadata": {
    "collapsed": false,
    "pycharm": {
     "name": "#%%\n"
    }
   }
  },
  {
   "cell_type": "code",
   "execution_count": 20,
   "outputs": [
    {
     "name": "stdout",
     "output_type": "stream",
     "text": [
      "Original DF length: 1970\n",
      "Outlier Filtered DF length: 1682\n"
     ]
    },
    {
     "name": "stderr",
     "output_type": "stream",
     "text": [
      "/home/yjharanwala/Desktop/PTRAIL/ptrail/preprocessing/filters.py:750: UserWarning: If kinematic features have been generated on the dataframe, then make sure to generate them again as outlier detection drops the point from the dataframe and does not run the kinematic features again.\n",
      "  warnings.warn(\"If kinematic features have been generated on the dataframe, then make \"\n"
     ]
    },
    {
     "data": {
      "text/plain": "[<matplotlib.lines.Line2D at 0x7f0f878e5af0>]"
     },
     "execution_count": 20,
     "metadata": {},
     "output_type": "execute_result"
    },
    {
     "data": {
      "text/plain": "<Figure size 432x288 with 1 Axes>",
      "image/png": "[encoded data removed]"
     },
     "metadata": {
      "needs_background": "light"
     },
     "output_type": "display_data"
    }
   ],
   "source": [
    "# Running the hampel filter and then plotting the dataframe\n",
    "small_filt_df = filters.hampel_outlier_detection(df, column_name=const.LAT)\n",
    "\n",
    "# Showing the different in lengths as outliers have been removed\n",
    "print(f\"Original DF length: {len(df)}\")\n",
    "print(f\"Outlier Filtered DF length: {len(small_filt_df)}\")\n",
    "\n",
    "plt.plot(small_filt_df[const.LAT], small_filt_df[const.LONG])"
   ],
   "metadata": {
    "collapsed": false,
    "pycharm": {
     "name": "#%%\n"
    }
   }
  },
  {
   "cell_type": "code",
   "execution_count": 20,
   "outputs": [],
   "source": [],
   "metadata": {
    "collapsed": false,
    "pycharm": {
     "name": "#%%\n"
    }
   }
  }
 ],
 "metadata": {
  "kernelspec": {
   "display_name": "Python 3",
   "language": "python",
   "name": "python3"
  },
  "language_info": {
   "codemirror_mode": {
    "name": "ipython",
    "version": 3
   },
   "file_extension": ".py",
   "mimetype": "text/x-python",
   "name": "python",
   "nbconvert_exporter": "python",
   "pygments_lexer": "ipython3",
   "version": "3.8.10"
  }
 },
 "nbformat": 4,
 "nbformat_minor": 1
}