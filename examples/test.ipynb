{
 "cells": [
  {
   "cell_type": "code",
   "execution_count": 29,
   "metadata": {
    "collapsed": true,
    "pycharm": {
     "name": "#%%\n"
    }
   },
   "outputs": [],
   "source": [
    "import pandas as pd\n",
    "\n",
    "starkey = pd.read_csv('./data/starkey.csv')\n",
    "starkey.columns = starkey.columns.str.strip()\n",
    "starkey = starkey.drop(columns=['UTMGrid'])\n",
    "starkey.to_csv('./data/starkey.csv', index=False)"
   ]
  },
  {
   "cell_type": "code",
   "execution_count": 30,
   "outputs": [
    {
     "data": {
      "text/plain": "   UTMGridEast  UTMGridNorth         Id  StarkeyTime    GMDate    GMTime  \\\n0       374145       5014200  890424E06    168825628  02:08:28  19930507   \n1       374265       5010180  921228E09    168826022  07:02:02  19930507   \n2       377475       5015730  890222E01    168826135  08:55:55  19930507   \n3       374805       5018490  910313E19    168826274  01:11:14  19930507   \n4       377055       5008470  910313E37    168826332  01:21:12  19930507   \n\n    LocDate   LocTime  RadNum Species    UTME     UTMN  Year  Grensunr  \\\n0  19930506  18:08:28      59       E  374137  5014190    93  12:34:00   \n1  19930506  23:02:02      57       E  374262  5010176    93  12:34:00   \n2  19930507  00:55:55      46       E  377477  5015745    93  12:34:00   \n3  19930506  17:11:14      54       E  374795  5018503    93  12:34:00   \n4  19930506  17:21:12      67       E  377053  5008474    93  12:34:00   \n\n   Grensuns  Obswt  \n0  03:10:00   1.62  \n1  03:10:00   1.36  \n2  03:10:00   1.68  \n3  03:10:00   1.43  \n4  03:10:00   1.73  ",
      "text/html": "<div>\n<style scoped>\n    .dataframe tbody tr th:only-of-type {\n        vertical-align: middle;\n    }\n\n    .dataframe tbody tr th {\n        vertical-align: top;\n    }\n\n    .dataframe thead th {\n        text-align: right;\n    }\n</style>\n<table border=\"1\" class=\"dataframe\">\n  <thead>\n    <tr style=\"text-align: right;\">\n      <th></th>\n      <th>UTMGridEast</th>\n      <th>UTMGridNorth</th>\n      <th>Id</th>\n      <th>StarkeyTime</th>\n      <th>GMDate</th>\n      <th>GMTime</th>\n      <th>LocDate</th>\n      <th>LocTime</th>\n      <th>RadNum</th>\n      <th>Species</th>\n      <th>UTME</th>\n      <th>UTMN</th>\n      <th>Year</th>\n      <th>Grensunr</th>\n      <th>Grensuns</th>\n      <th>Obswt</th>\n    </tr>\n  </thead>\n  <tbody>\n    <tr>\n      <th>0</th>\n      <td>374145</td>\n      <td>5014200</td>\n      <td>890424E06</td>\n      <td>168825628</td>\n      <td>02:08:28</td>\n      <td>19930507</td>\n      <td>19930506</td>\n      <td>18:08:28</td>\n      <td>59</td>\n      <td>E</td>\n      <td>374137</td>\n      <td>5014190</td>\n      <td>93</td>\n      <td>12:34:00</td>\n      <td>03:10:00</td>\n      <td>1.62</td>\n    </tr>\n    <tr>\n      <th>1</th>\n      <td>374265</td>\n      <td>5010180</td>\n      <td>921228E09</td>\n      <td>168826022</td>\n      <td>07:02:02</td>\n      <td>19930507</td>\n      <td>19930506</td>\n      <td>23:02:02</td>\n      <td>57</td>\n      <td>E</td>\n      <td>374262</td>\n      <td>5010176</td>\n      <td>93</td>\n      <td>12:34:00</td>\n      <td>03:10:00</td>\n      <td>1.36</td>\n    </tr>\n    <tr>\n      <th>2</th>\n      <td>377475</td>\n      <td>5015730</td>\n      <td>890222E01</td>\n      <td>168826135</td>\n      <td>08:55:55</td>\n      <td>19930507</td>\n      <td>19930507</td>\n      <td>00:55:55</td>\n      <td>46</td>\n      <td>E</td>\n      <td>377477</td>\n      <td>5015745</td>\n      <td>93</td>\n      <td>12:34:00</td>\n      <td>03:10:00</td>\n      <td>1.68</td>\n    </tr>\n    <tr>\n      <th>3</th>\n      <td>374805</td>\n      <td>5018490</td>\n      <td>910313E19</td>\n      <td>168826274</td>\n      <td>01:11:14</td>\n      <td>19930507</td>\n      <td>19930506</td>\n      <td>17:11:14</td>\n      <td>54</td>\n      <td>E</td>\n      <td>374795</td>\n      <td>5018503</td>\n      <td>93</td>\n      <td>12:34:00</td>\n      <td>03:10:00</td>\n      <td>1.43</td>\n    </tr>\n    <tr>\n      <th>4</th>\n      <td>377055</td>\n      <td>5008470</td>\n      <td>910313E37</td>\n      <td>168826332</td>\n      <td>01:21:12</td>\n      <td>19930507</td>\n      <td>19930506</td>\n      <td>17:21:12</td>\n      <td>67</td>\n      <td>E</td>\n      <td>377053</td>\n      <td>5008474</td>\n      <td>93</td>\n      <td>12:34:00</td>\n      <td>03:10:00</td>\n      <td>1.73</td>\n    </tr>\n  </tbody>\n</table>\n</div>"
     },
     "execution_count": 30,
     "metadata": {},
     "output_type": "execute_result"
    }
   ],
   "source": [
    "starkey.head()"
   ],
   "metadata": {
    "collapsed": false,
    "pycharm": {
     "name": "#%%\n"
    }
   }
  },
  {
   "cell_type": "code",
   "execution_count": 31,
   "outputs": [
    {
     "data": {
      "text/plain": "(287136, 16)"
     },
     "execution_count": 31,
     "metadata": {},
     "output_type": "execute_result"
    }
   ],
   "source": [
    "starkey.shape\n",
    "\n",
    "\n"
   ],
   "metadata": {
    "collapsed": false,
    "pycharm": {
     "name": "#%%\n"
    }
   }
  }
 ],
 "metadata": {
  "kernelspec": {
   "display_name": "Python 3",
   "language": "python",
   "name": "python3"
  },
  "language_info": {
   "codemirror_mode": {
    "name": "ipython",
    "version": 2
   },
   "file_extension": ".py",
   "mimetype": "text/x-python",
   "name": "python",
   "nbconvert_exporter": "python",
   "pygments_lexer": "ipython2",
   "version": "2.7.6"
  }
 },
 "nbformat": 4,
 "nbformat_minor": 0
}