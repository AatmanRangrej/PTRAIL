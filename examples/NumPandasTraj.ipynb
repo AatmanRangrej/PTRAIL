{
 "cells": [
  {
   "cell_type": "code",
   "execution_count": 1,
   "metadata": {
    "collapsed": true
   },
   "outputs": [
    {
     "name": "stdout",
     "output_type": "stream",
     "text": [
      "CPU times: user 3 µs, sys: 2 µs, total: 5 µs\n",
      "Wall time: 10.5 µs\n",
      "Finished this\n"
     ]
    },
    {
     "data": {
      "text/plain": "                                   lat         lon  obj_id\nDateTime            traj_id                               \n2008-10-23 05:53:05 1        39.984094  116.319236      24\n2008-10-23 05:53:06 1        39.984198  116.319322      28\n2008-10-23 05:53:11 1        39.984224  116.319402      24\n                    1        39.984224  116.319404      24\n                    1        39.984224  116.568956      24",
      "text/html": "<div>\n<style scoped>\n    .dataframe tbody tr th:only-of-type {\n        vertical-align: middle;\n    }\n\n    .dataframe tbody tr th {\n        vertical-align: top;\n    }\n\n    .dataframe thead th {\n        text-align: right;\n    }\n</style>\n<table border=\"1\" class=\"dataframe\">\n  <thead>\n    <tr style=\"text-align: right;\">\n      <th></th>\n      <th></th>\n      <th>lat</th>\n      <th>lon</th>\n      <th>obj_id</th>\n    </tr>\n    <tr>\n      <th>DateTime</th>\n      <th>traj_id</th>\n      <th></th>\n      <th></th>\n      <th></th>\n    </tr>\n  </thead>\n  <tbody>\n    <tr>\n      <th>2008-10-23 05:53:05</th>\n      <th>1</th>\n      <td>39.984094</td>\n      <td>116.319236</td>\n      <td>24</td>\n    </tr>\n    <tr>\n      <th>2008-10-23 05:53:06</th>\n      <th>1</th>\n      <td>39.984198</td>\n      <td>116.319322</td>\n      <td>28</td>\n    </tr>\n    <tr>\n      <th rowspan=\"3\" valign=\"top\">2008-10-23 05:53:11</th>\n      <th>1</th>\n      <td>39.984224</td>\n      <td>116.319402</td>\n      <td>24</td>\n    </tr>\n    <tr>\n      <th>1</th>\n      <td>39.984224</td>\n      <td>116.319404</td>\n      <td>24</td>\n    </tr>\n    <tr>\n      <th>1</th>\n      <td>39.984224</td>\n      <td>116.568956</td>\n      <td>24</td>\n    </tr>\n  </tbody>\n</table>\n</div>"
     },
     "execution_count": 1,
     "metadata": {},
     "output_type": "execute_result"
    }
   ],
   "source": [
    "import pandas\n",
    "%time\n",
    "#from core.trialDF import NumPandasTraj as NumTrajDF\n",
    "from core.TrajectoryDF import NumPandasTraj as NumTrajDF\n",
    "import numpy as np\n",
    "import pandas as pd\n",
    "\n",
    "list_data = [\n",
    "    [39.984094, 116.319236, '2008-10-23 05:53:05', 1, 24],\n",
    "    [39.984198, 116.319322, '2008-10-23 05:53:06', 1, 28],\n",
    "    [39.984224, 116.319402, '2008-10-23 05:53:11', 1, 24],\n",
    "    [39.984224, 116.319404, '2008-10-23 05:53:11', 1, 24],\n",
    "    [39.984224, 116.568956, '2008-10-23 05:53:11', 1, 24],\n",
    "    [39.984224, 116.568956, '2008-10-23 05:53:11', 1, 28]\n",
    "]\n",
    "\n",
    "traj = NumTrajDF(data_set=list_data, latitude='lat', longitude='longitude',\n",
    "                           datetime='DateTime', traj_id='traj',\n",
    "                           rest_of_columns=['obj_id'])\n",
    "traj.head()"
   ]
  },
  {
   "cell_type": "code",
   "execution_count": 2,
   "outputs": [
    {
     "name": "stdout",
     "output_type": "stream",
     "text": [
      "CPU times: user 5.28 ms, sys: 579 µs, total: 5.86 ms\n",
      "Wall time: 4.98 ms\n"
     ]
    },
    {
     "data": {
      "text/plain": "                                    lat        lon  object_id\nDateTime            traj_id                                  \n2008-10-23 05:53:11 1        116.319402  39.984198         24\n2008-10-23 05:53:06 1        116.319322  39.984224         24\n                    1        116.319402  39.984094         24",
      "text/html": "<div>\n<style scoped>\n    .dataframe tbody tr th:only-of-type {\n        vertical-align: middle;\n    }\n\n    .dataframe tbody tr th {\n        vertical-align: top;\n    }\n\n    .dataframe thead th {\n        text-align: right;\n    }\n</style>\n<table border=\"1\" class=\"dataframe\">\n  <thead>\n    <tr style=\"text-align: right;\">\n      <th></th>\n      <th></th>\n      <th>lat</th>\n      <th>lon</th>\n      <th>object_id</th>\n    </tr>\n    <tr>\n      <th>DateTime</th>\n      <th>traj_id</th>\n      <th></th>\n      <th></th>\n      <th></th>\n    </tr>\n  </thead>\n  <tbody>\n    <tr>\n      <th>2008-10-23 05:53:11</th>\n      <th>1</th>\n      <td>116.319402</td>\n      <td>39.984198</td>\n      <td>24</td>\n    </tr>\n    <tr>\n      <th rowspan=\"2\" valign=\"top\">2008-10-23 05:53:06</th>\n      <th>1</th>\n      <td>116.319322</td>\n      <td>39.984224</td>\n      <td>24</td>\n    </tr>\n    <tr>\n      <th>1</th>\n      <td>116.319402</td>\n      <td>39.984094</td>\n      <td>24</td>\n    </tr>\n  </tbody>\n</table>\n</div>"
     },
     "execution_count": 2,
     "metadata": {},
     "output_type": "execute_result"
    }
   ],
   "source": [
    "%%time\n",
    "\n",
    "dict_data = {\n",
    "    'lat': [116.319402, 116.319322, 116.319402],\n",
    "    'lon': [39.984198, 39.984224, 39.984094],\n",
    "    'datetime': ['2008-10-23 05:53:11', '2008-10-23 05:53:06', '2008-10-23 05:53:06'],\n",
    "    'id' : [1,1,1],\n",
    "    'object_id':[24,24,24]\n",
    "}\n",
    "\n",
    "dict_df = NumTrajDF(dict_data,'Latitude', 'Longitude',\n",
    "                           'DateTime', 'traj_id')\n",
    "dict_df.head()"
   ],
   "metadata": {
    "collapsed": false,
    "pycharm": {
     "name": "#%%\n"
    }
   }
  },
  {
   "cell_type": "code",
   "execution_count": 3,
   "outputs": [
    {
     "name": "stdout",
     "output_type": "stream",
     "text": [
      "['lat', 'lon', 'datetime', 'id']\n",
      "         lat         lon             DateTime  id\n",
      "0  39.984094  116.319236  2008-10-23 05:53:05   1\n",
      "1  39.984198  116.319322  2008-10-23 05:53:06   1\n",
      "2  39.984224  116.319402  2008-10-23 05:53:11   1\n",
      "3  39.984211  116.319389  2008-10-23 05:53:16   1\n",
      "4  39.984217  116.319422  2008-10-23 05:53:21   1\n"
     ]
    },
    {
     "ename": "KeyError",
     "evalue": "\"None of ['traj_id'] are in the columns\"",
     "output_type": "error",
     "traceback": [
      "\u001B[0;31m---------------------------------------------------------------------------\u001B[0m",
      "\u001B[0;31mKeyError\u001B[0m                                  Traceback (most recent call last)",
      "\u001B[0;32m<ipython-input-3-3093a76cc6c2>\u001B[0m in \u001B[0;36m<module>\u001B[0;34m\u001B[0m\n\u001B[0;32m----> 1\u001B[0;31m \u001B[0mdataframe\u001B[0m \u001B[0;34m=\u001B[0m \u001B[0mNumTrajDF\u001B[0m\u001B[0;34m.\u001B[0m\u001B[0mread_csv\u001B[0m\u001B[0;34m(\u001B[0m\u001B[0;34m'mini_sample.csv'\u001B[0m\u001B[0;34m)\u001B[0m\u001B[0;34m\u001B[0m\u001B[0;34m\u001B[0m\u001B[0m\n\u001B[0m\u001B[1;32m      2\u001B[0m \u001B[0;31m#dataframe.columns\u001B[0m\u001B[0;34m\u001B[0m\u001B[0;34m\u001B[0m\u001B[0;34m\u001B[0m\u001B[0m\n\u001B[1;32m      3\u001B[0m \u001B[0mdataframe\u001B[0m\u001B[0;34m.\u001B[0m\u001B[0mhead\u001B[0m\u001B[0;34m(\u001B[0m\u001B[0;34m)\u001B[0m\u001B[0;34m\u001B[0m\u001B[0;34m\u001B[0m\u001B[0m\n",
      "\u001B[0;32m~/Desktop/NumMobility/core/TrajectoryDF.py\u001B[0m in \u001B[0;36mread_csv\u001B[0;34m(cls, filename)\u001B[0m\n\u001B[1;32m    236\u001B[0m         \u001B[0;32mtry\u001B[0m\u001B[0;34m:\u001B[0m\u001B[0;34m\u001B[0m\u001B[0;34m\u001B[0m\u001B[0m\n\u001B[1;32m    237\u001B[0m             \u001B[0mdataframe\u001B[0m \u001B[0;34m=\u001B[0m \u001B[0mread_csv\u001B[0m\u001B[0;34m(\u001B[0m\u001B[0mfilename\u001B[0m\u001B[0;34m)\u001B[0m\u001B[0;34m\u001B[0m\u001B[0;34m\u001B[0m\u001B[0m\n\u001B[0;32m--> 238\u001B[0;31m             return cls(data_set=dataframe, latitude=const.LAT, longitude=const.LONG,\n\u001B[0m\u001B[1;32m    239\u001B[0m                                  datetime=const.DateTime, traj_id=const.TRAJECTORY_ID)\n\u001B[1;32m    240\u001B[0m         \u001B[0;32mexcept\u001B[0m \u001B[0mFileNotFoundError\u001B[0m\u001B[0;34m:\u001B[0m\u001B[0;34m\u001B[0m\u001B[0;34m\u001B[0m\u001B[0m\n",
      "\u001B[0;32m~/Desktop/NumMobility/core/TrajectoryDF.py\u001B[0m in \u001B[0;36m__init__\u001B[0;34m(self, data_set, latitude, longitude, datetime, traj_id, rest_of_columns)\u001B[0m\n\u001B[1;32m     71\u001B[0m         \u001B[0;31m#if self.validate_columns(data_set):\u001B[0m\u001B[0;34m\u001B[0m\u001B[0;34m\u001B[0m\u001B[0;34m\u001B[0m\u001B[0m\n\u001B[1;32m     72\u001B[0m         \u001B[0;31m#self.validate_data_types(data_set)\u001B[0m\u001B[0;34m\u001B[0m\u001B[0;34m\u001B[0m\u001B[0;34m\u001B[0m\u001B[0m\n\u001B[0;32m---> 73\u001B[0;31m         \u001B[0mdata_set\u001B[0m\u001B[0;34m.\u001B[0m\u001B[0mset_index\u001B[0m\u001B[0;34m(\u001B[0m\u001B[0;34m[\u001B[0m\u001B[0mconst\u001B[0m\u001B[0;34m.\u001B[0m\u001B[0mDateTime\u001B[0m\u001B[0;34m,\u001B[0m \u001B[0mconst\u001B[0m\u001B[0;34m.\u001B[0m\u001B[0mTRAJECTORY_ID\u001B[0m\u001B[0;34m]\u001B[0m\u001B[0;34m,\u001B[0m \u001B[0minplace\u001B[0m\u001B[0;34m=\u001B[0m\u001B[0;32mTrue\u001B[0m\u001B[0;34m,\u001B[0m \u001B[0mdrop\u001B[0m\u001B[0;34m=\u001B[0m\u001B[0;32mTrue\u001B[0m\u001B[0;34m)\u001B[0m\u001B[0;34m\u001B[0m\u001B[0;34m\u001B[0m\u001B[0m\n\u001B[0m\u001B[1;32m     74\u001B[0m         \u001B[0msuper\u001B[0m\u001B[0;34m(\u001B[0m\u001B[0mNumPandasTraj\u001B[0m\u001B[0;34m,\u001B[0m \u001B[0mself\u001B[0m\u001B[0;34m)\u001B[0m\u001B[0;34m.\u001B[0m\u001B[0m__init__\u001B[0m\u001B[0;34m(\u001B[0m\u001B[0mdata_set\u001B[0m\u001B[0;34m)\u001B[0m\u001B[0;34m\u001B[0m\u001B[0;34m\u001B[0m\u001B[0m\n\u001B[1;32m     75\u001B[0m \u001B[0;34m\u001B[0m\u001B[0m\n",
      "\u001B[0;32m~/anaconda3/envs/PreprocessingLibrary/lib/python3.8/site-packages/pandas/core/frame.py\u001B[0m in \u001B[0;36mset_index\u001B[0;34m(self, keys, drop, append, inplace, verify_integrity)\u001B[0m\n\u001B[1;32m   4553\u001B[0m \u001B[0;34m\u001B[0m\u001B[0m\n\u001B[1;32m   4554\u001B[0m         \u001B[0;32mif\u001B[0m \u001B[0mmissing\u001B[0m\u001B[0;34m:\u001B[0m\u001B[0;34m\u001B[0m\u001B[0;34m\u001B[0m\u001B[0m\n\u001B[0;32m-> 4555\u001B[0;31m             \u001B[0;32mraise\u001B[0m \u001B[0mKeyError\u001B[0m\u001B[0;34m(\u001B[0m\u001B[0;34mf\"None of {missing} are in the columns\"\u001B[0m\u001B[0;34m)\u001B[0m\u001B[0;34m\u001B[0m\u001B[0;34m\u001B[0m\u001B[0m\n\u001B[0m\u001B[1;32m   4556\u001B[0m \u001B[0;34m\u001B[0m\u001B[0m\n\u001B[1;32m   4557\u001B[0m         \u001B[0;32mif\u001B[0m \u001B[0minplace\u001B[0m\u001B[0;34m:\u001B[0m\u001B[0;34m\u001B[0m\u001B[0;34m\u001B[0m\u001B[0m\n",
      "\u001B[0;31mKeyError\u001B[0m: \"None of ['traj_id'] are in the columns\""
     ]
    }
   ],
   "source": [
    "\n",
    "dataframe = NumTrajDF.read_csv('mini_sample.csv')\n",
    "#dataframe.columns\n",
    "dataframe.head()"
   ],
   "metadata": {
    "collapsed": false,
    "pycharm": {
     "name": "#%%\n"
    }
   }
  },
  {
   "cell_type": "code",
   "execution_count": null,
   "outputs": [],
   "source": [
    "%%time\n",
    "\n",
    "pdf = pandas.read_csv('mini_sample.csv')\n",
    "ndf = NumTrajDF(pdf, 'lat', 'lon', 'DateTime', 'traj_id', [])\n",
    "ndf.tail()"
   ],
   "metadata": {
    "collapsed": false,
    "pycharm": {
     "name": "#%%\n"
    }
   }
  },
  {
   "cell_type": "code",
   "execution_count": null,
   "outputs": [],
   "source": [],
   "metadata": {
    "collapsed": false,
    "pycharm": {
     "name": "#%%\n"
    }
   }
  }
 ],
 "metadata": {
  "kernelspec": {
   "display_name": "Python 3",
   "language": "python",
   "name": "python3"
  },
  "language_info": {
   "codemirror_mode": {
    "name": "ipython",
    "version": 2
   },
   "file_extension": ".py",
   "mimetype": "text/x-python",
   "name": "python",
   "nbconvert_exporter": "python",
   "pygments_lexer": "ipython2",
   "version": "2.7.6"
  }
 },
 "nbformat": 4,
 "nbformat_minor": 0
}