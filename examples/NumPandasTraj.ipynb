{
 "cells": [
  {
   "cell_type": "code",
   "execution_count": 43,
   "metadata": {
    "collapsed": true
   },
   "outputs": [
    {
     "name": "stdout",
     "output_type": "stream",
     "text": [
      "CPU times: user 4 µs, sys: 1 µs, total: 5 µs\n",
      "Wall time: 8.58 µs\n"
     ]
    },
    {
     "data": {
      "text/plain": "                                   lat         lon  obj_id\nDateTime            traj_id                               \n2008-10-23 05:53:05 1        39.984094  116.319236      24\n2008-10-23 05:53:06 1        39.984198  116.319322      28\n2008-10-23 05:53:11 1        39.984224  116.319402      24\n                    1        39.984224  116.319404      24\n                    1        39.984224  116.568956      24",
      "text/html": "<div>\n<style scoped>\n    .dataframe tbody tr th:only-of-type {\n        vertical-align: middle;\n    }\n\n    .dataframe tbody tr th {\n        vertical-align: top;\n    }\n\n    .dataframe thead th {\n        text-align: right;\n    }\n</style>\n<table border=\"1\" class=\"dataframe\">\n  <thead>\n    <tr style=\"text-align: right;\">\n      <th></th>\n      <th></th>\n      <th>lat</th>\n      <th>lon</th>\n      <th>obj_id</th>\n    </tr>\n    <tr>\n      <th>DateTime</th>\n      <th>traj_id</th>\n      <th></th>\n      <th></th>\n      <th></th>\n    </tr>\n  </thead>\n  <tbody>\n    <tr>\n      <th>2008-10-23 05:53:05</th>\n      <th>1</th>\n      <td>39.984094</td>\n      <td>116.319236</td>\n      <td>24</td>\n    </tr>\n    <tr>\n      <th>2008-10-23 05:53:06</th>\n      <th>1</th>\n      <td>39.984198</td>\n      <td>116.319322</td>\n      <td>28</td>\n    </tr>\n    <tr>\n      <th rowspan=\"3\" valign=\"top\">2008-10-23 05:53:11</th>\n      <th>1</th>\n      <td>39.984224</td>\n      <td>116.319402</td>\n      <td>24</td>\n    </tr>\n    <tr>\n      <th>1</th>\n      <td>39.984224</td>\n      <td>116.319404</td>\n      <td>24</td>\n    </tr>\n    <tr>\n      <th>1</th>\n      <td>39.984224</td>\n      <td>116.568956</td>\n      <td>24</td>\n    </tr>\n  </tbody>\n</table>\n</div>"
     },
     "execution_count": 43,
     "metadata": {},
     "output_type": "execute_result"
    }
   ],
   "source": [
    "import pandas\n",
    "%time\n",
    "#from core.trialDF import NumPandasTraj as NumTrajDF\n",
    "from core.TrajectoryDF import NumPandasTraj as NumTrajDF\n",
    "from features.temporal_features import TemporalFeatures as temporal\n",
    "\n",
    "list_data = [\n",
    "    [39.984094, 116.319236, '2008-10-23 05:53:05', 1, 24],\n",
    "    [39.984198, 116.319322, '2008-10-23 05:53:06', 1, 28],\n",
    "    [39.984224, 116.319402, '2008-10-23 05:53:11', 1, 24],\n",
    "    [39.984224, 116.319404, '2008-10-23 05:53:11', 1, 24],\n",
    "    [39.984224, 116.568956, '2008-10-23 05:53:11', 1, 24],\n",
    "    [39.984224, 116.568956, '2008-10-23 05:53:11', 1, 28]\n",
    "]\n",
    "\n",
    "traj = NumTrajDF(data_set=list_data, latitude='lat', longitude='longitude',\n",
    "                           datetime='DateTime', traj_id='traj',\n",
    "                           rest_of_columns=['obj_id'])\n",
    "traj.head()"
   ]
  },
  {
   "cell_type": "code",
   "execution_count": 44,
   "outputs": [
    {
     "name": "stdout",
     "output_type": "stream",
     "text": [
      "CPU times: user 8.42 ms, sys: 60 µs, total: 8.48 ms\n",
      "Wall time: 7.05 ms\n"
     ]
    },
    {
     "data": {
      "text/plain": "                                    lat        lon  object_id\nDateTime            traj_id                                  \n2008-10-23 05:53:11 1        116.319402  39.984198         24\n2008-10-23 05:53:06 1        116.319322  39.984224         24\n                    1        116.319402  39.984094         24",
      "text/html": "<div>\n<style scoped>\n    .dataframe tbody tr th:only-of-type {\n        vertical-align: middle;\n    }\n\n    .dataframe tbody tr th {\n        vertical-align: top;\n    }\n\n    .dataframe thead th {\n        text-align: right;\n    }\n</style>\n<table border=\"1\" class=\"dataframe\">\n  <thead>\n    <tr style=\"text-align: right;\">\n      <th></th>\n      <th></th>\n      <th>lat</th>\n      <th>lon</th>\n      <th>object_id</th>\n    </tr>\n    <tr>\n      <th>DateTime</th>\n      <th>traj_id</th>\n      <th></th>\n      <th></th>\n      <th></th>\n    </tr>\n  </thead>\n  <tbody>\n    <tr>\n      <th>2008-10-23 05:53:11</th>\n      <th>1</th>\n      <td>116.319402</td>\n      <td>39.984198</td>\n      <td>24</td>\n    </tr>\n    <tr>\n      <th rowspan=\"2\" valign=\"top\">2008-10-23 05:53:06</th>\n      <th>1</th>\n      <td>116.319322</td>\n      <td>39.984224</td>\n      <td>24</td>\n    </tr>\n    <tr>\n      <th>1</th>\n      <td>116.319402</td>\n      <td>39.984094</td>\n      <td>24</td>\n    </tr>\n  </tbody>\n</table>\n</div>"
     },
     "execution_count": 44,
     "metadata": {},
     "output_type": "execute_result"
    }
   ],
   "source": [
    "%%time\n",
    "\n",
    "dict_data = {\n",
    "    'lat': [116.319402, 116.319322, 116.319402],\n",
    "    'lon': [39.984198, 39.984224, 39.984094],\n",
    "    'datetime': ['2008-10-23 05:53:11', '2008-10-23 05:53:06', '2008-10-23 05:53:06'],\n",
    "    'id' : [1,1,1],\n",
    "    'object_id':[24,24,24]\n",
    "}\n",
    "\n",
    "dict_df = NumTrajDF(dict_data,'Latitude', 'Longitude',\n",
    "                           'DateTime', 'traj_id')\n",
    "dict_df.head()"
   ],
   "metadata": {
    "collapsed": false,
    "pycharm": {
     "name": "#%%\n"
    }
   }
  },
  {
   "cell_type": "code",
   "execution_count": 45,
   "outputs": [
    {
     "name": "stdout",
     "output_type": "stream",
     "text": [
      "CPU times: user 10 ms, sys: 616 µs, total: 10.6 ms\n",
      "Wall time: 9.28 ms\n"
     ]
    }
   ],
   "source": [
    "%%time\n",
    "\n",
    "dataframe = NumTrajDF.read_csv('mini_sample.csv')"
   ],
   "metadata": {
    "collapsed": false,
    "pycharm": {
     "name": "#%%\n"
    }
   }
  },
  {
   "cell_type": "code",
   "execution_count": 46,
   "outputs": [
    {
     "name": "stdout",
     "output_type": "stream",
     "text": [
      "CPU times: user 11.6 ms, sys: 0 ns, total: 11.6 ms\n",
      "Wall time: 9.39 ms\n"
     ]
    },
    {
     "data": {
      "text/plain": "               lat          lon\ncount  1079.000000  1079.000000\nmean     39.994613   116.321018\nstd       0.010044     0.006930\nmin      39.970511   116.300872\n25%      39.987391   116.317925\n50%      39.992046   116.322821\n75%      40.003133   116.326498\nmax      40.012452   116.341455",
      "text/html": "<div>\n<style scoped>\n    .dataframe tbody tr th:only-of-type {\n        vertical-align: middle;\n    }\n\n    .dataframe tbody tr th {\n        vertical-align: top;\n    }\n\n    .dataframe thead th {\n        text-align: right;\n    }\n</style>\n<table border=\"1\" class=\"dataframe\">\n  <thead>\n    <tr style=\"text-align: right;\">\n      <th></th>\n      <th>lat</th>\n      <th>lon</th>\n    </tr>\n  </thead>\n  <tbody>\n    <tr>\n      <th>count</th>\n      <td>1079.000000</td>\n      <td>1079.000000</td>\n    </tr>\n    <tr>\n      <th>mean</th>\n      <td>39.994613</td>\n      <td>116.321018</td>\n    </tr>\n    <tr>\n      <th>std</th>\n      <td>0.010044</td>\n      <td>0.006930</td>\n    </tr>\n    <tr>\n      <th>min</th>\n      <td>39.970511</td>\n      <td>116.300872</td>\n    </tr>\n    <tr>\n      <th>25%</th>\n      <td>39.987391</td>\n      <td>116.317925</td>\n    </tr>\n    <tr>\n      <th>50%</th>\n      <td>39.992046</td>\n      <td>116.322821</td>\n    </tr>\n    <tr>\n      <th>75%</th>\n      <td>40.003133</td>\n      <td>116.326498</td>\n    </tr>\n    <tr>\n      <th>max</th>\n      <td>40.012452</td>\n      <td>116.341455</td>\n    </tr>\n  </tbody>\n</table>\n</div>"
     },
     "execution_count": 46,
     "metadata": {},
     "output_type": "execute_result"
    }
   ],
   "source": [
    "%%time\n",
    "\n",
    "dataframe.describe()"
   ],
   "metadata": {
    "collapsed": false,
    "pycharm": {
     "name": "#%%\n"
    }
   }
  },
  {
   "cell_type": "code",
   "execution_count": 47,
   "outputs": [
    {
     "name": "stdout",
     "output_type": "stream",
     "text": [
      "CPU times: user 7 µs, sys: 2 µs, total: 9 µs\n",
      "Wall time: 12.4 µs\n"
     ]
    },
    {
     "data": {
      "text/plain": "2"
     },
     "execution_count": 47,
     "metadata": {},
     "output_type": "execute_result"
    }
   ],
   "source": [
    "%%time\n",
    "len(dataframe.columns)"
   ],
   "metadata": {
    "collapsed": false,
    "pycharm": {
     "name": "#%%\n"
    }
   }
  },
  {
   "cell_type": "code",
   "execution_count": 48,
   "outputs": [
    {
     "name": "stdout",
     "output_type": "stream",
     "text": [
      "CPU times: user 272 µs, sys: 0 ns, total: 272 µs\n",
      "Wall time: 277 µs\n"
     ]
    },
    {
     "data": {
      "text/plain": "lat    float64\nlon    float64\ndtype: object"
     },
     "execution_count": 48,
     "metadata": {},
     "output_type": "execute_result"
    }
   ],
   "source": [
    "%%time\n",
    "dataframe.dtypes"
   ],
   "metadata": {
    "collapsed": false,
    "pycharm": {
     "name": "#%%\n"
    }
   }
  },
  {
   "cell_type": "code",
   "execution_count": 49,
   "outputs": [
    {
     "name": "stdout",
     "output_type": "stream",
     "text": [
      "CPU times: user 4.77 ms, sys: 19.4 ms, total: 24.2 ms\n",
      "Wall time: 48.1 ms\n"
     ]
    },
    {
     "data": {
      "text/plain": "                                       DateTime  traj_id        lat  \\\nDateTime            traj_id                                           \n2008-10-23 05:53:05 1       2008-10-23 05:53:05        1  39.984094   \n2008-10-23 05:53:06 1       2008-10-23 05:53:06        1  39.984198   \n2008-10-23 05:53:11 1       2008-10-23 05:53:11        1  39.984224   \n2008-10-23 05:53:16 1       2008-10-23 05:53:16        1  39.984211   \n2008-10-23 05:53:21 1       2008-10-23 05:53:21        1  39.984217   \n\n                                    lon        Date  \nDateTime            traj_id                          \n2008-10-23 05:53:05 1        116.319236  2008-10-23  \n2008-10-23 05:53:06 1        116.319322  2008-10-23  \n2008-10-23 05:53:11 1        116.319402  2008-10-23  \n2008-10-23 05:53:16 1        116.319389  2008-10-23  \n2008-10-23 05:53:21 1        116.319422  2008-10-23  ",
      "text/html": "<div>\n<style scoped>\n    .dataframe tbody tr th:only-of-type {\n        vertical-align: middle;\n    }\n\n    .dataframe tbody tr th {\n        vertical-align: top;\n    }\n\n    .dataframe thead th {\n        text-align: right;\n    }\n</style>\n<table border=\"1\" class=\"dataframe\">\n  <thead>\n    <tr style=\"text-align: right;\">\n      <th></th>\n      <th></th>\n      <th>DateTime</th>\n      <th>traj_id</th>\n      <th>lat</th>\n      <th>lon</th>\n      <th>Date</th>\n    </tr>\n    <tr>\n      <th>DateTime</th>\n      <th>traj_id</th>\n      <th></th>\n      <th></th>\n      <th></th>\n      <th></th>\n      <th></th>\n    </tr>\n  </thead>\n  <tbody>\n    <tr>\n      <th>2008-10-23 05:53:05</th>\n      <th>1</th>\n      <td>2008-10-23 05:53:05</td>\n      <td>1</td>\n      <td>39.984094</td>\n      <td>116.319236</td>\n      <td>2008-10-23</td>\n    </tr>\n    <tr>\n      <th>2008-10-23 05:53:06</th>\n      <th>1</th>\n      <td>2008-10-23 05:53:06</td>\n      <td>1</td>\n      <td>39.984198</td>\n      <td>116.319322</td>\n      <td>2008-10-23</td>\n    </tr>\n    <tr>\n      <th>2008-10-23 05:53:11</th>\n      <th>1</th>\n      <td>2008-10-23 05:53:11</td>\n      <td>1</td>\n      <td>39.984224</td>\n      <td>116.319402</td>\n      <td>2008-10-23</td>\n    </tr>\n    <tr>\n      <th>2008-10-23 05:53:16</th>\n      <th>1</th>\n      <td>2008-10-23 05:53:16</td>\n      <td>1</td>\n      <td>39.984211</td>\n      <td>116.319389</td>\n      <td>2008-10-23</td>\n    </tr>\n    <tr>\n      <th>2008-10-23 05:53:21</th>\n      <th>1</th>\n      <td>2008-10-23 05:53:21</td>\n      <td>1</td>\n      <td>39.984217</td>\n      <td>116.319422</td>\n      <td>2008-10-23</td>\n    </tr>\n  </tbody>\n</table>\n</div>"
     },
     "execution_count": 49,
     "metadata": {},
     "output_type": "execute_result"
    }
   ],
   "source": [
    "%%time\n",
    "temporal.create_date_column(dataframe, True).head()"
   ],
   "metadata": {
    "collapsed": false,
    "pycharm": {
     "name": "#%%\n"
    }
   }
  },
  {
   "cell_type": "code",
   "execution_count": 49,
   "outputs": [],
   "source": [],
   "metadata": {
    "collapsed": false,
    "pycharm": {
     "name": "#%%\n"
    }
   }
  }
 ],
 "metadata": {
  "kernelspec": {
   "display_name": "Python 3",
   "language": "python",
   "name": "python3"
  },
  "language_info": {
   "codemirror_mode": {
    "name": "ipython",
    "version": 2
   },
   "file_extension": ".py",
   "mimetype": "text/x-python",
   "name": "python",
   "nbconvert_exporter": "python",
   "pygments_lexer": "ipython2",
   "version": "2.7.6"
  }
 },
 "nbformat": 4,
 "nbformat_minor": 0
}