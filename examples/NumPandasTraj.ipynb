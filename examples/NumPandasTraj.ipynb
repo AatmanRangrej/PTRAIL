{
 "cells": [
  {
   "cell_type": "code",
   "execution_count": 1,
   "metadata": {
    "collapsed": true
   },
   "outputs": [
    {
     "name": "stdout",
     "output_type": "stream",
     "text": [
      "CPU times: user 2 µs, sys: 1 µs, total: 3 µs\n",
      "Wall time: 7.15 µs\n"
     ]
    },
    {
     "data": {
      "text/plain": "                                   lat         lon  obj_id\nDateTime            traj_id                               \n2008-10-23 05:53:05 1        39.984094  116.319236      24\n2008-10-23 05:53:06 1        39.984198  116.319322      28\n2008-10-23 05:53:11 1        39.984224  116.319402      24\n                    1        39.984224  116.319404      24\n                    1        39.984224  116.568956      24",
      "text/html": "<div>\n<style scoped>\n    .dataframe tbody tr th:only-of-type {\n        vertical-align: middle;\n    }\n\n    .dataframe tbody tr th {\n        vertical-align: top;\n    }\n\n    .dataframe thead th {\n        text-align: right;\n    }\n</style>\n<table border=\"1\" class=\"dataframe\">\n  <thead>\n    <tr style=\"text-align: right;\">\n      <th></th>\n      <th></th>\n      <th>lat</th>\n      <th>lon</th>\n      <th>obj_id</th>\n    </tr>\n    <tr>\n      <th>DateTime</th>\n      <th>traj_id</th>\n      <th></th>\n      <th></th>\n      <th></th>\n    </tr>\n  </thead>\n  <tbody>\n    <tr>\n      <th>2008-10-23 05:53:05</th>\n      <th>1</th>\n      <td>39.984094</td>\n      <td>116.319236</td>\n      <td>24</td>\n    </tr>\n    <tr>\n      <th>2008-10-23 05:53:06</th>\n      <th>1</th>\n      <td>39.984198</td>\n      <td>116.319322</td>\n      <td>28</td>\n    </tr>\n    <tr>\n      <th rowspan=\"3\" valign=\"top\">2008-10-23 05:53:11</th>\n      <th>1</th>\n      <td>39.984224</td>\n      <td>116.319402</td>\n      <td>24</td>\n    </tr>\n    <tr>\n      <th>1</th>\n      <td>39.984224</td>\n      <td>116.319404</td>\n      <td>24</td>\n    </tr>\n    <tr>\n      <th>1</th>\n      <td>39.984224</td>\n      <td>116.568956</td>\n      <td>24</td>\n    </tr>\n  </tbody>\n</table>\n</div>"
     },
     "execution_count": 1,
     "metadata": {},
     "output_type": "execute_result"
    }
   ],
   "source": [
    "import pandas\n",
    "%time\n",
    "#from core.trialDF import NumPandasTraj as NumTrajDF\n",
    "from core.TrajectoryDF import NumPandasTraj as NumTrajDF\n",
    "import numpy as np\n",
    "import pandas as pd\n",
    "\n",
    "list_data = [\n",
    "    [39.984094, 116.319236, '2008-10-23 05:53:05', 1, 24],\n",
    "    [39.984198, 116.319322, '2008-10-23 05:53:06', 1, 28],\n",
    "    [39.984224, 116.319402, '2008-10-23 05:53:11', 1, 24],\n",
    "    [39.984224, 116.319404, '2008-10-23 05:53:11', 1, 24],\n",
    "    [39.984224, 116.568956, '2008-10-23 05:53:11', 1, 24],\n",
    "    [39.984224, 116.568956, '2008-10-23 05:53:11', 1, 28]\n",
    "]\n",
    "\n",
    "traj = NumTrajDF(data_set=list_data, latitude='lat', longitude='longitude',\n",
    "                           datetime='DateTime', traj_id='traj',\n",
    "                           rest_of_columns=['obj_id'])\n",
    "traj.head()"
   ]
  },
  {
   "cell_type": "code",
   "execution_count": 2,
   "outputs": [
    {
     "name": "stdout",
     "output_type": "stream",
     "text": [
      "CPU times: user 8.2 ms, sys: 146 µs, total: 8.34 ms\n",
      "Wall time: 7.04 ms\n"
     ]
    },
    {
     "data": {
      "text/plain": "                                    lat        lon  object_id\nDateTime            traj_id                                  \n2008-10-23 05:53:11 1        116.319402  39.984198         24\n2008-10-23 05:53:06 1        116.319322  39.984224         24\n                    1        116.319402  39.984094         24",
      "text/html": "<div>\n<style scoped>\n    .dataframe tbody tr th:only-of-type {\n        vertical-align: middle;\n    }\n\n    .dataframe tbody tr th {\n        vertical-align: top;\n    }\n\n    .dataframe thead th {\n        text-align: right;\n    }\n</style>\n<table border=\"1\" class=\"dataframe\">\n  <thead>\n    <tr style=\"text-align: right;\">\n      <th></th>\n      <th></th>\n      <th>lat</th>\n      <th>lon</th>\n      <th>object_id</th>\n    </tr>\n    <tr>\n      <th>DateTime</th>\n      <th>traj_id</th>\n      <th></th>\n      <th></th>\n      <th></th>\n    </tr>\n  </thead>\n  <tbody>\n    <tr>\n      <th>2008-10-23 05:53:11</th>\n      <th>1</th>\n      <td>116.319402</td>\n      <td>39.984198</td>\n      <td>24</td>\n    </tr>\n    <tr>\n      <th rowspan=\"2\" valign=\"top\">2008-10-23 05:53:06</th>\n      <th>1</th>\n      <td>116.319322</td>\n      <td>39.984224</td>\n      <td>24</td>\n    </tr>\n    <tr>\n      <th>1</th>\n      <td>116.319402</td>\n      <td>39.984094</td>\n      <td>24</td>\n    </tr>\n  </tbody>\n</table>\n</div>"
     },
     "execution_count": 2,
     "metadata": {},
     "output_type": "execute_result"
    }
   ],
   "source": [
    "%%time\n",
    "\n",
    "dict_data = {\n",
    "    'lat': [116.319402, 116.319322, 116.319402],\n",
    "    'lon': [39.984198, 39.984224, 39.984094],\n",
    "    'datetime': ['2008-10-23 05:53:11', '2008-10-23 05:53:06', '2008-10-23 05:53:06'],\n",
    "    'id' : [1,1,1],\n",
    "    'object_id':[24,24,24]\n",
    "}\n",
    "\n",
    "dict_df = NumTrajDF(dict_data,'Latitude', 'Longitude',\n",
    "                           'DateTime', 'traj_id')\n",
    "dict_df.head()"
   ],
   "metadata": {
    "collapsed": false,
    "pycharm": {
     "name": "#%%\n"
    }
   }
  },
  {
   "cell_type": "code",
   "execution_count": 3,
   "outputs": [
    {
     "name": "stdout",
     "output_type": "stream",
     "text": [
      "CPU times: user 10.4 ms, sys: 1.13 ms, total: 11.5 ms\n",
      "Wall time: 10.2 ms\n"
     ]
    },
    {
     "data": {
      "text/plain": "                                   lat         lon\nDateTime            traj_id                       \n2008-10-23 05:53:05 1        39.984094  116.319236\n2008-10-23 05:53:06 1        39.984198  116.319322\n2008-10-23 05:53:11 1        39.984224  116.319402\n2008-10-23 05:53:16 1        39.984211  116.319389\n2008-10-23 05:53:21 1        39.984217  116.319422",
      "text/html": "<div>\n<style scoped>\n    .dataframe tbody tr th:only-of-type {\n        vertical-align: middle;\n    }\n\n    .dataframe tbody tr th {\n        vertical-align: top;\n    }\n\n    .dataframe thead th {\n        text-align: right;\n    }\n</style>\n<table border=\"1\" class=\"dataframe\">\n  <thead>\n    <tr style=\"text-align: right;\">\n      <th></th>\n      <th></th>\n      <th>lat</th>\n      <th>lon</th>\n    </tr>\n    <tr>\n      <th>DateTime</th>\n      <th>traj_id</th>\n      <th></th>\n      <th></th>\n    </tr>\n  </thead>\n  <tbody>\n    <tr>\n      <th>2008-10-23 05:53:05</th>\n      <th>1</th>\n      <td>39.984094</td>\n      <td>116.319236</td>\n    </tr>\n    <tr>\n      <th>2008-10-23 05:53:06</th>\n      <th>1</th>\n      <td>39.984198</td>\n      <td>116.319322</td>\n    </tr>\n    <tr>\n      <th>2008-10-23 05:53:11</th>\n      <th>1</th>\n      <td>39.984224</td>\n      <td>116.319402</td>\n    </tr>\n    <tr>\n      <th>2008-10-23 05:53:16</th>\n      <th>1</th>\n      <td>39.984211</td>\n      <td>116.319389</td>\n    </tr>\n    <tr>\n      <th>2008-10-23 05:53:21</th>\n      <th>1</th>\n      <td>39.984217</td>\n      <td>116.319422</td>\n    </tr>\n  </tbody>\n</table>\n</div>"
     },
     "execution_count": 3,
     "metadata": {},
     "output_type": "execute_result"
    }
   ],
   "source": [
    "%%time\n",
    "\n",
    "dataframe = NumTrajDF.read_csv('mini_sample.csv')\n",
    "dataframe.head()"
   ],
   "metadata": {
    "collapsed": false,
    "pycharm": {
     "name": "#%%\n"
    }
   }
  },
  {
   "cell_type": "code",
   "execution_count": 3,
   "outputs": [],
   "source": [],
   "metadata": {
    "collapsed": false,
    "pycharm": {
     "name": "#%%\n"
    }
   }
  }
 ],
 "metadata": {
  "kernelspec": {
   "display_name": "Python 3",
   "language": "python",
   "name": "python3"
  },
  "language_info": {
   "codemirror_mode": {
    "name": "ipython",
    "version": 2
   },
   "file_extension": ".py",
   "mimetype": "text/x-python",
   "name": "python",
   "nbconvert_exporter": "python",
   "pygments_lexer": "ipython2",
   "version": "2.7.6"
  }
 },
 "nbformat": 4,
 "nbformat_minor": 0
}