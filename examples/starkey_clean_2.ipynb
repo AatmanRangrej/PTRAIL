{
 "cells": [
  {
   "cell_type": "code",
   "execution_count": 1,
   "metadata": {
    "collapsed": true
   },
   "outputs": [
    {
     "data": {
      "text/plain": "          UTMGrid  UTMGridEast  UTMGridNorth  SoilDpth  PerSlope  SINAspct  \\\n0  373695 5014470       373695       5014470        14         5     -0.81   \n1  373695 5014500       373695       5014500        14         5     -0.71   \n2  373695 5014530       373695       5014530        14         4     -0.89   \n3  373725 5014230       373725       5014230        14         8     -0.98   \n4  373725 5014260       373725       5014260        14         7     -0.97   \n\n   COSAspct  Convex3  DistCWat  Canopy  Elev  DistEWat EcoGener  DistOPEN  \\\n0      0.59   500.63       218       3  1389       212       GB       127   \n1      0.71   500.21       228       3  1388       218       GB       150   \n2      0.45   499.93       242       3  1387       228       GB       170   \n3      0.21   500.68       201       5  1393       201       GB        30   \n4      0.22   501.22       190       5  1393       190       GB        30   \n\n   DistRSTR  DistCLSD  DistEFnc      CowPast  ForgProd  DistEdge  \n0      2271        30         0  SMITH-BALLY       363         0  \n1      2293        30         0  SMITH-BALLY       363         0  \n2      2315        30         0  SMITH-BALLY       363         0  \n3      2081       134         0  SMITH-BALLY       363         0  \n4      2101       108         0  SMITH-BALLY       363         0  ",
      "text/html": "<div>\n<style scoped>\n    .dataframe tbody tr th:only-of-type {\n        vertical-align: middle;\n    }\n\n    .dataframe tbody tr th {\n        vertical-align: top;\n    }\n\n    .dataframe thead th {\n        text-align: right;\n    }\n</style>\n<table border=\"1\" class=\"dataframe\">\n  <thead>\n    <tr style=\"text-align: right;\">\n      <th></th>\n      <th>UTMGrid</th>\n      <th>UTMGridEast</th>\n      <th>UTMGridNorth</th>\n      <th>SoilDpth</th>\n      <th>PerSlope</th>\n      <th>SINAspct</th>\n      <th>COSAspct</th>\n      <th>Convex3</th>\n      <th>DistCWat</th>\n      <th>Canopy</th>\n      <th>Elev</th>\n      <th>DistEWat</th>\n      <th>EcoGener</th>\n      <th>DistOPEN</th>\n      <th>DistRSTR</th>\n      <th>DistCLSD</th>\n      <th>DistEFnc</th>\n      <th>CowPast</th>\n      <th>ForgProd</th>\n      <th>DistEdge</th>\n    </tr>\n  </thead>\n  <tbody>\n    <tr>\n      <th>0</th>\n      <td>373695 5014470</td>\n      <td>373695</td>\n      <td>5014470</td>\n      <td>14</td>\n      <td>5</td>\n      <td>-0.81</td>\n      <td>0.59</td>\n      <td>500.63</td>\n      <td>218</td>\n      <td>3</td>\n      <td>1389</td>\n      <td>212</td>\n      <td>GB</td>\n      <td>127</td>\n      <td>2271</td>\n      <td>30</td>\n      <td>0</td>\n      <td>SMITH-BALLY</td>\n      <td>363</td>\n      <td>0</td>\n    </tr>\n    <tr>\n      <th>1</th>\n      <td>373695 5014500</td>\n      <td>373695</td>\n      <td>5014500</td>\n      <td>14</td>\n      <td>5</td>\n      <td>-0.71</td>\n      <td>0.71</td>\n      <td>500.21</td>\n      <td>228</td>\n      <td>3</td>\n      <td>1388</td>\n      <td>218</td>\n      <td>GB</td>\n      <td>150</td>\n      <td>2293</td>\n      <td>30</td>\n      <td>0</td>\n      <td>SMITH-BALLY</td>\n      <td>363</td>\n      <td>0</td>\n    </tr>\n    <tr>\n      <th>2</th>\n      <td>373695 5014530</td>\n      <td>373695</td>\n      <td>5014530</td>\n      <td>14</td>\n      <td>4</td>\n      <td>-0.89</td>\n      <td>0.45</td>\n      <td>499.93</td>\n      <td>242</td>\n      <td>3</td>\n      <td>1387</td>\n      <td>228</td>\n      <td>GB</td>\n      <td>170</td>\n      <td>2315</td>\n      <td>30</td>\n      <td>0</td>\n      <td>SMITH-BALLY</td>\n      <td>363</td>\n      <td>0</td>\n    </tr>\n    <tr>\n      <th>3</th>\n      <td>373725 5014230</td>\n      <td>373725</td>\n      <td>5014230</td>\n      <td>14</td>\n      <td>8</td>\n      <td>-0.98</td>\n      <td>0.21</td>\n      <td>500.68</td>\n      <td>201</td>\n      <td>5</td>\n      <td>1393</td>\n      <td>201</td>\n      <td>GB</td>\n      <td>30</td>\n      <td>2081</td>\n      <td>134</td>\n      <td>0</td>\n      <td>SMITH-BALLY</td>\n      <td>363</td>\n      <td>0</td>\n    </tr>\n    <tr>\n      <th>4</th>\n      <td>373725 5014260</td>\n      <td>373725</td>\n      <td>5014260</td>\n      <td>14</td>\n      <td>7</td>\n      <td>-0.97</td>\n      <td>0.22</td>\n      <td>501.22</td>\n      <td>190</td>\n      <td>5</td>\n      <td>1393</td>\n      <td>190</td>\n      <td>GB</td>\n      <td>30</td>\n      <td>2101</td>\n      <td>108</td>\n      <td>0</td>\n      <td>SMITH-BALLY</td>\n      <td>363</td>\n      <td>0</td>\n    </tr>\n  </tbody>\n</table>\n</div>"
     },
     "execution_count": 1,
     "metadata": {},
     "output_type": "execute_result"
    }
   ],
   "source": [
    "import pandas as pd\n",
    "import utm\n",
    "\n",
    "pdf = pd.read_csv('./data/new_starkey.txt')\n",
    "pdf.columns = pdf.columns.str.strip()\n",
    "pdf.head()"
   ]
  },
  {
   "cell_type": "code",
   "execution_count": 2,
   "outputs": [
    {
     "data": {
      "text/plain": "   SoilDpth  PerSlope  SINAspct  COSAspct  Convex3  DistCWat  Canopy  Elev  \\\n0        14         5     -0.81      0.59   500.63       218       3  1389   \n1        14         5     -0.71      0.71   500.21       228       3  1388   \n2        14         4     -0.89      0.45   499.93       242       3  1387   \n3        14         8     -0.98      0.21   500.68       201       5  1393   \n4        14         7     -0.97      0.22   501.22       190       5  1393   \n\n   DistEWat EcoGener  DistOPEN  DistRSTR  DistCLSD  DistEFnc      CowPast  \\\n0       212       GB       127      2271        30         0  SMITH-BALLY   \n1       218       GB       150      2293        30         0  SMITH-BALLY   \n2       228       GB       170      2315        30         0  SMITH-BALLY   \n3       201       GB        30      2081       134         0  SMITH-BALLY   \n4       190       GB        30      2101       108         0  SMITH-BALLY   \n\n   ForgProd  DistEdge        lat         lon  \n0       363         0  45.272378 -118.610193  \n1       363         0  45.272648 -118.610201  \n2       363         0  45.272918 -118.610208  \n3       363         0  45.270224 -118.609750  \n4       363         0  45.270494 -118.609757  ",
      "text/html": "<div>\n<style scoped>\n    .dataframe tbody tr th:only-of-type {\n        vertical-align: middle;\n    }\n\n    .dataframe tbody tr th {\n        vertical-align: top;\n    }\n\n    .dataframe thead th {\n        text-align: right;\n    }\n</style>\n<table border=\"1\" class=\"dataframe\">\n  <thead>\n    <tr style=\"text-align: right;\">\n      <th></th>\n      <th>SoilDpth</th>\n      <th>PerSlope</th>\n      <th>SINAspct</th>\n      <th>COSAspct</th>\n      <th>Convex3</th>\n      <th>DistCWat</th>\n      <th>Canopy</th>\n      <th>Elev</th>\n      <th>DistEWat</th>\n      <th>EcoGener</th>\n      <th>DistOPEN</th>\n      <th>DistRSTR</th>\n      <th>DistCLSD</th>\n      <th>DistEFnc</th>\n      <th>CowPast</th>\n      <th>ForgProd</th>\n      <th>DistEdge</th>\n      <th>lat</th>\n      <th>lon</th>\n    </tr>\n  </thead>\n  <tbody>\n    <tr>\n      <th>0</th>\n      <td>14</td>\n      <td>5</td>\n      <td>-0.81</td>\n      <td>0.59</td>\n      <td>500.63</td>\n      <td>218</td>\n      <td>3</td>\n      <td>1389</td>\n      <td>212</td>\n      <td>GB</td>\n      <td>127</td>\n      <td>2271</td>\n      <td>30</td>\n      <td>0</td>\n      <td>SMITH-BALLY</td>\n      <td>363</td>\n      <td>0</td>\n      <td>45.272378</td>\n      <td>-118.610193</td>\n    </tr>\n    <tr>\n      <th>1</th>\n      <td>14</td>\n      <td>5</td>\n      <td>-0.71</td>\n      <td>0.71</td>\n      <td>500.21</td>\n      <td>228</td>\n      <td>3</td>\n      <td>1388</td>\n      <td>218</td>\n      <td>GB</td>\n      <td>150</td>\n      <td>2293</td>\n      <td>30</td>\n      <td>0</td>\n      <td>SMITH-BALLY</td>\n      <td>363</td>\n      <td>0</td>\n      <td>45.272648</td>\n      <td>-118.610201</td>\n    </tr>\n    <tr>\n      <th>2</th>\n      <td>14</td>\n      <td>4</td>\n      <td>-0.89</td>\n      <td>0.45</td>\n      <td>499.93</td>\n      <td>242</td>\n      <td>3</td>\n      <td>1387</td>\n      <td>228</td>\n      <td>GB</td>\n      <td>170</td>\n      <td>2315</td>\n      <td>30</td>\n      <td>0</td>\n      <td>SMITH-BALLY</td>\n      <td>363</td>\n      <td>0</td>\n      <td>45.272918</td>\n      <td>-118.610208</td>\n    </tr>\n    <tr>\n      <th>3</th>\n      <td>14</td>\n      <td>8</td>\n      <td>-0.98</td>\n      <td>0.21</td>\n      <td>500.68</td>\n      <td>201</td>\n      <td>5</td>\n      <td>1393</td>\n      <td>201</td>\n      <td>GB</td>\n      <td>30</td>\n      <td>2081</td>\n      <td>134</td>\n      <td>0</td>\n      <td>SMITH-BALLY</td>\n      <td>363</td>\n      <td>0</td>\n      <td>45.270224</td>\n      <td>-118.609750</td>\n    </tr>\n    <tr>\n      <th>4</th>\n      <td>14</td>\n      <td>7</td>\n      <td>-0.97</td>\n      <td>0.22</td>\n      <td>501.22</td>\n      <td>190</td>\n      <td>5</td>\n      <td>1393</td>\n      <td>190</td>\n      <td>GB</td>\n      <td>30</td>\n      <td>2101</td>\n      <td>108</td>\n      <td>0</td>\n      <td>SMITH-BALLY</td>\n      <td>363</td>\n      <td>0</td>\n      <td>45.270494</td>\n      <td>-118.609757</td>\n    </tr>\n  </tbody>\n</table>\n</div>"
     },
     "execution_count": 2,
     "metadata": {},
     "output_type": "execute_result"
    }
   ],
   "source": [
    "lat, lon = utm.to_latlon(easting=pdf['UTMGridEast'],\n",
    "                         northing=pdf['UTMGridNorth'],\n",
    "                         zone_number=11,\n",
    "                         northern=True)\n",
    "pdf['lat'] = lat\n",
    "pdf['lon'] = lon\n",
    "pdf = pdf.drop(columns = ['UTMGrid', 'UTMGridEast', 'UTMGridNorth'])\n",
    "starkey = pdf\n",
    "starkey.head()"
   ],
   "metadata": {
    "collapsed": false,
    "pycharm": {
     "name": "#%%\n"
    }
   }
  },
  {
   "cell_type": "code",
   "execution_count": 3,
   "outputs": [
    {
     "data": {
      "text/plain": "Index(['SoilDpth', 'PerSlope', 'SINAspct', 'COSAspct', 'Convex3', 'DistCWat',\n       'Canopy', 'Elev', 'DistEWat', 'EcoGener', 'DistOPEN', 'DistRSTR',\n       'DistCLSD', 'DistEFnc', 'CowPast', 'ForgProd', 'DistEdge', 'lat',\n       'lon'],\n      dtype='object')"
     },
     "execution_count": 3,
     "metadata": {},
     "output_type": "execute_result"
    }
   ],
   "source": [
    "starkey.columns"
   ],
   "metadata": {
    "collapsed": false,
    "pycharm": {
     "name": "#%%\n"
    }
   }
  },
  {
   "cell_type": "code",
   "execution_count": 4,
   "outputs": [],
   "source": [
    "starkey = starkey[['lat','lon','SoilDpth', 'PerSlope', 'SINAspct', 'COSAspct', 'Convex3', 'DistCWat',\n",
    "       'Canopy', 'Elev', 'DistEWat', 'EcoGener', 'DistOPEN', 'DistRSTR',\n",
    "       'DistCLSD', 'DistEFnc', 'CowPast', 'ForgProd', 'DistEdge']]"
   ],
   "metadata": {
    "collapsed": false,
    "pycharm": {
     "name": "#%%\n"
    }
   }
  },
  {
   "cell_type": "code",
   "execution_count": 5,
   "outputs": [
    {
     "data": {
      "text/plain": "         lat         lon  SoilDpth  PerSlope  SINAspct  COSAspct  Convex3  \\\n0  45.272378 -118.610193        14         5     -0.81      0.59   500.63   \n1  45.272648 -118.610201        14         5     -0.71      0.71   500.21   \n2  45.272918 -118.610208        14         4     -0.89      0.45   499.93   \n3  45.270224 -118.609750        14         8     -0.98      0.21   500.68   \n4  45.270494 -118.609757        14         7     -0.97      0.22   501.22   \n\n   DistCWat  Canopy  Elev  DistEWat EcoGener  DistOPEN  DistRSTR  DistCLSD  \\\n0       218       3  1389       212       GB       127      2271        30   \n1       228       3  1388       218       GB       150      2293        30   \n2       242       3  1387       228       GB       170      2315        30   \n3       201       5  1393       201       GB        30      2081       134   \n4       190       5  1393       190       GB        30      2101       108   \n\n   DistEFnc      CowPast  ForgProd  DistEdge  \n0         0  SMITH-BALLY       363         0  \n1         0  SMITH-BALLY       363         0  \n2         0  SMITH-BALLY       363         0  \n3         0  SMITH-BALLY       363         0  \n4         0  SMITH-BALLY       363         0  ",
      "text/html": "<div>\n<style scoped>\n    .dataframe tbody tr th:only-of-type {\n        vertical-align: middle;\n    }\n\n    .dataframe tbody tr th {\n        vertical-align: top;\n    }\n\n    .dataframe thead th {\n        text-align: right;\n    }\n</style>\n<table border=\"1\" class=\"dataframe\">\n  <thead>\n    <tr style=\"text-align: right;\">\n      <th></th>\n      <th>lat</th>\n      <th>lon</th>\n      <th>SoilDpth</th>\n      <th>PerSlope</th>\n      <th>SINAspct</th>\n      <th>COSAspct</th>\n      <th>Convex3</th>\n      <th>DistCWat</th>\n      <th>Canopy</th>\n      <th>Elev</th>\n      <th>DistEWat</th>\n      <th>EcoGener</th>\n      <th>DistOPEN</th>\n      <th>DistRSTR</th>\n      <th>DistCLSD</th>\n      <th>DistEFnc</th>\n      <th>CowPast</th>\n      <th>ForgProd</th>\n      <th>DistEdge</th>\n    </tr>\n  </thead>\n  <tbody>\n    <tr>\n      <th>0</th>\n      <td>45.272378</td>\n      <td>-118.610193</td>\n      <td>14</td>\n      <td>5</td>\n      <td>-0.81</td>\n      <td>0.59</td>\n      <td>500.63</td>\n      <td>218</td>\n      <td>3</td>\n      <td>1389</td>\n      <td>212</td>\n      <td>GB</td>\n      <td>127</td>\n      <td>2271</td>\n      <td>30</td>\n      <td>0</td>\n      <td>SMITH-BALLY</td>\n      <td>363</td>\n      <td>0</td>\n    </tr>\n    <tr>\n      <th>1</th>\n      <td>45.272648</td>\n      <td>-118.610201</td>\n      <td>14</td>\n      <td>5</td>\n      <td>-0.71</td>\n      <td>0.71</td>\n      <td>500.21</td>\n      <td>228</td>\n      <td>3</td>\n      <td>1388</td>\n      <td>218</td>\n      <td>GB</td>\n      <td>150</td>\n      <td>2293</td>\n      <td>30</td>\n      <td>0</td>\n      <td>SMITH-BALLY</td>\n      <td>363</td>\n      <td>0</td>\n    </tr>\n    <tr>\n      <th>2</th>\n      <td>45.272918</td>\n      <td>-118.610208</td>\n      <td>14</td>\n      <td>4</td>\n      <td>-0.89</td>\n      <td>0.45</td>\n      <td>499.93</td>\n      <td>242</td>\n      <td>3</td>\n      <td>1387</td>\n      <td>228</td>\n      <td>GB</td>\n      <td>170</td>\n      <td>2315</td>\n      <td>30</td>\n      <td>0</td>\n      <td>SMITH-BALLY</td>\n      <td>363</td>\n      <td>0</td>\n    </tr>\n    <tr>\n      <th>3</th>\n      <td>45.270224</td>\n      <td>-118.609750</td>\n      <td>14</td>\n      <td>8</td>\n      <td>-0.98</td>\n      <td>0.21</td>\n      <td>500.68</td>\n      <td>201</td>\n      <td>5</td>\n      <td>1393</td>\n      <td>201</td>\n      <td>GB</td>\n      <td>30</td>\n      <td>2081</td>\n      <td>134</td>\n      <td>0</td>\n      <td>SMITH-BALLY</td>\n      <td>363</td>\n      <td>0</td>\n    </tr>\n    <tr>\n      <th>4</th>\n      <td>45.270494</td>\n      <td>-118.609757</td>\n      <td>14</td>\n      <td>7</td>\n      <td>-0.97</td>\n      <td>0.22</td>\n      <td>501.22</td>\n      <td>190</td>\n      <td>5</td>\n      <td>1393</td>\n      <td>190</td>\n      <td>GB</td>\n      <td>30</td>\n      <td>2101</td>\n      <td>108</td>\n      <td>0</td>\n      <td>SMITH-BALLY</td>\n      <td>363</td>\n      <td>0</td>\n    </tr>\n  </tbody>\n</table>\n</div>"
     },
     "execution_count": 5,
     "metadata": {},
     "output_type": "execute_result"
    }
   ],
   "source": [
    "starkey.head()"
   ],
   "metadata": {
    "collapsed": false,
    "pycharm": {
     "name": "#%%\n"
    }
   }
  },
  {
   "cell_type": "code",
   "execution_count": 6,
   "outputs": [],
   "source": [
    "starkey['CowPast'] = starkey['CowPast'].str.strip()\n",
    "starkey['EcoGener'] = starkey['EcoGener'].str.strip()"
   ],
   "metadata": {
    "collapsed": false,
    "pycharm": {
     "name": "#%%\n"
    }
   }
  },
  {
   "cell_type": "code",
   "execution_count": 7,
   "outputs": [],
   "source": [
    "starkey.to_csv('./data/starkey_habitat.csv', index_label=False, index=False)"
   ],
   "metadata": {
    "collapsed": false,
    "pycharm": {
     "name": "#%%\n"
    }
   }
  },
  {
   "cell_type": "code",
   "execution_count": 8,
   "outputs": [
    {
     "data": {
      "text/plain": "         lat         lon  SoilDpth  PerSlope  SINAspct  COSAspct  Convex3  \\\n0  45.272378 -118.610193        14         5     -0.81      0.59   500.63   \n1  45.272648 -118.610201        14         5     -0.71      0.71   500.21   \n2  45.272918 -118.610208        14         4     -0.89      0.45   499.93   \n3  45.270224 -118.609750        14         8     -0.98      0.21   500.68   \n4  45.270494 -118.609757        14         7     -0.97      0.22   501.22   \n\n   DistCWat  Canopy  Elev  DistEWat EcoGener  DistOPEN  DistRSTR  DistCLSD  \\\n0       218       3  1389       212       GB       127      2271        30   \n1       228       3  1388       218       GB       150      2293        30   \n2       242       3  1387       228       GB       170      2315        30   \n3       201       5  1393       201       GB        30      2081       134   \n4       190       5  1393       190       GB        30      2101       108   \n\n   DistEFnc      CowPast  ForgProd  DistEdge  \n0         0  SMITH-BALLY       363         0  \n1         0  SMITH-BALLY       363         0  \n2         0  SMITH-BALLY       363         0  \n3         0  SMITH-BALLY       363         0  \n4         0  SMITH-BALLY       363         0  ",
      "text/html": "<div>\n<style scoped>\n    .dataframe tbody tr th:only-of-type {\n        vertical-align: middle;\n    }\n\n    .dataframe tbody tr th {\n        vertical-align: top;\n    }\n\n    .dataframe thead th {\n        text-align: right;\n    }\n</style>\n<table border=\"1\" class=\"dataframe\">\n  <thead>\n    <tr style=\"text-align: right;\">\n      <th></th>\n      <th>lat</th>\n      <th>lon</th>\n      <th>SoilDpth</th>\n      <th>PerSlope</th>\n      <th>SINAspct</th>\n      <th>COSAspct</th>\n      <th>Convex3</th>\n      <th>DistCWat</th>\n      <th>Canopy</th>\n      <th>Elev</th>\n      <th>DistEWat</th>\n      <th>EcoGener</th>\n      <th>DistOPEN</th>\n      <th>DistRSTR</th>\n      <th>DistCLSD</th>\n      <th>DistEFnc</th>\n      <th>CowPast</th>\n      <th>ForgProd</th>\n      <th>DistEdge</th>\n    </tr>\n  </thead>\n  <tbody>\n    <tr>\n      <th>0</th>\n      <td>45.272378</td>\n      <td>-118.610193</td>\n      <td>14</td>\n      <td>5</td>\n      <td>-0.81</td>\n      <td>0.59</td>\n      <td>500.63</td>\n      <td>218</td>\n      <td>3</td>\n      <td>1389</td>\n      <td>212</td>\n      <td>GB</td>\n      <td>127</td>\n      <td>2271</td>\n      <td>30</td>\n      <td>0</td>\n      <td>SMITH-BALLY</td>\n      <td>363</td>\n      <td>0</td>\n    </tr>\n    <tr>\n      <th>1</th>\n      <td>45.272648</td>\n      <td>-118.610201</td>\n      <td>14</td>\n      <td>5</td>\n      <td>-0.71</td>\n      <td>0.71</td>\n      <td>500.21</td>\n      <td>228</td>\n      <td>3</td>\n      <td>1388</td>\n      <td>218</td>\n      <td>GB</td>\n      <td>150</td>\n      <td>2293</td>\n      <td>30</td>\n      <td>0</td>\n      <td>SMITH-BALLY</td>\n      <td>363</td>\n      <td>0</td>\n    </tr>\n    <tr>\n      <th>2</th>\n      <td>45.272918</td>\n      <td>-118.610208</td>\n      <td>14</td>\n      <td>4</td>\n      <td>-0.89</td>\n      <td>0.45</td>\n      <td>499.93</td>\n      <td>242</td>\n      <td>3</td>\n      <td>1387</td>\n      <td>228</td>\n      <td>GB</td>\n      <td>170</td>\n      <td>2315</td>\n      <td>30</td>\n      <td>0</td>\n      <td>SMITH-BALLY</td>\n      <td>363</td>\n      <td>0</td>\n    </tr>\n    <tr>\n      <th>3</th>\n      <td>45.270224</td>\n      <td>-118.609750</td>\n      <td>14</td>\n      <td>8</td>\n      <td>-0.98</td>\n      <td>0.21</td>\n      <td>500.68</td>\n      <td>201</td>\n      <td>5</td>\n      <td>1393</td>\n      <td>201</td>\n      <td>GB</td>\n      <td>30</td>\n      <td>2081</td>\n      <td>134</td>\n      <td>0</td>\n      <td>SMITH-BALLY</td>\n      <td>363</td>\n      <td>0</td>\n    </tr>\n    <tr>\n      <th>4</th>\n      <td>45.270494</td>\n      <td>-118.609757</td>\n      <td>14</td>\n      <td>7</td>\n      <td>-0.97</td>\n      <td>0.22</td>\n      <td>501.22</td>\n      <td>190</td>\n      <td>5</td>\n      <td>1393</td>\n      <td>190</td>\n      <td>GB</td>\n      <td>30</td>\n      <td>2101</td>\n      <td>108</td>\n      <td>0</td>\n      <td>SMITH-BALLY</td>\n      <td>363</td>\n      <td>0</td>\n    </tr>\n  </tbody>\n</table>\n</div>"
     },
     "execution_count": 8,
     "metadata": {},
     "output_type": "execute_result"
    }
   ],
   "source": [
    "\n",
    "starkey.head()"
   ],
   "metadata": {
    "collapsed": false,
    "pycharm": {
     "name": "#%%\n"
    }
   }
  },
  {
   "cell_type": "code",
   "execution_count": 10,
   "outputs": [
    {
     "data": {
      "text/plain": "             lat         lon  SoilDpth  PerSlope  SINAspct  COSAspct  Convex3  \\\n537    45.289433 -118.607233        29        30      0.91      0.41   499.08   \n538    45.289703 -118.607240        29        24      0.87      0.50   498.36   \n539    45.289973 -118.607248        29        19      0.88      0.47   495.96   \n540    45.290243 -118.607256        29        14      1.00      0.03   496.01   \n541    45.290513 -118.607263        29        16      0.89     -0.45   497.70   \n...          ...         ...       ...       ...       ...       ...      ...   \n85504  45.217027 -118.510817        31        13      0.99      0.12   498.75   \n85505  45.217297 -118.510824        31        12      1.00      0.05   498.09   \n85506  45.217567 -118.510831        31        10      1.00      0.00   498.52   \n85590  45.216492 -118.510420        31        16      1.00     -0.03   499.80   \n85591  45.216762 -118.510428        31        14      1.00      0.00   499.37   \n\n       DistCWat  Canopy  Elev  DistEWat EcoGener  DistOPEN  DistRSTR  \\\n537         -99      10  1252       134       CL        42       182   \n538         -99      10  1249       124       CL        60       190   \n539         -99      10  1245       120       CL        60       201   \n540         -99      10  1244       120       CL        30       216   \n541         -99      10  1245       124       CL         0       234   \n...         ...     ...   ...       ...      ...       ...       ...   \n85504       -99      55  1277        95       CW        60       420   \n85505       -99      55  1276        67       CW        60       390   \n85506       -99      55  1276        42       CW        60       360   \n85590       -99      55  1273       170       CW        30       481   \n85591       -99      55  1273       120       CW        30       451   \n\n       DistCLSD  DistEFnc CowPast  ForgProd  DistEdge  \n537         190         0  MDWCRK       200         0  \n538         182         0  MDWCRK       200         0  \n539         180        30  MDWCRK       200        30  \n540         180        30  MDWCRK       200        30  \n541         180         0  MDWCRK       200         0  \n...         ...       ...     ...       ...       ...  \n85504       301       124   HORSE       309        60  \n85505       331       120   HORSE       309        60  \n85506       361       120   HORSE       309        60  \n85590       240       127   STRIP       309        30  \n85591       270       108   HORSE       309        30  \n\n[2052 rows x 19 columns]",
      "text/html": "<div>\n<style scoped>\n    .dataframe tbody tr th:only-of-type {\n        vertical-align: middle;\n    }\n\n    .dataframe tbody tr th {\n        vertical-align: top;\n    }\n\n    .dataframe thead th {\n        text-align: right;\n    }\n</style>\n<table border=\"1\" class=\"dataframe\">\n  <thead>\n    <tr style=\"text-align: right;\">\n      <th></th>\n      <th>lat</th>\n      <th>lon</th>\n      <th>SoilDpth</th>\n      <th>PerSlope</th>\n      <th>SINAspct</th>\n      <th>COSAspct</th>\n      <th>Convex3</th>\n      <th>DistCWat</th>\n      <th>Canopy</th>\n      <th>Elev</th>\n      <th>DistEWat</th>\n      <th>EcoGener</th>\n      <th>DistOPEN</th>\n      <th>DistRSTR</th>\n      <th>DistCLSD</th>\n      <th>DistEFnc</th>\n      <th>CowPast</th>\n      <th>ForgProd</th>\n      <th>DistEdge</th>\n    </tr>\n  </thead>\n  <tbody>\n    <tr>\n      <th>537</th>\n      <td>45.289433</td>\n      <td>-118.607233</td>\n      <td>29</td>\n      <td>30</td>\n      <td>0.91</td>\n      <td>0.41</td>\n      <td>499.08</td>\n      <td>-99</td>\n      <td>10</td>\n      <td>1252</td>\n      <td>134</td>\n      <td>CL</td>\n      <td>42</td>\n      <td>182</td>\n      <td>190</td>\n      <td>0</td>\n      <td>MDWCRK</td>\n      <td>200</td>\n      <td>0</td>\n    </tr>\n    <tr>\n      <th>538</th>\n      <td>45.289703</td>\n      <td>-118.607240</td>\n      <td>29</td>\n      <td>24</td>\n      <td>0.87</td>\n      <td>0.50</td>\n      <td>498.36</td>\n      <td>-99</td>\n      <td>10</td>\n      <td>1249</td>\n      <td>124</td>\n      <td>CL</td>\n      <td>60</td>\n      <td>190</td>\n      <td>182</td>\n      <td>0</td>\n      <td>MDWCRK</td>\n      <td>200</td>\n      <td>0</td>\n    </tr>\n    <tr>\n      <th>539</th>\n      <td>45.289973</td>\n      <td>-118.607248</td>\n      <td>29</td>\n      <td>19</td>\n      <td>0.88</td>\n      <td>0.47</td>\n      <td>495.96</td>\n      <td>-99</td>\n      <td>10</td>\n      <td>1245</td>\n      <td>120</td>\n      <td>CL</td>\n      <td>60</td>\n      <td>201</td>\n      <td>180</td>\n      <td>30</td>\n      <td>MDWCRK</td>\n      <td>200</td>\n      <td>30</td>\n    </tr>\n    <tr>\n      <th>540</th>\n      <td>45.290243</td>\n      <td>-118.607256</td>\n      <td>29</td>\n      <td>14</td>\n      <td>1.00</td>\n      <td>0.03</td>\n      <td>496.01</td>\n      <td>-99</td>\n      <td>10</td>\n      <td>1244</td>\n      <td>120</td>\n      <td>CL</td>\n      <td>30</td>\n      <td>216</td>\n      <td>180</td>\n      <td>30</td>\n      <td>MDWCRK</td>\n      <td>200</td>\n      <td>30</td>\n    </tr>\n    <tr>\n      <th>541</th>\n      <td>45.290513</td>\n      <td>-118.607263</td>\n      <td>29</td>\n      <td>16</td>\n      <td>0.89</td>\n      <td>-0.45</td>\n      <td>497.70</td>\n      <td>-99</td>\n      <td>10</td>\n      <td>1245</td>\n      <td>124</td>\n      <td>CL</td>\n      <td>0</td>\n      <td>234</td>\n      <td>180</td>\n      <td>0</td>\n      <td>MDWCRK</td>\n      <td>200</td>\n      <td>0</td>\n    </tr>\n    <tr>\n      <th>...</th>\n      <td>...</td>\n      <td>...</td>\n      <td>...</td>\n      <td>...</td>\n      <td>...</td>\n      <td>...</td>\n      <td>...</td>\n      <td>...</td>\n      <td>...</td>\n      <td>...</td>\n      <td>...</td>\n      <td>...</td>\n      <td>...</td>\n      <td>...</td>\n      <td>...</td>\n      <td>...</td>\n      <td>...</td>\n      <td>...</td>\n      <td>...</td>\n    </tr>\n    <tr>\n      <th>85504</th>\n      <td>45.217027</td>\n      <td>-118.510817</td>\n      <td>31</td>\n      <td>13</td>\n      <td>0.99</td>\n      <td>0.12</td>\n      <td>498.75</td>\n      <td>-99</td>\n      <td>55</td>\n      <td>1277</td>\n      <td>95</td>\n      <td>CW</td>\n      <td>60</td>\n      <td>420</td>\n      <td>301</td>\n      <td>124</td>\n      <td>HORSE</td>\n      <td>309</td>\n      <td>60</td>\n    </tr>\n    <tr>\n      <th>85505</th>\n      <td>45.217297</td>\n      <td>-118.510824</td>\n      <td>31</td>\n      <td>12</td>\n      <td>1.00</td>\n      <td>0.05</td>\n      <td>498.09</td>\n      <td>-99</td>\n      <td>55</td>\n      <td>1276</td>\n      <td>67</td>\n      <td>CW</td>\n      <td>60</td>\n      <td>390</td>\n      <td>331</td>\n      <td>120</td>\n      <td>HORSE</td>\n      <td>309</td>\n      <td>60</td>\n    </tr>\n    <tr>\n      <th>85506</th>\n      <td>45.217567</td>\n      <td>-118.510831</td>\n      <td>31</td>\n      <td>10</td>\n      <td>1.00</td>\n      <td>0.00</td>\n      <td>498.52</td>\n      <td>-99</td>\n      <td>55</td>\n      <td>1276</td>\n      <td>42</td>\n      <td>CW</td>\n      <td>60</td>\n      <td>360</td>\n      <td>361</td>\n      <td>120</td>\n      <td>HORSE</td>\n      <td>309</td>\n      <td>60</td>\n    </tr>\n    <tr>\n      <th>85590</th>\n      <td>45.216492</td>\n      <td>-118.510420</td>\n      <td>31</td>\n      <td>16</td>\n      <td>1.00</td>\n      <td>-0.03</td>\n      <td>499.80</td>\n      <td>-99</td>\n      <td>55</td>\n      <td>1273</td>\n      <td>170</td>\n      <td>CW</td>\n      <td>30</td>\n      <td>481</td>\n      <td>240</td>\n      <td>127</td>\n      <td>STRIP</td>\n      <td>309</td>\n      <td>30</td>\n    </tr>\n    <tr>\n      <th>85591</th>\n      <td>45.216762</td>\n      <td>-118.510428</td>\n      <td>31</td>\n      <td>14</td>\n      <td>1.00</td>\n      <td>0.00</td>\n      <td>499.37</td>\n      <td>-99</td>\n      <td>55</td>\n      <td>1273</td>\n      <td>120</td>\n      <td>CW</td>\n      <td>30</td>\n      <td>451</td>\n      <td>270</td>\n      <td>108</td>\n      <td>HORSE</td>\n      <td>309</td>\n      <td>30</td>\n    </tr>\n  </tbody>\n</table>\n<p>2052 rows × 19 columns</p>\n</div>"
     },
     "execution_count": 10,
     "metadata": {},
     "output_type": "execute_result"
    }
   ],
   "source": [],
   "metadata": {
    "collapsed": false,
    "pycharm": {
     "name": "#%%\n"
    }
   }
  },
  {
   "cell_type": "code",
   "execution_count": 9,
   "outputs": [],
   "source": [],
   "metadata": {
    "collapsed": false,
    "pycharm": {
     "name": "#%%\n"
    }
   }
  }
 ],
 "metadata": {
  "kernelspec": {
   "display_name": "Python 3",
   "language": "python",
   "name": "python3"
  },
  "language_info": {
   "codemirror_mode": {
    "name": "ipython",
    "version": 2
   },
   "file_extension": ".py",
   "mimetype": "text/x-python",
   "name": "python",
   "nbconvert_exporter": "python",
   "pygments_lexer": "ipython2",
   "version": "2.7.6"
  }
 },
 "nbformat": 4,
 "nbformat_minor": 0
}