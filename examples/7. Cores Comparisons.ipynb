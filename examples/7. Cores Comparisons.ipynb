{
 "cells": [
  {
   "cell_type": "markdown",
   "metadata": {
    "collapsed": true,
    "pycharm": {
     "name": "#%% md\n"
    }
   },
   "source": [
    "<h1> PTRAIL:  A <b><i>P</i></b>arallel\n",
    "<b><i>TR</i></b>ajectory\n",
    "d<b><i>A</i></b>ta\n",
    "preprocess<b><i>I</i></b>ng\n",
    "<b><i>L</i></b>ibrary\n",
    "</h1>\n",
    "\n",
    "<h2> CPU Cores Comparisons </h2>\n",
    "\n",
    "<p align='justify'>\n",
    "This Jupyter Notebook compares the working of PTRAIL\n",
    "with different number of cores. The purpose of showing such examples\n",
    "is as follows:\n",
    "\n",
    "<ol align='justify'>\n",
    "    <li> It shows how the use of\n",
    "         parallelization has helped in speeding up the execution\n",
    "         of code.\n",
    "    </li>\n",
    "    <li> It also tries to find the ideal number or proportion of\n",
    "         cores that will help in improving the execution time\n",
    "         even more.\n",
    "    </li>\n",
    "    <li> Finally, it also demonstrates that as Number of unique\n",
    "         trajectories in the dataframe increases, the speed up\n",
    "         also increases if more number of CPU cores are available\n",
    "         for processing the data.\n",
    "    </li>\n",
    "</ol>\n",
    "</p>\n",
    "\n",
    "<hr style=\"height:6px;background-color:black\">\n",
    "\n",
    "<!--------------- Dataset Section --------------------------->\n",
    "<p align='justify'>\n",
    "In this Jupyter Notebook containing comparisons, the following\n",
    "dataset are used:\n",
    "    <ul>\n",
    "        <li> <a href=\"https://github.com/YakshHaranwala/PTRAIL/blob/main/examples/data/gulls.csv\"> Seagulls Dataset </a> </li>\n",
    "        <li> <a href=\"https://github.com/YakshHaranwala/PTRAIL/blob/main/examples/data/gulls.csv\"> Seagulls Dataset </a> </li>\n",
    "        <li> <a href=\"https://github.com/YakshHaranwala/PTRAIL/blob/main/examples/data/atlantic.csv\"> Hurricane Dataset </a> </li>\n",
    "    </ul>\n",
    "</p>\n",
    "<hr style=\"height:6px;background-color:black\">\n",
    "<!--------------- NB-Viewer Link ----------------------------->\n",
    "<p align='justify'>\n",
    "Note: Viewing this notebook in GitHub will not render JavaScript\n",
    "elements. Hence, for a better experience, click the link below\n",
    "to open the Jupyter notebook in NB viewer.\n",
    "\n",
    "<span> &#8618; </span>\n",
    "<a href=\"https://nbviewer.jupyter.org/github/YakshHaranwala/PTRAIL/blob/main/examples/6.%20PyMove_Comparisons.ipynb\" target='_blank'> Click Here </a>\n",
    "</p>\n",
    "</html>"
   ]
  },
  {
   "cell_type": "markdown",
   "source": [
    "<p align='justify'>\n",
    "    NOTE: It is to be noted that the Spatial functions used here\n",
    "          are modified for the purposes of testing. The modifications\n",
    "          include the number of CPU cores being variable. However,\n",
    "          the actual library does not contain the changes yet and\n",
    "          such feature implementation will be thought of in future\n",
    "          after carful considerations and will be provided if it is\n",
    "          deemed necessary and reasonable.\n",
    "          <br><br>\n",
    "    After extensive testing of all the various configurations\n",
    "    of the number of CPU cores, the following conclusions\n",
    "    can be draw from them:\n",
    "\n",
    "<ul align='justify'>\n",
    "    <li> The best execution times result when the number of cores\n",
    "         being used is 2/3rds of the total number of cores\n",
    "         available in the machine.\n",
    "    </li>\n",
    "    <li> As a result, all the features in the library are optimised\n",
    "         to make the best use of the results from this experiment.\n",
    "    </li>\n",
    "</ul>\n",
    "</p>"
   ],
   "metadata": {
    "collapsed": false
   }
  },
  {
   "cell_type": "code",
   "execution_count": 1,
   "outputs": [],
   "source": [
    "# First, lets import all the necessary modules in order\n",
    "# read the datasets from the CSV file and represent them\n",
    "# using the PTRAILDataFrame DataFrame.\n",
    "\n",
    "from ptrail.core.TrajectoryDF import PTRAILDataFrame\n",
    "import pandas as pd\n",
    "from ptrail.utilities.conversions import Conversions as con\n",
    "from time import time\n",
    "from ptrail.features.spatial_features import SpatialFeatures as spatial\n",
    "\n",
    "processors = [1, 2, 4, 8, 11]"
   ],
   "metadata": {
    "collapsed": false,
    "pycharm": {
     "name": "#%%\n"
    }
   }
  },
  {
   "cell_type": "code",
   "execution_count": 2,
   "outputs": [
    {
     "name": "stdout",
     "output_type": "stream",
     "text": [
      "<class 'core.TrajectoryDF.NumPandasTraj'>\n"
     ]
    },
    {
     "data": {
      "text/plain": "                                   lat         lon\ntraj_id DateTime                                  \n1       2008-10-23 05:53:11  39.984224  116.319402\n        2008-10-23 05:53:16  39.984211  116.319389\n        2008-10-23 05:53:21  39.984217  116.319422\n        2008-10-23 05:53:23  39.984710  116.319865\n        2008-10-23 05:53:28  39.984674  116.319810",
      "text/html": "<div>\n<style scoped>\n    .dataframe tbody tr th:only-of-type {\n        vertical-align: middle;\n    }\n\n    .dataframe tbody tr th {\n        vertical-align: top;\n    }\n\n    .dataframe thead th {\n        text-align: right;\n    }\n</style>\n<table border=\"1\" class=\"dataframe\">\n  <thead>\n    <tr style=\"text-align: right;\">\n      <th></th>\n      <th></th>\n      <th>lat</th>\n      <th>lon</th>\n    </tr>\n    <tr>\n      <th>traj_id</th>\n      <th>DateTime</th>\n      <th></th>\n      <th></th>\n    </tr>\n  </thead>\n  <tbody>\n    <tr>\n      <th rowspan=\"5\" valign=\"top\">1</th>\n      <th>2008-10-23 05:53:11</th>\n      <td>39.984224</td>\n      <td>116.319402</td>\n    </tr>\n    <tr>\n      <th>2008-10-23 05:53:16</th>\n      <td>39.984211</td>\n      <td>116.319389</td>\n    </tr>\n    <tr>\n      <th>2008-10-23 05:53:21</th>\n      <td>39.984217</td>\n      <td>116.319422</td>\n    </tr>\n    <tr>\n      <th>2008-10-23 05:53:23</th>\n      <td>39.984710</td>\n      <td>116.319865</td>\n    </tr>\n    <tr>\n      <th>2008-10-23 05:53:28</th>\n      <td>39.984674</td>\n      <td>116.319810</td>\n    </tr>\n  </tbody>\n</table>\n</div>"
     },
     "execution_count": 2,
     "metadata": {},
     "output_type": "execute_result"
    }
   ],
   "source": [
    "# First, read all the csv files using pandas and store\n",
    "# them in pandas dataframe. Then, converting them all to\n",
    "# PTRAILDataFrame and then viewing the head of the PTRAILDataFrame\n",
    "# DataFrame as well as the type of the DataFrame.\n",
    "\n",
    "# 1. Geolife Dataset\n",
    "pd_geolife = pd.read_csv('./data/geolife_sample.csv')\n",
    "np_geolife = PTRAILDataFrame(data_set=pd_geolife,\n",
    "                             latitude='lat',\n",
    "                             longitude='lon',\n",
    "                             datetime='datetime',\n",
    "                             traj_id='id')\n",
    "print(type(np_geolife))\n",
    "np_geolife.head()"
   ],
   "metadata": {
    "collapsed": false,
    "pycharm": {
     "name": "#%%\n"
    }
   }
  },
  {
   "cell_type": "code",
   "execution_count": 3,
   "outputs": [
    {
     "name": "stdout",
     "output_type": "stream",
     "text": [
      "<class 'core.TrajectoryDF.NumPandasTraj'>\n"
     ]
    },
    {
     "data": {
      "text/plain": "                               event-id  visible       lon       lat  \\\ntraj_id DateTime                                                       \n91732   2009-05-27 14:00:00  1082620685     True  24.58617  61.24783   \n        2009-05-27 20:00:00  1082620686     True  24.58217  61.23267   \n        2009-05-28 05:00:00  1082620687     True  24.53133  61.18833   \n        2009-05-28 08:00:00  1082620688     True  24.58200  61.23283   \n        2009-05-28 14:00:00  1082620689     True  24.58250  61.23267   \n\n                            sensor-type individual-taxon-canonical-name  \\\ntraj_id DateTime                                                          \n91732   2009-05-27 14:00:00         gps                    Larus fuscus   \n        2009-05-27 20:00:00         gps                    Larus fuscus   \n        2009-05-28 05:00:00         gps                    Larus fuscus   \n        2009-05-28 08:00:00         gps                    Larus fuscus   \n        2009-05-28 14:00:00         gps                    Larus fuscus   \n\n                            individual-local-identifier  \\\ntraj_id DateTime                                          \n91732   2009-05-27 14:00:00                      91732A   \n        2009-05-27 20:00:00                      91732A   \n        2009-05-28 05:00:00                      91732A   \n        2009-05-28 08:00:00                      91732A   \n        2009-05-28 14:00:00                      91732A   \n\n                                                                    study-name  \ntraj_id DateTime                                                                \n91732   2009-05-27 14:00:00  Navigation experiments in lesser black-backed ...  \n        2009-05-27 20:00:00  Navigation experiments in lesser black-backed ...  \n        2009-05-28 05:00:00  Navigation experiments in lesser black-backed ...  \n        2009-05-28 08:00:00  Navigation experiments in lesser black-backed ...  \n        2009-05-28 14:00:00  Navigation experiments in lesser black-backed ...  ",
      "text/html": "<div>\n<style scoped>\n    .dataframe tbody tr th:only-of-type {\n        vertical-align: middle;\n    }\n\n    .dataframe tbody tr th {\n        vertical-align: top;\n    }\n\n    .dataframe thead th {\n        text-align: right;\n    }\n</style>\n<table border=\"1\" class=\"dataframe\">\n  <thead>\n    <tr style=\"text-align: right;\">\n      <th></th>\n      <th></th>\n      <th>event-id</th>\n      <th>visible</th>\n      <th>lon</th>\n      <th>lat</th>\n      <th>sensor-type</th>\n      <th>individual-taxon-canonical-name</th>\n      <th>individual-local-identifier</th>\n      <th>study-name</th>\n    </tr>\n    <tr>\n      <th>traj_id</th>\n      <th>DateTime</th>\n      <th></th>\n      <th></th>\n      <th></th>\n      <th></th>\n      <th></th>\n      <th></th>\n      <th></th>\n      <th></th>\n    </tr>\n  </thead>\n  <tbody>\n    <tr>\n      <th rowspan=\"5\" valign=\"top\">91732</th>\n      <th>2009-05-27 14:00:00</th>\n      <td>1082620685</td>\n      <td>True</td>\n      <td>24.58617</td>\n      <td>61.24783</td>\n      <td>gps</td>\n      <td>Larus fuscus</td>\n      <td>91732A</td>\n      <td>Navigation experiments in lesser black-backed ...</td>\n    </tr>\n    <tr>\n      <th>2009-05-27 20:00:00</th>\n      <td>1082620686</td>\n      <td>True</td>\n      <td>24.58217</td>\n      <td>61.23267</td>\n      <td>gps</td>\n      <td>Larus fuscus</td>\n      <td>91732A</td>\n      <td>Navigation experiments in lesser black-backed ...</td>\n    </tr>\n    <tr>\n      <th>2009-05-28 05:00:00</th>\n      <td>1082620687</td>\n      <td>True</td>\n      <td>24.53133</td>\n      <td>61.18833</td>\n      <td>gps</td>\n      <td>Larus fuscus</td>\n      <td>91732A</td>\n      <td>Navigation experiments in lesser black-backed ...</td>\n    </tr>\n    <tr>\n      <th>2009-05-28 08:00:00</th>\n      <td>1082620688</td>\n      <td>True</td>\n      <td>24.58200</td>\n      <td>61.23283</td>\n      <td>gps</td>\n      <td>Larus fuscus</td>\n      <td>91732A</td>\n      <td>Navigation experiments in lesser black-backed ...</td>\n    </tr>\n    <tr>\n      <th>2009-05-28 14:00:00</th>\n      <td>1082620689</td>\n      <td>True</td>\n      <td>24.58250</td>\n      <td>61.23267</td>\n      <td>gps</td>\n      <td>Larus fuscus</td>\n      <td>91732A</td>\n      <td>Navigation experiments in lesser black-backed ...</td>\n    </tr>\n  </tbody>\n</table>\n</div>"
     },
     "execution_count": 3,
     "metadata": {},
     "output_type": "execute_result"
    }
   ],
   "source": [
    "# 2. Seagulls Dataset.\n",
    "pd_gulls = pd.read_csv('./data/gulls.csv')\n",
    "np_gulls = PTRAILDataFrame(data_set=pd_gulls,\n",
    "                         latitude='location-lat',\n",
    "                         longitude='location-long',\n",
    "                         datetime='timestamp',\n",
    "                         traj_id='tag-local-identifier',\n",
    "                         rest_of_columns=[])\n",
    "print(type(np_gulls))\n",
    "np_gulls.head()"
   ],
   "metadata": {
    "collapsed": false,
    "pycharm": {
     "name": "#%%\n"
    }
   }
  },
  {
   "cell_type": "code",
   "execution_count": 4,
   "outputs": [
    {
     "name": "stdout",
     "output_type": "stream",
     "text": [
      "<class 'core.TrajectoryDF.NumPandasTraj'>\n"
     ]
    },
    {
     "data": {
      "text/plain": "                                             Name      Date  Time Event  \\\ntraj_id  DateTime                                                         \nAL011851 1851-06-25 00:00:00              UNNAMED  18510625     0         \n         1851-06-25 06:00:00              UNNAMED  18510625   600         \n         1851-06-25 12:00:00              UNNAMED  18510625  1200         \n         1851-06-25 18:00:00              UNNAMED  18510625  1800         \n         1851-06-25 21:00:00              UNNAMED  18510625  2100     L   \n\n                             Status   lat   lon  Maximum Wind  \\\ntraj_id  DateTime                                               \nAL011851 1851-06-25 00:00:00     HU  28.0 -94.8            80   \n         1851-06-25 06:00:00     HU  28.0 -95.4            80   \n         1851-06-25 12:00:00     HU  28.0 -96.0            80   \n         1851-06-25 18:00:00     HU  28.1 -96.5            80   \n         1851-06-25 21:00:00     HU  28.2 -96.8            80   \n\n                              Minimum Pressure  Low Wind NE  ...  Low Wind SW  \\\ntraj_id  DateTime                                            ...                \nAL011851 1851-06-25 00:00:00              -999         -999  ...         -999   \n         1851-06-25 06:00:00              -999         -999  ...         -999   \n         1851-06-25 12:00:00              -999         -999  ...         -999   \n         1851-06-25 18:00:00              -999         -999  ...         -999   \n         1851-06-25 21:00:00              -999         -999  ...         -999   \n\n                              Low Wind NW  Moderate Wind NE  Moderate Wind SE  \\\ntraj_id  DateTime                                                               \nAL011851 1851-06-25 00:00:00         -999              -999              -999   \n         1851-06-25 06:00:00         -999              -999              -999   \n         1851-06-25 12:00:00         -999              -999              -999   \n         1851-06-25 18:00:00         -999              -999              -999   \n         1851-06-25 21:00:00         -999              -999              -999   \n\n                              Moderate Wind SW  Moderate Wind NW  \\\ntraj_id  DateTime                                                  \nAL011851 1851-06-25 00:00:00              -999              -999   \n         1851-06-25 06:00:00              -999              -999   \n         1851-06-25 12:00:00              -999              -999   \n         1851-06-25 18:00:00              -999              -999   \n         1851-06-25 21:00:00              -999              -999   \n\n                              High Wind NE  High Wind SE  High Wind SW  \\\ntraj_id  DateTime                                                        \nAL011851 1851-06-25 00:00:00          -999          -999          -999   \n         1851-06-25 06:00:00          -999          -999          -999   \n         1851-06-25 12:00:00          -999          -999          -999   \n         1851-06-25 18:00:00          -999          -999          -999   \n         1851-06-25 21:00:00          -999          -999          -999   \n\n                              High Wind NW  \ntraj_id  DateTime                           \nAL011851 1851-06-25 00:00:00          -999  \n         1851-06-25 06:00:00          -999  \n         1851-06-25 12:00:00          -999  \n         1851-06-25 18:00:00          -999  \n         1851-06-25 21:00:00          -999  \n\n[5 rows x 21 columns]",
      "text/html": "<div>\n<style scoped>\n    .dataframe tbody tr th:only-of-type {\n        vertical-align: middle;\n    }\n\n    .dataframe tbody tr th {\n        vertical-align: top;\n    }\n\n    .dataframe thead th {\n        text-align: right;\n    }\n</style>\n<table border=\"1\" class=\"dataframe\">\n  <thead>\n    <tr style=\"text-align: right;\">\n      <th></th>\n      <th></th>\n      <th>Name</th>\n      <th>Date</th>\n      <th>Time</th>\n      <th>Event</th>\n      <th>Status</th>\n      <th>lat</th>\n      <th>lon</th>\n      <th>Maximum Wind</th>\n      <th>Minimum Pressure</th>\n      <th>Low Wind NE</th>\n      <th>...</th>\n      <th>Low Wind SW</th>\n      <th>Low Wind NW</th>\n      <th>Moderate Wind NE</th>\n      <th>Moderate Wind SE</th>\n      <th>Moderate Wind SW</th>\n      <th>Moderate Wind NW</th>\n      <th>High Wind NE</th>\n      <th>High Wind SE</th>\n      <th>High Wind SW</th>\n      <th>High Wind NW</th>\n    </tr>\n    <tr>\n      <th>traj_id</th>\n      <th>DateTime</th>\n      <th></th>\n      <th></th>\n      <th></th>\n      <th></th>\n      <th></th>\n      <th></th>\n      <th></th>\n      <th></th>\n      <th></th>\n      <th></th>\n      <th></th>\n      <th></th>\n      <th></th>\n      <th></th>\n      <th></th>\n      <th></th>\n      <th></th>\n      <th></th>\n      <th></th>\n      <th></th>\n      <th></th>\n    </tr>\n  </thead>\n  <tbody>\n    <tr>\n      <th rowspan=\"5\" valign=\"top\">AL011851</th>\n      <th>1851-06-25 00:00:00</th>\n      <td>UNNAMED</td>\n      <td>18510625</td>\n      <td>0</td>\n      <td></td>\n      <td>HU</td>\n      <td>28.0</td>\n      <td>-94.8</td>\n      <td>80</td>\n      <td>-999</td>\n      <td>-999</td>\n      <td>...</td>\n      <td>-999</td>\n      <td>-999</td>\n      <td>-999</td>\n      <td>-999</td>\n      <td>-999</td>\n      <td>-999</td>\n      <td>-999</td>\n      <td>-999</td>\n      <td>-999</td>\n      <td>-999</td>\n    </tr>\n    <tr>\n      <th>1851-06-25 06:00:00</th>\n      <td>UNNAMED</td>\n      <td>18510625</td>\n      <td>600</td>\n      <td></td>\n      <td>HU</td>\n      <td>28.0</td>\n      <td>-95.4</td>\n      <td>80</td>\n      <td>-999</td>\n      <td>-999</td>\n      <td>...</td>\n      <td>-999</td>\n      <td>-999</td>\n      <td>-999</td>\n      <td>-999</td>\n      <td>-999</td>\n      <td>-999</td>\n      <td>-999</td>\n      <td>-999</td>\n      <td>-999</td>\n      <td>-999</td>\n    </tr>\n    <tr>\n      <th>1851-06-25 12:00:00</th>\n      <td>UNNAMED</td>\n      <td>18510625</td>\n      <td>1200</td>\n      <td></td>\n      <td>HU</td>\n      <td>28.0</td>\n      <td>-96.0</td>\n      <td>80</td>\n      <td>-999</td>\n      <td>-999</td>\n      <td>...</td>\n      <td>-999</td>\n      <td>-999</td>\n      <td>-999</td>\n      <td>-999</td>\n      <td>-999</td>\n      <td>-999</td>\n      <td>-999</td>\n      <td>-999</td>\n      <td>-999</td>\n      <td>-999</td>\n    </tr>\n    <tr>\n      <th>1851-06-25 18:00:00</th>\n      <td>UNNAMED</td>\n      <td>18510625</td>\n      <td>1800</td>\n      <td></td>\n      <td>HU</td>\n      <td>28.1</td>\n      <td>-96.5</td>\n      <td>80</td>\n      <td>-999</td>\n      <td>-999</td>\n      <td>...</td>\n      <td>-999</td>\n      <td>-999</td>\n      <td>-999</td>\n      <td>-999</td>\n      <td>-999</td>\n      <td>-999</td>\n      <td>-999</td>\n      <td>-999</td>\n      <td>-999</td>\n      <td>-999</td>\n    </tr>\n    <tr>\n      <th>1851-06-25 21:00:00</th>\n      <td>UNNAMED</td>\n      <td>18510625</td>\n      <td>2100</td>\n      <td>L</td>\n      <td>HU</td>\n      <td>28.2</td>\n      <td>-96.8</td>\n      <td>80</td>\n      <td>-999</td>\n      <td>-999</td>\n      <td>...</td>\n      <td>-999</td>\n      <td>-999</td>\n      <td>-999</td>\n      <td>-999</td>\n      <td>-999</td>\n      <td>-999</td>\n      <td>-999</td>\n      <td>-999</td>\n      <td>-999</td>\n      <td>-999</td>\n    </tr>\n  </tbody>\n</table>\n<p>5 rows × 21 columns</p>\n</div>"
     },
     "execution_count": 4,
     "metadata": {},
     "output_type": "execute_result"
    }
   ],
   "source": [
    "# 3. Atlantic Hurricanes. It is to be noted that apart from reading\n",
    "# the csv file, some columns of the Hurricane Dataset are also\n",
    "# to be manipulated in order to be stored as PTRAILDataFrame.\n",
    "pd_atlantic = pd.read_csv('./data/atlantic.csv')\n",
    "pd_atlantic = con.convert_directions_to_degree_lat_lon(pd_atlantic, 'Latitude',\"Longitude\")\n",
    "def convert_to_datetime(row):\n",
    "        this_date = '{}-{}-{}'.format(str(row['Date'])[0:4], str(row['Date'])[4:6], str(row['Date'])[6:])\n",
    "        this_time = '{:02d}:{:02d}:00'.format(int(row['Time']/100), int(str(row['Time'])[-2:]))\n",
    "        return '{} {}'.format(this_date, this_time)\n",
    "pd_atlantic['DateTime'] = pd_atlantic.apply(convert_to_datetime, axis=1)\n",
    "\n",
    "np_atlantic = PTRAILDataFrame(pd_atlantic,\n",
    "                            latitude='Latitude',\n",
    "                            longitude='Longitude',\n",
    "                            datetime='DateTime',\n",
    "                            traj_id='ID',\n",
    "                            rest_of_columns=[])\n",
    "print(type(np_atlantic))\n",
    "np_atlantic.head()"
   ],
   "metadata": {
    "collapsed": false,
    "pycharm": {
     "name": "#%%\n"
    }
   }
  },
  {
   "cell_type": "code",
   "execution_count": 5,
   "outputs": [],
   "source": [
    "\"\"\"\n",
    "    First of all, here seagulls dataset is used to perform\n",
    "    the following experimental steps:\n",
    "        1. Calculation of 3 spatial functions with\n",
    "           variable number of CPU cores.\n",
    "        2. Plotting the Execution time vs Number of CPU cores\n",
    "           used to demonstrate the speedup gain as the number\n",
    "           of CPUs increase.\n",
    "\"\"\"\n",
    "\n",
    "spatial_gulls_times = []\n",
    "\n",
    "# Calculate the following features 20 times using 1 processor:\n",
    "#   1. Distance_prev_to_curr.\n",
    "#   2. Distance_start_to_curr.\n",
    "#   3. Bearing_between_consecutive.\n",
    "t1 = time()\n",
    "for i in range(20):\n",
    "    spatial_gulls = spatial.create_distance_between_consecutive_column(np_gulls, cpu_count=1)\n",
    "    spatial_gulls = spatial.create_distance_from_start_column(spatial_gulls, cpu_count=1)\n",
    "    spatial_gulls = spatial.create_bearing_column(spatial_gulls, cpu_count=1)\n",
    "t2 = time()\n",
    "spatial_gulls_times.append(t2 - t1)"
   ],
   "metadata": {
    "collapsed": false,
    "pycharm": {
     "name": "#%%\n"
    }
   }
  },
  {
   "cell_type": "code",
   "execution_count": 6,
   "outputs": [],
   "source": [
    "# Using 2 Processors.\n",
    "t1 = time()\n",
    "for i in range(20):\n",
    "    spatial_gulls = spatial.create_distance_between_consecutive_column(np_gulls, cpu_count=2)\n",
    "    spatial_gulls = spatial.create_distance_from_start_column(spatial_gulls, cpu_count= 2)\n",
    "    spatial_gulls = spatial.create_bearing_column(spatial_gulls, cpu_count=2)\n",
    "t2 = time()\n",
    "spatial_gulls_times.append(t2 - t1)"
   ],
   "metadata": {
    "collapsed": false,
    "pycharm": {
     "name": "#%%\n"
    }
   }
  },
  {
   "cell_type": "code",
   "execution_count": 7,
   "outputs": [],
   "source": [
    "# Using 4 processors:\n",
    "t1 = time()\n",
    "for i in range(20):\n",
    "    spatial_gulls = spatial.create_distance_between_consecutive_column(np_gulls, cpu_count=4)\n",
    "    spatial_gulls = spatial.create_distance_from_start_column(spatial_gulls, cpu_count= 4)\n",
    "    spatial_gulls = spatial.create_bearing_column(spatial_gulls, cpu_count=4)\n",
    "t2 = time()\n",
    "spatial_gulls_times.append(t2 - t1)"
   ],
   "metadata": {
    "collapsed": false,
    "pycharm": {
     "name": "#%%\n"
    }
   }
  },
  {
   "cell_type": "code",
   "execution_count": 8,
   "outputs": [],
   "source": [
    "# Using 8 processors:\n",
    "t1 = time()\n",
    "for i in range(20):\n",
    "    spatial_gulls = spatial.create_distance_between_consecutive_column(np_gulls, cpu_count=8)\n",
    "    spatial_gulls = spatial.create_distance_from_start_column(spatial_gulls, cpu_count= 8)\n",
    "    spatial_gulls = spatial.create_bearing_column(spatial_gulls, cpu_count=8)\n",
    "t2 = time()\n",
    "spatial_gulls_times.append(t2 - t1)"
   ],
   "metadata": {
    "collapsed": false,
    "pycharm": {
     "name": "#%%\n"
    }
   }
  },
  {
   "cell_type": "code",
   "execution_count": 9,
   "outputs": [],
   "source": [
    "# Using 12 processors:\n",
    "t1 = time()\n",
    "for i in range(20):\n",
    "    spatial_gulls = spatial.create_distance_between_consecutive_column(np_gulls, cpu_count=12)\n",
    "    spatial_gulls = spatial.create_distance_from_start_column(spatial_gulls, cpu_count= 12)\n",
    "    spatial_gulls = spatial.create_bearing_column(spatial_gulls, cpu_count=12)\n",
    "t2 = time()\n",
    "spatial_gulls_times.append(t2 - t1)"
   ],
   "metadata": {
    "collapsed": false,
    "pycharm": {
     "name": "#%%\n"
    }
   }
  },
  {
   "cell_type": "code",
   "execution_count": 10,
   "outputs": [
    {
     "name": "stdout",
     "output_type": "stream",
     "text": [
      "[37.65512037277222, 22.799370765686035, 23.336839199066162, 19.78929352760315, 27.508859395980835]\n"
     ]
    },
    {
     "data": {
      "text/plain": "Text(0, 0.5, 'Execution Time (s)')"
     },
     "execution_count": 10,
     "metadata": {},
     "output_type": "execute_result"
    },
    {
     "data": {
      "text/plain": "<Figure size 432x288 with 1 Axes>",
      "image/png": "[encoded data removed]"
     },
     "metadata": {
      "needs_background": "light"
     },
     "output_type": "display_data"
    }
   ],
   "source": [
    "import matplotlib.pyplot as plt\n",
    "print(spatial_gulls_times)\n",
    "plt.plot(processors,\n",
    "         spatial_gulls_times)\n",
    "plt.title('Spatial Features using variable number of cores',\n",
    "          color='black', size=15)\n",
    "plt.xlabel('Number of CPU cores', color='grey', size=12)\n",
    "plt.ylabel('Execution Time (s)', color='grey', size=12)\n"
   ],
   "metadata": {
    "collapsed": false,
    "pycharm": {
     "name": "#%%\n"
    }
   }
  },
  {
   "cell_type": "code",
   "execution_count": 11,
   "outputs": [],
   "source": [
    "spatial_atlantic_times = []\n",
    "\n",
    "# Calculate the following features 20 times using 1 processor for\n",
    "# atlantic Dataset:\n",
    "#   1. Distance_prev_to_curr.\n",
    "#   2. Distance_start_to_curr.\n",
    "#   3. Bearing_between_consecutive.\n",
    "t1 = time()\n",
    "for i in range(20):\n",
    "    spatial_atlantic = spatial.create_distance_between_consecutive_column(np_atlantic, cpu_count=1)\n",
    "    spatial_atlantic = spatial.create_distance_from_start_column(spatial_atlantic, cpu_count=1)\n",
    "    spatial_atlantic = spatial.create_bearing_column(spatial_atlantic, cpu_count=1)\n",
    "t2 = time()\n",
    "spatial_atlantic_times.append(t2 - t1)"
   ],
   "metadata": {
    "collapsed": false,
    "pycharm": {
     "name": "#%%\n"
    }
   }
  },
  {
   "cell_type": "code",
   "execution_count": 12,
   "outputs": [],
   "source": [
    "# Using 2 processors:\n",
    "t1 = time()\n",
    "for i in range(20):\n",
    "    spatial_atlantic = spatial.create_distance_between_consecutive_column(np_atlantic, cpu_count=2)\n",
    "    spatial_atlantic = spatial.create_distance_from_start_column(spatial_atlantic, cpu_count= 2)\n",
    "    spatial_atlantic = spatial.create_bearing_column(spatial_atlantic, cpu_count=2)\n",
    "t2 = time()\n",
    "spatial_atlantic_times.append(t2 - t1)"
   ],
   "metadata": {
    "collapsed": false,
    "pycharm": {
     "name": "#%%\n"
    }
   }
  },
  {
   "cell_type": "code",
   "execution_count": 13,
   "outputs": [],
   "source": [
    "# Using 4 processors:\n",
    "t1 = time()\n",
    "for i in range(20):\n",
    "    spatial_atlantic = spatial.create_distance_between_consecutive_column(np_atlantic, cpu_count=4)\n",
    "    spatial_gulls = spatial.create_distance_from_start_column(spatial_atlantic, cpu_count= 4)\n",
    "    spatial_atlantic = spatial.create_bearing_column(spatial_atlantic, cpu_count=4)\n",
    "t2 = time()\n",
    "spatial_atlantic_times.append(t2 - t1)"
   ],
   "metadata": {
    "collapsed": false,
    "pycharm": {
     "name": "#%%\n"
    }
   }
  },
  {
   "cell_type": "code",
   "execution_count": 14,
   "outputs": [],
   "source": [
    "# Using 8 processors:\n",
    "t1 = time()\n",
    "for i in range(20):\n",
    "    spatial_atlantic = spatial.create_distance_between_consecutive_column(np_atlantic, cpu_count=8)\n",
    "    spatial_gulls = spatial.create_distance_from_start_column(spatial_atlantic, cpu_count= 8)\n",
    "    spatial_atlantic = spatial.create_bearing_column(spatial_atlantic, cpu_count=8)\n",
    "t2 = time()\n",
    "spatial_atlantic_times.append(t2 - t1)"
   ],
   "metadata": {
    "collapsed": false,
    "pycharm": {
     "name": "#%%\n"
    }
   }
  },
  {
   "cell_type": "code",
   "execution_count": 15,
   "outputs": [],
   "source": [
    "# Using 12 processors:\n",
    "t1 = time()\n",
    "for i in range(20):\n",
    "    spatial_atlantic = spatial.create_distance_between_consecutive_column(np_atlantic, cpu_count=12)\n",
    "    spatial_atlantic = spatial.create_distance_from_start_column(spatial_atlantic, cpu_count= 12)\n",
    "    spatial_atlantic = spatial.create_bearing_column(spatial_atlantic, cpu_count=12)\n",
    "t2 = time()\n",
    "spatial_atlantic_times.append(t2 - t1)"
   ],
   "metadata": {
    "collapsed": false,
    "pycharm": {
     "name": "#%%\n"
    }
   }
  },
  {
   "cell_type": "code",
   "execution_count": 16,
   "outputs": [
    {
     "name": "stdout",
     "output_type": "stream",
     "text": [
      "[162.94160223007202, 85.02516770362854, 70.74139785766602, 53.978840827941895, 55.43101668357849]\n"
     ]
    },
    {
     "data": {
      "text/plain": "Text(0, 0.5, 'Execution Time (s)')"
     },
     "execution_count": 16,
     "metadata": {},
     "output_type": "execute_result"
    },
    {
     "data": {
      "text/plain": "<Figure size 432x288 with 1 Axes>",
      "image/png": "[encoded data removed]"
     },
     "metadata": {
      "needs_background": "light"
     },
     "output_type": "display_data"
    }
   ],
   "source": [
    "import matplotlib.pyplot as plt\n",
    "print(spatial_atlantic_times)\n",
    "plt.plot(processors,\n",
    "         spatial_atlantic_times)\n",
    "plt.title('Spatial Features using variable number of cores',\n",
    "          color='black', size=15)\n",
    "plt.xlabel('Number of CPU cores', color='grey', size=12)\n",
    "plt.ylabel('Execution Time (s)', color='grey', size=12)\n",
    "\n"
   ],
   "metadata": {
    "collapsed": false,
    "pycharm": {
     "name": "#%%\n"
    }
   }
  }
 ],
 "metadata": {
  "kernelspec": {
   "display_name": "Python 3",
   "language": "python",
   "name": "python3"
  },
  "language_info": {
   "codemirror_mode": {
    "name": "ipython",
    "version": 2
   },
   "file_extension": ".py",
   "mimetype": "text/x-python",
   "name": "python",
   "nbconvert_exporter": "python",
   "pygments_lexer": "ipython2",
   "version": "2.7.6"
  }
 },
 "nbformat": 4,
 "nbformat_minor": 0
}