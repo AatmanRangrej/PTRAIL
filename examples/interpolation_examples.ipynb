{
 "cells": [
  {
   "cell_type": "code",
   "execution_count": 1,
   "metadata": {
    "collapsed": true
   },
   "outputs": [],
   "source": [
    "import pymove as pm\n",
    "import pandas as pd\n",
    "import numpy as np\n",
    "import utilities.constants as const\n",
    "from core.TrajectoryDF import NumPandasTraj as TrajDF\n",
    "from preprocessing.filters import Filters as filt\n",
    "from features.spatial_features import SpatialFeatures as spatial\n",
    "from utilities.conversions import Conversions as con\n",
    "from preprocessing.interpolation import Interpolate as ip"
   ]
  },
  {
   "cell_type": "code",
   "execution_count": 2,
   "outputs": [],
   "source": [
    "atlantic = pd.read_csv('./data/atlantic.csv')\n",
    "atlantic = con.convert_directions_to_degree_lat_lon(atlantic, 'Latitude',\"Longitude\")\n",
    "def convert_to_datetime(row):\n",
    "        this_date = '{}-{}-{}'.format(str(row['Date'])[0:4], str(row['Date'])[4:6], str(row['Date'])[6:])\n",
    "        this_time = '{:02d}:{:02d}:00'.format(int(row['Time']/100), int(str(row['Time'])[-2:]))\n",
    "        return '{} {}'.format(this_date, this_time)\n",
    "atlantic['DateTime'] = atlantic.apply(convert_to_datetime, axis=1)\n",
    "\n",
    "gulls = pd.read_csv('./data/gulls.csv')\n",
    "\n",
    "geolife = pd.read_csv('./data/geolife_sample.csv')"
   ],
   "metadata": {
    "collapsed": false,
    "pycharm": {
     "name": "#%%\n"
    }
   }
  },
  {
   "cell_type": "code",
   "execution_count": 3,
   "outputs": [
    {
     "name": "stdout",
     "output_type": "stream",
     "text": [
      "CPU times: user 1.01 s, sys: 36 ms, total: 1.05 s\n",
      "Wall time: 1.04 s\n"
     ]
    }
   ],
   "source": [
    "%%time\n",
    "\n",
    "np_atlantic = TrajDF(atlantic,\n",
    "                         latitude='Latitude',\n",
    "                         longitude='Longitude',\n",
    "                         datetime='DateTime',\n",
    "                         traj_id='ID',\n",
    "                         rest_of_columns=[])\n",
    "\n",
    "np_gulls = TrajDF(gulls,\n",
    "                 latitude='location-lat',\n",
    "                 longitude='location-long',\n",
    "                 datetime='timestamp',\n",
    "                 traj_id='tag-local-identifier',\n",
    "                 rest_of_columns=[])\n",
    "\n",
    "np_geolife = TrajDF(geolife,latitude='lat',\n",
    "                     longitude='lon',\n",
    "                     datetime='datetime',\n",
    "                     traj_id='id')\n"
   ],
   "metadata": {
    "collapsed": false,
    "pycharm": {
     "name": "#%%\n"
    }
   }
  },
  {
   "cell_type": "code",
   "execution_count": 4,
   "outputs": [
    {
     "name": "stdout",
     "output_type": "stream",
     "text": [
      "2\n",
      "CPU times: user 1.42 s, sys: 96.6 ms, total: 1.52 s\n",
      "Wall time: 1min 27s\n"
     ]
    }
   ],
   "source": [
    "%%time\n",
    "\n",
    "np_geolife = spatial.create_distance_between_consecutive_column(np_geolife)\n",
    "interpolated_geolife = ip.interpolate_position(np_geolife, 30)"
   ],
   "metadata": {
    "collapsed": false,
    "pycharm": {
     "name": "#%%\n"
    }
   }
  },
  {
   "cell_type": "code",
   "execution_count": 5,
   "outputs": [
    {
     "name": "stdout",
     "output_type": "stream",
     "text": [
      "Length of original geolife Dataframe: 217653\n",
      "Length of interpolated geolife Dataframe: 222462\n"
     ]
    }
   ],
   "source": [
    "print(f\"Length of original geolife Dataframe: {len(np_geolife)}\")\n",
    "print(f\"Length of interpolated geolife Dataframe: {len(interpolated_geolife)}\")"
   ],
   "metadata": {
    "collapsed": false,
    "pycharm": {
     "name": "#%%\n"
    }
   }
  },
  {
   "cell_type": "code",
   "execution_count": 6,
   "outputs": [
    {
     "name": "stdout",
     "output_type": "stream",
     "text": [
      "19\n",
      "CPU times: user 1.21 s, sys: 694 ms, total: 1.91 s\n",
      "Wall time: 10.3 s\n"
     ]
    }
   ],
   "source": [
    "%%time\n",
    "\n",
    "np_atlantic = spatial.create_distance_between_consecutive_column(np_atlantic)\n",
    "interpolated_atlantic = ip.interpolate_position(np_atlantic, 250000)"
   ],
   "metadata": {
    "collapsed": false,
    "pycharm": {
     "name": "#%%\n"
    }
   }
  },
  {
   "cell_type": "code",
   "execution_count": 7,
   "outputs": [
    {
     "name": "stdout",
     "output_type": "stream",
     "text": [
      "Length of original atlantic Dataframe: 49105\n",
      "Length of interpolated atlantic Dataframe: 52837\n"
     ]
    }
   ],
   "source": [
    "print(f\"Length of original atlantic Dataframe: {len(np_atlantic)}\")\n",
    "print(f\"Length of interpolated atlantic Dataframe: {len(interpolated_atlantic)}\")"
   ],
   "metadata": {
    "collapsed": false,
    "pycharm": {
     "name": "#%%\n"
    }
   }
  },
  {
   "cell_type": "code",
   "execution_count": 8,
   "outputs": [
    {
     "data": {
      "text/plain": "                                       lat         lon  Distance_prev_to_curr\ntraj_id DateTime                                                             \n1       2008-10-23 05:53:11.000  39.984224  116.319402                    NaN\n        2008-10-23 05:53:16.000  39.984211  116.319389               1.821083\n        2008-10-23 05:53:21.000  39.984217  116.319422               2.889671\n        2008-10-23 05:53:23.000  39.984710  116.319865              66.555997\n        2008-10-23 05:53:23.500  39.985184  116.320317              65.290735\n        2008-10-23 05:53:28.000  39.984674  116.319810              71.301809\n        2008-10-23 05:53:33.000  39.984623  116.319773               6.488225\n        2008-10-23 05:53:38.000  39.984606  116.319732               3.971848\n        2008-10-23 05:53:43.000  39.984555  116.319728               5.681172\n        2008-10-23 05:53:48.000  39.984579  116.319769               4.395924",
      "text/html": "<div>\n<style scoped>\n    .dataframe tbody tr th:only-of-type {\n        vertical-align: middle;\n    }\n\n    .dataframe tbody tr th {\n        vertical-align: top;\n    }\n\n    .dataframe thead th {\n        text-align: right;\n    }\n</style>\n<table border=\"1\" class=\"dataframe\">\n  <thead>\n    <tr style=\"text-align: right;\">\n      <th></th>\n      <th></th>\n      <th>lat</th>\n      <th>lon</th>\n      <th>Distance_prev_to_curr</th>\n    </tr>\n    <tr>\n      <th>traj_id</th>\n      <th>DateTime</th>\n      <th></th>\n      <th></th>\n      <th></th>\n    </tr>\n  </thead>\n  <tbody>\n    <tr>\n      <th rowspan=\"10\" valign=\"top\">1</th>\n      <th>2008-10-23 05:53:11.000</th>\n      <td>39.984224</td>\n      <td>116.319402</td>\n      <td>NaN</td>\n    </tr>\n    <tr>\n      <th>2008-10-23 05:53:16.000</th>\n      <td>39.984211</td>\n      <td>116.319389</td>\n      <td>1.821083</td>\n    </tr>\n    <tr>\n      <th>2008-10-23 05:53:21.000</th>\n      <td>39.984217</td>\n      <td>116.319422</td>\n      <td>2.889671</td>\n    </tr>\n    <tr>\n      <th>2008-10-23 05:53:23.000</th>\n      <td>39.984710</td>\n      <td>116.319865</td>\n      <td>66.555997</td>\n    </tr>\n    <tr>\n      <th>2008-10-23 05:53:23.500</th>\n      <td>39.985184</td>\n      <td>116.320317</td>\n      <td>65.290735</td>\n    </tr>\n    <tr>\n      <th>2008-10-23 05:53:28.000</th>\n      <td>39.984674</td>\n      <td>116.319810</td>\n      <td>71.301809</td>\n    </tr>\n    <tr>\n      <th>2008-10-23 05:53:33.000</th>\n      <td>39.984623</td>\n      <td>116.319773</td>\n      <td>6.488225</td>\n    </tr>\n    <tr>\n      <th>2008-10-23 05:53:38.000</th>\n      <td>39.984606</td>\n      <td>116.319732</td>\n      <td>3.971848</td>\n    </tr>\n    <tr>\n      <th>2008-10-23 05:53:43.000</th>\n      <td>39.984555</td>\n      <td>116.319728</td>\n      <td>5.681172</td>\n    </tr>\n    <tr>\n      <th>2008-10-23 05:53:48.000</th>\n      <td>39.984579</td>\n      <td>116.319769</td>\n      <td>4.395924</td>\n    </tr>\n  </tbody>\n</table>\n</div>"
     },
     "execution_count": 8,
     "metadata": {},
     "output_type": "execute_result"
    }
   ],
   "source": [
    "interpolated_geolife.head(10)"
   ],
   "metadata": {
    "collapsed": false,
    "pycharm": {
     "name": "#%%\n"
    }
   }
  },
  {
   "cell_type": "code",
   "execution_count": 9,
   "outputs": [
    {
     "data": {
      "text/plain": "                               lat   lon  Distance_prev_to_curr\ntraj_id  DateTime                                              \nAL011851 1851-06-25 00:00:00  28.0 -94.8                    NaN\n         1851-06-25 06:00:00  28.0 -95.4           58907.516366\n         1851-06-25 12:00:00  28.0 -96.0           58907.516366\n         1851-06-25 18:00:00  28.1 -96.5           50310.976622\n         1851-06-25 21:00:00  28.2 -96.8           31444.370265\n         1851-06-26 00:00:00  28.2 -97.0           19599.292319\n         1851-06-26 06:00:00  28.3 -97.6           59812.944128\n         1851-06-26 12:00:00  28.4 -98.3           69397.514092\n         1851-06-26 18:00:00  28.6 -98.9           62707.818251\n         1851-06-27 00:00:00  29.0 -99.4           65969.297018",
      "text/html": "<div>\n<style scoped>\n    .dataframe tbody tr th:only-of-type {\n        vertical-align: middle;\n    }\n\n    .dataframe tbody tr th {\n        vertical-align: top;\n    }\n\n    .dataframe thead th {\n        text-align: right;\n    }\n</style>\n<table border=\"1\" class=\"dataframe\">\n  <thead>\n    <tr style=\"text-align: right;\">\n      <th></th>\n      <th></th>\n      <th>lat</th>\n      <th>lon</th>\n      <th>Distance_prev_to_curr</th>\n    </tr>\n    <tr>\n      <th>traj_id</th>\n      <th>DateTime</th>\n      <th></th>\n      <th></th>\n      <th></th>\n    </tr>\n  </thead>\n  <tbody>\n    <tr>\n      <th rowspan=\"10\" valign=\"top\">AL011851</th>\n      <th>1851-06-25 00:00:00</th>\n      <td>28.0</td>\n      <td>-94.8</td>\n      <td>NaN</td>\n    </tr>\n    <tr>\n      <th>1851-06-25 06:00:00</th>\n      <td>28.0</td>\n      <td>-95.4</td>\n      <td>58907.516366</td>\n    </tr>\n    <tr>\n      <th>1851-06-25 12:00:00</th>\n      <td>28.0</td>\n      <td>-96.0</td>\n      <td>58907.516366</td>\n    </tr>\n    <tr>\n      <th>1851-06-25 18:00:00</th>\n      <td>28.1</td>\n      <td>-96.5</td>\n      <td>50310.976622</td>\n    </tr>\n    <tr>\n      <th>1851-06-25 21:00:00</th>\n      <td>28.2</td>\n      <td>-96.8</td>\n      <td>31444.370265</td>\n    </tr>\n    <tr>\n      <th>1851-06-26 00:00:00</th>\n      <td>28.2</td>\n      <td>-97.0</td>\n      <td>19599.292319</td>\n    </tr>\n    <tr>\n      <th>1851-06-26 06:00:00</th>\n      <td>28.3</td>\n      <td>-97.6</td>\n      <td>59812.944128</td>\n    </tr>\n    <tr>\n      <th>1851-06-26 12:00:00</th>\n      <td>28.4</td>\n      <td>-98.3</td>\n      <td>69397.514092</td>\n    </tr>\n    <tr>\n      <th>1851-06-26 18:00:00</th>\n      <td>28.6</td>\n      <td>-98.9</td>\n      <td>62707.818251</td>\n    </tr>\n    <tr>\n      <th>1851-06-27 00:00:00</th>\n      <td>29.0</td>\n      <td>-99.4</td>\n      <td>65969.297018</td>\n    </tr>\n  </tbody>\n</table>\n</div>"
     },
     "execution_count": 9,
     "metadata": {},
     "output_type": "execute_result"
    }
   ],
   "source": [
    "interpolated_atlantic.head(10)"
   ],
   "metadata": {
    "collapsed": false,
    "pycharm": {
     "name": "#%%\n"
    }
   }
  },
  {
   "cell_type": "code",
   "execution_count": 10,
   "outputs": [
    {
     "name": "stdout",
     "output_type": "stream",
     "text": [
      "12\n",
      "CPU times: user 849 ms, sys: 258 ms, total: 1.11 s\n",
      "Wall time: 2min 5s\n"
     ]
    }
   ],
   "source": [
    "%%time\n",
    "\n",
    "np_gulls = spatial.create_distance_between_consecutive_column(np_gulls)\n",
    "interpolated_gulls = ip.interpolate_position(np_gulls,\n",
    "                                             distance_threshold=15000)"
   ],
   "metadata": {
    "collapsed": false,
    "pycharm": {
     "name": "#%%\n"
    }
   }
  },
  {
   "cell_type": "code",
   "execution_count": 11,
   "outputs": [
    {
     "name": "stdout",
     "output_type": "stream",
     "text": [
      "Length of original gulls Dataframe: 89869\n",
      "Length of interpolated gulls Dataframe: 106020\n"
     ]
    }
   ],
   "source": [
    "print(f\"Length of original gulls Dataframe: {len(np_gulls)}\")\n",
    "print(f\"Length of interpolated gulls Dataframe: {len(interpolated_gulls)}\")\n"
   ],
   "metadata": {
    "collapsed": false,
    "pycharm": {
     "name": "#%%\n"
    }
   }
  },
  {
   "cell_type": "code",
   "execution_count": 12,
   "outputs": [
    {
     "data": {
      "text/plain": "[<matplotlib.lines.Line2D at 0x7f1d6b432f10>]"
     },
     "execution_count": 12,
     "metadata": {},
     "output_type": "execute_result"
    },
    {
     "data": {
      "text/plain": "<Figure size 432x288 with 1 Axes>",
      "image/png": "[encoded data removed]"
     },
     "metadata": {
      "needs_background": "light"
     },
     "output_type": "display_data"
    }
   ],
   "source": [
    "import matplotlib.pyplot as plt\n",
    "\n",
    "plt.plot(np_geolife[const.LAT], np_geolife[const.LONG])"
   ],
   "metadata": {
    "collapsed": false,
    "pycharm": {
     "name": "#%%\n"
    }
   }
  },
  {
   "cell_type": "code",
   "execution_count": 13,
   "outputs": [
    {
     "data": {
      "text/plain": "[<matplotlib.lines.Line2D at 0x7f1d6b1abd30>]"
     },
     "execution_count": 13,
     "metadata": {},
     "output_type": "execute_result"
    },
    {
     "data": {
      "text/plain": "<Figure size 432x288 with 1 Axes>",
      "image/png": "[encoded data removed]"
     },
     "metadata": {
      "needs_background": "light"
     },
     "output_type": "display_data"
    }
   ],
   "source": [
    "plt.plot(interpolated_geolife[const.LAT], interpolated_geolife[const.LONG])"
   ],
   "metadata": {
    "collapsed": false,
    "pycharm": {
     "name": "#%%\n"
    }
   }
  },
  {
   "cell_type": "code",
   "execution_count": 14,
   "outputs": [
    {
     "data": {
      "text/plain": "                                           lat            lon  \\\ntraj_id DateTime                                                \n1       2008-10-23 19:17:23.500    -216.335893     227.063800   \n        2008-11-19 22:12:20.500    -123.731411     225.358334   \n5       2008-10-25 10:26:10.500     -11.950233     138.772191   \n        2008-10-25 18:29:37.500     -42.942125     144.214176   \n        2008-10-30 22:57:35.500      -6.006747     136.395752   \n        2008-10-31 15:16:16.500      -7.729500     136.223468   \n        2008-11-05 18:19:18.500     -50.316473     154.396374   \n        2008-11-06 19:52:42.500     -19.179215     137.875813   \n        2008-11-07 19:32:42.500     -16.088638     144.963501   \n        2008-11-11 16:24:20.500     -56.155029     162.917977   \n        2008-11-12 14:20:25.500     -25.384707     136.932882   \n        2008-11-16 20:52:50.500     -27.703838     142.000918   \n        2008-11-27 12:07:15.500 -404959.771408  -63161.001693   \n        2009-01-17 00:15:54.500    -441.378249    3877.455581   \n        2009-01-22 01:18:54.000   -1933.371500    6291.865318   \n        2009-02-08 07:04:39.500 -132180.729019 -581313.293305   \n        2009-02-24 17:03:09.500     -12.596553     134.508498   \n        2009-02-28 17:40:17.000    -166.495230     195.656475   \n        2009-03-12 10:20:24.500     -25.022304     142.789650   \n        2009-03-12 21:00:26.000     -16.009944     121.653483   \n        2009-03-13 08:03:55.000      -9.972206     178.230521   \n\n                                 Distance_prev_to_curr  \ntraj_id DateTime                                        \n1       2008-10-23 19:17:23.500           7.069049e+06  \n        2008-11-19 22:12:20.500           1.260085e+07  \n5       2008-10-25 10:26:10.500           6.281782e+06  \n        2008-10-25 18:29:37.500           9.640753e+06  \n        2008-10-30 22:57:35.500           5.514929e+06  \n        2008-10-31 15:16:16.500           5.682338e+06  \n        2008-11-05 18:19:18.500           1.070838e+07  \n        2008-11-06 19:52:42.500           6.950713e+06  \n        2008-11-07 19:32:42.500           6.906876e+06  \n        2008-11-11 16:24:20.500           1.155743e+07  \n        2008-11-12 14:20:25.500           7.578718e+06  \n        2008-11-16 20:52:50.500           7.984470e+06  \n        2008-11-27 12:07:15.500           6.746886e+06  \n        2009-01-17 00:15:54.500           1.534799e+07  \n        2009-01-22 01:18:54.000           1.597294e+07  \n        2009-02-08 07:04:39.500           1.174751e+07  \n        2009-02-24 17:03:09.500           6.143988e+06  \n        2009-02-28 17:40:17.000           1.117709e+07  \n        2009-03-12 10:20:24.500           7.733884e+06  \n        2009-03-12 21:00:26.000           7.905053e+06  \n        2009-03-13 08:03:55.000           1.006816e+07  ",
      "text/html": "<div>\n<style scoped>\n    .dataframe tbody tr th:only-of-type {\n        vertical-align: middle;\n    }\n\n    .dataframe tbody tr th {\n        vertical-align: top;\n    }\n\n    .dataframe thead th {\n        text-align: right;\n    }\n</style>\n<table border=\"1\" class=\"dataframe\">\n  <thead>\n    <tr style=\"text-align: right;\">\n      <th></th>\n      <th></th>\n      <th>lat</th>\n      <th>lon</th>\n      <th>Distance_prev_to_curr</th>\n    </tr>\n    <tr>\n      <th>traj_id</th>\n      <th>DateTime</th>\n      <th></th>\n      <th></th>\n      <th></th>\n    </tr>\n  </thead>\n  <tbody>\n    <tr>\n      <th rowspan=\"2\" valign=\"top\">1</th>\n      <th>2008-10-23 19:17:23.500</th>\n      <td>-216.335893</td>\n      <td>227.063800</td>\n      <td>7.069049e+06</td>\n    </tr>\n    <tr>\n      <th>2008-11-19 22:12:20.500</th>\n      <td>-123.731411</td>\n      <td>225.358334</td>\n      <td>1.260085e+07</td>\n    </tr>\n    <tr>\n      <th rowspan=\"19\" valign=\"top\">5</th>\n      <th>2008-10-25 10:26:10.500</th>\n      <td>-11.950233</td>\n      <td>138.772191</td>\n      <td>6.281782e+06</td>\n    </tr>\n    <tr>\n      <th>2008-10-25 18:29:37.500</th>\n      <td>-42.942125</td>\n      <td>144.214176</td>\n      <td>9.640753e+06</td>\n    </tr>\n    <tr>\n      <th>2008-10-30 22:57:35.500</th>\n      <td>-6.006747</td>\n      <td>136.395752</td>\n      <td>5.514929e+06</td>\n    </tr>\n    <tr>\n      <th>2008-10-31 15:16:16.500</th>\n      <td>-7.729500</td>\n      <td>136.223468</td>\n      <td>5.682338e+06</td>\n    </tr>\n    <tr>\n      <th>2008-11-05 18:19:18.500</th>\n      <td>-50.316473</td>\n      <td>154.396374</td>\n      <td>1.070838e+07</td>\n    </tr>\n    <tr>\n      <th>2008-11-06 19:52:42.500</th>\n      <td>-19.179215</td>\n      <td>137.875813</td>\n      <td>6.950713e+06</td>\n    </tr>\n    <tr>\n      <th>2008-11-07 19:32:42.500</th>\n      <td>-16.088638</td>\n      <td>144.963501</td>\n      <td>6.906876e+06</td>\n    </tr>\n    <tr>\n      <th>2008-11-11 16:24:20.500</th>\n      <td>-56.155029</td>\n      <td>162.917977</td>\n      <td>1.155743e+07</td>\n    </tr>\n    <tr>\n      <th>2008-11-12 14:20:25.500</th>\n      <td>-25.384707</td>\n      <td>136.932882</td>\n      <td>7.578718e+06</td>\n    </tr>\n    <tr>\n      <th>2008-11-16 20:52:50.500</th>\n      <td>-27.703838</td>\n      <td>142.000918</td>\n      <td>7.984470e+06</td>\n    </tr>\n    <tr>\n      <th>2008-11-27 12:07:15.500</th>\n      <td>-404959.771408</td>\n      <td>-63161.001693</td>\n      <td>6.746886e+06</td>\n    </tr>\n    <tr>\n      <th>2009-01-17 00:15:54.500</th>\n      <td>-441.378249</td>\n      <td>3877.455581</td>\n      <td>1.534799e+07</td>\n    </tr>\n    <tr>\n      <th>2009-01-22 01:18:54.000</th>\n      <td>-1933.371500</td>\n      <td>6291.865318</td>\n      <td>1.597294e+07</td>\n    </tr>\n    <tr>\n      <th>2009-02-08 07:04:39.500</th>\n      <td>-132180.729019</td>\n      <td>-581313.293305</td>\n      <td>1.174751e+07</td>\n    </tr>\n    <tr>\n      <th>2009-02-24 17:03:09.500</th>\n      <td>-12.596553</td>\n      <td>134.508498</td>\n      <td>6.143988e+06</td>\n    </tr>\n    <tr>\n      <th>2009-02-28 17:40:17.000</th>\n      <td>-166.495230</td>\n      <td>195.656475</td>\n      <td>1.117709e+07</td>\n    </tr>\n    <tr>\n      <th>2009-03-12 10:20:24.500</th>\n      <td>-25.022304</td>\n      <td>142.789650</td>\n      <td>7.733884e+06</td>\n    </tr>\n    <tr>\n      <th>2009-03-12 21:00:26.000</th>\n      <td>-16.009944</td>\n      <td>121.653483</td>\n      <td>7.905053e+06</td>\n    </tr>\n    <tr>\n      <th>2009-03-13 08:03:55.000</th>\n      <td>-9.972206</td>\n      <td>178.230521</td>\n      <td>1.006816e+07</td>\n    </tr>\n  </tbody>\n</table>\n</div>"
     },
     "execution_count": 14,
     "metadata": {},
     "output_type": "execute_result"
    }
   ],
   "source": [
    "interpolated_geolife.loc[interpolated_geolife[const.LAT] < 0]\n"
   ],
   "metadata": {
    "collapsed": false,
    "pycharm": {
     "name": "#%%\n"
    }
   }
  },
  {
   "cell_type": "code",
   "execution_count": 14,
   "outputs": [],
   "source": [],
   "metadata": {
    "collapsed": false,
    "pycharm": {
     "name": "#%%\n"
    }
   }
  }
 ],
 "metadata": {
  "kernelspec": {
   "display_name": "Python 3",
   "language": "python",
   "name": "python3"
  },
  "language_info": {
   "codemirror_mode": {
    "name": "ipython",
    "version": 2
   },
   "file_extension": ".py",
   "mimetype": "text/x-python",
   "name": "python",
   "nbconvert_exporter": "python",
   "pygments_lexer": "ipython2",
   "version": "2.7.6"
  }
 },
 "nbformat": 4,
 "nbformat_minor": 0
}