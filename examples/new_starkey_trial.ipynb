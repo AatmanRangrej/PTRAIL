{
 "cells": [
  {
   "cell_type": "code",
   "execution_count": 1,
   "metadata": {
    "collapsed": true,
    "pycharm": {
     "name": "#%%\n"
    }
   },
   "outputs": [
    {
     "name": "stdout",
     "output_type": "stream",
     "text": [
      "------------------------ Dataset Facts ------------------------------\n",
      "\n",
      "Number of unique Trajectories in the data: 253\n",
      "Number of points in the data: 287136\n",
      "Dataset time range: 1196 days 22:51:45\n",
      "Datatype of the DataFrame: <class 'Nummobility.core.TrajectoryDF.NumPandasTraj'>\n",
      "Dataset Bounding Box: (45.18896978643169, -118.61020848239596, 45.314545642992, -118.50455596234036)\n",
      "\n",
      "---------------------------------------------------------------------\n"
     ]
    },
    {
     "data": {
      "text/plain": "                                     lat         lon  StarkeyTime    GMDate  \\\ntraj_id   DateTime                                                            \n880109D01 1995-04-13 13:40:06  45.239682 -118.533204    229902006  21:40:06   \n          1995-04-15 12:16:15  45.250521 -118.530438    230069775  20:16:15   \n          1995-04-15 21:39:38  45.247943 -118.541455    230103578  05:39:38   \n          1995-04-16 03:32:14  45.247429 -118.539530    230124734  11:32:14   \n          1995-04-16 04:08:28  45.247117 -118.542579    230126908  12:08:28   \n\n                                 GMTime   LocDate   LocTime  RadNum Species  \\\ntraj_id   DateTime                                                            \n880109D01 1995-04-13 13:40:06  19950413  19950413  13:40:06     409       D   \n          1995-04-15 12:16:15  19950415  19950415  12:16:15     409       D   \n          1995-04-15 21:39:38  19950416  19950415  21:39:38     409       D   \n          1995-04-16 03:32:14  19950416  19950416  03:32:14     409       D   \n          1995-04-16 04:08:28  19950416  19950416  04:08:28     409       D   \n\n                                 UTME     UTMN  Year  Grensunr  Grensuns  \\\ntraj_id   DateTime                                                         \n880109D01 1995-04-13 13:40:06  379662  5010734    95  13:13:00  02:39:00   \n          1995-04-15 12:16:15  379895  5011927    95  13:09:00  02:41:00   \n          1995-04-15 21:39:38  379039  5011656    95  13:07:00  02:43:00   \n          1995-04-16 03:32:14  379188  5011581    95  13:07:00  02:43:00   \n          1995-04-16 04:08:28  378938  5011567    95  13:07:00  02:43:00   \n\n                               Obswt  \ntraj_id   DateTime                    \n880109D01 1995-04-13 13:40:06   1.47  \n          1995-04-15 12:16:15   1.59  \n          1995-04-15 21:39:38   1.34  \n          1995-04-16 03:32:14   1.50  \n          1995-04-16 04:08:28   1.34  ",
      "text/html": "<div>\n<style scoped>\n    .dataframe tbody tr th:only-of-type {\n        vertical-align: middle;\n    }\n\n    .dataframe tbody tr th {\n        vertical-align: top;\n    }\n\n    .dataframe thead th {\n        text-align: right;\n    }\n</style>\n<table border=\"1\" class=\"dataframe\">\n  <thead>\n    <tr style=\"text-align: right;\">\n      <th></th>\n      <th></th>\n      <th>lat</th>\n      <th>lon</th>\n      <th>StarkeyTime</th>\n      <th>GMDate</th>\n      <th>GMTime</th>\n      <th>LocDate</th>\n      <th>LocTime</th>\n      <th>RadNum</th>\n      <th>Species</th>\n      <th>UTME</th>\n      <th>UTMN</th>\n      <th>Year</th>\n      <th>Grensunr</th>\n      <th>Grensuns</th>\n      <th>Obswt</th>\n    </tr>\n    <tr>\n      <th>traj_id</th>\n      <th>DateTime</th>\n      <th></th>\n      <th></th>\n      <th></th>\n      <th></th>\n      <th></th>\n      <th></th>\n      <th></th>\n      <th></th>\n      <th></th>\n      <th></th>\n      <th></th>\n      <th></th>\n      <th></th>\n      <th></th>\n      <th></th>\n    </tr>\n  </thead>\n  <tbody>\n    <tr>\n      <th rowspan=\"5\" valign=\"top\">880109D01</th>\n      <th>1995-04-13 13:40:06</th>\n      <td>45.239682</td>\n      <td>-118.533204</td>\n      <td>229902006</td>\n      <td>21:40:06</td>\n      <td>19950413</td>\n      <td>19950413</td>\n      <td>13:40:06</td>\n      <td>409</td>\n      <td>D</td>\n      <td>379662</td>\n      <td>5010734</td>\n      <td>95</td>\n      <td>13:13:00</td>\n      <td>02:39:00</td>\n      <td>1.47</td>\n    </tr>\n    <tr>\n      <th>1995-04-15 12:16:15</th>\n      <td>45.250521</td>\n      <td>-118.530438</td>\n      <td>230069775</td>\n      <td>20:16:15</td>\n      <td>19950415</td>\n      <td>19950415</td>\n      <td>12:16:15</td>\n      <td>409</td>\n      <td>D</td>\n      <td>379895</td>\n      <td>5011927</td>\n      <td>95</td>\n      <td>13:09:00</td>\n      <td>02:41:00</td>\n      <td>1.59</td>\n    </tr>\n    <tr>\n      <th>1995-04-15 21:39:38</th>\n      <td>45.247943</td>\n      <td>-118.541455</td>\n      <td>230103578</td>\n      <td>05:39:38</td>\n      <td>19950416</td>\n      <td>19950415</td>\n      <td>21:39:38</td>\n      <td>409</td>\n      <td>D</td>\n      <td>379039</td>\n      <td>5011656</td>\n      <td>95</td>\n      <td>13:07:00</td>\n      <td>02:43:00</td>\n      <td>1.34</td>\n    </tr>\n    <tr>\n      <th>1995-04-16 03:32:14</th>\n      <td>45.247429</td>\n      <td>-118.539530</td>\n      <td>230124734</td>\n      <td>11:32:14</td>\n      <td>19950416</td>\n      <td>19950416</td>\n      <td>03:32:14</td>\n      <td>409</td>\n      <td>D</td>\n      <td>379188</td>\n      <td>5011581</td>\n      <td>95</td>\n      <td>13:07:00</td>\n      <td>02:43:00</td>\n      <td>1.50</td>\n    </tr>\n    <tr>\n      <th>1995-04-16 04:08:28</th>\n      <td>45.247117</td>\n      <td>-118.542579</td>\n      <td>230126908</td>\n      <td>12:08:28</td>\n      <td>19950416</td>\n      <td>19950416</td>\n      <td>04:08:28</td>\n      <td>409</td>\n      <td>D</td>\n      <td>378938</td>\n      <td>5011567</td>\n      <td>95</td>\n      <td>13:07:00</td>\n      <td>02:43:00</td>\n      <td>1.34</td>\n    </tr>\n  </tbody>\n</table>\n</div>"
     },
     "execution_count": 1,
     "metadata": {},
     "output_type": "execute_result"
    }
   ],
   "source": [
    "# Note that for our dataset, ungulate animals = mule deer, elk.\n",
    "# One of the main reason for this research was to help farmers,\n",
    "# ranchers etc to determine if fencing their farms would help\n",
    "# them prevent losses which occur due to heavy grazing by the\n",
    "# ungulates. Therefore, some ungulate proof pastures were\n",
    "# created for the research within the starkey area and one\n",
    "# such example of that data is the DistEWater which is the\n",
    "# distance to the nearest water source within the ungulate\n",
    "# proof area.\n",
    "\n",
    "# First, lets import the starkey dataset and the habitat data\n",
    "# and then check both out. Now it is to be noted that since\n",
    "# the habitat dataset is not an actual trajectory dataset, we\n",
    "# will just import the habitat dataset as a pandas dataframe.\n",
    "import matplotlib.pyplot as plt\n",
    "\n",
    "from Nummobility.core.TrajectoryDF import NumPandasTraj\n",
    "from Nummobility.features.spatial_features import SpatialFeatures\n",
    "import pandas as pd\n",
    "import numpy as np\n",
    "from Nummobility.semantics.semantic_features import SemanticFeatures\n",
    "pd.set_option('display.max_columns', 500)\n",
    "\n",
    "pdf = pd.read_csv('./data/starkey.csv')\n",
    "starkey_traj = NumPandasTraj(data_set=pdf,\n",
    "                             latitude='lat',\n",
    "                             longitude='lon',\n",
    "                             datetime='DateTime',\n",
    "                             traj_id='Id')\n",
    "print(starkey_traj)\n",
    "starkey_traj.head()"
   ]
  },
  {
   "cell_type": "code",
   "execution_count": 2,
   "outputs": [
    {
     "name": "stdout",
     "output_type": "stream",
     "text": [
      "The shape of the starkey habitat dataset: (85969, 19)\n"
     ]
    },
    {
     "data": {
      "text/plain": "         lat         lon  SoilDpth  PerSlope  SINAspct  COSAspct  Convex3  \\\n0  45.272378 -118.610193        14         5     -0.81      0.59   500.63   \n1  45.272648 -118.610201        14         5     -0.71      0.71   500.21   \n2  45.272918 -118.610208        14         4     -0.89      0.45   499.93   \n3  45.270224 -118.609750        14         8     -0.98      0.21   500.68   \n4  45.270494 -118.609757        14         7     -0.97      0.22   501.22   \n\n   DistCWat  Canopy  Elev  DistEWat EcoGener  DistOPEN  DistRSTR  DistCLSD  \\\n0       218       3  1389       212       GB       127      2271        30   \n1       228       3  1388       218       GB       150      2293        30   \n2       242       3  1387       228       GB       170      2315        30   \n3       201       5  1393       201       GB        30      2081       134   \n4       190       5  1393       190       GB        30      2101       108   \n\n   DistEFnc      CowPast  ForgProd  DistEdge  \n0         0  SMITH-BALLY       363         0  \n1         0  SMITH-BALLY       363         0  \n2         0  SMITH-BALLY       363         0  \n3         0  SMITH-BALLY       363         0  \n4         0  SMITH-BALLY       363         0  ",
      "text/html": "<div>\n<style scoped>\n    .dataframe tbody tr th:only-of-type {\n        vertical-align: middle;\n    }\n\n    .dataframe tbody tr th {\n        vertical-align: top;\n    }\n\n    .dataframe thead th {\n        text-align: right;\n    }\n</style>\n<table border=\"1\" class=\"dataframe\">\n  <thead>\n    <tr style=\"text-align: right;\">\n      <th></th>\n      <th>lat</th>\n      <th>lon</th>\n      <th>SoilDpth</th>\n      <th>PerSlope</th>\n      <th>SINAspct</th>\n      <th>COSAspct</th>\n      <th>Convex3</th>\n      <th>DistCWat</th>\n      <th>Canopy</th>\n      <th>Elev</th>\n      <th>DistEWat</th>\n      <th>EcoGener</th>\n      <th>DistOPEN</th>\n      <th>DistRSTR</th>\n      <th>DistCLSD</th>\n      <th>DistEFnc</th>\n      <th>CowPast</th>\n      <th>ForgProd</th>\n      <th>DistEdge</th>\n    </tr>\n  </thead>\n  <tbody>\n    <tr>\n      <th>0</th>\n      <td>45.272378</td>\n      <td>-118.610193</td>\n      <td>14</td>\n      <td>5</td>\n      <td>-0.81</td>\n      <td>0.59</td>\n      <td>500.63</td>\n      <td>218</td>\n      <td>3</td>\n      <td>1389</td>\n      <td>212</td>\n      <td>GB</td>\n      <td>127</td>\n      <td>2271</td>\n      <td>30</td>\n      <td>0</td>\n      <td>SMITH-BALLY</td>\n      <td>363</td>\n      <td>0</td>\n    </tr>\n    <tr>\n      <th>1</th>\n      <td>45.272648</td>\n      <td>-118.610201</td>\n      <td>14</td>\n      <td>5</td>\n      <td>-0.71</td>\n      <td>0.71</td>\n      <td>500.21</td>\n      <td>228</td>\n      <td>3</td>\n      <td>1388</td>\n      <td>218</td>\n      <td>GB</td>\n      <td>150</td>\n      <td>2293</td>\n      <td>30</td>\n      <td>0</td>\n      <td>SMITH-BALLY</td>\n      <td>363</td>\n      <td>0</td>\n    </tr>\n    <tr>\n      <th>2</th>\n      <td>45.272918</td>\n      <td>-118.610208</td>\n      <td>14</td>\n      <td>4</td>\n      <td>-0.89</td>\n      <td>0.45</td>\n      <td>499.93</td>\n      <td>242</td>\n      <td>3</td>\n      <td>1387</td>\n      <td>228</td>\n      <td>GB</td>\n      <td>170</td>\n      <td>2315</td>\n      <td>30</td>\n      <td>0</td>\n      <td>SMITH-BALLY</td>\n      <td>363</td>\n      <td>0</td>\n    </tr>\n    <tr>\n      <th>3</th>\n      <td>45.270224</td>\n      <td>-118.609750</td>\n      <td>14</td>\n      <td>8</td>\n      <td>-0.98</td>\n      <td>0.21</td>\n      <td>500.68</td>\n      <td>201</td>\n      <td>5</td>\n      <td>1393</td>\n      <td>201</td>\n      <td>GB</td>\n      <td>30</td>\n      <td>2081</td>\n      <td>134</td>\n      <td>0</td>\n      <td>SMITH-BALLY</td>\n      <td>363</td>\n      <td>0</td>\n    </tr>\n    <tr>\n      <th>4</th>\n      <td>45.270494</td>\n      <td>-118.609757</td>\n      <td>14</td>\n      <td>7</td>\n      <td>-0.97</td>\n      <td>0.22</td>\n      <td>501.22</td>\n      <td>190</td>\n      <td>5</td>\n      <td>1393</td>\n      <td>190</td>\n      <td>GB</td>\n      <td>30</td>\n      <td>2101</td>\n      <td>108</td>\n      <td>0</td>\n      <td>SMITH-BALLY</td>\n      <td>363</td>\n      <td>0</td>\n    </tr>\n  </tbody>\n</table>\n</div>"
     },
     "execution_count": 2,
     "metadata": {},
     "output_type": "execute_result"
    }
   ],
   "source": [
    "# Now, importing the habitat data.\n",
    "starkey_habitat = pd.read_csv('./data/starkey_habitat.csv')\n",
    "print(f\"The shape of the starkey habitat dataset: {starkey_habitat.shape}\")\n",
    "starkey_habitat.head()"
   ],
   "metadata": {
    "collapsed": false,
    "pycharm": {
     "name": "#%%\n"
    }
   }
  },
  {
   "cell_type": "code",
   "execution_count": 4,
   "outputs": [
    {
     "name": "stdout",
     "output_type": "stream",
     "text": [
      "111364\n",
      "CPU times: user 48.8 s, sys: 237 ms, total: 49 s\n",
      "Wall time: 49.1 s\n"
     ]
    },
    {
     "data": {
      "text/plain": "                                     lat         lon  StarkeyTime    GMDate  \\\ntraj_id   DateTime                                                            \n880109D01 1995-04-13 13:40:06  45.239682 -118.533204    229902006  21:40:06   \n          1995-04-15 12:16:15  45.250521 -118.530438    230069775  20:16:15   \n          1995-04-15 21:39:38  45.247943 -118.541455    230103578  05:39:38   \n          1995-04-16 03:32:14  45.247429 -118.539530    230124734  11:32:14   \n          1995-04-16 04:08:28  45.247117 -118.542579    230126908  12:08:28   \n\n                                 GMTime   LocDate   LocTime  RadNum Species  \\\ntraj_id   DateTime                                                            \n880109D01 1995-04-13 13:40:06  19950413  19950413  13:40:06     409       D   \n          1995-04-15 12:16:15  19950415  19950415  12:16:15     409       D   \n          1995-04-15 21:39:38  19950416  19950415  21:39:38     409       D   \n          1995-04-16 03:32:14  19950416  19950416  03:32:14     409       D   \n          1995-04-16 04:08:28  19950416  19950416  04:08:28     409       D   \n\n                                 UTME     UTMN  Year  Grensunr  Grensuns  \\\ntraj_id   DateTime                                                         \n880109D01 1995-04-13 13:40:06  379662  5010734    95  13:13:00  02:39:00   \n          1995-04-15 12:16:15  379895  5011927    95  13:09:00  02:41:00   \n          1995-04-15 21:39:38  379039  5011656    95  13:07:00  02:43:00   \n          1995-04-16 03:32:14  379188  5011581    95  13:07:00  02:43:00   \n          1995-04-16 04:08:28  378938  5011567    95  13:07:00  02:43:00   \n\n                               Obswt Visited_SMITH-BALLY  \ntraj_id   DateTime                                        \n880109D01 1995-04-13 13:40:06   1.47                   0  \n          1995-04-15 12:16:15   1.59                   0  \n          1995-04-15 21:39:38   1.34                   0  \n          1995-04-16 03:32:14   1.50                   0  \n          1995-04-16 04:08:28   1.34                   0  ",
      "text/html": "<div>\n<style scoped>\n    .dataframe tbody tr th:only-of-type {\n        vertical-align: middle;\n    }\n\n    .dataframe tbody tr th {\n        vertical-align: top;\n    }\n\n    .dataframe thead th {\n        text-align: right;\n    }\n</style>\n<table border=\"1\" class=\"dataframe\">\n  <thead>\n    <tr style=\"text-align: right;\">\n      <th></th>\n      <th></th>\n      <th>lat</th>\n      <th>lon</th>\n      <th>StarkeyTime</th>\n      <th>GMDate</th>\n      <th>GMTime</th>\n      <th>LocDate</th>\n      <th>LocTime</th>\n      <th>RadNum</th>\n      <th>Species</th>\n      <th>UTME</th>\n      <th>UTMN</th>\n      <th>Year</th>\n      <th>Grensunr</th>\n      <th>Grensuns</th>\n      <th>Obswt</th>\n      <th>Visited_SMITH-BALLY</th>\n    </tr>\n    <tr>\n      <th>traj_id</th>\n      <th>DateTime</th>\n      <th></th>\n      <th></th>\n      <th></th>\n      <th></th>\n      <th></th>\n      <th></th>\n      <th></th>\n      <th></th>\n      <th></th>\n      <th></th>\n      <th></th>\n      <th></th>\n      <th></th>\n      <th></th>\n      <th></th>\n      <th></th>\n    </tr>\n  </thead>\n  <tbody>\n    <tr>\n      <th rowspan=\"5\" valign=\"top\">880109D01</th>\n      <th>1995-04-13 13:40:06</th>\n      <td>45.239682</td>\n      <td>-118.533204</td>\n      <td>229902006</td>\n      <td>21:40:06</td>\n      <td>19950413</td>\n      <td>19950413</td>\n      <td>13:40:06</td>\n      <td>409</td>\n      <td>D</td>\n      <td>379662</td>\n      <td>5010734</td>\n      <td>95</td>\n      <td>13:13:00</td>\n      <td>02:39:00</td>\n      <td>1.47</td>\n      <td>0</td>\n    </tr>\n    <tr>\n      <th>1995-04-15 12:16:15</th>\n      <td>45.250521</td>\n      <td>-118.530438</td>\n      <td>230069775</td>\n      <td>20:16:15</td>\n      <td>19950415</td>\n      <td>19950415</td>\n      <td>12:16:15</td>\n      <td>409</td>\n      <td>D</td>\n      <td>379895</td>\n      <td>5011927</td>\n      <td>95</td>\n      <td>13:09:00</td>\n      <td>02:41:00</td>\n      <td>1.59</td>\n      <td>0</td>\n    </tr>\n    <tr>\n      <th>1995-04-15 21:39:38</th>\n      <td>45.247943</td>\n      <td>-118.541455</td>\n      <td>230103578</td>\n      <td>05:39:38</td>\n      <td>19950416</td>\n      <td>19950415</td>\n      <td>21:39:38</td>\n      <td>409</td>\n      <td>D</td>\n      <td>379039</td>\n      <td>5011656</td>\n      <td>95</td>\n      <td>13:07:00</td>\n      <td>02:43:00</td>\n      <td>1.34</td>\n      <td>0</td>\n    </tr>\n    <tr>\n      <th>1995-04-16 03:32:14</th>\n      <td>45.247429</td>\n      <td>-118.539530</td>\n      <td>230124734</td>\n      <td>11:32:14</td>\n      <td>19950416</td>\n      <td>19950416</td>\n      <td>03:32:14</td>\n      <td>409</td>\n      <td>D</td>\n      <td>379188</td>\n      <td>5011581</td>\n      <td>95</td>\n      <td>13:07:00</td>\n      <td>02:43:00</td>\n      <td>1.50</td>\n      <td>0</td>\n    </tr>\n    <tr>\n      <th>1995-04-16 04:08:28</th>\n      <td>45.247117</td>\n      <td>-118.542579</td>\n      <td>230126908</td>\n      <td>12:08:28</td>\n      <td>19950416</td>\n      <td>19950416</td>\n      <td>04:08:28</td>\n      <td>409</td>\n      <td>D</td>\n      <td>378938</td>\n      <td>5011567</td>\n      <td>95</td>\n      <td>13:07:00</td>\n      <td>02:43:00</td>\n      <td>1.34</td>\n      <td>0</td>\n    </tr>\n  </tbody>\n</table>\n</div>"
     },
     "execution_count": 4,
     "metadata": {},
     "output_type": "execute_result"
    }
   ],
   "source": [
    "%%time\n",
    "\n",
    "sem = SemanticFeatures.visited_location(df=starkey_traj,\n",
    "                                        geo_layers=starkey_habitat,\n",
    "                                        visited_location_name = 'SMITH-BALLY',\n",
    "                                        location_column_name='CowPast')\n",
    "sem.head()\n",
    "\n"
   ],
   "metadata": {
    "collapsed": false,
    "pycharm": {
     "name": "#%%\n"
    }
   }
  },
  {
   "cell_type": "code",
   "execution_count": 5,
   "outputs": [
    {
     "data": {
      "text/plain": "                                     lat         lon  StarkeyTime    GMDate  \\\ntraj_id   DateTime                                                            \n890130D09 1994-04-18 07:23:12  45.258499 -118.579212    198775392  15:23:12   \n          1994-04-18 08:35:47  45.258716 -118.583042    198779747  16:35:47   \n          1994-04-18 09:47:57  45.258446 -118.583034    198784077  17:47:57   \n          1994-04-18 12:24:04  45.258176 -118.583027    198793444  20:24:04   \n          1994-04-18 14:57:54  45.257636 -118.583012    198802674  22:57:54   \n...                                  ...         ...          ...       ...   \nOSUX93151 1996-07-22 04:25:14  45.246859 -118.581183    270131114  12:25:14   \n          1996-07-22 05:47:42  45.246595 -118.580793    270136062  13:47:42   \n          1996-07-22 07:13:23  45.246854 -118.581565    270141203  15:13:23   \n          1996-07-22 08:40:45  45.247135 -118.580808    270146445  16:40:45   \n          1996-07-22 10:09:04  45.245526 -118.579999    270151744  18:09:04   \n\n                                 GMTime   LocDate   LocTime  RadNum Species  \\\ntraj_id   DateTime                                                            \n890130D09 1994-04-18 07:23:12  19940418  19940418  07:23:12     303       D   \n          1994-04-18 08:35:47  19940418  19940418  08:35:47     303       D   \n          1994-04-18 09:47:57  19940418  19940418  09:47:57     303       D   \n          1994-04-18 12:24:04  19940418  19940418  12:24:04     303       D   \n          1994-04-18 14:57:54  19940418  19940418  14:57:54     303       D   \n...                                 ...       ...       ...     ...     ...   \nOSUX93151 1996-07-22 04:25:14  19960722  19960722  04:25:14     331       C   \n          1996-07-22 05:47:42  19960722  19960722  05:47:42     331       C   \n          1996-07-22 07:13:23  19960722  19960722  07:13:23     331       C   \n          1996-07-22 08:40:45  19960722  19960722  08:40:45     331       C   \n          1996-07-22 10:09:04  19960722  19960722  10:09:04     331       C   \n\n                                 UTME     UTMN  Year  Grensunr  Grensuns  \\\ntraj_id   DateTime                                                         \n890130D09 1994-04-18 07:23:12  376104  5012888    94  13:04:00  02:45:00   \n          1994-04-18 08:35:47  375800  5012912    94  13:04:00  02:45:00   \n          1994-04-18 09:47:57  375800  5012888    94  13:04:00  02:45:00   \n          1994-04-18 12:24:04  375799  5012841    94  13:04:00  02:45:00   \n          1994-04-18 14:57:54  375798  5012780    94  13:04:00  02:45:00   \n...                               ...      ...   ...       ...       ...   \nOSUX93151 1996-07-22 04:25:14  375921  5011591    96  12:28:00  03:36:00   \n          1996-07-22 05:47:42  375932  5011550    96  12:28:00  03:36:00   \n          1996-07-22 07:13:23  375891  5011580    96  12:28:00  03:36:00   \n          1996-07-22 08:40:45  375946  5011608    96  12:28:00  03:36:00   \n          1996-07-22 10:09:04  376018  5011432    96  12:28:00  03:36:00   \n\n                               Obswt Visited_SMITH-BALLY  \ntraj_id   DateTime                                        \n890130D09 1994-04-18 07:23:12   1.34                   1  \n          1994-04-18 08:35:47   1.33                   1  \n          1994-04-18 09:47:57   1.33                   1  \n          1994-04-18 12:24:04   1.33                   1  \n          1994-04-18 14:57:54   1.33                   1  \n...                              ...                 ...  \nOSUX93151 1996-07-22 04:25:14   1.50                   1  \n          1996-07-22 05:47:42   1.50                   1  \n          1996-07-22 07:13:23   1.45                   1  \n          1996-07-22 08:40:45   1.50                   1  \n          1996-07-22 10:09:04   1.46                   1  \n\n[111364 rows x 16 columns]",
      "text/html": "<div>\n<style scoped>\n    .dataframe tbody tr th:only-of-type {\n        vertical-align: middle;\n    }\n\n    .dataframe tbody tr th {\n        vertical-align: top;\n    }\n\n    .dataframe thead th {\n        text-align: right;\n    }\n</style>\n<table border=\"1\" class=\"dataframe\">\n  <thead>\n    <tr style=\"text-align: right;\">\n      <th></th>\n      <th></th>\n      <th>lat</th>\n      <th>lon</th>\n      <th>StarkeyTime</th>\n      <th>GMDate</th>\n      <th>GMTime</th>\n      <th>LocDate</th>\n      <th>LocTime</th>\n      <th>RadNum</th>\n      <th>Species</th>\n      <th>UTME</th>\n      <th>UTMN</th>\n      <th>Year</th>\n      <th>Grensunr</th>\n      <th>Grensuns</th>\n      <th>Obswt</th>\n      <th>Visited_SMITH-BALLY</th>\n    </tr>\n    <tr>\n      <th>traj_id</th>\n      <th>DateTime</th>\n      <th></th>\n      <th></th>\n      <th></th>\n      <th></th>\n      <th></th>\n      <th></th>\n      <th></th>\n      <th></th>\n      <th></th>\n      <th></th>\n      <th></th>\n      <th></th>\n      <th></th>\n      <th></th>\n      <th></th>\n      <th></th>\n    </tr>\n  </thead>\n  <tbody>\n    <tr>\n      <th rowspan=\"5\" valign=\"top\">890130D09</th>\n      <th>1994-04-18 07:23:12</th>\n      <td>45.258499</td>\n      <td>-118.579212</td>\n      <td>198775392</td>\n      <td>15:23:12</td>\n      <td>19940418</td>\n      <td>19940418</td>\n      <td>07:23:12</td>\n      <td>303</td>\n      <td>D</td>\n      <td>376104</td>\n      <td>5012888</td>\n      <td>94</td>\n      <td>13:04:00</td>\n      <td>02:45:00</td>\n      <td>1.34</td>\n      <td>1</td>\n    </tr>\n    <tr>\n      <th>1994-04-18 08:35:47</th>\n      <td>45.258716</td>\n      <td>-118.583042</td>\n      <td>198779747</td>\n      <td>16:35:47</td>\n      <td>19940418</td>\n      <td>19940418</td>\n      <td>08:35:47</td>\n      <td>303</td>\n      <td>D</td>\n      <td>375800</td>\n      <td>5012912</td>\n      <td>94</td>\n      <td>13:04:00</td>\n      <td>02:45:00</td>\n      <td>1.33</td>\n      <td>1</td>\n    </tr>\n    <tr>\n      <th>1994-04-18 09:47:57</th>\n      <td>45.258446</td>\n      <td>-118.583034</td>\n      <td>198784077</td>\n      <td>17:47:57</td>\n      <td>19940418</td>\n      <td>19940418</td>\n      <td>09:47:57</td>\n      <td>303</td>\n      <td>D</td>\n      <td>375800</td>\n      <td>5012888</td>\n      <td>94</td>\n      <td>13:04:00</td>\n      <td>02:45:00</td>\n      <td>1.33</td>\n      <td>1</td>\n    </tr>\n    <tr>\n      <th>1994-04-18 12:24:04</th>\n      <td>45.258176</td>\n      <td>-118.583027</td>\n      <td>198793444</td>\n      <td>20:24:04</td>\n      <td>19940418</td>\n      <td>19940418</td>\n      <td>12:24:04</td>\n      <td>303</td>\n      <td>D</td>\n      <td>375799</td>\n      <td>5012841</td>\n      <td>94</td>\n      <td>13:04:00</td>\n      <td>02:45:00</td>\n      <td>1.33</td>\n      <td>1</td>\n    </tr>\n    <tr>\n      <th>1994-04-18 14:57:54</th>\n      <td>45.257636</td>\n      <td>-118.583012</td>\n      <td>198802674</td>\n      <td>22:57:54</td>\n      <td>19940418</td>\n      <td>19940418</td>\n      <td>14:57:54</td>\n      <td>303</td>\n      <td>D</td>\n      <td>375798</td>\n      <td>5012780</td>\n      <td>94</td>\n      <td>13:04:00</td>\n      <td>02:45:00</td>\n      <td>1.33</td>\n      <td>1</td>\n    </tr>\n    <tr>\n      <th>...</th>\n      <th>...</th>\n      <td>...</td>\n      <td>...</td>\n      <td>...</td>\n      <td>...</td>\n      <td>...</td>\n      <td>...</td>\n      <td>...</td>\n      <td>...</td>\n      <td>...</td>\n      <td>...</td>\n      <td>...</td>\n      <td>...</td>\n      <td>...</td>\n      <td>...</td>\n      <td>...</td>\n      <td>...</td>\n    </tr>\n    <tr>\n      <th rowspan=\"5\" valign=\"top\">OSUX93151</th>\n      <th>1996-07-22 04:25:14</th>\n      <td>45.246859</td>\n      <td>-118.581183</td>\n      <td>270131114</td>\n      <td>12:25:14</td>\n      <td>19960722</td>\n      <td>19960722</td>\n      <td>04:25:14</td>\n      <td>331</td>\n      <td>C</td>\n      <td>375921</td>\n      <td>5011591</td>\n      <td>96</td>\n      <td>12:28:00</td>\n      <td>03:36:00</td>\n      <td>1.50</td>\n      <td>1</td>\n    </tr>\n    <tr>\n      <th>1996-07-22 05:47:42</th>\n      <td>45.246595</td>\n      <td>-118.580793</td>\n      <td>270136062</td>\n      <td>13:47:42</td>\n      <td>19960722</td>\n      <td>19960722</td>\n      <td>05:47:42</td>\n      <td>331</td>\n      <td>C</td>\n      <td>375932</td>\n      <td>5011550</td>\n      <td>96</td>\n      <td>12:28:00</td>\n      <td>03:36:00</td>\n      <td>1.50</td>\n      <td>1</td>\n    </tr>\n    <tr>\n      <th>1996-07-22 07:13:23</th>\n      <td>45.246854</td>\n      <td>-118.581565</td>\n      <td>270141203</td>\n      <td>15:13:23</td>\n      <td>19960722</td>\n      <td>19960722</td>\n      <td>07:13:23</td>\n      <td>331</td>\n      <td>C</td>\n      <td>375891</td>\n      <td>5011580</td>\n      <td>96</td>\n      <td>12:28:00</td>\n      <td>03:36:00</td>\n      <td>1.45</td>\n      <td>1</td>\n    </tr>\n    <tr>\n      <th>1996-07-22 08:40:45</th>\n      <td>45.247135</td>\n      <td>-118.580808</td>\n      <td>270146445</td>\n      <td>16:40:45</td>\n      <td>19960722</td>\n      <td>19960722</td>\n      <td>08:40:45</td>\n      <td>331</td>\n      <td>C</td>\n      <td>375946</td>\n      <td>5011608</td>\n      <td>96</td>\n      <td>12:28:00</td>\n      <td>03:36:00</td>\n      <td>1.50</td>\n      <td>1</td>\n    </tr>\n    <tr>\n      <th>1996-07-22 10:09:04</th>\n      <td>45.245526</td>\n      <td>-118.579999</td>\n      <td>270151744</td>\n      <td>18:09:04</td>\n      <td>19960722</td>\n      <td>19960722</td>\n      <td>10:09:04</td>\n      <td>331</td>\n      <td>C</td>\n      <td>376018</td>\n      <td>5011432</td>\n      <td>96</td>\n      <td>12:28:00</td>\n      <td>03:36:00</td>\n      <td>1.46</td>\n      <td>1</td>\n    </tr>\n  </tbody>\n</table>\n<p>111364 rows × 16 columns</p>\n</div>"
     },
     "execution_count": 5,
     "metadata": {},
     "output_type": "execute_result"
    }
   ],
   "source": [],
   "metadata": {
    "collapsed": false,
    "pycharm": {
     "name": "#%%\n"
    }
   }
  }
 ],
 "metadata": {
  "kernelspec": {
   "display_name": "Python 3",
   "language": "python",
   "name": "python3"
  },
  "language_info": {
   "codemirror_mode": {
    "name": "ipython",
    "version": 2
   },
   "file_extension": ".py",
   "mimetype": "text/x-python",
   "name": "python",
   "nbconvert_exporter": "python",
   "pygments_lexer": "ipython2",
   "version": "2.7.6"
  }
 },
 "nbformat": 4,
 "nbformat_minor": 0
}