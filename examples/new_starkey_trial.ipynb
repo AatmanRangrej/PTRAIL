{
 "cells": [
  {
   "cell_type": "code",
   "execution_count": 1,
   "metadata": {
    "collapsed": true,
    "pycharm": {
     "name": "#%%\n"
    }
   },
   "outputs": [
    {
     "name": "stdout",
     "output_type": "stream",
     "text": [
      "------------------------ Dataset Facts ------------------------------\n",
      "\n",
      "Number of unique Trajectories in the data: 253\n",
      "Number of points in the data: 287136\n",
      "Dataset time range: 1196 days 22:51:45\n",
      "Datatype of the DataFrame: <class 'Nummobility.core.TrajectoryDF.NumPandasTraj'>\n",
      "Dataset Bounding Box: (45.18896978643169, -118.61020848239596, 45.314545642992, -118.50455596234036)\n",
      "\n",
      "---------------------------------------------------------------------\n"
     ]
    },
    {
     "data": {
      "text/plain": "                                     lat         lon  StarkeyTime    GMDate  \\\ntraj_id   DateTime                                                            \n880109D01 1995-04-13 13:40:06  45.239682 -118.533204    229902006  21:40:06   \n          1995-04-15 12:16:15  45.250521 -118.530438    230069775  20:16:15   \n          1995-04-15 21:39:38  45.247943 -118.541455    230103578  05:39:38   \n          1995-04-16 03:32:14  45.247429 -118.539530    230124734  11:32:14   \n          1995-04-16 04:08:28  45.247117 -118.542579    230126908  12:08:28   \n\n                                 GMTime   LocDate   LocTime  RadNum Species  \\\ntraj_id   DateTime                                                            \n880109D01 1995-04-13 13:40:06  19950413  19950413  13:40:06     409       D   \n          1995-04-15 12:16:15  19950415  19950415  12:16:15     409       D   \n          1995-04-15 21:39:38  19950416  19950415  21:39:38     409       D   \n          1995-04-16 03:32:14  19950416  19950416  03:32:14     409       D   \n          1995-04-16 04:08:28  19950416  19950416  04:08:28     409       D   \n\n                                 UTME     UTMN  Year  Grensunr  Grensuns  \\\ntraj_id   DateTime                                                         \n880109D01 1995-04-13 13:40:06  379662  5010734    95  13:13:00  02:39:00   \n          1995-04-15 12:16:15  379895  5011927    95  13:09:00  02:41:00   \n          1995-04-15 21:39:38  379039  5011656    95  13:07:00  02:43:00   \n          1995-04-16 03:32:14  379188  5011581    95  13:07:00  02:43:00   \n          1995-04-16 04:08:28  378938  5011567    95  13:07:00  02:43:00   \n\n                               Obswt  \ntraj_id   DateTime                    \n880109D01 1995-04-13 13:40:06   1.47  \n          1995-04-15 12:16:15   1.59  \n          1995-04-15 21:39:38   1.34  \n          1995-04-16 03:32:14   1.50  \n          1995-04-16 04:08:28   1.34  ",
      "text/html": "<div>\n<style scoped>\n    .dataframe tbody tr th:only-of-type {\n        vertical-align: middle;\n    }\n\n    .dataframe tbody tr th {\n        vertical-align: top;\n    }\n\n    .dataframe thead th {\n        text-align: right;\n    }\n</style>\n<table border=\"1\" class=\"dataframe\">\n  <thead>\n    <tr style=\"text-align: right;\">\n      <th></th>\n      <th></th>\n      <th>lat</th>\n      <th>lon</th>\n      <th>StarkeyTime</th>\n      <th>GMDate</th>\n      <th>GMTime</th>\n      <th>LocDate</th>\n      <th>LocTime</th>\n      <th>RadNum</th>\n      <th>Species</th>\n      <th>UTME</th>\n      <th>UTMN</th>\n      <th>Year</th>\n      <th>Grensunr</th>\n      <th>Grensuns</th>\n      <th>Obswt</th>\n    </tr>\n    <tr>\n      <th>traj_id</th>\n      <th>DateTime</th>\n      <th></th>\n      <th></th>\n      <th></th>\n      <th></th>\n      <th></th>\n      <th></th>\n      <th></th>\n      <th></th>\n      <th></th>\n      <th></th>\n      <th></th>\n      <th></th>\n      <th></th>\n      <th></th>\n      <th></th>\n    </tr>\n  </thead>\n  <tbody>\n    <tr>\n      <th rowspan=\"5\" valign=\"top\">880109D01</th>\n      <th>1995-04-13 13:40:06</th>\n      <td>45.239682</td>\n      <td>-118.533204</td>\n      <td>229902006</td>\n      <td>21:40:06</td>\n      <td>19950413</td>\n      <td>19950413</td>\n      <td>13:40:06</td>\n      <td>409</td>\n      <td>D</td>\n      <td>379662</td>\n      <td>5010734</td>\n      <td>95</td>\n      <td>13:13:00</td>\n      <td>02:39:00</td>\n      <td>1.47</td>\n    </tr>\n    <tr>\n      <th>1995-04-15 12:16:15</th>\n      <td>45.250521</td>\n      <td>-118.530438</td>\n      <td>230069775</td>\n      <td>20:16:15</td>\n      <td>19950415</td>\n      <td>19950415</td>\n      <td>12:16:15</td>\n      <td>409</td>\n      <td>D</td>\n      <td>379895</td>\n      <td>5011927</td>\n      <td>95</td>\n      <td>13:09:00</td>\n      <td>02:41:00</td>\n      <td>1.59</td>\n    </tr>\n    <tr>\n      <th>1995-04-15 21:39:38</th>\n      <td>45.247943</td>\n      <td>-118.541455</td>\n      <td>230103578</td>\n      <td>05:39:38</td>\n      <td>19950416</td>\n      <td>19950415</td>\n      <td>21:39:38</td>\n      <td>409</td>\n      <td>D</td>\n      <td>379039</td>\n      <td>5011656</td>\n      <td>95</td>\n      <td>13:07:00</td>\n      <td>02:43:00</td>\n      <td>1.34</td>\n    </tr>\n    <tr>\n      <th>1995-04-16 03:32:14</th>\n      <td>45.247429</td>\n      <td>-118.539530</td>\n      <td>230124734</td>\n      <td>11:32:14</td>\n      <td>19950416</td>\n      <td>19950416</td>\n      <td>03:32:14</td>\n      <td>409</td>\n      <td>D</td>\n      <td>379188</td>\n      <td>5011581</td>\n      <td>95</td>\n      <td>13:07:00</td>\n      <td>02:43:00</td>\n      <td>1.50</td>\n    </tr>\n    <tr>\n      <th>1995-04-16 04:08:28</th>\n      <td>45.247117</td>\n      <td>-118.542579</td>\n      <td>230126908</td>\n      <td>12:08:28</td>\n      <td>19950416</td>\n      <td>19950416</td>\n      <td>04:08:28</td>\n      <td>409</td>\n      <td>D</td>\n      <td>378938</td>\n      <td>5011567</td>\n      <td>95</td>\n      <td>13:07:00</td>\n      <td>02:43:00</td>\n      <td>1.34</td>\n    </tr>\n  </tbody>\n</table>\n</div>"
     },
     "execution_count": 1,
     "metadata": {},
     "output_type": "execute_result"
    }
   ],
   "source": [
    "# Note that for our dataset, ungulate animals = mule deer, elk.\n",
    "# One of the main reason for this research was to help farmers,\n",
    "# ranchers etc to determine if fencing their farms would help\n",
    "# them prevent losses which occur due to heavy grazing by the\n",
    "# ungulates. Therefore, some ungulate proof pastures were\n",
    "# created for the research within the starkey area and one\n",
    "# such example of that data is the DistEWater which is the\n",
    "# distance to the nearest water source within the ungulate\n",
    "# proof area.\n",
    "\n",
    "# First, lets import the starkey dataset and the habitat data\n",
    "# and then check both out. Now it is to be noted that since\n",
    "# the habitat dataset is not an actual trajectory dataset, we\n",
    "# will just import the habitat dataset as a pandas dataframe.\n",
    "\n",
    "from Nummobility.core.TrajectoryDF import NumPandasTraj\n",
    "from Nummobility.features.spatial_features import SpatialFeatures\n",
    "import pandas as pd\n",
    "import numpy as np\n",
    "from Nummobility.semantics.semantic_features import SemanticFeatures\n",
    "\n",
    "pdf = pd.read_csv('./data/starkey.csv')\n",
    "starkey_traj = NumPandasTraj(data_set=pdf,\n",
    "                             latitude='lat',\n",
    "                             longitude='lon',\n",
    "                             datetime='DateTime',\n",
    "                             traj_id='Id')\n",
    "print(starkey_traj)\n",
    "starkey_traj.head()"
   ]
  },
  {
   "cell_type": "code",
   "execution_count": 2,
   "outputs": [
    {
     "name": "stdout",
     "output_type": "stream",
     "text": [
      "The shape of the starkey habitat dataset: (85969, 19)\n"
     ]
    },
    {
     "data": {
      "text/plain": "         lat         lon  SoilDpth  PerSlope  SINAspct  COSAspct  Convex3  \\\n0  45.272378 -118.610193        14         5     -0.81      0.59   500.63   \n1  45.272648 -118.610201        14         5     -0.71      0.71   500.21   \n2  45.272918 -118.610208        14         4     -0.89      0.45   499.93   \n3  45.270224 -118.609750        14         8     -0.98      0.21   500.68   \n4  45.270494 -118.609757        14         7     -0.97      0.22   501.22   \n\n   DistCWat  Canopy  Elev  DistEWat EcoGener  DistOPEN  DistRSTR  DistCLSD  \\\n0       218       3  1389       212       GB       127      2271        30   \n1       228       3  1388       218       GB       150      2293        30   \n2       242       3  1387       228       GB       170      2315        30   \n3       201       5  1393       201       GB        30      2081       134   \n4       190       5  1393       190       GB        30      2101       108   \n\n   DistEFnc      CowPast  ForgProd  DistEdge  \n0         0  SMITH-BALLY       363         0  \n1         0  SMITH-BALLY       363         0  \n2         0  SMITH-BALLY       363         0  \n3         0  SMITH-BALLY       363         0  \n4         0  SMITH-BALLY       363         0  ",
      "text/html": "<div>\n<style scoped>\n    .dataframe tbody tr th:only-of-type {\n        vertical-align: middle;\n    }\n\n    .dataframe tbody tr th {\n        vertical-align: top;\n    }\n\n    .dataframe thead th {\n        text-align: right;\n    }\n</style>\n<table border=\"1\" class=\"dataframe\">\n  <thead>\n    <tr style=\"text-align: right;\">\n      <th></th>\n      <th>lat</th>\n      <th>lon</th>\n      <th>SoilDpth</th>\n      <th>PerSlope</th>\n      <th>SINAspct</th>\n      <th>COSAspct</th>\n      <th>Convex3</th>\n      <th>DistCWat</th>\n      <th>Canopy</th>\n      <th>Elev</th>\n      <th>DistEWat</th>\n      <th>EcoGener</th>\n      <th>DistOPEN</th>\n      <th>DistRSTR</th>\n      <th>DistCLSD</th>\n      <th>DistEFnc</th>\n      <th>CowPast</th>\n      <th>ForgProd</th>\n      <th>DistEdge</th>\n    </tr>\n  </thead>\n  <tbody>\n    <tr>\n      <th>0</th>\n      <td>45.272378</td>\n      <td>-118.610193</td>\n      <td>14</td>\n      <td>5</td>\n      <td>-0.81</td>\n      <td>0.59</td>\n      <td>500.63</td>\n      <td>218</td>\n      <td>3</td>\n      <td>1389</td>\n      <td>212</td>\n      <td>GB</td>\n      <td>127</td>\n      <td>2271</td>\n      <td>30</td>\n      <td>0</td>\n      <td>SMITH-BALLY</td>\n      <td>363</td>\n      <td>0</td>\n    </tr>\n    <tr>\n      <th>1</th>\n      <td>45.272648</td>\n      <td>-118.610201</td>\n      <td>14</td>\n      <td>5</td>\n      <td>-0.71</td>\n      <td>0.71</td>\n      <td>500.21</td>\n      <td>228</td>\n      <td>3</td>\n      <td>1388</td>\n      <td>218</td>\n      <td>GB</td>\n      <td>150</td>\n      <td>2293</td>\n      <td>30</td>\n      <td>0</td>\n      <td>SMITH-BALLY</td>\n      <td>363</td>\n      <td>0</td>\n    </tr>\n    <tr>\n      <th>2</th>\n      <td>45.272918</td>\n      <td>-118.610208</td>\n      <td>14</td>\n      <td>4</td>\n      <td>-0.89</td>\n      <td>0.45</td>\n      <td>499.93</td>\n      <td>242</td>\n      <td>3</td>\n      <td>1387</td>\n      <td>228</td>\n      <td>GB</td>\n      <td>170</td>\n      <td>2315</td>\n      <td>30</td>\n      <td>0</td>\n      <td>SMITH-BALLY</td>\n      <td>363</td>\n      <td>0</td>\n    </tr>\n    <tr>\n      <th>3</th>\n      <td>45.270224</td>\n      <td>-118.609750</td>\n      <td>14</td>\n      <td>8</td>\n      <td>-0.98</td>\n      <td>0.21</td>\n      <td>500.68</td>\n      <td>201</td>\n      <td>5</td>\n      <td>1393</td>\n      <td>201</td>\n      <td>GB</td>\n      <td>30</td>\n      <td>2081</td>\n      <td>134</td>\n      <td>0</td>\n      <td>SMITH-BALLY</td>\n      <td>363</td>\n      <td>0</td>\n    </tr>\n    <tr>\n      <th>4</th>\n      <td>45.270494</td>\n      <td>-118.609757</td>\n      <td>14</td>\n      <td>7</td>\n      <td>-0.97</td>\n      <td>0.22</td>\n      <td>501.22</td>\n      <td>190</td>\n      <td>5</td>\n      <td>1393</td>\n      <td>190</td>\n      <td>GB</td>\n      <td>30</td>\n      <td>2101</td>\n      <td>108</td>\n      <td>0</td>\n      <td>SMITH-BALLY</td>\n      <td>363</td>\n      <td>0</td>\n    </tr>\n  </tbody>\n</table>\n</div>"
     },
     "execution_count": 2,
     "metadata": {},
     "output_type": "execute_result"
    }
   ],
   "source": [
    "# Now, importing the habitat data.\n",
    "starkey_habitat = pd.read_csv('./data/starkey_habitat.csv')\n",
    "print(f\"The shape of the starkey habitat dataset: {starkey_habitat.shape}\")\n",
    "starkey_habitat.head()"
   ],
   "metadata": {
    "collapsed": false,
    "pycharm": {
     "name": "#%%\n"
    }
   }
  },
  {
   "cell_type": "code",
   "execution_count": 3,
   "outputs": [
    {
     "data": {
      "text/plain": "       traj_id            DateTime        lat         lon  StarkeyTime  \\\n0    880109D01 1995-04-13 13:40:06  45.239682 -118.533204    229902006   \n1    880109D01 1995-04-15 12:16:15  45.250521 -118.530438    230069775   \n2    880109D01 1995-04-15 21:39:38  45.247943 -118.541455    230103578   \n3    880109D01 1995-04-16 03:32:14  45.247429 -118.539530    230124734   \n4    880109D01 1995-04-16 04:08:28  45.247117 -118.542579    230126908   \n..         ...                 ...        ...         ...          ...   \n209  880109D01 1995-04-26 03:51:21  45.238150 -118.526665    230989881   \n210  880109D01 1995-04-26 04:24:00  45.237905 -118.524748    230991840   \n211  880109D01 1995-04-26 05:39:15  45.233830 -118.526550    230996355   \n212  880109D01 1995-04-26 06:13:12  45.232170 -118.529563    230998392   \n213  880109D01 1995-04-26 07:27:46  45.232735 -118.527667    231002866   \n\n       GMDate    GMTime   LocDate   LocTime  RadNum Species    UTME     UTMN  \\\n0    21:40:06  19950413  19950413  13:40:06     409       D  379662  5010734   \n1    20:16:15  19950415  19950415  12:16:15     409       D  379895  5011927   \n2    05:39:38  19950416  19950415  21:39:38     409       D  379039  5011656   \n3    11:32:14  19950416  19950416  03:32:14     409       D  379188  5011581   \n4    12:08:28  19950416  19950416  04:08:28     409       D  378938  5011567   \n..        ...       ...       ...       ...     ...     ...     ...      ...   \n209  11:51:21  19950426  19950426  03:51:21     409       D  380174  5010548   \n210  12:24:00  19950426  19950426  04:24:00     409       D  380315  5010507   \n211  13:39:15  19950426  19950426  05:39:15     409       D  380186  5010064   \n212  14:13:12  19950426  19950426  06:13:12     409       D  379938  5009870   \n213  15:27:46  19950426  19950426  07:27:46     409       D  380080  5009927   \n\n     Year  Grensunr  Grensuns  Obswt  \n0      95  13:13:00  02:39:00   1.47  \n1      95  13:09:00  02:41:00   1.59  \n2      95  13:07:00  02:43:00   1.34  \n3      95  13:07:00  02:43:00   1.50  \n4      95  13:07:00  02:43:00   1.34  \n..    ...       ...       ...    ...  \n209    95  12:50:00  02:56:00   1.54  \n210    95  12:50:00  02:56:00   1.42  \n211    95  12:50:00  02:56:00   1.80  \n212    95  12:50:00  02:56:00   1.59  \n213    95  12:50:00  02:56:00   1.69  \n\n[214 rows x 17 columns]",
      "text/html": "<div>\n<style scoped>\n    .dataframe tbody tr th:only-of-type {\n        vertical-align: middle;\n    }\n\n    .dataframe tbody tr th {\n        vertical-align: top;\n    }\n\n    .dataframe thead th {\n        text-align: right;\n    }\n</style>\n<table border=\"1\" class=\"dataframe\">\n  <thead>\n    <tr style=\"text-align: right;\">\n      <th></th>\n      <th>traj_id</th>\n      <th>DateTime</th>\n      <th>lat</th>\n      <th>lon</th>\n      <th>StarkeyTime</th>\n      <th>GMDate</th>\n      <th>GMTime</th>\n      <th>LocDate</th>\n      <th>LocTime</th>\n      <th>RadNum</th>\n      <th>Species</th>\n      <th>UTME</th>\n      <th>UTMN</th>\n      <th>Year</th>\n      <th>Grensunr</th>\n      <th>Grensuns</th>\n      <th>Obswt</th>\n    </tr>\n  </thead>\n  <tbody>\n    <tr>\n      <th>0</th>\n      <td>880109D01</td>\n      <td>1995-04-13 13:40:06</td>\n      <td>45.239682</td>\n      <td>-118.533204</td>\n      <td>229902006</td>\n      <td>21:40:06</td>\n      <td>19950413</td>\n      <td>19950413</td>\n      <td>13:40:06</td>\n      <td>409</td>\n      <td>D</td>\n      <td>379662</td>\n      <td>5010734</td>\n      <td>95</td>\n      <td>13:13:00</td>\n      <td>02:39:00</td>\n      <td>1.47</td>\n    </tr>\n    <tr>\n      <th>1</th>\n      <td>880109D01</td>\n      <td>1995-04-15 12:16:15</td>\n      <td>45.250521</td>\n      <td>-118.530438</td>\n      <td>230069775</td>\n      <td>20:16:15</td>\n      <td>19950415</td>\n      <td>19950415</td>\n      <td>12:16:15</td>\n      <td>409</td>\n      <td>D</td>\n      <td>379895</td>\n      <td>5011927</td>\n      <td>95</td>\n      <td>13:09:00</td>\n      <td>02:41:00</td>\n      <td>1.59</td>\n    </tr>\n    <tr>\n      <th>2</th>\n      <td>880109D01</td>\n      <td>1995-04-15 21:39:38</td>\n      <td>45.247943</td>\n      <td>-118.541455</td>\n      <td>230103578</td>\n      <td>05:39:38</td>\n      <td>19950416</td>\n      <td>19950415</td>\n      <td>21:39:38</td>\n      <td>409</td>\n      <td>D</td>\n      <td>379039</td>\n      <td>5011656</td>\n      <td>95</td>\n      <td>13:07:00</td>\n      <td>02:43:00</td>\n      <td>1.34</td>\n    </tr>\n    <tr>\n      <th>3</th>\n      <td>880109D01</td>\n      <td>1995-04-16 03:32:14</td>\n      <td>45.247429</td>\n      <td>-118.539530</td>\n      <td>230124734</td>\n      <td>11:32:14</td>\n      <td>19950416</td>\n      <td>19950416</td>\n      <td>03:32:14</td>\n      <td>409</td>\n      <td>D</td>\n      <td>379188</td>\n      <td>5011581</td>\n      <td>95</td>\n      <td>13:07:00</td>\n      <td>02:43:00</td>\n      <td>1.50</td>\n    </tr>\n    <tr>\n      <th>4</th>\n      <td>880109D01</td>\n      <td>1995-04-16 04:08:28</td>\n      <td>45.247117</td>\n      <td>-118.542579</td>\n      <td>230126908</td>\n      <td>12:08:28</td>\n      <td>19950416</td>\n      <td>19950416</td>\n      <td>04:08:28</td>\n      <td>409</td>\n      <td>D</td>\n      <td>378938</td>\n      <td>5011567</td>\n      <td>95</td>\n      <td>13:07:00</td>\n      <td>02:43:00</td>\n      <td>1.34</td>\n    </tr>\n    <tr>\n      <th>...</th>\n      <td>...</td>\n      <td>...</td>\n      <td>...</td>\n      <td>...</td>\n      <td>...</td>\n      <td>...</td>\n      <td>...</td>\n      <td>...</td>\n      <td>...</td>\n      <td>...</td>\n      <td>...</td>\n      <td>...</td>\n      <td>...</td>\n      <td>...</td>\n      <td>...</td>\n      <td>...</td>\n      <td>...</td>\n    </tr>\n    <tr>\n      <th>209</th>\n      <td>880109D01</td>\n      <td>1995-04-26 03:51:21</td>\n      <td>45.238150</td>\n      <td>-118.526665</td>\n      <td>230989881</td>\n      <td>11:51:21</td>\n      <td>19950426</td>\n      <td>19950426</td>\n      <td>03:51:21</td>\n      <td>409</td>\n      <td>D</td>\n      <td>380174</td>\n      <td>5010548</td>\n      <td>95</td>\n      <td>12:50:00</td>\n      <td>02:56:00</td>\n      <td>1.54</td>\n    </tr>\n    <tr>\n      <th>210</th>\n      <td>880109D01</td>\n      <td>1995-04-26 04:24:00</td>\n      <td>45.237905</td>\n      <td>-118.524748</td>\n      <td>230991840</td>\n      <td>12:24:00</td>\n      <td>19950426</td>\n      <td>19950426</td>\n      <td>04:24:00</td>\n      <td>409</td>\n      <td>D</td>\n      <td>380315</td>\n      <td>5010507</td>\n      <td>95</td>\n      <td>12:50:00</td>\n      <td>02:56:00</td>\n      <td>1.42</td>\n    </tr>\n    <tr>\n      <th>211</th>\n      <td>880109D01</td>\n      <td>1995-04-26 05:39:15</td>\n      <td>45.233830</td>\n      <td>-118.526550</td>\n      <td>230996355</td>\n      <td>13:39:15</td>\n      <td>19950426</td>\n      <td>19950426</td>\n      <td>05:39:15</td>\n      <td>409</td>\n      <td>D</td>\n      <td>380186</td>\n      <td>5010064</td>\n      <td>95</td>\n      <td>12:50:00</td>\n      <td>02:56:00</td>\n      <td>1.80</td>\n    </tr>\n    <tr>\n      <th>212</th>\n      <td>880109D01</td>\n      <td>1995-04-26 06:13:12</td>\n      <td>45.232170</td>\n      <td>-118.529563</td>\n      <td>230998392</td>\n      <td>14:13:12</td>\n      <td>19950426</td>\n      <td>19950426</td>\n      <td>06:13:12</td>\n      <td>409</td>\n      <td>D</td>\n      <td>379938</td>\n      <td>5009870</td>\n      <td>95</td>\n      <td>12:50:00</td>\n      <td>02:56:00</td>\n      <td>1.59</td>\n    </tr>\n    <tr>\n      <th>213</th>\n      <td>880109D01</td>\n      <td>1995-04-26 07:27:46</td>\n      <td>45.232735</td>\n      <td>-118.527667</td>\n      <td>231002866</td>\n      <td>15:27:46</td>\n      <td>19950426</td>\n      <td>19950426</td>\n      <td>07:27:46</td>\n      <td>409</td>\n      <td>D</td>\n      <td>380080</td>\n      <td>5009927</td>\n      <td>95</td>\n      <td>12:50:00</td>\n      <td>02:56:00</td>\n      <td>1.69</td>\n    </tr>\n  </tbody>\n</table>\n<p>214 rows × 17 columns</p>\n</div>"
     },
     "execution_count": 3,
     "metadata": {},
     "output_type": "execute_result"
    }
   ],
   "source": [
    "\n",
    "small = starkey_traj.reset_index().loc[starkey_traj.reset_index()['traj_id'] == '880109D01']\n",
    "small"
   ],
   "metadata": {
    "collapsed": false,
    "pycharm": {
     "name": "#%%\n"
    }
   }
  },
  {
   "cell_type": "code",
   "execution_count": 4,
   "outputs": [
    {
     "data": {
      "text/plain": "             lat         lon  SoilDpth  PerSlope  SINAspct  COSAspct  Convex3  \\\n0      45.272378 -118.610193        14         5     -0.81      0.59   500.63   \n1      45.272648 -118.610201        14         5     -0.71      0.71   500.21   \n2      45.272918 -118.610208        14         4     -0.89      0.45   499.93   \n3      45.270224 -118.609750        14         8     -0.98      0.21   500.68   \n4      45.270494 -118.609757        14         7     -0.97      0.22   501.22   \n...          ...         ...       ...       ...       ...       ...      ...   \n75625  45.280761 -118.530868         9         4     -0.71     -0.71   501.81   \n75626  45.281031 -118.530875         9         2     -0.45     -0.89   501.90   \n75929  45.280496 -118.530479         9         4     -0.63     -0.78   502.68   \n75930  45.280766 -118.530486         9         2     -0.31     -0.95   502.65   \n76233  45.280501 -118.530096        24         2      0.24     -0.97   502.73   \n\n       DistCWat  Canopy  Elev  DistEWat EcoGener  DistOPEN  DistRSTR  \\\n0           218       3  1389       212       GB       127      2271   \n1           228       3  1388       218       GB       150      2293   \n2           242       3  1387       228       GB       170      2315   \n3           201       5  1393       201       GB        30      2081   \n4           190       5  1393       190       GB        30      2101   \n...         ...     ...   ...       ...      ...       ...       ...   \n75625       330      15  1266       301       CP       300       134   \n75626       330      15  1267       306       CP       301       108   \n75929       361      15  1266       330       CP       424       150   \n75930       360      15  1267       331       CP       330       127   \n76233       391      15  1266       467       CP       446       127   \n\n       DistCLSD  DistEFnc      CowPast  ForgProd  DistEdge  \n0            30         0  SMITH-BALLY       363         0  \n1            30         0  SMITH-BALLY       363         0  \n2            30         0  SMITH-BALLY       363         0  \n3           134         0  SMITH-BALLY       363         0  \n4           108         0  SMITH-BALLY       363         0  \n...         ...       ...          ...       ...       ...  \n75625        60        60  SMITH-BALLY       429        60  \n75626        60        30  SMITH-BALLY       429        67  \n75929        42        30  SMITH-BALLY       429        60  \n75930        30        30  SMITH-BALLY       429        60  \n76233        30         0  SMITH-BALLY       429        42  \n\n[26363 rows x 19 columns]",
      "text/html": "<div>\n<style scoped>\n    .dataframe tbody tr th:only-of-type {\n        vertical-align: middle;\n    }\n\n    .dataframe tbody tr th {\n        vertical-align: top;\n    }\n\n    .dataframe thead th {\n        text-align: right;\n    }\n</style>\n<table border=\"1\" class=\"dataframe\">\n  <thead>\n    <tr style=\"text-align: right;\">\n      <th></th>\n      <th>lat</th>\n      <th>lon</th>\n      <th>SoilDpth</th>\n      <th>PerSlope</th>\n      <th>SINAspct</th>\n      <th>COSAspct</th>\n      <th>Convex3</th>\n      <th>DistCWat</th>\n      <th>Canopy</th>\n      <th>Elev</th>\n      <th>DistEWat</th>\n      <th>EcoGener</th>\n      <th>DistOPEN</th>\n      <th>DistRSTR</th>\n      <th>DistCLSD</th>\n      <th>DistEFnc</th>\n      <th>CowPast</th>\n      <th>ForgProd</th>\n      <th>DistEdge</th>\n    </tr>\n  </thead>\n  <tbody>\n    <tr>\n      <th>0</th>\n      <td>45.272378</td>\n      <td>-118.610193</td>\n      <td>14</td>\n      <td>5</td>\n      <td>-0.81</td>\n      <td>0.59</td>\n      <td>500.63</td>\n      <td>218</td>\n      <td>3</td>\n      <td>1389</td>\n      <td>212</td>\n      <td>GB</td>\n      <td>127</td>\n      <td>2271</td>\n      <td>30</td>\n      <td>0</td>\n      <td>SMITH-BALLY</td>\n      <td>363</td>\n      <td>0</td>\n    </tr>\n    <tr>\n      <th>1</th>\n      <td>45.272648</td>\n      <td>-118.610201</td>\n      <td>14</td>\n      <td>5</td>\n      <td>-0.71</td>\n      <td>0.71</td>\n      <td>500.21</td>\n      <td>228</td>\n      <td>3</td>\n      <td>1388</td>\n      <td>218</td>\n      <td>GB</td>\n      <td>150</td>\n      <td>2293</td>\n      <td>30</td>\n      <td>0</td>\n      <td>SMITH-BALLY</td>\n      <td>363</td>\n      <td>0</td>\n    </tr>\n    <tr>\n      <th>2</th>\n      <td>45.272918</td>\n      <td>-118.610208</td>\n      <td>14</td>\n      <td>4</td>\n      <td>-0.89</td>\n      <td>0.45</td>\n      <td>499.93</td>\n      <td>242</td>\n      <td>3</td>\n      <td>1387</td>\n      <td>228</td>\n      <td>GB</td>\n      <td>170</td>\n      <td>2315</td>\n      <td>30</td>\n      <td>0</td>\n      <td>SMITH-BALLY</td>\n      <td>363</td>\n      <td>0</td>\n    </tr>\n    <tr>\n      <th>3</th>\n      <td>45.270224</td>\n      <td>-118.609750</td>\n      <td>14</td>\n      <td>8</td>\n      <td>-0.98</td>\n      <td>0.21</td>\n      <td>500.68</td>\n      <td>201</td>\n      <td>5</td>\n      <td>1393</td>\n      <td>201</td>\n      <td>GB</td>\n      <td>30</td>\n      <td>2081</td>\n      <td>134</td>\n      <td>0</td>\n      <td>SMITH-BALLY</td>\n      <td>363</td>\n      <td>0</td>\n    </tr>\n    <tr>\n      <th>4</th>\n      <td>45.270494</td>\n      <td>-118.609757</td>\n      <td>14</td>\n      <td>7</td>\n      <td>-0.97</td>\n      <td>0.22</td>\n      <td>501.22</td>\n      <td>190</td>\n      <td>5</td>\n      <td>1393</td>\n      <td>190</td>\n      <td>GB</td>\n      <td>30</td>\n      <td>2101</td>\n      <td>108</td>\n      <td>0</td>\n      <td>SMITH-BALLY</td>\n      <td>363</td>\n      <td>0</td>\n    </tr>\n    <tr>\n      <th>...</th>\n      <td>...</td>\n      <td>...</td>\n      <td>...</td>\n      <td>...</td>\n      <td>...</td>\n      <td>...</td>\n      <td>...</td>\n      <td>...</td>\n      <td>...</td>\n      <td>...</td>\n      <td>...</td>\n      <td>...</td>\n      <td>...</td>\n      <td>...</td>\n      <td>...</td>\n      <td>...</td>\n      <td>...</td>\n      <td>...</td>\n      <td>...</td>\n    </tr>\n    <tr>\n      <th>75625</th>\n      <td>45.280761</td>\n      <td>-118.530868</td>\n      <td>9</td>\n      <td>4</td>\n      <td>-0.71</td>\n      <td>-0.71</td>\n      <td>501.81</td>\n      <td>330</td>\n      <td>15</td>\n      <td>1266</td>\n      <td>301</td>\n      <td>CP</td>\n      <td>300</td>\n      <td>134</td>\n      <td>60</td>\n      <td>60</td>\n      <td>SMITH-BALLY</td>\n      <td>429</td>\n      <td>60</td>\n    </tr>\n    <tr>\n      <th>75626</th>\n      <td>45.281031</td>\n      <td>-118.530875</td>\n      <td>9</td>\n      <td>2</td>\n      <td>-0.45</td>\n      <td>-0.89</td>\n      <td>501.90</td>\n      <td>330</td>\n      <td>15</td>\n      <td>1267</td>\n      <td>306</td>\n      <td>CP</td>\n      <td>301</td>\n      <td>108</td>\n      <td>60</td>\n      <td>30</td>\n      <td>SMITH-BALLY</td>\n      <td>429</td>\n      <td>67</td>\n    </tr>\n    <tr>\n      <th>75929</th>\n      <td>45.280496</td>\n      <td>-118.530479</td>\n      <td>9</td>\n      <td>4</td>\n      <td>-0.63</td>\n      <td>-0.78</td>\n      <td>502.68</td>\n      <td>361</td>\n      <td>15</td>\n      <td>1266</td>\n      <td>330</td>\n      <td>CP</td>\n      <td>424</td>\n      <td>150</td>\n      <td>42</td>\n      <td>30</td>\n      <td>SMITH-BALLY</td>\n      <td>429</td>\n      <td>60</td>\n    </tr>\n    <tr>\n      <th>75930</th>\n      <td>45.280766</td>\n      <td>-118.530486</td>\n      <td>9</td>\n      <td>2</td>\n      <td>-0.31</td>\n      <td>-0.95</td>\n      <td>502.65</td>\n      <td>360</td>\n      <td>15</td>\n      <td>1267</td>\n      <td>331</td>\n      <td>CP</td>\n      <td>330</td>\n      <td>127</td>\n      <td>30</td>\n      <td>30</td>\n      <td>SMITH-BALLY</td>\n      <td>429</td>\n      <td>60</td>\n    </tr>\n    <tr>\n      <th>76233</th>\n      <td>45.280501</td>\n      <td>-118.530096</td>\n      <td>24</td>\n      <td>2</td>\n      <td>0.24</td>\n      <td>-0.97</td>\n      <td>502.73</td>\n      <td>391</td>\n      <td>15</td>\n      <td>1266</td>\n      <td>467</td>\n      <td>CP</td>\n      <td>446</td>\n      <td>127</td>\n      <td>30</td>\n      <td>0</td>\n      <td>SMITH-BALLY</td>\n      <td>429</td>\n      <td>42</td>\n    </tr>\n  </tbody>\n</table>\n<p>26363 rows × 19 columns</p>\n</div>"
     },
     "execution_count": 4,
     "metadata": {},
     "output_type": "execute_result"
    }
   ],
   "source": [
    "pasture = starkey_habitat.loc[starkey_habitat['CowPast'] == 'SMITH-BALLY']\n",
    "pasture"
   ],
   "metadata": {
    "collapsed": false,
    "pycharm": {
     "name": "#%%\n"
    }
   }
  },
  {
   "cell_type": "code",
   "execution_count": 9,
   "outputs": [
    {
     "data": {
      "text/plain": "array([[    0,    47],\n       [    0,    48],\n       [    0,   100],\n       ...,\n       [   83, 26251],\n       [   83, 26257],\n       [   83, 26258]])"
     },
     "execution_count": 9,
     "metadata": {},
     "output_type": "execute_result"
    }
   ],
   "source": [
    "sem = SemanticFeatures.visited_pasture(small, pasture)\n",
    "sem\n",
    "# np.unique(sem, return_counts=True)"
   ],
   "metadata": {
    "collapsed": false,
    "pycharm": {
     "name": "#%%     \n"
    }
   }
  },
  {
   "cell_type": "code",
   "execution_count": 5,
   "outputs": [],
   "source": [],
   "metadata": {
    "collapsed": false,
    "pycharm": {
     "name": "#%%\n"
    }
   }
  }
 ],
 "metadata": {
  "kernelspec": {
   "display_name": "Python 3",
   "language": "python",
   "name": "python3"
  },
  "language_info": {
   "codemirror_mode": {
    "name": "ipython",
    "version": 2
   },
   "file_extension": ".py",
   "mimetype": "text/x-python",
   "name": "python",
   "nbconvert_exporter": "python",
   "pygments_lexer": "ipython2",
   "version": "2.7.6"
  }
 },
 "nbformat": 4,
 "nbformat_minor": 0
}